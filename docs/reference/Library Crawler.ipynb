{
 "cells": [
  {
   "cell_type": "markdown",
   "id": "43bcbaa3-e7d9-46e6-a0ef-eb8a4995b872",
   "metadata": {},
   "source": [
    "# Library Crawler\n",
    "\n",
    "This is a notebook meant to walk through the M1 Library models and describe how they relate to the M2 metamodel."
   ]
  },
  {
   "cell_type": "code",
   "execution_count": null,
   "id": "18ea0ec5-f58c-45c0-8d9f-b414d2177387",
   "metadata": {},
   "outputs": [],
   "source": [
    "import os\n",
    "from pathlib import Path\n",
    "\n",
    "import networkx as nx\n",
    "\n",
    "import pymbe.api as pm\n",
    "from pymbe.client import SysML2Client\n",
    "from pymbe.label import *\n",
    "from pymbe.graph.lpg import SysML2LabeledPropertyGraph\n",
    "from pymbe.interpretation.calc_dependencies import generate_execution_order, generate_parameter_signature_map\n",
    "from pymbe.interpretation.interp_playbooks import *\n",
    "from pymbe.interpretation.interpretation import repack_instance_dictionaries\n",
    "from pymbe.interpretation.results import *\n",
    "\n",
    "from pymbe.local.stablization import build_stable_id_lookups"
   ]
  },
  {
   "cell_type": "markdown",
   "id": "4dd86e52-c876-4a65-b550-65da92a7c93b",
   "metadata": {},
   "source": [
    "## Library 1 - Performances\n",
    "\n",
    "Use the Performances Shell to get access to the library and show its contents using the M1 in-memory model of pyMBE"
   ]
  },
  {
   "cell_type": "code",
   "execution_count": null,
   "id": "3614030d-d07f-4c0e-a19c-6727aac2326a",
   "metadata": {},
   "outputs": [],
   "source": [
    "helper_client = SysML2Client()\n",
    "\n",
    "elements_data_path = Path(\"../..\") / \"tests\" / \"fixtures\" / \"Performances Shell.json\"\n",
    "assert elements_data_path.exists(), f\"Could not find: '{elements_data_path}'\"\n",
    "\n",
    "helper_client._load_from_file(elements_data_path)"
   ]
  },
  {
   "cell_type": "markdown",
   "id": "6d5fcdbd-1c95-420b-9d90-2289e8071581",
   "metadata": {},
   "source": [
    "Drill in on the Performances library and its elements."
   ]
  },
  {
   "cell_type": "code",
   "execution_count": null,
   "id": "6e458285-5d5d-45d1-8268-fc9cf989580b",
   "metadata": {},
   "outputs": [],
   "source": [
    "helper_client.model.ownedElement[\"Performances\"].ownedElement"
   ]
  },
  {
   "cell_type": "markdown",
   "id": "7b347c30-dacb-44c5-934b-1c13da26f5d0",
   "metadata": {},
   "source": [
    "### Performance members"
   ]
  },
  {
   "cell_type": "code",
   "execution_count": null,
   "id": "386bb874-ae09-47e4-9b9c-024c9389649f",
   "metadata": {},
   "outputs": [],
   "source": [
    "performance_behavior = helper_client.model.ownedElement[\"Performances\"].ownedElement[\"Performance\"]"
   ]
  },
  {
   "cell_type": "code",
   "execution_count": null,
   "id": "cadd0e90-7f66-46e3-920f-7748ea27c0bc",
   "metadata": {},
   "outputs": [],
   "source": [
    "performance_behavior.ownedElement"
   ]
  },
  {
   "cell_type": "code",
   "execution_count": null,
   "id": "f2cd26cd-a070-4439-8c37-c6167c0071d3",
   "metadata": {},
   "outputs": [],
   "source": [
    "performances = helper_client.model.ownedElement[\"Performances\"].ownedElement[\"performances\"]"
   ]
  },
  {
   "cell_type": "code",
   "execution_count": null,
   "id": "2f60cd81-d40b-4541-8009-c0d8b205206f",
   "metadata": {},
   "outputs": [],
   "source": [
    "performances.ownedElement"
   ]
  },
  {
   "cell_type": "code",
   "execution_count": null,
   "id": "edfc431c-4934-4a5c-855a-8afff29f03cb",
   "metadata": {},
   "outputs": [],
   "source": [
    "performances.type"
   ]
  },
  {
   "cell_type": "code",
   "execution_count": null,
   "id": "7cd9d834-2edf-45c1-817e-850eb517480d",
   "metadata": {},
   "outputs": [],
   "source": [
    "performances.throughFeatureTyping"
   ]
  },
  {
   "cell_type": "markdown",
   "id": "1e3a27a1-674f-44ca-9fa2-388db7f924ba",
   "metadata": {},
   "source": [
    "### Evaluation members"
   ]
  },
  {
   "cell_type": "code",
   "execution_count": null,
   "id": "7fe35c2b-5c12-4b52-9251-7bc1cab750b2",
   "metadata": {},
   "outputs": [],
   "source": [
    "evaluation_behavior = helper_client.model.ownedElement[\"Performances\"].ownedElement[\"Evaluation\"]"
   ]
  },
  {
   "cell_type": "code",
   "execution_count": null,
   "id": "3e740115-e737-4ca6-8234-e4603c94d30f",
   "metadata": {},
   "outputs": [],
   "source": [
    "evaluation_behavior.ownedElement"
   ]
  },
  {
   "cell_type": "code",
   "execution_count": null,
   "id": "8af2f805-c50d-430c-8210-a7c0172946b8",
   "metadata": {},
   "outputs": [],
   "source": [
    "boolevaluation_behavior = helper_client.model.ownedElement[\"Performances\"].ownedElement[\"BooleanEvaluation\"]"
   ]
  },
  {
   "cell_type": "code",
   "execution_count": null,
   "id": "71365dc0-a2b3-4a7a-bf52-52c2d049b992",
   "metadata": {},
   "outputs": [],
   "source": [
    "boolevaluation_behavior.ownedElement"
   ]
  },
  {
   "cell_type": "code",
   "execution_count": null,
   "id": "656c4541-6e1f-42f6-9b11-e12d8f23fe7b",
   "metadata": {},
   "outputs": [],
   "source": [
    "literalboolevaluation_behavior = helper_client.model.ownedElement[\"Performances\"].ownedElement[\"LiteralBooleanEvaluation\"]"
   ]
  },
  {
   "cell_type": "code",
   "execution_count": null,
   "id": "d8c4aeec-6bdb-4740-a884-3d135363fbd4",
   "metadata": {},
   "outputs": [],
   "source": [
    "literalboolevaluation_behavior.ownedElement"
   ]
  },
  {
   "cell_type": "code",
   "execution_count": null,
   "id": "0f830533-4c2a-466f-9865-1525d45e3fe1",
   "metadata": {},
   "outputs": [],
   "source": [
    "literalboolevaluation_behavior.ownedElement[0].type"
   ]
  },
  {
   "cell_type": "code",
   "execution_count": null,
   "id": "e9980a11-b9c2-40bf-b657-79b20d83530c",
   "metadata": {},
   "outputs": [],
   "source": [
    "literalboolevaluation_behavior.ownedElement[0].relationships"
   ]
  },
  {
   "cell_type": "code",
   "execution_count": null,
   "id": "38b06df7-ef9a-47e7-a3fe-18eef5795f35",
   "metadata": {},
   "outputs": [],
   "source": []
  }
 ],
 "metadata": {
  "kernelspec": {
   "display_name": "Python 3 (ipykernel)",
   "language": "python",
   "name": "python3"
  },
  "language_info": {
   "codemirror_mode": {
    "name": "ipython",
    "version": 3
   },
   "file_extension": ".py",
   "mimetype": "text/x-python",
   "name": "python",
   "nbconvert_exporter": "python",
   "pygments_lexer": "ipython3",
   "version": "3.9.6"
  }
 },
 "nbformat": 4,
 "nbformat_minor": 5
}
