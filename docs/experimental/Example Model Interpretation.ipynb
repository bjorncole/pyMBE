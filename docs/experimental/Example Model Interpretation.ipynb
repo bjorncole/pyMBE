{
 "cells": [
  {
   "cell_type": "markdown",
   "id": "0",
   "metadata": {},
   "source": [
    "# Part Combination Space Exploration\n",
    "\n",
    "This is a notebook developed to leverage the new SysML v2 semantics for nested features and instantiation of models to generate instances of M1 system models as feedstock for analysis pipelines."
   ]
  },
  {
   "cell_type": "code",
   "execution_count": null,
   "id": "1",
   "metadata": {},
   "outputs": [],
   "source": [
    "import requests\n",
    "import getpass\n",
    "import math\n",
    "\n",
    "from __future__ import print_function\n",
    "\n",
    "import time\n",
    "import sysml_v2_api_client\n",
    "from sysml_v2_api_client.rest import ApiException\n",
    "from pprint import pprint\n",
    "\n",
    "import json\n",
    "import networkx as NX\n",
    "import matplotlib.pyplot as plt\n",
    "\n",
    "import random\n",
    "import copy\n",
    "\n",
    "import pymbe.api as pm\n",
    "from pymbe.model_loading import ModelingSession as Session\n",
    "from pymbe.interpretation.interpretation import RandomGenerationStrategy as RGS"
   ]
  },
  {
   "cell_type": "code",
   "execution_count": null,
   "id": "2",
   "metadata": {},
   "outputs": [],
   "source": [
    "import pymbe.query as pmQuery"
   ]
  },
  {
   "cell_type": "markdown",
   "id": "3",
   "metadata": {},
   "source": [
    "# Configure API Server Connection"
   ]
  },
  {
   "cell_type": "code",
   "execution_count": null,
   "id": "4",
   "metadata": {},
   "outputs": [],
   "source": [
    "sysml_api_base_url = 'http://sysml2-sst.intercax.com:9000'"
   ]
  },
  {
   "cell_type": "markdown",
   "id": "5",
   "metadata": {},
   "source": [
    "## Activate APIs\n",
    "\n",
    "Connect the API classes to the server"
   ]
  },
  {
   "cell_type": "code",
   "execution_count": null,
   "id": "6",
   "metadata": {},
   "outputs": [],
   "source": [
    "configuration = sysml_v2_api_client.Configuration(\n",
    "    host = sysml_api_base_url\n",
    ")\n",
    "\n",
    "projects_api_instance = None\n",
    "\n",
    "with sysml_v2_api_client.ApiClient(configuration) as api_client:\n",
    "    # Create an instance of the API class\n",
    "    project_api_instance = sysml_v2_api_client.ProjectApi(api_client)\n",
    "    \n",
    "commits_api_instance = None\n",
    "\n",
    "with sysml_v2_api_client.ApiClient(configuration) as api_client:\n",
    "    # Create an instance of the API class\n",
    "    commits_api_instance = sysml_v2_api_client.CommitApi(api_client)\n",
    "    \n",
    "elements_api_instance = None\n",
    "\n",
    "with sysml_v2_api_client.ApiClient(configuration) as api_client:\n",
    "    # Create an instance of the API class\n",
    "    elements_api_instance = sysml_v2_api_client.ElementApi(api_client)"
   ]
  },
  {
   "cell_type": "markdown",
   "id": "7",
   "metadata": {},
   "source": [
    "## Pull down commits and elements catalogs\n",
    "\n",
    "With the API handles, use the pre-built methods to get lists of commits and elements."
   ]
  },
  {
   "cell_type": "code",
   "execution_count": null,
   "id": "8",
   "metadata": {},
   "outputs": [],
   "source": [
    "project_api_instance"
   ]
  },
  {
   "cell_type": "code",
   "execution_count": null,
   "id": "9",
   "metadata": {},
   "outputs": [],
   "source": [
    "kerbal_proj = [my_proj for my_proj in project_api_instance.get_projects() if my_proj.name.find('Kerbal') > -1][0]\n",
    "kerbal_proj"
   ]
  },
  {
   "cell_type": "code",
   "execution_count": null,
   "id": "10",
   "metadata": {},
   "outputs": [],
   "source": [
    "try:\n",
    "    # Get commits by project\n",
    "    commits_response = commits_api_instance.get_commits_by_project(kerbal_proj.id)\n",
    "    pprint(commits_response)\n",
    "except ApiException as e:\n",
    "    print(\"Exception when calling CommitApi->get_commits_by_project: %s\\n\" % e)"
   ]
  },
  {
   "cell_type": "code",
   "execution_count": null,
   "id": "11",
   "metadata": {},
   "outputs": [],
   "source": [
    "elements = []\n",
    "\n",
    "try:\n",
    "    # Get commits by project\n",
    "    elements = elements_api_instance.get_elements_by_project_commit(kerbal_proj.id, commits_response[0].id)\n",
    "except ApiException as e:\n",
    "    print(\"Exception when calling ElementApi->get_elements_by_project_commit: %s\\n\" % e)"
   ]
  },
  {
   "cell_type": "code",
   "execution_count": null,
   "id": "12",
   "metadata": {},
   "outputs": [],
   "source": [
    "len(elements)"
   ]
  },
  {
   "cell_type": "code",
   "execution_count": null,
   "id": "13",
   "metadata": {},
   "outputs": [],
   "source": [
    "pprint(elements[0])"
   ]
  },
  {
   "cell_type": "markdown",
   "id": "14",
   "metadata": {},
   "source": [
    "# Gather Element Data\n",
    "\n",
    "Since the generated API doesn't have much detail for elements, need to do this more hands-on.\n",
    "\n",
    "Not elegant below to just have a larger page size, should implement paging later on."
   ]
  },
  {
   "cell_type": "code",
   "execution_count": null,
   "id": "15",
   "metadata": {},
   "outputs": [],
   "source": [
    "elements_url = (sysml_api_base_url +\n",
    "                '/projects/{0}/commits/{1}/elements?page[size]=2000').format(kerbal_proj.id, commits_response[0].id)"
   ]
  },
  {
   "cell_type": "code",
   "execution_count": null,
   "id": "16",
   "metadata": {},
   "outputs": [],
   "source": [
    "elements_url"
   ]
  },
  {
   "cell_type": "code",
   "execution_count": null,
   "id": "17",
   "metadata": {},
   "outputs": [],
   "source": [
    "elements_response = requests.get(\n",
    "    elements_url\n",
    ")"
   ]
  },
  {
   "cell_type": "code",
   "execution_count": null,
   "id": "18",
   "metadata": {},
   "outputs": [],
   "source": [
    "elements_data = elements_response.json()"
   ]
  },
  {
   "cell_type": "markdown",
   "id": "19",
   "metadata": {},
   "source": [
    "Split the elements into relationships and non-relationships. This will let us work with graph representations and a graph understanding of the underlying model."
   ]
  },
  {
   "cell_type": "code",
   "execution_count": null,
   "id": "20",
   "metadata": {},
   "outputs": [],
   "source": [
    "len(elements_data)"
   ]
  },
  {
   "cell_type": "code",
   "execution_count": null,
   "id": "21",
   "metadata": {},
   "outputs": [],
   "source": [
    "non_relations = [non_relation for non_relation in elements_data if not 'relatedElement' in non_relation]"
   ]
  },
  {
   "cell_type": "code",
   "execution_count": null,
   "id": "22",
   "metadata": {},
   "outputs": [],
   "source": [
    "relations = [relation for relation in elements_data if 'relatedElement' in relation]"
   ]
  },
  {
   "cell_type": "code",
   "execution_count": null,
   "id": "23",
   "metadata": {},
   "outputs": [],
   "source": [
    "len(non_relations)"
   ]
  },
  {
   "cell_type": "code",
   "execution_count": null,
   "id": "24",
   "metadata": {},
   "outputs": [],
   "source": [
    "len(relations)"
   ]
  },
  {
   "cell_type": "markdown",
   "id": "25",
   "metadata": {},
   "source": [
    "Survey which and how many metatypes are in the model."
   ]
  },
  {
   "cell_type": "code",
   "execution_count": null,
   "id": "26",
   "metadata": {},
   "outputs": [],
   "source": [
    "metatypes = []\n",
    "for nr in elements_data:\n",
    "    if nr['@type'] not in metatypes:\n",
    "        metatypes.append(nr['@type'])\n",
    "        \n",
    "metatypes"
   ]
  },
  {
   "cell_type": "markdown",
   "id": "27",
   "metadata": {},
   "source": [
    "Create a working session for the model and feed it the serialized data. The working session will also generate useful graphs to inspect later in this workbook."
   ]
  },
  {
   "cell_type": "code",
   "execution_count": null,
   "id": "28",
   "metadata": {},
   "outputs": [],
   "source": [
    "working_model = Session()\n",
    "working_model.thaw_json_data(elements_data)"
   ]
  },
  {
   "cell_type": "markdown",
   "id": "29",
   "metadata": {},
   "source": [
    "## Show Computed Graphs"
   ]
  },
  {
   "cell_type": "markdown",
   "id": "30",
   "metadata": {},
   "source": [
    "### Superclassing Graph"
   ]
  },
  {
   "cell_type": "code",
   "execution_count": null,
   "id": "31",
   "metadata": {},
   "outputs": [],
   "source": [
    "super_labels = NX.get_node_attributes(working_model.graph_manager.superclassing_graph,'name')\n",
    "\n",
    "plt.figure(figsize=(20, 12))\n",
    "\n",
    "NX.draw_planar(working_model.graph_manager.superclassing_graph,\n",
    "               labels=super_labels)"
   ]
  },
  {
   "cell_type": "markdown",
   "id": "32",
   "metadata": {},
   "source": [
    "### Banded Attribute Graph"
   ]
  },
  {
   "cell_type": "code",
   "execution_count": null,
   "id": "33",
   "metadata": {},
   "outputs": [],
   "source": [
    "list(working_model.graph_manager.banded_featuring_graph.successors('f5f406e8-b8a6-4f8b-a90e-01616a6cf1c1'))"
   ]
  },
  {
   "cell_type": "code",
   "execution_count": null,
   "id": "34",
   "metadata": {},
   "outputs": [],
   "source": [
    "banded_labels = NX.get_node_attributes(working_model.graph_manager.banded_featuring_graph,'name')\n",
    "\n",
    "edge_kinds = NX.get_edge_attributes(working_model.graph_manager.banded_featuring_graph,'kind')\n",
    "colors = {}\n",
    "\n",
    "for key, value in edge_kinds.items():\n",
    "    if value == 'Superclassing':\n",
    "        colors.update({key: 'b'})\n",
    "    elif value == 'FeatureTyping^-1':\n",
    "        colors.update({key: 'g'})\n",
    "    elif value == 'FeatureMembership^-1':\n",
    "        colors.update({key: 'r'})\n",
    "\n",
    "plt.figure(figsize=(20, 12))\n",
    "\n",
    "NX.draw_planar(working_model.graph_manager.banded_featuring_graph,\n",
    "               labels=banded_labels,\n",
    "              edge_color=colors.values(),\n",
    "              arrowsize=20)"
   ]
  },
  {
   "cell_type": "markdown",
   "id": "35",
   "metadata": {},
   "source": [
    "I think what we want is to see the chain of superclasses from a feature's owner and compare that to the path through redefinition to classifiers."
   ]
  },
  {
   "cell_type": "markdown",
   "id": "36",
   "metadata": {},
   "source": [
    "[\n",
    "    edge\n",
    "    for edge in lpg.graph.edges\n",
    "    if edge[2] in (\"ReturnParameterMembership\", \"Superclassing\")\n",
    "]"
   ]
  },
  {
   "cell_type": "code",
   "execution_count": null,
   "id": "37",
   "metadata": {},
   "outputs": [],
   "source": [
    "att_uses = working_model.get_all_of_metaclass(metaclass_name=\"AttributeUsage\")"
   ]
  },
  {
   "cell_type": "markdown",
   "id": "38",
   "metadata": {},
   "source": [
    "## Inspect Part Usages"
   ]
  },
  {
   "cell_type": "code",
   "execution_count": null,
   "id": "39",
   "metadata": {},
   "outputs": [],
   "source": [
    "part_uses = working_model.get_all_of_metaclass(metaclass_name='PartUsage')"
   ]
  },
  {
   "cell_type": "code",
   "execution_count": null,
   "id": "40",
   "metadata": {},
   "outputs": [],
   "source": [
    "len(part_uses)"
   ]
  },
  {
   "cell_type": "code",
   "execution_count": null,
   "id": "41",
   "metadata": {},
   "outputs": [],
   "source": [
    "['{0} has multiplicity {1}..{2}'.format(\n",
    "    part_use['name'],\n",
    "    working_model.feature_lower_multiplicity(part_use['@id']),\n",
    "    working_model.feature_upper_multiplicity(part_use['@id'])\n",
    ") for part_use in part_uses]"
   ]
  },
  {
   "cell_type": "markdown",
   "id": "42",
   "metadata": {},
   "source": [
    "Get feature types."
   ]
  },
  {
   "cell_type": "code",
   "execution_count": null,
   "id": "43",
   "metadata": {},
   "outputs": [],
   "source": [
    "feature_types = [feature_type for feature_type in relations if feature_type['@type'] == 'FeatureTyping']"
   ]
  },
  {
   "cell_type": "markdown",
   "id": "44",
   "metadata": {},
   "source": [
    "# Generate Instances\n",
    "\n",
    "With the base semantic model in hand, begin to apply the rules to generate our system alternatives."
   ]
  },
  {
   "cell_type": "markdown",
   "id": "45",
   "metadata": {},
   "source": [
    "## Find number of instances for feature last positions\n",
    "\n",
    "In SysML, the default type is PartDefinition, which is a Classifier, meaning the minimal interpretation of length one (the specific instance). Nesting parts then have an interpretation as expected by systems engineers, namely that the instances \"stack\" in order to provide a navigation from top-level assembly to leaf component."
   ]
  },
  {
   "cell_type": "code",
   "execution_count": null,
   "id": "46",
   "metadata": {},
   "outputs": [],
   "source": [
    "['{0} needs {1} instances of type {2}'.format(\n",
    "    part_use['name'],\n",
    "    working_model.feature_upper_multiplicity(part_use['@id']),\n",
    "    working_model.graph_manager.get_feature_type_name(part_use['@id'])\n",
    ") for part_use in part_uses]"
   ]
  },
  {
   "cell_type": "markdown",
   "id": "47",
   "metadata": {},
   "source": [
    "Automatically shorten names so that sequences remain readable when printed."
   ]
  },
  {
   "cell_type": "code",
   "execution_count": null,
   "id": "48",
   "metadata": {},
   "outputs": [],
   "source": [
    "shorten_pre_bake = {\n",
    "    'RT-10 \"Hammer\" Solid Fuel Booster': \"RT-10\",\n",
    "    'RT-5 \"Flea\" Solid Fuel Booster': \"RT-5\",\n",
    "    'LV-T45 \"Swivel\" Liquid Fuel Engine': \"LV-T45\",\n",
    "    'FL-T100 Fuel Tank': \"FL-T100\",\n",
    "    'FL-T200 Fuel Tank': \"FL-T200\"\n",
    "}"
   ]
  },
  {
   "cell_type": "markdown",
   "id": "49",
   "metadata": {},
   "source": [
    "## Determine the size of the universe of instances needed for creating alternatives\n",
    "\n",
    "Use feature membership together with multiplicity to decide how many individuals are needed."
   ]
  },
  {
   "cell_type": "code",
   "execution_count": null,
   "id": "50",
   "metadata": {},
   "outputs": [],
   "source": [
    "working_model.graph_manager.roll_up_upper_multiplicities()"
   ]
  },
  {
   "cell_type": "code",
   "execution_count": null,
   "id": "51",
   "metadata": {},
   "outputs": [],
   "source": [
    "[(working_model.get_name_by_id(key), mult) for key, mult in\n",
    "    working_model.graph_manager.roll_up_upper_multiplicities().items()\n",
    "]"
   ]
  },
  {
   "cell_type": "markdown",
   "id": "52",
   "metadata": {},
   "source": [
    "### Subdivide Abstract Feature Types\n",
    "\n",
    "Look at the feature types for where they are abstract and then generate instances from the more specific types."
   ]
  },
  {
   "cell_type": "code",
   "execution_count": null,
   "id": "53",
   "metadata": {},
   "outputs": [],
   "source": [
    "abstract_types = []\n",
    "for typ in working_model.graph_manager.superclassing_graph.nodes():\n",
    "    ele_data = working_model.get_data_by_id(ele_id=typ)\n",
    "    if ele_data['isAbstract']:\n",
    "        abstract_types.append(ele_data)\n",
    "        \n",
    "print([abstract['name'] for abstract in abstract_types])"
   ]
  },
  {
   "cell_type": "code",
   "execution_count": null,
   "id": "54",
   "metadata": {},
   "outputs": [],
   "source": [
    "[working_model.get_name_by_id(definite)\n",
    " for definite in working_model.graph_manager.partition_abstract_type(abstract_type_id=abstract_types[3]['@id'])]"
   ]
  },
  {
   "cell_type": "markdown",
   "id": "55",
   "metadata": {},
   "source": [
    "## Generate Random Alternatives\n",
    "\n",
    "Start creating the alternatives with random draws on multiplicity. This will be our space for investigation for weights, thrust-to-weight ratios at stage ignitions, delta-Vs, and initial and burnout masses."
   ]
  },
  {
   "cell_type": "code",
   "execution_count": null,
   "id": "56",
   "metadata": {},
   "outputs": [],
   "source": [
    "working_model.get_name_by_id(ele_id='000f78ae-e890-4f81-847c-f9bf976abe1b')"
   ]
  },
  {
   "cell_type": "code",
   "execution_count": null,
   "id": "57",
   "metadata": {},
   "outputs": [],
   "source": [
    "generator = RGS(number_of_cases=2, model_session=working_model, short_names=shorten_pre_bake)"
   ]
  },
  {
   "cell_type": "code",
   "execution_count": null,
   "id": "58",
   "metadata": {},
   "outputs": [],
   "source": [
    "generator.pprint_attribute_solution(solution_no=0)"
   ]
  },
  {
   "cell_type": "code",
   "execution_count": null,
   "id": "59",
   "metadata": {},
   "outputs": [],
   "source": [
    "generator.pprint_feature_solution(solution_no=0)"
   ]
  },
  {
   "cell_type": "markdown",
   "id": "60",
   "metadata": {},
   "source": [
    "### Look at attribute values and feature types \n",
    "\n",
    "Build a graph where attribute usages are connected to other types and superclassing"
   ]
  },
  {
   "cell_type": "code",
   "execution_count": null,
   "id": "61",
   "metadata": {},
   "outputs": [],
   "source": [
    "for ft in working_model.get_all_of_metaclass(metaclass_name='FeatureMembership'):\n",
    "    print(working_model.get_element_signature(ft))"
   ]
  },
  {
   "cell_type": "markdown",
   "id": "62",
   "metadata": {},
   "source": [
    "## Investigate Literal Assignments and Expressions"
   ]
  },
  {
   "cell_type": "code",
   "execution_count": null,
   "id": "63",
   "metadata": {},
   "outputs": [],
   "source": [
    "expressions = [expr for expr in non_relations if 'Expression' in expr['@type']]"
   ]
  },
  {
   "cell_type": "code",
   "execution_count": null,
   "id": "64",
   "metadata": {},
   "outputs": [],
   "source": [
    "len(expressions)"
   ]
  },
  {
   "cell_type": "code",
   "execution_count": null,
   "id": "65",
   "metadata": {},
   "outputs": [],
   "source": [
    "def expression_signature(expr):\n",
    "    if expr['@type'] == 'FeatureReferenceExpression':\n",
    "        fre = working_model.get_data_by_id(expr['referent']['@id'])\n",
    "        return working_model.get_name_by_id(fre['owner']['@id']) + '::' + fre['name'] + '(ref)'\n",
    "    elif expr['@type'] == 'OperatorExpression':\n",
    "        oper = expr['operator']\n",
    "        paras = [expression_signature(working_model.get_data_by_id(para['@id'])) for para in expr['operand']]\n",
    "        return str(oper) + ' (' + str(paras) + ')'\n",
    "    elif expr['@type'] == 'Expression':\n",
    "        result_name = working_model.get_name_by_id(expr['result']['@id'])\n",
    "        inputs = [expression_signature(working_model.get_data_by_id(para['@id'])) for para in expr['input']]\n",
    "        return 'f(' + ', '.join(inputs) + ') => ' + result_name\n",
    "    elif expr['@type'] in ('ReferenceUsage', 'Feature', 'AttributeUsage', 'Function'):\n",
    "        if expr['name'] is not None:\n",
    "            return expr['name']\n",
    "        else:\n",
    "            return ''\n",
    "    elif expr['@type'] == 'InvocationExpression':\n",
    "        invoked = working_model.get_name_by_id(expr['type'][0]['@id'])\n",
    "        inputs = [expression_signature(working_model.get_data_by_id(para['@id'])) for para in expr['input']]\n",
    "        return invoked + '(' + str(inputs) + ')'\n",
    "    else:\n",
    "        return expr['@type']"
   ]
  },
  {
   "cell_type": "code",
   "execution_count": null,
   "id": "66",
   "metadata": {},
   "outputs": [],
   "source": [
    "expression_signature(expressions[9])"
   ]
  },
  {
   "cell_type": "code",
   "execution_count": null,
   "id": "67",
   "metadata": {},
   "outputs": [],
   "source": [
    "expression_graph = NX.DiGraph()"
   ]
  },
  {
   "cell_type": "code",
   "execution_count": null,
   "id": "68",
   "metadata": {},
   "outputs": [],
   "source": [
    "for rel in relations:\n",
    "    if rel['@type'] == 'ReturnParameterMembership':\n",
    "        owner = working_model.get_data_by_id(rel['owningType']['@id'])\n",
    "        para = working_model.get_data_by_id(rel['memberParameter']['@id'])\n",
    "        \n",
    "        expression_graph.add_node(owner['@id'], label=expression_signature(owner))\n",
    "        expression_graph.add_node(para['@id'], label=expression_signature(para))\n",
    "        expression_graph.add_edge(owner['@id'], para['@id'], kind='ReturnParameterMembership')\n",
    "        \n",
    "        print (expression_signature(owner) + ' =RPN=> ' + expression_signature(para))\n",
    "    elif rel['@type'] == 'ParameterMembership':\n",
    "        owner = working_model.get_data_by_id(rel['owningType']['@id'])\n",
    "        para = working_model.get_data_by_id(rel['memberParameter']['@id'])\n",
    "        \n",
    "        expression_graph.add_node(owner['@id'], label=expression_signature(owner))\n",
    "        expression_graph.add_node(para['@id'], label=expression_signature(para))\n",
    "        expression_graph.add_edge(owner['@id'], para['@id'], kind='ParameterMembership')\n",
    "        print (expression_signature(owner) + ' =PN=> ' + expression_signature(para))\n",
    "    elif rel['@type'] == 'FeatureValue':\n",
    "        feature = working_model.get_data_by_id(rel['owningRelatedElement']['@id'])\n",
    "        value = working_model.get_data_by_id(rel['value']['@id'])\n",
    "        \n",
    "        expression_graph.add_node(feature['@id'], label=expression_signature(feature))\n",
    "        expression_graph.add_node(value['@id'], label=expression_signature(value))\n",
    "        expression_graph.add_edge(feature['@id'], value['@id'], kind='FeatureValue')\n",
    "        \n",
    "        feature_owner = working_model.get_data_by_id(feature['owningType']['@id'])\n",
    "        \n",
    "        if 'value' in value:\n",
    "            print (expression_signature(value) + ' (' + str(value['value']) + \\\n",
    "                   ') value of ' + feature_owner['name'] + '::' + expression_signature(feature))\n",
    "        else:\n",
    "            print (expression_signature(value) + \\\n",
    "                   ' value of ' + feature_owner['name'] + '::' + expression_signature(feature))\n",
    "            \n",
    "    elif rel['@type'] == 'FeatureMembership':\n",
    "        if 'Expression' in working_model.get_data_by_id(rel['memberFeature']['@id'])['@type']:\n",
    "            if working_model.get_metaclass_by_id(rel['memberFeature']['@id']) != 'AttributeUsage':\n",
    "                owner = working_model.get_data_by_id(rel['owningType']['@id'])\n",
    "                expr = working_model.get_data_by_id(rel['memberFeature']['@id'])\n",
    "\n",
    "                expression_graph.add_node(owner['@id'], label=expression_signature(owner))\n",
    "                expression_graph.add_node(expr['@id'], label=expression_signature(expr))\n",
    "                expression_graph.add_edge(owner['@id'], expr['@id'], kind='FeatureMembership')\n",
    "            \n",
    "            print (expression_signature(owner) + ' =FM=> ' + expression_signature(expr))\n",
    "            \n",
    "    elif rel['@type'] == 'ResultExpressionMembership':\n",
    "        if 'Expression' in working_model.get_data_by_id(rel['memberFeature']['@id'])['@type']:\n",
    "            if working_model.get_metaclass_by_id(rel['memberFeature']['@id']) != 'AttributeUsage':\n",
    "                owner = working_model.get_data_by_id(rel['owningType']['@id'])\n",
    "                expr = working_model.get_data_by_id(rel['memberFeature']['@id'])\n",
    "\n",
    "                expression_graph.add_node(owner['@id'], label=expression_signature(owner))\n",
    "                expression_graph.add_node(expr['@id'], label=expression_signature(expr))\n",
    "                expression_graph.add_edge(owner['@id'], expr['@id'], kind='FeatureMembership')\n",
    "            \n",
    "            print (expression_signature(owner) + ' =REM=> ' + expression_signature(expr))\n",
    "            \n",
    "    elif rel['@type'] == 'FeatureTyping':\n",
    "        if 'Expression' in working_model.get_data_by_id(rel['typedFeature']['@id'])['@type']:\n",
    "            typ = working_model.get_data_by_id(rel['type']['@id'])\n",
    "            expr = working_model.get_data_by_id(rel['typedFeature']['@id'])\n",
    "\n",
    "            expression_graph.add_node(typ['@id'], label=expression_signature(typ))\n",
    "            expression_graph.add_node(expr['@id'], label=expression_signature(expr))\n",
    "            expression_graph.add_edge(expr['@id'], typ['@id'], kind='FeatureTyping')\n",
    "            \n",
    "            print (expression_signature(expr) + ' =FT=> ' + expression_signature(typ))"
   ]
  },
  {
   "cell_type": "code",
   "execution_count": null,
   "id": "69",
   "metadata": {},
   "outputs": [],
   "source": [
    "expression_value_pairs = []\n",
    "\n",
    "for rel in relations:\n",
    "    if rel['@type'] == 'FeatureValue':\n",
    "        value = working_model.get_data_by_id(rel['value']['@id'])\n",
    "        if 'Expression' in value['@type']:\n",
    "            feature = working_model.get_data_by_id(rel['owningRelatedElement']['@id'])\n",
    "            expression_value_pairs.append([feature['@id'], value['@id']])"
   ]
  },
  {
   "cell_type": "code",
   "execution_count": null,
   "id": "70",
   "metadata": {},
   "outputs": [],
   "source": [
    "len(expression_value_pairs)"
   ]
  },
  {
   "cell_type": "code",
   "execution_count": null,
   "id": "71",
   "metadata": {},
   "outputs": [],
   "source": [
    "def get_context_from_graph(graph, expr_values):\n",
    "    context_dict = {}\n",
    "    for ev in expr_values:\n",
    "        tree = NX.dfs_tree(graph, source=ev[1])\n",
    "        for tree_node in tree.nodes():\n",
    "            if 'Expression' in working_model.get_data_by_id(tree_node)['@type']:\n",
    "                context_dict.update({tree_node: ev[0]})\n",
    "                \n",
    "    return context_dict"
   ]
  },
  {
   "cell_type": "code",
   "execution_count": null,
   "id": "72",
   "metadata": {},
   "outputs": [],
   "source": [
    "context_dict = get_context_from_graph(expression_graph, expression_value_pairs)\n",
    "context_dict"
   ]
  },
  {
   "cell_type": "markdown",
   "id": "73",
   "metadata": {},
   "source": [
    "Examine the expression graph and paint expression nodes with context for later evaluations."
   ]
  },
  {
   "cell_type": "code",
   "execution_count": null,
   "id": "74",
   "metadata": {},
   "outputs": [],
   "source": [
    "for comp in NX.connected_components(expression_graph.to_undirected()):\n",
    "    connected_sub = NX.subgraph(expression_graph, list(comp))\n",
    "    \n",
    "    pos = NX.planar_layout(connected_sub)\n",
    "\n",
    "    banded_labels = NX.get_node_attributes(connected_sub,'label')\n",
    "\n",
    "    edge_kinds = NX.get_edge_attributes(connected_sub,'kind')\n",
    "    colors = []\n",
    "    \n",
    "    rpm_edges = []\n",
    "    pm_edges = []\n",
    "    fv_edges = []\n",
    "    ft_edges = []\n",
    "    fm_edges = []\n",
    "    rem_edges = []\n",
    "    \n",
    "    for edg in connected_sub.edges.data(\"kind\"):\n",
    "        if edg[2] == 'ReturnParameterMembership':\n",
    "            rpm_edges.append([edg[0], edg[1]])\n",
    "        elif edg[2] == 'ParameterMembership':\n",
    "            pm_edges.append([edg[0], edg[1]])\n",
    "        elif edg[2] == 'FeatureValue':\n",
    "            fv_edges.append([edg[0], edg[1]])\n",
    "        elif edg[2] == 'FeatureTyping':\n",
    "            ft_edges.append([edg[0], edg[1]])\n",
    "        elif edg[2] == 'FeatureMembership':\n",
    "            fm_edges.append([edg[0], edg[1]])\n",
    "        elif edg[2] == 'ResultExpressionMembership':\n",
    "            rem_edges.append([edg[0], edg[1]])\n",
    "    \n",
    "    # only plot non-trivial\n",
    "    if len(comp) > 4:\n",
    "\n",
    "        plt.figure(figsize=(20, 12))\n",
    "        \n",
    "        NX.draw_networkx_nodes(connected_sub, pos, nodelist=comp, node_color=\"r\")\n",
    "        \n",
    "        NX.draw_networkx_edges(connected_sub, pos, edgelist=rpm_edges, edge_color=\"b\", arrowsize=20)\n",
    "        #NX.draw_networkx_edges(connected_sub, pos, edgelist=ft_edges, edge_color=\"k\", arrowsize=20)\n",
    "        NX.draw_networkx_edges(connected_sub, pos, edgelist=pm_edges, edge_color=\"g\", arrowsize=20)\n",
    "        #NX.draw_networkx_edges(connected_sub, pos, edgelist=fv_edges, edge_color=\"r\", arrowsize=20)\n",
    "        #NX.draw_networkx_edges(connected_sub, pos, edgelist=fm_edges, edge_color=\"c\", arrowsize=20)\n",
    "        NX.draw_networkx_edges(connected_sub, pos, edgelist=rem_edges, edge_color=\"m\", arrowsize=20)\n",
    "        \n",
    "        NX.draw_networkx_labels(connected_sub, pos, banded_labels, font_size=12)\n",
    "\n",
    "        #NX.draw_planar(connected_sub,\n",
    "        #               edgelist=connected_sub.edges,\n",
    "        #               labels=banded_labels,\n",
    "        #              edge_color=colors,\n",
    "        #              arrowsize=20)"
   ]
  },
  {
   "cell_type": "code",
   "execution_count": null,
   "id": "75",
   "metadata": {},
   "outputs": [],
   "source": [
    "generator.attribute_dicts[0]['25a4a485-735c-4b5d-8d6f-140e176a144f']"
   ]
  },
  {
   "cell_type": "code",
   "execution_count": null,
   "id": "76",
   "metadata": {},
   "outputs": [],
   "source": [
    "collects = [nr for nr in non_relations if nr['@type'] == 'OperatorExpression' and nr['operator'] == 'collect']"
   ]
  },
  {
   "cell_type": "code",
   "execution_count": null,
   "id": "77",
   "metadata": {},
   "outputs": [],
   "source": [
    "len(collects)"
   ]
  },
  {
   "cell_type": "code",
   "execution_count": null,
   "id": "78",
   "metadata": {},
   "outputs": [],
   "source": [
    "def filter_feature_by_context(context, feature_list):\n",
    "    filtered = [feat for feat in feature_list if str(context) == str(feat[0:len(context)])]\n",
    "    return filtered"
   ]
  },
  {
   "cell_type": "markdown",
   "id": "79",
   "metadata": {},
   "source": [
    "Simpler answer: The dot operator on instances."
   ]
  },
  {
   "cell_type": "code",
   "execution_count": null,
   "id": "80",
   "metadata": {},
   "outputs": [],
   "source": [
    "generator.classifier_instance_dicts[0]['f25193df-abf0-478b-997d-dbee3895090e']"
   ]
  },
  {
   "cell_type": "code",
   "execution_count": null,
   "id": "81",
   "metadata": {},
   "outputs": [],
   "source": [
    "generator.feature_instance_dicts[0]['cd081fb5-d4b7-42bc-880b-9f4cf2517394']"
   ]
  },
  {
   "cell_type": "code",
   "execution_count": null,
   "id": "82",
   "metadata": {},
   "outputs": [],
   "source": [
    "def sequence_dot_operator(left_item, right_side_seqs):\n",
    "    left_len = len(left_item)\n",
    "    right_len = len(right_side_seqs[0])\n",
    "    #print('Left is ' + str(left_len) + ' right is ' + str(right_len))\n",
    "    matched_items = []\n",
    "    \n",
    "    for right_item in right_side_seqs:\n",
    "        #print(str(right_item[0:(right_len-1)]))\n",
    "        if left_len != right_len:\n",
    "            if str(left_item) == str(right_item[0:(right_len-1)]):\n",
    "                matched_items.append(right_item)\n",
    "        else:\n",
    "            if str(left_item[1:None]) == str(right_item[0:(right_len-1)]):\n",
    "                matched_items.append(right_item)\n",
    "        \n",
    "    return matched_items"
   ]
  },
  {
   "cell_type": "code",
   "execution_count": null,
   "id": "83",
   "metadata": {},
   "outputs": [],
   "source": [
    "step_1 = sequence_dot_operator(generator.classifier_instance_dicts[0]['f25193df-abf0-478b-997d-dbee3895090e'][0],\n",
    "                     generator.feature_instance_dicts[0]['cd081fb5-d4b7-42bc-880b-9f4cf2517394'])"
   ]
  },
  {
   "cell_type": "code",
   "execution_count": null,
   "id": "84",
   "metadata": {},
   "outputs": [],
   "source": [
    "step_1"
   ]
  },
  {
   "cell_type": "code",
   "execution_count": null,
   "id": "85",
   "metadata": {},
   "outputs": [],
   "source": [
    "all_masses = [\n",
    "    sequence_dot_operator(step_1_step,\n",
    "                     generator.attribute_dicts[1]['6045bd07-09d9-4a01-97a4-ede5cad64d76'])\n",
    "    for step_1_step in step_1\n",
    "]"
   ]
  },
  {
   "cell_type": "code",
   "execution_count": null,
   "id": "86",
   "metadata": {},
   "outputs": [],
   "source": [
    "all_masses\n",
    "sum(all_masses, [])"
   ]
  },
  {
   "cell_type": "code",
   "execution_count": null,
   "id": "87",
   "metadata": {},
   "outputs": [],
   "source": [
    "sequence_dot_operator(step_1[2],\n",
    "                     generator.attribute_dicts[1]['6045bd07-09d9-4a01-97a4-ede5cad64d76'])"
   ]
  },
  {
   "cell_type": "code",
   "execution_count": null,
   "id": "88",
   "metadata": {},
   "outputs": [],
   "source": [
    "sequence_dot_operator(generator.classifier_instance_dicts[0]['f25193df-abf0-478b-997d-dbee3895090e'],\n",
    "                     generator.feature_instance_dicts[0]['000f78ae-e890-4f81-847c-f9bf976abe1b'])"
   ]
  },
  {
   "cell_type": "code",
   "execution_count": null,
   "id": "89",
   "metadata": {},
   "outputs": [],
   "source": [
    "sequence_dot_operator(generator.feature_instance_dicts[0]['000f78ae-e890-4f81-847c-f9bf976abe1b'],\n",
    "                     generator.attribute_dicts[0]['f912dc27-fc5e-48e8-abf7-29d3f47c913c'])"
   ]
  },
  {
   "cell_type": "code",
   "execution_count": null,
   "id": "90",
   "metadata": {},
   "outputs": [],
   "source": []
  }
 ],
 "metadata": {
  "kernelspec": {
   "display_name": "Python 3",
   "language": "python",
   "name": "python3"
  },
  "language_info": {
   "codemirror_mode": {
    "name": "ipython",
    "version": 3
   },
   "file_extension": ".py",
   "mimetype": "text/x-python",
   "name": "python",
   "nbconvert_exporter": "python",
   "pygments_lexer": "ipython3",
   "version": "3.9.4"
  },
  "toc-autonumbering": false
 },
 "nbformat": 4,
 "nbformat_minor": 5
}
