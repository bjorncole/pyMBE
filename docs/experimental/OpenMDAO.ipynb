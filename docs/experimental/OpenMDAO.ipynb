{
 "cells": [
  {
   "cell_type": "code",
   "execution_count": null,
   "id": "d2d8f42b-0b96-4287-9944-33d00ebe7d7c",
   "metadata": {},
   "outputs": [],
   "source": [
    "import numpy as np\n",
    "import openmdao.api as om"
   ]
  },
  {
   "cell_type": "markdown",
   "id": "91de9398-a1d8-4bd5-9650-d75cc4cccd77",
   "metadata": {},
   "source": [
    "# Define OpenMDAO Components\n",
    "We'll stick to using `Explicit Component`s for now"
   ]
  },
  {
   "cell_type": "code",
   "execution_count": null,
   "id": "ed7328a0-af10-4d7f-b8b1-ab80e5cb1ac3",
   "metadata": {},
   "outputs": [],
   "source": [
    "class RangeBreguet(om.ExplicitComponent):\n",
    "    \"\"\"This is a simple component to compute the range of an aircraft using the Range Breguet equation.\"\"\"\n",
    "    \n",
    "    def setup(self):\n",
    "        self.add_input(\n",
    "            name=\"l_over_d\",\n",
    "            val=10.0,\n",
    "            desc=\"The Lift-over-Drag parameter\",\n",
    "        )\n",
    "        self.add_input(\n",
    "            name=\"speed\",\n",
    "            val=320.0,\n",
    "            units=\"knot\",\n",
    "            desc=\"Speed of the aircraft\",\n",
    "        )\n",
    "        self.add_input(\n",
    "            name=\"sfc\",\n",
    "            val=0.85,\n",
    "            units=\"1/h\",\n",
    "            desc=\"Specific Fuel Consumption\",\n",
    "        )\n",
    "        self.add_input(\n",
    "            name=\"weight_ratio\",\n",
    "            val=0.75,\n",
    "            desc=\"The weight ratio between the start and end of the segment\",\n",
    "        )\n",
    "\n",
    "        self.add_output(\n",
    "            name=\"range\",\n",
    "            units=\"nmi\",\n",
    "            desc=\"The distance flown by the aircraft in the segment\",\n",
    "        )\n",
    "\n",
    "    def compute(self, inputs, outputs):\n",
    "        outputs[\"range\"] = (\n",
    "            inputs[\"speed\"]\n",
    "            * inputs[\"l_over_d\"]\n",
    "            * -np.log(inputs[\"weight_ratio\"])\n",
    "            / inputs[\"sfc\"]\n",
    "        )"
   ]
  },
  {
   "cell_type": "code",
   "execution_count": null,
   "id": "0871537f-26c9-4be9-9adb-63b659258ef0",
   "metadata": {},
   "outputs": [],
   "source": [
    "class SquadronRange(om.ExplicitComponent):\n",
    "    def setup(self):\n",
    "        self.add_input(\n",
    "            name=\"aircraft_ranges\",\n",
    "            val=0.0,\n",
    "            units=\"nmi\",\n",
    "            shape_by_conn=True,\n",
    "            desc=\"The range of the various aircraft in the squadron\",\n",
    "        )\n",
    "        self.add_output(\n",
    "            name=\"squadron_range\",\n",
    "            units=\"nmi\",\n",
    "            desc=\"The maximum distance that the squadron can fly\",\n",
    "        )\n",
    "\n",
    "    def compute(self, inputs, outputs):\n",
    "        outputs[\"squadron_range\"] = np.min(inputs[\"aircraft_ranges\"])"
   ]
  },
  {
   "cell_type": "markdown",
   "id": "05fb37d8-972b-4d21-80bf-087f14a2f26f",
   "metadata": {},
   "source": [
    "## Instantiate it and Run it"
   ]
  },
  {
   "cell_type": "code",
   "execution_count": null,
   "id": "28bd6632-2ea4-4206-8697-0993c024d66f",
   "metadata": {},
   "outputs": [],
   "source": [
    "rb = RangeBreguet()\n",
    "rb.setup()\n",
    "\n",
    "inputs={\n",
    "    name: data[\"value\"]\n",
    "    for name, data in rb._static_var_rel2meta.items()\n",
    "}\n",
    "outputs = {}\n",
    "\n",
    "rb.compute(inputs, outputs)\n",
    "outputs[\"range\"]"
   ]
  },
  {
   "cell_type": "markdown",
   "id": "dc930c05-dd73-44b4-92e0-9b235d1e2079",
   "metadata": {},
   "source": [
    "# Define OpenMDAO Problem and its Components"
   ]
  },
  {
   "cell_type": "code",
   "execution_count": null,
   "id": "d604b361-6260-4519-bbdb-d0457840d421",
   "metadata": {},
   "outputs": [],
   "source": [
    "# Faux instances, will be refined based on what comes from SysML2\n",
    "instances = [\n",
    "    {\n",
    "        \"id\": i + 1,\n",
    "        \"name\": f\"aircraft_{i + 1}\",\n",
    "    }\n",
    "    for i in range(10)\n",
    "]"
   ]
  },
  {
   "cell_type": "code",
   "execution_count": null,
   "id": "9902e2df-7f5d-4474-b839-d53a9c712aff",
   "metadata": {},
   "outputs": [],
   "source": [
    "prob = om.Problem()\n",
    "model = prob.model\n",
    "\n",
    "# Add the Range Breguet equation components per aircraft instance\n",
    "aircraft_range_comps = [\n",
    "    model.add_subsystem(\n",
    "        name=f\"\"\"{instance[\"name\"]}_range_breguet\"\"\",\n",
    "        subsys=RangeBreguet(),\n",
    "        # promotes_inputs=[\"*\"],\n",
    "    ) for instance in instances\n",
    "]\n",
    "\n",
    "# Add a mux'er to merge inputs from instances\n",
    "mux_comp = model.add_subsystem(\n",
    "    name=\"aircraft_ranges\",\n",
    "    subsys=om.MuxComp(\n",
    "        vec_size=len(instances),\n",
    "    ),\n",
    ")\n",
    "mux_comp.add_var(\"range\", shape=(1,), axis=1, units=\"nmi\")\n",
    "\n",
    "# Note: this does not work, as minimum takes only two inputs...\n",
    "# Add the squadron range calculation\n",
    "# squadron_range = model.add_subsystem(\n",
    "#     \"squadron_range\",\n",
    "#     subsys=om.ExecComp(\n",
    "#         \"squadron_range=minimum(aircraft_ranges)\",\n",
    "#         squadron_range={\"units\": \"nmi\"},\n",
    "#         aircraft_ranges={\"units\": \"nmi\", \"shape\": 10},\n",
    "#     ),\n",
    "# )\n",
    "squadron_range = model.add_subsystem(\n",
    "    \"squadron_range\",\n",
    "    subsys=SquadronRange(),\n",
    ")"
   ]
  },
  {
   "cell_type": "markdown",
   "id": "4fad458d-f50b-4597-a69e-c442d10e5b04",
   "metadata": {},
   "source": [
    "# Connect Variables"
   ]
  },
  {
   "cell_type": "code",
   "execution_count": null,
   "id": "64d29616-f456-4dcb-8ff6-57a9a4d2315f",
   "metadata": {},
   "outputs": [],
   "source": [
    "for idx, instance in enumerate(instances):\n",
    "    model.connect(\n",
    "        f\"\"\"aircraft_{instance[\"id\"]}_range_breguet.range\"\"\",\n",
    "        f\"\"\"aircraft_ranges.range_{idx}\"\"\",\n",
    "    )\n",
    "\n",
    "model.connect(\n",
    "    \"aircraft_ranges.range\",\n",
    "    \"squadron_range.aircraft_ranges\",\n",
    ")"
   ]
  },
  {
   "cell_type": "markdown",
   "id": "1776719e-d242-4990-bd0d-aea7c9788eac",
   "metadata": {},
   "source": [
    "# Add an optimizer and define optimization problem"
   ]
  },
  {
   "cell_type": "code",
   "execution_count": null,
   "id": "8c813162-4a28-4170-b5be-cd77b5a93871",
   "metadata": {},
   "outputs": [],
   "source": [
    "# prob.driver = om.ScipyOptimizeDriver()\n",
    "# prob.driver.options[\"optimizer\"] = \"COBYLA\"\n",
    "\n",
    "prob.driver = om.SimpleGADriver()\n",
    "\n",
    "var_ranges = dict(\n",
    "    l_over_d=(2., 18.),\n",
    "    speed=(100., 200.),\n",
    "    sfc=(0.55, 1.2),\n",
    "    weight_ratio=(0.5, 0.95),\n",
    ")\n",
    "bits_by_var = {}\n",
    "DEFAULT_BITS = 12\n",
    "\n",
    "for instance in instances:\n",
    "    component_name = f\"\"\"aircraft_{instance[\"id\"]}_range_breguet\"\"\"\n",
    "    for var_name, (lower, upper) in var_ranges.items():\n",
    "        full_var_name = f\"{component_name}.{var_name}\"\n",
    "        model.add_design_var(full_var_name, lower, upper)\n",
    "        bits_by_var[full_var_name] = DEFAULT_BITS\n",
    "\n",
    "model.add_objective(\"squadron_range.squadron_range\", scaler=-1.0)"
   ]
  },
  {
   "cell_type": "markdown",
   "id": "34d0dfe8-1f22-421b-9756-412fa2eb400e",
   "metadata": {},
   "source": [
    "## Configure the Genetic Algorithm Driver"
   ]
  },
  {
   "cell_type": "code",
   "execution_count": null,
   "id": "c3f5c171-6ab7-4021-818d-e41d827f0070",
   "metadata": {},
   "outputs": [],
   "source": [
    "prob.driver.options[\"gray\"] = True\n",
    "prob.driver.options[\"elitism\"] = True\n",
    "prob.driver.options[\"pop_size\"] = 200\n",
    "prob.driver.options[\"max_gen\"] = 100\n",
    "prob.driver.options[\"debug_print\"] = [\n",
    "    # \"objs\",  # to print objectives values\n",
    "    # \"desvars\",  # to print the design variables, but it is too much\n",
    "]  \n",
    "\n",
    "# TODO: figure out a way to handle this in the future for these types of drivers?\n",
    "prob.driver.options[\"bits\"] = bits_by_var"
   ]
  },
  {
   "cell_type": "markdown",
   "id": "156498c6-723e-4f45-b6a7-fa68c596a8db",
   "metadata": {},
   "source": [
    "## Add a recorder"
   ]
  },
  {
   "cell_type": "code",
   "execution_count": null,
   "id": "c5ab7226-3efa-4a3c-9575-2deaec47a903",
   "metadata": {},
   "outputs": [],
   "source": [
    "recorder = om.SqliteRecorder('cases.sql')\n",
    "\n",
    "prob.add_recorder(recorder)"
   ]
  },
  {
   "cell_type": "code",
   "execution_count": null,
   "id": "1dfd202b-f3eb-4463-8d20-bcab582472d2",
   "metadata": {},
   "outputs": [],
   "source": [
    "# Setup the problem to run\n",
    "prob.setup()"
   ]
  },
  {
   "cell_type": "code",
   "execution_count": null,
   "id": "a4e9fc24-4b6d-4582-979e-870eeb37cac7",
   "metadata": {},
   "outputs": [],
   "source": [
    "prob.driver.add_recorder(recorder)\n",
    "prob.set_solver_print(0)"
   ]
  },
  {
   "cell_type": "markdown",
   "id": "6ab7d8d5-39ce-40d5-b92c-872f0cd230ef",
   "metadata": {},
   "source": [
    "## We can visualize the $n^2$ diagram"
   ]
  },
  {
   "cell_type": "code",
   "execution_count": null,
   "id": "3a5ddccd-81ef-40b9-a26e-6e787e23e236",
   "metadata": {},
   "outputs": [],
   "source": [
    "from openmdao.visualization.n2_viewer.n2_viewer import n2\n",
    "\n",
    "n2(prob)"
   ]
  },
  {
   "cell_type": "code",
   "execution_count": null,
   "id": "f4338a72-233e-40ac-9f38-48dfee807ff5",
   "metadata": {},
   "outputs": [],
   "source": [
    "prob.run_model()"
   ]
  },
  {
   "cell_type": "code",
   "execution_count": null,
   "id": "4a68980c-987c-40f2-ae44-df9d503a2f4e",
   "metadata": {},
   "outputs": [],
   "source": [
    "prob[\"squadron_range.squadron_range\"]"
   ]
  },
  {
   "cell_type": "code",
   "execution_count": null,
   "id": "1c409b16-44c2-44dd-9cb3-13bc77e3aa5a",
   "metadata": {},
   "outputs": [],
   "source": [
    "prob.run_driver()\n",
    "prob.record(\"final_state\")\n",
    "prob.cleanup()"
   ]
  },
  {
   "cell_type": "code",
   "execution_count": null,
   "id": "96c64892-f2c5-49c7-aeb6-9a69b71e575d",
   "metadata": {},
   "outputs": [],
   "source": [
    "prob[\"squadron_range.aircraft_ranges\"], prob[\"squadron_range.squadron_range\"]"
   ]
  },
  {
   "cell_type": "code",
   "execution_count": null,
   "id": "96c0cd2c-67be-4a20-a2ad-6d31a9ba9c91",
   "metadata": {},
   "outputs": [],
   "source": [
    "# Instantiate your CaseReader\n",
    "cr = om.CaseReader(\"cases.sql\")\n",
    "\n",
    "# List driver cases (do not recurse to system/solver cases, suppress display)\n",
    "driver_cases = cr.list_cases('driver', recurse=False, out_stream=None)"
   ]
  },
  {
   "cell_type": "code",
   "execution_count": null,
   "id": "e31aa30f-2c19-48fe-9aa7-d9f5669dd459",
   "metadata": {},
   "outputs": [],
   "source": [
    "# Plot the path the design variables took to convergence\n",
    "# Note that there are two lines in the right plot because \"Z\"\n",
    "# contains two variables that are being optimized\n",
    "var_x = \"aircraft_1_range_breguet.speed\"\n",
    "objective = \"squadron_range.squadron_range\"\n",
    "\n",
    "best, average = [], []\n",
    "\n",
    "all_cases = cr.get_cases()\n",
    "pop_size = prob.driver.options[\"pop_size\"]\n",
    "for i in range(int(len(all_cases) / pop_size)):\n",
    "    pop_values = [\n",
    "        case[objective]\n",
    "        for case in all_cases[i*pop_size:(i+1)*pop_size]\n",
    "    ]\n",
    "    best.append(np.max(pop_values))\n",
    "    average.append(np.mean(pop_values))"
   ]
  },
  {
   "cell_type": "code",
   "execution_count": null,
   "id": "4e91b8d2-b761-48ae-8cd5-38034ca47508",
   "metadata": {},
   "outputs": [],
   "source": [
    "import matplotlib.pyplot as plt\n",
    "\n",
    "fig, (ax1, ax2) = plt.subplots(1, 2, figsize=(20, 10))\n",
    "fig.subplots_adjust(left=None, bottom=None, right=None, top=None, wspace=0.5, hspace=None)\n",
    "\n",
    "ax1.plot(np.arange(len(best)), np.array(best))\n",
    "ax1.set(xlabel=\"Population\", ylabel=\"Best Value\", title=\"Optimization History\")\n",
    "ax1.grid()\n",
    "\n",
    "ax2.plot(np.arange(len(average)), np.array(average))\n",
    "ax2.set(xlabel=\"Population\", ylabel=\"average Value\", title=\"Optimization History\")\n",
    "ax2.grid()\n",
    "\n",
    "plt.show()"
   ]
  }
 ],
 "metadata": {
  "kernelspec": {
   "display_name": "Python 3",
   "language": "python",
   "name": "python3"
  },
  "language_info": {
   "codemirror_mode": {
    "name": "ipython",
    "version": 3
   },
   "file_extension": ".py",
   "mimetype": "text/x-python",
   "name": "python",
   "nbconvert_exporter": "python",
   "pygments_lexer": "ipython3",
   "version": "3.9.4"
  }
 },
 "nbformat": 4,
 "nbformat_minor": 5
}
