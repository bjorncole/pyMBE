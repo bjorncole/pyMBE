{
 "cells": [
  {
   "cell_type": "code",
   "execution_count": null,
   "id": "0",
   "metadata": {},
   "outputs": [],
   "source": [
    "import numpy as np\n",
    "import openmdao.api as om"
   ]
  },
  {
   "cell_type": "markdown",
   "id": "1",
   "metadata": {},
   "source": [
    "# Define OpenMDAO Components\n",
    "We'll stick to using `Explicit Component`s for now"
   ]
  },
  {
   "cell_type": "code",
   "execution_count": null,
   "id": "2",
   "metadata": {},
   "outputs": [],
   "source": [
    "class RangeBreguet(om.ExplicitComponent):\n",
    "    \"\"\"This is a simple component to compute the range of an aircraft using the Range Breguet equation.\"\"\"\n",
    "    \n",
    "    def setup(self):\n",
    "        self.add_input(\n",
    "            name=\"l_over_d\",\n",
    "            val=10.0,\n",
    "            desc=\"The Lift-over-Drag parameter\",\n",
    "        )\n",
    "        self.add_input(\n",
    "            name=\"speed\",\n",
    "            val=320.0,\n",
    "            units=\"knot\",\n",
    "            desc=\"Speed of the aircraft\",\n",
    "        )\n",
    "        self.add_input(\n",
    "            name=\"sfc\",\n",
    "            val=0.85,\n",
    "            units=\"1/h\",\n",
    "            desc=\"Specific Fuel Consumption\",\n",
    "        )\n",
    "        self.add_input(\n",
    "            name=\"weight_ratio\",\n",
    "            val=0.75,\n",
    "            desc=\"The weight ratio between the start and end of the segment\",\n",
    "        )\n",
    "\n",
    "        self.add_output(\n",
    "            name=\"range\",\n",
    "            units=\"nmi\",\n",
    "            desc=\"The distance flown by the aircraft in the segment\",\n",
    "        )\n",
    "\n",
    "    def compute(self, inputs, outputs):\n",
    "        outputs[\"range\"] = (\n",
    "            inputs[\"speed\"]\n",
    "            * inputs[\"l_over_d\"]\n",
    "            * -np.log(inputs[\"weight_ratio\"])\n",
    "            / inputs[\"sfc\"]\n",
    "        )"
   ]
  },
  {
   "cell_type": "code",
   "execution_count": null,
   "id": "3",
   "metadata": {},
   "outputs": [],
   "source": [
    "class SquadronRange(om.ExplicitComponent):\n",
    "    def setup(self):\n",
    "        self.add_input(\n",
    "            name=\"aircraft_ranges\",\n",
    "            val=0.0,\n",
    "            units=\"nmi\",\n",
    "            shape_by_conn=True,\n",
    "            desc=\"The range of the various aircraft in the squadron\",\n",
    "        )\n",
    "        self.add_output(\n",
    "            name=\"squadron_range\",\n",
    "            units=\"nmi\",\n",
    "            desc=\"The maximum distance that the squadron can fly\",\n",
    "        )\n",
    "\n",
    "    def compute(self, inputs, outputs):\n",
    "        outputs[\"squadron_range\"] = np.min(inputs[\"aircraft_ranges\"])"
   ]
  },
  {
   "cell_type": "markdown",
   "id": "4",
   "metadata": {},
   "source": [
    "## Instantiate it and Run it"
   ]
  },
  {
   "cell_type": "code",
   "execution_count": null,
   "id": "5",
   "metadata": {},
   "outputs": [],
   "source": [
    "rb = RangeBreguet()\n",
    "rb.setup()\n",
    "\n",
    "inputs={\n",
    "    name: data[\"value\"]\n",
    "    for name, data in rb._static_var_rel2meta.items()\n",
    "}\n",
    "outputs = {}\n",
    "\n",
    "rb.compute(inputs, outputs)\n",
    "outputs[\"range\"]"
   ]
  },
  {
   "cell_type": "markdown",
   "id": "6",
   "metadata": {},
   "source": [
    "# Define OpenMDAO Problem and its Components"
   ]
  },
  {
   "cell_type": "code",
   "execution_count": null,
   "id": "7",
   "metadata": {},
   "outputs": [],
   "source": [
    "# Faux instances, will be refined based on what comes from SysML2\n",
    "instances = [\n",
    "    {\n",
    "        \"id\": i + 1,\n",
    "        \"name\": f\"aircraft_{i + 1}\",\n",
    "    }\n",
    "    for i in range(10)\n",
    "]"
   ]
  },
  {
   "cell_type": "code",
   "execution_count": null,
   "id": "8",
   "metadata": {},
   "outputs": [],
   "source": [
    "prob = om.Problem()\n",
    "model = prob.model\n",
    "\n",
    "# Add the Range Breguet equation components per aircraft instance\n",
    "aircraft_range_comps = [\n",
    "    model.add_subsystem(\n",
    "        name=f\"\"\"{instance[\"name\"]}_range_breguet\"\"\",\n",
    "        subsys=RangeBreguet(),\n",
    "        # promotes_inputs=[\"*\"],\n",
    "    ) for instance in instances\n",
    "]\n",
    "\n",
    "# Add a mux'er to merge inputs from instances\n",
    "mux_comp = model.add_subsystem(\n",
    "    name=\"aircraft_ranges\",\n",
    "    subsys=om.MuxComp(\n",
    "        vec_size=len(instances),\n",
    "    ),\n",
    ")\n",
    "mux_comp.add_var(\"range\", shape=(1,), axis=1, units=\"nmi\")\n",
    "\n",
    "# Note: this does not work, as minimum takes only two inputs...\n",
    "# Add the squadron range calculation\n",
    "# squadron_range = model.add_subsystem(\n",
    "#     \"squadron_range\",\n",
    "#     subsys=om.ExecComp(\n",
    "#         \"squadron_range=minimum(aircraft_ranges)\",\n",
    "#         squadron_range={\"units\": \"nmi\"},\n",
    "#         aircraft_ranges={\"units\": \"nmi\", \"shape\": 10},\n",
    "#     ),\n",
    "# )\n",
    "squadron_range = model.add_subsystem(\n",
    "    \"squadron_range\",\n",
    "    subsys=SquadronRange(),\n",
    ")"
   ]
  },
  {
   "cell_type": "markdown",
   "id": "9",
   "metadata": {},
   "source": [
    "# Connect Variables"
   ]
  },
  {
   "cell_type": "code",
   "execution_count": null,
   "id": "10",
   "metadata": {},
   "outputs": [],
   "source": [
    "for idx, instance in enumerate(instances):\n",
    "    model.connect(\n",
    "        f\"\"\"aircraft_{instance[\"id\"]}_range_breguet.range\"\"\",\n",
    "        f\"\"\"aircraft_ranges.range_{idx}\"\"\",\n",
    "    )\n",
    "\n",
    "model.connect(\n",
    "    \"aircraft_ranges.range\",\n",
    "    \"squadron_range.aircraft_ranges\",\n",
    ")"
   ]
  },
  {
   "cell_type": "markdown",
   "id": "11",
   "metadata": {},
   "source": [
    "# Add an optimizer and define optimization problem"
   ]
  },
  {
   "cell_type": "code",
   "execution_count": null,
   "id": "12",
   "metadata": {},
   "outputs": [],
   "source": [
    "# prob.driver = om.ScipyOptimizeDriver()\n",
    "# prob.driver.options[\"optimizer\"] = \"COBYLA\"\n",
    "\n",
    "prob.driver = om.SimpleGADriver()\n",
    "\n",
    "var_ranges = dict(\n",
    "    l_over_d=(2., 18.),\n",
    "    speed=(100., 200.),\n",
    "    sfc=(0.55, 1.2),\n",
    "    weight_ratio=(0.5, 0.95),\n",
    ")\n",
    "bits_by_var = {}\n",
    "DEFAULT_BITS = 12\n",
    "\n",
    "for instance in instances:\n",
    "    component_name = f\"\"\"aircraft_{instance[\"id\"]}_range_breguet\"\"\"\n",
    "    for var_name, (lower, upper) in var_ranges.items():\n",
    "        full_var_name = f\"{component_name}.{var_name}\"\n",
    "        model.add_design_var(full_var_name, lower, upper)\n",
    "        bits_by_var[full_var_name] = DEFAULT_BITS\n",
    "\n",
    "model.add_objective(\"squadron_range.squadron_range\", scaler=-1.0)"
   ]
  },
  {
   "cell_type": "markdown",
   "id": "13",
   "metadata": {},
   "source": [
    "## Configure the Genetic Algorithm Driver"
   ]
  },
  {
   "cell_type": "code",
   "execution_count": null,
   "id": "14",
   "metadata": {},
   "outputs": [],
   "source": [
    "prob.driver.options[\"gray\"] = True\n",
    "prob.driver.options[\"elitism\"] = True\n",
    "prob.driver.options[\"pop_size\"] = 200\n",
    "prob.driver.options[\"max_gen\"] = 100\n",
    "prob.driver.options[\"debug_print\"] = [\n",
    "    # \"objs\",  # to print objectives values\n",
    "    # \"desvars\",  # to print the design variables, but it is too much\n",
    "]  \n",
    "\n",
    "# TODO: figure out a way to handle this in the future for these types of drivers?\n",
    "prob.driver.options[\"bits\"] = bits_by_var"
   ]
  },
  {
   "cell_type": "markdown",
   "id": "15",
   "metadata": {},
   "source": [
    "## Add a recorder"
   ]
  },
  {
   "cell_type": "code",
   "execution_count": null,
   "id": "16",
   "metadata": {},
   "outputs": [],
   "source": [
    "recorder = om.SqliteRecorder('cases.sql')\n",
    "\n",
    "prob.add_recorder(recorder)"
   ]
  },
  {
   "cell_type": "code",
   "execution_count": null,
   "id": "17",
   "metadata": {},
   "outputs": [],
   "source": [
    "# Setup the problem to run\n",
    "prob.setup()"
   ]
  },
  {
   "cell_type": "code",
   "execution_count": null,
   "id": "18",
   "metadata": {},
   "outputs": [],
   "source": [
    "prob.driver.add_recorder(recorder)\n",
    "prob.set_solver_print(0)"
   ]
  },
  {
   "cell_type": "markdown",
   "id": "19",
   "metadata": {},
   "source": [
    "## We can visualize the $n^2$ diagram"
   ]
  },
  {
   "cell_type": "code",
   "execution_count": null,
   "id": "20",
   "metadata": {},
   "outputs": [],
   "source": [
    "from openmdao.visualization.n2_viewer.n2_viewer import n2\n",
    "\n",
    "n2(prob)"
   ]
  },
  {
   "cell_type": "code",
   "execution_count": null,
   "id": "21",
   "metadata": {},
   "outputs": [],
   "source": [
    "prob.run_model()"
   ]
  },
  {
   "cell_type": "code",
   "execution_count": null,
   "id": "22",
   "metadata": {},
   "outputs": [],
   "source": [
    "prob[\"squadron_range.squadron_range\"]"
   ]
  },
  {
   "cell_type": "code",
   "execution_count": null,
   "id": "23",
   "metadata": {},
   "outputs": [],
   "source": [
    "prob.run_driver()\n",
    "prob.record(\"final_state\")\n",
    "prob.cleanup()"
   ]
  },
  {
   "cell_type": "code",
   "execution_count": null,
   "id": "24",
   "metadata": {},
   "outputs": [],
   "source": [
    "prob[\"squadron_range.aircraft_ranges\"], prob[\"squadron_range.squadron_range\"]"
   ]
  },
  {
   "cell_type": "code",
   "execution_count": null,
   "id": "25",
   "metadata": {},
   "outputs": [],
   "source": [
    "# Instantiate your CaseReader\n",
    "cr = om.CaseReader(\"cases.sql\")\n",
    "\n",
    "# List driver cases (do not recurse to system/solver cases, suppress display)\n",
    "driver_cases = cr.list_cases('driver', recurse=False, out_stream=None)"
   ]
  },
  {
   "cell_type": "code",
   "execution_count": null,
   "id": "26",
   "metadata": {},
   "outputs": [],
   "source": [
    "# Plot the path the design variables took to convergence\n",
    "# Note that there are two lines in the right plot because \"Z\"\n",
    "# contains two variables that are being optimized\n",
    "var_x = \"aircraft_1_range_breguet.speed\"\n",
    "objective = \"squadron_range.squadron_range\"\n",
    "\n",
    "best, average = [], []\n",
    "\n",
    "all_cases = cr.get_cases()\n",
    "pop_size = prob.driver.options[\"pop_size\"]\n",
    "for i in range(int(len(all_cases) / pop_size)):\n",
    "    pop_values = [\n",
    "        case[objective]\n",
    "        for case in all_cases[i*pop_size:(i+1)*pop_size]\n",
    "    ]\n",
    "    best.append(np.max(pop_values))\n",
    "    average.append(np.mean(pop_values))"
   ]
  },
  {
   "cell_type": "code",
   "execution_count": null,
   "id": "27",
   "metadata": {},
   "outputs": [],
   "source": [
    "import matplotlib.pyplot as plt\n",
    "\n",
    "fig, (ax1, ax2) = plt.subplots(1, 2, figsize=(20, 10))\n",
    "fig.subplots_adjust(left=None, bottom=None, right=None, top=None, wspace=0.5, hspace=None)\n",
    "\n",
    "ax1.plot(np.arange(len(best)), np.array(best))\n",
    "ax1.set(xlabel=\"Population\", ylabel=\"Best Value\", title=\"Optimization History\")\n",
    "ax1.grid()\n",
    "\n",
    "ax2.plot(np.arange(len(average)), np.array(average))\n",
    "ax2.set(xlabel=\"Population\", ylabel=\"average Value\", title=\"Optimization History\")\n",
    "ax2.grid()\n",
    "\n",
    "plt.show()"
   ]
  }
 ],
 "metadata": {
  "kernelspec": {
   "display_name": "Python 3",
   "language": "python",
   "name": "python3"
  },
  "language_info": {
   "codemirror_mode": {
    "name": "ipython",
    "version": 3
   },
   "file_extension": ".py",
   "mimetype": "text/x-python",
   "name": "python",
   "nbconvert_exporter": "python",
   "pygments_lexer": "ipython3",
   "version": "3.9.4"
  }
 },
 "nbformat": 4,
 "nbformat_minor": 5
}
