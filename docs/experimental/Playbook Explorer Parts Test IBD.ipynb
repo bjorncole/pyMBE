{
 "cells": [
  {
   "cell_type": "markdown",
   "id": "4b9ecba8-a490-44bf-9a31-b94faa77d3c3",
   "metadata": {},
   "source": [
    "# Playbook Explorer\n",
    "\n",
    "This notebook is intended to be a live example of how to work with SysML v2 models at analysis-time. For these purposes, the following terms are introduced:\n",
    "* An *interpretation* is the mapping of user model symbols (the \"M1 model\" in OMG-speak) into semantically-correct symbols that represent real world objects meant to conform to the model (the \"M0\" in OMG-speak). Interpretation semantics are inspired by https://www.w3.org/TR/owl2-direct-semantics/ and are mostly similar.\n",
    "* A *sequence* for an interpretation contains *atoms* or *instances* that match to real world things. Reading a sequence from left to right provides a set of nested contexts for the atoms that is important to the interpretation. For example [Rocket#0, LS#3] is a 2-sequence to describe facts around the LS#3 atom when it is considered in context for Rocket#0. This is an important idea for the SysML time and occurrence model where one may want to see how values change under different conditions.\n",
    "\n",
    "This is a notebook that walks through the random interpretation generator to help developers working on their own interpreters."
   ]
  },
  {
   "cell_type": "markdown",
   "id": "e405de1e-20e9-4763-a363-ddb6eb6fac9d",
   "metadata": {},
   "source": [
    "## Example Model\n",
    "\n",
    "The model that is used for this example is a very simple parts model.\n",
    "\n",
    "    package 'Simple Parts Model' {\n",
    "        package 'Fake Library' {\n",
    "            part def Part;\n",
    "            port def Port;\n",
    "            connection def Connection;\n",
    "        }\n",
    "    \n",
    "        part 'Power Group' : 'Fake Library'::Part {\n",
    "            part 'Power Source' : 'Fake Library'::Part {\n",
    "                port 'Power Out' : 'Fake Library'::Port;\n",
    "            }\n",
    "            part 'Power User' : 'Fake Library'::Part {\n",
    "                port 'Power In' : 'Fake Library'::Port;\n",
    "            }\n",
    "\n",
    "            connection powerToUser : 'Fake Library'::Connection connect 'Power Source'::'Power Out' to 'Power User'::'Power In';\n",
    "        }\n",
    "    \n",
    "    }"
   ]
  },
  {
   "cell_type": "markdown",
   "id": "5354f8ac-7cd4-4910-8cfc-d5b9e4fd0263",
   "metadata": {},
   "source": [
    "## Imports\n",
    "\n",
    "Import key modules, functions, and classes from the PyMBE library:"
   ]
  },
  {
   "cell_type": "code",
   "execution_count": null,
   "id": "9dd5d23e-7a3a-4a8a-a297-c3598c048c4e",
   "metadata": {},
   "outputs": [],
   "source": [
    "from pathlib import Path\n",
    "import networkx as nx\n",
    "\n",
    "import pymbe.api as pm\n",
    "\n",
    "from pymbe.client import SysML2Client\n",
    "from pymbe.graph.lpg import SysML2LabeledPropertyGraph\n",
    "from pymbe.interpretation.interp_playbooks import (\n",
    "    build_expression_sequence_templates,\n",
    "    build_sequence_templates,\n",
    "    random_generator_playbook,\n",
    ")\n",
    "from pymbe.interpretation.results import *\n",
    "from pymbe.label import get_label_for_id\n",
    "from pymbe.query.metamodel_navigator import feature_multiplicity\n",
    "from pymbe.query.query import (\n",
    "    roll_up_multiplicity,\n",
    "    roll_up_upper_multiplicity,\n",
    "    roll_up_multiplicity_for_type,\n",
    "    get_types_for_feature,\n",
    "    get_features_typed_by_type,\n",
    ")\n",
    "from pymbe.local.stablization import build_stable_id_lookups"
   ]
  },
  {
   "cell_type": "markdown",
   "id": "4781f4e7-9176-4258-a3af-13076eeacb84",
   "metadata": {},
   "source": [
    "## Client Setup\n",
    "\n",
    "The example here uses a local copy of the JSON file obtained by a GET operation on the SysML v2 API at:\n",
    "http://sysml2-sst.intercax.com:9000/projects/a4f6a618-e4eb-4ac8-84b8-d6bcd3badcec/commits/c48aea9b-42fb-49b3-9a3e-9c39385408d7/elements?page[size]=5000"
   ]
  },
  {
   "cell_type": "markdown",
   "id": "9521c0ea-a498-4a37-b2c7-c7c4440157de",
   "metadata": {},
   "source": [
    "Create the client and load local data."
   ]
  },
  {
   "cell_type": "code",
   "execution_count": null,
   "id": "b66f365e-ef81-42ba-bdae-2f5d239abe4f",
   "metadata": {},
   "outputs": [],
   "source": [
    "helper_client = SysML2Client()\n",
    "\n",
    "simple_parts_file = Path(\"..\") / \"tests/fixtures/Simple Parts Model.json\"\n",
    "\n",
    "helper_client._load_from_file(simple_parts_file)"
   ]
  },
  {
   "cell_type": "markdown",
   "id": "f9497fb5-64e1-476f-9d1a-295cc8794a48",
   "metadata": {},
   "source": [
    "Create a graph representation of the model and load it into memory."
   ]
  },
  {
   "cell_type": "code",
   "execution_count": null,
   "id": "8faf098c-8e66-488c-9b28-b6f3a8be6a93",
   "metadata": {},
   "outputs": [],
   "source": [
    "lpg = SysML2LabeledPropertyGraph()\n",
    "lpg.model = helper_client.model"
   ]
  },
  {
   "cell_type": "markdown",
   "id": "1522f0a3-03b8-4784-86fa-ea1e3a59befa",
   "metadata": {},
   "source": [
    "This is just a helper to make abbreviations more legible."
   ]
  },
  {
   "cell_type": "code",
   "execution_count": null,
   "id": "a890ad5d-62bc-4e22-a71e-2d66295c772e",
   "metadata": {},
   "outputs": [],
   "source": [
    "shorten_pre_bake = {}"
   ]
  },
  {
   "cell_type": "markdown",
   "id": "f35e1c75-0746-4297-b159-31dc16adca07",
   "metadata": {},
   "source": [
    "Create an interpretation of the Kerbal model using the random generator playbook. In general, this randomly selects:\n",
    "- The ratios of partitioning abstract classifier sequence sets into concrete sets. For example, one draw may choose 2 liquid stages and 3 solids.\n",
    "- The number of sequences to create for a given feature multiplicity. For example, draw 2 for a 0..8 engines : Liquid Engine PartUsage.\n",
    "\n",
    "The playbook also attempts to make sequences created obey the Subsetting relationship (elements marked with subsets in M1 model should have their interpretation sequences entirely included within the interpretation sequences of the superset)."
   ]
  },
  {
   "cell_type": "code",
   "execution_count": null,
   "id": "beee1167-dc08-4bc7-8784-9cde8c86ba5e",
   "metadata": {},
   "outputs": [],
   "source": [
    "SIMPLE_MODEL = \"Model::Simple Parts Model::\"\n",
    "PARTS_LIBRARY = \"Model::Simple Parts Model::Fake Library::\"\n",
    "\n",
    "name_to_id_lookup = build_stable_id_lookups(lpg)[1]\n",
    "name_to_id_lookup\n",
    "\n",
    "connection_id = name_to_id_lookup[f\"{PARTS_LIBRARY}Connection <<ConnectionDefinition>>\"]\n",
    "power_source_id = name_to_id_lookup[f\"{SIMPLE_MODEL}Power Group: Part::Power Source: Part <<PartUsage>>\"]\n",
    "power_user_id = name_to_id_lookup[f\"{SIMPLE_MODEL}Power Group: Part::Power User: Part <<PartUsage>>\"]\n",
    "part_id = name_to_id_lookup[f\"{PARTS_LIBRARY}Part <<PartDefinition>>\"]\n",
    "power_in_id = name_to_id_lookup[f\"{SIMPLE_MODEL}Power Group: Part::Power User: Part::Power In: Port <<PortUsage>>\"]\n",
    "connect_use_id = name_to_id_lookup[f\"{SIMPLE_MODEL}Power Group: Part::powerToUser: Connection <<ConnectionUsage>>\"]\n",
    "power_group_id = name_to_id_lookup[f\"{SIMPLE_MODEL}Power Group: Part::powerToUser: Connection <<ConnectionUsage>>\"]"
   ]
  },
  {
   "cell_type": "code",
   "execution_count": null,
   "id": "e312d2cb-66ea-4ff4-8dc7-99bb4de175dc",
   "metadata": {},
   "outputs": [],
   "source": [
    "from pymbe.query.query import get_types_for_feature, get_features_typed_by_type, roll_up_multiplicity_for_type"
   ]
  },
  {
   "cell_type": "code",
   "execution_count": null,
   "id": "cc64cbc6-c15b-4f79-84dc-1af698b5963f",
   "metadata": {},
   "outputs": [],
   "source": [
    "m0_interpretation = random_generator_playbook(\n",
    "    lpg,\n",
    "    shorten_pre_bake,\n",
    ")"
   ]
  },
  {
   "cell_type": "markdown",
   "id": "37b882b2-f601-4c61-a8a9-4029b2e7381d",
   "metadata": {},
   "source": [
    "To see how sequences are structured, the cell below renders sequences that show what type of atoms will fill particular positions in the sequence, as well as the maximum multiplicity (number of) sequences."
   ]
  },
  {
   "cell_type": "markdown",
   "id": "461a6537-2b8a-49f4-897b-c57a9888800f",
   "metadata": {},
   "source": [
    "## Calculation Results Shown\n",
    "\n",
    "The following cells are a series of displays of relevant features in the interpretation."
   ]
  },
  {
   "cell_type": "markdown",
   "id": "ed5b0fbd-9d75-45af-971c-b334798340fb",
   "metadata": {},
   "source": [
    "Show all interpretation sequence sets (limited to length of 5)."
   ]
  },
  {
   "cell_type": "code",
   "execution_count": null,
   "id": "54a33294-b833-45f9-a5f9-f70b9231aa96",
   "metadata": {},
   "outputs": [],
   "source": [
    "for print_line in pprint_interpretation(m0_interpretation, lpg.model):\n",
    "    print(print_line)"
   ]
  },
  {
   "cell_type": "markdown",
   "id": "0852058a-243f-4ad3-bb0d-eb657ca07068",
   "metadata": {},
   "source": [
    "# Lets make that IBD"
   ]
  },
  {
   "cell_type": "code",
   "execution_count": null,
   "id": "7c5b9944-ed26-4c82-8e41-85b1e896aa6a",
   "metadata": {},
   "outputs": [],
   "source": [
    "from pprint import pprint\n",
    "from collections import defaultdict\n",
    "\n",
    "\n",
    "connector_usagetypes = (\"ConnectionUsage\", \"SuccessionUsage\")\n",
    "elements = lpg.model.elements\n",
    "\n",
    "connectors, m1_connectors = [], []\n",
    "for id_, sequences in m0_interpretation.items():\n",
    "    element = elements[id_]\n",
    "    if element[\"@type\"] in connector_usagetypes:\n",
    "        connectors += [connector_usage for *_, connector_usage in sequences]\n",
    "        src, tgt = element[\"connectorEnd\"][:2]\n",
    "        src, tgt = src[\"@id\"], tgt[\"@id\"]\n",
    "        m1_connectors += [(element[\"@id\"], src, tgt)]\n",
    "\n",
    "to_parent = {}\n",
    "for id_, sequences in m0_interpretation.items():\n",
    "    element = elements[id_]\n",
    "    if element[\"@type\"] in (\"PartUsage\", \"PortUsage\"):\n",
    "        for sequence in sequences:\n",
    "            parent = sequence[0]\n",
    "            for child in sequence[1:]:\n",
    "                to_parent[child] = parent\n",
    "                parent = child\n",
    "    \n",
    "pprint(dict(to_parent))"
   ]
  },
  {
   "cell_type": "markdown",
   "id": "1982ba4f-752f-4541-ac8d-9a7c346c3c84",
   "metadata": {},
   "source": [
    "# Find M0 Source and Targets for Each M0 Connector\n",
    "> This is hacky AF but it works..."
   ]
  },
  {
   "cell_type": "code",
   "execution_count": null,
   "id": "ab1fe967-311f-4403-93dc-8b80fe3ea7aa",
   "metadata": {},
   "outputs": [],
   "source": [
    "m0_connectors = []\n",
    "for conn_usage, src, tgt in m1_connectors:\n",
    "    for m0_conn_usage in m0_interpretation[conn_usage._id]:\n",
    "        num_items = len(m0_conn_usage)\n",
    "        for m0_src in m0_interpretation[src._id]:\n",
    "            if m0_src[:num_items] == m0_conn_usage:\n",
    "                m0_src = m0_src[-1]\n",
    "                break\n",
    "        for m0_tgt in m0_interpretation[tgt._id]:\n",
    "            if m0_tgt[:num_items] == m0_conn_usage:\n",
    "                m0_tgt = m0_tgt[-1]\n",
    "                break\n",
    "        m0_connectors += [(tuple(m0_conn_usage), m0_src, m0_tgt)]\n",
    "m0_connectors"
   ]
  },
  {
   "cell_type": "markdown",
   "id": "fbd3300f-1213-4596-bfc5-2b7ff633f41f",
   "metadata": {},
   "source": [
    "# Draw the Diagram"
   ]
  },
  {
   "cell_type": "code",
   "execution_count": null,
   "id": "0fde7b5f-41ab-4c4e-a4da-149e15093d36",
   "metadata": {},
   "outputs": [],
   "source": [
    "import ipywidgets as ipyw\n",
    "from pymbe.widget.diagram.parts import Part\n",
    "from pymbe.widget.diagram.part_diagram import PartDiagram\n",
    "from pymbe.widget.diagram.relationships import Relationship\n",
    "\n",
    "import ipyelk as IE\n",
    "\n",
    "from ipyelk.elements import Compartment, Edge, Label, Node, Port, NodeShape, NodeProperties\n",
    "from ipyelk.elements.shapes import Widget"
   ]
  },
  {
   "cell_type": "code",
   "execution_count": null,
   "id": "aa1b22c8-3ce3-4574-9041-6c1929ad6497",
   "metadata": {},
   "outputs": [],
   "source": [
    "m0_connectors"
   ]
  },
  {
   "cell_type": "code",
   "execution_count": null,
   "id": "89963d20-9f49-497f-9953-f1b6f54bfbb4",
   "metadata": {},
   "outputs": [],
   "source": [
    "diagram = IE.Diagram(layout={\"height\": \"100%\"})\n",
    "diagram"
   ]
  },
  {
   "cell_type": "code",
   "execution_count": null,
   "id": "e9349fca-4a77-404f-b694-9ecf4d8a264d",
   "metadata": {},
   "outputs": [],
   "source": [
    "parts = {\n",
    "    instance: Node(\n",
    "        layoutOptions={\n",
    "            \"org.eclipse.elk.portLabels.placement\": \"INSIDE\",\n",
    "            \"org.eclipse.elk.nodeSize.constraints\": \"NODE_LABELS PORTS PORT_LABELS MINIMUM_SIZE\",\n",
    "            \"org.eclipse.elk.nodeLabels.placement\": \"H_CENTER V_CENTER\",\n",
    "        },\n",
    "        labels=[\n",
    "            Label(text=instance.name)\n",
    "            # for part in (instance.name.split(\"#\")[0], instance.name)\n",
    "        ],\n",
    "        # Leaving the commented out code for future reference\n",
    "#         properties=NodeProperties(shape=Widget(\n",
    "#             widget=ipyw.Text(),\n",
    "#             width=200,\n",
    "#             height=100,\n",
    "#         )),\n",
    "    )\n",
    "    for instance in set([*to_parent, *to_parent.values()])\n",
    "}"
   ]
  },
  {
   "cell_type": "code",
   "execution_count": null,
   "id": "df03a6b4-f66e-4213-8757-c9601570842f",
   "metadata": {},
   "outputs": [],
   "source": [
    "part_diagram = PartDiagram()\n",
    "\n",
    "compartments = {}\n",
    "ports = {}\n",
    "\n",
    "\n",
    "for instance, part in parts.items():\n",
    "    parent = parts.get(to_parent.get(instance, None), None)\n",
    "    if parent is None:\n",
    "        part_diagram.add_child(part)\n",
    "        continue\n",
    "    if instance.name.startswith(\"Port\"):\n",
    "        ports[instance] = parent.add_port(\n",
    "            Port(\n",
    "                labels=[Label(\n",
    "                    text=instance.name, #.split(\"#\")[-1],\n",
    "                )],\n",
    "                layoutOptions={\n",
    "                    \"org.eclipse.elk.port.borderOffset\": \"-15\"\n",
    "                },\n",
    "                height=15,\n",
    "                width=15,\n",
    "            )\n",
    "        )\n",
    "    else:\n",
    "        if not hasattr(parent, \"parts\"):\n",
    "            parent.parts = Node()\n",
    "        parent.parts.add_child(part)"
   ]
  },
  {
   "cell_type": "code",
   "execution_count": null,
   "id": "f75043f0-043c-41a2-93a7-e80584a615c3",
   "metadata": {},
   "outputs": [],
   "source": [
    "self_edges = []\n",
    "for connector, src, tgt in m0_connectors:\n",
    "    edge = parent.add_edge(source=ports[src], target=ports[tgt])\n",
    "    if ports[src].get_parent() == ports[tgt].get_parent():\n",
    "        self_edges.append(edge)"
   ]
  },
  {
   "cell_type": "code",
   "execution_count": null,
   "id": "9615b790-76ed-45de-982a-8f753b34431c",
   "metadata": {},
   "outputs": [],
   "source": [
    "loader = IE.ElementLoader()\n",
    "diagram.source = loader.load(part_diagram)\n",
    "diagram.style = part_diagram.style\n",
    "diagram.view.symbols = part_diagram.symbols"
   ]
  },
  {
   "cell_type": "code",
   "execution_count": null,
   "id": "66a90077-8b7f-42ff-a029-5f0fbbd7622a",
   "metadata": {},
   "outputs": [],
   "source": [
    "[edge.id for edge in self_edges]"
   ]
  },
  {
   "cell_type": "code",
   "execution_count": null,
   "id": "817f88d7-76b8-4cd3-b991-1ce1db8b94d0",
   "metadata": {},
   "outputs": [],
   "source": [
    "val = diagram.pipe.pipes[0]\n",
    "val.errors"
   ]
  },
  {
   "cell_type": "markdown",
   "id": "0bb376c4-90ef-47b8-b2fe-cecff4de0847",
   "metadata": {},
   "source": [
    "--------------\n",
    "\n",
    "> All below is for troubleshooting"
   ]
  },
  {
   "cell_type": "code",
   "execution_count": null,
   "id": "defe8e4c-9cdf-4e5f-b3fc-3e77af6c25e0",
   "metadata": {},
   "outputs": [],
   "source": [
    "loader.default_root_opts"
   ]
  },
  {
   "cell_type": "code",
   "execution_count": null,
   "id": "acc100a7-ec61-46b8-b46d-d8325875d7b1",
   "metadata": {},
   "outputs": [],
   "source": [
    "loader.default_node_opts"
   ]
  },
  {
   "cell_type": "code",
   "execution_count": null,
   "id": "585e83ec-4431-47f0-b049-a52683d4922a",
   "metadata": {},
   "outputs": [],
   "source": [
    "from ipyelk.elements import Edge, Label, Node, Port\n",
    "from ipyelk import from_element\n",
    "\n",
    "\n",
    "node = Node(\n",
    "    labels=[Label(text=\"Node\")],\n",
    "    layoutOptions={\n",
    "        'org.eclipse.elk.nodeSize.constraints': 'NODE_LABELS PORTS PORT_LABELS MINIMUM_SIZE',\n",
    "        'org.eclipse.elk.hierarchyHandling': 'INCLUDE_CHILDREN',\n",
    "    },\n",
    "    height=200,\n",
    "    width=200,\n",
    ")\n",
    "port1 = Port(\n",
    "    labels=[Label(text=\"1\")],\n",
    "    width=10,\n",
    "    height=10,\n",
    ")\n",
    "\n",
    "port2 = Port(\n",
    "    labels=[Label(text=\"2\")],\n",
    "    width=10,\n",
    "    height=10,\n",
    ")\n",
    "node.add_port(port1)\n",
    "node.add_port(port2)\n",
    "\n",
    "node.add_edge(source=port1, target=port2)\n",
    "\n",
    "diagram = from_element(node)\n",
    "diagram"
   ]
  },
  {
   "cell_type": "code",
   "execution_count": null,
   "id": "7c54b24f-c9de-4e9d-bb1c-32e67bcbd7d7",
   "metadata": {},
   "outputs": [],
   "source": [
    "JSON(diagram.view.source.value.dict())"
   ]
  },
  {
   "cell_type": "code",
   "execution_count": null,
   "id": "b680c913-e4d1-4b25-9fc5-a7886828e0d1",
   "metadata": {},
   "outputs": [],
   "source": [
    "diagram.pipe.exception"
   ]
  }
 ],
 "metadata": {
  "kernelspec": {
   "display_name": "Python 3 (ipykernel)",
   "language": "python",
   "name": "python3"
  },
  "language_info": {
   "codemirror_mode": {
    "name": "ipython",
    "version": 3
   },
   "file_extension": ".py",
   "mimetype": "text/x-python",
   "name": "python",
   "nbconvert_exporter": "python",
   "pygments_lexer": "ipython3",
   "version": "3.9.5"
  }
 },
 "nbformat": 4,
 "nbformat_minor": 5
}
