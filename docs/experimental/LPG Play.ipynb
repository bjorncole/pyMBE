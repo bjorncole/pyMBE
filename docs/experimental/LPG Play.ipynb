{
 "cells": [
  {
   "cell_type": "markdown",
   "id": "0",
   "metadata": {},
   "source": [
    "# Labeled Property Graph Play\n",
    "\n",
    "The notebook looks at working with the LPG from SysML v2 clients"
   ]
  },
  {
   "cell_type": "code",
   "execution_count": null,
   "id": "1",
   "metadata": {},
   "outputs": [],
   "source": [
    "import pymbe.api as pm\n",
    "from pymbe.label import get_label\n",
    "import networkx as nx\n",
    "import matplotlib.pyplot as plt\n",
    "\n",
    "from pymbe.interpretation.interp_playbooks import random_generator_playbook\n",
    "from pymbe.interpretation.results import pprint_interpretation\n",
    "\n",
    "from pymbe.query.metamodel_navigator import map_inputs_to_results"
   ]
  },
  {
   "cell_type": "code",
   "execution_count": null,
   "id": "2",
   "metadata": {},
   "outputs": [],
   "source": [
    "pm.UI.new(host_url=\"http://sysml2-sst.intercax.com\")"
   ]
  },
  {
   "cell_type": "code",
   "execution_count": null,
   "id": "3",
   "metadata": {},
   "outputs": [],
   "source": [
    "ui, *_ = _.children\n",
    "client, tree, inspector, lpg, interpreter = ui.children"
   ]
  },
  {
   "cell_type": "code",
   "execution_count": null,
   "id": "4",
   "metadata": {},
   "outputs": [],
   "source": [
    "ui, *_ = _.children\n",
    "client, tree, inspector, lpg, interpreter = ui.children\n",
    "client.project_selector.value = client.project_selector.options[\"Kerbal\"]\n",
    "client._download_elements()"
   ]
  },
  {
   "cell_type": "code",
   "execution_count": null,
   "id": "5",
   "metadata": {},
   "outputs": [],
   "source": [
    "client.project_selector.value"
   ]
  },
  {
   "cell_type": "code",
   "execution_count": null,
   "id": "6",
   "metadata": {},
   "outputs": [],
   "source": [
    "client.commit_selector.value"
   ]
  },
  {
   "cell_type": "code",
   "execution_count": null,
   "id": "7",
   "metadata": {},
   "outputs": [],
   "source": [
    "shorten_pre_bake = {\n",
    "    'RT-10 \"Hammer\" Solid Fuel Booster': \"RT-10\",\n",
    "    'RT-5 \"Flea\" Solid Fuel Booster': \"RT-5\",\n",
    "    'LV-T45 \"Swivel\" Liquid Fuel Engine': \"LV-T45\",\n",
    "    'FL-T100 Fuel Tank': \"FL-T100\",\n",
    "    'FL-T200 Fuel Tank': \"FL-T200\"\n",
    "}"
   ]
  },
  {
   "cell_type": "code",
   "execution_count": null,
   "id": "8",
   "metadata": {},
   "outputs": [],
   "source": [
    "random_rez = random_generator_playbook(\n",
    "    client,\n",
    "    lpg,\n",
    "    shorten_pre_bake\n",
    ")"
   ]
  },
  {
   "cell_type": "code",
   "execution_count": null,
   "id": "9",
   "metadata": {},
   "outputs": [],
   "source": [
    "random_rez['2caccce7-a0b4-4926-8f24-0dbffb92f6ad']"
   ]
  },
  {
   "cell_type": "code",
   "execution_count": null,
   "id": "10",
   "metadata": {},
   "outputs": [],
   "source": [
    "random_rez['478a8a4d-90c7-44fd-a2ae-e4057636d4bc']"
   ]
  },
  {
   "cell_type": "code",
   "execution_count": null,
   "id": "11",
   "metadata": {},
   "outputs": [],
   "source": [
    "from pymbe.interpretation.calc_dependencies import generate_execution_order"
   ]
  },
  {
   "cell_type": "code",
   "execution_count": null,
   "id": "12",
   "metadata": {},
   "outputs": [],
   "source": [
    "dcg = generate_execution_order(lpg, random_rez)"
   ]
  },
  {
   "cell_type": "code",
   "execution_count": null,
   "id": "13",
   "metadata": {},
   "outputs": [],
   "source": [
    "from pymbe.label import get_label_for_id\n",
    "[(get_label_for_id(line[0], lpg.nodes), get_label_for_id(line[1], lpg.nodes), line[2]) for line in dcg]"
   ]
  },
  {
   "cell_type": "code",
   "execution_count": null,
   "id": "14",
   "metadata": {},
   "outputs": [],
   "source": [
    "from pymbe.graph.calc_lpg import CalculationGroup\n",
    "cg = CalculationGroup(lpg.get_projection(\"Expression Inferred Graph\"), random_rez, dcg)"
   ]
  },
  {
   "cell_type": "code",
   "execution_count": null,
   "id": "15",
   "metadata": {},
   "outputs": [],
   "source": [
    "random_rez['7231441b-4a41-468b-b3a0-aac229c5f12d']"
   ]
  },
  {
   "cell_type": "code",
   "execution_count": null,
   "id": "16",
   "metadata": {},
   "outputs": [],
   "source": [
    "cg.solve_graph(lpg)"
   ]
  },
  {
   "cell_type": "markdown",
   "id": "17",
   "metadata": {},
   "source": [
    "This is the reference to the interpretation of the result parameter of the literal expression assigning a value."
   ]
  },
  {
   "cell_type": "code",
   "execution_count": null,
   "id": "18",
   "metadata": {},
   "outputs": [],
   "source": [
    "random_rez['e63383e0-14bd-433f-a614-8033bc0c0718']"
   ]
  },
  {
   "cell_type": "markdown",
   "id": "19",
   "metadata": {},
   "source": [
    "This is the reference to the interpretation of the tank Empty Mass attribute usage."
   ]
  },
  {
   "cell_type": "code",
   "execution_count": null,
   "id": "20",
   "metadata": {},
   "outputs": [],
   "source": [
    "random_rez['90585a2c-f8ff-4237-8d40-34523645ec04']"
   ]
  },
  {
   "cell_type": "code",
   "execution_count": null,
   "id": "21",
   "metadata": {},
   "outputs": [],
   "source": [
    "random_rez['c65d9f75-e9c0-474c-a269-29bc1a01a9d2']"
   ]
  },
  {
   "cell_type": "code",
   "execution_count": null,
   "id": "22",
   "metadata": {},
   "outputs": [],
   "source": [
    "random_rez['ddd03b91-b830-4bb0-aaae-41329a7d955f']"
   ]
  },
  {
   "cell_type": "code",
   "execution_count": null,
   "id": "23",
   "metadata": {},
   "outputs": [],
   "source": []
  }
 ],
 "metadata": {
  "kernelspec": {
   "display_name": "Python 3",
   "language": "python",
   "name": "python3"
  },
  "language_info": {
   "codemirror_mode": {
    "name": "ipython",
    "version": 3
   },
   "file_extension": ".py",
   "mimetype": "text/x-python",
   "name": "python",
   "nbconvert_exporter": "python",
   "pygments_lexer": "ipython3",
   "version": "3.9.4"
  }
 },
 "nbformat": 4,
 "nbformat_minor": 5
}
