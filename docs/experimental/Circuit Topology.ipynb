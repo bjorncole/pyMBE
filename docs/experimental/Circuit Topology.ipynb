{
 "cells": [
  {
   "cell_type": "markdown",
   "id": "0",
   "metadata": {},
   "source": [
    "Using NetworkX to explore an electrical circuit topology."
   ]
  },
  {
   "cell_type": "code",
   "execution_count": null,
   "id": "1",
   "metadata": {},
   "outputs": [],
   "source": [
    "import networkx as nx\n",
    "import matplotlib.pyplot as plt"
   ]
  },
  {
   "cell_type": "code",
   "execution_count": null,
   "id": "2",
   "metadata": {},
   "outputs": [],
   "source": [
    "internal_edge_list = [\n",
    "    (\"R1 Neg\", \"R1 Pos\"),\n",
    "    (\"R2 Neg\", \"R2 Pos\"),\n",
    "    (\"D1 Neg\", \"D1 Pos\"),\n",
    "    (\"R3 Neg\", \"R3 Pos\")\n",
    "]"
   ]
  },
  {
   "cell_type": "code",
   "execution_count": null,
   "id": "3",
   "metadata": {},
   "outputs": [],
   "source": [
    "connect_edge_list = [\n",
    "    (\"EMF Pos\", \"R1 Neg\"),\n",
    "    (\"R1 Pos\", \"D1 Neg\"),\n",
    "    (\"R1 Pos\", \"R2 Neg\"),\n",
    "    (\"R2 Pos\", \"R3 Neg\"),\n",
    "    (\"R3 Pos\", \"EMF Neg\"),\n",
    "    (\"D1 Pos\", \"EMF Neg\"),\n",
    "]"
   ]
  },
  {
   "cell_type": "code",
   "execution_count": null,
   "id": "4",
   "metadata": {},
   "outputs": [],
   "source": [
    "color_dict = {\n",
    "    \"blue\": [\"R1 Neg\", \"R1 Pos\", \"R2 Neg\", \"R2 Pos\", \"R3 Neg\", \"R3 Pos\"],\n",
    "    \"#A020F0\": [\"D1 Neg\", \"D1 Pos\"],\n",
    "    \"red\": [\"EMF Neg\", \"EMF Pos\"]\n",
    "}"
   ]
  },
  {
   "cell_type": "code",
   "execution_count": null,
   "id": "5",
   "metadata": {},
   "outputs": [],
   "source": [
    "circuit_graph = nx.DiGraph()"
   ]
  },
  {
   "cell_type": "code",
   "execution_count": null,
   "id": "6",
   "metadata": {},
   "outputs": [],
   "source": [
    "circuit_graph.add_edges_from(internal_edge_list + connect_edge_list)"
   ]
  },
  {
   "cell_type": "code",
   "execution_count": null,
   "id": "7",
   "metadata": {},
   "outputs": [],
   "source": [
    "node_pos = nx.kamada_kawai_layout(circuit_graph)"
   ]
  },
  {
   "cell_type": "code",
   "execution_count": null,
   "id": "8",
   "metadata": {},
   "outputs": [],
   "source": [
    "node_pos"
   ]
  },
  {
   "cell_type": "code",
   "execution_count": null,
   "id": "9",
   "metadata": {},
   "outputs": [],
   "source": [
    "for color, colored_nodes in color_dict.items():\n",
    "    poses = {\n",
    "        node: loc\n",
    "        for node, loc in node_pos.items() if node in colored_nodes\n",
    "    }\n",
    "    nx.draw_networkx_nodes(circuit_graph, poses, nodelist=list(poses.keys()), node_size=600, node_color=color)\n",
    "    \n",
    "nx.draw_networkx_edges(circuit_graph, node_pos, edgelist=connect_edge_list, edge_color=\"blue\")\n",
    "nx.draw_networkx_edges(circuit_graph, node_pos, edgelist=internal_edge_list, edge_color=\"red\")\n",
    "\n",
    "labels = {\n",
    "    node_name: node_name for node_name in node_pos\n",
    "}\n",
    "label_options = {\"ec\": \"k\", \"fc\": \"white\", \"alpha\": 0.9}\n",
    "nx.draw_networkx_labels(circuit_graph, node_pos, labels, font_size=8, font_color=\"Black\", bbox=label_options)"
   ]
  },
  {
   "cell_type": "code",
   "execution_count": null,
   "id": "10",
   "metadata": {},
   "outputs": [],
   "source": []
  }
 ],
 "metadata": {
  "kernelspec": {
   "display_name": "Python 3 (ipykernel)",
   "language": "python",
   "name": "python3"
  },
  "language_info": {
   "codemirror_mode": {
    "name": "ipython",
    "version": 3
   },
   "file_extension": ".py",
   "mimetype": "text/x-python",
   "name": "python",
   "nbconvert_exporter": "python",
   "pygments_lexer": "ipython3",
   "version": "3.9.6"
  }
 },
 "nbformat": 4,
 "nbformat_minor": 5
}
