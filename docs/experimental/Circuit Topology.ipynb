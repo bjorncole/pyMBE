{
 "cells": [
  {
   "cell_type": "markdown",
   "id": "1e4fd219-6dfb-49b2-bca8-436db1dbfe09",
   "metadata": {},
   "source": [
    "Using NetworkX to explore an electrical circuit topology."
   ]
  },
  {
   "cell_type": "code",
   "execution_count": 1,
   "id": "34a508fb-4730-4b1e-b44a-51c710897d54",
   "metadata": {},
   "outputs": [],
   "source": [
    "import networkx as nx\n",
    "import matplotlib.pyplot as plt"
   ]
  },
  {
   "cell_type": "code",
   "execution_count": 2,
   "id": "d1727134-7256-4ed6-add0-dcc74c4ba08d",
   "metadata": {},
   "outputs": [],
   "source": [
    "internal_edge_list = [\n",
    "    (\"R1 Neg\", \"R1 Pos\"),\n",
    "    (\"R2 Neg\", \"R2 Pos\"),\n",
    "    (\"D1 Neg\", \"D1 Pos\"),\n",
    "    (\"R3 Neg\", \"R3 Pos\")\n",
    "]"
   ]
  },
  {
   "cell_type": "code",
   "execution_count": 3,
   "id": "93fcff4f-fe9f-4850-8faf-2d83c857b658",
   "metadata": {},
   "outputs": [],
   "source": [
    "connect_edge_list = [\n",
    "    (\"EMF Pos\", \"R1 Neg\"),\n",
    "    (\"R1 Pos\", \"D1 Neg\"),\n",
    "    (\"R1 Pos\", \"R2 Neg\"),\n",
    "    (\"R2 Pos\", \"R3 Neg\"),\n",
    "    (\"R3 Pos\", \"EMF Neg\"),\n",
    "    (\"D1 Pos\", \"EMF Neg\"),\n",
    "]"
   ]
  },
  {
   "cell_type": "code",
   "execution_count": 4,
   "id": "3fb7f0bb-c168-4415-97d4-41dea6ecc31e",
   "metadata": {},
   "outputs": [],
   "source": [
    "color_dict = {\n",
    "    \"blue\": [\"R1 Neg\", \"R1 Pos\", \"R2 Neg\", \"R2 Pos\", \"R3 Neg\", \"R3 Pos\"],\n",
    "    \"#A020F0\": [\"D1 Neg\", \"D1 Pos\"],\n",
    "    \"red\": [\"EMF Neg\", \"EMF Pos\"]\n",
    "}"
   ]
  },
  {
   "cell_type": "code",
   "execution_count": 5,
   "id": "37a4bf5a-8a74-4667-9678-6b831e20a0a9",
   "metadata": {},
   "outputs": [],
   "source": [
    "circuit_graph = nx.DiGraph()"
   ]
  },
  {
   "cell_type": "code",
   "execution_count": 6,
   "id": "0ace14f9-adf3-4815-a54f-ee888f2c3fd6",
   "metadata": {},
   "outputs": [],
   "source": [
    "circuit_graph.add_edges_from(internal_edge_list + connect_edge_list)"
   ]
  },
  {
   "cell_type": "code",
   "execution_count": 7,
   "id": "2fb66201-da5d-4bc3-9e58-bf4ea219fa75",
   "metadata": {},
   "outputs": [],
   "source": [
    "node_pos = nx.kamada_kawai_layout(circuit_graph)"
   ]
  },
  {
   "cell_type": "code",
   "execution_count": 8,
   "id": "a0e4666c-67c8-47db-ace2-ff39ca599c81",
   "metadata": {},
   "outputs": [
    {
     "data": {
      "text/plain": [
       "{'R1 Neg': array([0.67773802, 0.0598481 ]),\n",
       " 'R1 Pos': array([0.34525184, 0.0759176 ]),\n",
       " 'R2 Neg': array([0.10365002, 0.31490686]),\n",
       " 'R2 Pos': array([-0.23494755,  0.31680085]),\n",
       " 'D1 Neg': array([ 0.06054838, -0.10194618]),\n",
       " 'D1 Pos': array([-0.22087253, -0.2721648 ]),\n",
       " 'R3 Neg': array([-0.5321336 ,  0.14976348]),\n",
       " 'R3 Pos': array([-0.68997638, -0.1557316 ]),\n",
       " 'EMF Pos': array([1.        , 0.05870214]),\n",
       " 'EMF Neg': array([-0.5092582 , -0.44609646])}"
      ]
     },
     "execution_count": 8,
     "metadata": {},
     "output_type": "execute_result"
    }
   ],
   "source": [
    "node_pos"
   ]
  },
  {
   "cell_type": "code",
   "execution_count": 31,
   "id": "7bb19ab6-cc95-4983-b47c-9d9b55df8618",
   "metadata": {},
   "outputs": [
    {
     "data": {
      "text/plain": [
       "{'R1 Neg': Text(0.6777380167879264, 0.05984810486966587, 'R1 Neg'),\n",
       " 'R1 Pos': Text(0.34525184132745734, 0.07591760143197503, 'R1 Pos'),\n",
       " 'R2 Neg': Text(0.1036500196637759, 0.314906862261936, 'R2 Neg'),\n",
       " 'R2 Pos': Text(-0.2349475462664004, 0.31680084560163935, 'R2 Pos'),\n",
       " 'D1 Neg': Text(0.06054838045218313, -0.10194617792519632, 'D1 Neg'),\n",
       " 'D1 Pos': Text(-0.2208725278791149, -0.27216479711700486, 'D1 Pos'),\n",
       " 'R3 Neg': Text(-0.5321335982420786, 0.14976347776146173, 'R3 Neg'),\n",
       " 'R3 Pos': Text(-0.6899763811428207, -0.15573160223007906, 'R3 Pos'),\n",
       " 'EMF Pos': Text(1.0, 0.05870214159279685, 'EMF Pos'),\n",
       " 'EMF Neg': Text(-0.5092582047009284, -0.4460964562471946, 'EMF Neg')}"
      ]
     },
     "execution_count": 31,
     "metadata": {},
     "output_type": "execute_result"
    },
    {
     "data": {
      "image/png": "[encoded data removed]",
      "text/plain": [
       "<Figure size 432x288 with 1 Axes>"
      ]
     },
     "metadata": {},
     "output_type": "display_data"
    }
   ],
   "source": [
    "for color, colored_nodes in color_dict.items():\n",
    "    poses = {\n",
    "        node: loc\n",
    "        for node, loc in node_pos.items() if node in colored_nodes\n",
    "    }\n",
    "    nx.draw_networkx_nodes(circuit_graph, poses, nodelist=list(poses.keys()), node_size=600, node_color=color)\n",
    "    \n",
    "nx.draw_networkx_edges(circuit_graph, node_pos, edgelist=connect_edge_list, edge_color=\"blue\")\n",
    "nx.draw_networkx_edges(circuit_graph, node_pos, edgelist=internal_edge_list, edge_color=\"red\")\n",
    "\n",
    "labels = {\n",
    "    node_name: node_name for node_name in node_pos\n",
    "}\n",
    "label_options = {\"ec\": \"k\", \"fc\": \"white\", \"alpha\": 0.9}\n",
    "nx.draw_networkx_labels(circuit_graph, node_pos, labels, font_size=8, font_color=\"Black\", bbox=label_options)"
   ]
  },
  {
   "cell_type": "code",
   "execution_count": null,
   "id": "52b05e8d-391d-47ad-b194-92e49b07d2ab",
   "metadata": {},
   "outputs": [],
   "source": []
  }
 ],
 "metadata": {
  "kernelspec": {
   "display_name": "Python 3 (ipykernel)",
   "language": "python",
   "name": "python3"
  },
  "language_info": {
   "codemirror_mode": {
    "name": "ipython",
    "version": 3
   },
   "file_extension": ".py",
   "mimetype": "text/x-python",
   "name": "python",
   "nbconvert_exporter": "python",
   "pygments_lexer": "ipython3",
   "version": "3.9.6"
  }
 },
 "nbformat": 4,
 "nbformat_minor": 5
}
