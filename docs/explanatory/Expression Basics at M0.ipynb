{
 "cells": [
  {
   "cell_type": "markdown",
   "id": "b061ac37",
   "metadata": {},
   "source": [
    "# Basics of Expression at M0\n",
    "\n",
    "This notebook walks through the basics of executing Expressions at M0 after they are generated from M1. "
   ]
  },
  {
   "cell_type": "code",
   "execution_count": null,
   "id": "5d72a012",
   "metadata": {},
   "outputs": [],
   "source": [
    "from pathlib import Path\r\n",
    "\r\n",
    "import pymbe.api as pm\r\n",
    "\r\n",
    "from pymbe.client import SysML2Client\r\n",
    "from pymbe.graph.calc_lpg import CalculationGroup\r\n",
    "from pymbe.graph.lpg import SysML2LabeledPropertyGraph\r\n",
    "from pymbe.interpretation.calc_dependencies import (\r\n",
    "    generate_execution_order,\r\n",
    "    generate_parameter_signature_map,\r\n",
    ")\r\n",
    "from pymbe.interpretation.interp_playbooks import (\r\n",
    "    build_expression_sequence_templates,\r\n",
    "    build_sequence_templates,\r\n",
    "    random_generator_playbook,\r\n",
    ")\r\n",
    "from pymbe.interpretation.results import (\r\n",
    "    pprint_calc_steps,\r\n",
    "    pprint_double_id_list,\r\n",
    ")\r\n",
    "from pymbe.label import get_label_for_id\r\n",
    "from pymbe.local.stablization import build_stable_id_lookups"
   ]
  },
  {
   "cell_type": "code",
   "execution_count": null,
   "id": "517baef0",
   "metadata": {},
   "outputs": [],
   "source": [
    "parts_client = SysML2Client()\r\n",
    "\r\n",
    "simple_parts_file = Path(pm.__file__).parent / \"../../tests/fixtures/Simple Expressions.json\"\r\n",
    "\r\n",
    "parts_client._load_from_file(simple_parts_file)\r\n",
    "\r\n",
    "parts_lpg = SysML2LabeledPropertyGraph()\r\n",
    "parts_lpg.model = parts_client.model\r\n",
    "\r\n",
    "SIMPLE_MODEL = \"Model::Simple Parts Model::\"\r\n",
    "\r\n",
    "[id_to_parts_name_lookup, parts_name_to_id_lookup] = build_stable_id_lookups(parts_lpg)\r\n",
    "\r\n",
    "parts_lpg.model.max_multiplicity = 10"
   ]
  },
  {
   "cell_type": "markdown",
   "id": "9e04cfb0",
   "metadata": {},
   "source": [
    "## Simple Expressions Example\n",
    "\n",
    "### Calculation Order\n",
    "\n",
    "Once the M1 model has been studied, an order of computation can be generated where knowns propagate to unknowns.\n",
    "\n",
    "Literal expressions and Feature Reference Expressions should be run first, since there are either no inputs (literal expressions) or the inputs are pre-determined (feature reference expressions)."
   ]
  },
  {
   "cell_type": "code",
   "execution_count": null,
   "id": "697a74f9",
   "metadata": {},
   "outputs": [],
   "source": [
    "calc_order = generate_execution_order(parts_lpg)\r\n",
    "calc_order[0]"
   ]
  },
  {
   "cell_type": "code",
   "execution_count": null,
   "id": "643ec1b8",
   "metadata": {},
   "outputs": [],
   "source": [
    "parts_lpg.model.elements[calc_order[0][0]].qualifiedName"
   ]
  },
  {
   "cell_type": "code",
   "execution_count": null,
   "id": "6268e1a6",
   "metadata": {},
   "outputs": [],
   "source": [
    "filtered_order = [\r\n",
    "    filtered_entry for filtered_entry in calc_order\r\n",
    "    if parts_lpg.model.elements[filtered_entry[0]].qualifiedName.startswith(\"'Simple Expressions'\")\r\n",
    "]"
   ]
  },
  {
   "cell_type": "code",
   "execution_count": null,
   "id": "c0d16997",
   "metadata": {},
   "outputs": [],
   "source": [
    "calculation_steps = pprint_calc_steps(\r\n",
    "    filtered_order,\r\n",
    "    parts_lpg.model,\r\n",
    "    generate_parameter_signature_map(parts_lpg.model, calc_order),\r\n",
    ")"
   ]
  },
  {
   "cell_type": "code",
   "execution_count": null,
   "id": "747945fe",
   "metadata": {},
   "outputs": [],
   "source": [
    "len(calculation_steps)"
   ]
  },
  {
   "cell_type": "markdown",
   "id": "a77e9da2",
   "metadata": {},
   "source": [
    "### Full Order\n",
    "\n",
    "The full execution order is shown below."
   ]
  },
  {
   "cell_type": "code",
   "execution_count": null,
   "id": "4f940ef1",
   "metadata": {},
   "outputs": [],
   "source": [
    "calculation_steps"
   ]
  },
  {
   "cell_type": "markdown",
   "id": "4964e772",
   "metadata": {},
   "source": [
    "### Selection Queries\n",
    "\n",
    "The selection queries gather elements from the M0 execution and assign them to the results of Feature Reference Expressions."
   ]
  },
  {
   "cell_type": "code",
   "execution_count": null,
   "id": "c2e757b3",
   "metadata": {},
   "outputs": [],
   "source": [
    "[sq for sq in calculation_steps if sq[2] == 'SelectionQuery']"
   ]
  },
  {
   "cell_type": "markdown",
   "id": "19f67fcb",
   "metadata": {},
   "source": [
    "### Outputs\n",
    "\n",
    "The output steps take the body of evaluations and mark the sending of results to the result parameters."
   ]
  },
  {
   "cell_type": "code",
   "execution_count": null,
   "id": "8f6fe340",
   "metadata": {},
   "outputs": [],
   "source": [
    "[sq for sq in calculation_steps if sq[2] == 'Output']"
   ]
  },
  {
   "cell_type": "markdown",
   "id": "5d49f8c6",
   "metadata": {},
   "source": [
    "### Inputs\n",
    "\n",
    "The input parameters passing values into the evaluations are shown below."
   ]
  },
  {
   "cell_type": "code",
   "execution_count": null,
   "id": "5a28714e",
   "metadata": {},
   "outputs": [],
   "source": [
    "[sq for sq in calculation_steps if sq[2] == 'Input']"
   ]
  },
  {
   "cell_type": "markdown",
   "id": "c7c1e9b4",
   "metadata": {},
   "source": [
    "### Assignments\n",
    "\n",
    "The assignments have the mapping of result parameters from one set of evaluations to the input parameters to the next."
   ]
  },
  {
   "cell_type": "code",
   "execution_count": null,
   "id": "ec100645",
   "metadata": {},
   "outputs": [],
   "source": [
    "[sq for sq in calculation_steps if sq[2] == 'Assignment']"
   ]
  },
  {
   "cell_type": "markdown",
   "id": "586f32e3",
   "metadata": {},
   "source": [
    "### ValueBinding\n",
    "\n",
    "The results of calculations applied to attribute usages are the final steps of the computations. This is also where the pieces of an expression tree are assembled and ready for binding to the value of the attribute."
   ]
  },
  {
   "cell_type": "code",
   "execution_count": null,
   "id": "a6e81fbc",
   "metadata": {},
   "outputs": [],
   "source": [
    "[sq for sq in calculation_steps if sq[2] == \"ValueBinding\"]"
   ]
  },
  {
   "cell_type": "code",
   "execution_count": null,
   "id": "d4e16f69-8d07-43c1-bc97-9be028aff0c2",
   "metadata": {},
   "outputs": [],
   "source": [
    "value_binding_sequences = [sq for sq in filtered_order if sq[2] == \"ValueBinding\"]\n",
    "value_binding_sequences"
   ]
  },
  {
   "cell_type": "code",
   "execution_count": null,
   "id": "0545b529",
   "metadata": {
    "tags": []
   },
   "outputs": [],
   "source": [
    "feature_sequences = build_sequence_templates(lpg=parts_lpg)\r\n",
    "pprint_double_id_list(feature_sequences, parts_lpg.model)"
   ]
  },
  {
   "cell_type": "code",
   "execution_count": null,
   "id": "0329578b",
   "metadata": {},
   "outputs": [],
   "source": [
    "feature_sequences = build_sequence_templates(lpg=parts_lpg)\r\n",
    "simple_expressions = parts_lpg.model.ownedElement[\"Simple Expressions\"]"
   ]
  },
  {
   "cell_type": "code",
   "execution_count": null,
   "id": "5bdb3444",
   "metadata": {},
   "outputs": [],
   "source": [
    "m0_interpretation = random_generator_playbook(\r\n",
    "    parts_lpg,\r\n",
    "    {},\r\n",
    "    [simple_expressions],\r\n",
    ")"
   ]
  },
  {
   "cell_type": "markdown",
   "id": "45ffd36c",
   "metadata": {},
   "source": [
    "See what M1 items in the calculation pairings have M0 interpretations."
   ]
  },
  {
   "cell_type": "code",
   "execution_count": null,
   "id": "801cd5ff",
   "metadata": {},
   "outputs": [],
   "source": [
    "[\r\n",
    "    [sq[0] in m0_interpretation, sq[1] in m0_interpretation]\r\n",
    "    for sq in value_binding_sequences\r\n",
    "]"
   ]
  },
  {
   "cell_type": "code",
   "execution_count": null,
   "id": "f0d0bac6-461c-428f-89b8-f48d98fe528e",
   "metadata": {
    "tags": []
   },
   "outputs": [],
   "source": [
    "m0_interpretation"
   ]
  },
  {
   "cell_type": "code",
   "execution_count": null,
   "id": "7eec319a-6ecb-41a7-b1f9-5ddd48b0031e",
   "metadata": {},
   "outputs": [],
   "source": [
    "[\n",
    "     [id_to_parts_name_lookup[sq[0]], id_to_parts_name_lookup[sq[1]]]\n",
    "     for sq in value_binding_sequences\n",
    "]"
   ]
  },
  {
   "cell_type": "code",
   "execution_count": null,
   "id": "4ab3524e",
   "metadata": {},
   "outputs": [],
   "source": [
    "[\r\n",
    "     [parts_lpg.model.elements[sq[0]].type, parts_lpg.model.elements[sq[1]].type]\r\n",
    "     for sq in value_binding_sequences\r\n",
    "]"
   ]
  },
  {
   "cell_type": "code",
   "execution_count": null,
   "id": "b39f9ba0",
   "metadata": {},
   "outputs": [],
   "source": [
    "all_expr_sequences = build_expression_sequence_templates(lpg=parts_lpg)\r\n",
    "expr_sequences = [\r\n",
    "    seq for seq in all_expr_sequences\r\n",
    "    if parts_lpg.model.elements[seq[-1]].owning_package in [simple_expressions]\r\n",
    "]\r\n",
    "[[id_to_parts_name_lookup[item] for item in seq] for seq in expr_sequences]"
   ]
  },
  {
   "cell_type": "code",
   "execution_count": null,
   "id": "c32c1e48",
   "metadata": {},
   "outputs": [],
   "source": [
    "cg = CalculationGroup(parts_lpg.get_projection(\"Expression Inferred\"), m0_interpretation, filtered_order)\r\n",
    "cg.solve_graph(parts_lpg)"
   ]
  },
  {
   "cell_type": "code",
   "execution_count": null,
   "id": "01337de7",
   "metadata": {},
   "outputs": [],
   "source": [
    "[\r\n",
    "     (m0_interpretation[sq[0]], m0_interpretation[sq[1]], get_label_for_id(sq[1], parts_lpg.model))\r\n",
    "     for sq in value_binding_sequences\r\n",
    "]"
   ]
  }
 ],
 "metadata": {
  "kernelspec": {
   "display_name": "Python 3 (ipykernel)",
   "language": "python",
   "name": "python3"
  },
  "language_info": {
   "codemirror_mode": {
    "name": "ipython",
    "version": 3
   },
   "file_extension": ".py",
   "mimetype": "text/x-python",
   "name": "python",
   "nbconvert_exporter": "python",
   "pygments_lexer": "ipython3",
   "version": "3.9.6"
  }
 },
 "nbformat": 4,
 "nbformat_minor": 5
}
