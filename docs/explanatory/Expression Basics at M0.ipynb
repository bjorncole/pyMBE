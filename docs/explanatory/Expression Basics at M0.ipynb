{
 "cells": [
  {
   "cell_type": "markdown",
   "id": "5dcf4b86-0b1f-40f9-9a6e-2a3868e6be74",
   "metadata": {},
   "source": [
    "# Basics of Expression at M0\n",
    "\n",
    "This notebook walks through the basics of executing Expressions at M0 after they are generated from M1. "
   ]
  },
  {
   "cell_type": "code",
   "execution_count": null,
   "id": "02014ee5-ffa2-40e3-b141-531511f013f8",
   "metadata": {},
   "outputs": [],
   "source": [
    "from pathlib import Path\n",
    "import networkx as nx\n",
    "\n",
    "import pymbe.api as pm\n",
    "\n",
    "from pymbe.client import SysML2Client\n",
    "from pymbe.graph.calc_lpg import CalculationGroup\n",
    "from pymbe.graph.lpg import SysML2LabeledPropertyGraph\n",
    "from pymbe.interpretation.calc_dependencies import (\n",
    "    generate_execution_order,\n",
    "    generate_parameter_signature_map\n",
    ")\n",
    "from pymbe.interpretation.interpretation import repack_instance_dictionaries\n",
    "from pymbe.interpretation.interp_playbooks import (\n",
    "    build_expression_sequence_templates,\n",
    "    build_sequence_templates,\n",
    "    random_generator_playbook,\n",
    ")\n",
    "from pymbe.interpretation.results import *\n",
    "from pymbe.label import get_label_for_id\n",
    "from pymbe.query.metamodel_navigator import feature_multiplicity\n",
    "from pymbe.query.query import (\n",
    "    roll_up_multiplicity,\n",
    "    roll_up_upper_multiplicity,\n",
    "    roll_up_multiplicity_for_type,\n",
    "    get_types_for_feature,\n",
    "    get_features_typed_by_type,\n",
    ")\n",
    "from pymbe.local.stablization import build_stable_id_lookups"
   ]
  },
  {
   "cell_type": "code",
   "execution_count": null,
   "id": "cfb4b667-edfc-4ecb-a816-4e47f0e7563c",
   "metadata": {},
   "outputs": [],
   "source": [
    "parts_client = SysML2Client()\n",
    "\n",
    "simple_parts_file = Path(pm.__file__).parent / \"../../tests/fixtures/Simple Expressions.json\"\n",
    "\n",
    "parts_client._load_from_file(simple_parts_file)\n",
    "\n",
    "parts_lpg = SysML2LabeledPropertyGraph()\n",
    "parts_lpg.model = parts_client.model\n",
    "\n",
    "SIMPLE_MODEL = \"Model::Simple Parts Model::\"\n",
    "\n",
    "[id_to_parts_name_lookup, parts_name_to_id_lookup] = build_stable_id_lookups(parts_lpg)\n",
    "\n",
    "parts_lpg.model.MAX_MULTIPLICITY = 10"
   ]
  },
  {
   "cell_type": "markdown",
   "id": "deaca2ab-cfd6-4e17-b0f1-a02bcab476c2",
   "metadata": {},
   "source": [
    "## Simple Expressions Example\n",
    "\n",
    "### Calculation Order\n",
    "\n",
    "Once the M1 model has been studied, an order of computation can be generated where knowns propagate to unknowns.\n",
    "\n",
    "Literal expressions and Feature Reference Expressions should be run first, since there are either no inputs (literal expressions) or the inputs are pre-determined (feature reference expressions)."
   ]
  },
  {
   "cell_type": "code",
   "execution_count": null,
   "id": "8a920fdf-66d4-4670-98ac-ecd1efd87390",
   "metadata": {},
   "outputs": [],
   "source": [
    "calc_order = generate_execution_order(parts_lpg)\n",
    "calc_order[0]"
   ]
  },
  {
   "cell_type": "code",
   "execution_count": null,
   "id": "ce92689a-28ed-4b6d-8db3-a1887f8318bb",
   "metadata": {},
   "outputs": [],
   "source": [
    "parts_lpg.model.elements[calc_order[0][0]].qualifiedName"
   ]
  },
  {
   "cell_type": "code",
   "execution_count": null,
   "id": "09b34107-ea10-485a-b177-3673f7d5ab03",
   "metadata": {},
   "outputs": [],
   "source": [
    "filtered_order = [filtered_entry for filtered_entry in calc_order if parts_lpg.model.elements[filtered_entry[0]].qualifiedName.startswith(\"'Simple Expressions'\")]"
   ]
  },
  {
   "cell_type": "code",
   "execution_count": null,
   "id": "86c605da-ea85-4e19-82ff-9b6d68a7490c",
   "metadata": {},
   "outputs": [],
   "source": [
    "calculation_steps = pprint_calc_steps(filtered_order, parts_lpg.model, generate_parameter_signature_map(parts_lpg.model, calc_order))"
   ]
  },
  {
   "cell_type": "code",
   "execution_count": null,
   "id": "246f48ad-58fd-42cf-aff4-8e2fbc3174a1",
   "metadata": {},
   "outputs": [],
   "source": [
    "len(calculation_steps)"
   ]
  },
  {
   "cell_type": "markdown",
   "id": "ae2433ba-1dec-45de-a69e-94c4fe0ee79e",
   "metadata": {},
   "source": [
    "### Full Order\n",
    "\n",
    "The full execution order is shown below."
   ]
  },
  {
   "cell_type": "code",
   "execution_count": null,
   "id": "4a5b628d-bde5-4278-98e6-a4644c9b2bb7",
   "metadata": {},
   "outputs": [],
   "source": [
    "calculation_steps"
   ]
  },
  {
   "cell_type": "markdown",
   "id": "b1a8b79b-4c90-4fb0-a927-cf00a29d747d",
   "metadata": {},
   "source": [
    "### Selection Queries\n",
    "\n",
    "The selection queries gather elements from the M0 execution and assign them to the results of Feature Reference Expressions."
   ]
  },
  {
   "cell_type": "code",
   "execution_count": null,
   "id": "41c187b4-772d-41f6-b874-4c5b30cc983c",
   "metadata": {},
   "outputs": [],
   "source": [
    "[sq for sq in calculation_steps if sq[2] == 'SelectionQuery']"
   ]
  },
  {
   "cell_type": "markdown",
   "id": "5b43be29-1a0e-4fcb-ae18-a006b02d5778",
   "metadata": {},
   "source": [
    "### Outputs\n",
    "\n",
    "The output steps take the body of evaluations and mark the sending of results to the result parameters."
   ]
  },
  {
   "cell_type": "code",
   "execution_count": null,
   "id": "186be762-cda5-4d9d-9d10-0300ed72531b",
   "metadata": {},
   "outputs": [],
   "source": [
    "[sq for sq in calculation_steps if sq[2] == 'Output']"
   ]
  },
  {
   "cell_type": "markdown",
   "id": "646f3f61-60b3-4342-9f9b-0e0e620574e1",
   "metadata": {},
   "source": [
    "### Inputs\n",
    "\n",
    "The input parameters passing values into the evaluations are shown below."
   ]
  },
  {
   "cell_type": "code",
   "execution_count": null,
   "id": "33be08c8-d445-4539-990d-2eeffd722a1e",
   "metadata": {},
   "outputs": [],
   "source": [
    "[sq for sq in calculation_steps if sq[2] == 'Input']"
   ]
  },
  {
   "cell_type": "markdown",
   "id": "5a335fed-6525-44f4-b167-642dda7ea85a",
   "metadata": {},
   "source": [
    "### Assignments\n",
    "\n",
    "The assignments have the mapping of result parameters from one set of evaluations to the input parameters to the next."
   ]
  },
  {
   "cell_type": "code",
   "execution_count": null,
   "id": "9f241c10-540d-4ad2-bdc7-7b9f44e3acdd",
   "metadata": {},
   "outputs": [],
   "source": [
    "[sq for sq in calculation_steps if sq[2] == 'Assignment']"
   ]
  },
  {
   "cell_type": "markdown",
   "id": "bee48691-7508-4cd0-8144-fb74f5e4fcae",
   "metadata": {
    "tags": []
   },
   "source": [
    "### ValueBinding\n",
    "\n",
    "The results of calculations applied to attribute usages are the final steps of the computations. This is also where the pieces of an expression tree are assembled and ready for binding to the value of the attribute."
   ]
  },
  {
   "cell_type": "code",
   "execution_count": null,
   "id": "504f0631-7b92-4cec-b281-e43c872fec96",
   "metadata": {},
   "outputs": [],
   "source": [
    "[sq for sq in calculation_steps if sq[2] == 'ValueBinding']"
   ]
  },
  {
   "cell_type": "code",
   "execution_count": null,
   "id": "7edda74d-1e11-4721-a299-b4cb45e655cf",
   "metadata": {},
   "outputs": [],
   "source": [
    "[id_to_parts_name_lookup[sq[0]] for sq in filtered_order if sq[2] == 'ValueBinding']"
   ]
  },
  {
   "cell_type": "code",
   "execution_count": null,
   "id": "ddebd2e9-0716-48cc-b32c-fbc37ce0f543",
   "metadata": {},
   "outputs": [],
   "source": [
    "feature_sequences = build_sequence_templates(lpg=parts_lpg)\n",
    "pprint_double_id_list(feature_sequences, parts_lpg.model)"
   ]
  },
  {
   "cell_type": "code",
   "execution_count": null,
   "id": "02971f2b-0cfa-41c6-a818-d71adb129648",
   "metadata": {},
   "outputs": [],
   "source": [
    "feature_sequences = build_sequence_templates(lpg=parts_lpg)"
   ]
  },
  {
   "cell_type": "code",
   "execution_count": null,
   "id": "eb294949-3775-448a-b218-fc2cd418aaca",
   "metadata": {},
   "outputs": [],
   "source": [
    "m0_interpretation = random_generator_playbook(\n",
    "    parts_lpg,\n",
    "    {},\n",
    "    [parts_lpg.model.ownedElement[\"Simple Expressions\"]]\n",
    ")"
   ]
  },
  {
   "cell_type": "markdown",
   "id": "f4b508f4-3774-4ae7-a2d3-45c568a5997c",
   "metadata": {},
   "source": [
    "See what M1 items in the calculation pairings have M0 interpretations."
   ]
  },
  {
   "cell_type": "code",
   "execution_count": null,
   "id": "14ccbb9f-8c66-42e6-b266-46cef78ab22e",
   "metadata": {},
   "outputs": [],
   "source": [
    "[[sq[0] in m0_interpretation, sq[1] in m0_interpretation] for sq in filtered_order if sq[2] == 'ValueBinding']"
   ]
  },
  {
   "cell_type": "code",
   "execution_count": null,
   "id": "1463af0f-ef3d-4a6d-8a22-432ccb1f0e44",
   "metadata": {},
   "outputs": [],
   "source": [
    "cg = CalculationGroup(parts_lpg.get_projection(\"Expression Inferred\"), m0_interpretation, filtered_order)\n",
    "cg.solve_graph(parts_lpg)"
   ]
  },
  {
   "cell_type": "code",
   "execution_count": null,
   "id": "45df7016-f72b-4dcf-828a-34775ece40a1",
   "metadata": {},
   "outputs": [],
   "source": [
    "[(m0_interpretation[sq[0]], m0_interpretation[sq[1]], get_label_for_id(sq[1], parts_lpg.model))\n",
    "     for sq in filtered_order if sq[2] == 'ValueBinding']"
   ]
  },
  {
   "cell_type": "code",
   "execution_count": null,
   "id": "09ae8b21-199e-4059-9f60-0ccd2ee6c47d",
   "metadata": {},
   "outputs": [],
   "source": []
  }
 ],
 "metadata": {
  "kernelspec": {
   "display_name": "Python 3 (ipykernel)",
   "language": "python",
   "name": "python3"
  },
  "language_info": {
   "codemirror_mode": {
    "name": "ipython",
    "version": 3
   },
   "file_extension": ".py",
   "mimetype": "text/x-python",
   "name": "python",
   "nbconvert_exporter": "python",
   "pygments_lexer": "ipython3",
   "version": "3.9.6"
  }
 },
 "nbformat": 4,
 "nbformat_minor": 5
}
