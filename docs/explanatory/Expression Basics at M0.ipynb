{
 "cells": [
  {
   "cell_type": "markdown",
   "source": [
    "# Basics of Expression at M0\n",
    "\n",
    "This notebook walks through the basics of executing Expressions at M0 after they are generated from M1. "
   ],
   "metadata": {}
  },
  {
   "cell_type": "code",
   "execution_count": null,
   "source": [
    "from pathlib import Path\r\n",
    "\r\n",
    "import pymbe.api as pm\r\n",
    "\r\n",
    "from pymbe.client import SysML2Client\r\n",
    "from pymbe.graph.calc_lpg import CalculationGroup\r\n",
    "from pymbe.graph.lpg import SysML2LabeledPropertyGraph\r\n",
    "from pymbe.interpretation.calc_dependencies import (\r\n",
    "    generate_execution_order,\r\n",
    "    generate_parameter_signature_map,\r\n",
    ")\r\n",
    "from pymbe.interpretation.interp_playbooks import (\r\n",
    "    build_expression_sequence_templates,\r\n",
    "    build_sequence_templates,\r\n",
    "    random_generator_playbook,\r\n",
    ")\r\n",
    "from pymbe.interpretation.results import (\r\n",
    "    pprint_calc_steps,\r\n",
    "    pprint_double_id_list,\r\n",
    ")\r\n",
    "from pymbe.label import get_label_for_id\r\n",
    "from pymbe.local.stablization import build_stable_id_lookups"
   ],
   "outputs": [],
   "metadata": {}
  },
  {
   "cell_type": "code",
   "execution_count": null,
   "source": [
    "parts_client = SysML2Client()\r\n",
    "\r\n",
    "simple_parts_file = Path(pm.__file__).parent / \"../../tests/fixtures/Simple Expressions.json\"\r\n",
    "\r\n",
    "parts_client._load_from_file(simple_parts_file)\r\n",
    "\r\n",
    "parts_lpg = SysML2LabeledPropertyGraph()\r\n",
    "parts_lpg.model = parts_client.model\r\n",
    "\r\n",
    "SIMPLE_MODEL = \"Model::Simple Parts Model::\"\r\n",
    "\r\n",
    "[id_to_parts_name_lookup, parts_name_to_id_lookup] = build_stable_id_lookups(parts_lpg)\r\n",
    "\r\n",
    "parts_lpg.model.max_multiplicity = 10"
   ],
   "outputs": [],
   "metadata": {}
  },
  {
   "cell_type": "markdown",
   "source": [
    "## Simple Expressions Example\n",
    "\n",
    "### Calculation Order\n",
    "\n",
    "Once the M1 model has been studied, an order of computation can be generated where knowns propagate to unknowns.\n",
    "\n",
    "Literal expressions and Feature Reference Expressions should be run first, since there are either no inputs (literal expressions) or the inputs are pre-determined (feature reference expressions)."
   ],
   "metadata": {}
  },
  {
   "cell_type": "code",
   "execution_count": null,
   "source": [
    "calc_order = generate_execution_order(parts_lpg)\r\n",
    "calc_order[0]"
   ],
   "outputs": [],
   "metadata": {}
  },
  {
   "cell_type": "code",
   "execution_count": null,
   "source": [
    "parts_lpg.model.elements[calc_order[0][0]].qualifiedName"
   ],
   "outputs": [],
   "metadata": {}
  },
  {
   "cell_type": "code",
   "execution_count": null,
   "source": [
    "filtered_order = [\r\n",
    "    filtered_entry for filtered_entry in calc_order\r\n",
    "    if parts_lpg.model.elements[filtered_entry[0]].qualifiedName.startswith(\"'Simple Expressions'\")\r\n",
    "]"
   ],
   "outputs": [],
   "metadata": {}
  },
  {
   "cell_type": "code",
   "execution_count": null,
   "source": [
    "calculation_steps = pprint_calc_steps(\r\n",
    "    filtered_order,\r\n",
    "    parts_lpg.model,\r\n",
    "    generate_parameter_signature_map(parts_lpg.model, calc_order),\r\n",
    ")"
   ],
   "outputs": [],
   "metadata": {}
  },
  {
   "cell_type": "code",
   "execution_count": null,
   "source": [
    "len(calculation_steps)"
   ],
   "outputs": [],
   "metadata": {}
  },
  {
   "cell_type": "markdown",
   "source": [
    "### Full Order\n",
    "\n",
    "The full execution order is shown below."
   ],
   "metadata": {}
  },
  {
   "cell_type": "code",
   "execution_count": null,
   "source": [
    "calculation_steps"
   ],
   "outputs": [],
   "metadata": {}
  },
  {
   "cell_type": "markdown",
   "source": [
    "### Selection Queries\n",
    "\n",
    "The selection queries gather elements from the M0 execution and assign them to the results of Feature Reference Expressions."
   ],
   "metadata": {}
  },
  {
   "cell_type": "code",
   "execution_count": null,
   "source": [
    "[sq for sq in calculation_steps if sq[2] == 'SelectionQuery']"
   ],
   "outputs": [],
   "metadata": {}
  },
  {
   "cell_type": "markdown",
   "source": [
    "### Outputs\n",
    "\n",
    "The output steps take the body of evaluations and mark the sending of results to the result parameters."
   ],
   "metadata": {}
  },
  {
   "cell_type": "code",
   "execution_count": null,
   "source": [
    "[sq for sq in calculation_steps if sq[2] == 'Output']"
   ],
   "outputs": [],
   "metadata": {}
  },
  {
   "cell_type": "markdown",
   "source": [
    "### Inputs\n",
    "\n",
    "The input parameters passing values into the evaluations are shown below."
   ],
   "metadata": {}
  },
  {
   "cell_type": "code",
   "execution_count": null,
   "source": [
    "[sq for sq in calculation_steps if sq[2] == 'Input']"
   ],
   "outputs": [],
   "metadata": {}
  },
  {
   "cell_type": "markdown",
   "source": [
    "### Assignments\n",
    "\n",
    "The assignments have the mapping of result parameters from one set of evaluations to the input parameters to the next."
   ],
   "metadata": {}
  },
  {
   "cell_type": "code",
   "execution_count": null,
   "source": [
    "[sq for sq in calculation_steps if sq[2] == 'Assignment']"
   ],
   "outputs": [],
   "metadata": {}
  },
  {
   "cell_type": "markdown",
   "source": [
    "### ValueBinding\n",
    "\n",
    "The results of calculations applied to attribute usages are the final steps of the computations. This is also where the pieces of an expression tree are assembled and ready for binding to the value of the attribute."
   ],
   "metadata": {}
  },
  {
   "cell_type": "code",
   "execution_count": null,
   "source": [
    "value_binding_sequences = [sq for sq in calculation_steps if sq[2] == \"ValueBinding\"]\r\n",
    "value_binding_sequences"
   ],
   "outputs": [],
   "metadata": {}
  },
  {
   "cell_type": "code",
   "execution_count": null,
   "source": [
    "feature_sequences = build_sequence_templates(lpg=parts_lpg)\r\n",
    "pprint_double_id_list(feature_sequences, parts_lpg.model)"
   ],
   "outputs": [],
   "metadata": {}
  },
  {
   "cell_type": "code",
   "execution_count": null,
   "source": [
    "feature_sequences = build_sequence_templates(lpg=parts_lpg)\r\n",
    "simple_expressions = parts_lpg.model.ownedElement[\"Simple Expressions\"]"
   ],
   "outputs": [],
   "metadata": {}
  },
  {
   "cell_type": "code",
   "execution_count": null,
   "source": [
    "m0_interpretation = random_generator_playbook(\r\n",
    "    parts_lpg,\r\n",
    "    {},\r\n",
    "    [simple_expressions],\r\n",
    ")"
   ],
   "outputs": [],
   "metadata": {}
  },
  {
   "cell_type": "markdown",
   "source": [
    "See what M1 items in the calculation pairings have M0 interpretations."
   ],
   "metadata": {}
  },
  {
   "cell_type": "code",
   "execution_count": null,
   "source": [
    "[\r\n",
    "    [sq[0] in m0_interpretation, sq[1] in m0_interpretation]\r\n",
    "    for sq in value_binding_sequences\r\n",
    "]"
   ],
   "outputs": [],
   "metadata": {}
  },
  {
   "cell_type": "code",
   "execution_count": null,
   "source": [
    "[\r\n",
    "     [id_to_parts_name_lookup[sq[0]], id_to_parts_name_lookup[sq[1]]]\r\n",
    "     for sq in value_binding_sequences\r\n",
    "]"
   ],
   "outputs": [],
   "metadata": {}
  },
  {
   "cell_type": "code",
   "execution_count": null,
   "source": [
    "[\r\n",
    "     [parts_lpg.model.elements[sq[0]].type, parts_lpg.model.elements[sq[1]].type]\r\n",
    "     for sq in value_binding_sequences\r\n",
    "]"
   ],
   "outputs": [],
   "metadata": {}
  },
  {
   "cell_type": "code",
   "execution_count": null,
   "source": [
    "all_expr_sequences = build_expression_sequence_templates(lpg=parts_lpg)\r\n",
    "expr_sequences = [\r\n",
    "    seq for seq in all_expr_sequences\r\n",
    "    if parts_lpg.model.elements[seq[-1]].owning_package in [simple_expressions]\r\n",
    "]\r\n",
    "[[id_to_parts_name_lookup[item] for item in seq] for seq in expr_sequences]"
   ],
   "outputs": [],
   "metadata": {}
  },
  {
   "cell_type": "code",
   "execution_count": null,
   "source": [
    "cg = CalculationGroup(parts_lpg.get_projection(\"Expression Inferred\"), m0_interpretation, filtered_order)\r\n",
    "cg.solve_graph(parts_lpg)"
   ],
   "outputs": [],
   "metadata": {}
  },
  {
   "cell_type": "code",
   "execution_count": null,
   "source": [
    "[\r\n",
    "     (m0_interpretation[sq[0]], m0_interpretation[sq[1]], get_label_for_id(sq[1], parts_lpg.model))\r\n",
    "     for sq in value_binding_sequences\r\n",
    "]"
   ],
   "outputs": [],
   "metadata": {}
  }
 ],
 "metadata": {
  "kernelspec": {
   "display_name": "Python 3 (ipykernel)",
   "language": "python",
   "name": "python3"
  },
  "language_info": {
   "codemirror_mode": {
    "name": "ipython",
    "version": 3
   },
   "file_extension": ".py",
   "mimetype": "text/x-python",
   "name": "python",
   "nbconvert_exporter": "python",
   "pygments_lexer": "ipython3",
   "version": "3.9.6"
  }
 },
 "nbformat": 4,
 "nbformat_minor": 5
}