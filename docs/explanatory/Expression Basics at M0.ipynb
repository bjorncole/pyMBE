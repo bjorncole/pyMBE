{
 "cells": [
  {
   "cell_type": "markdown",
   "id": "0",
   "metadata": {},
   "source": [
    "# Basics of Expression at M0\n",
    "\n",
    "This notebook walks through the basics of executing Expressions at M0 after they are generated from M1. "
   ]
  },
  {
   "cell_type": "code",
   "execution_count": null,
   "id": "1",
   "metadata": {},
   "outputs": [],
   "source": [
    "from pathlib import Path\n",
    "import networkx as nx\n",
    "\n",
    "import pymbe.api as pm\n",
    "\n",
    "from pymbe.client import SysML2Client\n",
    "from pymbe.graph.calc_lpg import CalculationGroup\n",
    "from pymbe.graph.lpg import SysML2LabeledPropertyGraph\n",
    "from pymbe.interpretation.calc_dependencies import (\n",
    "    generate_execution_order,\n",
    "    generate_parameter_signature_map\n",
    ")\n",
    "from pymbe.interpretation.interpretation import repack_instance_dictionaries\n",
    "from pymbe.interpretation.interp_playbooks import (\n",
    "    build_expression_sequence_templates,\n",
    "    build_sequence_templates,\n",
    "    random_generator_playbook,\n",
    ")\n",
    "from pymbe.interpretation.results import *\n",
    "from pymbe.label import get_label_for_id\n",
    "from pymbe.query.metamodel_navigator import feature_multiplicity\n",
    "from pymbe.query.query import (\n",
    "    roll_up_multiplicity,\n",
    "    roll_up_upper_multiplicity,\n",
    "    roll_up_multiplicity_for_type,\n",
    "    get_types_for_feature,\n",
    "    get_features_typed_by_type,\n",
    ")\n",
    "from pymbe.local.stablization import build_stable_id_lookups"
   ]
  },
  {
   "cell_type": "code",
   "execution_count": null,
   "id": "2",
   "metadata": {},
   "outputs": [],
   "source": [
    "parts_client = SysML2Client()\n",
    "\n",
    "simple_parts_file = Path(pm.__file__).parent / \"../../tests/fixtures/Simple Expressions.json\"\n",
    "\n",
    "parts_client._load_from_file(simple_parts_file)\n",
    "\n",
    "parts_lpg = SysML2LabeledPropertyGraph()\n",
    "parts_lpg.model = parts_client.model\n",
    "\n",
    "SIMPLE_MODEL = \"Model::Simple Parts Model::\"\n",
    "\n",
    "[id_to_parts_name_lookup, parts_name_to_id_lookup] = build_stable_id_lookups(parts_lpg)\n",
    "\n",
    "parts_lpg.model.MAX_MULTIPLICITY = 10"
   ]
  },
  {
   "cell_type": "markdown",
   "id": "3",
   "metadata": {},
   "source": [
    "## Simple Expressions Example\n",
    "\n",
    "### Calculation Order\n",
    "\n",
    "Once the M1 model has been studied, an order of computation can be generated where knowns propagate to unknowns.\n",
    "\n",
    "Literal expressions and Feature Reference Expressions should be run first, since there are either no inputs (literal expressions) or the inputs are pre-determined (feature reference expressions)."
   ]
  },
  {
   "cell_type": "code",
   "execution_count": null,
   "id": "4",
   "metadata": {},
   "outputs": [],
   "source": [
    "calc_order = generate_execution_order(parts_lpg)"
   ]
  },
  {
   "cell_type": "code",
   "execution_count": null,
   "id": "5",
   "metadata": {},
   "outputs": [],
   "source": [
    "filtered_order = [filtered_entry for filtered_entry in calc_order if parts_lpg.model.elements[filtered_entry[0]].qualifiedName.startswith(\"'Simple Expressions'\")]"
   ]
  },
  {
   "cell_type": "code",
   "execution_count": null,
   "id": "6",
   "metadata": {},
   "outputs": [],
   "source": [
    "calculation_steps = pprint_calc_steps(filtered_order, parts_lpg.model, generate_parameter_signature_map(parts_lpg.model, calc_order))"
   ]
  },
  {
   "cell_type": "code",
   "execution_count": null,
   "id": "7",
   "metadata": {},
   "outputs": [],
   "source": [
    "logger = []"
   ]
  },
  {
   "cell_type": "code",
   "execution_count": null,
   "id": "8",
   "metadata": {},
   "outputs": [],
   "source": [
    "parameter_signatures = generate_parameter_signature_map(parts_lpg.model, calc_order, logger)"
   ]
  },
  {
   "cell_type": "code",
   "execution_count": null,
   "id": "9",
   "metadata": {},
   "outputs": [],
   "source": [
    "len(calculation_steps)"
   ]
  },
  {
   "cell_type": "markdown",
   "id": "10",
   "metadata": {},
   "source": [
    "### Full Order\n",
    "\n",
    "The full execution order is shown below."
   ]
  },
  {
   "cell_type": "code",
   "execution_count": null,
   "id": "11",
   "metadata": {},
   "outputs": [],
   "source": [
    "calculation_steps"
   ]
  },
  {
   "cell_type": "markdown",
   "id": "12",
   "metadata": {},
   "source": [
    "### Selection Queries\n",
    "\n",
    "The selection queries gather elements from the M0 execution and assign them to the results of Feature Reference Expressions."
   ]
  },
  {
   "cell_type": "code",
   "execution_count": null,
   "id": "13",
   "metadata": {},
   "outputs": [],
   "source": [
    "[sq for sq in calculation_steps if sq[2] == 'SelectionQuery']"
   ]
  },
  {
   "cell_type": "markdown",
   "id": "14",
   "metadata": {},
   "source": [
    "### Outputs\n",
    "\n",
    "The output steps take the body of evaluations and mark the sending of results to the result parameters."
   ]
  },
  {
   "cell_type": "code",
   "execution_count": null,
   "id": "15",
   "metadata": {},
   "outputs": [],
   "source": [
    "[sq for sq in calculation_steps if sq[2] == 'Output']"
   ]
  },
  {
   "cell_type": "markdown",
   "id": "16",
   "metadata": {},
   "source": [
    "### Inputs\n",
    "\n",
    "The input parameters passing values into the evaluations are shown below."
   ]
  },
  {
   "cell_type": "code",
   "execution_count": null,
   "id": "17",
   "metadata": {},
   "outputs": [],
   "source": [
    "[sq for sq in calculation_steps if sq[2] == 'Input']"
   ]
  },
  {
   "cell_type": "markdown",
   "id": "18",
   "metadata": {},
   "source": [
    "### Assignments\n",
    "\n",
    "The assignments have the mapping of result parameters from one set of evaluations to the input parameters to the next."
   ]
  },
  {
   "cell_type": "code",
   "execution_count": null,
   "id": "19",
   "metadata": {},
   "outputs": [],
   "source": [
    "[sq for sq in calculation_steps if sq[2] == 'Assignment']"
   ]
  },
  {
   "cell_type": "markdown",
   "id": "20",
   "metadata": {},
   "source": [
    "### ValueBinding\n",
    "\n",
    "The results of calculations applied to attribute usages are the final steps of the computations. This is also where the pieces of an expression tree are assembled and ready for binding to the value of the attribute."
   ]
  },
  {
   "cell_type": "code",
   "execution_count": null,
   "id": "21",
   "metadata": {},
   "outputs": [],
   "source": [
    "[sq for sq in calculation_steps if sq[2] == 'ValueBinding']"
   ]
  },
  {
   "cell_type": "code",
   "execution_count": null,
   "id": "22",
   "metadata": {},
   "outputs": [],
   "source": [
    "feature_sequences = build_sequence_templates(lpg=parts_lpg)\n",
    "pprint_double_id_list(feature_sequences, parts_lpg.model)"
   ]
  },
  {
   "cell_type": "code",
   "execution_count": null,
   "id": "23",
   "metadata": {},
   "outputs": [],
   "source": [
    "feature_sequences = build_sequence_templates(lpg=parts_lpg)"
   ]
  },
  {
   "cell_type": "code",
   "execution_count": null,
   "id": "24",
   "metadata": {},
   "outputs": [],
   "source": [
    "m0_interpretation = random_generator_playbook(\n",
    "    parts_lpg,\n",
    "    {},\n",
    "    [parts_lpg.model.ownedElement[\"Simple Expressions\"]]\n",
    ")"
   ]
  },
  {
   "cell_type": "markdown",
   "id": "25",
   "metadata": {},
   "source": [
    "See what M1 items in the calculation pairings have M0 interpretations."
   ]
  },
  {
   "cell_type": "code",
   "execution_count": null,
   "id": "26",
   "metadata": {},
   "outputs": [],
   "source": [
    "[[sq[0] in m0_interpretation, sq[1] in m0_interpretation] for sq in filtered_order if sq[2] == 'ValueBinding']"
   ]
  },
  {
   "cell_type": "code",
   "execution_count": null,
   "id": "27",
   "metadata": {},
   "outputs": [],
   "source": [
    "[[id_to_parts_name_lookup[sq[0]], id_to_parts_name_lookup[sq[1]]]\n",
    "     for sq in filtered_order if sq[2] == 'ValueBinding']"
   ]
  },
  {
   "cell_type": "code",
   "execution_count": null,
   "id": "28",
   "metadata": {},
   "outputs": [],
   "source": [
    "[[parts_lpg.model.elements[sq[0]].type, parts_lpg.model.elements[sq[1]].type]\n",
    "     for sq in filtered_order if sq[2] == 'ValueBinding']"
   ]
  },
  {
   "cell_type": "markdown",
   "id": "29",
   "metadata": {},
   "source": [
    "### Expression Sequences\n",
    "\n",
    "Show the structure of sequences built for features that are expressions and how they nest within the model."
   ]
  },
  {
   "cell_type": "code",
   "execution_count": null,
   "id": "30",
   "metadata": {},
   "outputs": [],
   "source": [
    "all_expr_sequences = build_expression_sequence_templates(lpg=parts_lpg)\n",
    "expr_sequences = [seq for seq in all_expr_sequences\n",
    "                             if parts_lpg.model.elements[seq[-1]].owning_package in [parts_lpg.model.ownedElement[\"Simple Expressions\"]]]\n",
    "[[parameter_signatures[item] if item in parameter_signatures else get_label_for_id(item, parts_lpg.model) for item in seq] for seq in expr_sequences]"
   ]
  },
  {
   "cell_type": "code",
   "execution_count": null,
   "id": "31",
   "metadata": {},
   "outputs": [],
   "source": [
    "cg = CalculationGroup(parts_lpg.get_projection(\"Expression Inferred\"), m0_interpretation, filtered_order)\n",
    "cg.solve_graph(parts_lpg)"
   ]
  },
  {
   "cell_type": "markdown",
   "id": "32",
   "metadata": {},
   "source": [
    "### Final Results\n",
    "\n",
    "Show the expressions with results bound to individuals at the M0 level."
   ]
  },
  {
   "cell_type": "code",
   "execution_count": null,
   "id": "33",
   "metadata": {},
   "outputs": [],
   "source": [
    "[(parameter_signatures[sq[0]], m0_interpretation[sq[1]], get_label_for_id(sq[1], parts_lpg.model))\n",
    "     for sq in filtered_order if sq[2] == 'ValueBinding']"
   ]
  },
  {
   "cell_type": "code",
   "execution_count": null,
   "id": "34",
   "metadata": {},
   "outputs": [],
   "source": [
    "pprint_interpretation(m0_interpretation, parts_lpg.model)"
   ]
  },
  {
   "cell_type": "code",
   "execution_count": null,
   "id": "35",
   "metadata": {},
   "outputs": [],
   "source": []
  }
 ],
 "metadata": {
  "kernelspec": {
   "display_name": "Python 3 (ipykernel)",
   "language": "python",
   "name": "python3"
  },
  "language_info": {
   "codemirror_mode": {
    "name": "ipython",
    "version": 3
   },
   "file_extension": ".py",
   "mimetype": "text/x-python",
   "name": "python",
   "nbconvert_exporter": "python",
   "pygments_lexer": "ipython3",
   "version": "3.9.6"
  }
 },
 "nbformat": 4,
 "nbformat_minor": 5
}
