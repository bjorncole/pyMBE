{
 "cells": [
  {
   "cell_type": "markdown",
   "id": "890699c4",
   "metadata": {},
   "source": [
    "# Basics of Features at M0\n",
    "\n",
    "This notebook walks through some core concepts around Features (M1 elements that are interpreted as sequences of atoms of length at least two) and how they relate to Classifiers (M1 elements that are interpreted as sequences of atoms of length at least one).\n",
    "\n",
    "## Background\n",
    "\n",
    "Features are a fundamental part of the underlying semantics of SysML v2. The exection of models requires the generation of structural instances that conform to the user model and supporting libraries. "
   ]
  },
  {
   "cell_type": "markdown",
   "id": "3aa7c0f9",
   "metadata": {},
   "source": [
    "## Determining the Minimum Length of Feature Sequence\n",
    "\n",
    "The minimum length of a feature sequence is based on how many levels of nesting it has within other types. \n",
    "\n",
    "The \"build sequence templates\" function is used to generate the minimal sequences for a given feature based on its nesting."
   ]
  },
  {
   "cell_type": "code",
   "execution_count": null,
   "id": "28a64910",
   "metadata": {},
   "outputs": [],
   "source": [
    "from pathlib import Path\r\n",
    "\r\n",
    "import pymbe.api as pm\r\n",
    "\r\n",
    "from pymbe.client import SysML2Client\r\n",
    "from pymbe.graph.lpg import SysML2LabeledPropertyGraph\r\n",
    "from pymbe.interpretation.interp_playbooks import (\r\n",
    "    build_sequence_templates,\r\n",
    "    random_generator_playbook,\r\n",
    ")\r\n",
    "from pymbe.interpretation.results import pprint_interpretation\r\n",
    "from pymbe.query.metamodel_navigator import feature_multiplicity\r\n",
    "from pymbe.query.query import (\r\n",
    "    roll_up_multiplicity,\r\n",
    "    roll_up_multiplicity_for_type,\r\n",
    "    get_types_for_feature,\r\n",
    "    get_features_typed_by_type,\r\n",
    ")\r\n",
    "from pymbe.local.stablization import build_stable_id_lookups"
   ]
  },
  {
   "cell_type": "markdown",
   "id": "f969ef1d",
   "metadata": {},
   "source": [
    "## Examples for Minimum Lengths\n",
    "\n",
    "We can look at some examples here to show how this should work. The first of these is the Simple Parts Test."
   ]
  },
  {
   "cell_type": "code",
   "execution_count": null,
   "id": "caeff8b1",
   "metadata": {},
   "outputs": [],
   "source": [
    "parts_client = SysML2Client()\r\n",
    "\r\n",
    "simple_parts_file = Path(pm.__file__).parent / \"../../tests/fixtures/Simple Parts Model.json\"\r\n",
    "\r\n",
    "parts_client._load_from_file(simple_parts_file)\r\n",
    "\r\n",
    "parts_lpg = SysML2LabeledPropertyGraph()\r\n",
    "parts_lpg.model = parts_client.model\r\n",
    "\r\n",
    "SIMPLE_MODEL = \"Model::Simple Parts Model::\"\r\n",
    "\r\n",
    "[id_to_parts_name_lookup, parts_name_to_id_lookup] = build_stable_id_lookups(parts_lpg)\r\n",
    "\r\n",
    "parts_lpg.model.max_multiplicity = 10"
   ]
  },
  {
   "cell_type": "code",
   "execution_count": null,
   "id": "36293d5e",
   "metadata": {},
   "outputs": [],
   "source": [
    "parts_name_to_id_lookup[\"Model::Parts::Part <<PartDefinition>>\"]"
   ]
  },
  {
   "cell_type": "code",
   "execution_count": null,
   "id": "08ac4f24",
   "metadata": {},
   "outputs": [],
   "source": [
    "power_source_id = parts_name_to_id_lookup[f\"{SIMPLE_MODEL}Power Group: Part::Power Source: Part <<PartUsage>>\"]\r\n",
    "power_user_id = parts_name_to_id_lookup[f\"{SIMPLE_MODEL}Power Group: Part::Power User: Part <<PartUsage>>\"]\r\n",
    "power_in_id = parts_name_to_id_lookup[f\"{SIMPLE_MODEL}Power Group: Part::Power User: Part::Power In: Port <<PortUsage>>\"]\r\n",
    "power_out_id = parts_name_to_id_lookup[f\"{SIMPLE_MODEL}Power Group: Part::Power Source: Part::Power Out: Port <<PortUsage>>\"]\r\n",
    "connect_use_id = parts_name_to_id_lookup[f\"{SIMPLE_MODEL}Power Group: Part::powerToUser: Connection <<ConnectionUsage>>\"]\r\n",
    "power_group_id = parts_name_to_id_lookup[f\"{SIMPLE_MODEL}Power Group: Part <<PartUsage>>\"]"
   ]
  },
  {
   "cell_type": "markdown",
   "id": "29cf229e",
   "metadata": {},
   "source": [
    "### Simple Parts Example\n",
    "\n",
    "#### Feature names for sequences\n",
    "\n",
    "The sequence templates below are built to show where the Features are nested within each other and the minimum length of a given sequence."
   ]
  },
  {
   "cell_type": "code",
   "execution_count": null,
   "id": "7ad1e4f2",
   "metadata": {},
   "outputs": [],
   "source": [
    "feature_templates_with_ids = [\r\n",
    "    [item for item in seq] for seq in build_sequence_templates(parts_lpg)\r\n",
    "    if id_to_parts_name_lookup[seq[0]].startswith(\"Model::Simple Parts Model\")\r\n",
    "]\r\n",
    "feature_templates_with_names = [\r\n",
    "    [id_to_parts_name_lookup[item] for item in seq]\r\n",
    "    for seq in build_sequence_templates(parts_lpg)\r\n",
    "    if id_to_parts_name_lookup[seq[0]].startswith(\"Model::Simple Parts Model\")\r\n",
    "]\r\n",
    "feature_templates_with_names"
   ]
  },
  {
   "cell_type": "code",
   "execution_count": null,
   "id": "37f696ec",
   "metadata": {},
   "outputs": [],
   "source": [
    "model_package = parts_lpg.model.ownedElement[\"Simple Parts Model\"]"
   ]
  },
  {
   "cell_type": "markdown",
   "id": "44aa0488",
   "metadata": {},
   "source": [
    "#### Feature types for sequences\n",
    "\n",
    "We can also inspect the types of each of the features (or classifier themselves) to see what will be placed into each step of the sequence.\n",
    "\n",
    "In the below, what we mean to say is that for a given position, the atom in that place will also appear in the 1-tail of the given type. For example, the type that corresponds to the Power User: Part::Power In: Port in the second position, which is a Part, will have all atoms in the 1-tail of Part's sequences. "
   ]
  },
  {
   "cell_type": "code",
   "execution_count": null,
   "id": "5fed644d",
   "metadata": {},
   "outputs": [],
   "source": [
    "[\r\n",
    "    [\r\n",
    "        [\r\n",
    "            id_to_parts_name_lookup[typ]\r\n",
    "            for typ in get_types_for_feature(parts_lpg, parts_lpg.model.elements[item])\r\n",
    "        ]\r\n",
    "        for item in seq\r\n",
    "    ]\r\n",
    "for seq in feature_templates_with_ids\r\n",
    "]"
   ]
  },
  {
   "cell_type": "markdown",
   "id": "a50bc715",
   "metadata": {},
   "source": [
    "#### Counting multiplicty for types\n",
    "\n",
    "Once we know the types of all the features (and can run this query in the opposite direction), we can count how many times a given type will be used in our sequences."
   ]
  },
  {
   "cell_type": "code",
   "execution_count": null,
   "id": "5b850204",
   "metadata": {},
   "outputs": [],
   "source": [
    "part = parts_lpg.model.ownedElement[\"Parts\"].ownedElement[\"Part\"]"
   ]
  },
  {
   "cell_type": "code",
   "execution_count": null,
   "id": "5a43354c",
   "metadata": {},
   "outputs": [],
   "source": [
    "[\r\n",
    "    id_to_parts_name_lookup[item]\r\n",
    "    for item in get_features_typed_by_type(parts_lpg, part)\r\n",
    "]"
   ]
  },
  {
   "cell_type": "code",
   "execution_count": null,
   "id": "69854e55",
   "metadata": {},
   "outputs": [],
   "source": [
    "[parts_lpg.model.elements[item].isAbstract for item in\r\n",
    "     get_features_typed_by_type(parts_lpg, part)]"
   ]
  },
  {
   "cell_type": "code",
   "execution_count": null,
   "id": "bab3f8e4",
   "metadata": {},
   "outputs": [],
   "source": [
    "[roll_up_multiplicity(parts_lpg, parts_lpg.model.elements[item], \"upper\") for item in\r\n",
    "     get_features_typed_by_type(parts_lpg, part)]"
   ]
  },
  {
   "cell_type": "code",
   "execution_count": null,
   "id": "5d7be793",
   "metadata": {},
   "outputs": [],
   "source": [
    "[feature_multiplicity(parts_lpg.model.elements[item], \"upper\") for item in\r\n",
    "     get_features_typed_by_type(parts_lpg, part)]"
   ]
  },
  {
   "cell_type": "code",
   "execution_count": null,
   "id": "1b2884fb",
   "metadata": {},
   "outputs": [],
   "source": [
    "roll_up_multiplicity_for_type(parts_lpg, part, \"lower\")"
   ]
  },
  {
   "cell_type": "code",
   "execution_count": null,
   "id": "b9100ef0",
   "metadata": {},
   "outputs": [],
   "source": [
    "roll_up_multiplicity_for_type(parts_lpg, part, \"upper\")"
   ]
  },
  {
   "cell_type": "code",
   "execution_count": null,
   "id": "968ef926",
   "metadata": {},
   "outputs": [],
   "source": [
    "simple_parts_pkg = parts_lpg.model.ownedElement[\"Simple Parts Model\"]\r\n",
    "power_group = simple_parts_pkg.ownedElement[\"Power Group\"]\r\n",
    "power_user = power_group.ownedElement[\"Power User\"]"
   ]
  },
  {
   "cell_type": "code",
   "execution_count": null,
   "id": "199636eb",
   "metadata": {},
   "outputs": [],
   "source": [
    "[\r\n",
    "     roll_up_multiplicity(parts_lpg, parts_lpg.model.elements[item], \"upper\")\r\n",
    "     for item in [power_user]\r\n",
    "]"
   ]
  },
  {
   "cell_type": "markdown",
   "id": "d76632db",
   "metadata": {},
   "source": [
    "#### Exploring Connections and Ends\n",
    "\n",
    "An important kind of feature is the feature that is typed by a Connection, which has two ends."
   ]
  },
  {
   "cell_type": "code",
   "execution_count": null,
   "id": "91450213",
   "metadata": {},
   "outputs": [],
   "source": [
    "connection_usage = [\r\n",
    "    usage for usage in power_group.ownedElement\r\n",
    "    if usage._metatype == \"ConnectionUsage\"\r\n",
    "][0]\r\n",
    "connection_usage"
   ]
  },
  {
   "cell_type": "code",
   "execution_count": null,
   "id": "3c69d499",
   "metadata": {},
   "outputs": [],
   "source": [
    "connection_usage.target[0].chainingFeature"
   ]
  },
  {
   "cell_type": "markdown",
   "id": "dfae5fdd",
   "metadata": {},
   "source": [
    "### Repeating for Simple Parts Banded"
   ]
  },
  {
   "cell_type": "code",
   "execution_count": null,
   "id": "cf2bede6",
   "metadata": {},
   "outputs": [],
   "source": [
    "parts_banded_client = SysML2Client()\r\n",
    "\r\n",
    "simple_parts_banded_file = Path(pm.__file__).parent / \"../../tests/fixtures/Simple Parts Model Banded.json\"\r\n",
    "\r\n",
    "parts_banded_client._load_from_file(simple_parts_banded_file)\r\n",
    "\r\n",
    "parts_banded_lpg = SysML2LabeledPropertyGraph()\r\n",
    "parts_banded_lpg.model = parts_banded_client.model\r\n",
    "\r\n",
    "SIMPLE_MODEL = \"Model::Simple Parts Model::\"\r\n",
    "\r\n",
    "[id_to_parts_banded_name_lookup, parts_banded_name_to_id_lookup] = build_stable_id_lookups(parts_banded_lpg)\r\n",
    "\r\n",
    "parts_banded_lpg.model.max_multiplicity = 10"
   ]
  },
  {
   "cell_type": "markdown",
   "id": "a3edfe13",
   "metadata": {},
   "source": [
    "#### Feature names for sequences"
   ]
  },
  {
   "cell_type": "code",
   "execution_count": null,
   "id": "6ce2a9c3",
   "metadata": {},
   "outputs": [],
   "source": [
    "feature_templates_with_ids = [\r\n",
    "    [item for item in seq] for seq in build_sequence_templates(parts_banded_lpg)\r\n",
    "    if id_to_parts_banded_name_lookup[seq[0]].startswith(\"Model::Simple Parts Model Banded\")\r\n",
    "]\r\n",
    "feature_templates_with_names = [\r\n",
    "    [id_to_parts_banded_name_lookup[item] for item in seq]\r\n",
    "    for seq in build_sequence_templates(parts_banded_lpg)\r\n",
    "    if id_to_parts_banded_name_lookup[seq[0]].startswith(\"Model::Simple Parts Model Banded\")\r\n",
    "]\r\n",
    "feature_templates_with_names"
   ]
  },
  {
   "cell_type": "code",
   "execution_count": null,
   "id": "d1d1b95f",
   "metadata": {},
   "outputs": [],
   "source": [
    "feature_templates_with_ids"
   ]
  },
  {
   "cell_type": "code",
   "execution_count": null,
   "id": "30cb32c8",
   "metadata": {},
   "outputs": [],
   "source": [
    "parts_banded_lpg.model.elements['5a0d74d4-063c-4151-8296-df3abf9fb6b5']"
   ]
  },
  {
   "cell_type": "markdown",
   "id": "501999fc",
   "metadata": {},
   "source": [
    "#### Feature types for sequences"
   ]
  },
  {
   "cell_type": "code",
   "execution_count": null,
   "id": "82194a8d",
   "metadata": {},
   "outputs": [],
   "source": [
    "feature_template_types_with_names = [\r\n",
    "    [\r\n",
    "        [\r\n",
    "            id_to_parts_banded_name_lookup[typ]\r\n",
    "            for typ in get_types_for_feature(parts_banded_lpg, parts_banded_lpg.model.elements[item])\r\n",
    "         ] or [id_to_parts_banded_name_lookup[item]]\r\n",
    "    for item in seq\r\n",
    "    ]\r\n",
    "for seq in feature_templates_with_ids\r\n",
    "]\r\n",
    "\r\n",
    "feature_template_types_with_names"
   ]
  },
  {
   "cell_type": "markdown",
   "id": "828dd20e",
   "metadata": {},
   "source": [
    "#### Counting multiplicty for types"
   ]
  },
  {
   "cell_type": "code",
   "execution_count": null,
   "id": "29378143",
   "metadata": {},
   "outputs": [],
   "source": [
    "[\r\n",
    "     roll_up_multiplicity(parts_banded_lpg, parts_banded_lpg.model.elements[item], \"upper\")\r\n",
    "     for item in get_features_typed_by_type(parts_banded_lpg, parts_banded_lpg.model.ownedElement[\"Parts\"].ownedElement[\"Part\"])\r\n",
    "]"
   ]
  },
  {
   "cell_type": "code",
   "execution_count": null,
   "id": "5df3820e",
   "metadata": {},
   "outputs": [],
   "source": [
    "banded_pkg = parts_banded_lpg.model.ownedElement[\"Simple Parts Model Banded\"]"
   ]
  },
  {
   "cell_type": "code",
   "execution_count": null,
   "id": "208983c6",
   "metadata": {},
   "outputs": [],
   "source": [
    "[\r\n",
    "     roll_up_multiplicity(parts_banded_lpg, parts_banded_lpg.model.elements[item], \"lower\")\r\n",
    "     for item in get_features_typed_by_type(parts_banded_lpg, banded_pkg.ownedElement[\"User\"])\r\n",
    "]"
   ]
  },
  {
   "cell_type": "code",
   "execution_count": null,
   "id": "c7c5e003",
   "metadata": {},
   "outputs": [],
   "source": [
    "[\r\n",
    "     roll_up_multiplicity(parts_banded_lpg, parts_banded_lpg.model.elements[item], \"upper\")\r\n",
    "     for item in get_features_typed_by_type(parts_banded_lpg, banded_pkg.ownedElement[\"User\"])\r\n",
    "]"
   ]
  },
  {
   "cell_type": "code",
   "execution_count": null,
   "id": "adebf3bd",
   "metadata": {},
   "outputs": [],
   "source": [
    "[\r\n",
    "     roll_up_multiplicity(parts_banded_lpg, parts_banded_lpg.model.elements[item], \"upper\")\r\n",
    "     for item in get_features_typed_by_type(parts_banded_lpg, banded_pkg.ownedElement[\"Source\"])\r\n",
    "]"
   ]
  },
  {
   "cell_type": "code",
   "execution_count": null,
   "id": "85cd1061",
   "metadata": {},
   "outputs": [],
   "source": [
    "parts_lpg.model.ownedElement[\"Connections\"].ownedElement[0]"
   ]
  },
  {
   "cell_type": "code",
   "execution_count": null,
   "id": "4287622e",
   "metadata": {},
   "outputs": [],
   "source": [
    "m0_interpretation = random_generator_playbook(\r\n",
    "    parts_lpg,\r\n",
    "    {},\r\n",
    "    [parts_lpg.model.ownedElement[\"Simple Parts Model\"]]\r\n",
    ")"
   ]
  },
  {
   "cell_type": "code",
   "execution_count": null,
   "id": "7bb6d8af",
   "metadata": {},
   "outputs": [],
   "source": [
    "pprint_interpretation(m0_interpretation, parts_lpg.model)"
   ]
  }
 ],
 "metadata": {
  "kernelspec": {
   "display_name": "Python 3 (ipykernel)",
   "language": "python",
   "name": "python3"
  },
  "language_info": {
   "codemirror_mode": {
    "name": "ipython",
    "version": 3
   },
   "file_extension": ".py",
   "mimetype": "text/x-python",
   "name": "python",
   "nbconvert_exporter": "python",
   "pygments_lexer": "ipython3",
   "version": "3.9.6"
  }
 },
 "nbformat": 4,
 "nbformat_minor": 5
}
