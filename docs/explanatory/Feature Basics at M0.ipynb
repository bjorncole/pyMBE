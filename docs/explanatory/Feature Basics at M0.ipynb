{
 "cells": [
  {
   "cell_type": "markdown",
   "id": "1577df35-0a5d-4ff0-8d54-bb0aff415b5e",
   "metadata": {},
   "source": [
    "# Basics of Features at M0\n",
    "\n",
    "This notebook walks through some core concepts around Features (M1 elements that are interpreted as sequences of atoms of length at least two) and how they relate to Classifiers (M1 elements that are interpreted as sequences of atoms of length at least one).\n",
    "\n",
    "## Background\n",
    "\n",
    "Features are a fundamental part of the underlying semantics of SysML v2. The exection of models requires the generation of structural instances that conform to the user model and supporting libraries. "
   ]
  },
  {
   "cell_type": "markdown",
   "id": "084ae194-f231-4775-8d8d-20bf0a6c47b6",
   "metadata": {},
   "source": [
    "## Determining the Minimum Length of Feature Sequence\n",
    "\n",
    "The minimum length of a feature sequence is based on how many levels of nesting it has within other types. \n",
    "\n",
    "The \"build sequence templates\" function is used to generate the minimal sequences for a given feature based on its nesting."
   ]
  },
  {
   "cell_type": "code",
   "execution_count": null,
   "id": "74c6fcfb-bcc4-4e07-b4bd-e9bd2a3f17f1",
   "metadata": {},
   "outputs": [],
   "source": [
    "from pathlib import Path\n",
    "import networkx as nx\n",
    "\n",
    "import pymbe.api as pm\n",
    "\n",
    "from pymbe.client import SysML2Client\n",
    "from pymbe.graph.lpg import SysML2LabeledPropertyGraph\n",
    "from pymbe.interpretation.interpretation import repack_instance_dictionaries\n",
    "from pymbe.interpretation.interp_playbooks import (\n",
    "    build_expression_sequence_templates,\n",
    "    build_sequence_templates,\n",
    "    random_generator_playbook,\n",
    "    random_generator_playbook_phase_3_new_instances,\n",
    ")\n",
    "from pymbe.interpretation.results import *\n",
    "from pymbe.label import get_label_for_id\n",
    "from pymbe.query.metamodel_navigator import feature_multiplicity\n",
    "from pymbe.query.query import (\n",
    "    roll_up_multiplicity,\n",
    "    roll_up_upper_multiplicity,\n",
    "    roll_up_multiplicity_for_type,\n",
    "    get_types_for_feature,\n",
    "    get_features_typed_by_type,\n",
    ")\n",
    "from pymbe.local.stablization import build_stable_id_lookups"
   ]
  },
  {
   "cell_type": "markdown",
   "id": "d0047e8f-b755-46e6-b1b1-79fbe1036a65",
   "metadata": {},
   "source": [
    "## Examples for Minimum Lengths\n",
    "\n",
    "We can look at some examples here to show how this should work. The first of these is the Simple Parts Test."
   ]
  },
  {
   "cell_type": "code",
   "execution_count": null,
   "id": "5a8bde6a-7e81-45d6-88ae-9559776b9e33",
   "metadata": {},
   "outputs": [],
   "source": [
    "parts_client = SysML2Client()\n",
    "\n",
    "simple_parts_file = Path(pm.__file__).parent / \"../../tests/fixtures/Simple Parts Model.json\"\n",
    "\n",
    "parts_client._load_from_file(simple_parts_file)\n",
    "\n",
    "parts_lpg = SysML2LabeledPropertyGraph()\n",
    "parts_lpg.model = parts_client.model\n",
    "\n",
    "SIMPLE_MODEL = \"Model::Simple Parts Model::\"\n",
    "\n",
    "[id_to_parts_name_lookup, parts_name_to_id_lookup] = build_stable_id_lookups(parts_lpg)\n",
    "\n",
    "parts_lpg.model.MAX_MULTIPLICITY = 10"
   ]
  },
  {
   "cell_type": "code",
   "execution_count": null,
   "id": "9edda37e-669a-4879-83c6-6717d96f4b2d",
   "metadata": {},
   "outputs": [],
   "source": [
    "parts_name_to_id_lookup[\"Model::Parts::Part <<PartDefinition>>\"]"
   ]
  },
  {
   "cell_type": "code",
   "execution_count": null,
   "id": "fe18f770-0b14-4411-8ec1-433bd4e0eb55",
   "metadata": {},
   "outputs": [],
   "source": [
    "power_source_id = parts_name_to_id_lookup[f\"{SIMPLE_MODEL}Power Group: Part::Power Source: Part <<PartUsage>>\"]\n",
    "power_user_id = parts_name_to_id_lookup[f\"{SIMPLE_MODEL}Power Group: Part::Power User: Part <<PartUsage>>\"]\n",
    "power_in_id = parts_name_to_id_lookup[f\"{SIMPLE_MODEL}Power Group: Part::Power User: Part::Power In: Port <<PortUsage>>\"]\n",
    "power_out_id = parts_name_to_id_lookup[f\"{SIMPLE_MODEL}Power Group: Part::Power Source: Part::Power Out: Port <<PortUsage>>\"]\n",
    "connect_use_id = parts_name_to_id_lookup[f\"{SIMPLE_MODEL}Power Group: Part::powerToUser: Connection <<ConnectionUsage>>\"]\n",
    "power_group_id = parts_name_to_id_lookup[f\"{SIMPLE_MODEL}Power Group: Part <<PartUsage>>\"]"
   ]
  },
  {
   "cell_type": "markdown",
   "id": "d0ba6337-e8ab-4a24-b7c2-7aebf3d164f7",
   "metadata": {},
   "source": [
    "### Simple Parts Example\n",
    "\n",
    "#### Feature names for sequences\n",
    "\n",
    "The sequence templates below are built to show where the Features are nested within each other and the minimum length of a given sequence."
   ]
  },
  {
   "cell_type": "code",
   "execution_count": null,
   "id": "68a99fd9-c461-4717-9f1a-5608f089a1d2",
   "metadata": {},
   "outputs": [],
   "source": [
    "feature_templates_with_ids = [[item for item in seq] for seq in build_sequence_templates(parts_lpg)\n",
    "                                    if id_to_parts_name_lookup[seq[0]].startswith(\"Model::Simple Parts Model\")]\n",
    "feature_templates_with_names = [[id_to_parts_name_lookup[item] for item in seq] for seq in build_sequence_templates(parts_lpg)\n",
    "                                    if id_to_parts_name_lookup[seq[0]].startswith(\"Model::Simple Parts Model\")]\n",
    "feature_templates_with_names"
   ]
  },
  {
   "cell_type": "code",
   "execution_count": null,
   "id": "32595faa-3970-41c0-8aba-27dcc19c0598",
   "metadata": {},
   "outputs": [],
   "source": [
    "model_package = parts_lpg.model.ownedElement[\"Simple Parts Model\"]"
   ]
  },
  {
   "cell_type": "markdown",
   "id": "51c07d8b-26e8-475e-8a36-935226a33db8",
   "metadata": {},
   "source": [
    "#### Feature types for sequences\n",
    "\n",
    "We can also inspect the types of each of the features (or classifier themselves) to see what will be placed into each step of the sequence.\n",
    "\n",
    "In the below, what we mean to say is that for a given position, the atom in that place will also appear in the 1-tail of the given type. For example, the type that corresponds to the Power User: Part::Power In: Port in the second position, which is a Part, will have all atoms in the 1-tail of Part's sequences. "
   ]
  },
  {
   "cell_type": "code",
   "execution_count": null,
   "id": "110b7ca4-4004-4eaf-a46e-7608328f7e33",
   "metadata": {},
   "outputs": [],
   "source": [
    "[\n",
    "    [\n",
    "        [id_to_parts_name_lookup[typ] for typ in get_types_for_feature(parts_lpg, parts_lpg.model.elements[item])]\n",
    "    for item in seq\n",
    "    ]\n",
    "for seq in feature_templates_with_ids\n",
    "]"
   ]
  },
  {
   "cell_type": "markdown",
   "id": "9c1fa8ba-ac6a-4921-9ebf-6b601f8ac6c1",
   "metadata": {},
   "source": [
    "#### Counting multiplicty for types\n",
    "\n",
    "Once we know the types of all the features (and can run this query in the opposite direction), we can count how many times a given type will be used in our sequences."
   ]
  },
  {
   "cell_type": "code",
   "execution_count": null,
   "id": "9a3285a9-bf3a-4ccb-a2e1-7ba2c093e7dd",
   "metadata": {},
   "outputs": [],
   "source": [
    "[id_to_parts_name_lookup[item] for item in get_features_typed_by_type(parts_lpg, parts_lpg.model.ownedElement[\"Parts\"].ownedElement[\"Part\"])]"
   ]
  },
  {
   "cell_type": "code",
   "execution_count": null,
   "id": "ccee4c56-391d-4152-82cc-1e2b6f0a9272",
   "metadata": {},
   "outputs": [],
   "source": [
    "[parts_lpg.model.elements[item].isAbstract for item in\n",
    "     get_features_typed_by_type(parts_lpg, parts_lpg.model.ownedElement[\"Parts\"].ownedElement[\"Part\"])]"
   ]
  },
  {
   "cell_type": "code",
   "execution_count": null,
   "id": "e2fc9e63-ead7-4053-a0ae-abd751e89423",
   "metadata": {},
   "outputs": [],
   "source": [
    "[roll_up_multiplicity(parts_lpg, parts_lpg.model.elements[item], \"upper\") for item in\n",
    "     get_features_typed_by_type(parts_lpg, parts_lpg.model.ownedElement[\"Parts\"].ownedElement[\"Part\"])]"
   ]
  },
  {
   "cell_type": "code",
   "execution_count": null,
   "id": "a8d956a8-41fd-4a39-b87b-1f555ed787d6",
   "metadata": {},
   "outputs": [],
   "source": [
    "[feature_multiplicity(parts_lpg.model.elements[item], \"upper\") for item in\n",
    "     get_features_typed_by_type(parts_lpg, parts_lpg.model.ownedElement[\"Parts\"].ownedElement[\"Part\"])]"
   ]
  },
  {
   "cell_type": "code",
   "execution_count": null,
   "id": "2df1451a-c75c-47ce-b5bc-3313db07b0e4",
   "metadata": {},
   "outputs": [],
   "source": [
    "roll_up_multiplicity_for_type(parts_lpg, parts_lpg.model.ownedElement[\"Parts\"].ownedElement[\"Part\"], \"lower\")"
   ]
  },
  {
   "cell_type": "code",
   "execution_count": null,
   "id": "bc5954fc-d411-40a7-8e41-e0c89bc22379",
   "metadata": {},
   "outputs": [],
   "source": [
    "roll_up_multiplicity_for_type(parts_lpg, parts_lpg.model.ownedElement[\"Parts\"].ownedElement[\"Part\"], \"upper\")"
   ]
  },
  {
   "cell_type": "code",
   "execution_count": null,
   "id": "927dac44-e139-4f88-b18e-e358eb45adc7",
   "metadata": {},
   "outputs": [],
   "source": [
    "parts_lpg.model.ownedElement[\"Simple Parts Model\"].ownedElement[\"Power Group\"].ownedElement[\"Power User\"]"
   ]
  },
  {
   "cell_type": "code",
   "execution_count": null,
   "id": "a81a7a06-a9c1-44c7-8d86-c68d0d1342ff",
   "metadata": {},
   "outputs": [],
   "source": [
    "[roll_up_multiplicity(parts_lpg, parts_lpg.model.elements[item], \"upper\") for item in\n",
    "     [parts_lpg.model.ownedElement[\"Simple Parts Model\"].ownedElement[\"Power Group\"].ownedElement[\"Power User\"]]]"
   ]
  },
  {
   "cell_type": "markdown",
   "id": "62b0b8b4-1ccd-44fc-9485-c3e6b65fed9d",
   "metadata": {},
   "source": [
    "#### Exploring Connections and Ends\n",
    "\n",
    "An important kind of feature is the feature that is typed by a Connection, which has two ends."
   ]
  },
  {
   "cell_type": "code",
   "execution_count": null,
   "id": "28e665b2-1488-448e-b4ca-a027d4b57f19",
   "metadata": {},
   "outputs": [],
   "source": [
    "connection_usage = [usage for usage in parts_lpg.model.ownedElement[\"Simple Parts Model\"].ownedElement[\"Power Group\"].ownedElement\n",
    "                        if usage._metatype == \"ConnectionUsage\"][0]\n",
    "connection_usage"
   ]
  },
  {
   "cell_type": "code",
   "execution_count": null,
   "id": "d96128a0-e656-47a1-b13d-c7d9d58ac25a",
   "metadata": {},
   "outputs": [],
   "source": [
    "connection_usage.target[0].chainingFeature"
   ]
  },
  {
   "cell_type": "markdown",
   "id": "8df37260-d854-484d-8df2-d764af90a843",
   "metadata": {},
   "source": [
    "### Repeating for Simple Parts Banded"
   ]
  },
  {
   "cell_type": "code",
   "execution_count": null,
   "id": "52b4b3ba-272f-44dc-a6db-4cb9de197d7e",
   "metadata": {},
   "outputs": [],
   "source": [
    "parts_banded_client = SysML2Client()\n",
    "\n",
    "simple_parts_banded_file = Path(pm.__file__).parent / \"../../tests/fixtures/Simple Parts Model Banded.json\"\n",
    "\n",
    "parts_banded_client._load_from_file(simple_parts_banded_file)\n",
    "\n",
    "parts_banded_lpg = SysML2LabeledPropertyGraph()\n",
    "parts_banded_lpg.model = parts_banded_client.model\n",
    "\n",
    "SIMPLE_MODEL = \"Model::Simple Parts Model::\"\n",
    "\n",
    "[id_to_parts_banded_name_lookup, parts_banded_name_to_id_lookup] = build_stable_id_lookups(parts_banded_lpg)\n",
    "\n",
    "parts_banded_lpg.model.MAX_MULTIPLICITY = 10"
   ]
  },
  {
   "cell_type": "markdown",
   "id": "ac912511-47b9-4da6-a41d-086ba0cc1380",
   "metadata": {},
   "source": [
    "#### Feature names for sequences"
   ]
  },
  {
   "cell_type": "code",
   "execution_count": null,
   "id": "d18e8599-7c42-4300-9c24-46ae8e985c8a",
   "metadata": {},
   "outputs": [],
   "source": [
    "banded_feature_templates_with_ids = [[item for item in seq] for seq in build_sequence_templates(parts_banded_lpg)\n",
    "                                    if id_to_parts_banded_name_lookup[seq[0]].startswith(\"Model::Simple Parts Model Banded\")]\n",
    "banded_feature_templates_with_names = [[id_to_parts_banded_name_lookup[item] for item in seq] for seq in build_sequence_templates(parts_banded_lpg)\n",
    "                                    if id_to_parts_banded_name_lookup[seq[0]].startswith(\"Model::Simple Parts Model Banded\")]\n",
    "banded_feature_templates_with_names"
   ]
  },
  {
   "cell_type": "code",
   "execution_count": null,
   "id": "875b8217-18a3-431d-8be5-ca340426050f",
   "metadata": {},
   "outputs": [],
   "source": [
    "banded_feature_templates_with_ids"
   ]
  },
  {
   "cell_type": "code",
   "execution_count": null,
   "id": "d1a6f20a-870d-440e-891c-ebc03f939d90",
   "metadata": {},
   "outputs": [],
   "source": [
    "parts_banded_lpg.model.elements['5a0d74d4-063c-4151-8296-df3abf9fb6b5']"
   ]
  },
  {
   "cell_type": "markdown",
   "id": "fe19af82-f345-4b0b-9935-dbd48c9116ab",
   "metadata": {},
   "source": [
    "#### Feature types for sequences"
   ]
  },
  {
   "cell_type": "code",
   "execution_count": null,
   "id": "f0c8df34-cbcf-4eea-865e-c60eebcb2634",
   "metadata": {},
   "outputs": [],
   "source": [
    "banded_feature_template_types_with_names = [\n",
    "    [\n",
    "        [\n",
    "            id_to_parts_banded_name_lookup[typ]\n",
    "            for typ in get_types_for_feature(parts_banded_lpg, parts_banded_lpg.model.elements[item])\n",
    "         ] or [id_to_parts_banded_name_lookup[item]]\n",
    "    for item in seq\n",
    "    ]\n",
    "for seq in banded_feature_templates_with_ids\n",
    "]\n",
    "\n",
    "banded_feature_template_types_with_names"
   ]
  },
  {
   "cell_type": "markdown",
   "id": "14ec7d6b-7d8e-4846-874f-98ba68fac0fa",
   "metadata": {},
   "source": [
    "#### Counting multiplicty for types"
   ]
  },
  {
   "cell_type": "code",
   "execution_count": null,
   "id": "f49e04fc-0e21-43e7-b3f7-b3531997567a",
   "metadata": {},
   "outputs": [],
   "source": [
    "[roll_up_multiplicity(parts_banded_lpg, parts_banded_lpg.model.elements[item], \"upper\") for item in\n",
    "     get_features_typed_by_type(parts_banded_lpg, parts_banded_lpg.model.ownedElement[\"Parts\"].ownedElement[\"Part\"])]"
   ]
  },
  {
   "cell_type": "code",
   "execution_count": null,
   "id": "12b75ec9-c250-4e71-b8e4-36863d28c0a8",
   "metadata": {},
   "outputs": [],
   "source": [
    "[roll_up_multiplicity(parts_banded_lpg, parts_banded_lpg.model.elements[item], \"lower\") for item in\n",
    "     get_features_typed_by_type(parts_banded_lpg, parts_banded_lpg.model.ownedElement[\"Simple Parts Model Banded\"].ownedElement[\"User\"])]"
   ]
  },
  {
   "cell_type": "code",
   "execution_count": null,
   "id": "20d0e02a-fa74-4b5b-89e1-ddc54dc4165d",
   "metadata": {},
   "outputs": [],
   "source": [
    "[roll_up_multiplicity(parts_banded_lpg, parts_banded_lpg.model.elements[item], \"upper\") for item in\n",
    "     get_features_typed_by_type(parts_banded_lpg, parts_banded_lpg.model.ownedElement[\"Simple Parts Model Banded\"].ownedElement[\"User\"])]"
   ]
  },
  {
   "cell_type": "code",
   "execution_count": null,
   "id": "6e95edbe-65a0-4105-af6b-1b519e7ace97",
   "metadata": {},
   "outputs": [],
   "source": [
    "[roll_up_multiplicity(parts_banded_lpg, parts_banded_lpg.model.elements[item], \"upper\") for item in\n",
    "     get_features_typed_by_type(parts_banded_lpg, parts_banded_lpg.model.ownedElement[\"Simple Parts Model Banded\"].ownedElement[\"Source\"])]"
   ]
  },
  {
   "cell_type": "code",
   "execution_count": null,
   "id": "0d8ced63-aacb-49f5-9b2c-f3a78da32527",
   "metadata": {},
   "outputs": [],
   "source": [
    "parts_lpg.model.ownedElement[\"Parts\"].ownedElement[\"Part\"].isAbstract"
   ]
  },
  {
   "cell_type": "code",
   "execution_count": null,
   "id": "5d66e1a3-1429-4a06-872f-2893b9c5b2dc",
   "metadata": {},
   "outputs": [],
   "source": [
    "instances_trial = {}"
   ]
  },
  {
   "cell_type": "code",
   "execution_count": null,
   "id": "dcdf459d-a3fc-4819-9b97-63391ac99ac3",
   "metadata": {},
   "outputs": [],
   "source": [
    "random_generator_playbook_phase_3_new_instances(parts_lpg.model, feature_templates_with_ids, instances_trial)"
   ]
  },
  {
   "cell_type": "code",
   "execution_count": null,
   "id": "cb9c9508-ddd8-4bdd-b90a-9bbc29adca9d",
   "metadata": {},
   "outputs": [],
   "source": [
    "pprint_interpretation(instances_trial, parts_lpg.model)"
   ]
  },
  {
   "cell_type": "code",
   "execution_count": null,
   "id": "4b6d9805-d549-425c-a0fd-93ed8f60f004",
   "metadata": {},
   "outputs": [],
   "source": [
    "banded_instances_trial = {}"
   ]
  },
  {
   "cell_type": "code",
   "execution_count": null,
   "id": "e9d13350-230d-4fc6-a296-c1334ecf6250",
   "metadata": {},
   "outputs": [],
   "source": [
    "random_generator_playbook_phase_3_new_instances(parts_banded_lpg.model, banded_feature_templates_with_ids, banded_instances_trial)"
   ]
  },
  {
   "cell_type": "code",
   "execution_count": null,
   "id": "ec033228-e332-41e5-81f2-855390929831",
   "metadata": {},
   "outputs": [],
   "source": [
    "pprint_interpretation(banded_instances_trial, parts_banded_lpg.model)"
   ]
  },
  {
   "cell_type": "code",
   "execution_count": null,
   "id": "0af789d0-e678-4b0a-b634-b96aa4f3aa0f",
   "metadata": {},
   "outputs": [],
   "source": [
    "m0_interpretation = random_generator_playbook(\n",
    "    parts_lpg,\n",
    "    {},\n",
    "    [parts_lpg.model.ownedElement[\"Simple Parts Model\"]]\n",
    ")"
   ]
  },
  {
   "cell_type": "code",
   "execution_count": null,
   "id": "bf471db5-4a25-418a-98e3-e4ad1d9a77cf",
   "metadata": {},
   "outputs": [],
   "source": [
    "pprint_interpretation(m0_interpretation, parts_lpg.model)"
   ]
  },
  {
   "cell_type": "code",
   "execution_count": null,
   "id": "475a133f-5e81-419f-a1a7-4c68033dff33",
   "metadata": {},
   "outputs": [],
   "source": []
  }
 ],
 "metadata": {
  "kernelspec": {
   "display_name": "Python 3 (ipykernel)",
   "language": "python",
   "name": "python3"
  },
  "language_info": {
   "codemirror_mode": {
    "name": "ipython",
    "version": 3
   },
   "file_extension": ".py",
   "mimetype": "text/x-python",
   "name": "python",
   "nbconvert_exporter": "python",
   "pygments_lexer": "ipython3",
   "version": "3.9.6"
  }
 },
 "nbformat": 4,
 "nbformat_minor": 5
}
