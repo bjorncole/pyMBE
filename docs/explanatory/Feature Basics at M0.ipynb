{
 "cells": [
  {
   "cell_type": "markdown",
   "id": "0",
   "metadata": {},
   "source": [
    "# Basics of Features at M0\n",
    "\n",
    "This notebook walks through some core concepts around Features (M1 elements that are interpreted as sequences of atoms of length at least two) and how they relate to Classifiers (M1 elements that are interpreted as sequences of atoms of length at least one).\n",
    "\n",
    "## Background\n",
    "\n",
    "Features are a fundamental part of the underlying semantics of SysML v2. The exection of models requires the generation of structural instances that conform to the user model and supporting libraries. "
   ]
  },
  {
   "cell_type": "markdown",
   "id": "1",
   "metadata": {},
   "source": [
    "## Determining the Minimum Length of Feature Sequence\n",
    "\n",
    "The minimum length of a feature sequence is based on how many levels of nesting it has within other types. \n",
    "\n",
    "The \"build sequence templates\" function is used to generate the minimal sequences for a given feature based on its nesting."
   ]
  },
  {
   "cell_type": "code",
   "execution_count": null,
   "id": "2",
   "metadata": {},
   "outputs": [],
   "source": [
    "from pathlib import Path\n",
    "import networkx as nx\n",
    "\n",
    "import pymbe.api as pm\n",
    "\n",
    "from pymbe.client import SysML2Client\n",
    "from pymbe.graph.lpg import SysML2LabeledPropertyGraph\n",
    "from pymbe.interpretation.interpretation import repack_instance_dictionaries\n",
    "from pymbe.interpretation.interp_playbooks import (\n",
    "    build_expression_sequence_templates,\n",
    "    build_sequence_templates,\n",
    "    random_generator_playbook,\n",
    "    random_generator_playbook_phase_3_new_instances,\n",
    ")\n",
    "from pymbe.interpretation.results import *\n",
    "from pymbe.label import get_label_for_id\n",
    "from pymbe.query.metamodel_navigator import feature_multiplicity\n",
    "from pymbe.query.query import (\n",
    "    roll_up_multiplicity,\n",
    "    roll_up_upper_multiplicity,\n",
    "    roll_up_multiplicity_for_type,\n",
    "    get_types_for_feature,\n",
    "    get_features_typed_by_type,\n",
    ")\n",
    "from pymbe.local.stablization import build_stable_id_lookups"
   ]
  },
  {
   "cell_type": "markdown",
   "id": "3",
   "metadata": {},
   "source": [
    "## Examples for Minimum Lengths\n",
    "\n",
    "We can look at some examples here to show how this should work. The first of these is the Simple Parts Test."
   ]
  },
  {
   "cell_type": "code",
   "execution_count": null,
   "id": "4",
   "metadata": {},
   "outputs": [],
   "source": [
    "parts_client = SysML2Client()\n",
    "\n",
    "simple_parts_file = Path(pm.__file__).parent / \"../../tests/fixtures/Simple Parts Model.json\"\n",
    "\n",
    "parts_client._load_from_file(simple_parts_file)\n",
    "\n",
    "parts_lpg = SysML2LabeledPropertyGraph()\n",
    "parts_lpg.model = parts_client.model\n",
    "\n",
    "SIMPLE_MODEL = \"Model::Simple Parts Model::\"\n",
    "\n",
    "[id_to_parts_name_lookup, parts_name_to_id_lookup] = build_stable_id_lookups(parts_lpg)\n",
    "\n",
    "parts_lpg.model.MAX_MULTIPLICITY = 10"
   ]
  },
  {
   "cell_type": "code",
   "execution_count": null,
   "id": "5",
   "metadata": {},
   "outputs": [],
   "source": [
    "parts_name_to_id_lookup[\"Model::Parts::Part <<PartDefinition>>\"]"
   ]
  },
  {
   "cell_type": "code",
   "execution_count": null,
   "id": "6",
   "metadata": {},
   "outputs": [],
   "source": [
    "power_source_id = parts_name_to_id_lookup[f\"{SIMPLE_MODEL}Power Group: Part::Power Source: Part <<PartUsage>>\"]\n",
    "power_user_id = parts_name_to_id_lookup[f\"{SIMPLE_MODEL}Power Group: Part::Power User: Part <<PartUsage>>\"]\n",
    "power_in_id = parts_name_to_id_lookup[f\"{SIMPLE_MODEL}Power Group: Part::Power User: Part::Power In: Port <<PortUsage>>\"]\n",
    "power_out_id = parts_name_to_id_lookup[f\"{SIMPLE_MODEL}Power Group: Part::Power Source: Part::Power Out: Port <<PortUsage>>\"]\n",
    "connect_use_id = parts_name_to_id_lookup[f\"{SIMPLE_MODEL}Power Group: Part::powerToUser: Connection <<ConnectionUsage>>\"]\n",
    "power_group_id = parts_name_to_id_lookup[f\"{SIMPLE_MODEL}Power Group: Part <<PartUsage>>\"]"
   ]
  },
  {
   "cell_type": "markdown",
   "id": "7",
   "metadata": {},
   "source": [
    "### Simple Parts Example\n",
    "\n",
    "#### Feature names for sequences\n",
    "\n",
    "The sequence templates below are built to show where the Features are nested within each other and the minimum length of a given sequence."
   ]
  },
  {
   "cell_type": "code",
   "execution_count": null,
   "id": "8",
   "metadata": {},
   "outputs": [],
   "source": [
    "feature_templates_with_ids = [[item for item in seq] for seq in build_sequence_templates(parts_lpg)\n",
    "                                    if id_to_parts_name_lookup[seq[0]].startswith(\"Model::Simple Parts Model\")]\n",
    "feature_templates_with_names = [[id_to_parts_name_lookup[item] for item in seq] for seq in build_sequence_templates(parts_lpg)\n",
    "                                    if id_to_parts_name_lookup[seq[0]].startswith(\"Model::Simple Parts Model\")]\n",
    "feature_templates_with_names"
   ]
  },
  {
   "cell_type": "code",
   "execution_count": null,
   "id": "9",
   "metadata": {},
   "outputs": [],
   "source": [
    "model_package = parts_lpg.model.ownedElement[\"Simple Parts Model\"]"
   ]
  },
  {
   "cell_type": "markdown",
   "id": "10",
   "metadata": {},
   "source": [
    "#### Feature types for sequences\n",
    "\n",
    "We can also inspect the types of each of the features (or classifier themselves) to see what will be placed into each step of the sequence.\n",
    "\n",
    "In the below, what we mean to say is that for a given position, the atom in that place will also appear in the 1-tail of the given type. For example, the type that corresponds to the Power User: Part::Power In: Port in the second position, which is a Part, will have all atoms in the 1-tail of Part's sequences. "
   ]
  },
  {
   "cell_type": "code",
   "execution_count": null,
   "id": "11",
   "metadata": {},
   "outputs": [],
   "source": [
    "[\n",
    "    [\n",
    "        [id_to_parts_name_lookup[typ] for typ in get_types_for_feature(parts_lpg, parts_lpg.model.elements[item])]\n",
    "    for item in seq\n",
    "    ]\n",
    "for seq in feature_templates_with_ids\n",
    "]"
   ]
  },
  {
   "cell_type": "markdown",
   "id": "12",
   "metadata": {},
   "source": [
    "#### Counting multiplicty for types\n",
    "\n",
    "Once we know the types of all the features (and can run this query in the opposite direction), we can count how many times a given type will be used in our sequences."
   ]
  },
  {
   "cell_type": "code",
   "execution_count": null,
   "id": "13",
   "metadata": {},
   "outputs": [],
   "source": [
    "[id_to_parts_name_lookup[item] for item in get_features_typed_by_type(parts_lpg, parts_lpg.model.ownedElement[\"Parts\"].ownedElement[\"Part\"])]"
   ]
  },
  {
   "cell_type": "code",
   "execution_count": null,
   "id": "14",
   "metadata": {},
   "outputs": [],
   "source": [
    "[parts_lpg.model.elements[item].isAbstract for item in\n",
    "     get_features_typed_by_type(parts_lpg, parts_lpg.model.ownedElement[\"Parts\"].ownedElement[\"Part\"])]"
   ]
  },
  {
   "cell_type": "code",
   "execution_count": null,
   "id": "15",
   "metadata": {},
   "outputs": [],
   "source": [
    "[roll_up_multiplicity(parts_lpg, parts_lpg.model.elements[item], \"upper\") for item in\n",
    "     get_features_typed_by_type(parts_lpg, parts_lpg.model.ownedElement[\"Parts\"].ownedElement[\"Part\"])]"
   ]
  },
  {
   "cell_type": "code",
   "execution_count": null,
   "id": "16",
   "metadata": {},
   "outputs": [],
   "source": [
    "[feature_multiplicity(parts_lpg.model.elements[item], \"upper\") for item in\n",
    "     get_features_typed_by_type(parts_lpg, parts_lpg.model.ownedElement[\"Parts\"].ownedElement[\"Part\"])]"
   ]
  },
  {
   "cell_type": "code",
   "execution_count": null,
   "id": "17",
   "metadata": {},
   "outputs": [],
   "source": [
    "roll_up_multiplicity_for_type(parts_lpg, parts_lpg.model.ownedElement[\"Parts\"].ownedElement[\"Part\"], \"lower\")"
   ]
  },
  {
   "cell_type": "code",
   "execution_count": null,
   "id": "18",
   "metadata": {},
   "outputs": [],
   "source": [
    "roll_up_multiplicity_for_type(parts_lpg, parts_lpg.model.ownedElement[\"Parts\"].ownedElement[\"Part\"], \"upper\")"
   ]
  },
  {
   "cell_type": "code",
   "execution_count": null,
   "id": "19",
   "metadata": {},
   "outputs": [],
   "source": [
    "parts_lpg.model.ownedElement[\"Simple Parts Model\"].ownedElement[\"Power Group\"].ownedElement[\"Power User\"]"
   ]
  },
  {
   "cell_type": "code",
   "execution_count": null,
   "id": "20",
   "metadata": {},
   "outputs": [],
   "source": [
    "[roll_up_multiplicity(parts_lpg, parts_lpg.model.elements[item], \"upper\") for item in\n",
    "     [parts_lpg.model.ownedElement[\"Simple Parts Model\"].ownedElement[\"Power Group\"].ownedElement[\"Power User\"]]]"
   ]
  },
  {
   "cell_type": "markdown",
   "id": "21",
   "metadata": {},
   "source": [
    "#### Exploring Connections and Ends\n",
    "\n",
    "An important kind of feature is the feature that is typed by a Connection, which has two ends."
   ]
  },
  {
   "cell_type": "code",
   "execution_count": null,
   "id": "22",
   "metadata": {},
   "outputs": [],
   "source": [
    "connection_usage = [usage for usage in parts_lpg.model.ownedElement[\"Simple Parts Model\"].ownedElement[\"Power Group\"].ownedElement\n",
    "                        if usage._metatype == \"ConnectionUsage\"][0]\n",
    "connection_usage"
   ]
  },
  {
   "cell_type": "code",
   "execution_count": null,
   "id": "23",
   "metadata": {},
   "outputs": [],
   "source": [
    "connection_usage.target[0].chainingFeature"
   ]
  },
  {
   "cell_type": "markdown",
   "id": "24",
   "metadata": {},
   "source": [
    "### Repeating for Simple Parts Banded"
   ]
  },
  {
   "cell_type": "code",
   "execution_count": null,
   "id": "25",
   "metadata": {},
   "outputs": [],
   "source": [
    "parts_banded_client = SysML2Client()\n",
    "\n",
    "simple_parts_banded_file = Path(pm.__file__).parent / \"../../tests/fixtures/Simple Parts Model Banded.json\"\n",
    "\n",
    "parts_banded_client._load_from_file(simple_parts_banded_file)\n",
    "\n",
    "parts_banded_lpg = SysML2LabeledPropertyGraph()\n",
    "parts_banded_lpg.model = parts_banded_client.model\n",
    "\n",
    "SIMPLE_MODEL = \"Model::Simple Parts Model::\"\n",
    "\n",
    "[id_to_parts_banded_name_lookup, parts_banded_name_to_id_lookup] = build_stable_id_lookups(parts_banded_lpg)\n",
    "\n",
    "parts_banded_lpg.model.MAX_MULTIPLICITY = 10"
   ]
  },
  {
   "cell_type": "markdown",
   "id": "26",
   "metadata": {},
   "source": [
    "#### Feature names for sequences"
   ]
  },
  {
   "cell_type": "code",
   "execution_count": null,
   "id": "27",
   "metadata": {},
   "outputs": [],
   "source": [
    "banded_feature_templates_with_ids = [[item for item in seq] for seq in build_sequence_templates(parts_banded_lpg)\n",
    "                                    if id_to_parts_banded_name_lookup[seq[0]].startswith(\"Model::Simple Parts Model Banded\")]\n",
    "banded_feature_templates_with_names = [[id_to_parts_banded_name_lookup[item] for item in seq] for seq in build_sequence_templates(parts_banded_lpg)\n",
    "                                    if id_to_parts_banded_name_lookup[seq[0]].startswith(\"Model::Simple Parts Model Banded\")]\n",
    "banded_feature_templates_with_names"
   ]
  },
  {
   "cell_type": "code",
   "execution_count": null,
   "id": "28",
   "metadata": {},
   "outputs": [],
   "source": [
    "banded_feature_templates_with_ids"
   ]
  },
  {
   "cell_type": "code",
   "execution_count": null,
   "id": "29",
   "metadata": {},
   "outputs": [],
   "source": [
    "parts_banded_lpg.model.elements['5a0d74d4-063c-4151-8296-df3abf9fb6b5']"
   ]
  },
  {
   "cell_type": "markdown",
   "id": "30",
   "metadata": {},
   "source": [
    "#### Feature types for sequences"
   ]
  },
  {
   "cell_type": "code",
   "execution_count": null,
   "id": "31",
   "metadata": {},
   "outputs": [],
   "source": [
    "banded_feature_template_types_with_names = [\n",
    "    [\n",
    "        [\n",
    "            id_to_parts_banded_name_lookup[typ]\n",
    "            for typ in get_types_for_feature(parts_banded_lpg, parts_banded_lpg.model.elements[item])\n",
    "         ] or [id_to_parts_banded_name_lookup[item]]\n",
    "    for item in seq\n",
    "    ]\n",
    "for seq in banded_feature_templates_with_ids\n",
    "]\n",
    "\n",
    "banded_feature_template_types_with_names"
   ]
  },
  {
   "cell_type": "markdown",
   "id": "32",
   "metadata": {},
   "source": [
    "#### Counting multiplicty for types"
   ]
  },
  {
   "cell_type": "code",
   "execution_count": null,
   "id": "33",
   "metadata": {},
   "outputs": [],
   "source": [
    "[roll_up_multiplicity(parts_banded_lpg, parts_banded_lpg.model.elements[item], \"upper\") for item in\n",
    "     get_features_typed_by_type(parts_banded_lpg, parts_banded_lpg.model.ownedElement[\"Parts\"].ownedElement[\"Part\"])]"
   ]
  },
  {
   "cell_type": "code",
   "execution_count": null,
   "id": "34",
   "metadata": {},
   "outputs": [],
   "source": [
    "[roll_up_multiplicity(parts_banded_lpg, parts_banded_lpg.model.elements[item], \"lower\") for item in\n",
    "     get_features_typed_by_type(parts_banded_lpg, parts_banded_lpg.model.ownedElement[\"Simple Parts Model Banded\"].ownedElement[\"User\"])]"
   ]
  },
  {
   "cell_type": "code",
   "execution_count": null,
   "id": "35",
   "metadata": {},
   "outputs": [],
   "source": [
    "[roll_up_multiplicity(parts_banded_lpg, parts_banded_lpg.model.elements[item], \"upper\") for item in\n",
    "     get_features_typed_by_type(parts_banded_lpg, parts_banded_lpg.model.ownedElement[\"Simple Parts Model Banded\"].ownedElement[\"User\"])]"
   ]
  },
  {
   "cell_type": "code",
   "execution_count": null,
   "id": "36",
   "metadata": {},
   "outputs": [],
   "source": [
    "[roll_up_multiplicity(parts_banded_lpg, parts_banded_lpg.model.elements[item], \"upper\") for item in\n",
    "     get_features_typed_by_type(parts_banded_lpg, parts_banded_lpg.model.ownedElement[\"Simple Parts Model Banded\"].ownedElement[\"Source\"])]"
   ]
  },
  {
   "cell_type": "code",
   "execution_count": null,
   "id": "37",
   "metadata": {},
   "outputs": [],
   "source": [
    "parts_lpg.model.ownedElement[\"Parts\"].ownedElement[\"Part\"].isAbstract"
   ]
  },
  {
   "cell_type": "code",
   "execution_count": null,
   "id": "38",
   "metadata": {},
   "outputs": [],
   "source": [
    "instances_trial = {}"
   ]
  },
  {
   "cell_type": "code",
   "execution_count": null,
   "id": "39",
   "metadata": {},
   "outputs": [],
   "source": [
    "random_generator_playbook_phase_3_new_instances(parts_lpg.model, feature_templates_with_ids, instances_trial)"
   ]
  },
  {
   "cell_type": "code",
   "execution_count": null,
   "id": "40",
   "metadata": {},
   "outputs": [],
   "source": [
    "pprint_interpretation(instances_trial, parts_lpg.model)"
   ]
  },
  {
   "cell_type": "code",
   "execution_count": null,
   "id": "41",
   "metadata": {},
   "outputs": [],
   "source": [
    "banded_instances_trial = {}"
   ]
  },
  {
   "cell_type": "code",
   "execution_count": null,
   "id": "42",
   "metadata": {},
   "outputs": [],
   "source": [
    "random_generator_playbook_phase_3_new_instances(parts_banded_lpg.model, banded_feature_templates_with_ids, banded_instances_trial)"
   ]
  },
  {
   "cell_type": "code",
   "execution_count": null,
   "id": "43",
   "metadata": {},
   "outputs": [],
   "source": [
    "pprint_interpretation(banded_instances_trial, parts_banded_lpg.model)"
   ]
  },
  {
   "cell_type": "code",
   "execution_count": null,
   "id": "44",
   "metadata": {},
   "outputs": [],
   "source": [
    "m0_interpretation = random_generator_playbook(\n",
    "    parts_lpg,\n",
    "    {},\n",
    "    [parts_lpg.model.ownedElement[\"Simple Parts Model\"]]\n",
    ")"
   ]
  },
  {
   "cell_type": "code",
   "execution_count": null,
   "id": "45",
   "metadata": {},
   "outputs": [],
   "source": [
    "pprint_interpretation(m0_interpretation, parts_lpg.model)"
   ]
  },
  {
   "cell_type": "code",
   "execution_count": null,
   "id": "46",
   "metadata": {},
   "outputs": [],
   "source": []
  }
 ],
 "metadata": {
  "kernelspec": {
   "display_name": "Python 3 (ipykernel)",
   "language": "python",
   "name": "python3"
  },
  "language_info": {
   "codemirror_mode": {
    "name": "ipython",
    "version": 3
   },
   "file_extension": ".py",
   "mimetype": "text/x-python",
   "name": "python",
   "nbconvert_exporter": "python",
   "pygments_lexer": "ipython3",
   "version": "3.9.6"
  }
 },
 "nbformat": 4,
 "nbformat_minor": 5
}
