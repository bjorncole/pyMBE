{
 "cells": [
  {
   "cell_type": "markdown",
   "id": "1577df35-0a5d-4ff0-8d54-bb0aff415b5e",
   "metadata": {},
   "source": [
    "# Permutations of a Simple Circuit\n",
    "\n",
    "This notebook walks through how to utilize the core semantics of SysML v2 to generate alternative circuits as inputs to an OpenMDAO solution of these circuits. \n",
    "\n",
    "## Background\n",
    "\n",
    "The M1 user model in SysML v2 is meant to be a set of constraints and rules under which legal instances can be created. Those instances should be taken as alternative produced systems and they can be analyzed in that way."
   ]
  },
  {
   "cell_type": "markdown",
   "id": "084ae194-f231-4775-8d8d-20bf0a6c47b6",
   "metadata": {},
   "source": [
    "## Libraries Load-Up\n",
    "\n",
    "Load up PyMBE and its various libraries."
   ]
  },
  {
   "cell_type": "code",
   "execution_count": null,
   "id": "74c6fcfb-bcc4-4e07-b4bd-e9bd2a3f17f1",
   "metadata": {},
   "outputs": [],
   "source": [
    "from pathlib import Path\n",
    "import networkx as nx\n",
    "import matplotlib as plt\n",
    "\n",
    "import pymbe.api as pm\n",
    "\n",
    "from pymbe.client import SysML2Client\n",
    "from pymbe.graph.lpg import SysML2LabeledPropertyGraph\n",
    "from pymbe.interpretation.interpretation import repack_instance_dictionaries\n",
    "from pymbe.interpretation.interp_playbooks import (\n",
    "    build_expression_sequence_templates,\n",
    "    build_sequence_templates,\n",
    "    random_generator_playbook,\n",
    "    random_generator_phase_1_multiplicities,\n",
    ")\n",
    "from pymbe.interpretation.results import *\n",
    "from pymbe.label import get_label_for_id\n",
    "from pymbe.query.metamodel_navigator import feature_multiplicity\n",
    "from pymbe.query.query import (\n",
    "    roll_up_multiplicity,\n",
    "    roll_up_upper_multiplicity,\n",
    "    roll_up_multiplicity_for_type,\n",
    "    get_types_for_feature,\n",
    "    get_features_typed_by_type,\n",
    ")\n",
    "from pymbe.local.stablization import build_stable_id_lookups"
   ]
  },
  {
   "cell_type": "markdown",
   "id": "d0047e8f-b755-46e6-b1b1-79fbe1036a65",
   "metadata": {},
   "source": [
    "## Load Up Model\n",
    "\n",
    "Read the model from the local JSON file."
   ]
  },
  {
   "cell_type": "code",
   "execution_count": null,
   "id": "5a8bde6a-7e81-45d6-88ae-9559776b9e33",
   "metadata": {},
   "outputs": [],
   "source": [
    "circuit_client = SysML2Client()\n",
    "\n",
    "circuit_file = Path(pm.__file__).parent / \"../../tests/fixtures/Circuit Builder.json\"\n",
    "\n",
    "circuit_client._load_from_file(circuit_file)\n",
    "\n",
    "circuit_lpg = SysML2LabeledPropertyGraph()\n",
    "circuit_lpg.model = circuit_client.model\n",
    "\n",
    "circuit_model = circuit_lpg.model\n",
    "\n",
    "[id_to_circuit_name_lookup, circuit_name_to_id_lookup] = build_stable_id_lookups(circuit_lpg)\n",
    "\n",
    "circuit_lpg.model.MAX_MULTIPLICITY = 10"
   ]
  },
  {
   "cell_type": "markdown",
   "id": "12cf48ba-47b6-44c7-9eb8-3a8df5ff9bf2",
   "metadata": {},
   "source": [
    "## Explore Contents of Model with M1 in Memory\n",
    "\n",
    "Use the M1 memory objects to see what is in the current model, starting with the main packages."
   ]
  },
  {
   "cell_type": "code",
   "execution_count": null,
   "id": "d4f0ccf2-fae9-42cb-91fe-517c6424acca",
   "metadata": {},
   "outputs": [],
   "source": [
    "circuit_model.packages"
   ]
  },
  {
   "cell_type": "code",
   "execution_count": null,
   "id": "2ec2fc5c-6e1a-4aa8-bd93-295d93e93def",
   "metadata": {},
   "outputs": [],
   "source": [
    "circuit_model.ownedElement[\"Circuit Builder\"].ownedElement"
   ]
  },
  {
   "cell_type": "code",
   "execution_count": null,
   "id": "7abd99cf-4cfa-4b1a-bfc1-d1b1105b5ff9",
   "metadata": {},
   "outputs": [],
   "source": [
    "circuit_def = circuit_model.ownedElement[\"Circuit Builder\"].ownedElement[\"Circuit\"]"
   ]
  },
  {
   "cell_type": "markdown",
   "id": "283c91a3-e8fe-4ac0-bab5-306a288f280b",
   "metadata": {},
   "source": [
    "### Circuit and its Features\n",
    "\n",
    "Here is the circuit and its features, both parts and used connections."
   ]
  },
  {
   "cell_type": "code",
   "execution_count": null,
   "id": "731dea86-2411-4fb0-b223-88bef2cfbd93",
   "metadata": {},
   "outputs": [],
   "source": [
    "circuit_def.relationships"
   ]
  },
  {
   "cell_type": "code",
   "execution_count": null,
   "id": "28557de8-4ec2-42b6-a829-654fdc6b876e",
   "metadata": {},
   "outputs": [],
   "source": [
    "circuit_def.ownedMember"
   ]
  },
  {
   "cell_type": "code",
   "execution_count": null,
   "id": "5243309a-a48b-4b27-b387-d4196ab09006",
   "metadata": {},
   "outputs": [],
   "source": [
    "circuit_def.ownedMember[7].name"
   ]
  },
  {
   "cell_type": "code",
   "execution_count": null,
   "id": "de48c4c1-0e9a-4f82-a6c8-713d8fdf03d5",
   "metadata": {},
   "outputs": [],
   "source": [
    "circuit_def.ownedMember[7].multiplicity.lowerBound"
   ]
  },
  {
   "cell_type": "code",
   "execution_count": null,
   "id": "9a9982cf-6460-4b72-836e-ffd7cb23ea6c",
   "metadata": {},
   "outputs": [],
   "source": [
    "circuit_def.ownedMember[7].multiplicity.upperBound"
   ]
  },
  {
   "cell_type": "markdown",
   "id": "94ea2e9f-f4af-4e97-9e5e-713f3833c12a",
   "metadata": {},
   "source": [
    "## Generate M0 instances from the M1 model\n",
    "\n",
    "Use the M1 model to start creating a series of instances to represent the circuits that should be analyzed."
   ]
  },
  {
   "cell_type": "code",
   "execution_count": null,
   "id": "70a09d8f-af2a-4ecf-af78-78a7439b885f",
   "metadata": {},
   "outputs": [],
   "source": [
    "m0_interpretations = [\n",
    "    random_generator_playbook(\n",
    "        lpg=circuit_lpg,\n",
    "        name_hints={},\n",
    "        filtered_feat_packages=[circuit_lpg.model.ownedElement[\"Circuit Builder\"]],\n",
    "        phase_limit=10\n",
    "    ) for run in range(0,100)\n",
    "]"
   ]
  },
  {
   "cell_type": "code",
   "execution_count": null,
   "id": "51c29ad1-b744-4026-9fee-416e1c2754b8",
   "metadata": {},
   "outputs": [],
   "source": [
    "pprint_interpretation(m0_interpretations[0], circuit_model, False)"
   ]
  },
  {
   "cell_type": "markdown",
   "id": "e0d3308f-053c-4c28-8d09-3c681b48c941",
   "metadata": {},
   "source": [
    "## Filter M0 Instances for Reasonable Circuits\n",
    "\n",
    "Until we get more sophisticated and can interpret constraints, the initial approach is to filter out solutions with unanalyzable layouts or trim the layouts to something more tractable."
   ]
  },
  {
   "cell_type": "markdown",
   "id": "fa01e6bf-8afc-4182-b5b4-dca690f03ded",
   "metadata": {},
   "source": [
    "### Connector End Checks\n",
    "\n",
    "Look at the ends of the three main kinds of connectors."
   ]
  },
  {
   "cell_type": "code",
   "execution_count": null,
   "id": "a310351a-4830-4598-aff9-8177170deec1",
   "metadata": {},
   "outputs": [],
   "source": [
    "n2n = circuit_def.ownedMember[\"Node to Node\"]"
   ]
  },
  {
   "cell_type": "code",
   "execution_count": null,
   "id": "70a0f874-05ea-4643-9162-ea836cc0d31d",
   "metadata": {},
   "outputs": [],
   "source": [
    "p2p = circuit_def.ownedMember[\"Part to Part\"]"
   ]
  },
  {
   "cell_type": "code",
   "execution_count": null,
   "id": "6a3e9245-8e48-4414-bccc-670dac12aba4",
   "metadata": {},
   "outputs": [],
   "source": [
    "p2n = circuit_def.ownedMember[\"Part to Node\"]"
   ]
  },
  {
   "cell_type": "code",
   "execution_count": null,
   "id": "96c413fb-b3ca-4bd6-9d0d-b129c60141f3",
   "metadata": {},
   "outputs": [],
   "source": [
    "circuit_def.ownedMember[\"Part to Part\"].endFeature[0]._id"
   ]
  },
  {
   "cell_type": "code",
   "execution_count": null,
   "id": "0fc24db1-db38-4c1d-b215-c031535df452",
   "metadata": {},
   "outputs": [],
   "source": [
    "m0_interpretations[10][p2n.endFeature[0]._id]"
   ]
  },
  {
   "cell_type": "code",
   "execution_count": null,
   "id": "39caaab1-6d91-4a6b-a166-e70e22f7e075",
   "metadata": {},
   "outputs": [],
   "source": [
    "m0_interpretations[10][p2n.endFeature[1]._id]"
   ]
  },
  {
   "cell_type": "code",
   "execution_count": null,
   "id": "b24b8b54-4d59-4a27-bc29-cbfefd5d01f0",
   "metadata": {},
   "outputs": [],
   "source": [
    "m0_interpretations[10][p2p.endFeature[0]._id]"
   ]
  },
  {
   "cell_type": "code",
   "execution_count": null,
   "id": "171cb461-cfe3-42da-aea0-423c9f336321",
   "metadata": {},
   "outputs": [],
   "source": [
    "m0_interpretations[10][p2p.endFeature[1]._id]"
   ]
  },
  {
   "cell_type": "code",
   "execution_count": null,
   "id": "c508c95d-60a1-4852-92f5-9417509e4a7f",
   "metadata": {},
   "outputs": [],
   "source": [
    "m0_interpretations[10][n2n.endFeature[0]._id]"
   ]
  },
  {
   "cell_type": "code",
   "execution_count": null,
   "id": "d60b2b37-bef6-4071-b4ba-19312d6488b7",
   "metadata": {},
   "outputs": [],
   "source": [
    "m0_interpretations[10][n2n.endFeature[1]._id]"
   ]
  },
  {
   "cell_type": "code",
   "execution_count": null,
   "id": "96aa0e0e-7417-405e-8b93-373d00290fb2",
   "metadata": {},
   "outputs": [],
   "source": []
  }
 ],
 "metadata": {
  "kernelspec": {
   "display_name": "Python 3 (ipykernel)",
   "language": "python",
   "name": "python3"
  },
  "language_info": {
   "codemirror_mode": {
    "name": "ipython",
    "version": 3
   },
   "file_extension": ".py",
   "mimetype": "text/x-python",
   "name": "python",
   "nbconvert_exporter": "python",
   "pygments_lexer": "ipython3",
   "version": "3.9.6"
  }
 },
 "nbformat": 4,
 "nbformat_minor": 5
}
