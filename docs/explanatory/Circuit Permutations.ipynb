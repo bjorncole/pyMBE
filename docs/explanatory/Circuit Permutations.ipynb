{
 "cells": [
  {
   "cell_type": "markdown",
   "id": "1577df35-0a5d-4ff0-8d54-bb0aff415b5e",
   "metadata": {},
   "source": [
    "# Permutations of a Simple Circuit\n",
    "\n",
    "This notebook walks through how to utilize the core semantics of SysML v2 to generate alternative circuits as inputs to an OpenMDAO solution of these circuits. \n",
    "\n",
    "## Background\n",
    "\n",
    "The M1 user model in SysML v2 is meant to be a set of constraints and rules under which legal instances can be created. Those instances should be taken as alternative produced systems and they can be analyzed in that way."
   ]
  },
  {
   "cell_type": "markdown",
   "id": "084ae194-f231-4775-8d8d-20bf0a6c47b6",
   "metadata": {},
   "source": [
    "## Libraries Load-Up\n",
    "\n",
    "Load up PyMBE and its various libraries."
   ]
  },
  {
   "cell_type": "code",
   "execution_count": null,
   "id": "74c6fcfb-bcc4-4e07-b4bd-e9bd2a3f17f1",
   "metadata": {},
   "outputs": [],
   "source": [
    "from pathlib import Path\n",
    "import networkx as nx\n",
    "import matplotlib as plt\n",
    "\n",
    "import pymbe.api as pm\n",
    "\n",
    "from pymbe.client import SysML2Client\n",
    "from pymbe.graph.lpg import SysML2LabeledPropertyGraph\n",
    "from pymbe.interpretation.interpretation import repack_instance_dictionaries\n",
    "from pymbe.interpretation.interp_playbooks import (\n",
    "    build_expression_sequence_templates,\n",
    "    build_sequence_templates,\n",
    "    random_generator_playbook,\n",
    "    random_generator_phase_1_multiplicities,\n",
    ")\n",
    "from pymbe.interpretation.results import *\n",
    "from pymbe.label import get_label_for_id\n",
    "from pymbe.query.metamodel_navigator import feature_multiplicity\n",
    "from pymbe.query.query import (\n",
    "    roll_up_multiplicity,\n",
    "    roll_up_upper_multiplicity,\n",
    "    roll_up_multiplicity_for_type,\n",
    "    get_types_for_feature,\n",
    "    get_features_typed_by_type,\n",
    ")\n",
    "from pymbe.local.stablization import build_stable_id_lookups"
   ]
  },
  {
   "cell_type": "markdown",
   "id": "d0047e8f-b755-46e6-b1b1-79fbe1036a65",
   "metadata": {},
   "source": [
    "## Load Up Model\n",
    "\n",
    "Read the model from the local JSON file."
   ]
  },
  {
   "cell_type": "code",
   "execution_count": null,
   "id": "5a8bde6a-7e81-45d6-88ae-9559776b9e33",
   "metadata": {},
   "outputs": [],
   "source": [
    "parts_client = SysML2Client()\n",
    "\n",
    "simple_parts_file = Path(pm.__file__).parent / \"../../tests/fixtures/Circuit Builder.json\"\n",
    "\n",
    "parts_client._load_from_file(simple_parts_file)\n",
    "\n",
    "parts_lpg = SysML2LabeledPropertyGraph()\n",
    "parts_lpg.model = parts_client.model\n",
    "\n",
    "SIMPLE_MODEL = \"Model::Simple Parts Model::\"\n",
    "\n",
    "[id_to_parts_name_lookup, parts_name_to_id_lookup] = build_stable_id_lookups(parts_lpg)\n",
    "\n",
    "parts_lpg.model.MAX_MULTIPLICITY = 10"
   ]
  },
  {
   "cell_type": "markdown",
   "id": "12cf48ba-47b6-44c7-9eb8-3a8df5ff9bf2",
   "metadata": {},
   "source": [
    "## Explore Contents of Model with M1 in Memory\n",
    "\n",
    "Use the M1 memory objects to see what is in the current model, starting with the main packages."
   ]
  },
  {
   "cell_type": "code",
   "execution_count": null,
   "id": "d4f0ccf2-fae9-42cb-91fe-517c6424acca",
   "metadata": {},
   "outputs": [],
   "source": [
    "parts_lpg.model.packages"
   ]
  },
  {
   "cell_type": "code",
   "execution_count": null,
   "id": "2ec2fc5c-6e1a-4aa8-bd93-295d93e93def",
   "metadata": {},
   "outputs": [],
   "source": [
    "parts_lpg.model.ownedElement[\"Circuit Builder\"].ownedElement"
   ]
  },
  {
   "cell_type": "code",
   "execution_count": null,
   "id": "7abd99cf-4cfa-4b1a-bfc1-d1b1105b5ff9",
   "metadata": {},
   "outputs": [],
   "source": [
    "circuit_def = parts_lpg.model.ownedElement[\"Circuit Builder\"].ownedElement[\"Circuit\"]"
   ]
  },
  {
   "cell_type": "markdown",
   "id": "283c91a3-e8fe-4ac0-bab5-306a288f280b",
   "metadata": {},
   "source": [
    "### Circuit and its Features\n",
    "\n",
    "Here is the circuit and its features, both parts and used connections."
   ]
  },
  {
   "cell_type": "code",
   "execution_count": null,
   "id": "731dea86-2411-4fb0-b223-88bef2cfbd93",
   "metadata": {},
   "outputs": [],
   "source": [
    "circuit_def.relationships"
   ]
  },
  {
   "cell_type": "code",
   "execution_count": null,
   "id": "28557de8-4ec2-42b6-a829-654fdc6b876e",
   "metadata": {},
   "outputs": [],
   "source": [
    "circuit_def.ownedMember"
   ]
  },
  {
   "cell_type": "code",
   "execution_count": null,
   "id": "1d57f5e6-dffc-4484-8650-f6ea44b8b34c",
   "metadata": {},
   "outputs": [],
   "source": [
    "id_to_parts_name_lookup[circuit_def.ownedMember[\"Circuit Diode\"]._id]"
   ]
  },
  {
   "cell_type": "markdown",
   "id": "51c07d8b-26e8-475e-8a36-935226a33db8",
   "metadata": {},
   "source": [
    "#### Feature types for sequences\n",
    "\n",
    "We can also inspect the types of each of the features (or classifier themselves) to see what will be placed into each step of the sequence.\n",
    "\n",
    "In the below, what we mean to say is that for a given position, the atom in that place will also appear in the 1-tail of the given type. For example, the type that corresponds to the Power User: Part::Power In: Port in the second position, which is a Part, will have all atoms in the 1-tail of Part's sequences. "
   ]
  },
  {
   "cell_type": "code",
   "execution_count": null,
   "id": "dd25238b-448b-4ec1-8c1b-dc664c62997a",
   "metadata": {},
   "outputs": [],
   "source": [
    "feature_templates_with_ids = [[item for item in seq] for seq in build_sequence_templates(parts_lpg)\n",
    "                                    if id_to_parts_name_lookup[seq[0]].startswith(\"Model::Circuit Builder\")]\n",
    "feature_templates_with_names = [[id_to_parts_name_lookup[item] for item in seq] for seq in build_sequence_templates(parts_lpg)\n",
    "                                    if id_to_parts_name_lookup[seq[0]].startswith(\"Model::Circuit Builder\")]\n",
    "feature_templates_with_names"
   ]
  },
  {
   "cell_type": "code",
   "execution_count": null,
   "id": "110b7ca4-4004-4eaf-a46e-7608328f7e33",
   "metadata": {},
   "outputs": [],
   "source": [
    "[\n",
    "    [\n",
    "        [id_to_parts_name_lookup[typ] for typ in get_types_for_feature(parts_lpg, parts_lpg.model.elements[item])]\n",
    "    for item in seq\n",
    "    ]\n",
    "for seq in feature_templates_with_ids\n",
    "]"
   ]
  },
  {
   "cell_type": "code",
   "execution_count": null,
   "id": "adba109a-bb51-4fd6-9947-b43cbeda220b",
   "metadata": {},
   "outputs": [],
   "source": [
    "expr_templates_with_ids = [[item for item in seq] for seq in build_expression_sequence_templates(parts_lpg)\n",
    "                                    if id_to_parts_name_lookup[seq[0]].startswith(\"Model::Circuit Builder\")]\n",
    "expr_templates_with_names = [[id_to_parts_name_lookup[item] for item in seq] for seq in build_expression_sequence_templates(parts_lpg)\n",
    "                                    if id_to_parts_name_lookup[seq[0]].startswith(\"Model::Circuit Builder\")]\n",
    "expr_templates_with_names"
   ]
  },
  {
   "cell_type": "markdown",
   "id": "62b0b8b4-1ccd-44fc-9485-c3e6b65fed9d",
   "metadata": {},
   "source": [
    "#### Exploring Connections and Ends\n",
    "\n",
    "An important kind of feature is the feature that is typed by a Connection, which has two ends."
   ]
  },
  {
   "cell_type": "code",
   "execution_count": null,
   "id": "28e665b2-1488-448e-b4ca-a027d4b57f19",
   "metadata": {},
   "outputs": [],
   "source": [
    "connection_usage = [usage for usage in parts_lpg.model.ownedElement[\"Circuit Builder\"].ownedElement[\"Circuit\"].ownedElement\n",
    "                        if usage._metatype == \"ConnectionUsage\"][0]\n",
    "connection_usage"
   ]
  },
  {
   "cell_type": "code",
   "execution_count": null,
   "id": "bd5ef697-66c5-4dc4-a86f-4c3acbbe59fb",
   "metadata": {},
   "outputs": [],
   "source": [
    "ptg = parts_lpg.get_projection(\"Part Typing\")\n",
    "scg = parts_lpg.get_projection(\"Part Definition\")\n",
    "ssg = parts_lpg.get_projection(\"Redefinition and Subsetting\")\n",
    "bdg = parts_lpg.get_projection(projection=\"Expanded Banded\", packages=[parts_lpg.model.ownedElement[\"Occurrences\"]])\n",
    "bdg_all = parts_lpg.get_projection(projection=\"Expanded Banded\")\n",
    "\n",
    "full_multiplicities = random_generator_phase_1_multiplicities(parts_lpg, ptg, scg)"
   ]
  },
  {
   "cell_type": "code",
   "execution_count": null,
   "id": "f98cc909-2ac3-4de1-a8e0-005ae96f88ea",
   "metadata": {},
   "outputs": [],
   "source": [
    "{\n",
    "    id_to_parts_name_lookup[k]:v\n",
    "    for k, v in full_multiplicities.items()\n",
    "}"
   ]
  },
  {
   "cell_type": "code",
   "execution_count": null,
   "id": "4846f0fe-ea1a-4279-8b40-235d72f6a973",
   "metadata": {},
   "outputs": [],
   "source": [
    "{\n",
    "    k:v\n",
    "    for k, v in full_multiplicities.items()\n",
    "}"
   ]
  },
  {
   "cell_type": "code",
   "execution_count": null,
   "id": "8519a01a-694d-4cd2-a3b8-02da67d1119d",
   "metadata": {},
   "outputs": [],
   "source": [
    "[id_to_parts_name_lookup[typ_] for typ_ in get_features_typed_by_type(parts_lpg, '81b05f03-a17a-4f51-83a2-06d7f19d5c6d')]"
   ]
  },
  {
   "cell_type": "code",
   "execution_count": null,
   "id": "c4c67be5-9c05-427a-a537-871d2d7761fc",
   "metadata": {},
   "outputs": [],
   "source": [
    "nx.is_directed_acyclic_graph(ptg)"
   ]
  },
  {
   "cell_type": "code",
   "execution_count": null,
   "id": "e91a8a33-b7c1-4a48-8bc8-8f75e2cb6582",
   "metadata": {},
   "outputs": [],
   "source": [
    "nx.is_directed_acyclic_graph(scg)"
   ]
  },
  {
   "cell_type": "code",
   "execution_count": null,
   "id": "6f58fcf2-83b5-4868-b6c1-fa7b5d125e52",
   "metadata": {},
   "outputs": [],
   "source": [
    "nx.is_directed_acyclic_graph(ssg)"
   ]
  },
  {
   "cell_type": "code",
   "execution_count": null,
   "id": "7c7a121c-029a-43e2-b0ce-fef09be41725",
   "metadata": {},
   "outputs": [],
   "source": [
    "nx.is_directed_acyclic_graph(bdg)"
   ]
  },
  {
   "cell_type": "code",
   "execution_count": null,
   "id": "bf774694-0ed4-4372-a632-b0c14e3b2ed1",
   "metadata": {},
   "outputs": [],
   "source": [
    "len(ssg.nodes)"
   ]
  },
  {
   "cell_type": "code",
   "execution_count": null,
   "id": "e3c894d0-1856-464c-9f98-979e592b4074",
   "metadata": {},
   "outputs": [],
   "source": [
    "len(ssg.edges)"
   ]
  },
  {
   "cell_type": "code",
   "execution_count": null,
   "id": "eeeaaf38-92c1-4b5a-9b68-b04cceca2ffb",
   "metadata": {},
   "outputs": [],
   "source": [
    "[id_to_parts_name_lookup[node] for listing in nx.simple_cycles(ssg) for node in listing]"
   ]
  },
  {
   "cell_type": "code",
   "execution_count": null,
   "id": "57c22fef-d14b-4049-b774-231dee403d32",
   "metadata": {},
   "outputs": [],
   "source": [
    "[\n",
    "    id_to_parts_name_lookup[node]\n",
    "    for node in bdg_all.nodes\n",
    "    if bdg_all.out_degree(node) < 1\n",
    "]"
   ]
  },
  {
   "cell_type": "code",
   "execution_count": null,
   "id": "d5adb9f3-d1d7-463c-a05d-c1eb7a1a40ac",
   "metadata": {},
   "outputs": [],
   "source": [
    "[[id_to_parts_name_lookup[node] for node in listing] for listing in nx.simple_cycles(bdg_all)]"
   ]
  },
  {
   "cell_type": "code",
   "execution_count": null,
   "id": "f69caa26-5365-4c89-a9ec-2360bf07a8b6",
   "metadata": {},
   "outputs": [],
   "source": [
    "item_def_id = parts_name_to_id_lookup[\"Model::Items::Item <<ItemDefinition>>\"]\n",
    "done_item_id = parts_name_to_id_lookup[\"Model::Items::Item::done: Item <<ItemUsage>>\"]"
   ]
  },
  {
   "cell_type": "code",
   "execution_count": null,
   "id": "c10beecb-0b76-45cc-8a85-a79182c86d0b",
   "metadata": {},
   "outputs": [],
   "source": [
    "list(nx.all_simple_paths(\n",
    "    bdg_all,\n",
    "    source=item_def_id,\n",
    "    target=done_item_id,\n",
    "))"
   ]
  },
  {
   "cell_type": "code",
   "execution_count": null,
   "id": "879ec85d-4ef6-42ab-a219-f5195a8bf981",
   "metadata": {},
   "outputs": [],
   "source": [
    "[id_to_parts_name_lookup[item] for item in bdg_all.predecessors(item_def_id)]"
   ]
  },
  {
   "cell_type": "code",
   "execution_count": null,
   "id": "2f16e420-1009-4948-82fa-81dc00b3e0dd",
   "metadata": {},
   "outputs": [],
   "source": [
    "cycle_check = [node for listing in nx.simple_cycles(ssg) for node in listing]"
   ]
  },
  {
   "cell_type": "code",
   "execution_count": null,
   "id": "b4165f3d-9e2d-4e46-b756-d52433a58264",
   "metadata": {},
   "outputs": [],
   "source": [
    "list(ssg.predecessors(cycle_check[1]))"
   ]
  },
  {
   "cell_type": "code",
   "execution_count": null,
   "id": "a4f053bb-8cd8-40a4-973f-e075ef8f29c9",
   "metadata": {},
   "outputs": [],
   "source": [
    "[parts_lpg.model.elements[item] for item in parts_lpg.get_projection(\"Generalization\")]"
   ]
  },
  {
   "cell_type": "code",
   "execution_count": null,
   "id": "475a133f-5e81-419f-a1a7-4c68033dff33",
   "metadata": {},
   "outputs": [],
   "source": [
    "m0_interpretation = random_generator_playbook(\n",
    "    lpg=parts_lpg,\n",
    "    name_hints={},\n",
    "    filtered_feat_packages=[parts_lpg.model.ownedElement[\"Circuit Builder\"]],\n",
    "    phase_limit=10\n",
    ")"
   ]
  },
  {
   "cell_type": "code",
   "execution_count": null,
   "id": "42cc1aad-21a3-4518-97ca-14d54451c177",
   "metadata": {},
   "outputs": [],
   "source": [
    "parts_lpg.model.ownedElement[\"Circuit Builder\"].ownedElement[\"Circuit Connection\"]"
   ]
  },
  {
   "cell_type": "code",
   "execution_count": null,
   "id": "fdddca37-3b9a-4ba7-852a-91c08cf3bec7",
   "metadata": {},
   "outputs": [],
   "source": [
    "parts_lpg.model.ownedElement[\"Circuit Builder\"].ownedElement[\"Circuit\"].ownedMember[\"Component\"]"
   ]
  },
  {
   "cell_type": "code",
   "execution_count": null,
   "id": "1a00a024-b58e-4f91-8427-00f5b1d0bb55",
   "metadata": {},
   "outputs": [],
   "source": [
    "m0_interpretation[parts_lpg.model.ownedElement[\"Circuit Builder\"].ownedElement[\"Circuit Connection\"]._id]"
   ]
  },
  {
   "cell_type": "code",
   "execution_count": null,
   "id": "8873ae60-778e-4f08-8261-3c01ae3a3591",
   "metadata": {},
   "outputs": [],
   "source": [
    "m0_interpretation[parts_lpg.model.ownedElement[\"Circuit Builder\"].ownedElement[\"Circuit\"].ownedMember[\"Circuit Resistor\"]._id]"
   ]
  },
  {
   "cell_type": "code",
   "execution_count": null,
   "id": "132ea127-29c7-41e2-b79a-25850053e1f0",
   "metadata": {},
   "outputs": [],
   "source": [
    "m0_interpretation[parts_lpg.model.ownedElement[\"Circuit Builder\"].ownedElement[\"Circuit\"].ownedMember[\"Circuit Diode\"]._id]"
   ]
  },
  {
   "cell_type": "code",
   "execution_count": null,
   "id": "385a1f5b-9d27-4cf2-90dd-039fd33fefa5",
   "metadata": {},
   "outputs": [],
   "source": [
    "m0_interpretation[parts_lpg.model.ownedElement[\"Circuit Builder\"].ownedElement[\"Circuit\"].ownedMember[\"Motive Force\"]._id]"
   ]
  },
  {
   "cell_type": "code",
   "execution_count": null,
   "id": "5d6803c9-b364-4e9f-8bb6-e1ed4c242e81",
   "metadata": {},
   "outputs": [],
   "source": [
    "m0_interpretation[parts_lpg.model.ownedElement[\"Circuit Builder\"].ownedElement[\"EMF\"]._id]"
   ]
  },
  {
   "cell_type": "code",
   "execution_count": null,
   "id": "5e7fd7fe-6149-4569-ac29-8fc05e118c78",
   "metadata": {},
   "outputs": [],
   "source": [
    "dict(nx.bfs_successors(parts_lpg.get_projection(\"Generalization\"), '9b93e6a8-d44e-4e17-a859-9cdedf60c144'))"
   ]
  },
  {
   "cell_type": "code",
   "execution_count": null,
   "id": "6186a51f-380c-43dd-897f-5ce5b1d7a668",
   "metadata": {},
   "outputs": [],
   "source": [
    "parts_lpg.model.ownedElement[\"Circuit Builder\"].ownedElement[\"Circuit\"].ownedMember[\"Circuit Diode\"]._id"
   ]
  },
  {
   "cell_type": "code",
   "execution_count": null,
   "id": "97187dbd-e417-4c5a-897b-4249befa504d",
   "metadata": {},
   "outputs": [],
   "source": [
    "m0_interpretation[parts_lpg.model.ownedElement[\"Circuit Builder\"].ownedElement[\"Circuit\"].ownedMember[\"Component\"]._id]"
   ]
  },
  {
   "cell_type": "code",
   "execution_count": null,
   "id": "ce02435e-e884-4827-9758-9b223d525718",
   "metadata": {},
   "outputs": [],
   "source": []
  },
  {
   "cell_type": "code",
   "execution_count": null,
   "id": "12fe3f73-8db5-47c6-ab02-afe4b1483752",
   "metadata": {},
   "outputs": [],
   "source": [
    "pprint_interpretation(m0_interpretation, parts_lpg.model)"
   ]
  },
  {
   "cell_type": "code",
   "execution_count": null,
   "id": "3a4df784-a091-44a6-81c6-e0041d176d74",
   "metadata": {},
   "outputs": [],
   "source": []
  }
 ],
 "metadata": {
  "kernelspec": {
   "display_name": "Python 3 (ipykernel)",
   "language": "python",
   "name": "python3"
  },
  "language_info": {
   "codemirror_mode": {
    "name": "ipython",
    "version": 3
   },
   "file_extension": ".py",
   "mimetype": "text/x-python",
   "name": "python",
   "nbconvert_exporter": "python",
   "pygments_lexer": "ipython3",
   "version": "3.9.6"
  }
 },
 "nbformat": 4,
 "nbformat_minor": 5
}
