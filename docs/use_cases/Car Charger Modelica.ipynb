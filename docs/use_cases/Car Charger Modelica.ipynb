{
 "cells": [
  {
   "cell_type": "markdown",
   "id": "0779a4a5-b3a3-4211-b80f-40a4a1a87738",
   "metadata": {},
   "source": [
    "# Working with Modelica Files in Combined System Model\n",
    "\n",
    "This use case works through adapting information from a Modelica model as one of the solutions in a system model that inspects uses and requirements for a car charger."
   ]
  },
  {
   "cell_type": "code",
   "execution_count": null,
   "id": "9c4c7cc0-4279-4e33-9d8c-b8915f5c861e",
   "metadata": {},
   "outputs": [],
   "source": []
  }
 ],
 "metadata": {
  "kernelspec": {
   "display_name": "Python 3 (ipykernel)",
   "language": "python",
   "name": "python3"
  },
  "language_info": {
   "codemirror_mode": {
    "name": "ipython",
    "version": 3
   },
   "file_extension": ".py",
   "mimetype": "text/x-python",
   "name": "python",
   "nbconvert_exporter": "python",
   "pygments_lexer": "ipython3",
   "version": "3.9.6"
  }
 },
 "nbformat": 4,
 "nbformat_minor": 5
}
