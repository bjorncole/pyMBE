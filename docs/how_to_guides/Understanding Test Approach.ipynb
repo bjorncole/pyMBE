{
 "cells": [
  {
   "cell_type": "markdown",
   "id": "0",
   "metadata": {},
   "source": [
    "# Understanding the Functional Testing Approach for PyMBE Playbooks\n",
    "\n",
    "This notebook walks through the functional testing of interpretation of SysML v2 models within its playbooks. The playbook modules and the graph projections upon which they rely are explored here and connected to bodies of tests."
   ]
  },
  {
   "cell_type": "code",
   "execution_count": null,
   "id": "1",
   "metadata": {},
   "outputs": [],
   "source": [
    "from pathlib import Path\n",
    "import networkx as nx\n",
    "import matplotlib as plt\n",
    "\n",
    "import pymbe.api as pm\n",
    "\n",
    "from pymbe.client import SysML2Client\n",
    "from pymbe.graph.lpg import SysML2LabeledPropertyGraph\n",
    "from pymbe.interpretation.interpretation import repack_instance_dictionaries\n",
    "from pymbe.interpretation.interp_playbooks import (\n",
    "    build_expression_sequence_templates,\n",
    "    build_banded_sequence_templates,\n",
    "    build_sequence_templates,\n",
    "    random_generator_playbook,\n",
    "    random_generator_playbook_phase_3_new_instances,\n",
    "    random_generator_playbook_phase_3_rollup,\n",
    ")\n",
    "from pymbe.interpretation.results import *\n",
    "from pymbe.label import get_label_for_id\n",
    "from pymbe.query.metamodel_navigator import feature_multiplicity\n",
    "from pymbe.query.query import (\n",
    "    roll_up_multiplicity,\n",
    "    roll_up_upper_multiplicity,\n",
    "    roll_up_multiplicity_for_type,\n",
    "    get_types_for_feature,\n",
    "    get_features_typed_by_type,\n",
    ")\n",
    "from pymbe.local.stablization import build_stable_id_lookups"
   ]
  },
  {
   "cell_type": "markdown",
   "id": "2",
   "metadata": {},
   "source": [
    "## Gather Files and Load up Test Data"
   ]
  },
  {
   "cell_type": "markdown",
   "id": "3",
   "metadata": {},
   "source": [
    "### Load Up Model Circuits File\n",
    "\n",
    "Read the model from the local JSON file for the Circuits example model and its test information."
   ]
  },
  {
   "cell_type": "code",
   "execution_count": null,
   "id": "4",
   "metadata": {},
   "outputs": [],
   "source": [
    "client1 = SysML2Client()\n",
    "\n",
    "model_file = Path(pm.__file__).parent / \"../../tests/fixtures/Circuit Builder.json\"\n",
    "\n",
    "client1._load_from_file(model_file)\n",
    "\n",
    "circuit_lpg = SysML2LabeledPropertyGraph()\n",
    "circuit_lpg.model = client1.model\n",
    "circuit_model = circuit_lpg.model\n",
    "\n",
    "[circuit_id_to_parts_name_lookup, circuit_parts_name_to_id_lookup] = build_stable_id_lookups(circuit_lpg)\n",
    "\n",
    "circuit_lpg.model.MAX_MULTIPLICITY = 10"
   ]
  },
  {
   "cell_type": "markdown",
   "id": "5",
   "metadata": {},
   "source": [
    "### Load Up Simple Parts Model File\n",
    "\n",
    "Read the model from the local JSON file for the Simple Parts Model example model and its test information."
   ]
  },
  {
   "cell_type": "code",
   "execution_count": null,
   "id": "6",
   "metadata": {},
   "outputs": [],
   "source": [
    "client2 = SysML2Client()\n",
    "\n",
    "parts_file = Path(pm.__file__).parent / \"../../tests/fixtures/Simple Parts Model Banded.json\"\n",
    "\n",
    "client2._load_from_file(parts_file)\n",
    "\n",
    "simple_parts_lpg = SysML2LabeledPropertyGraph()\n",
    "simple_parts_lpg.model = client2.model\n",
    "simple_parts_model = simple_parts_lpg.model\n",
    "\n",
    "[simple_parts_id_to_parts_name_lookup, simple_parts_name_to_id_lookup] = build_stable_id_lookups(simple_parts_lpg)\n",
    "\n",
    "simple_parts_lpg.model.MAX_MULTIPLICITY = 10"
   ]
  },
  {
   "cell_type": "markdown",
   "id": "7",
   "metadata": {},
   "source": [
    "## Explore Models\n",
    "\n",
    "This section of the notebook walks through the content of the various models being examined here to help the reader understand how model filters and interpretations should operate upon them."
   ]
  },
  {
   "cell_type": "markdown",
   "id": "8",
   "metadata": {},
   "source": [
    "### Circuits Model\n",
    "\n",
    "The circuits model is a very simple model intended to explore generative design techniques with a SysML model and then estimate circuit characteristics in OpenMDAO.\n",
    "\n",
    "In the current iteration of prototyping, the circuits model comes with imported library packages, as seen below."
   ]
  },
  {
   "cell_type": "code",
   "execution_count": null,
   "id": "9",
   "metadata": {},
   "outputs": [],
   "source": [
    "circuit_model.packages"
   ]
  },
  {
   "cell_type": "markdown",
   "id": "10",
   "metadata": {},
   "source": [
    "The main port, part, and connection definitions are under the main packages."
   ]
  },
  {
   "cell_type": "code",
   "execution_count": null,
   "id": "11",
   "metadata": {},
   "outputs": [],
   "source": [
    "circuit_model.ownedElement[\"Circuit Builder\"].ownedElement"
   ]
  },
  {
   "cell_type": "markdown",
   "id": "12",
   "metadata": {},
   "source": [
    "The circuit has multiple part and connection usages."
   ]
  },
  {
   "cell_type": "code",
   "execution_count": null,
   "id": "13",
   "metadata": {},
   "outputs": [],
   "source": [
    "circuit_model.ownedElement[\"Circuit Builder\"].ownedElement[\"Circuit\"].ownedElement"
   ]
  },
  {
   "cell_type": "markdown",
   "id": "14",
   "metadata": {},
   "source": [
    "### Simple Parts Model"
   ]
  },
  {
   "cell_type": "code",
   "execution_count": null,
   "id": "15",
   "metadata": {},
   "outputs": [],
   "source": [
    "simple_parts_model"
   ]
  },
  {
   "cell_type": "code",
   "execution_count": null,
   "id": "16",
   "metadata": {},
   "outputs": [],
   "source": [
    "simple_parts_model.packages"
   ]
  },
  {
   "cell_type": "code",
   "execution_count": null,
   "id": "17",
   "metadata": {},
   "outputs": [],
   "source": [
    "simple_parts_model.ownedElement[\"Simple Parts Model Banded\"].ownedElement"
   ]
  },
  {
   "cell_type": "markdown",
   "id": "18",
   "metadata": {},
   "source": [
    "## Interpretation Pre-Work\n",
    "\n",
    "There are a few steps in the process of generating M0 instances (AKA executions) to make the work easier."
   ]
  },
  {
   "cell_type": "markdown",
   "id": "19",
   "metadata": {},
   "source": [
    "### Feature Sequencing\n",
    "\n",
    "The M1 model can be examined to set up templates for minimum-length sequences for different sets of nested features."
   ]
  },
  {
   "cell_type": "markdown",
   "id": "20",
   "metadata": {},
   "source": [
    "#### Circuit Model"
   ]
  },
  {
   "cell_type": "code",
   "execution_count": null,
   "id": "21",
   "metadata": {},
   "outputs": [],
   "source": [
    "filtered_feat_packages = [circuit_model.ownedElement[\"Circuit Builder\"]]\n",
    "\n",
    "circuit_feature_sequences = build_banded_sequence_templates(lpg=circuit_lpg, package_filter=filtered_feat_packages)\n",
    "\n",
    "[[circuit_model.elements[typ_id] for typ_id in seq] for seq in circuit_feature_sequences]"
   ]
  },
  {
   "cell_type": "markdown",
   "id": "22",
   "metadata": {},
   "source": [
    "#### Simple Parts Banded"
   ]
  },
  {
   "cell_type": "code",
   "execution_count": null,
   "id": "23",
   "metadata": {},
   "outputs": [],
   "source": [
    "filtered_feat_packages = [simple_parts_model.ownedElement[\"Simple Parts Model Banded\"]]\n",
    "\n",
    "simple_part_feature_sequences = build_banded_sequence_templates(lpg=simple_parts_lpg, package_filter=filtered_feat_packages)\n",
    "\n",
    "[[simple_parts_model.elements[typ_id] for typ_id in seq] for seq in simple_part_feature_sequences]"
   ]
  },
  {
   "cell_type": "markdown",
   "id": "24",
   "metadata": {},
   "source": [
    "### Feature Multiplicities\n",
    "\n",
    "When we have the feature sequences worked out, we can then look at the multiplicities at each step."
   ]
  },
  {
   "cell_type": "markdown",
   "id": "25",
   "metadata": {},
   "source": [
    "## Random Interpretation Playbook\n",
    "\n",
    "These next steps will work through the random interpretation playbook."
   ]
  },
  {
   "cell_type": "markdown",
   "id": "26",
   "metadata": {},
   "source": [
    "### Feature buildup phase\n",
    "\n",
    "The first phase looks for concrete features from the pre-computed sequences to make instances for."
   ]
  },
  {
   "cell_type": "code",
   "execution_count": null,
   "id": "27",
   "metadata": {},
   "outputs": [],
   "source": [
    "starting_circuits_instances = {}\n",
    "starting_simple_parts_instances = {}"
   ]
  },
  {
   "cell_type": "code",
   "execution_count": null,
   "id": "28",
   "metadata": {},
   "outputs": [],
   "source": [
    "random_generator_playbook_phase_3_new_instances(circuit_model, circuit_feature_sequences, starting_circuits_instances)\n",
    "pprint_interpretation(starting_circuits_instances, circuit_model)"
   ]
  },
  {
   "cell_type": "code",
   "execution_count": null,
   "id": "29",
   "metadata": {},
   "outputs": [],
   "source": [
    "random_generator_playbook_phase_3_new_instances(simple_parts_model, simple_part_feature_sequences, starting_simple_parts_instances)\n",
    "pprint_interpretation(starting_simple_parts_instances, simple_parts_model)"
   ]
  },
  {
   "cell_type": "markdown",
   "id": "30",
   "metadata": {},
   "source": [
    "### Feature rollup phase\n",
    "\n",
    "With the more specific feature sequences created, use subsetting, redefinition, subclassification, and feature typing"
   ]
  },
  {
   "cell_type": "code",
   "execution_count": null,
   "id": "31",
   "metadata": {},
   "outputs": [],
   "source": [
    "random_generator_playbook_phase_3_rollup(\n",
    "    circuit_model,\n",
    "    circuit_lpg.get_projection(\"Redefinition and Subsetting\"),\n",
    "    starting_circuits_instances\n",
    ")\n",
    "random_generator_playbook_phase_3_rollup(\n",
    "    circuit_model,\n",
    "    circuit_lpg.get_projection(\"Generalization\"),\n",
    "    starting_circuits_instances\n",
    ")\n",
    "pprint_interpretation(starting_circuits_instances, circuit_model, show_empty=False)"
   ]
  },
  {
   "cell_type": "code",
   "execution_count": null,
   "id": "32",
   "metadata": {},
   "outputs": [],
   "source": [
    "random_generator_playbook_phase_3_rollup(\n",
    "    simple_parts_model,\n",
    "    simple_parts_lpg.get_projection(\"Redefinition and Subsetting\"),\n",
    "    starting_simple_parts_instances\n",
    ")\n",
    "random_generator_playbook_phase_3_rollup(\n",
    "    simple_parts_model,\n",
    "    simple_parts_lpg.get_projection(\"Generalization\"),\n",
    "    starting_simple_parts_instances\n",
    ")\n",
    "pprint_interpretation(starting_simple_parts_instances, simple_parts_model, False)"
   ]
  },
  {
   "cell_type": "code",
   "execution_count": null,
   "id": "33",
   "metadata": {},
   "outputs": [],
   "source": [
    "m0_interpretation = random_generator_playbook(\n",
    "    lpg=circuit_lpg,\n",
    "    name_hints={},\n",
    "    filtered_feat_packages=[circuit_lpg.model.ownedElement[\"Circuit Builder\"]],\n",
    "    phase_limit=10\n",
    ")"
   ]
  },
  {
   "cell_type": "code",
   "execution_count": null,
   "id": "34",
   "metadata": {},
   "outputs": [],
   "source": [
    "pprint_interpretation(m0_interpretation, circuit_model, False)"
   ]
  },
  {
   "cell_type": "code",
   "execution_count": null,
   "id": "35",
   "metadata": {},
   "outputs": [],
   "source": []
  }
 ],
 "metadata": {
  "kernelspec": {
   "display_name": "Python 3 (ipykernel)",
   "language": "python",
   "name": "python3"
  },
  "language_info": {
   "codemirror_mode": {
    "name": "ipython",
    "version": 3
   },
   "file_extension": ".py",
   "mimetype": "text/x-python",
   "name": "python",
   "nbconvert_exporter": "python",
   "pygments_lexer": "ipython3",
   "version": "3.9.6"
  }
 },
 "nbformat": 4,
 "nbformat_minor": 5
}
