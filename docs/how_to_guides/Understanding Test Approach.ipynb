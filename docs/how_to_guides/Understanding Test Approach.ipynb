{
 "cells": [
  {
   "cell_type": "markdown",
   "id": "fdf4d0ef-483a-4747-b010-c1e66b7d4666",
   "metadata": {},
   "source": [
    "# Understanding the Functional Testing Approach for PyMBE Playbooks\n",
    "\n",
    "This notebook walks through the functional testing of interpretation of SysML v2 models within its playbooks. The playbook modules and the graph projections upon which they rely are explored here and connected to bodies of tests."
   ]
  },
  {
   "cell_type": "code",
   "execution_count": null,
   "id": "9aa9a514-0270-4061-8e55-e63b2cd8bd36",
   "metadata": {},
   "outputs": [],
   "source": [
    "from pathlib import Path\n",
    "import networkx as nx\n",
    "import matplotlib as plt\n",
    "\n",
    "import pymbe.api as pm\n",
    "\n",
    "from pymbe.client import SysML2Client\n",
    "from pymbe.graph.lpg import SysML2LabeledPropertyGraph\n",
    "from pymbe.interpretation.interpretation import repack_instance_dictionaries\n",
    "from pymbe.interpretation.interp_playbooks import (\n",
    "    build_expression_sequence_templates,\n",
    "    build_banded_sequence_templates,\n",
    "    build_sequence_templates,\n",
    "    random_generator_playbook,\n",
    "    random_generator_playbook_phase_3_new_instances,\n",
    "    random_generator_playbook_phase_3_rollup,\n",
    ")\n",
    "from pymbe.interpretation.results import *\n",
    "from pymbe.label import get_label_for_id\n",
    "from pymbe.query.metamodel_navigator import feature_multiplicity\n",
    "from pymbe.query.query import (\n",
    "    roll_up_multiplicity,\n",
    "    roll_up_upper_multiplicity,\n",
    "    roll_up_multiplicity_for_type,\n",
    "    get_types_for_feature,\n",
    "    get_features_typed_by_type,\n",
    ")\n",
    "from pymbe.local.stablization import build_stable_id_lookups"
   ]
  },
  {
   "cell_type": "markdown",
   "id": "ccd63eba-6d55-43d0-a6fb-d0297b1aef12",
   "metadata": {},
   "source": [
    "## Gather Files and Load up Test Data"
   ]
  },
  {
   "cell_type": "markdown",
   "id": "6536c8a4-3717-43eb-bf94-6797fac95d82",
   "metadata": {},
   "source": [
    "### Load Up Model Circuits File\n",
    "\n",
    "Read the model from the local JSON file for the Circuits example model and its test information."
   ]
  },
  {
   "cell_type": "code",
   "execution_count": null,
   "id": "6edec2b0-4e0d-4497-ab55-e266a8df9c14",
   "metadata": {},
   "outputs": [],
   "source": [
    "client1 = SysML2Client()\n",
    "\n",
    "model_file = Path(pm.__file__).parent / \"../../tests/fixtures/Circuit Builder.json\"\n",
    "\n",
    "client1._load_from_file(model_file)\n",
    "\n",
    "circuit_lpg = SysML2LabeledPropertyGraph()\n",
    "circuit_lpg.model = client1.model\n",
    "circuit_model = circuit_lpg.model\n",
    "\n",
    "[circuit_id_to_parts_name_lookup, circuit_parts_name_to_id_lookup] = build_stable_id_lookups(circuit_lpg)\n",
    "\n",
    "circuit_lpg.model.MAX_MULTIPLICITY = 10"
   ]
  },
  {
   "cell_type": "markdown",
   "id": "97fbac49-f392-4cd3-8754-8b891b6fc481",
   "metadata": {},
   "source": [
    "### Load Up Simple Parts Model File\n",
    "\n",
    "Read the model from the local JSON file for the Simple Parts Model example model and its test information."
   ]
  },
  {
   "cell_type": "code",
   "execution_count": null,
   "id": "b89d8e1f-a8c8-478c-a09a-12b2c3dc2efd",
   "metadata": {},
   "outputs": [],
   "source": [
    "client2 = SysML2Client()\n",
    "\n",
    "parts_file = Path(pm.__file__).parent / \"../../tests/fixtures/Simple Parts Model Banded.json\"\n",
    "\n",
    "client2._load_from_file(parts_file)\n",
    "\n",
    "simple_parts_lpg = SysML2LabeledPropertyGraph()\n",
    "simple_parts_lpg.model = client2.model\n",
    "simple_parts_model = simple_parts_lpg.model\n",
    "\n",
    "[simple_parts_id_to_parts_name_lookup, simple_parts_name_to_id_lookup] = build_stable_id_lookups(simple_parts_lpg)\n",
    "\n",
    "simple_parts_lpg.model.MAX_MULTIPLICITY = 10"
   ]
  },
  {
   "cell_type": "markdown",
   "id": "843f45c4-9112-47be-b87a-c6a4bb7e78e8",
   "metadata": {},
   "source": [
    "## Explore Models\n",
    "\n",
    "This section of the notebook walks through the content of the various models being examined here to help the reader understand how model filters and interpretations should operate upon them."
   ]
  },
  {
   "cell_type": "markdown",
   "id": "be608291-a5fd-4109-8a61-f22db0bd0952",
   "metadata": {},
   "source": [
    "### Circuits Model\n",
    "\n",
    "The circuits model is a very simple model intended to explore generative design techniques with a SysML model and then estimate circuit characteristics in OpenMDAO.\n",
    "\n",
    "In the current iteration of prototyping, the circuits model comes with imported library packages, as seen below."
   ]
  },
  {
   "cell_type": "code",
   "execution_count": null,
   "id": "f3f0939f-a8d8-4331-bdc4-cb4faa4f9bf1",
   "metadata": {},
   "outputs": [],
   "source": [
    "circuit_model.packages"
   ]
  },
  {
   "cell_type": "markdown",
   "id": "373634fc-9ff6-4962-9fc4-c70ab85e5fb3",
   "metadata": {},
   "source": [
    "The main port, part, and connection definitions are under the main packages."
   ]
  },
  {
   "cell_type": "code",
   "execution_count": null,
   "id": "6d08154b-8443-4ab0-aa41-3257d9c0a711",
   "metadata": {},
   "outputs": [],
   "source": [
    "circuit_model.ownedElement[\"Circuit Builder\"].ownedElement"
   ]
  },
  {
   "cell_type": "markdown",
   "id": "2ef7ebf7-702d-4059-9efa-583241a600f0",
   "metadata": {},
   "source": [
    "The circuit has multiple part and connection usages."
   ]
  },
  {
   "cell_type": "code",
   "execution_count": null,
   "id": "b9442d5f-90c1-4dd2-a337-722e32dd1b9a",
   "metadata": {},
   "outputs": [],
   "source": [
    "circuit_model.ownedElement[\"Circuit Builder\"].ownedElement[\"Circuit\"].ownedElement"
   ]
  },
  {
   "cell_type": "markdown",
   "id": "35bb1185-9426-43f4-8de5-51dc09933ab9",
   "metadata": {},
   "source": [
    "### Simple Parts Model"
   ]
  },
  {
   "cell_type": "code",
   "execution_count": null,
   "id": "8b40ac46-388b-4a36-a4b5-d2e9e2bb0b06",
   "metadata": {},
   "outputs": [],
   "source": [
    "simple_parts_model"
   ]
  },
  {
   "cell_type": "code",
   "execution_count": null,
   "id": "278a38ad-8aca-4f1b-b0ae-faffb171cece",
   "metadata": {},
   "outputs": [],
   "source": [
    "simple_parts_model.packages"
   ]
  },
  {
   "cell_type": "code",
   "execution_count": null,
   "id": "2d74dada-3257-45a2-944e-b93916249ebd",
   "metadata": {},
   "outputs": [],
   "source": [
    "simple_parts_model.ownedElement[\"Simple Parts Model Banded\"].ownedElement"
   ]
  },
  {
   "cell_type": "markdown",
   "id": "334e9ed1-72a5-4c1d-9272-60db668baa16",
   "metadata": {},
   "source": [
    "## Interpretation Pre-Work\n",
    "\n",
    "There are a few steps in the process of generating M0 instances (AKA executions) to make the work easier."
   ]
  },
  {
   "cell_type": "markdown",
   "id": "0854b928-74ee-4baf-9396-1e0bea9adee5",
   "metadata": {},
   "source": [
    "### Feature Sequencing\n",
    "\n",
    "The M1 model can be examined to set up templates for minimum-length sequences for different sets of nested features."
   ]
  },
  {
   "cell_type": "markdown",
   "id": "088664b9-00c0-4a1e-9928-d263f2d7b851",
   "metadata": {},
   "source": [
    "#### Circuit Model"
   ]
  },
  {
   "cell_type": "code",
   "execution_count": null,
   "id": "7dcf1080-ee37-42f3-9015-ebafc56d1687",
   "metadata": {},
   "outputs": [],
   "source": [
    "all_banded_feature_sequences = build_banded_sequence_templates(lpg=circuit_lpg)\n",
    "\n",
    "filtered_feat_packages = [circuit_model.ownedElement[\"Circuit Builder\"]]\n",
    "\n",
    "circuit_feature_sequences = [seq for seq in all_banded_feature_sequences\n",
    "                     if circuit_model.elements[seq[-1]].owning_package in filtered_feat_packages]\n",
    "\n",
    "[[circuit_model.elements[typ_id] for typ_id in seq] for seq in circuit_feature_sequences]"
   ]
  },
  {
   "cell_type": "markdown",
   "id": "f0e9d77a-f027-43ad-87cd-81a0b9fb484e",
   "metadata": {},
   "source": [
    "#### Simple Parts Banded"
   ]
  },
  {
   "cell_type": "code",
   "execution_count": null,
   "id": "4524ec35-fdd6-4297-ba45-5c4b1413e449",
   "metadata": {},
   "outputs": [],
   "source": [
    "all_sp_feature_sequences = build_banded_sequence_templates(lpg=simple_parts_lpg)\n",
    "\n",
    "filtered_feat_packages = [simple_parts_model.ownedElement[\"Simple Parts Model Banded\"]]\n",
    "\n",
    "simple_part_feature_sequences = [seq for seq in all_sp_feature_sequences\n",
    "                     if simple_parts_model.elements[seq[-1]].owning_package in filtered_feat_packages]\n",
    "\n",
    "[[simple_parts_model.elements[typ_id] for typ_id in seq] for seq in simple_part_feature_sequences]"
   ]
  },
  {
   "cell_type": "markdown",
   "id": "2253d527-e4a9-4ce7-bdc1-5a074fc223fc",
   "metadata": {},
   "source": [
    "### Feature Multiplicities\n",
    "\n",
    "When we have the feature sequences worked out, we can then look at the multiplicities at each step."
   ]
  },
  {
   "cell_type": "markdown",
   "id": "86b04d10-f913-4d47-ad09-592c13f217ee",
   "metadata": {},
   "source": [
    "## Random Interpretation Playbook\n",
    "\n",
    "These next steps will work through the random interpretation playbook."
   ]
  },
  {
   "cell_type": "markdown",
   "id": "bd578ee9-c40f-4a9d-96a3-73b7454e75aa",
   "metadata": {},
   "source": [
    "### Feature buildup phase\n",
    "\n",
    "The first phase looks for concrete features from the pre-computed sequences to make instances for."
   ]
  },
  {
   "cell_type": "code",
   "execution_count": null,
   "id": "594b5d13-a884-4cd4-b7c7-b93a0b648c26",
   "metadata": {},
   "outputs": [],
   "source": [
    "starting_circuits_instances = {}\n",
    "starting_simple_parts_instances = {}"
   ]
  },
  {
   "cell_type": "code",
   "execution_count": null,
   "id": "3d1dbc1f-7f55-4480-8738-6a73927b5658",
   "metadata": {},
   "outputs": [],
   "source": [
    "random_generator_playbook_phase_3_new_instances(circuit_model, circuit_feature_sequences, starting_circuits_instances)\n",
    "pprint_interpretation(starting_circuits_instances, circuit_model)"
   ]
  },
  {
   "cell_type": "code",
   "execution_count": null,
   "id": "8a860c20-cd22-4535-b60b-cc763a55168a",
   "metadata": {},
   "outputs": [],
   "source": [
    "random_generator_playbook_phase_3_new_instances(simple_parts_model, simple_part_feature_sequences, starting_simple_parts_instances)\n",
    "pprint_interpretation(starting_simple_parts_instances, simple_parts_model)"
   ]
  },
  {
   "cell_type": "markdown",
   "id": "c29cef72-dd06-41d6-ac1e-b673addb239c",
   "metadata": {},
   "source": [
    "### Feature rollup phase\n",
    "\n",
    "With the more specific feature sequences created, use subsetting, redefinition, subclassification, and feature typing"
   ]
  },
  {
   "cell_type": "code",
   "execution_count": null,
   "id": "a6b89601-e717-4216-91c8-07ba68bd4773",
   "metadata": {},
   "outputs": [],
   "source": [
    "random_generator_playbook_phase_3_rollup(\n",
    "    circuit_model,\n",
    "    circuit_lpg.get_projection(\"Redefinition and Subsetting\"),\n",
    "    starting_circuits_instances\n",
    ")\n",
    "random_generator_playbook_phase_3_rollup(\n",
    "    circuit_model,\n",
    "    circuit_lpg.get_projection(\"Generalization\"),\n",
    "    starting_circuits_instances\n",
    ")\n",
    "pprint_interpretation(starting_circuits_instances, circuit_model)"
   ]
  },
  {
   "cell_type": "code",
   "execution_count": null,
   "id": "2be81846-89f6-43e8-b22d-2fc20a7dae36",
   "metadata": {},
   "outputs": [],
   "source": [
    "random_generator_playbook_phase_3_rollup(\n",
    "    simple_parts_model,\n",
    "    simple_parts_lpg.get_projection(\"Redefinition and Subsetting\"),\n",
    "    starting_simple_parts_instances\n",
    ")\n",
    "random_generator_playbook_phase_3_rollup(\n",
    "    simple_parts_model,\n",
    "    simple_parts_lpg.get_projection(\"Generalization\"),\n",
    "    starting_simple_parts_instances\n",
    ")\n",
    "pprint_interpretation(starting_simple_parts_instances, simple_parts_model, False)"
   ]
  },
  {
   "cell_type": "code",
   "execution_count": null,
   "id": "b9e4e8fb-717d-41f8-9c9a-02a124dbc691",
   "metadata": {},
   "outputs": [],
   "source": [
    "m0_interpretation = random_generator_playbook(\n",
    "    lpg=circuit_lpg,\n",
    "    name_hints={},\n",
    "    filtered_feat_packages=[circuit_lpg.model.ownedElement[\"Circuit Builder\"]],\n",
    "    phase_limit=10\n",
    ")"
   ]
  },
  {
   "cell_type": "code",
   "execution_count": null,
   "id": "7d4e6bc6-bd5f-402f-8160-2a0184abc237",
   "metadata": {},
   "outputs": [],
   "source": [
    "pprint_interpretation(m0_interpretation, circuit_model)"
   ]
  },
  {
   "cell_type": "code",
   "execution_count": null,
   "id": "2e5e0127-2703-432e-9ebd-ec9cfac47b6d",
   "metadata": {},
   "outputs": [],
   "source": []
  }
 ],
 "metadata": {
  "kernelspec": {
   "display_name": "Python 3 (ipykernel)",
   "language": "python",
   "name": "python3"
  },
  "language_info": {
   "codemirror_mode": {
    "name": "ipython",
    "version": 3
   },
   "file_extension": ".py",
   "mimetype": "text/x-python",
   "name": "python",
   "nbconvert_exporter": "python",
   "pygments_lexer": "ipython3",
   "version": "3.9.6"
  }
 },
 "nbformat": 4,
 "nbformat_minor": 5
}
