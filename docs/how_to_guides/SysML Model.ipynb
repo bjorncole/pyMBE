{
 "cells": [
  {
   "cell_type": "markdown",
   "id": "0bc6a46d-16af-4d67-9390-a544df71974f",
   "metadata": {},
   "source": [
    "# Using the Model\n",
    "\n",
    "> This notebook explains how one can load a SysML v2 model and interact with the data"
   ]
  },
  {
   "cell_type": "code",
   "execution_count": null,
   "id": "0c184bf4-bbec-49d7-9a41-fec97291fa8a",
   "metadata": {},
   "outputs": [],
   "source": [
    "from copy import deepcopy\n",
    "from pathlib import Path\n",
    "\n",
    "from ipywidgets import Dropdown\n",
    "\n",
    "import pymbe.api as pm"
   ]
  },
  {
   "cell_type": "code",
   "execution_count": null,
   "id": "482ba0f6-524c-4545-969e-980845ad1627",
   "metadata": {},
   "outputs": [],
   "source": [
    "fixtures_folder = Path(pm.__file__).parent / \"../../tests/fixtures/\""
   ]
  },
  {
   "cell_type": "markdown",
   "id": "ea740534-8260-4d5d-99ed-a362038414bb",
   "metadata": {},
   "source": [
    "Add a dropdown selector widget to load and see all the projects"
   ]
  },
  {
   "cell_type": "code",
   "execution_count": null,
   "id": "9e4511c6-d895-4b9f-b011-d587307deeca",
   "metadata": {},
   "outputs": [],
   "source": [
    "models = Dropdown(\n",
    "    description=\"Models\",\n",
    "    options={\n",
    "        path.name.replace(\".json\", \"\"): pm.Model.load_from_file(path.resolve())\n",
    "        for path in fixtures_folder.glob(\"*.json\")\n",
    "    },\n",
    ")\n",
    "models"
   ]
  },
  {
   "cell_type": "markdown",
   "id": "cb3a73be-0e2e-44fe-8481-1f8738aaeef9",
   "metadata": {},
   "source": [
    "Select the `Kerbal` model and assign it to `model`"
   ]
  },
  {
   "cell_type": "code",
   "execution_count": null,
   "id": "447d028f-6d83-42e0-9949-b9a6e6d9cf39",
   "metadata": {},
   "outputs": [],
   "source": [
    "models.label = \"Kerbal\"\n",
    "model = models.value"
   ]
  },
  {
   "cell_type": "markdown",
   "id": "c8f75ebc-616e-4194-9669-f627e53233a0",
   "metadata": {},
   "source": [
    "you can save the model back to a file"
   ]
  },
  {
   "cell_type": "code",
   "execution_count": null,
   "id": "957e8000-49d8-477e-97ac-64693c82d842",
   "metadata": {},
   "outputs": [],
   "source": [
    "model.save_to_file(\"New Kerbal.json\")"
   ]
  },
  {
   "cell_type": "markdown",
   "id": "de4a0e71-78e1-4110-bed6-7fa85650077a",
   "metadata": {},
   "source": [
    "and load it back..."
   ]
  },
  {
   "cell_type": "code",
   "execution_count": null,
   "id": "e00ac3af-2aae-4c89-9c55-3f7f6c3ac964",
   "metadata": {},
   "outputs": [],
   "source": [
    "new_model = pm.Model.load_from_file(\"New Kerbal.json\")\n",
    "\n",
    "assert len(new_model.elements) > 0\n",
    "assert len(new_model.elements) == len(model.elements)"
   ]
  },
  {
   "cell_type": "markdown",
   "id": "ba964a83-c004-4a72-9511-0097206b0406",
   "metadata": {},
   "source": [
    "the model can own elements (`.ownedElement`) and relationships (`.ownedRelationship`), and an element can be retrieved by name"
   ]
  },
  {
   "cell_type": "code",
   "execution_count": null,
   "id": "9beacde7-9c20-4a34-aed1-ab8695b2ab79",
   "metadata": {},
   "outputs": [],
   "source": [
    "kerbal = model.ownedElement[\"Kerbal\"]\n",
    "\n",
    "assert kerbal.name == \"Kerbal\"  # the name is used to get the element\n",
    "assert kerbal == kerbal._id  # the element can be directly compared to its id\n",
    "\n",
    "kerbal"
   ]
  },
  {
   "cell_type": "code",
   "execution_count": null,
   "id": "85312820-f36f-4ce7-ab94-425cb14b9ee0",
   "metadata": {},
   "outputs": [],
   "source": [
    "kerbal(name=\"My Rocket\")"
   ]
  },
  {
   "cell_type": "markdown",
   "id": "8cfe2427-e65b-4e8c-a42d-281163aae901",
   "metadata": {},
   "source": [
    "this can be done sequentially through the chain of element ownership"
   ]
  },
  {
   "cell_type": "code",
   "execution_count": null,
   "id": "8a68a911-51e5-4578-a334-c59b0b1875a4",
   "metadata": {},
   "outputs": [],
   "source": [
    "kerbal.ownedElement[\"Parts Library\"].ownedElement[\"FL-T200 Fuel Tank\"].ownedElement[\"Empty Mass\"].ownedElement[0][\"value\"]"
   ]
  },
  {
   "cell_type": "code",
   "execution_count": null,
   "id": "9cd911a3-7044-44ea-b236-364d8e78c256",
   "metadata": {},
   "outputs": [],
   "source": [
    "assert kerbal.ownedElement[\"Parts Library\"].ownedElement[\"FL-T200 Fuel Tank\"].ownedElement[\"Empty Mass\"].ownedElement[0].value == 0.125"
   ]
  },
  {
   "cell_type": "markdown",
   "id": "df8403cd-c185-47a2-a266-09dc1297686c",
   "metadata": {},
   "source": [
    "all the model elements are stored under `model.elements` and can be retrieved by their SysML identifier"
   ]
  },
  {
   "cell_type": "code",
   "execution_count": null,
   "id": "1c2a5e80-9991-460f-9f54-74e5ce91f57f",
   "metadata": {},
   "outputs": [],
   "source": [
    "for element in model.elements.values():\n",
    "    if element._metatype == \"ReturnParameterMembership\":\n",
    "        a_return_parameter_membership = element\n",
    "a_return_parameter_membership"
   ]
  },
  {
   "cell_type": "markdown",
   "id": "8074673b-d418-4075-89c7-6301403479c8",
   "metadata": {},
   "source": [
    "and their properties are resolved to the appropriate element"
   ]
  },
  {
   "cell_type": "code",
   "execution_count": null,
   "id": "41c64ac7-40f0-4c60-a6fb-3c944147c33e",
   "metadata": {},
   "outputs": [],
   "source": [
    "a_return_parameter_membership.relatedElement[0].value"
   ]
  },
  {
   "cell_type": "markdown",
   "id": "7b530ea4-bd0d-495c-97f3-3bb262e911c3",
   "metadata": {},
   "source": [
    "because of the nature of the data, there are multiple ways to refer to the same element, and the interactions allow for that"
   ]
  },
  {
   "cell_type": "code",
   "execution_count": null,
   "id": "566c10bb-a4e2-4e60-941f-44a4be6b2bee",
   "metadata": {},
   "outputs": [],
   "source": [
    "assert a_return_parameter_membership.target[0].reverseReturnParameterMembership[0] == a_return_parameter_membership.relatedElement[0]"
   ]
  },
  {
   "cell_type": "code",
   "execution_count": null,
   "id": "a2d40035-4261-4714-ba3b-3991d1334571",
   "metadata": {},
   "outputs": [],
   "source": [
    "assert a_return_parameter_membership._id == a_return_parameter_membership._data[\"@id\"]"
   ]
  },
  {
   "cell_type": "markdown",
   "id": "86ca859d-9fb8-4d92-8330-f06828227917",
   "metadata": {},
   "source": [
    "you can also \"safely\" get an attribute for an `Element`, as you would with a dictionary, using the `.get` method, the default is `None`"
   ]
  },
  {
   "cell_type": "code",
   "execution_count": null,
   "id": "1cb1486d-da98-41eb-98e3-75a01c9a4fb2",
   "metadata": {},
   "outputs": [],
   "source": [
    "value = a_return_parameter_membership.get(\"some_missing_key\", \"a default for something\")\n",
    "value"
   ]
  },
  {
   "cell_type": "code",
   "execution_count": null,
   "id": "d68e7e29-336f-41d8-b4a0-756d9e07f260",
   "metadata": {},
   "outputs": [],
   "source": [
    "assert a_return_parameter_membership.get(\"some_other_missing_key\") is None"
   ]
  },
  {
   "cell_type": "markdown",
   "id": "7c155805-4471-4da5-af3e-d3d33d00bb5a",
   "metadata": {},
   "source": [
    "we can also explore all the relationships in a given element\n",
    "\n",
    "a `through<Relationship Metatype>` is attached to the source, while a `reverse<Relationship Metatype>` is attached to the targer"
   ]
  },
  {
   "cell_type": "code",
   "execution_count": null,
   "id": "66693e4c-b4e2-4559-be0f-7338cf17026b",
   "metadata": {},
   "outputs": [],
   "source": [
    "for element in model.elements.values():\n",
    "    if element.name == \"Kerbal Rocket Part\":\n",
    "        rocket_part = element\n",
    "\n",
    "for subclass in rocket_part.reverseSuperclassing:\n",
    "    if subclass.name == \"Parachute\":\n",
    "        break\n",
    "\n",
    "assert subclass.throughSuperclassing[0].name == rocket_part.name"
   ]
  },
  {
   "cell_type": "code",
   "execution_count": null,
   "id": "35227485-dc58-419b-9255-16719360072a",
   "metadata": {},
   "outputs": [],
   "source": [
    "source, target = a_return_parameter_membership.relatedElement\n",
    "\n",
    "a_return_parameter_membership.target[0].relationships\n",
    "assert source.throughReturnParameterMembership[0] == target\n",
    "assert target.reverseReturnParameterMembership[0] == source"
   ]
  },
  {
   "cell_type": "markdown",
   "id": "cd45163c-87c7-4621-9ba1-acb1d0f06398",
   "metadata": {},
   "source": [
    "we can also see all the relationships"
   ]
  },
  {
   "cell_type": "code",
   "execution_count": null,
   "id": "a652f8c4-bffa-4bc6-9c44-a01f633eadcb",
   "metadata": {
    "tags": []
   },
   "outputs": [],
   "source": [
    "from pprint import pprint\n",
    "\n",
    "\n",
    "for element_id, element in model.elements.items():\n",
    "    name = element._data.get(\"qualifiedName\") or element_id\n",
    "    relationships = element.relationships\n",
    "\n",
    "    if not relationships:\n",
    "        continue\n",
    "    print(\"\\n\", name)\n",
    "    pprint(relationships)"
   ]
  },
  {
   "cell_type": "code",
   "execution_count": null,
   "id": "91a6b199-2910-49b4-b5b3-a42a3db6010e",
   "metadata": {},
   "outputs": [],
   "source": [
    "for element in model.elements.values():\n",
    "    try:\n",
    "        a_featured_value = element.get(\"throughFeatureValue\")[0]\n",
    "    except (IndexError, TypeError):\n",
    "        continue\n",
    "    value = a_featured_value.get(\"value\")\n",
    "    if value:\n",
    "        print(f\"{element} has value {value}\")"
   ]
  }
 ],
 "metadata": {
  "kernelspec": {
   "display_name": "Python 3 (ipykernel)",
   "language": "python",
   "name": "python3"
  },
  "language_info": {
   "codemirror_mode": {
    "name": "ipython",
    "version": 3
   },
   "file_extension": ".py",
   "mimetype": "text/x-python",
   "name": "python",
   "nbconvert_exporter": "python",
   "pygments_lexer": "ipython3",
   "version": "3.9.6"
  }
 },
 "nbformat": 4,
 "nbformat_minor": 5
}
