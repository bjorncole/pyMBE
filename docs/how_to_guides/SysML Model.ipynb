{
 "cells": [
  {
   "cell_type": "markdown",
   "id": "0",
   "metadata": {},
   "source": [
    "# Using the Model\n",
    "\n",
    "> This notebook explains how one can load a SysML v2 model and interact with the data"
   ]
  },
  {
   "cell_type": "code",
   "execution_count": null,
   "id": "1",
   "metadata": {},
   "outputs": [],
   "source": [
    "from copy import deepcopy\n",
    "from pathlib import Path\n",
    "\n",
    "from ipywidgets import Dropdown\n",
    "\n",
    "import pymbe.api as pm"
   ]
  },
  {
   "cell_type": "code",
   "execution_count": null,
   "id": "2",
   "metadata": {},
   "outputs": [],
   "source": [
    "fixtures_folder = Path(pm.__file__).parent / \"../../tests/fixtures/\""
   ]
  },
  {
   "cell_type": "markdown",
   "id": "3",
   "metadata": {},
   "source": [
    "Add a dropdown selector widget to load and see all the projects"
   ]
  },
  {
   "cell_type": "code",
   "execution_count": null,
   "id": "4",
   "metadata": {},
   "outputs": [],
   "source": [
    "models = Dropdown(\n",
    "    description=\"Models\",\n",
    "    options={\n",
    "        path.name.replace(\".json\", \"\"): pm.Model.load_from_file(path.resolve())\n",
    "        for path in fixtures_folder.glob(\"*.json\")\n",
    "    },\n",
    ")\n",
    "models"
   ]
  },
  {
   "cell_type": "markdown",
   "id": "5",
   "metadata": {},
   "source": [
    "Select the `Kerbal` model and assign it to `model`"
   ]
  },
  {
   "cell_type": "code",
   "execution_count": null,
   "id": "6",
   "metadata": {},
   "outputs": [],
   "source": [
    "models.label = \"Kerbal\"\n",
    "model = models.value"
   ]
  },
  {
   "cell_type": "markdown",
   "id": "7",
   "metadata": {},
   "source": [
    "you can save the model back to a file"
   ]
  },
  {
   "cell_type": "code",
   "execution_count": null,
   "id": "8",
   "metadata": {},
   "outputs": [],
   "source": [
    "model.save_to_file(\"New Kerbal.json\")"
   ]
  },
  {
   "cell_type": "markdown",
   "id": "9",
   "metadata": {},
   "source": [
    "and load it back..."
   ]
  },
  {
   "cell_type": "code",
   "execution_count": null,
   "id": "10",
   "metadata": {},
   "outputs": [],
   "source": [
    "new_model = pm.Model.load_from_file(\"New Kerbal.json\")\n",
    "\n",
    "assert len(new_model.elements) > 0\n",
    "assert len(new_model.elements) == len(model.elements)"
   ]
  },
  {
   "cell_type": "code",
   "execution_count": null,
   "id": "11",
   "metadata": {},
   "outputs": [],
   "source": [
    "# Delete the termporarily created New Kerbal.json file\n",
    "Path(\"New Kerbal.json\").unlink()"
   ]
  },
  {
   "cell_type": "markdown",
   "id": "12",
   "metadata": {},
   "source": [
    "the model can own elements (`.ownedElement`) and relationships (`.ownedRelationship`), and an element can be retrieved by name"
   ]
  },
  {
   "cell_type": "code",
   "execution_count": null,
   "id": "13",
   "metadata": {},
   "outputs": [],
   "source": [
    "kerbal = model.ownedElement[\"Kerbal\"]\n",
    "\n",
    "assert kerbal.name == \"Kerbal\"  # the name is used to get the element\n",
    "assert kerbal == kerbal._id  # the element can be directly compared to its id\n",
    "\n",
    "kerbal"
   ]
  },
  {
   "cell_type": "code",
   "execution_count": null,
   "id": "14",
   "metadata": {},
   "outputs": [],
   "source": [
    "kerbal(name=\"My Rocket\")"
   ]
  },
  {
   "cell_type": "markdown",
   "id": "15",
   "metadata": {},
   "source": [
    "this can be done sequentially through the chain of element ownership"
   ]
  },
  {
   "cell_type": "code",
   "execution_count": null,
   "id": "16",
   "metadata": {},
   "outputs": [],
   "source": [
    "kerbal.ownedElement[\"Parts Library\"].ownedElement[\"FL-T200 Fuel Tank\"].ownedElement[\"Empty Mass\"].ownedElement[0][\"value\"]"
   ]
  },
  {
   "cell_type": "code",
   "execution_count": null,
   "id": "17",
   "metadata": {},
   "outputs": [],
   "source": [
    "assert kerbal.ownedElement[\"Parts Library\"].ownedElement[\"FL-T200 Fuel Tank\"].ownedElement[\"Empty Mass\"].ownedElement[0].value == 0.125"
   ]
  },
  {
   "cell_type": "markdown",
   "id": "18",
   "metadata": {},
   "source": [
    "all the model elements are stored under `model.elements` and can be retrieved by their SysML identifier"
   ]
  },
  {
   "cell_type": "code",
   "execution_count": null,
   "id": "19",
   "metadata": {},
   "outputs": [],
   "source": [
    "for element in model.elements.values():\n",
    "    if (\n",
    "        element._metatype == \"ReturnParameterMembership\"\n",
    "        and \"Literal\" in element.relatedElement[0]._metatype\n",
    "    ):\n",
    "        a_return_parameter_membership = element\n",
    "        break\n",
    "a_return_parameter_membership"
   ]
  },
  {
   "cell_type": "markdown",
   "id": "20",
   "metadata": {},
   "source": [
    "and their properties are resolved to the appropriate element"
   ]
  },
  {
   "cell_type": "code",
   "execution_count": null,
   "id": "21",
   "metadata": {},
   "outputs": [],
   "source": [
    "a_return_parameter_membership.relatedElement[0].value"
   ]
  },
  {
   "cell_type": "code",
   "execution_count": null,
   "id": "22",
   "metadata": {},
   "outputs": [],
   "source": [
    "a_return_parameter_membership.relatedElement[0]"
   ]
  },
  {
   "cell_type": "markdown",
   "id": "23",
   "metadata": {},
   "source": [
    "because of the nature of the data, there are multiple ways to refer to the same element, and the interactions allow for that"
   ]
  },
  {
   "cell_type": "code",
   "execution_count": null,
   "id": "24",
   "metadata": {},
   "outputs": [],
   "source": [
    "assert a_return_parameter_membership.target[0].reverseReturnParameterMembership[0] == a_return_parameter_membership.relatedElement[0]"
   ]
  },
  {
   "cell_type": "code",
   "execution_count": null,
   "id": "25",
   "metadata": {},
   "outputs": [],
   "source": [
    "assert a_return_parameter_membership._id == a_return_parameter_membership._data[\"@id\"]"
   ]
  },
  {
   "cell_type": "markdown",
   "id": "26",
   "metadata": {},
   "source": [
    "you can also \"safely\" get an attribute for an `Element`, as you would with a dictionary, using the `.get` method, the default is `None`"
   ]
  },
  {
   "cell_type": "code",
   "execution_count": null,
   "id": "27",
   "metadata": {},
   "outputs": [],
   "source": [
    "value = a_return_parameter_membership.get(\"some_missing_key\", \"a default for something\")\n",
    "value"
   ]
  },
  {
   "cell_type": "code",
   "execution_count": null,
   "id": "28",
   "metadata": {},
   "outputs": [],
   "source": [
    "assert a_return_parameter_membership.get(\"some_other_missing_key\") is None"
   ]
  },
  {
   "cell_type": "markdown",
   "id": "29",
   "metadata": {},
   "source": [
    "we can also explore all the relationships in a given element\n",
    "\n",
    "a `through<Relationship Metatype>` is attached to the source, while a `reverse<Relationship Metatype>` is attached to the targer"
   ]
  },
  {
   "cell_type": "code",
   "execution_count": null,
   "id": "30",
   "metadata": {},
   "outputs": [],
   "source": [
    "for element in model.elements.values():\n",
    "    if element.name == \"Kerbal Rocket Part\":\n",
    "        rocket_part = element\n",
    "\n",
    "for subclass in rocket_part.reverseSuperclassing:\n",
    "    if subclass.name == \"Parachute\":\n",
    "        break\n",
    "\n",
    "assert subclass.throughSuperclassing[0].name == rocket_part.name"
   ]
  },
  {
   "cell_type": "code",
   "execution_count": null,
   "id": "31",
   "metadata": {},
   "outputs": [],
   "source": [
    "source, target = a_return_parameter_membership.relatedElement\n",
    "\n",
    "a_return_parameter_membership.target[0].relationships\n",
    "assert source.throughReturnParameterMembership[0] == target\n",
    "assert target.reverseReturnParameterMembership[0] == source"
   ]
  },
  {
   "cell_type": "markdown",
   "id": "32",
   "metadata": {},
   "source": [
    "we can also see all the relationships"
   ]
  },
  {
   "cell_type": "code",
   "execution_count": null,
   "id": "33",
   "metadata": {
    "tags": []
   },
   "outputs": [],
   "source": [
    "from pprint import pprint\n",
    "\n",
    "\n",
    "for element_id, element in model.elements.items():\n",
    "    name = element._data.get(\"qualifiedName\") or element_id\n",
    "    relationships = element.relationships\n",
    "\n",
    "    if not relationships:\n",
    "        continue\n",
    "    print(\"\\n\", name)\n",
    "    pprint(relationships)"
   ]
  },
  {
   "cell_type": "code",
   "execution_count": null,
   "id": "34",
   "metadata": {},
   "outputs": [],
   "source": [
    "for element in model.elements.values():\n",
    "    try:\n",
    "        a_featured_value = element.get(\"throughFeatureValue\")[0]\n",
    "    except (IndexError, TypeError):\n",
    "        continue\n",
    "    value = a_featured_value.get(\"value\")\n",
    "    if value:\n",
    "        print(f\"{element} has value {value}\")"
   ]
  }
 ],
 "metadata": {
  "kernelspec": {
   "display_name": "Python 3 (ipykernel)",
   "language": "python",
   "name": "python3"
  },
  "language_info": {
   "codemirror_mode": {
    "name": "ipython",
    "version": 3
   },
   "file_extension": ".py",
   "mimetype": "text/x-python",
   "name": "python",
   "nbconvert_exporter": "python",
   "pygments_lexer": "ipython3",
   "version": "3.9.6"
  }
 },
 "nbformat": 4,
 "nbformat_minor": 5
}
