{
 "cells": [
  {
   "cell_type": "markdown",
   "id": "4b9ecba8-a490-44bf-9a31-b94faa77d3c3",
   "metadata": {},
   "source": [
    "# Playbook Explorer\n",
    "\n",
    "This notebook is intended to be a live example of how to work with SysML v2 models at analysis-time. For these purposes, the following terms are introduced:\n",
    "* An *interpretation* is the mapping of user model symbols (the \"M1 model\" in OMG-speak) into semantically-correct symbols that represent real world objects meant to conform to the model (the \"M0\" in OMG-speak). Interpretation semantics are inspired by https://www.w3.org/TR/owl2-direct-semantics/ and are mostly similar.\n",
    "* A *sequence* for an interpretation contains *atoms* or *instances* that match to real world things. Reading a sequence from left to right provides a set of nested contexts for the atoms that is important to the interpretation. For example [Rocket#0, LS#3] is a 2-sequence to describe facts around the LS#3 atom when it is considered in context for Rocket#0. This is an important idea for the SysML time and occurrence model where one may want to see how values change under different conditions.\n",
    "\n",
    "This is a notebook that walks through the random interpretation generator to help developers working on their own interpreters."
   ]
  },
  {
   "cell_type": "markdown",
   "id": "e405de1e-20e9-4763-a363-ddb6eb6fac9d",
   "metadata": {},
   "source": [
    "## Example Model\n",
    "\n",
    "The model that is used for this example is the SysML v2 Validation case 2a:\n",
    "\n",
    "    package '2a-Parts Interconnection' {\n",
    "\timport Definitions::*;\n",
    "\timport Usages::*;\n",
    "\n",
    "\tpackage Definitions {\t\t\n",
    "\t\t// Port Definitions\n",
    "\t\t\n",
    "\t\tport def FuelCmdPort;\n",
    "\t\t\n",
    "\t\tport def DrivePwrPort;\n",
    "\t\tport def ClutchPort;\n",
    "\t\t\n",
    "\t\tport def ShaftPort_a;\n",
    "\t\tport def ShaftPort_b;\n",
    "\t\tport def ShaftPort_c;\n",
    "\t\tport def ShaftPort_d;\n",
    "\t\t\n",
    "\t\tport def DiffPort;\n",
    "\t\tport def AxlePort;\n",
    "\t\tport def AxleToWheelPort;\n",
    "\t\tport def WheelToAxlePort;\n",
    "\t\tport def WheelToRoadPort;\n",
    "\t\t\n",
    "\t\t/**\n",
    "\t\t * A port definition can have nested ports.\n",
    "\t\t */\n",
    "\t\tport def VehicleToRoadPort { \n",
    "\t\t\tport wheelToRoadPort: WheelToRoadPort[2];\n",
    "\t\t}\n",
    "\t\n",
    "\t\t// Blocks\n",
    "\t\n",
    "\t\tpart def VehicleA { \n",
    "\t\t\tport fuelCmdPort: FuelCmdPort;\n",
    "\t\t\tport vehicleToRoadPort: VehicleToRoadPort;\n",
    "\t\t}\n",
    "\t\t\n",
    "\t\tpart def AxleAssembly;\t\t\n",
    "\t\tpart def RearAxleAssembly :> AxleAssembly { \n",
    "\t\t\tport shaftPort_d: ShaftPort_d;\n",
    "\t\t}\n",
    "\t\t\n",
    "\t\tpart def Axle;\n",
    "\t\tpart def RearAxle :> Axle;\n",
    "\t\t\n",
    "\t\tpart def HalfAxle { \n",
    "\t\t\tport axleToDiffPort: AxlePort;\n",
    "\t\t\tport axleToWheelPort: AxleToWheelPort;\n",
    "\t\t}\n",
    "\t\t\n",
    "\t\tpart def Engine { \n",
    "\t\t\tport fuelCmdPort: FuelCmdPort;\n",
    "\t\t\tport drivePwrPort: DrivePwrPort;\n",
    "\t\t}\n",
    "\t\n",
    "\t\tpart def Transmission { \n",
    "\t\t\tport clutchPort: ClutchPort;\n",
    "\t\t\tport shaftPort_a: ShaftPort_a;\n",
    "\t\t}\n",
    "\t\t\n",
    "\t\tpart def Driveshaft { \n",
    "\t\t\tport shaftPort_b: ShaftPort_b;\n",
    "\t\t\tport shaftPort_c: ShaftPort_c;\n",
    "\t\t}\t\n",
    "\t\t\n",
    "\t\t/**\n",
    "\t\t * Ports do not have to be defined on part defs.\n",
    "\t\t * They can be added directly to their usages.\n",
    "\t\t */\n",
    "\t\tpart def Differential;\n",
    "\t\tpart def Wheel;\n",
    "\t\t\n",
    "\t\t// Interface Definitions\n",
    "\t\t\n",
    "\t\t/**\n",
    "\t\t * The ends of an interface definition are always ports.\n",
    "\t\t */\n",
    "\t\tinterface def EngineToTransmissionInterface {\n",
    "\t\t\tend drivePwrPort: DrivePwrPort;\n",
    "\t\t\tend clutchPort: ClutchPort;\n",
    "\t\t}\n",
    "\t\t\n",
    "\t\tinterface def DriveshaftInterface {\n",
    "\t\t\tend shaftPort_a: ShaftPort_a;\n",
    "\t\t\tend shaftPort_d: ShaftPort_d;\n",
    "\t\t\t\n",
    "\t\t\t/**\n",
    "\t\t\t * 'driveshaft' is a reference to the driveshaft that will\n",
    "\t\t\t * act as the \"interface medium\" for this interface.\n",
    "\t\t\t */\n",
    "\t\t\tref driveshaft: Driveshaft {\n",
    "\t\t\t\tport shaftPort_b :>> Driveshaft::shaftPort_b;\n",
    "\t\t\t\tport shaftPort_c :>> Driveshaft::shaftPort_c;\n",
    "\t\t\t}\n",
    "\t\t\t\n",
    "\t\t\t/**\n",
    "\t\t\t * The two ends of 'DriveShaftInterface' are always connected\n",
    "\t\t\t * via the referenced 'driveshaft'.\n",
    "\t\t\t */\n",
    "\t\t\tconnect shaftPort_a to driveshaft::shaftPort_b;\n",
    "\t\t\tconnect driveshaft::shaftPort_c to shaftPort_d;\n",
    "\t\t}\n",
    "\t\t\n",
    "\t}\n",
    "\t\n",
    "\tpackage Usages {\n",
    "\t\n",
    "\t\tpart vehicle1_c1: VehicleA {\n",
    "\t\t\t\n",
    "\t\t\t/**\n",
    "\t\t\t * Inherited ports are redefined to provide \"local connection points\".\n",
    "\t\t\t * (\"::>>\" is a shorthand for \"redefines\".)\n",
    "\t\t\t */\n",
    "\t\t\tport fuelCmdPort :>> VehicleA::fuelCmdPort;\n",
    "\t\t\t\n",
    "\t\t\tbind fuelCmdPort = engine::fuelCmdPort;\n",
    "\t\t\t\n",
    "\t\t\tpart engine: Engine {\n",
    "\t\t\t\tport fuelCmdPort :>> Engine::fuelCmdPort;\n",
    "\t\t\t\tport drivePwrPort :>> Engine::drivePwrPort;\n",
    "\t\t\t}\n",
    "\t\t\t\n",
    "\t\t\t/**\n",
    "\t\t\t * A usage of an interface definition connects two ports relative to \n",
    "\t\t\t * a containing context.\n",
    "\t\t\t */\n",
    "\t\t\tinterface :EngineToTransmissionInterface\n",
    "\t\t\t\tconnect engine::drivePwrPort to transmission::clutchPort;\n",
    "\t\t\t\t\n",
    "\t\t\tpart transmission: Transmission {\n",
    "\t\t\t\tport clutchPort :>> Transmission::clutchPort;\n",
    "\t\t\t\tport shaftPort_a :>> Transmission::shaftPort_a;\t\n",
    "\t\t\t}\n",
    "\t\t\t\n",
    "\t\t\t/**\n",
    "\t\t\t * This 'driveshaft' is the part of 'vehicle1_c1' that will act as the\n",
    "\t\t\t * interface medium in the following 'DriveshaftInterface' usage.\n",
    "\t\t\t */\n",
    "\t\t\tpart driveshaft: Driveshaft;\n",
    "\t\t\t\n",
    "\t\t\tinterface :DriveshaftInterface\n",
    "\t\t\t\tconnect transmission::shaftPort_a to rearAxleAssembly::shaftPort_d {\n",
    "\t\t\t\t\t/**\n",
    "\t\t\t\t\t * The reference property from 'DriveshaftInterface' is redefined\n",
    "\t\t\t\t\t * in order to bind it to the appropriate part of 'vehicle1_c1'.\n",
    "\t\t\t\t\t */\n",
    "\t\t\t\t\tref :>> DriveshaftInterface::driveshaft = vehicle1_c1::driveshaft;\n",
    "\t\t\t\t}\n",
    "\t\n",
    "\t\t\tpart rearAxleAssembly: RearAxleAssembly {\n",
    "\t\t\t\tport shaftPort_d: ShaftPort_d :>> RearAxleAssembly::shaftPort_d;\n",
    "\t\n",
    "\t\t\t\tbind shaftPort_d = differential::shaftPort_d;\n",
    "\t\t\t\t\n",
    "\t\t\t\tpart differential: Differential {\n",
    "\t\t\t\t\t/**\n",
    "\t\t\t\t\t * If the part def has no ports, then they can be defined directly in\n",
    "\t\t\t\t\t * a usage of the part def.\n",
    "\t\t\t\t\t */\n",
    "\t\t\t\t\tport shaftPort_d: ShaftPort_d;\n",
    "\t\t\t\t\tport leftDiffPort: DiffPort;\n",
    "\t\t\t\t\tport rightDiffPort: DiffPort;\n",
    "\t\t\t\t}\n",
    "\t\t\t\t\n",
    "\t\t\t\t/* TODO: Allow use of \"interface\" keyword for an unnamed, default-typed interface usage. */\n",
    "\t\t\t\t\n",
    "\t\t\t\t/**\n",
    "\t\t\t\t * A connection can be to a port that is arbitrarily deeply nested, on either end. \n",
    "\t\t\t\t */\n",
    "\t\t\t\tconnect differential::leftDiffPort to rearAxle::leftHalfAxle::leftAxleToDiffPort;\n",
    "\t\t\t\tconnect differential::rightDiffPort to rearAxle::rightHalfAxle::rightAxleToDiffPort;\n",
    "\t\t\n",
    "\t\t\t\tpart rearAxle: RearAxle {\n",
    "\t\t\t\t\tpart leftHalfAxle: HalfAxle {\n",
    "\t\t\t\t\t\tport leftAxleToDiffPort :>> HalfAxle::axleToDiffPort;\n",
    "\t\t\t\t\t\tport leftAxleToWheelPort :>> HalfAxle::axleToWheelPort;\n",
    "\t\t\t\t\t}\n",
    "\t\t\t\t\tpart rightHalfAxle: HalfAxle  {\n",
    "\t\t\t\t\t\tport rightAxleToDiffPort :>> HalfAxle::axleToDiffPort;\n",
    "\t\t\t\t\t\tport rightAxleToWheelPort :>> HalfAxle::axleToWheelPort;\n",
    "\t\t\t\t\t}\n",
    "\t\t\t\t}\n",
    "\t\t\t\t\n",
    "\t\t\t\tconnect rearAxle::leftHalfAxle::leftAxleToWheelPort to leftWheel::wheelToAxlePort;\n",
    "\t\t\t\tconnect rearAxle::rightHalfAxle::rightAxleToWheelPort to rightWheel::wheelToAxlePort;\n",
    "\t\n",
    "\t\t\t\tpart rearWheel: Wheel[2] ordered;\n",
    "\t\t\t\t\n",
    "\t\t\t\t/* The two rear wheels of 'rearAxleAssembly' must be given\n",
    "\t\t\t\t * their own names in order to be referenced in connections.\n",
    "\t\t\t\t * \n",
    "\t\t\t\t * (\":>\" is a shorthand here for \"subsets\".)\n",
    "\t\t\t\t */\n",
    "\t\t\t\tpart leftWheel :> rearWheel = rearWheel[1] {\n",
    "\t\t\t\t\tport wheelToAxlePort: WheelToAxlePort;\n",
    "\t\t\t\t\tport wheelToRoadPort: WheelToRoadPort;\n",
    "\t\t\t\t}\n",
    "\t\t\t\t\n",
    "\t\t\t\tpart rightWheel :> rearWheel = rearWheel[2] {\n",
    "\t\t\t\t\tport wheelToAxlePort: WheelToAxlePort;\n",
    "\t\t\t\t\tport wheelToRoadPort: WheelToRoadPort;\n",
    "\t\t\t\t}\n",
    "\t\t\t\t\n",
    "\t\t\t}\n",
    "\t\t\t\n",
    "\t\t\tbind rearAxleAssembly::leftWheel::wheelToRoadPort = \n",
    "\t\t\t\t vehicleToRoadPort::leftWheelToRoadPort;\n",
    "\t\t\t\t \n",
    "\t\t\tbind rearAxleAssembly::rightWheel::wheelToRoadPort = \n",
    "\t\t\t\t vehicleToRoadPort::rightWheelToRoadPort;\n",
    "\t\t\t\t\n",
    "\t\t\tport vehicleToRoadPort redefines VehicleA::vehicleToRoadPort {\n",
    "\t\t\t\tport leftWheelToRoadPort :> wheelToRoadPort = wheelToRoadPort[1];\n",
    "\t\t\t\tport rightWheelToRoadPort :> wheelToRoadPort = wheelToRoadPort[2];\n",
    "\t\t\t}\n",
    "\t\t\t\n",
    "\t\t}\n",
    "\t\n",
    "\t}\n",
    "\t\n",
    "}"
   ]
  },
  {
   "cell_type": "markdown",
   "id": "5354f8ac-7cd4-4910-8cfc-d5b9e4fd0263",
   "metadata": {},
   "source": [
    "## Imports\n",
    "\n",
    "Import key modules, functions, and classes from the PyMBE library:"
   ]
  },
  {
   "cell_type": "code",
   "execution_count": 1,
   "id": "9dd5d23e-7a3a-4a8a-a297-c3598c048c4e",
   "metadata": {},
   "outputs": [],
   "source": [
    "import pymbe.api as pm\n",
    "from pymbe.label import get_label\n",
    "import networkx as nx\n",
    "import matplotlib.pyplot as plt\n",
    "\n",
    "from pymbe.interpretation.interp_playbooks import *\n",
    "from pymbe.interpretation.results import *\n",
    "\n",
    "from pymbe.client import SysML2Client\n",
    "from pymbe.query.metamodel_navigator import map_inputs_to_results\n",
    "\n",
    "from pymbe.interpretation.calc_dependencies import generate_execution_order\n",
    "\n",
    "import os\n",
    "\n",
    "from pymbe.graph.lpg import SysML2LabeledPropertyGraph"
   ]
  },
  {
   "cell_type": "markdown",
   "id": "e688d538-53b0-49c3-a805-c6ccb29c00dc",
   "metadata": {},
   "source": [
    "## Key IDs\n",
    "\n",
    "The unique identifiers below are useful references for walking through the interpretations generated in this notebook."
   ]
  },
  {
   "cell_type": "code",
   "execution_count": null,
   "id": "f14b53d3-bee3-4ca1-939f-fe2f8f410b7a",
   "metadata": {},
   "outputs": [],
   "source": []
  },
  {
   "cell_type": "markdown",
   "id": "4781f4e7-9176-4258-a3af-13076eeacb84",
   "metadata": {},
   "source": [
    "## Client Setup\n",
    "\n",
    "The example here uses a local copy of the JSON file obtained by a GET operation on the SysML v2 API at:\n",
    "http://sysml2-sst.intercax.com:9000/projects/a4f6a618-e4eb-4ac8-84b8-d6bcd3badcec/commits/c48aea9b-42fb-49b3-9a3e-9c39385408d7/elements?page[size]=5000"
   ]
  },
  {
   "cell_type": "markdown",
   "id": "9521c0ea-a498-4a37-b2c7-c7c4440157de",
   "metadata": {},
   "source": [
    "Create the client and load local data."
   ]
  },
  {
   "cell_type": "code",
   "execution_count": 2,
   "id": "b66f365e-ef81-42ba-bdae-2f5d239abe4f",
   "metadata": {},
   "outputs": [],
   "source": [
    "helper_client = SysML2Client()\n",
    "\n",
    "path = \"C:\\\\Users\\\\bjorn\\\\Documents\\\\Git\\\\pyMBE\"\n",
    "file_name = \"\\\\tests\\\\data\\\\Validation Case 2a\\\\elements.json\"\n",
    "\n",
    "helper_client._load_disk_elements(path + str(file_name))"
   ]
  },
  {
   "cell_type": "markdown",
   "id": "f9497fb5-64e1-476f-9d1a-295cc8794a48",
   "metadata": {},
   "source": [
    "Create a graph representation of the model and load it into memory."
   ]
  },
  {
   "cell_type": "code",
   "execution_count": 3,
   "id": "8faf098c-8e66-488c-9b28-b6f3a8be6a93",
   "metadata": {},
   "outputs": [],
   "source": [
    "lpg = SysML2LabeledPropertyGraph()\n",
    "lpg.update(helper_client.elements_by_id, False)"
   ]
  },
  {
   "cell_type": "markdown",
   "id": "1522f0a3-03b8-4784-86fa-ea1e3a59befa",
   "metadata": {},
   "source": [
    "This is just a helper to make abbreviations more legible."
   ]
  },
  {
   "cell_type": "code",
   "execution_count": 4,
   "id": "a890ad5d-62bc-4e22-a71e-2d66295c772e",
   "metadata": {},
   "outputs": [],
   "source": [
    "shorten_pre_bake = {\n",
    "}"
   ]
  },
  {
   "cell_type": "markdown",
   "id": "f35e1c75-0746-4297-b159-31dc16adca07",
   "metadata": {},
   "source": [
    "Create an interpretation of the Kerbal model using the random generator playbook. In general, this randomly selects:\n",
    "- The ratios of partitioning abstract classifier sequence sets into concrete sets. For example, one draw may choose 2 liquid stages and 3 solids.\n",
    "- The number of sequences to create for a given feature multiplicity. For example, draw 2 for a 0..8 engines : Liquid Engine PartUsage.\n",
    "\n",
    "The playbook also attempts to make sequences created obey the Subsetting relationship (elements marked with subsets in M1 model should have their interpretation sequences entirely included within the interpretation sequences of the superset)."
   ]
  },
  {
   "cell_type": "code",
   "execution_count": 5,
   "id": "e312d2cb-66ea-4ff4-8dc7-99bb4de175dc",
   "metadata": {},
   "outputs": [],
   "source": [
    "from pymbe.query.query import get_types_for_feature, get_features_typed_by_type, roll_up_multiplicity_for_type"
   ]
  },
  {
   "cell_type": "code",
   "execution_count": 6,
   "id": "cd66e748-aef6-4d6f-b0ca-5bc0507ca9eb",
   "metadata": {},
   "outputs": [
    {
     "data": {
      "text/plain": [
       "['afc897ef-d6ba-4a15-a6be-b947f3e1016f']"
      ]
     },
     "execution_count": 6,
     "metadata": {},
     "output_type": "execute_result"
    }
   ],
   "source": [
    "get_types_for_feature(lpg, 'a0aba22e-a4ea-44b5-adde-928f9e6e30dd')"
   ]
  },
  {
   "cell_type": "code",
   "execution_count": 7,
   "id": "14676fbd-c063-43e6-a38e-847aeb9c6b15",
   "metadata": {},
   "outputs": [
    {
     "data": {
      "text/plain": [
       "['165f4cd9-9849-45bf-b31b-d0b675df6774']"
      ]
     },
     "execution_count": 7,
     "metadata": {},
     "output_type": "execute_result"
    }
   ],
   "source": [
    "get_types_for_feature(lpg, '6656cd12-8549-4690-9e17-b858278507b3')"
   ]
  },
  {
   "cell_type": "code",
   "execution_count": 8,
   "id": "4ae8aede-2a2f-4fbc-a540-a0b2cf32be80",
   "metadata": {},
   "outputs": [
    {
     "data": {
      "text/plain": [
       "['6656cd12-8549-4690-9e17-b858278507b3']"
      ]
     },
     "execution_count": 8,
     "metadata": {},
     "output_type": "execute_result"
    }
   ],
   "source": [
    "get_features_typed_by_type(lpg, '165f4cd9-9849-45bf-b31b-d0b675df6774')"
   ]
  },
  {
   "cell_type": "code",
   "execution_count": 9,
   "id": "8720bd71-82c4-4ab0-aecd-7142c3b9e168",
   "metadata": {},
   "outputs": [
    {
     "data": {
      "text/plain": [
       "2"
      ]
     },
     "execution_count": 9,
     "metadata": {},
     "output_type": "execute_result"
    }
   ],
   "source": [
    "roll_up_multiplicity_for_type(lpg, lpg.nodes['165f4cd9-9849-45bf-b31b-d0b675df6774'], \"upper\")"
   ]
  },
  {
   "cell_type": "code",
   "execution_count": 10,
   "id": "8bd29ae6-e255-4a04-b0a8-b708c39ca6d6",
   "metadata": {},
   "outputs": [],
   "source": [
    "from pymbe.interpretation.interp_playbooks import build_expression_sequence_templates\n",
    "from pymbe.label import get_label_for_id"
   ]
  },
  {
   "cell_type": "code",
   "execution_count": 11,
   "id": "c0614a10-966c-48d6-8d49-a046a7a9c0cf",
   "metadata": {},
   "outputs": [
    {
     "name": "stdout",
     "output_type": "stream",
     "text": [
      "['263cc821-b999-4f2c-8701-dab0f2e7da29 «Feature»', 'driveshaft.shaftPort_c ($collection) => $result', 'FRE.shaftPort_c', '$result: ShaftPort_c']\n",
      "['263cc821-b999-4f2c-8701-dab0f2e7da29 «Feature»', 'driveshaft.shaftPort_c ($collection) => $result', 'FRE.driveshaft', '$result: Driveshaft']\n",
      "['263cc821-b999-4f2c-8701-dab0f2e7da29 «Feature»', 'driveshaft.shaftPort_c ($collection) => $result', '$result']\n",
      "['263cc821-b999-4f2c-8701-dab0f2e7da29 «Feature»', 'driveshaft.shaftPort_c ($collection) => $result', '$collection']\n",
      "['95e4a736-2f48-4522-8a47-09b50039024a «Feature»', 'leftWheel.wheelToAxlePort ($collection) => $result', 'FRE.wheelToAxlePort', '$result: WheelToAxlePort']\n",
      "['95e4a736-2f48-4522-8a47-09b50039024a «Feature»', 'leftWheel.wheelToAxlePort ($collection) => $result', '$collection']\n",
      "['95e4a736-2f48-4522-8a47-09b50039024a «Feature»', 'leftWheel.wheelToAxlePort ($collection) => $result', '$result']\n",
      "['95e4a736-2f48-4522-8a47-09b50039024a «Feature»', 'leftWheel.wheelToAxlePort ($collection) => $result', 'FRE.leftWheel', '$result: Wheel']\n",
      "['c086102a-81dc-45d9-bb9c-cc1aded8b316 «Feature»', 'rightWheel.wheelToAxlePort ($collection) => $result', 'FRE.rightWheel', '$result: Wheel']\n",
      "['c086102a-81dc-45d9-bb9c-cc1aded8b316 «Feature»', 'rightWheel.wheelToAxlePort ($collection) => $result', '$collection']\n",
      "['c086102a-81dc-45d9-bb9c-cc1aded8b316 «Feature»', 'rightWheel.wheelToAxlePort ($collection) => $result', 'FRE.wheelToAxlePort', '$result: WheelToAxlePort']\n",
      "['c086102a-81dc-45d9-bb9c-cc1aded8b316 «Feature»', 'rightWheel.wheelToAxlePort ($collection) => $result', '$result']\n",
      "['e9f67abc-f6df-41a1-a97c-e77f3954ba6f «Feature»', 'wheelToRoadPort ($collection) => $result', '$collection']\n",
      "['e9f67abc-f6df-41a1-a97c-e77f3954ba6f «Feature»', 'wheelToRoadPort ($collection) => $result', 'rearAxleAssembly.leftWheel ($collection) => $result', '$result']\n",
      "['e9f67abc-f6df-41a1-a97c-e77f3954ba6f «Feature»', 'wheelToRoadPort ($collection) => $result', 'rearAxleAssembly.leftWheel ($collection) => $result', 'FRE.rearAxleAssembly', '$result: RearAxleAssembly']\n",
      "['e9f67abc-f6df-41a1-a97c-e77f3954ba6f «Feature»', 'wheelToRoadPort ($collection) => $result', 'FRE.wheelToRoadPort', '$result: WheelToRoadPort']\n",
      "['e9f67abc-f6df-41a1-a97c-e77f3954ba6f «Feature»', 'wheelToRoadPort ($collection) => $result', 'rearAxleAssembly.leftWheel ($collection) => $result', '$collection']\n",
      "['e9f67abc-f6df-41a1-a97c-e77f3954ba6f «Feature»', 'wheelToRoadPort ($collection) => $result', 'rearAxleAssembly.leftWheel ($collection) => $result', 'FRE.leftWheel', '$result: Wheel']\n",
      "['e9f67abc-f6df-41a1-a97c-e77f3954ba6f «Feature»', 'wheelToRoadPort ($collection) => $result', '$result']\n",
      "['039759dc-8ebf-41b8-a9f2-665672c00a56 «Feature»', 'rearAxleAssembly.shaftPort_d ($collection) => $result', '$collection']\n",
      "['039759dc-8ebf-41b8-a9f2-665672c00a56 «Feature»', 'rearAxleAssembly.shaftPort_d ($collection) => $result', 'FRE.shaftPort_d', '$result: ShaftPort_d']\n",
      "['039759dc-8ebf-41b8-a9f2-665672c00a56 «Feature»', 'rearAxleAssembly.shaftPort_d ($collection) => $result', 'FRE.rearAxleAssembly', '$result: RearAxleAssembly']\n",
      "['039759dc-8ebf-41b8-a9f2-665672c00a56 «Feature»', 'rearAxleAssembly.shaftPort_d ($collection) => $result', '$result']\n",
      "['09554d73-0601-4bd1-b939-6ba377ec9edd «Feature»', 'axleToWheelPort ($collection) => $result', 'rearAxle.rightHalfAxle ($collection) => $result', 'FRE.rightHalfAxle', '$result: HalfAxle']\n",
      "['09554d73-0601-4bd1-b939-6ba377ec9edd «Feature»', 'axleToWheelPort ($collection) => $result', '$result']\n",
      "['09554d73-0601-4bd1-b939-6ba377ec9edd «Feature»', 'axleToWheelPort ($collection) => $result', 'rearAxle.rightHalfAxle ($collection) => $result', '$result']\n",
      "['09554d73-0601-4bd1-b939-6ba377ec9edd «Feature»', 'axleToWheelPort ($collection) => $result', '$collection']\n",
      "['09554d73-0601-4bd1-b939-6ba377ec9edd «Feature»', 'axleToWheelPort ($collection) => $result', 'rearAxle.rightHalfAxle ($collection) => $result', 'FRE.rearAxle', '$result: RearAxle']\n",
      "['09554d73-0601-4bd1-b939-6ba377ec9edd «Feature»', 'axleToWheelPort ($collection) => $result', 'FRE.axleToWheelPort', '$result: AxleToWheelPort']\n",
      "['09554d73-0601-4bd1-b939-6ba377ec9edd «Feature»', 'axleToWheelPort ($collection) => $result', 'rearAxle.rightHalfAxle ($collection) => $result', '$collection']\n",
      "['0d0e4400-a15b-4147-bc31-6939ccf8ac0f «Feature»', 'wheelToRoadPort ($collection) => $result', 'rearAxleAssembly.rightWheel ($collection) => $result', '$collection']\n",
      "['0d0e4400-a15b-4147-bc31-6939ccf8ac0f «Feature»', 'wheelToRoadPort ($collection) => $result', '$result']\n",
      "['0d0e4400-a15b-4147-bc31-6939ccf8ac0f «Feature»', 'wheelToRoadPort ($collection) => $result', 'rearAxleAssembly.rightWheel ($collection) => $result', 'FRE.rightWheel', '$result: Wheel']\n",
      "['0d0e4400-a15b-4147-bc31-6939ccf8ac0f «Feature»', 'wheelToRoadPort ($collection) => $result', '$collection']\n",
      "['0d0e4400-a15b-4147-bc31-6939ccf8ac0f «Feature»', 'wheelToRoadPort ($collection) => $result', 'rearAxleAssembly.rightWheel ($collection) => $result', 'FRE.rearAxleAssembly', '$result: RearAxleAssembly']\n",
      "['0d0e4400-a15b-4147-bc31-6939ccf8ac0f «Feature»', 'wheelToRoadPort ($collection) => $result', 'rearAxleAssembly.rightWheel ($collection) => $result', '$result']\n",
      "['0d0e4400-a15b-4147-bc31-6939ccf8ac0f «Feature»', 'wheelToRoadPort ($collection) => $result', 'FRE.wheelToRoadPort', '$result: WheelToRoadPort']\n",
      "['816d666a-aed9-4fd9-8e17-17cbd18d792e «Feature»', 'differential.leftDiffPort ($collection) => $result', '$result']\n",
      "['816d666a-aed9-4fd9-8e17-17cbd18d792e «Feature»', 'differential.leftDiffPort ($collection) => $result', 'FRE.leftDiffPort', '$result: DiffPort']\n",
      "['816d666a-aed9-4fd9-8e17-17cbd18d792e «Feature»', 'differential.leftDiffPort ($collection) => $result', '$collection']\n",
      "['816d666a-aed9-4fd9-8e17-17cbd18d792e «Feature»', 'differential.leftDiffPort ($collection) => $result', 'FRE.differential', '$result: Differential']\n",
      "['1855fbf5-e43b-44bd-9b8e-a1722123ff4b «Feature»', 'axleToDiffPort ($collection) => $result', 'rearAxle.rightHalfAxle ($collection) => $result', 'FRE.rearAxle', '$result: RearAxle']\n",
      "['1855fbf5-e43b-44bd-9b8e-a1722123ff4b «Feature»', 'axleToDiffPort ($collection) => $result', 'FRE.axleToDiffPort', '$result: AxlePort']\n",
      "['1855fbf5-e43b-44bd-9b8e-a1722123ff4b «Feature»', 'axleToDiffPort ($collection) => $result', 'rearAxle.rightHalfAxle ($collection) => $result', '$collection']\n",
      "['1855fbf5-e43b-44bd-9b8e-a1722123ff4b «Feature»', 'axleToDiffPort ($collection) => $result', 'rearAxle.rightHalfAxle ($collection) => $result', '$result']\n",
      "['1855fbf5-e43b-44bd-9b8e-a1722123ff4b «Feature»', 'axleToDiffPort ($collection) => $result', 'rearAxle.rightHalfAxle ($collection) => $result', 'FRE.rightHalfAxle', '$result: HalfAxle']\n",
      "['1855fbf5-e43b-44bd-9b8e-a1722123ff4b «Feature»', 'axleToDiffPort ($collection) => $result', '$result']\n",
      "['1855fbf5-e43b-44bd-9b8e-a1722123ff4b «Feature»', 'axleToDiffPort ($collection) => $result', '$collection']\n",
      "['749822b4-86ad-476d-89c4-498c754ec731 «Feature»', 'driveshaft.shaftPort_b ($collection) => $result', '$result']\n",
      "['749822b4-86ad-476d-89c4-498c754ec731 «Feature»', 'driveshaft.shaftPort_b ($collection) => $result', '$collection']\n",
      "['749822b4-86ad-476d-89c4-498c754ec731 «Feature»', 'driveshaft.shaftPort_b ($collection) => $result', 'FRE.shaftPort_b', '$result: ShaftPort_b']\n",
      "['749822b4-86ad-476d-89c4-498c754ec731 «Feature»', 'driveshaft.shaftPort_b ($collection) => $result', 'FRE.driveshaft', '$result: Driveshaft']\n",
      "['e9100e32-0a81-4722-a1d2-2c550f4b06ff «Feature»', 'differential.shaftPort_d ($collection) => $result', '$collection']\n",
      "['e9100e32-0a81-4722-a1d2-2c550f4b06ff «Feature»', 'differential.shaftPort_d ($collection) => $result', '$result']\n",
      "['e9100e32-0a81-4722-a1d2-2c550f4b06ff «Feature»', 'differential.shaftPort_d ($collection) => $result', 'FRE.differential', '$result: Differential']\n",
      "['e9100e32-0a81-4722-a1d2-2c550f4b06ff «Feature»', 'differential.shaftPort_d ($collection) => $result', 'FRE.shaftPort_d', '$result: ShaftPort_d']\n",
      "['fe38a45c-d81f-4421-ad4c-edf488e0cf70 «Feature»', 'transmission.clutchPort ($collection) => $result', '$result']\n",
      "['fe38a45c-d81f-4421-ad4c-edf488e0cf70 «Feature»', 'transmission.clutchPort ($collection) => $result', 'FRE.transmission', '$result: Transmission']\n",
      "['fe38a45c-d81f-4421-ad4c-edf488e0cf70 «Feature»', 'transmission.clutchPort ($collection) => $result', '$collection']\n",
      "['fe38a45c-d81f-4421-ad4c-edf488e0cf70 «Feature»', 'transmission.clutchPort ($collection) => $result', 'FRE.clutchPort', '$result: ClutchPort']\n",
      "['436d7adc-3b2d-4bb2-8cab-3fc456cc6168 «Feature»', 'differential.rightDiffPort ($collection) => $result', 'FRE.differential', '$result: Differential']\n",
      "['436d7adc-3b2d-4bb2-8cab-3fc456cc6168 «Feature»', 'differential.rightDiffPort ($collection) => $result', 'FRE.rightDiffPort', '$result: DiffPort']\n",
      "['436d7adc-3b2d-4bb2-8cab-3fc456cc6168 «Feature»', 'differential.rightDiffPort ($collection) => $result', '$collection']\n",
      "['436d7adc-3b2d-4bb2-8cab-3fc456cc6168 «Feature»', 'differential.rightDiffPort ($collection) => $result', '$result']\n",
      "['[ ($seq, $index) => $result', '$index']\n",
      "['[ ($seq, $index) => $result', '$result']\n",
      "['[ ($seq, $index) => $result', '$seq']\n",
      "['[ ($seq, $index) => $result', '2 «Occurred LiteralInteger»', '$result']\n",
      "['[ ($seq, $index) => $result', 'FRE.rearWheel', '$result: Wheel']\n",
      "['b223aac1-3052-41be-99dd-2f343da20261 «Feature»', 'vehicleToRoadPort.rightWheelToRoadPort ($collection) => $result', 'FRE.rightWheelToRoadPort', '$result: WheelToRoadPort']\n",
      "['b223aac1-3052-41be-99dd-2f343da20261 «Feature»', 'vehicleToRoadPort.rightWheelToRoadPort ($collection) => $result', 'FRE.vehicleToRoadPort', '$result: VehicleToRoadPort']\n",
      "['b223aac1-3052-41be-99dd-2f343da20261 «Feature»', 'vehicleToRoadPort.rightWheelToRoadPort ($collection) => $result', '$result']\n",
      "['b223aac1-3052-41be-99dd-2f343da20261 «Feature»', 'vehicleToRoadPort.rightWheelToRoadPort ($collection) => $result', '$collection']\n",
      "['19df845b-716f-46e1-80dd-0300b44de364 «Feature»', 'engine.drivePwrPort ($collection) => $result', '$collection']\n",
      "['19df845b-716f-46e1-80dd-0300b44de364 «Feature»', 'engine.drivePwrPort ($collection) => $result', 'FRE.engine', '$result: Engine']\n",
      "['19df845b-716f-46e1-80dd-0300b44de364 «Feature»', 'engine.drivePwrPort ($collection) => $result', 'FRE.drivePwrPort', '$result: DrivePwrPort']\n",
      "['19df845b-716f-46e1-80dd-0300b44de364 «Feature»', 'engine.drivePwrPort ($collection) => $result', '$result']\n",
      "['[ ($seq, $index) => $result', '$result']\n",
      "['[ ($seq, $index) => $result', '$index']\n",
      "['[ ($seq, $index) => $result', '$seq']\n",
      "['[ ($seq, $index) => $result', 'FRE.wheelToRoadPort', '$result: WheelToRoadPort']\n",
      "['[ ($seq, $index) => $result', '2 «Occurred LiteralInteger»', '$result']\n",
      "['aa9ec2e4-f56e-44f7-9589-1172efe4af31 «Feature»', 'transmission.shaftPort_a ($collection) => $result', '$result']\n",
      "['aa9ec2e4-f56e-44f7-9589-1172efe4af31 «Feature»', 'transmission.shaftPort_a ($collection) => $result', '$collection']\n",
      "['aa9ec2e4-f56e-44f7-9589-1172efe4af31 «Feature»', 'transmission.shaftPort_a ($collection) => $result', 'FRE.shaftPort_a', '$result: ShaftPort_a']\n",
      "['aa9ec2e4-f56e-44f7-9589-1172efe4af31 «Feature»', 'transmission.shaftPort_a ($collection) => $result', 'FRE.transmission', '$result: Transmission']\n",
      "['9e49d36e-eb8d-416a-8838-46ac276621d0 «Feature»', 'axleToDiffPort ($collection) => $result', 'rearAxle.leftHalfAxle ($collection) => $result', 'FRE.leftHalfAxle', '$result: HalfAxle']\n",
      "['9e49d36e-eb8d-416a-8838-46ac276621d0 «Feature»', 'axleToDiffPort ($collection) => $result', '$result']\n",
      "['9e49d36e-eb8d-416a-8838-46ac276621d0 «Feature»', 'axleToDiffPort ($collection) => $result', 'rearAxle.leftHalfAxle ($collection) => $result', 'FRE.rearAxle', '$result: RearAxle']\n",
      "['9e49d36e-eb8d-416a-8838-46ac276621d0 «Feature»', 'axleToDiffPort ($collection) => $result', 'FRE.axleToDiffPort', '$result: AxlePort']\n",
      "['9e49d36e-eb8d-416a-8838-46ac276621d0 «Feature»', 'axleToDiffPort ($collection) => $result', '$collection']\n",
      "['9e49d36e-eb8d-416a-8838-46ac276621d0 «Feature»', 'axleToDiffPort ($collection) => $result', 'rearAxle.leftHalfAxle ($collection) => $result', '$result']\n",
      "['9e49d36e-eb8d-416a-8838-46ac276621d0 «Feature»', 'axleToDiffPort ($collection) => $result', 'rearAxle.leftHalfAxle ($collection) => $result', '$collection']\n",
      "['[ ($seq, $index) => $result', '$result']\n",
      "['[ ($seq, $index) => $result', 'FRE.wheelToRoadPort', '$result: WheelToRoadPort']\n",
      "['[ ($seq, $index) => $result', '$seq']\n",
      "['[ ($seq, $index) => $result', '1 «Occurred LiteralInteger»', '$result']\n",
      "['[ ($seq, $index) => $result', '$index']\n",
      "['5baef55c-3b44-47c3-b32e-36e0b97adef5 «Feature»', 'axleToWheelPort ($collection) => $result', 'rearAxle.leftHalfAxle ($collection) => $result', '$result']\n",
      "['5baef55c-3b44-47c3-b32e-36e0b97adef5 «Feature»', 'axleToWheelPort ($collection) => $result', 'rearAxle.leftHalfAxle ($collection) => $result', 'FRE.rearAxle', '$result: RearAxle']\n",
      "['5baef55c-3b44-47c3-b32e-36e0b97adef5 «Feature»', 'axleToWheelPort ($collection) => $result', 'FRE.axleToWheelPort', '$result: AxleToWheelPort']\n",
      "['5baef55c-3b44-47c3-b32e-36e0b97adef5 «Feature»', 'axleToWheelPort ($collection) => $result', '$collection']\n",
      "['5baef55c-3b44-47c3-b32e-36e0b97adef5 «Feature»', 'axleToWheelPort ($collection) => $result', '$result']\n",
      "['5baef55c-3b44-47c3-b32e-36e0b97adef5 «Feature»', 'axleToWheelPort ($collection) => $result', 'rearAxle.leftHalfAxle ($collection) => $result', 'FRE.leftHalfAxle', '$result: HalfAxle']\n",
      "['5baef55c-3b44-47c3-b32e-36e0b97adef5 «Feature»', 'axleToWheelPort ($collection) => $result', 'rearAxle.leftHalfAxle ($collection) => $result', '$collection']\n",
      "['[ ($seq, $index) => $result', '$result']\n",
      "['[ ($seq, $index) => $result', '1 «Occurred LiteralInteger»', '$result']\n",
      "['[ ($seq, $index) => $result', '$seq']\n",
      "['[ ($seq, $index) => $result', '$index']\n",
      "['[ ($seq, $index) => $result', 'FRE.rearWheel', '$result: Wheel']\n",
      "['2 «Occurred LiteralInteger»', '$result']\n",
      "['0f81f133-0b1e-436b-b35d-0e6a2ff8bf79 «Feature»', 'vehicleToRoadPort.leftWheelToRoadPort ($collection) => $result', '$result']\n",
      "['0f81f133-0b1e-436b-b35d-0e6a2ff8bf79 «Feature»', 'vehicleToRoadPort.leftWheelToRoadPort ($collection) => $result', 'FRE.leftWheelToRoadPort', '$result: WheelToRoadPort']\n",
      "['0f81f133-0b1e-436b-b35d-0e6a2ff8bf79 «Feature»', 'vehicleToRoadPort.leftWheelToRoadPort ($collection) => $result', '$collection']\n",
      "['0f81f133-0b1e-436b-b35d-0e6a2ff8bf79 «Feature»', 'vehicleToRoadPort.leftWheelToRoadPort ($collection) => $result', 'FRE.vehicleToRoadPort', '$result: VehicleToRoadPort']\n",
      "['vehicle1_c1.driveshaft ($collection) => $result', 'FRE.driveshaft', '$result: Driveshaft']\n",
      "['vehicle1_c1.driveshaft ($collection) => $result', '$collection']\n",
      "['vehicle1_c1.driveshaft ($collection) => $result', 'FRE.vehicle1_c1', '$result: VehicleA']\n",
      "['vehicle1_c1.driveshaft ($collection) => $result', '$result']\n",
      "['2 «Occurred LiteralInteger»', '$result']\n"
     ]
    }
   ],
   "source": [
    "expr_seqs = build_expression_sequence_templates(lpg)\n",
    "for seq in expr_seqs:\n",
    "    sig_seq = []\n",
    "    for item in seq:\n",
    "        sig_seq.append(get_label_for_id(item, helper_client.elements_by_id))\n",
    "    print(sig_seq)"
   ]
  },
  {
   "cell_type": "code",
   "execution_count": 12,
   "id": "cc64cbc6-c15b-4f79-84dc-1af698b5963f",
   "metadata": {},
   "outputs": [
    {
     "name": "stderr",
     "output_type": "stream",
     "text": [
      "c:\\users\\bjorn\\documents\\git\\pymbe\\src\\pymbe\\graph\\lpg.py:284: UserWarning: These edge types are not in the graph: {'ResultExpressionMembership'}.\n",
      "  warn(f\"These edge types are not in the graph: {mismatched_edge_types}.\")\n"
     ]
    },
    {
     "name": "stdout",
     "output_type": "stream",
     "text": [
      "DrivePwrPort, id = 46cef5c8-5d4c-459c-a3dd-c1144fdec0cf\n",
      "VehicleToRoadPort, id = 6baf5adc-0c92-4688-81f9-275860c59c1b\n",
      "Wheel, id = afc897ef-d6ba-4a15-a6be-b947f3e1016f\n",
      "FuelCmdPort, id = 2b56fb10-ae39-4ad2-8553-4befc69fed38\n",
      "HalfAxle, id = d4d665ab-73aa-482a-ad4f-3cb809baabcb\n",
      "AxleToWheelPort, id = 02e4c404-5ee5-4a8c-8d11-4ac106ad4ff4\n",
      "Engine, id = e22a9b97-a4a9-43e0-8bc9-f2dd108d6ff4\n",
      "Differential, id = 2bfde858-7dec-451c-b11c-d2c67ac2433b\n",
      "ShaftPort_b, id = 422de9ce-1d5a-45cf-b5a8-e72a7805d649\n",
      "VehicleA, id = 1b474d84-19b7-41af-a3ce-346e36b3337b\n",
      "WheelToRoadPort, id = b246e8d2-4209-4eb6-adf5-1289a9254ce9\n",
      "ShaftPort_a, id = 5746b17d-4b0e-4226-a09b-6aa387bd52a6\n",
      "ShaftPort_d, id = fa8514f6-3b63-459e-ae28-f5db8385364f\n",
      "RearAxleAssembly, id = 9fb93a39-2fc6-4dcb-8188-1e8ba49cbf0d\n",
      "ClutchPort, id = 2ed547be-eaf1-4ed4-ab0a-6da15e3b98df\n",
      "WheelToAxlePort, id = 99487ee9-106c-4236-b320-0565d641eefb\n",
      "AxlePort, id = 165f4cd9-9849-45bf-b31b-d0b675df6774\n",
      "RearAxle, id = 15bc358c-a417-43ae-af4e-f9d5e0b1a143\n",
      "Driveshaft, id = 01f52406-041c-4920-b215-8010118c536f\n",
      "EngineToTransmissionInterface, id = 2eae4628-8418-4b26-bd4e-272e511878a8\n",
      "DriveshaftInterface, id = 28c1fbd6-effb-4804-8870-6c3d3be6be20\n",
      "Transmission, id = 780f94d4-24f6-4f6a-8242-598170c4433b\n",
      "DiffPort, id = ac29e1fa-5d57-4402-9fad-1df0abc2b7eb\n",
      "ShaftPort_c, id = b1ed605a-7ebc-4d1e-bad4-ff2ec106d004\n",
      "AxleAssembly, id = 7d94197b-1a27-4d16-b621-54acda936d23\n",
      "Axle, id = 502de18c-b675-4bda-9d33-ee24d451f402\n"
     ]
    },
    {
     "ename": "NotImplementedError",
     "evalue": "('Cannot handle untyped features! Tried on 71bc413b-a68d-484a-94bc-0203da46eb71 «InterfaceUsage»', ' id = 71bc413b-a68d-484a-94bc-0203da46eb71')",
     "output_type": "error",
     "traceback": [
      "\u001b[1;31m---------------------------------------------------------------------------\u001b[0m",
      "\u001b[1;31mNotImplementedError\u001b[0m                       Traceback (most recent call last)",
      "\u001b[1;32m<ipython-input-12-ef0e99e110ac>\u001b[0m in \u001b[0;36m<module>\u001b[1;34m\u001b[0m\n\u001b[1;32m----> 1\u001b[1;33m m0_interpretation = random_generator_playbook(\n\u001b[0m\u001b[0;32m      2\u001b[0m     \u001b[0mhelper_client\u001b[0m\u001b[1;33m,\u001b[0m\u001b[1;33m\u001b[0m\u001b[1;33m\u001b[0m\u001b[0m\n\u001b[0;32m      3\u001b[0m     \u001b[0mlpg\u001b[0m\u001b[1;33m,\u001b[0m\u001b[1;33m\u001b[0m\u001b[1;33m\u001b[0m\u001b[0m\n\u001b[0;32m      4\u001b[0m     \u001b[0mshorten_pre_bake\u001b[0m\u001b[1;33m\u001b[0m\u001b[1;33m\u001b[0m\u001b[0m\n\u001b[0;32m      5\u001b[0m )\n",
      "\u001b[1;32mc:\\users\\bjorn\\documents\\git\\pymbe\\src\\pymbe\\interpretation\\interp_playbooks.py\u001b[0m in \u001b[0;36mrandom_generator_playbook\u001b[1;34m(client, lpg, name_hints)\u001b[0m\n\u001b[0;32m     80\u001b[0m         \u001b[0mprint\u001b[0m\u001b[1;33m(\u001b[0m\u001b[0mget_label_for_id\u001b[0m\u001b[1;33m(\u001b[0m\u001b[0minst_key\u001b[0m\u001b[1;33m,\u001b[0m \u001b[0mall_elements\u001b[0m\u001b[1;33m)\u001b[0m \u001b[1;33m+\u001b[0m \u001b[1;34m', id = '\u001b[0m \u001b[1;33m+\u001b[0m \u001b[0minst_key\u001b[0m\u001b[1;33m)\u001b[0m\u001b[1;33m\u001b[0m\u001b[1;33m\u001b[0m\u001b[0m\n\u001b[0;32m     81\u001b[0m \u001b[1;33m\u001b[0m\u001b[0m\n\u001b[1;32m---> 82\u001b[1;33m     \u001b[0mrandom_generator_playbook_phase_3\u001b[0m\u001b[1;33m(\u001b[0m\u001b[0mfeature_sequences\u001b[0m\u001b[1;33m,\u001b[0m \u001b[0mall_elements\u001b[0m\u001b[1;33m,\u001b[0m \u001b[0mlpg\u001b[0m\u001b[1;33m,\u001b[0m \u001b[0mptg\u001b[0m\u001b[1;33m,\u001b[0m \u001b[0minstances_dict\u001b[0m\u001b[1;33m)\u001b[0m\u001b[1;33m\u001b[0m\u001b[1;33m\u001b[0m\u001b[0m\n\u001b[0m\u001b[0;32m     83\u001b[0m \u001b[1;33m\u001b[0m\u001b[0m\n\u001b[0;32m     84\u001b[0m     \u001b[1;31m# PHASE 4: Expand sequences to support computations\u001b[0m\u001b[1;33m\u001b[0m\u001b[1;33m\u001b[0m\u001b[1;33m\u001b[0m\u001b[0m\n",
      "\u001b[1;32mc:\\users\\bjorn\\documents\\git\\pymbe\\src\\pymbe\\interpretation\\interp_playbooks.py\u001b[0m in \u001b[0;36mrandom_generator_playbook_phase_3\u001b[1;34m(feature_sequences, all_elements, lpg, ptg, instances_dict)\u001b[0m\n\u001b[0;32m    271\u001b[0m \u001b[1;33m\u001b[0m\u001b[0m\n\u001b[0;32m    272\u001b[0m                 \u001b[1;32mif\u001b[0m \u001b[0mlen\u001b[0m\u001b[1;33m(\u001b[0m\u001b[0mtypes\u001b[0m\u001b[1;33m)\u001b[0m \u001b[1;33m==\u001b[0m \u001b[1;36m0\u001b[0m\u001b[1;33m:\u001b[0m\u001b[1;33m\u001b[0m\u001b[1;33m\u001b[0m\u001b[0m\n\u001b[1;32m--> 273\u001b[1;33m                     raise NotImplementedError(\"Cannot handle untyped features! Tried on \" +\n\u001b[0m\u001b[0;32m    274\u001b[0m                                             get_label_for_id(feature_id, all_elements), \" id = \" + feature_id)\n\u001b[0;32m    275\u001b[0m                 \u001b[1;32melif\u001b[0m \u001b[0mlen\u001b[0m\u001b[1;33m(\u001b[0m\u001b[0mtypes\u001b[0m\u001b[1;33m)\u001b[0m \u001b[1;33m>\u001b[0m \u001b[1;36m1\u001b[0m\u001b[1;33m:\u001b[0m\u001b[1;33m\u001b[0m\u001b[1;33m\u001b[0m\u001b[0m\n",
      "\u001b[1;31mNotImplementedError\u001b[0m: ('Cannot handle untyped features! Tried on 71bc413b-a68d-484a-94bc-0203da46eb71 «InterfaceUsage»', ' id = 71bc413b-a68d-484a-94bc-0203da46eb71')"
     ]
    }
   ],
   "source": [
    "m0_interpretation = random_generator_playbook(\n",
    "    helper_client,\n",
    "    lpg,\n",
    "    shorten_pre_bake\n",
    ")"
   ]
  },
  {
   "cell_type": "markdown",
   "id": "37b882b2-f601-4c61-a8a9-4029b2e7381d",
   "metadata": {},
   "source": [
    "To see how sequences are structured, the cell below renders sequences that show what type of atoms will fill particular positions in the sequence, as well as the maximum multiplicity (number of) sequences."
   ]
  },
  {
   "cell_type": "code",
   "execution_count": null,
   "id": "43685e41-dc8a-4f91-b58e-4711e92cc052",
   "metadata": {},
   "outputs": [],
   "source": [
    "from pymbe.query.query import roll_up_upper_multiplicity, roll_up_multiplicity_for_type\n",
    "\n",
    "feat_sequences = build_sequence_templates(lpg=lpg)\n",
    "\n",
    "total = 0\n",
    "for seq in feat_sequences:\n",
    "    print(str(pprint_single_id_list(seq, lpg.nodes)) + \", \" + str(roll_up_upper_multiplicity(lpg, lpg.nodes[seq[-1]])))"
   ]
  },
  {
   "cell_type": "markdown",
   "id": "34b37e3a-82bc-4e03-9b0d-514cbdf0f0d9",
   "metadata": {},
   "source": [
    "Once the interpretations are generated, we can look for expressions and create an execution order (this is similar to Excel builds a dependency graph internally to accelerate computations and partial updates when a user changes a cell value)."
   ]
  },
  {
   "cell_type": "code",
   "execution_count": null,
   "id": "a5f5915f-2368-4c65-834c-2505fff92fb4",
   "metadata": {},
   "outputs": [],
   "source": [
    "dcg = generate_execution_order(lpg, m0_interpretation)"
   ]
  },
  {
   "cell_type": "markdown",
   "id": "b4a229a5-480a-41ee-9ecf-d3fe6f1c1783",
   "metadata": {},
   "source": [
    "One of the core tools in examining and working with the M1 model is using the get_projection function on the master graph to select out the kind of nodes and edges that will support other queries (roll-up using breadth-first search in reverse order, paths from one node to another to lay out sequences, etc.)"
   ]
  },
  {
   "cell_type": "code",
   "execution_count": null,
   "id": "15f179ab-d182-46d0-9013-d4414376f7c1",
   "metadata": {},
   "outputs": [],
   "source": [
    "from pymbe.graph.calc_lpg import CalculationGroup\n",
    "cg = CalculationGroup(lpg.get_projection(\"Expression Inferred Graph\"), m0_interpretation, dcg)"
   ]
  },
  {
   "cell_type": "markdown",
   "id": "abc869d6-4494-4de2-b8de-5974afda0a03",
   "metadata": {},
   "source": [
    "Display the calculation order determined by the algorithm, as well as a hint about what the step is (generating output from a function, moving values from function parameters to an attribute, applying redefinition, etc.)"
   ]
  },
  {
   "cell_type": "code",
   "execution_count": null,
   "id": "27d2fc68-8c05-45b7-8fc9-ddc12d625564",
   "metadata": {},
   "outputs": [],
   "source": [
    "for item in dcg:\n",
    "    instance_safe = True\n",
    "    if item[0] not in m0_interpretation or len(m0_interpretation[item[0]]) == 0:\n",
    "        print(\"No instances for \" + lpg.nodes[item[0]]['qualifiedName'])\n",
    "        instance_safe = False\n",
    "    if item[1] not in m0_interpretation or len(m0_interpretation[item[1]]) == 0:\n",
    "        print(\"No instances for \" + lpg.nodes[item[1]]['qualifiedName'])\n",
    "        instance_safe = False\n",
    "    if instance_safe:\n",
    "        rep_source = m0_interpretation[item[0]][0][-1]\n",
    "        rep_target = m0_interpretation[item[1]][0][-1]\n",
    "        if len(item) == 3:\n",
    "            safe_item = item[2]\n",
    "        else:\n",
    "            safe_item = 'None'\n",
    "        print('(' + str(rep_source) + ', ' + str(rep_target) + ', ' + safe_item + ')')"
   ]
  },
  {
   "cell_type": "markdown",
   "id": "8f333a0c-f06e-457a-9678-cdc0bda628c9",
   "metadata": {},
   "source": [
    "Use the calculation order in order to resolve the \"unset\" fields on many attributes to values where they are determined in the M1 model (e.g., using the ' = ' operator to assign values directly or connect to equations or analyses)."
   ]
  },
  {
   "cell_type": "code",
   "execution_count": null,
   "id": "55819138-3597-4070-8b0d-c73f6e12f31d",
   "metadata": {},
   "outputs": [],
   "source": [
    "cg.solve_graph(lpg)"
   ]
  },
  {
   "cell_type": "markdown",
   "id": "461a6537-2b8a-49f4-897b-c57a9888800f",
   "metadata": {},
   "source": [
    "## Calculation Results Shown\n",
    "\n",
    "The following cells are a series of displays of relevant features in the interpretation."
   ]
  },
  {
   "cell_type": "code",
   "execution_count": null,
   "id": "d9bd24d3-2bae-4394-aa06-4e379b8c48e9",
   "metadata": {},
   "outputs": [],
   "source": [
    "m0_interpretation[collect_1_result]"
   ]
  },
  {
   "cell_type": "code",
   "execution_count": null,
   "id": "27576101-8841-4403-9a3e-c6265ae50e09",
   "metadata": {},
   "outputs": [],
   "source": [
    "m0_interpretation[collect_2_result]"
   ]
  },
  {
   "cell_type": "code",
   "execution_count": null,
   "id": "e23175bb-c9b9-4938-a919-8ed477ef2075",
   "metadata": {},
   "outputs": [],
   "source": [
    "m0_interpretation[sum_2_collection]"
   ]
  },
  {
   "cell_type": "code",
   "execution_count": null,
   "id": "5c1b19a4-533f-481c-bf09-77be140822a9",
   "metadata": {},
   "outputs": [],
   "source": [
    "m0_interpretation[sum_1_result]"
   ]
  },
  {
   "cell_type": "code",
   "execution_count": null,
   "id": "40d25c6c-74b7-4219-9a08-8c40c189b607",
   "metadata": {},
   "outputs": [],
   "source": [
    "m0_interpretation[x]"
   ]
  },
  {
   "cell_type": "code",
   "execution_count": null,
   "id": "c7b0554d-16d7-414c-8566-2900bec8ea52",
   "metadata": {},
   "outputs": [],
   "source": [
    "m0_interpretation[liquid_stage_full_mass]"
   ]
  },
  {
   "cell_type": "code",
   "execution_count": null,
   "id": "31214eb4-294f-4e6a-87c5-29d9c08b1d87",
   "metadata": {},
   "outputs": [],
   "source": [
    "m0_interpretation[fre_1_result]"
   ]
  },
  {
   "cell_type": "code",
   "execution_count": null,
   "id": "56bb7103-f200-4630-8a04-1bfb972ecdd0",
   "metadata": {},
   "outputs": [],
   "source": [
    "m0_interpretation[fre_2_result]"
   ]
  },
  {
   "cell_type": "markdown",
   "id": "ed5b0fbd-9d75-45af-971c-b334798340fb",
   "metadata": {},
   "source": [
    "Show all interpretation sequence sets (limited to length of 5)."
   ]
  },
  {
   "cell_type": "code",
   "execution_count": null,
   "id": "54a33294-b833-45f9-a5f9-f70b9231aa96",
   "metadata": {},
   "outputs": [],
   "source": [
    "for print_line in pprint_interpretation(m0_interpretation, lpg.nodes):\n",
    "    print(print_line)"
   ]
  },
  {
   "cell_type": "code",
   "execution_count": null,
   "id": "2cbd43d5-ff88-4df8-b561-dab8119c5fc0",
   "metadata": {},
   "outputs": [],
   "source": []
  }
 ],
 "metadata": {
  "kernelspec": {
   "display_name": "Python 3",
   "language": "python",
   "name": "python3"
  },
  "language_info": {
   "codemirror_mode": {
    "name": "ipython",
    "version": 3
   },
   "file_extension": ".py",
   "mimetype": "text/x-python",
   "name": "python",
   "nbconvert_exporter": "python",
   "pygments_lexer": "ipython3",
   "version": "3.9.4"
  }
 },
 "nbformat": 4,
 "nbformat_minor": 5
}
