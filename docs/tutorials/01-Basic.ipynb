{
 "cells": [
  {
   "cell_type": "markdown",
   "id": "33004314",
   "metadata": {},
   "source": [
    "# Tutorial & Widget Experiments\n",
    "This notebook is intended to be a simple `getting started` tutorial for `pyMBE`."
   ]
  },
  {
   "cell_type": "markdown",
   "id": "c502084a",
   "metadata": {},
   "source": [
    "## 1. Import `pymbe` and create a new user interface"
   ]
  },
  {
   "cell_type": "code",
   "execution_count": null,
   "id": "bfc0f450",
   "metadata": {},
   "outputs": [],
   "source": [
    "from pathlib import Path\n",
    "\n",
    "import pymbe.api as pm"
   ]
  },
  {
   "cell_type": "code",
   "execution_count": null,
   "id": "f0621cff",
   "metadata": {
    "tags": []
   },
   "outputs": [],
   "source": [
    "pm.UI.new(host_url=\"http://sysml2-dev.intercax.com\")"
   ]
  },
  {
   "cell_type": "markdown",
   "id": "cd9c18cb",
   "metadata": {},
   "source": [
    "## 2. Use the widget\n",
    "![Example use of the UI](https://user-images.githubusercontent.com/1438114/115174713-c032e980-a097-11eb-99ed-27d56a9d0d91.gif)"
   ]
  },
  {
   "cell_type": "markdown",
   "id": "f12fc230",
   "metadata": {},
   "source": [
    "...or automatically load the `Kerbal` model using the cell below by:"
   ]
  },
  {
   "cell_type": "markdown",
   "id": "b54ecbc5",
   "metadata": {},
   "source": [
    "1. Grabbing the individual widgets"
   ]
  },
  {
   "cell_type": "code",
   "execution_count": null,
   "id": "e4e45976",
   "metadata": {
    "tags": []
   },
   "outputs": [],
   "source": [
    "ui, *_ = _.children\n",
    "client, tree, inspector, m1_diagram, m0_diagram = ui.children\n",
    "ui.log_out"
   ]
  },
  {
   "cell_type": "code",
   "execution_count": null,
   "id": "2212b2f9-54bc-4a84-b14f-0d9dd7af806d",
   "metadata": {},
   "outputs": [],
   "source": [
    "from wxyz.lab import DockPop\n",
    "\n",
    "DockPop([ui.log_out], mode=\"split-right\")"
   ]
  },
  {
   "cell_type": "markdown",
   "id": "2aefbe44",
   "metadata": {},
   "source": [
    "2. load the `Kerbal` model"
   ]
  },
  {
   "cell_type": "code",
   "execution_count": null,
   "id": "d976b48f",
   "metadata": {
    "tags": []
   },
   "outputs": [],
   "source": [
    "USE_FILE = False\n",
    "PROJECT_NAME = \"Simple Parts Model\"\n",
    "FIXTURES =  Path(pm.__file__).parent / \"../../tests/fixtures\"\n",
    "\n",
    "if USE_FILE:\n",
    "    client._load_from_file(FIXTURES / f\"{PROJECT_NAMES}.json\")\n",
    "else:\n",
    "    kerbal_project = [name for name in client.project_selector.options if name.startswith(PROJECT_NAME)]\n",
    "    if kerbal_project:\n",
    "        client.project_selector.value = client.project_selector.options[kerbal_project[-1]]\n",
    "        client._download_elements()"
   ]
  },
  {
   "cell_type": "code",
   "execution_count": null,
   "id": "316095be-5136-41bb-a659-288a4b024898",
   "metadata": {},
   "outputs": [],
   "source": [
    "SAVE_FILE = True\n",
    "\n",
    "if SAVE_FILE:\n",
    "    print(f\" > Saving {PROJECT_NAME}\")\n",
    "    client.model.save_to_file(FIXTURES / f\"{PROJECT_NAME}.json\")\n",
    "    print(f\" > Successfully Downloaded '{PROJECT_NAME}'\")"
   ]
  },
  {
   "cell_type": "markdown",
   "id": "163cc74b",
   "metadata": {},
   "source": [
    "...and, make an M0 interpretation"
   ]
  },
  {
   "cell_type": "code",
   "execution_count": null,
   "id": "6406e94d-dbbe-474b-80e5-d27c6c6ea9c2",
   "metadata": {},
   "outputs": [],
   "source": [
    "m0_diagram._generate_random_interpretation()"
   ]
  },
  {
   "cell_type": "markdown",
   "id": "d8f89460-38af-468a-b76b-677095be4afc",
   "metadata": {},
   "source": [
    "...or refresh the M1 diagram"
   ]
  },
  {
   "cell_type": "code",
   "execution_count": null,
   "id": "0b7c8ea0-6fcc-41ca-a713-a5db3018c4e7",
   "metadata": {},
   "outputs": [],
   "source": [
    "toolbar = m1_diagram.elk_diagram.toolbar.refresh_diagram.click()"
   ]
  },
  {
   "cell_type": "markdown",
   "id": "6c507d76-42d3-4fd4-9794-df221c887351",
   "metadata": {},
   "source": [
    "-----------"
   ]
  },
  {
   "cell_type": "code",
   "execution_count": null,
   "id": "d4f1e1af-64c6-4abd-812c-7b8ff334a581",
   "metadata": {},
   "outputs": [],
   "source": [
    "model = client.model"
   ]
  },
  {
   "cell_type": "code",
   "execution_count": null,
   "id": "dffa9bb2-59b2-4554-ba8a-03fb9819a3fb",
   "metadata": {},
   "outputs": [],
   "source": [
    "for element in model.elements.values():\n",
    "    print(element, element.owning_package)"
   ]
  },
  {
   "cell_type": "code",
   "execution_count": null,
   "id": "44be225b-56b7-4da5-b37b-af23c36c5125",
   "metadata": {},
   "outputs": [],
   "source": [
    "model.packages[0].ownedElement[0].relationships"
   ]
  }
 ],
 "metadata": {
  "kernelspec": {
   "display_name": "Python 3 (ipykernel)",
   "language": "python",
   "name": "python3"
  },
  "language_info": {
   "codemirror_mode": {
    "name": "ipython",
    "version": 3
   },
   "file_extension": ".py",
   "mimetype": "text/x-python",
   "name": "python",
   "nbconvert_exporter": "python",
   "pygments_lexer": "ipython3",
   "version": "3.9.6"
  }
 },
 "nbformat": 4,
 "nbformat_minor": 5
}
