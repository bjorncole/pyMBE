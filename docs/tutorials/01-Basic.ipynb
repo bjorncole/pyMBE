{
 "cells": [
  {
   "cell_type": "markdown",
   "id": "33004314",
   "metadata": {},
   "source": [
    "# Tutorial & Widget Experiments\n",
    "This notebook is intended to be a simple `getting started` tutorial for `pyMBE`."
   ]
  },
  {
   "cell_type": "markdown",
   "id": "c502084a",
   "metadata": {},
   "source": [
    "## 1. Import `pymbe` and create a new user interface"
   ]
  },
  {
   "cell_type": "code",
   "execution_count": null,
   "id": "bfc0f450",
   "metadata": {},
   "outputs": [],
   "source": [
    "from pathlib import Path\n",
    "\n",
    "import pymbe.api as pm"
   ]
  },
  {
   "cell_type": "code",
   "execution_count": null,
   "id": "f0621cff",
   "metadata": {
    "tags": []
   },
   "outputs": [],
   "source": [
    "pm.UI.new(host_url=\"http://sysml2-dev.intercax.com\")"
   ]
  },
  {
   "cell_type": "markdown",
   "id": "cd9c18cb",
   "metadata": {},
   "source": [
    "## 2. Use the widget\n",
    "![Example use of the UI](https://user-images.githubusercontent.com/1438114/115174713-c032e980-a097-11eb-99ed-27d56a9d0d91.gif)"
   ]
  },
  {
   "cell_type": "markdown",
   "id": "f12fc230",
   "metadata": {},
   "source": [
    "...or automatically load the `Kerbal` model using the cell below by:"
   ]
  },
  {
   "cell_type": "markdown",
   "id": "b54ecbc5",
   "metadata": {},
   "source": [
    "1. Grabbing the individual widgets"
   ]
  },
  {
   "cell_type": "code",
   "execution_count": null,
   "id": "e4e45976",
   "metadata": {
    "tags": []
   },
   "outputs": [],
   "source": [
    "ui, *_ = _.children\n",
    "client, tree, inspector, m1_diagram, m0_diagram = ui.children\n",
    "ui.log_out"
   ]
  },
  {
   "cell_type": "markdown",
   "id": "2aefbe44",
   "metadata": {},
   "source": [
    "2. load the `Kerbal` model"
   ]
  },
  {
   "cell_type": "code",
   "execution_count": null,
   "id": "d976b48f",
   "metadata": {
    "tags": []
   },
   "outputs": [],
   "source": [
    "USE_FILE = True\n",
    "PROJECT_NAME = \"Simple Parts Model\"\n",
    "FIXTURES =  Path(pm.__file__).parent / \"../../tests/fixtures\"\n",
    "\n",
    "if USE_FILE:\n",
    "    client._load_from_file(FIXTURES / f\"{PROJECT_NAME}.json\")\n",
    "else:\n",
    "    kerbal_project = [name for name in client.project_selector.options if name.startswith(PROJECT_NAME)]\n",
    "    if kerbal_project:\n",
    "        client.project_selector.value = client.project_selector.options[kerbal_project[-1]]\n",
    "        client._download_elements()"
   ]
  },
  {
   "cell_type": "code",
   "execution_count": null,
   "id": "316095be-5136-41bb-a659-288a4b024898",
   "metadata": {},
   "outputs": [],
   "source": [
    "SAVE_FILE = False\n",
    "\n",
    "if SAVE_FILE:\n",
    "    print(f\" > Saving {PROJECT_NAME}\")\n",
    "    client.model.save_to_file(FIXTURES / f\"{PROJECT_NAME}.json\")\n",
    "    print(f\" > Successfully Downloaded '{PROJECT_NAME}'\")"
   ]
  },
  {
   "cell_type": "markdown",
   "id": "163cc74b",
   "metadata": {},
   "source": [
    "...and, make an M0 interpretation"
   ]
  },
  {
   "cell_type": "markdown",
   "id": "76f4202b-09f1-46e4-aab6-299b49705960",
   "metadata": {},
   "source": [
    "You can get a subgraph for only some packages by using the `get_projection` method..."
   ]
  },
  {
   "cell_type": "code",
   "execution_count": null,
   "id": "e264cf1d-60db-4487-9933-6231caa77983",
   "metadata": {},
   "outputs": [],
   "source": [
    "banded_graph = m1_diagram.lpg.get_projection(\"Banded\", packages=client.model.packages[0:2])\n",
    "len(banded_graph.nodes)"
   ]
  },
  {
   "cell_type": "markdown",
   "id": "d8f89460-38af-468a-b76b-677095be4afc",
   "metadata": {},
   "source": [
    "...or refresh the M1 diagram"
   ]
  },
  {
   "cell_type": "code",
   "execution_count": null,
   "id": "0b7c8ea0-6fcc-41ca-a713-a5db3018c4e7",
   "metadata": {},
   "outputs": [],
   "source": [
    "toolbar = m1_diagram.elk_diagram.toolbar.refresh_diagram.click()"
   ]
  }
 ],
 "metadata": {
  "kernelspec": {
   "display_name": "Python 3 (ipykernel)",
   "language": "python",
   "name": "python3"
  },
  "language_info": {
   "codemirror_mode": {
    "name": "ipython",
    "version": 3
   },
   "file_extension": ".py",
   "mimetype": "text/x-python",
   "name": "python",
   "nbconvert_exporter": "python",
   "pygments_lexer": "ipython3",
   "version": "3.9.6"
  }
 },
 "nbformat": 4,
 "nbformat_minor": 5
}
