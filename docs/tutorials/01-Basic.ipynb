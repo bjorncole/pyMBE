{
 "cells": [
  {
   "cell_type": "markdown",
   "id": "0",
   "metadata": {},
   "source": [
    "# Tutorial & Widget Experiments\n",
    "This notebook is intended to be a simple `getting started` tutorial for `pyMBE`."
   ]
  },
  {
   "cell_type": "markdown",
   "id": "1",
   "metadata": {},
   "source": [
    "## 1. Import `pymbe` and create a new user interface"
   ]
  },
  {
   "cell_type": "code",
   "execution_count": null,
   "id": "2",
   "metadata": {},
   "outputs": [],
   "source": [
    "from pathlib import Path\n",
    "\n",
    "import pymbe.api as pm"
   ]
  },
  {
   "cell_type": "code",
   "execution_count": null,
   "id": "3",
   "metadata": {
    "tags": []
   },
   "outputs": [],
   "source": [
    "pm.UI.new(host_url=\"http://sysml2.intercax.com\")"
   ]
  },
  {
   "cell_type": "markdown",
   "id": "4",
   "metadata": {},
   "source": [
    "## 2. Use the widget\n",
    "![Example use of the UI](https://user-images.githubusercontent.com/1438114/115174713-c032e980-a097-11eb-99ed-27d56a9d0d91.gif)"
   ]
  },
  {
   "cell_type": "markdown",
   "id": "5",
   "metadata": {},
   "source": [
    "...or automatically load the `Kerbal` model using the cell below by:"
   ]
  },
  {
   "cell_type": "markdown",
   "id": "6",
   "metadata": {},
   "source": [
    "1. Grabbing the individual widgets"
   ]
  },
  {
   "cell_type": "code",
   "execution_count": null,
   "id": "7",
   "metadata": {
    "tags": []
   },
   "outputs": [],
   "source": [
    "ui, *_ = _.children\n",
    "tree, inspector, m1_diagram, m0_diagram = ui.children\n",
    "ui.log_out"
   ]
  },
  {
   "cell_type": "markdown",
   "id": "8",
   "metadata": {},
   "source": [
    "2. load a model\n",
    "\n",
    "> as specified by `PROJECT_NAME`"
   ]
  },
  {
   "cell_type": "code",
   "execution_count": null,
   "id": "9",
   "metadata": {
    "tags": []
   },
   "outputs": [],
   "source": [
    "USE_FILE = True\n",
    "\n",
    "PROJECT_NAME = \"2a-Parts Interconnection\"  # \"Simple Parts Model\" is too large for testing\n",
    "\n",
    "FIXTURES =  Path(pm.__file__).parent / \"../../tests/fixtures\"\n",
    "\n",
    "client = tree.client\n",
    "\n",
    "if USE_FILE:\n",
    "    client._load_from_file(FIXTURES / f\"{PROJECT_NAME}.json\")\n",
    "else:\n",
    "    project_names = [name for name in client.project_selector.options if name.startswith(PROJECT_NAME)]\n",
    "    if project_names:\n",
    "        *_, last_project = project_names\n",
    "        client.project_selector.value = client.project_selector.options[last_project]\n",
    "        client._download_elements()"
   ]
  },
  {
   "cell_type": "code",
   "execution_count": null,
   "id": "10",
   "metadata": {},
   "outputs": [],
   "source": [
    "SAVE_FILE = False\n",
    "\n",
    "if SAVE_FILE:\n",
    "    FILENAME = PROJECT_NAME.split(\" (\")[0]\n",
    "    print(f\" > Saving {PROJECT_NAME}\")\n",
    "    tree.model.save_to_file(FIXTURES / f\"{FILENAME}.json\")\n",
    "    print(f\" > Successfully Downloaded '{PROJECT_NAME}'\")"
   ]
  },
  {
   "cell_type": "markdown",
   "id": "11",
   "metadata": {},
   "source": [
    "...and, make an M0 interpretation"
   ]
  },
  {
   "cell_type": "markdown",
   "id": "12",
   "metadata": {},
   "source": [
    "You can get a subgraph for only some packages by using the `get_projection` method..."
   ]
  },
  {
   "cell_type": "code",
   "execution_count": null,
   "id": "13",
   "metadata": {},
   "outputs": [],
   "source": [
    "banded_graph = m1_diagram.lpg.get_projection(\"Banded\", packages=tree.model.packages[0:10])\n",
    "len(banded_graph.nodes)"
   ]
  },
  {
   "cell_type": "markdown",
   "id": "14",
   "metadata": {},
   "source": [
    "...or refresh the M1 diagram"
   ]
  },
  {
   "cell_type": "code",
   "execution_count": null,
   "id": "15",
   "metadata": {},
   "outputs": [],
   "source": [
    "toolbar = m1_diagram.elk_diagram.toolbar\n",
    "toolbar.projection_selector.label = \"Part Typing\"\n",
    "toolbar.refresh_diagram.click()"
   ]
  }
 ],
 "metadata": {
  "kernelspec": {
   "display_name": "Python 3 (ipykernel)",
   "language": "python",
   "name": "python3"
  },
  "language_info": {
   "codemirror_mode": {
    "name": "ipython",
    "version": 3
   },
   "file_extension": ".py",
   "mimetype": "text/x-python",
   "name": "python",
   "nbconvert_exporter": "python",
   "pygments_lexer": "ipython3",
   "version": "3.9.13"
  }
 },
 "nbformat": 4,
 "nbformat_minor": 5
}
