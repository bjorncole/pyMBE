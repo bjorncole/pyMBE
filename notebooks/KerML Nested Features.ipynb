{
 "cells": [
  {
   "cell_type": "code",
   "execution_count": 1,
   "metadata": {},
   "outputs": [],
   "source": [
    "import copy\n",
    "import random"
   ]
  },
  {
   "cell_type": "markdown",
   "metadata": {},
   "source": [
    "# Exploring Nested Features in KerML\n",
    "\n",
    "This is a notebook where I am fooling around with possibilities for using the sequence semantics of SysML v2 to explore different kinds of relationships between things in a universe. The \"user model\" of SysML v2 (M1, where libraries live) is the source of constraints and rules for combining the things, denoted by individual characters, into sequences.\n",
    "\n",
    "One of the reasons I used characters as symbols for these individual things is it also helps to look at the sequences and individual items themselves, which is what happens with strings (sequences of characters treated as an object).\n",
    "\n",
    "If Greek characters, capital letters, and numbers are added, this allows for a universe of atoms with about 80 members. This probably plenty to work with giving how quickly combinatorial spaces expand."
   ]
  },
  {
   "cell_type": "markdown",
   "metadata": {},
   "source": [
    "# Section 1 - Exploring the size of spaces\n",
    "\n",
    "This is a section to just play around with the combinatorics of arranging the items of a universe into sequences to see how quickly things get out of hand."
   ]
  },
  {
   "cell_type": "markdown",
   "metadata": {},
   "source": [
    "### Section 1.1 - Universe Setup\n",
    "\n",
    "Define the universe of things. The key to keeping models under control in terms of size is to try and keep this universe small. Population of the universe is thus probably better as a bottoms-up effort than a top-down one."
   ]
  },
  {
   "cell_type": "code",
   "execution_count": 2,
   "metadata": {},
   "outputs": [],
   "source": [
    "number_things = 80"
   ]
  },
  {
   "cell_type": "markdown",
   "metadata": {},
   "source": [
    "Maxium depth of feature to consider."
   ]
  },
  {
   "cell_type": "code",
   "execution_count": 3,
   "metadata": {},
   "outputs": [],
   "source": [
    "feature_depth = 5"
   ]
  },
  {
   "cell_type": "markdown",
   "metadata": {},
   "source": [
    "To make it easier to deal with some of the conceptual issues of the labeling of sequences, it may be helpful to assign numbers to sequences as indexed."
   ]
  },
  {
   "cell_type": "markdown",
   "metadata": {},
   "source": [
    "### Section 1.2 - Completely default types\n",
    "\n",
    "The most basic calculations are for unconstrained results."
   ]
  },
  {
   "cell_type": "code",
   "execution_count": 4,
   "metadata": {},
   "outputs": [
    {
     "name": "stdout",
     "output_type": "stream",
     "text": [
      "3,318,278,480\n"
     ]
    }
   ],
   "source": [
    "anything_possibilities = 0\n",
    "for i in range(1, feature_depth + 1):\n",
    "    anything_possibilities = anything_possibilities + number_things ** i\n",
    "    \n",
    "print(\"{:,d}\".format(anything_possibilities))"
   ]
  },
  {
   "cell_type": "markdown",
   "metadata": {},
   "source": [
    "## Section 1.3 - Exploring Library Elements\n",
    "\n",
    "After the initial play with the sizes of sequences, this section tries to look at how the constraints on sequences brings the size of the space down."
   ]
  },
  {
   "cell_type": "markdown",
   "metadata": {},
   "source": [
    "#### Section 1.3.1 - Classifiers and Minimal Interpretations\n",
    "\n",
    "The minimum interpretations of classifiers are of length 1 (any sequence in a Classifier has its 1-tail inside also, which means only the 1-tails are not tails of other sequences)."
   ]
  },
  {
   "cell_type": "code",
   "execution_count": 5,
   "metadata": {},
   "outputs": [
    {
     "name": "stdout",
     "output_type": "stream",
     "text": [
      "3,318,278,420\n"
     ]
    }
   ],
   "source": [
    "number_things_in_class = 20\n",
    "assert number_things_in_class < number_things\n",
    "\n",
    "classifier_possibilities = number_things_in_class\n",
    "\n",
    "for i in range(2, feature_depth + 1):\n",
    "    classifier_possibilities = classifier_possibilities + number_things ** i\n",
    "    \n",
    "print(\"{:,d}\".format(classifier_possibilities))"
   ]
  },
  {
   "cell_type": "markdown",
   "metadata": {},
   "source": [
    "#### Section 1.3.2 - Basics of Nesting Features\n",
    "\n",
    "One key consideration is that \"Anything\" has no minimum interpretation so it cannot be used in defining either side of a FeaturePair. \"Things\" can be used however. Since things is all possible sequences in of things in the universe, its minimal interpretation is a sequence of length 2."
   ]
  },
  {
   "cell_type": "code",
   "execution_count": 6,
   "metadata": {},
   "outputs": [
    {
     "name": "stdout",
     "output_type": "stream",
     "text": [
      "6,400\n"
     ]
    }
   ],
   "source": [
    "things_size = number_things ** 2\n",
    "print(\"{:,d}\".format(things_size))"
   ]
  },
  {
   "cell_type": "markdown",
   "metadata": {},
   "source": [
    "##### Section 1.3.2.1 - Defaults for nesting features in pure KerML\n",
    "\n",
    "The rules above lead to a \"default\" nested feature (one feature with another as its featuringType, and neither with a specific Type applied) of sequences of lengths no less than 4, all concatenations of sequences from the minimal interpretation of \"things.\"\n",
    "\n",
    "The base rules for feature sequences then allow for the insertion of any atom from the universe between numbers of the minimal 2-sequences from the minimal interpretation of things."
   ]
  },
  {
   "cell_type": "code",
   "execution_count": 7,
   "metadata": {},
   "outputs": [
    {
     "name": "stdout",
     "output_type": "stream",
     "text": [
      "512,000\n"
     ]
    }
   ],
   "source": [
    "number_of_5_length_sequences = things_size * number_things\n",
    "print(\"{:,d}\".format(number_of_5_length_sequences))"
   ]
  },
  {
   "cell_type": "markdown",
   "metadata": {},
   "source": [
    "##### Section 1.3.2.2 - Defaults for nesting features in SysML\n",
    "\n",
    "In SysML, all part properties must be typed by Part Definition or a specialization. Since Part Definitions are Classifiers, their minimal interpretations are of length one. So the nesting will result in sequences of length no less than 2, simply combinations of all 1-sequences of Part Definition."
   ]
  },
  {
   "cell_type": "markdown",
   "metadata": {},
   "source": [
    "## Section 2 - Sets from the Library\n",
    "\n",
    "Start capturing library sets and specialize appropriately."
   ]
  },
  {
   "cell_type": "markdown",
   "metadata": {},
   "source": [
    "### Section 2.1 - Occurrences\n",
    "\n",
    "Occurrences specialize Classifier, and obey the same rules. Minimal interpretations are of length 1."
   ]
  },
  {
   "cell_type": "markdown",
   "metadata": {},
   "source": [
    "### Section 2.2 - Links\n",
    "\n",
    "Links specialize objects which specialize occurrences. The links that are often the most useful are the binary links as they do a lot of heavy lifting in libraries to link entities.\n",
    "Generic links have attributes that are two or more participants, which can be pulled from the Anything set of sequences."
   ]
  },
  {
   "cell_type": "markdown",
   "metadata": {},
   "source": [
    "#### Section 2.2.1 - Combinatorial issues\n",
    "\n",
    "Links show the combinatorial explosion problem - if there are many sequences under Links and the participants field can hold any number of references from one link sequence to another, then numbers grow incredibly fast."
   ]
  },
  {
   "cell_type": "markdown",
   "metadata": {},
   "source": [
    "#### Section 2.2.2 - BinaryLinks\n",
    "\n",
    "The binary links are simpler to deal with in that there are exactly two participants. Each binary link effectively pairs sequences."
   ]
  },
  {
   "cell_type": "markdown",
   "metadata": {},
   "source": [
    "#### Section 2.2.2.1 - Nesting and ends\n",
    "\n",
    "The sequences within the interpretations of different features of the Association are useful for puzzling out end semantics.\n",
    "\n",
    "Here we generate the list of possibilities. Only 5 atoms are used to keep the numbers small enough for exploration."
   ]
  },
  {
   "cell_type": "code",
   "execution_count": 8,
   "metadata": {},
   "outputs": [],
   "source": [
    "nesting_universe_instances = ['a', 'b', 'c', 'd', 'e']"
   ]
  },
  {
   "cell_type": "markdown",
   "metadata": {},
   "source": [
    "Construct the full set of sequences possible with these atoms to be the Anything set."
   ]
  },
  {
   "cell_type": "code",
   "execution_count": 9,
   "metadata": {},
   "outputs": [
    {
     "data": {
      "text/plain": [
       "625"
      ]
     },
     "execution_count": 9,
     "metadata": {},
     "output_type": "execute_result"
    }
   ],
   "source": [
    "nesting_universe_anything = [[]]\n",
    "for i in range(1, 5):\n",
    "    if i > 1:\n",
    "        old_template = copy.deepcopy(nesting_universe_anything[i - 2])\n",
    "        nesting_universe_anything.append([])\n",
    "    for j, instance in enumerate(nesting_universe_instances):\n",
    "        if i == 1:\n",
    "            nesting_universe_anything[0].append(instance)\n",
    "        else:\n",
    "            for el in old_template:\n",
    "                nesting_universe_anything[i - 1].append(instance + el)\n",
    "            \n",
    "len(nesting_universe_anything[3])"
   ]
  },
  {
   "cell_type": "markdown",
   "metadata": {},
   "source": [
    "Select all sequences that go with the notional binary Association classifier (ending in 'a'):"
   ]
  },
  {
   "cell_type": "code",
   "execution_count": 10,
   "metadata": {},
   "outputs": [
    {
     "data": {
      "text/plain": [
       "156"
      ]
     },
     "execution_count": 10,
     "metadata": {},
     "output_type": "execute_result"
    }
   ],
   "source": [
    "assoc_seqs = []\n",
    "for level in nesting_universe_anything:\n",
    "    for seq in level:\n",
    "        if seq[-1] == 'a':\n",
    "            assoc_seqs.append(seq)\n",
    "            \n",
    "len(assoc_seqs)"
   ]
  },
  {
   "cell_type": "markdown",
   "metadata": {},
   "source": [
    "Let the participant feature 1 have a Type that is a Classifier with minimal interpretation of {\\[b\\], \\[c\\]} and participant feature 2 have a Type that is a Classifier with minimal interpretation of {\\[d\\], \\[e\\]}."
   ]
  },
  {
   "cell_type": "code",
   "execution_count": 11,
   "metadata": {},
   "outputs": [
    {
     "data": {
      "text/plain": [
       "312"
      ]
     },
     "execution_count": 11,
     "metadata": {},
     "output_type": "execute_result"
    }
   ],
   "source": [
    "BC_seqs = []\n",
    "for level in nesting_universe_anything:\n",
    "    for seq in level:\n",
    "        if seq[-1] == 'b' or seq[-1] == 'c':\n",
    "            BC_seqs.append(seq)\n",
    "            \n",
    "len(BC_seqs)"
   ]
  },
  {
   "cell_type": "code",
   "execution_count": 12,
   "metadata": {},
   "outputs": [
    {
     "data": {
      "text/plain": [
       "312"
      ]
     },
     "execution_count": 12,
     "metadata": {},
     "output_type": "execute_result"
    }
   ],
   "source": [
    "DE_seqs = []\n",
    "for level in nesting_universe_anything:\n",
    "    for seq in level:\n",
    "        if seq[-1] == 'd' or seq[-1] == 'e':\n",
    "            DE_seqs.append(seq)\n",
    "            \n",
    "len(DE_seqs)"
   ]
  },
  {
   "cell_type": "markdown",
   "metadata": {},
   "source": [
    "Select all feature-length sequences that aren't classified by our Association but have it as a featuring type, meaning that 'a' is the left-most item in the sequence."
   ]
  },
  {
   "cell_type": "code",
   "execution_count": 13,
   "metadata": {},
   "outputs": [
    {
     "data": {
      "text/plain": [
       "62"
      ]
     },
     "execution_count": 13,
     "metadata": {},
     "output_type": "execute_result"
    }
   ],
   "source": [
    "part1_seqs = []\n",
    "for level in nesting_universe_anything:\n",
    "    for seq in level:\n",
    "        if len(seq) > 1 and (seq[-1] == 'b' or seq[-1] == 'c') and seq[0] == 'a':\n",
    "            part1_seqs.append(seq)\n",
    "            \n",
    "len(part1_seqs)"
   ]
  },
  {
   "cell_type": "code",
   "execution_count": 14,
   "metadata": {},
   "outputs": [
    {
     "data": {
      "text/plain": [
       "62"
      ]
     },
     "execution_count": 14,
     "metadata": {},
     "output_type": "execute_result"
    }
   ],
   "source": [
    "part2_seqs = []\n",
    "for level in nesting_universe_anything:\n",
    "    for seq in level:\n",
    "        if len(seq) > 1 and (seq[-1] == 'd' or seq[-1] == 'e') and seq[0] == 'a':\n",
    "            part2_seqs.append(seq)\n",
    "            \n",
    "len(part2_seqs)"
   ]
  },
  {
   "cell_type": "code",
   "execution_count": 15,
   "metadata": {},
   "outputs": [],
   "source": [
    "part1_min_seqs = []\n",
    "for seq in part1_seqs:\n",
    "    if (len(seq) == 2):\n",
    "        part1_min_seqs.append(seq)"
   ]
  },
  {
   "cell_type": "code",
   "execution_count": 16,
   "metadata": {},
   "outputs": [],
   "source": [
    "part2_min_seqs = []\n",
    "for seq in part2_seqs:\n",
    "    if (len(seq) == 2):\n",
    "        part2_min_seqs.append(seq)"
   ]
  },
  {
   "cell_type": "code",
   "execution_count": 17,
   "metadata": {},
   "outputs": [
    {
     "data": {
      "text/plain": [
       "['ad', 'ae']"
      ]
     },
     "execution_count": 17,
     "metadata": {},
     "output_type": "execute_result"
    }
   ],
   "source": [
    "part2_min_seqs"
   ]
  },
  {
   "cell_type": "markdown",
   "metadata": {},
   "source": [
    "#### Section 2.2.2.2 - Examples with Random BiLinks\n",
    "\n",
    "In order to build up the story, we have an individual sequence from the set of (binary) Link sequences. This link then has one end pointing to a viable Feature for participant 1 and one for participant 2."
   ]
  },
  {
   "cell_type": "code",
   "execution_count": 18,
   "metadata": {},
   "outputs": [],
   "source": [
    "bilinks = []\n",
    "for i in range(0, 100):\n",
    "    rand_bilink = [assoc_seqs[random.randint(0, len(assoc_seqs) - 1)],\n",
    "               part1_seqs[random.randint(0, len(part1_seqs) - 1)],\n",
    "               part2_seqs[random.randint(0, len(part2_seqs) - 1)]]\n",
    "    bilinks.append(rand_bilink)"
   ]
  },
  {
   "cell_type": "markdown",
   "metadata": {},
   "source": [
    "Now we try the end values as listed in the spec. First, we randomize up some values for the two ends of the random link."
   ]
  },
  {
   "cell_type": "code",
   "execution_count": 19,
   "metadata": {},
   "outputs": [],
   "source": [
    "part1_bilinks = sorted(bilinks,key=lambda x: x[1])\n",
    "part2_bilinks = sorted(bilinks,key=lambda x: x[2])"
   ]
  },
  {
   "cell_type": "markdown",
   "metadata": {},
   "source": [
    "And then we try the navigation. The function below collects all members of the feature sequence that are linked to a given sequence in our collection of BiLinks. This should be the implementation of current end semantics where the ends point from one participant to the other.\n",
    "\n",
    "The map below is where individuals of the BC classifier set point to the value list of their implied feature from the association end."
   ]
  },
  {
   "cell_type": "code",
   "execution_count": 20,
   "metadata": {},
   "outputs": [
    {
     "data": {
      "text/plain": [
       "{'acac': ['abd'],\n",
       " 'abbb': ['aeae', 'aabd', 'abee'],\n",
       " 'abac': ['aabd'],\n",
       " 'abab': ['aedd', 'abbd', 'acbd', 'abcd'],\n",
       " 'abec': ['abe'],\n",
       " 'acbb': ['aabd', 'aedd', 'aded'],\n",
       " 'adac': ['aded'],\n",
       " 'aeb': ['aeed', 'aded', 'aaae'],\n",
       " 'aec': ['abed', 'ade'],\n",
       " 'adbb': ['acd', 'accd'],\n",
       " 'adb': ['abe'],\n",
       " 'aaec': ['acad', 'adae', 'aade'],\n",
       " 'ac': ['accd', 'abcd'],\n",
       " 'adbc': ['aede', 'abde'],\n",
       " 'aaab': ['adae'],\n",
       " 'aedb': ['abed'],\n",
       " 'aac': ['aedd'],\n",
       " 'addc': ['abde', 'adde'],\n",
       " 'aebc': ['adbe'],\n",
       " 'acdc': ['abed', 'abce'],\n",
       " 'adec': ['aadd'],\n",
       " 'addb': ['aadd'],\n",
       " 'abeb': ['abcd', 'adee'],\n",
       " 'aeac': ['aeee', 'aced'],\n",
       " 'aebb': ['ad', 'acdd', 'accd'],\n",
       " 'acbc': ['acae'],\n",
       " 'aabc': ['ad'],\n",
       " 'accc': ['accd'],\n",
       " 'abdb': ['aedd'],\n",
       " 'aecb': ['aede', 'adee', 'abae'],\n",
       " 'aceb': ['aced', 'aae', 'ade', 'aead', 'ace'],\n",
       " 'abcc': ['adee', 'adbe', 'acce', 'abae', 'abae'],\n",
       " 'abcb': ['aebe', 'aebe'],\n",
       " 'acdb': ['aad', 'abe', 'aad'],\n",
       " 'adab': ['abbd', 'adae'],\n",
       " 'acab': ['aadd', 'acdd'],\n",
       " 'aaac': ['ad'],\n",
       " 'adcc': ['abd', 'adce', 'abbe', 'aeed'],\n",
       " 'aeab': ['adcd'],\n",
       " 'abb': ['abbd', 'aade'],\n",
       " 'aeec': ['adee'],\n",
       " 'ab': ['abad', 'adde'],\n",
       " 'adeb': ['ae'],\n",
       " 'abc': ['aace'],\n",
       " 'acc': ['abe', 'aabd'],\n",
       " 'adcb': ['acee', 'ad'],\n",
       " 'aadc': ['aebe'],\n",
       " 'aacb': ['aade', 'abcd', 'acdd', 'aeed'],\n",
       " 'accb': ['adde', 'ace', 'acdd', 'ad', 'adce'],\n",
       " 'aadb': ['abbd']}"
      ]
     },
     "execution_count": 20,
     "metadata": {},
     "output_type": "execute_result"
    }
   ],
   "source": [
    "part1_sliced = {}\n",
    "for uni in set([p[1] for p in part1_bilinks]):\n",
    "    local = []\n",
    "    for bilink in bilinks:\n",
    "        if bilink[1] == uni:\n",
    "            local.append(bilink[2])\n",
    "    part1_sliced.update({uni: local})\n",
    "    \n",
    "part1_sliced"
   ]
  },
  {
   "cell_type": "markdown",
   "metadata": {},
   "source": [
    "The map below is where individuals of the DE classifier set point to the value list of their implied feature from the association end."
   ]
  },
  {
   "cell_type": "code",
   "execution_count": 21,
   "metadata": {},
   "outputs": [
    {
     "data": {
      "text/plain": [
       "{'aebe': ['abcb', 'aadc', 'abcb'],\n",
       " 'accd': ['ac', 'adbb', 'aebb', 'accc'],\n",
       " 'adcd': ['aeab'],\n",
       " 'abd': ['adcc', 'acac'],\n",
       " 'adce': ['adcc', 'accb'],\n",
       " 'aeed': ['aeb', 'aacb', 'adcc'],\n",
       " 'aabd': ['acbb', 'abbb', 'abac', 'acc'],\n",
       " 'abe': ['acc', 'abec', 'adb', 'acdb'],\n",
       " 'aace': ['abc'],\n",
       " 'aede': ['adbc', 'aecb'],\n",
       " 'aeae': ['abbb'],\n",
       " 'abad': ['ab'],\n",
       " 'abed': ['aec', 'aedb', 'acdc'],\n",
       " 'ade': ['aceb', 'aec'],\n",
       " 'aded': ['aeb', 'acbb', 'adac'],\n",
       " 'adae': ['aaec', 'adab', 'aaab'],\n",
       " 'acce': ['abcc'],\n",
       " 'acae': ['acbc'],\n",
       " 'aead': ['aceb'],\n",
       " 'adde': ['accb', 'ab', 'addc'],\n",
       " 'adbe': ['abcc', 'aebc'],\n",
       " 'acdd': ['accb', 'aacb', 'acab', 'aebb'],\n",
       " 'aeee': ['aeac'],\n",
       " 'acad': ['aaec'],\n",
       " 'aadd': ['addb', 'acab', 'adec'],\n",
       " 'acd': ['adbb'],\n",
       " 'abcd': ['ac', 'aacb', 'abeb', 'abab'],\n",
       " 'aced': ['aceb', 'aeac'],\n",
       " 'acee': ['adcb'],\n",
       " 'aad': ['acdb', 'acdb'],\n",
       " 'abce': ['acdc'],\n",
       " 'abee': ['abbb'],\n",
       " 'aade': ['aacb', 'aaec', 'abb'],\n",
       " 'aedd': ['abab', 'acbb', 'aac', 'abdb'],\n",
       " 'abbd': ['adab', 'abab', 'abb', 'aadb'],\n",
       " 'adee': ['abcc', 'aeec', 'aecb', 'abeb'],\n",
       " 'aae': ['aceb'],\n",
       " 'abae': ['abcc', 'aecb', 'abcc'],\n",
       " 'ad': ['aebb', 'aabc', 'adcb', 'accb', 'aaac'],\n",
       " 'aaae': ['aeb'],\n",
       " 'acbd': ['abab'],\n",
       " 'abde': ['addc', 'adbc'],\n",
       " 'ace': ['accb', 'aceb'],\n",
       " 'ae': ['adeb'],\n",
       " 'abbe': ['adcc']}"
      ]
     },
     "execution_count": 21,
     "metadata": {},
     "output_type": "execute_result"
    }
   ],
   "source": [
    "part2_sliced = {}\n",
    "for uni in set([p[2] for p in part2_bilinks]):\n",
    "    local = []\n",
    "    for bilink in bilinks:\n",
    "        if bilink[2] == uni:\n",
    "            local.append(bilink[1])\n",
    "    part2_sliced.update({uni: local})\n",
    "    \n",
    "part2_sliced"
   ]
  },
  {
   "cell_type": "markdown",
   "metadata": {},
   "source": [
    "Here is the list of 100 randomly generated BiLinks. The first entry is instances of the BiLink, the second instances of the first participant feature, and the third is instances of the second participant feature."
   ]
  },
  {
   "cell_type": "code",
   "execution_count": 22,
   "metadata": {},
   "outputs": [
    {
     "data": {
      "text/plain": [
       "[['aaaa', 'adcc', 'abbe'],\n",
       " ['aaba', 'addb', 'aadd'],\n",
       " ['aaca', 'adbb', 'acd'],\n",
       " ['aaca', 'accb', 'ad'],\n",
       " ['aaca', 'adcc', 'aeed'],\n",
       " ['aada', 'aedb', 'abed'],\n",
       " ['abba', 'abb', 'abbd'],\n",
       " ['acaa', 'adcb', 'ad'],\n",
       " ['acda', 'aaec', 'aade'],\n",
       " ['adda', 'acab', 'aadd'],\n",
       " ['aeaa', 'acbb', 'aedd'],\n",
       " ['aeaa', 'adbc', 'abde'],\n",
       " ['aeba', 'accb', 'adde'],\n",
       " ['aeba', 'abcc', 'abae'],\n",
       " ['aeea', 'aeab', 'adcd'],\n",
       " ['aeea', 'accb', 'acdd'],\n",
       " ['aeea', 'adec', 'aadd'],\n",
       " ['ba', 'abab', 'abcd'],\n",
       " ['baaa', 'adab', 'abbd'],\n",
       " ['baba', 'abcc', 'abae'],\n",
       " ['baca', 'aceb', 'ace'],\n",
       " ['bada', 'acbb', 'aabd'],\n",
       " ['bada', 'aabc', 'ad'],\n",
       " ['bada', 'acab', 'acdd'],\n",
       " ['bbca', 'aecb', 'abae'],\n",
       " ['bbca', 'aebb', 'accd'],\n",
       " ['bbda', 'acc', 'abe'],\n",
       " ['bca', 'aecb', 'aede'],\n",
       " ['bcaa', 'abbb', 'abee'],\n",
       " ['bcba', 'abeb', 'adee'],\n",
       " ['bcca', 'aebb', 'acdd'],\n",
       " ['bcca', 'aceb', 'aead'],\n",
       " ['bcda', 'abcc', 'adee'],\n",
       " ['bcda', 'abec', 'abe'],\n",
       " ['bcea', 'aceb', 'aae'],\n",
       " ['bdca', 'aec', 'ade'],\n",
       " ['bdda', 'adbc', 'aede'],\n",
       " ['bdda', 'aaec', 'adae'],\n",
       " ['bea', 'aeb', 'aded'],\n",
       " ['beaa', 'ac', 'accd'],\n",
       " ['beaa', 'adb', 'abe'],\n",
       " ['beaa', 'acdb', 'abe'],\n",
       " ['beaa', 'acdb', 'aad'],\n",
       " ['beba', 'adab', 'adae'],\n",
       " ['ca', 'aecb', 'adee'],\n",
       " ['caaa', 'adcc', 'abd'],\n",
       " ['caaa', 'abbb', 'aeae'],\n",
       " ['caaa', 'abc', 'aace'],\n",
       " ['cada', 'aeb', 'aaae'],\n",
       " ['caea', 'abb', 'aade'],\n",
       " ['cbaa', 'acbb', 'aded'],\n",
       " ['cbaa', 'aacb', 'aeed'],\n",
       " ['cbba', 'acc', 'aabd'],\n",
       " ['cbca', 'accc', 'accd'],\n",
       " ['ccaa', 'aac', 'aedd'],\n",
       " ['ccaa', 'aadb', 'abbd'],\n",
       " ['ccca', 'adcc', 'adce'],\n",
       " ['ccda', 'acdb', 'aad'],\n",
       " ['ccda', 'addc', 'adde'],\n",
       " ['cdaa', 'addc', 'abde'],\n",
       " ['cdaa', 'aacb', 'acdd'],\n",
       " ['cdba', 'abac', 'aabd'],\n",
       " ['cdca', 'accb', 'adce'],\n",
       " ['cea', 'ab', 'abad'],\n",
       " ['cea', 'aebc', 'adbe'],\n",
       " ['ceea', 'abdb', 'aedd'],\n",
       " ['daa', 'abab', 'aedd'],\n",
       " ['daaa', 'aaac', 'ad'],\n",
       " ['daba', 'abeb', 'abcd'],\n",
       " ['daca', 'aaec', 'acad'],\n",
       " ['dcba', 'aeac', 'aeee'],\n",
       " ['dcba', 'aceb', 'ade'],\n",
       " ['dcba', 'acac', 'abd'],\n",
       " ['ddba', 'acbc', 'acae'],\n",
       " ['ddda', 'acdc', 'abed'],\n",
       " ['ddea', 'aadc', 'aebe'],\n",
       " ['dea', 'aeec', 'adee'],\n",
       " ['deca', 'ab', 'adde'],\n",
       " ['deea', 'ac', 'abcd'],\n",
       " ['deea', 'abbb', 'aabd'],\n",
       " ['deea', 'abcb', 'aebe'],\n",
       " ['eaba', 'aec', 'abed'],\n",
       " ['eaca', 'aebb', 'ad'],\n",
       " ['eaca', 'aacb', 'abcd'],\n",
       " ['eba', 'adcb', 'acee'],\n",
       " ['ebca', 'acdc', 'abce'],\n",
       " ['ebda', 'adeb', 'ae'],\n",
       " ['ebea', 'adbb', 'accd'],\n",
       " ['eca', 'abcc', 'adbe'],\n",
       " ['eca', 'adac', 'aded'],\n",
       " ['ecaa', 'abcb', 'aebe'],\n",
       " ['eda', 'aeac', 'aced'],\n",
       " ['edaa', 'aacb', 'aade'],\n",
       " ['edca', 'aceb', 'aced'],\n",
       " ['edca', 'accb', 'ace'],\n",
       " ['edda', 'abab', 'abbd'],\n",
       " ['eea', 'abab', 'acbd'],\n",
       " ['eeda', 'aeb', 'aeed'],\n",
       " ['eeda', 'abcc', 'acce'],\n",
       " ['eeda', 'aaab', 'adae']]"
      ]
     },
     "execution_count": 22,
     "metadata": {},
     "output_type": "execute_result"
    }
   ],
   "source": [
    "sorted(bilinks,key=lambda x: x[0])"
   ]
  },
  {
   "cell_type": "markdown",
   "metadata": {},
   "source": [
    "#### Section 4.2.3 Links\n",
    "\n",
    "For general links, there can be more than two participants. The rules for mapping from the instances of the links and the participants to instances matched to features of end types is less clear. Here we can explore that a bit with an example inspired by *The Last Dance*, the NBA finals between the Seattle Supersonics and Chicago Bulls. Then, for fun, a follow-on game where a key matchup between Gary \"The Glove\" Payton and Michael Jordan is repeated when Jordan is on another team in another year."
   ]
  },
  {
   "cell_type": "markdown",
   "metadata": {},
   "source": [
    "To use the team, year, player example, here are some abbreviations:\n",
    "b - Bulls\n",
    "s - Sonics\n",
    "p - Gary Payton\n",
    "j - Michael Jordan\n",
    "6 - 1996\n",
    "2 - 2002\n",
    "w - Wizards\n",
    "a - Association"
   ]
  },
  {
   "cell_type": "code",
   "execution_count": 23,
   "metadata": {},
   "outputs": [],
   "source": [
    "link_universe_instances = ['a', 'b', 's', 'p', 'j', '6', '2', 'w']"
   ]
  },
  {
   "cell_type": "code",
   "execution_count": 24,
   "metadata": {},
   "outputs": [],
   "source": [
    "link_universe_anything = [[]]\n",
    "link_universe_flat = []\n",
    "for i in range(1, 5):\n",
    "    if i > 1:\n",
    "        old_template = copy.deepcopy(link_universe_anything[i - 2])\n",
    "        link_universe_anything.append([])\n",
    "    for j, instance in enumerate(link_universe_instances):\n",
    "        if i == 1:\n",
    "            link_universe_anything[0].append(instance)\n",
    "            link_universe_flat.append(instance)\n",
    "        else:\n",
    "            for el in old_template:\n",
    "                link_universe_anything[i - 1].append(instance + el)\n",
    "                link_universe_flat.append(instance + el)"
   ]
  },
  {
   "cell_type": "code",
   "execution_count": 25,
   "metadata": {},
   "outputs": [],
   "source": [
    "def is_team(instance):\n",
    "    if instance[-1] == 'b' or instance[-1] == 's' or instance[-1] == 'w':\n",
    "        return True\n",
    "    return False"
   ]
  },
  {
   "cell_type": "code",
   "execution_count": 26,
   "metadata": {},
   "outputs": [],
   "source": [
    "def is_player(instance):\n",
    "    if instance[-1] == 'p' or instance[-1] == 'j':\n",
    "        return True\n",
    "    return False"
   ]
  },
  {
   "cell_type": "code",
   "execution_count": 27,
   "metadata": {},
   "outputs": [],
   "source": [
    "def is_year(instance):\n",
    "    if instance[-1] == '2' or instance[-1] == '6':\n",
    "        return True\n",
    "    return False"
   ]
  },
  {
   "cell_type": "code",
   "execution_count": 28,
   "metadata": {},
   "outputs": [],
   "source": [
    "def is_link(instance):\n",
    "    if instance[-1] == 'a':\n",
    "        return True\n",
    "    return False"
   ]
  },
  {
   "cell_type": "code",
   "execution_count": 29,
   "metadata": {},
   "outputs": [],
   "source": [
    "teams = [instance for instance in link_universe_flat if is_team(instance)]\n",
    "players = [instance for instance in link_universe_flat if is_player(instance)]\n",
    "years = [instance for instance in link_universe_flat if is_year(instance)]\n",
    "links = [instance for instance in link_universe_flat if is_link(instance)]"
   ]
  },
  {
   "cell_type": "markdown",
   "metadata": {},
   "source": [
    "The nesting for the features above is interesting in how we can interpret it (depending on features provided in the larger user model). For example, 'b6j' could represent Michael Jordan as he was a player in 1996 for the Bulls.\n",
    "We should note that there a number of sequences that may not make sense like 'bjj' (Jordan referencing himself while on the Bulls?) This might point to some useful default semantics for SysML part usage and the like.\n",
    "Note that we have no restrictions yet, so there are several combinations where players appear to be linked to the wrong team. But we have said what the legal combinations are ... this may be oppositions rather than playing on the team."
   ]
  },
  {
   "cell_type": "code",
   "execution_count": 30,
   "metadata": {},
   "outputs": [
    {
     "data": {
      "text/plain": [
       "['bpp', 'bpj', 'bjp', 'bjj', 'b6p', 'b6j', 'b2p', 'b2j', 'bwp', 'bwj']"
      ]
     },
     "execution_count": 30,
     "metadata": {},
     "output_type": "execute_result"
    }
   ],
   "source": [
    "players[40:50]"
   ]
  },
  {
   "cell_type": "markdown",
   "metadata": {},
   "source": [
    "As before, the participants of our association restrict the universe of sequences to those that have the association minimum interpretation ('a') as the head and a minimal interpretation ('p', 'j' for players) as the tail."
   ]
  },
  {
   "cell_type": "code",
   "execution_count": 31,
   "metadata": {},
   "outputs": [],
   "source": [
    "linked_players = [linked_player for linked_player in players if linked_player[0] == 'a']\n",
    "linked_teams = [linked_team for linked_team in teams if linked_team[0] == 'a']\n",
    "linked_years = [linked_year for linked_year in years if linked_year[0] == 'a']"
   ]
  },
  {
   "cell_type": "code",
   "execution_count": 32,
   "metadata": {},
   "outputs": [
    {
     "data": {
      "text/plain": [
       "['aj6', 'aj2', 'a66', 'a62', 'a26', 'a22', 'aw6', 'aw2', 'aaa6', 'aaa2']"
      ]
     },
     "execution_count": 32,
     "metadata": {},
     "output_type": "execute_result"
    }
   ],
   "source": [
    "linked_years[10:20]"
   ]
  },
  {
   "cell_type": "markdown",
   "metadata": {},
   "source": [
    "If we look at any one of these ends, they basically have a way to navigate to things of a given classifier either directly or through the other dimension. We can start by making a series of random links."
   ]
  },
  {
   "cell_type": "code",
   "execution_count": 33,
   "metadata": {},
   "outputs": [],
   "source": [
    "trilinks = []\n",
    "for i in range(0, 100):\n",
    "    rand_trilink = [links[random.randint(0, len(links) - 1)],\n",
    "                    linked_players[random.randint(0, len(linked_players) - 1)],\n",
    "                    linked_teams[random.randint(0, len(linked_teams) - 1)],\n",
    "                    linked_years[random.randint(0, len(linked_years) - 1)]]\n",
    "    trilinks.append(rand_trilink)"
   ]
  },
  {
   "cell_type": "code",
   "execution_count": 34,
   "metadata": {},
   "outputs": [
    {
     "data": {
      "text/plain": [
       "[['aa6a', 'assp', 'awws', 'as26'],\n",
       " ['w26a', 'apbj', 'awab', 'a6p2'],\n",
       " ['jsa', 'a22j', 'ajbb', 'awj6'],\n",
       " ['p6aa', 'aaap', 'apjs', 'apw2'],\n",
       " ['6swa', 'asaj', 'a6w', 'aaj6'],\n",
       " ['sp6a', 'abbj', 'aswb', 'abj2'],\n",
       " ['pwwa', 'asaj', 'abpw', 'aa2'],\n",
       " ['aaa', 'a2pj', 'aaab', 'asa2'],\n",
       " ['pasa', 'aswp', 'aw6b', 'ajb2'],\n",
       " ['ajba', 'a6aj', 'a2bw', 'a6a2'],\n",
       " ['pbsa', 'aa2j', 'a2ww', 'ab62'],\n",
       " ['baja', 'ajwj', 'a6jb', 'aa6'],\n",
       " ['bpwa', 'absp', 'ajjb', 'apa6'],\n",
       " ['6waa', 'asj', 'a2pb', 'ajp2'],\n",
       " ['pasa', 'ajwj', 'awjw', 'a2a6'],\n",
       " ['wpwa', 'aj6p', 'ajww', 'as62'],\n",
       " ['6p6a', 'apaj', 'aasw', 'aap2'],\n",
       " ['b66a', 'abpp', 'a6jw', 'awb6'],\n",
       " ['b2ba', 'ajsp', 'apab', 'ajp2'],\n",
       " ['sbpa', 'a6wp', 'awpw', 'ap22'],\n",
       " ['pbba', 'ajjp', 'a22b', 'abp2'],\n",
       " ['b6aa', 'asjj', 'appw', 'a662'],\n",
       " ['sj6a', 'aj', 'abw', 'a2p6'],\n",
       " ['pa', 'apwj', 'a6s', 'asw6'],\n",
       " ['2j2a', 'a2sj', 'awsw', 'aa66'],\n",
       " ['wa6a', 'aa6j', 'ap2b', 'as22'],\n",
       " ['sp2a', 'aw2p', 'a2js', 'a2w6'],\n",
       " ['p2a', 'ab2j', 'absb', 'abw6'],\n",
       " ['sa2a', 'apjp', 'abas', 'awp2'],\n",
       " ['jaaa', 'ab2j', 'ajsb', 'aaa6'],\n",
       " ['swsa', 'ap6p', 'a2jw', 'aw62'],\n",
       " ['sawa', 'a2sj', 'aw6w', 'apw6'],\n",
       " ['j6a', 'abp', 'ajs', 'a26'],\n",
       " ['b2aa', 'apwj', 'ajpb', 'ajj6'],\n",
       " ['b66a', 'abjp', 'awps', 'abs2'],\n",
       " ['wjpa', 'awpp', 'apps', 'aj2'],\n",
       " ['pa', 'apwj', 'as2w', 'as66'],\n",
       " ['a', 'ajpj', 'abw', 'a2a2'],\n",
       " ['bjaa', 'a22j', 'apas', 'a2s2'],\n",
       " ['swsa', 'appp', 'as6w', 'aw66'],\n",
       " ['bja', 'aw2j', 'apas', 'a2s2'],\n",
       " ['6p2a', 'apjj', 'a2bb', 'awp2'],\n",
       " ['26aa', 'absj', 'ab6s', 'awa2'],\n",
       " ['jsaa', 'ajj', 'apsw', 'aj26'],\n",
       " ['6wja', 'abbp', 'abjw', 'as2'],\n",
       " ['waa', 'ab2p', 'ajpb', 'a66'],\n",
       " ['bbaa', 'appj', 'aw2s', 'as62'],\n",
       " ['wb2a', 'a2bp', 'ab2b', 'awa2'],\n",
       " ['bbwa', 'aj2p', 'a6bw', 'ajb2'],\n",
       " ['bw2a', 'ajjp', 'abps', 'asj2'],\n",
       " ['pppa', 'asaj', 'awas', 'a6w2'],\n",
       " ['26wa', 'asbj', 'a66b', 'aj22'],\n",
       " ['jpba', 'asap', 'as6b', 'aj26'],\n",
       " ['s2pa', 'a2pp', 'ajjw', 'asb2'],\n",
       " ['b6wa', 'aaj', 'abww', 'aj22'],\n",
       " ['a6sa', 'asjj', 'a6js', 'aj22'],\n",
       " ['pjja', 'apwj', 'asb', 'ap22'],\n",
       " ['awpa', 'awaj', 'aapb', 'apw2'],\n",
       " ['6paa', 'aswp', 'ab', 'aja6'],\n",
       " ['asba', 'apjp', 'ajbs', 'apa6'],\n",
       " ['2psa', 'ajap', 'a2w', 'a2j6'],\n",
       " ['sa', 'aapj', 'a6as', 'as2'],\n",
       " ['sa', 'assj', 'ab', 'a662'],\n",
       " ['bwpa', 'awpp', 'aj2w', 'abs6'],\n",
       " ['26aa', 'a6bp', 'ajpb', 'apa2'],\n",
       " ['ps6a', 'abbj', 'abpw', 'as62'],\n",
       " ['2asa', 'apj', 'awjb', 'aa26'],\n",
       " ['saa', 'as6j', 'asbs', 'aas6'],\n",
       " ['622a', 'a62j', 'a26b', 'a226'],\n",
       " ['bbaa', 'aa6j', 'a2wb', 'a2j6'],\n",
       " ['j6wa', 'ap', 'awaw', 'asb6'],\n",
       " ['jasa', 'aa2j', 'as2w', 'aaw6'],\n",
       " ['as2a', 'ajj', 'aj6w', 'aj2'],\n",
       " ['bsba', 'ajj', 'a66s', 'aws6'],\n",
       " ['6wsa', 'aawp', 'abs', 'aw62'],\n",
       " ['ba6a', 'aw6p', 'a2jw', 'abs6'],\n",
       " ['2sja', 'awwp', 'asps', 'ass6'],\n",
       " ['pswa', 'abp', 'apbb', 'aj6'],\n",
       " ['sbwa', 'ajap', 'awjs', 'aja2'],\n",
       " ['w2ba', 'asj', 'ap2w', 'a622'],\n",
       " ['wppa', 'aw6p', 'abbb', 'ap66'],\n",
       " ['262a', 'aawp', 'appw', 'aw26'],\n",
       " ['22ba', 'awaj', 'aww', 'ab22'],\n",
       " ['6saa', 'aw6p', 'awsb', 'aw2'],\n",
       " ['wbaa', 'asbp', 'as6b', 'aj2'],\n",
       " ['sssa', 'aabp', 'ajbb', 'awb6'],\n",
       " ['sbaa', 'aapj', 'as2s', 'ab22'],\n",
       " ['awsa', 'a2pj', 'a6jw', 'ab22'],\n",
       " ['s2a', 'awj', 'ajjs', 'aap2'],\n",
       " ['ajaa', 'awjj', 'a2sw', 'awb2'],\n",
       " ['ppba', 'aaj', 'apwb', 'ap62'],\n",
       " ['baa', 'abbj', 'a6jb', 'a26'],\n",
       " ['62sa', 'awpp', 'asab', 'aa6'],\n",
       " ['ajpa', 'absj', 'aj6b', 'ajw6'],\n",
       " ['jwpa', 'a6sj', 'a2bw', 'aw22'],\n",
       " ['w6aa', 'apap', 'asas', 'awa2'],\n",
       " ['aapa', 'abap', 'awpw', 'aap2'],\n",
       " ['sa', 'a2pp', 'as2s', 'aja2'],\n",
       " ['j6pa', 'aabj', 'assb', 'aj62'],\n",
       " ['226a', 'a2sj', 'ab', 'aww6']]"
      ]
     },
     "execution_count": 34,
     "metadata": {},
     "output_type": "execute_result"
    }
   ],
   "source": [
    "trilinks"
   ]
  },
  {
   "cell_type": "markdown",
   "metadata": {},
   "source": [
    "Next we consider how we made specify one of the ends for this link. It would make sense to have the Teams classifier be able to a Feature that calls out all players associated with the team, and perhaps to further filter this by year."
   ]
  },
  {
   "cell_type": "code",
   "execution_count": 35,
   "metadata": {},
   "outputs": [
    {
     "data": {
      "text/plain": [
       "[['pbba', 'ajjp', 'a22b', 'abp2'],\n",
       " ['622a', 'a62j', 'a26b', 'a226'],\n",
       " ['6p2a', 'apjj', 'a2bb', 'awp2'],\n",
       " ['ajba', 'a6aj', 'a2bw', 'a6a2'],\n",
       " ['jwpa', 'a6sj', 'a2bw', 'aw22'],\n",
       " ['sp2a', 'aw2p', 'a2js', 'a2w6'],\n",
       " ['swsa', 'ap6p', 'a2jw', 'aw62'],\n",
       " ['ba6a', 'aw6p', 'a2jw', 'abs6'],\n",
       " ['6waa', 'asj', 'a2pb', 'ajp2'],\n",
       " ['ajaa', 'awjj', 'a2sw', 'awb2'],\n",
       " ['2psa', 'ajap', 'a2w', 'a2j6'],\n",
       " ['bbaa', 'aa6j', 'a2wb', 'a2j6'],\n",
       " ['pbsa', 'aa2j', 'a2ww', 'ab62'],\n",
       " ['26wa', 'asbj', 'a66b', 'aj22'],\n",
       " ['bsba', 'ajj', 'a66s', 'aws6'],\n",
       " ['sa', 'aapj', 'a6as', 'as2'],\n",
       " ['bbwa', 'aj2p', 'a6bw', 'ajb2'],\n",
       " ['baja', 'ajwj', 'a6jb', 'aa6'],\n",
       " ['baa', 'abbj', 'a6jb', 'a26'],\n",
       " ['a6sa', 'asjj', 'a6js', 'aj22'],\n",
       " ['b66a', 'abpp', 'a6jw', 'awb6'],\n",
       " ['awsa', 'a2pj', 'a6jw', 'ab22'],\n",
       " ['pa', 'apwj', 'a6s', 'asw6'],\n",
       " ['6swa', 'asaj', 'a6w', 'aaj6'],\n",
       " ['aaa', 'a2pj', 'aaab', 'asa2'],\n",
       " ['awpa', 'awaj', 'aapb', 'apw2'],\n",
       " ['6p6a', 'apaj', 'aasw', 'aap2'],\n",
       " ['6paa', 'aswp', 'ab', 'aja6'],\n",
       " ['sa', 'assj', 'ab', 'a662'],\n",
       " ['226a', 'a2sj', 'ab', 'aww6'],\n",
       " ['wb2a', 'a2bp', 'ab2b', 'awa2'],\n",
       " ['26aa', 'absj', 'ab6s', 'awa2'],\n",
       " ['sa2a', 'apjp', 'abas', 'awp2'],\n",
       " ['wppa', 'aw6p', 'abbb', 'ap66'],\n",
       " ['6wja', 'abbp', 'abjw', 'as2'],\n",
       " ['bw2a', 'ajjp', 'abps', 'asj2'],\n",
       " ['pwwa', 'asaj', 'abpw', 'aa2'],\n",
       " ['ps6a', 'abbj', 'abpw', 'as62'],\n",
       " ['6wsa', 'aawp', 'abs', 'aw62'],\n",
       " ['p2a', 'ab2j', 'absb', 'abw6'],\n",
       " ['sj6a', 'aj', 'abw', 'a2p6'],\n",
       " ['a', 'ajpj', 'abw', 'a2a2'],\n",
       " ['b6wa', 'aaj', 'abww', 'aj22'],\n",
       " ['bwpa', 'awpp', 'aj2w', 'abs6'],\n",
       " ['ajpa', 'absj', 'aj6b', 'ajw6'],\n",
       " ['as2a', 'ajj', 'aj6w', 'aj2'],\n",
       " ['jsa', 'a22j', 'ajbb', 'awj6'],\n",
       " ['sssa', 'aabp', 'ajbb', 'awb6'],\n",
       " ['asba', 'apjp', 'ajbs', 'apa6'],\n",
       " ['bpwa', 'absp', 'ajjb', 'apa6'],\n",
       " ['s2a', 'awj', 'ajjs', 'aap2'],\n",
       " ['s2pa', 'a2pp', 'ajjw', 'asb2'],\n",
       " ['b2aa', 'apwj', 'ajpb', 'ajj6'],\n",
       " ['waa', 'ab2p', 'ajpb', 'a66'],\n",
       " ['26aa', 'a6bp', 'ajpb', 'apa2'],\n",
       " ['j6a', 'abp', 'ajs', 'a26'],\n",
       " ['jaaa', 'ab2j', 'ajsb', 'aaa6'],\n",
       " ['wpwa', 'aj6p', 'ajww', 'as62'],\n",
       " ['wa6a', 'aa6j', 'ap2b', 'as22'],\n",
       " ['w2ba', 'asj', 'ap2w', 'a622'],\n",
       " ['b2ba', 'ajsp', 'apab', 'ajp2'],\n",
       " ['bjaa', 'a22j', 'apas', 'a2s2'],\n",
       " ['bja', 'aw2j', 'apas', 'a2s2'],\n",
       " ['pswa', 'abp', 'apbb', 'aj6'],\n",
       " ['p6aa', 'aaap', 'apjs', 'apw2'],\n",
       " ['wjpa', 'awpp', 'apps', 'aj2'],\n",
       " ['b6aa', 'asjj', 'appw', 'a662'],\n",
       " ['262a', 'aawp', 'appw', 'aw26'],\n",
       " ['jsaa', 'ajj', 'apsw', 'aj26'],\n",
       " ['ppba', 'aaj', 'apwb', 'ap62'],\n",
       " ['sbaa', 'aapj', 'as2s', 'ab22'],\n",
       " ['sa', 'a2pp', 'as2s', 'aja2'],\n",
       " ['pa', 'apwj', 'as2w', 'as66'],\n",
       " ['jasa', 'aa2j', 'as2w', 'aaw6'],\n",
       " ['jpba', 'asap', 'as6b', 'aj26'],\n",
       " ['wbaa', 'asbp', 'as6b', 'aj2'],\n",
       " ['swsa', 'appp', 'as6w', 'aw66'],\n",
       " ['62sa', 'awpp', 'asab', 'aa6'],\n",
       " ['w6aa', 'apap', 'asas', 'awa2'],\n",
       " ['pjja', 'apwj', 'asb', 'ap22'],\n",
       " ['saa', 'as6j', 'asbs', 'aas6'],\n",
       " ['2sja', 'awwp', 'asps', 'ass6'],\n",
       " ['j6pa', 'aabj', 'assb', 'aj62'],\n",
       " ['sp6a', 'abbj', 'aswb', 'abj2'],\n",
       " ['bbaa', 'appj', 'aw2s', 'as62'],\n",
       " ['pasa', 'aswp', 'aw6b', 'ajb2'],\n",
       " ['sawa', 'a2sj', 'aw6w', 'apw6'],\n",
       " ['w26a', 'apbj', 'awab', 'a6p2'],\n",
       " ['pppa', 'asaj', 'awas', 'a6w2'],\n",
       " ['j6wa', 'ap', 'awaw', 'asb6'],\n",
       " ['2asa', 'apj', 'awjb', 'aa26'],\n",
       " ['sbwa', 'ajap', 'awjs', 'aja2'],\n",
       " ['pasa', 'ajwj', 'awjw', 'a2a6'],\n",
       " ['b66a', 'abjp', 'awps', 'abs2'],\n",
       " ['sbpa', 'a6wp', 'awpw', 'ap22'],\n",
       " ['aapa', 'abap', 'awpw', 'aap2'],\n",
       " ['6saa', 'aw6p', 'awsb', 'aw2'],\n",
       " ['2j2a', 'a2sj', 'awsw', 'aa66'],\n",
       " ['22ba', 'awaj', 'aww', 'ab22'],\n",
       " ['aa6a', 'assp', 'awws', 'as26']]"
      ]
     },
     "execution_count": 35,
     "metadata": {},
     "output_type": "execute_result"
    }
   ],
   "source": [
    "team_trilinks = sorted(trilinks,key=lambda x: x[2])\n",
    "team_trilinks"
   ]
  },
  {
   "cell_type": "code",
   "execution_count": 38,
   "metadata": {},
   "outputs": [
    {
     "data": {
      "text/plain": [
       "{'a22b': ['ajjp'],\n",
       " 'ajjs': ['awj'],\n",
       " 'abbb': ['aw6p'],\n",
       " 'a6w': ['asaj'],\n",
       " 'ajww': ['aj6p'],\n",
       " 'a6jb': ['ajwj', 'abbj'],\n",
       " 'asab': ['awpp'],\n",
       " 'a2bb': ['apjj'],\n",
       " 'abpw': ['asaj', 'abbj'],\n",
       " 'a6jw': ['abpp', 'a2pj'],\n",
       " 'ajs': ['abp'],\n",
       " 'aww': ['awaj'],\n",
       " 'awpw': ['a6wp', 'abap'],\n",
       " 'abps': ['ajjp'],\n",
       " 'awab': ['apbj'],\n",
       " 'abww': ['aaj'],\n",
       " 'ap2w': ['asj'],\n",
       " 'apsw': ['ajj'],\n",
       " 'a6as': ['aapj'],\n",
       " 'aswb': ['abbj'],\n",
       " 'ab6s': ['absj'],\n",
       " 'apwb': ['aaj'],\n",
       " 'assb': ['aabj'],\n",
       " 'abjw': ['abbp'],\n",
       " 'awjb': ['apj'],\n",
       " 'apjs': ['aaap'],\n",
       " 'a6bw': ['aj2p'],\n",
       " 'ajsb': ['ab2j'],\n",
       " 'ajjw': ['a2pp'],\n",
       " 'asas': ['apap'],\n",
       " 'aj6b': ['absj'],\n",
       " 'apab': ['ajsp'],\n",
       " 'a2js': ['aw2p'],\n",
       " 'awjw': ['ajwj'],\n",
       " 'ajjb': ['absp'],\n",
       " 'aw6b': ['aswp'],\n",
       " 'aasw': ['apaj'],\n",
       " 'a2pb': ['asj'],\n",
       " 'aw2s': ['appj'],\n",
       " 'awaw': ['ap'],\n",
       " 'awjs': ['ajap'],\n",
       " 'abw': ['aj', 'ajpj'],\n",
       " 'a66b': ['asbj'],\n",
       " 'asbs': ['as6j'],\n",
       " 'awsb': ['aw6p'],\n",
       " 'awps': ['abjp'],\n",
       " 'as2s': ['aapj', 'a2pp'],\n",
       " 'abs': ['aawp'],\n",
       " 'a6js': ['asjj'],\n",
       " 'ajbs': ['apjp'],\n",
       " 'apps': ['awpp'],\n",
       " 'as6b': ['asap', 'asbp'],\n",
       " 'awws': ['assp'],\n",
       " 'a2sw': ['awjj'],\n",
       " 'a2bw': ['a6aj', 'a6sj'],\n",
       " 'aaab': ['a2pj'],\n",
       " 'asb': ['apwj'],\n",
       " 'ap2b': ['aa6j'],\n",
       " 'ajpb': ['apwj', 'ab2p', 'a6bp'],\n",
       " 'asps': ['awwp'],\n",
       " 'a66s': ['ajj'],\n",
       " 'aj6w': ['ajj'],\n",
       " 'ajbb': ['a22j', 'aabp'],\n",
       " 'as6w': ['appp'],\n",
       " 'abas': ['apjp'],\n",
       " 'a2w': ['ajap'],\n",
       " 'ab': ['aswp', 'assj', 'a2sj'],\n",
       " 'as2w': ['apwj', 'aa2j'],\n",
       " 'awas': ['asaj'],\n",
       " 'aw6w': ['a2sj'],\n",
       " 'appw': ['asjj', 'aawp'],\n",
       " 'a2wb': ['aa6j'],\n",
       " 'ab2b': ['a2bp'],\n",
       " 'aj2w': ['awpp'],\n",
       " 'awsw': ['a2sj'],\n",
       " 'a2ww': ['aa2j'],\n",
       " 'absb': ['ab2j'],\n",
       " 'a2jw': ['ap6p', 'aw6p'],\n",
       " 'apas': ['a22j', 'aw2j'],\n",
       " 'a6s': ['apwj'],\n",
       " 'a26b': ['a62j'],\n",
       " 'aapb': ['awaj'],\n",
       " 'apbb': ['abp']}"
      ]
     },
     "execution_count": 38,
     "metadata": {},
     "output_type": "execute_result"
    }
   ],
   "source": [
    "team_sliced = {}\n",
    "for uni in set([p[2] for p in team_trilinks]):\n",
    "    local = []\n",
    "    for trilink in trilinks:\n",
    "        if trilink[2] == uni:\n",
    "            local.append(trilink[1])\n",
    "    team_sliced.update({uni: local})\n",
    "    \n",
    "team_sliced"
   ]
  },
  {
   "cell_type": "code",
   "execution_count": null,
   "metadata": {},
   "outputs": [],
   "source": []
  }
 ],
 "metadata": {
  "kernelspec": {
   "display_name": "Python 3",
   "language": "python",
   "name": "python3"
  },
  "language_info": {
   "codemirror_mode": {
    "name": "ipython",
    "version": 3
   },
   "file_extension": ".py",
   "mimetype": "text/x-python",
   "name": "python",
   "nbconvert_exporter": "python",
   "pygments_lexer": "ipython3",
   "version": "3.7.2"
  }
 },
 "nbformat": 4,
 "nbformat_minor": 2
}
