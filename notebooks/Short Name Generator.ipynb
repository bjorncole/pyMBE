{
 "cells": [
  {
   "cell_type": "markdown",
   "id": "declared-series",
   "metadata": {},
   "source": [
    "# Why?\n",
    "It is important to have a deterministic and robust way to shorten names of elements, it is a problem that comes up over and over again.\n",
    "\n",
    "# Plan\n",
    "1. Have a global mapper that stores identities and their shortest name\n",
    "2. As names are processed, their shortest name is determined by string.split()\n",
    "3. If name exists, that name is expanded and the name that is being shorted is expanded\n",
    "4. If a name is fully duplicated, they are assigned #1 and #2 (and so forth)"
   ]
  },
  {
   "cell_type": "code",
   "execution_count": null,
   "id": "saving-memorabilia",
   "metadata": {},
   "outputs": [],
   "source": [
    "test_names = [\n",
    "    \"SR-71 Blackbird\",\n",
    "    \"SR-71\",\n",
    "    \"SR-71 Canopy\",\n",
    "    \"F-14B Tomcat\",\n",
    "    \"F-14A Tomcat\",\n",
    "    \"Red Tesla Model X\",\n",
    "    \"Red Tesla Model S\",\n",
    "    \"Blue Tesla Model Y\",\n",
    "    \"Black Tesla Model 3\",\n",
    "    \"Black Tesla Model 3\",  # duplicate name\n",
    "    \"James Doe\",\n",
    "    \"James Smith\",\n",
    "    \"James Smith Carrigan\",\n",
    "]"
   ]
  },
  {
   "cell_type": "code",
   "execution_count": null,
   "id": "reverse-cotton",
   "metadata": {},
   "outputs": [],
   "source": [
    "short_names = {}\n",
    "\n",
    "def shorten_name(element, other_name=None):\n",
    "    long_name, terms = element[\"name\"], []\n",
    "    found_unique = False\n",
    "    for i, term in enumerate(long_name.split()):\n",
    "        terms += [term]\n",
    "        new_name = \" \".join(terms)\n",
    "        if new_name in short_names.values():\n",
    "            other_id = [\n",
    "                id_\n",
    "                for id_, name in short_names.items()\n",
    "                if name == new_name\n",
    "            ][0]\n",
    "            shorten_name(element, other_name=)\n",
    "        else:\n",
    "            found_unique = True\n",
    "            break\n",
    "    \n",
    "    short_names[element[\"@id\"]] = new_name"
   ]
  }
 ],
 "metadata": {
  "kernelspec": {
   "display_name": "Python 3",
   "language": "python",
   "name": "python3"
  },
  "language_info": {
   "codemirror_mode": {
    "name": "ipython",
    "version": 3
   },
   "file_extension": ".py",
   "mimetype": "text/x-python",
   "name": "python",
   "nbconvert_exporter": "python",
   "pygments_lexer": "ipython3",
   "version": "3.9.2"
  }
 },
 "nbformat": 4,
 "nbformat_minor": 5
}
