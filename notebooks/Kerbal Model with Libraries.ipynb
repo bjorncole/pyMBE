{
 "cells": [
  {
   "cell_type": "markdown",
   "id": "capital-sacrifice",
   "metadata": {},
   "source": [
    "# Part Combination Space Exploration\n",
    "\n",
    "This is a notebook developed to leverage the new SysML v2 semantics for nested features and instantiation of models to generate instances of M1 system models as feedstock for analysis pipelines."
   ]
  },
  {
   "cell_type": "code",
   "execution_count": 1,
   "id": "understood-photography",
   "metadata": {},
   "outputs": [],
   "source": [
    "import requests\n",
    "import getpass\n",
    "import math\n",
    "\n",
    "from __future__ import print_function\n",
    "\n",
    "import time\n",
    "import sysml_v2_api_client\n",
    "from sysml_v2_api_client.rest import ApiException\n",
    "from pprint import pprint\n",
    "\n",
    "import json\n",
    "import networkx as NX\n",
    "import matplotlib.pyplot as plt\n",
    "\n",
    "import random\n",
    "import copy\n",
    "\n",
    "from model_interpretation.model_loading import ModelingSession as Session"
   ]
  },
  {
   "cell_type": "markdown",
   "id": "careful-punch",
   "metadata": {},
   "source": [
    "# Configure API Server Connection"
   ]
  },
  {
   "cell_type": "code",
   "execution_count": 2,
   "id": "intended-adoption",
   "metadata": {},
   "outputs": [],
   "source": [
    "sysml_api_base_url = 'http://sysml2-sst.intercax.com:9000'"
   ]
  },
  {
   "cell_type": "markdown",
   "id": "joint-sense",
   "metadata": {},
   "source": [
    "## Activate APIs\n",
    "\n",
    "Connect the API classes to the server"
   ]
  },
  {
   "cell_type": "code",
   "execution_count": 3,
   "id": "introductory-medium",
   "metadata": {},
   "outputs": [],
   "source": [
    "configuration = sysml_v2_api_client.Configuration(\n",
    "    host = sysml_api_base_url\n",
    ")\n",
    "\n",
    "projects_api_instance = None\n",
    "\n",
    "with sysml_v2_api_client.ApiClient(configuration) as api_client:\n",
    "    # Create an instance of the API class\n",
    "    project_api_instance = sysml_v2_api_client.ProjectApi(api_client)\n",
    "    \n",
    "commits_api_instance = None\n",
    "\n",
    "with sysml_v2_api_client.ApiClient(configuration) as api_client:\n",
    "    # Create an instance of the API class\n",
    "    commits_api_instance = sysml_v2_api_client.CommitApi(api_client)\n",
    "    \n",
    "elements_api_instance = None\n",
    "\n",
    "with sysml_v2_api_client.ApiClient(configuration) as api_client:\n",
    "    # Create an instance of the API class\n",
    "    elements_api_instance = sysml_v2_api_client.ElementApi(api_client)"
   ]
  },
  {
   "cell_type": "markdown",
   "id": "nasty-commitment",
   "metadata": {},
   "source": [
    "## Pull down commits and elements catalogs\n",
    "\n",
    "With the API handles, use the pre-built methods to get lists of commits and elements."
   ]
  },
  {
   "cell_type": "code",
   "execution_count": 4,
   "id": "hearing-plate",
   "metadata": {},
   "outputs": [
    {
     "data": {
      "text/plain": [
       "<sysml_v2_api_client.api.project_api.ProjectApi at 0x1b9a9f8c2e0>"
      ]
     },
     "execution_count": 4,
     "metadata": {},
     "output_type": "execute_result"
    }
   ],
   "source": [
    "project_api_instance"
   ]
  },
  {
   "cell_type": "code",
   "execution_count": 5,
   "id": "extended-zoning",
   "metadata": {},
   "outputs": [
    {
     "data": {
      "text/plain": [
       "{'id': '03e3cdfe-8d90-4fc3-a414-9a188203d349',\n",
       " 'name': 'Kerbal Sat Mar 13 14:07:34 UTC 2021',\n",
       " 'type': 'Project'}"
      ]
     },
     "execution_count": 5,
     "metadata": {},
     "output_type": "execute_result"
    }
   ],
   "source": [
    "kerbal_proj = [my_proj for my_proj in project_api_instance.get_projects() if my_proj.name.find('Kerbal') > -1][0]\n",
    "kerbal_proj"
   ]
  },
  {
   "cell_type": "code",
   "execution_count": 6,
   "id": "typical-pilot",
   "metadata": {},
   "outputs": [
    {
     "name": "stdout",
     "output_type": "stream",
     "text": [
      "[{'change': None,\n",
      " 'containing_project': {'id': '03e3cdfe-8d90-4fc3-a414-9a188203d349'},\n",
      " 'id': 'e8d87282-87a8-4b3e-8d42-2ecc73aa5b74',\n",
      " 'previous_commit': None,\n",
      " 'type': 'Commit'}]\n"
     ]
    }
   ],
   "source": [
    "try:\n",
    "    # Get commits by project\n",
    "    commits_response = commits_api_instance.get_commits_by_project(kerbal_proj.id)\n",
    "    pprint(commits_response)\n",
    "except ApiException as e:\n",
    "    print(\"Exception when calling CommitApi->get_commits_by_project: %s\\n\" % e)"
   ]
  },
  {
   "cell_type": "code",
   "execution_count": 7,
   "id": "homeless-finnish",
   "metadata": {},
   "outputs": [],
   "source": [
    "elements = []\n",
    "\n",
    "try:\n",
    "    # Get commits by project\n",
    "    elements = elements_api_instance.get_elements_by_project_commit(kerbal_proj.id, commits_response[0].id)\n",
    "except ApiException as e:\n",
    "    print(\"Exception when calling ElementApi->get_elements_by_project_commit: %s\\n\" % e)"
   ]
  },
  {
   "cell_type": "code",
   "execution_count": 8,
   "id": "warming-julian",
   "metadata": {},
   "outputs": [
    {
     "data": {
      "text/plain": [
       "100"
      ]
     },
     "execution_count": 8,
     "metadata": {},
     "output_type": "execute_result"
    }
   ],
   "source": [
    "len(elements)"
   ]
  },
  {
   "cell_type": "code",
   "execution_count": 9,
   "id": "usual-belle",
   "metadata": {},
   "outputs": [
    {
     "name": "stdout",
     "output_type": "stream",
     "text": [
      "{'id': '000f78ae-e890-4f81-847c-f9bf976abe1b',\n",
      " 'identifier': '000f78ae-e890-4f81-847c-f9bf976abe1b',\n",
      " 'type': 'PartUsage'}\n"
     ]
    }
   ],
   "source": [
    "pprint(elements[0])"
   ]
  },
  {
   "cell_type": "markdown",
   "id": "closing-clark",
   "metadata": {},
   "source": [
    "# Gather Element Data\n",
    "\n",
    "Since the generated API doesn't have much detail for elements, need to do this more hands-on.\n",
    "\n",
    "Not elegant below to just have a larger page size, should implement paging later on."
   ]
  },
  {
   "cell_type": "code",
   "execution_count": 10,
   "id": "narrative-samoa",
   "metadata": {},
   "outputs": [],
   "source": [
    "elements_url = (sysml_api_base_url +\n",
    "                '/projects/{0}/commits/{1}/elements?page[size]=2000').format(kerbal_proj.id, commits_response[0].id)"
   ]
  },
  {
   "cell_type": "code",
   "execution_count": 11,
   "id": "rational-worcester",
   "metadata": {},
   "outputs": [
    {
     "data": {
      "text/plain": [
       "'http://sysml2-sst.intercax.com:9000/projects/03e3cdfe-8d90-4fc3-a414-9a188203d349/commits/e8d87282-87a8-4b3e-8d42-2ecc73aa5b74/elements?page[size]=2000'"
      ]
     },
     "execution_count": 11,
     "metadata": {},
     "output_type": "execute_result"
    }
   ],
   "source": [
    "elements_url"
   ]
  },
  {
   "cell_type": "code",
   "execution_count": 12,
   "id": "closed-microphone",
   "metadata": {},
   "outputs": [],
   "source": [
    "elements_response = requests.get(\n",
    "    elements_url\n",
    ")"
   ]
  },
  {
   "cell_type": "code",
   "execution_count": 13,
   "id": "caring-headline",
   "metadata": {},
   "outputs": [],
   "source": [
    "elements_data = elements_response.json()"
   ]
  },
  {
   "cell_type": "markdown",
   "id": "postal-appearance",
   "metadata": {},
   "source": [
    "Split the elements into relationships and non-relationships. This will let us work with graph representations and a graph understanding of the underlying model."
   ]
  },
  {
   "cell_type": "code",
   "execution_count": 14,
   "id": "dynamic-wednesday",
   "metadata": {},
   "outputs": [
    {
     "data": {
      "text/plain": [
       "506"
      ]
     },
     "execution_count": 14,
     "metadata": {},
     "output_type": "execute_result"
    }
   ],
   "source": [
    "len(elements_data)"
   ]
  },
  {
   "cell_type": "code",
   "execution_count": 15,
   "id": "instructional-stick",
   "metadata": {},
   "outputs": [],
   "source": [
    "non_relations = [non_relation for non_relation in elements_data if not 'relatedElement' in non_relation]"
   ]
  },
  {
   "cell_type": "code",
   "execution_count": 16,
   "id": "infectious-rough",
   "metadata": {},
   "outputs": [],
   "source": [
    "relations = [relation for relation in elements_data if 'relatedElement' in relation]"
   ]
  },
  {
   "cell_type": "code",
   "execution_count": 17,
   "id": "quality-breath",
   "metadata": {},
   "outputs": [
    {
     "data": {
      "text/plain": [
       "212"
      ]
     },
     "execution_count": 17,
     "metadata": {},
     "output_type": "execute_result"
    }
   ],
   "source": [
    "len(non_relations)"
   ]
  },
  {
   "cell_type": "code",
   "execution_count": 18,
   "id": "copyrighted-median",
   "metadata": {},
   "outputs": [
    {
     "data": {
      "text/plain": [
       "294"
      ]
     },
     "execution_count": 18,
     "metadata": {},
     "output_type": "execute_result"
    }
   ],
   "source": [
    "len(relations)"
   ]
  },
  {
   "cell_type": "markdown",
   "id": "informal-auction",
   "metadata": {},
   "source": [
    "Survey which and how many metatypes are in the model."
   ]
  },
  {
   "cell_type": "code",
   "execution_count": 19,
   "id": "grand-montgomery",
   "metadata": {},
   "outputs": [
    {
     "data": {
      "text/plain": [
       "['PartUsage',\n",
       " 'Redefinition',\n",
       " 'EndFeatureMembership',\n",
       " 'FeatureMembership',\n",
       " 'LiteralInteger',\n",
       " 'AttributeUsage',\n",
       " 'Subsetting',\n",
       " 'Membership',\n",
       " 'FeatureValue',\n",
       " 'Superclassing',\n",
       " 'ReturnParameterMembership',\n",
       " 'LiteralReal',\n",
       " 'Succession',\n",
       " 'ActionUsage',\n",
       " 'Feature',\n",
       " 'FeatureReferenceExpression',\n",
       " 'PartDefinition',\n",
       " 'MultiplicityRange',\n",
       " 'ResultExpressionMembership',\n",
       " 'SourceEnd',\n",
       " 'FeatureTyping',\n",
       " 'TransitionFeatureMembership',\n",
       " 'ReferenceUsage',\n",
       " 'Expression',\n",
       " 'ItemDefinition',\n",
       " 'Import',\n",
       " 'ParameterMembership',\n",
       " 'TargetEnd',\n",
       " 'AcceptActionUsage',\n",
       " 'Package',\n",
       " 'TransitionUsage',\n",
       " 'OperatorExpression',\n",
       " 'StateUsage',\n",
       " 'InvocationExpression',\n",
       " 'StateDefinition',\n",
       " 'ActionDefinition',\n",
       " 'Function']"
      ]
     },
     "execution_count": 19,
     "metadata": {},
     "output_type": "execute_result"
    }
   ],
   "source": [
    "metatypes = []\n",
    "for nr in elements_data:\n",
    "    if nr['@type'] not in metatypes:\n",
    "        metatypes.append(nr['@type'])\n",
    "        \n",
    "metatypes"
   ]
  },
  {
   "cell_type": "markdown",
   "id": "fewer-confidence",
   "metadata": {},
   "source": [
    "Create a working session for the model and feed it the serialized data. The working session will also generate useful graphs to inspect later in this workbook."
   ]
  },
  {
   "cell_type": "code",
   "execution_count": 20,
   "id": "royal-genome",
   "metadata": {},
   "outputs": [],
   "source": [
    "working_model = Session()\n",
    "working_model.thaw_json_data(elements_data)"
   ]
  },
  {
   "cell_type": "markdown",
   "id": "tribal-tongue",
   "metadata": {},
   "source": [
    "## Show Computed Graphs"
   ]
  },
  {
   "cell_type": "markdown",
   "id": "figured-edition",
   "metadata": {},
   "source": [
    "### Superclassing Graph"
   ]
  },
  {
   "cell_type": "code",
   "execution_count": 28,
   "id": "delayed-cycling",
   "metadata": {},
   "outputs": [
    {
     "data": {
      "image/png": "[encoded data removed]",
      "text/plain": [
       "<Figure size 1440x864 with 1 Axes>"
      ]
     },
     "metadata": {},
     "output_type": "display_data"
    }
   ],
   "source": [
    "super_labels = NX.get_node_attributes(working_model.graph_manager.superclassing_graph,'name')\n",
    "\n",
    "plt.figure(figsize=(20, 12))\n",
    "\n",
    "NX.draw_planar(working_model.graph_manager.superclassing_graph,\n",
    "               labels=super_labels)"
   ]
  },
  {
   "cell_type": "markdown",
   "id": "measured-envelope",
   "metadata": {},
   "source": [
    "### Banded Attribute Graph"
   ]
  },
  {
   "cell_type": "code",
   "execution_count": 39,
   "id": "processed-radio",
   "metadata": {},
   "outputs": [
    {
     "data": {
      "image/png": "[encoded data removed]",
      "text/plain": [
       "<Figure size 1440x864 with 1 Axes>"
      ]
     },
     "metadata": {},
     "output_type": "display_data"
    }
   ],
   "source": [
    "banded_labels = NX.get_node_attributes(working_model.graph_manager.banded_featuring_graph,'name')\n",
    "\n",
    "edge_kinds = NX.get_edge_attributes(working_model.graph_manager.banded_featuring_graph,'kind')\n",
    "colors = {}\n",
    "\n",
    "for key, value in edge_kinds.items():\n",
    "    if value == 'Superclassing':\n",
    "        colors.update({key: 'b'})\n",
    "    elif value == 'FeatureTyping':\n",
    "        colors.update({key: 'g'})\n",
    "    elif value == 'FeatureMembership':\n",
    "        colors.update({key: 'r'})\n",
    "\n",
    "plt.figure(figsize=(20, 12))\n",
    "\n",
    "NX.draw_planar(working_model.graph_manager.banded_featuring_graph,\n",
    "               labels=banded_labels,\n",
    "              edge_color=colors.values())"
   ]
  },
  {
   "cell_type": "markdown",
   "id": "devoted-blowing",
   "metadata": {},
   "source": [
    "## Inspect Part Usages"
   ]
  },
  {
   "cell_type": "code",
   "execution_count": 22,
   "id": "religious-module",
   "metadata": {},
   "outputs": [],
   "source": [
    "part_uses = working_model.get_all_of_metaclass(metaclass_name='PartUsage')"
   ]
  },
  {
   "cell_type": "code",
   "execution_count": 24,
   "id": "rolled-arctic",
   "metadata": {},
   "outputs": [
    {
     "data": {
      "text/plain": [
       "5"
      ]
     },
     "execution_count": 24,
     "metadata": {},
     "output_type": "execute_result"
    }
   ],
   "source": [
    "len(part_uses)"
   ]
  },
  {
   "cell_type": "code",
   "execution_count": 27,
   "id": "sharing-resource",
   "metadata": {},
   "outputs": [
    {
     "data": {
      "text/plain": [
       "['tanks has multiplicity 0..30',\n",
       " 'boosters has multiplicity 0..8',\n",
       " 'Coupler to Carrying Stage has multiplicity 0..8',\n",
       " 'engines has multiplicity 0..8',\n",
       " 'stages has multiplicity 1..5']"
      ]
     },
     "execution_count": 27,
     "metadata": {},
     "output_type": "execute_result"
    }
   ],
   "source": [
    "['{0} has multiplicity {1}..{2}'.format(\n",
    "    part_use['name'],\n",
    "    working_model.feature_lower_multiplicity(part_use['@id']),\n",
    "    working_model.feature_upper_multiplicity(part_use['@id'])\n",
    ") for part_use in part_uses]"
   ]
  },
  {
   "cell_type": "markdown",
   "id": "rapid-issue",
   "metadata": {},
   "source": [
    "Get feature types."
   ]
  },
  {
   "cell_type": "code",
   "execution_count": 24,
   "id": "damaged-myrtle",
   "metadata": {},
   "outputs": [],
   "source": [
    "feature_types = [feature_type for feature_type in relations if feature_type['@type'] == 'FeatureTyping']"
   ]
  },
  {
   "cell_type": "markdown",
   "id": "valid-production",
   "metadata": {},
   "source": [
    "# Refactor still in progress below this line"
   ]
  },
  {
   "cell_type": "markdown",
   "id": "rural-running",
   "metadata": {},
   "source": [
    "# Generate Instances\n",
    "\n",
    "With the base semantic model in hand, begin to apply the rules to generate our system alternatives."
   ]
  },
  {
   "cell_type": "markdown",
   "id": "ignored-civilization",
   "metadata": {},
   "source": [
    "## Find number of instances for feature last positions\n",
    "\n",
    "In SysML, the default type is PartDefinition, which is a Classifier, meaning the minimal interpretation of length one (the specific instance). Nesting parts then have an interpretation as expected by systems engineers, namely that the instances \"stack\" in order to provide a navigation from top-level assembly to leaf component."
   ]
  },
  {
   "cell_type": "code",
   "execution_count": 53,
   "id": "reported-gathering",
   "metadata": {},
   "outputs": [
    {
     "data": {
      "text/plain": [
       "['tanks needs 30 instances of type Fuel Tank Section',\n",
       " 'boosters needs 8 instances of type Solid Booster',\n",
       " 'Coupler to Carrying Stage needs 8 instances of type Coupler',\n",
       " 'engines needs 8 instances of type Liquid Engine',\n",
       " 'stages needs 5 instances of type Rocket Stage']"
      ]
     },
     "execution_count": 53,
     "metadata": {},
     "output_type": "execute_result"
    }
   ],
   "source": [
    "['{0} needs {1} instances of type {2}'.format(\n",
    "    part_use['name'], feature_upper_multiplicity(part_use), get_feature_type_name(part_use)\n",
    ") for part_use in part_uses]"
   ]
  },
  {
   "cell_type": "markdown",
   "id": "powered-survey",
   "metadata": {},
   "source": [
    "Automatically shorten names so that sequences remain readable when printed."
   ]
  },
  {
   "cell_type": "code",
   "execution_count": 54,
   "id": "empirical-tobago",
   "metadata": {},
   "outputs": [],
   "source": [
    "shorten_pre_bake = {\n",
    "    'RT-10 \"Hammer\" Solid Fuel Booster': \"RT-10\",\n",
    "    'RT-5 \"Flea\" Solid Fuel Booster': \"RT-5\",\n",
    "    'LV-T45 \"Swivel\" Liquid Fuel Engine': \"LV-T45\",\n",
    "    'FL-T100 Fuel Tank': \"FL-T100\",\n",
    "    'FL-T200 Fuel Tank': \"FL-T200\"\n",
    "}"
   ]
  },
  {
   "cell_type": "code",
   "execution_count": 55,
   "id": "northern-movement",
   "metadata": {},
   "outputs": [],
   "source": [
    "def shorten_name(name):\n",
    "    short_name = ''\n",
    "    if len(name) > 5:\n",
    "        if shorten_pre_bake is not None:\n",
    "            if name in shorten_pre_bake:\n",
    "                return shorten_pre_bake[name]\n",
    "        space_place = name.find(' ')\n",
    "        if space_place > -1:\n",
    "            short_name = short_name + name[0]\n",
    "            short_name = short_name + name[space_place + 1]\n",
    "            next_space = name.find(' ', space_place + 1)\n",
    "            while next_space > -1:\n",
    "                short_name = short_name + name[next_space + 1]\n",
    "                next_space = name.find(' ', next_space + 1)\n",
    "            return short_name\n",
    "    return name"
   ]
  },
  {
   "cell_type": "code",
   "execution_count": 56,
   "id": "formal-relay",
   "metadata": {},
   "outputs": [],
   "source": [
    "class Instance():\n",
    "    def __init__(self, name, index):\n",
    "        self.name = shorten_name(name) + '#' + str(index)\n",
    "        \n",
    "    def __repr__(self):\n",
    "        return self.name"
   ]
  },
  {
   "cell_type": "code",
   "execution_count": 57,
   "id": "conventional-grocery",
   "metadata": {},
   "outputs": [],
   "source": [
    "multiplicity_dict = {}\n",
    "\n",
    "for part_use in part_uses:\n",
    "    type_name = get_feature_type_name(part_use)\n",
    "    if type_name in multiplicity_dict:\n",
    "        old_val = multiplicity_dict[part_use]\n",
    "        multiplicity_dict.update({type_name: old_val + feature_upper_multiplicity(part_use)})\n",
    "    else:\n",
    "        multiplicity_dict.update({type_name: feature_upper_multiplicity(part_use)})"
   ]
  },
  {
   "cell_type": "code",
   "execution_count": 58,
   "id": "settled-winning",
   "metadata": {},
   "outputs": [
    {
     "data": {
      "text/plain": [
       "{'Fuel Tank Section': 30,\n",
       " 'Solid Booster': 8,\n",
       " 'Coupler': 8,\n",
       " 'Liquid Engine': 8,\n",
       " 'Rocket Stage': 5}"
      ]
     },
     "execution_count": 58,
     "metadata": {},
     "output_type": "execute_result"
    }
   ],
   "source": [
    "multiplicity_dict"
   ]
  },
  {
   "cell_type": "markdown",
   "id": "editorial-genome",
   "metadata": {},
   "source": [
    "## Determine the size of the universe of instances needed for creating alternatives\n",
    "\n",
    "Use feature membership together with multiplicity to decide how many individuals are needed."
   ]
  },
  {
   "cell_type": "markdown",
   "id": "valued-married",
   "metadata": {},
   "source": [
    "### Building the banded graph\n",
    "\n",
    "Build up a graph with the SysML v1 banded style of part-type-part-type (with superclassing)."
   ]
  },
  {
   "cell_type": "code",
   "execution_count": 37,
   "id": "worse-asbestos",
   "metadata": {},
   "outputs": [],
   "source": [
    "banded_feature_graph = NX.DiGraph()"
   ]
  },
  {
   "cell_type": "code",
   "execution_count": 38,
   "id": "plain-bearing",
   "metadata": {},
   "outputs": [
    {
     "ename": "NameError",
     "evalue": "name 'feature_members' is not defined",
     "output_type": "error",
     "traceback": [
      "\u001b[1;31m---------------------------------------------------------------------------\u001b[0m",
      "\u001b[1;31mNameError\u001b[0m                                 Traceback (most recent call last)",
      "\u001b[1;32m<ipython-input-38-250f7abad173>\u001b[0m in \u001b[0;36m<module>\u001b[1;34m\u001b[0m\n\u001b[1;32m----> 1\u001b[1;33m \u001b[1;32mfor\u001b[0m \u001b[0mfm\u001b[0m \u001b[1;32min\u001b[0m \u001b[0mfeature_members\u001b[0m\u001b[1;33m:\u001b[0m\u001b[1;33m\u001b[0m\u001b[1;33m\u001b[0m\u001b[0m\n\u001b[0m\u001b[0;32m      2\u001b[0m     \u001b[1;32mif\u001b[0m \u001b[0mfm\u001b[0m\u001b[1;33m[\u001b[0m\u001b[1;34m'memberElement'\u001b[0m\u001b[1;33m]\u001b[0m\u001b[1;33m[\u001b[0m\u001b[1;34m'@id'\u001b[0m\u001b[1;33m]\u001b[0m \u001b[1;32min\u001b[0m \u001b[0mid_memo_dict\u001b[0m\u001b[1;33m:\u001b[0m\u001b[1;33m\u001b[0m\u001b[1;33m\u001b[0m\u001b[0m\n\u001b[0;32m      3\u001b[0m         \u001b[1;32mif\u001b[0m \u001b[0mid_memo_dict\u001b[0m\u001b[1;33m[\u001b[0m\u001b[0mfm\u001b[0m\u001b[1;33m[\u001b[0m\u001b[1;34m'memberElement'\u001b[0m\u001b[1;33m]\u001b[0m\u001b[1;33m[\u001b[0m\u001b[1;34m'@id'\u001b[0m\u001b[1;33m]\u001b[0m\u001b[1;33m]\u001b[0m\u001b[1;33m[\u001b[0m\u001b[1;34m'@type'\u001b[0m\u001b[1;33m]\u001b[0m \u001b[1;33m==\u001b[0m \u001b[1;34m'PartUsage'\u001b[0m\u001b[1;33m:\u001b[0m\u001b[1;33m\u001b[0m\u001b[1;33m\u001b[0m\u001b[0m\n\u001b[0;32m      4\u001b[0m             \u001b[0mbanded_feature_graph\u001b[0m\u001b[1;33m.\u001b[0m\u001b[0madd_edge\u001b[0m\u001b[1;33m(\u001b[0m\u001b[0mfm\u001b[0m\u001b[1;33m[\u001b[0m\u001b[1;34m'memberElement'\u001b[0m\u001b[1;33m]\u001b[0m\u001b[1;33m[\u001b[0m\u001b[1;34m'@id'\u001b[0m\u001b[1;33m]\u001b[0m\u001b[1;33m,\u001b[0m \u001b[0mfm\u001b[0m\u001b[1;33m[\u001b[0m\u001b[1;34m'owningType'\u001b[0m\u001b[1;33m]\u001b[0m\u001b[1;33m[\u001b[0m\u001b[1;34m'@id'\u001b[0m\u001b[1;33m]\u001b[0m\u001b[1;33m,\u001b[0m\u001b[0mcolor\u001b[0m\u001b[1;33m=\u001b[0m\u001b[1;34m'r'\u001b[0m\u001b[1;33m)\u001b[0m\u001b[1;33m\u001b[0m\u001b[1;33m\u001b[0m\u001b[0m\n\u001b[0;32m      5\u001b[0m \u001b[1;33m\u001b[0m\u001b[0m\n",
      "\u001b[1;31mNameError\u001b[0m: name 'feature_members' is not defined"
     ]
    }
   ],
   "source": [
    "for fm in feature_members:\n",
    "    if fm['memberElement']['@id'] in id_memo_dict:\n",
    "        if id_memo_dict[fm['memberElement']['@id']]['@type'] == 'PartUsage':\n",
    "            banded_feature_graph.add_edge(fm['memberElement']['@id'], fm['owningType']['@id'],color='r')\n",
    "\n",
    "for ft in feature_types:\n",
    "    if ft['typedFeature']['@id'] in id_memo_dict:\n",
    "        if id_memo_dict[ft['typedFeature']['@id']]['@type'] == 'PartUsage':\n",
    "            banded_feature_graph.add_edge(ft['type']['@id'], ft['typedFeature']['@id'],color='g')\n",
    "            \n",
    "for sup in superclasses:\n",
    "    if sup['specific']['@id'] in id_memo_dict:\n",
    "        banded_feature_graph.add_edge(sup['specific']['@id'], sup['general']['@id'],color='b')"
   ]
  },
  {
   "cell_type": "code",
   "execution_count": 61,
   "id": "roman-blade",
   "metadata": {},
   "outputs": [
    {
     "data": {
      "image/png": "[encoded data removed]",
      "text/plain": [
       "<Figure size 1440x864 with 1 Axes>"
      ]
     },
     "metadata": {},
     "output_type": "display_data"
    }
   ],
   "source": [
    "banded_feature_graph_labels = {}\n",
    "for node in banded_feature_graph.nodes():\n",
    "    banded_feature_graph_labels.update({node: get_name_by_id(node)})\n",
    "    \n",
    "colors = NX.get_edge_attributes(banded_feature_graph,'color').values()\n",
    "\n",
    "plt.figure(figsize=(20, 12))\n",
    "\n",
    "NX.draw_planar(banded_feature_graph, labels=banded_feature_graph_labels, edge_color=colors)"
   ]
  },
  {
   "cell_type": "code",
   "execution_count": 62,
   "id": "catholic-component",
   "metadata": {},
   "outputs": [],
   "source": [
    "part_leaves = [id_memo_dict[node]\n",
    "    for node in part_featuring_graph.nodes\n",
    "        if part_featuring_graph.in_degree(node) == 0]"
   ]
  },
  {
   "cell_type": "code",
   "execution_count": 63,
   "id": "instant-pixel",
   "metadata": {},
   "outputs": [],
   "source": [
    "part_roots = [id_memo_dict[node]\n",
    "    for node in part_featuring_graph.nodes\n",
    "        if part_featuring_graph.out_degree(node) == 0]"
   ]
  },
  {
   "cell_type": "code",
   "execution_count": 64,
   "id": "matched-sender",
   "metadata": {},
   "outputs": [],
   "source": [
    "banded_roots = [id_memo_dict[node]\n",
    "    for node in banded_feature_graph.nodes\n",
    "        if banded_feature_graph.out_degree(node) == 0]"
   ]
  },
  {
   "cell_type": "code",
   "execution_count": 65,
   "id": "monetary-injection",
   "metadata": {},
   "outputs": [
    {
     "data": {
      "text/plain": [
       "['tanks', 'Coupler to Carrying Stage', 'engines', 'boosters']"
      ]
     },
     "execution_count": 65,
     "metadata": {},
     "output_type": "execute_result"
    }
   ],
   "source": [
    "[part_leaf['name'] for part_leaf in part_leaves]"
   ]
  },
  {
   "cell_type": "code",
   "execution_count": 66,
   "id": "civic-completion",
   "metadata": {},
   "outputs": [
    {
     "data": {
      "text/plain": [
       "['Liquid Stage', 'Solid Stage', 'Rocket']"
      ]
     },
     "execution_count": 66,
     "metadata": {},
     "output_type": "execute_result"
    }
   ],
   "source": [
    "[part_root['name'] for part_root in part_roots]"
   ]
  },
  {
   "cell_type": "code",
   "execution_count": 67,
   "id": "accredited-characteristic",
   "metadata": {},
   "outputs": [
    {
     "data": {
      "text/plain": [
       "['Rocket', 'Kerbal Rocket Part']"
      ]
     },
     "execution_count": 67,
     "metadata": {},
     "output_type": "execute_result"
    }
   ],
   "source": [
    "[banded_root['name'] for banded_root in banded_roots]"
   ]
  },
  {
   "cell_type": "markdown",
   "id": "aggregate-rapid",
   "metadata": {},
   "source": [
    "Correct the multiplicities by considering nesting.part_uses"
   ]
  },
  {
   "cell_type": "code",
   "execution_count": 68,
   "id": "authentic-clinic",
   "metadata": {},
   "outputs": [],
   "source": [
    "part_multiplicity = {}\n",
    "\n",
    "for part_use in part_uses:\n",
    "    corrected_mult = 0\n",
    "    for part_tree_root in banded_roots:\n",
    "        try:\n",
    "            part_path = NX.shortest_path(banded_feature_graph, part_use['@id'], part_tree_root['@id'])\n",
    "            # TODO: check that the path actually exists\n",
    "            corrected_mult = math.prod([feature_upper_multiplicity(id_memo_dict[node]) for node in part_path])\n",
    "        except NX.NetworkXNoPath:\n",
    "            pass\n",
    "    part_multiplicity.update({part_use['@id']: corrected_mult})"
   ]
  },
  {
   "cell_type": "code",
   "execution_count": 69,
   "id": "documentary-feelings",
   "metadata": {},
   "outputs": [
    {
     "data": {
      "text/plain": [
       "{'000f78ae-e890-4f81-847c-f9bf976abe1b': 150,\n",
       " '5caca345-39a8-4125-9387-3a4026b59700': 40,\n",
       " 'b1e046e2-dca5-45ef-97c4-a54e15f87aea': 40,\n",
       " 'cd081fb5-d4b7-42bc-880b-9f4cf2517394': 40,\n",
       " 'f5f406e8-b8a6-4f8b-a90e-01616a6cf1c1': 5}"
      ]
     },
     "execution_count": 69,
     "metadata": {},
     "output_type": "execute_result"
    }
   ],
   "source": [
    "part_multiplicity"
   ]
  },
  {
   "cell_type": "markdown",
   "id": "automatic-update",
   "metadata": {},
   "source": [
    "### Subdivide Abstract Feature Types\n",
    "\n",
    "Look at the feature types for where they are abstract and then generate instances from the more specific types."
   ]
  },
  {
   "cell_type": "code",
   "execution_count": 70,
   "id": "through-evolution",
   "metadata": {},
   "outputs": [
    {
     "data": {
      "text/plain": [
       "['RT-10 \"Hammer\" Solid Fuel Booster',\n",
       " 'FL-T200 Fuel Tank',\n",
       " 'FL-T100 Fuel Tank',\n",
       " 'Parachute',\n",
       " 'LV-T45 \"Swivel\" Liquid Fuel Engine',\n",
       " 'Liquid Stage',\n",
       " 'Solid Stage',\n",
       " 'Coupler',\n",
       " 'Mk1 Command Pod',\n",
       " 'RT-5 \"Flea\" Solid Fuel Booster']"
      ]
     },
     "execution_count": 70,
     "metadata": {},
     "output_type": "execute_result"
    }
   ],
   "source": [
    "[get_name_by_id(node) for node in subclassing_graph.nodes if subclassing_graph.out_degree(node) == 0]"
   ]
  },
  {
   "cell_type": "code",
   "execution_count": 71,
   "id": "authorized-flashing",
   "metadata": {},
   "outputs": [],
   "source": [
    "corrected_multiplicity_dict = {}\n",
    "type_id_pairs = {}\n",
    "\n",
    "for part_use in part_uses:\n",
    "    type_name = get_feature_type_name(part_use)\n",
    "    if type_name in corrected_multiplicity_dict:\n",
    "        old_val = corrected_multiplicity_dict[part_use]\n",
    "        corrected_multiplicity_dict.update({type_name: old_val + part_multiplicity[part_use['@id']]})\n",
    "    else:\n",
    "        corrected_multiplicity_dict.update({type_name: part_multiplicity[part_use['@id']]})\n",
    "        if len(part_use['type']) > 0:\n",
    "            type_id_pairs.update({type_name: part_use['type'][0]['@id']})"
   ]
  },
  {
   "cell_type": "code",
   "execution_count": 72,
   "id": "taken-limitation",
   "metadata": {},
   "outputs": [
    {
     "data": {
      "text/plain": [
       "{'Fuel Tank Section': 'c90361d5-e456-4d96-aecf-b1130825f4fd',\n",
       " 'Solid Booster': '6c32c754-64ff-46e9-b654-a8af287dd3dc',\n",
       " 'Coupler': 'db9b21bf-1157-4fa2-88b9-4389884fcd89',\n",
       " 'Liquid Engine': '108e4293-9941-46b5-855c-06acb74ac4fc',\n",
       " 'Rocket Stage': '23e6504c-f6c6-4801-b5d2-60fdf2ae40a2'}"
      ]
     },
     "execution_count": 72,
     "metadata": {},
     "output_type": "execute_result"
    }
   ],
   "source": [
    "type_id_pairs"
   ]
  },
  {
   "cell_type": "code",
   "execution_count": 73,
   "id": "sized-scanner",
   "metadata": {},
   "outputs": [
    {
     "data": {
      "text/plain": [
       "{'Fuel Tank Section': 150,\n",
       " 'Solid Booster': 40,\n",
       " 'Coupler': 40,\n",
       " 'Liquid Engine': 40,\n",
       " 'Rocket Stage': 5}"
      ]
     },
     "execution_count": 73,
     "metadata": {},
     "output_type": "execute_result"
    }
   ],
   "source": [
    "corrected_multiplicity_dict"
   ]
  },
  {
   "cell_type": "markdown",
   "id": "designed-faculty",
   "metadata": {},
   "source": [
    "## Generate Random Alternatives\n",
    "\n",
    "Start creating the alternatives with random draws on multiplicity. This will be our space for investigation for weights, thrust-to-weight ratios at stage ignitions, delta-Vs, and initial and burnout masses."
   ]
  },
  {
   "cell_type": "code",
   "execution_count": 74,
   "id": "southern-maldives",
   "metadata": {},
   "outputs": [],
   "source": [
    "no_alts_to_create = 50"
   ]
  },
  {
   "cell_type": "code",
   "execution_count": 75,
   "id": "orange-ozone",
   "metadata": {},
   "outputs": [],
   "source": [
    "partitioned_multiplicity_dicts = []\n",
    "\n",
    "for step in range(0, no_alts_to_create):\n",
    "\n",
    "    partitioned_multiplicity_dict = {}\n",
    "\n",
    "    for key in corrected_multiplicity_dict:\n",
    "        if key in type_id_pairs:\n",
    "            key_id = type_id_pairs[key]\n",
    "            type_obj = id_memo_dict[key_id]\n",
    "            if type_obj['isAbstract']:\n",
    "                local_partition = {}\n",
    "                if key_id in subclassing_graph.nodes:\n",
    "                    no_splits = len(list(subclassing_graph.successors(key_id)))\n",
    "                    taken = 0\n",
    "                    for indx, succ in enumerate(subclassing_graph.successors(key_id)):\n",
    "                        if indx < no_splits - 1:\n",
    "                            draw = random.randint(0, corrected_multiplicity_dict[key])\n",
    "                            taken = taken + draw\n",
    "                        else:\n",
    "                            draw = corrected_multiplicity_dict[key] - taken\n",
    "                        local_partition.update({get_name_by_id(succ): draw})\n",
    "                partitioned_multiplicity_dict.update({key: local_partition})\n",
    "            else:\n",
    "                partitioned_multiplicity_dict.update({key: corrected_multiplicity_dict[key]})\n",
    "                \n",
    "    partitioned_multiplicity_dicts.append(partitioned_multiplicity_dict)"
   ]
  },
  {
   "cell_type": "code",
   "execution_count": 76,
   "id": "fixed-wealth",
   "metadata": {},
   "outputs": [
    {
     "data": {
      "text/plain": [
       "{'Fuel Tank Section': {'FL-T200 Fuel Tank': 14, 'FL-T100 Fuel Tank': 136},\n",
       " 'Solid Booster': {'RT-10 \"Hammer\" Solid Fuel Booster': 9,\n",
       "  'RT-5 \"Flea\" Solid Fuel Booster': 31},\n",
       " 'Coupler': 40,\n",
       " 'Liquid Engine': {'LV-T45 \"Swivel\" Liquid Fuel Engine': 40},\n",
       " 'Rocket Stage': {'Liquid Stage': 1, 'Solid Stage': 4}}"
      ]
     },
     "execution_count": 76,
     "metadata": {},
     "output_type": "execute_result"
    }
   ],
   "source": [
    "partitioned_multiplicity_dicts[0]"
   ]
  },
  {
   "cell_type": "markdown",
   "id": "mobile-taylor",
   "metadata": {},
   "source": [
    "- [ ] TODO: Fix the dictionary to have keys as IDs, not name"
   ]
  },
  {
   "cell_type": "code",
   "execution_count": 77,
   "id": "convenient-bridge",
   "metadata": {},
   "outputs": [],
   "source": [
    "classifier_instance_dicts = []\n",
    "classifier_memo_dicts = []\n",
    "\n",
    "for step in range(0, no_alts_to_create):\n",
    "\n",
    "    classifier_instance_dict = {}\n",
    "    classifier_memo_dict = {}\n",
    "    \n",
    "    partitioned_multiplicity_dict = partitioned_multiplicity_dicts[step]\n",
    "\n",
    "    for mult_key in partitioned_multiplicity_dict:\n",
    "        instances_list = []\n",
    "        if isinstance(partitioned_multiplicity_dict[mult_key], dict):\n",
    "            for special_key in partitioned_multiplicity_dict[mult_key]:\n",
    "                sub_instances_list = []\n",
    "                instances_number = (partitioned_multiplicity_dict[mult_key][special_key] + 1)\n",
    "                for index in range(1, instances_number):\n",
    "                    new_instance = Instance(special_key, index)\n",
    "                    instances_list.append(new_instance)\n",
    "                    sub_instances_list.append(new_instance)\n",
    "                    classifier_memo_dict.update({new_instance.name: [special_key, mult_key]})\n",
    "                classifier_instance_dict.update({special_key: sub_instances_list})\n",
    "            classifier_instance_dict.update({mult_key: instances_list})\n",
    "        else:\n",
    "            instances_number = (corrected_multiplicity_dict[mult_key] + 1)\n",
    "            for index in range(1, instances_number):\n",
    "                new_instance = Instance(mult_key, index)\n",
    "                instances_list.append(new_instance)\n",
    "                classifier_memo_dict.update({new_instance.name: [mult_key]})\n",
    "            classifier_instance_dict.update({mult_key: instances_list})\n",
    "            \n",
    "    classifier_instance_dicts.append(classifier_instance_dict)\n",
    "    classifier_memo_dicts.append(classifier_memo_dict)"
   ]
  },
  {
   "cell_type": "code",
   "execution_count": 78,
   "id": "close-artwork",
   "metadata": {},
   "outputs": [
    {
     "data": {
      "text/plain": [
       "['FL-T200 Fuel Tank',\n",
       " 'FL-T100 Fuel Tank',\n",
       " 'Fuel Tank Section',\n",
       " 'RT-10 \"Hammer\" Solid Fuel Booster',\n",
       " 'RT-5 \"Flea\" Solid Fuel Booster',\n",
       " 'Solid Booster',\n",
       " 'Coupler',\n",
       " 'LV-T45 \"Swivel\" Liquid Fuel Engine',\n",
       " 'Liquid Engine',\n",
       " 'Liquid Stage',\n",
       " 'Solid Stage',\n",
       " 'Rocket Stage']"
      ]
     },
     "execution_count": 78,
     "metadata": {},
     "output_type": "execute_result"
    }
   ],
   "source": [
    "list(classifier_instance_dicts[0].keys())"
   ]
  },
  {
   "cell_type": "markdown",
   "id": "trained-sigma",
   "metadata": {},
   "source": [
    "Now that the universe of instances has been calculated, we can look at how they can be sequenced. This method is probably fragile so will need revisions."
   ]
  },
  {
   "cell_type": "code",
   "execution_count": 78,
   "id": "solved-following",
   "metadata": {},
   "outputs": [
    {
     "data": {
      "text/plain": [
       "['Rocket',\n",
       " 'stages',\n",
       " 'Coupler to Carrying Stage',\n",
       " 'Solid Stage',\n",
       " 'boosters',\n",
       " 'Liquid Stage',\n",
       " 'engines',\n",
       " 'tanks']"
      ]
     },
     "execution_count": 78,
     "metadata": {},
     "output_type": "execute_result"
    }
   ],
   "source": [
    "[get_name_by_id(node) for node in NX.topological_sort(part_featuring_graph.reverse())]"
   ]
  },
  {
   "cell_type": "code",
   "execution_count": 79,
   "id": "passing-complexity",
   "metadata": {},
   "outputs": [],
   "source": [
    "sorted_feature_groups = []"
   ]
  },
  {
   "cell_type": "code",
   "execution_count": 80,
   "id": "hazardous-silicon",
   "metadata": {},
   "outputs": [
    {
     "name": "stdout",
     "output_type": "stream",
     "text": [
      "['Liquid Stage', 'engines', 'tanks']\n",
      "['Rocket', 'stages', 'Coupler to Carrying Stage']\n",
      "['Solid Stage', 'boosters']\n"
     ]
    }
   ],
   "source": [
    "for comp in NX.connected_components(part_featuring_graph.to_undirected()):\n",
    "    connected_sub = NX.subgraph(part_featuring_graph, list(comp))\n",
    "    sorted_feature_groups.append(\n",
    "        [node for node in NX.topological_sort(connected_sub.reverse())]\n",
    "    )\n",
    "    print([get_name_by_id(node) for node in NX.topological_sort(connected_sub.reverse())])"
   ]
  },
  {
   "cell_type": "code",
   "execution_count": 81,
   "id": "analyzed-carroll",
   "metadata": {},
   "outputs": [
    {
     "data": {
      "text/plain": [
       "[['f25193df-abf0-478b-997d-dbee3895090e',\n",
       "  'cd081fb5-d4b7-42bc-880b-9f4cf2517394',\n",
       "  '000f78ae-e890-4f81-847c-f9bf976abe1b'],\n",
       " ['64811484-97f6-442e-ab02-cd5247255cab',\n",
       "  'f5f406e8-b8a6-4f8b-a90e-01616a6cf1c1',\n",
       "  'b1e046e2-dca5-45ef-97c4-a54e15f87aea'],\n",
       " ['0b2ea820-ba6b-4f8a-a898-8694dc0a247d',\n",
       "  '5caca345-39a8-4125-9387-3a4026b59700']]"
      ]
     },
     "execution_count": 81,
     "metadata": {},
     "output_type": "execute_result"
    }
   ],
   "source": [
    "sorted_feature_groups"
   ]
  },
  {
   "cell_type": "code",
   "execution_count": 82,
   "id": "conventional-custom",
   "metadata": {},
   "outputs": [],
   "source": [
    "for classifier_instance_dict in classifier_instance_dicts:\n",
    "\n",
    "    for part_tree_root in part_roots:\n",
    "        root_name = get_name_by_id(part_tree_root['@id'])\n",
    "        if root_name not in classifier_instance_dict:\n",
    "            classifier_instance_dict.update({root_name: Instance(root_name, 1)})"
   ]
  },
  {
   "cell_type": "markdown",
   "id": "tired-canal",
   "metadata": {},
   "source": [
    "The topological sort on the graph of feature membership determines the order in which to build up sets of instances for features."
   ]
  },
  {
   "cell_type": "code",
   "execution_count": 83,
   "id": "alpine-country",
   "metadata": {},
   "outputs": [],
   "source": [
    "feature_sequence_dictionaries = []\n",
    "\n",
    "for step in range(0, no_alts_to_create):\n",
    "    \n",
    "    classifier_instance_dict = classifier_instance_dicts[step]\n",
    "    \n",
    "    feature_sequence_dictionary = {}\n",
    "    covered_draw_dict = {}\n",
    "    \n",
    "    for sorting in sorted_feature_groups:\n",
    "        for indx, node in enumerate(sorting):\n",
    "            if indx > 0:\n",
    "                new_dict = {}\n",
    "                # get current parent from the graph\n",
    "                for pred in part_featuring_graph.successors(node):\n",
    "                    current_parent = pred\n",
    "                    #print(get_name_by_id(current_parent))\n",
    "\n",
    "                sequence_of_sequences = []\n",
    "\n",
    "                for sequence in feature_sequence_dictionary[current_parent]:\n",
    "\n",
    "                    test_mult = random.randint(\n",
    "                        feature_lower_multiplicity(id_memo_dict[node]),\n",
    "                        feature_upper_multiplicity(id_memo_dict[node])\n",
    "                    )\n",
    "\n",
    "                    for ind_j in range(0, test_mult):\n",
    "                        new_sequence = copy.deepcopy(sequence)\n",
    "                        # find the type of the current feature node\n",
    "                        node_type = get_feature_type_name(id_memo_dict[node])\n",
    "\n",
    "                        need_draw = True\n",
    "                        \n",
    "                        safety_count = 0\n",
    "\n",
    "                        while(need_draw and safety_count < 100):\n",
    "\n",
    "                            draw = random.randint(\n",
    "                                0,\n",
    "                                corrected_multiplicity_dict[node_type] - 1\n",
    "                            )\n",
    "                            #print(classifier_instance_dict[node_type][draw])\n",
    "\n",
    "                            if node_type in covered_draw_dict:\n",
    "                                if classifier_instance_dict[node_type][draw] in covered_draw_dict[node_type]:\n",
    "                                    pass\n",
    "                                    #need_draw = False\n",
    "                                else:\n",
    "                                    covered_draw_dict[node_type].append(classifier_instance_dict[node_type][draw])\n",
    "                                    need_draw = False\n",
    "                            else:\n",
    "                                covered_draw_dict.update({node_type : [classifier_instance_dict[node_type][draw]]})\n",
    "                                need_draw = False\n",
    "\n",
    "                            safety_count = safety_count + 1\n",
    "                            if safety_count == 99:\n",
    "                                print('Safety count hit when trying to place ' + \n",
    "                                      str(classifier_instance_dict[node_type][draw]) + ' under ' +\n",
    "                                     str(new_sequence))\n",
    "                                print('Covered dict is ' + str(covered_draw_dict[node_type]))\n",
    "                        \n",
    "                        new_sequence.append(classifier_instance_dict[node_type][draw])\n",
    "\n",
    "                        sequence_of_sequences.append(new_sequence)\n",
    "\n",
    "                feature_sequence_dictionary.update({node: sequence_of_sequences})\n",
    "\n",
    "            elif indx == 0:\n",
    "                if isinstance(classifier_instance_dict[get_name_by_id(node)], list):\n",
    "                    starter_list = []\n",
    "                    for item in classifier_instance_dict[get_name_by_id(node)]:\n",
    "                        starter_list.append([item])\n",
    "                    # handle case where main type has more than one instance\n",
    "                    feature_sequence_dictionary.update({node: starter_list})\n",
    "                    #print(starter_list)\n",
    "                    if len(starter_list) == 0:\n",
    "                        break\n",
    "                else:\n",
    "                    feature_sequence_dictionary.update({node: [[classifier_instance_dict[get_name_by_id(node)]]]})\n",
    "            \n",
    "    feature_sequence_dictionaries.append(feature_sequence_dictionary)"
   ]
  },
  {
   "cell_type": "code",
   "execution_count": 84,
   "id": "honey-wisdom",
   "metadata": {},
   "outputs": [
    {
     "name": "stdout",
     "output_type": "stream",
     "text": [
      "Solution #0\n",
      "Liquid Stage, id f25193df-abf0-478b-997d-dbee3895090e\n",
      "[LS#1]\n",
      "[LS#2]\n",
      "[LS#3]\n",
      "engines, id cd081fb5-d4b7-42bc-880b-9f4cf2517394\n",
      "[LS#1, LV-T45#2]\n",
      "[LS#1, LV-T45#26]\n",
      "[LS#2, LV-T45#28]\n",
      "[LS#2, LV-T45#8]\n",
      "[LS#2, LV-T45#19]\n",
      "[LS#3, LV-T45#22]\n",
      "[LS#3, LV-T45#5]\n",
      "tanks, id 000f78ae-e890-4f81-847c-f9bf976abe1b\n",
      "[LS#1, FL-T200#18]\n",
      "[LS#1, FL-T200#25]\n",
      "[LS#1, FL-T200#24]\n",
      "[LS#1, FL-T200#2]\n",
      "[LS#1, FL-T200#9]\n",
      "[LS#1, FL-T200#76]\n",
      "[LS#1, FL-T100#56]\n",
      "[LS#1, FL-T200#40]\n",
      "[LS#1, FL-T200#32]\n",
      "[LS#1, FL-T200#93]\n",
      "[LS#1, FL-T200#52]\n",
      "[LS#1, FL-T200#19]\n",
      "[LS#1, FL-T200#59]\n",
      "[LS#1, FL-T200#74]\n",
      "[LS#1, FL-T200#53]\n",
      "[LS#1, FL-T100#57]\n",
      "[LS#1, FL-T200#6]\n",
      "[LS#1, FL-T200#15]\n",
      "[LS#1, FL-T100#45]\n",
      "[LS#1, FL-T200#73]\n",
      "[LS#1, FL-T100#36]\n",
      "[LS#1, FL-T100#44]\n",
      "[LS#1, FL-T200#81]\n",
      "[LS#1, FL-T100#27]\n",
      "[LS#1, FL-T100#4]\n",
      "[LS#1, FL-T200#57]\n",
      "[LS#1, FL-T200#30]\n",
      "[LS#2, FL-T200#84]\n",
      "[LS#2, FL-T200#12]\n",
      "[LS#2, FL-T100#26]\n",
      "[LS#2, FL-T100#28]\n",
      "[LS#2, FL-T200#26]\n",
      "[LS#2, FL-T200#75]\n",
      "[LS#2, FL-T100#46]\n",
      "[LS#2, FL-T100#21]\n",
      "[LS#2, FL-T200#60]\n",
      "[LS#2, FL-T100#5]\n",
      "[LS#2, FL-T100#35]\n",
      "[LS#2, FL-T100#1]\n",
      "[LS#2, FL-T100#6]\n",
      "[LS#2, FL-T200#82]\n",
      "[LS#2, FL-T200#58]\n",
      "[LS#2, FL-T200#21]\n",
      "[LS#2, FL-T200#27]\n",
      "[LS#2, FL-T200#80]\n",
      "[LS#2, FL-T200#55]\n",
      "[LS#2, FL-T200#1]\n",
      "[LS#2, FL-T100#43]\n",
      "[LS#2, FL-T100#32]\n",
      "[LS#3, FL-T100#42]\n",
      "[LS#3, FL-T100#9]\n",
      "[LS#3, FL-T200#63]\n",
      "[LS#3, FL-T200#46]\n",
      "[LS#3, FL-T100#54]\n",
      "[LS#3, FL-T100#18]\n",
      "[LS#3, FL-T200#78]\n",
      "[LS#3, FL-T100#7]\n",
      "[LS#3, FL-T100#52]\n",
      "[LS#3, FL-T200#13]\n",
      "[LS#3, FL-T100#19]\n",
      "Rocket, id 64811484-97f6-442e-ab02-cd5247255cab\n",
      "[Rocket#1]\n",
      "stages, id f5f406e8-b8a6-4f8b-a90e-01616a6cf1c1\n",
      "[Rocket#1, LS#3]\n",
      "[Rocket#1, LS#1]\n",
      "Coupler to Carrying Stage, id b1e046e2-dca5-45ef-97c4-a54e15f87aea\n",
      "[Rocket#1, LS#3, Coupler#17]\n",
      "[Rocket#1, LS#3, Coupler#33]\n",
      "[Rocket#1, LS#3, Coupler#16]\n",
      "[Rocket#1, LS#3, Coupler#15]\n",
      "[Rocket#1, LS#1, Coupler#5]\n",
      "[Rocket#1, LS#1, Coupler#34]\n",
      "[Rocket#1, LS#1, Coupler#23]\n",
      "[Rocket#1, LS#1, Coupler#40]\n",
      "[Rocket#1, LS#1, Coupler#28]\n",
      "[Rocket#1, LS#1, Coupler#11]\n",
      "Solid Stage, id 0b2ea820-ba6b-4f8a-a898-8694dc0a247d\n",
      "[SS#1]\n",
      "[SS#2]\n",
      "boosters, id 5caca345-39a8-4125-9387-3a4026b59700\n",
      "[SS#1, RT-10#4]\n",
      "[SS#1, RT-10#16]\n",
      "[SS#1, RT-10#11]\n",
      "[SS#1, RT-10#6]\n",
      "[SS#1, RT-10#23]\n",
      "[SS#1, RT-10#19]\n",
      "[SS#1, RT-10#31]\n",
      "[SS#2, RT-10#34]\n",
      "[SS#2, RT-10#39]\n",
      "[SS#2, RT-10#13]\n",
      "[SS#2, RT-10#25]\n",
      "[SS#2, RT-5#1]\n",
      "[SS#2, RT-10#24]\n",
      "[SS#2, RT-10#38]\n",
      "Solution #1\n",
      "Liquid Stage, id f25193df-abf0-478b-997d-dbee3895090e\n",
      "[LS#1]\n",
      "[LS#2]\n",
      "engines, id cd081fb5-d4b7-42bc-880b-9f4cf2517394\n",
      "[LS#1, LV-T45#13]\n",
      "[LS#1, LV-T45#21]\n",
      "[LS#1, LV-T45#31]\n",
      "[LS#1, LV-T45#30]\n",
      "[LS#1, LV-T45#17]\n",
      "[LS#1, LV-T45#29]\n",
      "[LS#1, LV-T45#38]\n",
      "[LS#2, LV-T45#27]\n",
      "[LS#2, LV-T45#16]\n",
      "tanks, id 000f78ae-e890-4f81-847c-f9bf976abe1b\n",
      "[LS#1, FL-T200#99]\n",
      "[LS#1, FL-T200#63]\n",
      "[LS#1, FL-T200#3]\n",
      "[LS#1, FL-T200#115]\n",
      "[LS#1, FL-T100#12]\n",
      "[LS#2, FL-T100#23]\n",
      "[LS#2, FL-T200#68]\n",
      "[LS#2, FL-T200#6]\n",
      "[LS#2, FL-T200#57]\n",
      "[LS#2, FL-T200#69]\n",
      "[LS#2, FL-T200#74]\n",
      "[LS#2, FL-T200#112]\n",
      "[LS#2, FL-T200#13]\n",
      "[LS#2, FL-T200#95]\n",
      "[LS#2, FL-T200#67]\n",
      "[LS#2, FL-T200#22]\n",
      "[LS#2, FL-T200#85]\n",
      "[LS#2, FL-T200#40]\n",
      "[LS#2, FL-T200#76]\n",
      "[LS#2, FL-T200#97]\n",
      "[LS#2, FL-T200#96]\n",
      "[LS#2, FL-T100#5]\n",
      "Rocket, id 64811484-97f6-442e-ab02-cd5247255cab\n",
      "[Rocket#1]\n",
      "stages, id f5f406e8-b8a6-4f8b-a90e-01616a6cf1c1\n",
      "[Rocket#1, LS#2]\n",
      "[Rocket#1, LS#1]\n",
      "[Rocket#1, SS#1]\n",
      "[Rocket#1, SS#3]\n",
      "Coupler to Carrying Stage, id b1e046e2-dca5-45ef-97c4-a54e15f87aea\n",
      "[Rocket#1, LS#2, Coupler#21]\n",
      "[Rocket#1, LS#2, Coupler#40]\n",
      "[Rocket#1, LS#2, Coupler#24]\n",
      "[Rocket#1, LS#2, Coupler#27]\n",
      "[Rocket#1, LS#2, Coupler#35]\n",
      "[Rocket#1, LS#2, Coupler#13]\n",
      "[Rocket#1, LS#2, Coupler#11]\n",
      "[Rocket#1, SS#1, Coupler#25]\n",
      "[Rocket#1, SS#3, Coupler#36]\n",
      "[Rocket#1, SS#3, Coupler#3]\n",
      "[Rocket#1, SS#3, Coupler#5]\n",
      "[Rocket#1, SS#3, Coupler#12]\n",
      "Solid Stage, id 0b2ea820-ba6b-4f8a-a898-8694dc0a247d\n",
      "[SS#1]\n",
      "[SS#2]\n",
      "[SS#3]\n",
      "boosters, id 5caca345-39a8-4125-9387-3a4026b59700\n",
      "[SS#1, RT-5#4]\n",
      "[SS#1, RT-5#9]\n",
      "[SS#2, RT-5#10]\n",
      "[SS#2, RT-5#16]\n",
      "[SS#2, RT-10#11]\n",
      "[SS#2, RT-10#15]\n",
      "[SS#2, RT-10#7]\n",
      "[SS#2, RT-10#10]\n",
      "[SS#2, RT-5#3]\n",
      "[SS#3, RT-5#24]\n",
      "Solution #2\n",
      "Liquid Stage, id f25193df-abf0-478b-997d-dbee3895090e\n",
      "[LS#1]\n",
      "[LS#2]\n",
      "[LS#3]\n",
      "engines, id cd081fb5-d4b7-42bc-880b-9f4cf2517394\n",
      "[LS#1, LV-T45#25]\n",
      "[LS#1, LV-T45#16]\n",
      "[LS#1, LV-T45#8]\n",
      "[LS#2, LV-T45#14]\n",
      "[LS#2, LV-T45#37]\n",
      "[LS#2, LV-T45#15]\n",
      "[LS#2, LV-T45#6]\n",
      "[LS#2, LV-T45#11]\n",
      "[LS#2, LV-T45#2]\n",
      "[LS#2, LV-T45#30]\n",
      "[LS#3, LV-T45#7]\n",
      "[LS#3, LV-T45#39]\n",
      "[LS#3, LV-T45#35]\n",
      "[LS#3, LV-T45#20]\n",
      "[LS#3, LV-T45#31]\n",
      "[LS#3, LV-T45#33]\n",
      "[LS#3, LV-T45#21]\n",
      "[LS#3, LV-T45#1]\n",
      "tanks, id 000f78ae-e890-4f81-847c-f9bf976abe1b\n",
      "[LS#1, FL-T200#8]\n",
      "[LS#1, FL-T200#21]\n",
      "[LS#1, FL-T200#120]\n",
      "[LS#1, FL-T200#127]\n",
      "[LS#1, FL-T200#129]\n",
      "[LS#1, FL-T200#55]\n",
      "[LS#1, FL-T200#92]\n",
      "[LS#1, FL-T200#135]\n",
      "[LS#1, FL-T200#98]\n",
      "[LS#1, FL-T200#134]\n",
      "[LS#1, FL-T200#110]\n",
      "[LS#1, FL-T200#36]\n",
      "[LS#1, FL-T200#58]\n",
      "[LS#1, FL-T100#2]\n",
      "[LS#1, FL-T200#47]\n",
      "[LS#1, FL-T200#29]\n",
      "[LS#1, FL-T200#45]\n",
      "[LS#1, FL-T200#64]\n",
      "[LS#1, FL-T200#104]\n",
      "[LS#1, FL-T200#80]\n",
      "[LS#1, FL-T200#25]\n",
      "[LS#1, FL-T200#86]\n",
      "[LS#1, FL-T100#5]\n",
      "[LS#1, FL-T200#39]\n",
      "[LS#1, FL-T200#102]\n",
      "[LS#1, FL-T200#20]\n",
      "[LS#1, FL-T200#12]\n",
      "[LS#2, FL-T200#71]\n",
      "[LS#2, FL-T100#7]\n",
      "[LS#2, FL-T200#95]\n",
      "[LS#2, FL-T200#137]\n",
      "[LS#2, FL-T200#68]\n",
      "[LS#2, FL-T200#113]\n",
      "[LS#3, FL-T200#119]\n",
      "[LS#3, FL-T200#130]\n",
      "[LS#3, FL-T200#66]\n",
      "[LS#3, FL-T200#76]\n",
      "[LS#3, FL-T200#69]\n",
      "[LS#3, FL-T200#38]\n",
      "[LS#3, FL-T200#88]\n",
      "[LS#3, FL-T200#13]\n",
      "[LS#3, FL-T200#41]\n",
      "[LS#3, FL-T200#78]\n",
      "[LS#3, FL-T100#9]\n",
      "[LS#3, FL-T200#33]\n",
      "Rocket, id 64811484-97f6-442e-ab02-cd5247255cab\n",
      "[Rocket#1]\n",
      "stages, id f5f406e8-b8a6-4f8b-a90e-01616a6cf1c1\n",
      "[Rocket#1, LS#3]\n",
      "[Rocket#1, LS#2]\n",
      "Coupler to Carrying Stage, id b1e046e2-dca5-45ef-97c4-a54e15f87aea\n",
      "[Rocket#1, LS#3, Coupler#32]\n",
      "[Rocket#1, LS#3, Coupler#30]\n",
      "[Rocket#1, LS#3, Coupler#9]\n",
      "[Rocket#1, LS#3, Coupler#24]\n",
      "[Rocket#1, LS#3, Coupler#19]\n",
      "[Rocket#1, LS#2, Coupler#23]\n",
      "Solid Stage, id 0b2ea820-ba6b-4f8a-a898-8694dc0a247d\n",
      "[SS#1]\n",
      "[SS#2]\n",
      "boosters, id 5caca345-39a8-4125-9387-3a4026b59700\n",
      "[SS#1, RT-5#8]\n",
      "[SS#1, RT-10#20]\n",
      "[SS#1, RT-5#12]\n",
      "[SS#1, RT-10#6]\n",
      "[SS#1, RT-10#17]\n",
      "[SS#2, RT-10#2]\n",
      "[SS#2, RT-5#11]\n",
      "[SS#2, RT-10#14]\n",
      "[SS#2, RT-10#3]\n",
      "[SS#2, RT-10#15]\n",
      "[SS#2, RT-5#4]\n"
     ]
    }
   ],
   "source": [
    "for indx, feature_sequence_dictionary in enumerate(feature_sequence_dictionaries):\n",
    "    if indx < 3:\n",
    "        print(\"Solution #\" + str(indx))\n",
    "        for key in feature_sequence_dictionary:\n",
    "            print(get_name_by_id(key) + ', id ' + key)\n",
    "            for seq in feature_sequence_dictionary[key]:\n",
    "                print(str(seq))"
   ]
  },
  {
   "cell_type": "markdown",
   "id": "experimental-livestock",
   "metadata": {},
   "source": [
    "One more step here is to backfill the more general collections of type with what has been developed above. To make it easier to visualize, repeat the superclassing graph from before. The only thing to add is the base library kinds."
   ]
  },
  {
   "cell_type": "code",
   "execution_count": 85,
   "id": "solid-index",
   "metadata": {},
   "outputs": [
    {
     "data": {
      "text/plain": [
       "['2aa4c385-1247-4f22-b141-4e73a054dc7b',\n",
       " '23e6504c-f6c6-4801-b5d2-60fdf2ae40a2']"
      ]
     },
     "execution_count": 85,
     "metadata": {},
     "output_type": "execute_result"
    }
   ],
   "source": [
    "class_roots = [node for node in superclassing_graph.nodes if superclassing_graph.out_degree(node) == 0]\n",
    "class_roots"
   ]
  },
  {
   "cell_type": "markdown",
   "id": "dangerous-playlist",
   "metadata": {},
   "source": [
    "We want to look at the classifier_instance_dicts in order to see if there are classifiers without entries. If we find missing keys, look to their subsets to fill in."
   ]
  },
  {
   "cell_type": "code",
   "execution_count": 86,
   "id": "balanced-webster",
   "metadata": {},
   "outputs": [
    {
     "name": "stdout",
     "output_type": "stream",
     "text": [
      "['RT-5 \"Flea\" Solid Fuel Booster', 'Mk1 Command Pod', 'Pod', 'Coupler', 'LV-T45 \"Swivel\" Liquid Fuel Engine', 'Liquid Engine', 'Parachute', 'FL-T100 Fuel Tank', 'FL-T200 Fuel Tank', 'Fuel Tank Section', 'RT-10 \"Hammer\" Solid Fuel Booster', 'Solid Booster', 'Kerbal Rocket Part']\n",
      "['Solid Stage', 'Liquid Stage', 'Rocket Stage']\n"
     ]
    }
   ],
   "source": [
    "sorted_class_groups = []\n",
    "\n",
    "for comp in NX.connected_components(superclassing_graph.to_undirected()):\n",
    "    component_list = []\n",
    "    connected_sub = NX.subgraph(superclassing_graph, list(comp))\n",
    "    sorted_class_groups.append(\n",
    "        [node for node in NX.topological_sort(connected_sub)]\n",
    "    )\n",
    "    print([get_name_by_id(node) for node in NX.topological_sort(connected_sub)])"
   ]
  },
  {
   "cell_type": "code",
   "execution_count": 87,
   "id": "comparative-colonial",
   "metadata": {},
   "outputs": [],
   "source": [
    "founds = []\n",
    "for sorted_group in sorted_class_groups:\n",
    "    for sorted_thing in sorted_group:\n",
    "        if get_name_by_id(sorted_thing) in classifier_instance_dicts[0]:\n",
    "            founds.append(sorted_thing)"
   ]
  },
  {
   "cell_type": "code",
   "execution_count": 88,
   "id": "centered-helena",
   "metadata": {},
   "outputs": [],
   "source": [
    "for classifier_instance_dict in classifier_instance_dicts:\n",
    "    for found in founds:\n",
    "        my_group = []\n",
    "        for sorted_group in sorted_class_groups:\n",
    "            for thing in sorted_group:\n",
    "                if thing == found:\n",
    "                    my_group = sorted_group\n",
    "                    break\n",
    "        for item in my_group:\n",
    "            if not item in founds:\n",
    "                try:\n",
    "                    super_path = NX.shortest_path(superclassing_graph, found, item)\n",
    "                    #print ('Found path from ' + get_name_by_id(found) + ' to ' + get_name_by_id(item))\n",
    "                    if get_name_by_id(item) not in classifier_instance_dict:\n",
    "                        classifier_instance_dict.update({get_name_by_id(item): \n",
    "                                                        copy.deepcopy(classifier_instance_dict[get_name_by_id(found)])})\n",
    "                    else:\n",
    "                        for individual in classifier_instance_dict[get_name_by_id(found)]:\n",
    "                            if individual not in classifier_instance_dict[get_name_by_id(item)]:\n",
    "                                classifier_instance_dict[get_name_by_id(item)].append(individual)\n",
    "                            #classifier_instance_dict[get_name_by_id(item)].extend(classifier_instance_dict[get_name_by_id(found)])\n",
    "                except NX.NetworkXNoPath:\n",
    "                    pass"
   ]
  },
  {
   "cell_type": "code",
   "execution_count": 80,
   "id": "relevant-intro",
   "metadata": {},
   "outputs": [
    {
     "data": {
      "image/png": "[encoded data removed]",
      "text/plain": [
       "<Figure size 1080x648 with 1 Axes>"
      ]
     },
     "metadata": {},
     "output_type": "display_data"
    }
   ],
   "source": [
    "plt.figure(figsize=(15, 9))\n",
    "NX.draw_planar(superclassing_graph, labels=superclassing_graph_labels)"
   ]
  },
  {
   "cell_type": "markdown",
   "id": "assisted-walter",
   "metadata": {},
   "source": [
    "# Analyze and Explore Resulting Space\n",
    "\n",
    "Now that the alternatives have been generated, we can explore the population"
   ]
  },
  {
   "cell_type": "code",
   "execution_count": 90,
   "id": "basic-wales",
   "metadata": {},
   "outputs": [
    {
     "data": {
      "text/plain": [
       "[['RT-10 \"Hammer\" Solid Fuel Booster', '276d0623-a352-49cd-8faa-132792ec156a'],\n",
       " ['FL-T200 Fuel Tank', 'c2501561-e875-4c47-8e88-65ddd846d20b'],\n",
       " ['FL-T100 Fuel Tank', '5260380b-6fda-43cc-993f-5df58868edbb'],\n",
       " ['Parachute', '156f9c43-0fbe-425b-89b4-db1aeeafb7c5'],\n",
       " ['LV-T45 \"Swivel\" Liquid Fuel Engine',\n",
       "  '7e8c5105-bdd1-4cde-9133-c17ab1183f6a'],\n",
       " ['Liquid Stage', 'f25193df-abf0-478b-997d-dbee3895090e'],\n",
       " ['Solid Stage', '0b2ea820-ba6b-4f8a-a898-8694dc0a247d'],\n",
       " ['Coupler', 'db9b21bf-1157-4fa2-88b9-4389884fcd89'],\n",
       " ['Mk1 Command Pod', '7680d01c-e978-4ecb-8349-f2336bc6aaac'],\n",
       " ['RT-5 \"Flea\" Solid Fuel Booster', 'c29c33af-197a-426a-b2a3-b222d2f21307']]"
      ]
     },
     "execution_count": 90,
     "metadata": {},
     "output_type": "execute_result"
    }
   ],
   "source": [
    "[[get_name_by_id(node), node] for node in subclassing_graph.nodes if subclassing_graph.out_degree(node) == 0]"
   ]
  },
  {
   "cell_type": "markdown",
   "id": "weighted-gilbert",
   "metadata": {},
   "source": [
    "## Gather AttributeUsages and literal values\n",
    "\n",
    "Find all the attribute usages so we can navigate to them from our parts library."
   ]
  },
  {
   "cell_type": "markdown",
   "id": "pleased-allocation",
   "metadata": {},
   "source": [
    "TODO: Look at using FeatureValue relationships for this"
   ]
  },
  {
   "cell_type": "code",
   "execution_count": 91,
   "id": "separate-international",
   "metadata": {},
   "outputs": [],
   "source": [
    "def get_att_literal_values(att_use):\n",
    "    literal_values = []\n",
    "    for att_member in att_use['ownedMember']:\n",
    "        if att_member['@id'] in id_memo_dict:\n",
    "            if id_memo_dict[att_member['@id']]['@type'] == 'LiteralReal':\n",
    "                literal_values.append(id_memo_dict[att_member['@id']])\n",
    "                \n",
    "    return literal_values"
   ]
  },
  {
   "cell_type": "code",
   "execution_count": 92,
   "id": "written-isaac",
   "metadata": {},
   "outputs": [],
   "source": [
    "att_uses = [att_use for att_use in non_relations if att_use['@type'] == 'AttributeUsage']\n",
    "for att_use in att_uses:\n",
    "    id_memo_dict.update({att_use['@id']: att_use})"
   ]
  },
  {
   "cell_type": "markdown",
   "id": "ideal-skill",
   "metadata": {},
   "source": [
    "Get literal reals to connect to attributes."
   ]
  },
  {
   "cell_type": "code",
   "execution_count": 93,
   "id": "acute-median",
   "metadata": {},
   "outputs": [],
   "source": [
    "reals = [real for real in non_relations if real['@type'] == 'LiteralReal']\n",
    "for real in reals:\n",
    "    id_memo_dict.update({real['@id']: real})"
   ]
  },
  {
   "cell_type": "markdown",
   "id": "casual-queue",
   "metadata": {},
   "source": [
    "Create objects to hold different values per instance."
   ]
  },
  {
   "cell_type": "code",
   "execution_count": 94,
   "id": "removable-poker",
   "metadata": {},
   "outputs": [],
   "source": [
    "class ValueHolder():\n",
    "    \n",
    "    def __init__(self, path, name, value, base_att):\n",
    "        # path is list of instance references\n",
    "        self.holder_string = ''\n",
    "        for indx, step in enumerate(path):\n",
    "            if indx == 0:\n",
    "                self.holder_string = str(step)\n",
    "            else:\n",
    "                self.holder_string = self.holder_string + '.' + str(step)\n",
    "        self.holder_string = self.holder_string + '.' + name\n",
    "        self.value = value\n",
    "        self.base_att = base_att\n",
    "    \n",
    "    def __repr__(self):\n",
    "        if self.value is not None:\n",
    "            return self.holder_string + ' (' + str(self.value) + ')'\n",
    "        else:\n",
    "            return self.holder_string + ' (unset)'"
   ]
  },
  {
   "cell_type": "markdown",
   "id": "adjusted-sentence",
   "metadata": {},
   "source": [
    "Get expressions attached to attributes as values."
   ]
  },
  {
   "cell_type": "code",
   "execution_count": 95,
   "id": "noticed-olympus",
   "metadata": {},
   "outputs": [],
   "source": [
    "found_ele = [found for found in non_relations if found['@id'] == 'ced4f691-07ff-45dd-a2cd-687bc3bb8942']"
   ]
  },
  {
   "cell_type": "code",
   "execution_count": 96,
   "id": "young-debut",
   "metadata": {},
   "outputs": [
    {
     "name": "stdout",
     "output_type": "stream",
     "text": [
      "Full Mass of FL-T100 Fuel Tank = 0.5625\n",
      "Specific Impulse of LV-T45 \"Swivel\" Liquid Fuel Engine = 170.0\n",
      "Specific Impulse of RT-10 \"Hammer\" Solid Fuel Booster = 170.0\n",
      "Empty Mass of RT-10 \"Hammer\" Solid Fuel Booster = 0.75\n",
      "Specific Impulse of RT-5 \"Flea\" Solid Fuel Booster = 140.0\n",
      "Empty Mass of FL-T200 Fuel Tank = 0.125\n",
      "Full Mass of FL-T200 Fuel Tank = 1.125\n",
      "Full Mass of RT-5 \"Flea\" Solid Fuel Booster = 1.5\n",
      "Thrust of RT-5 \"Flea\" Solid Fuel Booster = 162.91\n",
      "Empty Mass of RT-5 \"Flea\" Solid Fuel Booster = 0.45\n",
      "Thrust of LV-T45 \"Swivel\" Liquid Fuel Engine = 167.97\n",
      "Full Mass of RT-10 \"Hammer\" Solid Fuel Booster = 3.56\n",
      "Empty Mass of FL-T100 Fuel Tank = 0.0625\n",
      "Thrust of RT-10 \"Hammer\" Solid Fuel Booster = 197.9\n",
      "Mass of LV-T45 \"Swivel\" Liquid Fuel Engine = 1.5\n"
     ]
    }
   ],
   "source": [
    "type_values = {}\n",
    "\n",
    "for att_use in att_uses:\n",
    "    if len(att_use['ownedMember']) > 0:\n",
    "        typ = id_memo_dict[att_use['owningType']['@id']]\n",
    "        for att_member in att_use['ownedMember']:\n",
    "            for value in get_att_literal_values(att_use):\n",
    "                print (att_use['name'] + ' of ' + typ['name'] + ' = ' + str(value['value']))\n",
    "                if att_use['name'] in type_values:\n",
    "                    type_values[att_use['name']].update({typ['name']: value['value']})\n",
    "                else:\n",
    "                    type_values.update({att_use['name']: {typ['name']: value['value']}})"
   ]
  },
  {
   "cell_type": "code",
   "execution_count": 97,
   "id": "broken-electricity",
   "metadata": {},
   "outputs": [
    {
     "data": {
      "text/plain": [
       "{'Full Mass': {'FL-T100 Fuel Tank': 0.5625,\n",
       "  'FL-T200 Fuel Tank': 1.125,\n",
       "  'RT-5 \"Flea\" Solid Fuel Booster': 1.5,\n",
       "  'RT-10 \"Hammer\" Solid Fuel Booster': 3.56},\n",
       " 'Specific Impulse': {'LV-T45 \"Swivel\" Liquid Fuel Engine': 170.0,\n",
       "  'RT-10 \"Hammer\" Solid Fuel Booster': 170.0,\n",
       "  'RT-5 \"Flea\" Solid Fuel Booster': 140.0},\n",
       " 'Empty Mass': {'RT-10 \"Hammer\" Solid Fuel Booster': 0.75,\n",
       "  'FL-T200 Fuel Tank': 0.125,\n",
       "  'RT-5 \"Flea\" Solid Fuel Booster': 0.45,\n",
       "  'FL-T100 Fuel Tank': 0.0625},\n",
       " 'Thrust': {'RT-5 \"Flea\" Solid Fuel Booster': 162.91,\n",
       "  'LV-T45 \"Swivel\" Liquid Fuel Engine': 167.97,\n",
       "  'RT-10 \"Hammer\" Solid Fuel Booster': 197.9},\n",
       " 'Mass': {'LV-T45 \"Swivel\" Liquid Fuel Engine': 1.5}}"
      ]
     },
     "execution_count": 97,
     "metadata": {},
     "output_type": "execute_result"
    }
   ],
   "source": [
    "type_values"
   ]
  },
  {
   "cell_type": "markdown",
   "id": "aerial-continent",
   "metadata": {},
   "source": [
    "- [ ] TODO: Factor the above as sequences of instances rather than going back to the type"
   ]
  },
  {
   "cell_type": "markdown",
   "id": "lonely-auditor",
   "metadata": {},
   "source": [
    "## Create Attribute Sequences\n",
    "\n",
    "Add attributes to the sequences for parts, and where there are values, add those to the sequence also."
   ]
  },
  {
   "cell_type": "markdown",
   "id": "random-jersey",
   "metadata": {},
   "source": [
    "Get the attribute use redefinition graph to see where the usage sets may have to be set equal to each other. A more general attribute that is redefined by a more specific one must have the same list of values as the specific one."
   ]
  },
  {
   "cell_type": "code",
   "execution_count": 98,
   "id": "ambient-webcam",
   "metadata": {},
   "outputs": [],
   "source": [
    "redefinitons = [redef for redef in relations if redef['@type'] == 'Redefinition']"
   ]
  },
  {
   "cell_type": "code",
   "execution_count": 99,
   "id": "czech-cheese",
   "metadata": {},
   "outputs": [],
   "source": [
    "attribute_redefinition_graph = NX.DiGraph()\n",
    "\n",
    "for redef in redefinitons:\n",
    "    try:\n",
    "        redef_name = get_data_by_id(redef['redefinedFeature']['@id'])['owningType']['@id']\n",
    "        redefining_name = get_data_by_id(redef['redefiningFeature']['@id'])['owningType']['@id']\n",
    "        attribute_redefinition_graph.add_edge(redef['redefiningFeature']['@id'],redef['redefinedFeature']['@id'])\n",
    "    except TypeError:\n",
    "        pass"
   ]
  },
  {
   "cell_type": "code",
   "execution_count": 100,
   "id": "effective-contamination",
   "metadata": {},
   "outputs": [
    {
     "name": "stdout",
     "output_type": "stream",
     "text": [
      "['RT-5 \"Flea\" Solid Fuel Booster::Thrust', 'RT-10 \"Hammer\" Solid Fuel Booster::Thrust', 'Solid Booster::Thrust']\n",
      "['FL-T100 Fuel Tank::Full Mass', 'FL-T200 Fuel Tank::Full Mass', 'Fuel Tank Section::Full Mass']\n",
      "['FL-T100 Fuel Tank::Empty Mass', 'FL-T200 Fuel Tank::Empty Mass', 'Fuel Tank Section::Empty Mass']\n",
      "['RT-5 \"Flea\" Solid Fuel Booster::Specific Impulse', 'RT-10 \"Hammer\" Solid Fuel Booster::Specific Impulse', 'Solid Booster::Specific Impulse']\n",
      "['RT-5 \"Flea\" Solid Fuel Booster::Empty Mass', 'RT-10 \"Hammer\" Solid Fuel Booster::Empty Mass', 'Solid Booster::Empty Mass']\n",
      "['LV-T45 \"Swivel\" Liquid Fuel Engine::Thrust', 'Liquid Engine::Thrust']\n",
      "['LV-T45 \"Swivel\" Liquid Fuel Engine::Mass', 'Kerbal Rocket Part::Mass']\n",
      "['LV-T45 \"Swivel\" Liquid Fuel Engine::Specific Impulse', 'Liquid Engine::Specific Impulse']\n",
      "['RT-10 \"Hammer\" Solid Fuel Booster::Full Mass', 'RT-5 \"Flea\" Solid Fuel Booster::Full Mass', 'Solid Booster::Full Mass']\n"
     ]
    }
   ],
   "source": [
    "redef_orders = []\n",
    "\n",
    "for comp in NX.connected_components(attribute_redefinition_graph.to_undirected()):\n",
    "    connected_sub = NX.subgraph(attribute_redefinition_graph, list(comp))\n",
    "    sorted_feature_groups.append(\n",
    "        [node for node in NX.topological_sort(connected_sub)]\n",
    "    )\n",
    "    look_upward = []\n",
    "    redef_list = []\n",
    "    for node in NX.topological_sort(connected_sub):\n",
    "        owner_name = get_data_by_id(get_data_by_id(node)['owningType']['@id'])['name']\n",
    "        redef_list.append(node)\n",
    "        look_upward.append(owner_name + '::' + get_name_by_id(node))\n",
    "    print(look_upward)\n",
    "    redef_orders.append(redef_list)"
   ]
  },
  {
   "cell_type": "markdown",
   "id": "chubby-greece",
   "metadata": {},
   "source": [
    "Get the attribute to value graph in order to track which attributes have values."
   ]
  },
  {
   "cell_type": "code",
   "execution_count": 101,
   "id": "bacterial-lloyd",
   "metadata": {},
   "outputs": [],
   "source": [
    "attribute_member_value_graph = NX.DiGraph()\n",
    "\n",
    "for att in att_uses:\n",
    "    if att['@id'] in id_memo_dict:\n",
    "        if id_memo_dict[att['@id']]['@type'] == 'AttributeUsage':\n",
    "            attribute_member_value_graph.add_edge(att['@id'], att['owningType']['@id'])\n",
    "            for value in get_att_literal_values(att):\n",
    "                attribute_member_value_graph.add_edge(value['@id'], att['@id'])"
   ]
  },
  {
   "cell_type": "code",
   "execution_count": 102,
   "id": "verbal-harvard",
   "metadata": {},
   "outputs": [
    {
     "data": {
      "image/png": "[encoded data removed]",
      "text/plain": [
       "<Figure size 432x288 with 1 Axes>"
      ]
     },
     "metadata": {},
     "output_type": "display_data"
    }
   ],
   "source": [
    "attribute_member_value_graph_labels = {}\n",
    "for node in attribute_member_value_graph.nodes():\n",
    "    if id_memo_dict[node]['@type'] == 'AttributeUsage':\n",
    "        attribute_member_value_graph_labels.update({node: get_name_by_id(node)})\n",
    "    elif id_memo_dict[node]['@type'] == 'LiteralReal':\n",
    "        attribute_member_value_graph_labels.update({node: id_memo_dict[node]['value']})\n",
    "    \n",
    "NX.draw_spring(attribute_member_value_graph, labels=attribute_member_value_graph_labels)"
   ]
  },
  {
   "cell_type": "markdown",
   "id": "three-wallet",
   "metadata": {},
   "source": [
    "### Match Attributes to Classifier types\n",
    "\n",
    "Where the owningType of the Attribute usage is a classifier, use it as the base of the sequence."
   ]
  },
  {
   "cell_type": "code",
   "execution_count": 103,
   "id": "prompt-boating",
   "metadata": {},
   "outputs": [
    {
     "data": {
      "text/plain": [
       "dict_keys(['FL-T200 Fuel Tank', 'FL-T100 Fuel Tank', 'Fuel Tank Section', 'RT-10 \"Hammer\" Solid Fuel Booster', 'RT-5 \"Flea\" Solid Fuel Booster', 'Solid Booster', 'Coupler', 'LV-T45 \"Swivel\" Liquid Fuel Engine', 'Liquid Engine', 'Liquid Stage', 'Solid Stage', 'Rocket Stage', 'Rocket', 'Kerbal Rocket Part'])"
      ]
     },
     "execution_count": 103,
     "metadata": {},
     "output_type": "execute_result"
    }
   ],
   "source": [
    "classifier_instance_dicts[0].keys()"
   ]
  },
  {
   "cell_type": "markdown",
   "id": "sunset-documentary",
   "metadata": {},
   "source": [
    "Need to order att_uses in the following order:\n",
    "- Neither redefined or redefining\n",
    "- Least to most redefined"
   ]
  },
  {
   "cell_type": "code",
   "execution_count": 104,
   "id": "spiritual-brother",
   "metadata": {},
   "outputs": [
    {
     "name": "stdout",
     "output_type": "stream",
     "text": [
      "Kerbal Rocket Part::Max Temperature\n",
      "Liquid Stage::Full Mass\n",
      "stages::Burnout Mass\n",
      "Liquid Stage::Empty Mass\n",
      "stages::Loaded Mass\n",
      "Fuel Tank Section::Oxidizer\n",
      "Fuel Tank Section::Liquid Fuel\n",
      "Coupler to Carrying Stage::Separation Force\n",
      "Solid Stage::Empty Mass\n",
      "stages::Payload Mass\n",
      "Pod::Torque\n",
      "Solid Stage::Full Mass\n"
     ]
    }
   ],
   "source": [
    "plain_atts = []\n",
    "\n",
    "for att in att_uses:\n",
    "    att_found = False\n",
    "    for redef in redefinitons:\n",
    "        if att['@id'] == redef['redefinedFeature']['@id'] or att['@id'] == redef['redefiningFeature']['@id']:\n",
    "            att_found = True\n",
    "            break\n",
    "    if not att_found:\n",
    "        print(get_name_by_id(att['owningType']['@id']) + '::' + att['name'])\n",
    "        plain_atts.append(att['@id'])"
   ]
  },
  {
   "cell_type": "code",
   "execution_count": 105,
   "id": "urban-designation",
   "metadata": {},
   "outputs": [
    {
     "data": {
      "text/plain": [
       "['01341d2c-a4ce-4f35-8c11-652be9d6b58c',\n",
       " '25a4a485-735c-4b5d-8d6f-140e176a144f',\n",
       " '2a795610-4d4a-4c6f-b4eb-3e175f85455d',\n",
       " '49fa2a78-e24a-4960-820b-f383aad10175',\n",
       " '52e2f198-482d-4992-a85b-0f7127ee6162',\n",
       " '60592e22-8668-48bd-a5b5-811b575af08d',\n",
       " '8f9ba41c-c557-42ab-a81d-4838e62db52c',\n",
       " 'b305f6ce-2acb-4852-8a8a-1cfb22b2439a',\n",
       " 'b83d0dc4-a7dc-4ef4-8b72-db39d34b09ee',\n",
       " 'dbff731a-593e-442c-99f0-a54001dea138',\n",
       " 'dc8b3968-f2e3-4806-90f7-7651bf9196ac',\n",
       " 'e99d7f0f-4ad6-4223-8ca8-6d83c040c058']"
      ]
     },
     "execution_count": 105,
     "metadata": {},
     "output_type": "execute_result"
    }
   ],
   "source": [
    "plain_atts"
   ]
  },
  {
   "cell_type": "code",
   "execution_count": 106,
   "id": "growing-platform",
   "metadata": {},
   "outputs": [
    {
     "data": {
      "text/plain": [
       "[['86f2aed2-3801-420a-8df0-665d6b69c193',\n",
       "  'de02c870-1658-4a34-bd03-832f8efa741d',\n",
       "  '34294966-7022-4b19-bec9-e92da83702a9'],\n",
       " ['0b4921a6-6923-40a2-941c-ac726cc2eb07',\n",
       "  '5de9ac2d-2879-4e44-978b-52307c4fd698',\n",
       "  'f912dc27-fc5e-48e8-abf7-29d3f47c913c'],\n",
       " ['dd332374-c114-481e-bffd-6b99914bac4f',\n",
       "  '5c13fffc-dfa1-41f4-b34d-d999b837b278',\n",
       "  'cb4386fe-67d9-4743-995f-5d4a4162e26e'],\n",
       " ['40a619db-be4b-427a-b303-2c945d2004ef',\n",
       "  '2ca7bab9-4bf5-4beb-9193-b66221fbf308',\n",
       "  'a9c33eca-038f-4f35-8e2c-63fdfc3eff22'],\n",
       " ['b8173879-3e86-4770-81ef-592f02800554',\n",
       "  '2d2f2249-1151-4717-aa3b-039652c8bf4e',\n",
       "  '51ef7947-2aab-4abc-8276-f19363d7f73f'],\n",
       " ['d1ea4468-efba-48d9-aa9e-376669453e5b',\n",
       "  'c6497b27-5dcb-4bae-bd92-86179a5daeab'],\n",
       " ['fe335d3c-ba21-41bf-8e4b-a52d1c9590f0',\n",
       "  '6045bd07-09d9-4a01-97a4-ede5cad64d76'],\n",
       " ['10c42299-eb57-4ede-92ad-af66367a2e6e',\n",
       "  '5b503408-eb47-4931-8365-891df10a96f3'],\n",
       " ['d59b76e9-7d47-42f4-9a6c-82f350158deb',\n",
       "  '7b9876df-d176-4d78-a2f1-34e93572ecb1',\n",
       "  '9d138c7a-9e26-4d30-90d2-f67917c0c127']]"
      ]
     },
     "execution_count": 106,
     "metadata": {},
     "output_type": "execute_result"
    }
   ],
   "source": [
    "redef_orders"
   ]
  },
  {
   "cell_type": "code",
   "execution_count": 107,
   "id": "standing-appointment",
   "metadata": {},
   "outputs": [],
   "source": [
    "ordered_atts = []\n",
    "for att in plain_atts:\n",
    "    ordered_atts.append(id_memo_dict[att])\n",
    "for red_seq in redef_orders:\n",
    "    for att in red_seq:\n",
    "        ordered_atts.append(id_memo_dict[att])"
   ]
  },
  {
   "cell_type": "code",
   "execution_count": 108,
   "id": "adopted-prince",
   "metadata": {},
   "outputs": [],
   "source": [
    "att_value_dicts = []\n",
    "value_holders = []\n",
    "\n",
    "for classifier_instance_dict in classifier_instance_dicts:\n",
    "\n",
    "    att_value_dict = {}\n",
    "\n",
    "    for att in ordered_atts:\n",
    "        new_sequences = []\n",
    "        att_owning_type = id_memo_dict[att['owningType']['@id']]\n",
    "        if att_owning_type['@type'] == 'PartDefinition':\n",
    "            # need to check for redefintion here - if redefined, point to values from redefining\n",
    "            if att['@id'] not in plain_atts:\n",
    "                atts_to_grab = []\n",
    "                for redef in redef_orders:\n",
    "                    if att['@id'] in redef:\n",
    "                        for red_att in redef:\n",
    "                            if red_att != att['@id']:\n",
    "                                try:\n",
    "                                    collect_path = NX.shortest_path(attribute_redefinition_graph, red_att, att['@id'])\n",
    "                                    atts_to_grab.append(red_att)\n",
    "\n",
    "                                except NX.NetworkXNoPath:\n",
    "                                    pass\n",
    "                if len(atts_to_grab) > 0:\n",
    "                    #print('Atts to grab for ' + att['@id'] + ' are ' + str(atts_to_grab))\n",
    "                    for atg in atts_to_grab:\n",
    "                        for new_seq in att_value_dict[atg]:\n",
    "                            new_sequences.append(new_seq)\n",
    "                                \n",
    "            if att['@id'] in plain_atts or len(atts_to_grab) == 0:\n",
    "                if att_owning_type['name'] in classifier_instance_dict:\n",
    "                    for instance in classifier_instance_dict[att_owning_type['name']]:\n",
    "                        new_sequence = []\n",
    "                        new_sequence.append(instance)\n",
    "\n",
    "                        #new_sequence.append(att['name'])\n",
    "\n",
    "                        for value in get_att_literal_values(att):\n",
    "                            #new_sequence.append(value['@id'])\n",
    "                            new_holder = ValueHolder([instance], att['name'], value['value'], att)\n",
    "                            value_holders.append(new_holder)\n",
    "                            new_sequence.append(new_holder)\n",
    "\n",
    "                        if len(get_att_literal_values(att)) == 0:\n",
    "                            new_holder = ValueHolder([instance], att['name'], None, att)\n",
    "                            new_sequence.append(new_holder)\n",
    "                        new_sequences.append(new_sequence)\n",
    "\n",
    "        att_value_dict.update({att['@id']: new_sequences})\n",
    "        \n",
    "    att_value_dicts.append(att_value_dict)"
   ]
  },
  {
   "cell_type": "markdown",
   "id": "foreign-setup",
   "metadata": {},
   "source": [
    "TODO: The block below still needs to become aware of redefines"
   ]
  },
  {
   "cell_type": "code",
   "execution_count": 109,
   "id": "incident-assessment",
   "metadata": {},
   "outputs": [],
   "source": [
    "for indx, feature_sequence_dictionary in enumerate(feature_sequence_dictionaries):\n",
    "    \n",
    "    att_value_dict = att_value_dicts[indx]\n",
    "    \n",
    "    for att in ordered_atts:\n",
    "        new_sequences = []\n",
    "        att_owning_type = id_memo_dict[att['owningType']['@id']]\n",
    "        if att_owning_type['@type'] == 'PartUsage':\n",
    "            if att['@id'] not in plain_atts:\n",
    "                atts_to_grab = []\n",
    "                for redef in redef_orders:\n",
    "                    if att['@id'] in redef:\n",
    "                        for red_att in redef:\n",
    "                            if red_att != att['@id']:\n",
    "                                try:\n",
    "                                    collect_path = NX.shortest_path(attribute_redefinition_graph, red_att, att['@id'])\n",
    "                                    atts_to_grab.append(red_att)\n",
    "\n",
    "                                except NX.NetworkXNoPath:\n",
    "                                    pass\n",
    "                if len(atts_to_grab) > 0:\n",
    "                    #print('Atts to grab for ' + att['@id'] + ' are ' + str(atts_to_grab))\n",
    "                    for atg in atts_to_grab:\n",
    "                        for new_seq in att_value_dict[atg]:\n",
    "                            new_sequences.append(new_seq)\n",
    "                            \n",
    "            if att_owning_type['@id'] in feature_sequence_dictionary or len(atts_to_grab) == 0:\n",
    "                for instance_sequence in feature_sequence_dictionary[att_owning_type['@id']]:\n",
    "                    new_sequence = copy.deepcopy(instance_sequence)\n",
    "                    \n",
    "                    #new_sequence.append(att['name'])\n",
    "                    \n",
    "                    for value in get_att_literal_values(att):\n",
    "                        #new_sequence.append(value['@id'])\n",
    "                        new_holder = ValueHolder(instance_sequence, att['name'], value['value'], att)\n",
    "                        value_holders.append(new_holder)\n",
    "                        new_sequence.append(new_holder)\n",
    "                        \n",
    "                    if len(get_att_literal_values(att)) == 0:\n",
    "                        new_holder = ValueHolder(instance_sequence, att['name'], None, att)\n",
    "                        new_sequence.append(new_holder)\n",
    "                    new_sequences.append(new_sequence)\n",
    "\n",
    "            att_value_dict.update({att['@id']: new_sequences})\n",
    "        \n",
    "    att_value_dicts.append(att_value_dict)"
   ]
  },
  {
   "cell_type": "code",
   "execution_count": 110,
   "id": "homeless-tutorial",
   "metadata": {},
   "outputs": [
    {
     "name": "stdout",
     "output_type": "stream",
     "text": [
      "Solution #0\n",
      "Max Temperature under Kerbal Rocket Part, id 01341d2c-a4ce-4f35-8c11-652be9d6b58c\n",
      "[RT-5#1, RT-5#1.Max Temperature (unset)]\n",
      "[Coupler#1, Coupler#1.Max Temperature (unset)]\n",
      "[Coupler#2, Coupler#2.Max Temperature (unset)]\n",
      "[Coupler#3, Coupler#3.Max Temperature (unset)]\n",
      "[Coupler#4, Coupler#4.Max Temperature (unset)]\n",
      "..\n",
      "Full Mass under Liquid Stage, id 25a4a485-735c-4b5d-8d6f-140e176a144f\n",
      "[LS#1, LS#1.Full Mass (unset)]\n",
      "[LS#2, LS#2.Full Mass (unset)]\n",
      "[LS#3, LS#3.Full Mass (unset)]\n",
      "Burnout Mass under stages, id 2a795610-4d4a-4c6f-b4eb-3e175f85455d\n",
      "[Rocket#1, LS#3, Rocket#1.LS#3.Burnout Mass (unset)]\n",
      "[Rocket#1, LS#1, Rocket#1.LS#1.Burnout Mass (unset)]\n",
      "Empty Mass under Liquid Stage, id 49fa2a78-e24a-4960-820b-f383aad10175\n",
      "[LS#1, LS#1.Empty Mass (unset)]\n",
      "[LS#2, LS#2.Empty Mass (unset)]\n",
      "[LS#3, LS#3.Empty Mass (unset)]\n",
      "Loaded Mass under stages, id 52e2f198-482d-4992-a85b-0f7127ee6162\n",
      "[Rocket#1, LS#3, Rocket#1.LS#3.Loaded Mass (unset)]\n",
      "[Rocket#1, LS#1, Rocket#1.LS#1.Loaded Mass (unset)]\n",
      "Oxidizer under Fuel Tank Section, id 60592e22-8668-48bd-a5b5-811b575af08d\n",
      "[FL-T200#1, FL-T200#1.Oxidizer (unset)]\n",
      "[FL-T200#2, FL-T200#2.Oxidizer (unset)]\n",
      "[FL-T200#3, FL-T200#3.Oxidizer (unset)]\n",
      "[FL-T200#4, FL-T200#4.Oxidizer (unset)]\n",
      "[FL-T200#5, FL-T200#5.Oxidizer (unset)]\n",
      "..\n",
      "Liquid Fuel under Fuel Tank Section, id 8f9ba41c-c557-42ab-a81d-4838e62db52c\n",
      "[FL-T200#1, FL-T200#1.Liquid Fuel (unset)]\n",
      "[FL-T200#2, FL-T200#2.Liquid Fuel (unset)]\n",
      "[FL-T200#3, FL-T200#3.Liquid Fuel (unset)]\n",
      "[FL-T200#4, FL-T200#4.Liquid Fuel (unset)]\n",
      "[FL-T200#5, FL-T200#5.Liquid Fuel (unset)]\n",
      "..\n",
      "Separation Force under Coupler to Carrying Stage, id b305f6ce-2acb-4852-8a8a-1cfb22b2439a\n",
      "[Rocket#1, LS#3, Coupler#17, Rocket#1.LS#3.Coupler#17.Separation Force (unset)]\n",
      "[Rocket#1, LS#3, Coupler#33, Rocket#1.LS#3.Coupler#33.Separation Force (unset)]\n",
      "[Rocket#1, LS#3, Coupler#16, Rocket#1.LS#3.Coupler#16.Separation Force (unset)]\n",
      "[Rocket#1, LS#3, Coupler#15, Rocket#1.LS#3.Coupler#15.Separation Force (unset)]\n",
      "[Rocket#1, LS#1, Coupler#5, Rocket#1.LS#1.Coupler#5.Separation Force (unset)]\n",
      "..\n",
      "Empty Mass under Solid Stage, id b83d0dc4-a7dc-4ef4-8b72-db39d34b09ee\n",
      "[SS#1, SS#1.Empty Mass (unset)]\n",
      "[SS#2, SS#2.Empty Mass (unset)]\n",
      "Payload Mass under stages, id dbff731a-593e-442c-99f0-a54001dea138\n",
      "[Rocket#1, LS#3, Rocket#1.LS#3.Payload Mass (unset)]\n",
      "[Rocket#1, LS#1, Rocket#1.LS#1.Payload Mass (unset)]\n",
      "Torque under Pod, id dc8b3968-f2e3-4806-90f7-7651bf9196ac\n",
      "Full Mass under Solid Stage, id e99d7f0f-4ad6-4223-8ca8-6d83c040c058\n",
      "[SS#1, SS#1.Full Mass (unset)]\n",
      "[SS#2, SS#2.Full Mass (unset)]\n",
      "Thrust under RT-5 \"Flea\" Solid Fuel Booster, id 86f2aed2-3801-420a-8df0-665d6b69c193\n",
      "[RT-5#1, RT-5#1.Thrust (162.91)]\n",
      "Thrust under RT-10 \"Hammer\" Solid Fuel Booster, id de02c870-1658-4a34-bd03-832f8efa741d\n",
      "[RT-10#1, RT-10#1.Thrust (197.9)]\n",
      "[RT-10#2, RT-10#2.Thrust (197.9)]\n",
      "[RT-10#3, RT-10#3.Thrust (197.9)]\n",
      "[RT-10#4, RT-10#4.Thrust (197.9)]\n",
      "[RT-10#5, RT-10#5.Thrust (197.9)]\n",
      "..\n",
      "Thrust under Solid Booster, id 34294966-7022-4b19-bec9-e92da83702a9\n",
      "[RT-5#1, RT-5#1.Thrust (162.91)]\n",
      "[RT-10#1, RT-10#1.Thrust (197.9)]\n",
      "[RT-10#2, RT-10#2.Thrust (197.9)]\n",
      "[RT-10#3, RT-10#3.Thrust (197.9)]\n",
      "[RT-10#4, RT-10#4.Thrust (197.9)]\n",
      "..\n",
      "Full Mass under FL-T100 Fuel Tank, id 0b4921a6-6923-40a2-941c-ac726cc2eb07\n",
      "[FL-T100#1, FL-T100#1.Full Mass (0.5625)]\n",
      "[FL-T100#2, FL-T100#2.Full Mass (0.5625)]\n",
      "[FL-T100#3, FL-T100#3.Full Mass (0.5625)]\n",
      "[FL-T100#4, FL-T100#4.Full Mass (0.5625)]\n",
      "[FL-T100#5, FL-T100#5.Full Mass (0.5625)]\n",
      "..\n",
      "Full Mass under FL-T200 Fuel Tank, id 5de9ac2d-2879-4e44-978b-52307c4fd698\n",
      "[FL-T200#1, FL-T200#1.Full Mass (1.125)]\n",
      "[FL-T200#2, FL-T200#2.Full Mass (1.125)]\n",
      "[FL-T200#3, FL-T200#3.Full Mass (1.125)]\n",
      "[FL-T200#4, FL-T200#4.Full Mass (1.125)]\n",
      "[FL-T200#5, FL-T200#5.Full Mass (1.125)]\n",
      "..\n",
      "Full Mass under Fuel Tank Section, id f912dc27-fc5e-48e8-abf7-29d3f47c913c\n",
      "[FL-T100#1, FL-T100#1.Full Mass (0.5625)]\n",
      "[FL-T100#2, FL-T100#2.Full Mass (0.5625)]\n",
      "[FL-T100#3, FL-T100#3.Full Mass (0.5625)]\n",
      "[FL-T100#4, FL-T100#4.Full Mass (0.5625)]\n",
      "[FL-T100#5, FL-T100#5.Full Mass (0.5625)]\n",
      "..\n",
      "Empty Mass under FL-T100 Fuel Tank, id dd332374-c114-481e-bffd-6b99914bac4f\n",
      "[FL-T100#1, FL-T100#1.Empty Mass (0.0625)]\n",
      "[FL-T100#2, FL-T100#2.Empty Mass (0.0625)]\n",
      "[FL-T100#3, FL-T100#3.Empty Mass (0.0625)]\n",
      "[FL-T100#4, FL-T100#4.Empty Mass (0.0625)]\n",
      "[FL-T100#5, FL-T100#5.Empty Mass (0.0625)]\n",
      "..\n",
      "Empty Mass under FL-T200 Fuel Tank, id 5c13fffc-dfa1-41f4-b34d-d999b837b278\n",
      "[FL-T200#1, FL-T200#1.Empty Mass (0.125)]\n",
      "[FL-T200#2, FL-T200#2.Empty Mass (0.125)]\n",
      "[FL-T200#3, FL-T200#3.Empty Mass (0.125)]\n",
      "[FL-T200#4, FL-T200#4.Empty Mass (0.125)]\n",
      "[FL-T200#5, FL-T200#5.Empty Mass (0.125)]\n",
      "..\n",
      "Empty Mass under Fuel Tank Section, id cb4386fe-67d9-4743-995f-5d4a4162e26e\n",
      "[FL-T100#1, FL-T100#1.Empty Mass (0.0625)]\n",
      "[FL-T100#2, FL-T100#2.Empty Mass (0.0625)]\n",
      "[FL-T100#3, FL-T100#3.Empty Mass (0.0625)]\n",
      "[FL-T100#4, FL-T100#4.Empty Mass (0.0625)]\n",
      "[FL-T100#5, FL-T100#5.Empty Mass (0.0625)]\n",
      "..\n",
      "Specific Impulse under RT-5 \"Flea\" Solid Fuel Booster, id 40a619db-be4b-427a-b303-2c945d2004ef\n",
      "[RT-5#1, RT-5#1.Specific Impulse (140.0)]\n",
      "Specific Impulse under RT-10 \"Hammer\" Solid Fuel Booster, id 2ca7bab9-4bf5-4beb-9193-b66221fbf308\n",
      "[RT-10#1, RT-10#1.Specific Impulse (170.0)]\n",
      "[RT-10#2, RT-10#2.Specific Impulse (170.0)]\n",
      "[RT-10#3, RT-10#3.Specific Impulse (170.0)]\n",
      "[RT-10#4, RT-10#4.Specific Impulse (170.0)]\n",
      "[RT-10#5, RT-10#5.Specific Impulse (170.0)]\n",
      "..\n",
      "Specific Impulse under Solid Booster, id a9c33eca-038f-4f35-8e2c-63fdfc3eff22\n",
      "[RT-5#1, RT-5#1.Specific Impulse (140.0)]\n",
      "[RT-10#1, RT-10#1.Specific Impulse (170.0)]\n",
      "[RT-10#2, RT-10#2.Specific Impulse (170.0)]\n",
      "[RT-10#3, RT-10#3.Specific Impulse (170.0)]\n",
      "[RT-10#4, RT-10#4.Specific Impulse (170.0)]\n",
      "..\n",
      "Empty Mass under RT-5 \"Flea\" Solid Fuel Booster, id b8173879-3e86-4770-81ef-592f02800554\n",
      "[RT-5#1, RT-5#1.Empty Mass (0.45)]\n",
      "Empty Mass under RT-10 \"Hammer\" Solid Fuel Booster, id 2d2f2249-1151-4717-aa3b-039652c8bf4e\n",
      "[RT-10#1, RT-10#1.Empty Mass (0.75)]\n",
      "[RT-10#2, RT-10#2.Empty Mass (0.75)]\n",
      "[RT-10#3, RT-10#3.Empty Mass (0.75)]\n",
      "[RT-10#4, RT-10#4.Empty Mass (0.75)]\n",
      "[RT-10#5, RT-10#5.Empty Mass (0.75)]\n",
      "..\n",
      "Empty Mass under Solid Booster, id 51ef7947-2aab-4abc-8276-f19363d7f73f\n",
      "[RT-5#1, RT-5#1.Empty Mass (0.45)]\n",
      "[RT-10#1, RT-10#1.Empty Mass (0.75)]\n",
      "[RT-10#2, RT-10#2.Empty Mass (0.75)]\n",
      "[RT-10#3, RT-10#3.Empty Mass (0.75)]\n",
      "[RT-10#4, RT-10#4.Empty Mass (0.75)]\n",
      "..\n",
      "Thrust under LV-T45 \"Swivel\" Liquid Fuel Engine, id d1ea4468-efba-48d9-aa9e-376669453e5b\n",
      "[LV-T45#1, LV-T45#1.Thrust (167.97)]\n",
      "[LV-T45#2, LV-T45#2.Thrust (167.97)]\n",
      "[LV-T45#3, LV-T45#3.Thrust (167.97)]\n",
      "[LV-T45#4, LV-T45#4.Thrust (167.97)]\n",
      "[LV-T45#5, LV-T45#5.Thrust (167.97)]\n",
      "..\n",
      "Thrust under Liquid Engine, id c6497b27-5dcb-4bae-bd92-86179a5daeab\n",
      "[LV-T45#1, LV-T45#1.Thrust (167.97)]\n",
      "[LV-T45#2, LV-T45#2.Thrust (167.97)]\n",
      "[LV-T45#3, LV-T45#3.Thrust (167.97)]\n",
      "[LV-T45#4, LV-T45#4.Thrust (167.97)]\n",
      "[LV-T45#5, LV-T45#5.Thrust (167.97)]\n",
      "..\n",
      "Mass under LV-T45 \"Swivel\" Liquid Fuel Engine, id fe335d3c-ba21-41bf-8e4b-a52d1c9590f0\n",
      "[LV-T45#1, LV-T45#1.Mass (1.5)]\n",
      "[LV-T45#2, LV-T45#2.Mass (1.5)]\n",
      "[LV-T45#3, LV-T45#3.Mass (1.5)]\n",
      "[LV-T45#4, LV-T45#4.Mass (1.5)]\n",
      "[LV-T45#5, LV-T45#5.Mass (1.5)]\n",
      "..\n",
      "Mass under Kerbal Rocket Part, id 6045bd07-09d9-4a01-97a4-ede5cad64d76\n",
      "[LV-T45#1, LV-T45#1.Mass (1.5)]\n",
      "[LV-T45#2, LV-T45#2.Mass (1.5)]\n",
      "[LV-T45#3, LV-T45#3.Mass (1.5)]\n",
      "[LV-T45#4, LV-T45#4.Mass (1.5)]\n",
      "[LV-T45#5, LV-T45#5.Mass (1.5)]\n",
      "..\n",
      "Specific Impulse under LV-T45 \"Swivel\" Liquid Fuel Engine, id 10c42299-eb57-4ede-92ad-af66367a2e6e\n",
      "[LV-T45#1, LV-T45#1.Specific Impulse (170.0)]\n",
      "[LV-T45#2, LV-T45#2.Specific Impulse (170.0)]\n",
      "[LV-T45#3, LV-T45#3.Specific Impulse (170.0)]\n",
      "[LV-T45#4, LV-T45#4.Specific Impulse (170.0)]\n",
      "[LV-T45#5, LV-T45#5.Specific Impulse (170.0)]\n",
      "..\n",
      "Specific Impulse under Liquid Engine, id 5b503408-eb47-4931-8365-891df10a96f3\n",
      "[LV-T45#1, LV-T45#1.Specific Impulse (170.0)]\n",
      "[LV-T45#2, LV-T45#2.Specific Impulse (170.0)]\n",
      "[LV-T45#3, LV-T45#3.Specific Impulse (170.0)]\n",
      "[LV-T45#4, LV-T45#4.Specific Impulse (170.0)]\n",
      "[LV-T45#5, LV-T45#5.Specific Impulse (170.0)]\n",
      "..\n",
      "Full Mass under RT-10 \"Hammer\" Solid Fuel Booster, id d59b76e9-7d47-42f4-9a6c-82f350158deb\n",
      "[RT-10#1, RT-10#1.Full Mass (3.56)]\n",
      "[RT-10#2, RT-10#2.Full Mass (3.56)]\n",
      "[RT-10#3, RT-10#3.Full Mass (3.56)]\n",
      "[RT-10#4, RT-10#4.Full Mass (3.56)]\n",
      "[RT-10#5, RT-10#5.Full Mass (3.56)]\n",
      "..\n",
      "Full Mass under RT-5 \"Flea\" Solid Fuel Booster, id 7b9876df-d176-4d78-a2f1-34e93572ecb1\n",
      "[RT-5#1, RT-5#1.Full Mass (1.5)]\n",
      "Full Mass under Solid Booster, id 9d138c7a-9e26-4d30-90d2-f67917c0c127\n",
      "[RT-10#1, RT-10#1.Full Mass (3.56)]\n",
      "[RT-10#2, RT-10#2.Full Mass (3.56)]\n",
      "[RT-10#3, RT-10#3.Full Mass (3.56)]\n",
      "[RT-10#4, RT-10#4.Full Mass (3.56)]\n",
      "[RT-10#5, RT-10#5.Full Mass (3.56)]\n",
      "..\n",
      "Solution #1\n",
      "Max Temperature under Kerbal Rocket Part, id 01341d2c-a4ce-4f35-8c11-652be9d6b58c\n",
      "[RT-5#1, RT-5#1.Max Temperature (unset)]\n",
      "[RT-5#2, RT-5#2.Max Temperature (unset)]\n",
      "[RT-5#3, RT-5#3.Max Temperature (unset)]\n",
      "[RT-5#4, RT-5#4.Max Temperature (unset)]\n",
      "[RT-5#5, RT-5#5.Max Temperature (unset)]\n",
      "..\n",
      "Full Mass under Liquid Stage, id 25a4a485-735c-4b5d-8d6f-140e176a144f\n",
      "[LS#1, LS#1.Full Mass (unset)]\n",
      "[LS#2, LS#2.Full Mass (unset)]\n",
      "Burnout Mass under stages, id 2a795610-4d4a-4c6f-b4eb-3e175f85455d\n",
      "[Rocket#1, LS#2, Rocket#1.LS#2.Burnout Mass (unset)]\n",
      "[Rocket#1, LS#1, Rocket#1.LS#1.Burnout Mass (unset)]\n",
      "[Rocket#1, SS#1, Rocket#1.SS#1.Burnout Mass (unset)]\n",
      "[Rocket#1, SS#3, Rocket#1.SS#3.Burnout Mass (unset)]\n",
      "Empty Mass under Liquid Stage, id 49fa2a78-e24a-4960-820b-f383aad10175\n",
      "[LS#1, LS#1.Empty Mass (unset)]\n",
      "[LS#2, LS#2.Empty Mass (unset)]\n",
      "Loaded Mass under stages, id 52e2f198-482d-4992-a85b-0f7127ee6162\n",
      "[Rocket#1, LS#2, Rocket#1.LS#2.Loaded Mass (unset)]\n",
      "[Rocket#1, LS#1, Rocket#1.LS#1.Loaded Mass (unset)]\n",
      "[Rocket#1, SS#1, Rocket#1.SS#1.Loaded Mass (unset)]\n",
      "[Rocket#1, SS#3, Rocket#1.SS#3.Loaded Mass (unset)]\n",
      "Oxidizer under Fuel Tank Section, id 60592e22-8668-48bd-a5b5-811b575af08d\n",
      "[FL-T200#1, FL-T200#1.Oxidizer (unset)]\n",
      "[FL-T200#2, FL-T200#2.Oxidizer (unset)]\n",
      "[FL-T200#3, FL-T200#3.Oxidizer (unset)]\n",
      "[FL-T200#4, FL-T200#4.Oxidizer (unset)]\n",
      "[FL-T200#5, FL-T200#5.Oxidizer (unset)]\n",
      "..\n",
      "Liquid Fuel under Fuel Tank Section, id 8f9ba41c-c557-42ab-a81d-4838e62db52c\n",
      "[FL-T200#1, FL-T200#1.Liquid Fuel (unset)]\n",
      "[FL-T200#2, FL-T200#2.Liquid Fuel (unset)]\n",
      "[FL-T200#3, FL-T200#3.Liquid Fuel (unset)]\n",
      "[FL-T200#4, FL-T200#4.Liquid Fuel (unset)]\n",
      "[FL-T200#5, FL-T200#5.Liquid Fuel (unset)]\n",
      "..\n",
      "Separation Force under Coupler to Carrying Stage, id b305f6ce-2acb-4852-8a8a-1cfb22b2439a\n",
      "[Rocket#1, LS#2, Coupler#21, Rocket#1.LS#2.Coupler#21.Separation Force (unset)]\n",
      "[Rocket#1, LS#2, Coupler#40, Rocket#1.LS#2.Coupler#40.Separation Force (unset)]\n",
      "[Rocket#1, LS#2, Coupler#24, Rocket#1.LS#2.Coupler#24.Separation Force (unset)]\n",
      "[Rocket#1, LS#2, Coupler#27, Rocket#1.LS#2.Coupler#27.Separation Force (unset)]\n",
      "[Rocket#1, LS#2, Coupler#35, Rocket#1.LS#2.Coupler#35.Separation Force (unset)]\n",
      "..\n",
      "Empty Mass under Solid Stage, id b83d0dc4-a7dc-4ef4-8b72-db39d34b09ee\n",
      "[SS#1, SS#1.Empty Mass (unset)]\n",
      "[SS#2, SS#2.Empty Mass (unset)]\n",
      "[SS#3, SS#3.Empty Mass (unset)]\n",
      "Payload Mass under stages, id dbff731a-593e-442c-99f0-a54001dea138\n",
      "[Rocket#1, LS#2, Rocket#1.LS#2.Payload Mass (unset)]\n",
      "[Rocket#1, LS#1, Rocket#1.LS#1.Payload Mass (unset)]\n",
      "[Rocket#1, SS#1, Rocket#1.SS#1.Payload Mass (unset)]\n",
      "[Rocket#1, SS#3, Rocket#1.SS#3.Payload Mass (unset)]\n",
      "Torque under Pod, id dc8b3968-f2e3-4806-90f7-7651bf9196ac\n",
      "Full Mass under Solid Stage, id e99d7f0f-4ad6-4223-8ca8-6d83c040c058\n",
      "[SS#1, SS#1.Full Mass (unset)]\n",
      "[SS#2, SS#2.Full Mass (unset)]\n",
      "[SS#3, SS#3.Full Mass (unset)]\n",
      "Thrust under RT-5 \"Flea\" Solid Fuel Booster, id 86f2aed2-3801-420a-8df0-665d6b69c193\n",
      "[RT-5#1, RT-5#1.Thrust (162.91)]\n",
      "[RT-5#2, RT-5#2.Thrust (162.91)]\n",
      "[RT-5#3, RT-5#3.Thrust (162.91)]\n",
      "[RT-5#4, RT-5#4.Thrust (162.91)]\n",
      "[RT-5#5, RT-5#5.Thrust (162.91)]\n",
      "..\n",
      "Thrust under RT-10 \"Hammer\" Solid Fuel Booster, id de02c870-1658-4a34-bd03-832f8efa741d\n",
      "[RT-10#1, RT-10#1.Thrust (197.9)]\n",
      "[RT-10#2, RT-10#2.Thrust (197.9)]\n",
      "[RT-10#3, RT-10#3.Thrust (197.9)]\n",
      "[RT-10#4, RT-10#4.Thrust (197.9)]\n",
      "[RT-10#5, RT-10#5.Thrust (197.9)]\n",
      "..\n",
      "Thrust under Solid Booster, id 34294966-7022-4b19-bec9-e92da83702a9\n",
      "[RT-5#1, RT-5#1.Thrust (162.91)]\n",
      "[RT-5#2, RT-5#2.Thrust (162.91)]\n",
      "[RT-5#3, RT-5#3.Thrust (162.91)]\n",
      "[RT-5#4, RT-5#4.Thrust (162.91)]\n",
      "[RT-5#5, RT-5#5.Thrust (162.91)]\n",
      "..\n",
      "Full Mass under FL-T100 Fuel Tank, id 0b4921a6-6923-40a2-941c-ac726cc2eb07\n",
      "[FL-T100#1, FL-T100#1.Full Mass (0.5625)]\n",
      "[FL-T100#2, FL-T100#2.Full Mass (0.5625)]\n",
      "[FL-T100#3, FL-T100#3.Full Mass (0.5625)]\n",
      "[FL-T100#4, FL-T100#4.Full Mass (0.5625)]\n",
      "[FL-T100#5, FL-T100#5.Full Mass (0.5625)]\n",
      "..\n",
      "Full Mass under FL-T200 Fuel Tank, id 5de9ac2d-2879-4e44-978b-52307c4fd698\n",
      "[FL-T200#1, FL-T200#1.Full Mass (1.125)]\n",
      "[FL-T200#2, FL-T200#2.Full Mass (1.125)]\n",
      "[FL-T200#3, FL-T200#3.Full Mass (1.125)]\n",
      "[FL-T200#4, FL-T200#4.Full Mass (1.125)]\n",
      "[FL-T200#5, FL-T200#5.Full Mass (1.125)]\n",
      "..\n",
      "Full Mass under Fuel Tank Section, id f912dc27-fc5e-48e8-abf7-29d3f47c913c\n",
      "[FL-T100#1, FL-T100#1.Full Mass (0.5625)]\n",
      "[FL-T100#2, FL-T100#2.Full Mass (0.5625)]\n",
      "[FL-T100#3, FL-T100#3.Full Mass (0.5625)]\n",
      "[FL-T100#4, FL-T100#4.Full Mass (0.5625)]\n",
      "[FL-T100#5, FL-T100#5.Full Mass (0.5625)]\n",
      "..\n",
      "Empty Mass under FL-T100 Fuel Tank, id dd332374-c114-481e-bffd-6b99914bac4f\n",
      "[FL-T100#1, FL-T100#1.Empty Mass (0.0625)]\n",
      "[FL-T100#2, FL-T100#2.Empty Mass (0.0625)]\n",
      "[FL-T100#3, FL-T100#3.Empty Mass (0.0625)]\n",
      "[FL-T100#4, FL-T100#4.Empty Mass (0.0625)]\n",
      "[FL-T100#5, FL-T100#5.Empty Mass (0.0625)]\n",
      "..\n",
      "Empty Mass under FL-T200 Fuel Tank, id 5c13fffc-dfa1-41f4-b34d-d999b837b278\n",
      "[FL-T200#1, FL-T200#1.Empty Mass (0.125)]\n",
      "[FL-T200#2, FL-T200#2.Empty Mass (0.125)]\n",
      "[FL-T200#3, FL-T200#3.Empty Mass (0.125)]\n",
      "[FL-T200#4, FL-T200#4.Empty Mass (0.125)]\n",
      "[FL-T200#5, FL-T200#5.Empty Mass (0.125)]\n",
      "..\n",
      "Empty Mass under Fuel Tank Section, id cb4386fe-67d9-4743-995f-5d4a4162e26e\n",
      "[FL-T100#1, FL-T100#1.Empty Mass (0.0625)]\n",
      "[FL-T100#2, FL-T100#2.Empty Mass (0.0625)]\n",
      "[FL-T100#3, FL-T100#3.Empty Mass (0.0625)]\n",
      "[FL-T100#4, FL-T100#4.Empty Mass (0.0625)]\n",
      "[FL-T100#5, FL-T100#5.Empty Mass (0.0625)]\n",
      "..\n",
      "Specific Impulse under RT-5 \"Flea\" Solid Fuel Booster, id 40a619db-be4b-427a-b303-2c945d2004ef\n",
      "[RT-5#1, RT-5#1.Specific Impulse (140.0)]\n",
      "[RT-5#2, RT-5#2.Specific Impulse (140.0)]\n",
      "[RT-5#3, RT-5#3.Specific Impulse (140.0)]\n",
      "[RT-5#4, RT-5#4.Specific Impulse (140.0)]\n",
      "[RT-5#5, RT-5#5.Specific Impulse (140.0)]\n",
      "..\n",
      "Specific Impulse under RT-10 \"Hammer\" Solid Fuel Booster, id 2ca7bab9-4bf5-4beb-9193-b66221fbf308\n",
      "[RT-10#1, RT-10#1.Specific Impulse (170.0)]\n",
      "[RT-10#2, RT-10#2.Specific Impulse (170.0)]\n",
      "[RT-10#3, RT-10#3.Specific Impulse (170.0)]\n",
      "[RT-10#4, RT-10#4.Specific Impulse (170.0)]\n",
      "[RT-10#5, RT-10#5.Specific Impulse (170.0)]\n",
      "..\n",
      "Specific Impulse under Solid Booster, id a9c33eca-038f-4f35-8e2c-63fdfc3eff22\n",
      "[RT-5#1, RT-5#1.Specific Impulse (140.0)]\n",
      "[RT-5#2, RT-5#2.Specific Impulse (140.0)]\n",
      "[RT-5#3, RT-5#3.Specific Impulse (140.0)]\n",
      "[RT-5#4, RT-5#4.Specific Impulse (140.0)]\n",
      "[RT-5#5, RT-5#5.Specific Impulse (140.0)]\n",
      "..\n",
      "Empty Mass under RT-5 \"Flea\" Solid Fuel Booster, id b8173879-3e86-4770-81ef-592f02800554\n",
      "[RT-5#1, RT-5#1.Empty Mass (0.45)]\n",
      "[RT-5#2, RT-5#2.Empty Mass (0.45)]\n",
      "[RT-5#3, RT-5#3.Empty Mass (0.45)]\n",
      "[RT-5#4, RT-5#4.Empty Mass (0.45)]\n",
      "[RT-5#5, RT-5#5.Empty Mass (0.45)]\n",
      "..\n",
      "Empty Mass under RT-10 \"Hammer\" Solid Fuel Booster, id 2d2f2249-1151-4717-aa3b-039652c8bf4e\n",
      "[RT-10#1, RT-10#1.Empty Mass (0.75)]\n",
      "[RT-10#2, RT-10#2.Empty Mass (0.75)]\n",
      "[RT-10#3, RT-10#3.Empty Mass (0.75)]\n",
      "[RT-10#4, RT-10#4.Empty Mass (0.75)]\n",
      "[RT-10#5, RT-10#5.Empty Mass (0.75)]\n",
      "..\n",
      "Empty Mass under Solid Booster, id 51ef7947-2aab-4abc-8276-f19363d7f73f\n",
      "[RT-5#1, RT-5#1.Empty Mass (0.45)]\n",
      "[RT-5#2, RT-5#2.Empty Mass (0.45)]\n",
      "[RT-5#3, RT-5#3.Empty Mass (0.45)]\n",
      "[RT-5#4, RT-5#4.Empty Mass (0.45)]\n",
      "[RT-5#5, RT-5#5.Empty Mass (0.45)]\n",
      "..\n",
      "Thrust under LV-T45 \"Swivel\" Liquid Fuel Engine, id d1ea4468-efba-48d9-aa9e-376669453e5b\n",
      "[LV-T45#1, LV-T45#1.Thrust (167.97)]\n",
      "[LV-T45#2, LV-T45#2.Thrust (167.97)]\n",
      "[LV-T45#3, LV-T45#3.Thrust (167.97)]\n",
      "[LV-T45#4, LV-T45#4.Thrust (167.97)]\n",
      "[LV-T45#5, LV-T45#5.Thrust (167.97)]\n",
      "..\n",
      "Thrust under Liquid Engine, id c6497b27-5dcb-4bae-bd92-86179a5daeab\n",
      "[LV-T45#1, LV-T45#1.Thrust (167.97)]\n",
      "[LV-T45#2, LV-T45#2.Thrust (167.97)]\n",
      "[LV-T45#3, LV-T45#3.Thrust (167.97)]\n",
      "[LV-T45#4, LV-T45#4.Thrust (167.97)]\n",
      "[LV-T45#5, LV-T45#5.Thrust (167.97)]\n",
      "..\n",
      "Mass under LV-T45 \"Swivel\" Liquid Fuel Engine, id fe335d3c-ba21-41bf-8e4b-a52d1c9590f0\n",
      "[LV-T45#1, LV-T45#1.Mass (1.5)]\n",
      "[LV-T45#2, LV-T45#2.Mass (1.5)]\n",
      "[LV-T45#3, LV-T45#3.Mass (1.5)]\n",
      "[LV-T45#4, LV-T45#4.Mass (1.5)]\n",
      "[LV-T45#5, LV-T45#5.Mass (1.5)]\n",
      "..\n",
      "Mass under Kerbal Rocket Part, id 6045bd07-09d9-4a01-97a4-ede5cad64d76\n",
      "[LV-T45#1, LV-T45#1.Mass (1.5)]\n",
      "[LV-T45#2, LV-T45#2.Mass (1.5)]\n",
      "[LV-T45#3, LV-T45#3.Mass (1.5)]\n",
      "[LV-T45#4, LV-T45#4.Mass (1.5)]\n",
      "[LV-T45#5, LV-T45#5.Mass (1.5)]\n",
      "..\n",
      "Specific Impulse under LV-T45 \"Swivel\" Liquid Fuel Engine, id 10c42299-eb57-4ede-92ad-af66367a2e6e\n",
      "[LV-T45#1, LV-T45#1.Specific Impulse (170.0)]\n",
      "[LV-T45#2, LV-T45#2.Specific Impulse (170.0)]\n",
      "[LV-T45#3, LV-T45#3.Specific Impulse (170.0)]\n",
      "[LV-T45#4, LV-T45#4.Specific Impulse (170.0)]\n",
      "[LV-T45#5, LV-T45#5.Specific Impulse (170.0)]\n",
      "..\n",
      "Specific Impulse under Liquid Engine, id 5b503408-eb47-4931-8365-891df10a96f3\n",
      "[LV-T45#1, LV-T45#1.Specific Impulse (170.0)]\n",
      "[LV-T45#2, LV-T45#2.Specific Impulse (170.0)]\n",
      "[LV-T45#3, LV-T45#3.Specific Impulse (170.0)]\n",
      "[LV-T45#4, LV-T45#4.Specific Impulse (170.0)]\n",
      "[LV-T45#5, LV-T45#5.Specific Impulse (170.0)]\n",
      "..\n",
      "Full Mass under RT-10 \"Hammer\" Solid Fuel Booster, id d59b76e9-7d47-42f4-9a6c-82f350158deb\n",
      "[RT-10#1, RT-10#1.Full Mass (3.56)]\n",
      "[RT-10#2, RT-10#2.Full Mass (3.56)]\n",
      "[RT-10#3, RT-10#3.Full Mass (3.56)]\n",
      "[RT-10#4, RT-10#4.Full Mass (3.56)]\n",
      "[RT-10#5, RT-10#5.Full Mass (3.56)]\n",
      "..\n",
      "Full Mass under RT-5 \"Flea\" Solid Fuel Booster, id 7b9876df-d176-4d78-a2f1-34e93572ecb1\n",
      "[RT-5#1, RT-5#1.Full Mass (1.5)]\n",
      "[RT-5#2, RT-5#2.Full Mass (1.5)]\n",
      "[RT-5#3, RT-5#3.Full Mass (1.5)]\n",
      "[RT-5#4, RT-5#4.Full Mass (1.5)]\n",
      "[RT-5#5, RT-5#5.Full Mass (1.5)]\n",
      "..\n",
      "Full Mass under Solid Booster, id 9d138c7a-9e26-4d30-90d2-f67917c0c127\n",
      "[RT-10#1, RT-10#1.Full Mass (3.56)]\n",
      "[RT-10#2, RT-10#2.Full Mass (3.56)]\n",
      "[RT-10#3, RT-10#3.Full Mass (3.56)]\n",
      "[RT-10#4, RT-10#4.Full Mass (3.56)]\n",
      "[RT-10#5, RT-10#5.Full Mass (3.56)]\n",
      "..\n",
      "Solution #2\n",
      "Max Temperature under Kerbal Rocket Part, id 01341d2c-a4ce-4f35-8c11-652be9d6b58c\n",
      "[RT-5#1, RT-5#1.Max Temperature (unset)]\n",
      "[RT-5#2, RT-5#2.Max Temperature (unset)]\n",
      "[RT-5#3, RT-5#3.Max Temperature (unset)]\n",
      "[RT-5#4, RT-5#4.Max Temperature (unset)]\n",
      "[RT-5#5, RT-5#5.Max Temperature (unset)]\n",
      "..\n",
      "Full Mass under Liquid Stage, id 25a4a485-735c-4b5d-8d6f-140e176a144f\n",
      "[LS#1, LS#1.Full Mass (unset)]\n",
      "[LS#2, LS#2.Full Mass (unset)]\n",
      "[LS#3, LS#3.Full Mass (unset)]\n",
      "Burnout Mass under stages, id 2a795610-4d4a-4c6f-b4eb-3e175f85455d\n",
      "[Rocket#1, LS#3, Rocket#1.LS#3.Burnout Mass (unset)]\n",
      "[Rocket#1, LS#2, Rocket#1.LS#2.Burnout Mass (unset)]\n",
      "Empty Mass under Liquid Stage, id 49fa2a78-e24a-4960-820b-f383aad10175\n",
      "[LS#1, LS#1.Empty Mass (unset)]\n",
      "[LS#2, LS#2.Empty Mass (unset)]\n",
      "[LS#3, LS#3.Empty Mass (unset)]\n",
      "Loaded Mass under stages, id 52e2f198-482d-4992-a85b-0f7127ee6162\n",
      "[Rocket#1, LS#3, Rocket#1.LS#3.Loaded Mass (unset)]\n",
      "[Rocket#1, LS#2, Rocket#1.LS#2.Loaded Mass (unset)]\n",
      "Oxidizer under Fuel Tank Section, id 60592e22-8668-48bd-a5b5-811b575af08d\n",
      "[FL-T200#1, FL-T200#1.Oxidizer (unset)]\n",
      "[FL-T200#2, FL-T200#2.Oxidizer (unset)]\n",
      "[FL-T200#3, FL-T200#3.Oxidizer (unset)]\n",
      "[FL-T200#4, FL-T200#4.Oxidizer (unset)]\n",
      "[FL-T200#5, FL-T200#5.Oxidizer (unset)]\n",
      "..\n",
      "Liquid Fuel under Fuel Tank Section, id 8f9ba41c-c557-42ab-a81d-4838e62db52c\n",
      "[FL-T200#1, FL-T200#1.Liquid Fuel (unset)]\n",
      "[FL-T200#2, FL-T200#2.Liquid Fuel (unset)]\n",
      "[FL-T200#3, FL-T200#3.Liquid Fuel (unset)]\n",
      "[FL-T200#4, FL-T200#4.Liquid Fuel (unset)]\n",
      "[FL-T200#5, FL-T200#5.Liquid Fuel (unset)]\n",
      "..\n",
      "Separation Force under Coupler to Carrying Stage, id b305f6ce-2acb-4852-8a8a-1cfb22b2439a\n",
      "[Rocket#1, LS#3, Coupler#32, Rocket#1.LS#3.Coupler#32.Separation Force (unset)]\n",
      "[Rocket#1, LS#3, Coupler#30, Rocket#1.LS#3.Coupler#30.Separation Force (unset)]\n",
      "[Rocket#1, LS#3, Coupler#9, Rocket#1.LS#3.Coupler#9.Separation Force (unset)]\n",
      "[Rocket#1, LS#3, Coupler#24, Rocket#1.LS#3.Coupler#24.Separation Force (unset)]\n",
      "[Rocket#1, LS#3, Coupler#19, Rocket#1.LS#3.Coupler#19.Separation Force (unset)]\n",
      "..\n",
      "Empty Mass under Solid Stage, id b83d0dc4-a7dc-4ef4-8b72-db39d34b09ee\n",
      "[SS#1, SS#1.Empty Mass (unset)]\n",
      "[SS#2, SS#2.Empty Mass (unset)]\n",
      "Payload Mass under stages, id dbff731a-593e-442c-99f0-a54001dea138\n",
      "[Rocket#1, LS#3, Rocket#1.LS#3.Payload Mass (unset)]\n",
      "[Rocket#1, LS#2, Rocket#1.LS#2.Payload Mass (unset)]\n",
      "Torque under Pod, id dc8b3968-f2e3-4806-90f7-7651bf9196ac\n",
      "Full Mass under Solid Stage, id e99d7f0f-4ad6-4223-8ca8-6d83c040c058\n",
      "[SS#1, SS#1.Full Mass (unset)]\n",
      "[SS#2, SS#2.Full Mass (unset)]\n",
      "Thrust under RT-5 \"Flea\" Solid Fuel Booster, id 86f2aed2-3801-420a-8df0-665d6b69c193\n",
      "[RT-5#1, RT-5#1.Thrust (162.91)]\n",
      "[RT-5#2, RT-5#2.Thrust (162.91)]\n",
      "[RT-5#3, RT-5#3.Thrust (162.91)]\n",
      "[RT-5#4, RT-5#4.Thrust (162.91)]\n",
      "[RT-5#5, RT-5#5.Thrust (162.91)]\n",
      "..\n",
      "Thrust under RT-10 \"Hammer\" Solid Fuel Booster, id de02c870-1658-4a34-bd03-832f8efa741d\n",
      "[RT-10#1, RT-10#1.Thrust (197.9)]\n",
      "[RT-10#2, RT-10#2.Thrust (197.9)]\n",
      "[RT-10#3, RT-10#3.Thrust (197.9)]\n",
      "[RT-10#4, RT-10#4.Thrust (197.9)]\n",
      "[RT-10#5, RT-10#5.Thrust (197.9)]\n",
      "..\n",
      "Thrust under Solid Booster, id 34294966-7022-4b19-bec9-e92da83702a9\n",
      "[RT-5#1, RT-5#1.Thrust (162.91)]\n",
      "[RT-5#2, RT-5#2.Thrust (162.91)]\n",
      "[RT-5#3, RT-5#3.Thrust (162.91)]\n",
      "[RT-5#4, RT-5#4.Thrust (162.91)]\n",
      "[RT-5#5, RT-5#5.Thrust (162.91)]\n",
      "..\n",
      "Full Mass under FL-T100 Fuel Tank, id 0b4921a6-6923-40a2-941c-ac726cc2eb07\n",
      "[FL-T100#1, FL-T100#1.Full Mass (0.5625)]\n",
      "[FL-T100#2, FL-T100#2.Full Mass (0.5625)]\n",
      "[FL-T100#3, FL-T100#3.Full Mass (0.5625)]\n",
      "[FL-T100#4, FL-T100#4.Full Mass (0.5625)]\n",
      "[FL-T100#5, FL-T100#5.Full Mass (0.5625)]\n",
      "..\n",
      "Full Mass under FL-T200 Fuel Tank, id 5de9ac2d-2879-4e44-978b-52307c4fd698\n",
      "[FL-T200#1, FL-T200#1.Full Mass (1.125)]\n",
      "[FL-T200#2, FL-T200#2.Full Mass (1.125)]\n",
      "[FL-T200#3, FL-T200#3.Full Mass (1.125)]\n",
      "[FL-T200#4, FL-T200#4.Full Mass (1.125)]\n",
      "[FL-T200#5, FL-T200#5.Full Mass (1.125)]\n",
      "..\n",
      "Full Mass under Fuel Tank Section, id f912dc27-fc5e-48e8-abf7-29d3f47c913c\n",
      "[FL-T100#1, FL-T100#1.Full Mass (0.5625)]\n",
      "[FL-T100#2, FL-T100#2.Full Mass (0.5625)]\n",
      "[FL-T100#3, FL-T100#3.Full Mass (0.5625)]\n",
      "[FL-T100#4, FL-T100#4.Full Mass (0.5625)]\n",
      "[FL-T100#5, FL-T100#5.Full Mass (0.5625)]\n",
      "..\n",
      "Empty Mass under FL-T100 Fuel Tank, id dd332374-c114-481e-bffd-6b99914bac4f\n",
      "[FL-T100#1, FL-T100#1.Empty Mass (0.0625)]\n",
      "[FL-T100#2, FL-T100#2.Empty Mass (0.0625)]\n",
      "[FL-T100#3, FL-T100#3.Empty Mass (0.0625)]\n",
      "[FL-T100#4, FL-T100#4.Empty Mass (0.0625)]\n",
      "[FL-T100#5, FL-T100#5.Empty Mass (0.0625)]\n",
      "..\n",
      "Empty Mass under FL-T200 Fuel Tank, id 5c13fffc-dfa1-41f4-b34d-d999b837b278\n",
      "[FL-T200#1, FL-T200#1.Empty Mass (0.125)]\n",
      "[FL-T200#2, FL-T200#2.Empty Mass (0.125)]\n",
      "[FL-T200#3, FL-T200#3.Empty Mass (0.125)]\n",
      "[FL-T200#4, FL-T200#4.Empty Mass (0.125)]\n",
      "[FL-T200#5, FL-T200#5.Empty Mass (0.125)]\n",
      "..\n",
      "Empty Mass under Fuel Tank Section, id cb4386fe-67d9-4743-995f-5d4a4162e26e\n",
      "[FL-T100#1, FL-T100#1.Empty Mass (0.0625)]\n",
      "[FL-T100#2, FL-T100#2.Empty Mass (0.0625)]\n",
      "[FL-T100#3, FL-T100#3.Empty Mass (0.0625)]\n",
      "[FL-T100#4, FL-T100#4.Empty Mass (0.0625)]\n",
      "[FL-T100#5, FL-T100#5.Empty Mass (0.0625)]\n",
      "..\n",
      "Specific Impulse under RT-5 \"Flea\" Solid Fuel Booster, id 40a619db-be4b-427a-b303-2c945d2004ef\n",
      "[RT-5#1, RT-5#1.Specific Impulse (140.0)]\n",
      "[RT-5#2, RT-5#2.Specific Impulse (140.0)]\n",
      "[RT-5#3, RT-5#3.Specific Impulse (140.0)]\n",
      "[RT-5#4, RT-5#4.Specific Impulse (140.0)]\n",
      "[RT-5#5, RT-5#5.Specific Impulse (140.0)]\n",
      "..\n",
      "Specific Impulse under RT-10 \"Hammer\" Solid Fuel Booster, id 2ca7bab9-4bf5-4beb-9193-b66221fbf308\n",
      "[RT-10#1, RT-10#1.Specific Impulse (170.0)]\n",
      "[RT-10#2, RT-10#2.Specific Impulse (170.0)]\n",
      "[RT-10#3, RT-10#3.Specific Impulse (170.0)]\n",
      "[RT-10#4, RT-10#4.Specific Impulse (170.0)]\n",
      "[RT-10#5, RT-10#5.Specific Impulse (170.0)]\n",
      "..\n",
      "Specific Impulse under Solid Booster, id a9c33eca-038f-4f35-8e2c-63fdfc3eff22\n",
      "[RT-5#1, RT-5#1.Specific Impulse (140.0)]\n",
      "[RT-5#2, RT-5#2.Specific Impulse (140.0)]\n",
      "[RT-5#3, RT-5#3.Specific Impulse (140.0)]\n",
      "[RT-5#4, RT-5#4.Specific Impulse (140.0)]\n",
      "[RT-5#5, RT-5#5.Specific Impulse (140.0)]\n",
      "..\n",
      "Empty Mass under RT-5 \"Flea\" Solid Fuel Booster, id b8173879-3e86-4770-81ef-592f02800554\n",
      "[RT-5#1, RT-5#1.Empty Mass (0.45)]\n",
      "[RT-5#2, RT-5#2.Empty Mass (0.45)]\n",
      "[RT-5#3, RT-5#3.Empty Mass (0.45)]\n",
      "[RT-5#4, RT-5#4.Empty Mass (0.45)]\n",
      "[RT-5#5, RT-5#5.Empty Mass (0.45)]\n",
      "..\n",
      "Empty Mass under RT-10 \"Hammer\" Solid Fuel Booster, id 2d2f2249-1151-4717-aa3b-039652c8bf4e\n",
      "[RT-10#1, RT-10#1.Empty Mass (0.75)]\n",
      "[RT-10#2, RT-10#2.Empty Mass (0.75)]\n",
      "[RT-10#3, RT-10#3.Empty Mass (0.75)]\n",
      "[RT-10#4, RT-10#4.Empty Mass (0.75)]\n",
      "[RT-10#5, RT-10#5.Empty Mass (0.75)]\n",
      "..\n",
      "Empty Mass under Solid Booster, id 51ef7947-2aab-4abc-8276-f19363d7f73f\n",
      "[RT-5#1, RT-5#1.Empty Mass (0.45)]\n",
      "[RT-5#2, RT-5#2.Empty Mass (0.45)]\n",
      "[RT-5#3, RT-5#3.Empty Mass (0.45)]\n",
      "[RT-5#4, RT-5#4.Empty Mass (0.45)]\n",
      "[RT-5#5, RT-5#5.Empty Mass (0.45)]\n",
      "..\n",
      "Thrust under LV-T45 \"Swivel\" Liquid Fuel Engine, id d1ea4468-efba-48d9-aa9e-376669453e5b\n",
      "[LV-T45#1, LV-T45#1.Thrust (167.97)]\n",
      "[LV-T45#2, LV-T45#2.Thrust (167.97)]\n",
      "[LV-T45#3, LV-T45#3.Thrust (167.97)]\n",
      "[LV-T45#4, LV-T45#4.Thrust (167.97)]\n",
      "[LV-T45#5, LV-T45#5.Thrust (167.97)]\n",
      "..\n",
      "Thrust under Liquid Engine, id c6497b27-5dcb-4bae-bd92-86179a5daeab\n",
      "[LV-T45#1, LV-T45#1.Thrust (167.97)]\n",
      "[LV-T45#2, LV-T45#2.Thrust (167.97)]\n",
      "[LV-T45#3, LV-T45#3.Thrust (167.97)]\n",
      "[LV-T45#4, LV-T45#4.Thrust (167.97)]\n",
      "[LV-T45#5, LV-T45#5.Thrust (167.97)]\n",
      "..\n",
      "Mass under LV-T45 \"Swivel\" Liquid Fuel Engine, id fe335d3c-ba21-41bf-8e4b-a52d1c9590f0\n",
      "[LV-T45#1, LV-T45#1.Mass (1.5)]\n",
      "[LV-T45#2, LV-T45#2.Mass (1.5)]\n",
      "[LV-T45#3, LV-T45#3.Mass (1.5)]\n",
      "[LV-T45#4, LV-T45#4.Mass (1.5)]\n",
      "[LV-T45#5, LV-T45#5.Mass (1.5)]\n",
      "..\n",
      "Mass under Kerbal Rocket Part, id 6045bd07-09d9-4a01-97a4-ede5cad64d76\n",
      "[LV-T45#1, LV-T45#1.Mass (1.5)]\n",
      "[LV-T45#2, LV-T45#2.Mass (1.5)]\n",
      "[LV-T45#3, LV-T45#3.Mass (1.5)]\n",
      "[LV-T45#4, LV-T45#4.Mass (1.5)]\n",
      "[LV-T45#5, LV-T45#5.Mass (1.5)]\n",
      "..\n",
      "Specific Impulse under LV-T45 \"Swivel\" Liquid Fuel Engine, id 10c42299-eb57-4ede-92ad-af66367a2e6e\n",
      "[LV-T45#1, LV-T45#1.Specific Impulse (170.0)]\n",
      "[LV-T45#2, LV-T45#2.Specific Impulse (170.0)]\n",
      "[LV-T45#3, LV-T45#3.Specific Impulse (170.0)]\n",
      "[LV-T45#4, LV-T45#4.Specific Impulse (170.0)]\n",
      "[LV-T45#5, LV-T45#5.Specific Impulse (170.0)]\n",
      "..\n",
      "Specific Impulse under Liquid Engine, id 5b503408-eb47-4931-8365-891df10a96f3\n",
      "[LV-T45#1, LV-T45#1.Specific Impulse (170.0)]\n",
      "[LV-T45#2, LV-T45#2.Specific Impulse (170.0)]\n",
      "[LV-T45#3, LV-T45#3.Specific Impulse (170.0)]\n",
      "[LV-T45#4, LV-T45#4.Specific Impulse (170.0)]\n",
      "[LV-T45#5, LV-T45#5.Specific Impulse (170.0)]\n",
      "..\n",
      "Full Mass under RT-10 \"Hammer\" Solid Fuel Booster, id d59b76e9-7d47-42f4-9a6c-82f350158deb\n",
      "[RT-10#1, RT-10#1.Full Mass (3.56)]\n",
      "[RT-10#2, RT-10#2.Full Mass (3.56)]\n",
      "[RT-10#3, RT-10#3.Full Mass (3.56)]\n",
      "[RT-10#4, RT-10#4.Full Mass (3.56)]\n",
      "[RT-10#5, RT-10#5.Full Mass (3.56)]\n",
      "..\n",
      "Full Mass under RT-5 \"Flea\" Solid Fuel Booster, id 7b9876df-d176-4d78-a2f1-34e93572ecb1\n",
      "[RT-5#1, RT-5#1.Full Mass (1.5)]\n",
      "[RT-5#2, RT-5#2.Full Mass (1.5)]\n",
      "[RT-5#3, RT-5#3.Full Mass (1.5)]\n",
      "[RT-5#4, RT-5#4.Full Mass (1.5)]\n",
      "[RT-5#5, RT-5#5.Full Mass (1.5)]\n",
      "..\n",
      "Full Mass under Solid Booster, id 9d138c7a-9e26-4d30-90d2-f67917c0c127\n",
      "[RT-10#1, RT-10#1.Full Mass (3.56)]\n",
      "[RT-10#2, RT-10#2.Full Mass (3.56)]\n",
      "[RT-10#3, RT-10#3.Full Mass (3.56)]\n",
      "[RT-10#4, RT-10#4.Full Mass (3.56)]\n",
      "[RT-10#5, RT-10#5.Full Mass (3.56)]\n",
      "..\n"
     ]
    }
   ],
   "source": [
    "for indx, att_value_dict in enumerate(att_value_dicts):\n",
    "    if indx < 3:\n",
    "        print(\"Solution #\" + str(indx))\n",
    "        for key in att_value_dict:\n",
    "            print(get_name_by_id(key) + ' under ' + \\\n",
    "                  str(id_memo_dict[id_memo_dict[key]['owningType']['@id']]['name']) + ', id ' + key)\n",
    "            for indx, seq in enumerate(att_value_dict[key]):\n",
    "                if indx < 5:\n",
    "                    seq_string = []\n",
    "                    for member in seq:\n",
    "                        if isinstance(member, str) and member in id_memo_dict:\n",
    "                            obj = id_memo_dict[member]\n",
    "                            # TODO: Create unique value objects for formula mapping\n",
    "                            if obj['@type'] == 'LiteralReal':\n",
    "                                seq_string.append(str(obj['value']) + ', id ' + member)\n",
    "                        else:\n",
    "                            seq_string.append(member)\n",
    "                    print(seq_string)\n",
    "                elif indx == 5:\n",
    "                    print('..')"
   ]
  },
  {
   "cell_type": "markdown",
   "id": "marked-premises",
   "metadata": {},
   "source": [
    "Now we need to do this for the feature sequences."
   ]
  },
  {
   "cell_type": "markdown",
   "id": "armed-chick",
   "metadata": {},
   "source": [
    "## Gather Expressions and Invocations and Build Expression Graph"
   ]
  },
  {
   "cell_type": "code",
   "execution_count": 111,
   "id": "convenient-healing",
   "metadata": {},
   "outputs": [],
   "source": [
    "expression_graph = NX.DiGraph()\n",
    "expression_graph_labels = {}\n",
    "expression_graph_ascii = ''\n",
    "\n",
    "invocations = []\n"
   ]
  },
  {
   "cell_type": "markdown",
   "id": "rotary-antibody",
   "metadata": {},
   "source": [
    "Memoize InvocationExpressions, BlockExpressions, FeatureReferenceExpressions, and ReferenceUsages"
   ]
  },
  {
   "cell_type": "code",
   "execution_count": 112,
   "id": "dense-genius",
   "metadata": {},
   "outputs": [],
   "source": [
    "invocations = [invocation for invocation in non_relations if invocation['@type'] == 'InvocationExpression']\n",
    "functions = [function for function in non_relations if function['@type'] == 'Function']\n",
    "op_exprs = [function for function in non_relations if function['@type'] == 'OperatorExpression']\n",
    "block_exprs = [block_expr for block_expr in non_relations if block_expr['@type'] == 'BlockExpression']\n",
    "feature_refs = [feature_ref for feature_ref in non_relations if feature_ref['@type'] == 'FeatureReferenceExpression']\n",
    "reference_uses = [ref_use for ref_use in non_relations if ref_use['@type'] == 'ReferenceUsage']\n",
    "\n",
    "para_members = [para_member for para_member in relations if para_member['@type'] == 'ParameterMembership']\n",
    "res_expr_members = [res_expr_member for res_expr_member in relations if res_expr_member['@type'] == 'ResultExpressionMembership']\n",
    "ret_para_members = [ret_para_member for ret_para_member in relations if ret_para_member['@type'] == 'ReturnParameterMembership']\n",
    "\n",
    "for invocation in invocations:\n",
    "    id_memo_dict.update({invocation['@id']: invocation})\n",
    "    \n",
    "for function in functions:\n",
    "    id_memo_dict.update({function['@id']: function})\n",
    "    \n",
    "for op_expr in op_exprs:\n",
    "    id_memo_dict.update({op_expr['@id']: op_expr})\n",
    "    \n",
    "for block_expr in block_exprs:\n",
    "    id_memo_dict.update({block_expr['@id']: block_expr})\n",
    "    \n",
    "for feature_ref in feature_refs:\n",
    "    id_memo_dict.update({feature_ref['@id']: feature_ref})\n",
    "    \n",
    "for reference_use in reference_uses:\n",
    "    id_memo_dict.update({reference_use['@id']: reference_use})"
   ]
  },
  {
   "cell_type": "code",
   "execution_count": 113,
   "id": "complimentary-silly",
   "metadata": {},
   "outputs": [],
   "source": [
    "ofms = []\n",
    "ofms.extend(para_members)\n",
    "ofms.extend(res_expr_members)\n",
    "ofms.extend(ret_para_members)"
   ]
  },
  {
   "cell_type": "markdown",
   "id": "sorted-pilot",
   "metadata": {},
   "source": [
    "Get feature memberships from the expressions to their members."
   ]
  },
  {
   "cell_type": "code",
   "execution_count": 114,
   "id": "mobile-telephone",
   "metadata": {},
   "outputs": [
    {
     "ename": "KeyError",
     "evalue": "'fca5cd1c-7f31-42ed-b8b1-44877b5a7890'",
     "output_type": "error",
     "traceback": [
      "\u001b[1;31m---------------------------------------------------------------------------\u001b[0m",
      "\u001b[1;31mKeyError\u001b[0m                                  Traceback (most recent call last)",
      "\u001b[1;32m<ipython-input-114-355512f25e89>\u001b[0m in \u001b[0;36m<module>\u001b[1;34m\u001b[0m\n\u001b[0;32m     32\u001b[0m \u001b[1;32mfor\u001b[0m \u001b[0mft\u001b[0m \u001b[1;32min\u001b[0m \u001b[0mfeature_types\u001b[0m\u001b[1;33m:\u001b[0m\u001b[1;33m\u001b[0m\u001b[1;33m\u001b[0m\u001b[0m\n\u001b[0;32m     33\u001b[0m     \u001b[1;32mif\u001b[0m \u001b[0mft\u001b[0m\u001b[1;33m[\u001b[0m\u001b[1;34m'typedFeature'\u001b[0m\u001b[1;33m]\u001b[0m\u001b[1;33m[\u001b[0m\u001b[1;34m'@id'\u001b[0m\u001b[1;33m]\u001b[0m \u001b[1;32min\u001b[0m \u001b[0mid_memo_dict\u001b[0m\u001b[1;33m:\u001b[0m\u001b[1;33m\u001b[0m\u001b[1;33m\u001b[0m\u001b[0m\n\u001b[1;32m---> 34\u001b[1;33m         \u001b[1;32mif\u001b[0m \u001b[0mid_memo_dict\u001b[0m\u001b[1;33m[\u001b[0m\u001b[0mft\u001b[0m\u001b[1;33m[\u001b[0m\u001b[1;34m'type'\u001b[0m\u001b[1;33m]\u001b[0m\u001b[1;33m[\u001b[0m\u001b[1;34m'@id'\u001b[0m\u001b[1;33m]\u001b[0m\u001b[1;33m]\u001b[0m\u001b[1;33m[\u001b[0m\u001b[1;34m'@type'\u001b[0m\u001b[1;33m]\u001b[0m \u001b[1;33m==\u001b[0m \u001b[1;34m'Function'\u001b[0m\u001b[1;33m:\u001b[0m\u001b[1;33m\u001b[0m\u001b[1;33m\u001b[0m\u001b[0m\n\u001b[0m\u001b[0;32m     35\u001b[0m             \u001b[0mexpression_graph\u001b[0m\u001b[1;33m.\u001b[0m\u001b[0madd_edge\u001b[0m\u001b[1;33m(\u001b[0m\u001b[0mft\u001b[0m\u001b[1;33m[\u001b[0m\u001b[1;34m'typedFeature'\u001b[0m\u001b[1;33m]\u001b[0m\u001b[1;33m[\u001b[0m\u001b[1;34m'@id'\u001b[0m\u001b[1;33m]\u001b[0m\u001b[1;33m,\u001b[0m \u001b[0mft\u001b[0m\u001b[1;33m[\u001b[0m\u001b[1;34m'type'\u001b[0m\u001b[1;33m]\u001b[0m\u001b[1;33m[\u001b[0m\u001b[1;34m'@id'\u001b[0m\u001b[1;33m]\u001b[0m\u001b[1;33m)\u001b[0m\u001b[1;33m\u001b[0m\u001b[1;33m\u001b[0m\u001b[0m\n\u001b[0;32m     36\u001b[0m             \u001b[0mexpression_graph_labels\u001b[0m\u001b[1;33m.\u001b[0m\u001b[0mupdate\u001b[0m\u001b[1;33m(\u001b[0m\u001b[1;33m{\u001b[0m\u001b[0mft\u001b[0m\u001b[1;33m[\u001b[0m\u001b[1;34m'type'\u001b[0m\u001b[1;33m]\u001b[0m\u001b[1;33m[\u001b[0m\u001b[1;34m'@id'\u001b[0m\u001b[1;33m]\u001b[0m\u001b[1;33m:\u001b[0m \u001b[0mid_memo_dict\u001b[0m\u001b[1;33m[\u001b[0m\u001b[0mft\u001b[0m\u001b[1;33m[\u001b[0m\u001b[1;34m'type'\u001b[0m\u001b[1;33m]\u001b[0m\u001b[1;33m[\u001b[0m\u001b[1;34m'@id'\u001b[0m\u001b[1;33m]\u001b[0m\u001b[1;33m]\u001b[0m\u001b[1;33m[\u001b[0m\u001b[1;34m'name'\u001b[0m\u001b[1;33m]\u001b[0m\u001b[1;33m}\u001b[0m\u001b[1;33m)\u001b[0m\u001b[1;33m\u001b[0m\u001b[1;33m\u001b[0m\u001b[0m\n",
      "\u001b[1;31mKeyError\u001b[0m: 'fca5cd1c-7f31-42ed-b8b1-44877b5a7890'"
     ]
    }
   ],
   "source": [
    "for fm in feature_members:\n",
    "    if fm['owningType']['@id'] in id_memo_dict:\n",
    "        if id_memo_dict[fm['owningType']['@id']]['@type'] == 'InvocationExpression':\n",
    "            expression_graph.add_edge(fm['owningType']['@id'], fm['memberFeature']['@id'])\n",
    "        if id_memo_dict[fm['owningType']['@id']]['@type'] == 'Function':\n",
    "            expression_graph.add_edge(fm['owningType']['@id'], fm['memberFeature']['@id'])\n",
    "            expression_graph_labels.update({fm['owningType']['@id']: id_memo_dict[fm['owningType']['@id']]['name']})\n",
    "        if id_memo_dict[fm['owningType']['@id']]['@type'] == 'OperatorExpression':\n",
    "            expression_graph.add_edge(fm['owningType']['@id'], fm['memberFeature']['@id'])\n",
    "            expression_graph_labels.update({fm['owningType']['@id']: id_memo_dict[fm['owningType']['@id']]['operator']})\n",
    "            if fm['memberFeature']['@id'] in id_memo_dict:\n",
    "                if id_memo_dict[fm['memberFeature']['@id']]['@type'] == 'FeatureReferenceExpression':\n",
    "                    expression_graph_labels.update({fm['memberFeature']['@id']: \n",
    "                                                   id_memo_dict[id_memo_dict[fm['memberFeature']['@id']]['referent']['@id']]['name'] + ' (FeatRef)'})\n",
    "\n",
    "for ofm in ofms:\n",
    "    if ofm['owningType']['@id'] in id_memo_dict:\n",
    "        if id_memo_dict[ofm['owningType']['@id']]['@type'] == 'BlockExpression':\n",
    "            expression_graph.add_edge(ofm['owningType']['@id'], ofm['memberFeature']['@id'])\n",
    "            if ofm['memberFeature']['@id'] in id_memo_dict:\n",
    "                if id_memo_dict[ofm['memberFeature']['@id']]['@type'] == 'FeatureReferenceExpression':\n",
    "                    expression_graph_labels.update({ofm['memberFeature']['@id']: \n",
    "                                                   id_memo_dict[id_memo_dict[ofm['memberFeature']['@id']]['referent']['@id']]['name'] + ' (FeatRef)'})\n",
    "            if get_name_by_id(ofm['memberFeature']['@id']) is not None:\n",
    "                if get_metatype_by_id(ofm['memberFeature']['@id']) == 'ReferenceUsage':\n",
    "                    ref_type_name = id_memo_dict[id_memo_dict[ofm['memberFeature']['@id']]['type'][0]['@id']]['name']\n",
    "                    expression_graph_labels.update({ofm['memberFeature']['@id']: \n",
    "                                                    get_name_by_id(ofm['memberFeature']['@id']) + ':' + ref_type_name})\n",
    "                else:\n",
    "                    expression_graph_labels.update({ofm['memberFeature']['@id']: get_name_by_id(ofm['memberFeature']['@id'])})\n",
    "                    \n",
    "for ft in feature_types:\n",
    "    if ft['typedFeature']['@id'] in id_memo_dict:\n",
    "        if id_memo_dict[ft['type']['@id']]['@type'] == 'Function':\n",
    "            expression_graph.add_edge(ft['typedFeature']['@id'], ft['type']['@id'])\n",
    "            expression_graph_labels.update({ft['type']['@id']: id_memo_dict[ft['type']['@id']]['name']})"
   ]
  },
  {
   "cell_type": "markdown",
   "id": "hazardous-blair",
   "metadata": {},
   "source": [
    "Gather the body and parameters of the invocation."
   ]
  },
  {
   "cell_type": "code",
   "execution_count": null,
   "id": "pacific-density",
   "metadata": {},
   "outputs": [],
   "source": [
    "NX.draw_planar(expression_graph, labels=expression_graph_labels)"
   ]
  },
  {
   "cell_type": "code",
   "execution_count": null,
   "id": "extended-sponsorship",
   "metadata": {},
   "outputs": [],
   "source": [
    "print([node for node in NX.topological_sort(expression_graph)])"
   ]
  },
  {
   "cell_type": "code",
   "execution_count": null,
   "id": "hairy-elephant",
   "metadata": {},
   "outputs": [],
   "source": [
    "expression_root = [node for node in expression_graph.nodes() if expression_graph.in_degree(node) == 0]"
   ]
  },
  {
   "cell_type": "code",
   "execution_count": null,
   "id": "average-bikini",
   "metadata": {},
   "outputs": [],
   "source": [
    "expression_root[0]"
   ]
  },
  {
   "cell_type": "markdown",
   "id": "challenging-hundred",
   "metadata": {},
   "source": [
    "The final step is to connect this graph to the created ValueHolders and generated sets of calculations to be executed."
   ]
  },
  {
   "cell_type": "code",
   "execution_count": null,
   "id": "limited-productivity",
   "metadata": {},
   "outputs": [],
   "source": [
    "sol_index = 35"
   ]
  },
  {
   "cell_type": "markdown",
   "id": "cardiovascular-exhaust",
   "metadata": {},
   "source": [
    "Collect attribute usages that have an expression as a value."
   ]
  },
  {
   "cell_type": "code",
   "execution_count": null,
   "id": "characteristic-costa",
   "metadata": {},
   "outputs": [],
   "source": [
    "feature_values = [fv for fv in relations if fv['@type'] == 'FeatureValue']"
   ]
  },
  {
   "cell_type": "code",
   "execution_count": null,
   "id": "equipped-taxation",
   "metadata": {},
   "outputs": [],
   "source": [
    "formula_values = [fv for fv in relations if fv['@type'] == 'FeatureValue'\n",
    "                  and fv['value']['@id'] in expression_graph.nodes()]\n",
    "\n",
    "formula_references = [fr for fr in feature_refs if fr['@id'] in expression_graph.nodes()]"
   ]
  },
  {
   "cell_type": "markdown",
   "id": "shaped-consensus",
   "metadata": {},
   "source": [
    "This may come up empty if there are no instances of the formula-bearing attribute."
   ]
  },
  {
   "cell_type": "code",
   "execution_count": null,
   "id": "sealed-chick",
   "metadata": {},
   "outputs": [],
   "source": [
    "att_value_dicts[sol_index][formula_values[0]['owningRelatedElement']['@id']]"
   ]
  },
  {
   "cell_type": "markdown",
   "id": "eleven-swedish",
   "metadata": {},
   "source": [
    "Attribute owning type is needed for context."
   ]
  },
  {
   "cell_type": "code",
   "execution_count": null,
   "id": "explicit-asian",
   "metadata": {},
   "outputs": [],
   "source": [
    "id_memo_dict[formula_values[0]['owningRelatedElement']['@id']]['owningType']['@id']"
   ]
  },
  {
   "cell_type": "markdown",
   "id": "partial-comparative",
   "metadata": {},
   "source": [
    "Use 'member' field to account for inheritance (I think)."
   ]
  },
  {
   "cell_type": "code",
   "execution_count": null,
   "id": "nearby-briefs",
   "metadata": {},
   "outputs": [],
   "source": [
    "att_context = id_memo_dict[\n",
    "    id_memo_dict[\n",
    "        formula_values[0]['owningRelatedElement']['@id']\n",
    "    ]['owningType']['@id']\n",
    "]['member']"
   ]
  },
  {
   "cell_type": "code",
   "execution_count": null,
   "id": "spoken-local",
   "metadata": {},
   "outputs": [],
   "source": [
    "att_context_usages = [att_item['@id'] for att_item in att_context]"
   ]
  },
  {
   "cell_type": "code",
   "execution_count": null,
   "id": "documented-building",
   "metadata": {},
   "outputs": [],
   "source": [
    "att_context_usages"
   ]
  },
  {
   "cell_type": "markdown",
   "id": "involved-radical",
   "metadata": {},
   "source": [
    "## Build Expression Graphs with Instances and Value Holders at the Nodes"
   ]
  },
  {
   "cell_type": "markdown",
   "id": "driving-cheese",
   "metadata": {},
   "source": [
    "Conceptually, what we want to do is create copies of the formula graph for each instance of the parameter of interest and then fill in the roles with appropriate related objects that are in scope."
   ]
  },
  {
   "cell_type": "markdown",
   "id": "humanitarian-strain",
   "metadata": {},
   "source": [
    "## Placing Expression Graph in Context\n",
    "\n",
    "We start by putting the expression graph within the attribute usage that has it as a value."
   ]
  },
  {
   "cell_type": "code",
   "execution_count": null,
   "id": "false-batch",
   "metadata": {},
   "outputs": [],
   "source": [
    "step0_graphs = []\n",
    "step0_graph_label_sets = []\n",
    "\n",
    "for eq_context in att_value_dicts[sol_index][formula_values[0]['owningRelatedElement']['@id']]:\n",
    "    e_labels = {}\n",
    "    this_expression_graph = NX.DiGraph()\n",
    "    this_expression_graph.add_edge(str(eq_context[-1]), expression_root[0])\n",
    "    e_labels.update({str(eq_context[-1]): str(eq_context[-1])})\n",
    "    for edge in expression_graph.edges():\n",
    "        this_expression_graph.add_edge(edge[0], edge[1])\n",
    "        if edge[0] in expression_graph_labels:\n",
    "            e_labels.update({edge[0]: expression_graph_labels[edge[0]]})\n",
    "        if edge[1] in expression_graph_labels:\n",
    "            e_labels.update({edge[1]: expression_graph_labels[edge[1]]})\n",
    "        \n",
    "    step0_graphs.append(this_expression_graph)\n",
    "    step0_graph_label_sets.append(e_labels)"
   ]
  },
  {
   "cell_type": "code",
   "execution_count": null,
   "id": "conventional-brother",
   "metadata": {},
   "outputs": [],
   "source": [
    "NX.draw_planar(step0_graphs[2], labels=step0_graph_label_sets[2])"
   ]
  },
  {
   "cell_type": "markdown",
   "id": "fantastic-brother",
   "metadata": {},
   "source": [
    "### Working with the collect operator\n",
    "\n",
    "The collect operator in this case is a query in M0 space, looking for all objects that have been mapped for the attribute instance in the specific context of a given part instance."
   ]
  },
  {
   "cell_type": "code",
   "execution_count": null,
   "id": "liable-pleasure",
   "metadata": {},
   "outputs": [],
   "source": [
    "collects = [op_expr for op_expr in op_exprs if op_expr['operator'] == 'collect']\n",
    "\n",
    "result_dict = {}\n",
    "\n",
    "for collect in collects:\n",
    "        \n",
    "    collect_references = []\n",
    "    collect_lengths = {}\n",
    "    \n",
    "    for fr in formula_references:\n",
    "    \n",
    "        try:\n",
    "            collect_path = NX.shortest_path(expression_graph, collect['@id'], fr['@id'])\n",
    "            collect_references.append(fr)\n",
    "            collect_lengths.update({fr['@id']: len(collect_path)})\n",
    "            \n",
    "        except NX.NetworkXNoPath:\n",
    "            pass\n",
    "        \n",
    "    collect_ordering = {k: v for k, v in sorted(collect_lengths.items(), key=lambda item: item[1])}\n",
    "        \n",
    "    #for cr in collect_ordering.keys():\n",
    "        #print(id_memo_dict[id_memo_dict[cr]['referent']['@id']]['name'] + ' order ' +\n",
    "        #     str(collect_ordering[cr]))\n",
    "    \n",
    "    for inst_seq in att_value_dicts[sol_index][formula_values[0]['owningRelatedElement']['@id']]:\n",
    "        seeked = copy.deepcopy(inst_seq[0:-1])\n",
    "        \n",
    "        last_expansion = None\n",
    "        \n",
    "        for cr in collect_ordering.keys():\n",
    "        \n",
    "            start_reference = id_memo_dict[id_memo_dict[cr]['referent']['@id']]\n",
    "            #print(start_reference[0]['name'])\n",
    "            expansion = []\n",
    "            if start_reference['@type'] != 'AttributeUsage':\n",
    "                # get list of parts\n",
    "                for seq in feature_sequence_dictionaries[sol_index][start_reference['@id']]:\n",
    "                    # hacky; need a more proper substring match\n",
    "                    if str(seeked) == str(seq[0:-1]):\n",
    "                        expansion.append(seq)\n",
    "                #print('Ran collect for ' + start_reference['name'] + ' on ' + str(seeked) + ' with result:')\n",
    "                #print(str(expansion))\n",
    "                last_expansion = expansion\n",
    "            else:\n",
    "                # pull attributes that match list of parts\n",
    "                for seq in att_value_dicts[sol_index][start_reference['@id']]:\n",
    "                    # hacky; need a more proper substring match\n",
    "                    tank_line = [seq[-1] for seq in last_expansion]\n",
    "                    #print(tank_line)\n",
    "                    for tank in tank_line:\n",
    "                        if str(tank) == str(seq[0]):\n",
    "                            expansion.append(seq)\n",
    "                print('Ran collect for ' + start_reference['name'] + ', id ' +\n",
    "                      start_reference['@id'] + ' on ' + str(seeked) + ' with result:')\n",
    "                \n",
    "                print(str(expansion))\n",
    "                \n",
    "                result_dict.update({str(inst_seq[-1]) + '::' + collect['@id']: expansion})"
   ]
  },
  {
   "cell_type": "code",
   "execution_count": null,
   "id": "northern-township",
   "metadata": {},
   "outputs": [],
   "source": [
    "result_dict"
   ]
  },
  {
   "cell_type": "markdown",
   "id": "opposite-register",
   "metadata": {},
   "source": [
    "### Graph Update"
   ]
  },
  {
   "cell_type": "markdown",
   "id": "cultural-effect",
   "metadata": {},
   "source": [
    "TODO: Need to figure out how to prune everything below the collect node."
   ]
  },
  {
   "cell_type": "code",
   "execution_count": null,
   "id": "given-desert",
   "metadata": {},
   "outputs": [],
   "source": [
    "step1_graphs = []\n",
    "step1_graph_label_sets = []\n",
    "\n",
    "for jndx, step0_graph in enumerate(step0_graphs):\n",
    "    this_expression_graph = NX.DiGraph()\n",
    "    e_labels = {}\n",
    "    \n",
    "    collect_node_swap = {}\n",
    "    \n",
    "    for indx, ordered_node in enumerate(NX.topological_sort(step0_graph)):\n",
    "        base_node = None\n",
    "        if indx == 0:\n",
    "            base_label = str(ordered_node)\n",
    "            \n",
    "        # in DiGraphs, only outward edges will be brought out\n",
    "        if step0_graph.out_degree(ordered_node) > 0:\n",
    "            for edg in step0_graph.edges(ordered_node):\n",
    "                this_expression_graph.add_edge(edg[0], edg[1])\n",
    "                if ordered_node in step0_graph_label_sets[jndx] and ordered_node not in collect_node_swap:\n",
    "                    e_labels.update({ordered_node: step0_graph_label_sets[jndx][ordered_node]})\n",
    "                edg_element = get_data_by_id(edg[1])\n",
    "                if edg_element['@type'] == 'OperatorExpression' and edg_element['operator'] == 'collect':\n",
    "                    print(\"Found collect\")\n",
    "                    # need to navigate down to the ID of the value of interest\n",
    "                    result_key = base_label + '::' + edg_element['@id']\n",
    "                    e_labels.update({edg[1]: result_key})\n",
    "                    collect_node_swap.update({edg[1]: result_dict[result_key]})\n",
    "                    \n",
    "    step1_graphs.append(this_expression_graph)\n",
    "    step1_graph_label_sets.append(e_labels)"
   ]
  },
  {
   "cell_type": "code",
   "execution_count": null,
   "id": "signed-miller",
   "metadata": {},
   "outputs": [],
   "source": [
    "NX.draw_planar(step1_graphs[2], labels=step1_graph_label_sets[2])"
   ]
  },
  {
   "cell_type": "markdown",
   "id": "organizational-conspiracy",
   "metadata": {},
   "source": [
    "### Using Collect Results for Sum\n",
    "\n",
    "The collect results are under an expression that is typed by Sum. This will be used to add up all of the collects in the list."
   ]
  },
  {
   "cell_type": "markdown",
   "id": "alien-albany",
   "metadata": {},
   "source": [
    "## Perform Staging Mass Analysis\n",
    "\n",
    "- [ ] TODO: Strengthen this with analyses that actually do the calculation\n",
    "- [ ] TODO: Accommodate associations between tanks and engines to make delta-V and Isp calculations work properly"
   ]
  },
  {
   "cell_type": "markdown",
   "id": "cross-programming",
   "metadata": {},
   "source": [
    "This is very specific to a given calculation - need to have a kernel for expanding the calculations just as with inspecting type hierarchy and multiplicity"
   ]
  },
  {
   "cell_type": "code",
   "execution_count": null,
   "id": "mobile-thirty",
   "metadata": {},
   "outputs": [],
   "source": [
    "for indx, feature_sequence_dictionary in enumerate(feature_sequence_dictionaries):\n",
    "    no_stages = len(feature_sequence_dictionary['31a4436f-07fd-48c6-b503-9d186d925c3c'])\n",
    "    print(str(no_stages))\n",
    "    for stag in range(1, no_stages + 1):\n",
    "        stage_empty_mass = 0\n",
    "        stage_full_mass = 0\n",
    "        stage_specific_impulse = 0\n",
    "        # add up the starter mass for the stage and the burnout mass\n",
    "        stage_instance = feature_sequence_dictionary['31a4436f-07fd-48c6-b503-9d186d925c3c'][stag - 1][-1]\n",
    "        print(str(stage_instance) + \": \" + str(classifier_memo_dicts[indx][stage_instance.name]))\n",
    "        if '54c2e565-ede4-4c12-a44c-2277566a2861' in feature_sequence_dictionary:\n",
    "            booster_instances = \\\n",
    "                [booster[-1] for booster in feature_sequence_dictionary['54c2e565-ede4-4c12-a44c-2277566a2861']\n",
    "                     if str(booster[0]) == str(stage_instance)]\n",
    "            print('Booster instance length = ' + str(len(booster_instances)))\n",
    "            for booster in booster_instances:\n",
    "                for clz in classifier_memo_dicts[indx][booster.name]:\n",
    "                    if clz in partitioned_multiplicity_dicts[indx]:\n",
    "                        pass\n",
    "                    else:\n",
    "                        empty_mass = type_values['Empty Mass'][clz]\n",
    "                        full_mass = type_values['Full Mass'][clz]\n",
    "                        specific_impulse = type_values['Specific Impulse'][clz]\n",
    "\n",
    "                        stage_empty_mass = stage_empty_mass + empty_mass\n",
    "                        stage_full_mass = stage_full_mass + full_mass\n",
    "                        stage_specific_impulse = stage_specific_impulse + specific_impulse\n",
    "            if len(booster_instances) > 0:\n",
    "                stage_specific_impulse = stage_specific_impulse / len(booster_instances)\n",
    "        \n",
    "        if stage_empty_mass > 0.0:\n",
    "            booster_delta_V = 9.81 * stage_specific_impulse * math.log(stage_full_mass / stage_empty_mass)\n",
    "        \n",
    "        if indx < 3:\n",
    "            print ('Stage booster full mass is ' + str(stage_full_mass))\n",
    "            print ('Stage booster empty mass is ' + str(stage_empty_mass))\n",
    "            print ('Stage booster specific impulse is ' + str(stage_specific_impulse))\n",
    "            print ('Stage booster delta-V is ' + str(booster_delta_V))"
   ]
  },
  {
   "cell_type": "code",
   "execution_count": null,
   "id": "confirmed-semester",
   "metadata": {},
   "outputs": [],
   "source": []
  }
 ],
 "metadata": {
  "kernelspec": {
   "display_name": "Python 3",
   "language": "python",
   "name": "python3"
  },
  "language_info": {
   "codemirror_mode": {
    "name": "ipython",
    "version": 3
   },
   "file_extension": ".py",
   "mimetype": "text/x-python",
   "name": "python",
   "nbconvert_exporter": "python",
   "pygments_lexer": "ipython3",
   "version": "3.9.1"
  },
  "toc-autonumbering": false
 },
 "nbformat": 4,
 "nbformat_minor": 5
}
