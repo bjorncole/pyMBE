{
 "cells": [
  {
   "cell_type": "markdown",
   "id": "ea67fea0",
   "metadata": {},
   "source": [
    "# Tutorial & Widget Experiments\n",
    "\n",
    "> This notebook is primarily being used to experiment with how to use the `pymbe` widgets.\n",
    ">\n",
    "> It should be fairly \"clean\" until the `Scratch Pad` section.\n",
    ">\n",
    "\n",
    "In the future, this notebook will be cleaned up and renamed \"Tutorial\"."
   ]
  },
  {
   "cell_type": "markdown",
   "id": "2822b5ee",
   "metadata": {},
   "source": [
    "## 1. Import `pymbe` and create a new user interface"
   ]
  },
  {
   "cell_type": "code",
   "execution_count": null,
   "id": "b5ad7fff",
   "metadata": {},
   "outputs": [],
   "source": [
    "import pymbe.api as pm"
   ]
  },
  {
   "cell_type": "code",
   "execution_count": null,
   "id": "33c7c6b0",
   "metadata": {
    "tags": []
   },
   "outputs": [],
   "source": [
    "pm.UI.new(host_url=\"http://sysml2-sst.intercax.com\")"
   ]
  },
  {
   "cell_type": "markdown",
   "id": "db605615",
   "metadata": {},
   "source": [
    "## 2. Use the widget\n",
    "...or automatically load the `Kerbal` model using the cell below by:"
   ]
  },
  {
   "cell_type": "markdown",
   "id": "41b9fecd",
   "metadata": {},
   "source": [
    "1. Grabbing the individual widgets"
   ]
  },
  {
   "cell_type": "code",
   "execution_count": null,
   "id": "35de9547",
   "metadata": {
    "tags": []
   },
   "outputs": [],
   "source": [
    "ui, *_ = _.children\n",
    "client, tree, inspector, lpg, interpreter = ui.children"
   ]
  },
  {
   "cell_type": "markdown",
   "id": "2db2f9fa",
   "metadata": {},
   "source": [
    "2. load a small model"
   ]
  },
  {
   "cell_type": "code",
   "execution_count": null,
   "id": "ee379a8e-f844-460e-bde7-5e4fad6c4bd4",
   "metadata": {},
   "outputs": [],
   "source": [
    "kerbal_project = [name for name in client.project_selector.options if name.startswith(\"Kerbal\")]\n",
    "if kerbal_project:\n",
    "    client.project_selector.value = client.project_selector.options[kerbal_project[-1]]\n",
    "    client._download_elements()"
   ]
  },
  {
   "cell_type": "markdown",
   "id": "cd6aad75-6266-447c-861b-474f84010ad4",
   "metadata": {},
   "source": [
    "# Add all implied edges"
   ]
  },
  {
   "cell_type": "code",
   "execution_count": null,
   "id": "b2cccba6-c112-4596-864a-39efef467798",
   "metadata": {},
   "outputs": [],
   "source": [
    "lpg.elements_by_id = {**lpg.elements_by_id, **lpg.get_implied_elements()}"
   ]
  },
  {
   "cell_type": "markdown",
   "id": "52cbcb0f",
   "metadata": {},
   "source": [
    "...or you can directly adapt the graph and invert edges"
   ]
  },
  {
   "cell_type": "markdown",
   "id": "a1061c68",
   "metadata": {},
   "source": [
    "# Interpretation\n",
    "\n",
    "> This is where we are refactoring the $M_0$ interpretation..."
   ]
  },
  {
   "cell_type": "code",
   "execution_count": null,
   "id": "047730fd-28c5-460f-9863-7ad817a24641",
   "metadata": {},
   "outputs": [],
   "source": [
    "lpg.sysml_projections[\"Complete\"][\"description\"]"
   ]
  },
  {
   "cell_type": "code",
   "execution_count": null,
   "id": "c5fb1f1e",
   "metadata": {},
   "outputs": [],
   "source": [
    "def safe_get(data: dict, *keys, default=None):\n",
    "    for key in keys:\n",
    "        if key not in data:\n",
    "            return default\n",
    "        data = data[key]\n",
    "    return data\n",
    "\n",
    "safe_get(lpg.elements_by_id, \"cb4386fe-67d9-4743-995f-5d4a4162e26e\", \"owner\", \"@id\")"
   ]
  },
  {
   "cell_type": "code",
   "execution_count": null,
   "id": "bde9737a",
   "metadata": {},
   "outputs": [],
   "source": [
    "UNSPECIFIED = object()\n",
    "\n",
    "class SafeDict(dict):\n",
    "\n",
    "    def __init__(self, *args, default=None, **kwargs):\n",
    "        self.__default__ = default or {}\n",
    "        super().__init__(*args, **kwargs)\n",
    "        for key, value in self.items():\n",
    "            self[key] = SafeDict.__convert(value)\n",
    "\n",
    "    def __setitem__(self, k, v):\n",
    "        dict.__setitem__(self, k, SafeDict.__convert(v))\n",
    "\n",
    "    def get(self, item, default=None):\n",
    "        return super().get(item, default) or self.__default__\n",
    "\n",
    "    @staticmethod\n",
    "    def __convert(o):\n",
    "        \"\"\"\n",
    "        Recursively convert `dict` objects in `dict`, `list`, `set`, and\n",
    "        `tuple` objects to `attrdict` objects.\n",
    "        \"\"\"\n",
    "        if isinstance(o, dict):\n",
    "            o = SafeDict(o)\n",
    "        elif isinstance(o, list):\n",
    "            o = list(SafeDict.__convert(v) for v in o)\n",
    "        elif isinstance(o, set):\n",
    "            o = set(SafeDict.__convert(v) for v in o)\n",
    "        elif isinstance(o, tuple):\n",
    "            o = tuple(SafeDict.__convert(v) for v in o)\n",
    "        return o\n",
    "\n",
    "\n",
    "a = SafeDict(dict(agh=1, bum=2, bar=3, baz=dict(bar=2,baz=dict(bar=3,baz=4))))\n",
    "a[\"as\"] = \"if\"\n",
    "a.get(\"as\"), type(a.get(\"baz\")), a.get(\"baz\")"
   ]
  },
  {
   "cell_type": "code",
   "execution_count": null,
   "id": "75203978",
   "metadata": {
    "tags": []
   },
   "outputs": [],
   "source": [
    "from pymbe.interpretation import *\n",
    "\n",
    "def roll_up_upper_multiplicities(lpg):\n",
    "    banded_featuring_graph = make_banded_featuring_graph(lpg)\n",
    "\n",
    "    banded_roots = [\n",
    "        banded_featuring_graph.nodes[node]\n",
    "        for node in banded_featuring_graph\n",
    "        if banded_featuring_graph.out_degree(node) == 0\n",
    "    ]\n",
    "    \n",
    "    for part_usage in \n",
    "\n",
    "elements = lpg.elements_by_id\n",
    "\n",
    "features = [\n",
    "    id_\n",
    "    for id_, data in elements.items()\n",
    "    if data[\"@type\"] == \"Feature\"\n",
    "]\n",
    "\n",
    "for feature in features:\n",
    "    upper_multiplicity = get_feature_upper_multiplicity(elements, feature)\n",
    "    if upper_multiplicity:\n",
    "        print(elements[feature][\"qualifiedName\"], upper_multiplicity)"
   ]
  },
  {
   "cell_type": "markdown",
   "id": "fb413585",
   "metadata": {},
   "source": [
    "# Troubleshooting"
   ]
  },
  {
   "cell_type": "markdown",
   "id": "ec1c77ba",
   "metadata": {},
   "source": [
    "## Fix linking issue with diagram element selector"
   ]
  },
  {
   "cell_type": "code",
   "execution_count": null,
   "id": "e676e9d0",
   "metadata": {},
   "outputs": [],
   "source": [
    "self = lpg.diagram\n",
    "\n",
    "lpg.selected, self.selected, self.elk_app.diagram.selected"
   ]
  },
  {
   "cell_type": "code",
   "execution_count": null,
   "id": "c6ce680a",
   "metadata": {},
   "outputs": [],
   "source": [
    "self.id_mapper.get(*self.elk_app.diagram.selected)"
   ]
  },
  {
   "cell_type": "code",
   "execution_count": null,
   "id": "c4c3386f",
   "metadata": {},
   "outputs": [],
   "source": [
    "self._make_id_mapper()"
   ]
  },
  {
   "cell_type": "code",
   "execution_count": null,
   "id": "77ef2a4a",
   "metadata": {},
   "outputs": [],
   "source": [
    "self = lpg\n",
    "\n",
    "self._update_diagram_graph(button=self.filter_to_path)"
   ]
  },
  {
   "cell_type": "code",
   "execution_count": null,
   "id": "1a2d587c",
   "metadata": {},
   "outputs": [],
   "source": [
    "directed = self.path_directionality.value\n",
    "new_graph = self._get_subgraph(\n",
    "            excluded_edge_types=self.excluded_edge_types,\n",
    "            excluded_node_types=self.excluded_node_types,\n",
    "            reversed_edge_types=self.edge_type_reverser.value,\n",
    "        )\n",
    "\n",
    "source, target = self.selected\n",
    "new_graph = self.get_path_graph(\n",
    "    graph=new_graph,\n",
    "    source=source,\n",
    "    target=target,\n",
    "    directed=directed,\n",
    ")\n",
    "len(new_graph)"
   ]
  },
  {
   "cell_type": "code",
   "execution_count": null,
   "id": "01f7053e",
   "metadata": {},
   "outputs": [],
   "source": [
    "self.diagram.graph = new_graph"
   ]
  },
  {
   "cell_type": "code",
   "execution_count": null,
   "id": "fa72a559",
   "metadata": {},
   "outputs": [],
   "source": [
    "import traitlets as trt\n",
    "\n",
    "\n",
    "self.diagram._update_diagram(trt.Bunch(old=None))"
   ]
  },
  {
   "cell_type": "code",
   "execution_count": null,
   "id": "c80fc487",
   "metadata": {},
   "outputs": [],
   "source": [
    "len(self.diagram.compound(self.diagram.container)[0])"
   ]
  },
  {
   "cell_type": "code",
   "execution_count": null,
   "id": "52be99a6",
   "metadata": {},
   "outputs": [],
   "source": [
    "from dataclasses import dataclass, field\n",
    "\n",
    "@dataclass\n",
    "class Mapper:\n",
    "    to_map: dict = field(repr=False)\n",
    "    from_map: dict = field(default=None, repr=False)\n",
    "\n",
    "    def __repr__(self):\n",
    "        return f\"Mapper({len(self.to_map)} Items)\"\n",
    "\n",
    "    def __post_init__(self, *args, **kwargs):\n",
    "        self.from_map = {v: k for k, v in self.to_map.items()}\n",
    "\n",
    "    def get(self, *items):\n",
    "        found = [\n",
    "            self.to_map.get(item, self.from_map.get(item))\n",
    "            for item in items\n",
    "        ]\n",
    "        return [\n",
    "            item\n",
    "            for item in found\n",
    "            if item is not None\n",
    "        ]\n",
    "    \n",
    "    def __len__(self):\n",
    "        return len(self.to_map)\n",
    "\n",
    "if Mapper({}):\n",
    "    print(\"ahh\")"
   ]
  },
  {
   "cell_type": "code",
   "execution_count": null,
   "id": "365c822c",
   "metadata": {},
   "outputs": [],
   "source": []
  },
  {
   "cell_type": "markdown",
   "id": "b3f85347",
   "metadata": {},
   "source": [
    "---------------------"
   ]
  },
  {
   "cell_type": "code",
   "execution_count": null,
   "id": "40555d37",
   "metadata": {},
   "outputs": [],
   "source": [
    "self = lpg.diagram\n",
    "import networkx as nx\n",
    "\n",
    "_, hierarchy = self.elk_app.transformer.source\n",
    "\n",
    "try:\n",
    "    item = lpg.diagram.elk_app.selected[0]\n",
    "    res = next(hierarchy.predecessors(item)).node\n",
    "except nx.NetworkXError:\n",
    "    res = item.data.get(\"properties\", {}).get(\"@id\")\n",
    "\n",
    "res.id, res.data[\"@id\"]"
   ]
  },
  {
   "cell_type": "code",
   "execution_count": null,
   "id": "2f261d5b",
   "metadata": {},
   "outputs": [],
   "source": [
    "tree.selected, explorer.selected, lpg.selected"
   ]
  },
  {
   "cell_type": "code",
   "execution_count": null,
   "id": "4da55b41",
   "metadata": {},
   "outputs": [],
   "source": [
    "lpg.diagram.elk_app.diagram.selected"
   ]
  },
  {
   "cell_type": "code",
   "execution_count": null,
   "id": "544aa0cb",
   "metadata": {},
   "outputs": [],
   "source": [
    "lpg.selected"
   ]
  },
  {
   "cell_type": "code",
   "execution_count": null,
   "id": "7e1d03dd",
   "metadata": {
    "tags": []
   },
   "outputs": [],
   "source": [
    "self = lpg.diagram\n",
    "\n",
    "_, hierarchy = self.elk_transformer.source\n",
    "\n",
    "self.parts[self.selected[0]], self.elk_app.selected[0]\n",
    "\n",
    "for selected_id in self.selected:\n",
    "    node_selected = self.parts.get(selected_id)\n",
    "    print(node_selected.id)"
   ]
  },
  {
   "cell_type": "code",
   "execution_count": null,
   "id": "f4f68e4d",
   "metadata": {},
   "outputs": [],
   "source": [
    "node_selected.children[0] == self.elk_app.selected[0].node"
   ]
  },
  {
   "cell_type": "markdown",
   "id": "a9bdefa8",
   "metadata": {},
   "source": [
    "---------------"
   ]
  },
  {
   "cell_type": "code",
   "execution_count": null,
   "id": "1b951ab2",
   "metadata": {},
   "outputs": [],
   "source": [
    "from dataclasses import dataclass, field\n",
    "\n",
    "\n",
    "@dataclass\n",
    "class Mapper:\n",
    "    to_map: dict = field(repr=False)\n",
    "    from_map: dict = field(default=None, repr=False)\n",
    "        \n",
    "    def __repr__(self):\n",
    "        return f\"Mapper({len(self.to_map)} Items)\"\n",
    "\n",
    "    def __post_init__(self, *args, **kwargs):\n",
    "        self.from_map = {v: k for k, v in self.to_map.items()}\n",
    "\n",
    "    def get(self, *items):\n",
    "        found = [\n",
    "            self.to_map.get(item, self.from_map.get(item))\n",
    "            for item in items\n",
    "        ]\n",
    "        if len(found) < 2:\n",
    "            found = found[0]\n",
    "        return found\n",
    "\n",
    "mapper = Mapper(from_elk_id)\n",
    "\n",
    "mapper.get(*self.elk_app.diagram.selected)"
   ]
  },
  {
   "cell_type": "code",
   "execution_count": null,
   "id": "5e4838af",
   "metadata": {},
   "outputs": [],
   "source": [
    "a = {1,2,}\n",
    "a.symmetric_difference"
   ]
  },
  {
   "cell_type": "code",
   "execution_count": null,
   "id": "2718dd52",
   "metadata": {},
   "outputs": [],
   "source": [
    "self = lpg.diagram"
   ]
  },
  {
   "cell_type": "code",
   "execution_count": null,
   "id": "1fee9f6c",
   "metadata": {},
   "outputs": [],
   "source": [
    "relationships, hierarchy = self.elk_app.transformer.source"
   ]
  },
  {
   "cell_type": "code",
   "execution_count": null,
   "id": "260bc20a",
   "metadata": {},
   "outputs": [],
   "source": [
    "transformer = self.elk_app.transformer\n",
    "relationships, hierarchy = transformer.source\n",
    "\n",
    "import ipyelk\n",
    "from ipyelk.contrib.elements import (\n",
    "    Compartment,\n",
    ")\n",
    "\n",
    "def id_from_item(item):\n",
    "    id_ = None\n",
    "    if isinstance(item, ipyelk.transform.Edge):\n",
    "        id_ = item.data.get(\"properties\", {}).get(\"@id\")\n",
    "    elif isinstance(getattr(item, \"node\", None), Compartment):\n",
    "        id_ = next(hierarchy.predecessors(item)).node.id\n",
    "    if id_ is None:\n",
    "        self.log.debug(f\"Could not parse: {item}\")\n",
    "    return id_\n",
    "\n",
    "from_elk_id = {\n",
    "    elk_id: id_from_item(elk_item)\n",
    "    for elk_id, elk_item in transformer._elk_to_item.items()\n",
    "}\n",
    "\n",
    "from_elk_id = {\n",
    "    elk_id: sysml_id\n",
    "    for elk_id, sysml_id in from_elk_id.items()\n",
    "    if sysml_id is not None\n",
    "}\n",
    "found_ids = set(from_elk_id.values())\n",
    "\n",
    "for extra in set(lpg.elements_by_id).symmetric_difference(found_ids):\n",
    "    print(lpg.elements_by_id[extra])\n",
    "\n",
    "\n"
   ]
  },
  {
   "cell_type": "code",
   "execution_count": null,
   "id": "dcf4aad5",
   "metadata": {},
   "outputs": [],
   "source": [
    "transformer.from_id(\"61bd9433-3eec-47f7-af7e-3bf71f19071b\").node"
   ]
  },
  {
   "cell_type": "code",
   "execution_count": null,
   "id": "17e8af30",
   "metadata": {},
   "outputs": [],
   "source": [
    "missing = [elk_id for elk_id, our_id in from_elk_id.items() if our_id is None]\n",
    "lpg.diagram.elk_app.diagram.selected = missing"
   ]
  },
  {
   "cell_type": "code",
   "execution_count": null,
   "id": "e1629d4c",
   "metadata": {},
   "outputs": [],
   "source": [
    "from_elk_id"
   ]
  },
  {
   "cell_type": "markdown",
   "id": "6e6ef285",
   "metadata": {},
   "source": [
    "# Scratch Pad\n",
    "> **WARNING**: Anything below this point is just for experimentation purposes"
   ]
  },
  {
   "cell_type": "markdown",
   "id": "6a6264e4",
   "metadata": {},
   "source": [
    "## RDF Experiments"
   ]
  },
  {
   "cell_type": "code",
   "execution_count": null,
   "id": "15b6228a",
   "metadata": {},
   "outputs": [],
   "source": [
    "def process_edge(source, target, edge_type, data=None):\n",
    "    if edge_type in (\"FeatureTyping\", \"FeatureMembership\"):\n",
    "        source, target = target, source\n",
    "    return [source, target, data]\n",
    "\n",
    "graph = nx.DiGraph()\n",
    "graph.add_edges_from([\n",
    "    process_edge(source, target, edge_type, data)\n",
    "    for (source, target, edge_type), data in dict(client.lpg.graph.edges).items()\n",
    "    if edge_type in (\"Superclassing\", \"FeatureTyping\", \"FeatureMembership\")\n",
    "])\n",
    "graph"
   ]
  },
  {
   "cell_type": "code",
   "execution_count": null,
   "id": "51ecb619",
   "metadata": {},
   "outputs": [],
   "source": [
    "diagram.graph = graph"
   ]
  },
  {
   "cell_type": "code",
   "execution_count": null,
   "id": "9890d4be",
   "metadata": {},
   "outputs": [],
   "source": [
    "diagram = client.lpg.make_diagram(\n",
    "    graph=client.lpg.subgraph(edge_types=(\"Superclassing\", \"FeatureTyping^-1\", \"FeatureMembership^-1\"))\n",
    ")\n",
    "elk_app, *_ = diagram.children\n",
    "diagram"
   ]
  },
  {
   "cell_type": "code",
   "execution_count": null,
   "id": "3e4e6712",
   "metadata": {},
   "outputs": [],
   "source": [
    "# Select the root node in the diagram...\n",
    "# ... or you can manually select one yourself\n",
    "elk_app.selected = \"5260380b-6fda-43cc-993f-5df58868edbb\","
   ]
  },
  {
   "cell_type": "code",
   "execution_count": null,
   "id": "316bb6ec",
   "metadata": {
    "tags": []
   },
   "outputs": [],
   "source": [
    "first_element_selected, *_ = elk_app.selected\n",
    "client.elements_by_id[first_element_selected]"
   ]
  },
  {
   "cell_type": "markdown",
   "id": "f0336664",
   "metadata": {},
   "source": [
    "# Parse JSON-LD into RDF"
   ]
  },
  {
   "cell_type": "code",
   "execution_count": null,
   "id": "edc2e147",
   "metadata": {},
   "outputs": [],
   "source": [
    "import rdflib\n",
    "from rdflib.extras.external_graph_libs import rdflib_to_networkx_multidigraph\n",
    "import networkx as nx\n",
    "import matplotlib.pyplot as plt\n",
    "\n",
    "result = client.rdf.graph\n",
    "# result = g.parse(url, format='turtle')\n",
    "\n",
    "G = rdflib_to_networkx_multidigraph(result)\n",
    "\n",
    "# Plot Networkx instance of RDF Graph\n",
    "pos = nx.spring_layout(G, scale=2)\n",
    "edge_labels = nx.get_edge_attributes(G, 'r')"
   ]
  },
  {
   "cell_type": "code",
   "execution_count": null,
   "id": "c71f193d",
   "metadata": {},
   "outputs": [],
   "source": [
    "ax = plt.figure(figsize=(50,30)).gca();\n",
    "nx.draw_networkx_edge_labels(G, pos, edge_labels=edge_labels, ax=ax)\n",
    "nx.draw(G, with_labels=True, ax=ax)"
   ]
  },
  {
   "cell_type": "markdown",
   "id": "c057b5bf",
   "metadata": {},
   "source": [
    "# TODOs\n",
    "1. Finish fleshing out the process in the `Kerbal Model.ipynb`\n",
    "2. Modify the subgraph generator so it can take the value from the `Type Selector` directly\n",
    "3. Improve the ipyelk diagram widget (may need to make improvements to `ipyelk`)\n",
    "   * Add arrows\n",
    "   * Add compartments\n",
    "   * Fix layout\n",
    "   * Add widget to see node details\n",
    "4. Finalize the RDF formulation"
   ]
  }
 ],
 "metadata": {
  "kernelspec": {
   "display_name": "Python 3",
   "language": "python",
   "name": "python3"
  },
  "language_info": {
   "codemirror_mode": {
    "name": "ipython",
    "version": 3
   },
   "file_extension": ".py",
   "mimetype": "text/x-python",
   "name": "python",
   "nbconvert_exporter": "python",
   "pygments_lexer": "ipython3",
   "version": "3.9.2"
  }
 },
 "nbformat": 4,
 "nbformat_minor": 5
}
