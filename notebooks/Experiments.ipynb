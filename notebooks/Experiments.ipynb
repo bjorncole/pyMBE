{
 "cells": [
  {
   "cell_type": "markdown",
   "id": "ea67fea0",
   "metadata": {},
   "source": [
    "# Tutorial & Widget Experiments\n",
    "\n",
    "> This notebook is primarily being used to experiment with how to use the `pymbe` widgets.\n",
    ">\n",
    "> It should be fairly \"clean\" until the `Scratch Pad` section.\n",
    ">\n",
    "\n",
    "In the future, this notebook will be cleaned up and renamed \"Tutorial\"."
   ]
  },
  {
   "cell_type": "markdown",
   "id": "2822b5ee",
   "metadata": {},
   "source": [
    "## 1. Import `pymbe` and create a new user interface"
   ]
  },
  {
   "cell_type": "code",
   "execution_count": 1,
   "id": "b5ad7fff",
   "metadata": {},
   "outputs": [],
   "source": [
    "import pymbe.api as pm"
   ]
  },
  {
   "cell_type": "code",
   "execution_count": 2,
   "id": "33c7c6b0",
   "metadata": {
    "tags": []
   },
   "outputs": [
    {
     "data": {
      "application/vnd.jupyter.widget-view+json": {
       "model_id": "773d87d57d3245028e6692b7f15852ff",
       "version_major": 2,
       "version_minor": 0
      },
      "text/plain": [
       "DockPop(children=(UI(children=(SysML2ClientWidget(children=(Text(value='http://sysml2-sst.intercax.com', descr…"
      ]
     },
     "metadata": {},
     "output_type": "display_data"
    }
   ],
   "source": [
    "pm.UI.new(host_url=\"http://sysml2-sst.intercax.com\")"
   ]
  },
  {
   "cell_type": "markdown",
   "id": "db605615",
   "metadata": {},
   "source": [
    "## 2. Use the widget\n",
    "...or automatically load the `Kerbal` model using the cell below by:"
   ]
  },
  {
   "cell_type": "markdown",
   "id": "41b9fecd",
   "metadata": {},
   "source": [
    "1. Grabbing the individual widgets"
   ]
  },
  {
   "cell_type": "code",
   "execution_count": 3,
   "id": "35de9547",
   "metadata": {
    "tags": []
   },
   "outputs": [],
   "source": [
    "ui, *_ = _.children\n",
    "client, tree, inspector, lpg, interpreter = ui.children"
   ]
  },
  {
   "cell_type": "markdown",
   "id": "2db2f9fa",
   "metadata": {},
   "source": [
    "2. load a small model"
   ]
  },
  {
   "cell_type": "code",
   "execution_count": null,
   "id": "ee379a8e-f844-460e-bde7-5e4fad6c4bd4",
   "metadata": {},
   "outputs": [],
   "source": [
    "kerbal_project = [name for name in client.project_selector.options if name.startswith(\"Kerbal\")]\n",
    "if kerbal_project:\n",
    "    client.project_selector.value = client.project_selector.options[kerbal_project[-1]]\n",
    "    client._download_elements()"
   ]
  },
  {
   "cell_type": "code",
   "execution_count": null,
   "id": "a703ed47-d4ed-41f8-b62d-20ad24414efb",
   "metadata": {},
   "outputs": [],
   "source": [
    "# lpg.diagram.elk_layout.value"
   ]
  },
  {
   "cell_type": "markdown",
   "id": "cd6aad75-6266-447c-861b-474f84010ad4",
   "metadata": {},
   "source": [
    "# Add all implied edges"
   ]
  },
  {
   "cell_type": "code",
   "execution_count": 5,
   "id": "10ce0f16-d420-4caf-86c8-f7f2a66aa725",
   "metadata": {},
   "outputs": [],
   "source": [
    "from pymbe.interpretation.calc_dependencies import *\n",
    "from pymbe.interpretation.interp_playbooks import random_generator_playbook\n",
    "\n",
    "instances = random_generator_playbook(client, lpg, {})\n",
    "pairs = generate_execution_order(lpg=lpg, instance_dict=instances)"
   ]
  },
  {
   "cell_type": "code",
   "execution_count": 7,
   "id": "c401417e-d9a5-47a4-988c-1397a1bfb7d4",
   "metadata": {},
   "outputs": [],
   "source": [
    "from pymbe.graph.calc_lpg import *\n",
    "\n",
    "group = CalculationGroup(lpg.get_projection(\"Expression Inferred Graph\"), instances, pairs)"
   ]
  },
  {
   "cell_type": "code",
   "execution_count": 9,
   "id": "18e8d176-d95a-49bf-9975-4b107410e51a",
   "metadata": {},
   "outputs": [
    {
     "name": "stdout",
     "output_type": "stream",
     "text": [
      "[[R\"SFB#0, 162.91 «Occurred LiteralReal», R\"SFB#0.162.91 «Occurred LiteralReal».$result#0 (162.91)], [R\"SFB#1, 162.91 «Occurred LiteralReal», R\"SFB#1.162.91 «Occurred LiteralReal».$result#1 (162.91)], [R\"SFB#2, 162.91 «Occurred LiteralReal», R\"SFB#2.162.91 «Occurred LiteralReal».$result#2 (162.91)], [R\"SFB#3, 162.91 «Occurred LiteralReal», R\"SFB#3.162.91 «Occurred LiteralReal».$result#3 (162.91)], [R\"SFB#4, 162.91 «Occurred LiteralReal», R\"SFB#4.162.91 «Occurred LiteralReal».$result#4 (162.91)], [R\"SFB#5, 162.91 «Occurred LiteralReal», R\"SFB#5.162.91 «Occurred LiteralReal».$result#5 (162.91)], [R\"SFB#6, 162.91 «Occurred LiteralReal», R\"SFB#6.162.91 «Occurred LiteralReal».$result#6 (162.91)], [R\"SFB#7, 162.91 «Occurred LiteralReal», R\"SFB#7.162.91 «Occurred LiteralReal».$result#7 (162.91)], [R\"SFB#8, 162.91 «Occurred LiteralReal», R\"SFB#8.162.91 «Occurred LiteralReal».$result#8 (162.91)], [R\"SFB#9, 162.91 «Occurred LiteralReal», R\"SFB#9.162.91 «Occurred LiteralReal».$result#9 (162.91)], [R\"SFB#10, 162.91 «Occurred LiteralReal», R\"SFB#10.162.91 «Occurred LiteralReal».$result#10 (162.91)], [R\"SFB#11, 162.91 «Occurred LiteralReal», R\"SFB#11.162.91 «Occurred LiteralReal».$result#11 (162.91)], [R\"SFB#12, 162.91 «Occurred LiteralReal», R\"SFB#12.162.91 «Occurred LiteralReal».$result#12 (162.91)], [R\"SFB#13, 162.91 «Occurred LiteralReal», R\"SFB#13.162.91 «Occurred LiteralReal».$result#13 (162.91)], [R\"SFB#14, 162.91 «Occurred LiteralReal», R\"SFB#14.162.91 «Occurred LiteralReal».$result#14 (162.91)], [R\"SFB#15, 162.91 «Occurred LiteralReal», R\"SFB#15.162.91 «Occurred LiteralReal».$result#15 (162.91)], [R\"SFB#16, 162.91 «Occurred LiteralReal», R\"SFB#16.162.91 «Occurred LiteralReal».$result#16 (162.91)], [R\"SFB#17, 162.91 «Occurred LiteralReal», R\"SFB#17.162.91 «Occurred LiteralReal».$result#17 (162.91)], [R\"SFB#18, 162.91 «Occurred LiteralReal», R\"SFB#18.162.91 «Occurred LiteralReal».$result#18 (162.91)], [R\"SFB#19, 162.91 «Occurred LiteralReal», R\"SFB#19.162.91 «Occurred LiteralReal».$result#19 (162.91)], [R\"SFB#20, 162.91 «Occurred LiteralReal», R\"SFB#20.162.91 «Occurred LiteralReal».$result#20 (162.91)], [R\"SFB#21, 162.91 «Occurred LiteralReal», R\"SFB#21.162.91 «Occurred LiteralReal».$result#21 (162.91)], [R\"SFB#22, 162.91 «Occurred LiteralReal», R\"SFB#22.162.91 «Occurred LiteralReal».$result#22 (162.91)], [R\"SFB#23, 162.91 «Occurred LiteralReal», R\"SFB#23.162.91 «Occurred LiteralReal».$result#23 (162.91)], [R\"SFB#24, 162.91 «Occurred LiteralReal», R\"SFB#24.162.91 «Occurred LiteralReal».$result#24 (162.91)], [R\"SFB#25, 162.91 «Occurred LiteralReal», R\"SFB#25.162.91 «Occurred LiteralReal».$result#25 (162.91)]]\n",
      "Thrust: Real has no elements\n",
      "[[R\"SFB#0, .Real#761 (0.75)], [R\"SFB#1, .Real#699 (0.75)], [R\"SFB#2, .Real#1282 (0.75)], [R\"SFB#3, .Real#679 (0.75)], [R\"SFB#4, .Real#976 (0.75)], [R\"SFB#5, .Real#1051 (0.75)], [R\"SFB#6, .Real#961 (0.75)], [R\"SFB#7, .Real#1442 (0.75)], [R\"SFB#8, .Real#1899 (0.75)], [R\"SFB#9, .Real#931 (0.75)], [R\"SFB#10, .Real#1402 (0.75)], [R\"SFB#11, .Real#1175 (0.75)], [R\"SFB#12, .Real#1556 (0.75)], [R\"SFB#13, .Real#1770 (0.75)]]\n",
      "Empty Mass: Real has no elements\n",
      "[[R\"SFB#0, .Real#1462 (0.45)], [R\"SFB#1, .Real#959 (0.45)], [R\"SFB#2, .Real#982 (0.45)], [R\"SFB#3, .Real#1142 (0.45)], [R\"SFB#4, .Real#1525 (0.45)], [R\"SFB#5, .Real#1558 (0.45)], [R\"SFB#6, .Real#1364 (0.45)], [R\"SFB#7, .Real#509 (0.45)], [R\"SFB#8, .Real#364 (0.45)], [R\"SFB#9, .Real#552 (0.45)], [R\"SFB#10, .Real#1320 (0.45)], [R\"SFB#11, .Real#841 (0.45)], [R\"SFB#12, .Real#245 (0.45)], [R\"SFB#13, .Real#1048 (0.45)], [R\"SFB#14, .Real#307 (0.45)], [R\"SFB#15, .Real#266 (0.45)], [R\"SFB#16, .Real#203 (0.45)], [R\"SFB#17, .Real#1514 (0.45)], [R\"SFB#18, .Real#675 (0.45)], [R\"SFB#19, .Real#547 (0.45)], [R\"SFB#20, .Real#308 (0.45)], [R\"SFB#21, .Real#131 (0.45)], [R\"SFB#22, .Real#1658 (0.45)], [R\"SFB#23, .Real#1084 (0.45)], [R\"SFB#24, .Real#832 (0.45)], [R\"SFB#25, .Real#671 (0.45)]]\n",
      "Empty Mass: Real has no elements\n",
      "[[FFT#0, 1.125 «Occurred LiteralReal», FFT#0.1.125 «Occurred LiteralReal».$result#0 (1.125)], [FFT#1, 1.125 «Occurred LiteralReal», FFT#1.1.125 «Occurred LiteralReal».$result#1 (1.125)], [FFT#2, 1.125 «Occurred LiteralReal», FFT#2.1.125 «Occurred LiteralReal».$result#2 (1.125)], [FFT#3, 1.125 «Occurred LiteralReal», FFT#3.1.125 «Occurred LiteralReal».$result#3 (1.125)], [FFT#4, 1.125 «Occurred LiteralReal», FFT#4.1.125 «Occurred LiteralReal».$result#4 (1.125)], [FFT#5, 1.125 «Occurred LiteralReal», FFT#5.1.125 «Occurred LiteralReal».$result#5 (1.125)], [FFT#6, 1.125 «Occurred LiteralReal», FFT#6.1.125 «Occurred LiteralReal».$result#6 (1.125)], [FFT#7, 1.125 «Occurred LiteralReal», FFT#7.1.125 «Occurred LiteralReal».$result#7 (1.125)], [FFT#8, 1.125 «Occurred LiteralReal», FFT#8.1.125 «Occurred LiteralReal».$result#8 (1.125)], [FFT#9, 1.125 «Occurred LiteralReal», FFT#9.1.125 «Occurred LiteralReal».$result#9 (1.125)], [FFT#10, 1.125 «Occurred LiteralReal», FFT#10.1.125 «Occurred LiteralReal».$result#10 (1.125)], [FFT#11, 1.125 «Occurred LiteralReal», FFT#11.1.125 «Occurred LiteralReal».$result#11 (1.125)], [FFT#12, 1.125 «Occurred LiteralReal», FFT#12.1.125 «Occurred LiteralReal».$result#12 (1.125)], [FFT#13, 1.125 «Occurred LiteralReal», FFT#13.1.125 «Occurred LiteralReal».$result#13 (1.125)], [FFT#14, 1.125 «Occurred LiteralReal», FFT#14.1.125 «Occurred LiteralReal».$result#14 (1.125)], [FFT#15, 1.125 «Occurred LiteralReal», FFT#15.1.125 «Occurred LiteralReal».$result#15 (1.125)], [FFT#16, 1.125 «Occurred LiteralReal», FFT#16.1.125 «Occurred LiteralReal».$result#16 (1.125)], [FFT#17, 1.125 «Occurred LiteralReal», FFT#17.1.125 «Occurred LiteralReal».$result#17 (1.125)], [FFT#18, 1.125 «Occurred LiteralReal», FFT#18.1.125 «Occurred LiteralReal».$result#18 (1.125)], [FFT#19, 1.125 «Occurred LiteralReal», FFT#19.1.125 «Occurred LiteralReal».$result#19 (1.125)], [FFT#20, 1.125 «Occurred LiteralReal», FFT#20.1.125 «Occurred LiteralReal».$result#20 (1.125)], [FFT#21, 1.125 «Occurred LiteralReal», FFT#21.1.125 «Occurred LiteralReal».$result#21 (1.125)], [FFT#22, 1.125 «Occurred LiteralReal», FFT#22.1.125 «Occurred LiteralReal».$result#22 (1.125)], [FFT#23, 1.125 «Occurred LiteralReal», FFT#23.1.125 «Occurred LiteralReal».$result#23 (1.125)], [FFT#24, 1.125 «Occurred LiteralReal», FFT#24.1.125 «Occurred LiteralReal».$result#24 (1.125)], [FFT#25, 1.125 «Occurred LiteralReal», FFT#25.1.125 «Occurred LiteralReal».$result#25 (1.125)], [FFT#26, 1.125 «Occurred LiteralReal», FFT#26.1.125 «Occurred LiteralReal».$result#26 (1.125)], [FFT#27, 1.125 «Occurred LiteralReal», FFT#27.1.125 «Occurred LiteralReal».$result#27 (1.125)], [FFT#28, 1.125 «Occurred LiteralReal», FFT#28.1.125 «Occurred LiteralReal».$result#28 (1.125)], [FFT#29, 1.125 «Occurred LiteralReal», FFT#29.1.125 «Occurred LiteralReal».$result#29 (1.125)], [FFT#30, 1.125 «Occurred LiteralReal», FFT#30.1.125 «Occurred LiteralReal».$result#30 (1.125)], [FFT#31, 1.125 «Occurred LiteralReal», FFT#31.1.125 «Occurred LiteralReal».$result#31 (1.125)], [FFT#32, 1.125 «Occurred LiteralReal», FFT#32.1.125 «Occurred LiteralReal».$result#32 (1.125)], [FFT#33, 1.125 «Occurred LiteralReal», FFT#33.1.125 «Occurred LiteralReal».$result#33 (1.125)], [FFT#34, 1.125 «Occurred LiteralReal», FFT#34.1.125 «Occurred LiteralReal».$result#34 (1.125)], [FFT#35, 1.125 «Occurred LiteralReal», FFT#35.1.125 «Occurred LiteralReal».$result#35 (1.125)], [FFT#36, 1.125 «Occurred LiteralReal», FFT#36.1.125 «Occurred LiteralReal».$result#36 (1.125)], [FFT#37, 1.125 «Occurred LiteralReal», FFT#37.1.125 «Occurred LiteralReal».$result#37 (1.125)], [FFT#38, 1.125 «Occurred LiteralReal», FFT#38.1.125 «Occurred LiteralReal».$result#38 (1.125)], [FFT#39, 1.125 «Occurred LiteralReal», FFT#39.1.125 «Occurred LiteralReal».$result#39 (1.125)], [FFT#40, 1.125 «Occurred LiteralReal», FFT#40.1.125 «Occurred LiteralReal».$result#40 (1.125)], [FFT#41, 1.125 «Occurred LiteralReal», FFT#41.1.125 «Occurred LiteralReal».$result#41 (1.125)], [FFT#42, 1.125 «Occurred LiteralReal», FFT#42.1.125 «Occurred LiteralReal».$result#42 (1.125)], [FFT#43, 1.125 «Occurred LiteralReal», FFT#43.1.125 «Occurred LiteralReal».$result#43 (1.125)], [FFT#44, 1.125 «Occurred LiteralReal», FFT#44.1.125 «Occurred LiteralReal».$result#44 (1.125)], [FFT#45, 1.125 «Occurred LiteralReal», FFT#45.1.125 «Occurred LiteralReal».$result#45 (1.125)], [FFT#46, 1.125 «Occurred LiteralReal», FFT#46.1.125 «Occurred LiteralReal».$result#46 (1.125)], [FFT#47, 1.125 «Occurred LiteralReal», FFT#47.1.125 «Occurred LiteralReal».$result#47 (1.125)], [FFT#48, 1.125 «Occurred LiteralReal», FFT#48.1.125 «Occurred LiteralReal».$result#48 (1.125)], [FFT#49, 1.125 «Occurred LiteralReal», FFT#49.1.125 «Occurred LiteralReal».$result#49 (1.125)], [FFT#50, 1.125 «Occurred LiteralReal», FFT#50.1.125 «Occurred LiteralReal».$result#50 (1.125)], [FFT#51, 1.125 «Occurred LiteralReal», FFT#51.1.125 «Occurred LiteralReal».$result#51 (1.125)], [FFT#52, 1.125 «Occurred LiteralReal», FFT#52.1.125 «Occurred LiteralReal».$result#52 (1.125)]]\n",
      "Full Mass: Real has no elements\n",
      "[[FFT#0, 0.5625 «Occurred LiteralReal», FFT#0.0.5625 «Occurred LiteralReal».$result#0 (0.5625)], [FFT#1, 0.5625 «Occurred LiteralReal», FFT#1.0.5625 «Occurred LiteralReal».$result#1 (0.5625)], [FFT#2, 0.5625 «Occurred LiteralReal», FFT#2.0.5625 «Occurred LiteralReal».$result#2 (0.5625)], [FFT#3, 0.5625 «Occurred LiteralReal», FFT#3.0.5625 «Occurred LiteralReal».$result#3 (0.5625)], [FFT#4, 0.5625 «Occurred LiteralReal», FFT#4.0.5625 «Occurred LiteralReal».$result#4 (0.5625)], [FFT#5, 0.5625 «Occurred LiteralReal», FFT#5.0.5625 «Occurred LiteralReal».$result#5 (0.5625)], [FFT#6, 0.5625 «Occurred LiteralReal», FFT#6.0.5625 «Occurred LiteralReal».$result#6 (0.5625)], [FFT#7, 0.5625 «Occurred LiteralReal», FFT#7.0.5625 «Occurred LiteralReal».$result#7 (0.5625)], [FFT#8, 0.5625 «Occurred LiteralReal», FFT#8.0.5625 «Occurred LiteralReal».$result#8 (0.5625)], [FFT#9, 0.5625 «Occurred LiteralReal», FFT#9.0.5625 «Occurred LiteralReal».$result#9 (0.5625)], [FFT#10, 0.5625 «Occurred LiteralReal», FFT#10.0.5625 «Occurred LiteralReal».$result#10 (0.5625)], [FFT#11, 0.5625 «Occurred LiteralReal», FFT#11.0.5625 «Occurred LiteralReal».$result#11 (0.5625)], [FFT#12, 0.5625 «Occurred LiteralReal», FFT#12.0.5625 «Occurred LiteralReal».$result#12 (0.5625)], [FFT#13, 0.5625 «Occurred LiteralReal», FFT#13.0.5625 «Occurred LiteralReal».$result#13 (0.5625)], [FFT#14, 0.5625 «Occurred LiteralReal», FFT#14.0.5625 «Occurred LiteralReal».$result#14 (0.5625)], [FFT#15, 0.5625 «Occurred LiteralReal», FFT#15.0.5625 «Occurred LiteralReal».$result#15 (0.5625)], [FFT#16, 0.5625 «Occurred LiteralReal», FFT#16.0.5625 «Occurred LiteralReal».$result#16 (0.5625)], [FFT#17, 0.5625 «Occurred LiteralReal», FFT#17.0.5625 «Occurred LiteralReal».$result#17 (0.5625)], [FFT#18, 0.5625 «Occurred LiteralReal», FFT#18.0.5625 «Occurred LiteralReal».$result#18 (0.5625)], [FFT#19, 0.5625 «Occurred LiteralReal», FFT#19.0.5625 «Occurred LiteralReal».$result#19 (0.5625)], [FFT#20, 0.5625 «Occurred LiteralReal», FFT#20.0.5625 «Occurred LiteralReal».$result#20 (0.5625)], [FFT#21, 0.5625 «Occurred LiteralReal», FFT#21.0.5625 «Occurred LiteralReal».$result#21 (0.5625)], [FFT#22, 0.5625 «Occurred LiteralReal», FFT#22.0.5625 «Occurred LiteralReal».$result#22 (0.5625)], [FFT#23, 0.5625 «Occurred LiteralReal», FFT#23.0.5625 «Occurred LiteralReal».$result#23 (0.5625)], [FFT#24, 0.5625 «Occurred LiteralReal», FFT#24.0.5625 «Occurred LiteralReal».$result#24 (0.5625)], [FFT#25, 0.5625 «Occurred LiteralReal», FFT#25.0.5625 «Occurred LiteralReal».$result#25 (0.5625)], [FFT#26, 0.5625 «Occurred LiteralReal», FFT#26.0.5625 «Occurred LiteralReal».$result#26 (0.5625)], [FFT#27, 0.5625 «Occurred LiteralReal», FFT#27.0.5625 «Occurred LiteralReal».$result#27 (0.5625)], [FFT#28, 0.5625 «Occurred LiteralReal», FFT#28.0.5625 «Occurred LiteralReal».$result#28 (0.5625)], [FFT#29, 0.5625 «Occurred LiteralReal», FFT#29.0.5625 «Occurred LiteralReal».$result#29 (0.5625)], [FFT#30, 0.5625 «Occurred LiteralReal», FFT#30.0.5625 «Occurred LiteralReal».$result#30 (0.5625)], [FFT#31, 0.5625 «Occurred LiteralReal», FFT#31.0.5625 «Occurred LiteralReal».$result#31 (0.5625)], [FFT#32, 0.5625 «Occurred LiteralReal», FFT#32.0.5625 «Occurred LiteralReal».$result#32 (0.5625)], [FFT#33, 0.5625 «Occurred LiteralReal», FFT#33.0.5625 «Occurred LiteralReal».$result#33 (0.5625)], [FFT#34, 0.5625 «Occurred LiteralReal», FFT#34.0.5625 «Occurred LiteralReal».$result#34 (0.5625)], [FFT#35, 0.5625 «Occurred LiteralReal», FFT#35.0.5625 «Occurred LiteralReal».$result#35 (0.5625)], [FFT#36, 0.5625 «Occurred LiteralReal», FFT#36.0.5625 «Occurred LiteralReal».$result#36 (0.5625)], [FFT#37, 0.5625 «Occurred LiteralReal», FFT#37.0.5625 «Occurred LiteralReal».$result#37 (0.5625)], [FFT#38, 0.5625 «Occurred LiteralReal», FFT#38.0.5625 «Occurred LiteralReal».$result#38 (0.5625)], [FFT#39, 0.5625 «Occurred LiteralReal», FFT#39.0.5625 «Occurred LiteralReal».$result#39 (0.5625)], [FFT#40, 0.5625 «Occurred LiteralReal», FFT#40.0.5625 «Occurred LiteralReal».$result#40 (0.5625)], [FFT#41, 0.5625 «Occurred LiteralReal», FFT#41.0.5625 «Occurred LiteralReal».$result#41 (0.5625)], [FFT#42, 0.5625 «Occurred LiteralReal», FFT#42.0.5625 «Occurred LiteralReal».$result#42 (0.5625)], [FFT#43, 0.5625 «Occurred LiteralReal», FFT#43.0.5625 «Occurred LiteralReal».$result#43 (0.5625)], [FFT#44, 0.5625 «Occurred LiteralReal», FFT#44.0.5625 «Occurred LiteralReal».$result#44 (0.5625)], [FFT#45, 0.5625 «Occurred LiteralReal», FFT#45.0.5625 «Occurred LiteralReal».$result#45 (0.5625)], [FFT#46, 0.5625 «Occurred LiteralReal», FFT#46.0.5625 «Occurred LiteralReal».$result#46 (0.5625)], [FFT#47, 0.5625 «Occurred LiteralReal», FFT#47.0.5625 «Occurred LiteralReal».$result#47 (0.5625)], [FFT#48, 0.5625 «Occurred LiteralReal», FFT#48.0.5625 «Occurred LiteralReal».$result#48 (0.5625)], [FFT#49, 0.5625 «Occurred LiteralReal», FFT#49.0.5625 «Occurred LiteralReal».$result#49 (0.5625)], [FFT#50, 0.5625 «Occurred LiteralReal», FFT#50.0.5625 «Occurred LiteralReal».$result#50 (0.5625)], [FFT#51, 0.5625 «Occurred LiteralReal», FFT#51.0.5625 «Occurred LiteralReal».$result#51 (0.5625)], [FFT#52, 0.5625 «Occurred LiteralReal», FFT#52.0.5625 «Occurred LiteralReal».$result#52 (0.5625)], [FFT#53, 0.5625 «Occurred LiteralReal», FFT#53.0.5625 «Occurred LiteralReal».$result#53 (0.5625)], [FFT#54, 0.5625 «Occurred LiteralReal», FFT#54.0.5625 «Occurred LiteralReal».$result#54 (0.5625)], [FFT#55, 0.5625 «Occurred LiteralReal», FFT#55.0.5625 «Occurred LiteralReal».$result#55 (0.5625)], [FFT#56, 0.5625 «Occurred LiteralReal», FFT#56.0.5625 «Occurred LiteralReal».$result#56 (0.5625)], [FFT#57, 0.5625 «Occurred LiteralReal», FFT#57.0.5625 «Occurred LiteralReal».$result#57 (0.5625)], [FFT#58, 0.5625 «Occurred LiteralReal», FFT#58.0.5625 «Occurred LiteralReal».$result#58 (0.5625)], [FFT#59, 0.5625 «Occurred LiteralReal», FFT#59.0.5625 «Occurred LiteralReal».$result#59 (0.5625)], [FFT#60, 0.5625 «Occurred LiteralReal», FFT#60.0.5625 «Occurred LiteralReal».$result#60 (0.5625)], [FFT#61, 0.5625 «Occurred LiteralReal», FFT#61.0.5625 «Occurred LiteralReal».$result#61 (0.5625)], [FFT#62, 0.5625 «Occurred LiteralReal», FFT#62.0.5625 «Occurred LiteralReal».$result#62 (0.5625)], [FFT#63, 0.5625 «Occurred LiteralReal», FFT#63.0.5625 «Occurred LiteralReal».$result#63 (0.5625)], [FFT#64, 0.5625 «Occurred LiteralReal», FFT#64.0.5625 «Occurred LiteralReal».$result#64 (0.5625)], [FFT#65, 0.5625 «Occurred LiteralReal», FFT#65.0.5625 «Occurred LiteralReal».$result#65 (0.5625)], [FFT#66, 0.5625 «Occurred LiteralReal», FFT#66.0.5625 «Occurred LiteralReal».$result#66 (0.5625)], [FFT#67, 0.5625 «Occurred LiteralReal», FFT#67.0.5625 «Occurred LiteralReal».$result#67 (0.5625)], [FFT#68, 0.5625 «Occurred LiteralReal», FFT#68.0.5625 «Occurred LiteralReal».$result#68 (0.5625)], [FFT#69, 0.5625 «Occurred LiteralReal», FFT#69.0.5625 «Occurred LiteralReal».$result#69 (0.5625)], [FFT#70, 0.5625 «Occurred LiteralReal», FFT#70.0.5625 «Occurred LiteralReal».$result#70 (0.5625)], [FFT#71, 0.5625 «Occurred LiteralReal», FFT#71.0.5625 «Occurred LiteralReal».$result#71 (0.5625)], [FFT#72, 0.5625 «Occurred LiteralReal», FFT#72.0.5625 «Occurred LiteralReal».$result#72 (0.5625)], [FFT#73, 0.5625 «Occurred LiteralReal», FFT#73.0.5625 «Occurred LiteralReal».$result#73 (0.5625)], [FFT#74, 0.5625 «Occurred LiteralReal», FFT#74.0.5625 «Occurred LiteralReal».$result#74 (0.5625)], [FFT#75, 0.5625 «Occurred LiteralReal», FFT#75.0.5625 «Occurred LiteralReal».$result#75 (0.5625)], [FFT#76, 0.5625 «Occurred LiteralReal», FFT#76.0.5625 «Occurred LiteralReal».$result#76 (0.5625)], [FFT#77, 0.5625 «Occurred LiteralReal», FFT#77.0.5625 «Occurred LiteralReal».$result#77 (0.5625)], [FFT#78, 0.5625 «Occurred LiteralReal», FFT#78.0.5625 «Occurred LiteralReal».$result#78 (0.5625)], [FFT#79, 0.5625 «Occurred LiteralReal», FFT#79.0.5625 «Occurred LiteralReal».$result#79 (0.5625)], [FFT#80, 0.5625 «Occurred LiteralReal», FFT#80.0.5625 «Occurred LiteralReal».$result#80 (0.5625)], [FFT#81, 0.5625 «Occurred LiteralReal», FFT#81.0.5625 «Occurred LiteralReal».$result#81 (0.5625)], [FFT#82, 0.5625 «Occurred LiteralReal», FFT#82.0.5625 «Occurred LiteralReal».$result#82 (0.5625)], [FFT#83, 0.5625 «Occurred LiteralReal», FFT#83.0.5625 «Occurred LiteralReal».$result#83 (0.5625)], [FFT#84, 0.5625 «Occurred LiteralReal», FFT#84.0.5625 «Occurred LiteralReal».$result#84 (0.5625)], [FFT#85, 0.5625 «Occurred LiteralReal», FFT#85.0.5625 «Occurred LiteralReal».$result#85 (0.5625)], [FFT#86, 0.5625 «Occurred LiteralReal», FFT#86.0.5625 «Occurred LiteralReal».$result#86 (0.5625)], [FFT#87, 0.5625 «Occurred LiteralReal», FFT#87.0.5625 «Occurred LiteralReal».$result#87 (0.5625)], [FFT#88, 0.5625 «Occurred LiteralReal», FFT#88.0.5625 «Occurred LiteralReal».$result#88 (0.5625)], [FFT#89, 0.5625 «Occurred LiteralReal», FFT#89.0.5625 «Occurred LiteralReal».$result#89 (0.5625)], [FFT#90, 0.5625 «Occurred LiteralReal», FFT#90.0.5625 «Occurred LiteralReal».$result#90 (0.5625)], [FFT#91, 0.5625 «Occurred LiteralReal», FFT#91.0.5625 «Occurred LiteralReal».$result#91 (0.5625)], [FFT#92, 0.5625 «Occurred LiteralReal», FFT#92.0.5625 «Occurred LiteralReal».$result#92 (0.5625)], [FFT#93, 0.5625 «Occurred LiteralReal», FFT#93.0.5625 «Occurred LiteralReal».$result#93 (0.5625)], [FFT#94, 0.5625 «Occurred LiteralReal», FFT#94.0.5625 «Occurred LiteralReal».$result#94 (0.5625)], [FFT#95, 0.5625 «Occurred LiteralReal», FFT#95.0.5625 «Occurred LiteralReal».$result#95 (0.5625)], [FFT#96, 0.5625 «Occurred LiteralReal», FFT#96.0.5625 «Occurred LiteralReal».$result#96 (0.5625)]]\n",
      "Full Mass: Real has no elements\n",
      "[]\n",
      "Full Mass: Real has no elements\n",
      "[]\n",
      "Full Mass: Real has no elements\n",
      "[[L\"LFE#0, .Real#838 (1.5)], [L\"LFE#1, .Real#1564 (1.5)], [L\"LFE#2, .Real#917 (1.5)], [L\"LFE#3, .Real#27 (1.5)], [L\"LFE#4, .Real#1597 (1.5)], [L\"LFE#5, .Real#876 (1.5)], [L\"LFE#6, .Real#392 (1.5)], [L\"LFE#7, .Real#1096 (1.5)], [L\"LFE#8, .Real#775 (1.5)], [L\"LFE#9, .Real#1016 (1.5)], [L\"LFE#10, .Real#532 (1.5)], [L\"LFE#11, .Real#1389 (1.5)], [L\"LFE#12, .Real#1585 (1.5)], [L\"LFE#13, .Real#1356 (1.5)], [L\"LFE#14, .Real#1941 (1.5)], [L\"LFE#15, .Real#1539 (1.5)], [L\"LFE#16, .Real#483 (1.5)], [L\"LFE#17, .Real#1589 (1.5)], [L\"LFE#18, .Real#1590 (1.5)], [L\"LFE#19, .Real#1348 (1.5)], [L\"LFE#20, .Real#1160 (1.5)], [L\"LFE#21, .Real#1290 (1.5)], [L\"LFE#22, .Real#110 (1.5)], [L\"LFE#23, .Real#739 (1.5)], [L\"LFE#24, .Real#1333 (1.5)], [L\"LFE#25, .Real#164 (1.5)], [L\"LFE#26, .Real#338 (1.5)], [L\"LFE#27, .Real#564 (1.5)], [L\"LFE#28, .Real#1894 (1.5)], [L\"LFE#29, .Real#1445 (1.5)], [L\"LFE#30, .Real#776 (1.5)], [L\"LFE#31, .Real#818 (1.5)], [L\"LFE#32, .Real#1145 (1.5)], [L\"LFE#33, .Real#255 (1.5)], [L\"LFE#34, .Real#1749 (1.5)], [L\"LFE#35, .Real#381 (1.5)], [L\"LFE#36, .Real#1834 (1.5)], [L\"LFE#37, .Real#167 (1.5)], [L\"LFE#38, .Real#706 (1.5)], [L\"LFE#39, .Real#1044 (1.5)]]\n",
      "Mass: Real has no elements\n",
      "[[L\"LFE#0, .Real#1872 (167.97)], [L\"LFE#1, .Real#1355 (167.97)], [L\"LFE#2, .Real#1287 (167.97)], [L\"LFE#3, .Real#1350 (167.97)], [L\"LFE#4, .Real#133 (167.97)], [L\"LFE#5, .Real#1774 (167.97)], [L\"LFE#6, .Real#1423 (167.97)], [L\"LFE#7, .Real#1214 (167.97)], [L\"LFE#8, .Real#1521 (167.97)], [L\"LFE#9, .Real#87 (167.97)], [L\"LFE#10, .Real#1731 (167.97)], [L\"LFE#11, .Real#1951 (167.97)], [L\"LFE#12, .Real#1094 (167.97)], [L\"LFE#13, .Real#411 (167.97)], [L\"LFE#14, .Real#1937 (167.97)], [L\"LFE#15, .Real#1137 (167.97)], [L\"LFE#16, .Real#291 (167.97)], [L\"LFE#17, .Real#277 (167.97)], [L\"LFE#18, .Real#666 (167.97)], [L\"LFE#19, .Real#858 (167.97)], [L\"LFE#20, .Real#40 (167.97)], [L\"LFE#21, .Real#1334 (167.97)], [L\"LFE#22, .Real#104 (167.97)], [L\"LFE#23, .Real#1511 (167.97)], [L\"LFE#24, .Real#528 (167.97)], [L\"LFE#25, .Real#1203 (167.97)], [L\"LFE#26, .Real#1509 (167.97)], [L\"LFE#27, .Real#488 (167.97)], [L\"LFE#28, .Real#1952 (167.97)], [L\"LFE#29, .Real#438 (167.97)], [L\"LFE#30, .Real#1630 (167.97)], [L\"LFE#31, .Real#247 (167.97)], [L\"LFE#32, .Real#1584 (167.97)], [L\"LFE#33, .Real#107 (167.97)], [L\"LFE#34, .Real#451 (167.97)], [L\"LFE#35, .Real#615 (167.97)], [L\"LFE#36, .Real#842 (167.97)], [L\"LFE#37, .Real#147 (167.97)], [L\"LFE#38, .Real#418 (167.97)], [L\"LFE#39, .Real#1696 (167.97)]]\n",
      "Thrust: Real has no elements\n",
      "[[R\"SFB#0, 3.56 «Occurred LiteralReal», R\"SFB#0.3.56 «Occurred LiteralReal».$result#0 (3.56)], [R\"SFB#1, 3.56 «Occurred LiteralReal», R\"SFB#1.3.56 «Occurred LiteralReal».$result#1 (3.56)], [R\"SFB#2, 3.56 «Occurred LiteralReal», R\"SFB#2.3.56 «Occurred LiteralReal».$result#2 (3.56)], [R\"SFB#3, 3.56 «Occurred LiteralReal», R\"SFB#3.3.56 «Occurred LiteralReal».$result#3 (3.56)], [R\"SFB#4, 3.56 «Occurred LiteralReal», R\"SFB#4.3.56 «Occurred LiteralReal».$result#4 (3.56)], [R\"SFB#5, 3.56 «Occurred LiteralReal», R\"SFB#5.3.56 «Occurred LiteralReal».$result#5 (3.56)], [R\"SFB#6, 3.56 «Occurred LiteralReal», R\"SFB#6.3.56 «Occurred LiteralReal».$result#6 (3.56)], [R\"SFB#7, 3.56 «Occurred LiteralReal», R\"SFB#7.3.56 «Occurred LiteralReal».$result#7 (3.56)], [R\"SFB#8, 3.56 «Occurred LiteralReal», R\"SFB#8.3.56 «Occurred LiteralReal».$result#8 (3.56)], [R\"SFB#9, 3.56 «Occurred LiteralReal», R\"SFB#9.3.56 «Occurred LiteralReal».$result#9 (3.56)], [R\"SFB#10, 3.56 «Occurred LiteralReal», R\"SFB#10.3.56 «Occurred LiteralReal».$result#10 (3.56)], [R\"SFB#11, 3.56 «Occurred LiteralReal», R\"SFB#11.3.56 «Occurred LiteralReal».$result#11 (3.56)], [R\"SFB#12, 3.56 «Occurred LiteralReal», R\"SFB#12.3.56 «Occurred LiteralReal».$result#12 (3.56)], [R\"SFB#13, 3.56 «Occurred LiteralReal», R\"SFB#13.3.56 «Occurred LiteralReal».$result#13 (3.56)]]\n",
      "Full Mass: Real has no elements\n",
      "[[L\"LFE#0, 170.0 «Occurred LiteralReal», L\"LFE#0.170.0 «Occurred LiteralReal».$result#0 (170.0)], [L\"LFE#1, 170.0 «Occurred LiteralReal», L\"LFE#1.170.0 «Occurred LiteralReal».$result#1 (170.0)], [L\"LFE#2, 170.0 «Occurred LiteralReal», L\"LFE#2.170.0 «Occurred LiteralReal».$result#2 (170.0)], [L\"LFE#3, 170.0 «Occurred LiteralReal», L\"LFE#3.170.0 «Occurred LiteralReal».$result#3 (170.0)], [L\"LFE#4, 170.0 «Occurred LiteralReal», L\"LFE#4.170.0 «Occurred LiteralReal».$result#4 (170.0)], [L\"LFE#5, 170.0 «Occurred LiteralReal», L\"LFE#5.170.0 «Occurred LiteralReal».$result#5 (170.0)], [L\"LFE#6, 170.0 «Occurred LiteralReal», L\"LFE#6.170.0 «Occurred LiteralReal».$result#6 (170.0)], [L\"LFE#7, 170.0 «Occurred LiteralReal», L\"LFE#7.170.0 «Occurred LiteralReal».$result#7 (170.0)], [L\"LFE#8, 170.0 «Occurred LiteralReal», L\"LFE#8.170.0 «Occurred LiteralReal».$result#8 (170.0)], [L\"LFE#9, 170.0 «Occurred LiteralReal», L\"LFE#9.170.0 «Occurred LiteralReal».$result#9 (170.0)], [L\"LFE#10, 170.0 «Occurred LiteralReal», L\"LFE#10.170.0 «Occurred LiteralReal».$result#10 (170.0)], [L\"LFE#11, 170.0 «Occurred LiteralReal», L\"LFE#11.170.0 «Occurred LiteralReal».$result#11 (170.0)], [L\"LFE#12, 170.0 «Occurred LiteralReal», L\"LFE#12.170.0 «Occurred LiteralReal».$result#12 (170.0)], [L\"LFE#13, 170.0 «Occurred LiteralReal», L\"LFE#13.170.0 «Occurred LiteralReal».$result#13 (170.0)], [L\"LFE#14, 170.0 «Occurred LiteralReal», L\"LFE#14.170.0 «Occurred LiteralReal».$result#14 (170.0)], [L\"LFE#15, 170.0 «Occurred LiteralReal», L\"LFE#15.170.0 «Occurred LiteralReal».$result#15 (170.0)], [L\"LFE#16, 170.0 «Occurred LiteralReal», L\"LFE#16.170.0 «Occurred LiteralReal».$result#16 (170.0)], [L\"LFE#17, 170.0 «Occurred LiteralReal», L\"LFE#17.170.0 «Occurred LiteralReal».$result#17 (170.0)], [L\"LFE#18, 170.0 «Occurred LiteralReal», L\"LFE#18.170.0 «Occurred LiteralReal».$result#18 (170.0)], [L\"LFE#19, 170.0 «Occurred LiteralReal», L\"LFE#19.170.0 «Occurred LiteralReal».$result#19 (170.0)], [L\"LFE#20, 170.0 «Occurred LiteralReal», L\"LFE#20.170.0 «Occurred LiteralReal».$result#20 (170.0)], [L\"LFE#21, 170.0 «Occurred LiteralReal», L\"LFE#21.170.0 «Occurred LiteralReal».$result#21 (170.0)], [L\"LFE#22, 170.0 «Occurred LiteralReal», L\"LFE#22.170.0 «Occurred LiteralReal».$result#22 (170.0)], [L\"LFE#23, 170.0 «Occurred LiteralReal», L\"LFE#23.170.0 «Occurred LiteralReal».$result#23 (170.0)], [L\"LFE#24, 170.0 «Occurred LiteralReal», L\"LFE#24.170.0 «Occurred LiteralReal».$result#24 (170.0)], [L\"LFE#25, 170.0 «Occurred LiteralReal», L\"LFE#25.170.0 «Occurred LiteralReal».$result#25 (170.0)], [L\"LFE#26, 170.0 «Occurred LiteralReal», L\"LFE#26.170.0 «Occurred LiteralReal».$result#26 (170.0)], [L\"LFE#27, 170.0 «Occurred LiteralReal», L\"LFE#27.170.0 «Occurred LiteralReal».$result#27 (170.0)], [L\"LFE#28, 170.0 «Occurred LiteralReal», L\"LFE#28.170.0 «Occurred LiteralReal».$result#28 (170.0)], [L\"LFE#29, 170.0 «Occurred LiteralReal», L\"LFE#29.170.0 «Occurred LiteralReal».$result#29 (170.0)], [L\"LFE#30, 170.0 «Occurred LiteralReal», L\"LFE#30.170.0 «Occurred LiteralReal».$result#30 (170.0)], [L\"LFE#31, 170.0 «Occurred LiteralReal», L\"LFE#31.170.0 «Occurred LiteralReal».$result#31 (170.0)], [L\"LFE#32, 170.0 «Occurred LiteralReal», L\"LFE#32.170.0 «Occurred LiteralReal».$result#32 (170.0)], [L\"LFE#33, 170.0 «Occurred LiteralReal», L\"LFE#33.170.0 «Occurred LiteralReal».$result#33 (170.0)], [L\"LFE#34, 170.0 «Occurred LiteralReal», L\"LFE#34.170.0 «Occurred LiteralReal».$result#34 (170.0)], [L\"LFE#35, 170.0 «Occurred LiteralReal», L\"LFE#35.170.0 «Occurred LiteralReal».$result#35 (170.0)], [L\"LFE#36, 170.0 «Occurred LiteralReal», L\"LFE#36.170.0 «Occurred LiteralReal».$result#36 (170.0)], [L\"LFE#37, 170.0 «Occurred LiteralReal», L\"LFE#37.170.0 «Occurred LiteralReal».$result#37 (170.0)], [L\"LFE#38, 170.0 «Occurred LiteralReal», L\"LFE#38.170.0 «Occurred LiteralReal».$result#38 (170.0)], [L\"LFE#39, 170.0 «Occurred LiteralReal», L\"LFE#39.170.0 «Occurred LiteralReal».$result#39 (170.0)]]\n",
      "Specific Impulse: Real has no elements\n"
     ]
    }
   ],
   "source": [
    "group.solve_graph(lpg)"
   ]
  },
  {
   "cell_type": "code",
   "execution_count": 10,
   "id": "28ef2d72-774c-4780-84e7-67110a02920c",
   "metadata": {},
   "outputs": [
    {
     "data": {
      "text/plain": [
       "[]"
      ]
     },
     "execution_count": 10,
     "metadata": {},
     "output_type": "execute_result"
    }
   ],
   "source": [
    "instances[\"1e5a0ed7-8b41-4ab4-a433-8f7eedd75833\"]"
   ]
  },
  {
   "cell_type": "code",
   "execution_count": null,
   "id": "b2cccba6-c112-4596-864a-39efef467798",
   "metadata": {},
   "outputs": [],
   "source": [
    "lpg.elements_by_id = {**lpg.elements_by_id, **lpg.get_implied_elements()}"
   ]
  },
  {
   "cell_type": "markdown",
   "id": "52cbcb0f",
   "metadata": {},
   "source": [
    "...or you can directly adapt the graph and invert edges"
   ]
  },
  {
   "cell_type": "code",
   "execution_count": 18,
   "id": "652c26e9-3be2-44ce-a149-572d99fb3316",
   "metadata": {},
   "outputs": [],
   "source": [
    "import data_loader"
   ]
  },
  {
   "cell_type": "code",
   "execution_count": 20,
   "id": "f7c8da82-279f-442e-bc61-ee15cc7c4aaa",
   "metadata": {},
   "outputs": [],
   "source": [
    "from pymbe.client import SysML2Client\n",
    "from pathlib import Path\n",
    "\n",
    "\n",
    "def kerbal_model_loaded_client() -> SysML2Client:\n",
    "    helper_client = SysML2Client()\n",
    "    helper_client._load_from_file(Path(data_loader.__file__).parent / \"data\" / \"Kerbal\" / \"elements.json\")\n",
    "    return helper_client\n",
    "\n",
    "model = kerbal_model_loaded_client()"
   ]
  },
  {
   "cell_type": "code",
   "execution_count": 21,
   "id": "f2b7b025-c5ad-4dea-ae51-bbb9dfe56b44",
   "metadata": {},
   "outputs": [
    {
     "data": {
      "text/plain": [
       "<pymbe.client.SysML2Client at 0x7f123249d250>"
      ]
     },
     "execution_count": 21,
     "metadata": {},
     "output_type": "execute_result"
    }
   ],
   "source": [
    "model"
   ]
  },
  {
   "cell_type": "code",
   "execution_count": 23,
   "id": "3250ea7d-18d2-4c54-869d-651fc4d10c98",
   "metadata": {},
   "outputs": [
    {
     "data": {
      "text/plain": [
       "['README.md',\n",
       " 'setup.cfg',\n",
       " 'CONTRIBUTING.md',\n",
       " 'MANIFEST.in',\n",
       " '.github',\n",
       " 'anaconda-project.yml',\n",
       " 'LICENSE',\n",
       " 'anaconda-project-lock.yml',\n",
       " 'notebooks',\n",
       " 'dev_doc',\n",
       " '.idea',\n",
       " 'htmlcov',\n",
       " '.gitignore',\n",
       " 'build',\n",
       " 'envs',\n",
       " 'dist',\n",
       " '.gitmodules',\n",
       " '.pytest_cache',\n",
       " '.git',\n",
       " 'setup.py',\n",
       " 'tests',\n",
       " '__pycache__',\n",
       " '.projectignore',\n",
       " 'src']"
      ]
     },
     "execution_count": 23,
     "metadata": {},
     "output_type": "execute_result"
    }
   ],
   "source": [
    "os.listdir()"
   ]
  },
  {
   "cell_type": "code",
   "execution_count": 25,
   "id": "06312528-6a16-4db1-8138-b0051d8447c4",
   "metadata": {},
   "outputs": [
    {
     "ename": "ModuleNotFoundError",
     "evalue": "No module named 'tests.interpretation'",
     "output_type": "error",
     "traceback": [
      "\u001b[0;31m---------------------------------------------------------------------------\u001b[0m",
      "\u001b[0;31mModuleNotFoundError\u001b[0m                       Traceback (most recent call last)",
      "\u001b[0;32m<ipython-input-25-1a7245b50018>\u001b[0m in \u001b[0;36m<module>\u001b[0;34m\u001b[0m\n\u001b[0;32m----> 1\u001b[0;31m \u001b[0;32mfrom\u001b[0m \u001b[0mtests\u001b[0m\u001b[0;34m.\u001b[0m\u001b[0minterpretation\u001b[0m\u001b[0;34m.\u001b[0m\u001b[0mtest_playbook_phases\u001b[0m \u001b[0;32mimport\u001b[0m \u001b[0;34m*\u001b[0m\u001b[0;34m\u001b[0m\u001b[0;34m\u001b[0m\u001b[0m\n\u001b[0m",
      "\u001b[0;31mModuleNotFoundError\u001b[0m: No module named 'tests.interpretation'"
     ]
    }
   ],
   "source": [
    "from tests.interpretation.test_playbook_phases import *"
   ]
  },
  {
   "cell_type": "code",
   "execution_count": 26,
   "id": "8798802a-9872-451d-9f4e-a379c7f2a3b3",
   "metadata": {},
   "outputs": [],
   "source": [
    "import os\n",
    "\n",
    "os.chdir(\"tests/\")"
   ]
  },
  {
   "cell_type": "code",
   "execution_count": 27,
   "id": "69b1f0aa-c172-4187-9aca-19c6c930b164",
   "metadata": {},
   "outputs": [
    {
     "ename": "ImportError",
     "evalue": "attempted relative import beyond top-level package",
     "output_type": "error",
     "traceback": [
      "\u001b[0;31m---------------------------------------------------------------------------\u001b[0m",
      "\u001b[0;31mImportError\u001b[0m                               Traceback (most recent call last)",
      "\u001b[0;32m<ipython-input-27-9133b2773f85>\u001b[0m in \u001b[0;36m<module>\u001b[0;34m\u001b[0m\n\u001b[0;32m----> 1\u001b[0;31m \u001b[0;32mfrom\u001b[0m \u001b[0minterpretation\u001b[0m\u001b[0;34m.\u001b[0m\u001b[0mtest_playbook_phases\u001b[0m \u001b[0;32mimport\u001b[0m \u001b[0mkerbal_client\u001b[0m\u001b[0;34m\u001b[0m\u001b[0;34m\u001b[0m\u001b[0m\n\u001b[0m\u001b[1;32m      2\u001b[0m \u001b[0;34m\u001b[0m\u001b[0m\n\u001b[1;32m      3\u001b[0m \u001b[0mtest_client\u001b[0m \u001b[0;34m=\u001b[0m \u001b[0mkerbal_client\u001b[0m\u001b[0;34m(\u001b[0m\u001b[0;34m)\u001b[0m\u001b[0;34m\u001b[0m\u001b[0;34m\u001b[0m\u001b[0m\n",
      "\u001b[0;32m~/sandboxes/pymbe/tests/interpretation/test_playbook_phases.py\u001b[0m in \u001b[0;36m<module>\u001b[0;34m\u001b[0m\n\u001b[0;32m----> 1\u001b[0;31m \u001b[0;32mfrom\u001b[0m \u001b[0;34m.\u001b[0m\u001b[0;34m.\u001b[0m\u001b[0mdata_loader\u001b[0m \u001b[0;32mimport\u001b[0m \u001b[0mkerbal_model_loaded_client\u001b[0m\u001b[0;34m\u001b[0m\u001b[0;34m\u001b[0m\u001b[0m\n\u001b[0m\u001b[1;32m      2\u001b[0m \u001b[0;32mfrom\u001b[0m \u001b[0mpymbe\u001b[0m\u001b[0;34m.\u001b[0m\u001b[0mgraph\u001b[0m\u001b[0;34m.\u001b[0m\u001b[0mlpg\u001b[0m \u001b[0;32mimport\u001b[0m \u001b[0mSysML2LabeledPropertyGraph\u001b[0m\u001b[0;34m\u001b[0m\u001b[0;34m\u001b[0m\u001b[0m\n\u001b[1;32m      3\u001b[0m \u001b[0;32mfrom\u001b[0m \u001b[0mpymbe\u001b[0m\u001b[0;34m.\u001b[0m\u001b[0mclient\u001b[0m \u001b[0;32mimport\u001b[0m \u001b[0mSysML2Client\u001b[0m\u001b[0;34m\u001b[0m\u001b[0;34m\u001b[0m\u001b[0m\n\u001b[1;32m      4\u001b[0m \u001b[0;32mfrom\u001b[0m \u001b[0mpymbe\u001b[0m\u001b[0;34m.\u001b[0m\u001b[0minterpretation\u001b[0m\u001b[0;34m.\u001b[0m\u001b[0minterp_playbooks\u001b[0m \u001b[0;32mimport\u001b[0m \u001b[0;34m*\u001b[0m\u001b[0;34m\u001b[0m\u001b[0;34m\u001b[0m\u001b[0m\n\u001b[1;32m      5\u001b[0m \u001b[0;32mfrom\u001b[0m \u001b[0mpymbe\u001b[0m\u001b[0;34m.\u001b[0m\u001b[0minterpretation\u001b[0m\u001b[0;34m.\u001b[0m\u001b[0mset_builders\u001b[0m \u001b[0;32mimport\u001b[0m \u001b[0;34m*\u001b[0m\u001b[0;34m\u001b[0m\u001b[0;34m\u001b[0m\u001b[0m\n",
      "\u001b[0;31mImportError\u001b[0m: attempted relative import beyond top-level package"
     ]
    }
   ],
   "source": [
    "from interpretation.test_playbook_phases import kerbal_client\n",
    "\n",
    "test_client = kerbal_client()"
   ]
  },
  {
   "cell_type": "code",
   "execution_count": null,
   "id": "a8ac600b-dcf6-48c9-82d9-580a6783e4bf",
   "metadata": {},
   "outputs": [],
   "source": [
    "client.elements_by_type"
   ]
  },
  {
   "cell_type": "markdown",
   "id": "101f1f71-d3ee-4f3b-97d5-bee98e8732a0",
   "metadata": {},
   "source": [
    "# Add RDF Capabilities with `ipyradiant`"
   ]
  },
  {
   "cell_type": "code",
   "execution_count": null,
   "id": "20d887ff-1aa0-43d7-86ee-10fcb7c99708",
   "metadata": {},
   "outputs": [],
   "source": [
    "import traitlets as trt\n",
    "from ipyradiant.visualization import CytoscapeViewer, InteractiveViewer\n",
    "from pymbe.graph.rdf import SysML2RDFGraph"
   ]
  },
  {
   "cell_type": "code",
   "execution_count": null,
   "id": "611e1bdb-97a9-482f-b8f9-6b778d742d3d",
   "metadata": {},
   "outputs": [],
   "source": [
    "rdf = SysML2RDFGraph()\n",
    "trt.link((lpg, \"elements_by_id\"), (rdf, \"elements_by_id\"))"
   ]
  },
  {
   "cell_type": "code",
   "execution_count": null,
   "id": "63587afe-21fa-40db-96bb-ccf641ba6a90",
   "metadata": {},
   "outputs": [],
   "source": [
    "rdf.graph.namespace_manager.bind(\"purl\", 'http://purl.org/dc/terms/identifier')"
   ]
  },
  {
   "cell_type": "code",
   "execution_count": null,
   "id": "4b664981-244a-4263-98e1-266bbb676fc3",
   "metadata": {},
   "outputs": [],
   "source": [
    "InteractiveViewer(rdf_graph=rdf.graph)"
   ]
  },
  {
   "cell_type": "code",
   "execution_count": null,
   "id": "d2cd65f2-ef10-4ad7-9a98-32a59829ce7f",
   "metadata": {},
   "outputs": [],
   "source": [
    "from rdflib import Graph\n",
    "\n",
    "g = Graph()\n",
    "triples = list(rdf.graph.triples([None, None, None]))[1000:]\n",
    "g.addN([[*triples, \"SysMLv2\"] for triple in triples])"
   ]
  },
  {
   "cell_type": "code",
   "execution_count": null,
   "id": "c93815f6-242a-462a-8605-49c18bb51fd5",
   "metadata": {},
   "outputs": [],
   "source": [
    "%debug"
   ]
  },
  {
   "cell_type": "code",
   "execution_count": 43,
   "id": "796f8fe6-4b3c-41bb-bab5-f4d3aea44c95",
   "metadata": {},
   "outputs": [
    {
     "data": {
      "application/vnd.jupyter.widget-view+json": {
       "model_id": "be115fd08e3a401a8f315b5f38fbc7b7",
       "version_major": 2,
       "version_minor": 0
      },
      "text/plain": [
       "FileUpload(value={}, accept='*.json', description='Upload')"
      ]
     },
     "metadata": {},
     "output_type": "display_data"
    }
   ],
   "source": [
    "import ipywidgets as ipyw\n",
    "\n",
    "file_uploader = ipyw.FileUpload(\n",
    "    accept='*.json',  # Accepted file extension e.g. '.txt', '.pdf', 'image/*', 'image/*,.pdf'\n",
    "    multiple=False,   # True to accept multiple files upload else False\n",
    ")\n",
    "file_uploader"
   ]
  },
  {
   "cell_type": "code",
   "execution_count": 55,
   "id": "33bceaaf-4c05-49a9-ab1e-f843f3bc596a",
   "metadata": {},
   "outputs": [
    {
     "data": {
      "text/plain": [
       "<Response [200]>"
      ]
     },
     "execution_count": 55,
     "metadata": {},
     "output_type": "execute_result"
    }
   ],
   "source": [
    "import requests\n",
    "\n",
    "resp = requests.get(client.elements_url)\n"
   ]
  },
  {
   "cell_type": "code",
   "execution_count": 75,
   "id": "937e52a7-6489-47e2-983b-69b468267047",
   "metadata": {},
   "outputs": [
    {
     "name": "stdout",
     "output_type": "stream",
     "text": [
      "Downloaded 10c-Fuel Economy Analysis, commit: 394fe583-522d-4365-96a9-d6b76ad19adb\n",
      "Downloaded 11b-Safety and Security Feature Views, commit: cd5222e6-d9d4-4eab-8e14-e5613874d245\n",
      "Downloaded 12a-Dependency, commit: 007fad9e-1087-4b3e-acb2-68381f64566e\n",
      "Downloaded 12b-Allocation, commit: 5b9558c5-6a72-453f-b79f-639442a89dd1\n",
      "Downloaded 13a-Model Containment, commit: 0943a45e-4a6c-4e32-b5b8-f4f5d31d3293\n",
      "Downloaded 13b-Safety and Security Features Element Group, commit: 0bf613f0-84e9-4d9d-a29e-b60b4aed3520\n",
      "Downloaded 14a-Language Extensions, commit: 56c06c48-5353-405b-9be3-587cb480a024\n",
      "Downloaded 14b-Language Extensions, commit: 1554bee1-f8d5-4e9c-8c57-bc2cd13980c8\n",
      "Downloaded 15_19-Materials with Properties, commit: ec7e53a4-3082-4c5e-b0af-fa2f4122e7c4\n",
      "Downloaded 1c-Parts Tree Redefinition, commit: a762ee50-e18a-4923-a316-d35ac4209560\n",
      "Downloaded 2a-Parts Interconnection, commit: c5bd396f-0351-4d95-b468-e151a23df719\n",
      "Downloaded 3a-Function-based Behavior-1, commit: 1f6c48ef-4490-4f4d-a576-307ca91ed52a\n",
      "Downloaded 3a-Function-based Behavior-2, commit: 97ddb586-4443-4766-84c1-efbff4eea82b\n",
      "Downloaded 5-State-based Behavior-1, commit: 45b9f11b-4484-4c6e-b3df-24065880d003\n",
      "Downloaded 5-State-based Behavior-1a, commit: 732c97da-5e88-4f6c-a527-bdfc30526e2f\n",
      "Downloaded 6-Individual and Snapshots, commit: e4c3a600-ece7-4e6a-adbf-7d2ee9de8133\n",
      "Downloaded 7b-Variant Configurations, commit: 04c4fee4-1e9b-468b-ab86-6bda0edcd204\n",
      "Downloaded 8-Requirements, commit: 7aa78ec6-ea81-413e-a0e3-230c84069d32\n",
      "Failed to download: 9-Verification-simplified...\n",
      "Downloaded Associating, commit: a1fbeed0-d512-44ff-9c4c-771035fd81c4\n",
      "Downloaded Kerbal, commit: 69116641-5991-4974-9d85-69d8a9e8eee5\n",
      "Downloaded Part Structure Unit Tester, commit: a489eed4-a93e-4ea9-a079-80fafa7cbcb5\n",
      "Downloaded Trials, commit: 5e962f33-54d1-4cd9-8077-92e044c335cc\n",
      "Downloaded hpdekoning_IPC_Example, commit: deaafcde-45dc-4dff-aaed-8090eb5d10e5\n",
      "Downloaded itolchinsky_VehicleModel, commit: 193efad4-2501-4a24-a88f-45ed24528ad0\n",
      "Downloaded sfriedenthal_FlashlightModel_1_Nominal, commit: fded7b9e-a631-4f5f-bff1-f9be0c1b4dcc\n",
      "Downloaded sfriedenthal_VehicleModel_1_simplified, commit: 690f08f0-07b0-41e8-87ab-1a0891ecdd13\n"
     ]
    }
   ],
   "source": [
    "import json\n",
    "from pathlib import Path\n",
    "\n",
    "projects = {\n",
    "    name.split(\" (2021\")[0]: project_id\n",
    "    for name, project_id in client.project_selector.options.items()\n",
    "}\n",
    "projects\n",
    "\n",
    "\n",
    "for name, project_id in projects.items():\n",
    "    try:\n",
    "        client.selected_project = project_id\n",
    "        data = client._get_elements_from_server()\n",
    "        with Path(f\"{name}.json\") as f:\n",
    "            f.write_text(json.dumps(data))\n",
    "        print(f\"Downloaded {name}, commit: {client.selected_commit}\")\n",
    "    except:\n",
    "        print(f\"Failed to download: {name}...\")"
   ]
  },
  {
   "cell_type": "code",
   "execution_count": null,
   "id": "dc89fe28-cdcb-4a8e-8fb9-dcf512e1bcd9",
   "metadata": {},
   "outputs": [],
   "source": [
    "for id_, el in rdf.elements_by_id.items():\n",
    "    context = el.get(\"@context\")\n",
    "    if context:\n",
    "        print(f\"{id_}: has context ({context})\")\n",
    "    else:\n",
    "        print(f\"{id_} has no context\")"
   ]
  },
  {
   "cell_type": "markdown",
   "id": "a1061c68",
   "metadata": {},
   "source": [
    "# Interpretation\n",
    "\n",
    "> This is where we are refactoring the $M_0$ interpretation..."
   ]
  },
  {
   "cell_type": "code",
   "execution_count": null,
   "id": "047730fd-28c5-460f-9863-7ad817a24641",
   "metadata": {},
   "outputs": [],
   "source": [
    "lpg.sysml_projections[\"Complete\"][\"description\"]"
   ]
  },
  {
   "cell_type": "code",
   "execution_count": null,
   "id": "c5fb1f1e",
   "metadata": {},
   "outputs": [],
   "source": [
    "def safe_get(data: dict, *keys, default=None):\n",
    "    for key in keys:\n",
    "        if key not in data:\n",
    "            return default\n",
    "        data = data[key]\n",
    "    return data\n",
    "\n",
    "safe_get(lpg.elements_by_id, \"cb4386fe-67d9-4743-995f-5d4a4162e26e\", \"owner\", \"@id\")"
   ]
  },
  {
   "cell_type": "code",
   "execution_count": null,
   "id": "bde9737a",
   "metadata": {},
   "outputs": [],
   "source": [
    "UNSPECIFIED = object()\n",
    "\n",
    "class SafeDict(dict):\n",
    "\n",
    "    def __init__(self, *args, default=None, **kwargs):\n",
    "        self.__default__ = default or {}\n",
    "        super().__init__(*args, **kwargs)\n",
    "        for key, value in self.items():\n",
    "            self[key] = SafeDict.__convert(value)\n",
    "\n",
    "    def __setitem__(self, k, v):\n",
    "        dict.__setitem__(self, k, SafeDict.__convert(v))\n",
    "\n",
    "    def get(self, item, default=None):\n",
    "        return super().get(item, default) or self.__default__\n",
    "\n",
    "    @staticmethod\n",
    "    def __convert(o):\n",
    "        \"\"\"\n",
    "        Recursively convert `dict` objects in `dict`, `list`, `set`, and\n",
    "        `tuple` objects to `attrdict` objects.\n",
    "        \"\"\"\n",
    "        if isinstance(o, dict):\n",
    "            o = SafeDict(o)\n",
    "        elif isinstance(o, list):\n",
    "            o = list(SafeDict.__convert(v) for v in o)\n",
    "        elif isinstance(o, set):\n",
    "            o = set(SafeDict.__convert(v) for v in o)\n",
    "        elif isinstance(o, tuple):\n",
    "            o = tuple(SafeDict.__convert(v) for v in o)\n",
    "        return o\n",
    "\n",
    "\n",
    "a = SafeDict(dict(agh=1, bum=2, bar=3, baz=dict(bar=2,baz=dict(bar=3,baz=4))))\n",
    "a[\"as\"] = \"if\"\n",
    "a.get(\"as\"), type(a.get(\"baz\")), a.get(\"baz\")"
   ]
  },
  {
   "cell_type": "code",
   "execution_count": null,
   "id": "75203978",
   "metadata": {
    "tags": []
   },
   "outputs": [],
   "source": [
    "from pymbe.interpretation import *\n",
    "\n",
    "def roll_up_upper_multiplicities(lpg):\n",
    "    banded_featuring_graph = make_banded_featuring_graph(lpg)\n",
    "\n",
    "    banded_roots = [\n",
    "        banded_featuring_graph.nodes[node]\n",
    "        for node in banded_featuring_graph\n",
    "        if banded_featuring_graph.out_degree(node) == 0\n",
    "    ]\n",
    "    \n",
    "    for part_usage in \n",
    "\n",
    "elements = lpg.elements_by_id\n",
    "\n",
    "features = [\n",
    "    id_\n",
    "    for id_, data in elements.items()\n",
    "    if data[\"@type\"] == \"Feature\"\n",
    "]\n",
    "\n",
    "for feature in features:\n",
    "    upper_multiplicity = get_feature_upper_multiplicity(elements, feature)\n",
    "    if upper_multiplicity:\n",
    "        print(elements[feature][\"qualifiedName\"], upper_multiplicity)"
   ]
  },
  {
   "cell_type": "markdown",
   "id": "fb413585",
   "metadata": {},
   "source": [
    "# Troubleshooting"
   ]
  },
  {
   "cell_type": "markdown",
   "id": "ec1c77ba",
   "metadata": {},
   "source": [
    "## Fix linking issue with diagram element selector"
   ]
  },
  {
   "cell_type": "code",
   "execution_count": null,
   "id": "e676e9d0",
   "metadata": {},
   "outputs": [],
   "source": [
    "self = lpg.diagram\n",
    "\n",
    "lpg.selected, self.selected, self.elk_app.diagram.selected"
   ]
  },
  {
   "cell_type": "code",
   "execution_count": null,
   "id": "c6ce680a",
   "metadata": {},
   "outputs": [],
   "source": [
    "self.id_mapper.get(*self.elk_app.diagram.selected)"
   ]
  },
  {
   "cell_type": "code",
   "execution_count": null,
   "id": "c4c3386f",
   "metadata": {},
   "outputs": [],
   "source": [
    "self._make_id_mapper()"
   ]
  },
  {
   "cell_type": "code",
   "execution_count": null,
   "id": "77ef2a4a",
   "metadata": {},
   "outputs": [],
   "source": [
    "self = lpg\n",
    "\n",
    "self._update_diagram_graph(button=self.filter_to_path)"
   ]
  },
  {
   "cell_type": "code",
   "execution_count": null,
   "id": "1a2d587c",
   "metadata": {},
   "outputs": [],
   "source": [
    "directed = self.path_directionality.value\n",
    "new_graph = self._get_subgraph(\n",
    "            excluded_edge_types=self.excluded_edge_types,\n",
    "            excluded_node_types=self.excluded_node_types,\n",
    "            reversed_edge_types=self.edge_type_reverser.value,\n",
    "        )\n",
    "\n",
    "source, target = self.selected\n",
    "new_graph = self.get_path_graph(\n",
    "    graph=new_graph,\n",
    "    source=source,\n",
    "    target=target,\n",
    "    directed=directed,\n",
    ")\n",
    "len(new_graph)"
   ]
  },
  {
   "cell_type": "code",
   "execution_count": null,
   "id": "01f7053e",
   "metadata": {},
   "outputs": [],
   "source": [
    "self.diagram.graph = new_graph"
   ]
  },
  {
   "cell_type": "code",
   "execution_count": null,
   "id": "fa72a559",
   "metadata": {},
   "outputs": [],
   "source": [
    "import traitlets as trt\n",
    "\n",
    "\n",
    "self.diagram._update_diagram(trt.Bunch(old=None))"
   ]
  },
  {
   "cell_type": "code",
   "execution_count": null,
   "id": "c80fc487",
   "metadata": {},
   "outputs": [],
   "source": [
    "len(self.diagram.compound(self.diagram.container)[0])"
   ]
  },
  {
   "cell_type": "code",
   "execution_count": null,
   "id": "52be99a6",
   "metadata": {},
   "outputs": [],
   "source": [
    "from dataclasses import dataclass, field\n",
    "\n",
    "@dataclass\n",
    "class Mapper:\n",
    "    to_map: dict = field(repr=False)\n",
    "    from_map: dict = field(default=None, repr=False)\n",
    "\n",
    "    def __repr__(self):\n",
    "        return f\"Mapper({len(self.to_map)} Items)\"\n",
    "\n",
    "    def __post_init__(self, *args, **kwargs):\n",
    "        self.from_map = {v: k for k, v in self.to_map.items()}\n",
    "\n",
    "    def get(self, *items):\n",
    "        found = [\n",
    "            self.to_map.get(item, self.from_map.get(item))\n",
    "            for item in items\n",
    "        ]\n",
    "        return [\n",
    "            item\n",
    "            for item in found\n",
    "            if item is not None\n",
    "        ]\n",
    "    \n",
    "    def __len__(self):\n",
    "        return len(self.to_map)\n",
    "\n",
    "if Mapper({}):\n",
    "    print(\"ahh\")"
   ]
  },
  {
   "cell_type": "code",
   "execution_count": null,
   "id": "365c822c",
   "metadata": {},
   "outputs": [],
   "source": []
  },
  {
   "cell_type": "markdown",
   "id": "b3f85347",
   "metadata": {},
   "source": [
    "---------------------"
   ]
  },
  {
   "cell_type": "code",
   "execution_count": null,
   "id": "40555d37",
   "metadata": {},
   "outputs": [],
   "source": [
    "self = lpg.diagram\n",
    "import networkx as nx\n",
    "\n",
    "_, hierarchy = self.elk_app.transformer.source\n",
    "\n",
    "try:\n",
    "    item = lpg.diagram.elk_app.selected[0]\n",
    "    res = next(hierarchy.predecessors(item)).node\n",
    "except nx.NetworkXError:\n",
    "    res = item.data.get(\"properties\", {}).get(\"@id\")\n",
    "\n",
    "res.id, res.data[\"@id\"]"
   ]
  },
  {
   "cell_type": "code",
   "execution_count": null,
   "id": "2f261d5b",
   "metadata": {},
   "outputs": [],
   "source": [
    "tree.selected, explorer.selected, lpg.selected"
   ]
  },
  {
   "cell_type": "code",
   "execution_count": null,
   "id": "4da55b41",
   "metadata": {},
   "outputs": [],
   "source": [
    "lpg.diagram.elk_app.diagram.selected"
   ]
  },
  {
   "cell_type": "code",
   "execution_count": null,
   "id": "544aa0cb",
   "metadata": {},
   "outputs": [],
   "source": [
    "lpg.selected"
   ]
  },
  {
   "cell_type": "code",
   "execution_count": null,
   "id": "7e1d03dd",
   "metadata": {
    "tags": []
   },
   "outputs": [],
   "source": [
    "self = lpg.diagram\n",
    "\n",
    "_, hierarchy = self.elk_transformer.source\n",
    "\n",
    "self.parts[self.selected[0]], self.elk_app.selected[0]\n",
    "\n",
    "for selected_id in self.selected:\n",
    "    node_selected = self.parts.get(selected_id)\n",
    "    print(node_selected.id)"
   ]
  },
  {
   "cell_type": "code",
   "execution_count": null,
   "id": "f4f68e4d",
   "metadata": {},
   "outputs": [],
   "source": [
    "node_selected.children[0] == self.elk_app.selected[0].node"
   ]
  },
  {
   "cell_type": "markdown",
   "id": "a9bdefa8",
   "metadata": {},
   "source": [
    "---------------"
   ]
  },
  {
   "cell_type": "code",
   "execution_count": null,
   "id": "1b951ab2",
   "metadata": {},
   "outputs": [],
   "source": [
    "from dataclasses import dataclass, field\n",
    "\n",
    "\n",
    "@dataclass\n",
    "class Mapper:\n",
    "    to_map: dict = field(repr=False)\n",
    "    from_map: dict = field(default=None, repr=False)\n",
    "        \n",
    "    def __repr__(self):\n",
    "        return f\"Mapper({len(self.to_map)} Items)\"\n",
    "\n",
    "    def __post_init__(self, *args, **kwargs):\n",
    "        self.from_map = {v: k for k, v in self.to_map.items()}\n",
    "\n",
    "    def get(self, *items):\n",
    "        found = [\n",
    "            self.to_map.get(item, self.from_map.get(item))\n",
    "            for item in items\n",
    "        ]\n",
    "        if len(found) < 2:\n",
    "            found = found[0]\n",
    "        return found\n",
    "\n",
    "mapper = Mapper(from_elk_id)\n",
    "\n",
    "mapper.get(*self.elk_app.diagram.selected)"
   ]
  },
  {
   "cell_type": "code",
   "execution_count": null,
   "id": "5e4838af",
   "metadata": {},
   "outputs": [],
   "source": [
    "a = {1,2,}\n",
    "a.symmetric_difference"
   ]
  },
  {
   "cell_type": "code",
   "execution_count": null,
   "id": "2718dd52",
   "metadata": {},
   "outputs": [],
   "source": [
    "self = lpg.diagram"
   ]
  },
  {
   "cell_type": "code",
   "execution_count": null,
   "id": "1fee9f6c",
   "metadata": {},
   "outputs": [],
   "source": [
    "relationships, hierarchy = self.elk_app.transformer.source"
   ]
  },
  {
   "cell_type": "code",
   "execution_count": null,
   "id": "260bc20a",
   "metadata": {},
   "outputs": [],
   "source": [
    "transformer = self.elk_app.transformer\n",
    "relationships, hierarchy = transformer.source\n",
    "\n",
    "import ipyelk\n",
    "from ipyelk.contrib.elements import (\n",
    "    Compartment,\n",
    ")\n",
    "\n",
    "def id_from_item(item):\n",
    "    id_ = None\n",
    "    if isinstance(item, ipyelk.transform.Edge):\n",
    "        id_ = item.data.get(\"properties\", {}).get(\"@id\")\n",
    "    elif isinstance(getattr(item, \"node\", None), Compartment):\n",
    "        id_ = next(hierarchy.predecessors(item)).node.id\n",
    "    if id_ is None:\n",
    "        self.log.debug(f\"Could not parse: {item}\")\n",
    "    return id_\n",
    "\n",
    "from_elk_id = {\n",
    "    elk_id: id_from_item(elk_item)\n",
    "    for elk_id, elk_item in transformer._elk_to_item.items()\n",
    "}\n",
    "\n",
    "from_elk_id = {\n",
    "    elk_id: sysml_id\n",
    "    for elk_id, sysml_id in from_elk_id.items()\n",
    "    if sysml_id is not None\n",
    "}\n",
    "found_ids = set(from_elk_id.values())\n",
    "\n",
    "for extra in set(lpg.elements_by_id).symmetric_difference(found_ids):\n",
    "    print(lpg.elements_by_id[extra])\n",
    "\n",
    "\n"
   ]
  },
  {
   "cell_type": "code",
   "execution_count": null,
   "id": "dcf4aad5",
   "metadata": {},
   "outputs": [],
   "source": [
    "transformer.from_id(\"61bd9433-3eec-47f7-af7e-3bf71f19071b\").node"
   ]
  },
  {
   "cell_type": "code",
   "execution_count": null,
   "id": "17e8af30",
   "metadata": {},
   "outputs": [],
   "source": [
    "missing = [elk_id for elk_id, our_id in from_elk_id.items() if our_id is None]\n",
    "lpg.diagram.elk_app.diagram.selected = missing"
   ]
  },
  {
   "cell_type": "code",
   "execution_count": null,
   "id": "e1629d4c",
   "metadata": {},
   "outputs": [],
   "source": [
    "from_elk_id"
   ]
  },
  {
   "cell_type": "markdown",
   "id": "6e6ef285",
   "metadata": {},
   "source": [
    "# Scratch Pad\n",
    "> **WARNING**: Anything below this point is just for experimentation purposes"
   ]
  },
  {
   "cell_type": "markdown",
   "id": "6a6264e4",
   "metadata": {},
   "source": [
    "## RDF Experiments"
   ]
  },
  {
   "cell_type": "code",
   "execution_count": null,
   "id": "15b6228a",
   "metadata": {},
   "outputs": [],
   "source": [
    "def process_edge(source, target, edge_type, data=None):\n",
    "    if edge_type in (\"FeatureTyping\", \"FeatureMembership\"):\n",
    "        source, target = target, source\n",
    "    return [source, target, data]\n",
    "\n",
    "graph = nx.DiGraph()\n",
    "graph.add_edges_from([\n",
    "    process_edge(source, target, edge_type, data)\n",
    "    for (source, target, edge_type), data in dict(client.lpg.graph.edges).items()\n",
    "    if edge_type in (\"Superclassing\", \"FeatureTyping\", \"FeatureMembership\")\n",
    "])\n",
    "graph"
   ]
  },
  {
   "cell_type": "code",
   "execution_count": null,
   "id": "51ecb619",
   "metadata": {},
   "outputs": [],
   "source": [
    "diagram.graph = graph"
   ]
  },
  {
   "cell_type": "code",
   "execution_count": null,
   "id": "9890d4be",
   "metadata": {},
   "outputs": [],
   "source": [
    "diagram = client.lpg.make_diagram(\n",
    "    graph=client.lpg.subgraph(edge_types=(\"Superclassing\", \"FeatureTyping^-1\", \"FeatureMembership^-1\"))\n",
    ")\n",
    "elk_app, *_ = diagram.children\n",
    "diagram"
   ]
  },
  {
   "cell_type": "code",
   "execution_count": null,
   "id": "3e4e6712",
   "metadata": {},
   "outputs": [],
   "source": [
    "# Select the root node in the diagram...\n",
    "# ... or you can manually select one yourself\n",
    "elk_app.selected = \"5260380b-6fda-43cc-993f-5df58868edbb\","
   ]
  },
  {
   "cell_type": "code",
   "execution_count": null,
   "id": "316bb6ec",
   "metadata": {
    "tags": []
   },
   "outputs": [],
   "source": [
    "first_element_selected, *_ = elk_app.selected\n",
    "client.elements_by_id[first_element_selected]"
   ]
  },
  {
   "cell_type": "markdown",
   "id": "f0336664",
   "metadata": {},
   "source": [
    "# Parse JSON-LD into RDF"
   ]
  },
  {
   "cell_type": "code",
   "execution_count": null,
   "id": "edc2e147",
   "metadata": {},
   "outputs": [],
   "source": [
    "import rdflib\n",
    "from rdflib.extras.external_graph_libs import rdflib_to_networkx_multidigraph\n",
    "import networkx as nx\n",
    "import matplotlib.pyplot as plt\n",
    "\n",
    "result = client.rdf.graph\n",
    "# result = g.parse(url, format='turtle')\n",
    "\n",
    "G = rdflib_to_networkx_multidigraph(result)\n",
    "\n",
    "# Plot Networkx instance of RDF Graph\n",
    "pos = nx.spring_layout(G, scale=2)\n",
    "edge_labels = nx.get_edge_attributes(G, 'r')"
   ]
  },
  {
   "cell_type": "code",
   "execution_count": null,
   "id": "c71f193d",
   "metadata": {},
   "outputs": [],
   "source": [
    "ax = plt.figure(figsize=(50,30)).gca();\n",
    "nx.draw_networkx_edge_labels(G, pos, edge_labels=edge_labels, ax=ax)\n",
    "nx.draw(G, with_labels=True, ax=ax)"
   ]
  },
  {
   "cell_type": "markdown",
   "id": "c057b5bf",
   "metadata": {},
   "source": [
    "# TODOs\n",
    "1. Finish fleshing out the process in the `Kerbal Model.ipynb`\n",
    "2. Modify the subgraph generator so it can take the value from the `Type Selector` directly\n",
    "3. Improve the ipyelk diagram widget (may need to make improvements to `ipyelk`)\n",
    "   * Add arrows\n",
    "   * Add compartments\n",
    "   * Fix layout\n",
    "   * Add widget to see node details\n",
    "4. Finalize the RDF formulation"
   ]
  }
 ],
 "metadata": {
  "kernelspec": {
   "display_name": "Python 3",
   "language": "python",
   "name": "python3"
  },
  "language_info": {
   "codemirror_mode": {
    "name": "ipython",
    "version": 3
   },
   "file_extension": ".py",
   "mimetype": "text/x-python",
   "name": "python",
   "nbconvert_exporter": "python",
   "pygments_lexer": "ipython3",
   "version": "3.9.4"
  }
 },
 "nbformat": 4,
 "nbformat_minor": 5
}
