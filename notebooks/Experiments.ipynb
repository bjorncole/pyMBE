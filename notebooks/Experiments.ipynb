{
 "cells": [
  {
   "cell_type": "markdown",
   "id": "ea67fea0",
   "metadata": {},
   "source": [
    "# Tutorial & Widget Experiments\n",
    "\n",
    "> This notebook is primarily being used to experiment with how to use the `pymbe` widgets.\n",
    ">\n",
    "> It should be fairly \"clean\" until the `Scratch Pad` section.\n",
    ">\n",
    "\n",
    "In the future, this notebook will be cleaned up and renamed \"Tutorial\"."
   ]
  },
  {
   "cell_type": "markdown",
   "id": "2822b5ee",
   "metadata": {},
   "source": [
    "## 1. Import `pymbe` and create a new user interface"
   ]
  },
  {
   "cell_type": "code",
   "execution_count": 1,
   "id": "b5ad7fff",
   "metadata": {},
   "outputs": [],
   "source": [
    "import pymbe.api as pm"
   ]
  },
  {
   "cell_type": "code",
   "execution_count": 2,
   "id": "33c7c6b0",
   "metadata": {
    "tags": []
   },
   "outputs": [
    {
     "data": {
      "application/vnd.jupyter.widget-view+json": {
       "model_id": "2d7df5114942472789c92d62d6a125c5",
       "version_major": 2,
       "version_minor": 0
      },
      "text/plain": [
       "DockPop(children=(UI(children=(SysML2ClientWidget(children=(Text(value='http://sysml2-sst.intercax.com', descr…"
      ]
     },
     "metadata": {},
     "output_type": "display_data"
    }
   ],
   "source": [
    "pm.UI.new(host_url=\"http://sysml2-sst.intercax.com\")"
   ]
  },
  {
   "cell_type": "markdown",
   "id": "db605615",
   "metadata": {},
   "source": [
    "## 2. Use the widget\n",
    "...or automatically load the `Kerbal` model using the cell below by:"
   ]
  },
  {
   "cell_type": "markdown",
   "id": "41b9fecd",
   "metadata": {},
   "source": [
    "1. Grabbing the individual widgets"
   ]
  },
  {
   "cell_type": "code",
   "execution_count": 3,
   "id": "35de9547",
   "metadata": {
    "tags": []
   },
   "outputs": [],
   "source": [
    "ui, *_ = _.children\n",
    "client, tree, inspector, lpg, *interpreter = ui.children"
   ]
  },
  {
   "cell_type": "code",
   "execution_count": 4,
   "id": "82941e56-2f6f-4ee3-8393-9f3b78cbb80f",
   "metadata": {},
   "outputs": [],
   "source": [
    "client._load_from_file(\"../tests/data/Kerbal/elements.json\")"
   ]
  },
  {
   "cell_type": "code",
   "execution_count": 5,
   "id": "b870b52c-df2c-4cc5-85ff-e152396d8513",
   "metadata": {},
   "outputs": [],
   "source": [
    "lpg.max_graph_size = 1024"
   ]
  },
  {
   "cell_type": "code",
   "execution_count": 6,
   "id": "91397c9e-c8d9-484d-aade-b00dc472247b",
   "metadata": {},
   "outputs": [
    {
     "name": "stderr",
     "output_type": "stream",
     "text": [
      "ERROR:root:No traceback has been produced, nothing to debug.\n"
     ]
    }
   ],
   "source": [
    "%debug"
   ]
  },
  {
   "cell_type": "code",
   "execution_count": 21,
   "id": "7a84362f-f042-4eb4-894c-2a29996295c7",
   "metadata": {},
   "outputs": [
    {
     "ename": "KeyError",
     "evalue": "'@id'",
     "output_type": "error",
     "traceback": [
      "\u001b[1;31m---------------------------------------------------------------------------\u001b[0m",
      "\u001b[1;31mKeyError\u001b[0m                                  Traceback (most recent call last)",
      "\u001b[1;32m<ipython-input-21-7098b78da2cf>\u001b[0m in \u001b[0;36m<module>\u001b[1;34m\u001b[0m\n\u001b[0;32m      1\u001b[0m \u001b[1;32mimport\u001b[0m \u001b[0mtraitlets\u001b[0m \u001b[1;32mas\u001b[0m \u001b[0mtrt\u001b[0m\u001b[1;33m\u001b[0m\u001b[1;33m\u001b[0m\u001b[0m\n\u001b[0;32m      2\u001b[0m \u001b[1;33m\u001b[0m\u001b[0m\n\u001b[1;32m----> 3\u001b[1;33m \u001b[0mlpg\u001b[0m\u001b[1;33m.\u001b[0m\u001b[0mdiagram\u001b[0m\u001b[1;33m.\u001b[0m\u001b[0m_update_diagram\u001b[0m\u001b[1;33m(\u001b[0m\u001b[0mtrt\u001b[0m\u001b[1;33m.\u001b[0m\u001b[0mBunch\u001b[0m\u001b[1;33m(\u001b[0m\u001b[1;33m{\u001b[0m\u001b[1;34m\"old\"\u001b[0m\u001b[1;33m:\u001b[0m \u001b[1;32mNone\u001b[0m\u001b[1;33m}\u001b[0m\u001b[1;33m)\u001b[0m\u001b[1;33m)\u001b[0m\u001b[1;33m\u001b[0m\u001b[1;33m\u001b[0m\u001b[0m\n\u001b[0m",
      "\u001b[1;32mc:\\sandboxes\\pymbe\\src\\pymbe\\widget\\diagram.py\u001b[0m in \u001b[0;36m_update_diagram\u001b[1;34m(self, change)\u001b[0m\n\u001b[0;32m    483\u001b[0m             )\n\u001b[0;32m    484\u001b[0m             \u001b[1;32mif\u001b[0m \u001b[0medge_data\u001b[0m\u001b[1;33m:\u001b[0m\u001b[1;33m\u001b[0m\u001b[1;33m\u001b[0m\u001b[0m\n\u001b[1;32m--> 485\u001b[1;33m                 \u001b[0mnew_relationship\u001b[0m\u001b[1;33m.\u001b[0m\u001b[0mupdate\u001b[0m\u001b[1;33m(\u001b[0m\u001b[0medge_data\u001b[0m\u001b[1;33m)\u001b[0m\u001b[1;33m\u001b[0m\u001b[1;33m\u001b[0m\u001b[0m\n\u001b[0m\u001b[0;32m    486\u001b[0m \u001b[1;33m\u001b[0m\u001b[0m\n\u001b[0;32m    487\u001b[0m         \u001b[0mcontainer\u001b[0m\u001b[1;33m.\u001b[0m\u001b[0mdefs\u001b[0m \u001b[1;33m=\u001b[0m \u001b[1;33m{\u001b[0m\u001b[1;33m**\u001b[0m\u001b[0mcontainer\u001b[0m\u001b[1;33m.\u001b[0m\u001b[0mdefs\u001b[0m\u001b[1;33m}\u001b[0m\u001b[1;33m\u001b[0m\u001b[1;33m\u001b[0m\u001b[0m\n",
      "\u001b[1;32mc:\\sandboxes\\pymbe\\src\\pymbe\\widget\\diagram.py\u001b[0m in \u001b[0;36mupdate\u001b[1;34m(self, edge_data)\u001b[0m\n\u001b[0;32m    149\u001b[0m             \u001b[1;32mreturn\u001b[0m\u001b[1;33m\u001b[0m\u001b[1;33m\u001b[0m\u001b[0m\n\u001b[0;32m    150\u001b[0m         \u001b[0mproperties\u001b[0m \u001b[1;33m=\u001b[0m \u001b[0mself\u001b[0m\u001b[1;33m.\u001b[0m\u001b[0mproperties\u001b[0m\u001b[1;33m\u001b[0m\u001b[1;33m\u001b[0m\u001b[0m\n\u001b[1;32m--> 151\u001b[1;33m         \u001b[0mproperties\u001b[0m\u001b[1;33m[\u001b[0m\u001b[1;34m\"@id\"\u001b[0m\u001b[1;33m]\u001b[0m \u001b[1;33m=\u001b[0m \u001b[0mid_\u001b[0m \u001b[1;33m=\u001b[0m \u001b[0medge_data\u001b[0m\u001b[1;33m[\u001b[0m\u001b[1;34m\"@id\"\u001b[0m\u001b[1;33m]\u001b[0m\u001b[1;33m\u001b[0m\u001b[1;33m\u001b[0m\u001b[0m\n\u001b[0m\u001b[0;32m    152\u001b[0m \u001b[1;33m\u001b[0m\u001b[0m\n\u001b[0;32m    153\u001b[0m         \u001b[1;32mif\u001b[0m \u001b[0mid_\u001b[0m\u001b[1;33m.\u001b[0m\u001b[0mstartswith\u001b[0m\u001b[1;33m(\u001b[0m\u001b[1;34m\"_\"\u001b[0m\u001b[1;33m)\u001b[0m\u001b[1;33m:\u001b[0m\u001b[1;33m\u001b[0m\u001b[1;33m\u001b[0m\u001b[0m\n",
      "\u001b[1;31mKeyError\u001b[0m: '@id'"
     ]
    }
   ],
   "source": [
    "import traitlets as trt\n",
    "\n",
    "lpg.diagram._update_diagram(trt.Bunch({\"old\": None}))"
   ]
  },
  {
   "cell_type": "code",
   "execution_count": 11,
   "id": "a5bcebbd-1136-40c9-aaee-27810139ded6",
   "metadata": {},
   "outputs": [
    {
     "data": {
      "text/plain": [
       "[('3e3fbce3-de3f-4872-8c4c-5406940cd6b8',\n",
       "  '75279cec-ee09-4d37-8108-8bf48facfdd8',\n",
       "  'InterfaceUsage_end'),\n",
       " ('3e3fbce3-de3f-4872-8c4c-5406940cd6b8',\n",
       "  'f4d8993f-785c-448c-a564-bfc65233f0e1',\n",
       "  'InterfaceUsage_end'),\n",
       " ('8f6f9212-8a2f-4aea-ac90-72b7d8e9caa2',\n",
       "  '32ea0be6-0cdc-4704-8de2-6c0bcc90a482',\n",
       "  'ConnectionUsage_end'),\n",
       " ('8f6f9212-8a2f-4aea-ac90-72b7d8e9caa2',\n",
       "  '0c2fb0ca-cebe-4573-a543-683c1978c78d',\n",
       "  'ConnectionUsage_end'),\n",
       " ('9ef784b0-7ea4-4aaa-a3ba-2d5cf9eb99cd',\n",
       "  '99bac8f0-a806-4476-86ab-a0abe1970ae4',\n",
       "  'InterfaceUsage_end'),\n",
       " ('9ef784b0-7ea4-4aaa-a3ba-2d5cf9eb99cd',\n",
       "  'bd516ad5-4389-4452-aa7b-08f11343dafb',\n",
       "  'InterfaceUsage_end'),\n",
       " ('dee421cf-333f-4bbb-96c0-1790628f79ed',\n",
       "  '48a70371-6aa1-462b-923a-aa2d11a539fc',\n",
       "  'BindingConnector_end'),\n",
       " ('dee421cf-333f-4bbb-96c0-1790628f79ed',\n",
       "  '422f3a8b-3896-4f78-a14a-d004a03eefb7',\n",
       "  'BindingConnector_end'),\n",
       " ('2eae4628-8418-4b26-bd4e-272e511878a8',\n",
       "  '46cef5c8-5d4c-459c-a3dd-c1144fdec0cf',\n",
       "  'InterfaceDefinition_end'),\n",
       " ('2eae4628-8418-4b26-bd4e-272e511878a8',\n",
       "  '2ed547be-eaf1-4ed4-ab0a-6da15e3b98df',\n",
       "  'InterfaceDefinition_end'),\n",
       " ('a7fd1c74-f6a3-445e-93fe-7cb3ab547150',\n",
       "  '878da5dc-dca6-4934-853f-65f33ad4b17b',\n",
       "  'BindingConnector_end'),\n",
       " ('a7fd1c74-f6a3-445e-93fe-7cb3ab547150',\n",
       "  'ef954089-a3cb-4dd8-a74a-7238849d01f0',\n",
       "  'BindingConnector_end'),\n",
       " ('28c1fbd6-effb-4804-8870-6c3d3be6be20',\n",
       "  '5746b17d-4b0e-4226-a09b-6aa387bd52a6',\n",
       "  'InterfaceDefinition_end'),\n",
       " ('28c1fbd6-effb-4804-8870-6c3d3be6be20',\n",
       "  'fa8514f6-3b63-459e-ae28-f5db8385364f',\n",
       "  'InterfaceDefinition_end'),\n",
       " ('6f310ee1-7d3e-4be6-9c8f-69ab2c6da0c6',\n",
       "  'b5b2b869-7429-404f-94db-17ff58f0ffd2',\n",
       "  'ConnectionUsage_end'),\n",
       " ('6f310ee1-7d3e-4be6-9c8f-69ab2c6da0c6',\n",
       "  '7c468461-5849-4271-902a-8858d3547227',\n",
       "  'ConnectionUsage_end'),\n",
       " ('445c3181-bf37-430a-89a5-9009d23bc1bf',\n",
       "  '2a386aa3-ff98-464c-b6ca-35e2abe026dd',\n",
       "  'BindingConnector_end'),\n",
       " ('445c3181-bf37-430a-89a5-9009d23bc1bf',\n",
       "  '31674f57-ff92-42b1-ba5a-db46e969daf5',\n",
       "  'BindingConnector_end'),\n",
       " ('68091ed0-ce5c-4c0b-9034-8adcd8865563',\n",
       "  '29176798-bd75-438a-a6dc-029851ae8963',\n",
       "  'BindingConnector_end'),\n",
       " ('68091ed0-ce5c-4c0b-9034-8adcd8865563',\n",
       "  '19845403-b352-4a67-8694-d59ffc37c698',\n",
       "  'BindingConnector_end'),\n",
       " ('71bc413b-a68d-484a-94bc-0203da46eb71',\n",
       "  'e663c609-0ad7-4bac-ab15-fb59645ff100',\n",
       "  'InterfaceUsage_end'),\n",
       " ('71bc413b-a68d-484a-94bc-0203da46eb71',\n",
       "  'cf325a25-f45c-4ef2-85e3-14c8c8f2f501',\n",
       "  'InterfaceUsage_end'),\n",
       " ('0a3522eb-7df5-4c8f-af82-f56754d41221',\n",
       "  'ecd617a3-bf8d-4095-b770-87d0113cdb3b',\n",
       "  'ConnectionUsage_end'),\n",
       " ('0a3522eb-7df5-4c8f-af82-f56754d41221',\n",
       "  '819219b3-bbb1-4a93-8e56-94751b391db3',\n",
       "  'ConnectionUsage_end'),\n",
       " ('cd7d2a70-0a64-404d-a71a-d9eff96fe03d',\n",
       "  '2419ae9c-365c-43f4-9cdd-4e9c98ba6825',\n",
       "  'InterfaceUsage_end'),\n",
       " ('cd7d2a70-0a64-404d-a71a-d9eff96fe03d',\n",
       "  '22a29d85-04bd-43a6-804b-4e77e81b49e4',\n",
       "  'InterfaceUsage_end'),\n",
       " ('d68b2f03-2531-48e8-92b7-7a127f06f596',\n",
       "  '42db11ee-035b-4321-a2b8-1063ff464974',\n",
       "  'ConnectionUsage_end'),\n",
       " ('d68b2f03-2531-48e8-92b7-7a127f06f596',\n",
       "  '3cca8ebf-ed6f-41c6-9ee4-13a3b58cdc80',\n",
       "  'ConnectionUsage_end')]"
      ]
     },
     "execution_count": 11,
     "metadata": {},
     "output_type": "execute_result"
    }
   ],
   "source": [
    "[\n",
    "    edge\n",
    "    for edge in lpg.graph.edges\n",
    "    if \"_end\" in edge[2]\n",
    "]"
   ]
  },
  {
   "cell_type": "code",
   "execution_count": 5,
   "id": "d1a036be-ab1b-4acc-b883-61cc4d8efeca",
   "metadata": {},
   "outputs": [
    {
     "data": {
      "application/vnd.jupyter.widget-view+json": {
       "model_id": "567f3f8dba654940bddabb6da3a95424",
       "version_major": 2,
       "version_minor": 0
      },
      "text/plain": [
       "Interpreter(children=(HBox(children=(Dropdown(layout=Layout(height='40px', width='auto'), options={'Random Gen…"
      ]
     },
     "metadata": {},
     "output_type": "display_data"
    }
   ],
   "source": [
    "import pymbe as pm\n",
    "\n",
    "interpreter = pm.widget.interpretation.Interpreter()\n",
    "interpreter"
   ]
  },
  {
   "cell_type": "code",
   "execution_count": 18,
   "id": "cebb85fc-0a1b-4910-b8ef-6006b7157dd3",
   "metadata": {},
   "outputs": [],
   "source": [
    "interpreter.elements_by_id = lpg.elements_by_id\n",
    "interpreter.selected = tree.selected"
   ]
  },
  {
   "cell_type": "code",
   "execution_count": 20,
   "id": "7e302c6c-05b8-4cd6-8d39-add1333e55ad",
   "metadata": {},
   "outputs": [
    {
     "name": "stdout",
     "output_type": "stream",
     "text": [
      "> \u001b[1;32mc:\\sandboxes\\pymbe\\src\\pymbe\\graph\\lpg.py\u001b[0m(224)\u001b[0;36mget_projection_instructions\u001b[1;34m()\u001b[0m\n",
      "\u001b[1;32m    222 \u001b[1;33m        \u001b[0minstructions\u001b[0m \u001b[1;33m=\u001b[0m \u001b[1;33m{\u001b[0m\u001b[1;33m**\u001b[0m\u001b[0mself\u001b[0m\u001b[1;33m.\u001b[0m\u001b[0msysml_projections\u001b[0m\u001b[1;33m.\u001b[0m\u001b[0mget\u001b[0m\u001b[1;33m(\u001b[0m\u001b[0mprojection\u001b[0m\u001b[1;33m,\u001b[0m \u001b[1;33m{\u001b[0m\u001b[1;33m}\u001b[0m\u001b[1;33m)\u001b[0m\u001b[1;33m}\u001b[0m\u001b[1;33m\u001b[0m\u001b[1;33m\u001b[0m\u001b[0m\n",
      "\u001b[0m\u001b[1;32m    223 \u001b[1;33m        \u001b[1;32mif\u001b[0m \u001b[1;32mnot\u001b[0m \u001b[0minstructions\u001b[0m\u001b[1;33m:\u001b[0m\u001b[1;33m\u001b[0m\u001b[1;33m\u001b[0m\u001b[0m\n",
      "\u001b[0m\u001b[1;32m--> 224 \u001b[1;33m            raise ValueError(\n",
      "\u001b[0m\u001b[1;32m    225 \u001b[1;33m                \u001b[1;34mf\"Could not find SysML Project: '{projection}'.\\n\"\u001b[0m\u001b[1;33m\u001b[0m\u001b[1;33m\u001b[0m\u001b[0m\n",
      "\u001b[0m\u001b[1;32m    226 \u001b[1;33m                \u001b[1;34mf\"Options available are: {tuple(self.sysml_projections)}\"\u001b[0m\u001b[1;33m\u001b[0m\u001b[1;33m\u001b[0m\u001b[0m\n",
      "\u001b[0m\n"
     ]
    },
    {
     "name": "stdin",
     "output_type": "stream",
     "text": [
      "ipdb>  u\n"
     ]
    },
    {
     "name": "stdout",
     "output_type": "stream",
     "text": [
      "> \u001b[1;32mc:\\sandboxes\\pymbe\\src\\pymbe\\graph\\lpg.py\u001b[0m(336)\u001b[0;36mget_projection\u001b[1;34m()\u001b[0m\n",
      "\u001b[1;32m    334 \u001b[1;33m\u001b[1;33m\u001b[0m\u001b[0m\n",
      "\u001b[0m\u001b[1;32m    335 \u001b[1;33m    \u001b[1;32mdef\u001b[0m \u001b[0mget_projection\u001b[0m\u001b[1;33m(\u001b[0m\u001b[0mself\u001b[0m\u001b[1;33m,\u001b[0m \u001b[0mprojection\u001b[0m\u001b[1;33m:\u001b[0m \u001b[0mstr\u001b[0m\u001b[1;33m)\u001b[0m \u001b[1;33m->\u001b[0m \u001b[0mnx\u001b[0m\u001b[1;33m.\u001b[0m\u001b[0mGraph\u001b[0m\u001b[1;33m:\u001b[0m\u001b[1;33m\u001b[0m\u001b[1;33m\u001b[0m\u001b[0m\n",
      "\u001b[0m\u001b[1;32m--> 336 \u001b[1;33m        return self.adapt(**self.get_projection_instructions(\n",
      "\u001b[0m\u001b[1;32m    337 \u001b[1;33m            \u001b[0mprojection\u001b[0m\u001b[1;33m=\u001b[0m\u001b[0mprojection\u001b[0m\u001b[1;33m,\u001b[0m\u001b[1;33m\u001b[0m\u001b[1;33m\u001b[0m\u001b[0m\n",
      "\u001b[0m\u001b[1;32m    338 \u001b[1;33m        ))\n",
      "\u001b[0m\n"
     ]
    },
    {
     "name": "stdin",
     "output_type": "stream",
     "text": [
      "ipdb>  u\n"
     ]
    },
    {
     "name": "stdout",
     "output_type": "stream",
     "text": [
      "> \u001b[1;32mc:\\sandboxes\\pymbe\\src\\pymbe\\query\\metamodel_navigator.py\u001b[0m(30)\u001b[0;36mmap_inputs_to_results\u001b[1;34m()\u001b[0m\n",
      "\u001b[1;32m     28 \u001b[1;33m    \u001b[1;31m# TODO: Need a hack to feed result parameters into collection expressions\u001b[0m\u001b[1;33m\u001b[0m\u001b[1;33m\u001b[0m\u001b[1;33m\u001b[0m\u001b[0m\n",
      "\u001b[0m\u001b[1;32m     29 \u001b[1;33m\u001b[1;33m\u001b[0m\u001b[0m\n",
      "\u001b[0m\u001b[1;32m---> 30 \u001b[1;33m    \u001b[0meeg\u001b[0m \u001b[1;33m=\u001b[0m \u001b[0mlpg\u001b[0m\u001b[1;33m.\u001b[0m\u001b[0mget_projection\u001b[0m\u001b[1;33m(\u001b[0m\u001b[1;34m\"Expression Evaluation Graph\"\u001b[0m\u001b[1;33m)\u001b[0m\u001b[1;33m\u001b[0m\u001b[1;33m\u001b[0m\u001b[0m\n",
      "\u001b[0m\u001b[1;32m     31 \u001b[1;33m\u001b[1;33m\u001b[0m\u001b[0m\n",
      "\u001b[0m\u001b[1;32m     32 \u001b[1;33m    edge_dict = {\n",
      "\u001b[0m\n"
     ]
    },
    {
     "name": "stdin",
     "output_type": "stream",
     "text": [
      "ipdb>  lpg\n"
     ]
    },
    {
     "name": "stdout",
     "output_type": "stream",
     "text": [
      "<SysML v2 LPG: 0 nodes, 0 edges>\n"
     ]
    },
    {
     "name": "stdin",
     "output_type": "stream",
     "text": [
      "ipdb>  c\n"
     ]
    }
   ],
   "source": [
    "%debug"
   ]
  },
  {
   "cell_type": "code",
   "execution_count": 16,
   "id": "08160ecb-4ff5-47d6-9f1d-1d571f92682f",
   "metadata": {},
   "outputs": [
    {
     "data": {
      "text/plain": [
       "{'Complete': ordereddict([('description', \"This is the complete graph, it will be stripped if the size of the graph exceeds 'max_graph_size' traitlet in the LPG.\\n\"), ('excluded_edge_types', []), ('excluded_node_types', [])]),\n",
       " 'Banded Graph': ordereddict([('description', 'Generate library settings for a \"banded graph\" of types, generalization, and feature membership to capture both SysML v1 and v2 styled composition structures\\n'), ('included_edge_types', ['FeatureMembership', 'FeatureTyping', 'Superclassing']), ('reversed_edge_types', ['FeatureMembership', 'FeatureTyping'])]),\n",
       " 'Expanded Banded Graph': ordereddict([('description', 'Generate library settings for a expanded version of banded graph to accommodate expression tree relationships\\n'), ('included_edge_types', ['FeatureMembership', 'FeatureTyping', 'FeatureValue', 'ParameterMembership', 'ReturnParameterMembership', 'Superclassing']), ('reversed_edge_types', ['FeatureMembership', 'FeatureTyping', 'FeatureValue', 'ParameterMembership', 'ReturnParameterMembership'])]),\n",
       " 'Expression Value Graph': ordereddict([('description', 'Generate library settings for a expanded version of banded graph to accommodate expression tree relationships\\n'), ('included_node_types', ['Expression', 'Feature', 'FeatureReferenceExpression', 'InvocationExpression', 'LiteralInteger', 'LiteralReal', 'OperatorExpression']), ('included_edge_types', ['FeatureMembership', 'ParameterMembership', 'ResultExpressionMembership', 'ReturnParameterMembership'])]),\n",
       " 'Expression Evaluation Graph': ordereddict([('description', 'A graph to hint at the direction of computation flow in a model\\n'), ('included_edge_types', ['ParameterMembership', 'ReturnParameterMembership', 'ResultExpressionMembership', 'FeatureValue']), ('reversed_edge_types', ['ParameterMembership', 'ResultExpressionMembership'])]),\n",
       " 'Expression Inferred Graph': ordereddict([('description', 'A graph to hint at the direction of computation flow in a model\\n'), ('included_edge_types', ['ParameterMembership', 'ReturnParameterMembership', 'ResultExpressionMembership', 'ImpliedParameterFeedforward', 'Redefinition']), ('reversed_edge_types', ['ImpliedParameterFeedforward', 'ReturnParameterMembership', 'Redefinition'])]),\n",
       " 'Part Definition Graph': ordereddict([('description', 'Generate library settings for a graph that just looks at superclassing and part definitions\\n'), ('included_node_types', ['AttributeDefinition', 'PartDefinition', 'PortDefinition']), ('included_edge_types', ['Superclassing']), ('reversed_edge_types', ['Superclassing'])]),\n",
       " 'Part Featuring Graph': ordereddict([('description', 'Generate library settings for a graph that just looks at part definition and usage\\n'), ('included_node_types', ['AttributeDefinition', 'AttributeUsage', 'ConjugatedPortDefinition', 'DataType', 'PartDefinition', 'PartUsage', 'PortDefinition', 'PortUsage']), ('included_edge_types', ['FeatureMembership'])]),\n",
       " 'Part Typing Graph': ordereddict([('description', 'Generate library settings for a graph that just looks at part definition and usage typing\\n'), ('included_node_types', ['AttributeDefinition', 'AttributeUsage', 'ConjugatedPortDefinition', 'DataType', 'PartDefinition', 'PartUsage', 'PortDefinition', 'PortUsage']), ('included_edge_types', ['FeatureTyping'])]),\n",
       " 'Part Typing and Redefinition Graph': ordereddict([('description', 'Generate library settings for a graph that just looks at part definition and usage typing\\n'), ('included_node_types', ['AttributeDefinition', 'AttributeUsage', 'ConjugatedPortDefinition', 'DataType', 'PartDefinition', 'PartUsage', 'PortDefinition', 'PortUsage']), ('included_edge_types', ['FeatureTyping', 'Redefinition'])]),\n",
       " 'Redefinition Graph': ordereddict([('description', 'Generate a graph that covers redefinition relationships between features\\n'), ('included_edge_types', ['Redefinition'])]),\n",
       " 'Redefinition and Subsetting Graph': ordereddict([('description', 'Generate a graph that covers redefinition relationships between features\\n'), ('included_edge_types', ['Redefinition', 'Subsetting'])])}"
      ]
     },
     "execution_count": 16,
     "metadata": {},
     "output_type": "execute_result"
    }
   ],
   "source": [
    "dict(lpg.sysml_projections)"
   ]
  },
  {
   "cell_type": "markdown",
   "id": "2db2f9fa",
   "metadata": {},
   "source": [
    "2. load a small model"
   ]
  },
  {
   "cell_type": "code",
   "execution_count": null,
   "id": "ee379a8e-f844-460e-bde7-5e4fad6c4bd4",
   "metadata": {},
   "outputs": [],
   "source": [
    "kerbal_project = [name for name in client.project_selector.options if name.startswith(\"Kerbal\")]\n",
    "if kerbal_project:\n",
    "    client.project_selector.value = client.project_selector.options[kerbal_project[-1]]\n",
    "    client._download_elements()"
   ]
  },
  {
   "cell_type": "code",
   "execution_count": null,
   "id": "a703ed47-d4ed-41f8-b62d-20ad24414efb",
   "metadata": {},
   "outputs": [],
   "source": [
    "# lpg.diagram.elk_layout.value"
   ]
  },
  {
   "cell_type": "markdown",
   "id": "cd6aad75-6266-447c-861b-474f84010ad4",
   "metadata": {},
   "source": [
    "# Add all implied edges"
   ]
  },
  {
   "cell_type": "code",
   "execution_count": null,
   "id": "c5597284-ffaf-4b5e-a0e2-e374df609720",
   "metadata": {},
   "outputs": [],
   "source": [
    "%debug"
   ]
  },
  {
   "cell_type": "code",
   "execution_count": null,
   "id": "10ce0f16-d420-4caf-86c8-f7f2a66aa725",
   "metadata": {},
   "outputs": [],
   "source": [
    "from pymbe.interpretation.calc_dependencies import *\n",
    "from pymbe.interpretation.interp_playbooks import random_generator_playbook\n",
    "\n",
    "instances = random_generator_playbook(client, lpg, {})\n",
    "pairs = generate_execution_order(lpg=lpg, instance_dict=instances)"
   ]
  },
  {
   "cell_type": "code",
   "execution_count": null,
   "id": "c401417e-d9a5-47a4-988c-1397a1bfb7d4",
   "metadata": {},
   "outputs": [],
   "source": [
    "from pymbe.graph.calc_lpg import *\n",
    "\n",
    "group = CalculationGroup(lpg.get_projection(\"Expression Inferred Graph\"), instances, pairs)"
   ]
  },
  {
   "cell_type": "code",
   "execution_count": null,
   "id": "18e8d176-d95a-49bf-9975-4b107410e51a",
   "metadata": {},
   "outputs": [],
   "source": [
    "group.solve_graph(lpg)"
   ]
  },
  {
   "cell_type": "code",
   "execution_count": null,
   "id": "28ef2d72-774c-4780-84e7-67110a02920c",
   "metadata": {},
   "outputs": [],
   "source": [
    "instances[\"1e5a0ed7-8b41-4ab4-a433-8f7eedd75833\"]"
   ]
  },
  {
   "cell_type": "code",
   "execution_count": null,
   "id": "b2cccba6-c112-4596-864a-39efef467798",
   "metadata": {},
   "outputs": [],
   "source": [
    "lpg.elements_by_id = {**lpg.elements_by_id, **lpg.get_implied_elements()}"
   ]
  },
  {
   "cell_type": "markdown",
   "id": "52cbcb0f",
   "metadata": {},
   "source": [
    "...or you can directly adapt the graph and invert edges"
   ]
  },
  {
   "cell_type": "code",
   "execution_count": null,
   "id": "652c26e9-3be2-44ce-a149-572d99fb3316",
   "metadata": {},
   "outputs": [],
   "source": [
    "import data_loader"
   ]
  },
  {
   "cell_type": "code",
   "execution_count": null,
   "id": "f7c8da82-279f-442e-bc61-ee15cc7c4aaa",
   "metadata": {},
   "outputs": [],
   "source": [
    "from pymbe.client import SysML2Client\n",
    "from pathlib import Path\n",
    "\n",
    "\n",
    "def kerbal_model_loaded_client() -> SysML2Client:\n",
    "    helper_client = SysML2Client()\n",
    "    helper_client._load_from_file(Path(data_loader.__file__).parent / \"data\" / \"Kerbal\" / \"elements.json\")\n",
    "    return helper_client\n",
    "\n",
    "model = kerbal_model_loaded_client()"
   ]
  },
  {
   "cell_type": "code",
   "execution_count": null,
   "id": "f2b7b025-c5ad-4dea-ae51-bbb9dfe56b44",
   "metadata": {},
   "outputs": [],
   "source": [
    "model"
   ]
  },
  {
   "cell_type": "code",
   "execution_count": null,
   "id": "3250ea7d-18d2-4c54-869d-651fc4d10c98",
   "metadata": {},
   "outputs": [],
   "source": [
    "os.listdir()"
   ]
  },
  {
   "cell_type": "code",
   "execution_count": null,
   "id": "06312528-6a16-4db1-8138-b0051d8447c4",
   "metadata": {},
   "outputs": [],
   "source": [
    "from tests.interpretation.test_playbook_phases import *"
   ]
  },
  {
   "cell_type": "code",
   "execution_count": null,
   "id": "8798802a-9872-451d-9f4e-a379c7f2a3b3",
   "metadata": {},
   "outputs": [],
   "source": [
    "import os\n",
    "\n",
    "os.chdir(\"tests/\")"
   ]
  },
  {
   "cell_type": "code",
   "execution_count": null,
   "id": "69b1f0aa-c172-4187-9aca-19c6c930b164",
   "metadata": {},
   "outputs": [],
   "source": [
    "from interpretation.test_playbook_phases import kerbal_client\n",
    "\n",
    "test_client = kerbal_client()"
   ]
  },
  {
   "cell_type": "code",
   "execution_count": null,
   "id": "a8ac600b-dcf6-48c9-82d9-580a6783e4bf",
   "metadata": {},
   "outputs": [],
   "source": [
    "client.elements_by_type"
   ]
  },
  {
   "cell_type": "markdown",
   "id": "101f1f71-d3ee-4f3b-97d5-bee98e8732a0",
   "metadata": {},
   "source": [
    "# Add RDF Capabilities with `ipyradiant`"
   ]
  },
  {
   "cell_type": "code",
   "execution_count": null,
   "id": "20d887ff-1aa0-43d7-86ee-10fcb7c99708",
   "metadata": {},
   "outputs": [],
   "source": [
    "import traitlets as trt\n",
    "from ipyradiant.visualization import CytoscapeViewer, InteractiveViewer\n",
    "from pymbe.graph.rdf import SysML2RDFGraph"
   ]
  },
  {
   "cell_type": "code",
   "execution_count": null,
   "id": "611e1bdb-97a9-482f-b8f9-6b778d742d3d",
   "metadata": {},
   "outputs": [],
   "source": [
    "rdf = SysML2RDFGraph()\n",
    "trt.link((lpg, \"elements_by_id\"), (rdf, \"elements_by_id\"))"
   ]
  },
  {
   "cell_type": "code",
   "execution_count": null,
   "id": "63587afe-21fa-40db-96bb-ccf641ba6a90",
   "metadata": {},
   "outputs": [],
   "source": [
    "rdf.graph.namespace_manager.bind(\"purl\", 'http://purl.org/dc/terms/identifier')"
   ]
  },
  {
   "cell_type": "code",
   "execution_count": null,
   "id": "4b664981-244a-4263-98e1-266bbb676fc3",
   "metadata": {},
   "outputs": [],
   "source": [
    "InteractiveViewer(rdf_graph=rdf.graph)"
   ]
  },
  {
   "cell_type": "code",
   "execution_count": null,
   "id": "d2cd65f2-ef10-4ad7-9a98-32a59829ce7f",
   "metadata": {},
   "outputs": [],
   "source": [
    "from rdflib import Graph\n",
    "\n",
    "g = Graph()\n",
    "triples = list(rdf.graph.triples([None, None, None]))[1000:]\n",
    "g.addN([[*triples, \"SysMLv2\"] for triple in triples])"
   ]
  },
  {
   "cell_type": "code",
   "execution_count": null,
   "id": "c93815f6-242a-462a-8605-49c18bb51fd5",
   "metadata": {},
   "outputs": [],
   "source": [
    "%debug"
   ]
  },
  {
   "cell_type": "code",
   "execution_count": null,
   "id": "796f8fe6-4b3c-41bb-bab5-f4d3aea44c95",
   "metadata": {},
   "outputs": [],
   "source": [
    "import ipywidgets as ipyw\n",
    "\n",
    "file_uploader = ipyw.FileUpload(\n",
    "    accept='*.json',  # Accepted file extension e.g. '.txt', '.pdf', 'image/*', 'image/*,.pdf'\n",
    "    multiple=False,   # True to accept multiple files upload else False\n",
    ")\n",
    "file_uploader"
   ]
  },
  {
   "cell_type": "code",
   "execution_count": null,
   "id": "33bceaaf-4c05-49a9-ab1e-f843f3bc596a",
   "metadata": {},
   "outputs": [],
   "source": [
    "import requests\n",
    "\n",
    "resp = requests.get(client.elements_url)\n"
   ]
  },
  {
   "cell_type": "code",
   "execution_count": null,
   "id": "937e52a7-6489-47e2-983b-69b468267047",
   "metadata": {},
   "outputs": [],
   "source": [
    "import json\n",
    "from pathlib import Path\n",
    "\n",
    "projects = {\n",
    "    name.split(\" (2021\")[0]: project_id\n",
    "    for name, project_id in client.project_selector.options.items()\n",
    "}\n",
    "projects\n",
    "\n",
    "\n",
    "for name, project_id in projects.items():\n",
    "    try:\n",
    "        client.selected_project = project_id\n",
    "        data = client._get_elements_from_server()\n",
    "        with Path(f\"{name}.json\") as f:\n",
    "            f.write_text(json.dumps(data))\n",
    "        print(f\"Downloaded {name}, commit: {client.selected_commit}\")\n",
    "    except:\n",
    "        print(f\"Failed to download: {name}...\")"
   ]
  },
  {
   "cell_type": "code",
   "execution_count": null,
   "id": "dc89fe28-cdcb-4a8e-8fb9-dcf512e1bcd9",
   "metadata": {},
   "outputs": [],
   "source": [
    "for id_, el in rdf.elements_by_id.items():\n",
    "    context = el.get(\"@context\")\n",
    "    if context:\n",
    "        print(f\"{id_}: has context ({context})\")\n",
    "    else:\n",
    "        print(f\"{id_} has no context\")"
   ]
  },
  {
   "cell_type": "markdown",
   "id": "a1061c68",
   "metadata": {},
   "source": [
    "# Interpretation\n",
    "\n",
    "> This is where we are refactoring the $M_0$ interpretation..."
   ]
  },
  {
   "cell_type": "code",
   "execution_count": null,
   "id": "047730fd-28c5-460f-9863-7ad817a24641",
   "metadata": {},
   "outputs": [],
   "source": [
    "lpg.sysml_projections[\"Complete\"][\"description\"]"
   ]
  },
  {
   "cell_type": "code",
   "execution_count": null,
   "id": "c5fb1f1e",
   "metadata": {},
   "outputs": [],
   "source": [
    "def safe_get(data: dict, *keys, default=None):\n",
    "    for key in keys:\n",
    "        if key not in data:\n",
    "            return default\n",
    "        data = data[key]\n",
    "    return data\n",
    "\n",
    "safe_get(lpg.elements_by_id, \"cb4386fe-67d9-4743-995f-5d4a4162e26e\", \"owner\", \"@id\")"
   ]
  },
  {
   "cell_type": "code",
   "execution_count": null,
   "id": "bde9737a",
   "metadata": {},
   "outputs": [],
   "source": [
    "UNSPECIFIED = object()\n",
    "\n",
    "class SafeDict(dict):\n",
    "\n",
    "    def __init__(self, *args, default=None, **kwargs):\n",
    "        self.__default__ = default or {}\n",
    "        super().__init__(*args, **kwargs)\n",
    "        for key, value in self.items():\n",
    "            self[key] = SafeDict.__convert(value)\n",
    "\n",
    "    def __setitem__(self, k, v):\n",
    "        dict.__setitem__(self, k, SafeDict.__convert(v))\n",
    "\n",
    "    def get(self, item, default=None):\n",
    "        return super().get(item, default) or self.__default__\n",
    "\n",
    "    @staticmethod\n",
    "    def __convert(o):\n",
    "        \"\"\"\n",
    "        Recursively convert `dict` objects in `dict`, `list`, `set`, and\n",
    "        `tuple` objects to `attrdict` objects.\n",
    "        \"\"\"\n",
    "        if isinstance(o, dict):\n",
    "            o = SafeDict(o)\n",
    "        elif isinstance(o, list):\n",
    "            o = list(SafeDict.__convert(v) for v in o)\n",
    "        elif isinstance(o, set):\n",
    "            o = set(SafeDict.__convert(v) for v in o)\n",
    "        elif isinstance(o, tuple):\n",
    "            o = tuple(SafeDict.__convert(v) for v in o)\n",
    "        return o\n",
    "\n",
    "\n",
    "a = SafeDict(dict(agh=1, bum=2, bar=3, baz=dict(bar=2,baz=dict(bar=3,baz=4))))\n",
    "a[\"as\"] = \"if\"\n",
    "a.get(\"as\"), type(a.get(\"baz\")), a.get(\"baz\")"
   ]
  },
  {
   "cell_type": "code",
   "execution_count": null,
   "id": "75203978",
   "metadata": {
    "tags": []
   },
   "outputs": [],
   "source": [
    "from pymbe.interpretation import *\n",
    "\n",
    "def roll_up_upper_multiplicities(lpg):\n",
    "    banded_featuring_graph = make_banded_featuring_graph(lpg)\n",
    "\n",
    "    banded_roots = [\n",
    "        banded_featuring_graph.nodes[node]\n",
    "        for node in banded_featuring_graph\n",
    "        if banded_featuring_graph.out_degree(node) == 0\n",
    "    ]\n",
    "    \n",
    "    for part_usage in \n",
    "\n",
    "elements = lpg.elements_by_id\n",
    "\n",
    "features = [\n",
    "    id_\n",
    "    for id_, data in elements.items()\n",
    "    if data[\"@type\"] == \"Feature\"\n",
    "]\n",
    "\n",
    "for feature in features:\n",
    "    upper_multiplicity = get_feature_upper_multiplicity(elements, feature)\n",
    "    if upper_multiplicity:\n",
    "        print(elements[feature][\"qualifiedName\"], upper_multiplicity)"
   ]
  },
  {
   "cell_type": "markdown",
   "id": "fb413585",
   "metadata": {},
   "source": [
    "# Troubleshooting"
   ]
  },
  {
   "cell_type": "markdown",
   "id": "ec1c77ba",
   "metadata": {},
   "source": [
    "## Fix linking issue with diagram element selector"
   ]
  },
  {
   "cell_type": "code",
   "execution_count": null,
   "id": "e676e9d0",
   "metadata": {},
   "outputs": [],
   "source": [
    "self = lpg.diagram\n",
    "\n",
    "lpg.selected, self.selected, self.elk_app.diagram.selected"
   ]
  },
  {
   "cell_type": "code",
   "execution_count": null,
   "id": "c6ce680a",
   "metadata": {},
   "outputs": [],
   "source": [
    "self.id_mapper.get(*self.elk_app.diagram.selected)"
   ]
  },
  {
   "cell_type": "code",
   "execution_count": null,
   "id": "c4c3386f",
   "metadata": {},
   "outputs": [],
   "source": [
    "self._make_id_mapper()"
   ]
  },
  {
   "cell_type": "code",
   "execution_count": null,
   "id": "77ef2a4a",
   "metadata": {},
   "outputs": [],
   "source": [
    "self = lpg\n",
    "\n",
    "self._update_diagram_graph(button=self.filter_to_path)"
   ]
  },
  {
   "cell_type": "code",
   "execution_count": null,
   "id": "1a2d587c",
   "metadata": {},
   "outputs": [],
   "source": [
    "directed = self.path_directionality.value\n",
    "new_graph = self._get_subgraph(\n",
    "            excluded_edge_types=self.excluded_edge_types,\n",
    "            excluded_node_types=self.excluded_node_types,\n",
    "            reversed_edge_types=self.edge_type_reverser.value,\n",
    "        )\n",
    "\n",
    "source, target = self.selected\n",
    "new_graph = self.get_path_graph(\n",
    "    graph=new_graph,\n",
    "    source=source,\n",
    "    target=target,\n",
    "    directed=directed,\n",
    ")\n",
    "len(new_graph)"
   ]
  },
  {
   "cell_type": "code",
   "execution_count": null,
   "id": "01f7053e",
   "metadata": {},
   "outputs": [],
   "source": [
    "self.diagram.graph = new_graph"
   ]
  },
  {
   "cell_type": "code",
   "execution_count": null,
   "id": "fa72a559",
   "metadata": {},
   "outputs": [],
   "source": [
    "import traitlets as trt\n",
    "\n",
    "\n",
    "self.diagram._update_diagram(trt.Bunch(old=None))"
   ]
  },
  {
   "cell_type": "code",
   "execution_count": null,
   "id": "c80fc487",
   "metadata": {},
   "outputs": [],
   "source": [
    "len(self.diagram.compound(self.diagram.container)[0])"
   ]
  },
  {
   "cell_type": "code",
   "execution_count": null,
   "id": "52be99a6",
   "metadata": {},
   "outputs": [],
   "source": [
    "from dataclasses import dataclass, field\n",
    "\n",
    "@dataclass\n",
    "class Mapper:\n",
    "    to_map: dict = field(repr=False)\n",
    "    from_map: dict = field(default=None, repr=False)\n",
    "\n",
    "    def __repr__(self):\n",
    "        return f\"Mapper({len(self.to_map)} Items)\"\n",
    "\n",
    "    def __post_init__(self, *args, **kwargs):\n",
    "        self.from_map = {v: k for k, v in self.to_map.items()}\n",
    "\n",
    "    def get(self, *items):\n",
    "        found = [\n",
    "            self.to_map.get(item, self.from_map.get(item))\n",
    "            for item in items\n",
    "        ]\n",
    "        return [\n",
    "            item\n",
    "            for item in found\n",
    "            if item is not None\n",
    "        ]\n",
    "    \n",
    "    def __len__(self):\n",
    "        return len(self.to_map)\n",
    "\n",
    "if Mapper({}):\n",
    "    print(\"ahh\")"
   ]
  },
  {
   "cell_type": "code",
   "execution_count": null,
   "id": "365c822c",
   "metadata": {},
   "outputs": [],
   "source": []
  },
  {
   "cell_type": "markdown",
   "id": "b3f85347",
   "metadata": {},
   "source": [
    "---------------------"
   ]
  },
  {
   "cell_type": "code",
   "execution_count": null,
   "id": "40555d37",
   "metadata": {},
   "outputs": [],
   "source": [
    "self = lpg.diagram\n",
    "import networkx as nx\n",
    "\n",
    "_, hierarchy = self.elk_app.transformer.source\n",
    "\n",
    "try:\n",
    "    item = lpg.diagram.elk_app.selected[0]\n",
    "    res = next(hierarchy.predecessors(item)).node\n",
    "except nx.NetworkXError:\n",
    "    res = item.data.get(\"properties\", {}).get(\"@id\")\n",
    "\n",
    "res.id, res.data[\"@id\"]"
   ]
  },
  {
   "cell_type": "code",
   "execution_count": null,
   "id": "2f261d5b",
   "metadata": {},
   "outputs": [],
   "source": [
    "tree.selected, explorer.selected, lpg.selected"
   ]
  },
  {
   "cell_type": "code",
   "execution_count": null,
   "id": "4da55b41",
   "metadata": {},
   "outputs": [],
   "source": [
    "lpg.diagram.elk_app.diagram.selected"
   ]
  },
  {
   "cell_type": "code",
   "execution_count": null,
   "id": "544aa0cb",
   "metadata": {},
   "outputs": [],
   "source": [
    "lpg.selected"
   ]
  },
  {
   "cell_type": "code",
   "execution_count": null,
   "id": "7e1d03dd",
   "metadata": {
    "tags": []
   },
   "outputs": [],
   "source": [
    "self = lpg.diagram\n",
    "\n",
    "_, hierarchy = self.elk_transformer.source\n",
    "\n",
    "self.parts[self.selected[0]], self.elk_app.selected[0]\n",
    "\n",
    "for selected_id in self.selected:\n",
    "    node_selected = self.parts.get(selected_id)\n",
    "    print(node_selected.id)"
   ]
  },
  {
   "cell_type": "code",
   "execution_count": null,
   "id": "f4f68e4d",
   "metadata": {},
   "outputs": [],
   "source": [
    "node_selected.children[0] == self.elk_app.selected[0].node"
   ]
  },
  {
   "cell_type": "markdown",
   "id": "a9bdefa8",
   "metadata": {},
   "source": [
    "---------------"
   ]
  },
  {
   "cell_type": "code",
   "execution_count": null,
   "id": "1b951ab2",
   "metadata": {},
   "outputs": [],
   "source": [
    "from dataclasses import dataclass, field\n",
    "\n",
    "\n",
    "@dataclass\n",
    "class Mapper:\n",
    "    to_map: dict = field(repr=False)\n",
    "    from_map: dict = field(default=None, repr=False)\n",
    "        \n",
    "    def __repr__(self):\n",
    "        return f\"Mapper({len(self.to_map)} Items)\"\n",
    "\n",
    "    def __post_init__(self, *args, **kwargs):\n",
    "        self.from_map = {v: k for k, v in self.to_map.items()}\n",
    "\n",
    "    def get(self, *items):\n",
    "        found = [\n",
    "            self.to_map.get(item, self.from_map.get(item))\n",
    "            for item in items\n",
    "        ]\n",
    "        if len(found) < 2:\n",
    "            found = found[0]\n",
    "        return found\n",
    "\n",
    "mapper = Mapper(from_elk_id)\n",
    "\n",
    "mapper.get(*self.elk_app.diagram.selected)"
   ]
  },
  {
   "cell_type": "code",
   "execution_count": null,
   "id": "5e4838af",
   "metadata": {},
   "outputs": [],
   "source": [
    "a = {1,2,}\n",
    "a.symmetric_difference"
   ]
  },
  {
   "cell_type": "code",
   "execution_count": null,
   "id": "2718dd52",
   "metadata": {},
   "outputs": [],
   "source": [
    "self = lpg.diagram"
   ]
  },
  {
   "cell_type": "code",
   "execution_count": null,
   "id": "1fee9f6c",
   "metadata": {},
   "outputs": [],
   "source": [
    "relationships, hierarchy = self.elk_app.transformer.source"
   ]
  },
  {
   "cell_type": "code",
   "execution_count": null,
   "id": "260bc20a",
   "metadata": {},
   "outputs": [],
   "source": [
    "transformer = self.elk_app.transformer\n",
    "relationships, hierarchy = transformer.source\n",
    "\n",
    "import ipyelk\n",
    "from ipyelk.contrib.elements import (\n",
    "    Compartment,\n",
    ")\n",
    "\n",
    "def id_from_item(item):\n",
    "    id_ = None\n",
    "    if isinstance(item, ipyelk.transform.Edge):\n",
    "        id_ = item.data.get(\"properties\", {}).get(\"@id\")\n",
    "    elif isinstance(getattr(item, \"node\", None), Compartment):\n",
    "        id_ = next(hierarchy.predecessors(item)).node.id\n",
    "    if id_ is None:\n",
    "        self.log.debug(f\"Could not parse: {item}\")\n",
    "    return id_\n",
    "\n",
    "from_elk_id = {\n",
    "    elk_id: id_from_item(elk_item)\n",
    "    for elk_id, elk_item in transformer._elk_to_item.items()\n",
    "}\n",
    "\n",
    "from_elk_id = {\n",
    "    elk_id: sysml_id\n",
    "    for elk_id, sysml_id in from_elk_id.items()\n",
    "    if sysml_id is not None\n",
    "}\n",
    "found_ids = set(from_elk_id.values())\n",
    "\n",
    "for extra in set(lpg.elements_by_id).symmetric_difference(found_ids):\n",
    "    print(lpg.elements_by_id[extra])\n",
    "\n",
    "\n"
   ]
  },
  {
   "cell_type": "code",
   "execution_count": null,
   "id": "dcf4aad5",
   "metadata": {},
   "outputs": [],
   "source": [
    "transformer.from_id(\"61bd9433-3eec-47f7-af7e-3bf71f19071b\").node"
   ]
  },
  {
   "cell_type": "code",
   "execution_count": null,
   "id": "17e8af30",
   "metadata": {},
   "outputs": [],
   "source": [
    "missing = [elk_id for elk_id, our_id in from_elk_id.items() if our_id is None]\n",
    "lpg.diagram.elk_app.diagram.selected = missing"
   ]
  },
  {
   "cell_type": "code",
   "execution_count": null,
   "id": "e1629d4c",
   "metadata": {},
   "outputs": [],
   "source": [
    "from_elk_id"
   ]
  },
  {
   "cell_type": "markdown",
   "id": "6e6ef285",
   "metadata": {},
   "source": [
    "# Scratch Pad\n",
    "> **WARNING**: Anything below this point is just for experimentation purposes"
   ]
  },
  {
   "cell_type": "markdown",
   "id": "6a6264e4",
   "metadata": {},
   "source": [
    "## RDF Experiments"
   ]
  },
  {
   "cell_type": "code",
   "execution_count": null,
   "id": "15b6228a",
   "metadata": {},
   "outputs": [],
   "source": [
    "def process_edge(source, target, edge_type, data=None):\n",
    "    if edge_type in (\"FeatureTyping\", \"FeatureMembership\"):\n",
    "        source, target = target, source\n",
    "    return [source, target, data]\n",
    "\n",
    "graph = nx.DiGraph()\n",
    "graph.add_edges_from([\n",
    "    process_edge(source, target, edge_type, data)\n",
    "    for (source, target, edge_type), data in dict(client.lpg.graph.edges).items()\n",
    "    if edge_type in (\"Superclassing\", \"FeatureTyping\", \"FeatureMembership\")\n",
    "])\n",
    "graph"
   ]
  },
  {
   "cell_type": "code",
   "execution_count": null,
   "id": "51ecb619",
   "metadata": {},
   "outputs": [],
   "source": [
    "diagram.graph = graph"
   ]
  },
  {
   "cell_type": "code",
   "execution_count": null,
   "id": "9890d4be",
   "metadata": {},
   "outputs": [],
   "source": [
    "diagram = client.lpg.make_diagram(\n",
    "    graph=client.lpg.subgraph(edge_types=(\"Superclassing\", \"FeatureTyping^-1\", \"FeatureMembership^-1\"))\n",
    ")\n",
    "elk_app, *_ = diagram.children\n",
    "diagram"
   ]
  },
  {
   "cell_type": "code",
   "execution_count": null,
   "id": "3e4e6712",
   "metadata": {},
   "outputs": [],
   "source": [
    "# Select the root node in the diagram...\n",
    "# ... or you can manually select one yourself\n",
    "elk_app.selected = \"5260380b-6fda-43cc-993f-5df58868edbb\","
   ]
  },
  {
   "cell_type": "code",
   "execution_count": null,
   "id": "316bb6ec",
   "metadata": {
    "tags": []
   },
   "outputs": [],
   "source": [
    "first_element_selected, *_ = elk_app.selected\n",
    "client.elements_by_id[first_element_selected]"
   ]
  },
  {
   "cell_type": "markdown",
   "id": "f0336664",
   "metadata": {},
   "source": [
    "# Parse JSON-LD into RDF"
   ]
  },
  {
   "cell_type": "code",
   "execution_count": null,
   "id": "edc2e147",
   "metadata": {},
   "outputs": [],
   "source": [
    "import rdflib\n",
    "from rdflib.extras.external_graph_libs import rdflib_to_networkx_multidigraph\n",
    "import networkx as nx\n",
    "import matplotlib.pyplot as plt\n",
    "\n",
    "result = client.rdf.graph\n",
    "# result = g.parse(url, format='turtle')\n",
    "\n",
    "G = rdflib_to_networkx_multidigraph(result)\n",
    "\n",
    "# Plot Networkx instance of RDF Graph\n",
    "pos = nx.spring_layout(G, scale=2)\n",
    "edge_labels = nx.get_edge_attributes(G, 'r')"
   ]
  },
  {
   "cell_type": "code",
   "execution_count": null,
   "id": "c71f193d",
   "metadata": {},
   "outputs": [],
   "source": [
    "ax = plt.figure(figsize=(50,30)).gca();\n",
    "nx.draw_networkx_edge_labels(G, pos, edge_labels=edge_labels, ax=ax)\n",
    "nx.draw(G, with_labels=True, ax=ax)"
   ]
  },
  {
   "cell_type": "markdown",
   "id": "c057b5bf",
   "metadata": {},
   "source": [
    "# TODOs\n",
    "1. Finish fleshing out the process in the `Kerbal Model.ipynb`\n",
    "2. Modify the subgraph generator so it can take the value from the `Type Selector` directly\n",
    "3. Improve the ipyelk diagram widget (may need to make improvements to `ipyelk`)\n",
    "   * Add arrows\n",
    "   * Add compartments\n",
    "   * Fix layout\n",
    "   * Add widget to see node details\n",
    "4. Finalize the RDF formulation"
   ]
  }
 ],
 "metadata": {
  "kernelspec": {
   "display_name": "Python 3",
   "language": "python",
   "name": "python3"
  },
  "language_info": {
   "codemirror_mode": {
    "name": "ipython",
    "version": 3
   },
   "file_extension": ".py",
   "mimetype": "text/x-python",
   "name": "python",
   "nbconvert_exporter": "python",
   "pygments_lexer": "ipython3",
   "version": "3.9.4"
  }
 },
 "nbformat": 4,
 "nbformat_minor": 5
}
