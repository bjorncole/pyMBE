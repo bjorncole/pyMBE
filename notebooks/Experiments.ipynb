{
 "cells": [
  {
   "cell_type": "markdown",
   "id": "ea67fea0",
   "metadata": {},
   "source": [
    "# Tutorial & Widget Experiments\n",
    "\n",
    "> This notebook is primarily being used to experiment with how to use the `pymbe` widgets.\n",
    ">\n",
    "> It should be fairly \"clean\" until the `Scratch Pad` section.\n",
    ">\n",
    "\n",
    "In the future, this notebook will be cleaned up and renamed \"Tutorial\"."
   ]
  },
  {
   "cell_type": "markdown",
   "id": "2822b5ee",
   "metadata": {},
   "source": [
    "## 1. Import `pymbe` and create a new user interface"
   ]
  },
  {
   "cell_type": "code",
   "execution_count": null,
   "id": "b5ad7fff",
   "metadata": {},
   "outputs": [],
   "source": [
    "import pymbe.api as pm"
   ]
  },
  {
   "cell_type": "code",
   "execution_count": null,
   "id": "33c7c6b0",
   "metadata": {
    "tags": []
   },
   "outputs": [],
   "source": [
    "pm.UI.new(host_url=\"http://sysml2-sst.intercax.com\")"
   ]
  },
  {
   "cell_type": "markdown",
   "id": "db605615",
   "metadata": {},
   "source": [
    "## 2. Use the widget\n",
    "...or automatically load the `Kerbal` model using the cell below by:"
   ]
  },
  {
   "cell_type": "markdown",
   "id": "41b9fecd",
   "metadata": {},
   "source": [
    "1. Grabbing the individual widgets"
   ]
  },
  {
   "cell_type": "code",
   "execution_count": null,
   "id": "35de9547",
   "metadata": {
    "tags": []
   },
   "outputs": [],
   "source": [
    "ui, *_ = _.children\n",
    "client, tree, inspector, lpg, *interpreter = ui.children"
   ]
  },
  {
   "cell_type": "code",
   "execution_count": null,
   "id": "82941e56-2f6f-4ee3-8393-9f3b78cbb80f",
   "metadata": {},
   "outputs": [],
   "source": [
    "# client._load_from_file(\"../tests/fixtures/2a-Parts Interconnection.json\")\n",
    "# client._load_from_file(\"../tests/fixtures/12b-Allocation.json\")\n",
    "client._load_from_file(\"../tests/fixtures/Kerbal.json\")"
   ]
  },
  {
   "cell_type": "code",
   "execution_count": null,
   "id": "4e6c7b79-c0e0-4acd-9809-5d7c4e2a9a83",
   "metadata": {},
   "outputs": [],
   "source": [
    "len(lpg.drawn_graph.edges)"
   ]
  },
  {
   "cell_type": "code",
   "execution_count": null,
   "id": "7ed0a84f-3ff4-4001-a7a1-eec248aec886",
   "metadata": {},
   "outputs": [],
   "source": [
    "len(lpg.lpg.elements_by_id)"
   ]
  },
  {
   "cell_type": "code",
   "execution_count": null,
   "id": "e32e36df-ce6c-4f96-9e82-c089a29e0cc1",
   "metadata": {},
   "outputs": [],
   "source": [
    "lpg.log_out"
   ]
  },
  {
   "cell_type": "code",
   "execution_count": null,
   "id": "d2646fa0-ee3d-49bf-8ede-57f0aae92790",
   "metadata": {},
   "outputs": [],
   "source": [
    "lpg.diagram.toolbar.refresh_diagram.click()"
   ]
  },
  {
   "cell_type": "code",
   "execution_count": null,
   "id": "68de195b-dd1d-4e7a-8fe3-b4b1c7a3c50f",
   "metadata": {},
   "outputs": [],
   "source": [
    "self = lpg\n",
    "\n",
    "\n",
    "toolbar = self.diagram.toolbar\n",
    "reversed_edges = toolbar.edge_type_reverser.value\n",
    "\n",
    "instructions = self.lpg.get_projection_instructions(\n",
    "    projection=toolbar.projection_selector.value,\n",
    ")\n",
    "new_graph = self.lpg.adapt(\n",
    "            excluded_edge_types={\n",
    "                *instructions.get(\"excluded_edge_types\", []),\n",
    "                *self.excluded_edge_types,\n",
    "            },\n",
    "            excluded_node_types={\n",
    "                *instructions.get(\"excluded_node_types\", []),\n",
    "                *self.excluded_node_types,\n",
    "            },\n",
    "            reversed_edge_types={\n",
    "                *instructions.get(\"reversed_edge_types\", []),\n",
    "                *reversed_edges,\n",
    "            },\n",
    "        )\n",
    "\n",
    "self._update_part_diagram()"
   ]
  },
  {
   "cell_type": "code",
   "execution_count": null,
   "id": "0c711917-92fc-4017-8464-ff0a45c43388",
   "metadata": {},
   "outputs": [],
   "source": [
    "self.drawn_graph.edges"
   ]
  },
  {
   "cell_type": "code",
   "execution_count": null,
   "id": "5301ad3f-129a-4465-842e-7b9e9943c39d",
   "metadata": {},
   "outputs": [],
   "source": [
    "lpg.log_out"
   ]
  },
  {
   "cell_type": "code",
   "execution_count": null,
   "id": "fa81734c-971a-427d-a40b-1e47cd8e4788",
   "metadata": {},
   "outputs": [],
   "source": [
    "client.elements_url"
   ]
  },
  {
   "cell_type": "code",
   "execution_count": null,
   "id": "b870b52c-df2c-4cc5-85ff-e152396d8513",
   "metadata": {},
   "outputs": [],
   "source": [
    "lpg.max_graph_size = 1024"
   ]
  },
  {
   "cell_type": "code",
   "execution_count": null,
   "id": "2b815bca-1d32-4ed0-b043-58b3513a86ed",
   "metadata": {},
   "outputs": [],
   "source": [
    "lpg._update_drawn_graph()"
   ]
  },
  {
   "cell_type": "code",
   "execution_count": null,
   "id": "9658bfe5-c034-4e7d-9108-18b3443d0c75",
   "metadata": {},
   "outputs": [],
   "source": [
    "lpg.diagram.toolbar.loader.layout.height = \"0px\""
   ]
  },
  {
   "cell_type": "code",
   "execution_count": null,
   "id": "709f9e70-6320-456e-8e7b-0850b748b2c3",
   "metadata": {},
   "outputs": [],
   "source": [
    "a = \"23435\"\n",
    "a.startswith(\"2\")"
   ]
  },
  {
   "cell_type": "code",
   "execution_count": null,
   "id": "c7cba307-4df5-4a5c-8cd8-a4905cf7c3af",
   "metadata": {},
   "outputs": [],
   "source": [
    "lpg.selected"
   ]
  },
  {
   "cell_type": "code",
   "execution_count": null,
   "id": "8f00cd56-d5e5-4da8-9615-e2a2b72d3651",
   "metadata": {},
   "outputs": [],
   "source": [
    "%debug"
   ]
  },
  {
   "cell_type": "code",
   "execution_count": null,
   "id": "be6f536c-b689-4d44-9130-060db3096b12",
   "metadata": {},
   "outputs": [],
   "source": [
    "# lpg._update_drawn_graph()"
   ]
  },
  {
   "cell_type": "code",
   "execution_count": null,
   "id": "3ac6db5f-f614-4b62-9afd-03da7040f90f",
   "metadata": {},
   "outputs": [],
   "source": [
    "style = {**lpg.part_diagram.style}\n",
    "style[\" .elklabel.compartment_title_1\"] = {\"font-weight\": \"bold\"}\n",
    "style[\" .elklabel.compartment_title_2\"] = {\"font-weight\": \"bold\", \"font-style\": \"normal\"}\n",
    "style[\"symbol.elksymbol.subsetting .round ellipse\"] = {\"fill\": \"var(--jp-elk-node-stroke)\"}\n",
    "#diagram.style[\" .subsetting \"] = {\"fill\": \"none\"}\n",
    "lpg.diagram.style = style"
   ]
  },
  {
   "cell_type": "code",
   "execution_count": null,
   "id": "5f7951a0-d078-4a47-a964-97198ae4a05d",
   "metadata": {},
   "outputs": [],
   "source": [
    "lpg.view.selection.ids = ('94820c5a-a884-4af0-b1a5-53a48008fc82',)"
   ]
  },
  {
   "cell_type": "code",
   "execution_count": null,
   "id": "73d2bbcf-e1c3-4279-8597-41f6ff68cc6f",
   "metadata": {},
   "outputs": [],
   "source": [
    "lpg.refresh()"
   ]
  },
  {
   "cell_type": "code",
   "execution_count": null,
   "id": "3ead4e1a-531d-4841-ae79-cfc2edfa05bb",
   "metadata": {},
   "outputs": [],
   "source": [
    "import ipyelk\n",
    "\n",
    "diagram = ipyelk.Diagram()\n",
    "diagram"
   ]
  },
  {
   "cell_type": "code",
   "execution_count": null,
   "id": "17782701-acf3-4fd5-acca-888104ed9b10",
   "metadata": {},
   "outputs": [],
   "source": [
    "diagram.symbols = lpg.symbols\n",
    "diagram.source = lpg.loader.load(lpg.diagram)"
   ]
  },
  {
   "cell_type": "code",
   "execution_count": null,
   "id": "7b8684d9-a162-4f52-91ee-529dc82664dd",
   "metadata": {},
   "outputs": [],
   "source": [
    "import ipywidgets as ipyw\n",
    "\n",
    "buttons = ipyw.HBox([\n",
    "    tool.ui\n",
    "    for tool in lpg.toolbar.tools\n",
    "    if tool.ui\n",
    "])\n",
    "\n",
    "buttons.children[-1].visibility = \"hidden\""
   ]
  },
  {
   "cell_type": "code",
   "execution_count": null,
   "id": "0c36b241-19e6-46d5-9ee0-e86c9902732a",
   "metadata": {},
   "outputs": [],
   "source": [
    "lpg.toolbar.buttons.children[0].description"
   ]
  },
  {
   "cell_type": "code",
   "execution_count": null,
   "id": "e513b6e6-8180-45be-bc06-d0ab0ea9a448",
   "metadata": {},
   "outputs": [],
   "source": [
    "%debug"
   ]
  },
  {
   "cell_type": "code",
   "execution_count": null,
   "id": "9ba09cac-c339-40c8-b6ca-96694a41ea68",
   "metadata": {},
   "outputs": [],
   "source": [
    "lpg._update_drawn_graph()"
   ]
  },
  {
   "cell_type": "code",
   "execution_count": null,
   "id": "b7f4f024-e87b-46e5-a9e9-95adf646b62f",
   "metadata": {},
   "outputs": [],
   "source": [
    "lpg.view.source"
   ]
  },
  {
   "cell_type": "code",
   "execution_count": null,
   "id": "66d8957f-3d3e-4be1-8c63-cf9b24650179",
   "metadata": {},
   "outputs": [],
   "source": [
    "lpg.toolbar.layout.width# = \"auto\""
   ]
  },
  {
   "cell_type": "code",
   "execution_count": null,
   "id": "deca28bd-8c34-4186-a7c9-805dad5d19b9",
   "metadata": {},
   "outputs": [],
   "source": [
    "lpg.pipe.on_progress"
   ]
  },
  {
   "cell_type": "code",
   "execution_count": null,
   "id": "9d782c38-b981-46f0-836d-f2434d6c0036",
   "metadata": {},
   "outputs": [],
   "source": [
    "import ipyelk\n",
    "\n",
    "self = lpg\n",
    "\n",
    "ipet = ipyelk.tools\n",
    "\n",
    "tools = [\n",
    "    \n",
    "]\n",
    "\n",
    "toolbar = lpg.toolbar\n",
    "toolbar.tools = [\n",
    "    tool(\n",
    "        app=self\n",
    "        description=\"\",\n",
    "    )\n",
    "    for tool in (ipet.FitTool, ipet.CenterTool)\n",
    "]"
   ]
  },
  {
   "cell_type": "markdown",
   "id": "997fb285-9d71-44c2-81e4-b0c33a3a2c69",
   "metadata": {},
   "source": [
    "lpg.toolbar.layout.visibility = \"visible\"\n",
    "lpg.toolbar"
   ]
  },
  {
   "cell_type": "code",
   "execution_count": null,
   "id": "fa166531-1a45-4be5-9a63-40ce18ed1f52",
   "metadata": {},
   "outputs": [],
   "source": [
    "toolbar.tools[0].handler"
   ]
  },
  {
   "cell_type": "code",
   "execution_count": null,
   "id": "d1a036be-ab1b-4acc-b883-61cc4d8efeca",
   "metadata": {},
   "outputs": [],
   "source": [
    "import pymbe as pm\n",
    "\n",
    "interpreter = pm.widget.interpretation.Interpreter()\n",
    "interpreter"
   ]
  },
  {
   "cell_type": "code",
   "execution_count": null,
   "id": "cebb85fc-0a1b-4910-b8ef-6006b7157dd3",
   "metadata": {},
   "outputs": [],
   "source": [
    "interpreter.elements_by_id = lpg.elements_by_id\n",
    "interpreter.selected = tree.selected"
   ]
  },
  {
   "cell_type": "code",
   "execution_count": null,
   "id": "1f307cdd-0031-4003-bdca-7962b5661b26",
   "metadata": {},
   "outputs": [],
   "source": [
    "lpg.toolb"
   ]
  },
  {
   "cell_type": "code",
   "execution_count": null,
   "id": "7e302c6c-05b8-4cd6-8d39-add1333e55ad",
   "metadata": {},
   "outputs": [],
   "source": [
    "%debug"
   ]
  },
  {
   "cell_type": "markdown",
   "id": "2db2f9fa",
   "metadata": {},
   "source": [
    "2. load a small model"
   ]
  },
  {
   "cell_type": "code",
   "execution_count": null,
   "id": "ee379a8e-f844-460e-bde7-5e4fad6c4bd4",
   "metadata": {},
   "outputs": [],
   "source": [
    "kerbal_project = [name for name in client.project_selector.options if name.startswith(\"Kerbal\")]\n",
    "if kerbal_project:\n",
    "    client.project_selector.value = client.project_selector.options[kerbal_project[-1]]\n",
    "    client._download_elements()"
   ]
  },
  {
   "cell_type": "code",
   "execution_count": null,
   "id": "a703ed47-d4ed-41f8-b62d-20ad24414efb",
   "metadata": {},
   "outputs": [],
   "source": [
    "len(interpreter.instances)"
   ]
  },
  {
   "cell_type": "markdown",
   "id": "cd6aad75-6266-447c-861b-474f84010ad4",
   "metadata": {},
   "source": [
    "# Add all implied edges"
   ]
  },
  {
   "cell_type": "code",
   "execution_count": null,
   "id": "c5597284-ffaf-4b5e-a0e2-e374df609720",
   "metadata": {},
   "outputs": [],
   "source": [
    "%debug"
   ]
  },
  {
   "cell_type": "code",
   "execution_count": null,
   "id": "10ce0f16-d420-4caf-86c8-f7f2a66aa725",
   "metadata": {},
   "outputs": [],
   "source": [
    "from pymbe.interpretation.calc_dependencies import *\n",
    "from pymbe.interpretation.interp_playbooks import random_generator_playbook\n",
    "\n",
    "instances = random_generator_playbook(lpg)\n",
    "pairs = generate_execution_order(lpg=lpg, instance_dict=instances)"
   ]
  },
  {
   "cell_type": "code",
   "execution_count": null,
   "id": "c401417e-d9a5-47a4-988c-1397a1bfb7d4",
   "metadata": {},
   "outputs": [],
   "source": [
    "from pymbe.graph.calc_lpg import *\n",
    "\n",
    "group = CalculationGroup(lpg.get_projection(\"Expression Inferred Graph\"), instances, pairs)"
   ]
  },
  {
   "cell_type": "code",
   "execution_count": null,
   "id": "18e8d176-d95a-49bf-9975-4b107410e51a",
   "metadata": {},
   "outputs": [],
   "source": [
    "group.solve_graph(lpg)"
   ]
  },
  {
   "cell_type": "code",
   "execution_count": null,
   "id": "28ef2d72-774c-4780-84e7-67110a02920c",
   "metadata": {},
   "outputs": [],
   "source": [
    "instances[\"1e5a0ed7-8b41-4ab4-a433-8f7eedd75833\"]"
   ]
  },
  {
   "cell_type": "code",
   "execution_count": null,
   "id": "b2cccba6-c112-4596-864a-39efef467798",
   "metadata": {},
   "outputs": [],
   "source": [
    "lpg.elements_by_id = {**lpg.elements_by_id, **lpg.get_implied_elements()}"
   ]
  },
  {
   "cell_type": "markdown",
   "id": "52cbcb0f",
   "metadata": {},
   "source": [
    "...or you can directly adapt the graph and invert edges"
   ]
  },
  {
   "cell_type": "code",
   "execution_count": null,
   "id": "652c26e9-3be2-44ce-a149-572d99fb3316",
   "metadata": {},
   "outputs": [],
   "source": [
    "import data_loader"
   ]
  },
  {
   "cell_type": "code",
   "execution_count": null,
   "id": "f7c8da82-279f-442e-bc61-ee15cc7c4aaa",
   "metadata": {},
   "outputs": [],
   "source": [
    "from pymbe.client import SysML2Client\n",
    "from pathlib import Path\n",
    "\n",
    "\n",
    "def kerbal_model_loaded_client() -> SysML2Client:\n",
    "    helper_client = SysML2Client()\n",
    "    helper_client._load_from_file(Path(data_loader.__file__).parent / \"data\" / \"Kerbal\" / \"elements.json\")\n",
    "    return helper_client\n",
    "\n",
    "model = kerbal_model_loaded_client()"
   ]
  },
  {
   "cell_type": "code",
   "execution_count": null,
   "id": "f2b7b025-c5ad-4dea-ae51-bbb9dfe56b44",
   "metadata": {},
   "outputs": [],
   "source": [
    "model"
   ]
  },
  {
   "cell_type": "code",
   "execution_count": null,
   "id": "3250ea7d-18d2-4c54-869d-651fc4d10c98",
   "metadata": {},
   "outputs": [],
   "source": [
    "os.listdir()"
   ]
  },
  {
   "cell_type": "code",
   "execution_count": null,
   "id": "06312528-6a16-4db1-8138-b0051d8447c4",
   "metadata": {},
   "outputs": [],
   "source": [
    "from tests.interpretation.test_playbook_phases import *"
   ]
  },
  {
   "cell_type": "code",
   "execution_count": null,
   "id": "8798802a-9872-451d-9f4e-a379c7f2a3b3",
   "metadata": {},
   "outputs": [],
   "source": [
    "import os\n",
    "\n",
    "os.chdir(\"tests/\")"
   ]
  },
  {
   "cell_type": "code",
   "execution_count": null,
   "id": "69b1f0aa-c172-4187-9aca-19c6c930b164",
   "metadata": {},
   "outputs": [],
   "source": [
    "from interpretation.test_playbook_phases import kerbal_client\n",
    "\n",
    "test_client = kerbal_client()"
   ]
  },
  {
   "cell_type": "code",
   "execution_count": null,
   "id": "a8ac600b-dcf6-48c9-82d9-580a6783e4bf",
   "metadata": {},
   "outputs": [],
   "source": [
    "client.elements_by_type"
   ]
  },
  {
   "cell_type": "markdown",
   "id": "101f1f71-d3ee-4f3b-97d5-bee98e8732a0",
   "metadata": {},
   "source": [
    "# Add RDF Capabilities with `ipyradiant`"
   ]
  },
  {
   "cell_type": "code",
   "execution_count": null,
   "id": "20d887ff-1aa0-43d7-86ee-10fcb7c99708",
   "metadata": {},
   "outputs": [],
   "source": [
    "import traitlets as trt\n",
    "from ipyradiant.visualization import CytoscapeViewer, InteractiveViewer\n",
    "from pymbe.graph.rdf import SysML2RDFGraph"
   ]
  },
  {
   "cell_type": "code",
   "execution_count": null,
   "id": "611e1bdb-97a9-482f-b8f9-6b778d742d3d",
   "metadata": {},
   "outputs": [],
   "source": [
    "rdf = SysML2RDFGraph()\n",
    "trt.link((lpg, \"elements_by_id\"), (rdf, \"elements_by_id\"))"
   ]
  },
  {
   "cell_type": "code",
   "execution_count": null,
   "id": "63587afe-21fa-40db-96bb-ccf641ba6a90",
   "metadata": {},
   "outputs": [],
   "source": [
    "rdf.graph.namespace_manager.bind(\"purl\", 'http://purl.org/dc/terms/identifier')"
   ]
  },
  {
   "cell_type": "code",
   "execution_count": null,
   "id": "4b664981-244a-4263-98e1-266bbb676fc3",
   "metadata": {},
   "outputs": [],
   "source": [
    "InteractiveViewer(rdf_graph=rdf.graph)"
   ]
  },
  {
   "cell_type": "code",
   "execution_count": null,
   "id": "d2cd65f2-ef10-4ad7-9a98-32a59829ce7f",
   "metadata": {},
   "outputs": [],
   "source": [
    "from rdflib import Graph\n",
    "\n",
    "g = Graph()\n",
    "triples = list(rdf.graph.triples([None, None, None]))[1000:]\n",
    "g.addN([[*triples, \"SysMLv2\"] for triple in triples])"
   ]
  },
  {
   "cell_type": "code",
   "execution_count": null,
   "id": "c93815f6-242a-462a-8605-49c18bb51fd5",
   "metadata": {},
   "outputs": [],
   "source": [
    "%debug"
   ]
  },
  {
   "cell_type": "code",
   "execution_count": null,
   "id": "796f8fe6-4b3c-41bb-bab5-f4d3aea44c95",
   "metadata": {},
   "outputs": [],
   "source": [
    "import ipywidgets as ipyw\n",
    "\n",
    "file_uploader = ipyw.FileUpload(\n",
    "    accept='*.json',  # Accepted file extension e.g. '.txt', '.pdf', 'image/*', 'image/*,.pdf'\n",
    "    multiple=False,   # True to accept multiple files upload else False\n",
    ")\n",
    "file_uploader"
   ]
  },
  {
   "cell_type": "code",
   "execution_count": null,
   "id": "33bceaaf-4c05-49a9-ab1e-f843f3bc596a",
   "metadata": {},
   "outputs": [],
   "source": [
    "import requests\n",
    "\n",
    "resp = requests.get(client.elements_url)\n"
   ]
  },
  {
   "cell_type": "code",
   "execution_count": null,
   "id": "937e52a7-6489-47e2-983b-69b468267047",
   "metadata": {},
   "outputs": [],
   "source": [
    "import json\n",
    "from pathlib import Path\n",
    "\n",
    "projects = {\n",
    "    name.split(\" (2021\")[0]: project_id\n",
    "    for name, project_id in client.project_selector.options.items()\n",
    "}\n",
    "projects\n",
    "\n",
    "\n",
    "for name, project_id in projects.items():\n",
    "    try:\n",
    "        client.selected_project = project_id\n",
    "        data = client._get_elements_from_server()\n",
    "        with Path(f\"{name}.json\") as f:\n",
    "            f.write_text(json.dumps(data))\n",
    "        print(f\"Downloaded {name}, commit: {client.selected_commit}\")\n",
    "    except:\n",
    "        print(f\"Failed to download: {name}...\")"
   ]
  },
  {
   "cell_type": "code",
   "execution_count": null,
   "id": "dc89fe28-cdcb-4a8e-8fb9-dcf512e1bcd9",
   "metadata": {},
   "outputs": [],
   "source": [
    "for id_, el in rdf.elements_by_id.items():\n",
    "    context = el.get(\"@context\")\n",
    "    if context:\n",
    "        print(f\"{id_}: has context ({context})\")\n",
    "    else:\n",
    "        print(f\"{id_} has no context\")"
   ]
  },
  {
   "cell_type": "markdown",
   "id": "a1061c68",
   "metadata": {},
   "source": [
    "# Interpretation\n",
    "\n",
    "> This is where we are refactoring the $M_0$ interpretation..."
   ]
  },
  {
   "cell_type": "code",
   "execution_count": null,
   "id": "047730fd-28c5-460f-9863-7ad817a24641",
   "metadata": {},
   "outputs": [],
   "source": [
    "lpg.sysml_projections[\"Complete\"][\"description\"]"
   ]
  },
  {
   "cell_type": "code",
   "execution_count": null,
   "id": "c5fb1f1e",
   "metadata": {},
   "outputs": [],
   "source": [
    "def safe_get(data: dict, *keys, default=None):\n",
    "    for key in keys:\n",
    "        if key not in data:\n",
    "            return default\n",
    "        data = data[key]\n",
    "    return data\n",
    "\n",
    "safe_get(lpg.elements_by_id, \"cb4386fe-67d9-4743-995f-5d4a4162e26e\", \"owner\", \"@id\")"
   ]
  },
  {
   "cell_type": "code",
   "execution_count": null,
   "id": "bde9737a",
   "metadata": {},
   "outputs": [],
   "source": [
    "UNSPECIFIED = object()\n",
    "\n",
    "class SafeDict(dict):\n",
    "\n",
    "    def __init__(self, *args, default=None, **kwargs):\n",
    "        self.__default__ = default or {}\n",
    "        super().__init__(*args, **kwargs)\n",
    "        for key, value in self.items():\n",
    "            self[key] = SafeDict.__convert(value)\n",
    "\n",
    "    def __setitem__(self, k, v):\n",
    "        dict.__setitem__(self, k, SafeDict.__convert(v))\n",
    "\n",
    "    def get(self, item, default=None):\n",
    "        return super().get(item, default) or self.__default__\n",
    "\n",
    "    @staticmethod\n",
    "    def __convert(o):\n",
    "        \"\"\"\n",
    "        Recursively convert `dict` objects in `dict`, `list`, `set`, and\n",
    "        `tuple` objects to `attrdict` objects.\n",
    "        \"\"\"\n",
    "        if isinstance(o, dict):\n",
    "            o = SafeDict(o)\n",
    "        elif isinstance(o, list):\n",
    "            o = list(SafeDict.__convert(v) for v in o)\n",
    "        elif isinstance(o, set):\n",
    "            o = set(SafeDict.__convert(v) for v in o)\n",
    "        elif isinstance(o, tuple):\n",
    "            o = tuple(SafeDict.__convert(v) for v in o)\n",
    "        return o\n",
    "\n",
    "\n",
    "a = SafeDict(dict(agh=1, bum=2, bar=3, baz=dict(bar=2,baz=dict(bar=3,baz=4))))\n",
    "a[\"as\"] = \"if\"\n",
    "a.get(\"as\"), type(a.get(\"baz\")), a.get(\"baz\")"
   ]
  },
  {
   "cell_type": "code",
   "execution_count": null,
   "id": "75203978",
   "metadata": {
    "tags": []
   },
   "outputs": [],
   "source": [
    "from pymbe.interpretation import *\n",
    "\n",
    "def roll_up_upper_multiplicities(lpg):\n",
    "    banded_featuring_graph = make_banded_featuring_graph(lpg)\n",
    "\n",
    "    banded_roots = [\n",
    "        banded_featuring_graph.nodes[node]\n",
    "        for node in banded_featuring_graph\n",
    "        if banded_featuring_graph.out_degree(node) == 0\n",
    "    ]\n",
    "    \n",
    "    for part_usage in \n",
    "\n",
    "elements = lpg.elements_by_id\n",
    "\n",
    "features = [\n",
    "    id_\n",
    "    for id_, data in elements.items()\n",
    "    if data[\"@type\"] == \"Feature\"\n",
    "]\n",
    "\n",
    "for feature in features:\n",
    "    upper_multiplicity = get_feature_upper_multiplicity(elements, feature)\n",
    "    if upper_multiplicity:\n",
    "        print(elements[feature][\"qualifiedName\"], upper_multiplicity)"
   ]
  },
  {
   "cell_type": "markdown",
   "id": "fb413585",
   "metadata": {},
   "source": [
    "# Troubleshooting"
   ]
  },
  {
   "cell_type": "markdown",
   "id": "ec1c77ba",
   "metadata": {},
   "source": [
    "## Fix linking issue with diagram element selector"
   ]
  },
  {
   "cell_type": "code",
   "execution_count": null,
   "id": "e676e9d0",
   "metadata": {},
   "outputs": [],
   "source": [
    "self = lpg.diagram\n",
    "\n",
    "lpg.selected, self.selected, self.elk_app.diagram.selected"
   ]
  },
  {
   "cell_type": "code",
   "execution_count": null,
   "id": "c6ce680a",
   "metadata": {},
   "outputs": [],
   "source": [
    "self.id_mapper.get(*self.elk_app.diagram.selected)"
   ]
  },
  {
   "cell_type": "code",
   "execution_count": null,
   "id": "c4c3386f",
   "metadata": {},
   "outputs": [],
   "source": [
    "self._make_id_mapper()"
   ]
  },
  {
   "cell_type": "code",
   "execution_count": null,
   "id": "77ef2a4a",
   "metadata": {},
   "outputs": [],
   "source": [
    "self = lpg\n",
    "\n",
    "self._update_diagram_graph(button=self.filter_to_path)"
   ]
  },
  {
   "cell_type": "code",
   "execution_count": null,
   "id": "1a2d587c",
   "metadata": {},
   "outputs": [],
   "source": [
    "directed = self.path_directionality.value\n",
    "new_graph = self._get_subgraph(\n",
    "            excluded_edge_types=self.excluded_edge_types,\n",
    "            excluded_node_types=self.excluded_node_types,\n",
    "            reversed_edge_types=self.edge_type_reverser.value,\n",
    "        )\n",
    "\n",
    "source, target = self.selected\n",
    "new_graph = self.get_path_graph(\n",
    "    graph=new_graph,\n",
    "    source=source,\n",
    "    target=target,\n",
    "    directed=directed,\n",
    ")\n",
    "len(new_graph)"
   ]
  },
  {
   "cell_type": "code",
   "execution_count": null,
   "id": "01f7053e",
   "metadata": {},
   "outputs": [],
   "source": [
    "self.diagram.graph = new_graph"
   ]
  },
  {
   "cell_type": "code",
   "execution_count": null,
   "id": "fa72a559",
   "metadata": {},
   "outputs": [],
   "source": [
    "import traitlets as trt\n",
    "\n",
    "\n",
    "self.diagram._update_diagram(trt.Bunch(old=None))"
   ]
  },
  {
   "cell_type": "code",
   "execution_count": null,
   "id": "c80fc487",
   "metadata": {},
   "outputs": [],
   "source": [
    "len(self.diagram.compound(self.diagram.container)[0])"
   ]
  },
  {
   "cell_type": "code",
   "execution_count": null,
   "id": "52be99a6",
   "metadata": {},
   "outputs": [],
   "source": [
    "from dataclasses import dataclass, field\n",
    "\n",
    "@dataclass\n",
    "class Mapper:\n",
    "    to_map: dict = field(repr=False)\n",
    "    from_map: dict = field(default=None, repr=False)\n",
    "\n",
    "    def __repr__(self):\n",
    "        return f\"Mapper({len(self.to_map)} Items)\"\n",
    "\n",
    "    def __post_init__(self, *args, **kwargs):\n",
    "        self.from_map = {v: k for k, v in self.to_map.items()}\n",
    "\n",
    "    def get(self, *items):\n",
    "        found = [\n",
    "            self.to_map.get(item, self.from_map.get(item))\n",
    "            for item in items\n",
    "        ]\n",
    "        return [\n",
    "            item\n",
    "            for item in found\n",
    "            if item is not None\n",
    "        ]\n",
    "    \n",
    "    def __len__(self):\n",
    "        return len(self.to_map)\n",
    "\n",
    "if Mapper({}):\n",
    "    print(\"ahh\")"
   ]
  },
  {
   "cell_type": "code",
   "execution_count": null,
   "id": "365c822c",
   "metadata": {},
   "outputs": [],
   "source": []
  },
  {
   "cell_type": "markdown",
   "id": "b3f85347",
   "metadata": {},
   "source": [
    "---------------------"
   ]
  },
  {
   "cell_type": "code",
   "execution_count": null,
   "id": "40555d37",
   "metadata": {},
   "outputs": [],
   "source": [
    "self = lpg.diagram\n",
    "import networkx as nx\n",
    "\n",
    "_, hierarchy = self.elk_app.transformer.source\n",
    "\n",
    "try:\n",
    "    item = lpg.diagram.elk_app.selected[0]\n",
    "    res = next(hierarchy.predecessors(item)).node\n",
    "except nx.NetworkXError:\n",
    "    res = item.data.get(\"properties\", {}).get(\"@id\")\n",
    "\n",
    "res.id, res.data[\"@id\"]"
   ]
  },
  {
   "cell_type": "code",
   "execution_count": null,
   "id": "2f261d5b",
   "metadata": {},
   "outputs": [],
   "source": [
    "tree.selected, explorer.selected, lpg.selected"
   ]
  },
  {
   "cell_type": "code",
   "execution_count": null,
   "id": "4da55b41",
   "metadata": {},
   "outputs": [],
   "source": [
    "lpg.diagram.elk_app.diagram.selected"
   ]
  },
  {
   "cell_type": "code",
   "execution_count": null,
   "id": "544aa0cb",
   "metadata": {},
   "outputs": [],
   "source": [
    "lpg.selected"
   ]
  },
  {
   "cell_type": "code",
   "execution_count": null,
   "id": "7e1d03dd",
   "metadata": {
    "tags": []
   },
   "outputs": [],
   "source": [
    "self = lpg.diagram\n",
    "\n",
    "_, hierarchy = self.elk_transformer.source\n",
    "\n",
    "self.parts[self.selected[0]], self.elk_app.selected[0]\n",
    "\n",
    "for selected_id in self.selected:\n",
    "    node_selected = self.parts.get(selected_id)\n",
    "    print(node_selected.id)"
   ]
  },
  {
   "cell_type": "code",
   "execution_count": null,
   "id": "f4f68e4d",
   "metadata": {},
   "outputs": [],
   "source": [
    "node_selected.children[0] == self.elk_app.selected[0].node"
   ]
  },
  {
   "cell_type": "markdown",
   "id": "a9bdefa8",
   "metadata": {},
   "source": [
    "---------------"
   ]
  },
  {
   "cell_type": "code",
   "execution_count": null,
   "id": "1b951ab2",
   "metadata": {},
   "outputs": [],
   "source": [
    "from dataclasses import dataclass, field\n",
    "\n",
    "\n",
    "@dataclass\n",
    "class Mapper:\n",
    "    to_map: dict = field(repr=False)\n",
    "    from_map: dict = field(default=None, repr=False)\n",
    "        \n",
    "    def __repr__(self):\n",
    "        return f\"Mapper({len(self.to_map)} Items)\"\n",
    "\n",
    "    def __post_init__(self, *args, **kwargs):\n",
    "        self.from_map = {v: k for k, v in self.to_map.items()}\n",
    "\n",
    "    def get(self, *items):\n",
    "        found = [\n",
    "            self.to_map.get(item, self.from_map.get(item))\n",
    "            for item in items\n",
    "        ]\n",
    "        if len(found) < 2:\n",
    "            found = found[0]\n",
    "        return found\n",
    "\n",
    "mapper = Mapper(from_elk_id)\n",
    "\n",
    "mapper.get(*self.elk_app.diagram.selected)"
   ]
  },
  {
   "cell_type": "code",
   "execution_count": null,
   "id": "5e4838af",
   "metadata": {},
   "outputs": [],
   "source": [
    "a = {1,2,}\n",
    "a.symmetric_difference"
   ]
  },
  {
   "cell_type": "code",
   "execution_count": null,
   "id": "2718dd52",
   "metadata": {},
   "outputs": [],
   "source": [
    "self = lpg.diagram"
   ]
  },
  {
   "cell_type": "code",
   "execution_count": null,
   "id": "1fee9f6c",
   "metadata": {},
   "outputs": [],
   "source": [
    "relationships, hierarchy = self.elk_app.transformer.source"
   ]
  },
  {
   "cell_type": "code",
   "execution_count": null,
   "id": "260bc20a",
   "metadata": {},
   "outputs": [],
   "source": [
    "transformer = self.elk_app.transformer\n",
    "relationships, hierarchy = transformer.source\n",
    "\n",
    "import ipyelk\n",
    "from ipyelk.contrib.elements import (\n",
    "    Compartment,\n",
    ")\n",
    "\n",
    "def id_from_item(item):\n",
    "    id_ = None\n",
    "    if isinstance(item, ipyelk.transform.Edge):\n",
    "        id_ = item.data.get(\"properties\", {}).get(\"@id\")\n",
    "    elif isinstance(getattr(item, \"node\", None), Compartment):\n",
    "        id_ = next(hierarchy.predecessors(item)).node.id\n",
    "    if id_ is None:\n",
    "        self.log.debug(f\"Could not parse: {item}\")\n",
    "    return id_\n",
    "\n",
    "from_elk_id = {\n",
    "    elk_id: id_from_item(elk_item)\n",
    "    for elk_id, elk_item in transformer._elk_to_item.items()\n",
    "}\n",
    "\n",
    "from_elk_id = {\n",
    "    elk_id: sysml_id\n",
    "    for elk_id, sysml_id in from_elk_id.items()\n",
    "    if sysml_id is not None\n",
    "}\n",
    "found_ids = set(from_elk_id.values())\n",
    "\n",
    "for extra in set(lpg.elements_by_id).symmetric_difference(found_ids):\n",
    "    print(lpg.elements_by_id[extra])\n",
    "\n",
    "\n"
   ]
  },
  {
   "cell_type": "code",
   "execution_count": null,
   "id": "dcf4aad5",
   "metadata": {},
   "outputs": [],
   "source": [
    "transformer.from_id(\"61bd9433-3eec-47f7-af7e-3bf71f19071b\").node"
   ]
  },
  {
   "cell_type": "code",
   "execution_count": null,
   "id": "17e8af30",
   "metadata": {},
   "outputs": [],
   "source": [
    "missing = [elk_id for elk_id, our_id in from_elk_id.items() if our_id is None]\n",
    "lpg.diagram.elk_app.diagram.selected = missing"
   ]
  },
  {
   "cell_type": "code",
   "execution_count": null,
   "id": "e1629d4c",
   "metadata": {},
   "outputs": [],
   "source": [
    "from_elk_id"
   ]
  },
  {
   "cell_type": "markdown",
   "id": "6e6ef285",
   "metadata": {},
   "source": [
    "# Scratch Pad\n",
    "> **WARNING**: Anything below this point is just for experimentation purposes"
   ]
  },
  {
   "cell_type": "markdown",
   "id": "6a6264e4",
   "metadata": {},
   "source": [
    "## RDF Experiments"
   ]
  },
  {
   "cell_type": "code",
   "execution_count": null,
   "id": "15b6228a",
   "metadata": {},
   "outputs": [],
   "source": [
    "def process_edge(source, target, edge_type, data=None):\n",
    "    if edge_type in (\"FeatureTyping\", \"FeatureMembership\"):\n",
    "        source, target = target, source\n",
    "    return [source, target, data]\n",
    "\n",
    "graph = nx.DiGraph()\n",
    "graph.add_edges_from([\n",
    "    process_edge(source, target, edge_type, data)\n",
    "    for (source, target, edge_type), data in dict(client.lpg.graph.edges).items()\n",
    "    if edge_type in (\"Superclassing\", \"FeatureTyping\", \"FeatureMembership\")\n",
    "])\n",
    "graph"
   ]
  },
  {
   "cell_type": "code",
   "execution_count": null,
   "id": "51ecb619",
   "metadata": {},
   "outputs": [],
   "source": [
    "diagram.graph = graph"
   ]
  },
  {
   "cell_type": "code",
   "execution_count": null,
   "id": "9890d4be",
   "metadata": {},
   "outputs": [],
   "source": [
    "diagram = client.lpg.make_diagram(\n",
    "    graph=client.lpg.subgraph(edge_types=(\"Superclassing\", \"FeatureTyping^-1\", \"FeatureMembership^-1\"))\n",
    ")\n",
    "elk_app, *_ = diagram.children\n",
    "diagram"
   ]
  },
  {
   "cell_type": "code",
   "execution_count": null,
   "id": "3e4e6712",
   "metadata": {},
   "outputs": [],
   "source": [
    "# Select the root node in the diagram...\n",
    "# ... or you can manually select one yourself\n",
    "elk_app.selected = \"5260380b-6fda-43cc-993f-5df58868edbb\","
   ]
  },
  {
   "cell_type": "code",
   "execution_count": null,
   "id": "316bb6ec",
   "metadata": {
    "tags": []
   },
   "outputs": [],
   "source": [
    "first_element_selected, *_ = elk_app.selected\n",
    "client.elements_by_id[first_element_selected]"
   ]
  },
  {
   "cell_type": "markdown",
   "id": "f0336664",
   "metadata": {},
   "source": [
    "# Parse JSON-LD into RDF"
   ]
  },
  {
   "cell_type": "code",
   "execution_count": null,
   "id": "edc2e147",
   "metadata": {},
   "outputs": [],
   "source": [
    "import rdflib\n",
    "from rdflib.extras.external_graph_libs import rdflib_to_networkx_multidigraph\n",
    "import networkx as nx\n",
    "import matplotlib.pyplot as plt\n",
    "\n",
    "result = client.rdf.graph\n",
    "# result = g.parse(url, format='turtle')\n",
    "\n",
    "G = rdflib_to_networkx_multidigraph(result)\n",
    "\n",
    "# Plot Networkx instance of RDF Graph\n",
    "pos = nx.spring_layout(G, scale=2)\n",
    "edge_labels = nx.get_edge_attributes(G, 'r')"
   ]
  },
  {
   "cell_type": "code",
   "execution_count": null,
   "id": "c71f193d",
   "metadata": {},
   "outputs": [],
   "source": [
    "ax = plt.figure(figsize=(50,30)).gca();\n",
    "nx.draw_networkx_edge_labels(G, pos, edge_labels=edge_labels, ax=ax)\n",
    "nx.draw(G, with_labels=True, ax=ax)"
   ]
  },
  {
   "cell_type": "markdown",
   "id": "c057b5bf",
   "metadata": {},
   "source": [
    "# TODOs\n",
    "1. Finish fleshing out the process in the `Kerbal Model.ipynb`\n",
    "2. Modify the subgraph generator so it can take the value from the `Type Selector` directly\n",
    "3. Improve the ipyelk diagram widget (may need to make improvements to `ipyelk`)\n",
    "   * Add arrows\n",
    "   * Add compartments\n",
    "   * Fix layout\n",
    "   * Add widget to see node details\n",
    "4. Finalize the RDF formulation"
   ]
  }
 ],
 "metadata": {
  "kernelspec": {
   "display_name": "Python 3",
   "language": "python",
   "name": "python3"
  },
  "language_info": {
   "codemirror_mode": {
    "name": "ipython",
    "version": 3
   },
   "file_extension": ".py",
   "mimetype": "text/x-python",
   "name": "python",
   "nbconvert_exporter": "python",
   "pygments_lexer": "ipython3",
   "version": "3.9.4"
  }
 },
 "nbformat": 4,
 "nbformat_minor": 5
}
