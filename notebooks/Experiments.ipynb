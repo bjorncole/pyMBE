{
 "cells": [
  {
   "cell_type": "markdown",
   "id": "446d8b69",
   "metadata": {},
   "source": [
    "# Tutorial & Widget Experiments\n",
    "\n",
    "> This notebook is primarily being used to experiment with how to use the `pymbe` widgets.\n",
    ">\n",
    "> It should be fairly \"clean\" until the `Scratch Pad` section.\n",
    ">\n",
    "\n",
    "In the future, this notebook will be cleaned up and renamed \"Tutorial\"."
   ]
  },
  {
   "cell_type": "markdown",
   "id": "d2ce72a7",
   "metadata": {},
   "source": [
    "## 1. Import `pymbe` and create a new user interface"
   ]
  },
  {
   "cell_type": "code",
   "execution_count": 1,
   "id": "5a5efd3f",
   "metadata": {},
   "outputs": [],
   "source": [
    "import pymbe.api as pm"
   ]
  },
  {
   "cell_type": "code",
   "execution_count": 2,
   "id": "d62f344d",
   "metadata": {
    "tags": []
   },
   "outputs": [
    {
     "data": {
      "application/vnd.jupyter.widget-view+json": {
       "model_id": "600b031c8c634e3cb9c5fe7bdec4908f",
       "version_major": 2,
       "version_minor": 0
      },
      "text/plain": [
       "DockPop(children=(UI(children=(SysML2ClientWidget(children=(Text(value='http://sysml2-sst.intercax.com', descr…"
      ]
     },
     "metadata": {},
     "output_type": "display_data"
    }
   ],
   "source": [
    "pm.UI.new(host_url=\"http://sysml2-sst.intercax.com\")"
   ]
  },
  {
   "cell_type": "markdown",
   "id": "4925c114",
   "metadata": {},
   "source": [
    "## 2. Use the widget\n",
    "...or automatically load the `Kerbal` model using the cell below by:"
   ]
  },
  {
   "cell_type": "markdown",
   "id": "d639ecdd",
   "metadata": {},
   "source": [
    "1. Grabbing the individual widgets"
   ]
  },
  {
   "cell_type": "code",
   "execution_count": 3,
   "id": "aca3e6f0",
   "metadata": {
    "tags": []
   },
   "outputs": [],
   "source": [
    "ui, *_ = _.children\n",
    "client, tree, inspector, lpg = ui.children"
   ]
  },
  {
   "cell_type": "markdown",
   "id": "035f4c83",
   "metadata": {},
   "source": [
    "2. load a small model"
   ]
  },
  {
   "cell_type": "code",
   "execution_count": 4,
   "id": "1e4a8230",
   "metadata": {},
   "outputs": [],
   "source": [
    "client.project_selector.value = client.project_selector.options[\"12b-Allocation\"]\n",
    "client._download_elements()"
   ]
  },
  {
   "cell_type": "markdown",
   "id": "dd8c7993",
   "metadata": {},
   "source": [
    "...and, for example, select some edge types to filter down the diagram"
   ]
  },
  {
   "cell_type": "code",
   "execution_count": null,
   "id": "5f2b0df0",
   "metadata": {
    "tags": []
   },
   "outputs": [],
   "source": [
    "EDGE_TYPES_TO_SELECT =  (\"Superclassing\", \"FeatureTyping\", \"FeatureMembership\")\n",
    "lpg.edge_type_selector.value = [\n",
    "    edges\n",
    "    for key, edges in lpg.edge_type_selector.options.items()\n",
    "    if any(\n",
    "        key.startswith(edge_type)\n",
    "        for edge_type in EDGE_TYPES_TO_SELECT\n",
    "    )\n",
    "]\n",
    "lpg._update_diagram_graph()"
   ]
  },
  {
   "cell_type": "markdown",
   "id": "9fb946fe",
   "metadata": {},
   "source": [
    "# Interpretation\n",
    "\n",
    "> This is where we are refactoring the $M_0$ interpretation..."
   ]
  },
  {
   "cell_type": "code",
   "execution_count": null,
   "id": "3a0f539c",
   "metadata": {},
   "outputs": [],
   "source": [
    "def safe_get(data: dict, *keys, default=None):\n",
    "    for key in keys:\n",
    "        if key not in data:\n",
    "            return default\n",
    "        data = data[key]\n",
    "    return data\n",
    "\n",
    "safe_get(lpg.elements_by_id, \"cb4386fe-67d9-4743-995f-5d4a4162e26e\", \"owner\", \"@id\")"
   ]
  },
  {
   "cell_type": "code",
   "execution_count": null,
   "id": "da34f3b5",
   "metadata": {},
   "outputs": [],
   "source": [
    "UNSPECIFIED = object()\n",
    "\n",
    "class SafeDict(dict):\n",
    "\n",
    "    def __init__(self, *args, default=None, **kwargs):\n",
    "        self.__default__ = default or {}\n",
    "        super().__init__(*args, **kwargs)\n",
    "        for key, value in self.items():\n",
    "            self[key] = SafeDict.__convert(value)\n",
    "\n",
    "    def __setitem__(self, k, v):\n",
    "        dict.__setitem__(self, k, SafeDict.__convert(v))\n",
    "\n",
    "    def get(self, item, default=None):\n",
    "        return super().get(item, default) or self.__default__\n",
    "\n",
    "    @staticmethod\n",
    "    def __convert(o):\n",
    "        \"\"\"\n",
    "        Recursively convert `dict` objects in `dict`, `list`, `set`, and\n",
    "        `tuple` objects to `attrdict` objects.\n",
    "        \"\"\"\n",
    "        if isinstance(o, dict):\n",
    "            o = SafeDict(o)\n",
    "        elif isinstance(o, list):\n",
    "            o = list(SafeDict.__convert(v) for v in o)\n",
    "        elif isinstance(o, set):\n",
    "            o = set(SafeDict.__convert(v) for v in o)\n",
    "        elif isinstance(o, tuple):\n",
    "            o = tuple(SafeDict.__convert(v) for v in o)\n",
    "        return o\n",
    "\n",
    "\n",
    "a = SafeDict(dict(agh=1, bum=2, bar=3, baz=dict(bar=2,baz=dict(bar=3,baz=4))))\n",
    "a[\"as\"] = \"if\"\n",
    "a.get(\"as\"), type(a.get(\"baz\")), a.get(\"baz\")"
   ]
  },
  {
   "cell_type": "code",
   "execution_count": null,
   "id": "ca53bb8e",
   "metadata": {
    "tags": []
   },
   "outputs": [],
   "source": [
    "from pymbe.interpretation import *\n",
    "\n",
    "def roll_up_upper_multiplicities(lpg):\n",
    "    banded_featuring_graph = make_banded_featuring_graph(lpg)\n",
    "\n",
    "    banded_roots = [\n",
    "        banded_featuring_graph.nodes[node]\n",
    "        for node in banded_featuring_graph\n",
    "        if banded_featuring_graph.out_degree(node) == 0\n",
    "    ]\n",
    "    \n",
    "    for part_usage in \n",
    "\n",
    "elements = lpg.elements_by_id\n",
    "\n",
    "features = [\n",
    "    id_\n",
    "    for id_, data in elements.items()\n",
    "    if data[\"@type\"] == \"Feature\"\n",
    "]\n",
    "\n",
    "for feature in features:\n",
    "    upper_multiplicity = get_feature_upper_multiplicity(elements, feature)\n",
    "    if upper_multiplicity:\n",
    "        print(elements[feature][\"qualifiedName\"], upper_multiplicity)"
   ]
  },
  {
   "cell_type": "markdown",
   "id": "6e88eaa1",
   "metadata": {},
   "source": [
    "# Troubleshooting"
   ]
  },
  {
   "cell_type": "markdown",
   "id": "1b394ffc",
   "metadata": {},
   "source": [
    "## Fix linking issue with diagram element selector"
   ]
  },
  {
   "cell_type": "code",
   "execution_count": 4,
   "id": "51cd6c7c",
   "metadata": {},
   "outputs": [
    {
     "ename": "IndexError",
     "evalue": "tuple index out of range",
     "output_type": "error",
     "traceback": [
      "\u001b[1;31m---------------------------------------------------------------------------\u001b[0m",
      "\u001b[1;31mIndexError\u001b[0m                                Traceback (most recent call last)",
      "\u001b[1;32m<ipython-input-4-d08df2b3a08b>\u001b[0m in \u001b[0;36m<module>\u001b[1;34m\u001b[0m\n\u001b[0;32m      5\u001b[0m \u001b[1;33m\u001b[0m\u001b[0m\n\u001b[0;32m      6\u001b[0m \u001b[1;32mtry\u001b[0m\u001b[1;33m:\u001b[0m\u001b[1;33m\u001b[0m\u001b[1;33m\u001b[0m\u001b[0m\n\u001b[1;32m----> 7\u001b[1;33m     \u001b[0mitem\u001b[0m \u001b[1;33m=\u001b[0m \u001b[0mlpg\u001b[0m\u001b[1;33m.\u001b[0m\u001b[0mdiagram\u001b[0m\u001b[1;33m.\u001b[0m\u001b[0melk_app\u001b[0m\u001b[1;33m.\u001b[0m\u001b[0mselected\u001b[0m\u001b[1;33m[\u001b[0m\u001b[1;36m0\u001b[0m\u001b[1;33m]\u001b[0m\u001b[1;33m\u001b[0m\u001b[1;33m\u001b[0m\u001b[0m\n\u001b[0m\u001b[0;32m      8\u001b[0m     \u001b[0mres\u001b[0m \u001b[1;33m=\u001b[0m \u001b[0mnext\u001b[0m\u001b[1;33m(\u001b[0m\u001b[0mhierarchy\u001b[0m\u001b[1;33m.\u001b[0m\u001b[0mpredecessors\u001b[0m\u001b[1;33m(\u001b[0m\u001b[0mitem\u001b[0m\u001b[1;33m)\u001b[0m\u001b[1;33m)\u001b[0m\u001b[1;33m.\u001b[0m\u001b[0mnode\u001b[0m\u001b[1;33m\u001b[0m\u001b[1;33m\u001b[0m\u001b[0m\n\u001b[0;32m      9\u001b[0m \u001b[1;32mexcept\u001b[0m \u001b[0mnx\u001b[0m\u001b[1;33m.\u001b[0m\u001b[0mNetworkXError\u001b[0m\u001b[1;33m:\u001b[0m\u001b[1;33m\u001b[0m\u001b[1;33m\u001b[0m\u001b[0m\n",
      "\u001b[1;31mIndexError\u001b[0m: tuple index out of range"
     ]
    }
   ],
   "source": [
    "self = lpg.diagram\n",
    "import networkx as nx\n",
    "\n",
    "_, hierarchy = self.elk_app.transformer.source\n",
    "\n",
    "try:\n",
    "    item = lpg.diagram.elk_app.selected[0]\n",
    "    res = next(hierarchy.predecessors(item)).node\n",
    "except nx.NetworkXError:\n",
    "    res = item.data.get(\"properties\", {}).get(\"@id\")\n",
    "\n",
    "res.id, res.data[\"@id\"]"
   ]
  },
  {
   "cell_type": "code",
   "execution_count": null,
   "id": "4a2a8912",
   "metadata": {},
   "outputs": [],
   "source": [
    "tree.selected, explorer.selected, lpg.selected"
   ]
  },
  {
   "cell_type": "code",
   "execution_count": 5,
   "id": "85500634",
   "metadata": {},
   "outputs": [
    {
     "data": {
      "text/plain": [
       "('07aee1b6-3400-4d86-8a9f-ce869d0c9628',\n",
       " '8b6e0ff4-292c-4c6f-b3b8-214528916f20')"
      ]
     },
     "execution_count": 5,
     "metadata": {},
     "output_type": "execute_result"
    }
   ],
   "source": [
    "lpg.diagram.elk_app.diagram.selected"
   ]
  },
  {
   "cell_type": "code",
   "execution_count": 6,
   "id": "8c1f4e79",
   "metadata": {},
   "outputs": [
    {
     "data": {
      "text/plain": [
       "()"
      ]
     },
     "execution_count": 6,
     "metadata": {},
     "output_type": "execute_result"
    }
   ],
   "source": [
    "lpg.selected"
   ]
  },
  {
   "cell_type": "code",
   "execution_count": null,
   "id": "aabbce88",
   "metadata": {
    "tags": []
   },
   "outputs": [],
   "source": [
    "self = lpg.diagram\n",
    "\n",
    "_, hierarchy = self.elk_transformer.source\n",
    "\n",
    "self.parts[self.selected[0]], self.elk_app.selected[0]\n",
    "\n",
    "for selected_id in self.selected:\n",
    "    node_selected = self.parts.get(selected_id)\n",
    "    print(node_selected.id)"
   ]
  },
  {
   "cell_type": "code",
   "execution_count": null,
   "id": "8173dff0",
   "metadata": {},
   "outputs": [],
   "source": [
    "node_selected.children[0] == self.elk_app.selected[0].node"
   ]
  },
  {
   "cell_type": "markdown",
   "id": "59ada6fc",
   "metadata": {},
   "source": [
    "---------------"
   ]
  },
  {
   "cell_type": "code",
   "execution_count": 42,
   "id": "330d1f41",
   "metadata": {},
   "outputs": [
    {
     "data": {
      "text/plain": [
       "['8e7fd118-6c08-4766-87c1-21f036a337b3',\n",
       " '722b09a9-bd47-456a-a2fd-bdb01d3fb004']"
      ]
     },
     "execution_count": 42,
     "metadata": {},
     "output_type": "execute_result"
    }
   ],
   "source": [
    "from dataclasses import dataclass, field\n",
    "\n",
    "\n",
    "@dataclass\n",
    "class Mapper:\n",
    "    to_map: dict = field(repr=False)\n",
    "    from_map: dict = field(default=None, repr=False)\n",
    "        \n",
    "    def __repr__(self):\n",
    "        return f\"Mapper({len(self.to_map)} Items)\"\n",
    "\n",
    "    def __post_init__(self, *args, **kwargs):\n",
    "        self.from_map = {v: k for k, v in self.to_map.items()}\n",
    "\n",
    "    def get(self, *items):\n",
    "        found = [\n",
    "            self.to_map.get(item, self.from_map.get(item))\n",
    "            for item in items\n",
    "        ]\n",
    "        if len(found) < 2:\n",
    "            found = found[0]\n",
    "        return found\n",
    "\n",
    "mapper = Mapper(from_elk_id)\n",
    "\n",
    "mapper.get(*self.elk_app.diagram.selected)"
   ]
  },
  {
   "cell_type": "code",
   "execution_count": 43,
   "id": "bdeac30e",
   "metadata": {},
   "outputs": [
    {
     "data": {
      "text/plain": [
       "{1, 2}"
      ]
     },
     "execution_count": 43,
     "metadata": {},
     "output_type": "execute_result"
    }
   ],
   "source": [
    "a = {1,2,}\n",
    "a.symmetric_difference"
   ]
  },
  {
   "cell_type": "code",
   "execution_count": 5,
   "id": "02dead02",
   "metadata": {},
   "outputs": [],
   "source": [
    "self = lpg.diagram"
   ]
  },
  {
   "cell_type": "code",
   "execution_count": 6,
   "id": "19e0d4b4",
   "metadata": {},
   "outputs": [],
   "source": [
    "relationships, hierarchy = self.elk_app.transformer.source"
   ]
  },
  {
   "cell_type": "code",
   "execution_count": 27,
   "id": "5d92122f",
   "metadata": {},
   "outputs": [
    {
     "name": "stdout",
     "output_type": "stream",
     "text": [
      "{'@context': {'@base': 'http://sysml2-sst.intercax.com:9000/projects/021a95a5-244d-45fc-91c6-c1ff9faa6a54/commits/50b4656c-1348-4782-92e1-8bc35b2d5912/elements/', '@import': 'http://sysml2-sst.intercax.com:9000/jsonld/EndFeatureMembership.jsonld'}, '@type': 'EndFeatureMembership', '@id': '46a83e4e-c6ea-47de-9855-00634481bf86', 'aliasId': [], 'direction': None, 'documentation': [], 'documentationComment': [], 'featureOfType': {'@id': '8e7fd118-6c08-4766-87c1-21f036a337b3'}, 'featuringType': None, 'humanId': None, 'identifier': '46a83e4e-c6ea-47de-9855-00634481bf86', 'isComposite': False, 'isDerived': False, 'isPort': False, 'isPortion': False, 'isReadOnly': False, 'memberElement': {'@id': '8e7fd118-6c08-4766-87c1-21f036a337b3'}, 'memberFeature': {'@id': '8e7fd118-6c08-4766-87c1-21f036a337b3'}, 'memberName': None, 'membershipOwningNamespace': {'@id': '8c9299d8-b198-417e-96ac-6b28a2e4cd1a'}, 'name': None, 'ownedAnnotation': [], 'ownedElement': [], 'ownedMemberElement': {'@id': '8e7fd118-6c08-4766-87c1-21f036a337b3'}, 'ownedMemberFeature': {'@id': '8e7fd118-6c08-4766-87c1-21f036a337b3'}, 'ownedRelatedElement': [{'@id': '8e7fd118-6c08-4766-87c1-21f036a337b3'}], 'ownedRelationship': [], 'ownedTextualRepresentation': [], 'owner': None, 'owningFeatureOfType': None, 'owningMembership': None, 'owningNamespace': None, 'owningRelatedElement': {'@id': '8c9299d8-b198-417e-96ac-6b28a2e4cd1a'}, 'owningRelationship': None, 'owningType': {'@id': '8c9299d8-b198-417e-96ac-6b28a2e4cd1a'}, 'qualifiedName': None, 'relatedElement': [{'@id': '8c9299d8-b198-417e-96ac-6b28a2e4cd1a'}, {'@id': '8e7fd118-6c08-4766-87c1-21f036a337b3'}], 'source': [{'@id': '8c9299d8-b198-417e-96ac-6b28a2e4cd1a'}], 'target': [{'@id': '8e7fd118-6c08-4766-87c1-21f036a337b3'}], 'visibility': 'PUBLIC'}\n",
      "{'@context': {'@base': 'http://sysml2-sst.intercax.com:9000/projects/021a95a5-244d-45fc-91c6-c1ff9faa6a54/commits/50b4656c-1348-4782-92e1-8bc35b2d5912/elements/', '@import': 'http://sysml2-sst.intercax.com:9000/jsonld/Membership.jsonld'}, '@type': 'Membership', '@id': '6125cca7-4a7d-4f14-97cd-2870bfc13133', 'aliasId': [], 'documentation': [], 'documentationComment': [], 'humanId': None, 'identifier': '6125cca7-4a7d-4f14-97cd-2870bfc13133', 'memberElement': {'@id': '8c9299d8-b198-417e-96ac-6b28a2e4cd1a'}, 'memberName': None, 'membershipOwningNamespace': {'@id': '4f44e226-5c43-4a2f-80c3-c274ce2abcfc'}, 'name': None, 'ownedAnnotation': [], 'ownedElement': [], 'ownedMemberElement': {'@id': '8c9299d8-b198-417e-96ac-6b28a2e4cd1a'}, 'ownedRelatedElement': [{'@id': '8c9299d8-b198-417e-96ac-6b28a2e4cd1a'}], 'ownedRelationship': [], 'ownedTextualRepresentation': [], 'owner': None, 'owningMembership': None, 'owningNamespace': None, 'owningRelatedElement': {'@id': '4f44e226-5c43-4a2f-80c3-c274ce2abcfc'}, 'owningRelationship': None, 'qualifiedName': None, 'relatedElement': [{'@id': '4f44e226-5c43-4a2f-80c3-c274ce2abcfc'}, {'@id': '8c9299d8-b198-417e-96ac-6b28a2e4cd1a'}], 'source': [{'@id': '4f44e226-5c43-4a2f-80c3-c274ce2abcfc'}], 'target': [{'@id': '8c9299d8-b198-417e-96ac-6b28a2e4cd1a'}], 'visibility': 'PUBLIC'}\n",
      "{'@context': {'@base': 'http://sysml2-sst.intercax.com:9000/projects/021a95a5-244d-45fc-91c6-c1ff9faa6a54/commits/50b4656c-1348-4782-92e1-8bc35b2d5912/elements/', '@import': 'http://sysml2-sst.intercax.com:9000/jsonld/EndFeatureMembership.jsonld'}, '@type': 'EndFeatureMembership', '@id': '5a6f6729-7640-4f40-8271-797ca95899e3', 'aliasId': [], 'direction': None, 'documentation': [], 'documentationComment': [], 'featureOfType': {'@id': 'b677ae1e-d891-4272-8c7c-ec6a7c07b05e'}, 'featuringType': None, 'humanId': None, 'identifier': '5a6f6729-7640-4f40-8271-797ca95899e3', 'isComposite': False, 'isDerived': False, 'isPort': False, 'isPortion': False, 'isReadOnly': False, 'memberElement': {'@id': 'b677ae1e-d891-4272-8c7c-ec6a7c07b05e'}, 'memberFeature': {'@id': 'b677ae1e-d891-4272-8c7c-ec6a7c07b05e'}, 'memberName': None, 'membershipOwningNamespace': {'@id': 'e3ee9efe-d15b-4fde-ad59-d55ba8309aec'}, 'name': None, 'ownedAnnotation': [], 'ownedElement': [], 'ownedMemberElement': {'@id': 'b677ae1e-d891-4272-8c7c-ec6a7c07b05e'}, 'ownedMemberFeature': {'@id': 'b677ae1e-d891-4272-8c7c-ec6a7c07b05e'}, 'ownedRelatedElement': [{'@id': 'b677ae1e-d891-4272-8c7c-ec6a7c07b05e'}], 'ownedRelationship': [], 'ownedTextualRepresentation': [], 'owner': None, 'owningFeatureOfType': None, 'owningMembership': None, 'owningNamespace': None, 'owningRelatedElement': {'@id': 'e3ee9efe-d15b-4fde-ad59-d55ba8309aec'}, 'owningRelationship': None, 'owningType': {'@id': 'e3ee9efe-d15b-4fde-ad59-d55ba8309aec'}, 'qualifiedName': None, 'relatedElement': [{'@id': 'e3ee9efe-d15b-4fde-ad59-d55ba8309aec'}, {'@id': 'b677ae1e-d891-4272-8c7c-ec6a7c07b05e'}], 'source': [{'@id': 'e3ee9efe-d15b-4fde-ad59-d55ba8309aec'}], 'target': [{'@id': 'b677ae1e-d891-4272-8c7c-ec6a7c07b05e'}], 'visibility': 'PUBLIC'}\n",
      "{'@context': {'@base': 'http://sysml2-sst.intercax.com:9000/projects/021a95a5-244d-45fc-91c6-c1ff9faa6a54/commits/50b4656c-1348-4782-92e1-8bc35b2d5912/elements/', '@import': 'http://sysml2-sst.intercax.com:9000/jsonld/FeatureMembership.jsonld'}, '@type': 'FeatureMembership', '@id': '9fd5a0b3-9fe7-49a6-aa22-0c4105bc0242', 'aliasId': [], 'direction': None, 'documentation': [], 'documentationComment': [], 'featureOfType': {'@id': 'e3ee9efe-d15b-4fde-ad59-d55ba8309aec'}, 'featuringType': None, 'humanId': None, 'identifier': '9fd5a0b3-9fe7-49a6-aa22-0c4105bc0242', 'isComposite': False, 'isDerived': False, 'isPort': False, 'isPortion': False, 'isReadOnly': False, 'memberElement': {'@id': 'e3ee9efe-d15b-4fde-ad59-d55ba8309aec'}, 'memberFeature': {'@id': 'e3ee9efe-d15b-4fde-ad59-d55ba8309aec'}, 'memberName': None, 'membershipOwningNamespace': {'@id': '8c9299d8-b198-417e-96ac-6b28a2e4cd1a'}, 'name': None, 'ownedAnnotation': [], 'ownedElement': [], 'ownedMemberElement': {'@id': 'e3ee9efe-d15b-4fde-ad59-d55ba8309aec'}, 'ownedMemberFeature': {'@id': 'e3ee9efe-d15b-4fde-ad59-d55ba8309aec'}, 'ownedRelatedElement': [{'@id': 'e3ee9efe-d15b-4fde-ad59-d55ba8309aec'}], 'ownedRelationship': [], 'ownedTextualRepresentation': [], 'owner': None, 'owningFeatureOfType': None, 'owningMembership': None, 'owningNamespace': None, 'owningRelatedElement': {'@id': '8c9299d8-b198-417e-96ac-6b28a2e4cd1a'}, 'owningRelationship': None, 'owningType': {'@id': '8c9299d8-b198-417e-96ac-6b28a2e4cd1a'}, 'qualifiedName': None, 'relatedElement': [{'@id': '8c9299d8-b198-417e-96ac-6b28a2e4cd1a'}, {'@id': 'e3ee9efe-d15b-4fde-ad59-d55ba8309aec'}], 'source': [{'@id': '8c9299d8-b198-417e-96ac-6b28a2e4cd1a'}], 'target': [{'@id': 'e3ee9efe-d15b-4fde-ad59-d55ba8309aec'}], 'visibility': 'PUBLIC'}\n",
      "{'@context': {'@base': 'http://sysml2-sst.intercax.com:9000/projects/021a95a5-244d-45fc-91c6-c1ff9faa6a54/commits/50b4656c-1348-4782-92e1-8bc35b2d5912/elements/', '@import': 'http://sysml2-sst.intercax.com:9000/jsonld/EndFeatureMembership.jsonld'}, '@type': 'EndFeatureMembership', '@id': '019422e9-d4f3-4401-9f6e-1ba92d280383', 'aliasId': [], 'direction': None, 'documentation': [], 'documentationComment': [], 'featureOfType': {'@id': 'c639361d-5c85-415b-852a-133d9347ebd1'}, 'featuringType': None, 'humanId': None, 'identifier': '019422e9-d4f3-4401-9f6e-1ba92d280383', 'isComposite': False, 'isDerived': False, 'isPort': False, 'isPortion': False, 'isReadOnly': False, 'memberElement': {'@id': 'c639361d-5c85-415b-852a-133d9347ebd1'}, 'memberFeature': {'@id': 'c639361d-5c85-415b-852a-133d9347ebd1'}, 'memberName': None, 'membershipOwningNamespace': {'@id': 'e3ee9efe-d15b-4fde-ad59-d55ba8309aec'}, 'name': None, 'ownedAnnotation': [], 'ownedElement': [], 'ownedMemberElement': {'@id': 'c639361d-5c85-415b-852a-133d9347ebd1'}, 'ownedMemberFeature': {'@id': 'c639361d-5c85-415b-852a-133d9347ebd1'}, 'ownedRelatedElement': [{'@id': 'c639361d-5c85-415b-852a-133d9347ebd1'}], 'ownedRelationship': [], 'ownedTextualRepresentation': [], 'owner': None, 'owningFeatureOfType': None, 'owningMembership': None, 'owningNamespace': None, 'owningRelatedElement': {'@id': 'e3ee9efe-d15b-4fde-ad59-d55ba8309aec'}, 'owningRelationship': None, 'owningType': {'@id': 'e3ee9efe-d15b-4fde-ad59-d55ba8309aec'}, 'qualifiedName': None, 'relatedElement': [{'@id': 'e3ee9efe-d15b-4fde-ad59-d55ba8309aec'}, {'@id': 'c639361d-5c85-415b-852a-133d9347ebd1'}], 'source': [{'@id': 'e3ee9efe-d15b-4fde-ad59-d55ba8309aec'}], 'target': [{'@id': 'c639361d-5c85-415b-852a-133d9347ebd1'}], 'visibility': 'PUBLIC'}\n",
      "{'@context': {'@base': 'http://sysml2-sst.intercax.com:9000/projects/021a95a5-244d-45fc-91c6-c1ff9faa6a54/commits/50b4656c-1348-4782-92e1-8bc35b2d5912/elements/', '@import': 'http://sysml2-sst.intercax.com:9000/jsonld/EndFeatureMembership.jsonld'}, '@type': 'EndFeatureMembership', '@id': '913bfe58-915c-40d2-a35e-43977dfad9a9', 'aliasId': [], 'direction': None, 'documentation': [], 'documentationComment': [], 'featureOfType': {'@id': '67ea2cfa-48c8-4c0d-8637-47d2a4309ab4'}, 'featuringType': None, 'humanId': None, 'identifier': '913bfe58-915c-40d2-a35e-43977dfad9a9', 'isComposite': False, 'isDerived': False, 'isPort': False, 'isPortion': False, 'isReadOnly': False, 'memberElement': {'@id': '67ea2cfa-48c8-4c0d-8637-47d2a4309ab4'}, 'memberFeature': {'@id': '67ea2cfa-48c8-4c0d-8637-47d2a4309ab4'}, 'memberName': None, 'membershipOwningNamespace': {'@id': '8c9299d8-b198-417e-96ac-6b28a2e4cd1a'}, 'name': None, 'ownedAnnotation': [], 'ownedElement': [], 'ownedMemberElement': {'@id': '67ea2cfa-48c8-4c0d-8637-47d2a4309ab4'}, 'ownedMemberFeature': {'@id': '67ea2cfa-48c8-4c0d-8637-47d2a4309ab4'}, 'ownedRelatedElement': [{'@id': '67ea2cfa-48c8-4c0d-8637-47d2a4309ab4'}], 'ownedRelationship': [], 'ownedTextualRepresentation': [], 'owner': None, 'owningFeatureOfType': None, 'owningMembership': None, 'owningNamespace': None, 'owningRelatedElement': {'@id': '8c9299d8-b198-417e-96ac-6b28a2e4cd1a'}, 'owningRelationship': None, 'owningType': {'@id': '8c9299d8-b198-417e-96ac-6b28a2e4cd1a'}, 'qualifiedName': None, 'relatedElement': [{'@id': '8c9299d8-b198-417e-96ac-6b28a2e4cd1a'}, {'@id': '67ea2cfa-48c8-4c0d-8637-47d2a4309ab4'}], 'source': [{'@id': '8c9299d8-b198-417e-96ac-6b28a2e4cd1a'}], 'target': [{'@id': '67ea2cfa-48c8-4c0d-8637-47d2a4309ab4'}], 'visibility': 'PUBLIC'}\n"
     ]
    }
   ],
   "source": [
    "transformer = self.elk_app.transformer\n",
    "relationships, hierarchy = transformer.source\n",
    "\n",
    "import ipyelk\n",
    "from ipyelk.contrib.elements import (\n",
    "    Compartment,\n",
    ")\n",
    "\n",
    "def id_from_item(item):\n",
    "    id_ = None\n",
    "    if isinstance(item, ipyelk.transform.Edge):\n",
    "        id_ = item.data.get(\"properties\", {}).get(\"@id\")\n",
    "    elif isinstance(getattr(item, \"node\", None), Compartment):\n",
    "        id_ = next(hierarchy.predecessors(item)).node.id\n",
    "    if id_ is None:\n",
    "        self.log.debug(f\"Could not parse: {item}\")\n",
    "    return id_\n",
    "\n",
    "from_elk_id = {\n",
    "    elk_id: id_from_item(elk_item)\n",
    "    for elk_id, elk_item in transformer._elk_to_item.items()\n",
    "}\n",
    "\n",
    "from_elk_id = {\n",
    "    elk_id: sysml_id\n",
    "    for elk_id, sysml_id in from_elk_id.items()\n",
    "    if sysml_id is not None\n",
    "}\n",
    "found_ids = set(from_elk_id.values())\n",
    "\n",
    "for extra in set(lpg.elements_by_id).symmetric_difference(found_ids):\n",
    "    print(lpg.elements_by_id[extra])\n",
    "\n",
    "\n"
   ]
  },
  {
   "cell_type": "code",
   "execution_count": 21,
   "id": "2d1cbb74",
   "metadata": {},
   "outputs": [
    {
     "data": {
      "text/plain": [
       "PartContainer(labels=[], properties={}, layoutOptions={}, shape=None, ports={}, children=[Part(labels=[], properties={}, layoutOptions={'org.eclipse.elk.hierarchyHandling': 'INCLUDE_CHILDREN', 'org.eclipse.elk.padding': '[top=0.0,bottom=0.0,left=0.0,right=0.0]', 'org.eclipse.elk.spacing.nodeNode': '0.0', 'org.eclipse.elk.edge.edgeNode': '0.0', 'org.eclipse.elk.aspectRatio': '100.0', 'org.eclipse.elk.expandNodes': 'true', 'org.eclipse.elk.nodeLabels.placement': 'H_CENTER V_CENTER INSIDE', 'org.eclipse.elk.nodeSize.constraints': 'NODE_LABELS PORTS PORT_LABELS MINIMUM_SIZE', 'org.eclipse.elk.spacing.componentComponent': '0.0'}, shape=None, ports={}, children=[Compartment(labels=[Label(labels=[], properties={'cssClasses': 'compartment_title_1'}, layoutOptions={'org.eclipse.elk.nodeLabels.placement': 'H_CENTER V_CENTER INSIDE'}, shape=None, text='«ActionUsage»'), Label(labels=[], properties={'cssClasses': 'compartment_title_2'}, layoutOptions={'org.eclipse.elk.nodeLabels.placement': 'H_CENTER V_CENTER INSIDE'}, shape=None, text='generateTorque')], properties={}, layoutOptions={'org.eclipse.elk.hierarchyHandling': 'INCLUDE_CHILDREN', 'org.eclipse.elk.padding': '[top=0.0,bottom=0.0,left=0.0,right=0.0]', 'org.eclipse.elk.spacing.nodeNode': '0.0', 'org.eclipse.elk.edge.edgeNode': '0.0', 'org.eclipse.elk.aspectRatio': '100.0', 'org.eclipse.elk.expandNodes': 'true', 'org.eclipse.elk.nodeLabels.placement': 'H_CENTER V_CENTER INSIDE', 'org.eclipse.elk.nodeSize.constraints': 'NODE_LABELS PORTS PORT_LABELS MINIMUM_SIZE', 'org.eclipse.elk.spacing.componentComponent': '0.0', 'org.eclipse.elk.nodeSize.minimum': '(220, 20)'}, shape=None, ports={}, children=[], width=80, headings=['«ActionUsage»', 'generateTorque'], content=[], bullet_shape=None)], width=220, data={'@type': 'ActionUsage', '@id': '1709a68e-ea57-4e8b-b073-8c416f934233', 'actionDefinition': [], 'aliasId': [], 'behavior': [], 'documentation': [], 'documentationComment': [], 'endFeature': [], 'endOwningType': None, 'feature': [], 'featureMembership': [], 'featuringType': [{'@id': 'd79611b8-c49d-46f5-8ec4-eef23dd843df'}], 'flowFeature': [], 'humanId': None, 'identifier': '1709a68e-ea57-4e8b-b073-8c416f934233', 'importedMembership': [], 'inheritedFeature': [], 'inheritedMembership': [], 'input': [], 'isAbstract': False, 'isComposite': True, 'isConjugated': False, 'isEnd': False, 'isNonunique': False, 'isOrdered': False, 'isSufficient': False, 'isUnique': True, 'isVariation': False, 'member': [], 'membership': [], 'multiplicity': None, 'name': 'generateTorque', 'nestedAction': [], 'nestedAllocation': [], 'nestedAnalysisCase': [], 'nestedAttribute': [], 'nestedCalculation': [], 'nestedCase': [], 'nestedConnection': [], 'nestedConstraint': [], 'nestedEnumeration': [], 'nestedIndividual': [], 'nestedInterface': [], 'nestedItem': [], 'nestedPart': [], 'nestedPort': [], 'nestedReference': [], 'nestedRendering': [], 'nestedRequirement': [], 'nestedState': [], 'nestedTransition': [], 'nestedUsage': [], 'nestedVerificationCase': [], 'nestedView': [], 'nestedViewpoint': [], 'output': [], 'ownedAnnotation': [], 'ownedConjugator': None, 'ownedElement': [], 'ownedEndFeature': [], 'ownedFeature': [], 'ownedFeatureMembership': [], 'ownedGeneralization': [], 'ownedImport': [], 'ownedMember': [], 'ownedMembership': [], 'ownedRedefinition': [], 'ownedRelationship': [], 'ownedSubsetting': [], 'ownedTextualRepresentation': [], 'ownedTypeFeaturing': [], 'ownedTyping': [], 'owner': {'@id': 'd79611b8-c49d-46f5-8ec4-eef23dd843df'}, 'owningDefinition': None, 'owningFeatureMembership': {'@id': 'b6bef803-0ea8-47b9-8764-1c5c1354097d'}, 'owningMembership': {'@id': 'b6bef803-0ea8-47b9-8764-1c5c1354097d'}, 'owningNamespace': {'@id': 'd79611b8-c49d-46f5-8ec4-eef23dd843df'}, 'owningRelationship': {'@id': 'b6bef803-0ea8-47b9-8764-1c5c1354097d'}, 'owningType': {'@id': 'd79611b8-c49d-46f5-8ec4-eef23dd843df'}, 'owningUsage': {'@id': 'd79611b8-c49d-46f5-8ec4-eef23dd843df'}, 'parameter': [], 'qualifiedName': \"'12b-Allocation'::LogicalModel::providePower::generateTorque\", 'type': [], 'usage': [], 'variant': [], 'variantMembership': []}, id='1709a68e-ea57-4e8b-b073-8c416f934233'), Part(labels=[], properties={}, layoutOptions={'org.eclipse.elk.hierarchyHandling': 'INCLUDE_CHILDREN', 'org.eclipse.elk.padding': '[top=0.0,bottom=0.0,left=0.0,right=0.0]', 'org.eclipse.elk.spacing.nodeNode': '0.0', 'org.eclipse.elk.edge.edgeNode': '0.0', 'org.eclipse.elk.aspectRatio': '100.0', 'org.eclipse.elk.expandNodes': 'true', 'org.eclipse.elk.nodeLabels.placement': 'H_CENTER V_CENTER INSIDE', 'org.eclipse.elk.nodeSize.constraints': 'NODE_LABELS PORTS PORT_LABELS MINIMUM_SIZE', 'org.eclipse.elk.spacing.componentComponent': '0.0'}, shape=None, ports={}, children=[Compartment(labels=[Label(labels=[], properties={'cssClasses': 'compartment_title_1'}, layoutOptions={'org.eclipse.elk.nodeLabels.placement': 'H_CENTER V_CENTER INSIDE'}, shape=None, text='«PartUsage»'), Label(labels=[], properties={'cssClasses': 'compartment_title_2'}, layoutOptions={'org.eclipse.elk.nodeLabels.placement': 'H_CENTER V_CENTER INSIDE'}, shape=None, text='engine')], properties={}, layoutOptions={'org.eclipse.elk.hierarchyHandling': 'INCLUDE_CHILDREN', 'org.eclipse.elk.padding': '[top=0.0,bottom=0.0,left=0.0,right=0.0]', 'org.eclipse.elk.spacing.nodeNode': '0.0', 'org.eclipse.elk.edge.edgeNode': '0.0', 'org.eclipse.elk.aspectRatio': '100.0', 'org.eclipse.elk.expandNodes': 'true', 'org.eclipse.elk.nodeLabels.placement': 'H_CENTER V_CENTER INSIDE', 'org.eclipse.elk.nodeSize.constraints': 'NODE_LABELS PORTS PORT_LABELS MINIMUM_SIZE', 'org.eclipse.elk.spacing.componentComponent': '0.0', 'org.eclipse.elk.nodeSize.minimum': '(220, 20)'}, shape=None, ports={}, children=[], width=80, headings=['«PartUsage»', 'engine'], content=[], bullet_shape=None)], width=220, data={'@type': 'PartUsage', '@id': '4020dc4e-b2ae-4aea-add1-c2834428630c', 'aliasId': [], 'documentation': [], 'documentationComment': [], 'endFeature': [], 'endOwningType': None, 'feature': [{'@id': '5aaad7a1-a8ef-4d64-be36-8a9ac3808644'}], 'featureMembership': [{'@id': 'afa7ba2d-ed6a-4bc1-ba9b-8d11ef23808b'}], 'featuringType': [{'@id': '590a3e9e-4d17-4435-bccc-e24ea6a5c006'}], 'flowFeature': [], 'humanId': None, 'identifier': '4020dc4e-b2ae-4aea-add1-c2834428630c', 'importedMembership': [], 'inheritedFeature': [], 'inheritedMembership': [], 'input': [], 'isAbstract': False, 'isComposite': True, 'isConjugated': False, 'isEnd': False, 'isNonunique': False, 'isOrdered': False, 'isSufficient': False, 'isUnique': True, 'isVariation': False, 'itemDefinition': [], 'member': [{'@id': '5aaad7a1-a8ef-4d64-be36-8a9ac3808644'}], 'membership': [{'@id': 'afa7ba2d-ed6a-4bc1-ba9b-8d11ef23808b'}], 'multiplicity': None, 'name': 'engine', 'nestedAction': [{'@id': '5aaad7a1-a8ef-4d64-be36-8a9ac3808644'}], 'nestedAllocation': [], 'nestedAnalysisCase': [], 'nestedAttribute': [], 'nestedCalculation': [], 'nestedCase': [], 'nestedConnection': [], 'nestedConstraint': [], 'nestedEnumeration': [], 'nestedIndividual': [], 'nestedInterface': [], 'nestedItem': [], 'nestedPart': [], 'nestedPort': [], 'nestedReference': [], 'nestedRendering': [], 'nestedRequirement': [], 'nestedState': [], 'nestedTransition': [], 'nestedUsage': [{'@id': '5aaad7a1-a8ef-4d64-be36-8a9ac3808644'}], 'nestedVerificationCase': [], 'nestedView': [], 'nestedViewpoint': [], 'output': [], 'ownedAnnotation': [], 'ownedConjugator': None, 'ownedElement': [{'@id': '5aaad7a1-a8ef-4d64-be36-8a9ac3808644'}], 'ownedEndFeature': [], 'ownedFeature': [{'@id': '5aaad7a1-a8ef-4d64-be36-8a9ac3808644'}], 'ownedFeatureMembership': [{'@id': 'afa7ba2d-ed6a-4bc1-ba9b-8d11ef23808b'}], 'ownedGeneralization': [], 'ownedImport': [], 'ownedMember': [{'@id': '5aaad7a1-a8ef-4d64-be36-8a9ac3808644'}], 'ownedMembership': [{'@id': 'afa7ba2d-ed6a-4bc1-ba9b-8d11ef23808b'}], 'ownedRedefinition': [], 'ownedRelationship': [{'@id': 'afa7ba2d-ed6a-4bc1-ba9b-8d11ef23808b'}], 'ownedSubsetting': [], 'ownedTextualRepresentation': [], 'ownedTypeFeaturing': [], 'ownedTyping': [], 'owner': {'@id': '590a3e9e-4d17-4435-bccc-e24ea6a5c006'}, 'owningDefinition': None, 'owningFeatureMembership': {'@id': '8dcdcf5f-003d-4ece-bdf3-bc6379ec2e01'}, 'owningMembership': {'@id': '8dcdcf5f-003d-4ece-bdf3-bc6379ec2e01'}, 'owningNamespace': {'@id': '590a3e9e-4d17-4435-bccc-e24ea6a5c006'}, 'owningRelationship': {'@id': '8dcdcf5f-003d-4ece-bdf3-bc6379ec2e01'}, 'owningType': {'@id': '590a3e9e-4d17-4435-bccc-e24ea6a5c006'}, 'owningUsage': {'@id': '590a3e9e-4d17-4435-bccc-e24ea6a5c006'}, 'partDefinition': [], 'qualifiedName': \"'12b-Allocation'::PhysicalModel::powerTrain::engine\", 'type': [], 'usage': [{'@id': '5aaad7a1-a8ef-4d64-be36-8a9ac3808644'}], 'variant': [], 'variantMembership': []}, id='4020dc4e-b2ae-4aea-add1-c2834428630c'), Part(labels=[], properties={}, layoutOptions={'org.eclipse.elk.hierarchyHandling': 'INCLUDE_CHILDREN', 'org.eclipse.elk.padding': '[top=0.0,bottom=0.0,left=0.0,right=0.0]', 'org.eclipse.elk.spacing.nodeNode': '0.0', 'org.eclipse.elk.edge.edgeNode': '0.0', 'org.eclipse.elk.aspectRatio': '100.0', 'org.eclipse.elk.expandNodes': 'true', 'org.eclipse.elk.nodeLabels.placement': 'H_CENTER V_CENTER INSIDE', 'org.eclipse.elk.nodeSize.constraints': 'NODE_LABELS PORTS PORT_LABELS MINIMUM_SIZE', 'org.eclipse.elk.spacing.componentComponent': '0.0'}, shape=None, ports={}, children=[Compartment(labels=[Label(labels=[], properties={'cssClasses': 'compartment_title_1'}, layoutOptions={'org.eclipse.elk.nodeLabels.placement': 'H_CENTER V_CENTER INSIDE'}, shape=None, text='«PerformActionUsage»'), Label(labels=[], properties={'cssClasses': 'compartment_title_2'}, layoutOptions={'org.eclipse.elk.nodeLabels.placement': 'H_CENTER V_CENTER INSIDE'}, shape=None, text='5aaad7a1-a8ef-4d64-be36-8a9ac3808644')], properties={}, layoutOptions={'org.eclipse.elk.hierarchyHandling': 'INCLUDE_CHILDREN', 'org.eclipse.elk.padding': '[top=0.0,bottom=0.0,left=0.0,right=0.0]', 'org.eclipse.elk.spacing.nodeNode': '0.0', 'org.eclipse.elk.edge.edgeNode': '0.0', 'org.eclipse.elk.aspectRatio': '100.0', 'org.eclipse.elk.expandNodes': 'true', 'org.eclipse.elk.nodeLabels.placement': 'H_CENTER V_CENTER INSIDE', 'org.eclipse.elk.nodeSize.constraints': 'NODE_LABELS PORTS PORT_LABELS MINIMUM_SIZE', 'org.eclipse.elk.spacing.componentComponent': '0.0', 'org.eclipse.elk.nodeSize.minimum': '(220, 20)'}, shape=None, ports={}, children=[], width=80, headings=['«PerformActionUsage»', '5aaad7a1-a8ef-4d64-be36-8a9ac3808644'], content=[], bullet_shape=None)], width=220, data={'@type': 'PerformActionUsage', '@id': '5aaad7a1-a8ef-4d64-be36-8a9ac3808644', 'actionDefinition': [], 'aliasId': [], 'behavior': [], 'documentation': [], 'documentationComment': [], 'endFeature': [], 'endOwningType': None, 'feature': [], 'featureMembership': [], 'featuringType': [{'@id': '4020dc4e-b2ae-4aea-add1-c2834428630c'}], 'flowFeature': [], 'humanId': None, 'identifier': '5aaad7a1-a8ef-4d64-be36-8a9ac3808644', 'importedMembership': [], 'inheritedFeature': [], 'inheritedMembership': [], 'input': [], 'isAbstract': False, 'isComposite': False, 'isConjugated': False, 'isEnd': False, 'isNonunique': False, 'isOrdered': False, 'isSufficient': False, 'isUnique': True, 'isVariation': False, 'member': [], 'membership': [], 'multiplicity': None, 'name': None, 'nestedAction': [], 'nestedAllocation': [], 'nestedAnalysisCase': [], 'nestedAttribute': [], 'nestedCalculation': [], 'nestedCase': [], 'nestedConnection': [], 'nestedConstraint': [], 'nestedEnumeration': [], 'nestedIndividual': [], 'nestedInterface': [], 'nestedItem': [], 'nestedPart': [], 'nestedPort': [], 'nestedReference': [], 'nestedRendering': [], 'nestedRequirement': [], 'nestedState': [], 'nestedTransition': [], 'nestedUsage': [], 'nestedVerificationCase': [], 'nestedView': [], 'nestedViewpoint': [], 'output': [], 'ownedAnnotation': [], 'ownedConjugator': None, 'ownedElement': [], 'ownedEndFeature': [], 'ownedFeature': [], 'ownedFeatureMembership': [], 'ownedGeneralization': [{'@id': 'fa2970ce-ed16-4b7f-b9c7-a7a0901bd8f4'}], 'ownedImport': [], 'ownedMember': [], 'ownedMembership': [], 'ownedRedefinition': [], 'ownedRelationship': [{'@id': 'fa2970ce-ed16-4b7f-b9c7-a7a0901bd8f4'}], 'ownedSubsetting': [{'@id': 'fa2970ce-ed16-4b7f-b9c7-a7a0901bd8f4'}], 'ownedTextualRepresentation': [], 'ownedTypeFeaturing': [], 'ownedTyping': [], 'owner': {'@id': '4020dc4e-b2ae-4aea-add1-c2834428630c'}, 'owningDefinition': None, 'owningFeatureMembership': {'@id': 'afa7ba2d-ed6a-4bc1-ba9b-8d11ef23808b'}, 'owningMembership': {'@id': 'afa7ba2d-ed6a-4bc1-ba9b-8d11ef23808b'}, 'owningNamespace': {'@id': '4020dc4e-b2ae-4aea-add1-c2834428630c'}, 'owningRelationship': {'@id': 'afa7ba2d-ed6a-4bc1-ba9b-8d11ef23808b'}, 'owningType': {'@id': '4020dc4e-b2ae-4aea-add1-c2834428630c'}, 'owningUsage': {'@id': '4020dc4e-b2ae-4aea-add1-c2834428630c'}, 'parameter': [], 'performedAction': {'@id': '1709a68e-ea57-4e8b-b073-8c416f934233'}, 'qualifiedName': \"'12b-Allocation'::PhysicalModel::powerTrain::engine::null\", 'type': [], 'usage': [], 'variant': [], 'variantMembership': []}, id='5aaad7a1-a8ef-4d64-be36-8a9ac3808644'), Part(labels=[], properties={}, layoutOptions={'org.eclipse.elk.hierarchyHandling': 'INCLUDE_CHILDREN', 'org.eclipse.elk.padding': '[top=0.0,bottom=0.0,left=0.0,right=0.0]', 'org.eclipse.elk.spacing.nodeNode': '0.0', 'org.eclipse.elk.edge.edgeNode': '0.0', 'org.eclipse.elk.aspectRatio': '100.0', 'org.eclipse.elk.expandNodes': 'true', 'org.eclipse.elk.nodeLabels.placement': 'H_CENTER V_CENTER INSIDE', 'org.eclipse.elk.nodeSize.constraints': 'NODE_LABELS PORTS PORT_LABELS MINIMUM_SIZE', 'org.eclipse.elk.spacing.componentComponent': '0.0'}, shape=None, ports={}, children=[Compartment(labels=[Label(labels=[], properties={'cssClasses': 'compartment_title_1'}, layoutOptions={'org.eclipse.elk.nodeLabels.placement': 'H_CENTER V_CENTER INSIDE'}, shape=None, text='«Feature»'), Label(labels=[], properties={'cssClasses': 'compartment_title_2'}, layoutOptions={'org.eclipse.elk.nodeLabels.placement': 'H_CENTER V_CENTER INSIDE'}, shape=None, text='b677ae1e-d891-4272-8c7c-ec6a7c07b05e')], properties={}, layoutOptions={'org.eclipse.elk.hierarchyHandling': 'INCLUDE_CHILDREN', 'org.eclipse.elk.padding': '[top=0.0,bottom=0.0,left=0.0,right=0.0]', 'org.eclipse.elk.spacing.nodeNode': '0.0', 'org.eclipse.elk.edge.edgeNode': '0.0', 'org.eclipse.elk.aspectRatio': '100.0', 'org.eclipse.elk.expandNodes': 'true', 'org.eclipse.elk.nodeLabels.placement': 'H_CENTER V_CENTER INSIDE', 'org.eclipse.elk.nodeSize.constraints': 'NODE_LABELS PORTS PORT_LABELS MINIMUM_SIZE', 'org.eclipse.elk.spacing.componentComponent': '0.0', 'org.eclipse.elk.nodeSize.minimum': '(220, 20)'}, shape=None, ports={}, children=[], width=80, headings=['«Feature»', 'b677ae1e-d891-4272-8c7c-ec6a7c07b05e'], content=[], bullet_shape=None)], width=220, data={'@type': 'Feature', '@id': 'b677ae1e-d891-4272-8c7c-ec6a7c07b05e', 'aliasId': [], 'documentation': [], 'documentationComment': [], 'endFeature': [], 'endOwningType': {'@id': 'e3ee9efe-d15b-4fde-ad59-d55ba8309aec'}, 'feature': [], 'featureMembership': [], 'featuringType': [{'@id': 'e3ee9efe-d15b-4fde-ad59-d55ba8309aec'}], 'humanId': None, 'identifier': 'b677ae1e-d891-4272-8c7c-ec6a7c07b05e', 'importedMembership': [], 'inheritedFeature': [], 'inheritedMembership': [], 'input': [], 'isAbstract': False, 'isComposite': False, 'isConjugated': False, 'isEnd': True, 'isNonunique': False, 'isOrdered': True, 'isSufficient': False, 'isUnique': True, 'member': [], 'membership': [], 'multiplicity': None, 'name': None, 'output': [], 'ownedAnnotation': [], 'ownedConjugator': None, 'ownedElement': [], 'ownedEndFeature': [], 'ownedFeature': [], 'ownedFeatureMembership': [], 'ownedGeneralization': [{'@id': '42347e78-cf59-491c-9140-740551322350'}], 'ownedImport': [], 'ownedMember': [], 'ownedMembership': [], 'ownedRedefinition': [], 'ownedRelationship': [{'@id': '42347e78-cf59-491c-9140-740551322350'}], 'ownedSubsetting': [{'@id': '42347e78-cf59-491c-9140-740551322350'}], 'ownedTextualRepresentation': [], 'ownedTypeFeaturing': [], 'ownedTyping': [], 'owner': {'@id': 'e3ee9efe-d15b-4fde-ad59-d55ba8309aec'}, 'owningFeatureMembership': {'@id': '5a6f6729-7640-4f40-8271-797ca95899e3'}, 'owningMembership': {'@id': '5a6f6729-7640-4f40-8271-797ca95899e3'}, 'owningNamespace': {'@id': 'e3ee9efe-d15b-4fde-ad59-d55ba8309aec'}, 'owningRelationship': {'@id': '5a6f6729-7640-4f40-8271-797ca95899e3'}, 'owningType': {'@id': 'e3ee9efe-d15b-4fde-ad59-d55ba8309aec'}, 'qualifiedName': \"'12b-Allocation'::null::null::null\", 'type': []}, id='b677ae1e-d891-4272-8c7c-ec6a7c07b05e'), Part(labels=[], properties={}, layoutOptions={'org.eclipse.elk.hierarchyHandling': 'INCLUDE_CHILDREN', 'org.eclipse.elk.padding': '[top=0.0,bottom=0.0,left=0.0,right=0.0]', 'org.eclipse.elk.spacing.nodeNode': '0.0', 'org.eclipse.elk.edge.edgeNode': '0.0', 'org.eclipse.elk.aspectRatio': '100.0', 'org.eclipse.elk.expandNodes': 'true', 'org.eclipse.elk.nodeLabels.placement': 'H_CENTER V_CENTER INSIDE', 'org.eclipse.elk.nodeSize.constraints': 'NODE_LABELS PORTS PORT_LABELS MINIMUM_SIZE', 'org.eclipse.elk.spacing.componentComponent': '0.0'}, shape=None, ports={}, children=[Compartment(labels=[Label(labels=[], properties={'cssClasses': 'compartment_title_1'}, layoutOptions={'org.eclipse.elk.nodeLabels.placement': 'H_CENTER V_CENTER INSIDE'}, shape=None, text='«Package»'), Label(labels=[], properties={'cssClasses': 'compartment_title_2'}, layoutOptions={'org.eclipse.elk.nodeLabels.placement': 'H_CENTER V_CENTER INSIDE'}, shape=None, text='PhysicalModel')], properties={}, layoutOptions={'org.eclipse.elk.hierarchyHandling': 'INCLUDE_CHILDREN', 'org.eclipse.elk.padding': '[top=0.0,bottom=0.0,left=0.0,right=0.0]', 'org.eclipse.elk.spacing.nodeNode': '0.0', 'org.eclipse.elk.edge.edgeNode': '0.0', 'org.eclipse.elk.aspectRatio': '100.0', 'org.eclipse.elk.expandNodes': 'true', 'org.eclipse.elk.nodeLabels.placement': 'H_CENTER V_CENTER INSIDE', 'org.eclipse.elk.nodeSize.constraints': 'NODE_LABELS PORTS PORT_LABELS MINIMUM_SIZE', 'org.eclipse.elk.spacing.componentComponent': '0.0', 'org.eclipse.elk.nodeSize.minimum': '(220, 20)'}, shape=None, ports={}, children=[], width=80, headings=['«Package»', 'PhysicalModel'], content=[], bullet_shape=None)], width=220, data={'@type': 'Package', '@id': 'bfc96de3-40da-4965-ab4c-6fe92377d63b', 'aliasId': [], 'documentation': [], 'documentationComment': [], 'filterCondition': [], 'humanId': None, 'identifier': 'bfc96de3-40da-4965-ab4c-6fe92377d63b', 'importedMembership': [], 'member': [{'@id': '590a3e9e-4d17-4435-bccc-e24ea6a5c006'}], 'membership': [{'@id': 'c683c263-fe95-4489-ab84-156bd249c649'}], 'name': 'PhysicalModel', 'ownedAnnotation': [], 'ownedElement': [{'@id': '590a3e9e-4d17-4435-bccc-e24ea6a5c006'}], 'ownedImport': [], 'ownedMember': [{'@id': '590a3e9e-4d17-4435-bccc-e24ea6a5c006'}], 'ownedMembership': [{'@id': 'c683c263-fe95-4489-ab84-156bd249c649'}], 'ownedRelationship': [{'@id': 'c683c263-fe95-4489-ab84-156bd249c649'}], 'ownedTextualRepresentation': [], 'owner': {'@id': '4f44e226-5c43-4a2f-80c3-c274ce2abcfc'}, 'owningMembership': None, 'owningNamespace': {'@id': '4f44e226-5c43-4a2f-80c3-c274ce2abcfc'}, 'owningRelationship': None, 'qualifiedName': \"'12b-Allocation'::PhysicalModel\"}, id='bfc96de3-40da-4965-ab4c-6fe92377d63b'), Part(labels=[], properties={}, layoutOptions={'org.eclipse.elk.hierarchyHandling': 'INCLUDE_CHILDREN', 'org.eclipse.elk.padding': '[top=0.0,bottom=0.0,left=0.0,right=0.0]', 'org.eclipse.elk.spacing.nodeNode': '0.0', 'org.eclipse.elk.edge.edgeNode': '0.0', 'org.eclipse.elk.aspectRatio': '100.0', 'org.eclipse.elk.expandNodes': 'true', 'org.eclipse.elk.nodeLabels.placement': 'H_CENTER V_CENTER INSIDE', 'org.eclipse.elk.nodeSize.constraints': 'NODE_LABELS PORTS PORT_LABELS MINIMUM_SIZE', 'org.eclipse.elk.spacing.componentComponent': '0.0'}, shape=None, ports={}, children=[Compartment(labels=[Label(labels=[], properties={'cssClasses': 'compartment_title_1'}, layoutOptions={'org.eclipse.elk.nodeLabels.placement': 'H_CENTER V_CENTER INSIDE'}, shape=None, text='«Feature»'), Label(labels=[], properties={'cssClasses': 'compartment_title_2'}, layoutOptions={'org.eclipse.elk.nodeLabels.placement': 'H_CENTER V_CENTER INSIDE'}, shape=None, text='8e7fd118-6c08-4766-87c1-21f036a337b3')], properties={}, layoutOptions={'org.eclipse.elk.hierarchyHandling': 'INCLUDE_CHILDREN', 'org.eclipse.elk.padding': '[top=0.0,bottom=0.0,left=0.0,right=0.0]', 'org.eclipse.elk.spacing.nodeNode': '0.0', 'org.eclipse.elk.edge.edgeNode': '0.0', 'org.eclipse.elk.aspectRatio': '100.0', 'org.eclipse.elk.expandNodes': 'true', 'org.eclipse.elk.nodeLabels.placement': 'H_CENTER V_CENTER INSIDE', 'org.eclipse.elk.nodeSize.constraints': 'NODE_LABELS PORTS PORT_LABELS MINIMUM_SIZE', 'org.eclipse.elk.spacing.componentComponent': '0.0', 'org.eclipse.elk.nodeSize.minimum': '(220, 20)'}, shape=None, ports={}, children=[], width=80, headings=['«Feature»', '8e7fd118-6c08-4766-87c1-21f036a337b3'], content=[], bullet_shape=None)], width=220, data={'@type': 'Feature', '@id': '8e7fd118-6c08-4766-87c1-21f036a337b3', 'aliasId': [], 'documentation': [], 'documentationComment': [], 'endFeature': [], 'endOwningType': {'@id': '8c9299d8-b198-417e-96ac-6b28a2e4cd1a'}, 'feature': [{'@id': 'b1b91d36-24e8-4b5f-a8ac-35a15f1f3660'}], 'featureMembership': [{'@id': '833d11d5-7bed-480c-a662-1ee0a8957d44'}], 'featuringType': [{'@id': '8c9299d8-b198-417e-96ac-6b28a2e4cd1a'}], 'humanId': None, 'identifier': '8e7fd118-6c08-4766-87c1-21f036a337b3', 'importedMembership': [], 'inheritedFeature': [{'@id': 'b1b91d36-24e8-4b5f-a8ac-35a15f1f3660'}], 'inheritedMembership': [{'@id': '833d11d5-7bed-480c-a662-1ee0a8957d44'}], 'input': [], 'isAbstract': False, 'isComposite': False, 'isConjugated': False, 'isEnd': True, 'isNonunique': False, 'isOrdered': True, 'isSufficient': False, 'isUnique': True, 'member': [{'@id': 'b1b91d36-24e8-4b5f-a8ac-35a15f1f3660'}], 'membership': [{'@id': '833d11d5-7bed-480c-a662-1ee0a8957d44'}], 'multiplicity': None, 'name': None, 'output': [], 'ownedAnnotation': [], 'ownedConjugator': None, 'ownedElement': [], 'ownedEndFeature': [], 'ownedFeature': [], 'ownedFeatureMembership': [], 'ownedGeneralization': [{'@id': 'eae5c09b-40c4-4f6d-a8f4-7e75f45c709d'}], 'ownedImport': [], 'ownedMember': [], 'ownedMembership': [], 'ownedRedefinition': [], 'ownedRelationship': [{'@id': 'eae5c09b-40c4-4f6d-a8f4-7e75f45c709d'}], 'ownedSubsetting': [{'@id': 'eae5c09b-40c4-4f6d-a8f4-7e75f45c709d'}], 'ownedTextualRepresentation': [], 'ownedTypeFeaturing': [], 'ownedTyping': [], 'owner': {'@id': '8c9299d8-b198-417e-96ac-6b28a2e4cd1a'}, 'owningFeatureMembership': {'@id': '46a83e4e-c6ea-47de-9855-00634481bf86'}, 'owningMembership': {'@id': '46a83e4e-c6ea-47de-9855-00634481bf86'}, 'owningNamespace': {'@id': '8c9299d8-b198-417e-96ac-6b28a2e4cd1a'}, 'owningRelationship': {'@id': '46a83e4e-c6ea-47de-9855-00634481bf86'}, 'owningType': {'@id': '8c9299d8-b198-417e-96ac-6b28a2e4cd1a'}, 'qualifiedName': \"'12b-Allocation'::null::null\", 'type': []}, id='8e7fd118-6c08-4766-87c1-21f036a337b3'), Part(labels=[], properties={}, layoutOptions={'org.eclipse.elk.hierarchyHandling': 'INCLUDE_CHILDREN', 'org.eclipse.elk.padding': '[top=0.0,bottom=0.0,left=0.0,right=0.0]', 'org.eclipse.elk.spacing.nodeNode': '0.0', 'org.eclipse.elk.edge.edgeNode': '0.0', 'org.eclipse.elk.aspectRatio': '100.0', 'org.eclipse.elk.expandNodes': 'true', 'org.eclipse.elk.nodeLabels.placement': 'H_CENTER V_CENTER INSIDE', 'org.eclipse.elk.nodeSize.constraints': 'NODE_LABELS PORTS PORT_LABELS MINIMUM_SIZE', 'org.eclipse.elk.spacing.componentComponent': '0.0'}, shape=None, ports={}, children=[Compartment(labels=[Label(labels=[], properties={'cssClasses': 'compartment_title_1'}, layoutOptions={'org.eclipse.elk.nodeLabels.placement': 'H_CENTER V_CENTER INSIDE'}, shape=None, text='«PerformActionUsage»'), Label(labels=[], properties={'cssClasses': 'compartment_title_2'}, layoutOptions={'org.eclipse.elk.nodeLabels.placement': 'H_CENTER V_CENTER INSIDE'}, shape=None, text='b1b91d36-24e8-4b5f-a8ac-35a15f1f3660')], properties={}, layoutOptions={'org.eclipse.elk.hierarchyHandling': 'INCLUDE_CHILDREN', 'org.eclipse.elk.padding': '[top=0.0,bottom=0.0,left=0.0,right=0.0]', 'org.eclipse.elk.spacing.nodeNode': '0.0', 'org.eclipse.elk.edge.edgeNode': '0.0', 'org.eclipse.elk.aspectRatio': '100.0', 'org.eclipse.elk.expandNodes': 'true', 'org.eclipse.elk.nodeLabels.placement': 'H_CENTER V_CENTER INSIDE', 'org.eclipse.elk.nodeSize.constraints': 'NODE_LABELS PORTS PORT_LABELS MINIMUM_SIZE', 'org.eclipse.elk.spacing.componentComponent': '0.0', 'org.eclipse.elk.nodeSize.minimum': '(220, 20)'}, shape=None, ports={}, children=[], width=80, headings=['«PerformActionUsage»', 'b1b91d36-24e8-4b5f-a8ac-35a15f1f3660'], content=[], bullet_shape=None)], width=220, data={'@type': 'PerformActionUsage', '@id': 'b1b91d36-24e8-4b5f-a8ac-35a15f1f3660', 'actionDefinition': [], 'aliasId': [], 'behavior': [], 'documentation': [], 'documentationComment': [], 'endFeature': [], 'endOwningType': None, 'feature': [], 'featureMembership': [], 'featuringType': [{'@id': '926c690c-5a5f-47be-b309-5c468ea21e7b'}], 'flowFeature': [], 'humanId': None, 'identifier': 'b1b91d36-24e8-4b5f-a8ac-35a15f1f3660', 'importedMembership': [], 'inheritedFeature': [], 'inheritedMembership': [], 'input': [], 'isAbstract': False, 'isComposite': False, 'isConjugated': False, 'isEnd': False, 'isNonunique': False, 'isOrdered': False, 'isSufficient': False, 'isUnique': True, 'isVariation': False, 'member': [], 'membership': [], 'multiplicity': None, 'name': None, 'nestedAction': [], 'nestedAllocation': [], 'nestedAnalysisCase': [], 'nestedAttribute': [], 'nestedCalculation': [], 'nestedCase': [], 'nestedConnection': [], 'nestedConstraint': [], 'nestedEnumeration': [], 'nestedIndividual': [], 'nestedInterface': [], 'nestedItem': [], 'nestedPart': [], 'nestedPort': [], 'nestedReference': [], 'nestedRendering': [], 'nestedRequirement': [], 'nestedState': [], 'nestedTransition': [], 'nestedUsage': [], 'nestedVerificationCase': [], 'nestedView': [], 'nestedViewpoint': [], 'output': [], 'ownedAnnotation': [], 'ownedConjugator': None, 'ownedElement': [], 'ownedEndFeature': [], 'ownedFeature': [], 'ownedFeatureMembership': [], 'ownedGeneralization': [{'@id': '322096eb-2709-49d3-9f00-d9f907f1db6b'}], 'ownedImport': [], 'ownedMember': [], 'ownedMembership': [], 'ownedRedefinition': [], 'ownedRelationship': [{'@id': '322096eb-2709-49d3-9f00-d9f907f1db6b'}], 'ownedSubsetting': [{'@id': '322096eb-2709-49d3-9f00-d9f907f1db6b'}], 'ownedTextualRepresentation': [], 'ownedTypeFeaturing': [], 'ownedTyping': [], 'owner': {'@id': '926c690c-5a5f-47be-b309-5c468ea21e7b'}, 'owningDefinition': None, 'owningFeatureMembership': {'@id': '833d11d5-7bed-480c-a662-1ee0a8957d44'}, 'owningMembership': {'@id': '833d11d5-7bed-480c-a662-1ee0a8957d44'}, 'owningNamespace': {'@id': '926c690c-5a5f-47be-b309-5c468ea21e7b'}, 'owningRelationship': {'@id': '833d11d5-7bed-480c-a662-1ee0a8957d44'}, 'owningType': {'@id': '926c690c-5a5f-47be-b309-5c468ea21e7b'}, 'owningUsage': {'@id': '926c690c-5a5f-47be-b309-5c468ea21e7b'}, 'parameter': [], 'performedAction': {'@id': '1709a68e-ea57-4e8b-b073-8c416f934233'}, 'qualifiedName': \"'12b-Allocation'::LogicalModel::torqueGenerator::null\", 'type': [], 'usage': [], 'variant': [], 'variantMembership': []}, id='b1b91d36-24e8-4b5f-a8ac-35a15f1f3660'), Part(labels=[], properties={}, layoutOptions={'org.eclipse.elk.hierarchyHandling': 'INCLUDE_CHILDREN', 'org.eclipse.elk.padding': '[top=0.0,bottom=0.0,left=0.0,right=0.0]', 'org.eclipse.elk.spacing.nodeNode': '0.0', 'org.eclipse.elk.edge.edgeNode': '0.0', 'org.eclipse.elk.aspectRatio': '100.0', 'org.eclipse.elk.expandNodes': 'true', 'org.eclipse.elk.nodeLabels.placement': 'H_CENTER V_CENTER INSIDE', 'org.eclipse.elk.nodeSize.constraints': 'NODE_LABELS PORTS PORT_LABELS MINIMUM_SIZE', 'org.eclipse.elk.spacing.componentComponent': '0.0'}, shape=None, ports={}, children=[Compartment(labels=[Label(labels=[], properties={'cssClasses': 'compartment_title_1'}, layoutOptions={'org.eclipse.elk.nodeLabels.placement': 'H_CENTER V_CENTER INSIDE'}, shape=None, text='«ActionUsage»'), Label(labels=[], properties={'cssClasses': 'compartment_title_2'}, layoutOptions={'org.eclipse.elk.nodeLabels.placement': 'H_CENTER V_CENTER INSIDE'}, shape=None, text='providePower')], properties={}, layoutOptions={'org.eclipse.elk.hierarchyHandling': 'INCLUDE_CHILDREN', 'org.eclipse.elk.padding': '[top=0.0,bottom=0.0,left=0.0,right=0.0]', 'org.eclipse.elk.spacing.nodeNode': '0.0', 'org.eclipse.elk.edge.edgeNode': '0.0', 'org.eclipse.elk.aspectRatio': '100.0', 'org.eclipse.elk.expandNodes': 'true', 'org.eclipse.elk.nodeLabels.placement': 'H_CENTER V_CENTER INSIDE', 'org.eclipse.elk.nodeSize.constraints': 'NODE_LABELS PORTS PORT_LABELS MINIMUM_SIZE', 'org.eclipse.elk.spacing.componentComponent': '0.0', 'org.eclipse.elk.nodeSize.minimum': '(220, 20)'}, shape=None, ports={}, children=[], width=80, headings=['«ActionUsage»', 'providePower'], content=[], bullet_shape=None)], width=220, data={'@type': 'ActionUsage', '@id': 'd79611b8-c49d-46f5-8ec4-eef23dd843df', 'actionDefinition': [], 'aliasId': [], 'behavior': [], 'documentation': [], 'documentationComment': [], 'endFeature': [], 'endOwningType': None, 'feature': [{'@id': '1709a68e-ea57-4e8b-b073-8c416f934233'}], 'featureMembership': [{'@id': 'b6bef803-0ea8-47b9-8764-1c5c1354097d'}], 'featuringType': [], 'flowFeature': [], 'humanId': None, 'identifier': 'd79611b8-c49d-46f5-8ec4-eef23dd843df', 'importedMembership': [], 'inheritedFeature': [], 'inheritedMembership': [], 'input': [], 'isAbstract': False, 'isComposite': False, 'isConjugated': False, 'isEnd': False, 'isNonunique': False, 'isOrdered': False, 'isSufficient': False, 'isUnique': True, 'isVariation': False, 'member': [{'@id': '1709a68e-ea57-4e8b-b073-8c416f934233'}], 'membership': [{'@id': 'b6bef803-0ea8-47b9-8764-1c5c1354097d'}], 'multiplicity': None, 'name': 'providePower', 'nestedAction': [{'@id': '1709a68e-ea57-4e8b-b073-8c416f934233'}], 'nestedAllocation': [], 'nestedAnalysisCase': [], 'nestedAttribute': [], 'nestedCalculation': [], 'nestedCase': [], 'nestedConnection': [], 'nestedConstraint': [], 'nestedEnumeration': [], 'nestedIndividual': [], 'nestedInterface': [], 'nestedItem': [], 'nestedPart': [], 'nestedPort': [], 'nestedReference': [], 'nestedRendering': [], 'nestedRequirement': [], 'nestedState': [], 'nestedTransition': [], 'nestedUsage': [{'@id': '1709a68e-ea57-4e8b-b073-8c416f934233'}], 'nestedVerificationCase': [], 'nestedView': [], 'nestedViewpoint': [], 'output': [], 'ownedAnnotation': [], 'ownedConjugator': None, 'ownedElement': [{'@id': '1709a68e-ea57-4e8b-b073-8c416f934233'}], 'ownedEndFeature': [], 'ownedFeature': [{'@id': '1709a68e-ea57-4e8b-b073-8c416f934233'}], 'ownedFeatureMembership': [{'@id': 'b6bef803-0ea8-47b9-8764-1c5c1354097d'}], 'ownedGeneralization': [], 'ownedImport': [], 'ownedMember': [{'@id': '1709a68e-ea57-4e8b-b073-8c416f934233'}], 'ownedMembership': [{'@id': 'b6bef803-0ea8-47b9-8764-1c5c1354097d'}], 'ownedRedefinition': [], 'ownedRelationship': [{'@id': 'b6bef803-0ea8-47b9-8764-1c5c1354097d'}], 'ownedSubsetting': [], 'ownedTextualRepresentation': [], 'ownedTypeFeaturing': [], 'ownedTyping': [], 'owner': {'@id': '722b09a9-bd47-456a-a2fd-bdb01d3fb004'}, 'owningDefinition': None, 'owningFeatureMembership': None, 'owningMembership': {'@id': '22d64ad4-1ae4-46cb-92d8-9b45394587f9'}, 'owningNamespace': {'@id': '722b09a9-bd47-456a-a2fd-bdb01d3fb004'}, 'owningRelationship': {'@id': '22d64ad4-1ae4-46cb-92d8-9b45394587f9'}, 'owningType': None, 'owningUsage': None, 'parameter': [], 'qualifiedName': \"'12b-Allocation'::LogicalModel::providePower\", 'type': [], 'usage': [{'@id': '1709a68e-ea57-4e8b-b073-8c416f934233'}], 'variant': [], 'variantMembership': []}, id='d79611b8-c49d-46f5-8ec4-eef23dd843df'), Part(labels=[], properties={}, layoutOptions={'org.eclipse.elk.hierarchyHandling': 'INCLUDE_CHILDREN', 'org.eclipse.elk.padding': '[top=0.0,bottom=0.0,left=0.0,right=0.0]', 'org.eclipse.elk.spacing.nodeNode': '0.0', 'org.eclipse.elk.edge.edgeNode': '0.0', 'org.eclipse.elk.aspectRatio': '100.0', 'org.eclipse.elk.expandNodes': 'true', 'org.eclipse.elk.nodeLabels.placement': 'H_CENTER V_CENTER INSIDE', 'org.eclipse.elk.nodeSize.constraints': 'NODE_LABELS PORTS PORT_LABELS MINIMUM_SIZE', 'org.eclipse.elk.spacing.componentComponent': '0.0'}, shape=None, ports={}, children=[Compartment(labels=[Label(labels=[], properties={'cssClasses': 'compartment_title_1'}, layoutOptions={'org.eclipse.elk.nodeLabels.placement': 'H_CENTER V_CENTER INSIDE'}, shape=None, text='«PartUsage»'), Label(labels=[], properties={'cssClasses': 'compartment_title_2'}, layoutOptions={'org.eclipse.elk.nodeLabels.placement': 'H_CENTER V_CENTER INSIDE'}, shape=None, text='powerTrain')], properties={}, layoutOptions={'org.eclipse.elk.hierarchyHandling': 'INCLUDE_CHILDREN', 'org.eclipse.elk.padding': '[top=0.0,bottom=0.0,left=0.0,right=0.0]', 'org.eclipse.elk.spacing.nodeNode': '0.0', 'org.eclipse.elk.edge.edgeNode': '0.0', 'org.eclipse.elk.aspectRatio': '100.0', 'org.eclipse.elk.expandNodes': 'true', 'org.eclipse.elk.nodeLabels.placement': 'H_CENTER V_CENTER INSIDE', 'org.eclipse.elk.nodeSize.constraints': 'NODE_LABELS PORTS PORT_LABELS MINIMUM_SIZE', 'org.eclipse.elk.spacing.componentComponent': '0.0', 'org.eclipse.elk.nodeSize.minimum': '(220, 20)'}, shape=None, ports={}, children=[], width=80, headings=['«PartUsage»', 'powerTrain'], content=[], bullet_shape=None)], width=220, data={'@type': 'PartUsage', '@id': '590a3e9e-4d17-4435-bccc-e24ea6a5c006', 'aliasId': [], 'documentation': [], 'documentationComment': [], 'endFeature': [], 'endOwningType': None, 'feature': [{'@id': '4020dc4e-b2ae-4aea-add1-c2834428630c'}], 'featureMembership': [{'@id': '8dcdcf5f-003d-4ece-bdf3-bc6379ec2e01'}], 'featuringType': [], 'flowFeature': [], 'humanId': None, 'identifier': '590a3e9e-4d17-4435-bccc-e24ea6a5c006', 'importedMembership': [], 'inheritedFeature': [], 'inheritedMembership': [], 'input': [], 'isAbstract': False, 'isComposite': False, 'isConjugated': False, 'isEnd': False, 'isNonunique': False, 'isOrdered': False, 'isSufficient': False, 'isUnique': True, 'isVariation': False, 'itemDefinition': [], 'member': [{'@id': '4020dc4e-b2ae-4aea-add1-c2834428630c'}], 'membership': [{'@id': '8dcdcf5f-003d-4ece-bdf3-bc6379ec2e01'}], 'multiplicity': None, 'name': 'powerTrain', 'nestedAction': [], 'nestedAllocation': [], 'nestedAnalysisCase': [], 'nestedAttribute': [], 'nestedCalculation': [], 'nestedCase': [], 'nestedConnection': [], 'nestedConstraint': [], 'nestedEnumeration': [], 'nestedIndividual': [], 'nestedInterface': [], 'nestedItem': [{'@id': '4020dc4e-b2ae-4aea-add1-c2834428630c'}], 'nestedPart': [{'@id': '4020dc4e-b2ae-4aea-add1-c2834428630c'}], 'nestedPort': [], 'nestedReference': [], 'nestedRendering': [], 'nestedRequirement': [], 'nestedState': [], 'nestedTransition': [], 'nestedUsage': [{'@id': '4020dc4e-b2ae-4aea-add1-c2834428630c'}], 'nestedVerificationCase': [], 'nestedView': [], 'nestedViewpoint': [], 'output': [], 'ownedAnnotation': [], 'ownedConjugator': None, 'ownedElement': [{'@id': '4020dc4e-b2ae-4aea-add1-c2834428630c'}], 'ownedEndFeature': [], 'ownedFeature': [{'@id': '4020dc4e-b2ae-4aea-add1-c2834428630c'}], 'ownedFeatureMembership': [{'@id': '8dcdcf5f-003d-4ece-bdf3-bc6379ec2e01'}], 'ownedGeneralization': [], 'ownedImport': [], 'ownedMember': [{'@id': '4020dc4e-b2ae-4aea-add1-c2834428630c'}], 'ownedMembership': [{'@id': '8dcdcf5f-003d-4ece-bdf3-bc6379ec2e01'}], 'ownedRedefinition': [], 'ownedRelationship': [{'@id': '8dcdcf5f-003d-4ece-bdf3-bc6379ec2e01'}], 'ownedSubsetting': [], 'ownedTextualRepresentation': [], 'ownedTypeFeaturing': [], 'ownedTyping': [], 'owner': {'@id': 'bfc96de3-40da-4965-ab4c-6fe92377d63b'}, 'owningDefinition': None, 'owningFeatureMembership': None, 'owningMembership': {'@id': 'c683c263-fe95-4489-ab84-156bd249c649'}, 'owningNamespace': {'@id': 'bfc96de3-40da-4965-ab4c-6fe92377d63b'}, 'owningRelationship': {'@id': 'c683c263-fe95-4489-ab84-156bd249c649'}, 'owningType': None, 'owningUsage': None, 'partDefinition': [], 'qualifiedName': \"'12b-Allocation'::PhysicalModel::powerTrain\", 'type': [], 'usage': [{'@id': '4020dc4e-b2ae-4aea-add1-c2834428630c'}], 'variant': [], 'variantMembership': []}, id='590a3e9e-4d17-4435-bccc-e24ea6a5c006'), Part(labels=[], properties={}, layoutOptions={'org.eclipse.elk.hierarchyHandling': 'INCLUDE_CHILDREN', 'org.eclipse.elk.padding': '[top=0.0,bottom=0.0,left=0.0,right=0.0]', 'org.eclipse.elk.spacing.nodeNode': '0.0', 'org.eclipse.elk.edge.edgeNode': '0.0', 'org.eclipse.elk.aspectRatio': '100.0', 'org.eclipse.elk.expandNodes': 'true', 'org.eclipse.elk.nodeLabels.placement': 'H_CENTER V_CENTER INSIDE', 'org.eclipse.elk.nodeSize.constraints': 'NODE_LABELS PORTS PORT_LABELS MINIMUM_SIZE', 'org.eclipse.elk.spacing.componentComponent': '0.0'}, shape=None, ports={}, children=[Compartment(labels=[Label(labels=[], properties={'cssClasses': 'compartment_title_1'}, layoutOptions={'org.eclipse.elk.nodeLabels.placement': 'H_CENTER V_CENTER INSIDE'}, shape=None, text='«Namespace»'), Label(labels=[], properties={'cssClasses': 'compartment_title_2'}, layoutOptions={'org.eclipse.elk.nodeLabels.placement': 'H_CENTER V_CENTER INSIDE'}, shape=None, text='b822a1dd-552e-446b-ac46-0ccdce23fa49')], properties={}, layoutOptions={'org.eclipse.elk.hierarchyHandling': 'INCLUDE_CHILDREN', 'org.eclipse.elk.padding': '[top=0.0,bottom=0.0,left=0.0,right=0.0]', 'org.eclipse.elk.spacing.nodeNode': '0.0', 'org.eclipse.elk.edge.edgeNode': '0.0', 'org.eclipse.elk.aspectRatio': '100.0', 'org.eclipse.elk.expandNodes': 'true', 'org.eclipse.elk.nodeLabels.placement': 'H_CENTER V_CENTER INSIDE', 'org.eclipse.elk.nodeSize.constraints': 'NODE_LABELS PORTS PORT_LABELS MINIMUM_SIZE', 'org.eclipse.elk.spacing.componentComponent': '0.0', 'org.eclipse.elk.nodeSize.minimum': '(220, 20)'}, shape=None, ports={}, children=[], width=80, headings=['«Namespace»', 'b822a1dd-552e-446b-ac46-0ccdce23fa49'], content=[], bullet_shape=None)], width=220, data={'@type': 'Namespace', '@id': 'b822a1dd-552e-446b-ac46-0ccdce23fa49', 'aliasId': [], 'documentation': [], 'documentationComment': [], 'humanId': None, 'identifier': 'b822a1dd-552e-446b-ac46-0ccdce23fa49', 'importedMembership': [], 'member': [{'@id': '4f44e226-5c43-4a2f-80c3-c274ce2abcfc'}], 'membership': [{'@id': '6dcaca60-26ab-4ec9-a10b-8fc2a0ddef76'}], 'name': None, 'ownedAnnotation': [], 'ownedElement': [{'@id': '4f44e226-5c43-4a2f-80c3-c274ce2abcfc'}], 'ownedImport': [], 'ownedMember': [{'@id': '4f44e226-5c43-4a2f-80c3-c274ce2abcfc'}], 'ownedMembership': [{'@id': '6dcaca60-26ab-4ec9-a10b-8fc2a0ddef76'}], 'ownedRelationship': [{'@id': '6dcaca60-26ab-4ec9-a10b-8fc2a0ddef76'}], 'ownedTextualRepresentation': [], 'owner': None, 'owningMembership': None, 'owningNamespace': None, 'owningRelationship': None, 'qualifiedName': None}, id='b822a1dd-552e-446b-ac46-0ccdce23fa49'), Part(labels=[], properties={}, layoutOptions={'org.eclipse.elk.hierarchyHandling': 'INCLUDE_CHILDREN', 'org.eclipse.elk.padding': '[top=0.0,bottom=0.0,left=0.0,right=0.0]', 'org.eclipse.elk.spacing.nodeNode': '0.0', 'org.eclipse.elk.edge.edgeNode': '0.0', 'org.eclipse.elk.aspectRatio': '100.0', 'org.eclipse.elk.expandNodes': 'true', 'org.eclipse.elk.nodeLabels.placement': 'H_CENTER V_CENTER INSIDE', 'org.eclipse.elk.nodeSize.constraints': 'NODE_LABELS PORTS PORT_LABELS MINIMUM_SIZE', 'org.eclipse.elk.spacing.componentComponent': '0.0'}, shape=None, ports={}, children=[Compartment(labels=[Label(labels=[], properties={'cssClasses': 'compartment_title_1'}, layoutOptions={'org.eclipse.elk.nodeLabels.placement': 'H_CENTER V_CENTER INSIDE'}, shape=None, text='«Feature»'), Label(labels=[], properties={'cssClasses': 'compartment_title_2'}, layoutOptions={'org.eclipse.elk.nodeLabels.placement': 'H_CENTER V_CENTER INSIDE'}, shape=None, text='67ea2cfa-48c8-4c0d-8637-47d2a4309ab4')], properties={}, layoutOptions={'org.eclipse.elk.hierarchyHandling': 'INCLUDE_CHILDREN', 'org.eclipse.elk.padding': '[top=0.0,bottom=0.0,left=0.0,right=0.0]', 'org.eclipse.elk.spacing.nodeNode': '0.0', 'org.eclipse.elk.edge.edgeNode': '0.0', 'org.eclipse.elk.aspectRatio': '100.0', 'org.eclipse.elk.expandNodes': 'true', 'org.eclipse.elk.nodeLabels.placement': 'H_CENTER V_CENTER INSIDE', 'org.eclipse.elk.nodeSize.constraints': 'NODE_LABELS PORTS PORT_LABELS MINIMUM_SIZE', 'org.eclipse.elk.spacing.componentComponent': '0.0', 'org.eclipse.elk.nodeSize.minimum': '(220, 20)'}, shape=None, ports={}, children=[], width=80, headings=['«Feature»', '67ea2cfa-48c8-4c0d-8637-47d2a4309ab4'], content=[], bullet_shape=None)], width=220, data={'@type': 'Feature', '@id': '67ea2cfa-48c8-4c0d-8637-47d2a4309ab4', 'aliasId': [], 'documentation': [], 'documentationComment': [], 'endFeature': [], 'endOwningType': {'@id': '8c9299d8-b198-417e-96ac-6b28a2e4cd1a'}, 'feature': [{'@id': '4020dc4e-b2ae-4aea-add1-c2834428630c'}], 'featureMembership': [{'@id': '8dcdcf5f-003d-4ece-bdf3-bc6379ec2e01'}], 'featuringType': [{'@id': '8c9299d8-b198-417e-96ac-6b28a2e4cd1a'}], 'humanId': None, 'identifier': '67ea2cfa-48c8-4c0d-8637-47d2a4309ab4', 'importedMembership': [], 'inheritedFeature': [{'@id': '4020dc4e-b2ae-4aea-add1-c2834428630c'}], 'inheritedMembership': [{'@id': '8dcdcf5f-003d-4ece-bdf3-bc6379ec2e01'}], 'input': [], 'isAbstract': False, 'isComposite': False, 'isConjugated': False, 'isEnd': True, 'isNonunique': False, 'isOrdered': True, 'isSufficient': False, 'isUnique': True, 'member': [{'@id': '4020dc4e-b2ae-4aea-add1-c2834428630c'}], 'membership': [{'@id': '8dcdcf5f-003d-4ece-bdf3-bc6379ec2e01'}], 'multiplicity': None, 'name': None, 'output': [], 'ownedAnnotation': [], 'ownedConjugator': None, 'ownedElement': [], 'ownedEndFeature': [], 'ownedFeature': [], 'ownedFeatureMembership': [], 'ownedGeneralization': [{'@id': '55b24051-cb66-48b8-bc69-bf7ed261feab'}], 'ownedImport': [], 'ownedMember': [], 'ownedMembership': [], 'ownedRedefinition': [], 'ownedRelationship': [{'@id': '55b24051-cb66-48b8-bc69-bf7ed261feab'}], 'ownedSubsetting': [{'@id': '55b24051-cb66-48b8-bc69-bf7ed261feab'}], 'ownedTextualRepresentation': [], 'ownedTypeFeaturing': [], 'ownedTyping': [], 'owner': {'@id': '8c9299d8-b198-417e-96ac-6b28a2e4cd1a'}, 'owningFeatureMembership': {'@id': '913bfe58-915c-40d2-a35e-43977dfad9a9'}, 'owningMembership': {'@id': '913bfe58-915c-40d2-a35e-43977dfad9a9'}, 'owningNamespace': {'@id': '8c9299d8-b198-417e-96ac-6b28a2e4cd1a'}, 'owningRelationship': {'@id': '913bfe58-915c-40d2-a35e-43977dfad9a9'}, 'owningType': {'@id': '8c9299d8-b198-417e-96ac-6b28a2e4cd1a'}, 'qualifiedName': \"'12b-Allocation'::null::null\", 'type': []}, id='67ea2cfa-48c8-4c0d-8637-47d2a4309ab4'), Part(labels=[], properties={}, layoutOptions={'org.eclipse.elk.hierarchyHandling': 'INCLUDE_CHILDREN', 'org.eclipse.elk.padding': '[top=0.0,bottom=0.0,left=0.0,right=0.0]', 'org.eclipse.elk.spacing.nodeNode': '0.0', 'org.eclipse.elk.edge.edgeNode': '0.0', 'org.eclipse.elk.aspectRatio': '100.0', 'org.eclipse.elk.expandNodes': 'true', 'org.eclipse.elk.nodeLabels.placement': 'H_CENTER V_CENTER INSIDE', 'org.eclipse.elk.nodeSize.constraints': 'NODE_LABELS PORTS PORT_LABELS MINIMUM_SIZE', 'org.eclipse.elk.spacing.componentComponent': '0.0'}, shape=None, ports={}, children=[Compartment(labels=[Label(labels=[], properties={'cssClasses': 'compartment_title_1'}, layoutOptions={'org.eclipse.elk.nodeLabels.placement': 'H_CENTER V_CENTER INSIDE'}, shape=None, text='«Feature»'), Label(labels=[], properties={'cssClasses': 'compartment_title_2'}, layoutOptions={'org.eclipse.elk.nodeLabels.placement': 'H_CENTER V_CENTER INSIDE'}, shape=None, text='c639361d-5c85-415b-852a-133d9347ebd1')], properties={}, layoutOptions={'org.eclipse.elk.hierarchyHandling': 'INCLUDE_CHILDREN', 'org.eclipse.elk.padding': '[top=0.0,bottom=0.0,left=0.0,right=0.0]', 'org.eclipse.elk.spacing.nodeNode': '0.0', 'org.eclipse.elk.edge.edgeNode': '0.0', 'org.eclipse.elk.aspectRatio': '100.0', 'org.eclipse.elk.expandNodes': 'true', 'org.eclipse.elk.nodeLabels.placement': 'H_CENTER V_CENTER INSIDE', 'org.eclipse.elk.nodeSize.constraints': 'NODE_LABELS PORTS PORT_LABELS MINIMUM_SIZE', 'org.eclipse.elk.spacing.componentComponent': '0.0', 'org.eclipse.elk.nodeSize.minimum': '(220, 20)'}, shape=None, ports={}, children=[], width=80, headings=['«Feature»', 'c639361d-5c85-415b-852a-133d9347ebd1'], content=[], bullet_shape=None)], width=220, data={'@type': 'Feature', '@id': 'c639361d-5c85-415b-852a-133d9347ebd1', 'aliasId': [], 'documentation': [], 'documentationComment': [], 'endFeature': [], 'endOwningType': {'@id': 'e3ee9efe-d15b-4fde-ad59-d55ba8309aec'}, 'feature': [], 'featureMembership': [], 'featuringType': [{'@id': 'e3ee9efe-d15b-4fde-ad59-d55ba8309aec'}], 'humanId': None, 'identifier': 'c639361d-5c85-415b-852a-133d9347ebd1', 'importedMembership': [], 'inheritedFeature': [], 'inheritedMembership': [], 'input': [], 'isAbstract': False, 'isComposite': False, 'isConjugated': False, 'isEnd': True, 'isNonunique': False, 'isOrdered': True, 'isSufficient': False, 'isUnique': True, 'member': [], 'membership': [], 'multiplicity': None, 'name': None, 'output': [], 'ownedAnnotation': [], 'ownedConjugator': None, 'ownedElement': [], 'ownedEndFeature': [], 'ownedFeature': [], 'ownedFeatureMembership': [], 'ownedGeneralization': [{'@id': 'eefb471e-b5d5-474a-ad1e-73c90e9ca345'}], 'ownedImport': [], 'ownedMember': [], 'ownedMembership': [], 'ownedRedefinition': [], 'ownedRelationship': [{'@id': 'eefb471e-b5d5-474a-ad1e-73c90e9ca345'}], 'ownedSubsetting': [{'@id': 'eefb471e-b5d5-474a-ad1e-73c90e9ca345'}], 'ownedTextualRepresentation': [], 'ownedTypeFeaturing': [], 'ownedTyping': [], 'owner': {'@id': 'e3ee9efe-d15b-4fde-ad59-d55ba8309aec'}, 'owningFeatureMembership': {'@id': '019422e9-d4f3-4401-9f6e-1ba92d280383'}, 'owningMembership': {'@id': '019422e9-d4f3-4401-9f6e-1ba92d280383'}, 'owningNamespace': {'@id': 'e3ee9efe-d15b-4fde-ad59-d55ba8309aec'}, 'owningRelationship': {'@id': '019422e9-d4f3-4401-9f6e-1ba92d280383'}, 'owningType': {'@id': 'e3ee9efe-d15b-4fde-ad59-d55ba8309aec'}, 'qualifiedName': \"'12b-Allocation'::null::null::null\", 'type': []}, id='c639361d-5c85-415b-852a-133d9347ebd1'), Part(labels=[], properties={}, layoutOptions={'org.eclipse.elk.hierarchyHandling': 'INCLUDE_CHILDREN', 'org.eclipse.elk.padding': '[top=0.0,bottom=0.0,left=0.0,right=0.0]', 'org.eclipse.elk.spacing.nodeNode': '0.0', 'org.eclipse.elk.edge.edgeNode': '0.0', 'org.eclipse.elk.aspectRatio': '100.0', 'org.eclipse.elk.expandNodes': 'true', 'org.eclipse.elk.nodeLabels.placement': 'H_CENTER V_CENTER INSIDE', 'org.eclipse.elk.nodeSize.constraints': 'NODE_LABELS PORTS PORT_LABELS MINIMUM_SIZE', 'org.eclipse.elk.spacing.componentComponent': '0.0'}, shape=None, ports={}, children=[Compartment(labels=[Label(labels=[], properties={'cssClasses': 'compartment_title_1'}, layoutOptions={'org.eclipse.elk.nodeLabels.placement': 'H_CENTER V_CENTER INSIDE'}, shape=None, text='«Package»'), Label(labels=[], properties={'cssClasses': 'compartment_title_2'}, layoutOptions={'org.eclipse.elk.nodeLabels.placement': 'H_CENTER V_CENTER INSIDE'}, shape=None, text='LogicalModel')], properties={}, layoutOptions={'org.eclipse.elk.hierarchyHandling': 'INCLUDE_CHILDREN', 'org.eclipse.elk.padding': '[top=0.0,bottom=0.0,left=0.0,right=0.0]', 'org.eclipse.elk.spacing.nodeNode': '0.0', 'org.eclipse.elk.edge.edgeNode': '0.0', 'org.eclipse.elk.aspectRatio': '100.0', 'org.eclipse.elk.expandNodes': 'true', 'org.eclipse.elk.nodeLabels.placement': 'H_CENTER V_CENTER INSIDE', 'org.eclipse.elk.nodeSize.constraints': 'NODE_LABELS PORTS PORT_LABELS MINIMUM_SIZE', 'org.eclipse.elk.spacing.componentComponent': '0.0', 'org.eclipse.elk.nodeSize.minimum': '(220, 20)'}, shape=None, ports={}, children=[], width=80, headings=['«Package»', 'LogicalModel'], content=[], bullet_shape=None)], width=220, data={'@type': 'Package', '@id': '722b09a9-bd47-456a-a2fd-bdb01d3fb004', 'aliasId': [], 'documentation': [], 'documentationComment': [], 'filterCondition': [], 'humanId': None, 'identifier': '722b09a9-bd47-456a-a2fd-bdb01d3fb004', 'importedMembership': [], 'member': [{'@id': 'd79611b8-c49d-46f5-8ec4-eef23dd843df'}, {'@id': '926c690c-5a5f-47be-b309-5c468ea21e7b'}], 'membership': [{'@id': '22d64ad4-1ae4-46cb-92d8-9b45394587f9'}, {'@id': '5fef1c91-4c10-49f6-9c4d-2332505a2207'}], 'name': 'LogicalModel', 'ownedAnnotation': [], 'ownedElement': [{'@id': 'd79611b8-c49d-46f5-8ec4-eef23dd843df'}, {'@id': '926c690c-5a5f-47be-b309-5c468ea21e7b'}], 'ownedImport': [], 'ownedMember': [{'@id': 'd79611b8-c49d-46f5-8ec4-eef23dd843df'}, {'@id': '926c690c-5a5f-47be-b309-5c468ea21e7b'}], 'ownedMembership': [{'@id': '22d64ad4-1ae4-46cb-92d8-9b45394587f9'}, {'@id': '5fef1c91-4c10-49f6-9c4d-2332505a2207'}], 'ownedRelationship': [{'@id': '22d64ad4-1ae4-46cb-92d8-9b45394587f9'}, {'@id': '5fef1c91-4c10-49f6-9c4d-2332505a2207'}], 'ownedTextualRepresentation': [], 'owner': {'@id': '4f44e226-5c43-4a2f-80c3-c274ce2abcfc'}, 'owningMembership': None, 'owningNamespace': {'@id': '4f44e226-5c43-4a2f-80c3-c274ce2abcfc'}, 'owningRelationship': None, 'qualifiedName': \"'12b-Allocation'::LogicalModel\"}, id='722b09a9-bd47-456a-a2fd-bdb01d3fb004'), Part(labels=[], properties={}, layoutOptions={'org.eclipse.elk.hierarchyHandling': 'INCLUDE_CHILDREN', 'org.eclipse.elk.padding': '[top=0.0,bottom=0.0,left=0.0,right=0.0]', 'org.eclipse.elk.spacing.nodeNode': '0.0', 'org.eclipse.elk.edge.edgeNode': '0.0', 'org.eclipse.elk.aspectRatio': '100.0', 'org.eclipse.elk.expandNodes': 'true', 'org.eclipse.elk.nodeLabels.placement': 'H_CENTER V_CENTER INSIDE', 'org.eclipse.elk.nodeSize.constraints': 'NODE_LABELS PORTS PORT_LABELS MINIMUM_SIZE', 'org.eclipse.elk.spacing.componentComponent': '0.0'}, shape=None, ports={}, children=[Compartment(labels=[Label(labels=[], properties={'cssClasses': 'compartment_title_1'}, layoutOptions={'org.eclipse.elk.nodeLabels.placement': 'H_CENTER V_CENTER INSIDE'}, shape=None, text='«Package»'), Label(labels=[], properties={'cssClasses': 'compartment_title_2'}, layoutOptions={'org.eclipse.elk.nodeLabels.placement': 'H_CENTER V_CENTER INSIDE'}, shape=None, text='12b-Allocation')], properties={}, layoutOptions={'org.eclipse.elk.hierarchyHandling': 'INCLUDE_CHILDREN', 'org.eclipse.elk.padding': '[top=0.0,bottom=0.0,left=0.0,right=0.0]', 'org.eclipse.elk.spacing.nodeNode': '0.0', 'org.eclipse.elk.edge.edgeNode': '0.0', 'org.eclipse.elk.aspectRatio': '100.0', 'org.eclipse.elk.expandNodes': 'true', 'org.eclipse.elk.nodeLabels.placement': 'H_CENTER V_CENTER INSIDE', 'org.eclipse.elk.nodeSize.constraints': 'NODE_LABELS PORTS PORT_LABELS MINIMUM_SIZE', 'org.eclipse.elk.spacing.componentComponent': '0.0', 'org.eclipse.elk.nodeSize.minimum': '(220, 20)'}, shape=None, ports={}, children=[], width=80, headings=['«Package»', '12b-Allocation'], content=[], bullet_shape=None)], width=220, data={'@type': 'Package', '@id': '4f44e226-5c43-4a2f-80c3-c274ce2abcfc', 'aliasId': [], 'documentation': [], 'documentationComment': [], 'filterCondition': [], 'humanId': None, 'identifier': '4f44e226-5c43-4a2f-80c3-c274ce2abcfc', 'importedMembership': [{'@id': '22d64ad4-1ae4-46cb-92d8-9b45394587f9'}, {'@id': '5fef1c91-4c10-49f6-9c4d-2332505a2207'}, {'@id': 'c683c263-fe95-4489-ab84-156bd249c649'}], 'member': [{'@id': 'd79611b8-c49d-46f5-8ec4-eef23dd843df'}, {'@id': '926c690c-5a5f-47be-b309-5c468ea21e7b'}, {'@id': '590a3e9e-4d17-4435-bccc-e24ea6a5c006'}, {'@id': '722b09a9-bd47-456a-a2fd-bdb01d3fb004'}, {'@id': 'bfc96de3-40da-4965-ab4c-6fe92377d63b'}, {'@id': '8c9299d8-b198-417e-96ac-6b28a2e4cd1a'}], 'membership': [{'@id': '22d64ad4-1ae4-46cb-92d8-9b45394587f9'}, {'@id': '5fef1c91-4c10-49f6-9c4d-2332505a2207'}, {'@id': 'c683c263-fe95-4489-ab84-156bd249c649'}, {'@id': 'caa00ffc-137c-47f4-bb75-683c0f063d07'}, {'@id': '56ae554c-a8c3-4609-b873-e1496da0af92'}, {'@id': '6125cca7-4a7d-4f14-97cd-2870bfc13133'}], 'name': '12b-Allocation', 'ownedAnnotation': [], 'ownedElement': [{'@id': '722b09a9-bd47-456a-a2fd-bdb01d3fb004'}, {'@id': 'bfc96de3-40da-4965-ab4c-6fe92377d63b'}, {'@id': '8c9299d8-b198-417e-96ac-6b28a2e4cd1a'}], 'ownedImport': [{'@id': '12f8403b-5468-46ad-a79a-f9281da06be1'}, {'@id': '375ac89e-bbd3-4b20-81f3-26c6a46717bc'}], 'ownedMember': [{'@id': '722b09a9-bd47-456a-a2fd-bdb01d3fb004'}, {'@id': 'bfc96de3-40da-4965-ab4c-6fe92377d63b'}, {'@id': '8c9299d8-b198-417e-96ac-6b28a2e4cd1a'}], 'ownedMembership': [{'@id': 'caa00ffc-137c-47f4-bb75-683c0f063d07'}, {'@id': '56ae554c-a8c3-4609-b873-e1496da0af92'}, {'@id': '6125cca7-4a7d-4f14-97cd-2870bfc13133'}], 'ownedRelationship': [{'@id': '12f8403b-5468-46ad-a79a-f9281da06be1'}, {'@id': '375ac89e-bbd3-4b20-81f3-26c6a46717bc'}, {'@id': 'caa00ffc-137c-47f4-bb75-683c0f063d07'}, {'@id': '56ae554c-a8c3-4609-b873-e1496da0af92'}, {'@id': '6125cca7-4a7d-4f14-97cd-2870bfc13133'}], 'ownedTextualRepresentation': [], 'owner': {'@id': 'b822a1dd-552e-446b-ac46-0ccdce23fa49'}, 'owningMembership': {'@id': '6dcaca60-26ab-4ec9-a10b-8fc2a0ddef76'}, 'owningNamespace': {'@id': 'b822a1dd-552e-446b-ac46-0ccdce23fa49'}, 'owningRelationship': {'@id': '6dcaca60-26ab-4ec9-a10b-8fc2a0ddef76'}, 'qualifiedName': \"'12b-Allocation'\"}, id='4f44e226-5c43-4a2f-80c3-c274ce2abcfc'), Part(labels=[], properties={}, layoutOptions={'org.eclipse.elk.hierarchyHandling': 'INCLUDE_CHILDREN', 'org.eclipse.elk.padding': '[top=0.0,bottom=0.0,left=0.0,right=0.0]', 'org.eclipse.elk.spacing.nodeNode': '0.0', 'org.eclipse.elk.edge.edgeNode': '0.0', 'org.eclipse.elk.aspectRatio': '100.0', 'org.eclipse.elk.expandNodes': 'true', 'org.eclipse.elk.nodeLabels.placement': 'H_CENTER V_CENTER INSIDE', 'org.eclipse.elk.nodeSize.constraints': 'NODE_LABELS PORTS PORT_LABELS MINIMUM_SIZE', 'org.eclipse.elk.spacing.componentComponent': '0.0'}, shape=None, ports={}, children=[Compartment(labels=[Label(labels=[], properties={'cssClasses': 'compartment_title_1'}, layoutOptions={'org.eclipse.elk.nodeLabels.placement': 'H_CENTER V_CENTER INSIDE'}, shape=None, text='«PartUsage»'), Label(labels=[], properties={'cssClasses': 'compartment_title_2'}, layoutOptions={'org.eclipse.elk.nodeLabels.placement': 'H_CENTER V_CENTER INSIDE'}, shape=None, text='torqueGenerator')], properties={}, layoutOptions={'org.eclipse.elk.hierarchyHandling': 'INCLUDE_CHILDREN', 'org.eclipse.elk.padding': '[top=0.0,bottom=0.0,left=0.0,right=0.0]', 'org.eclipse.elk.spacing.nodeNode': '0.0', 'org.eclipse.elk.edge.edgeNode': '0.0', 'org.eclipse.elk.aspectRatio': '100.0', 'org.eclipse.elk.expandNodes': 'true', 'org.eclipse.elk.nodeLabels.placement': 'H_CENTER V_CENTER INSIDE', 'org.eclipse.elk.nodeSize.constraints': 'NODE_LABELS PORTS PORT_LABELS MINIMUM_SIZE', 'org.eclipse.elk.spacing.componentComponent': '0.0', 'org.eclipse.elk.nodeSize.minimum': '(220, 20)'}, shape=None, ports={}, children=[], width=80, headings=['«PartUsage»', 'torqueGenerator'], content=[], bullet_shape=None)], width=220, data={'@type': 'PartUsage', '@id': '926c690c-5a5f-47be-b309-5c468ea21e7b', 'aliasId': [], 'documentation': [], 'documentationComment': [], 'endFeature': [], 'endOwningType': None, 'feature': [{'@id': 'b1b91d36-24e8-4b5f-a8ac-35a15f1f3660'}], 'featureMembership': [{'@id': '833d11d5-7bed-480c-a662-1ee0a8957d44'}], 'featuringType': [], 'flowFeature': [], 'humanId': None, 'identifier': '926c690c-5a5f-47be-b309-5c468ea21e7b', 'importedMembership': [], 'inheritedFeature': [], 'inheritedMembership': [], 'input': [], 'isAbstract': False, 'isComposite': False, 'isConjugated': False, 'isEnd': False, 'isNonunique': False, 'isOrdered': False, 'isSufficient': False, 'isUnique': True, 'isVariation': False, 'itemDefinition': [], 'member': [{'@id': 'b1b91d36-24e8-4b5f-a8ac-35a15f1f3660'}], 'membership': [{'@id': '833d11d5-7bed-480c-a662-1ee0a8957d44'}], 'multiplicity': None, 'name': 'torqueGenerator', 'nestedAction': [{'@id': 'b1b91d36-24e8-4b5f-a8ac-35a15f1f3660'}], 'nestedAllocation': [], 'nestedAnalysisCase': [], 'nestedAttribute': [], 'nestedCalculation': [], 'nestedCase': [], 'nestedConnection': [], 'nestedConstraint': [], 'nestedEnumeration': [], 'nestedIndividual': [], 'nestedInterface': [], 'nestedItem': [], 'nestedPart': [], 'nestedPort': [], 'nestedReference': [], 'nestedRendering': [], 'nestedRequirement': [], 'nestedState': [], 'nestedTransition': [], 'nestedUsage': [{'@id': 'b1b91d36-24e8-4b5f-a8ac-35a15f1f3660'}], 'nestedVerificationCase': [], 'nestedView': [], 'nestedViewpoint': [], 'output': [], 'ownedAnnotation': [], 'ownedConjugator': None, 'ownedElement': [{'@id': 'b1b91d36-24e8-4b5f-a8ac-35a15f1f3660'}], 'ownedEndFeature': [], 'ownedFeature': [{'@id': 'b1b91d36-24e8-4b5f-a8ac-35a15f1f3660'}], 'ownedFeatureMembership': [{'@id': '833d11d5-7bed-480c-a662-1ee0a8957d44'}], 'ownedGeneralization': [], 'ownedImport': [], 'ownedMember': [{'@id': 'b1b91d36-24e8-4b5f-a8ac-35a15f1f3660'}], 'ownedMembership': [{'@id': '833d11d5-7bed-480c-a662-1ee0a8957d44'}], 'ownedRedefinition': [], 'ownedRelationship': [{'@id': '833d11d5-7bed-480c-a662-1ee0a8957d44'}], 'ownedSubsetting': [], 'ownedTextualRepresentation': [], 'ownedTypeFeaturing': [], 'ownedTyping': [], 'owner': {'@id': '722b09a9-bd47-456a-a2fd-bdb01d3fb004'}, 'owningDefinition': None, 'owningFeatureMembership': None, 'owningMembership': {'@id': '5fef1c91-4c10-49f6-9c4d-2332505a2207'}, 'owningNamespace': {'@id': '722b09a9-bd47-456a-a2fd-bdb01d3fb004'}, 'owningRelationship': {'@id': '5fef1c91-4c10-49f6-9c4d-2332505a2207'}, 'owningType': None, 'owningUsage': None, 'partDefinition': [], 'qualifiedName': \"'12b-Allocation'::LogicalModel::torqueGenerator\", 'type': [], 'usage': [{'@id': 'b1b91d36-24e8-4b5f-a8ac-35a15f1f3660'}], 'variant': [], 'variantMembership': []}, id='926c690c-5a5f-47be-b309-5c468ea21e7b')], default_edge=<class 'pymbe.widget.diagram.DirectedAssociation'>)"
      ]
     },
     "execution_count": 21,
     "metadata": {},
     "output_type": "execute_result"
    }
   ],
   "source": [
    "transformer.from_id(\"61bd9433-3eec-47f7-af7e-3bf71f19071b\").node"
   ]
  },
  {
   "cell_type": "code",
   "execution_count": 9,
   "id": "8a416373",
   "metadata": {},
   "outputs": [],
   "source": [
    "missing = [elk_id for elk_id, our_id in from_elk_id.items() if our_id is None]\n",
    "lpg.diagram.elk_app.diagram.selected = missing"
   ]
  },
  {
   "cell_type": "code",
   "execution_count": 10,
   "id": "d17ed8f6",
   "metadata": {},
   "outputs": [
    {
     "data": {
      "text/plain": [
       "{'8a260fce-aebb-44f8-a99c-01aceb184316': '1709a68e-ea57-4e8b-b073-8c416f934233',\n",
       " 'a0033005-0dbb-458a-b950-ef32938fe589': '1709a68e-ea57-4e8b-b073-8c416f934233',\n",
       " 'a40b584c-5919-46be-b62a-86e0e355fc7c': '4020dc4e-b2ae-4aea-add1-c2834428630c',\n",
       " '76530180-b14c-45bb-b811-0bb355702673': '4020dc4e-b2ae-4aea-add1-c2834428630c',\n",
       " 'e0d59e9c-f9c0-4778-a6d8-669b75cb16d2': '5aaad7a1-a8ef-4d64-be36-8a9ac3808644',\n",
       " 'dc5a1352-96d4-4792-b62f-89d6c7f77a46': '5aaad7a1-a8ef-4d64-be36-8a9ac3808644',\n",
       " '393b30a7-c4be-42cc-bda0-c38c8e89a3bc': 'b677ae1e-d891-4272-8c7c-ec6a7c07b05e',\n",
       " '7496f93e-a72c-4960-a8f3-2e6654709ece': 'b677ae1e-d891-4272-8c7c-ec6a7c07b05e',\n",
       " '98102ee9-12c4-446b-bfbe-8a61764a3eff': 'bfc96de3-40da-4965-ab4c-6fe92377d63b',\n",
       " '82e28110-d014-47e6-a304-2e6a99837cfd': 'bfc96de3-40da-4965-ab4c-6fe92377d63b',\n",
       " 'eb692b61-8f74-4daa-b531-dbc07d0d1b59': '8e7fd118-6c08-4766-87c1-21f036a337b3',\n",
       " '57671b71-de5d-4e1b-9583-0df3dce26d33': '8e7fd118-6c08-4766-87c1-21f036a337b3',\n",
       " 'b3493db0-1cbc-4bd6-bae8-143a4f3462e3': 'b1b91d36-24e8-4b5f-a8ac-35a15f1f3660',\n",
       " '8485a255-e861-4d71-a525-97e7ce47a618': 'b1b91d36-24e8-4b5f-a8ac-35a15f1f3660',\n",
       " '44bc6c48-7a59-4a2e-a2b9-dfc71efc3979': 'd79611b8-c49d-46f5-8ec4-eef23dd843df',\n",
       " '1dd07abc-6663-46ec-83d7-58254fc9d888': 'd79611b8-c49d-46f5-8ec4-eef23dd843df',\n",
       " '0620c2d8-b1a4-4d9d-b1d5-fb33056c227e': '590a3e9e-4d17-4435-bccc-e24ea6a5c006',\n",
       " 'f610f7aa-fd9e-42e0-96ea-e77e775b2934': '590a3e9e-4d17-4435-bccc-e24ea6a5c006',\n",
       " '3abb72c8-2435-465e-9fc1-cd5c83379396': 'b822a1dd-552e-446b-ac46-0ccdce23fa49',\n",
       " '235c686e-9510-459f-9af9-26c6bb953f2a': 'b822a1dd-552e-446b-ac46-0ccdce23fa49',\n",
       " 'ed6303fa-be1b-4a05-8dc4-37d54228c93e': '67ea2cfa-48c8-4c0d-8637-47d2a4309ab4',\n",
       " 'c58add8f-3d3c-4ac5-acef-6fda267cfcca': '67ea2cfa-48c8-4c0d-8637-47d2a4309ab4',\n",
       " 'e7813e2c-6bba-4de8-817a-4018b55e64b1': 'c639361d-5c85-415b-852a-133d9347ebd1',\n",
       " '888cd0aa-c854-4ba1-b71d-1f39e0b0d6bd': 'c639361d-5c85-415b-852a-133d9347ebd1',\n",
       " '6cc0efd2-6a96-4d2c-b8e2-5377bc77690f': '722b09a9-bd47-456a-a2fd-bdb01d3fb004',\n",
       " 'bc5ef9f7-9618-4244-ad96-229e8d45d184': '722b09a9-bd47-456a-a2fd-bdb01d3fb004',\n",
       " '154481e6-30bc-49ef-ab3b-64fdcdb11e35': '4f44e226-5c43-4a2f-80c3-c274ce2abcfc',\n",
       " '43c4cbdb-89c0-439e-bf86-1026c9841b16': '4f44e226-5c43-4a2f-80c3-c274ce2abcfc',\n",
       " '9bf3b8c2-fd41-429d-bdc1-562732460033': '926c690c-5a5f-47be-b309-5c468ea21e7b',\n",
       " '079589d4-419b-48bd-b18e-d498efad6404': '926c690c-5a5f-47be-b309-5c468ea21e7b',\n",
       " '61bd9433-3eec-47f7-af7e-3bf71f19071b': None,\n",
       " '97f9202e-d50a-457e-bd18-c20f4eb83b20': None,\n",
       " '2aa9f8ea-a4dd-44dd-9657-58ebda3aaf4e': '1709a68e-ea57-4e8b-b073-8c416f934233',\n",
       " '27090516-7eb8-4342-9f97-0fadd51be741': None,\n",
       " 'fec93d3f-38e7-4f3b-8111-05f715128bc0': '4020dc4e-b2ae-4aea-add1-c2834428630c',\n",
       " 'eb023cb7-331b-4670-b91a-c06cc31774bb': None,\n",
       " 'b42223fa-4c29-4d13-9056-11403b0bf9ed': '5aaad7a1-a8ef-4d64-be36-8a9ac3808644',\n",
       " 'e916b47b-4ff2-4a12-8371-cd6020e0d872': None,\n",
       " 'c21891bd-71e4-4d28-bc44-2b39272f636d': 'b677ae1e-d891-4272-8c7c-ec6a7c07b05e',\n",
       " '628f9044-7443-43cc-adc3-6203012463ce': None,\n",
       " '7428f1ae-2089-4203-aa57-0d55ca738817': 'bfc96de3-40da-4965-ab4c-6fe92377d63b',\n",
       " 'c3995ca3-0e06-4f82-ac63-82b8f9e80a7f': None,\n",
       " '5d86c1c8-ffc6-446f-b432-85616109ecfa': '8e7fd118-6c08-4766-87c1-21f036a337b3',\n",
       " '745c41f2-0390-4c62-9ae8-53590c435229': None,\n",
       " '412d03f9-e72c-4e43-a82b-6796f185fe7f': 'b1b91d36-24e8-4b5f-a8ac-35a15f1f3660',\n",
       " 'bfc90eef-7bac-4c7e-9599-ad9a72b2fdd5': None,\n",
       " '6f8b198c-e0b0-4522-937e-304319ac383b': 'd79611b8-c49d-46f5-8ec4-eef23dd843df',\n",
       " '7697ccde-dd25-411e-8905-488fd308da50': None,\n",
       " 'eae553a3-5c90-4f2d-88d2-c6ce067ea50c': '590a3e9e-4d17-4435-bccc-e24ea6a5c006',\n",
       " 'ae041f48-6c2a-401b-9e08-adc1e5a3df91': None,\n",
       " '1bedabaf-5fcb-4b6a-8a53-d26c93f9f9c0': 'b822a1dd-552e-446b-ac46-0ccdce23fa49',\n",
       " 'e92b3903-3f5b-48bf-863c-8796a9068c4e': None,\n",
       " 'a6266ac4-565d-488c-a737-0c2b9911055d': '67ea2cfa-48c8-4c0d-8637-47d2a4309ab4',\n",
       " 'dd00e60c-acde-46a9-bf6e-2255818f87a2': None,\n",
       " 'cf670b61-f166-44b8-9f46-172abf0c6ec9': 'c639361d-5c85-415b-852a-133d9347ebd1',\n",
       " '3461c425-84f5-42b7-813f-f8a71da28e52': None,\n",
       " '1b9f54ac-1202-4b8f-817c-60be39aa079b': '722b09a9-bd47-456a-a2fd-bdb01d3fb004',\n",
       " '775050e7-c7db-4f5a-b8f1-87865c93026f': None,\n",
       " '5c1818e4-0d61-49c2-86bd-eadac323770b': '4f44e226-5c43-4a2f-80c3-c274ce2abcfc',\n",
       " '59168b8e-1b24-4247-9904-800352fd3b46': None,\n",
       " '95bc58d1-f65f-4de8-bcf7-dead12d2b84f': '926c690c-5a5f-47be-b309-5c468ea21e7b',\n",
       " 'root': None,\n",
       " '64349ca3-382e-40f7-841b-35053681915a': 'afa7ba2d-ed6a-4bc1-ba9b-8d11ef23808b',\n",
       " '60ae4dad-e0e4-4189-9491-479b2bd00658': 'afa7ba2d-ed6a-4bc1-ba9b-8d11ef23808b',\n",
       " '5f0b5150-8dd8-4b6e-8623-6ad4c4bf5a8d': 'fa2970ce-ed16-4b7f-b9c7-a7a0901bd8f4',\n",
       " 'ab4eb314-cb4e-4b59-8e76-a57752389341': 'fa2970ce-ed16-4b7f-b9c7-a7a0901bd8f4',\n",
       " '80b8954c-1f84-4fd4-9a68-ba716ec9aed5': '42347e78-cf59-491c-9140-740551322350',\n",
       " '74ae7e87-a7fc-4219-a2d5-d7cc11be0d3a': '42347e78-cf59-491c-9140-740551322350',\n",
       " '0e61cef4-71a3-433a-a444-60cc17f90367': 'c683c263-fe95-4489-ab84-156bd249c649',\n",
       " '9be7870c-a2c5-4b0d-9eb4-42524d580134': 'c683c263-fe95-4489-ab84-156bd249c649',\n",
       " 'fc82f577-0938-4620-a583-d2ca14a3c491': 'eae5c09b-40c4-4f6d-a8f4-7e75f45c709d',\n",
       " 'b30ec527-e608-4e7c-9755-d267c325bfbf': 'eae5c09b-40c4-4f6d-a8f4-7e75f45c709d',\n",
       " 'c2967ce0-400d-4092-9898-c59cc3b9dda1': 'e3ee9efe-d15b-4fde-ad59-d55ba8309aec',\n",
       " '1d0261eb-40d3-46cd-aea5-a4b96efbcaa2': 'e3ee9efe-d15b-4fde-ad59-d55ba8309aec',\n",
       " '133fd202-14b9-483e-8538-4fd086cf1442': '322096eb-2709-49d3-9f00-d9f907f1db6b',\n",
       " '7fd79b29-5eb2-4d49-af4a-91c64e426dd9': '322096eb-2709-49d3-9f00-d9f907f1db6b',\n",
       " '3c303f4a-1654-4467-906b-2b6aaba7e9c7': 'b6bef803-0ea8-47b9-8764-1c5c1354097d',\n",
       " '8ae3adb6-2cff-4f1d-975e-fcd4d32628c7': 'b6bef803-0ea8-47b9-8764-1c5c1354097d',\n",
       " 'e937ed01-7a75-456f-a1ea-e3daf578da06': '8dcdcf5f-003d-4ece-bdf3-bc6379ec2e01',\n",
       " '167ffa49-cb54-4761-a8a5-8a9455e158ec': '8dcdcf5f-003d-4ece-bdf3-bc6379ec2e01',\n",
       " '946b2e69-c2c0-4d7d-8afc-c06c30d40524': '6dcaca60-26ab-4ec9-a10b-8fc2a0ddef76',\n",
       " 'b8066e58-a257-4ba4-94f2-3bb56950c66e': '6dcaca60-26ab-4ec9-a10b-8fc2a0ddef76',\n",
       " 'dfa8e957-941a-4203-b68f-c7db0046b78e': '55b24051-cb66-48b8-bc69-bf7ed261feab',\n",
       " '7ab2922e-88f6-43ea-a948-9c9b3f7b30d0': '55b24051-cb66-48b8-bc69-bf7ed261feab',\n",
       " '6f431386-70bd-4174-bdb6-578919cfc80b': 'eefb471e-b5d5-474a-ad1e-73c90e9ca345',\n",
       " '6394026d-5438-443d-8489-405b2075ce36': 'eefb471e-b5d5-474a-ad1e-73c90e9ca345',\n",
       " 'f317757b-080d-45cf-86b1-902ca92ec447': '22d64ad4-1ae4-46cb-92d8-9b45394587f9',\n",
       " '466fca8d-6db9-4931-a39b-4a983f3c5797': '22d64ad4-1ae4-46cb-92d8-9b45394587f9',\n",
       " '9467414f-e19f-459d-bf26-50191547a859': '5fef1c91-4c10-49f6-9c4d-2332505a2207',\n",
       " 'd28d9460-c13a-4f85-9535-93829cac572c': '5fef1c91-4c10-49f6-9c4d-2332505a2207',\n",
       " '2e280d18-0d77-4f94-9aba-8c44e77e0da7': '375ac89e-bbd3-4b20-81f3-26c6a46717bc',\n",
       " '287de5b0-1635-4be2-b783-99717f64e8ba': '375ac89e-bbd3-4b20-81f3-26c6a46717bc',\n",
       " '895ccb24-5565-41f7-bcc7-762ebdcbf0f1': '56ae554c-a8c3-4609-b873-e1496da0af92',\n",
       " '82746285-d53a-47ca-8e64-e31018b5bd57': '56ae554c-a8c3-4609-b873-e1496da0af92',\n",
       " '4777c352-7c8c-40ba-9480-206ef19c6506': '12f8403b-5468-46ad-a79a-f9281da06be1',\n",
       " '359d19da-e556-4a05-9656-17ac380053c4': '12f8403b-5468-46ad-a79a-f9281da06be1',\n",
       " '6a585f9a-10a1-4edc-a633-1b9eca9dc769': 'caa00ffc-137c-47f4-bb75-683c0f063d07',\n",
       " '83d55a47-fc3e-4f77-b5eb-4649cb88c389': 'caa00ffc-137c-47f4-bb75-683c0f063d07',\n",
       " 'c0187cee-19fb-4f24-a826-fad69f9aa9e6': '8c9299d8-b198-417e-96ac-6b28a2e4cd1a',\n",
       " 'f0f6d39c-e7b1-485e-bed1-7793b8e04e73': '8c9299d8-b198-417e-96ac-6b28a2e4cd1a',\n",
       " 'f8b40620-114b-4545-b08d-35f36218f201': '833d11d5-7bed-480c-a662-1ee0a8957d44',\n",
       " 'dc88f1af-9bf4-4517-89bb-99b2dc76bffc': '833d11d5-7bed-480c-a662-1ee0a8957d44'}"
      ]
     },
     "execution_count": 10,
     "metadata": {},
     "output_type": "execute_result"
    }
   ],
   "source": [
    "from_elk_id"
   ]
  },
  {
   "cell_type": "markdown",
   "id": "bfdc36eb",
   "metadata": {},
   "source": [
    "# Scratch Pad\n",
    "> **WARNING**: Anything below this point is just for experimentation purposes"
   ]
  },
  {
   "cell_type": "markdown",
   "id": "566d115c",
   "metadata": {},
   "source": [
    "## RDF Experiments"
   ]
  },
  {
   "cell_type": "code",
   "execution_count": null,
   "id": "0f1adbfb",
   "metadata": {},
   "outputs": [],
   "source": [
    "def process_edge(source, target, edge_type, data=None):\n",
    "    if edge_type in (\"FeatureTyping\", \"FeatureMembership\"):\n",
    "        source, target = target, source\n",
    "    return [source, target, data]\n",
    "\n",
    "graph = nx.DiGraph()\n",
    "graph.add_edges_from([\n",
    "    process_edge(source, target, edge_type, data)\n",
    "    for (source, target, edge_type), data in dict(client.lpg.graph.edges).items()\n",
    "    if edge_type in (\"Superclassing\", \"FeatureTyping\", \"FeatureMembership\")\n",
    "])\n",
    "graph"
   ]
  },
  {
   "cell_type": "code",
   "execution_count": null,
   "id": "d4f091e3",
   "metadata": {},
   "outputs": [],
   "source": [
    "diagram.graph = graph"
   ]
  },
  {
   "cell_type": "code",
   "execution_count": null,
   "id": "7b6ea5bf",
   "metadata": {},
   "outputs": [],
   "source": [
    "diagram = client.lpg.make_diagram(\n",
    "    graph=client.lpg.subgraph(edge_types=(\"Superclassing\", \"FeatureTyping^-1\", \"FeatureMembership^-1\"))\n",
    ")\n",
    "elk_app, *_ = diagram.children\n",
    "diagram"
   ]
  },
  {
   "cell_type": "code",
   "execution_count": null,
   "id": "1ab211fb",
   "metadata": {},
   "outputs": [],
   "source": [
    "# Select the root node in the diagram...\n",
    "# ... or you can manually select one yourself\n",
    "elk_app.selected = \"5260380b-6fda-43cc-993f-5df58868edbb\","
   ]
  },
  {
   "cell_type": "code",
   "execution_count": null,
   "id": "0c92aa18",
   "metadata": {
    "tags": []
   },
   "outputs": [],
   "source": [
    "first_element_selected, *_ = elk_app.selected\n",
    "client.elements_by_id[first_element_selected]"
   ]
  },
  {
   "cell_type": "markdown",
   "id": "f8a433ad",
   "metadata": {},
   "source": [
    "# Parse JSON-LD into RDF"
   ]
  },
  {
   "cell_type": "code",
   "execution_count": null,
   "id": "d2ab776e",
   "metadata": {},
   "outputs": [],
   "source": [
    "import rdflib\n",
    "from rdflib.extras.external_graph_libs import rdflib_to_networkx_multidigraph\n",
    "import networkx as nx\n",
    "import matplotlib.pyplot as plt\n",
    "\n",
    "result = client.rdf.graph\n",
    "# result = g.parse(url, format='turtle')\n",
    "\n",
    "G = rdflib_to_networkx_multidigraph(result)\n",
    "\n",
    "# Plot Networkx instance of RDF Graph\n",
    "pos = nx.spring_layout(G, scale=2)\n",
    "edge_labels = nx.get_edge_attributes(G, 'r')"
   ]
  },
  {
   "cell_type": "code",
   "execution_count": null,
   "id": "12bce223",
   "metadata": {},
   "outputs": [],
   "source": [
    "ax = plt.figure(figsize=(50,30)).gca();\n",
    "nx.draw_networkx_edge_labels(G, pos, edge_labels=edge_labels, ax=ax)\n",
    "nx.draw(G, with_labels=True, ax=ax)"
   ]
  },
  {
   "cell_type": "markdown",
   "id": "b907c358",
   "metadata": {},
   "source": [
    "# TODOs\n",
    "1. Finish fleshing out the process in the `Kerbal Model.ipynb`\n",
    "2. Modify the subgraph generator so it can take the value from the `Type Selector` directly\n",
    "3. Improve the ipyelk diagram widget (may need to make improvements to `ipyelk`)\n",
    "   * Add arrows\n",
    "   * Add compartments\n",
    "   * Fix layout\n",
    "   * Add widget to see node details\n",
    "4. Finalize the RDF formulation"
   ]
  }
 ],
 "metadata": {
  "kernelspec": {
   "display_name": "Python 3",
   "language": "python",
   "name": "python3"
  },
  "language_info": {
   "codemirror_mode": {
    "name": "ipython",
    "version": 3
   },
   "file_extension": ".py",
   "mimetype": "text/x-python",
   "name": "python",
   "nbconvert_exporter": "python",
   "pygments_lexer": "ipython3",
   "version": "3.9.2"
  }
 },
 "nbformat": 4,
 "nbformat_minor": 5
}
