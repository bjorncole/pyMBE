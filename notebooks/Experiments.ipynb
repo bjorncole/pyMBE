{
 "cells": [
  {
   "cell_type": "markdown",
   "id": "ea67fea0",
   "metadata": {},
   "source": [
    "# Tutorial & Widget Experiments\n",
    "\n",
    "> This notebook is primarily being used to experiment with how to use the `pymbe` widgets.\n",
    ">\n",
    "> It should be fairly \"clean\" until the `Scratch Pad` section.\n",
    ">\n",
    "\n",
    "In the future, this notebook will be cleaned up and renamed \"Tutorial\"."
   ]
  },
  {
   "cell_type": "markdown",
   "id": "2822b5ee",
   "metadata": {},
   "source": [
    "## 1. Import `pymbe` and create a new user interface"
   ]
  },
  {
   "cell_type": "code",
   "execution_count": null,
   "id": "b5ad7fff",
   "metadata": {},
   "outputs": [],
   "source": [
    "import pymbe.api as pm"
   ]
  },
  {
   "cell_type": "code",
   "execution_count": null,
   "id": "33c7c6b0",
   "metadata": {
    "tags": []
   },
   "outputs": [],
   "source": [
    "pm.UI.new(host_url=\"http://sysml2-sst.intercax.com\")"
   ]
  },
  {
   "cell_type": "markdown",
   "id": "db605615",
   "metadata": {},
   "source": [
    "## 2. Use the widget\n",
    "...or automatically load the `Kerbal` model using the cell below by:"
   ]
  },
  {
   "cell_type": "markdown",
   "id": "41b9fecd",
   "metadata": {},
   "source": [
    "1. Grabbing the individual widgets"
   ]
  },
  {
   "cell_type": "code",
   "execution_count": null,
   "id": "35de9547",
   "metadata": {
    "tags": []
   },
   "outputs": [],
   "source": [
    "ui, *_ = _.children\n",
    "client, tree, inspector, lpg, interpreter = ui.children"
   ]
  },
  {
   "cell_type": "markdown",
   "id": "2db2f9fa",
   "metadata": {},
   "source": [
    "2. load a small model"
   ]
  },
  {
   "cell_type": "code",
   "execution_count": null,
   "id": "ee379a8e-f844-460e-bde7-5e4fad6c4bd4",
   "metadata": {},
   "outputs": [],
   "source": [
    "kerbal_project = [name for name in client.project_selector.options if name.startswith(\"Kerbal\")]\n",
    "if kerbal_project:\n",
    "    client.project_selector.value = client.project_selector.options[kerbal_project[-1]]\n",
    "    client._download_elements()"
   ]
  },
  {
   "cell_type": "code",
   "execution_count": null,
   "id": "a703ed47-d4ed-41f8-b62d-20ad24414efb",
   "metadata": {},
   "outputs": [],
   "source": [
    "# lpg.diagram.elk_layout.value"
   ]
  },
  {
   "cell_type": "markdown",
   "id": "cd6aad75-6266-447c-861b-474f84010ad4",
   "metadata": {},
   "source": [
    "# Add all implied edges"
   ]
  },
  {
   "cell_type": "code",
   "execution_count": null,
   "id": "b2cccba6-c112-4596-864a-39efef467798",
   "metadata": {},
   "outputs": [],
   "source": [
    "lpg.elements_by_id = {**lpg.elements_by_id, **lpg.get_implied_elements()}"
   ]
  },
  {
   "cell_type": "markdown",
   "id": "52cbcb0f",
   "metadata": {},
   "source": [
    "...or you can directly adapt the graph and invert edges"
   ]
  },
  {
   "cell_type": "code",
   "execution_count": null,
   "id": "a8ac600b-dcf6-48c9-82d9-580a6783e4bf",
   "metadata": {},
   "outputs": [],
   "source": [
    "client.elements_by_type"
   ]
  },
  {
   "cell_type": "markdown",
   "id": "101f1f71-d3ee-4f3b-97d5-bee98e8732a0",
   "metadata": {},
   "source": [
    "# Add RDF Capabilities with `ipyradiant`"
   ]
  },
  {
   "cell_type": "code",
   "execution_count": null,
   "id": "20d887ff-1aa0-43d7-86ee-10fcb7c99708",
   "metadata": {},
   "outputs": [],
   "source": [
    "import traitlets as trt\n",
    "from ipyradiant.visualization import CytoscapeViewer, InteractiveViewer\n",
    "from pymbe.graph.rdf import SysML2RDFGraph"
   ]
  },
  {
   "cell_type": "code",
   "execution_count": null,
   "id": "611e1bdb-97a9-482f-b8f9-6b778d742d3d",
   "metadata": {},
   "outputs": [],
   "source": [
    "rdf = SysML2RDFGraph()\n",
    "trt.link((lpg, \"elements_by_id\"), (rdf, \"elements_by_id\"))"
   ]
  },
  {
   "cell_type": "code",
   "execution_count": null,
   "id": "63587afe-21fa-40db-96bb-ccf641ba6a90",
   "metadata": {},
   "outputs": [],
   "source": [
    "rdf.graph.namespace_manager.bind(\"purl\", 'http://purl.org/dc/terms/identifier')"
   ]
  },
  {
   "cell_type": "code",
   "execution_count": null,
   "id": "4b664981-244a-4263-98e1-266bbb676fc3",
   "metadata": {},
   "outputs": [],
   "source": [
    "InteractiveViewer(rdf_graph=rdf.graph)"
   ]
  },
  {
   "cell_type": "code",
   "execution_count": null,
   "id": "d2cd65f2-ef10-4ad7-9a98-32a59829ce7f",
   "metadata": {},
   "outputs": [],
   "source": [
    "from rdflib import Graph\n",
    "\n",
    "g = Graph()\n",
    "triples = list(rdf.graph.triples([None, None, None]))[1000:]\n",
    "g.addN([[*triples, \"SysMLv2\"] for triple in triples])"
   ]
  },
  {
   "cell_type": "code",
   "execution_count": null,
   "id": "c93815f6-242a-462a-8605-49c18bb51fd5",
   "metadata": {},
   "outputs": [],
   "source": [
    "%debug"
   ]
  },
  {
   "cell_type": "code",
   "execution_count": 43,
   "id": "796f8fe6-4b3c-41bb-bab5-f4d3aea44c95",
   "metadata": {},
   "outputs": [
    {
     "data": {
      "application/vnd.jupyter.widget-view+json": {
       "model_id": "be115fd08e3a401a8f315b5f38fbc7b7",
       "version_major": 2,
       "version_minor": 0
      },
      "text/plain": [
       "FileUpload(value={}, accept='*.json', description='Upload')"
      ]
     },
     "metadata": {},
     "output_type": "display_data"
    }
   ],
   "source": [
    "import ipywidgets as ipyw\n",
    "\n",
    "file_uploader = ipyw.FileUpload(\n",
    "    accept='*.json',  # Accepted file extension e.g. '.txt', '.pdf', 'image/*', 'image/*,.pdf'\n",
    "    multiple=False,   # True to accept multiple files upload else False\n",
    ")\n",
    "file_uploader"
   ]
  },
  {
   "cell_type": "code",
   "execution_count": 55,
   "id": "33bceaaf-4c05-49a9-ab1e-f843f3bc596a",
   "metadata": {},
   "outputs": [
    {
     "data": {
      "text/plain": [
       "<Response [200]>"
      ]
     },
     "execution_count": 55,
     "metadata": {},
     "output_type": "execute_result"
    }
   ],
   "source": [
    "import requests\n",
    "\n",
    "resp = requests.get(client.elements_url)\n"
   ]
  },
  {
   "cell_type": "code",
   "execution_count": 75,
   "id": "937e52a7-6489-47e2-983b-69b468267047",
   "metadata": {},
   "outputs": [
    {
     "name": "stdout",
     "output_type": "stream",
     "text": [
      "Downloaded 10c-Fuel Economy Analysis, commit: 394fe583-522d-4365-96a9-d6b76ad19adb\n",
      "Downloaded 11b-Safety and Security Feature Views, commit: cd5222e6-d9d4-4eab-8e14-e5613874d245\n",
      "Downloaded 12a-Dependency, commit: 007fad9e-1087-4b3e-acb2-68381f64566e\n",
      "Downloaded 12b-Allocation, commit: 5b9558c5-6a72-453f-b79f-639442a89dd1\n",
      "Downloaded 13a-Model Containment, commit: 0943a45e-4a6c-4e32-b5b8-f4f5d31d3293\n",
      "Downloaded 13b-Safety and Security Features Element Group, commit: 0bf613f0-84e9-4d9d-a29e-b60b4aed3520\n",
      "Downloaded 14a-Language Extensions, commit: 56c06c48-5353-405b-9be3-587cb480a024\n",
      "Downloaded 14b-Language Extensions, commit: 1554bee1-f8d5-4e9c-8c57-bc2cd13980c8\n",
      "Downloaded 15_19-Materials with Properties, commit: ec7e53a4-3082-4c5e-b0af-fa2f4122e7c4\n",
      "Downloaded 1c-Parts Tree Redefinition, commit: a762ee50-e18a-4923-a316-d35ac4209560\n",
      "Downloaded 2a-Parts Interconnection, commit: c5bd396f-0351-4d95-b468-e151a23df719\n",
      "Downloaded 3a-Function-based Behavior-1, commit: 1f6c48ef-4490-4f4d-a576-307ca91ed52a\n",
      "Downloaded 3a-Function-based Behavior-2, commit: 97ddb586-4443-4766-84c1-efbff4eea82b\n",
      "Downloaded 5-State-based Behavior-1, commit: 45b9f11b-4484-4c6e-b3df-24065880d003\n",
      "Downloaded 5-State-based Behavior-1a, commit: 732c97da-5e88-4f6c-a527-bdfc30526e2f\n",
      "Downloaded 6-Individual and Snapshots, commit: e4c3a600-ece7-4e6a-adbf-7d2ee9de8133\n",
      "Downloaded 7b-Variant Configurations, commit: 04c4fee4-1e9b-468b-ab86-6bda0edcd204\n",
      "Downloaded 8-Requirements, commit: 7aa78ec6-ea81-413e-a0e3-230c84069d32\n",
      "Failed to download: 9-Verification-simplified...\n",
      "Downloaded Associating, commit: a1fbeed0-d512-44ff-9c4c-771035fd81c4\n",
      "Downloaded Kerbal, commit: 69116641-5991-4974-9d85-69d8a9e8eee5\n",
      "Downloaded Part Structure Unit Tester, commit: a489eed4-a93e-4ea9-a079-80fafa7cbcb5\n",
      "Downloaded Trials, commit: 5e962f33-54d1-4cd9-8077-92e044c335cc\n",
      "Downloaded hpdekoning_IPC_Example, commit: deaafcde-45dc-4dff-aaed-8090eb5d10e5\n",
      "Downloaded itolchinsky_VehicleModel, commit: 193efad4-2501-4a24-a88f-45ed24528ad0\n",
      "Downloaded sfriedenthal_FlashlightModel_1_Nominal, commit: fded7b9e-a631-4f5f-bff1-f9be0c1b4dcc\n",
      "Downloaded sfriedenthal_VehicleModel_1_simplified, commit: 690f08f0-07b0-41e8-87ab-1a0891ecdd13\n"
     ]
    }
   ],
   "source": [
    "import json\n",
    "from pathlib import Path\n",
    "\n",
    "projects = {\n",
    "    name.split(\" (2021\")[0]: project_id\n",
    "    for name, project_id in client.project_selector.options.items()\n",
    "}\n",
    "projects\n",
    "\n",
    "\n",
    "for name, project_id in projects.items():\n",
    "    try:\n",
    "        client.selected_project = project_id\n",
    "        data = client._get_elements_from_server()\n",
    "        with Path(f\"{name}.json\") as f:\n",
    "            f.write_text(json.dumps(data))\n",
    "        print(f\"Downloaded {name}, commit: {client.selected_commit}\")\n",
    "    except:\n",
    "        print(f\"Failed to download: {name}...\")"
   ]
  },
  {
   "cell_type": "code",
   "execution_count": null,
   "id": "dc89fe28-cdcb-4a8e-8fb9-dcf512e1bcd9",
   "metadata": {},
   "outputs": [],
   "source": [
    "for id_, el in rdf.elements_by_id.items():\n",
    "    context = el.get(\"@context\")\n",
    "    if context:\n",
    "        print(f\"{id_}: has context ({context})\")\n",
    "    else:\n",
    "        print(f\"{id_} has no context\")"
   ]
  },
  {
   "cell_type": "markdown",
   "id": "a1061c68",
   "metadata": {},
   "source": [
    "# Interpretation\n",
    "\n",
    "> This is where we are refactoring the $M_0$ interpretation..."
   ]
  },
  {
   "cell_type": "code",
   "execution_count": null,
   "id": "047730fd-28c5-460f-9863-7ad817a24641",
   "metadata": {},
   "outputs": [],
   "source": [
    "lpg.sysml_projections[\"Complete\"][\"description\"]"
   ]
  },
  {
   "cell_type": "code",
   "execution_count": null,
   "id": "c5fb1f1e",
   "metadata": {},
   "outputs": [],
   "source": [
    "def safe_get(data: dict, *keys, default=None):\n",
    "    for key in keys:\n",
    "        if key not in data:\n",
    "            return default\n",
    "        data = data[key]\n",
    "    return data\n",
    "\n",
    "safe_get(lpg.elements_by_id, \"cb4386fe-67d9-4743-995f-5d4a4162e26e\", \"owner\", \"@id\")"
   ]
  },
  {
   "cell_type": "code",
   "execution_count": null,
   "id": "bde9737a",
   "metadata": {},
   "outputs": [],
   "source": [
    "UNSPECIFIED = object()\n",
    "\n",
    "class SafeDict(dict):\n",
    "\n",
    "    def __init__(self, *args, default=None, **kwargs):\n",
    "        self.__default__ = default or {}\n",
    "        super().__init__(*args, **kwargs)\n",
    "        for key, value in self.items():\n",
    "            self[key] = SafeDict.__convert(value)\n",
    "\n",
    "    def __setitem__(self, k, v):\n",
    "        dict.__setitem__(self, k, SafeDict.__convert(v))\n",
    "\n",
    "    def get(self, item, default=None):\n",
    "        return super().get(item, default) or self.__default__\n",
    "\n",
    "    @staticmethod\n",
    "    def __convert(o):\n",
    "        \"\"\"\n",
    "        Recursively convert `dict` objects in `dict`, `list`, `set`, and\n",
    "        `tuple` objects to `attrdict` objects.\n",
    "        \"\"\"\n",
    "        if isinstance(o, dict):\n",
    "            o = SafeDict(o)\n",
    "        elif isinstance(o, list):\n",
    "            o = list(SafeDict.__convert(v) for v in o)\n",
    "        elif isinstance(o, set):\n",
    "            o = set(SafeDict.__convert(v) for v in o)\n",
    "        elif isinstance(o, tuple):\n",
    "            o = tuple(SafeDict.__convert(v) for v in o)\n",
    "        return o\n",
    "\n",
    "\n",
    "a = SafeDict(dict(agh=1, bum=2, bar=3, baz=dict(bar=2,baz=dict(bar=3,baz=4))))\n",
    "a[\"as\"] = \"if\"\n",
    "a.get(\"as\"), type(a.get(\"baz\")), a.get(\"baz\")"
   ]
  },
  {
   "cell_type": "code",
   "execution_count": null,
   "id": "75203978",
   "metadata": {
    "tags": []
   },
   "outputs": [],
   "source": [
    "from pymbe.interpretation import *\n",
    "\n",
    "def roll_up_upper_multiplicities(lpg):\n",
    "    banded_featuring_graph = make_banded_featuring_graph(lpg)\n",
    "\n",
    "    banded_roots = [\n",
    "        banded_featuring_graph.nodes[node]\n",
    "        for node in banded_featuring_graph\n",
    "        if banded_featuring_graph.out_degree(node) == 0\n",
    "    ]\n",
    "    \n",
    "    for part_usage in \n",
    "\n",
    "elements = lpg.elements_by_id\n",
    "\n",
    "features = [\n",
    "    id_\n",
    "    for id_, data in elements.items()\n",
    "    if data[\"@type\"] == \"Feature\"\n",
    "]\n",
    "\n",
    "for feature in features:\n",
    "    upper_multiplicity = get_feature_upper_multiplicity(elements, feature)\n",
    "    if upper_multiplicity:\n",
    "        print(elements[feature][\"qualifiedName\"], upper_multiplicity)"
   ]
  },
  {
   "cell_type": "markdown",
   "id": "fb413585",
   "metadata": {},
   "source": [
    "# Troubleshooting"
   ]
  },
  {
   "cell_type": "markdown",
   "id": "ec1c77ba",
   "metadata": {},
   "source": [
    "## Fix linking issue with diagram element selector"
   ]
  },
  {
   "cell_type": "code",
   "execution_count": null,
   "id": "e676e9d0",
   "metadata": {},
   "outputs": [],
   "source": [
    "self = lpg.diagram\n",
    "\n",
    "lpg.selected, self.selected, self.elk_app.diagram.selected"
   ]
  },
  {
   "cell_type": "code",
   "execution_count": null,
   "id": "c6ce680a",
   "metadata": {},
   "outputs": [],
   "source": [
    "self.id_mapper.get(*self.elk_app.diagram.selected)"
   ]
  },
  {
   "cell_type": "code",
   "execution_count": null,
   "id": "c4c3386f",
   "metadata": {},
   "outputs": [],
   "source": [
    "self._make_id_mapper()"
   ]
  },
  {
   "cell_type": "code",
   "execution_count": null,
   "id": "77ef2a4a",
   "metadata": {},
   "outputs": [],
   "source": [
    "self = lpg\n",
    "\n",
    "self._update_diagram_graph(button=self.filter_to_path)"
   ]
  },
  {
   "cell_type": "code",
   "execution_count": null,
   "id": "1a2d587c",
   "metadata": {},
   "outputs": [],
   "source": [
    "directed = self.path_directionality.value\n",
    "new_graph = self._get_subgraph(\n",
    "            excluded_edge_types=self.excluded_edge_types,\n",
    "            excluded_node_types=self.excluded_node_types,\n",
    "            reversed_edge_types=self.edge_type_reverser.value,\n",
    "        )\n",
    "\n",
    "source, target = self.selected\n",
    "new_graph = self.get_path_graph(\n",
    "    graph=new_graph,\n",
    "    source=source,\n",
    "    target=target,\n",
    "    directed=directed,\n",
    ")\n",
    "len(new_graph)"
   ]
  },
  {
   "cell_type": "code",
   "execution_count": null,
   "id": "01f7053e",
   "metadata": {},
   "outputs": [],
   "source": [
    "self.diagram.graph = new_graph"
   ]
  },
  {
   "cell_type": "code",
   "execution_count": null,
   "id": "fa72a559",
   "metadata": {},
   "outputs": [],
   "source": [
    "import traitlets as trt\n",
    "\n",
    "\n",
    "self.diagram._update_diagram(trt.Bunch(old=None))"
   ]
  },
  {
   "cell_type": "code",
   "execution_count": null,
   "id": "c80fc487",
   "metadata": {},
   "outputs": [],
   "source": [
    "len(self.diagram.compound(self.diagram.container)[0])"
   ]
  },
  {
   "cell_type": "code",
   "execution_count": null,
   "id": "52be99a6",
   "metadata": {},
   "outputs": [],
   "source": [
    "from dataclasses import dataclass, field\n",
    "\n",
    "@dataclass\n",
    "class Mapper:\n",
    "    to_map: dict = field(repr=False)\n",
    "    from_map: dict = field(default=None, repr=False)\n",
    "\n",
    "    def __repr__(self):\n",
    "        return f\"Mapper({len(self.to_map)} Items)\"\n",
    "\n",
    "    def __post_init__(self, *args, **kwargs):\n",
    "        self.from_map = {v: k for k, v in self.to_map.items()}\n",
    "\n",
    "    def get(self, *items):\n",
    "        found = [\n",
    "            self.to_map.get(item, self.from_map.get(item))\n",
    "            for item in items\n",
    "        ]\n",
    "        return [\n",
    "            item\n",
    "            for item in found\n",
    "            if item is not None\n",
    "        ]\n",
    "    \n",
    "    def __len__(self):\n",
    "        return len(self.to_map)\n",
    "\n",
    "if Mapper({}):\n",
    "    print(\"ahh\")"
   ]
  },
  {
   "cell_type": "code",
   "execution_count": null,
   "id": "365c822c",
   "metadata": {},
   "outputs": [],
   "source": []
  },
  {
   "cell_type": "markdown",
   "id": "b3f85347",
   "metadata": {},
   "source": [
    "---------------------"
   ]
  },
  {
   "cell_type": "code",
   "execution_count": null,
   "id": "40555d37",
   "metadata": {},
   "outputs": [],
   "source": [
    "self = lpg.diagram\n",
    "import networkx as nx\n",
    "\n",
    "_, hierarchy = self.elk_app.transformer.source\n",
    "\n",
    "try:\n",
    "    item = lpg.diagram.elk_app.selected[0]\n",
    "    res = next(hierarchy.predecessors(item)).node\n",
    "except nx.NetworkXError:\n",
    "    res = item.data.get(\"properties\", {}).get(\"@id\")\n",
    "\n",
    "res.id, res.data[\"@id\"]"
   ]
  },
  {
   "cell_type": "code",
   "execution_count": null,
   "id": "2f261d5b",
   "metadata": {},
   "outputs": [],
   "source": [
    "tree.selected, explorer.selected, lpg.selected"
   ]
  },
  {
   "cell_type": "code",
   "execution_count": null,
   "id": "4da55b41",
   "metadata": {},
   "outputs": [],
   "source": [
    "lpg.diagram.elk_app.diagram.selected"
   ]
  },
  {
   "cell_type": "code",
   "execution_count": null,
   "id": "544aa0cb",
   "metadata": {},
   "outputs": [],
   "source": [
    "lpg.selected"
   ]
  },
  {
   "cell_type": "code",
   "execution_count": null,
   "id": "7e1d03dd",
   "metadata": {
    "tags": []
   },
   "outputs": [],
   "source": [
    "self = lpg.diagram\n",
    "\n",
    "_, hierarchy = self.elk_transformer.source\n",
    "\n",
    "self.parts[self.selected[0]], self.elk_app.selected[0]\n",
    "\n",
    "for selected_id in self.selected:\n",
    "    node_selected = self.parts.get(selected_id)\n",
    "    print(node_selected.id)"
   ]
  },
  {
   "cell_type": "code",
   "execution_count": null,
   "id": "f4f68e4d",
   "metadata": {},
   "outputs": [],
   "source": [
    "node_selected.children[0] == self.elk_app.selected[0].node"
   ]
  },
  {
   "cell_type": "markdown",
   "id": "a9bdefa8",
   "metadata": {},
   "source": [
    "---------------"
   ]
  },
  {
   "cell_type": "code",
   "execution_count": null,
   "id": "1b951ab2",
   "metadata": {},
   "outputs": [],
   "source": [
    "from dataclasses import dataclass, field\n",
    "\n",
    "\n",
    "@dataclass\n",
    "class Mapper:\n",
    "    to_map: dict = field(repr=False)\n",
    "    from_map: dict = field(default=None, repr=False)\n",
    "        \n",
    "    def __repr__(self):\n",
    "        return f\"Mapper({len(self.to_map)} Items)\"\n",
    "\n",
    "    def __post_init__(self, *args, **kwargs):\n",
    "        self.from_map = {v: k for k, v in self.to_map.items()}\n",
    "\n",
    "    def get(self, *items):\n",
    "        found = [\n",
    "            self.to_map.get(item, self.from_map.get(item))\n",
    "            for item in items\n",
    "        ]\n",
    "        if len(found) < 2:\n",
    "            found = found[0]\n",
    "        return found\n",
    "\n",
    "mapper = Mapper(from_elk_id)\n",
    "\n",
    "mapper.get(*self.elk_app.diagram.selected)"
   ]
  },
  {
   "cell_type": "code",
   "execution_count": null,
   "id": "5e4838af",
   "metadata": {},
   "outputs": [],
   "source": [
    "a = {1,2,}\n",
    "a.symmetric_difference"
   ]
  },
  {
   "cell_type": "code",
   "execution_count": null,
   "id": "2718dd52",
   "metadata": {},
   "outputs": [],
   "source": [
    "self = lpg.diagram"
   ]
  },
  {
   "cell_type": "code",
   "execution_count": null,
   "id": "1fee9f6c",
   "metadata": {},
   "outputs": [],
   "source": [
    "relationships, hierarchy = self.elk_app.transformer.source"
   ]
  },
  {
   "cell_type": "code",
   "execution_count": null,
   "id": "260bc20a",
   "metadata": {},
   "outputs": [],
   "source": [
    "transformer = self.elk_app.transformer\n",
    "relationships, hierarchy = transformer.source\n",
    "\n",
    "import ipyelk\n",
    "from ipyelk.contrib.elements import (\n",
    "    Compartment,\n",
    ")\n",
    "\n",
    "def id_from_item(item):\n",
    "    id_ = None\n",
    "    if isinstance(item, ipyelk.transform.Edge):\n",
    "        id_ = item.data.get(\"properties\", {}).get(\"@id\")\n",
    "    elif isinstance(getattr(item, \"node\", None), Compartment):\n",
    "        id_ = next(hierarchy.predecessors(item)).node.id\n",
    "    if id_ is None:\n",
    "        self.log.debug(f\"Could not parse: {item}\")\n",
    "    return id_\n",
    "\n",
    "from_elk_id = {\n",
    "    elk_id: id_from_item(elk_item)\n",
    "    for elk_id, elk_item in transformer._elk_to_item.items()\n",
    "}\n",
    "\n",
    "from_elk_id = {\n",
    "    elk_id: sysml_id\n",
    "    for elk_id, sysml_id in from_elk_id.items()\n",
    "    if sysml_id is not None\n",
    "}\n",
    "found_ids = set(from_elk_id.values())\n",
    "\n",
    "for extra in set(lpg.elements_by_id).symmetric_difference(found_ids):\n",
    "    print(lpg.elements_by_id[extra])\n",
    "\n",
    "\n"
   ]
  },
  {
   "cell_type": "code",
   "execution_count": null,
   "id": "dcf4aad5",
   "metadata": {},
   "outputs": [],
   "source": [
    "transformer.from_id(\"61bd9433-3eec-47f7-af7e-3bf71f19071b\").node"
   ]
  },
  {
   "cell_type": "code",
   "execution_count": null,
   "id": "17e8af30",
   "metadata": {},
   "outputs": [],
   "source": [
    "missing = [elk_id for elk_id, our_id in from_elk_id.items() if our_id is None]\n",
    "lpg.diagram.elk_app.diagram.selected = missing"
   ]
  },
  {
   "cell_type": "code",
   "execution_count": null,
   "id": "e1629d4c",
   "metadata": {},
   "outputs": [],
   "source": [
    "from_elk_id"
   ]
  },
  {
   "cell_type": "markdown",
   "id": "6e6ef285",
   "metadata": {},
   "source": [
    "# Scratch Pad\n",
    "> **WARNING**: Anything below this point is just for experimentation purposes"
   ]
  },
  {
   "cell_type": "markdown",
   "id": "6a6264e4",
   "metadata": {},
   "source": [
    "## RDF Experiments"
   ]
  },
  {
   "cell_type": "code",
   "execution_count": null,
   "id": "15b6228a",
   "metadata": {},
   "outputs": [],
   "source": [
    "def process_edge(source, target, edge_type, data=None):\n",
    "    if edge_type in (\"FeatureTyping\", \"FeatureMembership\"):\n",
    "        source, target = target, source\n",
    "    return [source, target, data]\n",
    "\n",
    "graph = nx.DiGraph()\n",
    "graph.add_edges_from([\n",
    "    process_edge(source, target, edge_type, data)\n",
    "    for (source, target, edge_type), data in dict(client.lpg.graph.edges).items()\n",
    "    if edge_type in (\"Superclassing\", \"FeatureTyping\", \"FeatureMembership\")\n",
    "])\n",
    "graph"
   ]
  },
  {
   "cell_type": "code",
   "execution_count": null,
   "id": "51ecb619",
   "metadata": {},
   "outputs": [],
   "source": [
    "diagram.graph = graph"
   ]
  },
  {
   "cell_type": "code",
   "execution_count": null,
   "id": "9890d4be",
   "metadata": {},
   "outputs": [],
   "source": [
    "diagram = client.lpg.make_diagram(\n",
    "    graph=client.lpg.subgraph(edge_types=(\"Superclassing\", \"FeatureTyping^-1\", \"FeatureMembership^-1\"))\n",
    ")\n",
    "elk_app, *_ = diagram.children\n",
    "diagram"
   ]
  },
  {
   "cell_type": "code",
   "execution_count": null,
   "id": "3e4e6712",
   "metadata": {},
   "outputs": [],
   "source": [
    "# Select the root node in the diagram...\n",
    "# ... or you can manually select one yourself\n",
    "elk_app.selected = \"5260380b-6fda-43cc-993f-5df58868edbb\","
   ]
  },
  {
   "cell_type": "code",
   "execution_count": null,
   "id": "316bb6ec",
   "metadata": {
    "tags": []
   },
   "outputs": [],
   "source": [
    "first_element_selected, *_ = elk_app.selected\n",
    "client.elements_by_id[first_element_selected]"
   ]
  },
  {
   "cell_type": "markdown",
   "id": "f0336664",
   "metadata": {},
   "source": [
    "# Parse JSON-LD into RDF"
   ]
  },
  {
   "cell_type": "code",
   "execution_count": null,
   "id": "edc2e147",
   "metadata": {},
   "outputs": [],
   "source": [
    "import rdflib\n",
    "from rdflib.extras.external_graph_libs import rdflib_to_networkx_multidigraph\n",
    "import networkx as nx\n",
    "import matplotlib.pyplot as plt\n",
    "\n",
    "result = client.rdf.graph\n",
    "# result = g.parse(url, format='turtle')\n",
    "\n",
    "G = rdflib_to_networkx_multidigraph(result)\n",
    "\n",
    "# Plot Networkx instance of RDF Graph\n",
    "pos = nx.spring_layout(G, scale=2)\n",
    "edge_labels = nx.get_edge_attributes(G, 'r')"
   ]
  },
  {
   "cell_type": "code",
   "execution_count": null,
   "id": "c71f193d",
   "metadata": {},
   "outputs": [],
   "source": [
    "ax = plt.figure(figsize=(50,30)).gca();\n",
    "nx.draw_networkx_edge_labels(G, pos, edge_labels=edge_labels, ax=ax)\n",
    "nx.draw(G, with_labels=True, ax=ax)"
   ]
  },
  {
   "cell_type": "markdown",
   "id": "c057b5bf",
   "metadata": {},
   "source": [
    "# TODOs\n",
    "1. Finish fleshing out the process in the `Kerbal Model.ipynb`\n",
    "2. Modify the subgraph generator so it can take the value from the `Type Selector` directly\n",
    "3. Improve the ipyelk diagram widget (may need to make improvements to `ipyelk`)\n",
    "   * Add arrows\n",
    "   * Add compartments\n",
    "   * Fix layout\n",
    "   * Add widget to see node details\n",
    "4. Finalize the RDF formulation"
   ]
  }
 ],
 "metadata": {
  "kernelspec": {
   "display_name": "Python 3",
   "language": "python",
   "name": "python3"
  },
  "language_info": {
   "codemirror_mode": {
    "name": "ipython",
    "version": 3
   },
   "file_extension": ".py",
   "mimetype": "text/x-python",
   "name": "python",
   "nbconvert_exporter": "python",
   "pygments_lexer": "ipython3",
   "version": "3.9.2"
  }
 },
 "nbformat": 4,
 "nbformat_minor": 5
}
