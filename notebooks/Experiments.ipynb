{
 "cells": [
  {
   "cell_type": "markdown",
   "id": "cf47aec7",
   "metadata": {},
   "source": [
    "# Tutorial & Widget Experiments\n",
    "\n",
    "> This notebook is primarily being used to experiment with how to use the `pymbe` widgets.\n",
    ">\n",
    "> It should be fairly \"clean\" until the `Scratch Pad` section.\n",
    ">\n",
    "\n",
    "In the future, this notebook will be cleaned up and renamed \"Tutorial\"."
   ]
  },
  {
   "cell_type": "markdown",
   "id": "95eda314",
   "metadata": {},
   "source": [
    "## 1. Import `pymbe` and create a new user interface"
   ]
  },
  {
   "cell_type": "code",
   "execution_count": null,
   "id": "a603c23f",
   "metadata": {},
   "outputs": [],
   "source": [
    "import pymbe.api as pm"
   ]
  },
  {
   "cell_type": "code",
   "execution_count": null,
   "id": "cd03353c",
   "metadata": {
    "tags": []
   },
   "outputs": [],
   "source": [
    "pm.UI.new(host_url=\"http://sysml2-sst.intercax.com\")"
   ]
  },
  {
   "cell_type": "markdown",
   "id": "b95e47dc",
   "metadata": {},
   "source": [
    "## 2. Use the widget\n",
    "...or automatically load the `Kerbal` model using the cell below by:"
   ]
  },
  {
   "cell_type": "markdown",
   "id": "9780c788",
   "metadata": {},
   "source": [
    "1. Grabbing the individual widgets"
   ]
  },
  {
   "cell_type": "code",
   "execution_count": null,
   "id": "1a94323f",
   "metadata": {
    "tags": []
   },
   "outputs": [],
   "source": [
    "ui, *_ = _.children\n",
    "client, tree, inspector, lpg = ui.children"
   ]
  },
  {
   "cell_type": "markdown",
   "id": "74e96f94",
   "metadata": {},
   "source": [
    "2. load a small model"
   ]
  },
  {
   "cell_type": "code",
   "execution_count": null,
   "id": "3667fa28",
   "metadata": {},
   "outputs": [],
   "source": [
    "client.project_selector.value = client.project_selector.options[\"12b-Allocation\"]\n",
    "client._download_elements()"
   ]
  },
  {
   "cell_type": "markdown",
   "id": "2eba990f",
   "metadata": {},
   "source": [
    "...and, for example, select some edge types to filter down the diagram"
   ]
  },
  {
   "cell_type": "code",
   "execution_count": null,
   "id": "697eefe7",
   "metadata": {
    "tags": []
   },
   "outputs": [],
   "source": [
    "EDGE_TYPES_TO_SELECT =  (\"Superclassing\", \"FeatureTyping\", \"FeatureMembership\")\n",
    "lpg.edge_type_selector.value = [\n",
    "    edges\n",
    "    for key, edges in lpg.edge_type_selector.options.items()\n",
    "    if any(\n",
    "        key.startswith(edge_type)\n",
    "        for edge_type in EDGE_TYPES_TO_SELECT\n",
    "    )\n",
    "]\n",
    "lpg._update_diagram_graph()"
   ]
  },
  {
   "cell_type": "markdown",
   "id": "eff22c5e",
   "metadata": {},
   "source": [
    "# Interpretation\n",
    "\n",
    "> This is where we are refactoring the $M_0$ interpretation..."
   ]
  },
  {
   "cell_type": "code",
   "execution_count": null,
   "id": "9ad71109",
   "metadata": {},
   "outputs": [],
   "source": [
    "def safe_get(data: dict, *keys, default=None):\n",
    "    for key in keys:\n",
    "        if key not in data:\n",
    "            return default\n",
    "        data = data[key]\n",
    "    return data\n",
    "\n",
    "safe_get(lpg.elements_by_id, \"cb4386fe-67d9-4743-995f-5d4a4162e26e\", \"owner\", \"@id\")"
   ]
  },
  {
   "cell_type": "code",
   "execution_count": null,
   "id": "7484a939",
   "metadata": {},
   "outputs": [],
   "source": [
    "UNSPECIFIED = object()\n",
    "\n",
    "class SafeDict(dict):\n",
    "\n",
    "    def __init__(self, *args, default=None, **kwargs):\n",
    "        self.__default__ = default or {}\n",
    "        super().__init__(*args, **kwargs)\n",
    "        for key, value in self.items():\n",
    "            self[key] = SafeDict.__convert(value)\n",
    "\n",
    "    def __setitem__(self, k, v):\n",
    "        dict.__setitem__(self, k, SafeDict.__convert(v))\n",
    "\n",
    "    def get(self, item, default=None):\n",
    "        return super().get(item, default) or self.__default__\n",
    "\n",
    "    @staticmethod\n",
    "    def __convert(o):\n",
    "        \"\"\"\n",
    "        Recursively convert `dict` objects in `dict`, `list`, `set`, and\n",
    "        `tuple` objects to `attrdict` objects.\n",
    "        \"\"\"\n",
    "        if isinstance(o, dict):\n",
    "            o = SafeDict(o)\n",
    "        elif isinstance(o, list):\n",
    "            o = list(SafeDict.__convert(v) for v in o)\n",
    "        elif isinstance(o, set):\n",
    "            o = set(SafeDict.__convert(v) for v in o)\n",
    "        elif isinstance(o, tuple):\n",
    "            o = tuple(SafeDict.__convert(v) for v in o)\n",
    "        return o\n",
    "\n",
    "\n",
    "a = SafeDict(dict(agh=1, bum=2, bar=3, baz=dict(bar=2,baz=dict(bar=3,baz=4))))\n",
    "a[\"as\"] = \"if\"\n",
    "a.get(\"as\"), type(a.get(\"baz\")), a.get(\"baz\")"
   ]
  },
  {
   "cell_type": "code",
   "execution_count": null,
   "id": "b59e5e98",
   "metadata": {
    "tags": []
   },
   "outputs": [],
   "source": [
    "from pymbe.interpretation import *\n",
    "\n",
    "def roll_up_upper_multiplicities(lpg):\n",
    "    banded_featuring_graph = make_banded_featuring_graph(lpg)\n",
    "\n",
    "    banded_roots = [\n",
    "        banded_featuring_graph.nodes[node]\n",
    "        for node in banded_featuring_graph\n",
    "        if banded_featuring_graph.out_degree(node) == 0\n",
    "    ]\n",
    "    \n",
    "    for part_usage in \n",
    "\n",
    "elements = lpg.elements_by_id\n",
    "\n",
    "features = [\n",
    "    id_\n",
    "    for id_, data in elements.items()\n",
    "    if data[\"@type\"] == \"Feature\"\n",
    "]\n",
    "\n",
    "for feature in features:\n",
    "    upper_multiplicity = get_feature_upper_multiplicity(elements, feature)\n",
    "    if upper_multiplicity:\n",
    "        print(elements[feature][\"qualifiedName\"], upper_multiplicity)"
   ]
  },
  {
   "cell_type": "markdown",
   "id": "681d04e9",
   "metadata": {},
   "source": [
    "# Troubleshooting"
   ]
  },
  {
   "cell_type": "markdown",
   "id": "15b6b126",
   "metadata": {},
   "source": [
    "## Fix linking issue with diagram element selector"
   ]
  },
  {
   "cell_type": "code",
   "execution_count": null,
   "id": "dc2f740d",
   "metadata": {},
   "outputs": [],
   "source": [
    "self = lpg.diagram\n",
    "transformer = self.elk_app.transformer\n",
    "\n",
    "connections, hierarchy = transformer.source\n",
    "\n",
    "def get_id(item, hierarchy):\n",
    "    try:\n",
    "        return next(hierarchy.predecessors(item)).node.data[\"@id\"]\n",
    "    except StopIteration:\n",
    "        return None\n",
    "\n",
    "to_elk_id = {\n",
    "    get_id(item, hierarchy): elk_id\n",
    "    for elk_id, item in transformer._elk_to_item.items()\n",
    "    if item in hierarchy\n",
    "}\n",
    "\n",
    "\n",
    "for edge, data in connections.edges.values():\n",
    "    # print(edge)\n",
    "    break\n",
    "edge"
   ]
  },
  {
   "cell_type": "code",
   "execution_count": null,
   "id": "4d182dfd",
   "metadata": {},
   "outputs": [],
   "source": [
    "tree.selected, inspector.selected, lpg.selected"
   ]
  },
  {
   "cell_type": "code",
   "execution_count": null,
   "id": "01f4de87",
   "metadata": {},
   "outputs": [],
   "source": [
    "lpg.diagram.elk_app.diagram.selected"
   ]
  },
  {
   "cell_type": "code",
   "execution_count": null,
   "id": "55b49cf4",
   "metadata": {},
   "outputs": [],
   "source": [
    "lpg.diagram.elk_app.diagram.center()"
   ]
  },
  {
   "cell_type": "code",
   "execution_count": null,
   "id": "1d6713ef",
   "metadata": {},
   "outputs": [],
   "source": [
    "import ipyelk\n",
    "\n",
    "ipyelk.ElkDiagram"
   ]
  },
  {
   "cell_type": "code",
   "execution_count": null,
   "id": "1f3385b9",
   "metadata": {
    "tags": []
   },
   "outputs": [],
   "source": [
    "self = lpg.diagram\n",
    "\n",
    "_, hierarchy = self.elk_app.transformer.source\n",
    "len(hierarchy.nodes), len(hierarchy.edges)"
   ]
  },
  {
   "cell_type": "code",
   "execution_count": null,
   "id": "c2230d95",
   "metadata": {
    "tags": []
   },
   "outputs": [],
   "source": [
    "self.parts[self.selected[0]], self.elk_app.selected[0]\n",
    "\n",
    "for selected_id in self.selected:\n",
    "    node_selected = self.parts.get(selected_id)\n",
    "    print(node_selected.id)"
   ]
  },
  {
   "cell_type": "code",
   "execution_count": null,
   "id": "474381b5",
   "metadata": {},
   "outputs": [],
   "source": [
    "node_selected.children[0] == self.elk_app.selected[0].node"
   ]
  },
  {
   "cell_type": "markdown",
   "id": "e6c24eea",
   "metadata": {},
   "source": [
    "# Scratch Pad\n",
    "> **WARNING**: Anything below this point is just for experimentation purposes"
   ]
  },
  {
   "cell_type": "markdown",
   "id": "d5dee1dc",
   "metadata": {},
   "source": [
    "## RDF Experiments"
   ]
  },
  {
   "cell_type": "code",
   "execution_count": null,
   "id": "d54d3b47",
   "metadata": {},
   "outputs": [],
   "source": [
    "def process_edge(source, target, edge_type, data=None):\n",
    "    if edge_type in (\"FeatureTyping\", \"FeatureMembership\"):\n",
    "        source, target = target, source\n",
    "    return [source, target, data]\n",
    "\n",
    "graph = nx.DiGraph()\n",
    "graph.add_edges_from([\n",
    "    process_edge(source, target, edge_type, data)\n",
    "    for (source, target, edge_type), data in dict(client.lpg.graph.edges).items()\n",
    "    if edge_type in (\"Superclassing\", \"FeatureTyping\", \"FeatureMembership\")\n",
    "])\n",
    "graph"
   ]
  },
  {
   "cell_type": "code",
   "execution_count": null,
   "id": "34c328f3",
   "metadata": {},
   "outputs": [],
   "source": [
    "diagram.graph = graph"
   ]
  },
  {
   "cell_type": "code",
   "execution_count": null,
   "id": "443a6177",
   "metadata": {},
   "outputs": [],
   "source": [
    "diagram = client.lpg.make_diagram(\n",
    "    graph=client.lpg.subgraph(edge_types=(\"Superclassing\", \"FeatureTyping^-1\", \"FeatureMembership^-1\"))\n",
    ")\n",
    "elk_app, *_ = diagram.children\n",
    "diagram"
   ]
  },
  {
   "cell_type": "code",
   "execution_count": null,
   "id": "82498dd0",
   "metadata": {},
   "outputs": [],
   "source": [
    "# Select the root node in the diagram...\n",
    "# ... or you can manually select one yourself\n",
    "elk_app.selected = \"5260380b-6fda-43cc-993f-5df58868edbb\","
   ]
  },
  {
   "cell_type": "code",
   "execution_count": null,
   "id": "b5c8701e",
   "metadata": {
    "tags": []
   },
   "outputs": [],
   "source": [
    "first_element_selected, *_ = elk_app.selected\n",
    "client.elements_by_id[first_element_selected]"
   ]
  },
  {
   "cell_type": "markdown",
   "id": "d2c189f8",
   "metadata": {},
   "source": [
    "# Parse JSON-LD into RDF"
   ]
  },
  {
   "cell_type": "code",
   "execution_count": null,
   "id": "e32213da",
   "metadata": {},
   "outputs": [],
   "source": [
    "import rdflib\n",
    "from rdflib.extras.external_graph_libs import rdflib_to_networkx_multidigraph\n",
    "import networkx as nx\n",
    "import matplotlib.pyplot as plt\n",
    "\n",
    "result = client.rdf.graph\n",
    "# result = g.parse(url, format='turtle')\n",
    "\n",
    "G = rdflib_to_networkx_multidigraph(result)\n",
    "\n",
    "# Plot Networkx instance of RDF Graph\n",
    "pos = nx.spring_layout(G, scale=2)\n",
    "edge_labels = nx.get_edge_attributes(G, 'r')"
   ]
  },
  {
   "cell_type": "code",
   "execution_count": null,
   "id": "0c83baf0",
   "metadata": {},
   "outputs": [],
   "source": [
    "ax = plt.figure(figsize=(50,30)).gca();\n",
    "nx.draw_networkx_edge_labels(G, pos, edge_labels=edge_labels, ax=ax)\n",
    "nx.draw(G, with_labels=True, ax=ax)"
   ]
  },
  {
   "cell_type": "markdown",
   "id": "db4115d0",
   "metadata": {},
   "source": [
    "# TODOs\n",
    "1. Finish fleshing out the process in the `Kerbal Model.ipynb`\n",
    "2. Modify the subgraph generator so it can take the value from the `Type Selector` directly\n",
    "3. Improve the ipyelk diagram widget (may need to make improvements to `ipyelk`)\n",
    "   * Add arrows\n",
    "   * Add compartments\n",
    "   * Fix layout\n",
    "   * Add widget to see node details\n",
    "4. Finalize the RDF formulation"
   ]
  }
 ],
 "metadata": {
  "kernelspec": {
   "display_name": "Python 3",
   "language": "python",
   "name": "python3"
  },
  "language_info": {
   "codemirror_mode": {
    "name": "ipython",
    "version": 3
   },
   "file_extension": ".py",
   "mimetype": "text/x-python",
   "name": "python",
   "nbconvert_exporter": "python",
   "pygments_lexer": "ipython3",
   "version": "3.9.2"
  }
 },
 "nbformat": 4,
 "nbformat_minor": 5
}
