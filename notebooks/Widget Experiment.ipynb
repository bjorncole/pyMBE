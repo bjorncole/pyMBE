{
 "cells": [
  {
   "cell_type": "markdown",
   "id": "prerequisite-budget",
   "metadata": {},
   "source": [
    "# Tutorial & Widget Experiments\n",
    "\n",
    "> This notebook is primarily being used to experiment with how to use the `pymbe` widgets.\n",
    ">\n",
    "> It should be fairly \"clean\" until the `Scratch Pad` section.\n",
    ">\n",
    "\n",
    "In the future, this notebook will be cleaned up and renamed \"Tutorial\"."
   ]
  },
  {
   "cell_type": "markdown",
   "id": "reliable-hampshire",
   "metadata": {},
   "source": [
    "## 1. Import `pymbe` and widget libraries"
   ]
  },
  {
   "cell_type": "code",
   "execution_count": 1,
   "id": "received-insert",
   "metadata": {},
   "outputs": [],
   "source": [
    "import ipywidgets as ipyw\n",
    "import traitlets as trt\n",
    "\n",
    "import pymbe.api as pm"
   ]
  },
  {
   "cell_type": "markdown",
   "id": "greenhouse-employer",
   "metadata": {
    "tags": []
   },
   "source": [
    "## 2. Create a Project Loader and Tree Explorer\n",
    "> We'll also link their `elements_by_id` traitlets so as download new data, the project widget will be updated"
   ]
  },
  {
   "cell_type": "code",
   "execution_count": 2,
   "id": "incoming-poultry",
   "metadata": {
    "tags": []
   },
   "outputs": [
    {
     "name": "stderr",
     "output_type": "stream",
     "text": [
      "C:\\sandboxes\\pymbe\\envs\\user\\lib\\site-packages\\dateutil\\parser\\_parser.py:1213: UnknownTimezoneWarning: tzname EST identified but not understood.  Pass `tzinfos` argument in order to correctly return a timezone-aware datetime.  In a future version, this will raise an exception.\n",
      "  warnings.warn(\"tzname {tzname} identified but not understood.  \"\n"
     ]
    }
   ],
   "source": [
    "client = pm.SysML2ClientWidget(host_url=\"http://sysml2-sst.intercax.com\")\n",
    "project = pm.ProjectExplorer()\n",
    "trt.link((client, \"elements_by_id\"), (project, \"elements_by_id\"))\n",
    "loader = ipyw.VBox([client.widget, project])"
   ]
  },
  {
   "cell_type": "markdown",
   "id": "consecutive-fluid",
   "metadata": {
    "tags": []
   },
   "source": [
    "## 3. Create a Labelled Property Graph\n",
    "> Will also link the LPG's `elements_by_id` traitlet"
   ]
  },
  {
   "cell_type": "code",
   "execution_count": 3,
   "id": "distinct-technical",
   "metadata": {
    "tags": []
   },
   "outputs": [
    {
     "data": {
      "text/plain": [
       "<traitlets.traitlets.link at 0x170bf5bb160>"
      ]
     },
     "execution_count": 3,
     "metadata": {},
     "output_type": "execute_result"
    }
   ],
   "source": [
    "lpg = pm.SysML2LPGWidget()\n",
    "trt.link((client, \"elements_by_id\"), (lpg, \"elements_by_id\"))"
   ]
  },
  {
   "cell_type": "markdown",
   "id": "academic-compatibility",
   "metadata": {
    "tags": []
   },
   "source": [
    "## 4. ... and combine them into a single widget\n",
    "> In the future, a combined widget will be offered as part of `pymbe`"
   ]
  },
  {
   "cell_type": "markdown",
   "id": "protected-secretariat",
   "metadata": {},
   "source": [
    "lpg.layout.height=\"100vh\"\n",
    "lpg.diagram.layout.height=\"100vh\"\n",
    "lpg.diagram.layout.width=\"auto\"\n",
    "project.layout.width=\"100%\""
   ]
  },
  {
   "cell_type": "code",
   "execution_count": 4,
   "id": "swiss-colonial",
   "metadata": {},
   "outputs": [],
   "source": [
    "lpg.diagram.elk_app.layout.height=\"100vh\""
   ]
  },
  {
   "cell_type": "code",
   "execution_count": 11,
   "id": "forbidden-county",
   "metadata": {
    "tags": []
   },
   "outputs": [
    {
     "data": {
      "application/vnd.jupyter.widget-view+json": {
       "model_id": "819031e8051145cda61f27c5dc8df53b",
       "version_major": 2,
       "version_minor": 0
      },
      "text/plain": [
       "Tab(children=(GridspecLayout(children=(Text(value='http://sysml2-sst.intercax.com', description='Server:', des…"
      ]
     },
     "metadata": {},
     "output_type": "display_data"
    }
   ],
   "source": [
    "widget = ipyw.Tab(\n",
    "    children=[client.widget, project, lpg],\n",
    "    _titles={0: \"Load\", 1: \"Project Tree\", 2: \"Diagram\"},\n",
    ")\n",
    "widget"
   ]
  },
  {
   "cell_type": "markdown",
   "id": "adverse-sheffield",
   "metadata": {},
   "source": [
    "## 5. Use the widget\n",
    "...or automatically load the `Kerbal` model using the cell below"
   ]
  },
  {
   "cell_type": "code",
   "execution_count": 6,
   "id": "controlled-slide",
   "metadata": {
    "tags": []
   },
   "outputs": [],
   "source": [
    "client.project_selector.value = client.project_selector.options[\"Kerbal\"]\n",
    "client._download_elements()"
   ]
  },
  {
   "cell_type": "markdown",
   "id": "promotional-contributor",
   "metadata": {},
   "source": [
    "... for example, you can select some edges and filter down the diagram to those"
   ]
  },
  {
   "cell_type": "code",
   "execution_count": 16,
   "id": "effective-telescope",
   "metadata": {},
   "outputs": [],
   "source": [
    "lpg.layout.height = \"80vh\"\n",
    "lpg.diagram.layout.height = \"100%\"\n",
    "lpg.diagram.elk_app.layout.height = \"100%\""
   ]
  },
  {
   "cell_type": "code",
   "execution_count": 18,
   "id": "timely-summer",
   "metadata": {},
   "outputs": [],
   "source": [
    "lpg.diagram.layout.height = \"100vh\"\n",
    "lpg.children = [lpg.diagram]"
   ]
  },
  {
   "cell_type": "code",
   "execution_count": 6,
   "id": "indonesian-scholar",
   "metadata": {
    "tags": []
   },
   "outputs": [],
   "source": [
    "EDGE_TYPES_TO_SELECT =  (\"Superclassing\", \"FeatureTyping\", \"FeatureMembership\")\n",
    "lpg.edge_type_selector.value = [\n",
    "    edges\n",
    "    for key, edges in lpg.edge_type_selector.options.items()\n",
    "    if any(\n",
    "        key.startswith(edge_type)\n",
    "        for edge_type in EDGE_TYPES_TO_SELECT\n",
    "    )\n",
    "]\n",
    "lpg._update_diagram_graph()"
   ]
  },
  {
   "cell_type": "markdown",
   "id": "boolean-chess",
   "metadata": {},
   "source": [
    "# Scratch Pad\n",
    "> **WARNING**: Anything below this point is just for experimentation purposes"
   ]
  },
  {
   "cell_type": "code",
   "execution_count": null,
   "id": "catholic-sally",
   "metadata": {},
   "outputs": [],
   "source": [
    "# Create a widget to see the qualified name of the elements nodes selected\n",
    "import ipywidgets as ipyw\n",
    "\n",
    "out = ipyw.Output(layout={'border': '1px solid black'})\n",
    "\n",
    "def update_node_selections(*_):\n",
    "    out.outputs = []\n",
    "    with out:\n",
    "        [\n",
    "            print(element[\"qualifiedName\"])\n",
    "            for element in lpg.selected_nodes_by_type\n",
    "        ]\n",
    "            \n",
    "lpg.node_type_selector.observe(update_node_selections, \"value\")\n",
    "\n",
    "out"
   ]
  },
  {
   "cell_type": "code",
   "execution_count": null,
   "id": "widespread-tuition",
   "metadata": {},
   "outputs": [],
   "source": [
    "def process_edge(source, target, edge_type, data=None):\n",
    "    if edge_type in (\"FeatureTyping\", \"FeatureMembership\"):\n",
    "        source, target = target, source\n",
    "    return [source, target, data]\n",
    "\n",
    "graph = nx.DiGraph()\n",
    "graph.add_edges_from([\n",
    "    process_edge(source, target, edge_type, data)\n",
    "    for (source, target, edge_type), data in dict(client.lpg.graph.edges).items()\n",
    "    if edge_type in (\"Superclassing\", \"FeatureTyping\", \"FeatureMembership\")\n",
    "])\n",
    "graph"
   ]
  },
  {
   "cell_type": "code",
   "execution_count": null,
   "id": "restricted-savings",
   "metadata": {},
   "outputs": [],
   "source": [
    "diagram.graph = graph"
   ]
  },
  {
   "cell_type": "code",
   "execution_count": null,
   "id": "passive-panic",
   "metadata": {},
   "outputs": [],
   "source": [
    "diagram = client.lpg.make_diagram(\n",
    "    graph=client.lpg.subgraph(edge_types=(\"Superclassing\", \"FeatureTyping^-1\", \"FeatureMembership^-1\"))\n",
    ")\n",
    "elk_app, *_ = diagram.children\n",
    "diagram"
   ]
  },
  {
   "cell_type": "code",
   "execution_count": null,
   "id": "registered-washington",
   "metadata": {},
   "outputs": [],
   "source": [
    "# Select the root node in the diagram...\n",
    "# ... or you can manually select one yourself\n",
    "elk_app.selected = \"5260380b-6fda-43cc-993f-5df58868edbb\","
   ]
  },
  {
   "cell_type": "code",
   "execution_count": null,
   "id": "architectural-brand",
   "metadata": {
    "tags": []
   },
   "outputs": [],
   "source": [
    "first_element_selected, *_ = elk_app.selected\n",
    "client.elements_by_id[first_element_selected]"
   ]
  },
  {
   "cell_type": "markdown",
   "id": "studied-mailing",
   "metadata": {},
   "source": [
    "# Parse JSON-LD into RDF"
   ]
  },
  {
   "cell_type": "code",
   "execution_count": null,
   "id": "regulation-promotion",
   "metadata": {},
   "outputs": [],
   "source": [
    "import rdflib\n",
    "from rdflib.extras.external_graph_libs import rdflib_to_networkx_multidigraph\n",
    "import networkx as nx\n",
    "import matplotlib.pyplot as plt\n",
    "\n",
    "result = client.rdf.graph\n",
    "# result = g.parse(url, format='turtle')\n",
    "\n",
    "G = rdflib_to_networkx_multidigraph(result)\n",
    "\n",
    "# Plot Networkx instance of RDF Graph\n",
    "pos = nx.spring_layout(G, scale=2)\n",
    "edge_labels = nx.get_edge_attributes(G, 'r')"
   ]
  },
  {
   "cell_type": "code",
   "execution_count": null,
   "id": "champion-static",
   "metadata": {},
   "outputs": [],
   "source": [
    "ax = plt.figure(figsize=(50,30)).gca();\n",
    "nx.draw_networkx_edge_labels(G, pos, edge_labels=edge_labels, ax=ax)\n",
    "nx.draw(G, with_labels=True, ax=ax)"
   ]
  },
  {
   "cell_type": "markdown",
   "id": "korean-emperor",
   "metadata": {},
   "source": [
    "# TODOs\n",
    "1. Finish fleshing out the process in the `Kerbal Model.ipynb`\n",
    "2. Modify the subgraph generator so it can take the value from the `Type Selector` directly\n",
    "3. Improve the ipyelk diagram widget (may need to make improvements to `ipyelk`)\n",
    "   * Add arrows\n",
    "   * Add compartments\n",
    "   * Fix layout\n",
    "   * Add widget to see node details\n",
    "4. Finalize the RDF formulation"
   ]
  }
 ],
 "metadata": {
  "kernelspec": {
   "display_name": "Python 3",
   "language": "python",
   "name": "python3"
  },
  "language_info": {
   "codemirror_mode": {
    "name": "ipython",
    "version": 3
   },
   "file_extension": ".py",
   "mimetype": "text/x-python",
   "name": "python",
   "nbconvert_exporter": "python",
   "pygments_lexer": "ipython3",
   "version": "3.9.2"
  }
 },
 "nbformat": 4,
 "nbformat_minor": 5
}
