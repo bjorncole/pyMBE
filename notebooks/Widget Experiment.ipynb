{
 "cells": [
  {
   "cell_type": "markdown",
   "id": "historic-catch",
   "metadata": {},
   "source": [
    "# Widget Experiments\n",
    "\n",
    "This notebook is primarily being used to experiment with how to use the `pymbe` widgets.\n",
    "\n",
    "It should be fairly \"clean\" until the `Scratch Pad` section.\n",
    "\n",
    "In the future, this notebook will be cleaned up and renamed \"Tutorial\"."
   ]
  },
  {
   "cell_type": "code",
   "execution_count": null,
   "id": "successful-seafood",
   "metadata": {},
   "outputs": [],
   "source": [
    "import ipywidgets as ipyw\n",
    "import pymbe.api as pm"
   ]
  },
  {
   "cell_type": "code",
   "execution_count": null,
   "id": "unlike-burden",
   "metadata": {},
   "outputs": [],
   "source": [
    "client = pm.SysML2ClientWidget(host=\"http://sysml2-sst.intercax.com\")\n",
    "details = pm.ElementDetails()\n",
    "ipyw.VBox([client, details])"
   ]
  },
  {
   "cell_type": "code",
   "execution_count": null,
   "id": "southern-square",
   "metadata": {},
   "outputs": [],
   "source": [
    "client.project_selector.value = \"03e3cdfe-8d90-4fc3-a414-9a188203d349\"\n",
    "client._download_elements()\n",
    "details.update(client.elements_by_id)"
   ]
  },
  {
   "cell_type": "code",
   "execution_count": null,
   "id": "conceptual-paintball",
   "metadata": {},
   "outputs": [],
   "source": [
    "# Create a Labelled Property Graph\n",
    "lpg = pm.SysML2LPGWidget()\n",
    "lpg"
   ]
  },
  {
   "cell_type": "code",
   "execution_count": null,
   "id": "closing-iceland",
   "metadata": {},
   "outputs": [],
   "source": [
    "# Load data from client into the LPG\n",
    "lpg.update(client.elements_by_id)"
   ]
  },
  {
   "cell_type": "markdown",
   "id": "threaded-birmingham",
   "metadata": {},
   "source": [
    "# Scratch Pad\n",
    "> **WARNING**: Anything below this point is just for experimentation purposes"
   ]
  },
  {
   "cell_type": "code",
   "execution_count": null,
   "id": "jewish-astrology",
   "metadata": {},
   "outputs": [],
   "source": [
    "display(JSON(elements_by_id))"
   ]
  },
  {
   "cell_type": "code",
   "execution_count": null,
   "id": "imperial-program",
   "metadata": {},
   "outputs": [],
   "source": [
    "JSON(client.elements_by_id[tree.selected_nodes[0]._identifier])"
   ]
  },
  {
   "cell_type": "code",
   "execution_count": null,
   "id": "refined-december",
   "metadata": {
    "tags": []
   },
   "outputs": [],
   "source": [
    "tree.selected_nodes"
   ]
  },
  {
   "cell_type": "code",
   "execution_count": null,
   "id": "respiratory-beginning",
   "metadata": {},
   "outputs": [],
   "source": [
    "import ipywidgets as ipyw\n",
    "from IPython.display import JSON, display\n",
    "\n",
    "values = []\n",
    "\n",
    "\n",
    "def log_node_clicks(*args, **kwargs):\n",
    "    node = tree.selected_nodes[0]\n",
    "    data = client.elements_by_id[tree.selected_nodes[0]._identifier]\n",
    "    data.pop(\"@context\", None)\n",
    "    with json_output:\n",
    "        json_output.clear_output()\n",
    "        display(JSON(data))\n",
    "\n",
    "\n",
    "tree.observe(log_node_clicks, \"selected_nodes\")\n",
    "\n",
    "# create output widget\n",
    "json_output = ipyw.Output()\n",
    "full_display = ipyw.GridBox(\n",
    "    children=[tree, json_output],\n",
    "    layout=ipyw.Layout(grid_template_columns=\"repeat(2, 500px)\", height=\"450px\"),\n",
    ")\n",
    "\n",
    "full_display"
   ]
  },
  {
   "cell_type": "code",
   "execution_count": null,
   "id": "enhanced-shopper",
   "metadata": {},
   "outputs": [],
   "source": [
    "import traitlets as trt\n",
    "from ipywidgets import link, HBox, VBox, IntSlider, Text, Label\n",
    "from ipytree import Tree, Node\n",
    "\n",
    "self = client\n",
    "# tree = Tree(stripes=True)\n",
    "\n",
    "class Element(Node):\n",
    "    _identifier = trt.Unicode()\n",
    "    _owner = trt.Unicode(Element, allow_none=True)\n",
    "    _type = trt.Unicode()\n",
    "\n",
    "\n",
    "\n",
    "nodes = {\n",
    "    element_id: Element(\n",
    "        name=element[\"name\"] or f\"\"\"«{element[\"@type\"]}: {element_id}»\"\"\",\n",
    "        _identifier=element[\"identifier\"],\n",
    "        _type=element[\"@type\"],\n",
    "        _owner=(element[\"owner\"] or {}).get(\"@id\", None),\n",
    "    )\n",
    "    for element_id, element in self.elements_by_id.items()\n",
    "    if element.get(\"name\", element.get(\"qualifiedName\", None))\n",
    "    or (element[\"owner\"] or {}).get(\"@id\", None)\n",
    "}\n",
    "for node in nodes.values():\n",
    "    owner = node._owner\n",
    "    if owner is None:\n",
    "        tree.add_node(node)\n",
    "    elif owner in nodes:\n",
    "        nodes[owner].add_node(node)\n",
    "    else:\n",
    "        print(f\"Not including {node} because its owner \"\n",
    "              f\"{self.elements_by_id[owner]['qualifiedName']} does not have a name!\"\n",
    "        )\n",
    "\n",
    "tree"
   ]
  },
  {
   "cell_type": "code",
   "execution_count": null,
   "id": "honest-visitor",
   "metadata": {},
   "outputs": [],
   "source": [
    "for node in tree.nodes:\n",
    "    tree.remove_node(node)"
   ]
  },
  {
   "cell_type": "code",
   "execution_count": null,
   "id": "innocent-response",
   "metadata": {},
   "outputs": [],
   "source": [
    "# Create a widget to see the qualified name of the elements nodes selected\n",
    "import ipywidgets as ipyw\n",
    "\n",
    "out = ipyw.Output(layout={'border': '1px solid black'})\n",
    "\n",
    "def update_node_selections(*_):\n",
    "    out.outputs = []\n",
    "    with out:\n",
    "        [\n",
    "            print(element[\"qualifiedName\"])\n",
    "            for element in lpg.selected_nodes_by_type\n",
    "        ]\n",
    "            \n",
    "lpg.node_type_selector.observe(update_node_selections, \"value\")\n",
    "\n",
    "out"
   ]
  },
  {
   "cell_type": "code",
   "execution_count": null,
   "id": "russian-honolulu",
   "metadata": {},
   "outputs": [],
   "source": [
    "from pymbe.widget.diagram import Diagram\n",
    "\n",
    "diagram = Diagram()\n",
    "\n",
    "def update_diagram(diagram, client):\n",
    "    graph = client.lpg\n",
    "    sub_graph = diagram.get_sub_graph(\n",
    "        edge_types=\n",
    "    )\n",
    "\n",
    "diagram.graph = "
   ]
  },
  {
   "cell_type": "code",
   "execution_count": null,
   "id": "stuck-restoration",
   "metadata": {},
   "outputs": [],
   "source": [
    "def process_edge(source, target, edge_type, data=None):\n",
    "    if edge_type in (\"FeatureTyping\", \"FeatureMembership\"):\n",
    "        source, target = target, source\n",
    "    return [source, target, data]\n",
    "\n",
    "graph = nx.DiGraph()\n",
    "graph.add_edges_from([\n",
    "    process_edge(source, target, edge_type, data)\n",
    "    for (source, target, edge_type), data in dict(client.lpg.graph.edges).items()\n",
    "    if edge_type in (\"Superclassing\", \"FeatureTyping\", \"FeatureMembership\")\n",
    "])\n",
    "graph"
   ]
  },
  {
   "cell_type": "code",
   "execution_count": null,
   "id": "beginning-hungary",
   "metadata": {},
   "outputs": [],
   "source": [
    "diagram.graph = graph"
   ]
  },
  {
   "cell_type": "code",
   "execution_count": null,
   "id": "blank-flooring",
   "metadata": {},
   "outputs": [],
   "source": [
    "diagram = client.lpg.make_diagram(\n",
    "    graph=client.lpg.subgraph(edge_types=(\"Superclassing\", \"FeatureTyping^-1\", \"FeatureMembership^-1\"))\n",
    ")\n",
    "elk_app, *_ = diagram.children\n",
    "diagram"
   ]
  },
  {
   "cell_type": "code",
   "execution_count": null,
   "id": "filled-elite",
   "metadata": {},
   "outputs": [],
   "source": [
    "# Select the root node in the diagram...\n",
    "# ... or you can manually select one yourself\n",
    "elk_app.selected = \"5260380b-6fda-43cc-993f-5df58868edbb\","
   ]
  },
  {
   "cell_type": "code",
   "execution_count": null,
   "id": "bibliographic-somewhere",
   "metadata": {
    "tags": []
   },
   "outputs": [],
   "source": [
    "first_element_selected, *_ = elk_app.selected\n",
    "client.elements_by_id[first_element_selected]"
   ]
  },
  {
   "cell_type": "markdown",
   "id": "secret-madness",
   "metadata": {},
   "source": [
    "# Parse JSON-LD into RDF"
   ]
  },
  {
   "cell_type": "code",
   "execution_count": null,
   "id": "equipped-vatican",
   "metadata": {},
   "outputs": [],
   "source": [
    "import rdflib\n",
    "from rdflib.extras.external_graph_libs import rdflib_to_networkx_multidigraph\n",
    "import networkx as nx\n",
    "import matplotlib.pyplot as plt\n",
    "\n",
    "result = client.rdf.graph\n",
    "# result = g.parse(url, format='turtle')\n",
    "\n",
    "G = rdflib_to_networkx_multidigraph(result)\n",
    "\n",
    "# Plot Networkx instance of RDF Graph\n",
    "pos = nx.spring_layout(G, scale=2)\n",
    "edge_labels = nx.get_edge_attributes(G, 'r')"
   ]
  },
  {
   "cell_type": "code",
   "execution_count": null,
   "id": "active-relations",
   "metadata": {},
   "outputs": [],
   "source": [
    "ax = plt.figure(figsize=(50,30)).gca();\n",
    "nx.draw_networkx_edge_labels(G, pos, edge_labels=edge_labels, ax=ax)\n",
    "nx.draw(G, with_labels=True, ax=ax)"
   ]
  },
  {
   "cell_type": "markdown",
   "id": "prescribed-pound",
   "metadata": {},
   "source": [
    "# TODOs\n",
    "1. Finish fleshing out the process in the `Kerbal Model.ipynb`\n",
    "2. Modify the subgraph generator so it can take the value from the `Type Selector` directly\n",
    "3. Improve the ipyelk diagram widget (may need to make improvements to `ipyelk`)\n",
    "   * Add arrows\n",
    "   * Add compartments\n",
    "   * Fix layout\n",
    "   * Add widget to see node details\n",
    "4. Finalize the RDF formulation"
   ]
  }
 ],
 "metadata": {
  "kernelspec": {
   "display_name": "Python 3",
   "language": "python",
   "name": "python3"
  },
  "language_info": {
   "codemirror_mode": {
    "name": "ipython",
    "version": 3
   },
   "file_extension": ".py",
   "mimetype": "text/x-python",
   "name": "python",
   "nbconvert_exporter": "python",
   "pygments_lexer": "ipython3",
   "version": "3.9.2"
  }
 },
 "nbformat": 4,
 "nbformat_minor": 5
}
