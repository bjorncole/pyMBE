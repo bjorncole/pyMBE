{
 "cells": [
  {
   "cell_type": "markdown",
   "id": "rising-biotechnology",
   "metadata": {},
   "source": [
    "# Widget Experiments / Tutorial\n",
    "\n",
    "This notebook is primarily being used to experiment with how to use the `pymbe` widgets.\n",
    "\n",
    "It should be fairly \"clean\" until the `Scratch Pad` section.\n",
    "\n",
    "In the future, this notebook will be cleaned up and renamed \"Tutorial\"."
   ]
  },
  {
   "cell_type": "markdown",
   "id": "urban-drove",
   "metadata": {},
   "source": [
    "## 1. Import `pymbe` and widget libraries"
   ]
  },
  {
   "cell_type": "code",
   "execution_count": null,
   "id": "spread-kelly",
   "metadata": {},
   "outputs": [],
   "source": [
    "import ipywidgets as ipyw\n",
    "import traitlets as trt\n",
    "\n",
    "import pymbe.api as pm"
   ]
  },
  {
   "cell_type": "markdown",
   "id": "adjacent-prior",
   "metadata": {
    "tags": []
   },
   "source": [
    "## 2. Create a Project Loader and Tree Explorer\n",
    "> We'll also link their `elements_by_id` traitlets so as download new data, the project widget will be updated"
   ]
  },
  {
   "cell_type": "code",
   "execution_count": null,
   "id": "egyptian-teaching",
   "metadata": {
    "tags": []
   },
   "outputs": [],
   "source": [
    "client = pm.SysML2ClientWidget(host_url=\"http://sysml2-sst.intercax.com\")\n",
    "project = pm.ProjectExplorer()\n",
    "trt.link((client, \"elements_by_id\"), (project, \"elements_by_id\"))\n",
    "loader = ipyw.VBox([client, project])"
   ]
  },
  {
   "cell_type": "markdown",
   "id": "cooperative-winner",
   "metadata": {
    "tags": []
   },
   "source": [
    "## 3. Create a Labelled Property Graph\n",
    "> Will also link the LPG's `elements_by_id` traitlet"
   ]
  },
  {
   "cell_type": "code",
   "execution_count": null,
   "id": "requested-absorption",
   "metadata": {
    "tags": []
   },
   "outputs": [],
   "source": [
    "lpg = pm.SysML2LPGWidget()\n",
    "trt.link((client, \"elements_by_id\"), (lpg, \"elements_by_id\"))"
   ]
  },
  {
   "cell_type": "markdown",
   "id": "incident-cradle",
   "metadata": {
    "tags": []
   },
   "source": [
    "## 4. ... and combine them into a single widget\n",
    "> In the future, a combined widget will be offered as part of `pymbe`"
   ]
  },
  {
   "cell_type": "code",
   "execution_count": null,
   "id": "scientific-publicity",
   "metadata": {
    "tags": []
   },
   "outputs": [],
   "source": [
    "widget = ipyw.Tab(\n",
    "    children=[loader, lpg],\n",
    "    _titles={0: \"Project Data\", 1: \"Diagramming\"},\n",
    ")\n",
    "widget"
   ]
  },
  {
   "cell_type": "markdown",
   "id": "conditional-princeton",
   "metadata": {},
   "source": [
    "## 5. Use the widget\n",
    "...or automatically load the `Kerbal` model using the cell below"
   ]
  },
  {
   "cell_type": "code",
   "execution_count": null,
   "id": "agricultural-abraham",
   "metadata": {
    "tags": []
   },
   "outputs": [],
   "source": [
    "client.project_selector.value = client.project_selector.options[\"Kerbal\"]\n",
    "client._download_elements()"
   ]
  },
  {
   "cell_type": "markdown",
   "id": "acoustic-infection",
   "metadata": {},
   "source": [
    "... for example, you can select some edges and filter down the diagram to those"
   ]
  },
  {
   "cell_type": "code",
   "execution_count": null,
   "id": "configured-kelly",
   "metadata": {
    "tags": []
   },
   "outputs": [],
   "source": [
    "EDGE_TYPES_TO_SELECT =  (\"Superclassing\", \"FeatureTyping\", \"FeatureMembership\")\n",
    "lpg.edge_type_selector.value = [\n",
    "    edges\n",
    "    for key, edges in lpg.edge_type_selector.options.items()\n",
    "    if any(\n",
    "        key.startswith(edge_type)\n",
    "        for edge_type in EDGE_TYPES_TO_SELECT\n",
    "    )\n",
    "]\n",
    "lpg._update_diagram_graph()"
   ]
  },
  {
   "cell_type": "markdown",
   "id": "minute-hello",
   "metadata": {},
   "source": [
    "# Scratch Pad\n",
    "> **WARNING**: Anything below this point is just for experimentation purposes"
   ]
  },
  {
   "cell_type": "code",
   "execution_count": null,
   "id": "alien-consultancy",
   "metadata": {},
   "outputs": [],
   "source": [
    "# Create a widget to see the qualified name of the elements nodes selected\n",
    "import ipywidgets as ipyw\n",
    "\n",
    "out = ipyw.Output(layout={'border': '1px solid black'})\n",
    "\n",
    "def update_node_selections(*_):\n",
    "    out.outputs = []\n",
    "    with out:\n",
    "        [\n",
    "            print(element[\"qualifiedName\"])\n",
    "            for element in lpg.selected_nodes_by_type\n",
    "        ]\n",
    "            \n",
    "lpg.node_type_selector.observe(update_node_selections, \"value\")\n",
    "\n",
    "out"
   ]
  },
  {
   "cell_type": "code",
   "execution_count": null,
   "id": "rocky-registration",
   "metadata": {},
   "outputs": [],
   "source": [
    "def process_edge(source, target, edge_type, data=None):\n",
    "    if edge_type in (\"FeatureTyping\", \"FeatureMembership\"):\n",
    "        source, target = target, source\n",
    "    return [source, target, data]\n",
    "\n",
    "graph = nx.DiGraph()\n",
    "graph.add_edges_from([\n",
    "    process_edge(source, target, edge_type, data)\n",
    "    for (source, target, edge_type), data in dict(client.lpg.graph.edges).items()\n",
    "    if edge_type in (\"Superclassing\", \"FeatureTyping\", \"FeatureMembership\")\n",
    "])\n",
    "graph"
   ]
  },
  {
   "cell_type": "code",
   "execution_count": null,
   "id": "subtle-trunk",
   "metadata": {},
   "outputs": [],
   "source": [
    "diagram.graph = graph"
   ]
  },
  {
   "cell_type": "code",
   "execution_count": null,
   "id": "hourly-perspective",
   "metadata": {},
   "outputs": [],
   "source": [
    "diagram = client.lpg.make_diagram(\n",
    "    graph=client.lpg.subgraph(edge_types=(\"Superclassing\", \"FeatureTyping^-1\", \"FeatureMembership^-1\"))\n",
    ")\n",
    "elk_app, *_ = diagram.children\n",
    "diagram"
   ]
  },
  {
   "cell_type": "code",
   "execution_count": null,
   "id": "executed-development",
   "metadata": {},
   "outputs": [],
   "source": [
    "# Select the root node in the diagram...\n",
    "# ... or you can manually select one yourself\n",
    "elk_app.selected = \"5260380b-6fda-43cc-993f-5df58868edbb\","
   ]
  },
  {
   "cell_type": "code",
   "execution_count": null,
   "id": "verbal-links",
   "metadata": {
    "tags": []
   },
   "outputs": [],
   "source": [
    "first_element_selected, *_ = elk_app.selected\n",
    "client.elements_by_id[first_element_selected]"
   ]
  },
  {
   "cell_type": "markdown",
   "id": "durable-regulation",
   "metadata": {},
   "source": [
    "# Parse JSON-LD into RDF"
   ]
  },
  {
   "cell_type": "code",
   "execution_count": null,
   "id": "european-enhancement",
   "metadata": {},
   "outputs": [],
   "source": [
    "import rdflib\n",
    "from rdflib.extras.external_graph_libs import rdflib_to_networkx_multidigraph\n",
    "import networkx as nx\n",
    "import matplotlib.pyplot as plt\n",
    "\n",
    "result = client.rdf.graph\n",
    "# result = g.parse(url, format='turtle')\n",
    "\n",
    "G = rdflib_to_networkx_multidigraph(result)\n",
    "\n",
    "# Plot Networkx instance of RDF Graph\n",
    "pos = nx.spring_layout(G, scale=2)\n",
    "edge_labels = nx.get_edge_attributes(G, 'r')"
   ]
  },
  {
   "cell_type": "code",
   "execution_count": null,
   "id": "exotic-maker",
   "metadata": {},
   "outputs": [],
   "source": [
    "ax = plt.figure(figsize=(50,30)).gca();\n",
    "nx.draw_networkx_edge_labels(G, pos, edge_labels=edge_labels, ax=ax)\n",
    "nx.draw(G, with_labels=True, ax=ax)"
   ]
  },
  {
   "cell_type": "markdown",
   "id": "unknown-array",
   "metadata": {},
   "source": [
    "# TODOs\n",
    "1. Finish fleshing out the process in the `Kerbal Model.ipynb`\n",
    "2. Modify the subgraph generator so it can take the value from the `Type Selector` directly\n",
    "3. Improve the ipyelk diagram widget (may need to make improvements to `ipyelk`)\n",
    "   * Add arrows\n",
    "   * Add compartments\n",
    "   * Fix layout\n",
    "   * Add widget to see node details\n",
    "4. Finalize the RDF formulation"
   ]
  }
 ],
 "metadata": {
  "kernelspec": {
   "display_name": "Python 3",
   "language": "python",
   "name": "python3"
  },
  "language_info": {
   "codemirror_mode": {
    "name": "ipython",
    "version": 3
   },
   "file_extension": ".py",
   "mimetype": "text/x-python",
   "name": "python",
   "nbconvert_exporter": "python",
   "pygments_lexer": "ipython3",
   "version": "3.9.2"
  }
 },
 "nbformat": 4,
 "nbformat_minor": 5
}
