{
 "cells": [
  {
   "cell_type": "markdown",
   "id": "provincial-pricing",
   "metadata": {},
   "source": [
    "# Part Combination Space Exploration\n",
    "\n",
    "This is a notebook developed to leverage the new SysML v2 semantics for nested features and instantiation of models to generate instances of M1 system models as feedstock for analysis pipelines."
   ]
  },
  {
   "cell_type": "code",
   "execution_count": 1,
   "id": "awful-ferry",
   "metadata": {},
   "outputs": [],
   "source": [
    "import requests\n",
    "import getpass\n",
    "import math\n",
    "\n",
    "from __future__ import print_function\n",
    "\n",
    "import time\n",
    "import sysml_v2_api_client\n",
    "from sysml_v2_api_client.rest import ApiException\n",
    "from pprint import pprint\n",
    "\n",
    "import json\n",
    "import networkx as NX\n",
    "\n",
    "import random\n",
    "import copy"
   ]
  },
  {
   "cell_type": "markdown",
   "id": "signal-sewing",
   "metadata": {},
   "source": [
    "# Configure API Server Connection"
   ]
  },
  {
   "cell_type": "code",
   "execution_count": 2,
   "id": "spoken-introduction",
   "metadata": {},
   "outputs": [],
   "source": [
    "sysml_api_base_url = 'http://sysml2-sst.intercax.com:9000'"
   ]
  },
  {
   "cell_type": "markdown",
   "id": "thermal-shade",
   "metadata": {},
   "source": [
    "## Activate APIs\n",
    "\n",
    "Connect the API classes to the server"
   ]
  },
  {
   "cell_type": "code",
   "execution_count": 3,
   "id": "auburn-republic",
   "metadata": {},
   "outputs": [],
   "source": [
    "configuration = sysml_v2_api_client.Configuration(\n",
    "    host = sysml_api_base_url\n",
    ")\n",
    "\n",
    "projects_api_instance = None\n",
    "\n",
    "with sysml_v2_api_client.ApiClient(configuration) as api_client:\n",
    "    # Create an instance of the API class\n",
    "    project_api_instance = sysml_v2_api_client.ProjectApi(api_client)\n",
    "    \n",
    "commits_api_instance = None\n",
    "\n",
    "with sysml_v2_api_client.ApiClient(configuration) as api_client:\n",
    "    # Create an instance of the API class\n",
    "    commits_api_instance = sysml_v2_api_client.CommitApi(api_client)\n",
    "    \n",
    "elements_api_instance = None\n",
    "\n",
    "with sysml_v2_api_client.ApiClient(configuration) as api_client:\n",
    "    # Create an instance of the API class\n",
    "    elements_api_instance = sysml_v2_api_client.ElementApi(api_client)"
   ]
  },
  {
   "cell_type": "markdown",
   "id": "general-product",
   "metadata": {},
   "source": [
    "## Pull down commits and elements catalogs\n",
    "\n",
    "With the API handles, use the pre-built methods to get lists of commits and elements."
   ]
  },
  {
   "cell_type": "code",
   "execution_count": 4,
   "id": "important-mixer",
   "metadata": {},
   "outputs": [
    {
     "data": {
      "text/plain": [
       "<sysml_v2_api_client.api.project_api.ProjectApi at 0x13af03b9070>"
      ]
     },
     "execution_count": 4,
     "metadata": {},
     "output_type": "execute_result"
    }
   ],
   "source": [
    "project_api_instance"
   ]
  },
  {
   "cell_type": "code",
   "execution_count": 5,
   "id": "scientific-hamilton",
   "metadata": {},
   "outputs": [
    {
     "data": {
      "text/plain": [
       "{'id': 'f81ed828-1da3-4622-9f7a-98d333ef823a',\n",
       " 'name': 'Kerbal Fri Mar 05 18:37:54 UTC 2021',\n",
       " 'type': 'Project'}"
      ]
     },
     "execution_count": 5,
     "metadata": {},
     "output_type": "execute_result"
    }
   ],
   "source": [
    "kerbal_proj = [my_proj for my_proj in project_api_instance.get_projects() if my_proj.name.find('Kerbal') > -1][13]\n",
    "kerbal_proj"
   ]
  },
  {
   "cell_type": "code",
   "execution_count": 6,
   "id": "furnished-generic",
   "metadata": {},
   "outputs": [
    {
     "name": "stdout",
     "output_type": "stream",
     "text": [
      "[{'change': None,\n",
      " 'containing_project': {'id': 'f81ed828-1da3-4622-9f7a-98d333ef823a'},\n",
      " 'id': '7bd26615-a993-44dc-ab27-54228937d38b',\n",
      " 'previous_commit': None,\n",
      " 'type': 'Commit'}]\n"
     ]
    }
   ],
   "source": [
    "try:\n",
    "    # Get commits by project\n",
    "    commits_response = commits_api_instance.get_commits_by_project(kerbal_proj.id)\n",
    "    pprint(commits_response)\n",
    "except ApiException as e:\n",
    "    print(\"Exception when calling CommitApi->get_commits_by_project: %s\\n\" % e)"
   ]
  },
  {
   "cell_type": "code",
   "execution_count": 7,
   "id": "biological-documentation",
   "metadata": {},
   "outputs": [],
   "source": [
    "elements = []\n",
    "\n",
    "try:\n",
    "    # Get commits by project\n",
    "    elements = elements_api_instance.get_elements_by_project_commit(kerbal_proj.id, commits_response[0].id)\n",
    "except ApiException as e:\n",
    "    print(\"Exception when calling ElementApi->get_elements_by_project_commit: %s\\n\" % e)"
   ]
  },
  {
   "cell_type": "code",
   "execution_count": 8,
   "id": "oriental-burns",
   "metadata": {},
   "outputs": [
    {
     "data": {
      "text/plain": [
       "100"
      ]
     },
     "execution_count": 8,
     "metadata": {},
     "output_type": "execute_result"
    }
   ],
   "source": [
    "len(elements)"
   ]
  },
  {
   "cell_type": "code",
   "execution_count": 9,
   "id": "heavy-qatar",
   "metadata": {},
   "outputs": [
    {
     "name": "stdout",
     "output_type": "stream",
     "text": [
      "{'id': '009d78a0-fcff-411a-b605-9b20b3678e1c',\n",
      " 'identifier': '009d78a0-fcff-411a-b605-9b20b3678e1c',\n",
      " 'type': 'Membership'}\n"
     ]
    }
   ],
   "source": [
    "pprint(elements[0])"
   ]
  },
  {
   "cell_type": "markdown",
   "id": "right-spirit",
   "metadata": {},
   "source": [
    "# Gather Element Data\n",
    "\n",
    "Since the generated API doesn't have much detail for elements, need to do this more hands-on.\n",
    "\n",
    "Not elegant below to just have a larger page size, should implement paging later on."
   ]
  },
  {
   "cell_type": "code",
   "execution_count": 10,
   "id": "sacred-saskatchewan",
   "metadata": {},
   "outputs": [],
   "source": [
    "elements_url = (sysml_api_base_url +\n",
    "                '/projects/{0}/commits/{1}/elements?page[size]=2000').format(kerbal_proj.id, commits_response[0].id)"
   ]
  },
  {
   "cell_type": "code",
   "execution_count": 11,
   "id": "leading-briefing",
   "metadata": {},
   "outputs": [
    {
     "data": {
      "text/plain": [
       "'http://sysml2-sst.intercax.com:9000/projects/f81ed828-1da3-4622-9f7a-98d333ef823a/commits/7bd26615-a993-44dc-ab27-54228937d38b/elements?page[size]=2000'"
      ]
     },
     "execution_count": 11,
     "metadata": {},
     "output_type": "execute_result"
    }
   ],
   "source": [
    "elements_url"
   ]
  },
  {
   "cell_type": "code",
   "execution_count": 12,
   "id": "impossible-chorus",
   "metadata": {},
   "outputs": [],
   "source": [
    "elements_response = requests.get(\n",
    "    elements_url\n",
    ")"
   ]
  },
  {
   "cell_type": "code",
   "execution_count": 13,
   "id": "given-prime",
   "metadata": {},
   "outputs": [],
   "source": [
    "elements_data = elements_response.json()"
   ]
  },
  {
   "cell_type": "markdown",
   "id": "periodic-guest",
   "metadata": {},
   "source": [
    "Split the elements into relationships and non-relationships. This will let us work with graph representations and a graph understanding of the underlying model."
   ]
  },
  {
   "cell_type": "code",
   "execution_count": 14,
   "id": "wooden-morgan",
   "metadata": {},
   "outputs": [
    {
     "data": {
      "text/plain": [
       "497"
      ]
     },
     "execution_count": 14,
     "metadata": {},
     "output_type": "execute_result"
    }
   ],
   "source": [
    "len(elements_data)"
   ]
  },
  {
   "cell_type": "code",
   "execution_count": 15,
   "id": "directed-convergence",
   "metadata": {},
   "outputs": [],
   "source": [
    "non_relations = [non_relation for non_relation in elements_data if not 'relatedElement' in non_relation]"
   ]
  },
  {
   "cell_type": "code",
   "execution_count": 16,
   "id": "following-arrow",
   "metadata": {},
   "outputs": [],
   "source": [
    "relations = [relation for relation in elements_data if 'relatedElement' in relation]"
   ]
  },
  {
   "cell_type": "code",
   "execution_count": 17,
   "id": "eight-regression",
   "metadata": {},
   "outputs": [
    {
     "data": {
      "text/plain": [
       "209"
      ]
     },
     "execution_count": 17,
     "metadata": {},
     "output_type": "execute_result"
    }
   ],
   "source": [
    "len(non_relations)"
   ]
  },
  {
   "cell_type": "code",
   "execution_count": 18,
   "id": "cathedral-translator",
   "metadata": {},
   "outputs": [
    {
     "data": {
      "text/plain": [
       "288"
      ]
     },
     "execution_count": 18,
     "metadata": {},
     "output_type": "execute_result"
    }
   ],
   "source": [
    "len(relations)"
   ]
  },
  {
   "cell_type": "code",
   "execution_count": 19,
   "id": "statewide-freight",
   "metadata": {},
   "outputs": [
    {
     "data": {
      "text/plain": [
       "['Coupler to Carrying Stage : PartUsage',\n",
       " 'None : OperatorExpression',\n",
       " 'None : TransitionUsage',\n",
       " 'None : LiteralInteger',\n",
       " '$collection : Feature',\n",
       " 'None : LiteralReal',\n",
       " '$result : Feature',\n",
       " 'Full Mass : AttributeUsage',\n",
       " '$result : Feature',\n",
       " 'None : LiteralReal',\n",
       " 'Empty Mass : AttributeUsage',\n",
       " 'Empty Mass : AttributeUsage',\n",
       " 'None : LiteralInteger',\n",
       " 'Rocket : PartDefinition',\n",
       " 'None : Feature',\n",
       " 'None : TransitionUsage',\n",
       " 'Full Mass : AttributeUsage',\n",
       " 'None : LiteralReal',\n",
       " 'Liquid Stage : PartDefinition',\n",
       " 'Rocket Building : Package',\n",
       " '$result : Feature',\n",
       " 'None : LiteralInteger',\n",
       " 'Thrust : AttributeUsage',\n",
       " 'None : Feature',\n",
       " 'LV-T45 \"Swivel\" Liquid Fuel Engine : PartDefinition',\n",
       " 'None : Feature',\n",
       " 'None : LiteralReal',\n",
       " 'Burnout : StateUsage',\n",
       " 'Trajectories : Package',\n",
       " 'Full Mass : AttributeUsage',\n",
       " 'None : LiteralInteger',\n",
       " 'None : ItemFeature',\n",
       " 'None : AcceptActionUsage',\n",
       " 'Mk1 Command Pod : PartDefinition',\n",
       " 'Torque : AttributeUsage',\n",
       " 'Solid Stage : PartDefinition',\n",
       " 'None : ReferenceUsage',\n",
       " 'Stage 1 Burn : StateUsage',\n",
       " '$result : Feature',\n",
       " 'Circularization : ActionUsage',\n",
       " 'Thrust : AttributeUsage',\n",
       " 'None : ReferenceUsage',\n",
       " '$result : Feature',\n",
       " '$result : Feature',\n",
       " 'Parts Library : Package',\n",
       " 'Specific Impulse : AttributeUsage',\n",
       " '$result : Feature',\n",
       " 'None : Feature',\n",
       " 'None : InvocationExpression',\n",
       " 'start : ActionUsage',\n",
       " '$result : Feature',\n",
       " 'None : MultiplicityRange',\n",
       " 'Burnout Mass : AttributeUsage',\n",
       " 'transitionLink : Feature',\n",
       " 'RT-10 \"Hammer\" Solid Fuel Booster : PartDefinition',\n",
       " 'None : LiteralReal',\n",
       " 'None : LiteralReal',\n",
       " '$y : Feature',\n",
       " 'Stage 2 Burn : StateUsage',\n",
       " 'Kerbal : Package',\n",
       " '$result : Feature',\n",
       " '$result : Feature',\n",
       " 'None : ReferenceUsage',\n",
       " 'None : ReferenceUsage',\n",
       " 'Solid Propellant : ItemDefinition',\n",
       " 'Vertical Rise : ActionUsage',\n",
       " 'Pod : PartDefinition',\n",
       " 'p : ReferenceUsage',\n",
       " 'None : LiteralReal',\n",
       " 'engines : PartUsage',\n",
       " 'None : InvocationExpression',\n",
       " 'None : FeatureReferenceExpression',\n",
       " 'None : LiteralReal',\n",
       " 'None : Feature',\n",
       " 'Staging : Package',\n",
       " 'tanks : PartUsage',\n",
       " '$result : Feature',\n",
       " 'IgniteSignal : ItemDefinition',\n",
       " 'Kerbal Rocket Part : PartDefinition',\n",
       " 'Empty Mass : AttributeUsage',\n",
       " 'None : LiteralInteger',\n",
       " '$result : Feature',\n",
       " 'None : MultiplicityRange',\n",
       " 'Fuel Tank Section : PartDefinition',\n",
       " 'None : MultiplicityRange',\n",
       " 'FL-T100 Fuel Tank : PartDefinition',\n",
       " 'None : LiteralInteger',\n",
       " 'None : SourceEnd',\n",
       " 'Two-Stager : StateDefinition',\n",
       " 'None : Feature',\n",
       " 'None : AcceptActionUsage',\n",
       " 'None : OperatorExpression',\n",
       " '$result : Feature',\n",
       " 'None : SourceEnd',\n",
       " 'Specific Impulse : AttributeUsage',\n",
       " 'boosters : PartUsage',\n",
       " 'None : FeatureReferenceExpression',\n",
       " 'Mass : AttributeUsage',\n",
       " 'Loaded Mass : AttributeUsage',\n",
       " 'Payload Mass : AttributeUsage',\n",
       " 'None : Feature',\n",
       " 'Carried Stage : ReferenceUsage',\n",
       " 'None : AcceptActionUsage',\n",
       " 'Second Stage : StateUsage',\n",
       " 'ScalarFunctions : Package',\n",
       " 'None : LiteralInteger',\n",
       " 'Specific Impulse : AttributeUsage',\n",
       " '$result : Feature',\n",
       " 'Empty Mass : AttributeUsage',\n",
       " 'None : Feature',\n",
       " 'None : AcceptActionUsage',\n",
       " 'None : OperatorExpression',\n",
       " 'p : ReferenceUsage',\n",
       " '$result : Feature',\n",
       " 'None : Feature',\n",
       " 'Thrust : AttributeUsage',\n",
       " 'Staging Chart : StateDefinition',\n",
       " 'None : MultiplicityRange',\n",
       " '$x : Feature',\n",
       " 'None : MultiplicityRange',\n",
       " 'None : Feature',\n",
       " 'None : LiteralReal',\n",
       " 'None : BlockExpression',\n",
       " '$collection : Feature',\n",
       " 'Rocket Stage : PartDefinition',\n",
       " 'None : LiteralInteger',\n",
       " 'StageSignal : ItemDefinition',\n",
       " '$result : Feature',\n",
       " 'None : ReferenceUsage',\n",
       " '$result : Feature',\n",
       " 'Thrust : AttributeUsage',\n",
       " 'Full Mass : AttributeUsage',\n",
       " 'None : SourceEnd',\n",
       " 'Liquid Fuel : AttributeUsage',\n",
       " 'stages : PartUsage',\n",
       " '$result : Feature',\n",
       " '$result : Feature',\n",
       " '$collection : Feature',\n",
       " 'FL-T200 Fuel Tank : PartDefinition',\n",
       " 'None : ItemFeature',\n",
       " 'Empty Mass : AttributeUsage',\n",
       " 'None : ReferenceUsage',\n",
       " '$result : Feature',\n",
       " 'Max Temperature : AttributeUsage',\n",
       " 'Liquid Engine : PartDefinition',\n",
       " 'None : FeatureReferenceExpression',\n",
       " 'Thrust : AttributeUsage',\n",
       " 'None : LiteralInteger',\n",
       " 'None : SourceEnd',\n",
       " 'None : ReferenceUsage',\n",
       " 'Initial Stage : StateUsage',\n",
       " 'None : TargetEnd',\n",
       " 'None : SourceEnd',\n",
       " '$result : Feature',\n",
       " 'Gravity Turn Ascent : ActionDefinition',\n",
       " 'Empty Mass : AttributeUsage',\n",
       " 'RT-5 \"Flea\" Solid Fuel Booster : PartDefinition',\n",
       " 'None : Feature',\n",
       " 'Solid Booster : PartDefinition',\n",
       " 'Full Mass : AttributeUsage',\n",
       " 'None : ItemFeature',\n",
       " 'None : TransitionUsage',\n",
       " '$result : Feature',\n",
       " '$result : Feature',\n",
       " '$result : Feature',\n",
       " 'None : LiteralReal',\n",
       " 'Oxidizer : ItemDefinition',\n",
       " 'Fuel : ItemDefinition',\n",
       " 'None : LiteralReal',\n",
       " 'None : Feature',\n",
       " '$collection : Feature',\n",
       " 'None : LiteralInteger',\n",
       " 'None : BlockExpression',\n",
       " 'Coupler : PartDefinition',\n",
       " '$result : Feature',\n",
       " 'Oxidizer : AttributeUsage',\n",
       " 'Specific Impulse : AttributeUsage',\n",
       " 'None : SourceEnd',\n",
       " '$result : Feature',\n",
       " 'None : ReferenceUsage',\n",
       " 'None : MultiplicityRange',\n",
       " '$result : Feature',\n",
       " 'Full Mass : AttributeUsage',\n",
       " 'None : FeatureReferenceExpression',\n",
       " 'Full Mass : AttributeUsage',\n",
       " 'Empty Mass : AttributeUsage',\n",
       " 'None : ItemFeature',\n",
       " 'None : LiteralInteger',\n",
       " 'Launch to Orbit : ActionDefinition',\n",
       " 'None : LiteralReal',\n",
       " 'Specific Impulse : AttributeUsage',\n",
       " '$result : Feature',\n",
       " 'Gravity Turn : ActionUsage',\n",
       " '$result : Feature',\n",
       " 'Ascent : ActionUsage',\n",
       " '$result : Feature',\n",
       " 'Parachute : PartDefinition',\n",
       " 'None : TransitionUsage',\n",
       " 'None : LiteralReal',\n",
       " '$result : Feature',\n",
       " 'Separation Force : AttributeUsage',\n",
       " 'Empty Mass : AttributeUsage',\n",
       " 'None : Feature',\n",
       " '$result : Feature',\n",
       " 'None : LiteralReal',\n",
       " 'None : TargetEnd',\n",
       " 'Full Mass : AttributeUsage',\n",
       " 'sum : Function',\n",
       " 'None : Feature']"
      ]
     },
     "execution_count": 19,
     "metadata": {},
     "output_type": "execute_result"
    }
   ],
   "source": [
    "['{0} : {1}'.format(nr['name'], nr['@type']) for nr in non_relations]"
   ]
  },
  {
   "cell_type": "markdown",
   "id": "different-jamaica",
   "metadata": {},
   "source": [
    "# Connect to Semantic Libraries\n",
    "\n",
    "The real work comes in the connection to M1 and then its interpretation at M0. Start processing the model here."
   ]
  },
  {
   "cell_type": "code",
   "execution_count": 20,
   "id": "greek-foster",
   "metadata": {},
   "outputs": [],
   "source": [
    "id_memo_dict = {}"
   ]
  },
  {
   "cell_type": "code",
   "execution_count": 21,
   "id": "metropolitan-implement",
   "metadata": {},
   "outputs": [],
   "source": [
    "def get_name_by_id(id_to_check):\n",
    "    if id_to_check in id_memo_dict:\n",
    "        return id_memo_dict[id_to_check]['name']\n",
    "    else:\n",
    "        for found_ele in elements_data:\n",
    "            if found_ele['@id'] == id_to_check:\n",
    "                return found_ele['name']\n",
    "    \n",
    "    return id_to_check"
   ]
  },
  {
   "cell_type": "code",
   "execution_count": 22,
   "id": "advisory-beginning",
   "metadata": {},
   "outputs": [],
   "source": [
    "def get_metatype_by_id(id_to_check):\n",
    "    ele_spot = [found_ele for found_ele in elements_data if found_ele['@id'] == id_to_check]\n",
    "    return ele_spot[0]['@type']"
   ]
  },
  {
   "attachments": {
    "65b89bcb-18e3-4b18-816b-bfc5a2fe857e.png": {
     "image/png": "[encoded data removed]"
    }
   },
   "cell_type": "markdown",
   "id": "wrong-traveler",
   "metadata": {},
   "source": [
    "## Part Definitions and the Usage Features\n",
    "\n",
    "![image.png](attachment:65b89bcb-18e3-4b18-816b-bfc5a2fe857e.png)\n",
    "\n",
    "The \"parts\" feature will always be typed by Part, any additional features applied to a PartDefinition will subset parts."
   ]
  },
  {
   "cell_type": "code",
   "execution_count": 23,
   "id": "accompanied-spirit",
   "metadata": {},
   "outputs": [],
   "source": [
    "part_defs = [part_def for part_def in non_relations if part_def['@type'] == 'PartDefinition']"
   ]
  },
  {
   "cell_type": "code",
   "execution_count": 24,
   "id": "simple-insight",
   "metadata": {},
   "outputs": [
    {
     "data": {
      "text/plain": [
       "['Rocket',\n",
       " 'Liquid Stage',\n",
       " 'LV-T45 \"Swivel\" Liquid Fuel Engine',\n",
       " 'Mk1 Command Pod',\n",
       " 'Solid Stage',\n",
       " 'RT-10 \"Hammer\" Solid Fuel Booster',\n",
       " 'Pod',\n",
       " 'Kerbal Rocket Part',\n",
       " 'Fuel Tank Section',\n",
       " 'FL-T100 Fuel Tank',\n",
       " 'Rocket Stage',\n",
       " 'FL-T200 Fuel Tank',\n",
       " 'Liquid Engine',\n",
       " 'RT-5 \"Flea\" Solid Fuel Booster',\n",
       " 'Solid Booster',\n",
       " 'Coupler',\n",
       " 'Parachute']"
      ]
     },
     "execution_count": 24,
     "metadata": {},
     "output_type": "execute_result"
    }
   ],
   "source": [
    "[\"{0}\".format(part_def['name']) for part_def in part_defs]"
   ]
  },
  {
   "cell_type": "code",
   "execution_count": 25,
   "id": "exciting-network",
   "metadata": {},
   "outputs": [],
   "source": [
    "for part_def in part_defs:\n",
    "    id_memo_dict.update({part_def['@id']: part_def})"
   ]
  },
  {
   "cell_type": "markdown",
   "id": "representative-authority",
   "metadata": {},
   "source": [
    "## Subclassing Graph\n",
    "\n",
    "Trace the path from the most specialized PartDefinitions back to the library. Pack the results into a graph for later computations on going up and down the specialization tree."
   ]
  },
  {
   "cell_type": "code",
   "execution_count": 26,
   "id": "tough-optimization",
   "metadata": {},
   "outputs": [],
   "source": [
    "superclasses = [sup for sup in relations if sup['@type'] == 'Superclassing']"
   ]
  },
  {
   "cell_type": "code",
   "execution_count": 27,
   "id": "recovered-cookie",
   "metadata": {},
   "outputs": [
    {
     "data": {
      "text/plain": [
       "13"
      ]
     },
     "execution_count": 27,
     "metadata": {},
     "output_type": "execute_result"
    }
   ],
   "source": [
    "len(superclasses)"
   ]
  },
  {
   "cell_type": "code",
   "execution_count": 28,
   "id": "dressed-republican",
   "metadata": {},
   "outputs": [],
   "source": [
    "superclassing_graph = NX.DiGraph()\n",
    "subclassing_graph = NX.DiGraph()"
   ]
  },
  {
   "cell_type": "code",
   "execution_count": 29,
   "id": "beautiful-tucson",
   "metadata": {},
   "outputs": [],
   "source": [
    "for sup in superclasses:\n",
    "    if sup['specific']['@id'] in id_memo_dict:\n",
    "        subclassing_graph.add_edge(sup['general']['@id'], sup['specific']['@id'])\n",
    "        superclassing_graph.add_edge(sup['specific']['@id'], sup['general']['@id'])"
   ]
  },
  {
   "cell_type": "code",
   "execution_count": 30,
   "id": "emotional-fleece",
   "metadata": {},
   "outputs": [
    {
     "data": {
      "text/plain": [
       "['Pod :> Kerbal Rocket Part',\n",
       " 'Fuel Tank Section :> Kerbal Rocket Part',\n",
       " 'Solid Stage :> Rocket Stage',\n",
       " 'FL-T200 Fuel Tank :> Fuel Tank Section',\n",
       " 'Liquid Stage :> Rocket Stage',\n",
       " 'Coupler :> Kerbal Rocket Part',\n",
       " 'LV-T45 \"Swivel\" Liquid Fuel Engine :> Liquid Engine',\n",
       " 'RT-5 \"Flea\" Solid Fuel Booster :> Solid Booster',\n",
       " 'RT-10 \"Hammer\" Solid Fuel Booster :> Solid Booster',\n",
       " 'Mk1 Command Pod :> Pod',\n",
       " 'Parachute :> Kerbal Rocket Part',\n",
       " 'FL-T100 Fuel Tank :> Fuel Tank Section']"
      ]
     },
     "execution_count": 30,
     "metadata": {},
     "output_type": "execute_result"
    }
   ],
   "source": [
    "['{0} :> {1}'.format(\n",
    "    get_name_by_id(sup['subclass']['@id']), get_name_by_id(sup['superclass']['@id'])\n",
    ") for sup in superclasses if sup['subclass']['@id'] in id_memo_dict]"
   ]
  },
  {
   "cell_type": "markdown",
   "id": "pharmaceutical-namibia",
   "metadata": {},
   "source": [
    "Draw the superclassing graph."
   ]
  },
  {
   "cell_type": "code",
   "execution_count": 31,
   "id": "entertaining-republican",
   "metadata": {},
   "outputs": [
    {
     "data": {
      "image/png": "[encoded data removed]",
      "text/plain": [
       "<Figure size 432x288 with 1 Axes>"
      ]
     },
     "metadata": {},
     "output_type": "display_data"
    }
   ],
   "source": [
    "superclassing_graph_labels = {}\n",
    "for node in superclassing_graph.nodes():\n",
    "    superclassing_graph_labels.update({node: get_name_by_id(node)})\n",
    "    \n",
    "NX.draw_planar(superclassing_graph, labels=superclassing_graph_labels)"
   ]
  },
  {
   "cell_type": "markdown",
   "id": "stuffed-intake",
   "metadata": {},
   "source": [
    "## PartUsages\n",
    "\n",
    "Inspect the features of the part definitions that should go into the features list."
   ]
  },
  {
   "cell_type": "code",
   "execution_count": 32,
   "id": "absent-press",
   "metadata": {},
   "outputs": [],
   "source": [
    "part_uses = [part_use for part_use in non_relations if part_use['@type'] == 'PartUsage']\n",
    "for part_use in part_uses:\n",
    "    id_memo_dict.update({part_use['@id']: part_use})"
   ]
  },
  {
   "cell_type": "code",
   "execution_count": 33,
   "id": "sunrise-jason",
   "metadata": {},
   "outputs": [
    {
     "data": {
      "text/plain": [
       "5"
      ]
     },
     "execution_count": 33,
     "metadata": {},
     "output_type": "execute_result"
    }
   ],
   "source": [
    "len(part_uses)"
   ]
  },
  {
   "cell_type": "code",
   "execution_count": 34,
   "id": "enabling-produce",
   "metadata": {},
   "outputs": [
    {
     "data": {
      "text/plain": [
       "['Coupler to Carrying Stage', 'engines', 'tanks', 'boosters', 'stages']"
      ]
     },
     "execution_count": 34,
     "metadata": {},
     "output_type": "execute_result"
    }
   ],
   "source": [
    "[get_name_by_id(part_use['@id']) for part_use in part_uses]"
   ]
  },
  {
   "cell_type": "markdown",
   "id": "designed-source",
   "metadata": {},
   "source": [
    "Look for FeatureMemberships and TypeFeaturings to see where the features belong."
   ]
  },
  {
   "cell_type": "code",
   "execution_count": 35,
   "id": "adapted-citizen",
   "metadata": {},
   "outputs": [],
   "source": [
    "feature_members = [feature_member for feature_member in relations if feature_member['@type'] == 'FeatureMembership']\n",
    "type_features = [type_feature for type_feature in relations if type_feature['@type'] == 'TypeFeaturings']"
   ]
  },
  {
   "cell_type": "code",
   "execution_count": 36,
   "id": "silent-hobby",
   "metadata": {},
   "outputs": [
    {
     "data": {
      "text/plain": [
       "76"
      ]
     },
     "execution_count": 36,
     "metadata": {},
     "output_type": "execute_result"
    }
   ],
   "source": [
    "len(feature_members)"
   ]
  },
  {
   "cell_type": "code",
   "execution_count": 37,
   "id": "jewish-committee",
   "metadata": {},
   "outputs": [
    {
     "data": {
      "text/plain": [
       "0"
      ]
     },
     "execution_count": 37,
     "metadata": {},
     "output_type": "execute_result"
    }
   ],
   "source": [
    "len(type_features)"
   ]
  },
  {
   "cell_type": "code",
   "execution_count": 38,
   "id": "valid-international",
   "metadata": {},
   "outputs": [],
   "source": [
    "part_featuring_graph = NX.DiGraph()"
   ]
  },
  {
   "cell_type": "code",
   "execution_count": 39,
   "id": "marked-closure",
   "metadata": {},
   "outputs": [],
   "source": [
    "for fm in feature_members:\n",
    "    if fm['memberElement']['@id'] in id_memo_dict:\n",
    "        if id_memo_dict[fm['memberElement']['@id']]['@type'] == 'PartUsage':\n",
    "            part_featuring_graph.add_edge(fm['memberElement']['@id'], fm['owningType']['@id'])"
   ]
  },
  {
   "cell_type": "code",
   "execution_count": 40,
   "id": "reverse-classic",
   "metadata": {},
   "outputs": [
    {
     "data": {
      "text/plain": [
       "[1, 1, 0, 2, 0, 0, 1, 0]"
      ]
     },
     "execution_count": 40,
     "metadata": {},
     "output_type": "execute_result"
    }
   ],
   "source": [
    "[part_featuring_graph.in_degree(node) for node in part_featuring_graph.nodes]"
   ]
  },
  {
   "cell_type": "code",
   "execution_count": 41,
   "id": "republican-transparency",
   "metadata": {},
   "outputs": [
    {
     "data": {
      "text/plain": [
       "['stages is a member of Rocket',\n",
       " 'tanks is a member of Liquid Stage',\n",
       " 'engines is a member of Liquid Stage',\n",
       " 'boosters is a member of Solid Stage',\n",
       " 'Coupler to Carrying Stage is a member of stages']"
      ]
     },
     "execution_count": 41,
     "metadata": {},
     "output_type": "execute_result"
    }
   ],
   "source": [
    "['{0} is a member of {1}'.format(\n",
    "    get_name_by_id(fm['memberElement']['@id']), get_name_by_id(fm['owningType']['@id'])\n",
    ") for fm in feature_members if fm['memberElement']['@id'] in id_memo_dict]"
   ]
  },
  {
   "cell_type": "markdown",
   "id": "offensive-sender",
   "metadata": {},
   "source": [
    "Draw the parts featuring graph."
   ]
  },
  {
   "cell_type": "code",
   "execution_count": 42,
   "id": "useful-plenty",
   "metadata": {},
   "outputs": [
    {
     "data": {
      "image/png": "[encoded data removed]",
      "text/plain": [
       "<Figure size 432x288 with 1 Axes>"
      ]
     },
     "metadata": {},
     "output_type": "display_data"
    }
   ],
   "source": [
    "part_featuring_graph_labels = {}\n",
    "for node in part_featuring_graph.nodes():\n",
    "    part_featuring_graph_labels.update({node: get_name_by_id(node)})\n",
    "    \n",
    "NX.draw_planar(part_featuring_graph, labels=part_featuring_graph_labels)"
   ]
  },
  {
   "cell_type": "markdown",
   "id": "induced-acrylic",
   "metadata": {},
   "source": [
    "Collect multiplicities."
   ]
  },
  {
   "cell_type": "code",
   "execution_count": 43,
   "id": "occupational-dietary",
   "metadata": {},
   "outputs": [],
   "source": [
    "mults = [mult for mult in non_relations if mult['@type'] == 'MultiplicityRange']\n",
    "integers = [integer for integer in non_relations if integer['@type'] == 'LiteralInteger']\n",
    "\n",
    "for mult in mults:\n",
    "    id_memo_dict.update({mult['@id']: mult})\n",
    "    \n",
    "for integer in integers:\n",
    "    id_memo_dict.update({integer['@id']: integer})"
   ]
  },
  {
   "cell_type": "code",
   "execution_count": 44,
   "id": "magnetic-poker",
   "metadata": {},
   "outputs": [],
   "source": [
    "mult_strings = []\n",
    "for mult in mults:\n",
    "    try:\n",
    "        if mult['lowerBound'] is None and mult['upperBound'] is not None:\n",
    "            mult_strings.append('[{0}]'.format(\n",
    "                id_memo_dict[mult['upperBound']['@id']]['value']))\n",
    "        else:\n",
    "            mult_strings.append('[{0}..{1}]'.format(\n",
    "                id_memo_dict[mult['lowerBound']['@id']]['value'],\n",
    "                id_memo_dict[mult['upperBound']['@id']]['value']))\n",
    "    except TypeError:\n",
    "        print('Lower Bound is ' + str(mult['lowerBound']))\n",
    "        print('Upper Bound is ' + str(mult['upperBound']))"
   ]
  },
  {
   "cell_type": "code",
   "execution_count": 45,
   "id": "hourly-paintball",
   "metadata": {},
   "outputs": [
    {
     "data": {
      "text/plain": [
       "['[1..5]', '[0..8]', '[0..8]', '[0..30]', '[1]', '[0..8]']"
      ]
     },
     "execution_count": 45,
     "metadata": {},
     "output_type": "execute_result"
    }
   ],
   "source": [
    "mult_strings"
   ]
  },
  {
   "cell_type": "code",
   "execution_count": 46,
   "id": "three-corner",
   "metadata": {},
   "outputs": [],
   "source": [
    "def feature_lower_multiplicity(feature):\n",
    "    if feature['multiplicity'] is not None:\n",
    "        if '@id' in feature['multiplicity']:\n",
    "            mult = id_memo_dict[feature['multiplicity']['@id']]\n",
    "            if '@id' in mult['lowerBound']:\n",
    "                return id_memo_dict[mult['lowerBound']['@id']]['value']\n",
    "        \n",
    "    return 1"
   ]
  },
  {
   "cell_type": "code",
   "execution_count": 47,
   "id": "external-starter",
   "metadata": {},
   "outputs": [],
   "source": [
    "def feature_upper_multiplicity(feature):\n",
    "    if feature['multiplicity'] is not None:\n",
    "        if '@id' in feature['multiplicity']:\n",
    "            mult = id_memo_dict[feature['multiplicity']['@id']]\n",
    "            if '@id' in mult['upperBound']:\n",
    "                return id_memo_dict[mult['upperBound']['@id']]['value']\n",
    "        \n",
    "    return 1"
   ]
  },
  {
   "cell_type": "code",
   "execution_count": 48,
   "id": "nearby-gamma",
   "metadata": {},
   "outputs": [
    {
     "data": {
      "text/plain": [
       "['Coupler to Carrying Stage has multiplicity 0..8',\n",
       " 'engines has multiplicity 0..8',\n",
       " 'tanks has multiplicity 0..30',\n",
       " 'boosters has multiplicity 0..8',\n",
       " 'stages has multiplicity 1..5']"
      ]
     },
     "execution_count": 48,
     "metadata": {},
     "output_type": "execute_result"
    }
   ],
   "source": [
    "['{0} has multiplicity {1}..{2}'.format(\n",
    "    part_use['name'], feature_lower_multiplicity(part_use), feature_upper_multiplicity(part_use)\n",
    ") for part_use in part_uses]"
   ]
  },
  {
   "cell_type": "markdown",
   "id": "hairy-suggestion",
   "metadata": {},
   "source": [
    "Get feature types."
   ]
  },
  {
   "cell_type": "code",
   "execution_count": 49,
   "id": "outer-november",
   "metadata": {},
   "outputs": [],
   "source": [
    "feature_types = [feature_type for feature_type in relations if feature_type['@type'] == 'FeatureTyping']"
   ]
  },
  {
   "cell_type": "code",
   "execution_count": 50,
   "id": "legendary-annotation",
   "metadata": {},
   "outputs": [],
   "source": [
    "def get_feature_type_name(feature):\n",
    "    if len(feature['type']) > 0:\n",
    "        return get_name_by_id(feature['type'][0]['@id'])\n",
    "    else:\n",
    "        return 'Part'"
   ]
  },
  {
   "cell_type": "code",
   "execution_count": 51,
   "id": "national-helena",
   "metadata": {},
   "outputs": [
    {
     "data": {
      "text/plain": [
       "['engines : Liquid Engine',\n",
       " 'stages : Rocket Stage',\n",
       " 'boosters : Solid Booster',\n",
       " 'Coupler to Carrying Stage : Coupler',\n",
       " 'tanks : Fuel Tank Section']"
      ]
     },
     "execution_count": 51,
     "metadata": {},
     "output_type": "execute_result"
    }
   ],
   "source": [
    "['{0} : {1}'.format(\n",
    "    get_name_by_id(ft['typedFeature']['@id']), get_name_by_id(ft['type']['@id'])\n",
    ") for ft in feature_types if ft['typedFeature']['@id'] in id_memo_dict]"
   ]
  },
  {
   "cell_type": "markdown",
   "id": "satisfied-april",
   "metadata": {},
   "source": [
    "# Generate Instances\n",
    "\n",
    "With the base semantic model in hand, begin to apply the rules to generate our system alternatives."
   ]
  },
  {
   "cell_type": "markdown",
   "id": "narrow-blank",
   "metadata": {},
   "source": [
    "## Find number of instances for feature last positions\n",
    "\n",
    "In SysML, the default type is PartDefinition, which is a Classifier, meaning the minimal interpretation of length one (the specific instance). Nesting parts then have an interpretation as expected by systems engineers, namely that the instances \"stack\" in order to provide a navigation from top-level assembly to leaf component."
   ]
  },
  {
   "cell_type": "code",
   "execution_count": 52,
   "id": "pointed-finish",
   "metadata": {},
   "outputs": [
    {
     "data": {
      "text/plain": [
       "['Coupler to Carrying Stage needs 8 instances of type Coupler',\n",
       " 'engines needs 8 instances of type Liquid Engine',\n",
       " 'tanks needs 30 instances of type Fuel Tank Section',\n",
       " 'boosters needs 8 instances of type Solid Booster',\n",
       " 'stages needs 5 instances of type Rocket Stage']"
      ]
     },
     "execution_count": 52,
     "metadata": {},
     "output_type": "execute_result"
    }
   ],
   "source": [
    "['{0} needs {1} instances of type {2}'.format(\n",
    "    part_use['name'], feature_upper_multiplicity(part_use), get_feature_type_name(part_use)\n",
    ") for part_use in part_uses]"
   ]
  },
  {
   "cell_type": "markdown",
   "id": "liable-server",
   "metadata": {},
   "source": [
    "Automatically shorten names so that sequences remain readable when printed."
   ]
  },
  {
   "cell_type": "code",
   "execution_count": 53,
   "id": "armed-warehouse",
   "metadata": {},
   "outputs": [],
   "source": [
    "shorten_pre_bake = {\n",
    "    'RT-10 \"Hammer\" Solid Fuel Booster': \"RT-10\",\n",
    "    'RT-5 \"Flea\" Solid Fuel Booster': \"RT-5\",\n",
    "    'LV-T45 \"Swivel\" Liquid Fuel Engine': \"LV-T45\",\n",
    "    'FL-T100 Fuel Tank': \"FL-T100\",\n",
    "    'FL-T200 Fuel Tank': \"FL-T200\"\n",
    "}"
   ]
  },
  {
   "cell_type": "code",
   "execution_count": 54,
   "id": "psychological-malaysia",
   "metadata": {},
   "outputs": [],
   "source": [
    "def shorten_name(name):\n",
    "    short_name = ''\n",
    "    if len(name) > 5:\n",
    "        if shorten_pre_bake is not None:\n",
    "            if name in shorten_pre_bake:\n",
    "                return shorten_pre_bake[name]\n",
    "        space_place = name.find(' ')\n",
    "        if space_place > -1:\n",
    "            short_name = short_name + name[0]\n",
    "            short_name = short_name + name[space_place + 1]\n",
    "            next_space = name.find(' ', space_place + 1)\n",
    "            while next_space > -1:\n",
    "                short_name = short_name + name[next_space + 1]\n",
    "                next_space = name.find(' ', next_space + 1)\n",
    "            return short_name\n",
    "    return name"
   ]
  },
  {
   "cell_type": "code",
   "execution_count": 55,
   "id": "latin-sally",
   "metadata": {},
   "outputs": [],
   "source": [
    "class Instance():\n",
    "    def __init__(self, name, index):\n",
    "        self.name = shorten_name(name) + '#' + str(index)\n",
    "        \n",
    "    def __repr__(self):\n",
    "        return self.name"
   ]
  },
  {
   "cell_type": "code",
   "execution_count": 56,
   "id": "daily-smart",
   "metadata": {},
   "outputs": [],
   "source": [
    "multiplicity_dict = {}\n",
    "\n",
    "for part_use in part_uses:\n",
    "    type_name = get_feature_type_name(part_use)\n",
    "    if type_name in multiplicity_dict:\n",
    "        old_val = multiplicity_dict[part_use]\n",
    "        multiplicity_dict.update({type_name: old_val + feature_upper_multiplicity(part_use)})\n",
    "    else:\n",
    "        multiplicity_dict.update({type_name: feature_upper_multiplicity(part_use)})"
   ]
  },
  {
   "cell_type": "code",
   "execution_count": 57,
   "id": "familiar-tuition",
   "metadata": {},
   "outputs": [
    {
     "data": {
      "text/plain": [
       "{'Coupler': 8,\n",
       " 'Liquid Engine': 8,\n",
       " 'Fuel Tank Section': 30,\n",
       " 'Solid Booster': 8,\n",
       " 'Rocket Stage': 5}"
      ]
     },
     "execution_count": 57,
     "metadata": {},
     "output_type": "execute_result"
    }
   ],
   "source": [
    "multiplicity_dict"
   ]
  },
  {
   "cell_type": "markdown",
   "id": "independent-roller",
   "metadata": {},
   "source": [
    "## Determine the size of the universe of instances needed for creating alternatives\n",
    "\n",
    "Use feature membership together with multiplicity to decide how many individuals are needed."
   ]
  },
  {
   "cell_type": "markdown",
   "id": "focal-banks",
   "metadata": {},
   "source": [
    "### Building the banded graph\n",
    "\n",
    "Build up a graph with the SysML v1 banded style of part-type-part-type (with superclassing)."
   ]
  },
  {
   "cell_type": "code",
   "execution_count": 58,
   "id": "impossible-principal",
   "metadata": {},
   "outputs": [],
   "source": [
    "banded_feature_graph = NX.DiGraph()"
   ]
  },
  {
   "cell_type": "code",
   "execution_count": 59,
   "id": "magnetic-defensive",
   "metadata": {},
   "outputs": [],
   "source": [
    "for fm in feature_members:\n",
    "    if fm['memberElement']['@id'] in id_memo_dict:\n",
    "        if id_memo_dict[fm['memberElement']['@id']]['@type'] == 'PartUsage':\n",
    "            banded_feature_graph.add_edge(fm['memberElement']['@id'], fm['owningType']['@id'])\n",
    "\n",
    "for ft in feature_types:\n",
    "    if ft['typedFeature']['@id'] in id_memo_dict:\n",
    "        if id_memo_dict[ft['typedFeature']['@id']]['@type'] == 'PartUsage':\n",
    "            banded_feature_graph.add_edge(ft['type']['@id'], ft['typedFeature']['@id'])\n",
    "            \n",
    "for sup in superclasses:\n",
    "    if sup['specific']['@id'] in id_memo_dict:\n",
    "        banded_feature_graph.add_edge(sup['specific']['@id'], sup['general']['@id'])"
   ]
  },
  {
   "cell_type": "code",
   "execution_count": 60,
   "id": "lightweight-concord",
   "metadata": {},
   "outputs": [
    {
     "data": {
      "image/png": "[encoded data removed]",
      "text/plain": [
       "<Figure size 432x288 with 1 Axes>"
      ]
     },
     "metadata": {},
     "output_type": "display_data"
    }
   ],
   "source": [
    "banded_feature_graph_labels = {}\n",
    "for node in banded_feature_graph.nodes():\n",
    "    banded_feature_graph_labels.update({node: get_name_by_id(node)})\n",
    "    \n",
    "NX.draw_planar(banded_feature_graph, labels=banded_feature_graph_labels)"
   ]
  },
  {
   "cell_type": "code",
   "execution_count": 61,
   "id": "simple-torture",
   "metadata": {},
   "outputs": [],
   "source": [
    "part_leaves = [id_memo_dict[node]\n",
    "    for node in part_featuring_graph.nodes\n",
    "        if part_featuring_graph.in_degree(node) == 0]"
   ]
  },
  {
   "cell_type": "code",
   "execution_count": 62,
   "id": "acute-chaos",
   "metadata": {},
   "outputs": [],
   "source": [
    "part_roots = [id_memo_dict[node]\n",
    "    for node in part_featuring_graph.nodes\n",
    "        if part_featuring_graph.out_degree(node) == 0]"
   ]
  },
  {
   "cell_type": "code",
   "execution_count": 63,
   "id": "invalid-kennedy",
   "metadata": {},
   "outputs": [],
   "source": [
    "banded_roots = [id_memo_dict[node]\n",
    "    for node in banded_feature_graph.nodes\n",
    "        if banded_feature_graph.out_degree(node) == 0]"
   ]
  },
  {
   "cell_type": "code",
   "execution_count": 64,
   "id": "million-rochester",
   "metadata": {},
   "outputs": [
    {
     "data": {
      "text/plain": [
       "['tanks', 'engines', 'boosters', 'Coupler to Carrying Stage']"
      ]
     },
     "execution_count": 64,
     "metadata": {},
     "output_type": "execute_result"
    }
   ],
   "source": [
    "[part_leaf['name'] for part_leaf in part_leaves]"
   ]
  },
  {
   "cell_type": "code",
   "execution_count": 65,
   "id": "ideal-insert",
   "metadata": {},
   "outputs": [
    {
     "data": {
      "text/plain": [
       "['Rocket', 'Liquid Stage', 'Solid Stage']"
      ]
     },
     "execution_count": 65,
     "metadata": {},
     "output_type": "execute_result"
    }
   ],
   "source": [
    "[part_root['name'] for part_root in part_roots]"
   ]
  },
  {
   "cell_type": "code",
   "execution_count": 66,
   "id": "velvet-neighborhood",
   "metadata": {},
   "outputs": [
    {
     "data": {
      "text/plain": [
       "['Rocket', 'Kerbal Rocket Part']"
      ]
     },
     "execution_count": 66,
     "metadata": {},
     "output_type": "execute_result"
    }
   ],
   "source": [
    "[banded_root['name'] for banded_root in banded_roots]"
   ]
  },
  {
   "cell_type": "markdown",
   "id": "miniature-adjustment",
   "metadata": {},
   "source": [
    "Correct the multiplicities by considering nesting.part_uses"
   ]
  },
  {
   "cell_type": "code",
   "execution_count": 67,
   "id": "boxed-crown",
   "metadata": {},
   "outputs": [],
   "source": [
    "part_multiplicity = {}\n",
    "\n",
    "for part_use in part_uses:\n",
    "    corrected_mult = 0\n",
    "    for part_tree_root in banded_roots:\n",
    "        try:\n",
    "            part_path = NX.shortest_path(banded_feature_graph, part_use['@id'], part_tree_root['@id'])\n",
    "            # TODO: check that the path actually exists\n",
    "            corrected_mult = math.prod([feature_upper_multiplicity(id_memo_dict[node]) for node in part_path])\n",
    "        except NX.NetworkXNoPath:\n",
    "            pass\n",
    "    part_multiplicity.update({part_use['@id']: corrected_mult})"
   ]
  },
  {
   "cell_type": "code",
   "execution_count": 68,
   "id": "spectacular-scratch",
   "metadata": {},
   "outputs": [
    {
     "data": {
      "text/plain": [
       "{'012b5231-b6a4-4603-ae10-b2f7d6cc9814': 40,\n",
       " '4966f150-6c7a-4173-b1ea-4fa3af1d67e3': 40,\n",
       " '4ff7f812-5d14-48d6-993b-198b88559b97': 150,\n",
       " '682fc895-6868-4256-be22-47edf52ea120': 40,\n",
       " '90efb538-3557-4da6-b25b-6f7e2fdc4f51': 5}"
      ]
     },
     "execution_count": 68,
     "metadata": {},
     "output_type": "execute_result"
    }
   ],
   "source": [
    "part_multiplicity"
   ]
  },
  {
   "cell_type": "markdown",
   "id": "interesting-bandwidth",
   "metadata": {},
   "source": [
    "### Subdivide Abstract Feature Types\n",
    "\n",
    "Look at the feature types for where they are abstract and then generate instances from the more specific types."
   ]
  },
  {
   "cell_type": "code",
   "execution_count": 69,
   "id": "south-junior",
   "metadata": {},
   "outputs": [
    {
     "data": {
      "text/plain": [
       "['Solid Stage',\n",
       " 'FL-T200 Fuel Tank',\n",
       " 'Liquid Stage',\n",
       " 'Coupler',\n",
       " 'LV-T45 \"Swivel\" Liquid Fuel Engine',\n",
       " 'RT-5 \"Flea\" Solid Fuel Booster',\n",
       " 'RT-10 \"Hammer\" Solid Fuel Booster',\n",
       " 'Mk1 Command Pod',\n",
       " 'Parachute',\n",
       " 'FL-T100 Fuel Tank']"
      ]
     },
     "execution_count": 69,
     "metadata": {},
     "output_type": "execute_result"
    }
   ],
   "source": [
    "[get_name_by_id(node) for node in subclassing_graph.nodes if subclassing_graph.out_degree(node) == 0]"
   ]
  },
  {
   "cell_type": "code",
   "execution_count": 70,
   "id": "metallic-recycling",
   "metadata": {},
   "outputs": [],
   "source": [
    "corrected_multiplicity_dict = {}\n",
    "type_id_pairs = {}\n",
    "\n",
    "for part_use in part_uses:\n",
    "    type_name = get_feature_type_name(part_use)\n",
    "    if type_name in corrected_multiplicity_dict:\n",
    "        old_val = corrected_multiplicity_dict[part_use]\n",
    "        corrected_multiplicity_dict.update({type_name: old_val + part_multiplicity[part_use['@id']]})\n",
    "    else:\n",
    "        corrected_multiplicity_dict.update({type_name: part_multiplicity[part_use['@id']]})\n",
    "        if len(part_use['type']) > 0:\n",
    "            type_id_pairs.update({type_name: part_use['type'][0]['@id']})"
   ]
  },
  {
   "cell_type": "code",
   "execution_count": 71,
   "id": "fundamental-ethics",
   "metadata": {},
   "outputs": [
    {
     "data": {
      "text/plain": [
       "{'Coupler': 'd1161d5b-2615-4cd4-8992-acb862d345b5',\n",
       " 'Liquid Engine': '9d37457f-77ff-436d-b111-86aabc855de6',\n",
       " 'Fuel Tank Section': '5c80e9cd-9852-44d2-ba4e-62a118df0006',\n",
       " 'Solid Booster': 'b9c4179c-7b6b-48d9-8d6f-6b6e9dfb1aff',\n",
       " 'Rocket Stage': '872c07c9-c5ce-469e-9435-1a3e73272f9e'}"
      ]
     },
     "execution_count": 71,
     "metadata": {},
     "output_type": "execute_result"
    }
   ],
   "source": [
    "type_id_pairs"
   ]
  },
  {
   "cell_type": "code",
   "execution_count": 72,
   "id": "contemporary-ethernet",
   "metadata": {},
   "outputs": [
    {
     "data": {
      "text/plain": [
       "{'Coupler': 40,\n",
       " 'Liquid Engine': 40,\n",
       " 'Fuel Tank Section': 150,\n",
       " 'Solid Booster': 40,\n",
       " 'Rocket Stage': 5}"
      ]
     },
     "execution_count": 72,
     "metadata": {},
     "output_type": "execute_result"
    }
   ],
   "source": [
    "corrected_multiplicity_dict"
   ]
  },
  {
   "cell_type": "markdown",
   "id": "associate-andrews",
   "metadata": {},
   "source": [
    "## Generate Random Alternatives\n",
    "\n",
    "Start creating the alternatives with random draws on multiplicity. This will be our space for investigation for weights, thrust-to-weight ratios at stage ignitions, delta-Vs, and initial and burnout masses."
   ]
  },
  {
   "cell_type": "code",
   "execution_count": 73,
   "id": "comparable-hypothetical",
   "metadata": {},
   "outputs": [],
   "source": [
    "no_alts_to_create = 50"
   ]
  },
  {
   "cell_type": "code",
   "execution_count": 74,
   "id": "improved-poetry",
   "metadata": {},
   "outputs": [],
   "source": [
    "partitioned_multiplicity_dicts = []\n",
    "\n",
    "for step in range(0, no_alts_to_create):\n",
    "\n",
    "    partitioned_multiplicity_dict = {}\n",
    "\n",
    "    for key in corrected_multiplicity_dict:\n",
    "        if key in type_id_pairs:\n",
    "            key_id = type_id_pairs[key]\n",
    "            type_obj = id_memo_dict[key_id]\n",
    "            if type_obj['isAbstract']:\n",
    "                local_partition = {}\n",
    "                if key_id in subclassing_graph.nodes:\n",
    "                    no_splits = len(list(subclassing_graph.successors(key_id)))\n",
    "                    taken = 0\n",
    "                    for indx, succ in enumerate(subclassing_graph.successors(key_id)):\n",
    "                        if indx < no_splits - 1:\n",
    "                            draw = random.randint(0, corrected_multiplicity_dict[key])\n",
    "                            taken = taken + draw\n",
    "                        else:\n",
    "                            draw = corrected_multiplicity_dict[key] - taken\n",
    "                        local_partition.update({get_name_by_id(succ): draw})\n",
    "                partitioned_multiplicity_dict.update({key: local_partition})\n",
    "            else:\n",
    "                partitioned_multiplicity_dict.update({key: corrected_multiplicity_dict[key]})\n",
    "                \n",
    "    partitioned_multiplicity_dicts.append(partitioned_multiplicity_dict)"
   ]
  },
  {
   "cell_type": "code",
   "execution_count": 75,
   "id": "legendary-bolivia",
   "metadata": {},
   "outputs": [
    {
     "data": {
      "text/plain": [
       "{'Coupler': 40,\n",
       " 'Liquid Engine': {'LV-T45 \"Swivel\" Liquid Fuel Engine': 40},\n",
       " 'Fuel Tank Section': {'FL-T200 Fuel Tank': 58, 'FL-T100 Fuel Tank': 92},\n",
       " 'Solid Booster': {'RT-5 \"Flea\" Solid Fuel Booster': 3,\n",
       "  'RT-10 \"Hammer\" Solid Fuel Booster': 37},\n",
       " 'Rocket Stage': {'Solid Stage': 0, 'Liquid Stage': 5}}"
      ]
     },
     "execution_count": 75,
     "metadata": {},
     "output_type": "execute_result"
    }
   ],
   "source": [
    "partitioned_multiplicity_dicts[0]"
   ]
  },
  {
   "cell_type": "markdown",
   "id": "motivated-certification",
   "metadata": {},
   "source": [
    "- [ ] TODO: Fix the dictionary to have keys as IDs, not name"
   ]
  },
  {
   "cell_type": "code",
   "execution_count": 76,
   "id": "accepted-latino",
   "metadata": {},
   "outputs": [],
   "source": [
    "classifier_instance_dicts = []\n",
    "classifier_memo_dicts = []\n",
    "\n",
    "for step in range(0, no_alts_to_create):\n",
    "\n",
    "    classifier_instance_dict = {}\n",
    "    classifier_memo_dict = {}\n",
    "    \n",
    "    partitioned_multiplicity_dict = partitioned_multiplicity_dicts[step]\n",
    "\n",
    "    for mult_key in partitioned_multiplicity_dict:\n",
    "        instances_list = []\n",
    "        if isinstance(partitioned_multiplicity_dict[mult_key], dict):\n",
    "            for special_key in partitioned_multiplicity_dict[mult_key]:\n",
    "                sub_instances_list = []\n",
    "                instances_number = (partitioned_multiplicity_dict[mult_key][special_key] + 1)\n",
    "                for index in range(1, instances_number):\n",
    "                    new_instance = Instance(special_key, index)\n",
    "                    instances_list.append(new_instance)\n",
    "                    sub_instances_list.append(new_instance)\n",
    "                    classifier_memo_dict.update({new_instance.name: [special_key, mult_key]})\n",
    "                classifier_instance_dict.update({special_key: sub_instances_list})\n",
    "            classifier_instance_dict.update({mult_key: instances_list})\n",
    "        else:\n",
    "            instances_number = (corrected_multiplicity_dict[mult_key] + 1)\n",
    "            for index in range(1, instances_number):\n",
    "                new_instance = Instance(mult_key, index)\n",
    "                instances_list.append(new_instance)\n",
    "                classifier_memo_dict.update({new_instance.name: [mult_key]})\n",
    "            classifier_instance_dict.update({mult_key: instances_list})\n",
    "            \n",
    "    classifier_instance_dicts.append(classifier_instance_dict)\n",
    "    classifier_memo_dicts.append(classifier_memo_dict)"
   ]
  },
  {
   "cell_type": "markdown",
   "id": "developing-browse",
   "metadata": {},
   "source": [
    "Now that the universe of instances has been calculated, we can look at how they can be sequenced. This method is probably fragile so will need revisions.\n",
    "In this case, found that it can't handle unconnected featuring graph components."
   ]
  },
  {
   "cell_type": "code",
   "execution_count": 77,
   "id": "considerable-rough",
   "metadata": {},
   "outputs": [
    {
     "data": {
      "text/plain": [
       "['Solid Stage',\n",
       " 'boosters',\n",
       " 'Liquid Stage',\n",
       " 'engines',\n",
       " 'tanks',\n",
       " 'Rocket',\n",
       " 'stages',\n",
       " 'Coupler to Carrying Stage']"
      ]
     },
     "execution_count": 77,
     "metadata": {},
     "output_type": "execute_result"
    }
   ],
   "source": [
    "[get_name_by_id(node) for node in NX.topological_sort(part_featuring_graph.reverse())]"
   ]
  },
  {
   "cell_type": "code",
   "execution_count": 78,
   "id": "moved-reasoning",
   "metadata": {},
   "outputs": [],
   "source": [
    "sorted_feature_groups = []"
   ]
  },
  {
   "cell_type": "code",
   "execution_count": 79,
   "id": "funny-vocabulary",
   "metadata": {},
   "outputs": [
    {
     "name": "stdout",
     "output_type": "stream",
     "text": [
      "['Rocket', 'stages', 'Coupler to Carrying Stage']\n",
      "['Liquid Stage', 'engines', 'tanks']\n",
      "['Solid Stage', 'boosters']\n"
     ]
    }
   ],
   "source": [
    "for comp in NX.connected_components(part_featuring_graph.to_undirected()):\n",
    "    connected_sub = NX.subgraph(part_featuring_graph, list(comp))\n",
    "    sorted_feature_groups.append(\n",
    "        [node for node in NX.topological_sort(connected_sub.reverse())]\n",
    "    )\n",
    "    print([get_name_by_id(node) for node in NX.topological_sort(connected_sub.reverse())])"
   ]
  },
  {
   "cell_type": "code",
   "execution_count": 80,
   "id": "narrative-advance",
   "metadata": {},
   "outputs": [
    {
     "data": {
      "text/plain": [
       "[['138fc869-81d0-410d-9ced-c0c2d8c23621',\n",
       "  '90efb538-3557-4da6-b25b-6f7e2fdc4f51',\n",
       "  '012b5231-b6a4-4603-ae10-b2f7d6cc9814'],\n",
       " ['15a555ef-9e41-4aab-99bd-ec7089e7a42d',\n",
       "  '4966f150-6c7a-4173-b1ea-4fa3af1d67e3',\n",
       "  '4ff7f812-5d14-48d6-993b-198b88559b97'],\n",
       " ['272da210-935a-46c3-8293-c85da5b61066',\n",
       "  '682fc895-6868-4256-be22-47edf52ea120']]"
      ]
     },
     "execution_count": 80,
     "metadata": {},
     "output_type": "execute_result"
    }
   ],
   "source": [
    "sorted_feature_groups"
   ]
  },
  {
   "cell_type": "code",
   "execution_count": 81,
   "id": "finnish-wheel",
   "metadata": {},
   "outputs": [],
   "source": [
    "for classifier_instance_dict in classifier_instance_dicts:\n",
    "\n",
    "    for part_tree_root in part_roots:\n",
    "        root_name = get_name_by_id(part_tree_root['@id'])\n",
    "        if root_name not in classifier_instance_dict:\n",
    "            classifier_instance_dict.update({root_name: Instance(root_name, 1)})"
   ]
  },
  {
   "cell_type": "markdown",
   "id": "native-times",
   "metadata": {},
   "source": [
    "The topological sort on the graph of feature membership determines the order in which to build up sets of instances for features."
   ]
  },
  {
   "cell_type": "code",
   "execution_count": 82,
   "id": "applied-anatomy",
   "metadata": {},
   "outputs": [
    {
     "data": {
      "text/plain": [
       "{'Coupler': [Coupler#1,\n",
       "  Coupler#2,\n",
       "  Coupler#3,\n",
       "  Coupler#4,\n",
       "  Coupler#5,\n",
       "  Coupler#6,\n",
       "  Coupler#7,\n",
       "  Coupler#8,\n",
       "  Coupler#9,\n",
       "  Coupler#10,\n",
       "  Coupler#11,\n",
       "  Coupler#12,\n",
       "  Coupler#13,\n",
       "  Coupler#14,\n",
       "  Coupler#15,\n",
       "  Coupler#16,\n",
       "  Coupler#17,\n",
       "  Coupler#18,\n",
       "  Coupler#19,\n",
       "  Coupler#20,\n",
       "  Coupler#21,\n",
       "  Coupler#22,\n",
       "  Coupler#23,\n",
       "  Coupler#24,\n",
       "  Coupler#25,\n",
       "  Coupler#26,\n",
       "  Coupler#27,\n",
       "  Coupler#28,\n",
       "  Coupler#29,\n",
       "  Coupler#30,\n",
       "  Coupler#31,\n",
       "  Coupler#32,\n",
       "  Coupler#33,\n",
       "  Coupler#34,\n",
       "  Coupler#35,\n",
       "  Coupler#36,\n",
       "  Coupler#37,\n",
       "  Coupler#38,\n",
       "  Coupler#39,\n",
       "  Coupler#40],\n",
       " 'LV-T45 \"Swivel\" Liquid Fuel Engine': [LV-T45#1,\n",
       "  LV-T45#2,\n",
       "  LV-T45#3,\n",
       "  LV-T45#4,\n",
       "  LV-T45#5,\n",
       "  LV-T45#6,\n",
       "  LV-T45#7,\n",
       "  LV-T45#8,\n",
       "  LV-T45#9,\n",
       "  LV-T45#10,\n",
       "  LV-T45#11,\n",
       "  LV-T45#12,\n",
       "  LV-T45#13,\n",
       "  LV-T45#14,\n",
       "  LV-T45#15,\n",
       "  LV-T45#16,\n",
       "  LV-T45#17,\n",
       "  LV-T45#18,\n",
       "  LV-T45#19,\n",
       "  LV-T45#20,\n",
       "  LV-T45#21,\n",
       "  LV-T45#22,\n",
       "  LV-T45#23,\n",
       "  LV-T45#24,\n",
       "  LV-T45#25,\n",
       "  LV-T45#26,\n",
       "  LV-T45#27,\n",
       "  LV-T45#28,\n",
       "  LV-T45#29,\n",
       "  LV-T45#30,\n",
       "  LV-T45#31,\n",
       "  LV-T45#32,\n",
       "  LV-T45#33,\n",
       "  LV-T45#34,\n",
       "  LV-T45#35,\n",
       "  LV-T45#36,\n",
       "  LV-T45#37,\n",
       "  LV-T45#38,\n",
       "  LV-T45#39,\n",
       "  LV-T45#40],\n",
       " 'Liquid Engine': [LV-T45#1,\n",
       "  LV-T45#2,\n",
       "  LV-T45#3,\n",
       "  LV-T45#4,\n",
       "  LV-T45#5,\n",
       "  LV-T45#6,\n",
       "  LV-T45#7,\n",
       "  LV-T45#8,\n",
       "  LV-T45#9,\n",
       "  LV-T45#10,\n",
       "  LV-T45#11,\n",
       "  LV-T45#12,\n",
       "  LV-T45#13,\n",
       "  LV-T45#14,\n",
       "  LV-T45#15,\n",
       "  LV-T45#16,\n",
       "  LV-T45#17,\n",
       "  LV-T45#18,\n",
       "  LV-T45#19,\n",
       "  LV-T45#20,\n",
       "  LV-T45#21,\n",
       "  LV-T45#22,\n",
       "  LV-T45#23,\n",
       "  LV-T45#24,\n",
       "  LV-T45#25,\n",
       "  LV-T45#26,\n",
       "  LV-T45#27,\n",
       "  LV-T45#28,\n",
       "  LV-T45#29,\n",
       "  LV-T45#30,\n",
       "  LV-T45#31,\n",
       "  LV-T45#32,\n",
       "  LV-T45#33,\n",
       "  LV-T45#34,\n",
       "  LV-T45#35,\n",
       "  LV-T45#36,\n",
       "  LV-T45#37,\n",
       "  LV-T45#38,\n",
       "  LV-T45#39,\n",
       "  LV-T45#40],\n",
       " 'FL-T200 Fuel Tank': [FL-T200#1,\n",
       "  FL-T200#2,\n",
       "  FL-T200#3,\n",
       "  FL-T200#4,\n",
       "  FL-T200#5,\n",
       "  FL-T200#6,\n",
       "  FL-T200#7,\n",
       "  FL-T200#8,\n",
       "  FL-T200#9,\n",
       "  FL-T200#10,\n",
       "  FL-T200#11,\n",
       "  FL-T200#12,\n",
       "  FL-T200#13,\n",
       "  FL-T200#14,\n",
       "  FL-T200#15,\n",
       "  FL-T200#16,\n",
       "  FL-T200#17,\n",
       "  FL-T200#18,\n",
       "  FL-T200#19,\n",
       "  FL-T200#20,\n",
       "  FL-T200#21,\n",
       "  FL-T200#22,\n",
       "  FL-T200#23,\n",
       "  FL-T200#24,\n",
       "  FL-T200#25,\n",
       "  FL-T200#26,\n",
       "  FL-T200#27,\n",
       "  FL-T200#28,\n",
       "  FL-T200#29,\n",
       "  FL-T200#30,\n",
       "  FL-T200#31,\n",
       "  FL-T200#32,\n",
       "  FL-T200#33,\n",
       "  FL-T200#34,\n",
       "  FL-T200#35,\n",
       "  FL-T200#36,\n",
       "  FL-T200#37,\n",
       "  FL-T200#38,\n",
       "  FL-T200#39,\n",
       "  FL-T200#40,\n",
       "  FL-T200#41,\n",
       "  FL-T200#42,\n",
       "  FL-T200#43,\n",
       "  FL-T200#44,\n",
       "  FL-T200#45,\n",
       "  FL-T200#46,\n",
       "  FL-T200#47,\n",
       "  FL-T200#48,\n",
       "  FL-T200#49,\n",
       "  FL-T200#50,\n",
       "  FL-T200#51,\n",
       "  FL-T200#52,\n",
       "  FL-T200#53,\n",
       "  FL-T200#54,\n",
       "  FL-T200#55,\n",
       "  FL-T200#56,\n",
       "  FL-T200#57,\n",
       "  FL-T200#58],\n",
       " 'FL-T100 Fuel Tank': [FL-T100#1,\n",
       "  FL-T100#2,\n",
       "  FL-T100#3,\n",
       "  FL-T100#4,\n",
       "  FL-T100#5,\n",
       "  FL-T100#6,\n",
       "  FL-T100#7,\n",
       "  FL-T100#8,\n",
       "  FL-T100#9,\n",
       "  FL-T100#10,\n",
       "  FL-T100#11,\n",
       "  FL-T100#12,\n",
       "  FL-T100#13,\n",
       "  FL-T100#14,\n",
       "  FL-T100#15,\n",
       "  FL-T100#16,\n",
       "  FL-T100#17,\n",
       "  FL-T100#18,\n",
       "  FL-T100#19,\n",
       "  FL-T100#20,\n",
       "  FL-T100#21,\n",
       "  FL-T100#22,\n",
       "  FL-T100#23,\n",
       "  FL-T100#24,\n",
       "  FL-T100#25,\n",
       "  FL-T100#26,\n",
       "  FL-T100#27,\n",
       "  FL-T100#28,\n",
       "  FL-T100#29,\n",
       "  FL-T100#30,\n",
       "  FL-T100#31,\n",
       "  FL-T100#32,\n",
       "  FL-T100#33,\n",
       "  FL-T100#34,\n",
       "  FL-T100#35,\n",
       "  FL-T100#36,\n",
       "  FL-T100#37,\n",
       "  FL-T100#38,\n",
       "  FL-T100#39,\n",
       "  FL-T100#40,\n",
       "  FL-T100#41,\n",
       "  FL-T100#42,\n",
       "  FL-T100#43,\n",
       "  FL-T100#44,\n",
       "  FL-T100#45,\n",
       "  FL-T100#46,\n",
       "  FL-T100#47,\n",
       "  FL-T100#48,\n",
       "  FL-T100#49,\n",
       "  FL-T100#50,\n",
       "  FL-T100#51,\n",
       "  FL-T100#52,\n",
       "  FL-T100#53,\n",
       "  FL-T100#54,\n",
       "  FL-T100#55,\n",
       "  FL-T100#56,\n",
       "  FL-T100#57,\n",
       "  FL-T100#58,\n",
       "  FL-T100#59,\n",
       "  FL-T100#60,\n",
       "  FL-T100#61,\n",
       "  FL-T100#62,\n",
       "  FL-T100#63,\n",
       "  FL-T100#64,\n",
       "  FL-T100#65,\n",
       "  FL-T100#66,\n",
       "  FL-T100#67,\n",
       "  FL-T100#68,\n",
       "  FL-T100#69,\n",
       "  FL-T100#70,\n",
       "  FL-T100#71,\n",
       "  FL-T100#72,\n",
       "  FL-T100#73,\n",
       "  FL-T100#74,\n",
       "  FL-T100#75,\n",
       "  FL-T100#76,\n",
       "  FL-T100#77,\n",
       "  FL-T100#78,\n",
       "  FL-T100#79,\n",
       "  FL-T100#80,\n",
       "  FL-T100#81,\n",
       "  FL-T100#82,\n",
       "  FL-T100#83,\n",
       "  FL-T100#84,\n",
       "  FL-T100#85,\n",
       "  FL-T100#86,\n",
       "  FL-T100#87,\n",
       "  FL-T100#88,\n",
       "  FL-T100#89,\n",
       "  FL-T100#90,\n",
       "  FL-T100#91,\n",
       "  FL-T100#92],\n",
       " 'Fuel Tank Section': [FL-T200#1,\n",
       "  FL-T200#2,\n",
       "  FL-T200#3,\n",
       "  FL-T200#4,\n",
       "  FL-T200#5,\n",
       "  FL-T200#6,\n",
       "  FL-T200#7,\n",
       "  FL-T200#8,\n",
       "  FL-T200#9,\n",
       "  FL-T200#10,\n",
       "  FL-T200#11,\n",
       "  FL-T200#12,\n",
       "  FL-T200#13,\n",
       "  FL-T200#14,\n",
       "  FL-T200#15,\n",
       "  FL-T200#16,\n",
       "  FL-T200#17,\n",
       "  FL-T200#18,\n",
       "  FL-T200#19,\n",
       "  FL-T200#20,\n",
       "  FL-T200#21,\n",
       "  FL-T200#22,\n",
       "  FL-T200#23,\n",
       "  FL-T200#24,\n",
       "  FL-T200#25,\n",
       "  FL-T200#26,\n",
       "  FL-T200#27,\n",
       "  FL-T200#28,\n",
       "  FL-T200#29,\n",
       "  FL-T200#30,\n",
       "  FL-T200#31,\n",
       "  FL-T200#32,\n",
       "  FL-T200#33,\n",
       "  FL-T200#34,\n",
       "  FL-T200#35,\n",
       "  FL-T200#36,\n",
       "  FL-T200#37,\n",
       "  FL-T200#38,\n",
       "  FL-T200#39,\n",
       "  FL-T200#40,\n",
       "  FL-T200#41,\n",
       "  FL-T200#42,\n",
       "  FL-T200#43,\n",
       "  FL-T200#44,\n",
       "  FL-T200#45,\n",
       "  FL-T200#46,\n",
       "  FL-T200#47,\n",
       "  FL-T200#48,\n",
       "  FL-T200#49,\n",
       "  FL-T200#50,\n",
       "  FL-T200#51,\n",
       "  FL-T200#52,\n",
       "  FL-T200#53,\n",
       "  FL-T200#54,\n",
       "  FL-T200#55,\n",
       "  FL-T200#56,\n",
       "  FL-T200#57,\n",
       "  FL-T200#58,\n",
       "  FL-T100#1,\n",
       "  FL-T100#2,\n",
       "  FL-T100#3,\n",
       "  FL-T100#4,\n",
       "  FL-T100#5,\n",
       "  FL-T100#6,\n",
       "  FL-T100#7,\n",
       "  FL-T100#8,\n",
       "  FL-T100#9,\n",
       "  FL-T100#10,\n",
       "  FL-T100#11,\n",
       "  FL-T100#12,\n",
       "  FL-T100#13,\n",
       "  FL-T100#14,\n",
       "  FL-T100#15,\n",
       "  FL-T100#16,\n",
       "  FL-T100#17,\n",
       "  FL-T100#18,\n",
       "  FL-T100#19,\n",
       "  FL-T100#20,\n",
       "  FL-T100#21,\n",
       "  FL-T100#22,\n",
       "  FL-T100#23,\n",
       "  FL-T100#24,\n",
       "  FL-T100#25,\n",
       "  FL-T100#26,\n",
       "  FL-T100#27,\n",
       "  FL-T100#28,\n",
       "  FL-T100#29,\n",
       "  FL-T100#30,\n",
       "  FL-T100#31,\n",
       "  FL-T100#32,\n",
       "  FL-T100#33,\n",
       "  FL-T100#34,\n",
       "  FL-T100#35,\n",
       "  FL-T100#36,\n",
       "  FL-T100#37,\n",
       "  FL-T100#38,\n",
       "  FL-T100#39,\n",
       "  FL-T100#40,\n",
       "  FL-T100#41,\n",
       "  FL-T100#42,\n",
       "  FL-T100#43,\n",
       "  FL-T100#44,\n",
       "  FL-T100#45,\n",
       "  FL-T100#46,\n",
       "  FL-T100#47,\n",
       "  FL-T100#48,\n",
       "  FL-T100#49,\n",
       "  FL-T100#50,\n",
       "  FL-T100#51,\n",
       "  FL-T100#52,\n",
       "  FL-T100#53,\n",
       "  FL-T100#54,\n",
       "  FL-T100#55,\n",
       "  FL-T100#56,\n",
       "  FL-T100#57,\n",
       "  FL-T100#58,\n",
       "  FL-T100#59,\n",
       "  FL-T100#60,\n",
       "  FL-T100#61,\n",
       "  FL-T100#62,\n",
       "  FL-T100#63,\n",
       "  FL-T100#64,\n",
       "  FL-T100#65,\n",
       "  FL-T100#66,\n",
       "  FL-T100#67,\n",
       "  FL-T100#68,\n",
       "  FL-T100#69,\n",
       "  FL-T100#70,\n",
       "  FL-T100#71,\n",
       "  FL-T100#72,\n",
       "  FL-T100#73,\n",
       "  FL-T100#74,\n",
       "  FL-T100#75,\n",
       "  FL-T100#76,\n",
       "  FL-T100#77,\n",
       "  FL-T100#78,\n",
       "  FL-T100#79,\n",
       "  FL-T100#80,\n",
       "  FL-T100#81,\n",
       "  FL-T100#82,\n",
       "  FL-T100#83,\n",
       "  FL-T100#84,\n",
       "  FL-T100#85,\n",
       "  FL-T100#86,\n",
       "  FL-T100#87,\n",
       "  FL-T100#88,\n",
       "  FL-T100#89,\n",
       "  FL-T100#90,\n",
       "  FL-T100#91,\n",
       "  FL-T100#92],\n",
       " 'RT-5 \"Flea\" Solid Fuel Booster': [RT-5#1, RT-5#2, RT-5#3],\n",
       " 'RT-10 \"Hammer\" Solid Fuel Booster': [RT-10#1,\n",
       "  RT-10#2,\n",
       "  RT-10#3,\n",
       "  RT-10#4,\n",
       "  RT-10#5,\n",
       "  RT-10#6,\n",
       "  RT-10#7,\n",
       "  RT-10#8,\n",
       "  RT-10#9,\n",
       "  RT-10#10,\n",
       "  RT-10#11,\n",
       "  RT-10#12,\n",
       "  RT-10#13,\n",
       "  RT-10#14,\n",
       "  RT-10#15,\n",
       "  RT-10#16,\n",
       "  RT-10#17,\n",
       "  RT-10#18,\n",
       "  RT-10#19,\n",
       "  RT-10#20,\n",
       "  RT-10#21,\n",
       "  RT-10#22,\n",
       "  RT-10#23,\n",
       "  RT-10#24,\n",
       "  RT-10#25,\n",
       "  RT-10#26,\n",
       "  RT-10#27,\n",
       "  RT-10#28,\n",
       "  RT-10#29,\n",
       "  RT-10#30,\n",
       "  RT-10#31,\n",
       "  RT-10#32,\n",
       "  RT-10#33,\n",
       "  RT-10#34,\n",
       "  RT-10#35,\n",
       "  RT-10#36,\n",
       "  RT-10#37],\n",
       " 'Solid Booster': [RT-5#1,\n",
       "  RT-5#2,\n",
       "  RT-5#3,\n",
       "  RT-10#1,\n",
       "  RT-10#2,\n",
       "  RT-10#3,\n",
       "  RT-10#4,\n",
       "  RT-10#5,\n",
       "  RT-10#6,\n",
       "  RT-10#7,\n",
       "  RT-10#8,\n",
       "  RT-10#9,\n",
       "  RT-10#10,\n",
       "  RT-10#11,\n",
       "  RT-10#12,\n",
       "  RT-10#13,\n",
       "  RT-10#14,\n",
       "  RT-10#15,\n",
       "  RT-10#16,\n",
       "  RT-10#17,\n",
       "  RT-10#18,\n",
       "  RT-10#19,\n",
       "  RT-10#20,\n",
       "  RT-10#21,\n",
       "  RT-10#22,\n",
       "  RT-10#23,\n",
       "  RT-10#24,\n",
       "  RT-10#25,\n",
       "  RT-10#26,\n",
       "  RT-10#27,\n",
       "  RT-10#28,\n",
       "  RT-10#29,\n",
       "  RT-10#30,\n",
       "  RT-10#31,\n",
       "  RT-10#32,\n",
       "  RT-10#33,\n",
       "  RT-10#34,\n",
       "  RT-10#35,\n",
       "  RT-10#36,\n",
       "  RT-10#37],\n",
       " 'Solid Stage': [],\n",
       " 'Liquid Stage': [LS#1, LS#2, LS#3, LS#4, LS#5],\n",
       " 'Rocket Stage': [LS#1, LS#2, LS#3, LS#4, LS#5],\n",
       " 'Rocket': Rocket#1}"
      ]
     },
     "execution_count": 82,
     "metadata": {},
     "output_type": "execute_result"
    }
   ],
   "source": [
    "classifier_instance_dicts[0]"
   ]
  },
  {
   "cell_type": "code",
   "execution_count": 83,
   "id": "cheap-spider",
   "metadata": {},
   "outputs": [],
   "source": [
    "feature_sequence_dictionaries = []\n",
    "\n",
    "for step in range(0, no_alts_to_create):\n",
    "    \n",
    "    classifier_instance_dict = classifier_instance_dicts[step]\n",
    "    \n",
    "    feature_sequence_dictionary = {}\n",
    "    covered_draw_dict = {}\n",
    "    \n",
    "    for sorting in sorted_feature_groups:\n",
    "        for indx, node in enumerate(sorting):\n",
    "            if indx > 0:\n",
    "                new_dict = {}\n",
    "                # get current parent from the graph\n",
    "                for pred in part_featuring_graph.successors(node):\n",
    "                    current_parent = pred\n",
    "                    #print(get_name_by_id(current_parent))\n",
    "\n",
    "                sequence_of_sequences = []\n",
    "\n",
    "                for sequence in feature_sequence_dictionary[current_parent]:\n",
    "\n",
    "                    test_mult = random.randint(\n",
    "                        feature_lower_multiplicity(id_memo_dict[node]),\n",
    "                        feature_upper_multiplicity(id_memo_dict[node])\n",
    "                    )\n",
    "\n",
    "                    for ind_j in range(0, test_mult):\n",
    "                        new_sequence = copy.deepcopy(sequence)\n",
    "                        # find the type of the current feature node\n",
    "                        node_type = get_feature_type_name(id_memo_dict[node])\n",
    "\n",
    "                        need_draw = True\n",
    "                        \n",
    "                        safety_count = 0\n",
    "\n",
    "                        while(need_draw and safety_count < 100):\n",
    "\n",
    "                            draw = random.randint(\n",
    "                                0,\n",
    "                                corrected_multiplicity_dict[node_type] - 1\n",
    "                            )\n",
    "                            #print(classifier_instance_dict[node_type][draw])\n",
    "\n",
    "                            if node_type in covered_draw_dict:\n",
    "                                if classifier_instance_dict[node_type][draw] in covered_draw_dict[node_type]:\n",
    "                                    pass\n",
    "                                    #need_draw = False\n",
    "                                else:\n",
    "                                    covered_draw_dict[node_type].append(classifier_instance_dict[node_type][draw])\n",
    "                                    need_draw = False\n",
    "                            else:\n",
    "                                covered_draw_dict.update({node_type : [classifier_instance_dict[node_type][draw]]})\n",
    "                                need_draw = False\n",
    "\n",
    "                            safety_count = safety_count + 1\n",
    "                            if safety_count == 99:\n",
    "                                print('Safety count hit when trying to place ' + \n",
    "                                      str(classifier_instance_dict[node_type][draw]) + ' under ' +\n",
    "                                     str(new_sequence))\n",
    "                                print('Covered dict is ' + str(covered_draw_dict[node_type]))\n",
    "                        \n",
    "                        new_sequence.append(classifier_instance_dict[node_type][draw])\n",
    "\n",
    "                        sequence_of_sequences.append(new_sequence)\n",
    "\n",
    "                feature_sequence_dictionary.update({node: sequence_of_sequences})\n",
    "\n",
    "            elif indx == 0:\n",
    "                if isinstance(classifier_instance_dict[get_name_by_id(node)], list):\n",
    "                    starter_list = []\n",
    "                    for item in classifier_instance_dict[get_name_by_id(node)]:\n",
    "                        starter_list.append([item])\n",
    "                    # handle case where main type has more than one instance\n",
    "                    feature_sequence_dictionary.update({node: starter_list})\n",
    "                    #print(starter_list)\n",
    "                    if len(starter_list) == 0:\n",
    "                        break\n",
    "                else:\n",
    "                    feature_sequence_dictionary.update({node: [[classifier_instance_dict[get_name_by_id(node)]]]})\n",
    "            \n",
    "    feature_sequence_dictionaries.append(feature_sequence_dictionary)"
   ]
  },
  {
   "cell_type": "code",
   "execution_count": 84,
   "id": "registered-rings",
   "metadata": {},
   "outputs": [
    {
     "name": "stdout",
     "output_type": "stream",
     "text": [
      "Solution #0\n",
      "Rocket, id 138fc869-81d0-410d-9ced-c0c2d8c23621\n",
      "[Rocket#1]\n",
      "stages, id 90efb538-3557-4da6-b25b-6f7e2fdc4f51\n",
      "[Rocket#1, LS#5]\n",
      "[Rocket#1, LS#4]\n",
      "Coupler to Carrying Stage, id 012b5231-b6a4-4603-ae10-b2f7d6cc9814\n",
      "[Rocket#1, LS#5, Coupler#38]\n",
      "[Rocket#1, LS#5, Coupler#22]\n",
      "[Rocket#1, LS#5, Coupler#8]\n",
      "[Rocket#1, LS#5, Coupler#37]\n",
      "[Rocket#1, LS#5, Coupler#40]\n",
      "[Rocket#1, LS#5, Coupler#27]\n",
      "[Rocket#1, LS#4, Coupler#35]\n",
      "[Rocket#1, LS#4, Coupler#11]\n",
      "[Rocket#1, LS#4, Coupler#21]\n",
      "Liquid Stage, id 15a555ef-9e41-4aab-99bd-ec7089e7a42d\n",
      "[LS#1]\n",
      "[LS#2]\n",
      "[LS#3]\n",
      "[LS#4]\n",
      "[LS#5]\n",
      "engines, id 4966f150-6c7a-4173-b1ea-4fa3af1d67e3\n",
      "[LS#1, LV-T45#3]\n",
      "[LS#1, LV-T45#2]\n",
      "[LS#1, LV-T45#8]\n",
      "[LS#1, LV-T45#34]\n",
      "[LS#2, LV-T45#31]\n",
      "[LS#2, LV-T45#18]\n",
      "[LS#2, LV-T45#38]\n",
      "[LS#2, LV-T45#29]\n",
      "[LS#2, LV-T45#39]\n",
      "[LS#2, LV-T45#26]\n",
      "[LS#2, LV-T45#40]\n",
      "[LS#4, LV-T45#13]\n",
      "[LS#5, LV-T45#12]\n",
      "[LS#5, LV-T45#7]\n",
      "[LS#5, LV-T45#33]\n",
      "[LS#5, LV-T45#4]\n",
      "[LS#5, LV-T45#11]\n",
      "[LS#5, LV-T45#36]\n",
      "[LS#5, LV-T45#6]\n",
      "[LS#5, LV-T45#16]\n",
      "tanks, id 4ff7f812-5d14-48d6-993b-198b88559b97\n",
      "[LS#2, FL-T200#15]\n",
      "[LS#2, FL-T100#47]\n",
      "[LS#2, FL-T100#55]\n",
      "[LS#2, FL-T200#51]\n",
      "[LS#2, FL-T200#31]\n",
      "[LS#2, FL-T100#1]\n",
      "[LS#2, FL-T100#50]\n",
      "[LS#2, FL-T200#29]\n",
      "[LS#2, FL-T200#44]\n",
      "[LS#2, FL-T100#62]\n",
      "[LS#2, FL-T200#12]\n",
      "[LS#2, FL-T100#59]\n",
      "[LS#2, FL-T100#69]\n",
      "[LS#2, FL-T200#53]\n",
      "[LS#2, FL-T100#52]\n",
      "[LS#2, FL-T100#34]\n",
      "[LS#2, FL-T100#51]\n",
      "[LS#2, FL-T100#71]\n",
      "[LS#2, FL-T200#35]\n",
      "[LS#2, FL-T200#6]\n",
      "[LS#2, FL-T200#26]\n",
      "[LS#2, FL-T100#68]\n",
      "[LS#3, FL-T100#46]\n",
      "[LS#3, FL-T200#7]\n",
      "[LS#3, FL-T200#30]\n",
      "[LS#3, FL-T100#77]\n",
      "[LS#3, FL-T200#56]\n",
      "[LS#3, FL-T200#38]\n",
      "[LS#3, FL-T100#67]\n",
      "[LS#4, FL-T100#75]\n",
      "[LS#4, FL-T100#41]\n",
      "[LS#4, FL-T100#2]\n",
      "[LS#4, FL-T200#36]\n",
      "[LS#4, FL-T200#40]\n",
      "[LS#4, FL-T100#60]\n",
      "[LS#4, FL-T200#25]\n",
      "[LS#4, FL-T100#37]\n",
      "[LS#4, FL-T100#58]\n",
      "[LS#4, FL-T200#17]\n",
      "[LS#5, FL-T100#43]\n",
      "[LS#5, FL-T200#50]\n",
      "[LS#5, FL-T100#22]\n",
      "[LS#5, FL-T100#85]\n",
      "[LS#5, FL-T200#34]\n",
      "[LS#5, FL-T100#32]\n",
      "[LS#5, FL-T100#15]\n",
      "[LS#5, FL-T100#61]\n",
      "[LS#5, FL-T100#84]\n",
      "[LS#5, FL-T100#31]\n",
      "[LS#5, FL-T100#17]\n",
      "[LS#5, FL-T100#80]\n",
      "[LS#5, FL-T100#88]\n",
      "[LS#5, FL-T100#48]\n",
      "[LS#5, FL-T100#89]\n",
      "[LS#5, FL-T100#66]\n",
      "[LS#5, FL-T200#22]\n",
      "[LS#5, FL-T200#42]\n",
      "[LS#5, FL-T100#92]\n",
      "[LS#5, FL-T100#20]\n",
      "[LS#5, FL-T100#65]\n",
      "[LS#5, FL-T100#8]\n",
      "[LS#5, FL-T100#64]\n",
      "[LS#5, FL-T100#21]\n",
      "Solid Stage, id 272da210-935a-46c3-8293-c85da5b61066\n",
      "Solution #1\n",
      "Rocket, id 138fc869-81d0-410d-9ced-c0c2d8c23621\n",
      "[Rocket#1]\n",
      "stages, id 90efb538-3557-4da6-b25b-6f7e2fdc4f51\n",
      "[Rocket#1, LS#1]\n",
      "[Rocket#1, LS#2]\n",
      "[Rocket#1, SS#1]\n",
      "[Rocket#1, LS#4]\n",
      "Coupler to Carrying Stage, id 012b5231-b6a4-4603-ae10-b2f7d6cc9814\n",
      "[Rocket#1, LS#1, Coupler#34]\n",
      "[Rocket#1, LS#1, Coupler#15]\n",
      "[Rocket#1, LS#1, Coupler#37]\n",
      "[Rocket#1, LS#1, Coupler#2]\n",
      "[Rocket#1, SS#1, Coupler#20]\n",
      "[Rocket#1, SS#1, Coupler#11]\n",
      "[Rocket#1, SS#1, Coupler#16]\n",
      "[Rocket#1, SS#1, Coupler#36]\n",
      "[Rocket#1, SS#1, Coupler#9]\n",
      "[Rocket#1, SS#1, Coupler#18]\n",
      "[Rocket#1, SS#1, Coupler#39]\n",
      "[Rocket#1, LS#4, Coupler#26]\n",
      "[Rocket#1, LS#4, Coupler#31]\n",
      "Liquid Stage, id 15a555ef-9e41-4aab-99bd-ec7089e7a42d\n",
      "[LS#1]\n",
      "[LS#2]\n",
      "[LS#3]\n",
      "[LS#4]\n",
      "engines, id 4966f150-6c7a-4173-b1ea-4fa3af1d67e3\n",
      "[LS#1, LV-T45#18]\n",
      "[LS#1, LV-T45#28]\n",
      "[LS#1, LV-T45#9]\n",
      "[LS#2, LV-T45#40]\n",
      "[LS#2, LV-T45#39]\n",
      "[LS#2, LV-T45#22]\n",
      "[LS#2, LV-T45#31]\n",
      "[LS#4, LV-T45#20]\n",
      "[LS#4, LV-T45#37]\n",
      "[LS#4, LV-T45#34]\n",
      "[LS#4, LV-T45#25]\n",
      "[LS#4, LV-T45#29]\n",
      "[LS#4, LV-T45#1]\n",
      "tanks, id 4ff7f812-5d14-48d6-993b-198b88559b97\n",
      "[LS#1, FL-T100#64]\n",
      "[LS#1, FL-T100#32]\n",
      "[LS#1, FL-T100#39]\n",
      "[LS#1, FL-T100#74]\n",
      "[LS#2, FL-T100#51]\n",
      "[LS#2, FL-T100#57]\n",
      "[LS#2, FL-T200#13]\n",
      "[LS#2, FL-T200#8]\n",
      "[LS#2, FL-T100#34]\n",
      "[LS#2, FL-T100#73]\n",
      "[LS#2, FL-T100#105]\n",
      "[LS#2, FL-T100#90]\n",
      "[LS#2, FL-T100#35]\n",
      "[LS#2, FL-T100#31]\n",
      "[LS#3, FL-T100#10]\n",
      "[LS#3, FL-T100#41]\n",
      "[LS#3, FL-T200#7]\n",
      "[LS#3, FL-T100#36]\n",
      "[LS#3, FL-T100#22]\n",
      "[LS#3, FL-T100#20]\n",
      "[LS#3, FL-T100#93]\n",
      "[LS#3, FL-T100#80]\n",
      "[LS#3, FL-T200#17]\n",
      "[LS#3, FL-T100#68]\n",
      "[LS#3, FL-T100#91]\n",
      "[LS#3, FL-T200#18]\n",
      "[LS#3, FL-T200#43]\n",
      "[LS#3, FL-T100#100]\n",
      "[LS#3, FL-T200#16]\n",
      "[LS#3, FL-T100#29]\n",
      "[LS#3, FL-T200#30]\n",
      "[LS#3, FL-T200#23]\n",
      "[LS#3, FL-T200#31]\n",
      "[LS#3, FL-T100#85]\n",
      "[LS#3, FL-T200#22]\n",
      "[LS#3, FL-T100#16]\n",
      "[LS#3, FL-T100#46]\n",
      "[LS#3, FL-T100#43]\n",
      "[LS#3, FL-T200#3]\n",
      "[LS#3, FL-T100#84]\n",
      "[LS#3, FL-T100#5]\n",
      "[LS#3, FL-T200#5]\n",
      "[LS#3, FL-T200#1]\n",
      "[LS#3, FL-T100#66]\n",
      "[LS#4, FL-T100#45]\n",
      "[LS#4, FL-T100#13]\n",
      "[LS#4, FL-T100#86]\n",
      "[LS#4, FL-T200#41]\n",
      "[LS#4, FL-T100#11]\n",
      "[LS#4, FL-T100#97]\n",
      "[LS#4, FL-T100#30]\n",
      "[LS#4, FL-T100#21]\n",
      "[LS#4, FL-T100#103]\n",
      "[LS#4, FL-T100#42]\n",
      "[LS#4, FL-T100#52]\n",
      "[LS#4, FL-T200#40]\n",
      "[LS#4, FL-T100#76]\n",
      "[LS#4, FL-T100#18]\n",
      "[LS#4, FL-T100#15]\n",
      "[LS#4, FL-T100#40]\n",
      "[LS#4, FL-T100#7]\n",
      "[LS#4, FL-T100#95]\n",
      "[LS#4, FL-T100#37]\n",
      "[LS#4, FL-T100#77]\n",
      "[LS#4, FL-T100#98]\n",
      "Solid Stage, id 272da210-935a-46c3-8293-c85da5b61066\n",
      "[SS#1]\n",
      "boosters, id 682fc895-6868-4256-be22-47edf52ea120\n",
      "[SS#1, RT-5#18]\n",
      "[SS#1, RT-5#6]\n",
      "[SS#1, RT-5#3]\n",
      "Solution #2\n",
      "Rocket, id 138fc869-81d0-410d-9ced-c0c2d8c23621\n",
      "[Rocket#1]\n",
      "stages, id 90efb538-3557-4da6-b25b-6f7e2fdc4f51\n",
      "[Rocket#1, LS#2]\n",
      "[Rocket#1, SS#1]\n",
      "Coupler to Carrying Stage, id 012b5231-b6a4-4603-ae10-b2f7d6cc9814\n",
      "[Rocket#1, LS#2, Coupler#18]\n",
      "[Rocket#1, LS#2, Coupler#6]\n",
      "[Rocket#1, LS#2, Coupler#30]\n",
      "[Rocket#1, LS#2, Coupler#16]\n",
      "[Rocket#1, LS#2, Coupler#23]\n",
      "Liquid Stage, id 15a555ef-9e41-4aab-99bd-ec7089e7a42d\n",
      "[LS#1]\n",
      "[LS#2]\n",
      "[LS#3]\n",
      "engines, id 4966f150-6c7a-4173-b1ea-4fa3af1d67e3\n",
      "[LS#1, LV-T45#12]\n",
      "[LS#2, LV-T45#5]\n",
      "[LS#2, LV-T45#36]\n",
      "[LS#2, LV-T45#15]\n",
      "[LS#2, LV-T45#10]\n",
      "[LS#2, LV-T45#26]\n",
      "[LS#2, LV-T45#21]\n",
      "[LS#2, LV-T45#4]\n",
      "[LS#2, LV-T45#11]\n",
      "[LS#3, LV-T45#13]\n",
      "tanks, id 4ff7f812-5d14-48d6-993b-198b88559b97\n",
      "[LS#1, FL-T100#33]\n",
      "[LS#1, FL-T200#22]\n",
      "[LS#1, FL-T100#27]\n",
      "[LS#1, FL-T100#7]\n",
      "[LS#1, FL-T100#16]\n",
      "[LS#1, FL-T100#28]\n",
      "[LS#1, FL-T100#26]\n",
      "[LS#1, FL-T100#22]\n",
      "[LS#1, FL-T100#102]\n",
      "[LS#1, FL-T200#12]\n",
      "[LS#1, FL-T100#17]\n",
      "[LS#1, FL-T100#12]\n",
      "[LS#1, FL-T100#98]\n",
      "[LS#1, FL-T100#88]\n",
      "[LS#1, FL-T200#25]\n",
      "[LS#1, FL-T100#47]\n",
      "[LS#1, FL-T100#49]\n",
      "[LS#1, FL-T100#90]\n",
      "[LS#1, FL-T100#53]\n",
      "[LS#1, FL-T100#36]\n",
      "[LS#1, FL-T200#11]\n",
      "[LS#1, FL-T200#9]\n",
      "[LS#2, FL-T200#29]\n",
      "[LS#2, FL-T100#45]\n",
      "[LS#2, FL-T100#72]\n",
      "[LS#2, FL-T200#18]\n",
      "[LS#2, FL-T100#8]\n",
      "[LS#2, FL-T200#39]\n",
      "[LS#2, FL-T200#37]\n",
      "[LS#2, FL-T100#5]\n",
      "[LS#2, FL-T100#107]\n",
      "[LS#2, FL-T100#106]\n",
      "[LS#2, FL-T100#29]\n",
      "[LS#2, FL-T100#80]\n",
      "[LS#2, FL-T200#3]\n",
      "[LS#2, FL-T200#19]\n",
      "[LS#2, FL-T100#94]\n",
      "[LS#2, FL-T100#77]\n",
      "[LS#2, FL-T100#37]\n",
      "[LS#2, FL-T100#97]\n",
      "[LS#2, FL-T100#24]\n",
      "Solid Stage, id 272da210-935a-46c3-8293-c85da5b61066\n",
      "[SS#1]\n",
      "[SS#2]\n",
      "boosters, id 682fc895-6868-4256-be22-47edf52ea120\n",
      "[SS#2, RT-5#23]\n",
      "[SS#2, RT-5#15]\n",
      "[SS#2, RT-10#1]\n"
     ]
    }
   ],
   "source": [
    "for indx, feature_sequence_dictionary in enumerate(feature_sequence_dictionaries):\n",
    "    if indx < 3:\n",
    "        print(\"Solution #\" + str(indx))\n",
    "        for key in feature_sequence_dictionary:\n",
    "            print(get_name_by_id(key) + ', id ' + key)\n",
    "            for seq in feature_sequence_dictionary[key]:\n",
    "                print(str(seq))"
   ]
  },
  {
   "cell_type": "markdown",
   "id": "twenty-amount",
   "metadata": {},
   "source": [
    "# Analyze and Explore Resulting Space\n",
    "\n",
    "Now that the alternatives have been generated, we can explore the population"
   ]
  },
  {
   "cell_type": "code",
   "execution_count": 85,
   "id": "global-monthly",
   "metadata": {},
   "outputs": [
    {
     "data": {
      "text/plain": [
       "[['Solid Stage', '272da210-935a-46c3-8293-c85da5b61066'],\n",
       " ['FL-T200 Fuel Tank', '9248031c-a406-457a-8b94-0f7b7cba8a72'],\n",
       " ['Liquid Stage', '15a555ef-9e41-4aab-99bd-ec7089e7a42d'],\n",
       " ['Coupler', 'd1161d5b-2615-4cd4-8992-acb862d345b5'],\n",
       " ['LV-T45 \"Swivel\" Liquid Fuel Engine',\n",
       "  '1cf48625-bb48-4d98-b1a2-28526f3d2065'],\n",
       " ['RT-5 \"Flea\" Solid Fuel Booster', 'b3efe86e-0fcd-4fae-ad9a-7fd337768767'],\n",
       " ['RT-10 \"Hammer\" Solid Fuel Booster', '3a89ddab-d753-4017-93d7-741288b8db6e'],\n",
       " ['Mk1 Command Pod', '2610fb95-f34a-4e7a-853e-9eb181290f69'],\n",
       " ['Parachute', 'ef45845b-1fa4-4532-a4f1-bbc93cb6aeb6'],\n",
       " ['FL-T100 Fuel Tank', '5d230c41-b918-446b-8d25-3f6fcd16852b']]"
      ]
     },
     "execution_count": 85,
     "metadata": {},
     "output_type": "execute_result"
    }
   ],
   "source": [
    "[[get_name_by_id(node), node] for node in subclassing_graph.nodes if subclassing_graph.out_degree(node) == 0]"
   ]
  },
  {
   "cell_type": "markdown",
   "id": "pediatric-limitation",
   "metadata": {},
   "source": [
    "## Gather AttributeUsages and literal values\n",
    "\n",
    "Find all the attribute usages so we can navigate to them from our parts library."
   ]
  },
  {
   "cell_type": "markdown",
   "id": "constant-spelling",
   "metadata": {},
   "source": [
    "TODO: Look at using FeatureValue relationships for this"
   ]
  },
  {
   "cell_type": "code",
   "execution_count": 86,
   "id": "sunset-force",
   "metadata": {},
   "outputs": [],
   "source": [
    "def get_att_literal_values(att_use):\n",
    "    literal_values = []\n",
    "    for att_member in att_use['ownedMember']:\n",
    "        if att_member['@id'] in id_memo_dict:\n",
    "            if id_memo_dict[att_member['@id']]['@type'] == 'LiteralReal':\n",
    "                literal_values.append(id_memo_dict[att_member['@id']])\n",
    "                \n",
    "    return literal_values"
   ]
  },
  {
   "cell_type": "code",
   "execution_count": 87,
   "id": "social-cuisine",
   "metadata": {},
   "outputs": [],
   "source": [
    "att_uses = [att_use for att_use in non_relations if att_use['@type'] == 'AttributeUsage']\n",
    "for att_use in att_uses:\n",
    "    id_memo_dict.update({att_use['@id']: att_use})"
   ]
  },
  {
   "cell_type": "markdown",
   "id": "fiscal-geology",
   "metadata": {},
   "source": [
    "Get literal reals to connect to attributes."
   ]
  },
  {
   "cell_type": "code",
   "execution_count": 88,
   "id": "awful-monitor",
   "metadata": {},
   "outputs": [],
   "source": [
    "reals = [real for real in non_relations if real['@type'] == 'LiteralReal']\n",
    "for real in reals:\n",
    "    id_memo_dict.update({real['@id']: real})"
   ]
  },
  {
   "cell_type": "markdown",
   "id": "desperate-brand",
   "metadata": {},
   "source": [
    "Create objects to hold different values per instance."
   ]
  },
  {
   "cell_type": "code",
   "execution_count": 109,
   "id": "metropolitan-netherlands",
   "metadata": {},
   "outputs": [],
   "source": [
    "class ValueHolder():\n",
    "    \n",
    "    def __init__(self, path, name, value):\n",
    "        # path is list of instance references\n",
    "        self.holder_string = ''\n",
    "        for indx, step in enumerate(path):\n",
    "            if indx == 0:\n",
    "                self.holder_string = str(step)\n",
    "            else:\n",
    "                self.holder_string = self.holder_string + '.' + str(step)\n",
    "        self.holder_string = self.holder_string + '.' + name\n",
    "        self.value = value\n",
    "    \n",
    "    def __repr__(self):\n",
    "        if self.value is not None:\n",
    "            return self.holder_string + ' (' + str(self.value) + ')'\n",
    "        else:\n",
    "            return self.holder_string + ' (unset)'"
   ]
  },
  {
   "cell_type": "markdown",
   "id": "dutch-thirty",
   "metadata": {},
   "source": [
    "Get expressions attached to attributes as values."
   ]
  },
  {
   "cell_type": "code",
   "execution_count": 90,
   "id": "derived-phrase",
   "metadata": {},
   "outputs": [],
   "source": [
    "found_ele = [found for found in non_relations if found['@id'] == 'ced4f691-07ff-45dd-a2cd-687bc3bb8942']"
   ]
  },
  {
   "cell_type": "code",
   "execution_count": 91,
   "id": "charitable-score",
   "metadata": {},
   "outputs": [
    {
     "name": "stdout",
     "output_type": "stream",
     "text": [
      "Full Mass of RT-5 \"Flea\" Solid Fuel Booster = 1.5\n",
      "Thrust of RT-10 \"Hammer\" Solid Fuel Booster = 197.9\n",
      "Empty Mass of RT-10 \"Hammer\" Solid Fuel Booster = 0.75\n",
      "Specific Impulse of LV-T45 \"Swivel\" Liquid Fuel Engine = 170.0\n",
      "Thrust of LV-T45 \"Swivel\" Liquid Fuel Engine = 167.97\n",
      "Full Mass of FL-T100 Fuel Tank = 0.5625\n",
      "Empty Mass of FL-T200 Fuel Tank = 0.125\n",
      "Thrust of RT-5 \"Flea\" Solid Fuel Booster = 162.91\n",
      "Empty Mass of RT-5 \"Flea\" Solid Fuel Booster = 0.45\n",
      "Full Mass of RT-10 \"Hammer\" Solid Fuel Booster = 3.56\n",
      "Specific Impulse of RT-5 \"Flea\" Solid Fuel Booster = 140.0\n",
      "Specific Impulse of RT-10 \"Hammer\" Solid Fuel Booster = 170.0\n",
      "Empty Mass of FL-T100 Fuel Tank = 0.0625\n",
      "Full Mass of FL-T200 Fuel Tank = 1.125\n"
     ]
    }
   ],
   "source": [
    "type_values = {}\n",
    "\n",
    "for att_use in att_uses:\n",
    "    if len(att_use['ownedMember']) > 0:\n",
    "        typ = id_memo_dict[att_use['owningType']['@id']]\n",
    "        for att_member in att_use['ownedMember']:\n",
    "            for value in get_att_literal_values(att_use):\n",
    "                print (att_use['name'] + ' of ' + typ['name'] + ' = ' + str(value['value']))\n",
    "                if att_use['name'] in type_values:\n",
    "                    type_values[att_use['name']].update({typ['name']: value['value']})\n",
    "                else:\n",
    "                    type_values.update({att_use['name']: {typ['name']: value['value']}})"
   ]
  },
  {
   "cell_type": "code",
   "execution_count": 92,
   "id": "metric-terrace",
   "metadata": {},
   "outputs": [
    {
     "data": {
      "text/plain": [
       "{'Full Mass': {'RT-5 \"Flea\" Solid Fuel Booster': 1.5,\n",
       "  'FL-T100 Fuel Tank': 0.5625,\n",
       "  'RT-10 \"Hammer\" Solid Fuel Booster': 3.56,\n",
       "  'FL-T200 Fuel Tank': 1.125},\n",
       " 'Thrust': {'RT-10 \"Hammer\" Solid Fuel Booster': 197.9,\n",
       "  'LV-T45 \"Swivel\" Liquid Fuel Engine': 167.97,\n",
       "  'RT-5 \"Flea\" Solid Fuel Booster': 162.91},\n",
       " 'Empty Mass': {'RT-10 \"Hammer\" Solid Fuel Booster': 0.75,\n",
       "  'FL-T200 Fuel Tank': 0.125,\n",
       "  'RT-5 \"Flea\" Solid Fuel Booster': 0.45,\n",
       "  'FL-T100 Fuel Tank': 0.0625},\n",
       " 'Specific Impulse': {'LV-T45 \"Swivel\" Liquid Fuel Engine': 170.0,\n",
       "  'RT-5 \"Flea\" Solid Fuel Booster': 140.0,\n",
       "  'RT-10 \"Hammer\" Solid Fuel Booster': 170.0}}"
      ]
     },
     "execution_count": 92,
     "metadata": {},
     "output_type": "execute_result"
    }
   ],
   "source": [
    "type_values"
   ]
  },
  {
   "cell_type": "markdown",
   "id": "proof-insight",
   "metadata": {},
   "source": [
    "- [ ] TODO: Factor the above as sequences of instances rather than going back to the type"
   ]
  },
  {
   "cell_type": "markdown",
   "id": "constitutional-rings",
   "metadata": {},
   "source": [
    "## Create Attribute Sequences\n",
    "\n",
    "Add attributes to the sequences for parts, and where there are values, add those to the sequence also."
   ]
  },
  {
   "cell_type": "code",
   "execution_count": 93,
   "id": "joint-proof",
   "metadata": {},
   "outputs": [],
   "source": [
    "attribute_member_value_graph = NX.DiGraph()\n",
    "\n",
    "for att in att_uses:\n",
    "    if att['@id'] in id_memo_dict:\n",
    "        if id_memo_dict[att['@id']]['@type'] == 'AttributeUsage':\n",
    "            attribute_member_value_graph.add_edge(att['@id'], att['owningType']['@id'])\n",
    "            for value in get_att_literal_values(att):\n",
    "                attribute_member_value_graph.add_edge(value['@id'], att['@id'])"
   ]
  },
  {
   "cell_type": "code",
   "execution_count": 94,
   "id": "increasing-visit",
   "metadata": {},
   "outputs": [
    {
     "data": {
      "image/png": "[encoded data removed]",
      "text/plain": [
       "<Figure size 432x288 with 1 Axes>"
      ]
     },
     "metadata": {},
     "output_type": "display_data"
    }
   ],
   "source": [
    "attribute_member_value_graph_labels = {}\n",
    "for node in attribute_member_value_graph.nodes():\n",
    "    if id_memo_dict[node]['@type'] == 'AttributeUsage':\n",
    "        attribute_member_value_graph_labels.update({node: get_name_by_id(node)})\n",
    "    elif id_memo_dict[node]['@type'] == 'LiteralReal':\n",
    "        attribute_member_value_graph_labels.update({node: id_memo_dict[node]['value']})\n",
    "    \n",
    "NX.draw_spring(attribute_member_value_graph, labels=attribute_member_value_graph_labels)"
   ]
  },
  {
   "cell_type": "markdown",
   "id": "headed-species",
   "metadata": {},
   "source": [
    "### Match Attributes to Classifier types\n",
    "\n",
    "Where the owningType of the Attribute usage is a classifier, use it as the base of the sequence."
   ]
  },
  {
   "cell_type": "code",
   "execution_count": 95,
   "id": "certified-tiffany",
   "metadata": {},
   "outputs": [
    {
     "data": {
      "text/plain": [
       "dict_keys(['Coupler', 'LV-T45 \"Swivel\" Liquid Fuel Engine', 'Liquid Engine', 'FL-T200 Fuel Tank', 'FL-T100 Fuel Tank', 'Fuel Tank Section', 'RT-5 \"Flea\" Solid Fuel Booster', 'RT-10 \"Hammer\" Solid Fuel Booster', 'Solid Booster', 'Solid Stage', 'Liquid Stage', 'Rocket Stage', 'Rocket'])"
      ]
     },
     "execution_count": 95,
     "metadata": {},
     "output_type": "execute_result"
    }
   ],
   "source": [
    "classifier_instance_dicts[0].keys()"
   ]
  },
  {
   "cell_type": "code",
   "execution_count": 110,
   "id": "sporting-nurse",
   "metadata": {},
   "outputs": [],
   "source": [
    "att_value_dicts = []\n",
    "value_holders = []\n",
    "\n",
    "for classifier_instance_dict in classifier_instance_dicts:\n",
    "\n",
    "    att_value_dict = {}\n",
    "\n",
    "    for att in att_uses:\n",
    "        new_sequences = []\n",
    "        att_owning_type = id_memo_dict[att['owningType']['@id']]\n",
    "        if att_owning_type['@type'] == 'PartDefinition':\n",
    "            if att_owning_type['name'] in classifier_instance_dict:\n",
    "                for instance in classifier_instance_dict[att_owning_type['name']]:\n",
    "                    new_sequence = []\n",
    "                    new_sequence.append(instance)\n",
    "                    \n",
    "                    #new_sequence.append(att['name'])\n",
    "                    \n",
    "                    for value in get_att_literal_values(att):\n",
    "                        #new_sequence.append(value['@id'])\n",
    "                        new_holder = ValueHolder([instance], att['name'], value['value'])\n",
    "                        value_holders.append(new_holder)\n",
    "                        new_sequence.append(new_holder)\n",
    "                        \n",
    "                    if len(get_att_literal_values(att)) == 0:\n",
    "                        new_holder = ValueHolder([instance], att['name'], None)\n",
    "                        new_sequence.append(new_holder)\n",
    "                    new_sequences.append(new_sequence)\n",
    "\n",
    "        att_value_dict.update({att['@id']: new_sequences})\n",
    "        \n",
    "    att_value_dicts.append(att_value_dict)"
   ]
  },
  {
   "cell_type": "code",
   "execution_count": 111,
   "id": "electoral-auction",
   "metadata": {},
   "outputs": [
    {
     "name": "stdout",
     "output_type": "stream",
     "text": [
      "Solution #0\n",
      "Full Mass, id 0db05bc5-1cac-489d-9cb2-dc6f511dd83e\n",
      "[RT-5#1, RT-5#1.Full Mass (1.5)]\n",
      "[RT-5#2, RT-5#2.Full Mass (1.5)]\n",
      "[RT-5#3, RT-5#3.Full Mass (1.5)]\n",
      "Empty Mass, id 109c784f-d243-47a9-bce0-6c4f4dd59344\n",
      "[LS#1, LS#1.Empty Mass (unset)]\n",
      "[LS#2, LS#2.Empty Mass (unset)]\n",
      "[LS#3, LS#3.Empty Mass (unset)]\n",
      "[LS#4, LS#4.Empty Mass (unset)]\n",
      "[LS#5, LS#5.Empty Mass (unset)]\n",
      "Empty Mass, id 1104fbb1-5fbf-4741-aa95-a43d88f886c0\n",
      "[FL-T200#1, FL-T200#1.Empty Mass (unset)]\n",
      "[FL-T200#2, FL-T200#2.Empty Mass (unset)]\n",
      "[FL-T200#3, FL-T200#3.Empty Mass (unset)]\n",
      "[FL-T200#4, FL-T200#4.Empty Mass (unset)]\n",
      "[FL-T200#5, FL-T200#5.Empty Mass (unset)]\n",
      "..\n",
      "Full Mass, id 1498d182-785e-4895-aa10-79dbe2e1a285\n",
      "[RT-5#1, RT-5#1.Full Mass (unset)]\n",
      "[RT-5#2, RT-5#2.Full Mass (unset)]\n",
      "[RT-5#3, RT-5#3.Full Mass (unset)]\n",
      "[RT-10#1, RT-10#1.Full Mass (unset)]\n",
      "[RT-10#2, RT-10#2.Full Mass (unset)]\n",
      "..\n",
      "Thrust, id 1bc9edf2-6915-438f-9c01-cebfd4c690e8\n",
      "[RT-10#1, RT-10#1.Thrust (197.9)]\n",
      "[RT-10#2, RT-10#2.Thrust (197.9)]\n",
      "[RT-10#3, RT-10#3.Thrust (197.9)]\n",
      "[RT-10#4, RT-10#4.Thrust (197.9)]\n",
      "[RT-10#5, RT-10#5.Thrust (197.9)]\n",
      "..\n",
      "Full Mass, id 22d6d751-11c2-4a31-bc0f-c80d1f3dc495\n",
      "Torque, id 26301253-435e-4505-b880-916e58c9b5b3\n",
      "Thrust, id 2c2999d4-12ef-4fd7-84b8-bb3e1ab6acc7\n",
      "[RT-5#1, RT-5#1.Thrust (unset)]\n",
      "[RT-5#2, RT-5#2.Thrust (unset)]\n",
      "[RT-5#3, RT-5#3.Thrust (unset)]\n",
      "[RT-10#1, RT-10#1.Thrust (unset)]\n",
      "[RT-10#2, RT-10#2.Thrust (unset)]\n",
      "..\n",
      "Specific Impulse, id 2e2d7098-504e-465d-8970-d6b13aa17b7a\n",
      "[RT-5#1, RT-5#1.Specific Impulse (unset)]\n",
      "[RT-5#2, RT-5#2.Specific Impulse (unset)]\n",
      "[RT-5#3, RT-5#3.Specific Impulse (unset)]\n",
      "[RT-10#1, RT-10#1.Specific Impulse (unset)]\n",
      "[RT-10#2, RT-10#2.Specific Impulse (unset)]\n",
      "..\n",
      "Burnout Mass, id 37babe4d-2f6f-4912-a7c7-448c85e65218\n",
      "Empty Mass, id 54df5f23-6bd8-4589-b0ad-7c537a04d15f\n",
      "[RT-10#1, RT-10#1.Empty Mass (0.75)]\n",
      "[RT-10#2, RT-10#2.Empty Mass (0.75)]\n",
      "[RT-10#3, RT-10#3.Empty Mass (0.75)]\n",
      "[RT-10#4, RT-10#4.Empty Mass (0.75)]\n",
      "[RT-10#5, RT-10#5.Empty Mass (0.75)]\n",
      "..\n",
      "Specific Impulse, id 67ea9881-400b-4ca8-aa6b-7cb6541673c0\n",
      "[LV-T45#1, LV-T45#1.Specific Impulse (170.0)]\n",
      "[LV-T45#2, LV-T45#2.Specific Impulse (170.0)]\n",
      "[LV-T45#3, LV-T45#3.Specific Impulse (170.0)]\n",
      "[LV-T45#4, LV-T45#4.Specific Impulse (170.0)]\n",
      "[LV-T45#5, LV-T45#5.Specific Impulse (170.0)]\n",
      "..\n",
      "Mass, id 694172ef-3885-436e-906c-54e1d1d7f811\n",
      "Loaded Mass, id 6965f9ce-0198-48e9-bcd5-2da61711cec5\n",
      "Payload Mass, id 696799cd-75d2-4642-91b5-c2aebf4dc2a5\n",
      "Specific Impulse, id 71515c37-fa24-4c3f-94c8-d7ff1f396087\n",
      "[LV-T45#1, LV-T45#1.Specific Impulse (unset)]\n",
      "[LV-T45#2, LV-T45#2.Specific Impulse (unset)]\n",
      "[LV-T45#3, LV-T45#3.Specific Impulse (unset)]\n",
      "[LV-T45#4, LV-T45#4.Specific Impulse (unset)]\n",
      "[LV-T45#5, LV-T45#5.Specific Impulse (unset)]\n",
      "..\n",
      "Empty Mass, id 728fa8ae-398a-4d55-8695-357b2820d529\n",
      "[RT-5#1, RT-5#1.Empty Mass (unset)]\n",
      "[RT-5#2, RT-5#2.Empty Mass (unset)]\n",
      "[RT-5#3, RT-5#3.Empty Mass (unset)]\n",
      "[RT-10#1, RT-10#1.Empty Mass (unset)]\n",
      "[RT-10#2, RT-10#2.Empty Mass (unset)]\n",
      "..\n",
      "Thrust, id 7bccac48-734e-47f1-bb5e-37755d435a56\n",
      "[LV-T45#1, LV-T45#1.Thrust (167.97)]\n",
      "[LV-T45#2, LV-T45#2.Thrust (167.97)]\n",
      "[LV-T45#3, LV-T45#3.Thrust (167.97)]\n",
      "[LV-T45#4, LV-T45#4.Thrust (167.97)]\n",
      "[LV-T45#5, LV-T45#5.Thrust (167.97)]\n",
      "..\n",
      "Thrust, id 8b5b2a8b-762a-48e2-82a9-f7642f0661e9\n",
      "[LV-T45#1, LV-T45#1.Thrust (unset)]\n",
      "[LV-T45#2, LV-T45#2.Thrust (unset)]\n",
      "[LV-T45#3, LV-T45#3.Thrust (unset)]\n",
      "[LV-T45#4, LV-T45#4.Thrust (unset)]\n",
      "[LV-T45#5, LV-T45#5.Thrust (unset)]\n",
      "..\n",
      "Full Mass, id 8cd42dd0-908d-4249-8a78-e52bbaba8efa\n",
      "[FL-T100#1, FL-T100#1.Full Mass (0.5625)]\n",
      "[FL-T100#2, FL-T100#2.Full Mass (0.5625)]\n",
      "[FL-T100#3, FL-T100#3.Full Mass (0.5625)]\n",
      "[FL-T100#4, FL-T100#4.Full Mass (0.5625)]\n",
      "[FL-T100#5, FL-T100#5.Full Mass (0.5625)]\n",
      "..\n",
      "Liquid Fuel, id 8fb41452-b350-46ce-82f2-bfddf0403e7a\n",
      "[FL-T200#1, FL-T200#1.Liquid Fuel (unset)]\n",
      "[FL-T200#2, FL-T200#2.Liquid Fuel (unset)]\n",
      "[FL-T200#3, FL-T200#3.Liquid Fuel (unset)]\n",
      "[FL-T200#4, FL-T200#4.Liquid Fuel (unset)]\n",
      "[FL-T200#5, FL-T200#5.Liquid Fuel (unset)]\n",
      "..\n",
      "Empty Mass, id 973bf92e-dd1c-4caa-9741-c1d47b921664\n",
      "[FL-T200#1, FL-T200#1.Empty Mass (0.125)]\n",
      "[FL-T200#2, FL-T200#2.Empty Mass (0.125)]\n",
      "[FL-T200#3, FL-T200#3.Empty Mass (0.125)]\n",
      "[FL-T200#4, FL-T200#4.Empty Mass (0.125)]\n",
      "[FL-T200#5, FL-T200#5.Empty Mass (0.125)]\n",
      "..\n",
      "Max Temperature, id 9b4c80db-4af8-404e-9ee5-5d9dd88392d9\n",
      "Thrust, id 9ff26e47-ced8-4353-8f50-872810de898c\n",
      "[RT-5#1, RT-5#1.Thrust (162.91)]\n",
      "[RT-5#2, RT-5#2.Thrust (162.91)]\n",
      "[RT-5#3, RT-5#3.Thrust (162.91)]\n",
      "Empty Mass, id b0f90804-9330-4e70-9535-305e76e97ed6\n",
      "[RT-5#1, RT-5#1.Empty Mass (0.45)]\n",
      "[RT-5#2, RT-5#2.Empty Mass (0.45)]\n",
      "[RT-5#3, RT-5#3.Empty Mass (0.45)]\n",
      "Full Mass, id bbdd9af6-690d-481a-bf30-0b2098fad144\n",
      "[RT-10#1, RT-10#1.Full Mass (3.56)]\n",
      "[RT-10#2, RT-10#2.Full Mass (3.56)]\n",
      "[RT-10#3, RT-10#3.Full Mass (3.56)]\n",
      "[RT-10#4, RT-10#4.Full Mass (3.56)]\n",
      "[RT-10#5, RT-10#5.Full Mass (3.56)]\n",
      "..\n",
      "Oxidizer, id d7726e39-1f51-4b3f-b232-0f2ba2d1a059\n",
      "[FL-T200#1, FL-T200#1.Oxidizer (unset)]\n",
      "[FL-T200#2, FL-T200#2.Oxidizer (unset)]\n",
      "[FL-T200#3, FL-T200#3.Oxidizer (unset)]\n",
      "[FL-T200#4, FL-T200#4.Oxidizer (unset)]\n",
      "[FL-T200#5, FL-T200#5.Oxidizer (unset)]\n",
      "..\n",
      "Specific Impulse, id da7bf400-06fc-4685-89e6-6d4aa4b90dae\n",
      "[RT-5#1, RT-5#1.Specific Impulse (140.0)]\n",
      "[RT-5#2, RT-5#2.Specific Impulse (140.0)]\n",
      "[RT-5#3, RT-5#3.Specific Impulse (140.0)]\n",
      "Full Mass, id dd7c77c9-6caa-45ba-8dff-566d79319224\n",
      "[FL-T200#1, FL-T200#1.Full Mass (unset)]\n",
      "[FL-T200#2, FL-T200#2.Full Mass (unset)]\n",
      "[FL-T200#3, FL-T200#3.Full Mass (unset)]\n",
      "[FL-T200#4, FL-T200#4.Full Mass (unset)]\n",
      "[FL-T200#5, FL-T200#5.Full Mass (unset)]\n",
      "..\n",
      "Full Mass, id df0804e4-6099-4d34-a621-dbc277c7e27f\n",
      "[LS#1, LS#1.Full Mass (unset)]\n",
      "[LS#2, LS#2.Full Mass (unset)]\n",
      "[LS#3, LS#3.Full Mass (unset)]\n",
      "[LS#4, LS#4.Full Mass (unset)]\n",
      "[LS#5, LS#5.Full Mass (unset)]\n",
      "Empty Mass, id e0d941de-76e6-4c5a-a43f-366838245a77\n",
      "Specific Impulse, id e6efa9bb-61bf-45fc-b771-aa4e696d5511\n",
      "[RT-10#1, RT-10#1.Specific Impulse (170.0)]\n",
      "[RT-10#2, RT-10#2.Specific Impulse (170.0)]\n",
      "[RT-10#3, RT-10#3.Specific Impulse (170.0)]\n",
      "[RT-10#4, RT-10#4.Specific Impulse (170.0)]\n",
      "[RT-10#5, RT-10#5.Specific Impulse (170.0)]\n",
      "..\n",
      "Separation Force, id f5557966-704d-44bc-b86f-e08de62267ae\n",
      "Empty Mass, id f55de2fc-ef42-444a-8e4f-17674fd8386c\n",
      "[FL-T100#1, FL-T100#1.Empty Mass (0.0625)]\n",
      "[FL-T100#2, FL-T100#2.Empty Mass (0.0625)]\n",
      "[FL-T100#3, FL-T100#3.Empty Mass (0.0625)]\n",
      "[FL-T100#4, FL-T100#4.Empty Mass (0.0625)]\n",
      "[FL-T100#5, FL-T100#5.Empty Mass (0.0625)]\n",
      "..\n",
      "Full Mass, id fa2d833d-0d5a-40c7-a66b-73774866e6ec\n",
      "[FL-T200#1, FL-T200#1.Full Mass (1.125)]\n",
      "[FL-T200#2, FL-T200#2.Full Mass (1.125)]\n",
      "[FL-T200#3, FL-T200#3.Full Mass (1.125)]\n",
      "[FL-T200#4, FL-T200#4.Full Mass (1.125)]\n",
      "[FL-T200#5, FL-T200#5.Full Mass (1.125)]\n",
      "..\n",
      "Solution #1\n",
      "Full Mass, id 0db05bc5-1cac-489d-9cb2-dc6f511dd83e\n",
      "[RT-5#1, RT-5#1.Full Mass (1.5)]\n",
      "[RT-5#2, RT-5#2.Full Mass (1.5)]\n",
      "[RT-5#3, RT-5#3.Full Mass (1.5)]\n",
      "[RT-5#4, RT-5#4.Full Mass (1.5)]\n",
      "[RT-5#5, RT-5#5.Full Mass (1.5)]\n",
      "..\n",
      "Empty Mass, id 109c784f-d243-47a9-bce0-6c4f4dd59344\n",
      "[LS#1, LS#1.Empty Mass (unset)]\n",
      "[LS#2, LS#2.Empty Mass (unset)]\n",
      "[LS#3, LS#3.Empty Mass (unset)]\n",
      "[LS#4, LS#4.Empty Mass (unset)]\n",
      "Empty Mass, id 1104fbb1-5fbf-4741-aa95-a43d88f886c0\n",
      "[FL-T200#1, FL-T200#1.Empty Mass (unset)]\n",
      "[FL-T200#2, FL-T200#2.Empty Mass (unset)]\n",
      "[FL-T200#3, FL-T200#3.Empty Mass (unset)]\n",
      "[FL-T200#4, FL-T200#4.Empty Mass (unset)]\n",
      "[FL-T200#5, FL-T200#5.Empty Mass (unset)]\n",
      "..\n",
      "Full Mass, id 1498d182-785e-4895-aa10-79dbe2e1a285\n",
      "[RT-5#1, RT-5#1.Full Mass (unset)]\n",
      "[RT-5#2, RT-5#2.Full Mass (unset)]\n",
      "[RT-5#3, RT-5#3.Full Mass (unset)]\n",
      "[RT-5#4, RT-5#4.Full Mass (unset)]\n",
      "[RT-5#5, RT-5#5.Full Mass (unset)]\n",
      "..\n",
      "Thrust, id 1bc9edf2-6915-438f-9c01-cebfd4c690e8\n",
      "[RT-10#1, RT-10#1.Thrust (197.9)]\n",
      "[RT-10#2, RT-10#2.Thrust (197.9)]\n",
      "[RT-10#3, RT-10#3.Thrust (197.9)]\n",
      "[RT-10#4, RT-10#4.Thrust (197.9)]\n",
      "[RT-10#5, RT-10#5.Thrust (197.9)]\n",
      "..\n",
      "Full Mass, id 22d6d751-11c2-4a31-bc0f-c80d1f3dc495\n",
      "[SS#1, SS#1.Full Mass (unset)]\n",
      "Torque, id 26301253-435e-4505-b880-916e58c9b5b3\n",
      "Thrust, id 2c2999d4-12ef-4fd7-84b8-bb3e1ab6acc7\n",
      "[RT-5#1, RT-5#1.Thrust (unset)]\n",
      "[RT-5#2, RT-5#2.Thrust (unset)]\n",
      "[RT-5#3, RT-5#3.Thrust (unset)]\n",
      "[RT-5#4, RT-5#4.Thrust (unset)]\n",
      "[RT-5#5, RT-5#5.Thrust (unset)]\n",
      "..\n",
      "Specific Impulse, id 2e2d7098-504e-465d-8970-d6b13aa17b7a\n",
      "[RT-5#1, RT-5#1.Specific Impulse (unset)]\n",
      "[RT-5#2, RT-5#2.Specific Impulse (unset)]\n",
      "[RT-5#3, RT-5#3.Specific Impulse (unset)]\n",
      "[RT-5#4, RT-5#4.Specific Impulse (unset)]\n",
      "[RT-5#5, RT-5#5.Specific Impulse (unset)]\n",
      "..\n",
      "Burnout Mass, id 37babe4d-2f6f-4912-a7c7-448c85e65218\n",
      "Empty Mass, id 54df5f23-6bd8-4589-b0ad-7c537a04d15f\n",
      "[RT-10#1, RT-10#1.Empty Mass (0.75)]\n",
      "[RT-10#2, RT-10#2.Empty Mass (0.75)]\n",
      "[RT-10#3, RT-10#3.Empty Mass (0.75)]\n",
      "[RT-10#4, RT-10#4.Empty Mass (0.75)]\n",
      "[RT-10#5, RT-10#5.Empty Mass (0.75)]\n",
      "..\n",
      "Specific Impulse, id 67ea9881-400b-4ca8-aa6b-7cb6541673c0\n",
      "[LV-T45#1, LV-T45#1.Specific Impulse (170.0)]\n",
      "[LV-T45#2, LV-T45#2.Specific Impulse (170.0)]\n",
      "[LV-T45#3, LV-T45#3.Specific Impulse (170.0)]\n",
      "[LV-T45#4, LV-T45#4.Specific Impulse (170.0)]\n",
      "[LV-T45#5, LV-T45#5.Specific Impulse (170.0)]\n",
      "..\n",
      "Mass, id 694172ef-3885-436e-906c-54e1d1d7f811\n",
      "Loaded Mass, id 6965f9ce-0198-48e9-bcd5-2da61711cec5\n",
      "Payload Mass, id 696799cd-75d2-4642-91b5-c2aebf4dc2a5\n",
      "Specific Impulse, id 71515c37-fa24-4c3f-94c8-d7ff1f396087\n",
      "[LV-T45#1, LV-T45#1.Specific Impulse (unset)]\n",
      "[LV-T45#2, LV-T45#2.Specific Impulse (unset)]\n",
      "[LV-T45#3, LV-T45#3.Specific Impulse (unset)]\n",
      "[LV-T45#4, LV-T45#4.Specific Impulse (unset)]\n",
      "[LV-T45#5, LV-T45#5.Specific Impulse (unset)]\n",
      "..\n",
      "Empty Mass, id 728fa8ae-398a-4d55-8695-357b2820d529\n",
      "[RT-5#1, RT-5#1.Empty Mass (unset)]\n",
      "[RT-5#2, RT-5#2.Empty Mass (unset)]\n",
      "[RT-5#3, RT-5#3.Empty Mass (unset)]\n",
      "[RT-5#4, RT-5#4.Empty Mass (unset)]\n",
      "[RT-5#5, RT-5#5.Empty Mass (unset)]\n",
      "..\n",
      "Thrust, id 7bccac48-734e-47f1-bb5e-37755d435a56\n",
      "[LV-T45#1, LV-T45#1.Thrust (167.97)]\n",
      "[LV-T45#2, LV-T45#2.Thrust (167.97)]\n",
      "[LV-T45#3, LV-T45#3.Thrust (167.97)]\n",
      "[LV-T45#4, LV-T45#4.Thrust (167.97)]\n",
      "[LV-T45#5, LV-T45#5.Thrust (167.97)]\n",
      "..\n",
      "Thrust, id 8b5b2a8b-762a-48e2-82a9-f7642f0661e9\n",
      "[LV-T45#1, LV-T45#1.Thrust (unset)]\n",
      "[LV-T45#2, LV-T45#2.Thrust (unset)]\n",
      "[LV-T45#3, LV-T45#3.Thrust (unset)]\n",
      "[LV-T45#4, LV-T45#4.Thrust (unset)]\n",
      "[LV-T45#5, LV-T45#5.Thrust (unset)]\n",
      "..\n",
      "Full Mass, id 8cd42dd0-908d-4249-8a78-e52bbaba8efa\n",
      "[FL-T100#1, FL-T100#1.Full Mass (0.5625)]\n",
      "[FL-T100#2, FL-T100#2.Full Mass (0.5625)]\n",
      "[FL-T100#3, FL-T100#3.Full Mass (0.5625)]\n",
      "[FL-T100#4, FL-T100#4.Full Mass (0.5625)]\n",
      "[FL-T100#5, FL-T100#5.Full Mass (0.5625)]\n",
      "..\n",
      "Liquid Fuel, id 8fb41452-b350-46ce-82f2-bfddf0403e7a\n",
      "[FL-T200#1, FL-T200#1.Liquid Fuel (unset)]\n",
      "[FL-T200#2, FL-T200#2.Liquid Fuel (unset)]\n",
      "[FL-T200#3, FL-T200#3.Liquid Fuel (unset)]\n",
      "[FL-T200#4, FL-T200#4.Liquid Fuel (unset)]\n",
      "[FL-T200#5, FL-T200#5.Liquid Fuel (unset)]\n",
      "..\n",
      "Empty Mass, id 973bf92e-dd1c-4caa-9741-c1d47b921664\n",
      "[FL-T200#1, FL-T200#1.Empty Mass (0.125)]\n",
      "[FL-T200#2, FL-T200#2.Empty Mass (0.125)]\n",
      "[FL-T200#3, FL-T200#3.Empty Mass (0.125)]\n",
      "[FL-T200#4, FL-T200#4.Empty Mass (0.125)]\n",
      "[FL-T200#5, FL-T200#5.Empty Mass (0.125)]\n",
      "..\n",
      "Max Temperature, id 9b4c80db-4af8-404e-9ee5-5d9dd88392d9\n",
      "Thrust, id 9ff26e47-ced8-4353-8f50-872810de898c\n",
      "[RT-5#1, RT-5#1.Thrust (162.91)]\n",
      "[RT-5#2, RT-5#2.Thrust (162.91)]\n",
      "[RT-5#3, RT-5#3.Thrust (162.91)]\n",
      "[RT-5#4, RT-5#4.Thrust (162.91)]\n",
      "[RT-5#5, RT-5#5.Thrust (162.91)]\n",
      "..\n",
      "Empty Mass, id b0f90804-9330-4e70-9535-305e76e97ed6\n",
      "[RT-5#1, RT-5#1.Empty Mass (0.45)]\n",
      "[RT-5#2, RT-5#2.Empty Mass (0.45)]\n",
      "[RT-5#3, RT-5#3.Empty Mass (0.45)]\n",
      "[RT-5#4, RT-5#4.Empty Mass (0.45)]\n",
      "[RT-5#5, RT-5#5.Empty Mass (0.45)]\n",
      "..\n",
      "Full Mass, id bbdd9af6-690d-481a-bf30-0b2098fad144\n",
      "[RT-10#1, RT-10#1.Full Mass (3.56)]\n",
      "[RT-10#2, RT-10#2.Full Mass (3.56)]\n",
      "[RT-10#3, RT-10#3.Full Mass (3.56)]\n",
      "[RT-10#4, RT-10#4.Full Mass (3.56)]\n",
      "[RT-10#5, RT-10#5.Full Mass (3.56)]\n",
      "..\n",
      "Oxidizer, id d7726e39-1f51-4b3f-b232-0f2ba2d1a059\n",
      "[FL-T200#1, FL-T200#1.Oxidizer (unset)]\n",
      "[FL-T200#2, FL-T200#2.Oxidizer (unset)]\n",
      "[FL-T200#3, FL-T200#3.Oxidizer (unset)]\n",
      "[FL-T200#4, FL-T200#4.Oxidizer (unset)]\n",
      "[FL-T200#5, FL-T200#5.Oxidizer (unset)]\n",
      "..\n",
      "Specific Impulse, id da7bf400-06fc-4685-89e6-6d4aa4b90dae\n",
      "[RT-5#1, RT-5#1.Specific Impulse (140.0)]\n",
      "[RT-5#2, RT-5#2.Specific Impulse (140.0)]\n",
      "[RT-5#3, RT-5#3.Specific Impulse (140.0)]\n",
      "[RT-5#4, RT-5#4.Specific Impulse (140.0)]\n",
      "[RT-5#5, RT-5#5.Specific Impulse (140.0)]\n",
      "..\n",
      "Full Mass, id dd7c77c9-6caa-45ba-8dff-566d79319224\n",
      "[FL-T200#1, FL-T200#1.Full Mass (unset)]\n",
      "[FL-T200#2, FL-T200#2.Full Mass (unset)]\n",
      "[FL-T200#3, FL-T200#3.Full Mass (unset)]\n",
      "[FL-T200#4, FL-T200#4.Full Mass (unset)]\n",
      "[FL-T200#5, FL-T200#5.Full Mass (unset)]\n",
      "..\n",
      "Full Mass, id df0804e4-6099-4d34-a621-dbc277c7e27f\n",
      "[LS#1, LS#1.Full Mass (unset)]\n",
      "[LS#2, LS#2.Full Mass (unset)]\n",
      "[LS#3, LS#3.Full Mass (unset)]\n",
      "[LS#4, LS#4.Full Mass (unset)]\n",
      "Empty Mass, id e0d941de-76e6-4c5a-a43f-366838245a77\n",
      "[SS#1, SS#1.Empty Mass (unset)]\n",
      "Specific Impulse, id e6efa9bb-61bf-45fc-b771-aa4e696d5511\n",
      "[RT-10#1, RT-10#1.Specific Impulse (170.0)]\n",
      "[RT-10#2, RT-10#2.Specific Impulse (170.0)]\n",
      "[RT-10#3, RT-10#3.Specific Impulse (170.0)]\n",
      "[RT-10#4, RT-10#4.Specific Impulse (170.0)]\n",
      "[RT-10#5, RT-10#5.Specific Impulse (170.0)]\n",
      "..\n",
      "Separation Force, id f5557966-704d-44bc-b86f-e08de62267ae\n",
      "Empty Mass, id f55de2fc-ef42-444a-8e4f-17674fd8386c\n",
      "[FL-T100#1, FL-T100#1.Empty Mass (0.0625)]\n",
      "[FL-T100#2, FL-T100#2.Empty Mass (0.0625)]\n",
      "[FL-T100#3, FL-T100#3.Empty Mass (0.0625)]\n",
      "[FL-T100#4, FL-T100#4.Empty Mass (0.0625)]\n",
      "[FL-T100#5, FL-T100#5.Empty Mass (0.0625)]\n",
      "..\n",
      "Full Mass, id fa2d833d-0d5a-40c7-a66b-73774866e6ec\n",
      "[FL-T200#1, FL-T200#1.Full Mass (1.125)]\n",
      "[FL-T200#2, FL-T200#2.Full Mass (1.125)]\n",
      "[FL-T200#3, FL-T200#3.Full Mass (1.125)]\n",
      "[FL-T200#4, FL-T200#4.Full Mass (1.125)]\n",
      "[FL-T200#5, FL-T200#5.Full Mass (1.125)]\n",
      "..\n",
      "Solution #2\n",
      "Full Mass, id 0db05bc5-1cac-489d-9cb2-dc6f511dd83e\n",
      "[RT-5#1, RT-5#1.Full Mass (1.5)]\n",
      "[RT-5#2, RT-5#2.Full Mass (1.5)]\n",
      "[RT-5#3, RT-5#3.Full Mass (1.5)]\n",
      "[RT-5#4, RT-5#4.Full Mass (1.5)]\n",
      "[RT-5#5, RT-5#5.Full Mass (1.5)]\n",
      "..\n",
      "Empty Mass, id 109c784f-d243-47a9-bce0-6c4f4dd59344\n",
      "[LS#1, LS#1.Empty Mass (unset)]\n",
      "[LS#2, LS#2.Empty Mass (unset)]\n",
      "[LS#3, LS#3.Empty Mass (unset)]\n",
      "Empty Mass, id 1104fbb1-5fbf-4741-aa95-a43d88f886c0\n",
      "[FL-T200#1, FL-T200#1.Empty Mass (unset)]\n",
      "[FL-T200#2, FL-T200#2.Empty Mass (unset)]\n",
      "[FL-T200#3, FL-T200#3.Empty Mass (unset)]\n",
      "[FL-T200#4, FL-T200#4.Empty Mass (unset)]\n",
      "[FL-T200#5, FL-T200#5.Empty Mass (unset)]\n",
      "..\n",
      "Full Mass, id 1498d182-785e-4895-aa10-79dbe2e1a285\n",
      "[RT-5#1, RT-5#1.Full Mass (unset)]\n",
      "[RT-5#2, RT-5#2.Full Mass (unset)]\n",
      "[RT-5#3, RT-5#3.Full Mass (unset)]\n",
      "[RT-5#4, RT-5#4.Full Mass (unset)]\n",
      "[RT-5#5, RT-5#5.Full Mass (unset)]\n",
      "..\n",
      "Thrust, id 1bc9edf2-6915-438f-9c01-cebfd4c690e8\n",
      "[RT-10#1, RT-10#1.Thrust (197.9)]\n",
      "[RT-10#2, RT-10#2.Thrust (197.9)]\n",
      "[RT-10#3, RT-10#3.Thrust (197.9)]\n",
      "[RT-10#4, RT-10#4.Thrust (197.9)]\n",
      "[RT-10#5, RT-10#5.Thrust (197.9)]\n",
      "..\n",
      "Full Mass, id 22d6d751-11c2-4a31-bc0f-c80d1f3dc495\n",
      "[SS#1, SS#1.Full Mass (unset)]\n",
      "[SS#2, SS#2.Full Mass (unset)]\n",
      "Torque, id 26301253-435e-4505-b880-916e58c9b5b3\n",
      "Thrust, id 2c2999d4-12ef-4fd7-84b8-bb3e1ab6acc7\n",
      "[RT-5#1, RT-5#1.Thrust (unset)]\n",
      "[RT-5#2, RT-5#2.Thrust (unset)]\n",
      "[RT-5#3, RT-5#3.Thrust (unset)]\n",
      "[RT-5#4, RT-5#4.Thrust (unset)]\n",
      "[RT-5#5, RT-5#5.Thrust (unset)]\n",
      "..\n",
      "Specific Impulse, id 2e2d7098-504e-465d-8970-d6b13aa17b7a\n",
      "[RT-5#1, RT-5#1.Specific Impulse (unset)]\n",
      "[RT-5#2, RT-5#2.Specific Impulse (unset)]\n",
      "[RT-5#3, RT-5#3.Specific Impulse (unset)]\n",
      "[RT-5#4, RT-5#4.Specific Impulse (unset)]\n",
      "[RT-5#5, RT-5#5.Specific Impulse (unset)]\n",
      "..\n",
      "Burnout Mass, id 37babe4d-2f6f-4912-a7c7-448c85e65218\n",
      "Empty Mass, id 54df5f23-6bd8-4589-b0ad-7c537a04d15f\n",
      "[RT-10#1, RT-10#1.Empty Mass (0.75)]\n",
      "[RT-10#2, RT-10#2.Empty Mass (0.75)]\n",
      "[RT-10#3, RT-10#3.Empty Mass (0.75)]\n",
      "[RT-10#4, RT-10#4.Empty Mass (0.75)]\n",
      "[RT-10#5, RT-10#5.Empty Mass (0.75)]\n",
      "..\n",
      "Specific Impulse, id 67ea9881-400b-4ca8-aa6b-7cb6541673c0\n",
      "[LV-T45#1, LV-T45#1.Specific Impulse (170.0)]\n",
      "[LV-T45#2, LV-T45#2.Specific Impulse (170.0)]\n",
      "[LV-T45#3, LV-T45#3.Specific Impulse (170.0)]\n",
      "[LV-T45#4, LV-T45#4.Specific Impulse (170.0)]\n",
      "[LV-T45#5, LV-T45#5.Specific Impulse (170.0)]\n",
      "..\n",
      "Mass, id 694172ef-3885-436e-906c-54e1d1d7f811\n",
      "Loaded Mass, id 6965f9ce-0198-48e9-bcd5-2da61711cec5\n",
      "Payload Mass, id 696799cd-75d2-4642-91b5-c2aebf4dc2a5\n",
      "Specific Impulse, id 71515c37-fa24-4c3f-94c8-d7ff1f396087\n",
      "[LV-T45#1, LV-T45#1.Specific Impulse (unset)]\n",
      "[LV-T45#2, LV-T45#2.Specific Impulse (unset)]\n",
      "[LV-T45#3, LV-T45#3.Specific Impulse (unset)]\n",
      "[LV-T45#4, LV-T45#4.Specific Impulse (unset)]\n",
      "[LV-T45#5, LV-T45#5.Specific Impulse (unset)]\n",
      "..\n",
      "Empty Mass, id 728fa8ae-398a-4d55-8695-357b2820d529\n",
      "[RT-5#1, RT-5#1.Empty Mass (unset)]\n",
      "[RT-5#2, RT-5#2.Empty Mass (unset)]\n",
      "[RT-5#3, RT-5#3.Empty Mass (unset)]\n",
      "[RT-5#4, RT-5#4.Empty Mass (unset)]\n",
      "[RT-5#5, RT-5#5.Empty Mass (unset)]\n",
      "..\n",
      "Thrust, id 7bccac48-734e-47f1-bb5e-37755d435a56\n",
      "[LV-T45#1, LV-T45#1.Thrust (167.97)]\n",
      "[LV-T45#2, LV-T45#2.Thrust (167.97)]\n",
      "[LV-T45#3, LV-T45#3.Thrust (167.97)]\n",
      "[LV-T45#4, LV-T45#4.Thrust (167.97)]\n",
      "[LV-T45#5, LV-T45#5.Thrust (167.97)]\n",
      "..\n",
      "Thrust, id 8b5b2a8b-762a-48e2-82a9-f7642f0661e9\n",
      "[LV-T45#1, LV-T45#1.Thrust (unset)]\n",
      "[LV-T45#2, LV-T45#2.Thrust (unset)]\n",
      "[LV-T45#3, LV-T45#3.Thrust (unset)]\n",
      "[LV-T45#4, LV-T45#4.Thrust (unset)]\n",
      "[LV-T45#5, LV-T45#5.Thrust (unset)]\n",
      "..\n",
      "Full Mass, id 8cd42dd0-908d-4249-8a78-e52bbaba8efa\n",
      "[FL-T100#1, FL-T100#1.Full Mass (0.5625)]\n",
      "[FL-T100#2, FL-T100#2.Full Mass (0.5625)]\n",
      "[FL-T100#3, FL-T100#3.Full Mass (0.5625)]\n",
      "[FL-T100#4, FL-T100#4.Full Mass (0.5625)]\n",
      "[FL-T100#5, FL-T100#5.Full Mass (0.5625)]\n",
      "..\n",
      "Liquid Fuel, id 8fb41452-b350-46ce-82f2-bfddf0403e7a\n",
      "[FL-T200#1, FL-T200#1.Liquid Fuel (unset)]\n",
      "[FL-T200#2, FL-T200#2.Liquid Fuel (unset)]\n",
      "[FL-T200#3, FL-T200#3.Liquid Fuel (unset)]\n",
      "[FL-T200#4, FL-T200#4.Liquid Fuel (unset)]\n",
      "[FL-T200#5, FL-T200#5.Liquid Fuel (unset)]\n",
      "..\n",
      "Empty Mass, id 973bf92e-dd1c-4caa-9741-c1d47b921664\n",
      "[FL-T200#1, FL-T200#1.Empty Mass (0.125)]\n",
      "[FL-T200#2, FL-T200#2.Empty Mass (0.125)]\n",
      "[FL-T200#3, FL-T200#3.Empty Mass (0.125)]\n",
      "[FL-T200#4, FL-T200#4.Empty Mass (0.125)]\n",
      "[FL-T200#5, FL-T200#5.Empty Mass (0.125)]\n",
      "..\n",
      "Max Temperature, id 9b4c80db-4af8-404e-9ee5-5d9dd88392d9\n",
      "Thrust, id 9ff26e47-ced8-4353-8f50-872810de898c\n",
      "[RT-5#1, RT-5#1.Thrust (162.91)]\n",
      "[RT-5#2, RT-5#2.Thrust (162.91)]\n",
      "[RT-5#3, RT-5#3.Thrust (162.91)]\n",
      "[RT-5#4, RT-5#4.Thrust (162.91)]\n",
      "[RT-5#5, RT-5#5.Thrust (162.91)]\n",
      "..\n",
      "Empty Mass, id b0f90804-9330-4e70-9535-305e76e97ed6\n",
      "[RT-5#1, RT-5#1.Empty Mass (0.45)]\n",
      "[RT-5#2, RT-5#2.Empty Mass (0.45)]\n",
      "[RT-5#3, RT-5#3.Empty Mass (0.45)]\n",
      "[RT-5#4, RT-5#4.Empty Mass (0.45)]\n",
      "[RT-5#5, RT-5#5.Empty Mass (0.45)]\n",
      "..\n",
      "Full Mass, id bbdd9af6-690d-481a-bf30-0b2098fad144\n",
      "[RT-10#1, RT-10#1.Full Mass (3.56)]\n",
      "[RT-10#2, RT-10#2.Full Mass (3.56)]\n",
      "[RT-10#3, RT-10#3.Full Mass (3.56)]\n",
      "[RT-10#4, RT-10#4.Full Mass (3.56)]\n",
      "[RT-10#5, RT-10#5.Full Mass (3.56)]\n",
      "..\n",
      "Oxidizer, id d7726e39-1f51-4b3f-b232-0f2ba2d1a059\n",
      "[FL-T200#1, FL-T200#1.Oxidizer (unset)]\n",
      "[FL-T200#2, FL-T200#2.Oxidizer (unset)]\n",
      "[FL-T200#3, FL-T200#3.Oxidizer (unset)]\n",
      "[FL-T200#4, FL-T200#4.Oxidizer (unset)]\n",
      "[FL-T200#5, FL-T200#5.Oxidizer (unset)]\n",
      "..\n",
      "Specific Impulse, id da7bf400-06fc-4685-89e6-6d4aa4b90dae\n",
      "[RT-5#1, RT-5#1.Specific Impulse (140.0)]\n",
      "[RT-5#2, RT-5#2.Specific Impulse (140.0)]\n",
      "[RT-5#3, RT-5#3.Specific Impulse (140.0)]\n",
      "[RT-5#4, RT-5#4.Specific Impulse (140.0)]\n",
      "[RT-5#5, RT-5#5.Specific Impulse (140.0)]\n",
      "..\n",
      "Full Mass, id dd7c77c9-6caa-45ba-8dff-566d79319224\n",
      "[FL-T200#1, FL-T200#1.Full Mass (unset)]\n",
      "[FL-T200#2, FL-T200#2.Full Mass (unset)]\n",
      "[FL-T200#3, FL-T200#3.Full Mass (unset)]\n",
      "[FL-T200#4, FL-T200#4.Full Mass (unset)]\n",
      "[FL-T200#5, FL-T200#5.Full Mass (unset)]\n",
      "..\n",
      "Full Mass, id df0804e4-6099-4d34-a621-dbc277c7e27f\n",
      "[LS#1, LS#1.Full Mass (unset)]\n",
      "[LS#2, LS#2.Full Mass (unset)]\n",
      "[LS#3, LS#3.Full Mass (unset)]\n",
      "Empty Mass, id e0d941de-76e6-4c5a-a43f-366838245a77\n",
      "[SS#1, SS#1.Empty Mass (unset)]\n",
      "[SS#2, SS#2.Empty Mass (unset)]\n",
      "Specific Impulse, id e6efa9bb-61bf-45fc-b771-aa4e696d5511\n",
      "[RT-10#1, RT-10#1.Specific Impulse (170.0)]\n",
      "[RT-10#2, RT-10#2.Specific Impulse (170.0)]\n",
      "[RT-10#3, RT-10#3.Specific Impulse (170.0)]\n",
      "[RT-10#4, RT-10#4.Specific Impulse (170.0)]\n",
      "[RT-10#5, RT-10#5.Specific Impulse (170.0)]\n",
      "..\n",
      "Separation Force, id f5557966-704d-44bc-b86f-e08de62267ae\n",
      "Empty Mass, id f55de2fc-ef42-444a-8e4f-17674fd8386c\n",
      "[FL-T100#1, FL-T100#1.Empty Mass (0.0625)]\n",
      "[FL-T100#2, FL-T100#2.Empty Mass (0.0625)]\n",
      "[FL-T100#3, FL-T100#3.Empty Mass (0.0625)]\n",
      "[FL-T100#4, FL-T100#4.Empty Mass (0.0625)]\n",
      "[FL-T100#5, FL-T100#5.Empty Mass (0.0625)]\n",
      "..\n",
      "Full Mass, id fa2d833d-0d5a-40c7-a66b-73774866e6ec\n",
      "[FL-T200#1, FL-T200#1.Full Mass (1.125)]\n",
      "[FL-T200#2, FL-T200#2.Full Mass (1.125)]\n",
      "[FL-T200#3, FL-T200#3.Full Mass (1.125)]\n",
      "[FL-T200#4, FL-T200#4.Full Mass (1.125)]\n",
      "[FL-T200#5, FL-T200#5.Full Mass (1.125)]\n",
      "..\n"
     ]
    }
   ],
   "source": [
    "for indx, att_value_dict in enumerate(att_value_dicts):\n",
    "    if indx < 3:\n",
    "        print(\"Solution #\" + str(indx))\n",
    "        for key in att_value_dict:\n",
    "            print(get_name_by_id(key) + ', id ' + key)\n",
    "            for indx, seq in enumerate(att_value_dict[key]):\n",
    "                if indx < 5:\n",
    "                    seq_string = []\n",
    "                    for member in seq:\n",
    "                        if isinstance(member, str) and member in id_memo_dict:\n",
    "                            obj = id_memo_dict[member]\n",
    "                            # TODO: Create unique value objects for formula mapping\n",
    "                            if obj['@type'] == 'LiteralReal':\n",
    "                                seq_string.append(str(obj['value']) + ', id ' + member)\n",
    "                        else:\n",
    "                            seq_string.append(member)\n",
    "                    print(seq_string)\n",
    "                elif indx == 5:\n",
    "                    print('..')"
   ]
  },
  {
   "cell_type": "markdown",
   "id": "celtic-account",
   "metadata": {},
   "source": [
    "## Gather Expressions and Invocations and Build Expression Graph"
   ]
  },
  {
   "cell_type": "code",
   "execution_count": 98,
   "id": "personalized-madison",
   "metadata": {},
   "outputs": [],
   "source": [
    "expression_graph = NX.DiGraph()\n",
    "expression_graph_labels = {}\n",
    "expression_graph_ascii = ''\n",
    "\n",
    "invocations = []\n"
   ]
  },
  {
   "cell_type": "markdown",
   "id": "requested-great",
   "metadata": {},
   "source": [
    "Memoize InvocationExpressions, BlockExpressions, FeatureReferenceExpressions, and ReferenceUsages"
   ]
  },
  {
   "cell_type": "code",
   "execution_count": 99,
   "id": "flush-pearl",
   "metadata": {},
   "outputs": [],
   "source": [
    "invocations = [invocation for invocation in non_relations if invocation['@type'] == 'InvocationExpression']\n",
    "functions = [function for function in non_relations if function['@type'] == 'Function']\n",
    "op_exprs = [function for function in non_relations if function['@type'] == 'OperatorExpression']\n",
    "block_exprs = [block_expr for block_expr in non_relations if block_expr['@type'] == 'BlockExpression']\n",
    "feature_refs = [feature_ref for feature_ref in non_relations if feature_ref['@type'] == 'FeatureReferenceExpression']\n",
    "reference_uses = [ref_use for ref_use in non_relations if ref_use['@type'] == 'ReferenceUsage']\n",
    "\n",
    "para_members = [para_member for para_member in relations if para_member['@type'] == 'ParameterMembership']\n",
    "res_expr_members = [res_expr_member for res_expr_member in relations if res_expr_member['@type'] == 'ResultExpressionMembership']\n",
    "ret_para_members = [ret_para_member for ret_para_member in relations if ret_para_member['@type'] == 'ReturnParameterMembership']\n",
    "\n",
    "for invocation in invocations:\n",
    "    id_memo_dict.update({invocation['@id']: invocation})\n",
    "    \n",
    "for function in functions:\n",
    "    id_memo_dict.update({function['@id']: function})\n",
    "    \n",
    "for op_expr in op_exprs:\n",
    "    id_memo_dict.update({op_expr['@id']: op_expr})\n",
    "    \n",
    "for block_expr in block_exprs:\n",
    "    id_memo_dict.update({block_expr['@id']: block_expr})\n",
    "    \n",
    "for feature_ref in feature_refs:\n",
    "    id_memo_dict.update({feature_ref['@id']: feature_ref})\n",
    "    \n",
    "for reference_use in reference_uses:\n",
    "    id_memo_dict.update({reference_use['@id']: reference_use})"
   ]
  },
  {
   "cell_type": "code",
   "execution_count": 100,
   "id": "conceptual-anderson",
   "metadata": {},
   "outputs": [],
   "source": [
    "ofms = []\n",
    "ofms.extend(para_members)\n",
    "ofms.extend(res_expr_members)\n",
    "ofms.extend(ret_para_members)"
   ]
  },
  {
   "cell_type": "markdown",
   "id": "liberal-anderson",
   "metadata": {},
   "source": [
    "Get feature memberships from the expressions to their members."
   ]
  },
  {
   "cell_type": "code",
   "execution_count": 101,
   "id": "intermediate-sampling",
   "metadata": {},
   "outputs": [],
   "source": [
    "for fm in feature_members:\n",
    "    if fm['owningType']['@id'] in id_memo_dict:\n",
    "        if id_memo_dict[fm['owningType']['@id']]['@type'] == 'InvocationExpression':\n",
    "            expression_graph.add_edge(fm['owningType']['@id'], fm['memberFeature']['@id'])\n",
    "        if id_memo_dict[fm['owningType']['@id']]['@type'] == 'Function':\n",
    "            expression_graph.add_edge(fm['owningType']['@id'], fm['memberFeature']['@id'])\n",
    "            expression_graph_labels.update({fm['owningType']['@id']: id_memo_dict[fm['owningType']['@id']]['name']})\n",
    "        if id_memo_dict[fm['owningType']['@id']]['@type'] == 'OperatorExpression':\n",
    "            expression_graph.add_edge(fm['owningType']['@id'], fm['memberFeature']['@id'])\n",
    "            expression_graph_labels.update({fm['owningType']['@id']: id_memo_dict[fm['owningType']['@id']]['operator']})\n",
    "            if fm['memberFeature']['@id'] in id_memo_dict:\n",
    "                if id_memo_dict[fm['memberFeature']['@id']]['@type'] == 'FeatureReferenceExpression':\n",
    "                    expression_graph_labels.update({fm['memberFeature']['@id']: \n",
    "                                                   id_memo_dict[id_memo_dict[fm['memberFeature']['@id']]['referent']['@id']]['name'] + ' (FeatRef)'})\n",
    "\n",
    "for ofm in ofms:\n",
    "    if ofm['owningType']['@id'] in id_memo_dict:\n",
    "        if id_memo_dict[ofm['owningType']['@id']]['@type'] == 'BlockExpression':\n",
    "            expression_graph.add_edge(ofm['owningType']['@id'], ofm['memberFeature']['@id'])\n",
    "            if ofm['memberFeature']['@id'] in id_memo_dict:\n",
    "                if id_memo_dict[ofm['memberFeature']['@id']]['@type'] == 'FeatureReferenceExpression':\n",
    "                    expression_graph_labels.update({ofm['memberFeature']['@id']: \n",
    "                                                   id_memo_dict[id_memo_dict[ofm['memberFeature']['@id']]['referent']['@id']]['name'] + ' (FeatRef)'})\n",
    "            if get_name_by_id(ofm['memberFeature']['@id']) is not None:\n",
    "                if get_metatype_by_id(ofm['memberFeature']['@id']) == 'ReferenceUsage':\n",
    "                    ref_type_name = id_memo_dict[id_memo_dict[ofm['memberFeature']['@id']]['type'][0]['@id']]['name']\n",
    "                    expression_graph_labels.update({ofm['memberFeature']['@id']: \n",
    "                                                    get_name_by_id(ofm['memberFeature']['@id']) + ':' + ref_type_name})\n",
    "                else:\n",
    "                    expression_graph_labels.update({ofm['memberFeature']['@id']: get_name_by_id(ofm['memberFeature']['@id'])})\n",
    "                    \n",
    "for ft in feature_types:\n",
    "    if ft['typedFeature']['@id'] in id_memo_dict:\n",
    "        if id_memo_dict[ft['type']['@id']]['@type'] == 'Function':\n",
    "            expression_graph.add_edge(ft['typedFeature']['@id'], ft['type']['@id'])\n",
    "            expression_graph_labels.update({ft['type']['@id']: id_memo_dict[ft['type']['@id']]['name']})"
   ]
  },
  {
   "cell_type": "markdown",
   "id": "found-canada",
   "metadata": {},
   "source": [
    "Gather the body and parameters of the invocation."
   ]
  },
  {
   "cell_type": "code",
   "execution_count": 102,
   "id": "solid-command",
   "metadata": {},
   "outputs": [
    {
     "data": {
      "image/png": "[encoded data removed]",
      "text/plain": [
       "<Figure size 432x288 with 1 Axes>"
      ]
     },
     "metadata": {},
     "output_type": "display_data"
    }
   ],
   "source": [
    "NX.draw_spring(expression_graph, labels=expression_graph_labels)"
   ]
  },
  {
   "cell_type": "markdown",
   "id": "nuclear-applicant",
   "metadata": {},
   "source": [
    "## Perform Staging Mass Analysis\n",
    "\n",
    "- [ ] TODO: Strengthen this with analyses that actually do the calculation\n",
    "- [ ] TODO: Accommodate associations between tanks and engines to make delta-V and Isp calculations work properly"
   ]
  },
  {
   "cell_type": "markdown",
   "id": "sorted-depression",
   "metadata": {},
   "source": [
    "This is very specific to a given calculation - need to have a kernel for expanding the calculations just as with inspecting type hierarchy and multiplicity"
   ]
  },
  {
   "cell_type": "code",
   "execution_count": 103,
   "id": "solar-germany",
   "metadata": {},
   "outputs": [
    {
     "ename": "KeyError",
     "evalue": "'31a4436f-07fd-48c6-b503-9d186d925c3c'",
     "output_type": "error",
     "traceback": [
      "\u001b[1;31m---------------------------------------------------------------------------\u001b[0m",
      "\u001b[1;31mKeyError\u001b[0m                                  Traceback (most recent call last)",
      "\u001b[1;32m<ipython-input-103-e59965f9cb36>\u001b[0m in \u001b[0;36m<module>\u001b[1;34m\u001b[0m\n\u001b[0;32m      1\u001b[0m \u001b[1;32mfor\u001b[0m \u001b[0mindx\u001b[0m\u001b[1;33m,\u001b[0m \u001b[0mfeature_sequence_dictionary\u001b[0m \u001b[1;32min\u001b[0m \u001b[0menumerate\u001b[0m\u001b[1;33m(\u001b[0m\u001b[0mfeature_sequence_dictionaries\u001b[0m\u001b[1;33m)\u001b[0m\u001b[1;33m:\u001b[0m\u001b[1;33m\u001b[0m\u001b[1;33m\u001b[0m\u001b[0m\n\u001b[1;32m----> 2\u001b[1;33m     \u001b[0mno_stages\u001b[0m \u001b[1;33m=\u001b[0m \u001b[0mlen\u001b[0m\u001b[1;33m(\u001b[0m\u001b[0mfeature_sequence_dictionary\u001b[0m\u001b[1;33m[\u001b[0m\u001b[1;34m'31a4436f-07fd-48c6-b503-9d186d925c3c'\u001b[0m\u001b[1;33m]\u001b[0m\u001b[1;33m)\u001b[0m\u001b[1;33m\u001b[0m\u001b[1;33m\u001b[0m\u001b[0m\n\u001b[0m\u001b[0;32m      3\u001b[0m     \u001b[0mprint\u001b[0m\u001b[1;33m(\u001b[0m\u001b[0mstr\u001b[0m\u001b[1;33m(\u001b[0m\u001b[0mno_stages\u001b[0m\u001b[1;33m)\u001b[0m\u001b[1;33m)\u001b[0m\u001b[1;33m\u001b[0m\u001b[1;33m\u001b[0m\u001b[0m\n\u001b[0;32m      4\u001b[0m     \u001b[1;32mfor\u001b[0m \u001b[0mstag\u001b[0m \u001b[1;32min\u001b[0m \u001b[0mrange\u001b[0m\u001b[1;33m(\u001b[0m\u001b[1;36m1\u001b[0m\u001b[1;33m,\u001b[0m \u001b[0mno_stages\u001b[0m \u001b[1;33m+\u001b[0m \u001b[1;36m1\u001b[0m\u001b[1;33m)\u001b[0m\u001b[1;33m:\u001b[0m\u001b[1;33m\u001b[0m\u001b[1;33m\u001b[0m\u001b[0m\n\u001b[0;32m      5\u001b[0m         \u001b[0mstage_empty_mass\u001b[0m \u001b[1;33m=\u001b[0m \u001b[1;36m0\u001b[0m\u001b[1;33m\u001b[0m\u001b[1;33m\u001b[0m\u001b[0m\n",
      "\u001b[1;31mKeyError\u001b[0m: '31a4436f-07fd-48c6-b503-9d186d925c3c'"
     ]
    }
   ],
   "source": [
    "for indx, feature_sequence_dictionary in enumerate(feature_sequence_dictionaries):\n",
    "    no_stages = len(feature_sequence_dictionary['31a4436f-07fd-48c6-b503-9d186d925c3c'])\n",
    "    print(str(no_stages))\n",
    "    for stag in range(1, no_stages + 1):\n",
    "        stage_empty_mass = 0\n",
    "        stage_full_mass = 0\n",
    "        stage_specific_impulse = 0\n",
    "        # add up the starter mass for the stage and the burnout mass\n",
    "        stage_instance = feature_sequence_dictionary['31a4436f-07fd-48c6-b503-9d186d925c3c'][stag - 1][-1]\n",
    "        print(str(stage_instance) + \": \" + str(classifier_memo_dicts[indx][stage_instance.name]))\n",
    "        if '54c2e565-ede4-4c12-a44c-2277566a2861' in feature_sequence_dictionary:\n",
    "            booster_instances = \\\n",
    "                [booster[-1] for booster in feature_sequence_dictionary['54c2e565-ede4-4c12-a44c-2277566a2861']\n",
    "                     if str(booster[0]) == str(stage_instance)]\n",
    "            print('Booster instance length = ' + str(len(booster_instances)))\n",
    "            for booster in booster_instances:\n",
    "                for clz in classifier_memo_dicts[indx][booster.name]:\n",
    "                    if clz in partitioned_multiplicity_dicts[indx]:\n",
    "                        pass\n",
    "                    else:\n",
    "                        empty_mass = type_values['Empty Mass'][clz]\n",
    "                        full_mass = type_values['Full Mass'][clz]\n",
    "                        specific_impulse = type_values['Specific Impulse'][clz]\n",
    "\n",
    "                        stage_empty_mass = stage_empty_mass + empty_mass\n",
    "                        stage_full_mass = stage_full_mass + full_mass\n",
    "                        stage_specific_impulse = stage_specific_impulse + specific_impulse\n",
    "            if len(booster_instances) > 0:\n",
    "                stage_specific_impulse = stage_specific_impulse / len(booster_instances)\n",
    "        \n",
    "        if stage_empty_mass > 0.0:\n",
    "            booster_delta_V = 9.81 * stage_specific_impulse * math.log(stage_full_mass / stage_empty_mass)\n",
    "        \n",
    "        if indx < 3:\n",
    "            print ('Stage booster full mass is ' + str(stage_full_mass))\n",
    "            print ('Stage booster empty mass is ' + str(stage_empty_mass))\n",
    "            print ('Stage booster specific impulse is ' + str(stage_specific_impulse))\n",
    "            print ('Stage booster delta-V is ' + str(booster_delta_V))"
   ]
  },
  {
   "cell_type": "code",
   "execution_count": null,
   "id": "secondary-chinese",
   "metadata": {},
   "outputs": [],
   "source": []
  }
 ],
 "metadata": {
  "kernelspec": {
   "display_name": "Python 3",
   "language": "python",
   "name": "python3"
  },
  "language_info": {
   "codemirror_mode": {
    "name": "ipython",
    "version": 3
   },
   "file_extension": ".py",
   "mimetype": "text/x-python",
   "name": "python",
   "nbconvert_exporter": "python",
   "pygments_lexer": "ipython3",
   "version": "3.9.1"
  },
  "toc-autonumbering": false
 },
 "nbformat": 4,
 "nbformat_minor": 5
}
