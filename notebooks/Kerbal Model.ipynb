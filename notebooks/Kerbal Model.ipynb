{
 "cells": [
  {
   "cell_type": "markdown",
   "id": "pretty-heather",
   "metadata": {},
   "source": [
    "# Part Combination Space Exploration\n",
    "\n",
    "This is a notebook developed to leverage the new SysML v2 semantics for nested features and instantiation of models to generate instances of M1 system models as feedstock for analysis pipelines."
   ]
  },
  {
   "cell_type": "code",
   "execution_count": 1,
   "id": "animated-column",
   "metadata": {},
   "outputs": [],
   "source": [
    "import requests\n",
    "import getpass\n",
    "import math\n",
    "\n",
    "from __future__ import print_function\n",
    "\n",
    "import time\n",
    "import sysml_v2_api_client\n",
    "from sysml_v2_api_client.rest import ApiException\n",
    "from pprint import pprint\n",
    "\n",
    "import json\n",
    "import networkx as NX\n",
    "\n",
    "import random\n",
    "import copy"
   ]
  },
  {
   "cell_type": "markdown",
   "id": "noted-operation",
   "metadata": {},
   "source": [
    "# Configure API Server Connection"
   ]
  },
  {
   "cell_type": "code",
   "execution_count": 2,
   "id": "atomic-width",
   "metadata": {},
   "outputs": [],
   "source": [
    "sysml_api_base_url = 'http://sysml2-sst.intercax.com:9000'"
   ]
  },
  {
   "cell_type": "markdown",
   "id": "dying-procedure",
   "metadata": {},
   "source": [
    "## Activate APIs\n",
    "\n",
    "Connect the API classes to the server"
   ]
  },
  {
   "cell_type": "code",
   "execution_count": 3,
   "id": "alert-private",
   "metadata": {},
   "outputs": [],
   "source": [
    "configuration = sysml_v2_api_client.Configuration(\n",
    "    host = sysml_api_base_url\n",
    ")\n",
    "\n",
    "projects_api_instance = None\n",
    "\n",
    "with sysml_v2_api_client.ApiClient(configuration) as api_client:\n",
    "    # Create an instance of the API class\n",
    "    project_api_instance = sysml_v2_api_client.ProjectApi(api_client)\n",
    "    \n",
    "commits_api_instance = None\n",
    "\n",
    "with sysml_v2_api_client.ApiClient(configuration) as api_client:\n",
    "    # Create an instance of the API class\n",
    "    commits_api_instance = sysml_v2_api_client.CommitApi(api_client)\n",
    "    \n",
    "elements_api_instance = None\n",
    "\n",
    "with sysml_v2_api_client.ApiClient(configuration) as api_client:\n",
    "    # Create an instance of the API class\n",
    "    elements_api_instance = sysml_v2_api_client.ElementApi(api_client)"
   ]
  },
  {
   "cell_type": "markdown",
   "id": "eligible-chassis",
   "metadata": {},
   "source": [
    "## Pull down commits and elements catalogs\n",
    "\n",
    "With the API handles, use the pre-built methods to get lists of commits and elements."
   ]
  },
  {
   "cell_type": "code",
   "execution_count": 4,
   "id": "explicit-correspondence",
   "metadata": {},
   "outputs": [
    {
     "data": {
      "text/plain": [
       "<sysml_v2_api_client.api.project_api.ProjectApi at 0x188c891dfa0>"
      ]
     },
     "execution_count": 4,
     "metadata": {},
     "output_type": "execute_result"
    }
   ],
   "source": [
    "project_api_instance"
   ]
  },
  {
   "cell_type": "code",
   "execution_count": 5,
   "id": "brutal-cancer",
   "metadata": {},
   "outputs": [
    {
     "data": {
      "text/plain": [
       "{'id': 'd2922960-028d-4534-a8ee-476aa26d1d25',\n",
       " 'name': 'Kerbal Sat Mar 06 15:49:41 UTC 2021',\n",
       " 'type': 'Project'}"
      ]
     },
     "execution_count": 5,
     "metadata": {},
     "output_type": "execute_result"
    }
   ],
   "source": [
    "kerbal_proj = [my_proj for my_proj in project_api_instance.get_projects() if my_proj.name.find('Kerbal') > -1][14]\n",
    "kerbal_proj"
   ]
  },
  {
   "cell_type": "code",
   "execution_count": 6,
   "id": "welcome-blond",
   "metadata": {},
   "outputs": [
    {
     "name": "stdout",
     "output_type": "stream",
     "text": [
      "[{'change': None,\n",
      " 'containing_project': {'id': 'd2922960-028d-4534-a8ee-476aa26d1d25'},\n",
      " 'id': '61cb843b-b6ad-4868-9fb8-29094e59827e',\n",
      " 'previous_commit': None,\n",
      " 'type': 'Commit'}]\n"
     ]
    }
   ],
   "source": [
    "try:\n",
    "    # Get commits by project\n",
    "    commits_response = commits_api_instance.get_commits_by_project(kerbal_proj.id)\n",
    "    pprint(commits_response)\n",
    "except ApiException as e:\n",
    "    print(\"Exception when calling CommitApi->get_commits_by_project: %s\\n\" % e)"
   ]
  },
  {
   "cell_type": "code",
   "execution_count": 7,
   "id": "united-covering",
   "metadata": {},
   "outputs": [],
   "source": [
    "elements = []\n",
    "\n",
    "try:\n",
    "    # Get commits by project\n",
    "    elements = elements_api_instance.get_elements_by_project_commit(kerbal_proj.id, commits_response[0].id)\n",
    "except ApiException as e:\n",
    "    print(\"Exception when calling ElementApi->get_elements_by_project_commit: %s\\n\" % e)"
   ]
  },
  {
   "cell_type": "code",
   "execution_count": 8,
   "id": "single-memory",
   "metadata": {},
   "outputs": [
    {
     "data": {
      "text/plain": [
       "100"
      ]
     },
     "execution_count": 8,
     "metadata": {},
     "output_type": "execute_result"
    }
   ],
   "source": [
    "len(elements)"
   ]
  },
  {
   "cell_type": "code",
   "execution_count": 9,
   "id": "contrary-questionnaire",
   "metadata": {},
   "outputs": [
    {
     "name": "stdout",
     "output_type": "stream",
     "text": [
      "{'id': '001b3767-ac0e-4191-a830-6a93c5bd3a08',\n",
      " 'identifier': '001b3767-ac0e-4191-a830-6a93c5bd3a08',\n",
      " 'type': 'Feature'}\n"
     ]
    }
   ],
   "source": [
    "pprint(elements[0])"
   ]
  },
  {
   "cell_type": "markdown",
   "id": "artistic-albania",
   "metadata": {},
   "source": [
    "# Gather Element Data\n",
    "\n",
    "Since the generated API doesn't have much detail for elements, need to do this more hands-on.\n",
    "\n",
    "Not elegant below to just have a larger page size, should implement paging later on."
   ]
  },
  {
   "cell_type": "code",
   "execution_count": 10,
   "id": "democratic-abraham",
   "metadata": {},
   "outputs": [],
   "source": [
    "elements_url = (sysml_api_base_url +\n",
    "                '/projects/{0}/commits/{1}/elements?page[size]=2000').format(kerbal_proj.id, commits_response[0].id)"
   ]
  },
  {
   "cell_type": "code",
   "execution_count": 11,
   "id": "mobile-collective",
   "metadata": {},
   "outputs": [
    {
     "data": {
      "text/plain": [
       "'http://sysml2-sst.intercax.com:9000/projects/d2922960-028d-4534-a8ee-476aa26d1d25/commits/61cb843b-b6ad-4868-9fb8-29094e59827e/elements?page[size]=2000'"
      ]
     },
     "execution_count": 11,
     "metadata": {},
     "output_type": "execute_result"
    }
   ],
   "source": [
    "elements_url"
   ]
  },
  {
   "cell_type": "code",
   "execution_count": 12,
   "id": "russian-romania",
   "metadata": {},
   "outputs": [],
   "source": [
    "elements_response = requests.get(\n",
    "    elements_url\n",
    ")"
   ]
  },
  {
   "cell_type": "code",
   "execution_count": 13,
   "id": "hindu-database",
   "metadata": {},
   "outputs": [],
   "source": [
    "elements_data = elements_response.json()"
   ]
  },
  {
   "cell_type": "markdown",
   "id": "painful-lawsuit",
   "metadata": {},
   "source": [
    "Split the elements into relationships and non-relationships. This will let us work with graph representations and a graph understanding of the underlying model."
   ]
  },
  {
   "cell_type": "code",
   "execution_count": 14,
   "id": "persistent-outside",
   "metadata": {},
   "outputs": [
    {
     "data": {
      "text/plain": [
       "499"
      ]
     },
     "execution_count": 14,
     "metadata": {},
     "output_type": "execute_result"
    }
   ],
   "source": [
    "len(elements_data)"
   ]
  },
  {
   "cell_type": "code",
   "execution_count": 15,
   "id": "wired-designer",
   "metadata": {},
   "outputs": [],
   "source": [
    "non_relations = [non_relation for non_relation in elements_data if not 'relatedElement' in non_relation]"
   ]
  },
  {
   "cell_type": "code",
   "execution_count": 16,
   "id": "criminal-consultancy",
   "metadata": {},
   "outputs": [],
   "source": [
    "relations = [relation for relation in elements_data if 'relatedElement' in relation]"
   ]
  },
  {
   "cell_type": "code",
   "execution_count": 17,
   "id": "given-permit",
   "metadata": {},
   "outputs": [
    {
     "data": {
      "text/plain": [
       "209"
      ]
     },
     "execution_count": 17,
     "metadata": {},
     "output_type": "execute_result"
    }
   ],
   "source": [
    "len(non_relations)"
   ]
  },
  {
   "cell_type": "code",
   "execution_count": 18,
   "id": "single-norwegian",
   "metadata": {},
   "outputs": [
    {
     "data": {
      "text/plain": [
       "290"
      ]
     },
     "execution_count": 18,
     "metadata": {},
     "output_type": "execute_result"
    }
   ],
   "source": [
    "len(relations)"
   ]
  },
  {
   "cell_type": "code",
   "execution_count": 19,
   "id": "persistent-information",
   "metadata": {},
   "outputs": [
    {
     "data": {
      "text/plain": [
       "['$result : Feature',\n",
       " 'None : LiteralInteger',\n",
       " '$result : Feature',\n",
       " 'None : ReferenceUsage',\n",
       " 'boosters : PartUsage',\n",
       " 'start : ActionUsage',\n",
       " 'None : TransitionUsage',\n",
       " 'Oxidizer : ItemDefinition',\n",
       " 'Specific Impulse : AttributeUsage',\n",
       " '$result : Feature',\n",
       " '$result : Feature',\n",
       " '$result : Feature',\n",
       " 'Full Mass : AttributeUsage',\n",
       " '$result : Feature',\n",
       " 'None : SourceEnd',\n",
       " 'None : ReferenceUsage',\n",
       " '$result : Feature',\n",
       " 'Thrust : AttributeUsage',\n",
       " 'None : LiteralReal',\n",
       " 'None : SourceEnd',\n",
       " 'None : LiteralInteger',\n",
       " 'None : LiteralInteger',\n",
       " 'None : LiteralReal',\n",
       " 'None : AcceptActionUsage',\n",
       " 'Empty Mass : AttributeUsage',\n",
       " 'Full Mass : AttributeUsage',\n",
       " 'None : ReferenceUsage',\n",
       " 'stages : PartUsage',\n",
       " 'Fuel : ItemDefinition',\n",
       " 'Gravity Turn Ascent : ActionDefinition',\n",
       " 'IgniteSignal : ItemDefinition',\n",
       " '$result : Feature',\n",
       " 'Empty Mass : AttributeUsage',\n",
       " 'None : LiteralReal',\n",
       " 'None : OperatorExpression',\n",
       " 'Thrust : AttributeUsage',\n",
       " '$result : Feature',\n",
       " 'Carried Stage : ReferenceUsage',\n",
       " 'None : LiteralReal',\n",
       " 'Stage 2 Burn : StateUsage',\n",
       " 'Rocket : PartDefinition',\n",
       " 'Payload Mass : AttributeUsage',\n",
       " 'Full Mass : AttributeUsage',\n",
       " 'None : LiteralInteger',\n",
       " 'Empty Mass : AttributeUsage',\n",
       " 'None : LiteralReal',\n",
       " 'Staging Chart : StateDefinition',\n",
       " '$y : Feature',\n",
       " '$result : Feature',\n",
       " 'Loaded Mass : AttributeUsage',\n",
       " 'Oxidizer : AttributeUsage',\n",
       " 'Torque : AttributeUsage',\n",
       " 'Empty Mass : AttributeUsage',\n",
       " 'None : LiteralInteger',\n",
       " 'Kerbal Rocket Part : PartDefinition',\n",
       " 'Solid Propellant : ItemDefinition',\n",
       " 'None : Feature',\n",
       " 'None : ReferenceUsage',\n",
       " 'Thrust : AttributeUsage',\n",
       " '$result : Feature',\n",
       " 'None : MultiplicityRange',\n",
       " 'Specific Impulse : AttributeUsage',\n",
       " 'None : ReferenceUsage',\n",
       " 'None : AcceptActionUsage',\n",
       " 'Circularization : ActionUsage',\n",
       " 'Coupler to Carrying Stage : PartUsage',\n",
       " '$result : Feature',\n",
       " 'None : LiteralInteger',\n",
       " 'None : LiteralReal',\n",
       " 'RT-5 \"Flea\" Solid Fuel Booster : PartDefinition',\n",
       " 'None : LiteralReal',\n",
       " 'Liquid Engine : PartDefinition',\n",
       " 'Specific Impulse : AttributeUsage',\n",
       " 'Trajectories : Package',\n",
       " 'None : LiteralInteger',\n",
       " '$result : Feature',\n",
       " '$collection : Feature',\n",
       " 'FL-T200 Fuel Tank : PartDefinition',\n",
       " 'Vertical Rise : ActionUsage',\n",
       " 'sum : Function',\n",
       " 'FL-T100 Fuel Tank : PartDefinition',\n",
       " 'None : Feature',\n",
       " '$collection : Feature',\n",
       " 'None : SourceEnd',\n",
       " '$result : Feature',\n",
       " 'Empty Mass : AttributeUsage',\n",
       " 'Staging : Package',\n",
       " '$result : Feature',\n",
       " 'None : BlockExpression',\n",
       " '$result : Feature',\n",
       " 'Fuel Tank Section : PartDefinition',\n",
       " '$x : Feature',\n",
       " 'Two-Stager : StateDefinition',\n",
       " 'Full Mass : AttributeUsage',\n",
       " '$result : Feature',\n",
       " 'None : MultiplicityRange',\n",
       " 'Solid Booster : PartDefinition',\n",
       " 'Full Mass : AttributeUsage',\n",
       " 'StageSignal : ItemDefinition',\n",
       " 'Mk1 Command Pod : PartDefinition',\n",
       " 'None : ReferenceUsage',\n",
       " '$result : Feature',\n",
       " 'None : ItemFeature',\n",
       " 'None : FeatureReferenceExpression',\n",
       " 'Solid Stage : PartDefinition',\n",
       " 'Burnout Mass : AttributeUsage',\n",
       " 'Burnout : StateUsage',\n",
       " 'Liquid Stage : PartDefinition',\n",
       " 'None : Feature',\n",
       " 'None : ReferenceUsage',\n",
       " 'None : ItemFeature',\n",
       " 'Liquid Fuel : AttributeUsage',\n",
       " 'None : InvocationExpression',\n",
       " 'None : ReferenceUsage',\n",
       " 'Empty Mass : AttributeUsage',\n",
       " 'Coupler : PartDefinition',\n",
       " '$result : Feature',\n",
       " 'Kerbal : Package',\n",
       " 'None : SourceEnd',\n",
       " 'Thrust : AttributeUsage',\n",
       " 'None : LiteralReal',\n",
       " 'None : Feature',\n",
       " 'None : MultiplicityRange',\n",
       " 'engines : PartUsage',\n",
       " 'None : TransitionUsage',\n",
       " 'None : Feature',\n",
       " '$result : Feature',\n",
       " 'Parachute : PartDefinition',\n",
       " 'transitionLink : Feature',\n",
       " '$result : Feature',\n",
       " 'Specific Impulse : AttributeUsage',\n",
       " 'None : BlockExpression',\n",
       " '$result : Feature',\n",
       " 'None : ItemFeature',\n",
       " 'None : LiteralInteger',\n",
       " 'None : InvocationExpression',\n",
       " 'LV-T45 \"Swivel\" Liquid Fuel Engine : PartDefinition',\n",
       " 'None : TargetEnd',\n",
       " '$result : Feature',\n",
       " 'None : ItemFeature',\n",
       " 'tanks : PartUsage',\n",
       " '$result : Feature',\n",
       " 'None : Feature',\n",
       " 'None : MultiplicityRange',\n",
       " 'Separation Force : AttributeUsage',\n",
       " 'None : LiteralInteger',\n",
       " 'Thrust : AttributeUsage',\n",
       " 'None : TransitionUsage',\n",
       " 'Specific Impulse : AttributeUsage',\n",
       " '$result : Feature',\n",
       " 'Max Temperature : AttributeUsage',\n",
       " 'Gravity Turn : ActionUsage',\n",
       " 'None : AcceptActionUsage',\n",
       " 'Ascent : ActionUsage',\n",
       " 'None : FeatureReferenceExpression',\n",
       " 'RT-10 \"Hammer\" Solid Fuel Booster : PartDefinition',\n",
       " 'Full Mass : AttributeUsage',\n",
       " 'None : OperatorExpression',\n",
       " 'p : ReferenceUsage',\n",
       " 'Empty Mass : AttributeUsage',\n",
       " 'None : AcceptActionUsage',\n",
       " 'None : LiteralInteger',\n",
       " 'None : Feature',\n",
       " 'Full Mass : AttributeUsage',\n",
       " 'None : LiteralReal',\n",
       " 'None : MultiplicityRange',\n",
       " '$collection : Feature',\n",
       " 'None : Feature',\n",
       " '$collection : Feature',\n",
       " 'Second Stage : StateUsage',\n",
       " 'None : FeatureReferenceExpression',\n",
       " 'Initial Stage : StateUsage',\n",
       " 'None : LiteralReal',\n",
       " 'None : LiteralReal',\n",
       " 'Empty Mass : AttributeUsage',\n",
       " 'None : FeatureReferenceExpression',\n",
       " 'Rocket Building : Package',\n",
       " '$result : Feature',\n",
       " 'None : Feature',\n",
       " 'Mass : AttributeUsage',\n",
       " 'ScalarFunctions : Package',\n",
       " 'Launch to Orbit : ActionDefinition',\n",
       " 'None : TargetEnd',\n",
       " 'Pod : PartDefinition',\n",
       " 'None : LiteralReal',\n",
       " '$result : Feature',\n",
       " 'None : LiteralReal',\n",
       " 'None : Feature',\n",
       " 'Full Mass : AttributeUsage',\n",
       " '$result : Feature',\n",
       " '$result : Feature',\n",
       " '$result : Feature',\n",
       " 'None : TransitionUsage',\n",
       " 'Rocket Stage : PartDefinition',\n",
       " '$result : Feature',\n",
       " 'None : LiteralReal',\n",
       " 'None : Feature',\n",
       " '$result : Feature',\n",
       " 'None : OperatorExpression',\n",
       " 'Stage 1 Burn : StateUsage',\n",
       " 'None : LiteralInteger',\n",
       " 'None : Feature',\n",
       " 'None : MultiplicityRange',\n",
       " 'p : ReferenceUsage',\n",
       " 'None : SourceEnd',\n",
       " 'None : Feature',\n",
       " 'Parts Library : Package',\n",
       " 'None : Feature',\n",
       " 'None : SourceEnd']"
      ]
     },
     "execution_count": 19,
     "metadata": {},
     "output_type": "execute_result"
    }
   ],
   "source": [
    "['{0} : {1}'.format(nr['name'], nr['@type']) for nr in non_relations]"
   ]
  },
  {
   "cell_type": "markdown",
   "id": "aware-specialist",
   "metadata": {},
   "source": [
    "# Connect to Semantic Libraries\n",
    "\n",
    "The real work comes in the connection to M1 and then its interpretation at M0. Start processing the model here."
   ]
  },
  {
   "cell_type": "code",
   "execution_count": 20,
   "id": "bacterial-plain",
   "metadata": {},
   "outputs": [],
   "source": [
    "id_memo_dict = {}"
   ]
  },
  {
   "cell_type": "code",
   "execution_count": 21,
   "id": "public-sensitivity",
   "metadata": {},
   "outputs": [],
   "source": [
    "def get_name_by_id(id_to_check):\n",
    "    if id_to_check in id_memo_dict:\n",
    "        return id_memo_dict[id_to_check]['name']\n",
    "    else:\n",
    "        for found_ele in elements_data:\n",
    "            if found_ele['@id'] == id_to_check:\n",
    "                return found_ele['name']\n",
    "    \n",
    "    return id_to_check"
   ]
  },
  {
   "cell_type": "code",
   "execution_count": 22,
   "id": "considered-birthday",
   "metadata": {},
   "outputs": [],
   "source": [
    "def get_metatype_by_id(id_to_check):\n",
    "    ele_spot = [found_ele for found_ele in elements_data if found_ele['@id'] == id_to_check]\n",
    "    return ele_spot[0]['@type']"
   ]
  },
  {
   "attachments": {
    "65b89bcb-18e3-4b18-816b-bfc5a2fe857e.png": {
     "image/png": "[encoded data removed]"
    }
   },
   "cell_type": "markdown",
   "id": "spectacular-pavilion",
   "metadata": {},
   "source": [
    "## Part Definitions and the Usage Features\n",
    "\n",
    "![image.png](attachment:65b89bcb-18e3-4b18-816b-bfc5a2fe857e.png)\n",
    "\n",
    "The \"parts\" feature will always be typed by Part, any additional features applied to a PartDefinition will subset parts."
   ]
  },
  {
   "cell_type": "code",
   "execution_count": 23,
   "id": "killing-miami",
   "metadata": {},
   "outputs": [],
   "source": [
    "part_defs = [part_def for part_def in non_relations if part_def['@type'] == 'PartDefinition']"
   ]
  },
  {
   "cell_type": "code",
   "execution_count": 24,
   "id": "bizarre-springfield",
   "metadata": {},
   "outputs": [
    {
     "data": {
      "text/plain": [
       "['Rocket',\n",
       " 'Kerbal Rocket Part',\n",
       " 'RT-5 \"Flea\" Solid Fuel Booster',\n",
       " 'Liquid Engine',\n",
       " 'FL-T200 Fuel Tank',\n",
       " 'FL-T100 Fuel Tank',\n",
       " 'Fuel Tank Section',\n",
       " 'Solid Booster',\n",
       " 'Mk1 Command Pod',\n",
       " 'Solid Stage',\n",
       " 'Liquid Stage',\n",
       " 'Coupler',\n",
       " 'Parachute',\n",
       " 'LV-T45 \"Swivel\" Liquid Fuel Engine',\n",
       " 'RT-10 \"Hammer\" Solid Fuel Booster',\n",
       " 'Pod',\n",
       " 'Rocket Stage']"
      ]
     },
     "execution_count": 24,
     "metadata": {},
     "output_type": "execute_result"
    }
   ],
   "source": [
    "[\"{0}\".format(part_def['name']) for part_def in part_defs]"
   ]
  },
  {
   "cell_type": "code",
   "execution_count": 25,
   "id": "answering-sight",
   "metadata": {},
   "outputs": [],
   "source": [
    "for part_def in part_defs:\n",
    "    id_memo_dict.update({part_def['@id']: part_def})"
   ]
  },
  {
   "cell_type": "markdown",
   "id": "stuffed-production",
   "metadata": {},
   "source": [
    "## Subclassing Graph\n",
    "\n",
    "Trace the path from the most specialized PartDefinitions back to the library. Pack the results into a graph for later computations on going up and down the specialization tree."
   ]
  },
  {
   "cell_type": "code",
   "execution_count": 26,
   "id": "lyric-calibration",
   "metadata": {},
   "outputs": [],
   "source": [
    "superclasses = [sup for sup in relations if sup['@type'] == 'Superclassing']"
   ]
  },
  {
   "cell_type": "code",
   "execution_count": 27,
   "id": "animated-malpractice",
   "metadata": {},
   "outputs": [
    {
     "data": {
      "text/plain": [
       "15"
      ]
     },
     "execution_count": 27,
     "metadata": {},
     "output_type": "execute_result"
    }
   ],
   "source": [
    "len(superclasses)"
   ]
  },
  {
   "cell_type": "code",
   "execution_count": 28,
   "id": "attended-matter",
   "metadata": {},
   "outputs": [],
   "source": [
    "superclassing_graph = NX.DiGraph()\n",
    "subclassing_graph = NX.DiGraph()"
   ]
  },
  {
   "cell_type": "code",
   "execution_count": 29,
   "id": "sacred-phenomenon",
   "metadata": {},
   "outputs": [],
   "source": [
    "for sup in superclasses:\n",
    "    if sup['specific']['@id'] in id_memo_dict:\n",
    "        subclassing_graph.add_edge(sup['general']['@id'], sup['specific']['@id'])\n",
    "        superclassing_graph.add_edge(sup['specific']['@id'], sup['general']['@id'])"
   ]
  },
  {
   "cell_type": "code",
   "execution_count": 30,
   "id": "massive-negative",
   "metadata": {},
   "outputs": [
    {
     "data": {
      "text/plain": [
       "['Solid Booster :> Kerbal Rocket Part',\n",
       " 'RT-5 \"Flea\" Solid Fuel Booster :> Solid Booster',\n",
       " 'Solid Stage :> Rocket Stage',\n",
       " 'LV-T45 \"Swivel\" Liquid Fuel Engine :> Liquid Engine',\n",
       " 'Mk1 Command Pod :> Pod',\n",
       " 'RT-10 \"Hammer\" Solid Fuel Booster :> Solid Booster',\n",
       " 'Pod :> Kerbal Rocket Part',\n",
       " 'Liquid Engine :> Kerbal Rocket Part',\n",
       " 'Parachute :> Kerbal Rocket Part',\n",
       " 'FL-T100 Fuel Tank :> Fuel Tank Section',\n",
       " 'Fuel Tank Section :> Kerbal Rocket Part',\n",
       " 'Liquid Stage :> Rocket Stage',\n",
       " 'FL-T200 Fuel Tank :> Fuel Tank Section',\n",
       " 'Coupler :> Kerbal Rocket Part']"
      ]
     },
     "execution_count": 30,
     "metadata": {},
     "output_type": "execute_result"
    }
   ],
   "source": [
    "['{0} :> {1}'.format(\n",
    "    get_name_by_id(sup['subclass']['@id']), get_name_by_id(sup['superclass']['@id'])\n",
    ") for sup in superclasses if sup['subclass']['@id'] in id_memo_dict]"
   ]
  },
  {
   "cell_type": "markdown",
   "id": "successful-exhibit",
   "metadata": {},
   "source": [
    "Draw the superclassing graph."
   ]
  },
  {
   "cell_type": "code",
   "execution_count": 31,
   "id": "intended-failing",
   "metadata": {},
   "outputs": [
    {
     "data": {
      "image/png": "[encoded data removed]",
      "text/plain": [
       "<Figure size 432x288 with 1 Axes>"
      ]
     },
     "metadata": {},
     "output_type": "display_data"
    }
   ],
   "source": [
    "superclassing_graph_labels = {}\n",
    "for node in superclassing_graph.nodes():\n",
    "    superclassing_graph_labels.update({node: get_name_by_id(node)})\n",
    "    \n",
    "NX.draw_planar(superclassing_graph, labels=superclassing_graph_labels)"
   ]
  },
  {
   "cell_type": "markdown",
   "id": "living-virginia",
   "metadata": {},
   "source": [
    "## PartUsages\n",
    "\n",
    "Inspect the features of the part definitions that should go into the features list."
   ]
  },
  {
   "cell_type": "code",
   "execution_count": 32,
   "id": "matched-ribbon",
   "metadata": {},
   "outputs": [],
   "source": [
    "part_uses = [part_use for part_use in non_relations if part_use['@type'] == 'PartUsage']\n",
    "for part_use in part_uses:\n",
    "    id_memo_dict.update({part_use['@id']: part_use})"
   ]
  },
  {
   "cell_type": "code",
   "execution_count": 33,
   "id": "south-dress",
   "metadata": {},
   "outputs": [
    {
     "data": {
      "text/plain": [
       "5"
      ]
     },
     "execution_count": 33,
     "metadata": {},
     "output_type": "execute_result"
    }
   ],
   "source": [
    "len(part_uses)"
   ]
  },
  {
   "cell_type": "code",
   "execution_count": 34,
   "id": "selected-liabilities",
   "metadata": {},
   "outputs": [
    {
     "data": {
      "text/plain": [
       "['boosters', 'stages', 'Coupler to Carrying Stage', 'engines', 'tanks']"
      ]
     },
     "execution_count": 34,
     "metadata": {},
     "output_type": "execute_result"
    }
   ],
   "source": [
    "[get_name_by_id(part_use['@id']) for part_use in part_uses]"
   ]
  },
  {
   "cell_type": "markdown",
   "id": "coordinate-roller",
   "metadata": {},
   "source": [
    "Look for FeatureMemberships and TypeFeaturings to see where the features belong."
   ]
  },
  {
   "cell_type": "code",
   "execution_count": 35,
   "id": "blocked-amsterdam",
   "metadata": {},
   "outputs": [],
   "source": [
    "feature_members = [feature_member for feature_member in relations if feature_member['@type'] == 'FeatureMembership']\n",
    "type_features = [type_feature for type_feature in relations if type_feature['@type'] == 'TypeFeaturings']"
   ]
  },
  {
   "cell_type": "code",
   "execution_count": 36,
   "id": "specified-radius",
   "metadata": {},
   "outputs": [
    {
     "data": {
      "text/plain": [
       "76"
      ]
     },
     "execution_count": 36,
     "metadata": {},
     "output_type": "execute_result"
    }
   ],
   "source": [
    "len(feature_members)"
   ]
  },
  {
   "cell_type": "code",
   "execution_count": 37,
   "id": "continuing-radio",
   "metadata": {},
   "outputs": [
    {
     "data": {
      "text/plain": [
       "0"
      ]
     },
     "execution_count": 37,
     "metadata": {},
     "output_type": "execute_result"
    }
   ],
   "source": [
    "len(type_features)"
   ]
  },
  {
   "cell_type": "code",
   "execution_count": 38,
   "id": "fitted-complement",
   "metadata": {},
   "outputs": [],
   "source": [
    "part_featuring_graph = NX.DiGraph()"
   ]
  },
  {
   "cell_type": "code",
   "execution_count": 39,
   "id": "brutal-confidentiality",
   "metadata": {},
   "outputs": [],
   "source": [
    "for fm in feature_members:\n",
    "    if fm['memberElement']['@id'] in id_memo_dict:\n",
    "        if id_memo_dict[fm['memberElement']['@id']]['@type'] == 'PartUsage':\n",
    "            part_featuring_graph.add_edge(fm['memberElement']['@id'], fm['owningType']['@id'])"
   ]
  },
  {
   "cell_type": "code",
   "execution_count": 40,
   "id": "completed-ceiling",
   "metadata": {},
   "outputs": [
    {
     "data": {
      "text/plain": [
       "[0, 1, 0, 2, 0, 1, 0, 1]"
      ]
     },
     "execution_count": 40,
     "metadata": {},
     "output_type": "execute_result"
    }
   ],
   "source": [
    "[part_featuring_graph.in_degree(node) for node in part_featuring_graph.nodes]"
   ]
  },
  {
   "cell_type": "code",
   "execution_count": 41,
   "id": "perfect-fundamentals",
   "metadata": {},
   "outputs": [
    {
     "data": {
      "text/plain": [
       "['boosters is a member of Solid Stage',\n",
       " 'engines is a member of Liquid Stage',\n",
       " 'Coupler to Carrying Stage is a member of stages',\n",
       " 'tanks is a member of Liquid Stage',\n",
       " 'stages is a member of Rocket']"
      ]
     },
     "execution_count": 41,
     "metadata": {},
     "output_type": "execute_result"
    }
   ],
   "source": [
    "['{0} is a member of {1}'.format(\n",
    "    get_name_by_id(fm['memberElement']['@id']), get_name_by_id(fm['owningType']['@id'])\n",
    ") for fm in feature_members if fm['memberElement']['@id'] in id_memo_dict]"
   ]
  },
  {
   "cell_type": "markdown",
   "id": "congressional-federal",
   "metadata": {},
   "source": [
    "Draw the parts featuring graph."
   ]
  },
  {
   "cell_type": "code",
   "execution_count": 42,
   "id": "naval-cornell",
   "metadata": {},
   "outputs": [
    {
     "data": {
      "image/png": "[encoded data removed]",
      "text/plain": [
       "<Figure size 432x288 with 1 Axes>"
      ]
     },
     "metadata": {},
     "output_type": "display_data"
    }
   ],
   "source": [
    "part_featuring_graph_labels = {}\n",
    "for node in part_featuring_graph.nodes():\n",
    "    part_featuring_graph_labels.update({node: get_name_by_id(node)})\n",
    "    \n",
    "NX.draw_planar(part_featuring_graph, labels=part_featuring_graph_labels)"
   ]
  },
  {
   "cell_type": "markdown",
   "id": "equivalent-desktop",
   "metadata": {},
   "source": [
    "Collect multiplicities."
   ]
  },
  {
   "cell_type": "code",
   "execution_count": 43,
   "id": "copyrighted-pickup",
   "metadata": {},
   "outputs": [],
   "source": [
    "mults = [mult for mult in non_relations if mult['@type'] == 'MultiplicityRange']\n",
    "integers = [integer for integer in non_relations if integer['@type'] == 'LiteralInteger']\n",
    "\n",
    "for mult in mults:\n",
    "    id_memo_dict.update({mult['@id']: mult})\n",
    "    \n",
    "for integer in integers:\n",
    "    id_memo_dict.update({integer['@id']: integer})"
   ]
  },
  {
   "cell_type": "code",
   "execution_count": 44,
   "id": "super-twins",
   "metadata": {},
   "outputs": [],
   "source": [
    "mult_strings = []\n",
    "for mult in mults:\n",
    "    try:\n",
    "        if mult['lowerBound'] is None and mult['upperBound'] is not None:\n",
    "            mult_strings.append('[{0}]'.format(\n",
    "                id_memo_dict[mult['upperBound']['@id']]['value']))\n",
    "        else:\n",
    "            mult_strings.append('[{0}..{1}]'.format(\n",
    "                id_memo_dict[mult['lowerBound']['@id']]['value'],\n",
    "                id_memo_dict[mult['upperBound']['@id']]['value']))\n",
    "    except TypeError:\n",
    "        print('Lower Bound is ' + str(mult['lowerBound']))\n",
    "        print('Upper Bound is ' + str(mult['upperBound']))"
   ]
  },
  {
   "cell_type": "code",
   "execution_count": 45,
   "id": "usual-hands",
   "metadata": {},
   "outputs": [
    {
     "data": {
      "text/plain": [
       "['[1]', '[0..8]', '[0..8]', '[0..8]', '[0..30]', '[1..5]']"
      ]
     },
     "execution_count": 45,
     "metadata": {},
     "output_type": "execute_result"
    }
   ],
   "source": [
    "mult_strings"
   ]
  },
  {
   "cell_type": "code",
   "execution_count": 46,
   "id": "structural-found",
   "metadata": {},
   "outputs": [],
   "source": [
    "def feature_lower_multiplicity(feature):\n",
    "    if feature['multiplicity'] is not None:\n",
    "        if '@id' in feature['multiplicity']:\n",
    "            mult = id_memo_dict[feature['multiplicity']['@id']]\n",
    "            if '@id' in mult['lowerBound']:\n",
    "                return id_memo_dict[mult['lowerBound']['@id']]['value']\n",
    "        \n",
    "    return 1"
   ]
  },
  {
   "cell_type": "code",
   "execution_count": 47,
   "id": "warming-forestry",
   "metadata": {},
   "outputs": [],
   "source": [
    "def feature_upper_multiplicity(feature):\n",
    "    if feature['multiplicity'] is not None:\n",
    "        if '@id' in feature['multiplicity']:\n",
    "            mult = id_memo_dict[feature['multiplicity']['@id']]\n",
    "            if '@id' in mult['upperBound']:\n",
    "                return id_memo_dict[mult['upperBound']['@id']]['value']\n",
    "        \n",
    "    return 1"
   ]
  },
  {
   "cell_type": "code",
   "execution_count": 48,
   "id": "random-missile",
   "metadata": {},
   "outputs": [
    {
     "data": {
      "text/plain": [
       "['boosters has multiplicity 0..8',\n",
       " 'stages has multiplicity 1..5',\n",
       " 'Coupler to Carrying Stage has multiplicity 0..8',\n",
       " 'engines has multiplicity 0..8',\n",
       " 'tanks has multiplicity 0..30']"
      ]
     },
     "execution_count": 48,
     "metadata": {},
     "output_type": "execute_result"
    }
   ],
   "source": [
    "['{0} has multiplicity {1}..{2}'.format(\n",
    "    part_use['name'], feature_lower_multiplicity(part_use), feature_upper_multiplicity(part_use)\n",
    ") for part_use in part_uses]"
   ]
  },
  {
   "cell_type": "markdown",
   "id": "straight-architecture",
   "metadata": {},
   "source": [
    "Get feature types."
   ]
  },
  {
   "cell_type": "code",
   "execution_count": 49,
   "id": "meaning-concentrate",
   "metadata": {},
   "outputs": [],
   "source": [
    "feature_types = [feature_type for feature_type in relations if feature_type['@type'] == 'FeatureTyping']"
   ]
  },
  {
   "cell_type": "code",
   "execution_count": 50,
   "id": "decreased-poison",
   "metadata": {},
   "outputs": [],
   "source": [
    "def get_feature_type_name(feature):\n",
    "    if len(feature['type']) > 0:\n",
    "        return get_name_by_id(feature['type'][0]['@id'])\n",
    "    else:\n",
    "        return 'Part'"
   ]
  },
  {
   "cell_type": "code",
   "execution_count": 51,
   "id": "digital-chuck",
   "metadata": {},
   "outputs": [
    {
     "data": {
      "text/plain": [
       "['tanks : Fuel Tank Section',\n",
       " 'stages : Rocket Stage',\n",
       " 'boosters : Solid Booster',\n",
       " 'engines : Liquid Engine',\n",
       " 'Coupler to Carrying Stage : Coupler']"
      ]
     },
     "execution_count": 51,
     "metadata": {},
     "output_type": "execute_result"
    }
   ],
   "source": [
    "['{0} : {1}'.format(\n",
    "    get_name_by_id(ft['typedFeature']['@id']), get_name_by_id(ft['type']['@id'])\n",
    ") for ft in feature_types if ft['typedFeature']['@id'] in id_memo_dict]"
   ]
  },
  {
   "cell_type": "markdown",
   "id": "copyrighted-institution",
   "metadata": {},
   "source": [
    "# Generate Instances\n",
    "\n",
    "With the base semantic model in hand, begin to apply the rules to generate our system alternatives."
   ]
  },
  {
   "cell_type": "markdown",
   "id": "proprietary-check",
   "metadata": {},
   "source": [
    "## Find number of instances for feature last positions\n",
    "\n",
    "In SysML, the default type is PartDefinition, which is a Classifier, meaning the minimal interpretation of length one (the specific instance). Nesting parts then have an interpretation as expected by systems engineers, namely that the instances \"stack\" in order to provide a navigation from top-level assembly to leaf component."
   ]
  },
  {
   "cell_type": "code",
   "execution_count": 52,
   "id": "julian-session",
   "metadata": {},
   "outputs": [
    {
     "data": {
      "text/plain": [
       "['boosters needs 8 instances of type Solid Booster',\n",
       " 'stages needs 5 instances of type Rocket Stage',\n",
       " 'Coupler to Carrying Stage needs 8 instances of type Coupler',\n",
       " 'engines needs 8 instances of type Liquid Engine',\n",
       " 'tanks needs 30 instances of type Fuel Tank Section']"
      ]
     },
     "execution_count": 52,
     "metadata": {},
     "output_type": "execute_result"
    }
   ],
   "source": [
    "['{0} needs {1} instances of type {2}'.format(\n",
    "    part_use['name'], feature_upper_multiplicity(part_use), get_feature_type_name(part_use)\n",
    ") for part_use in part_uses]"
   ]
  },
  {
   "cell_type": "markdown",
   "id": "weighted-pulse",
   "metadata": {},
   "source": [
    "Automatically shorten names so that sequences remain readable when printed."
   ]
  },
  {
   "cell_type": "code",
   "execution_count": 53,
   "id": "domestic-gateway",
   "metadata": {},
   "outputs": [],
   "source": [
    "shorten_pre_bake = {\n",
    "    'RT-10 \"Hammer\" Solid Fuel Booster': \"RT-10\",\n",
    "    'RT-5 \"Flea\" Solid Fuel Booster': \"RT-5\",\n",
    "    'LV-T45 \"Swivel\" Liquid Fuel Engine': \"LV-T45\",\n",
    "    'FL-T100 Fuel Tank': \"FL-T100\",\n",
    "    'FL-T200 Fuel Tank': \"FL-T200\"\n",
    "}"
   ]
  },
  {
   "cell_type": "code",
   "execution_count": 54,
   "id": "marked-alpha",
   "metadata": {},
   "outputs": [],
   "source": [
    "def shorten_name(name):\n",
    "    short_name = ''\n",
    "    if len(name) > 5:\n",
    "        if shorten_pre_bake is not None:\n",
    "            if name in shorten_pre_bake:\n",
    "                return shorten_pre_bake[name]\n",
    "        space_place = name.find(' ')\n",
    "        if space_place > -1:\n",
    "            short_name = short_name + name[0]\n",
    "            short_name = short_name + name[space_place + 1]\n",
    "            next_space = name.find(' ', space_place + 1)\n",
    "            while next_space > -1:\n",
    "                short_name = short_name + name[next_space + 1]\n",
    "                next_space = name.find(' ', next_space + 1)\n",
    "            return short_name\n",
    "    return name"
   ]
  },
  {
   "cell_type": "code",
   "execution_count": 55,
   "id": "olive-chicago",
   "metadata": {},
   "outputs": [],
   "source": [
    "class Instance():\n",
    "    def __init__(self, name, index):\n",
    "        self.name = shorten_name(name) + '#' + str(index)\n",
    "        \n",
    "    def __repr__(self):\n",
    "        return self.name"
   ]
  },
  {
   "cell_type": "code",
   "execution_count": 56,
   "id": "choice-spray",
   "metadata": {},
   "outputs": [],
   "source": [
    "multiplicity_dict = {}\n",
    "\n",
    "for part_use in part_uses:\n",
    "    type_name = get_feature_type_name(part_use)\n",
    "    if type_name in multiplicity_dict:\n",
    "        old_val = multiplicity_dict[part_use]\n",
    "        multiplicity_dict.update({type_name: old_val + feature_upper_multiplicity(part_use)})\n",
    "    else:\n",
    "        multiplicity_dict.update({type_name: feature_upper_multiplicity(part_use)})"
   ]
  },
  {
   "cell_type": "code",
   "execution_count": 57,
   "id": "handy-nowhere",
   "metadata": {},
   "outputs": [
    {
     "data": {
      "text/plain": [
       "{'Solid Booster': 8,\n",
       " 'Rocket Stage': 5,\n",
       " 'Coupler': 8,\n",
       " 'Liquid Engine': 8,\n",
       " 'Fuel Tank Section': 30}"
      ]
     },
     "execution_count": 57,
     "metadata": {},
     "output_type": "execute_result"
    }
   ],
   "source": [
    "multiplicity_dict"
   ]
  },
  {
   "cell_type": "markdown",
   "id": "single-muslim",
   "metadata": {},
   "source": [
    "## Determine the size of the universe of instances needed for creating alternatives\n",
    "\n",
    "Use feature membership together with multiplicity to decide how many individuals are needed."
   ]
  },
  {
   "cell_type": "markdown",
   "id": "premier-lesbian",
   "metadata": {},
   "source": [
    "### Building the banded graph\n",
    "\n",
    "Build up a graph with the SysML v1 banded style of part-type-part-type (with superclassing)."
   ]
  },
  {
   "cell_type": "code",
   "execution_count": 58,
   "id": "accurate-setup",
   "metadata": {},
   "outputs": [],
   "source": [
    "banded_feature_graph = NX.DiGraph()"
   ]
  },
  {
   "cell_type": "code",
   "execution_count": 59,
   "id": "israeli-vacation",
   "metadata": {},
   "outputs": [],
   "source": [
    "for fm in feature_members:\n",
    "    if fm['memberElement']['@id'] in id_memo_dict:\n",
    "        if id_memo_dict[fm['memberElement']['@id']]['@type'] == 'PartUsage':\n",
    "            banded_feature_graph.add_edge(fm['memberElement']['@id'], fm['owningType']['@id'])\n",
    "\n",
    "for ft in feature_types:\n",
    "    if ft['typedFeature']['@id'] in id_memo_dict:\n",
    "        if id_memo_dict[ft['typedFeature']['@id']]['@type'] == 'PartUsage':\n",
    "            banded_feature_graph.add_edge(ft['type']['@id'], ft['typedFeature']['@id'])\n",
    "            \n",
    "for sup in superclasses:\n",
    "    if sup['specific']['@id'] in id_memo_dict:\n",
    "        banded_feature_graph.add_edge(sup['specific']['@id'], sup['general']['@id'])"
   ]
  },
  {
   "cell_type": "code",
   "execution_count": 60,
   "id": "fifty-vault",
   "metadata": {},
   "outputs": [
    {
     "data": {
      "image/png": "[encoded data removed]",
      "text/plain": [
       "<Figure size 432x288 with 1 Axes>"
      ]
     },
     "metadata": {},
     "output_type": "display_data"
    }
   ],
   "source": [
    "banded_feature_graph_labels = {}\n",
    "for node in banded_feature_graph.nodes():\n",
    "    banded_feature_graph_labels.update({node: get_name_by_id(node)})\n",
    "    \n",
    "NX.draw_planar(banded_feature_graph, labels=banded_feature_graph_labels)"
   ]
  },
  {
   "cell_type": "code",
   "execution_count": 61,
   "id": "boxed-trader",
   "metadata": {},
   "outputs": [],
   "source": [
    "part_leaves = [id_memo_dict[node]\n",
    "    for node in part_featuring_graph.nodes\n",
    "        if part_featuring_graph.in_degree(node) == 0]"
   ]
  },
  {
   "cell_type": "code",
   "execution_count": 62,
   "id": "greenhouse-batch",
   "metadata": {},
   "outputs": [],
   "source": [
    "part_roots = [id_memo_dict[node]\n",
    "    for node in part_featuring_graph.nodes\n",
    "        if part_featuring_graph.out_degree(node) == 0]"
   ]
  },
  {
   "cell_type": "code",
   "execution_count": 63,
   "id": "standard-personality",
   "metadata": {},
   "outputs": [],
   "source": [
    "banded_roots = [id_memo_dict[node]\n",
    "    for node in banded_feature_graph.nodes\n",
    "        if banded_feature_graph.out_degree(node) == 0]"
   ]
  },
  {
   "cell_type": "code",
   "execution_count": 64,
   "id": "hydraulic-bandwidth",
   "metadata": {},
   "outputs": [
    {
     "data": {
      "text/plain": [
       "['boosters', 'engines', 'Coupler to Carrying Stage', 'tanks']"
      ]
     },
     "execution_count": 64,
     "metadata": {},
     "output_type": "execute_result"
    }
   ],
   "source": [
    "[part_leaf['name'] for part_leaf in part_leaves]"
   ]
  },
  {
   "cell_type": "code",
   "execution_count": 65,
   "id": "neural-projector",
   "metadata": {},
   "outputs": [
    {
     "data": {
      "text/plain": [
       "['Solid Stage', 'Liquid Stage', 'Rocket']"
      ]
     },
     "execution_count": 65,
     "metadata": {},
     "output_type": "execute_result"
    }
   ],
   "source": [
    "[part_root['name'] for part_root in part_roots]"
   ]
  },
  {
   "cell_type": "code",
   "execution_count": 66,
   "id": "instrumental-pencil",
   "metadata": {},
   "outputs": [
    {
     "data": {
      "text/plain": [
       "['Rocket', 'Kerbal Rocket Part']"
      ]
     },
     "execution_count": 66,
     "metadata": {},
     "output_type": "execute_result"
    }
   ],
   "source": [
    "[banded_root['name'] for banded_root in banded_roots]"
   ]
  },
  {
   "cell_type": "markdown",
   "id": "weighted-chapel",
   "metadata": {},
   "source": [
    "Correct the multiplicities by considering nesting.part_uses"
   ]
  },
  {
   "cell_type": "code",
   "execution_count": 67,
   "id": "legislative-imperial",
   "metadata": {},
   "outputs": [],
   "source": [
    "part_multiplicity = {}\n",
    "\n",
    "for part_use in part_uses:\n",
    "    corrected_mult = 0\n",
    "    for part_tree_root in banded_roots:\n",
    "        try:\n",
    "            part_path = NX.shortest_path(banded_feature_graph, part_use['@id'], part_tree_root['@id'])\n",
    "            # TODO: check that the path actually exists\n",
    "            corrected_mult = math.prod([feature_upper_multiplicity(id_memo_dict[node]) for node in part_path])\n",
    "        except NX.NetworkXNoPath:\n",
    "            pass\n",
    "    part_multiplicity.update({part_use['@id']: corrected_mult})"
   ]
  },
  {
   "cell_type": "code",
   "execution_count": 68,
   "id": "fundamental-closure",
   "metadata": {},
   "outputs": [
    {
     "data": {
      "text/plain": [
       "{'06a1824e-0f31-4aa7-8a61-4f2ae6c10c44': 40,\n",
       " '2159c437-6932-4d65-982f-483e7f4c9bc4': 5,\n",
       " '4f7a2ae1-063c-4c20-b8f3-749100a5dff7': 40,\n",
       " '94b08c23-2e8d-480a-a777-1b652ca83d8b': 40,\n",
       " 'a8a926c9-88a9-4937-a08f-ef6fab605b01': 150}"
      ]
     },
     "execution_count": 68,
     "metadata": {},
     "output_type": "execute_result"
    }
   ],
   "source": [
    "part_multiplicity"
   ]
  },
  {
   "cell_type": "markdown",
   "id": "reliable-jacob",
   "metadata": {},
   "source": [
    "### Subdivide Abstract Feature Types\n",
    "\n",
    "Look at the feature types for where they are abstract and then generate instances from the more specific types."
   ]
  },
  {
   "cell_type": "code",
   "execution_count": 69,
   "id": "vital-accountability",
   "metadata": {},
   "outputs": [
    {
     "data": {
      "text/plain": [
       "['RT-5 \"Flea\" Solid Fuel Booster',\n",
       " 'Solid Stage',\n",
       " 'LV-T45 \"Swivel\" Liquid Fuel Engine',\n",
       " 'Mk1 Command Pod',\n",
       " 'RT-10 \"Hammer\" Solid Fuel Booster',\n",
       " 'Parachute',\n",
       " 'FL-T100 Fuel Tank',\n",
       " 'Liquid Stage',\n",
       " 'FL-T200 Fuel Tank',\n",
       " 'Coupler']"
      ]
     },
     "execution_count": 69,
     "metadata": {},
     "output_type": "execute_result"
    }
   ],
   "source": [
    "[get_name_by_id(node) for node in subclassing_graph.nodes if subclassing_graph.out_degree(node) == 0]"
   ]
  },
  {
   "cell_type": "code",
   "execution_count": 70,
   "id": "chemical-former",
   "metadata": {},
   "outputs": [],
   "source": [
    "corrected_multiplicity_dict = {}\n",
    "type_id_pairs = {}\n",
    "\n",
    "for part_use in part_uses:\n",
    "    type_name = get_feature_type_name(part_use)\n",
    "    if type_name in corrected_multiplicity_dict:\n",
    "        old_val = corrected_multiplicity_dict[part_use]\n",
    "        corrected_multiplicity_dict.update({type_name: old_val + part_multiplicity[part_use['@id']]})\n",
    "    else:\n",
    "        corrected_multiplicity_dict.update({type_name: part_multiplicity[part_use['@id']]})\n",
    "        if len(part_use['type']) > 0:\n",
    "            type_id_pairs.update({type_name: part_use['type'][0]['@id']})"
   ]
  },
  {
   "cell_type": "code",
   "execution_count": 71,
   "id": "joint-indiana",
   "metadata": {},
   "outputs": [
    {
     "data": {
      "text/plain": [
       "{'Solid Booster': '729882d4-2234-44f1-8bc3-1f20188a234c',\n",
       " 'Rocket Stage': 'ef7a2c36-7e2d-447a-8b32-0d4398379e46',\n",
       " 'Coupler': '8d7a54a4-dbc8-4204-accb-bafadb48896e',\n",
       " 'Liquid Engine': '5549c46e-e196-45e6-9c28-214688b3906b',\n",
       " 'Fuel Tank Section': '6a6d5851-5f44-4f12-bfff-271c8a7d50de'}"
      ]
     },
     "execution_count": 71,
     "metadata": {},
     "output_type": "execute_result"
    }
   ],
   "source": [
    "type_id_pairs"
   ]
  },
  {
   "cell_type": "code",
   "execution_count": 72,
   "id": "incorporate-monaco",
   "metadata": {},
   "outputs": [
    {
     "data": {
      "text/plain": [
       "{'Solid Booster': 40,\n",
       " 'Rocket Stage': 5,\n",
       " 'Coupler': 40,\n",
       " 'Liquid Engine': 40,\n",
       " 'Fuel Tank Section': 150}"
      ]
     },
     "execution_count": 72,
     "metadata": {},
     "output_type": "execute_result"
    }
   ],
   "source": [
    "corrected_multiplicity_dict"
   ]
  },
  {
   "cell_type": "markdown",
   "id": "dated-nirvana",
   "metadata": {},
   "source": [
    "## Generate Random Alternatives\n",
    "\n",
    "Start creating the alternatives with random draws on multiplicity. This will be our space for investigation for weights, thrust-to-weight ratios at stage ignitions, delta-Vs, and initial and burnout masses."
   ]
  },
  {
   "cell_type": "code",
   "execution_count": 73,
   "id": "dominican-mountain",
   "metadata": {},
   "outputs": [],
   "source": [
    "no_alts_to_create = 50"
   ]
  },
  {
   "cell_type": "code",
   "execution_count": 74,
   "id": "expensive-cleaning",
   "metadata": {},
   "outputs": [],
   "source": [
    "partitioned_multiplicity_dicts = []\n",
    "\n",
    "for step in range(0, no_alts_to_create):\n",
    "\n",
    "    partitioned_multiplicity_dict = {}\n",
    "\n",
    "    for key in corrected_multiplicity_dict:\n",
    "        if key in type_id_pairs:\n",
    "            key_id = type_id_pairs[key]\n",
    "            type_obj = id_memo_dict[key_id]\n",
    "            if type_obj['isAbstract']:\n",
    "                local_partition = {}\n",
    "                if key_id in subclassing_graph.nodes:\n",
    "                    no_splits = len(list(subclassing_graph.successors(key_id)))\n",
    "                    taken = 0\n",
    "                    for indx, succ in enumerate(subclassing_graph.successors(key_id)):\n",
    "                        if indx < no_splits - 1:\n",
    "                            draw = random.randint(0, corrected_multiplicity_dict[key])\n",
    "                            taken = taken + draw\n",
    "                        else:\n",
    "                            draw = corrected_multiplicity_dict[key] - taken\n",
    "                        local_partition.update({get_name_by_id(succ): draw})\n",
    "                partitioned_multiplicity_dict.update({key: local_partition})\n",
    "            else:\n",
    "                partitioned_multiplicity_dict.update({key: corrected_multiplicity_dict[key]})\n",
    "                \n",
    "    partitioned_multiplicity_dicts.append(partitioned_multiplicity_dict)"
   ]
  },
  {
   "cell_type": "code",
   "execution_count": 75,
   "id": "special-bankruptcy",
   "metadata": {},
   "outputs": [
    {
     "data": {
      "text/plain": [
       "{'Solid Booster': {'RT-5 \"Flea\" Solid Fuel Booster': 35,\n",
       "  'RT-10 \"Hammer\" Solid Fuel Booster': 5},\n",
       " 'Rocket Stage': {'Solid Stage': 3, 'Liquid Stage': 2},\n",
       " 'Coupler': 40,\n",
       " 'Liquid Engine': {'LV-T45 \"Swivel\" Liquid Fuel Engine': 40},\n",
       " 'Fuel Tank Section': {'FL-T100 Fuel Tank': 46, 'FL-T200 Fuel Tank': 104}}"
      ]
     },
     "execution_count": 75,
     "metadata": {},
     "output_type": "execute_result"
    }
   ],
   "source": [
    "partitioned_multiplicity_dicts[0]"
   ]
  },
  {
   "cell_type": "markdown",
   "id": "dirty-gothic",
   "metadata": {},
   "source": [
    "- [ ] TODO: Fix the dictionary to have keys as IDs, not name"
   ]
  },
  {
   "cell_type": "code",
   "execution_count": 76,
   "id": "public-squad",
   "metadata": {},
   "outputs": [],
   "source": [
    "classifier_instance_dicts = []\n",
    "classifier_memo_dicts = []\n",
    "\n",
    "for step in range(0, no_alts_to_create):\n",
    "\n",
    "    classifier_instance_dict = {}\n",
    "    classifier_memo_dict = {}\n",
    "    \n",
    "    partitioned_multiplicity_dict = partitioned_multiplicity_dicts[step]\n",
    "\n",
    "    for mult_key in partitioned_multiplicity_dict:\n",
    "        instances_list = []\n",
    "        if isinstance(partitioned_multiplicity_dict[mult_key], dict):\n",
    "            for special_key in partitioned_multiplicity_dict[mult_key]:\n",
    "                sub_instances_list = []\n",
    "                instances_number = (partitioned_multiplicity_dict[mult_key][special_key] + 1)\n",
    "                for index in range(1, instances_number):\n",
    "                    new_instance = Instance(special_key, index)\n",
    "                    instances_list.append(new_instance)\n",
    "                    sub_instances_list.append(new_instance)\n",
    "                    classifier_memo_dict.update({new_instance.name: [special_key, mult_key]})\n",
    "                classifier_instance_dict.update({special_key: sub_instances_list})\n",
    "            classifier_instance_dict.update({mult_key: instances_list})\n",
    "        else:\n",
    "            instances_number = (corrected_multiplicity_dict[mult_key] + 1)\n",
    "            for index in range(1, instances_number):\n",
    "                new_instance = Instance(mult_key, index)\n",
    "                instances_list.append(new_instance)\n",
    "                classifier_memo_dict.update({new_instance.name: [mult_key]})\n",
    "            classifier_instance_dict.update({mult_key: instances_list})\n",
    "            \n",
    "    classifier_instance_dicts.append(classifier_instance_dict)\n",
    "    classifier_memo_dicts.append(classifier_memo_dict)"
   ]
  },
  {
   "cell_type": "markdown",
   "id": "dynamic-gabriel",
   "metadata": {},
   "source": [
    "Now that the universe of instances has been calculated, we can look at how they can be sequenced. This method is probably fragile so will need revisions.\n",
    "In this case, found that it can't handle unconnected featuring graph components."
   ]
  },
  {
   "cell_type": "code",
   "execution_count": 77,
   "id": "floppy-disclosure",
   "metadata": {},
   "outputs": [
    {
     "data": {
      "text/plain": [
       "['Rocket',\n",
       " 'stages',\n",
       " 'Coupler to Carrying Stage',\n",
       " 'Liquid Stage',\n",
       " 'tanks',\n",
       " 'engines',\n",
       " 'Solid Stage',\n",
       " 'boosters']"
      ]
     },
     "execution_count": 77,
     "metadata": {},
     "output_type": "execute_result"
    }
   ],
   "source": [
    "[get_name_by_id(node) for node in NX.topological_sort(part_featuring_graph.reverse())]"
   ]
  },
  {
   "cell_type": "code",
   "execution_count": 78,
   "id": "based-choice",
   "metadata": {},
   "outputs": [],
   "source": [
    "sorted_feature_groups = []"
   ]
  },
  {
   "cell_type": "code",
   "execution_count": 79,
   "id": "resistant-guarantee",
   "metadata": {},
   "outputs": [
    {
     "name": "stdout",
     "output_type": "stream",
     "text": [
      "['Solid Stage', 'boosters']\n",
      "['Liquid Stage', 'tanks', 'engines']\n",
      "['Rocket', 'stages', 'Coupler to Carrying Stage']\n"
     ]
    }
   ],
   "source": [
    "for comp in NX.connected_components(part_featuring_graph.to_undirected()):\n",
    "    connected_sub = NX.subgraph(part_featuring_graph, list(comp))\n",
    "    sorted_feature_groups.append(\n",
    "        [node for node in NX.topological_sort(connected_sub.reverse())]\n",
    "    )\n",
    "    print([get_name_by_id(node) for node in NX.topological_sort(connected_sub.reverse())])"
   ]
  },
  {
   "cell_type": "code",
   "execution_count": 80,
   "id": "capital-premises",
   "metadata": {},
   "outputs": [
    {
     "data": {
      "text/plain": [
       "[['801c0f02-bc4a-431c-8efe-fad12cdc3ade',\n",
       "  '06a1824e-0f31-4aa7-8a61-4f2ae6c10c44'],\n",
       " ['818ff052-7c79-41f0-8bd5-aafb521f9f3f',\n",
       "  'a8a926c9-88a9-4937-a08f-ef6fab605b01',\n",
       "  '94b08c23-2e8d-480a-a777-1b652ca83d8b'],\n",
       " ['2f659ef6-2b50-4919-832b-a7889cb2e8ed',\n",
       "  '2159c437-6932-4d65-982f-483e7f4c9bc4',\n",
       "  '4f7a2ae1-063c-4c20-b8f3-749100a5dff7']]"
      ]
     },
     "execution_count": 80,
     "metadata": {},
     "output_type": "execute_result"
    }
   ],
   "source": [
    "sorted_feature_groups"
   ]
  },
  {
   "cell_type": "code",
   "execution_count": 81,
   "id": "capital-mortgage",
   "metadata": {},
   "outputs": [],
   "source": [
    "for classifier_instance_dict in classifier_instance_dicts:\n",
    "\n",
    "    for part_tree_root in part_roots:\n",
    "        root_name = get_name_by_id(part_tree_root['@id'])\n",
    "        if root_name not in classifier_instance_dict:\n",
    "            classifier_instance_dict.update({root_name: Instance(root_name, 1)})"
   ]
  },
  {
   "cell_type": "markdown",
   "id": "legal-choir",
   "metadata": {},
   "source": [
    "The topological sort on the graph of feature membership determines the order in which to build up sets of instances for features."
   ]
  },
  {
   "cell_type": "code",
   "execution_count": 82,
   "id": "adverse-continuity",
   "metadata": {},
   "outputs": [],
   "source": [
    "feature_sequence_dictionaries = []\n",
    "\n",
    "for step in range(0, no_alts_to_create):\n",
    "    \n",
    "    classifier_instance_dict = classifier_instance_dicts[step]\n",
    "    \n",
    "    feature_sequence_dictionary = {}\n",
    "    covered_draw_dict = {}\n",
    "    \n",
    "    for sorting in sorted_feature_groups:\n",
    "        for indx, node in enumerate(sorting):\n",
    "            if indx > 0:\n",
    "                new_dict = {}\n",
    "                # get current parent from the graph\n",
    "                for pred in part_featuring_graph.successors(node):\n",
    "                    current_parent = pred\n",
    "                    #print(get_name_by_id(current_parent))\n",
    "\n",
    "                sequence_of_sequences = []\n",
    "\n",
    "                for sequence in feature_sequence_dictionary[current_parent]:\n",
    "\n",
    "                    test_mult = random.randint(\n",
    "                        feature_lower_multiplicity(id_memo_dict[node]),\n",
    "                        feature_upper_multiplicity(id_memo_dict[node])\n",
    "                    )\n",
    "\n",
    "                    for ind_j in range(0, test_mult):\n",
    "                        new_sequence = copy.deepcopy(sequence)\n",
    "                        # find the type of the current feature node\n",
    "                        node_type = get_feature_type_name(id_memo_dict[node])\n",
    "\n",
    "                        need_draw = True\n",
    "                        \n",
    "                        safety_count = 0\n",
    "\n",
    "                        while(need_draw and safety_count < 100):\n",
    "\n",
    "                            draw = random.randint(\n",
    "                                0,\n",
    "                                corrected_multiplicity_dict[node_type] - 1\n",
    "                            )\n",
    "                            #print(classifier_instance_dict[node_type][draw])\n",
    "\n",
    "                            if node_type in covered_draw_dict:\n",
    "                                if classifier_instance_dict[node_type][draw] in covered_draw_dict[node_type]:\n",
    "                                    pass\n",
    "                                    #need_draw = False\n",
    "                                else:\n",
    "                                    covered_draw_dict[node_type].append(classifier_instance_dict[node_type][draw])\n",
    "                                    need_draw = False\n",
    "                            else:\n",
    "                                covered_draw_dict.update({node_type : [classifier_instance_dict[node_type][draw]]})\n",
    "                                need_draw = False\n",
    "\n",
    "                            safety_count = safety_count + 1\n",
    "                            if safety_count == 99:\n",
    "                                print('Safety count hit when trying to place ' + \n",
    "                                      str(classifier_instance_dict[node_type][draw]) + ' under ' +\n",
    "                                     str(new_sequence))\n",
    "                                print('Covered dict is ' + str(covered_draw_dict[node_type]))\n",
    "                        \n",
    "                        new_sequence.append(classifier_instance_dict[node_type][draw])\n",
    "\n",
    "                        sequence_of_sequences.append(new_sequence)\n",
    "\n",
    "                feature_sequence_dictionary.update({node: sequence_of_sequences})\n",
    "\n",
    "            elif indx == 0:\n",
    "                if isinstance(classifier_instance_dict[get_name_by_id(node)], list):\n",
    "                    starter_list = []\n",
    "                    for item in classifier_instance_dict[get_name_by_id(node)]:\n",
    "                        starter_list.append([item])\n",
    "                    # handle case where main type has more than one instance\n",
    "                    feature_sequence_dictionary.update({node: starter_list})\n",
    "                    #print(starter_list)\n",
    "                    if len(starter_list) == 0:\n",
    "                        break\n",
    "                else:\n",
    "                    feature_sequence_dictionary.update({node: [[classifier_instance_dict[get_name_by_id(node)]]]})\n",
    "            \n",
    "    feature_sequence_dictionaries.append(feature_sequence_dictionary)"
   ]
  },
  {
   "cell_type": "code",
   "execution_count": 83,
   "id": "swedish-radius",
   "metadata": {},
   "outputs": [
    {
     "name": "stdout",
     "output_type": "stream",
     "text": [
      "Solution #0\n",
      "Solid Stage, id 801c0f02-bc4a-431c-8efe-fad12cdc3ade\n",
      "[SS#1]\n",
      "[SS#2]\n",
      "[SS#3]\n",
      "boosters, id 06a1824e-0f31-4aa7-8a61-4f2ae6c10c44\n",
      "[SS#1, RT-5#11]\n",
      "[SS#1, RT-5#33]\n",
      "[SS#2, RT-5#12]\n",
      "[SS#2, RT-10#5]\n",
      "[SS#2, RT-5#29]\n",
      "[SS#2, RT-5#4]\n",
      "[SS#2, RT-5#10]\n",
      "[SS#2, RT-5#19]\n",
      "[SS#3, RT-5#17]\n",
      "[SS#3, RT-10#3]\n",
      "Liquid Stage, id 818ff052-7c79-41f0-8bd5-aafb521f9f3f\n",
      "[LS#1]\n",
      "[LS#2]\n",
      "tanks, id a8a926c9-88a9-4937-a08f-ef6fab605b01\n",
      "[LS#1, FL-T100#29]\n",
      "[LS#1, FL-T100#20]\n",
      "[LS#1, FL-T100#43]\n",
      "[LS#1, FL-T100#10]\n",
      "[LS#1, FL-T100#8]\n",
      "[LS#1, FL-T200#71]\n",
      "[LS#1, FL-T100#38]\n",
      "[LS#1, FL-T200#47]\n",
      "[LS#1, FL-T200#90]\n",
      "[LS#1, FL-T100#40]\n",
      "[LS#1, FL-T200#38]\n",
      "[LS#1, FL-T200#76]\n",
      "[LS#1, FL-T200#10]\n",
      "[LS#1, FL-T100#1]\n",
      "[LS#1, FL-T200#99]\n",
      "[LS#1, FL-T200#94]\n",
      "[LS#1, FL-T200#8]\n",
      "[LS#1, FL-T200#100]\n",
      "[LS#1, FL-T100#30]\n",
      "[LS#1, FL-T200#14]\n",
      "[LS#1, FL-T100#9]\n",
      "[LS#1, FL-T200#2]\n",
      "[LS#1, FL-T200#17]\n",
      "[LS#1, FL-T200#59]\n",
      "[LS#2, FL-T100#12]\n",
      "[LS#2, FL-T200#65]\n",
      "[LS#2, FL-T200#103]\n",
      "[LS#2, FL-T100#17]\n",
      "[LS#2, FL-T100#31]\n",
      "[LS#2, FL-T200#70]\n",
      "[LS#2, FL-T200#78]\n",
      "[LS#2, FL-T100#25]\n",
      "[LS#2, FL-T100#41]\n",
      "[LS#2, FL-T200#1]\n",
      "[LS#2, FL-T200#85]\n",
      "[LS#2, FL-T200#64]\n",
      "[LS#2, FL-T100#3]\n",
      "[LS#2, FL-T200#39]\n",
      "[LS#2, FL-T200#69]\n",
      "[LS#2, FL-T100#44]\n",
      "[LS#2, FL-T100#5]\n",
      "[LS#2, FL-T100#16]\n",
      "[LS#2, FL-T200#6]\n",
      "[LS#2, FL-T200#15]\n",
      "[LS#2, FL-T100#6]\n",
      "[LS#2, FL-T100#11]\n",
      "[LS#2, FL-T100#7]\n",
      "[LS#2, FL-T200#4]\n",
      "engines, id 94b08c23-2e8d-480a-a777-1b652ca83d8b\n",
      "[LS#1, LV-T45#23]\n",
      "[LS#1, LV-T45#13]\n",
      "[LS#1, LV-T45#32]\n",
      "[LS#1, LV-T45#14]\n",
      "[LS#1, LV-T45#29]\n",
      "[LS#2, LV-T45#17]\n",
      "[LS#2, LV-T45#36]\n",
      "Rocket, id 2f659ef6-2b50-4919-832b-a7889cb2e8ed\n",
      "[Rocket#1]\n",
      "stages, id 2159c437-6932-4d65-982f-483e7f4c9bc4\n",
      "[Rocket#1, SS#1]\n",
      "[Rocket#1, SS#3]\n",
      "[Rocket#1, LS#2]\n",
      "Coupler to Carrying Stage, id 4f7a2ae1-063c-4c20-b8f3-749100a5dff7\n",
      "[Rocket#1, SS#1, Coupler#18]\n",
      "[Rocket#1, SS#1, Coupler#30]\n",
      "[Rocket#1, SS#1, Coupler#19]\n",
      "[Rocket#1, SS#3, Coupler#28]\n",
      "[Rocket#1, SS#3, Coupler#20]\n",
      "[Rocket#1, SS#3, Coupler#38]\n",
      "[Rocket#1, SS#3, Coupler#8]\n",
      "[Rocket#1, SS#3, Coupler#33]\n",
      "[Rocket#1, LS#2, Coupler#5]\n",
      "[Rocket#1, LS#2, Coupler#7]\n",
      "[Rocket#1, LS#2, Coupler#9]\n",
      "[Rocket#1, LS#2, Coupler#27]\n",
      "Solution #1\n",
      "Solid Stage, id 801c0f02-bc4a-431c-8efe-fad12cdc3ade\n",
      "[SS#1]\n",
      "boosters, id 06a1824e-0f31-4aa7-8a61-4f2ae6c10c44\n",
      "Liquid Stage, id 818ff052-7c79-41f0-8bd5-aafb521f9f3f\n",
      "[LS#1]\n",
      "[LS#2]\n",
      "[LS#3]\n",
      "[LS#4]\n",
      "tanks, id a8a926c9-88a9-4937-a08f-ef6fab605b01\n",
      "[LS#1, FL-T200#72]\n",
      "[LS#1, FL-T200#64]\n",
      "[LS#1, FL-T200#13]\n",
      "[LS#1, FL-T200#105]\n",
      "[LS#1, FL-T100#15]\n",
      "[LS#1, FL-T200#30]\n",
      "[LS#1, FL-T200#17]\n",
      "[LS#1, FL-T100#26]\n",
      "[LS#1, FL-T200#68]\n",
      "[LS#1, FL-T100#27]\n",
      "[LS#1, FL-T200#89]\n",
      "[LS#1, FL-T100#12]\n",
      "[LS#1, FL-T200#37]\n",
      "[LS#1, FL-T200#39]\n",
      "[LS#1, FL-T100#36]\n",
      "[LS#1, FL-T200#67]\n",
      "[LS#1, FL-T200#90]\n",
      "[LS#1, FL-T200#4]\n",
      "[LS#1, FL-T100#37]\n",
      "[LS#1, FL-T100#4]\n",
      "[LS#1, FL-T100#28]\n",
      "[LS#1, FL-T100#10]\n",
      "[LS#1, FL-T200#34]\n",
      "[LS#1, FL-T100#1]\n",
      "[LS#1, FL-T200#16]\n",
      "[LS#1, FL-T200#82]\n",
      "[LS#2, FL-T200#79]\n",
      "[LS#2, FL-T200#113]\n",
      "[LS#2, FL-T200#12]\n",
      "[LS#2, FL-T200#32]\n",
      "[LS#2, FL-T100#11]\n",
      "[LS#2, FL-T100#13]\n",
      "[LS#2, FL-T200#99]\n",
      "[LS#2, FL-T200#47]\n",
      "[LS#2, FL-T200#35]\n",
      "[LS#2, FL-T200#46]\n",
      "[LS#2, FL-T100#8]\n",
      "[LS#2, FL-T200#20]\n",
      "[LS#2, FL-T200#1]\n",
      "[LS#2, FL-T200#50]\n",
      "[LS#2, FL-T200#49]\n",
      "[LS#2, FL-T100#24]\n",
      "[LS#2, FL-T100#21]\n",
      "[LS#2, FL-T100#23]\n",
      "[LS#2, FL-T200#29]\n",
      "[LS#3, FL-T100#31]\n",
      "[LS#3, FL-T200#53]\n",
      "[LS#3, FL-T200#10]\n",
      "[LS#3, FL-T200#112]\n",
      "[LS#3, FL-T100#14]\n",
      "[LS#3, FL-T200#70]\n",
      "[LS#3, FL-T100#25]\n",
      "[LS#3, FL-T200#102]\n",
      "[LS#3, FL-T200#80]\n",
      "[LS#3, FL-T200#84]\n",
      "[LS#3, FL-T100#33]\n",
      "[LS#3, FL-T200#104]\n",
      "[LS#3, FL-T200#97]\n",
      "[LS#3, FL-T200#31]\n",
      "[LS#3, FL-T200#22]\n",
      "[LS#3, FL-T200#23]\n",
      "[LS#3, FL-T200#78]\n",
      "[LS#3, FL-T200#74]\n",
      "[LS#3, FL-T200#44]\n",
      "[LS#3, FL-T200#98]\n",
      "[LS#4, FL-T200#52]\n",
      "[LS#4, FL-T200#88]\n",
      "[LS#4, FL-T200#14]\n",
      "[LS#4, FL-T200#61]\n",
      "[LS#4, FL-T200#9]\n",
      "[LS#4, FL-T200#6]\n",
      "[LS#4, FL-T200#33]\n",
      "[LS#4, FL-T200#110]\n",
      "[LS#4, FL-T100#20]\n",
      "[LS#4, FL-T200#108]\n",
      "[LS#4, FL-T200#51]\n",
      "[LS#4, FL-T100#35]\n",
      "[LS#4, FL-T200#66]\n",
      "[LS#4, FL-T200#95]\n",
      "[LS#4, FL-T200#65]\n",
      "[LS#4, FL-T200#63]\n",
      "[LS#4, FL-T100#7]\n",
      "[LS#4, FL-T200#40]\n",
      "[LS#4, FL-T200#86]\n",
      "[LS#4, FL-T100#19]\n",
      "[LS#4, FL-T200#96]\n",
      "[LS#4, FL-T200#7]\n",
      "[LS#4, FL-T200#5]\n",
      "[LS#4, FL-T200#25]\n",
      "[LS#4, FL-T200#36]\n",
      "[LS#4, FL-T200#27]\n",
      "[LS#4, FL-T200#81]\n",
      "engines, id 94b08c23-2e8d-480a-a777-1b652ca83d8b\n",
      "[LS#1, LV-T45#23]\n",
      "[LS#1, LV-T45#25]\n",
      "[LS#1, LV-T45#16]\n",
      "[LS#1, LV-T45#8]\n",
      "[LS#1, LV-T45#6]\n",
      "[LS#1, LV-T45#15]\n",
      "[LS#1, LV-T45#17]\n",
      "[LS#2, LV-T45#4]\n",
      "[LS#2, LV-T45#12]\n",
      "[LS#2, LV-T45#30]\n",
      "[LS#2, LV-T45#26]\n",
      "[LS#2, LV-T45#40]\n",
      "[LS#2, LV-T45#28]\n",
      "[LS#3, LV-T45#2]\n",
      "[LS#3, LV-T45#22]\n",
      "[LS#3, LV-T45#38]\n",
      "[LS#3, LV-T45#39]\n",
      "[LS#3, LV-T45#9]\n",
      "[LS#3, LV-T45#5]\n",
      "[LS#3, LV-T45#10]\n",
      "[LS#4, LV-T45#18]\n",
      "[LS#4, LV-T45#33]\n",
      "[LS#4, LV-T45#36]\n",
      "[LS#4, LV-T45#24]\n",
      "[LS#4, LV-T45#29]\n",
      "Rocket, id 2f659ef6-2b50-4919-832b-a7889cb2e8ed\n",
      "[Rocket#1]\n",
      "stages, id 2159c437-6932-4d65-982f-483e7f4c9bc4\n",
      "[Rocket#1, LS#4]\n",
      "Coupler to Carrying Stage, id 4f7a2ae1-063c-4c20-b8f3-749100a5dff7\n",
      "Solution #2\n",
      "Solid Stage, id 801c0f02-bc4a-431c-8efe-fad12cdc3ade\n",
      "[SS#1]\n",
      "[SS#2]\n",
      "[SS#3]\n",
      "boosters, id 06a1824e-0f31-4aa7-8a61-4f2ae6c10c44\n",
      "[SS#1, RT-5#29]\n",
      "[SS#1, RT-5#19]\n",
      "[SS#1, RT-10#6]\n",
      "[SS#1, RT-5#17]\n",
      "[SS#1, RT-5#11]\n",
      "[SS#1, RT-5#20]\n",
      "[SS#1, RT-5#27]\n",
      "[SS#2, RT-5#25]\n",
      "[SS#2, RT-5#18]\n",
      "[SS#2, RT-5#1]\n",
      "[SS#2, RT-5#13]\n",
      "[SS#2, RT-10#1]\n",
      "[SS#2, RT-5#3]\n",
      "[SS#2, RT-5#21]\n",
      "[SS#3, RT-5#12]\n",
      "[SS#3, RT-10#3]\n",
      "[SS#3, RT-5#30]\n",
      "[SS#3, RT-5#8]\n",
      "[SS#3, RT-5#28]\n",
      "[SS#3, RT-10#5]\n",
      "Liquid Stage, id 818ff052-7c79-41f0-8bd5-aafb521f9f3f\n",
      "[LS#1]\n",
      "[LS#2]\n",
      "tanks, id a8a926c9-88a9-4937-a08f-ef6fab605b01\n",
      "[LS#1, FL-T100#83]\n",
      "[LS#1, FL-T100#45]\n",
      "[LS#1, FL-T100#54]\n",
      "[LS#1, FL-T100#121]\n",
      "[LS#1, FL-T100#145]\n",
      "[LS#1, FL-T100#40]\n",
      "[LS#1, FL-T100#71]\n",
      "[LS#1, FL-T100#62]\n",
      "[LS#1, FL-T100#124]\n",
      "[LS#1, FL-T100#26]\n",
      "[LS#1, FL-T100#85]\n",
      "[LS#1, FL-T100#99]\n",
      "[LS#1, FL-T100#106]\n",
      "[LS#2, FL-T100#146]\n",
      "[LS#2, FL-T100#130]\n",
      "[LS#2, FL-T100#38]\n",
      "[LS#2, FL-T100#113]\n",
      "[LS#2, FL-T100#29]\n",
      "[LS#2, FL-T100#22]\n",
      "[LS#2, FL-T100#148]\n",
      "[LS#2, FL-T100#57]\n",
      "[LS#2, FL-T100#100]\n",
      "engines, id 94b08c23-2e8d-480a-a777-1b652ca83d8b\n",
      "[LS#1, LV-T45#38]\n",
      "[LS#2, LV-T45#14]\n",
      "[LS#2, LV-T45#23]\n",
      "[LS#2, LV-T45#21]\n",
      "Rocket, id 2f659ef6-2b50-4919-832b-a7889cb2e8ed\n",
      "[Rocket#1]\n",
      "stages, id 2159c437-6932-4d65-982f-483e7f4c9bc4\n",
      "[Rocket#1, LS#2]\n",
      "[Rocket#1, LS#1]\n",
      "Coupler to Carrying Stage, id 4f7a2ae1-063c-4c20-b8f3-749100a5dff7\n",
      "[Rocket#1, LS#2, Coupler#13]\n",
      "[Rocket#1, LS#2, Coupler#10]\n",
      "[Rocket#1, LS#2, Coupler#40]\n",
      "[Rocket#1, LS#2, Coupler#14]\n",
      "[Rocket#1, LS#2, Coupler#28]\n",
      "[Rocket#1, LS#2, Coupler#24]\n",
      "[Rocket#1, LS#2, Coupler#25]\n",
      "[Rocket#1, LS#2, Coupler#23]\n",
      "[Rocket#1, LS#1, Coupler#27]\n",
      "[Rocket#1, LS#1, Coupler#35]\n"
     ]
    }
   ],
   "source": [
    "for indx, feature_sequence_dictionary in enumerate(feature_sequence_dictionaries):\n",
    "    if indx < 3:\n",
    "        print(\"Solution #\" + str(indx))\n",
    "        for key in feature_sequence_dictionary:\n",
    "            print(get_name_by_id(key) + ', id ' + key)\n",
    "            for seq in feature_sequence_dictionary[key]:\n",
    "                print(str(seq))"
   ]
  },
  {
   "cell_type": "markdown",
   "id": "confirmed-commonwealth",
   "metadata": {},
   "source": [
    "One more step here is to backfill the more general collections of type with what has been developed above. To make it easier to visualize, repeat the superclassing graph from before. The only thing to add is the base library kinds."
   ]
  },
  {
   "cell_type": "code",
   "execution_count": 84,
   "id": "unique-colon",
   "metadata": {},
   "outputs": [
    {
     "data": {
      "text/plain": [
       "['4082f336-ca78-4343-9776-303de7db3498',\n",
       " 'ef7a2c36-7e2d-447a-8b32-0d4398379e46']"
      ]
     },
     "execution_count": 84,
     "metadata": {},
     "output_type": "execute_result"
    }
   ],
   "source": [
    "class_roots = [node for node in superclassing_graph.nodes if superclassing_graph.out_degree(node) == 0]\n",
    "class_roots"
   ]
  },
  {
   "cell_type": "markdown",
   "id": "animal-civilization",
   "metadata": {},
   "source": [
    "We want to look at the classifier_instance_dicts in order to see if there are classifiers without entries. If we find missing keys, look to their subsets to fill in."
   ]
  },
  {
   "cell_type": "code",
   "execution_count": 85,
   "id": "saving-contest",
   "metadata": {},
   "outputs": [
    {
     "name": "stdout",
     "output_type": "stream",
     "text": [
      "['Coupler', 'FL-T200 Fuel Tank', 'FL-T100 Fuel Tank', 'Fuel Tank Section', 'Parachute', 'RT-10 \"Hammer\" Solid Fuel Booster', 'Mk1 Command Pod', 'Pod', 'LV-T45 \"Swivel\" Liquid Fuel Engine', 'Liquid Engine', 'RT-5 \"Flea\" Solid Fuel Booster', 'Solid Booster', 'Kerbal Rocket Part']\n",
      "['Solid Stage', 'Liquid Stage', 'Rocket Stage']\n"
     ]
    }
   ],
   "source": [
    "sorted_class_groups = []\n",
    "\n",
    "for comp in NX.connected_components(superclassing_graph.to_undirected()):\n",
    "    component_list = []\n",
    "    connected_sub = NX.subgraph(superclassing_graph, list(comp))\n",
    "    sorted_class_groups.append(\n",
    "        [node for node in NX.topological_sort(connected_sub)]\n",
    "    )\n",
    "    print([get_name_by_id(node) for node in NX.topological_sort(connected_sub)])"
   ]
  },
  {
   "cell_type": "code",
   "execution_count": 86,
   "id": "motivated-store",
   "metadata": {},
   "outputs": [],
   "source": [
    "founds = []\n",
    "for sorted_group in sorted_class_groups:\n",
    "    for sorted_thing in sorted_group:\n",
    "        if get_name_by_id(sorted_thing) in classifier_instance_dicts[0]:\n",
    "            founds.append(sorted_thing)"
   ]
  },
  {
   "cell_type": "code",
   "execution_count": 87,
   "id": "athletic-checkout",
   "metadata": {},
   "outputs": [],
   "source": [
    "for classifier_instance_dict in classifier_instance_dicts:\n",
    "    for found in founds:\n",
    "        my_group = []\n",
    "        for sorted_group in sorted_class_groups:\n",
    "            for thing in sorted_group:\n",
    "                if thing == found:\n",
    "                    my_group = sorted_group\n",
    "                    break\n",
    "        for item in my_group:\n",
    "            if not item in founds:\n",
    "                try:\n",
    "                    super_path = NX.shortest_path(superclassing_graph, found, item)\n",
    "                    #print ('Found path from ' + get_name_by_id(found) + ' to ' + get_name_by_id(item))\n",
    "                    if get_name_by_id(item) not in classifier_instance_dict:\n",
    "                        classifier_instance_dict.update({get_name_by_id(item): \n",
    "                                                        copy.deepcopy(classifier_instance_dict[get_name_by_id(found)])})\n",
    "                    else:\n",
    "                        for individual in classifier_instance_dict[get_name_by_id(found)]:\n",
    "                            if individual not in classifier_instance_dict[get_name_by_id(item)]:\n",
    "                                classifier_instance_dict[get_name_by_id(item)].append(individual)\n",
    "                            #classifier_instance_dict[get_name_by_id(item)].extend(classifier_instance_dict[get_name_by_id(found)])\n",
    "                except NX.NetworkXNoPath:\n",
    "                    pass"
   ]
  },
  {
   "cell_type": "code",
   "execution_count": 89,
   "id": "broke-combine",
   "metadata": {},
   "outputs": [
    {
     "data": {
      "image/png": "[encoded data removed]",
      "text/plain": [
       "<Figure size 432x288 with 1 Axes>"
      ]
     },
     "metadata": {},
     "output_type": "display_data"
    }
   ],
   "source": [
    "NX.draw_planar(superclassing_graph, labels=superclassing_graph_labels)"
   ]
  },
  {
   "cell_type": "markdown",
   "id": "economic-overall",
   "metadata": {},
   "source": [
    "# Analyze and Explore Resulting Space\n",
    "\n",
    "Now that the alternatives have been generated, we can explore the population"
   ]
  },
  {
   "cell_type": "code",
   "execution_count": 90,
   "id": "plastic-indianapolis",
   "metadata": {},
   "outputs": [
    {
     "data": {
      "text/plain": [
       "[['RT-5 \"Flea\" Solid Fuel Booster', '52658dcc-be17-4be2-8960-25ec8f849691'],\n",
       " ['Solid Stage', '801c0f02-bc4a-431c-8efe-fad12cdc3ade'],\n",
       " ['LV-T45 \"Swivel\" Liquid Fuel Engine',\n",
       "  'a3e93cd6-6d40-434f-a2ba-cb917ac86f98'],\n",
       " ['Mk1 Command Pod', '7c82d8d4-aa60-48b8-835a-73f5037e3cfd'],\n",
       " ['RT-10 \"Hammer\" Solid Fuel Booster', 'c06afa59-6573-4399-a95d-5ba5f50c7b5e'],\n",
       " ['Parachute', '97e92fbc-ca59-49f5-9fab-c18161814244'],\n",
       " ['FL-T100 Fuel Tank', '5ebaec8a-e022-4564-9a30-5c73ad2f6288'],\n",
       " ['Liquid Stage', '818ff052-7c79-41f0-8bd5-aafb521f9f3f'],\n",
       " ['FL-T200 Fuel Tank', '5c999b9b-2af7-4d4c-b506-477d3f9e0714'],\n",
       " ['Coupler', '8d7a54a4-dbc8-4204-accb-bafadb48896e']]"
      ]
     },
     "execution_count": 90,
     "metadata": {},
     "output_type": "execute_result"
    }
   ],
   "source": [
    "[[get_name_by_id(node), node] for node in subclassing_graph.nodes if subclassing_graph.out_degree(node) == 0]"
   ]
  },
  {
   "cell_type": "markdown",
   "id": "superior-beads",
   "metadata": {},
   "source": [
    "## Gather AttributeUsages and literal values\n",
    "\n",
    "Find all the attribute usages so we can navigate to them from our parts library."
   ]
  },
  {
   "cell_type": "markdown",
   "id": "underlying-slovakia",
   "metadata": {},
   "source": [
    "TODO: Look at using FeatureValue relationships for this"
   ]
  },
  {
   "cell_type": "code",
   "execution_count": 91,
   "id": "catholic-birmingham",
   "metadata": {},
   "outputs": [],
   "source": [
    "def get_att_literal_values(att_use):\n",
    "    literal_values = []\n",
    "    for att_member in att_use['ownedMember']:\n",
    "        if att_member['@id'] in id_memo_dict:\n",
    "            if id_memo_dict[att_member['@id']]['@type'] == 'LiteralReal':\n",
    "                literal_values.append(id_memo_dict[att_member['@id']])\n",
    "                \n",
    "    return literal_values"
   ]
  },
  {
   "cell_type": "code",
   "execution_count": 92,
   "id": "changing-bedroom",
   "metadata": {},
   "outputs": [],
   "source": [
    "att_uses = [att_use for att_use in non_relations if att_use['@type'] == 'AttributeUsage']\n",
    "for att_use in att_uses:\n",
    "    id_memo_dict.update({att_use['@id']: att_use})"
   ]
  },
  {
   "cell_type": "markdown",
   "id": "static-ratio",
   "metadata": {},
   "source": [
    "Get literal reals to connect to attributes."
   ]
  },
  {
   "cell_type": "code",
   "execution_count": 93,
   "id": "ideal-alert",
   "metadata": {},
   "outputs": [],
   "source": [
    "reals = [real for real in non_relations if real['@type'] == 'LiteralReal']\n",
    "for real in reals:\n",
    "    id_memo_dict.update({real['@id']: real})"
   ]
  },
  {
   "cell_type": "markdown",
   "id": "cheap-teach",
   "metadata": {},
   "source": [
    "Create objects to hold different values per instance."
   ]
  },
  {
   "cell_type": "code",
   "execution_count": 94,
   "id": "honest-bicycle",
   "metadata": {},
   "outputs": [],
   "source": [
    "class ValueHolder():\n",
    "    \n",
    "    def __init__(self, path, name, value):\n",
    "        # path is list of instance references\n",
    "        self.holder_string = ''\n",
    "        for indx, step in enumerate(path):\n",
    "            if indx == 0:\n",
    "                self.holder_string = str(step)\n",
    "            else:\n",
    "                self.holder_string = self.holder_string + '.' + str(step)\n",
    "        self.holder_string = self.holder_string + '.' + name\n",
    "        self.value = value\n",
    "    \n",
    "    def __repr__(self):\n",
    "        if self.value is not None:\n",
    "            return self.holder_string + ' (' + str(self.value) + ')'\n",
    "        else:\n",
    "            return self.holder_string + ' (unset)'"
   ]
  },
  {
   "cell_type": "markdown",
   "id": "industrial-seafood",
   "metadata": {},
   "source": [
    "Get expressions attached to attributes as values."
   ]
  },
  {
   "cell_type": "code",
   "execution_count": 95,
   "id": "drawn-showcase",
   "metadata": {},
   "outputs": [],
   "source": [
    "found_ele = [found for found in non_relations if found['@id'] == 'ced4f691-07ff-45dd-a2cd-687bc3bb8942']"
   ]
  },
  {
   "cell_type": "code",
   "execution_count": 96,
   "id": "olympic-architect",
   "metadata": {},
   "outputs": [
    {
     "name": "stdout",
     "output_type": "stream",
     "text": [
      "Specific Impulse of RT-5 \"Flea\" Solid Fuel Booster = 140.0\n",
      "Empty Mass of FL-T100 Fuel Tank = 0.0625\n",
      "Full Mass of RT-10 \"Hammer\" Solid Fuel Booster = 3.56\n",
      "Empty Mass of RT-10 \"Hammer\" Solid Fuel Booster = 0.75\n",
      "Thrust of RT-5 \"Flea\" Solid Fuel Booster = 162.91\n",
      "Specific Impulse of LV-T45 \"Swivel\" Liquid Fuel Engine = 170.0\n",
      "Full Mass of FL-T200 Fuel Tank = 1.125\n",
      "Full Mass of FL-T100 Fuel Tank = 0.5625\n",
      "Empty Mass of FL-T200 Fuel Tank = 0.125\n",
      "Thrust of RT-10 \"Hammer\" Solid Fuel Booster = 197.9\n",
      "Thrust of LV-T45 \"Swivel\" Liquid Fuel Engine = 167.97\n",
      "Specific Impulse of RT-10 \"Hammer\" Solid Fuel Booster = 170.0\n",
      "Empty Mass of RT-5 \"Flea\" Solid Fuel Booster = 0.45\n",
      "Full Mass of RT-5 \"Flea\" Solid Fuel Booster = 1.5\n"
     ]
    }
   ],
   "source": [
    "type_values = {}\n",
    "\n",
    "for att_use in att_uses:\n",
    "    if len(att_use['ownedMember']) > 0:\n",
    "        typ = id_memo_dict[att_use['owningType']['@id']]\n",
    "        for att_member in att_use['ownedMember']:\n",
    "            for value in get_att_literal_values(att_use):\n",
    "                print (att_use['name'] + ' of ' + typ['name'] + ' = ' + str(value['value']))\n",
    "                if att_use['name'] in type_values:\n",
    "                    type_values[att_use['name']].update({typ['name']: value['value']})\n",
    "                else:\n",
    "                    type_values.update({att_use['name']: {typ['name']: value['value']}})"
   ]
  },
  {
   "cell_type": "code",
   "execution_count": 97,
   "id": "reduced-surface",
   "metadata": {},
   "outputs": [
    {
     "data": {
      "text/plain": [
       "{'Specific Impulse': {'RT-5 \"Flea\" Solid Fuel Booster': 140.0,\n",
       "  'LV-T45 \"Swivel\" Liquid Fuel Engine': 170.0,\n",
       "  'RT-10 \"Hammer\" Solid Fuel Booster': 170.0},\n",
       " 'Empty Mass': {'FL-T100 Fuel Tank': 0.0625,\n",
       "  'RT-10 \"Hammer\" Solid Fuel Booster': 0.75,\n",
       "  'FL-T200 Fuel Tank': 0.125,\n",
       "  'RT-5 \"Flea\" Solid Fuel Booster': 0.45},\n",
       " 'Full Mass': {'RT-10 \"Hammer\" Solid Fuel Booster': 3.56,\n",
       "  'FL-T200 Fuel Tank': 1.125,\n",
       "  'FL-T100 Fuel Tank': 0.5625,\n",
       "  'RT-5 \"Flea\" Solid Fuel Booster': 1.5},\n",
       " 'Thrust': {'RT-5 \"Flea\" Solid Fuel Booster': 162.91,\n",
       "  'RT-10 \"Hammer\" Solid Fuel Booster': 197.9,\n",
       "  'LV-T45 \"Swivel\" Liquid Fuel Engine': 167.97}}"
      ]
     },
     "execution_count": 97,
     "metadata": {},
     "output_type": "execute_result"
    }
   ],
   "source": [
    "type_values"
   ]
  },
  {
   "cell_type": "markdown",
   "id": "improved-request",
   "metadata": {},
   "source": [
    "- [ ] TODO: Factor the above as sequences of instances rather than going back to the type"
   ]
  },
  {
   "cell_type": "markdown",
   "id": "worst-agenda",
   "metadata": {},
   "source": [
    "## Create Attribute Sequences\n",
    "\n",
    "Add attributes to the sequences for parts, and where there are values, add those to the sequence also."
   ]
  },
  {
   "cell_type": "code",
   "execution_count": 98,
   "id": "ranking-crash",
   "metadata": {},
   "outputs": [],
   "source": [
    "attribute_member_value_graph = NX.DiGraph()\n",
    "\n",
    "for att in att_uses:\n",
    "    if att['@id'] in id_memo_dict:\n",
    "        if id_memo_dict[att['@id']]['@type'] == 'AttributeUsage':\n",
    "            attribute_member_value_graph.add_edge(att['@id'], att['owningType']['@id'])\n",
    "            for value in get_att_literal_values(att):\n",
    "                attribute_member_value_graph.add_edge(value['@id'], att['@id'])"
   ]
  },
  {
   "cell_type": "code",
   "execution_count": 99,
   "id": "unavailable-yield",
   "metadata": {},
   "outputs": [
    {
     "data": {
      "image/png": "[encoded data removed]",
      "text/plain": [
       "<Figure size 432x288 with 1 Axes>"
      ]
     },
     "metadata": {},
     "output_type": "display_data"
    }
   ],
   "source": [
    "attribute_member_value_graph_labels = {}\n",
    "for node in attribute_member_value_graph.nodes():\n",
    "    if id_memo_dict[node]['@type'] == 'AttributeUsage':\n",
    "        attribute_member_value_graph_labels.update({node: get_name_by_id(node)})\n",
    "    elif id_memo_dict[node]['@type'] == 'LiteralReal':\n",
    "        attribute_member_value_graph_labels.update({node: id_memo_dict[node]['value']})\n",
    "    \n",
    "NX.draw_spring(attribute_member_value_graph, labels=attribute_member_value_graph_labels)"
   ]
  },
  {
   "cell_type": "markdown",
   "id": "forced-trigger",
   "metadata": {},
   "source": [
    "### Match Attributes to Classifier types\n",
    "\n",
    "Where the owningType of the Attribute usage is a classifier, use it as the base of the sequence."
   ]
  },
  {
   "cell_type": "code",
   "execution_count": 100,
   "id": "structured-settle",
   "metadata": {},
   "outputs": [
    {
     "data": {
      "text/plain": [
       "dict_keys(['RT-5 \"Flea\" Solid Fuel Booster', 'RT-10 \"Hammer\" Solid Fuel Booster', 'Solid Booster', 'Solid Stage', 'Liquid Stage', 'Rocket Stage', 'Coupler', 'LV-T45 \"Swivel\" Liquid Fuel Engine', 'Liquid Engine', 'FL-T100 Fuel Tank', 'FL-T200 Fuel Tank', 'Fuel Tank Section', 'Rocket', 'Kerbal Rocket Part'])"
      ]
     },
     "execution_count": 100,
     "metadata": {},
     "output_type": "execute_result"
    }
   ],
   "source": [
    "classifier_instance_dicts[0].keys()"
   ]
  },
  {
   "cell_type": "code",
   "execution_count": 116,
   "id": "superb-world",
   "metadata": {},
   "outputs": [],
   "source": [
    "att_value_dicts = []\n",
    "value_holders = []\n",
    "\n",
    "for classifier_instance_dict in classifier_instance_dicts:\n",
    "\n",
    "    att_value_dict = {}\n",
    "\n",
    "    for att in att_uses:\n",
    "        new_sequences = []\n",
    "        att_owning_type = id_memo_dict[att['owningType']['@id']]\n",
    "        if att_owning_type['@type'] == 'PartDefinition':\n",
    "            if att_owning_type['name'] in classifier_instance_dict:\n",
    "                for instance in classifier_instance_dict[att_owning_type['name']]:\n",
    "                    new_sequence = []\n",
    "                    new_sequence.append(instance)\n",
    "                    \n",
    "                    #new_sequence.append(att['name'])\n",
    "                    \n",
    "                    for value in get_att_literal_values(att):\n",
    "                        #new_sequence.append(value['@id'])\n",
    "                        new_holder = ValueHolder([instance], att['name'], value['value'])\n",
    "                        value_holders.append(new_holder)\n",
    "                        new_sequence.append(new_holder)\n",
    "                        \n",
    "                    if len(get_att_literal_values(att)) == 0:\n",
    "                        new_holder = ValueHolder([instance], att['name'], None)\n",
    "                        new_sequence.append(new_holder)\n",
    "                    new_sequences.append(new_sequence)\n",
    "\n",
    "        att_value_dict.update({att['@id']: new_sequences})\n",
    "        \n",
    "    att_value_dicts.append(att_value_dict)"
   ]
  },
  {
   "cell_type": "code",
   "execution_count": 117,
   "id": "earlier-remove",
   "metadata": {},
   "outputs": [],
   "source": [
    "for indx, feature_sequence_dictionary in enumerate(feature_sequence_dictionaries):\n",
    "    \n",
    "    att_value_dict = att_value_dicts[indx]\n",
    "    \n",
    "    for att in att_uses:\n",
    "        new_sequences = []\n",
    "        att_owning_type = id_memo_dict[att['owningType']['@id']]\n",
    "        if att_owning_type['@type'] == 'PartUsage':\n",
    "            #print('Found attribute ' + att_owning_type['name'])\n",
    "            if att_owning_type['@id'] in feature_sequence_dictionary:\n",
    "                for instance_sequence in feature_sequence_dictionary[att_owning_type['@id']]:\n",
    "                    new_sequence = copy.deepcopy(instance_sequence)\n",
    "                    \n",
    "                    #new_sequence.append(att['name'])\n",
    "                    \n",
    "                    for value in get_att_literal_values(att):\n",
    "                        #new_sequence.append(value['@id'])\n",
    "                        new_holder = ValueHolder(instance_sequence, att['name'], value['value'])\n",
    "                        value_holders.append(new_holder)\n",
    "                        new_sequence.append(new_holder)\n",
    "                        \n",
    "                    if len(get_att_literal_values(att)) == 0:\n",
    "                        new_holder = ValueHolder(instance_sequence, att['name'], None)\n",
    "                        new_sequence.append(new_holder)\n",
    "                    new_sequences.append(new_sequence)\n",
    "\n",
    "            att_value_dict.update({att['@id']: new_sequences})\n",
    "        \n",
    "    att_value_dicts.append(att_value_dict)"
   ]
  },
  {
   "cell_type": "code",
   "execution_count": 118,
   "id": "right-palmer",
   "metadata": {},
   "outputs": [
    {
     "name": "stdout",
     "output_type": "stream",
     "text": [
      "Solution #0\n",
      "Specific Impulse, id 0a02f039-188c-45d7-a57b-6c050b4f0c72\n",
      "[RT-5#1, RT-5#1.Specific Impulse (140.0)]\n",
      "[RT-5#2, RT-5#2.Specific Impulse (140.0)]\n",
      "[RT-5#3, RT-5#3.Specific Impulse (140.0)]\n",
      "[RT-5#4, RT-5#4.Specific Impulse (140.0)]\n",
      "[RT-5#5, RT-5#5.Specific Impulse (140.0)]\n",
      "..\n",
      "Full Mass, id 0e6482f7-aef6-4020-a3e1-a60201b4987d\n",
      "[SS#1, SS#1.Full Mass (unset)]\n",
      "[SS#2, SS#2.Full Mass (unset)]\n",
      "[SS#3, SS#3.Full Mass (unset)]\n",
      "Thrust, id 13d8aa14-64b6-4585-8e38-a84c86331155\n",
      "[LV-T45#1, LV-T45#1.Thrust (unset)]\n",
      "[LV-T45#2, LV-T45#2.Thrust (unset)]\n",
      "[LV-T45#3, LV-T45#3.Thrust (unset)]\n",
      "[LV-T45#4, LV-T45#4.Thrust (unset)]\n",
      "[LV-T45#5, LV-T45#5.Thrust (unset)]\n",
      "..\n",
      "Empty Mass, id 1bf9bcc3-072e-4f30-abb4-11cfdde2be7f\n",
      "[FL-T100#1, FL-T100#1.Empty Mass (0.0625)]\n",
      "[FL-T100#2, FL-T100#2.Empty Mass (0.0625)]\n",
      "[FL-T100#3, FL-T100#3.Empty Mass (0.0625)]\n",
      "[FL-T100#4, FL-T100#4.Empty Mass (0.0625)]\n",
      "[FL-T100#5, FL-T100#5.Empty Mass (0.0625)]\n",
      "..\n",
      "Full Mass, id 1c2f0f0e-8e7c-42b0-92f3-a26ce6b8a64f\n",
      "[RT-10#1, RT-10#1.Full Mass (3.56)]\n",
      "[RT-10#2, RT-10#2.Full Mass (3.56)]\n",
      "[RT-10#3, RT-10#3.Full Mass (3.56)]\n",
      "[RT-10#4, RT-10#4.Full Mass (3.56)]\n",
      "[RT-10#5, RT-10#5.Full Mass (3.56)]\n",
      "Empty Mass, id 266052ce-f277-42fd-8d17-ccb85784f612\n",
      "[RT-10#1, RT-10#1.Empty Mass (0.75)]\n",
      "[RT-10#2, RT-10#2.Empty Mass (0.75)]\n",
      "[RT-10#3, RT-10#3.Empty Mass (0.75)]\n",
      "[RT-10#4, RT-10#4.Empty Mass (0.75)]\n",
      "[RT-10#5, RT-10#5.Empty Mass (0.75)]\n",
      "Thrust, id 26c97aac-66ea-4061-b3ea-75361bd4bc6f\n",
      "[RT-5#1, RT-5#1.Thrust (unset)]\n",
      "[RT-5#2, RT-5#2.Thrust (unset)]\n",
      "[RT-5#3, RT-5#3.Thrust (unset)]\n",
      "[RT-5#4, RT-5#4.Thrust (unset)]\n",
      "[RT-5#5, RT-5#5.Thrust (unset)]\n",
      "..\n",
      "Payload Mass, id 30c93a5d-871d-40af-842b-a653bbbf5056\n",
      "[Rocket#1, SS#1, Rocket#1.SS#1.Payload Mass (unset)]\n",
      "[Rocket#1, SS#3, Rocket#1.SS#3.Payload Mass (unset)]\n",
      "[Rocket#1, LS#2, Rocket#1.LS#2.Payload Mass (unset)]\n",
      "Full Mass, id 30ffe1e4-48b7-422e-a48f-8f5a52791b8e\n",
      "[RT-5#1, RT-5#1.Full Mass (unset)]\n",
      "[RT-5#2, RT-5#2.Full Mass (unset)]\n",
      "[RT-5#3, RT-5#3.Full Mass (unset)]\n",
      "[RT-5#4, RT-5#4.Full Mass (unset)]\n",
      "[RT-5#5, RT-5#5.Full Mass (unset)]\n",
      "..\n",
      "Empty Mass, id 344f1fcb-81cf-4334-8074-1bc41fe8211a\n",
      "[LS#1, LS#1.Empty Mass (unset)]\n",
      "[LS#2, LS#2.Empty Mass (unset)]\n",
      "Loaded Mass, id 3866bc1f-6032-489f-87c0-7621aa33c180\n",
      "[Rocket#1, SS#1, Rocket#1.SS#1.Loaded Mass (unset)]\n",
      "[Rocket#1, SS#3, Rocket#1.SS#3.Loaded Mass (unset)]\n",
      "[Rocket#1, LS#2, Rocket#1.LS#2.Loaded Mass (unset)]\n",
      "Oxidizer, id 3ae253f7-74d4-4635-a787-f6022138df4c\n",
      "[FL-T100#1, FL-T100#1.Oxidizer (unset)]\n",
      "[FL-T100#2, FL-T100#2.Oxidizer (unset)]\n",
      "[FL-T100#3, FL-T100#3.Oxidizer (unset)]\n",
      "[FL-T100#4, FL-T100#4.Oxidizer (unset)]\n",
      "[FL-T100#5, FL-T100#5.Oxidizer (unset)]\n",
      "..\n",
      "Torque, id 3fa3dda7-35c7-4d00-9617-8ac91b50b5fe\n",
      "Empty Mass, id 3fbfb8ad-c995-451a-87a0-9f381087aa51\n",
      "[FL-T100#1, FL-T100#1.Empty Mass (unset)]\n",
      "[FL-T100#2, FL-T100#2.Empty Mass (unset)]\n",
      "[FL-T100#3, FL-T100#3.Empty Mass (unset)]\n",
      "[FL-T100#4, FL-T100#4.Empty Mass (unset)]\n",
      "[FL-T100#5, FL-T100#5.Empty Mass (unset)]\n",
      "..\n",
      "Thrust, id 4675000e-fb56-4fb6-b121-ff23ffc63940\n",
      "[RT-5#1, RT-5#1.Thrust (162.91)]\n",
      "[RT-5#2, RT-5#2.Thrust (162.91)]\n",
      "[RT-5#3, RT-5#3.Thrust (162.91)]\n",
      "[RT-5#4, RT-5#4.Thrust (162.91)]\n",
      "[RT-5#5, RT-5#5.Thrust (162.91)]\n",
      "..\n",
      "Specific Impulse, id 49dabfc2-6dc9-4f82-8a15-797d2c8d0c25\n",
      "[LV-T45#1, LV-T45#1.Specific Impulse (unset)]\n",
      "[LV-T45#2, LV-T45#2.Specific Impulse (unset)]\n",
      "[LV-T45#3, LV-T45#3.Specific Impulse (unset)]\n",
      "[LV-T45#4, LV-T45#4.Specific Impulse (unset)]\n",
      "[LV-T45#5, LV-T45#5.Specific Impulse (unset)]\n",
      "..\n",
      "Specific Impulse, id 565adab3-8804-4616-9f94-39618b5379a4\n",
      "[LV-T45#1, LV-T45#1.Specific Impulse (170.0)]\n",
      "[LV-T45#2, LV-T45#2.Specific Impulse (170.0)]\n",
      "[LV-T45#3, LV-T45#3.Specific Impulse (170.0)]\n",
      "[LV-T45#4, LV-T45#4.Specific Impulse (170.0)]\n",
      "[LV-T45#5, LV-T45#5.Specific Impulse (170.0)]\n",
      "..\n",
      "Empty Mass, id 65cc7964-acdb-4e5e-83ce-5187a917b63a\n",
      "[SS#1, SS#1.Empty Mass (unset)]\n",
      "[SS#2, SS#2.Empty Mass (unset)]\n",
      "[SS#3, SS#3.Empty Mass (unset)]\n",
      "Full Mass, id 6ffc39b9-2bae-4c6b-ba49-53800a57cc74\n",
      "[FL-T200#1, FL-T200#1.Full Mass (1.125)]\n",
      "[FL-T200#2, FL-T200#2.Full Mass (1.125)]\n",
      "[FL-T200#3, FL-T200#3.Full Mass (1.125)]\n",
      "[FL-T200#4, FL-T200#4.Full Mass (1.125)]\n",
      "[FL-T200#5, FL-T200#5.Full Mass (1.125)]\n",
      "..\n",
      "Full Mass, id 746a2a06-bdb8-4e47-b22c-9d460b26bcaa\n",
      "[FL-T100#1, FL-T100#1.Full Mass (0.5625)]\n",
      "[FL-T100#2, FL-T100#2.Full Mass (0.5625)]\n",
      "[FL-T100#3, FL-T100#3.Full Mass (0.5625)]\n",
      "[FL-T100#4, FL-T100#4.Full Mass (0.5625)]\n",
      "[FL-T100#5, FL-T100#5.Full Mass (0.5625)]\n",
      "..\n",
      "Burnout Mass, id 8064fb6e-16f1-4a68-9736-6f2ec56a8737\n",
      "[Rocket#1, SS#1, Rocket#1.SS#1.Burnout Mass (unset)]\n",
      "[Rocket#1, SS#3, Rocket#1.SS#3.Burnout Mass (unset)]\n",
      "[Rocket#1, LS#2, Rocket#1.LS#2.Burnout Mass (unset)]\n",
      "Liquid Fuel, id 8b8ebb06-ade1-4ff0-9b65-db9a22b6510e\n",
      "[FL-T100#1, FL-T100#1.Liquid Fuel (unset)]\n",
      "[FL-T100#2, FL-T100#2.Liquid Fuel (unset)]\n",
      "[FL-T100#3, FL-T100#3.Liquid Fuel (unset)]\n",
      "[FL-T100#4, FL-T100#4.Liquid Fuel (unset)]\n",
      "[FL-T100#5, FL-T100#5.Liquid Fuel (unset)]\n",
      "..\n",
      "Empty Mass, id 8d6c1ece-9b42-46bb-bcf9-c0bba8aff7b2\n",
      "[FL-T200#1, FL-T200#1.Empty Mass (0.125)]\n",
      "[FL-T200#2, FL-T200#2.Empty Mass (0.125)]\n",
      "[FL-T200#3, FL-T200#3.Empty Mass (0.125)]\n",
      "[FL-T200#4, FL-T200#4.Empty Mass (0.125)]\n",
      "[FL-T200#5, FL-T200#5.Empty Mass (0.125)]\n",
      "..\n",
      "Thrust, id 91918ae6-eb47-4d20-b1b1-96983a8f0638\n",
      "[RT-10#1, RT-10#1.Thrust (197.9)]\n",
      "[RT-10#2, RT-10#2.Thrust (197.9)]\n",
      "[RT-10#3, RT-10#3.Thrust (197.9)]\n",
      "[RT-10#4, RT-10#4.Thrust (197.9)]\n",
      "[RT-10#5, RT-10#5.Thrust (197.9)]\n",
      "Specific Impulse, id 9a58909c-2936-4e4a-bead-b9b3056d460d\n",
      "[RT-5#1, RT-5#1.Specific Impulse (unset)]\n",
      "[RT-5#2, RT-5#2.Specific Impulse (unset)]\n",
      "[RT-5#3, RT-5#3.Specific Impulse (unset)]\n",
      "[RT-5#4, RT-5#4.Specific Impulse (unset)]\n",
      "[RT-5#5, RT-5#5.Specific Impulse (unset)]\n",
      "..\n",
      "Separation Force, id ade31b5a-2608-4dc0-8278-3df8edfbcace\n",
      "[Rocket#1, SS#1, Coupler#18, Rocket#1.SS#1.Coupler#18.Separation Force (unset)]\n",
      "[Rocket#1, SS#1, Coupler#30, Rocket#1.SS#1.Coupler#30.Separation Force (unset)]\n",
      "[Rocket#1, SS#1, Coupler#19, Rocket#1.SS#1.Coupler#19.Separation Force (unset)]\n",
      "[Rocket#1, SS#3, Coupler#28, Rocket#1.SS#3.Coupler#28.Separation Force (unset)]\n",
      "[Rocket#1, SS#3, Coupler#20, Rocket#1.SS#3.Coupler#20.Separation Force (unset)]\n",
      "..\n",
      "Thrust, id af234f42-c09a-4cad-8f36-2159645513ec\n",
      "[LV-T45#1, LV-T45#1.Thrust (167.97)]\n",
      "[LV-T45#2, LV-T45#2.Thrust (167.97)]\n",
      "[LV-T45#3, LV-T45#3.Thrust (167.97)]\n",
      "[LV-T45#4, LV-T45#4.Thrust (167.97)]\n",
      "[LV-T45#5, LV-T45#5.Thrust (167.97)]\n",
      "..\n",
      "Specific Impulse, id b15bdf4a-0c2d-489b-aeef-48797149241b\n",
      "[RT-10#1, RT-10#1.Specific Impulse (170.0)]\n",
      "[RT-10#2, RT-10#2.Specific Impulse (170.0)]\n",
      "[RT-10#3, RT-10#3.Specific Impulse (170.0)]\n",
      "[RT-10#4, RT-10#4.Specific Impulse (170.0)]\n",
      "[RT-10#5, RT-10#5.Specific Impulse (170.0)]\n",
      "Max Temperature, id b9cc1b5d-3652-4583-9db2-cd9c7fce320c\n",
      "[Coupler#1, Coupler#1.Max Temperature (unset)]\n",
      "[Coupler#2, Coupler#2.Max Temperature (unset)]\n",
      "[Coupler#3, Coupler#3.Max Temperature (unset)]\n",
      "[Coupler#4, Coupler#4.Max Temperature (unset)]\n",
      "[Coupler#5, Coupler#5.Max Temperature (unset)]\n",
      "..\n",
      "Full Mass, id c0e28ff7-8b79-4a62-b1b1-d7caceff24c6\n",
      "[FL-T100#1, FL-T100#1.Full Mass (unset)]\n",
      "[FL-T100#2, FL-T100#2.Full Mass (unset)]\n",
      "[FL-T100#3, FL-T100#3.Full Mass (unset)]\n",
      "[FL-T100#4, FL-T100#4.Full Mass (unset)]\n",
      "[FL-T100#5, FL-T100#5.Full Mass (unset)]\n",
      "..\n",
      "Empty Mass, id c3b5b776-c821-46b2-97ac-7c2842b2bb1a\n",
      "[RT-5#1, RT-5#1.Empty Mass (0.45)]\n",
      "[RT-5#2, RT-5#2.Empty Mass (0.45)]\n",
      "[RT-5#3, RT-5#3.Empty Mass (0.45)]\n",
      "[RT-5#4, RT-5#4.Empty Mass (0.45)]\n",
      "[RT-5#5, RT-5#5.Empty Mass (0.45)]\n",
      "..\n",
      "Full Mass, id cab1fbc5-abac-40b0-87b6-bc3848139a74\n",
      "[RT-5#1, RT-5#1.Full Mass (1.5)]\n",
      "[RT-5#2, RT-5#2.Full Mass (1.5)]\n",
      "[RT-5#3, RT-5#3.Full Mass (1.5)]\n",
      "[RT-5#4, RT-5#4.Full Mass (1.5)]\n",
      "[RT-5#5, RT-5#5.Full Mass (1.5)]\n",
      "..\n",
      "Empty Mass, id d59d7a99-3446-4678-9ef9-82a33b6c906c\n",
      "[RT-5#1, RT-5#1.Empty Mass (unset)]\n",
      "[RT-5#2, RT-5#2.Empty Mass (unset)]\n",
      "[RT-5#3, RT-5#3.Empty Mass (unset)]\n",
      "[RT-5#4, RT-5#4.Empty Mass (unset)]\n",
      "[RT-5#5, RT-5#5.Empty Mass (unset)]\n",
      "..\n",
      "Mass, id d856603f-7883-4c7a-bee3-c433887ebe25\n",
      "[Coupler#1, Coupler#1.Mass (unset)]\n",
      "[Coupler#2, Coupler#2.Mass (unset)]\n",
      "[Coupler#3, Coupler#3.Mass (unset)]\n",
      "[Coupler#4, Coupler#4.Mass (unset)]\n",
      "[Coupler#5, Coupler#5.Mass (unset)]\n",
      "..\n",
      "Full Mass, id e7739667-7cff-4b72-b23d-295fff77c3cd\n",
      "[LS#1, LS#1.Full Mass (unset)]\n",
      "[LS#2, LS#2.Full Mass (unset)]\n",
      "Solution #1\n",
      "Specific Impulse, id 0a02f039-188c-45d7-a57b-6c050b4f0c72\n",
      "[RT-5#1, RT-5#1.Specific Impulse (140.0)]\n",
      "[RT-5#2, RT-5#2.Specific Impulse (140.0)]\n",
      "[RT-5#3, RT-5#3.Specific Impulse (140.0)]\n",
      "[RT-5#4, RT-5#4.Specific Impulse (140.0)]\n",
      "[RT-5#5, RT-5#5.Specific Impulse (140.0)]\n",
      "..\n",
      "Full Mass, id 0e6482f7-aef6-4020-a3e1-a60201b4987d\n",
      "[SS#1, SS#1.Full Mass (unset)]\n",
      "Thrust, id 13d8aa14-64b6-4585-8e38-a84c86331155\n",
      "[LV-T45#1, LV-T45#1.Thrust (unset)]\n",
      "[LV-T45#2, LV-T45#2.Thrust (unset)]\n",
      "[LV-T45#3, LV-T45#3.Thrust (unset)]\n",
      "[LV-T45#4, LV-T45#4.Thrust (unset)]\n",
      "[LV-T45#5, LV-T45#5.Thrust (unset)]\n",
      "..\n",
      "Empty Mass, id 1bf9bcc3-072e-4f30-abb4-11cfdde2be7f\n",
      "[FL-T100#1, FL-T100#1.Empty Mass (0.0625)]\n",
      "[FL-T100#2, FL-T100#2.Empty Mass (0.0625)]\n",
      "[FL-T100#3, FL-T100#3.Empty Mass (0.0625)]\n",
      "[FL-T100#4, FL-T100#4.Empty Mass (0.0625)]\n",
      "[FL-T100#5, FL-T100#5.Empty Mass (0.0625)]\n",
      "..\n",
      "Full Mass, id 1c2f0f0e-8e7c-42b0-92f3-a26ce6b8a64f\n",
      "[RT-10#1, RT-10#1.Full Mass (3.56)]\n",
      "[RT-10#2, RT-10#2.Full Mass (3.56)]\n",
      "[RT-10#3, RT-10#3.Full Mass (3.56)]\n",
      "[RT-10#4, RT-10#4.Full Mass (3.56)]\n",
      "[RT-10#5, RT-10#5.Full Mass (3.56)]\n",
      "..\n",
      "Empty Mass, id 266052ce-f277-42fd-8d17-ccb85784f612\n",
      "[RT-10#1, RT-10#1.Empty Mass (0.75)]\n",
      "[RT-10#2, RT-10#2.Empty Mass (0.75)]\n",
      "[RT-10#3, RT-10#3.Empty Mass (0.75)]\n",
      "[RT-10#4, RT-10#4.Empty Mass (0.75)]\n",
      "[RT-10#5, RT-10#5.Empty Mass (0.75)]\n",
      "..\n",
      "Thrust, id 26c97aac-66ea-4061-b3ea-75361bd4bc6f\n",
      "[RT-5#1, RT-5#1.Thrust (unset)]\n",
      "[RT-5#2, RT-5#2.Thrust (unset)]\n",
      "[RT-5#3, RT-5#3.Thrust (unset)]\n",
      "[RT-5#4, RT-5#4.Thrust (unset)]\n",
      "[RT-5#5, RT-5#5.Thrust (unset)]\n",
      "..\n",
      "Payload Mass, id 30c93a5d-871d-40af-842b-a653bbbf5056\n",
      "[Rocket#1, LS#4, Rocket#1.LS#4.Payload Mass (unset)]\n",
      "Full Mass, id 30ffe1e4-48b7-422e-a48f-8f5a52791b8e\n",
      "[RT-5#1, RT-5#1.Full Mass (unset)]\n",
      "[RT-5#2, RT-5#2.Full Mass (unset)]\n",
      "[RT-5#3, RT-5#3.Full Mass (unset)]\n",
      "[RT-5#4, RT-5#4.Full Mass (unset)]\n",
      "[RT-5#5, RT-5#5.Full Mass (unset)]\n",
      "..\n",
      "Empty Mass, id 344f1fcb-81cf-4334-8074-1bc41fe8211a\n",
      "[LS#1, LS#1.Empty Mass (unset)]\n",
      "[LS#2, LS#2.Empty Mass (unset)]\n",
      "[LS#3, LS#3.Empty Mass (unset)]\n",
      "[LS#4, LS#4.Empty Mass (unset)]\n",
      "Loaded Mass, id 3866bc1f-6032-489f-87c0-7621aa33c180\n",
      "[Rocket#1, LS#4, Rocket#1.LS#4.Loaded Mass (unset)]\n",
      "Oxidizer, id 3ae253f7-74d4-4635-a787-f6022138df4c\n",
      "[FL-T100#1, FL-T100#1.Oxidizer (unset)]\n",
      "[FL-T100#2, FL-T100#2.Oxidizer (unset)]\n",
      "[FL-T100#3, FL-T100#3.Oxidizer (unset)]\n",
      "[FL-T100#4, FL-T100#4.Oxidizer (unset)]\n",
      "[FL-T100#5, FL-T100#5.Oxidizer (unset)]\n",
      "..\n",
      "Torque, id 3fa3dda7-35c7-4d00-9617-8ac91b50b5fe\n",
      "Empty Mass, id 3fbfb8ad-c995-451a-87a0-9f381087aa51\n",
      "[FL-T100#1, FL-T100#1.Empty Mass (unset)]\n",
      "[FL-T100#2, FL-T100#2.Empty Mass (unset)]\n",
      "[FL-T100#3, FL-T100#3.Empty Mass (unset)]\n",
      "[FL-T100#4, FL-T100#4.Empty Mass (unset)]\n",
      "[FL-T100#5, FL-T100#5.Empty Mass (unset)]\n",
      "..\n",
      "Thrust, id 4675000e-fb56-4fb6-b121-ff23ffc63940\n",
      "[RT-5#1, RT-5#1.Thrust (162.91)]\n",
      "[RT-5#2, RT-5#2.Thrust (162.91)]\n",
      "[RT-5#3, RT-5#3.Thrust (162.91)]\n",
      "[RT-5#4, RT-5#4.Thrust (162.91)]\n",
      "[RT-5#5, RT-5#5.Thrust (162.91)]\n",
      "..\n",
      "Specific Impulse, id 49dabfc2-6dc9-4f82-8a15-797d2c8d0c25\n",
      "[LV-T45#1, LV-T45#1.Specific Impulse (unset)]\n",
      "[LV-T45#2, LV-T45#2.Specific Impulse (unset)]\n",
      "[LV-T45#3, LV-T45#3.Specific Impulse (unset)]\n",
      "[LV-T45#4, LV-T45#4.Specific Impulse (unset)]\n",
      "[LV-T45#5, LV-T45#5.Specific Impulse (unset)]\n",
      "..\n",
      "Specific Impulse, id 565adab3-8804-4616-9f94-39618b5379a4\n",
      "[LV-T45#1, LV-T45#1.Specific Impulse (170.0)]\n",
      "[LV-T45#2, LV-T45#2.Specific Impulse (170.0)]\n",
      "[LV-T45#3, LV-T45#3.Specific Impulse (170.0)]\n",
      "[LV-T45#4, LV-T45#4.Specific Impulse (170.0)]\n",
      "[LV-T45#5, LV-T45#5.Specific Impulse (170.0)]\n",
      "..\n",
      "Empty Mass, id 65cc7964-acdb-4e5e-83ce-5187a917b63a\n",
      "[SS#1, SS#1.Empty Mass (unset)]\n",
      "Full Mass, id 6ffc39b9-2bae-4c6b-ba49-53800a57cc74\n",
      "[FL-T200#1, FL-T200#1.Full Mass (1.125)]\n",
      "[FL-T200#2, FL-T200#2.Full Mass (1.125)]\n",
      "[FL-T200#3, FL-T200#3.Full Mass (1.125)]\n",
      "[FL-T200#4, FL-T200#4.Full Mass (1.125)]\n",
      "[FL-T200#5, FL-T200#5.Full Mass (1.125)]\n",
      "..\n",
      "Full Mass, id 746a2a06-bdb8-4e47-b22c-9d460b26bcaa\n",
      "[FL-T100#1, FL-T100#1.Full Mass (0.5625)]\n",
      "[FL-T100#2, FL-T100#2.Full Mass (0.5625)]\n",
      "[FL-T100#3, FL-T100#3.Full Mass (0.5625)]\n",
      "[FL-T100#4, FL-T100#4.Full Mass (0.5625)]\n",
      "[FL-T100#5, FL-T100#5.Full Mass (0.5625)]\n",
      "..\n",
      "Burnout Mass, id 8064fb6e-16f1-4a68-9736-6f2ec56a8737\n",
      "[Rocket#1, LS#4, Rocket#1.LS#4.Burnout Mass (unset)]\n",
      "Liquid Fuel, id 8b8ebb06-ade1-4ff0-9b65-db9a22b6510e\n",
      "[FL-T100#1, FL-T100#1.Liquid Fuel (unset)]\n",
      "[FL-T100#2, FL-T100#2.Liquid Fuel (unset)]\n",
      "[FL-T100#3, FL-T100#3.Liquid Fuel (unset)]\n",
      "[FL-T100#4, FL-T100#4.Liquid Fuel (unset)]\n",
      "[FL-T100#5, FL-T100#5.Liquid Fuel (unset)]\n",
      "..\n",
      "Empty Mass, id 8d6c1ece-9b42-46bb-bcf9-c0bba8aff7b2\n",
      "[FL-T200#1, FL-T200#1.Empty Mass (0.125)]\n",
      "[FL-T200#2, FL-T200#2.Empty Mass (0.125)]\n",
      "[FL-T200#3, FL-T200#3.Empty Mass (0.125)]\n",
      "[FL-T200#4, FL-T200#4.Empty Mass (0.125)]\n",
      "[FL-T200#5, FL-T200#5.Empty Mass (0.125)]\n",
      "..\n",
      "Thrust, id 91918ae6-eb47-4d20-b1b1-96983a8f0638\n",
      "[RT-10#1, RT-10#1.Thrust (197.9)]\n",
      "[RT-10#2, RT-10#2.Thrust (197.9)]\n",
      "[RT-10#3, RT-10#3.Thrust (197.9)]\n",
      "[RT-10#4, RT-10#4.Thrust (197.9)]\n",
      "[RT-10#5, RT-10#5.Thrust (197.9)]\n",
      "..\n",
      "Specific Impulse, id 9a58909c-2936-4e4a-bead-b9b3056d460d\n",
      "[RT-5#1, RT-5#1.Specific Impulse (unset)]\n",
      "[RT-5#2, RT-5#2.Specific Impulse (unset)]\n",
      "[RT-5#3, RT-5#3.Specific Impulse (unset)]\n",
      "[RT-5#4, RT-5#4.Specific Impulse (unset)]\n",
      "[RT-5#5, RT-5#5.Specific Impulse (unset)]\n",
      "..\n",
      "Separation Force, id ade31b5a-2608-4dc0-8278-3df8edfbcace\n",
      "Thrust, id af234f42-c09a-4cad-8f36-2159645513ec\n",
      "[LV-T45#1, LV-T45#1.Thrust (167.97)]\n",
      "[LV-T45#2, LV-T45#2.Thrust (167.97)]\n",
      "[LV-T45#3, LV-T45#3.Thrust (167.97)]\n",
      "[LV-T45#4, LV-T45#4.Thrust (167.97)]\n",
      "[LV-T45#5, LV-T45#5.Thrust (167.97)]\n",
      "..\n",
      "Specific Impulse, id b15bdf4a-0c2d-489b-aeef-48797149241b\n",
      "[RT-10#1, RT-10#1.Specific Impulse (170.0)]\n",
      "[RT-10#2, RT-10#2.Specific Impulse (170.0)]\n",
      "[RT-10#3, RT-10#3.Specific Impulse (170.0)]\n",
      "[RT-10#4, RT-10#4.Specific Impulse (170.0)]\n",
      "[RT-10#5, RT-10#5.Specific Impulse (170.0)]\n",
      "..\n",
      "Max Temperature, id b9cc1b5d-3652-4583-9db2-cd9c7fce320c\n",
      "[Coupler#1, Coupler#1.Max Temperature (unset)]\n",
      "[Coupler#2, Coupler#2.Max Temperature (unset)]\n",
      "[Coupler#3, Coupler#3.Max Temperature (unset)]\n",
      "[Coupler#4, Coupler#4.Max Temperature (unset)]\n",
      "[Coupler#5, Coupler#5.Max Temperature (unset)]\n",
      "..\n",
      "Full Mass, id c0e28ff7-8b79-4a62-b1b1-d7caceff24c6\n",
      "[FL-T100#1, FL-T100#1.Full Mass (unset)]\n",
      "[FL-T100#2, FL-T100#2.Full Mass (unset)]\n",
      "[FL-T100#3, FL-T100#3.Full Mass (unset)]\n",
      "[FL-T100#4, FL-T100#4.Full Mass (unset)]\n",
      "[FL-T100#5, FL-T100#5.Full Mass (unset)]\n",
      "..\n",
      "Empty Mass, id c3b5b776-c821-46b2-97ac-7c2842b2bb1a\n",
      "[RT-5#1, RT-5#1.Empty Mass (0.45)]\n",
      "[RT-5#2, RT-5#2.Empty Mass (0.45)]\n",
      "[RT-5#3, RT-5#3.Empty Mass (0.45)]\n",
      "[RT-5#4, RT-5#4.Empty Mass (0.45)]\n",
      "[RT-5#5, RT-5#5.Empty Mass (0.45)]\n",
      "..\n",
      "Full Mass, id cab1fbc5-abac-40b0-87b6-bc3848139a74\n",
      "[RT-5#1, RT-5#1.Full Mass (1.5)]\n",
      "[RT-5#2, RT-5#2.Full Mass (1.5)]\n",
      "[RT-5#3, RT-5#3.Full Mass (1.5)]\n",
      "[RT-5#4, RT-5#4.Full Mass (1.5)]\n",
      "[RT-5#5, RT-5#5.Full Mass (1.5)]\n",
      "..\n",
      "Empty Mass, id d59d7a99-3446-4678-9ef9-82a33b6c906c\n",
      "[RT-5#1, RT-5#1.Empty Mass (unset)]\n",
      "[RT-5#2, RT-5#2.Empty Mass (unset)]\n",
      "[RT-5#3, RT-5#3.Empty Mass (unset)]\n",
      "[RT-5#4, RT-5#4.Empty Mass (unset)]\n",
      "[RT-5#5, RT-5#5.Empty Mass (unset)]\n",
      "..\n",
      "Mass, id d856603f-7883-4c7a-bee3-c433887ebe25\n",
      "[Coupler#1, Coupler#1.Mass (unset)]\n",
      "[Coupler#2, Coupler#2.Mass (unset)]\n",
      "[Coupler#3, Coupler#3.Mass (unset)]\n",
      "[Coupler#4, Coupler#4.Mass (unset)]\n",
      "[Coupler#5, Coupler#5.Mass (unset)]\n",
      "..\n",
      "Full Mass, id e7739667-7cff-4b72-b23d-295fff77c3cd\n",
      "[LS#1, LS#1.Full Mass (unset)]\n",
      "[LS#2, LS#2.Full Mass (unset)]\n",
      "[LS#3, LS#3.Full Mass (unset)]\n",
      "[LS#4, LS#4.Full Mass (unset)]\n",
      "Solution #2\n",
      "Specific Impulse, id 0a02f039-188c-45d7-a57b-6c050b4f0c72\n",
      "[RT-5#1, RT-5#1.Specific Impulse (140.0)]\n",
      "[RT-5#2, RT-5#2.Specific Impulse (140.0)]\n",
      "[RT-5#3, RT-5#3.Specific Impulse (140.0)]\n",
      "[RT-5#4, RT-5#4.Specific Impulse (140.0)]\n",
      "[RT-5#5, RT-5#5.Specific Impulse (140.0)]\n",
      "..\n",
      "Full Mass, id 0e6482f7-aef6-4020-a3e1-a60201b4987d\n",
      "[SS#1, SS#1.Full Mass (unset)]\n",
      "[SS#2, SS#2.Full Mass (unset)]\n",
      "[SS#3, SS#3.Full Mass (unset)]\n",
      "Thrust, id 13d8aa14-64b6-4585-8e38-a84c86331155\n",
      "[LV-T45#1, LV-T45#1.Thrust (unset)]\n",
      "[LV-T45#2, LV-T45#2.Thrust (unset)]\n",
      "[LV-T45#3, LV-T45#3.Thrust (unset)]\n",
      "[LV-T45#4, LV-T45#4.Thrust (unset)]\n",
      "[LV-T45#5, LV-T45#5.Thrust (unset)]\n",
      "..\n",
      "Empty Mass, id 1bf9bcc3-072e-4f30-abb4-11cfdde2be7f\n",
      "[FL-T100#1, FL-T100#1.Empty Mass (0.0625)]\n",
      "[FL-T100#2, FL-T100#2.Empty Mass (0.0625)]\n",
      "[FL-T100#3, FL-T100#3.Empty Mass (0.0625)]\n",
      "[FL-T100#4, FL-T100#4.Empty Mass (0.0625)]\n",
      "[FL-T100#5, FL-T100#5.Empty Mass (0.0625)]\n",
      "..\n",
      "Full Mass, id 1c2f0f0e-8e7c-42b0-92f3-a26ce6b8a64f\n",
      "[RT-10#1, RT-10#1.Full Mass (3.56)]\n",
      "[RT-10#2, RT-10#2.Full Mass (3.56)]\n",
      "[RT-10#3, RT-10#3.Full Mass (3.56)]\n",
      "[RT-10#4, RT-10#4.Full Mass (3.56)]\n",
      "[RT-10#5, RT-10#5.Full Mass (3.56)]\n",
      "..\n",
      "Empty Mass, id 266052ce-f277-42fd-8d17-ccb85784f612\n",
      "[RT-10#1, RT-10#1.Empty Mass (0.75)]\n",
      "[RT-10#2, RT-10#2.Empty Mass (0.75)]\n",
      "[RT-10#3, RT-10#3.Empty Mass (0.75)]\n",
      "[RT-10#4, RT-10#4.Empty Mass (0.75)]\n",
      "[RT-10#5, RT-10#5.Empty Mass (0.75)]\n",
      "..\n",
      "Thrust, id 26c97aac-66ea-4061-b3ea-75361bd4bc6f\n",
      "[RT-5#1, RT-5#1.Thrust (unset)]\n",
      "[RT-5#2, RT-5#2.Thrust (unset)]\n",
      "[RT-5#3, RT-5#3.Thrust (unset)]\n",
      "[RT-5#4, RT-5#4.Thrust (unset)]\n",
      "[RT-5#5, RT-5#5.Thrust (unset)]\n",
      "..\n",
      "Payload Mass, id 30c93a5d-871d-40af-842b-a653bbbf5056\n",
      "[Rocket#1, LS#2, Rocket#1.LS#2.Payload Mass (unset)]\n",
      "[Rocket#1, LS#1, Rocket#1.LS#1.Payload Mass (unset)]\n",
      "Full Mass, id 30ffe1e4-48b7-422e-a48f-8f5a52791b8e\n",
      "[RT-5#1, RT-5#1.Full Mass (unset)]\n",
      "[RT-5#2, RT-5#2.Full Mass (unset)]\n",
      "[RT-5#3, RT-5#3.Full Mass (unset)]\n",
      "[RT-5#4, RT-5#4.Full Mass (unset)]\n",
      "[RT-5#5, RT-5#5.Full Mass (unset)]\n",
      "..\n",
      "Empty Mass, id 344f1fcb-81cf-4334-8074-1bc41fe8211a\n",
      "[LS#1, LS#1.Empty Mass (unset)]\n",
      "[LS#2, LS#2.Empty Mass (unset)]\n",
      "Loaded Mass, id 3866bc1f-6032-489f-87c0-7621aa33c180\n",
      "[Rocket#1, LS#2, Rocket#1.LS#2.Loaded Mass (unset)]\n",
      "[Rocket#1, LS#1, Rocket#1.LS#1.Loaded Mass (unset)]\n",
      "Oxidizer, id 3ae253f7-74d4-4635-a787-f6022138df4c\n",
      "[FL-T100#1, FL-T100#1.Oxidizer (unset)]\n",
      "[FL-T100#2, FL-T100#2.Oxidizer (unset)]\n",
      "[FL-T100#3, FL-T100#3.Oxidizer (unset)]\n",
      "[FL-T100#4, FL-T100#4.Oxidizer (unset)]\n",
      "[FL-T100#5, FL-T100#5.Oxidizer (unset)]\n",
      "..\n",
      "Torque, id 3fa3dda7-35c7-4d00-9617-8ac91b50b5fe\n",
      "Empty Mass, id 3fbfb8ad-c995-451a-87a0-9f381087aa51\n",
      "[FL-T100#1, FL-T100#1.Empty Mass (unset)]\n",
      "[FL-T100#2, FL-T100#2.Empty Mass (unset)]\n",
      "[FL-T100#3, FL-T100#3.Empty Mass (unset)]\n",
      "[FL-T100#4, FL-T100#4.Empty Mass (unset)]\n",
      "[FL-T100#5, FL-T100#5.Empty Mass (unset)]\n",
      "..\n",
      "Thrust, id 4675000e-fb56-4fb6-b121-ff23ffc63940\n",
      "[RT-5#1, RT-5#1.Thrust (162.91)]\n",
      "[RT-5#2, RT-5#2.Thrust (162.91)]\n",
      "[RT-5#3, RT-5#3.Thrust (162.91)]\n",
      "[RT-5#4, RT-5#4.Thrust (162.91)]\n",
      "[RT-5#5, RT-5#5.Thrust (162.91)]\n",
      "..\n",
      "Specific Impulse, id 49dabfc2-6dc9-4f82-8a15-797d2c8d0c25\n",
      "[LV-T45#1, LV-T45#1.Specific Impulse (unset)]\n",
      "[LV-T45#2, LV-T45#2.Specific Impulse (unset)]\n",
      "[LV-T45#3, LV-T45#3.Specific Impulse (unset)]\n",
      "[LV-T45#4, LV-T45#4.Specific Impulse (unset)]\n",
      "[LV-T45#5, LV-T45#5.Specific Impulse (unset)]\n",
      "..\n",
      "Specific Impulse, id 565adab3-8804-4616-9f94-39618b5379a4\n",
      "[LV-T45#1, LV-T45#1.Specific Impulse (170.0)]\n",
      "[LV-T45#2, LV-T45#2.Specific Impulse (170.0)]\n",
      "[LV-T45#3, LV-T45#3.Specific Impulse (170.0)]\n",
      "[LV-T45#4, LV-T45#4.Specific Impulse (170.0)]\n",
      "[LV-T45#5, LV-T45#5.Specific Impulse (170.0)]\n",
      "..\n",
      "Empty Mass, id 65cc7964-acdb-4e5e-83ce-5187a917b63a\n",
      "[SS#1, SS#1.Empty Mass (unset)]\n",
      "[SS#2, SS#2.Empty Mass (unset)]\n",
      "[SS#3, SS#3.Empty Mass (unset)]\n",
      "Full Mass, id 6ffc39b9-2bae-4c6b-ba49-53800a57cc74\n",
      "[FL-T200#1, FL-T200#1.Full Mass (1.125)]\n",
      "[FL-T200#2, FL-T200#2.Full Mass (1.125)]\n",
      "Full Mass, id 746a2a06-bdb8-4e47-b22c-9d460b26bcaa\n",
      "[FL-T100#1, FL-T100#1.Full Mass (0.5625)]\n",
      "[FL-T100#2, FL-T100#2.Full Mass (0.5625)]\n",
      "[FL-T100#3, FL-T100#3.Full Mass (0.5625)]\n",
      "[FL-T100#4, FL-T100#4.Full Mass (0.5625)]\n",
      "[FL-T100#5, FL-T100#5.Full Mass (0.5625)]\n",
      "..\n",
      "Burnout Mass, id 8064fb6e-16f1-4a68-9736-6f2ec56a8737\n",
      "[Rocket#1, LS#2, Rocket#1.LS#2.Burnout Mass (unset)]\n",
      "[Rocket#1, LS#1, Rocket#1.LS#1.Burnout Mass (unset)]\n",
      "Liquid Fuel, id 8b8ebb06-ade1-4ff0-9b65-db9a22b6510e\n",
      "[FL-T100#1, FL-T100#1.Liquid Fuel (unset)]\n",
      "[FL-T100#2, FL-T100#2.Liquid Fuel (unset)]\n",
      "[FL-T100#3, FL-T100#3.Liquid Fuel (unset)]\n",
      "[FL-T100#4, FL-T100#4.Liquid Fuel (unset)]\n",
      "[FL-T100#5, FL-T100#5.Liquid Fuel (unset)]\n",
      "..\n",
      "Empty Mass, id 8d6c1ece-9b42-46bb-bcf9-c0bba8aff7b2\n",
      "[FL-T200#1, FL-T200#1.Empty Mass (0.125)]\n",
      "[FL-T200#2, FL-T200#2.Empty Mass (0.125)]\n",
      "Thrust, id 91918ae6-eb47-4d20-b1b1-96983a8f0638\n",
      "[RT-10#1, RT-10#1.Thrust (197.9)]\n",
      "[RT-10#2, RT-10#2.Thrust (197.9)]\n",
      "[RT-10#3, RT-10#3.Thrust (197.9)]\n",
      "[RT-10#4, RT-10#4.Thrust (197.9)]\n",
      "[RT-10#5, RT-10#5.Thrust (197.9)]\n",
      "..\n",
      "Specific Impulse, id 9a58909c-2936-4e4a-bead-b9b3056d460d\n",
      "[RT-5#1, RT-5#1.Specific Impulse (unset)]\n",
      "[RT-5#2, RT-5#2.Specific Impulse (unset)]\n",
      "[RT-5#3, RT-5#3.Specific Impulse (unset)]\n",
      "[RT-5#4, RT-5#4.Specific Impulse (unset)]\n",
      "[RT-5#5, RT-5#5.Specific Impulse (unset)]\n",
      "..\n",
      "Separation Force, id ade31b5a-2608-4dc0-8278-3df8edfbcace\n",
      "[Rocket#1, LS#2, Coupler#13, Rocket#1.LS#2.Coupler#13.Separation Force (unset)]\n",
      "[Rocket#1, LS#2, Coupler#10, Rocket#1.LS#2.Coupler#10.Separation Force (unset)]\n",
      "[Rocket#1, LS#2, Coupler#40, Rocket#1.LS#2.Coupler#40.Separation Force (unset)]\n",
      "[Rocket#1, LS#2, Coupler#14, Rocket#1.LS#2.Coupler#14.Separation Force (unset)]\n",
      "[Rocket#1, LS#2, Coupler#28, Rocket#1.LS#2.Coupler#28.Separation Force (unset)]\n",
      "..\n",
      "Thrust, id af234f42-c09a-4cad-8f36-2159645513ec\n",
      "[LV-T45#1, LV-T45#1.Thrust (167.97)]\n",
      "[LV-T45#2, LV-T45#2.Thrust (167.97)]\n",
      "[LV-T45#3, LV-T45#3.Thrust (167.97)]\n",
      "[LV-T45#4, LV-T45#4.Thrust (167.97)]\n",
      "[LV-T45#5, LV-T45#5.Thrust (167.97)]\n",
      "..\n",
      "Specific Impulse, id b15bdf4a-0c2d-489b-aeef-48797149241b\n",
      "[RT-10#1, RT-10#1.Specific Impulse (170.0)]\n",
      "[RT-10#2, RT-10#2.Specific Impulse (170.0)]\n",
      "[RT-10#3, RT-10#3.Specific Impulse (170.0)]\n",
      "[RT-10#4, RT-10#4.Specific Impulse (170.0)]\n",
      "[RT-10#5, RT-10#5.Specific Impulse (170.0)]\n",
      "..\n",
      "Max Temperature, id b9cc1b5d-3652-4583-9db2-cd9c7fce320c\n",
      "[Coupler#1, Coupler#1.Max Temperature (unset)]\n",
      "[Coupler#2, Coupler#2.Max Temperature (unset)]\n",
      "[Coupler#3, Coupler#3.Max Temperature (unset)]\n",
      "[Coupler#4, Coupler#4.Max Temperature (unset)]\n",
      "[Coupler#5, Coupler#5.Max Temperature (unset)]\n",
      "..\n",
      "Full Mass, id c0e28ff7-8b79-4a62-b1b1-d7caceff24c6\n",
      "[FL-T100#1, FL-T100#1.Full Mass (unset)]\n",
      "[FL-T100#2, FL-T100#2.Full Mass (unset)]\n",
      "[FL-T100#3, FL-T100#3.Full Mass (unset)]\n",
      "[FL-T100#4, FL-T100#4.Full Mass (unset)]\n",
      "[FL-T100#5, FL-T100#5.Full Mass (unset)]\n",
      "..\n",
      "Empty Mass, id c3b5b776-c821-46b2-97ac-7c2842b2bb1a\n",
      "[RT-5#1, RT-5#1.Empty Mass (0.45)]\n",
      "[RT-5#2, RT-5#2.Empty Mass (0.45)]\n",
      "[RT-5#3, RT-5#3.Empty Mass (0.45)]\n",
      "[RT-5#4, RT-5#4.Empty Mass (0.45)]\n",
      "[RT-5#5, RT-5#5.Empty Mass (0.45)]\n",
      "..\n",
      "Full Mass, id cab1fbc5-abac-40b0-87b6-bc3848139a74\n",
      "[RT-5#1, RT-5#1.Full Mass (1.5)]\n",
      "[RT-5#2, RT-5#2.Full Mass (1.5)]\n",
      "[RT-5#3, RT-5#3.Full Mass (1.5)]\n",
      "[RT-5#4, RT-5#4.Full Mass (1.5)]\n",
      "[RT-5#5, RT-5#5.Full Mass (1.5)]\n",
      "..\n",
      "Empty Mass, id d59d7a99-3446-4678-9ef9-82a33b6c906c\n",
      "[RT-5#1, RT-5#1.Empty Mass (unset)]\n",
      "[RT-5#2, RT-5#2.Empty Mass (unset)]\n",
      "[RT-5#3, RT-5#3.Empty Mass (unset)]\n",
      "[RT-5#4, RT-5#4.Empty Mass (unset)]\n",
      "[RT-5#5, RT-5#5.Empty Mass (unset)]\n",
      "..\n",
      "Mass, id d856603f-7883-4c7a-bee3-c433887ebe25\n",
      "[Coupler#1, Coupler#1.Mass (unset)]\n",
      "[Coupler#2, Coupler#2.Mass (unset)]\n",
      "[Coupler#3, Coupler#3.Mass (unset)]\n",
      "[Coupler#4, Coupler#4.Mass (unset)]\n",
      "[Coupler#5, Coupler#5.Mass (unset)]\n",
      "..\n",
      "Full Mass, id e7739667-7cff-4b72-b23d-295fff77c3cd\n",
      "[LS#1, LS#1.Full Mass (unset)]\n",
      "[LS#2, LS#2.Full Mass (unset)]\n"
     ]
    }
   ],
   "source": [
    "for indx, att_value_dict in enumerate(att_value_dicts):\n",
    "    if indx < 3:\n",
    "        print(\"Solution #\" + str(indx))\n",
    "        for key in att_value_dict:\n",
    "            print(get_name_by_id(key) + ', id ' + key)\n",
    "            for indx, seq in enumerate(att_value_dict[key]):\n",
    "                if indx < 5:\n",
    "                    seq_string = []\n",
    "                    for member in seq:\n",
    "                        if isinstance(member, str) and member in id_memo_dict:\n",
    "                            obj = id_memo_dict[member]\n",
    "                            # TODO: Create unique value objects for formula mapping\n",
    "                            if obj['@type'] == 'LiteralReal':\n",
    "                                seq_string.append(str(obj['value']) + ', id ' + member)\n",
    "                        else:\n",
    "                            seq_string.append(member)\n",
    "                    print(seq_string)\n",
    "                elif indx == 5:\n",
    "                    print('..')"
   ]
  },
  {
   "cell_type": "markdown",
   "id": "terminal-baptist",
   "metadata": {},
   "source": [
    "Now we need to do this for the feature sequences."
   ]
  },
  {
   "cell_type": "markdown",
   "id": "continent-bottle",
   "metadata": {},
   "source": [
    "## Gather Expressions and Invocations and Build Expression Graph"
   ]
  },
  {
   "cell_type": "code",
   "execution_count": 103,
   "id": "loose-liver",
   "metadata": {},
   "outputs": [],
   "source": [
    "expression_graph = NX.DiGraph()\n",
    "expression_graph_labels = {}\n",
    "expression_graph_ascii = ''\n",
    "\n",
    "invocations = []\n"
   ]
  },
  {
   "cell_type": "markdown",
   "id": "ordinary-newark",
   "metadata": {},
   "source": [
    "Memoize InvocationExpressions, BlockExpressions, FeatureReferenceExpressions, and ReferenceUsages"
   ]
  },
  {
   "cell_type": "code",
   "execution_count": 104,
   "id": "restricted-possession",
   "metadata": {},
   "outputs": [],
   "source": [
    "invocations = [invocation for invocation in non_relations if invocation['@type'] == 'InvocationExpression']\n",
    "functions = [function for function in non_relations if function['@type'] == 'Function']\n",
    "op_exprs = [function for function in non_relations if function['@type'] == 'OperatorExpression']\n",
    "block_exprs = [block_expr for block_expr in non_relations if block_expr['@type'] == 'BlockExpression']\n",
    "feature_refs = [feature_ref for feature_ref in non_relations if feature_ref['@type'] == 'FeatureReferenceExpression']\n",
    "reference_uses = [ref_use for ref_use in non_relations if ref_use['@type'] == 'ReferenceUsage']\n",
    "\n",
    "para_members = [para_member for para_member in relations if para_member['@type'] == 'ParameterMembership']\n",
    "res_expr_members = [res_expr_member for res_expr_member in relations if res_expr_member['@type'] == 'ResultExpressionMembership']\n",
    "ret_para_members = [ret_para_member for ret_para_member in relations if ret_para_member['@type'] == 'ReturnParameterMembership']\n",
    "\n",
    "for invocation in invocations:\n",
    "    id_memo_dict.update({invocation['@id']: invocation})\n",
    "    \n",
    "for function in functions:\n",
    "    id_memo_dict.update({function['@id']: function})\n",
    "    \n",
    "for op_expr in op_exprs:\n",
    "    id_memo_dict.update({op_expr['@id']: op_expr})\n",
    "    \n",
    "for block_expr in block_exprs:\n",
    "    id_memo_dict.update({block_expr['@id']: block_expr})\n",
    "    \n",
    "for feature_ref in feature_refs:\n",
    "    id_memo_dict.update({feature_ref['@id']: feature_ref})\n",
    "    \n",
    "for reference_use in reference_uses:\n",
    "    id_memo_dict.update({reference_use['@id']: reference_use})"
   ]
  },
  {
   "cell_type": "code",
   "execution_count": 105,
   "id": "received-nerve",
   "metadata": {},
   "outputs": [],
   "source": [
    "ofms = []\n",
    "ofms.extend(para_members)\n",
    "ofms.extend(res_expr_members)\n",
    "ofms.extend(ret_para_members)"
   ]
  },
  {
   "cell_type": "markdown",
   "id": "confident-cocktail",
   "metadata": {},
   "source": [
    "Get feature memberships from the expressions to their members."
   ]
  },
  {
   "cell_type": "code",
   "execution_count": 106,
   "id": "offshore-productivity",
   "metadata": {},
   "outputs": [],
   "source": [
    "for fm in feature_members:\n",
    "    if fm['owningType']['@id'] in id_memo_dict:\n",
    "        if id_memo_dict[fm['owningType']['@id']]['@type'] == 'InvocationExpression':\n",
    "            expression_graph.add_edge(fm['owningType']['@id'], fm['memberFeature']['@id'])\n",
    "        if id_memo_dict[fm['owningType']['@id']]['@type'] == 'Function':\n",
    "            expression_graph.add_edge(fm['owningType']['@id'], fm['memberFeature']['@id'])\n",
    "            expression_graph_labels.update({fm['owningType']['@id']: id_memo_dict[fm['owningType']['@id']]['name']})\n",
    "        if id_memo_dict[fm['owningType']['@id']]['@type'] == 'OperatorExpression':\n",
    "            expression_graph.add_edge(fm['owningType']['@id'], fm['memberFeature']['@id'])\n",
    "            expression_graph_labels.update({fm['owningType']['@id']: id_memo_dict[fm['owningType']['@id']]['operator']})\n",
    "            if fm['memberFeature']['@id'] in id_memo_dict:\n",
    "                if id_memo_dict[fm['memberFeature']['@id']]['@type'] == 'FeatureReferenceExpression':\n",
    "                    expression_graph_labels.update({fm['memberFeature']['@id']: \n",
    "                                                   id_memo_dict[id_memo_dict[fm['memberFeature']['@id']]['referent']['@id']]['name'] + ' (FeatRef)'})\n",
    "\n",
    "for ofm in ofms:\n",
    "    if ofm['owningType']['@id'] in id_memo_dict:\n",
    "        if id_memo_dict[ofm['owningType']['@id']]['@type'] == 'BlockExpression':\n",
    "            expression_graph.add_edge(ofm['owningType']['@id'], ofm['memberFeature']['@id'])\n",
    "            if ofm['memberFeature']['@id'] in id_memo_dict:\n",
    "                if id_memo_dict[ofm['memberFeature']['@id']]['@type'] == 'FeatureReferenceExpression':\n",
    "                    expression_graph_labels.update({ofm['memberFeature']['@id']: \n",
    "                                                   id_memo_dict[id_memo_dict[ofm['memberFeature']['@id']]['referent']['@id']]['name'] + ' (FeatRef)'})\n",
    "            if get_name_by_id(ofm['memberFeature']['@id']) is not None:\n",
    "                if get_metatype_by_id(ofm['memberFeature']['@id']) == 'ReferenceUsage':\n",
    "                    ref_type_name = id_memo_dict[id_memo_dict[ofm['memberFeature']['@id']]['type'][0]['@id']]['name']\n",
    "                    expression_graph_labels.update({ofm['memberFeature']['@id']: \n",
    "                                                    get_name_by_id(ofm['memberFeature']['@id']) + ':' + ref_type_name})\n",
    "                else:\n",
    "                    expression_graph_labels.update({ofm['memberFeature']['@id']: get_name_by_id(ofm['memberFeature']['@id'])})\n",
    "                    \n",
    "for ft in feature_types:\n",
    "    if ft['typedFeature']['@id'] in id_memo_dict:\n",
    "        if id_memo_dict[ft['type']['@id']]['@type'] == 'Function':\n",
    "            expression_graph.add_edge(ft['typedFeature']['@id'], ft['type']['@id'])\n",
    "            expression_graph_labels.update({ft['type']['@id']: id_memo_dict[ft['type']['@id']]['name']})"
   ]
  },
  {
   "cell_type": "markdown",
   "id": "aggregate-projector",
   "metadata": {},
   "source": [
    "Gather the body and parameters of the invocation."
   ]
  },
  {
   "cell_type": "code",
   "execution_count": 107,
   "id": "suspended-louis",
   "metadata": {},
   "outputs": [
    {
     "data": {
      "image/png": "[encoded data removed]",
      "text/plain": [
       "<Figure size 432x288 with 1 Axes>"
      ]
     },
     "metadata": {},
     "output_type": "display_data"
    }
   ],
   "source": [
    "NX.draw_spring(expression_graph, labels=expression_graph_labels)"
   ]
  },
  {
   "cell_type": "markdown",
   "id": "spoken-switzerland",
   "metadata": {},
   "source": [
    "The final step is to connect this graph to the created ValueHolders and generated sets of calculations to be executed."
   ]
  },
  {
   "cell_type": "code",
   "execution_count": null,
   "id": "important-batman",
   "metadata": {},
   "outputs": [],
   "source": []
  },
  {
   "cell_type": "markdown",
   "id": "shared-vanilla",
   "metadata": {},
   "source": [
    "## Perform Staging Mass Analysis\n",
    "\n",
    "- [ ] TODO: Strengthen this with analyses that actually do the calculation\n",
    "- [ ] TODO: Accommodate associations between tanks and engines to make delta-V and Isp calculations work properly"
   ]
  },
  {
   "cell_type": "markdown",
   "id": "sealed-spray",
   "metadata": {},
   "source": [
    "This is very specific to a given calculation - need to have a kernel for expanding the calculations just as with inspecting type hierarchy and multiplicity"
   ]
  },
  {
   "cell_type": "code",
   "execution_count": 108,
   "id": "sexual-warrant",
   "metadata": {},
   "outputs": [
    {
     "ename": "KeyError",
     "evalue": "'31a4436f-07fd-48c6-b503-9d186d925c3c'",
     "output_type": "error",
     "traceback": [
      "\u001b[1;31m---------------------------------------------------------------------------\u001b[0m",
      "\u001b[1;31mKeyError\u001b[0m                                  Traceback (most recent call last)",
      "\u001b[1;32m<ipython-input-108-e59965f9cb36>\u001b[0m in \u001b[0;36m<module>\u001b[1;34m\u001b[0m\n\u001b[0;32m      1\u001b[0m \u001b[1;32mfor\u001b[0m \u001b[0mindx\u001b[0m\u001b[1;33m,\u001b[0m \u001b[0mfeature_sequence_dictionary\u001b[0m \u001b[1;32min\u001b[0m \u001b[0menumerate\u001b[0m\u001b[1;33m(\u001b[0m\u001b[0mfeature_sequence_dictionaries\u001b[0m\u001b[1;33m)\u001b[0m\u001b[1;33m:\u001b[0m\u001b[1;33m\u001b[0m\u001b[1;33m\u001b[0m\u001b[0m\n\u001b[1;32m----> 2\u001b[1;33m     \u001b[0mno_stages\u001b[0m \u001b[1;33m=\u001b[0m \u001b[0mlen\u001b[0m\u001b[1;33m(\u001b[0m\u001b[0mfeature_sequence_dictionary\u001b[0m\u001b[1;33m[\u001b[0m\u001b[1;34m'31a4436f-07fd-48c6-b503-9d186d925c3c'\u001b[0m\u001b[1;33m]\u001b[0m\u001b[1;33m)\u001b[0m\u001b[1;33m\u001b[0m\u001b[1;33m\u001b[0m\u001b[0m\n\u001b[0m\u001b[0;32m      3\u001b[0m     \u001b[0mprint\u001b[0m\u001b[1;33m(\u001b[0m\u001b[0mstr\u001b[0m\u001b[1;33m(\u001b[0m\u001b[0mno_stages\u001b[0m\u001b[1;33m)\u001b[0m\u001b[1;33m)\u001b[0m\u001b[1;33m\u001b[0m\u001b[1;33m\u001b[0m\u001b[0m\n\u001b[0;32m      4\u001b[0m     \u001b[1;32mfor\u001b[0m \u001b[0mstag\u001b[0m \u001b[1;32min\u001b[0m \u001b[0mrange\u001b[0m\u001b[1;33m(\u001b[0m\u001b[1;36m1\u001b[0m\u001b[1;33m,\u001b[0m \u001b[0mno_stages\u001b[0m \u001b[1;33m+\u001b[0m \u001b[1;36m1\u001b[0m\u001b[1;33m)\u001b[0m\u001b[1;33m:\u001b[0m\u001b[1;33m\u001b[0m\u001b[1;33m\u001b[0m\u001b[0m\n\u001b[0;32m      5\u001b[0m         \u001b[0mstage_empty_mass\u001b[0m \u001b[1;33m=\u001b[0m \u001b[1;36m0\u001b[0m\u001b[1;33m\u001b[0m\u001b[1;33m\u001b[0m\u001b[0m\n",
      "\u001b[1;31mKeyError\u001b[0m: '31a4436f-07fd-48c6-b503-9d186d925c3c'"
     ]
    }
   ],
   "source": [
    "for indx, feature_sequence_dictionary in enumerate(feature_sequence_dictionaries):\n",
    "    no_stages = len(feature_sequence_dictionary['31a4436f-07fd-48c6-b503-9d186d925c3c'])\n",
    "    print(str(no_stages))\n",
    "    for stag in range(1, no_stages + 1):\n",
    "        stage_empty_mass = 0\n",
    "        stage_full_mass = 0\n",
    "        stage_specific_impulse = 0\n",
    "        # add up the starter mass for the stage and the burnout mass\n",
    "        stage_instance = feature_sequence_dictionary['31a4436f-07fd-48c6-b503-9d186d925c3c'][stag - 1][-1]\n",
    "        print(str(stage_instance) + \": \" + str(classifier_memo_dicts[indx][stage_instance.name]))\n",
    "        if '54c2e565-ede4-4c12-a44c-2277566a2861' in feature_sequence_dictionary:\n",
    "            booster_instances = \\\n",
    "                [booster[-1] for booster in feature_sequence_dictionary['54c2e565-ede4-4c12-a44c-2277566a2861']\n",
    "                     if str(booster[0]) == str(stage_instance)]\n",
    "            print('Booster instance length = ' + str(len(booster_instances)))\n",
    "            for booster in booster_instances:\n",
    "                for clz in classifier_memo_dicts[indx][booster.name]:\n",
    "                    if clz in partitioned_multiplicity_dicts[indx]:\n",
    "                        pass\n",
    "                    else:\n",
    "                        empty_mass = type_values['Empty Mass'][clz]\n",
    "                        full_mass = type_values['Full Mass'][clz]\n",
    "                        specific_impulse = type_values['Specific Impulse'][clz]\n",
    "\n",
    "                        stage_empty_mass = stage_empty_mass + empty_mass\n",
    "                        stage_full_mass = stage_full_mass + full_mass\n",
    "                        stage_specific_impulse = stage_specific_impulse + specific_impulse\n",
    "            if len(booster_instances) > 0:\n",
    "                stage_specific_impulse = stage_specific_impulse / len(booster_instances)\n",
    "        \n",
    "        if stage_empty_mass > 0.0:\n",
    "            booster_delta_V = 9.81 * stage_specific_impulse * math.log(stage_full_mass / stage_empty_mass)\n",
    "        \n",
    "        if indx < 3:\n",
    "            print ('Stage booster full mass is ' + str(stage_full_mass))\n",
    "            print ('Stage booster empty mass is ' + str(stage_empty_mass))\n",
    "            print ('Stage booster specific impulse is ' + str(stage_specific_impulse))\n",
    "            print ('Stage booster delta-V is ' + str(booster_delta_V))"
   ]
  },
  {
   "cell_type": "code",
   "execution_count": null,
   "id": "sharing-council",
   "metadata": {},
   "outputs": [],
   "source": []
  }
 ],
 "metadata": {
  "kernelspec": {
   "display_name": "Python 3",
   "language": "python",
   "name": "python3"
  },
  "language_info": {
   "codemirror_mode": {
    "name": "ipython",
    "version": 3
   },
   "file_extension": ".py",
   "mimetype": "text/x-python",
   "name": "python",
   "nbconvert_exporter": "python",
   "pygments_lexer": "ipython3",
   "version": "3.9.1"
  },
  "toc-autonumbering": false
 },
 "nbformat": 4,
 "nbformat_minor": 5
}
