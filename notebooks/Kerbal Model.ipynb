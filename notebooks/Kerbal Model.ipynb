{
 "cells": [
  {
   "cell_type": "markdown",
   "id": "superior-australian",
   "metadata": {},
   "source": [
    "# Part Combination Space Exploration\n",
    "\n",
    "This is a notebook developed to leverage the new SysML v2 semantics for nested features and instantiation of models to generate instances of $M_1$ system models as feedstock for analysis pipelines."
   ]
  },
  {
   "cell_type": "code",
   "execution_count": 1,
   "id": "durable-communist",
   "metadata": {},
   "outputs": [],
   "source": [
    "import requests\n",
    "import getpass\n",
    "import math\n",
    "\n",
    "import time\n",
    "from pprint import pprint\n",
    "\n",
    "import json\n",
    "import networkx as NX\n",
    "\n",
    "import random\n",
    "import copy\n",
    "\n",
    "import json\n",
    "import pathlib\n",
    "\n",
    "import ipywidgets\n",
    "import traitlets\n",
    "from IPython.display import display\n",
    "\n",
    "import ipyelk\n",
    "import ipyelk.nx\n",
    "from ipyelk.diagram.elk_model import ElkLabel"
   ]
  },
  {
   "cell_type": "markdown",
   "id": "alleged-continuity",
   "metadata": {},
   "source": [
    "# Import the SysML v2 API Client\n",
    "> or install if it's missing..."
   ]
  },
  {
   "cell_type": "code",
   "execution_count": 2,
   "id": "according-topic",
   "metadata": {},
   "outputs": [],
   "source": [
    "try:\n",
    "    import sysml_v2_api_client as sysml2\n",
    "    from sysml_v2_api_client.rest import ApiException\n",
    "except ImportError:\n",
    "    !pip install git+https://github.com/Systems-Modeling/SysML-v2-API-Python-Client.git\n",
    "    print(\n",
    "        \"Had to install the SysML v2 Python API Client.\\n\"\n",
    "        \"Restart the kernel and run the notebook again...\"\n",
    "    )"
   ]
  },
  {
   "cell_type": "markdown",
   "id": "cubic-coverage",
   "metadata": {},
   "source": [
    "# Configure API Server Connection"
   ]
  },
  {
   "cell_type": "code",
   "execution_count": 3,
   "id": "encouraging-bridges",
   "metadata": {},
   "outputs": [],
   "source": [
    "SYSML_API_BASE_URL = \"http://sysml2-sst.intercax.com:9000\""
   ]
  },
  {
   "cell_type": "markdown",
   "id": "congressional-strike",
   "metadata": {},
   "source": [
    "## Activate APIs\n",
    "\n",
    "Configure the API client and instantiate the `Project`, `Commit`, and `Element` APIs"
   ]
  },
  {
   "cell_type": "code",
   "execution_count": 4,
   "id": "structural-healthcare",
   "metadata": {},
   "outputs": [],
   "source": [
    "configuration = sysml2.Configuration(host=SYSML_API_BASE_URL)\n",
    "\n",
    "with sysml2.ApiClient(configuration) as client:\n",
    "    API = dict(\n",
    "        project=sysml2.ProjectApi(client),\n",
    "        commits=sysml2.CommitApi(client),\n",
    "        elements=sysml2.ElementApi(client),\n",
    "    )"
   ]
  },
  {
   "cell_type": "markdown",
   "id": "cloudy-nursing",
   "metadata": {},
   "source": [
    "## Pull down commits and elements catalogs\n",
    "\n",
    "With the API handles, use the pre-built methods to get lists of commits and elements."
   ]
  },
  {
   "cell_type": "code",
   "execution_count": 5,
   "id": "experimental-december",
   "metadata": {},
   "outputs": [
    {
     "data": {
      "text/plain": [
       "{'id': 'f81ed828-1da3-4622-9f7a-98d333ef823a',\n",
       " 'name': 'Kerbal Fri Mar 05 18:37:54 UTC 2021',\n",
       " 'type': 'Project'}"
      ]
     },
     "execution_count": 5,
     "metadata": {},
     "output_type": "execute_result"
    }
   ],
   "source": [
    "kerbal_proj = [\n",
    "    project\n",
    "    for project in API[\"project\"].get_projects()\n",
    "    if project.name.startswith(\"Kerbal\")\n",
    "    and \"Fri Mar 05 18:37:54 UTC 2021\" in project.name\n",
    "][0]\n",
    "kerbal_proj"
   ]
  },
  {
   "cell_type": "code",
   "execution_count": 6,
   "id": "solved-financing",
   "metadata": {},
   "outputs": [
    {
     "name": "stdout",
     "output_type": "stream",
     "text": [
      "[{'change': None,\n",
      " 'containing_project': {'id': 'f81ed828-1da3-4622-9f7a-98d333ef823a'},\n",
      " 'id': '7bd26615-a993-44dc-ab27-54228937d38b',\n",
      " 'previous_commit': None,\n",
      " 'type': 'Commit'}]\n"
     ]
    }
   ],
   "source": [
    "# Get commits by project\n",
    "try:\n",
    "    commits_response = API[\"commits\"].get_commits_by_project(kerbal_proj.id)\n",
    "    pprint(commits_response)\n",
    "except ApiException as exc:\n",
    "    print(f\"Exception when calling CommitApi->get_commits_by_project: {exc}\\n\")"
   ]
  },
  {
   "cell_type": "code",
   "execution_count": 7,
   "id": "regulation-learning",
   "metadata": {},
   "outputs": [
    {
     "name": "stdout",
     "output_type": "stream",
     "text": [
      "Retrieved 100 elements.\n",
      "\n",
      "Here are the first 3 elements:\n",
      "[{'id': '009d78a0-fcff-411a-b605-9b20b3678e1c',\n",
      " 'identifier': '009d78a0-fcff-411a-b605-9b20b3678e1c',\n",
      " 'type': 'Membership'},\n",
      " {'id': '012b5231-b6a4-4603-ae10-b2f7d6cc9814',\n",
      " 'identifier': '012b5231-b6a4-4603-ae10-b2f7d6cc9814',\n",
      " 'type': 'PartUsage'},\n",
      " {'id': '01793a8c-3afd-41d8-abde-6b63ffe01cf0',\n",
      " 'identifier': '01793a8c-3afd-41d8-abde-6b63ffe01cf0',\n",
      " 'type': 'ReturnParameterMembership'}]\n"
     ]
    }
   ],
   "source": [
    "try:\n",
    "    # Get commits by project\n",
    "    elements = API[\"elements\"].get_elements_by_project_commit(\n",
    "        kerbal_proj.id,\n",
    "        commits_response[0].id,\n",
    "    )\n",
    "    print(f\"Retrieved {len(elements)} elements.\\n\")\n",
    "    print(\"Here are the first 3 elements:\")\n",
    "    pprint(elements[:3])\n",
    "except ApiException as exc:\n",
    "    elements = []\n",
    "    print(f\"Could not retrieve elements with the ElementApi->get_elements_by_project_commit: {exc}\\n\")"
   ]
  },
  {
   "cell_type": "markdown",
   "id": "global-imagination",
   "metadata": {},
   "source": [
    "# Gather Element Data\n",
    "\n",
    "Since the generated API doesn't have much detail for elements, need to do this more hands-on.\n",
    "\n",
    "Not elegant below to just have a larger page size, should implement paging later on."
   ]
  },
  {
   "cell_type": "code",
   "execution_count": 8,
   "id": "photographic-nudist",
   "metadata": {},
   "outputs": [
    {
     "data": {
      "text/plain": [
       "'http://sysml2-sst.intercax.com:9000/projects/f81ed828-1da3-4622-9f7a-98d333ef823a/commits/7bd26615-a993-44dc-ab27-54228937d38b/elements?page[size]=2000'"
      ]
     },
     "execution_count": 8,
     "metadata": {},
     "output_type": "execute_result"
    }
   ],
   "source": [
    "elements_url = (\n",
    "    f\"{SYSML_API_BASE_URL}\"\n",
    "    f\"/projects/{kerbal_proj.id}/commits/{commits_response[0].id}/elements?page[size]=2000\"\n",
    ")\n",
    "elements_url"
   ]
  },
  {
   "cell_type": "code",
   "execution_count": 9,
   "id": "disturbed-massachusetts",
   "metadata": {},
   "outputs": [],
   "source": [
    "elements_response = requests.get(elements_url)"
   ]
  },
  {
   "cell_type": "code",
   "execution_count": 10,
   "id": "consecutive-attempt",
   "metadata": {},
   "outputs": [
    {
     "name": "stdout",
     "output_type": "stream",
     "text": [
      "Found data for 497 elements.\n"
     ]
    }
   ],
   "source": [
    "elements_data = elements_response.json()\n",
    "print(f\"Found data for {len(elements_data)} elements.\")"
   ]
  },
  {
   "cell_type": "markdown",
   "id": "agreed-albany",
   "metadata": {},
   "source": [
    "Split the elements into relationships and non-relationships. This will let us work with graph representations and a graph understanding of the underlying model."
   ]
  },
  {
   "cell_type": "code",
   "execution_count": 11,
   "id": "satisfied-little",
   "metadata": {},
   "outputs": [
    {
     "name": "stdout",
     "output_type": "stream",
     "text": [
      "Found 288 relationship elements.\n",
      "Found 209 non-relationship elements.\n"
     ]
    }
   ],
   "source": [
    "relations = [\n",
    "    element\n",
    "    for element in elements_data\n",
    "    if 'relatedElement' in element\n",
    "]\n",
    "print(f\"Found {len(relations)} relationship elements.\")\n",
    "\n",
    "non_relations = [\n",
    "    element\n",
    "    for element in elements_data\n",
    "    if not 'relatedElement' in element\n",
    "]\n",
    "print(f\"Found {len(non_relations)} non-relationship elements.\")"
   ]
  },
  {
   "cell_type": "code",
   "execution_count": 12,
   "id": "square-bandwidth",
   "metadata": {},
   "outputs": [
    {
     "name": "stdout",
     "output_type": "stream",
     "text": [
      "Here are the fist 25 element names and their types sorted by name:\n"
     ]
    },
    {
     "data": {
      "text/plain": [
       "['$collection: Feature',\n",
       " '$collection: Feature',\n",
       " '$collection: Feature',\n",
       " '$collection: Feature',\n",
       " '$result: Feature',\n",
       " '$result: Feature',\n",
       " '$result: Feature',\n",
       " '$result: Feature',\n",
       " '$result: Feature',\n",
       " '$result: Feature',\n",
       " '$result: Feature',\n",
       " '$result: Feature',\n",
       " '$result: Feature',\n",
       " '$result: Feature',\n",
       " '$result: Feature',\n",
       " '$result: Feature',\n",
       " '$result: Feature',\n",
       " '$result: Feature',\n",
       " '$result: Feature',\n",
       " '$result: Feature',\n",
       " '$result: Feature',\n",
       " '$result: Feature',\n",
       " '$result: Feature',\n",
       " '$result: Feature',\n",
       " '$result: Feature']"
      ]
     },
     "execution_count": 12,
     "metadata": {},
     "output_type": "execute_result"
    }
   ],
   "source": [
    "ELEMENTS_TO_SHOW = 25\n",
    "\n",
    "print(f\"Here are the fist {ELEMENTS_TO_SHOW} element names and their types sorted by name:\")\n",
    "list(sorted([\n",
    "    f\"\"\"{element[\"name\"]}: {element[\"@type\"]}\"\"\"\n",
    "    for element in non_relations\n",
    "]))[:ELEMENTS_TO_SHOW]"
   ]
  },
  {
   "cell_type": "markdown",
   "id": "noted-converter",
   "metadata": {},
   "source": [
    "# Connect to Semantic Libraries\n",
    "\n",
    "The real work comes in the connection to the $M_1$ layer and then its interpretation at the $M_0$ layer.\n",
    "\n",
    "We will start processing the model here."
   ]
  },
  {
   "attachments": {
    "65b89bcb-18e3-4b18-816b-bfc5a2fe857e.png": {
     "image/png": "[encoded data removed]"
    }
   },
   "cell_type": "markdown",
   "id": "figured-philosophy",
   "metadata": {},
   "source": [
    "## Part Definitions and the Usage Features\n",
    "\n",
    "![image.png](attachment:65b89bcb-18e3-4b18-816b-bfc5a2fe857e.png)\n",
    "\n",
    "The \"parts\" feature will always be typed by Part, any additional features applied to a PartDefinition will subset parts."
   ]
  },
  {
   "cell_type": "code",
   "execution_count": 13,
   "id": "descending-cause",
   "metadata": {},
   "outputs": [
    {
     "name": "stdout",
     "output_type": "stream",
     "text": [
      "Found 38 types.\n"
     ]
    }
   ],
   "source": [
    "# Lets create a map for all the elements based on their `id`\n",
    "elements_by_id = {\n",
    "    element[\"@id\"]: element\n",
    "    for element in elements_data\n",
    "}\n",
    "\n",
    "# ...and a map for all the ids of a given type\n",
    "element_ids_by_type = {\n",
    "    type_: [\n",
    "        el[\"@id\"]\n",
    "        for el in elements_data\n",
    "        if el[\"@type\"] == type_\n",
    "    ]\n",
    "    for type_ in set(element[\"@type\"] for element in elements_data)\n",
    "}\n",
    "\n",
    "print(f\"Found {len(element_ids_by_type)} types.\")"
   ]
  },
  {
   "cell_type": "code",
   "execution_count": 14,
   "id": "violent-hayes",
   "metadata": {},
   "outputs": [
    {
     "name": "stdout",
     "output_type": "stream",
     "text": [
      "Found 17 part definitions:\n",
      "- Coupler\n",
      "- FL-T100 Fuel Tank\n",
      "- FL-T200 Fuel Tank\n",
      "- Fuel Tank Section\n",
      "- Kerbal Rocket Part\n",
      "- LV-T45 \"Swivel\" Liquid Fuel Engine\n",
      "- Liquid Engine\n",
      "- Liquid Stage\n",
      "- Mk1 Command Pod\n",
      "- Parachute\n",
      "- Pod\n",
      "- RT-10 \"Hammer\" Solid Fuel Booster\n",
      "- RT-5 \"Flea\" Solid Fuel Booster\n",
      "- Rocket\n",
      "- Rocket Stage\n",
      "- Solid Booster\n",
      "- Solid Stage\n"
     ]
    }
   ],
   "source": [
    "part_definitions = [\n",
    "    elements_by_id[id_]\n",
    "    for id_ in element_ids_by_type[\"PartDefinition\"]\n",
    "]\n",
    "\n",
    "print(f\"Found {len(part_definitions)} part definitions:\")\n",
    "for part_definition in sorted(part_definitions, key=lambda x: x[\"name\"]):\n",
    "    print(f\"\"\"- {part_definition[\"name\"]}\"\"\")"
   ]
  },
  {
   "cell_type": "markdown",
   "id": "veterinary-attack",
   "metadata": {},
   "source": [
    "Some old code:\n",
    "```python\n",
    "for part_def in part_defs:\n",
    "    id_memo_dict.update({part_def['@id']: part_def})\n",
    "```"
   ]
  },
  {
   "cell_type": "markdown",
   "id": "solar-delivery",
   "metadata": {},
   "source": [
    "## Subclassing Graph\n",
    "\n",
    "Trace the path from the most specialized PartDefinitions back to the library. Pack the results into a graph for later computations on going up and down the specialization tree."
   ]
  },
  {
   "cell_type": "code",
   "execution_count": 15,
   "id": "presidential-stamp",
   "metadata": {},
   "outputs": [
    {
     "name": "stdout",
     "output_type": "stream",
     "text": [
      "Found 13 superclassing relationships:\n",
      "- «Pod» :> «Kerbal Rocket Part»\n",
      "- «Fuel Tank Section» :> «Kerbal Rocket Part»\n",
      "- «Solid Stage» :> «Rocket Stage»\n",
      "- «FL-T200 Fuel Tank» :> «Fuel Tank Section»\n",
      "- «Liquid Stage» :> «Rocket Stage»\n",
      "- «Coupler» :> «Kerbal Rocket Part»\n",
      "- «LV-T45 \"Swivel\" Liquid Fuel Engine» :> «Liquid Engine»\n",
      "- «RT-5 \"Flea\" Solid Fuel Booster» :> «Solid Booster»\n",
      "- «Two-Stager» :> «Staging Chart»\n",
      "- «RT-10 \"Hammer\" Solid Fuel Booster» :> «Solid Booster»\n",
      "- «Mk1 Command Pod» :> «Pod»\n",
      "- «Parachute» :> «Kerbal Rocket Part»\n",
      "- «FL-T100 Fuel Tank» :> «Fuel Tank Section»\n"
     ]
    }
   ],
   "source": [
    "superclasses = [\n",
    "    elements_by_id[id_]\n",
    "    for id_ in element_ids_by_type[\"Superclassing\"]\n",
    "]\n",
    "\n",
    "print(f\"Found {len(superclasses)} superclassing relationships:\")\n",
    "for superclass in superclasses:\n",
    "    specific = superclass[\"specific\"][\"@id\"]\n",
    "    general = superclass[\"general\"][\"@id\"]\n",
    "    print(f\"\"\"- «{elements_by_id[specific][\"name\"]}» :> «{elements_by_id[general][\"name\"]}»\"\"\")"
   ]
  },
  {
   "cell_type": "code",
   "execution_count": 16,
   "id": "controlling-burning",
   "metadata": {},
   "outputs": [
    {
     "data": {
      "text/plain": [
       "'03f60f67-1bca-4568-b1fe-75ea7358e73c'"
      ]
     },
     "execution_count": 16,
     "metadata": {},
     "output_type": "execute_result"
    }
   ],
   "source": [
    "relations[0][\"relatedElement\"][0][\"@id\"]"
   ]
  },
  {
   "cell_type": "markdown",
   "id": "controversial-madison",
   "metadata": {},
   "source": [
    "## Lets create a graph to store the elements and their relationships"
   ]
  },
  {
   "cell_type": "code",
   "execution_count": 17,
   "id": "stuffed-thermal",
   "metadata": {},
   "outputs": [],
   "source": [
    "kerbal_model = NX.MultiDiGraph()\n",
    "\n",
    "kerbal_model.add_nodes_from(\n",
    "    {\n",
    "        element[\"@id\"]: element\n",
    "        for element in non_relations\n",
    "    }.items()\n",
    ")\n",
    "kerbal_model.add_edges_from([\n",
    "    [\n",
    "        relation[\"relatedElement\"][0][\"@id\"],  # source node (str id)\n",
    "        relation[\"relatedElement\"][1][\"@id\"],  # target node (str id)\n",
    "        relation[\"@type\"],                     # edge type (str name)\n",
    "        relation,                              # edge data (dict)\n",
    "    ]\n",
    "    for relation in relations\n",
    "]);"
   ]
  },
  {
   "cell_type": "markdown",
   "id": "trained-invention",
   "metadata": {},
   "source": [
    "### We can now draw a superclassing diagram"
   ]
  },
  {
   "cell_type": "code",
   "execution_count": 18,
   "id": "documentary-picking",
   "metadata": {},
   "outputs": [
    {
     "name": "stdout",
     "output_type": "stream",
     "text": [
      "`superclass_graph` has 18 nodes and 13 edges.\n"
     ]
    }
   ],
   "source": [
    "def get_subgraph_by_edge_type(graph, edge_type, add_ipyelk_data=True):\n",
    "    subgraph = type(graph)()\n",
    "    edges = [\n",
    "        (source, target, data)\n",
    "        for (source, target, type_), data in graph.edges.items()\n",
    "        if type_ == edge_type\n",
    "    ]\n",
    "    if not edges:\n",
    "        print(f\"Could not find any edges of type: '{edge_type}'!\")\n",
    "        return subgraph\n",
    "\n",
    "    nodes = {\n",
    "        node_id: graph.nodes[node_id]\n",
    "        for node_id in sum([\n",
    "            [source, target]\n",
    "            for (source, target, data) in edges\n",
    "        ], [])  # sum(a_list, []) flattens a_list\n",
    "    }\n",
    "\n",
    "    \n",
    "    for id_, node_data in nodes.items():\n",
    "        node_data[\"id\"] = id_\n",
    "        node_data[\"labels\"] = [\n",
    "            ElkLabel(\n",
    "                id=f\"\"\"type_label_for_{id_}\"\"\",\n",
    "                text=f\"\"\"«{node_data[\"@type\"]}»\"\"\",\n",
    "                properties={\n",
    "                    \"cssClasses\": \"node_type_label\",\n",
    "                },\n",
    "            ),\n",
    "            node_data[\"name\"],\n",
    "        ]\n",
    "\n",
    "    subgraph.add_nodes_from(nodes.items())\n",
    "    subgraph.add_edges_from(edges)\n",
    "\n",
    "    return subgraph\n",
    "\n",
    "\n",
    "superclass_graph = get_subgraph_by_edge_type(kerbal_model, \"Superclassing\")\n",
    "print(f\"\"\"`superclass_graph` has {len(superclass_graph.nodes)} nodes and {len(superclass_graph.edges)} edges.\"\"\")"
   ]
  },
  {
   "cell_type": "code",
   "execution_count": 19,
   "id": "boxed-piano",
   "metadata": {},
   "outputs": [],
   "source": [
    "layouts = ipyelk.nx.XELKTypedLayout()\n",
    "\n",
    "elk = ipyelk.Elk(\n",
    "    transformer=ipyelk.nx.XELK(\n",
    "        source=(superclass_graph, None),\n",
    "        label_key=\"labels\",\n",
    "        layouts=layouts.value,\n",
    "    ),\n",
    "    style={\n",
    "        \" text.elklabel.node_type_label\": {\n",
    "            \"font-style\": \"italic\",\n",
    "        }\n",
    "    },\n",
    ")\n",
    "\n",
    "def _element_type_opt_change(change):\n",
    "    elk.transformer.layouts = layouts.value\n",
    "    elk.refresh()\n",
    "\n",
    "layouts.observe(_element_type_opt_change, \"value\")\n",
    "elk.layout.flex = \"1\"\n",
    "\n",
    "box = ipywidgets.HBox([elk, layouts], layout=dict(height=\"60vh\"))"
   ]
  },
  {
   "cell_type": "code",
   "execution_count": 20,
   "id": "handy-township",
   "metadata": {},
   "outputs": [
    {
     "data": {
      "application/vnd.jupyter.widget-view+json": {
       "model_id": "5488c56b6888424391e3df684ec3a620",
       "version_major": 2,
       "version_minor": 0
      },
      "text/plain": [
       "HBox(children=(Elk(children=[HTML(value='<style>.styled-widget-139793304791888 text.elklabel.node_type_label{f…"
      ]
     },
     "metadata": {},
     "output_type": "display_data"
    }
   ],
   "source": [
    "box"
   ]
  },
  {
   "cell_type": "code",
   "execution_count": 21,
   "id": "tribal-milton",
   "metadata": {},
   "outputs": [],
   "source": [
    "# Lets make the diagram look a bit better...\n",
    "def set_layout_option(widget, category: str, option: str, value):\n",
    "    category_idxs = [\n",
    "        int(idx)\n",
    "        for idx, name in widget._titles.items()\n",
    "        if name == category\n",
    "    ]\n",
    "    if len(category_idxs) != 1:\n",
    "        raise ValueError(f\"Found {len(category_idxs)} entries for '{category}'!\")\n",
    "    category_widget = widget.children[category_idxs[0]]\n",
    "\n",
    "    option_idxs = [\n",
    "        int(idx)\n",
    "        for idx, name in category_widget._titles.items()\n",
    "        if name == option\n",
    "    ]\n",
    "    if len(option_idxs) != 1:\n",
    "        raise ValueError(f\"Found {len(option_idxs)} entries for '{option}' under '{category}'!\")\n",
    "\n",
    "    category_widget.children[option_idxs[0]].value = value\n",
    "\n",
    "\n",
    "# Make the direction and label placement look better...\n",
    "set_layout_option(layouts, \"Parents\", \"Direction\", \"UP\")\n",
    "set_layout_option(layouts, \"Label\", \"Node Label Placement\", \"H_CENTER V_TOP INSIDE\")"
   ]
  },
  {
   "cell_type": "markdown",
   "id": "danish-queue",
   "metadata": {},
   "source": [
    "### We can still use `matplotlib` if we want to..."
   ]
  },
  {
   "cell_type": "code",
   "execution_count": 22,
   "id": "enclosed-outdoors",
   "metadata": {},
   "outputs": [
    {
     "data": {
      "image/png": "[encoded data removed]",
      "text/plain": [
       "<Figure size 1440x864 with 1 Axes>"
      ]
     },
     "metadata": {},
     "output_type": "display_data"
    }
   ],
   "source": [
    "import matplotlib.pyplot as plt\n",
    "\n",
    "\n",
    "plt.figure(figsize=(20, 12))\n",
    "NX.draw_planar(\n",
    "    superclass_graph,\n",
    "    labels={\n",
    "        node: f\"\"\"{data[\"name\"]}\\n«{data[\"@type\"]}»\"\"\"\n",
    "        for node, data in superclass_graph.nodes.items()\n",
    "    },\n",
    ")"
   ]
  },
  {
   "cell_type": "markdown",
   "id": "developing-stylus",
   "metadata": {},
   "source": [
    "## PartUsages\n",
    "\n",
    "Inspect the features of the part definitions that should go into the features list."
   ]
  },
  {
   "cell_type": "code",
   "execution_count": 23,
   "id": "promotional-legend",
   "metadata": {},
   "outputs": [
    {
     "name": "stdout",
     "output_type": "stream",
     "text": [
      "Found 5 part usages: Coupler to Carrying Stage, engines, tanks, boosters, stages\n"
     ]
    }
   ],
   "source": [
    "ids_of_part_uses = element_ids_by_type[\"PartUsage\"]\n",
    "names_of_part_uses = [elements_by_id[id_][\"name\"] for id_ in ids_of_part_uses]\n",
    "\n",
    "print(f\"Found {len(ids_of_part_uses)} part usages: {', '.join(names_of_part_uses)}\")"
   ]
  },
  {
   "cell_type": "markdown",
   "id": "spatial-tanzania",
   "metadata": {},
   "source": [
    "Look for FeatureMemberships and TypeFeaturings to see where the features belong."
   ]
  },
  {
   "cell_type": "code",
   "execution_count": 24,
   "id": "advance-dividend",
   "metadata": {},
   "outputs": [
    {
     "ename": "NotImplementedError",
     "evalue": "The rest of the notebook as not been updated yet...",
     "output_type": "error",
     "traceback": [
      "\u001b[0;31m---------------------------------------------------------------------------\u001b[0m",
      "\u001b[0;31mNotImplementedError\u001b[0m                       Traceback (most recent call last)",
      "\u001b[0;32m<ipython-input-24-55bcddaf082b>\u001b[0m in \u001b[0;36m<module>\u001b[0;34m\u001b[0m\n\u001b[0;32m----> 1\u001b[0;31m \u001b[0;32mraise\u001b[0m \u001b[0mNotImplementedError\u001b[0m\u001b[0;34m(\u001b[0m\u001b[0;34m\"The rest of the notebook as not been updated yet...\"\u001b[0m\u001b[0;34m)\u001b[0m\u001b[0;34m\u001b[0m\u001b[0;34m\u001b[0m\u001b[0m\n\u001b[0m",
      "\u001b[0;31mNotImplementedError\u001b[0m: The rest of the notebook as not been updated yet..."
     ]
    }
   ],
   "source": [
    "raise NotImplementedError(\"The rest of the notebook as not been updated yet...\")"
   ]
  },
  {
   "cell_type": "code",
   "execution_count": null,
   "id": "starting-setup",
   "metadata": {},
   "outputs": [],
   "source": [
    "get_subgraph_by_edge_type(kerbal_model, \"FeatureMembership\")"
   ]
  },
  {
   "cell_type": "code",
   "execution_count": null,
   "id": "national-black",
   "metadata": {
    "tags": []
   },
   "outputs": [],
   "source": [
    "elements_by_id[\"94955cbe-6346-41cc-84da-04658ff4d9d9\"]"
   ]
  },
  {
   "cell_type": "code",
   "execution_count": null,
   "id": "early-possibility",
   "metadata": {
    "tags": []
   },
   "outputs": [],
   "source": [
    "feature_members_ids = element_ids_by_type[\"FeatureMembership\"]\n",
    "type_features_ids = element_ids_by_type[\"TypeFeaturings\"]"
   ]
  },
  {
   "cell_type": "code",
   "execution_count": null,
   "id": "closed-perspective",
   "metadata": {},
   "outputs": [],
   "source": [
    "feature_members = [feature_member for feature_member in relations if feature_member['@type'] == 'FeatureMembership']\n",
    "type_features = [type_feature for type_feature in relations if type_feature['@type'] == 'TypeFeaturings']"
   ]
  },
  {
   "cell_type": "code",
   "execution_count": null,
   "id": "working-satisfaction",
   "metadata": {},
   "outputs": [],
   "source": [
    "len(feature_members)"
   ]
  },
  {
   "cell_type": "code",
   "execution_count": null,
   "id": "typical-sheriff",
   "metadata": {},
   "outputs": [],
   "source": [
    "len(type_features)"
   ]
  },
  {
   "cell_type": "code",
   "execution_count": null,
   "id": "comic-equation",
   "metadata": {},
   "outputs": [],
   "source": [
    "part_featuring_graph = NX.DiGraph()"
   ]
  },
  {
   "cell_type": "code",
   "execution_count": null,
   "id": "consecutive-bacon",
   "metadata": {},
   "outputs": [],
   "source": [
    "for fm in feature_members:\n",
    "    if fm['memberElement']['@id'] in id_memo_dict:\n",
    "        if id_memo_dict[fm['memberElement']['@id']]['@type'] == 'PartUsage':\n",
    "            part_featuring_graph.add_edge(fm['memberElement']['@id'], fm['owningType']['@id'])"
   ]
  },
  {
   "cell_type": "code",
   "execution_count": null,
   "id": "applicable-private",
   "metadata": {},
   "outputs": [],
   "source": [
    "[part_featuring_graph.in_degree(node) for node in part_featuring_graph.nodes]"
   ]
  },
  {
   "cell_type": "code",
   "execution_count": null,
   "id": "innocent-motel",
   "metadata": {},
   "outputs": [],
   "source": [
    "['{0} is a member of {1}'.format(\n",
    "    get_name_by_id(fm['memberElement']['@id']), get_name_by_id(fm['owningType']['@id'])\n",
    ") for fm in feature_members if fm['memberElement']['@id'] in id_memo_dict]"
   ]
  },
  {
   "cell_type": "markdown",
   "id": "protective-reliance",
   "metadata": {},
   "source": [
    "Draw the parts featuring graph."
   ]
  },
  {
   "cell_type": "code",
   "execution_count": null,
   "id": "temporal-arnold",
   "metadata": {},
   "outputs": [],
   "source": [
    "part_featuring_graph_labels = {}\n",
    "for node in part_featuring_graph.nodes():\n",
    "    part_featuring_graph_labels.update({node: get_name_by_id(node)})\n",
    "    \n",
    "NX.draw_planar(part_featuring_graph, labels=part_featuring_graph_labels)"
   ]
  },
  {
   "cell_type": "markdown",
   "id": "stopped-fruit",
   "metadata": {},
   "source": [
    "Collect multiplicities."
   ]
  },
  {
   "cell_type": "code",
   "execution_count": null,
   "id": "inner-refrigerator",
   "metadata": {},
   "outputs": [],
   "source": [
    "mults = [mult for mult in non_relations if mult['@type'] == 'MultiplicityRange']\n",
    "integers = [integer for integer in non_relations if integer['@type'] == 'LiteralInteger']\n",
    "\n",
    "for mult in mults:\n",
    "    id_memo_dict.update({mult['@id']: mult})\n",
    "    \n",
    "for integer in integers:\n",
    "    id_memo_dict.update({integer['@id']: integer})"
   ]
  },
  {
   "cell_type": "code",
   "execution_count": null,
   "id": "automatic-hello",
   "metadata": {},
   "outputs": [],
   "source": [
    "mult_strings = []\n",
    "for mult in mults:\n",
    "    try:\n",
    "        if mult['lowerBound'] is None and mult['upperBound'] is not None:\n",
    "            mult_strings.append('[{0}]'.format(\n",
    "                id_memo_dict[mult['upperBound']['@id']]['value']))\n",
    "        else:\n",
    "            mult_strings.append('[{0}..{1}]'.format(\n",
    "                id_memo_dict[mult['lowerBound']['@id']]['value'],\n",
    "                id_memo_dict[mult['upperBound']['@id']]['value']))\n",
    "    except TypeError:\n",
    "        print('Lower Bound is ' + str(mult['lowerBound']))\n",
    "        print('Upper Bound is ' + str(mult['upperBound']))"
   ]
  },
  {
   "cell_type": "code",
   "execution_count": null,
   "id": "handmade-print",
   "metadata": {},
   "outputs": [],
   "source": [
    "mult_strings"
   ]
  },
  {
   "cell_type": "code",
   "execution_count": null,
   "id": "baking-relay",
   "metadata": {},
   "outputs": [],
   "source": [
    "def feature_lower_multiplicity(feature):\n",
    "    if feature['multiplicity'] is not None:\n",
    "        if '@id' in feature['multiplicity']:\n",
    "            mult = id_memo_dict[feature['multiplicity']['@id']]\n",
    "            if '@id' in mult['lowerBound']:\n",
    "                return id_memo_dict[mult['lowerBound']['@id']]['value']\n",
    "        \n",
    "    return 1"
   ]
  },
  {
   "cell_type": "code",
   "execution_count": null,
   "id": "foreign-transition",
   "metadata": {},
   "outputs": [],
   "source": [
    "def feature_upper_multiplicity(feature):\n",
    "    if feature['multiplicity'] is not None:\n",
    "        if '@id' in feature['multiplicity']:\n",
    "            mult = id_memo_dict[feature['multiplicity']['@id']]\n",
    "            if '@id' in mult['upperBound']:\n",
    "                return id_memo_dict[mult['upperBound']['@id']]['value']\n",
    "        \n",
    "    return 1"
   ]
  },
  {
   "cell_type": "code",
   "execution_count": null,
   "id": "necessary-density",
   "metadata": {},
   "outputs": [],
   "source": [
    "['{0} has multiplicity {1}..{2}'.format(\n",
    "    part_use['name'], feature_lower_multiplicity(part_use), feature_upper_multiplicity(part_use)\n",
    ") for part_use in part_uses]"
   ]
  },
  {
   "cell_type": "markdown",
   "id": "central-north",
   "metadata": {},
   "source": [
    "Get feature types."
   ]
  },
  {
   "cell_type": "code",
   "execution_count": null,
   "id": "separated-purchase",
   "metadata": {},
   "outputs": [],
   "source": [
    "feature_types = [feature_type for feature_type in relations if feature_type['@type'] == 'FeatureTyping']"
   ]
  },
  {
   "cell_type": "code",
   "execution_count": null,
   "id": "thirty-richmond",
   "metadata": {},
   "outputs": [],
   "source": [
    "def get_feature_type_name(feature):\n",
    "    if len(feature['type']) > 0:\n",
    "        return get_name_by_id(feature['type'][0]['@id'])\n",
    "    else:\n",
    "        return 'Part'"
   ]
  },
  {
   "cell_type": "code",
   "execution_count": null,
   "id": "architectural-thompson",
   "metadata": {},
   "outputs": [],
   "source": [
    "['{0} : {1}'.format(\n",
    "    get_name_by_id(ft['typedFeature']['@id']), get_name_by_id(ft['type']['@id'])\n",
    ") for ft in feature_types if ft['typedFeature']['@id'] in id_memo_dict]"
   ]
  },
  {
   "cell_type": "markdown",
   "id": "intellectual-sphere",
   "metadata": {},
   "source": [
    "# Generate Instances\n",
    "\n",
    "With the base semantic model in hand, begin to apply the rules to generate our system alternatives."
   ]
  },
  {
   "cell_type": "markdown",
   "id": "parental-salon",
   "metadata": {},
   "source": [
    "## Find number of instances for feature last positions\n",
    "\n",
    "In SysML, the default type is PartDefinition, which is a Classifier, meaning the minimal interpretation of length one (the specific instance). Nesting parts then have an interpretation as expected by systems engineers, namely that the instances \"stack\" in order to provide a navigation from top-level assembly to leaf component."
   ]
  },
  {
   "cell_type": "code",
   "execution_count": null,
   "id": "suffering-throat",
   "metadata": {},
   "outputs": [],
   "source": [
    "['{0} needs {1} instances of type {2}'.format(\n",
    "    part_use['name'], feature_upper_multiplicity(part_use), get_feature_type_name(part_use)\n",
    ") for part_use in part_uses]"
   ]
  },
  {
   "cell_type": "markdown",
   "id": "naughty-approach",
   "metadata": {},
   "source": [
    "Automatically shorten names so that sequences remain readable when printed."
   ]
  },
  {
   "cell_type": "code",
   "execution_count": null,
   "id": "dutch-greek",
   "metadata": {},
   "outputs": [],
   "source": [
    "shorten_pre_bake = {\n",
    "    'RT-10 \"Hammer\" Solid Fuel Booster': \"RT-10\",\n",
    "    'RT-5 \"Flea\" Solid Fuel Booster': \"RT-5\",\n",
    "    'LV-T45 \"Swivel\" Liquid Fuel Engine': \"LV-T45\",\n",
    "    'FL-T100 Fuel Tank': \"FL-T100\",\n",
    "    'FL-T200 Fuel Tank': \"FL-T200\"\n",
    "}"
   ]
  },
  {
   "cell_type": "code",
   "execution_count": null,
   "id": "funded-member",
   "metadata": {},
   "outputs": [],
   "source": [
    "def shorten_name(name):\n",
    "    short_name = ''\n",
    "    if len(name) > 5:\n",
    "        if shorten_pre_bake is not None:\n",
    "            if name in shorten_pre_bake:\n",
    "                return shorten_pre_bake[name]\n",
    "        space_place = name.find(' ')\n",
    "        if space_place > -1:\n",
    "            short_name = short_name + name[0]\n",
    "            short_name = short_name + name[space_place + 1]\n",
    "            next_space = name.find(' ', space_place + 1)\n",
    "            while next_space > -1:\n",
    "                short_name = short_name + name[next_space + 1]\n",
    "                next_space = name.find(' ', next_space + 1)\n",
    "            return short_name\n",
    "    return name"
   ]
  },
  {
   "cell_type": "code",
   "execution_count": null,
   "id": "thrown-robert",
   "metadata": {},
   "outputs": [],
   "source": [
    "class Instance():\n",
    "    def __init__(self, name, index):\n",
    "        self.name = shorten_name(name) + '#' + str(index)\n",
    "        \n",
    "    def __repr__(self):\n",
    "        return self.name"
   ]
  },
  {
   "cell_type": "code",
   "execution_count": null,
   "id": "imperial-details",
   "metadata": {},
   "outputs": [],
   "source": [
    "multiplicity_dict = {}\n",
    "\n",
    "for part_use in part_uses:\n",
    "    type_name = get_feature_type_name(part_use)\n",
    "    if type_name in multiplicity_dict:\n",
    "        old_val = multiplicity_dict[part_use]\n",
    "        multiplicity_dict.update({type_name: old_val + feature_upper_multiplicity(part_use)})\n",
    "    else:\n",
    "        multiplicity_dict.update({type_name: feature_upper_multiplicity(part_use)})"
   ]
  },
  {
   "cell_type": "code",
   "execution_count": null,
   "id": "grand-recorder",
   "metadata": {},
   "outputs": [],
   "source": [
    "multiplicity_dict"
   ]
  },
  {
   "cell_type": "markdown",
   "id": "empty-shelf",
   "metadata": {},
   "source": [
    "## Determine the size of the universe of instances needed for creating alternatives\n",
    "\n",
    "Use feature membership together with multiplicity to decide how many individuals are needed."
   ]
  },
  {
   "cell_type": "markdown",
   "id": "associate-typing",
   "metadata": {},
   "source": [
    "### Building the banded graph\n",
    "\n",
    "Build up a graph with the SysML v1 banded style of part-type-part-type (with superclassing)."
   ]
  },
  {
   "cell_type": "code",
   "execution_count": null,
   "id": "directed-empire",
   "metadata": {},
   "outputs": [],
   "source": [
    "banded_feature_graph = NX.DiGraph()"
   ]
  },
  {
   "cell_type": "code",
   "execution_count": null,
   "id": "ordinary-value",
   "metadata": {},
   "outputs": [],
   "source": [
    "for fm in feature_members:\n",
    "    if fm['memberElement']['@id'] in id_memo_dict:\n",
    "        if id_memo_dict[fm['memberElement']['@id']]['@type'] == 'PartUsage':\n",
    "            banded_feature_graph.add_edge(fm['memberElement']['@id'], fm['owningType']['@id'])\n",
    "\n",
    "for ft in feature_types:\n",
    "    if ft['typedFeature']['@id'] in id_memo_dict:\n",
    "        if id_memo_dict[ft['typedFeature']['@id']]['@type'] == 'PartUsage':\n",
    "            banded_feature_graph.add_edge(ft['type']['@id'], ft['typedFeature']['@id'])\n",
    "            \n",
    "for sup in superclasses:\n",
    "    if sup['specific']['@id'] in id_memo_dict:\n",
    "        banded_feature_graph.add_edge(sup['specific']['@id'], sup['general']['@id'])"
   ]
  },
  {
   "cell_type": "code",
   "execution_count": null,
   "id": "superb-equality",
   "metadata": {},
   "outputs": [],
   "source": [
    "banded_feature_graph_labels = {}\n",
    "for node in banded_feature_graph.nodes():\n",
    "    banded_feature_graph_labels.update({node: get_name_by_id(node)})\n",
    "    \n",
    "NX.draw_planar(banded_feature_graph, labels=banded_feature_graph_labels)"
   ]
  },
  {
   "cell_type": "code",
   "execution_count": null,
   "id": "consolidated-creek",
   "metadata": {},
   "outputs": [],
   "source": [
    "part_leaves = [id_memo_dict[node]\n",
    "    for node in part_featuring_graph.nodes\n",
    "        if part_featuring_graph.in_degree(node) == 0]"
   ]
  },
  {
   "cell_type": "code",
   "execution_count": null,
   "id": "urban-corrections",
   "metadata": {},
   "outputs": [],
   "source": [
    "part_roots = [id_memo_dict[node]\n",
    "    for node in part_featuring_graph.nodes\n",
    "        if part_featuring_graph.out_degree(node) == 0]"
   ]
  },
  {
   "cell_type": "code",
   "execution_count": null,
   "id": "destroyed-junction",
   "metadata": {},
   "outputs": [],
   "source": [
    "banded_roots = [id_memo_dict[node]\n",
    "    for node in banded_feature_graph.nodes\n",
    "        if banded_feature_graph.out_degree(node) == 0]"
   ]
  },
  {
   "cell_type": "code",
   "execution_count": null,
   "id": "compound-bulgarian",
   "metadata": {},
   "outputs": [],
   "source": [
    "[part_leaf['name'] for part_leaf in part_leaves]"
   ]
  },
  {
   "cell_type": "code",
   "execution_count": null,
   "id": "passive-refrigerator",
   "metadata": {},
   "outputs": [],
   "source": [
    "[part_root['name'] for part_root in part_roots]"
   ]
  },
  {
   "cell_type": "code",
   "execution_count": null,
   "id": "emerging-placement",
   "metadata": {},
   "outputs": [],
   "source": [
    "[banded_root['name'] for banded_root in banded_roots]"
   ]
  },
  {
   "cell_type": "markdown",
   "id": "double-creation",
   "metadata": {},
   "source": [
    "Correct the multiplicities by considering nesting.part_uses"
   ]
  },
  {
   "cell_type": "code",
   "execution_count": null,
   "id": "reported-consideration",
   "metadata": {},
   "outputs": [],
   "source": [
    "part_multiplicity = {}\n",
    "\n",
    "for part_use in part_uses:\n",
    "    corrected_mult = 0\n",
    "    for part_tree_root in banded_roots:\n",
    "        try:\n",
    "            part_path = NX.shortest_path(banded_feature_graph, part_use['@id'], part_tree_root['@id'])\n",
    "            # TODO: check that the path actually exists\n",
    "            corrected_mult = math.prod([feature_upper_multiplicity(id_memo_dict[node]) for node in part_path])\n",
    "        except NX.NetworkXNoPath:\n",
    "            pass\n",
    "    part_multiplicity.update({part_use['@id']: corrected_mult})"
   ]
  },
  {
   "cell_type": "code",
   "execution_count": null,
   "id": "superior-winning",
   "metadata": {},
   "outputs": [],
   "source": [
    "part_multiplicity"
   ]
  },
  {
   "cell_type": "markdown",
   "id": "technical-advantage",
   "metadata": {},
   "source": [
    "### Subdivide Abstract Feature Types\n",
    "\n",
    "Look at the feature types for where they are abstract and then generate instances from the more specific types."
   ]
  },
  {
   "cell_type": "code",
   "execution_count": null,
   "id": "adaptive-architect",
   "metadata": {},
   "outputs": [],
   "source": [
    "[get_name_by_id(node) for node in subclassing_graph.nodes if subclassing_graph.out_degree(node) == 0]"
   ]
  },
  {
   "cell_type": "code",
   "execution_count": null,
   "id": "minimal-premises",
   "metadata": {},
   "outputs": [],
   "source": [
    "corrected_multiplicity_dict = {}\n",
    "type_id_pairs = {}\n",
    "\n",
    "for part_use in part_uses:\n",
    "    type_name = get_feature_type_name(part_use)\n",
    "    if type_name in corrected_multiplicity_dict:\n",
    "        old_val = corrected_multiplicity_dict[part_use]\n",
    "        corrected_multiplicity_dict.update({type_name: old_val + part_multiplicity[part_use['@id']]})\n",
    "    else:\n",
    "        corrected_multiplicity_dict.update({type_name: part_multiplicity[part_use['@id']]})\n",
    "        if len(part_use['type']) > 0:\n",
    "            type_id_pairs.update({type_name: part_use['type'][0]['@id']})"
   ]
  },
  {
   "cell_type": "code",
   "execution_count": null,
   "id": "alpha-powder",
   "metadata": {},
   "outputs": [],
   "source": [
    "type_id_pairs"
   ]
  },
  {
   "cell_type": "code",
   "execution_count": null,
   "id": "round-chester",
   "metadata": {},
   "outputs": [],
   "source": [
    "corrected_multiplicity_dict"
   ]
  },
  {
   "cell_type": "markdown",
   "id": "sensitive-destruction",
   "metadata": {},
   "source": [
    "## Generate Random Alternatives\n",
    "\n",
    "Start creating the alternatives with random draws on multiplicity. This will be our space for investigation for weights, thrust-to-weight ratios at stage ignitions, delta-Vs, and initial and burnout masses."
   ]
  },
  {
   "cell_type": "code",
   "execution_count": null,
   "id": "under-table",
   "metadata": {},
   "outputs": [],
   "source": [
    "no_alts_to_create = 50"
   ]
  },
  {
   "cell_type": "code",
   "execution_count": null,
   "id": "gross-resistance",
   "metadata": {},
   "outputs": [],
   "source": [
    "partitioned_multiplicity_dicts = []\n",
    "\n",
    "for step in range(0, no_alts_to_create):\n",
    "\n",
    "    partitioned_multiplicity_dict = {}\n",
    "\n",
    "    for key in corrected_multiplicity_dict:\n",
    "        if key in type_id_pairs:\n",
    "            key_id = type_id_pairs[key]\n",
    "            type_obj = id_memo_dict[key_id]\n",
    "            if type_obj['isAbstract']:\n",
    "                local_partition = {}\n",
    "                if key_id in subclassing_graph.nodes:\n",
    "                    no_splits = len(list(subclassing_graph.successors(key_id)))\n",
    "                    taken = 0\n",
    "                    for indx, succ in enumerate(subclassing_graph.successors(key_id)):\n",
    "                        if indx < no_splits - 1:\n",
    "                            draw = random.randint(0, corrected_multiplicity_dict[key])\n",
    "                            taken = taken + draw\n",
    "                        else:\n",
    "                            draw = corrected_multiplicity_dict[key] - taken\n",
    "                        local_partition.update({get_name_by_id(succ): draw})\n",
    "                partitioned_multiplicity_dict.update({key: local_partition})\n",
    "            else:\n",
    "                partitioned_multiplicity_dict.update({key: corrected_multiplicity_dict[key]})\n",
    "                \n",
    "    partitioned_multiplicity_dicts.append(partitioned_multiplicity_dict)"
   ]
  },
  {
   "cell_type": "code",
   "execution_count": null,
   "id": "grand-section",
   "metadata": {},
   "outputs": [],
   "source": [
    "partitioned_multiplicity_dicts[0]"
   ]
  },
  {
   "cell_type": "markdown",
   "id": "polyphonic-foster",
   "metadata": {},
   "source": [
    "- [ ] TODO: Fix the dictionary to have keys as IDs, not name"
   ]
  },
  {
   "cell_type": "code",
   "execution_count": null,
   "id": "detailed-george",
   "metadata": {},
   "outputs": [],
   "source": [
    "classifier_instance_dicts = []\n",
    "classifier_memo_dicts = []\n",
    "\n",
    "for step in range(0, no_alts_to_create):\n",
    "\n",
    "    classifier_instance_dict = {}\n",
    "    classifier_memo_dict = {}\n",
    "    \n",
    "    partitioned_multiplicity_dict = partitioned_multiplicity_dicts[step]\n",
    "\n",
    "    for mult_key in partitioned_multiplicity_dict:\n",
    "        instances_list = []\n",
    "        if isinstance(partitioned_multiplicity_dict[mult_key], dict):\n",
    "            for special_key in partitioned_multiplicity_dict[mult_key]:\n",
    "                sub_instances_list = []\n",
    "                instances_number = (partitioned_multiplicity_dict[mult_key][special_key] + 1)\n",
    "                for index in range(1, instances_number):\n",
    "                    new_instance = Instance(special_key, index)\n",
    "                    instances_list.append(new_instance)\n",
    "                    sub_instances_list.append(new_instance)\n",
    "                    classifier_memo_dict.update({new_instance.name: [special_key, mult_key]})\n",
    "                classifier_instance_dict.update({special_key: sub_instances_list})\n",
    "            classifier_instance_dict.update({mult_key: instances_list})\n",
    "        else:\n",
    "            instances_number = (corrected_multiplicity_dict[mult_key] + 1)\n",
    "            for index in range(1, instances_number):\n",
    "                new_instance = Instance(mult_key, index)\n",
    "                instances_list.append(new_instance)\n",
    "                classifier_memo_dict.update({new_instance.name: [mult_key]})\n",
    "            classifier_instance_dict.update({mult_key: instances_list})\n",
    "            \n",
    "    classifier_instance_dicts.append(classifier_instance_dict)\n",
    "    classifier_memo_dicts.append(classifier_memo_dict)"
   ]
  },
  {
   "cell_type": "markdown",
   "id": "wired-penguin",
   "metadata": {},
   "source": [
    "Now that the universe of instances has been calculated, we can look at how they can be sequenced. This method is probably fragile so will need revisions.\n",
    "In this case, found that it can't handle unconnected featuring graph components."
   ]
  },
  {
   "cell_type": "code",
   "execution_count": null,
   "id": "fabulous-packet",
   "metadata": {},
   "outputs": [],
   "source": [
    "[get_name_by_id(node) for node in NX.topological_sort(part_featuring_graph.reverse())]"
   ]
  },
  {
   "cell_type": "code",
   "execution_count": null,
   "id": "restricted-hypothetical",
   "metadata": {},
   "outputs": [],
   "source": [
    "sorted_feature_groups = []"
   ]
  },
  {
   "cell_type": "code",
   "execution_count": null,
   "id": "senior-creek",
   "metadata": {},
   "outputs": [],
   "source": [
    "for comp in NX.connected_components(part_featuring_graph.to_undirected()):\n",
    "    connected_sub = NX.subgraph(part_featuring_graph, list(comp))\n",
    "    sorted_feature_groups.append(\n",
    "        [node for node in NX.topological_sort(connected_sub.reverse())]\n",
    "    )\n",
    "    print([get_name_by_id(node) for node in NX.topological_sort(connected_sub.reverse())])"
   ]
  },
  {
   "cell_type": "code",
   "execution_count": null,
   "id": "mounted-mortgage",
   "metadata": {},
   "outputs": [],
   "source": [
    "sorted_feature_groups"
   ]
  },
  {
   "cell_type": "code",
   "execution_count": null,
   "id": "special-drilling",
   "metadata": {},
   "outputs": [],
   "source": [
    "for classifier_instance_dict in classifier_instance_dicts:\n",
    "\n",
    "    for part_tree_root in part_roots:\n",
    "        root_name = get_name_by_id(part_tree_root['@id'])\n",
    "        if root_name not in classifier_instance_dict:\n",
    "            classifier_instance_dict.update({root_name: Instance(root_name, 1)})"
   ]
  },
  {
   "cell_type": "markdown",
   "id": "biological-velvet",
   "metadata": {},
   "source": [
    "The topological sort on the graph of feature membership determines the order in which to build up sets of instances for features."
   ]
  },
  {
   "cell_type": "code",
   "execution_count": null,
   "id": "valuable-progress",
   "metadata": {},
   "outputs": [],
   "source": [
    "classifier_instance_dicts[0]"
   ]
  },
  {
   "cell_type": "code",
   "execution_count": null,
   "id": "plain-father",
   "metadata": {},
   "outputs": [],
   "source": [
    "feature_sequence_dictionaries = []\n",
    "\n",
    "for step in range(0, no_alts_to_create):\n",
    "    \n",
    "    classifier_instance_dict = classifier_instance_dicts[step]\n",
    "    \n",
    "    feature_sequence_dictionary = {}\n",
    "    covered_draw_dict = {}\n",
    "    \n",
    "    for sorting in sorted_feature_groups:\n",
    "        for indx, node in enumerate(sorting):\n",
    "            if indx > 0:\n",
    "                new_dict = {}\n",
    "                # get current parent from the graph\n",
    "                for pred in part_featuring_graph.successors(node):\n",
    "                    current_parent = pred\n",
    "                    #print(get_name_by_id(current_parent))\n",
    "\n",
    "                sequence_of_sequences = []\n",
    "\n",
    "                for sequence in feature_sequence_dictionary[current_parent]:\n",
    "\n",
    "                    test_mult = random.randint(\n",
    "                        feature_lower_multiplicity(id_memo_dict[node]),\n",
    "                        feature_upper_multiplicity(id_memo_dict[node])\n",
    "                    )\n",
    "\n",
    "                    for ind_j in range(0, test_mult):\n",
    "                        new_sequence = copy.deepcopy(sequence)\n",
    "                        # find the type of the current feature node\n",
    "                        node_type = get_feature_type_name(id_memo_dict[node])\n",
    "\n",
    "                        need_draw = True\n",
    "                        \n",
    "                        safety_count = 0\n",
    "\n",
    "                        while(need_draw and safety_count < 100):\n",
    "\n",
    "                            draw = random.randint(\n",
    "                                0,\n",
    "                                corrected_multiplicity_dict[node_type] - 1\n",
    "                            )\n",
    "                            #print(classifier_instance_dict[node_type][draw])\n",
    "\n",
    "                            if node_type in covered_draw_dict:\n",
    "                                if classifier_instance_dict[node_type][draw] in covered_draw_dict[node_type]:\n",
    "                                    pass\n",
    "                                    #need_draw = False\n",
    "                                else:\n",
    "                                    covered_draw_dict[node_type].append(classifier_instance_dict[node_type][draw])\n",
    "                                    need_draw = False\n",
    "                            else:\n",
    "                                covered_draw_dict.update({node_type : [classifier_instance_dict[node_type][draw]]})\n",
    "                                need_draw = False\n",
    "\n",
    "                            safety_count = safety_count + 1\n",
    "                            if safety_count == 99:\n",
    "                                print('Safety count hit when trying to place ' + \n",
    "                                      str(classifier_instance_dict[node_type][draw]) + ' under ' +\n",
    "                                     str(new_sequence))\n",
    "                                print('Covered dict is ' + str(covered_draw_dict[node_type]))\n",
    "                        \n",
    "                        new_sequence.append(classifier_instance_dict[node_type][draw])\n",
    "\n",
    "                        sequence_of_sequences.append(new_sequence)\n",
    "\n",
    "                feature_sequence_dictionary.update({node: sequence_of_sequences})\n",
    "\n",
    "            elif indx == 0:\n",
    "                if isinstance(classifier_instance_dict[get_name_by_id(node)], list):\n",
    "                    starter_list = []\n",
    "                    for item in classifier_instance_dict[get_name_by_id(node)]:\n",
    "                        starter_list.append([item])\n",
    "                    # handle case where main type has more than one instance\n",
    "                    feature_sequence_dictionary.update({node: starter_list})\n",
    "                    #print(starter_list)\n",
    "                    if len(starter_list) == 0:\n",
    "                        break\n",
    "                else:\n",
    "                    feature_sequence_dictionary.update({node: [[classifier_instance_dict[get_name_by_id(node)]]]})\n",
    "            \n",
    "    feature_sequence_dictionaries.append(feature_sequence_dictionary)"
   ]
  },
  {
   "cell_type": "code",
   "execution_count": null,
   "id": "prime-exposure",
   "metadata": {},
   "outputs": [],
   "source": [
    "for indx, feature_sequence_dictionary in enumerate(feature_sequence_dictionaries):\n",
    "    if indx < 3:\n",
    "        print(\"Solution #\" + str(indx))\n",
    "        for key in feature_sequence_dictionary:\n",
    "            print(get_name_by_id(key) + ', id ' + key)\n",
    "            for seq in feature_sequence_dictionary[key]:\n",
    "                print(str(seq))"
   ]
  },
  {
   "cell_type": "markdown",
   "id": "cooperative-evening",
   "metadata": {},
   "source": [
    "# Analyze and Explore Resulting Space\n",
    "\n",
    "Now that the alternatives have been generated, we can explore the population"
   ]
  },
  {
   "cell_type": "code",
   "execution_count": null,
   "id": "suspended-speaker",
   "metadata": {},
   "outputs": [],
   "source": [
    "[[get_name_by_id(node), node] for node in subclassing_graph.nodes if subclassing_graph.out_degree(node) == 0]"
   ]
  },
  {
   "cell_type": "markdown",
   "id": "otherwise-recommendation",
   "metadata": {},
   "source": [
    "## Gather AttributeUsages and literal values\n",
    "\n",
    "Find all the attribute usages so we can navigate to them from our parts library."
   ]
  },
  {
   "cell_type": "markdown",
   "id": "consistent-housing",
   "metadata": {},
   "source": [
    "TODO: Look at using FeatureValue relationships for this"
   ]
  },
  {
   "cell_type": "code",
   "execution_count": null,
   "id": "precious-scientist",
   "metadata": {},
   "outputs": [],
   "source": [
    "def get_att_literal_values(att_use):\n",
    "    literal_values = []\n",
    "    for att_member in att_use['ownedMember']:\n",
    "        if att_member['@id'] in id_memo_dict:\n",
    "            if id_memo_dict[att_member['@id']]['@type'] == 'LiteralReal':\n",
    "                literal_values.append(id_memo_dict[att_member['@id']])\n",
    "                \n",
    "    return literal_values"
   ]
  },
  {
   "cell_type": "code",
   "execution_count": null,
   "id": "meaning-december",
   "metadata": {},
   "outputs": [],
   "source": [
    "att_uses = [att_use for att_use in non_relations if att_use['@type'] == 'AttributeUsage']\n",
    "for att_use in att_uses:\n",
    "    id_memo_dict.update({att_use['@id']: att_use})"
   ]
  },
  {
   "cell_type": "markdown",
   "id": "superb-currency",
   "metadata": {},
   "source": [
    "Get literal reals to connect to attributes."
   ]
  },
  {
   "cell_type": "code",
   "execution_count": null,
   "id": "first-uniform",
   "metadata": {},
   "outputs": [],
   "source": [
    "reals = [real for real in non_relations if real['@type'] == 'LiteralReal']\n",
    "for real in reals:\n",
    "    id_memo_dict.update({real['@id']: real})"
   ]
  },
  {
   "cell_type": "markdown",
   "id": "finnish-collapse",
   "metadata": {},
   "source": [
    "Create objects to hold different values per instance."
   ]
  },
  {
   "cell_type": "code",
   "execution_count": null,
   "id": "invalid-conflict",
   "metadata": {},
   "outputs": [],
   "source": [
    "class ValueHolder():\n",
    "    \n",
    "    def __init__(self, path, name, value):\n",
    "        # path is list of instance references\n",
    "        self.holder_string = ''\n",
    "        for indx, step in enumerate(path):\n",
    "            if indx == 0:\n",
    "                self.holder_string = str(step)\n",
    "            else:\n",
    "                self.holder_string = self.holder_string + '.' + str(step)\n",
    "        self.holder_string = self.holder_string + '.' + name\n",
    "        self.value = value\n",
    "    \n",
    "    def __repr__(self):\n",
    "        if self.value is not None:\n",
    "            return self.holder_string + ' (' + str(self.value) + ')'\n",
    "        else:\n",
    "            return self.holder_string + ' (unset)'"
   ]
  },
  {
   "cell_type": "markdown",
   "id": "international-chart",
   "metadata": {},
   "source": [
    "Get expressions attached to attributes as values."
   ]
  },
  {
   "cell_type": "code",
   "execution_count": null,
   "id": "tender-organization",
   "metadata": {},
   "outputs": [],
   "source": [
    "found_ele = [found for found in non_relations if found['@id'] == 'ced4f691-07ff-45dd-a2cd-687bc3bb8942']"
   ]
  },
  {
   "cell_type": "code",
   "execution_count": null,
   "id": "imperial-booking",
   "metadata": {},
   "outputs": [],
   "source": [
    "type_values = {}\n",
    "\n",
    "for att_use in att_uses:\n",
    "    if len(att_use['ownedMember']) > 0:\n",
    "        typ = id_memo_dict[att_use['owningType']['@id']]\n",
    "        for att_member in att_use['ownedMember']:\n",
    "            for value in get_att_literal_values(att_use):\n",
    "                print (att_use['name'] + ' of ' + typ['name'] + ' = ' + str(value['value']))\n",
    "                if att_use['name'] in type_values:\n",
    "                    type_values[att_use['name']].update({typ['name']: value['value']})\n",
    "                else:\n",
    "                    type_values.update({att_use['name']: {typ['name']: value['value']}})"
   ]
  },
  {
   "cell_type": "code",
   "execution_count": null,
   "id": "dietary-belly",
   "metadata": {},
   "outputs": [],
   "source": [
    "type_values"
   ]
  },
  {
   "cell_type": "markdown",
   "id": "technical-designer",
   "metadata": {},
   "source": [
    "- [ ] TODO: Factor the above as sequences of instances rather than going back to the type"
   ]
  },
  {
   "cell_type": "markdown",
   "id": "injured-deviation",
   "metadata": {},
   "source": [
    "## Create Attribute Sequences\n",
    "\n",
    "Add attributes to the sequences for parts, and where there are values, add those to the sequence also."
   ]
  },
  {
   "cell_type": "code",
   "execution_count": null,
   "id": "identical-welcome",
   "metadata": {},
   "outputs": [],
   "source": [
    "attribute_member_value_graph = NX.DiGraph()\n",
    "\n",
    "for att in att_uses:\n",
    "    if att['@id'] in id_memo_dict:\n",
    "        if id_memo_dict[att['@id']]['@type'] == 'AttributeUsage':\n",
    "            attribute_member_value_graph.add_edge(att['@id'], att['owningType']['@id'])\n",
    "            for value in get_att_literal_values(att):\n",
    "                attribute_member_value_graph.add_edge(value['@id'], att['@id'])"
   ]
  },
  {
   "cell_type": "code",
   "execution_count": null,
   "id": "southeast-relief",
   "metadata": {},
   "outputs": [],
   "source": [
    "attribute_member_value_graph_labels = {}\n",
    "for node in attribute_member_value_graph.nodes():\n",
    "    if id_memo_dict[node]['@type'] == 'AttributeUsage':\n",
    "        attribute_member_value_graph_labels.update({node: get_name_by_id(node)})\n",
    "    elif id_memo_dict[node]['@type'] == 'LiteralReal':\n",
    "        attribute_member_value_graph_labels.update({node: id_memo_dict[node]['value']})\n",
    "    \n",
    "NX.draw_spring(attribute_member_value_graph, labels=attribute_member_value_graph_labels)"
   ]
  },
  {
   "cell_type": "markdown",
   "id": "nervous-delta",
   "metadata": {},
   "source": [
    "### Match Attributes to Classifier types\n",
    "\n",
    "Where the owningType of the Attribute usage is a classifier, use it as the base of the sequence."
   ]
  },
  {
   "cell_type": "code",
   "execution_count": null,
   "id": "premier-spoke",
   "metadata": {},
   "outputs": [],
   "source": [
    "classifier_instance_dicts[0].keys()"
   ]
  },
  {
   "cell_type": "code",
   "execution_count": null,
   "id": "infrared-appraisal",
   "metadata": {},
   "outputs": [],
   "source": [
    "att_value_dicts = []\n",
    "value_holders = []\n",
    "\n",
    "for classifier_instance_dict in classifier_instance_dicts:\n",
    "\n",
    "    att_value_dict = {}\n",
    "\n",
    "    for att in att_uses:\n",
    "        new_sequences = []\n",
    "        att_owning_type = id_memo_dict[att['owningType']['@id']]\n",
    "        if att_owning_type['@type'] == 'PartDefinition':\n",
    "            if att_owning_type['name'] in classifier_instance_dict:\n",
    "                for instance in classifier_instance_dict[att_owning_type['name']]:\n",
    "                    new_sequence = []\n",
    "                    new_sequence.append(instance)\n",
    "                    \n",
    "                    #new_sequence.append(att['name'])\n",
    "                    \n",
    "                    for value in get_att_literal_values(att):\n",
    "                        #new_sequence.append(value['@id'])\n",
    "                        new_holder = ValueHolder([instance], att['name'], value['value'])\n",
    "                        value_holders.append(new_holder)\n",
    "                        new_sequence.append(new_holder)\n",
    "                        \n",
    "                    if len(get_att_literal_values(att)) == 0:\n",
    "                        new_holder = ValueHolder([instance], att['name'], None)\n",
    "                        new_sequence.append(new_holder)\n",
    "                    new_sequences.append(new_sequence)\n",
    "\n",
    "        att_value_dict.update({att['@id']: new_sequences})\n",
    "        \n",
    "    att_value_dicts.append(att_value_dict)"
   ]
  },
  {
   "cell_type": "code",
   "execution_count": null,
   "id": "designing-tournament",
   "metadata": {},
   "outputs": [],
   "source": [
    "for indx, att_value_dict in enumerate(att_value_dicts):\n",
    "    if indx < 3:\n",
    "        print(\"Solution #\" + str(indx))\n",
    "        for key in att_value_dict:\n",
    "            print(get_name_by_id(key) + ', id ' + key)\n",
    "            for indx, seq in enumerate(att_value_dict[key]):\n",
    "                if indx < 5:\n",
    "                    seq_string = []\n",
    "                    for member in seq:\n",
    "                        if isinstance(member, str) and member in id_memo_dict:\n",
    "                            obj = id_memo_dict[member]\n",
    "                            # TODO: Create unique value objects for formula mapping\n",
    "                            if obj['@type'] == 'LiteralReal':\n",
    "                                seq_string.append(str(obj['value']) + ', id ' + member)\n",
    "                        else:\n",
    "                            seq_string.append(member)\n",
    "                    print(seq_string)\n",
    "                elif indx == 5:\n",
    "                    print('..')"
   ]
  },
  {
   "cell_type": "markdown",
   "id": "institutional-japanese",
   "metadata": {},
   "source": [
    "## Gather Expressions and Invocations and Build Expression Graph"
   ]
  },
  {
   "cell_type": "code",
   "execution_count": null,
   "id": "italian-mirror",
   "metadata": {},
   "outputs": [],
   "source": [
    "expression_graph = NX.DiGraph()\n",
    "expression_graph_labels = {}\n",
    "expression_graph_ascii = ''\n",
    "\n",
    "invocations = []\n"
   ]
  },
  {
   "cell_type": "markdown",
   "id": "hundred-barcelona",
   "metadata": {},
   "source": [
    "Memoize InvocationExpressions, BlockExpressions, FeatureReferenceExpressions, and ReferenceUsages"
   ]
  },
  {
   "cell_type": "code",
   "execution_count": null,
   "id": "graphic-range",
   "metadata": {},
   "outputs": [],
   "source": [
    "invocations = [invocation for invocation in non_relations if invocation['@type'] == 'InvocationExpression']\n",
    "functions = [function for function in non_relations if function['@type'] == 'Function']\n",
    "op_exprs = [function for function in non_relations if function['@type'] == 'OperatorExpression']\n",
    "block_exprs = [block_expr for block_expr in non_relations if block_expr['@type'] == 'BlockExpression']\n",
    "feature_refs = [feature_ref for feature_ref in non_relations if feature_ref['@type'] == 'FeatureReferenceExpression']\n",
    "reference_uses = [ref_use for ref_use in non_relations if ref_use['@type'] == 'ReferenceUsage']\n",
    "\n",
    "para_members = [para_member for para_member in relations if para_member['@type'] == 'ParameterMembership']\n",
    "res_expr_members = [res_expr_member for res_expr_member in relations if res_expr_member['@type'] == 'ResultExpressionMembership']\n",
    "ret_para_members = [ret_para_member for ret_para_member in relations if ret_para_member['@type'] == 'ReturnParameterMembership']\n",
    "\n",
    "for invocation in invocations:\n",
    "    id_memo_dict.update({invocation['@id']: invocation})\n",
    "    \n",
    "for function in functions:\n",
    "    id_memo_dict.update({function['@id']: function})\n",
    "    \n",
    "for op_expr in op_exprs:\n",
    "    id_memo_dict.update({op_expr['@id']: op_expr})\n",
    "    \n",
    "for block_expr in block_exprs:\n",
    "    id_memo_dict.update({block_expr['@id']: block_expr})\n",
    "    \n",
    "for feature_ref in feature_refs:\n",
    "    id_memo_dict.update({feature_ref['@id']: feature_ref})\n",
    "    \n",
    "for reference_use in reference_uses:\n",
    "    id_memo_dict.update({reference_use['@id']: reference_use})"
   ]
  },
  {
   "cell_type": "code",
   "execution_count": null,
   "id": "christian-minneapolis",
   "metadata": {},
   "outputs": [],
   "source": [
    "ofms = []\n",
    "ofms.extend(para_members)\n",
    "ofms.extend(res_expr_members)\n",
    "ofms.extend(ret_para_members)"
   ]
  },
  {
   "cell_type": "markdown",
   "id": "realistic-symphony",
   "metadata": {},
   "source": [
    "Get feature memberships from the expressions to their members."
   ]
  },
  {
   "cell_type": "code",
   "execution_count": null,
   "id": "pacific-inspector",
   "metadata": {},
   "outputs": [],
   "source": [
    "for fm in feature_members:\n",
    "    if fm['owningType']['@id'] in id_memo_dict:\n",
    "        if id_memo_dict[fm['owningType']['@id']]['@type'] == 'InvocationExpression':\n",
    "            expression_graph.add_edge(fm['owningType']['@id'], fm['memberFeature']['@id'])\n",
    "        if id_memo_dict[fm['owningType']['@id']]['@type'] == 'Function':\n",
    "            expression_graph.add_edge(fm['owningType']['@id'], fm['memberFeature']['@id'])\n",
    "            expression_graph_labels.update({fm['owningType']['@id']: id_memo_dict[fm['owningType']['@id']]['name']})\n",
    "        if id_memo_dict[fm['owningType']['@id']]['@type'] == 'OperatorExpression':\n",
    "            expression_graph.add_edge(fm['owningType']['@id'], fm['memberFeature']['@id'])\n",
    "            expression_graph_labels.update({fm['owningType']['@id']: id_memo_dict[fm['owningType']['@id']]['operator']})\n",
    "            if fm['memberFeature']['@id'] in id_memo_dict:\n",
    "                if id_memo_dict[fm['memberFeature']['@id']]['@type'] == 'FeatureReferenceExpression':\n",
    "                    expression_graph_labels.update({fm['memberFeature']['@id']: \n",
    "                                                   id_memo_dict[id_memo_dict[fm['memberFeature']['@id']]['referent']['@id']]['name'] + ' (FeatRef)'})\n",
    "\n",
    "for ofm in ofms:\n",
    "    if ofm['owningType']['@id'] in id_memo_dict:\n",
    "        if id_memo_dict[ofm['owningType']['@id']]['@type'] == 'BlockExpression':\n",
    "            expression_graph.add_edge(ofm['owningType']['@id'], ofm['memberFeature']['@id'])\n",
    "            if ofm['memberFeature']['@id'] in id_memo_dict:\n",
    "                if id_memo_dict[ofm['memberFeature']['@id']]['@type'] == 'FeatureReferenceExpression':\n",
    "                    expression_graph_labels.update({ofm['memberFeature']['@id']: \n",
    "                                                   id_memo_dict[id_memo_dict[ofm['memberFeature']['@id']]['referent']['@id']]['name'] + ' (FeatRef)'})\n",
    "            if get_name_by_id(ofm['memberFeature']['@id']) is not None:\n",
    "                if get_metatype_by_id(ofm['memberFeature']['@id']) == 'ReferenceUsage':\n",
    "                    ref_type_name = id_memo_dict[id_memo_dict[ofm['memberFeature']['@id']]['type'][0]['@id']]['name']\n",
    "                    expression_graph_labels.update({ofm['memberFeature']['@id']: \n",
    "                                                    get_name_by_id(ofm['memberFeature']['@id']) + ':' + ref_type_name})\n",
    "                else:\n",
    "                    expression_graph_labels.update({ofm['memberFeature']['@id']: get_name_by_id(ofm['memberFeature']['@id'])})\n",
    "                    \n",
    "for ft in feature_types:\n",
    "    if ft['typedFeature']['@id'] in id_memo_dict:\n",
    "        if id_memo_dict[ft['type']['@id']]['@type'] == 'Function':\n",
    "            expression_graph.add_edge(ft['typedFeature']['@id'], ft['type']['@id'])\n",
    "            expression_graph_labels.update({ft['type']['@id']: id_memo_dict[ft['type']['@id']]['name']})"
   ]
  },
  {
   "cell_type": "markdown",
   "id": "solar-fleet",
   "metadata": {},
   "source": [
    "Gather the body and parameters of the invocation."
   ]
  },
  {
   "cell_type": "code",
   "execution_count": null,
   "id": "intermediate-spice",
   "metadata": {},
   "outputs": [],
   "source": [
    "NX.draw_spring(expression_graph, labels=expression_graph_labels)"
   ]
  },
  {
   "cell_type": "markdown",
   "id": "american-magnet",
   "metadata": {},
   "source": [
    "## Perform Staging Mass Analysis\n",
    "\n",
    "- [ ] TODO: Strengthen this with analyses that actually do the calculation\n",
    "- [ ] TODO: Accommodate associations between tanks and engines to make delta-V and Isp calculations work properly"
   ]
  },
  {
   "cell_type": "markdown",
   "id": "satellite-management",
   "metadata": {},
   "source": [
    "This is very specific to a given calculation - need to have a kernel for expanding the calculations just as with inspecting type hierarchy and multiplicity"
   ]
  },
  {
   "cell_type": "code",
   "execution_count": null,
   "id": "czech-arnold",
   "metadata": {},
   "outputs": [],
   "source": [
    "for indx, feature_sequence_dictionary in enumerate(feature_sequence_dictionaries):\n",
    "    no_stages = len(feature_sequence_dictionary['31a4436f-07fd-48c6-b503-9d186d925c3c'])\n",
    "    print(str(no_stages))\n",
    "    for stag in range(1, no_stages + 1):\n",
    "        stage_empty_mass = 0\n",
    "        stage_full_mass = 0\n",
    "        stage_specific_impulse = 0\n",
    "        # add up the starter mass for the stage and the burnout mass\n",
    "        stage_instance = feature_sequence_dictionary['31a4436f-07fd-48c6-b503-9d186d925c3c'][stag - 1][-1]\n",
    "        print(str(stage_instance) + \": \" + str(classifier_memo_dicts[indx][stage_instance.name]))\n",
    "        if '54c2e565-ede4-4c12-a44c-2277566a2861' in feature_sequence_dictionary:\n",
    "            booster_instances = \\\n",
    "                [booster[-1] for booster in feature_sequence_dictionary['54c2e565-ede4-4c12-a44c-2277566a2861']\n",
    "                     if str(booster[0]) == str(stage_instance)]\n",
    "            print('Booster instance length = ' + str(len(booster_instances)))\n",
    "            for booster in booster_instances:\n",
    "                for clz in classifier_memo_dicts[indx][booster.name]:\n",
    "                    if clz in partitioned_multiplicity_dicts[indx]:\n",
    "                        pass\n",
    "                    else:\n",
    "                        empty_mass = type_values['Empty Mass'][clz]\n",
    "                        full_mass = type_values['Full Mass'][clz]\n",
    "                        specific_impulse = type_values['Specific Impulse'][clz]\n",
    "\n",
    "                        stage_empty_mass = stage_empty_mass + empty_mass\n",
    "                        stage_full_mass = stage_full_mass + full_mass\n",
    "                        stage_specific_impulse = stage_specific_impulse + specific_impulse\n",
    "            if len(booster_instances) > 0:\n",
    "                stage_specific_impulse = stage_specific_impulse / len(booster_instances)\n",
    "        \n",
    "        if stage_empty_mass > 0.0:\n",
    "            booster_delta_V = 9.81 * stage_specific_impulse * math.log(stage_full_mass / stage_empty_mass)\n",
    "        \n",
    "        if indx < 3:\n",
    "            print ('Stage booster full mass is ' + str(stage_full_mass))\n",
    "            print ('Stage booster empty mass is ' + str(stage_empty_mass))\n",
    "            print ('Stage booster specific impulse is ' + str(stage_specific_impulse))\n",
    "            print ('Stage booster delta-V is ' + str(booster_delta_V))"
   ]
  },
  {
   "cell_type": "code",
   "execution_count": null,
   "id": "social-punishment",
   "metadata": {},
   "outputs": [],
   "source": []
  }
 ],
 "metadata": {
  "kernelspec": {
   "display_name": "Python 3",
   "language": "python",
   "name": "python3"
  },
  "language_info": {
   "codemirror_mode": {
    "name": "ipython",
    "version": 3
   },
   "file_extension": ".py",
   "mimetype": "text/x-python",
   "name": "python",
   "nbconvert_exporter": "python",
   "pygments_lexer": "ipython3",
   "version": "3.9.2"
  },
  "toc-autonumbering": false
 },
 "nbformat": 4,
 "nbformat_minor": 5
}
