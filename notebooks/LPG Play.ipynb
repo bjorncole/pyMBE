{
 "cells": [
  {
   "cell_type": "markdown",
   "id": "0e39b260",
   "metadata": {},
   "source": [
    "# Labeled Property Graph Play\n",
    "\n",
    "The notebook looks at working with the LPG from SysML v2 clients"
   ]
  },
  {
   "cell_type": "code",
   "execution_count": 1,
   "id": "02d833d8",
   "metadata": {},
   "outputs": [],
   "source": [
    "import pymbe.api as pm\n",
    "from pymbe.label import get_label\n",
    "import networkx as NX\n",
    "import matplotlib.pyplot as plt\n",
    "\n",
    "from pymbe.interpretation.interp_playbooks import random_generator_playbook\n",
    "from pymbe.interpretation.results import pprint_interpretation\n",
    "\n",
    "from pymbe.query.metamodel_navigator import map_inputs_to_results"
   ]
  },
  {
   "cell_type": "code",
   "execution_count": 2,
   "id": "0887c0f5",
   "metadata": {},
   "outputs": [
    {
     "name": "stderr",
     "output_type": "stream",
     "text": [
      "c:\\users\\bjorn\\documents\\git\\pymbe\\src\\pymbe\\graph\\lpg.py:265: UserWarning: These edge types are not in the graph: {()}.\n",
      "  warn(f\"These edge types are not in the graph: {mismatched_edge_types}.\")\n",
      "c:\\users\\bjorn\\documents\\git\\pymbe\\src\\pymbe\\graph\\lpg.py:265: UserWarning: These edge types are not in the graph: {('FeatureMembership', 'FeatureValue', 'ParameterMembership', 'ResultExpressionMembership', 'ReturnParameterMembership')}.\n",
      "  warn(f\"These edge types are not in the graph: {mismatched_edge_types}.\")\n"
     ]
    },
    {
     "data": {
      "application/vnd.jupyter.widget-view+json": {
       "model_id": "78660033616943b7829122b4483724b3",
       "version_major": 2,
       "version_minor": 0
      },
      "text/plain": [
       "DockPop(children=(UI(children=(SysML2ClientWidget(children=(Text(value='http://sysml2-sst.intercax.com', descr…"
      ]
     },
     "metadata": {},
     "output_type": "display_data"
    }
   ],
   "source": [
    "pm.UI.new(host_url=\"http://sysml2-sst.intercax.com\")"
   ]
  },
  {
   "cell_type": "code",
   "execution_count": 3,
   "id": "729c43c6",
   "metadata": {},
   "outputs": [
    {
     "name": "stderr",
     "output_type": "stream",
     "text": [
      "c:\\users\\bjorn\\documents\\git\\pymbe\\src\\pymbe\\graph\\lpg.py:265: UserWarning: These edge types are not in the graph: {('FeatureMembership', 'FeatureValue', 'Import', 'Membership', 'ParameterMembership', 'Redefinition', 'ResultExpressionMembership', 'ReturnParameterMembership', 'Superclassing')}.\n",
      "  warn(f\"These edge types are not in the graph: {mismatched_edge_types}.\")\n",
      "c:\\users\\bjorn\\documents\\git\\pymbe\\src\\pymbe\\graph\\lpg.py:265: UserWarning: These edge types are not in the graph: {('FeatureMembership', 'FeatureTyping', 'FeatureValue', 'Import', 'Membership', 'ParameterMembership', 'Redefinition', 'ResultExpressionMembership', 'ReturnParameterMembership')}.\n",
      "  warn(f\"These edge types are not in the graph: {mismatched_edge_types}.\")\n",
      "c:\\users\\bjorn\\documents\\git\\pymbe\\src\\pymbe\\graph\\lpg.py:265: UserWarning: These edge types are not in the graph: {('FeatureTyping', 'FeatureValue', 'Import', 'Membership', 'ParameterMembership', 'Redefinition', 'ResultExpressionMembership', 'ReturnParameterMembership', 'Superclassing')}.\n",
      "  warn(f\"These edge types are not in the graph: {mismatched_edge_types}.\")\n",
      "c:\\users\\bjorn\\documents\\git\\pymbe\\src\\pymbe\\graph\\lpg.py:265: UserWarning: These edge types are not in the graph: {('Import', 'Membership', 'Redefinition', 'ResultExpressionMembership', 'FeatureMembership', 'FeatureTyping', 'FeatureValue', 'ParameterMembership', 'ReturnParameterMembership')}.\n",
      "  warn(f\"These edge types are not in the graph: {mismatched_edge_types}.\")\n",
      "c:\\users\\bjorn\\documents\\git\\pymbe\\src\\pymbe\\graph\\lpg.py:265: UserWarning: These edge types are not in the graph: {('FeatureTyping', 'Import', 'Membership', 'Redefinition', 'Superclassing', 'FeatureMembership', 'FeatureValue', 'ParameterMembership', 'ResultExpressionMembership', 'ReturnParameterMembership')}.\n",
      "  warn(f\"These edge types are not in the graph: {mismatched_edge_types}.\")\n"
     ]
    }
   ],
   "source": [
    "ui, *_ = _.children\n",
    "client, tree, inspector, lpg, interpreter = ui.children\n",
    "client.project_selector.value = client.project_selector.options[\"Kerbal (2021-04-17 18:03:01)\"]\n",
    "client._download_elements()"
   ]
  },
  {
   "cell_type": "code",
   "execution_count": 4,
   "id": "243721b3",
   "metadata": {},
   "outputs": [
    {
     "data": {
      "text/plain": [
       "<networkx.classes.multidigraph.MultiDiGraph at 0x235f8078850>"
      ]
     },
     "execution_count": 4,
     "metadata": {},
     "output_type": "execute_result"
    }
   ],
   "source": [
    "lpg.graph"
   ]
  },
  {
   "cell_type": "code",
   "execution_count": 5,
   "id": "08fa332e-59e3-48c2-9c92-b6ccd8c2ed08",
   "metadata": {},
   "outputs": [],
   "source": [
    "shorten_pre_bake = {\n",
    "    'RT-10 \"Hammer\" Solid Fuel Booster': \"RT-10\",\n",
    "    'RT-5 \"Flea\" Solid Fuel Booster': \"RT-5\",\n",
    "    'LV-T45 \"Swivel\" Liquid Fuel Engine': \"LV-T45\",\n",
    "    'FL-T100 Fuel Tank': \"FL-T100\",\n",
    "    'FL-T200 Fuel Tank': \"FL-T200\"\n",
    "}"
   ]
  },
  {
   "cell_type": "code",
   "execution_count": 6,
   "id": "92b99d95-1864-4e77-ba7d-b7df943e6445",
   "metadata": {},
   "outputs": [],
   "source": [
    "random_rez = random_generator_playbook(\n",
    "    lpg,\n",
    "    shorten_pre_bake\n",
    ")"
   ]
  },
  {
   "cell_type": "code",
   "execution_count": 7,
   "id": "7a2d7200-23cb-4dbe-a2fe-b0f5367ea582",
   "metadata": {},
   "outputs": [
    {
     "name": "stdout",
     "output_type": "stream",
     "text": [
      "REM Flag connects ac79381e-74ee-4364-9d20-424a50f4834d to 9c2e0e00-2054-423a-8e15-03b262253bbc\n",
      "1\n",
      "1\n",
      "1\n",
      "REM Flag connects dbed26c7-1a89-4e04-ae50-d81ad4886ad6 to 069675af-a514-40e3-9010-605553dec7c9\n",
      "1\n",
      "1\n",
      "1\n"
     ]
    },
    {
     "name": "stderr",
     "output_type": "stream",
     "text": [
      "c:\\users\\bjorn\\documents\\git\\pymbe\\src\\pymbe\\graph\\lpg.py:265: UserWarning: These edge types are not in the graph: {('FeatureTyping', 'Import', 'Membership', 'Redefinition', 'Superclassing', 'FeatureMembership', 'FeatureValue', 'ParameterMembership', 'ResultExpressionMembership')}.\n",
      "  warn(f\"These edge types are not in the graph: {mismatched_edge_types}.\")\n"
     ]
    }
   ],
   "source": [
    "implied_feed = map_inputs_to_results(lpg)"
   ]
  },
  {
   "cell_type": "code",
   "execution_count": 8,
   "id": "a4dad818-0621-47ce-ab03-66fa5795cd37",
   "metadata": {},
   "outputs": [
    {
     "data": {
      "text/plain": [
       "[('ac79381e-74ee-4364-9d20-424a50f4834d',\n",
       "  '9c2e0e00-2054-423a-8e15-03b262253bbc',\n",
       "  'ImpliedParameterFeedforward'),\n",
       " ('dbed26c7-1a89-4e04-ae50-d81ad4886ad6',\n",
       "  '069675af-a514-40e3-9010-605553dec7c9',\n",
       "  'ImpliedParameterFeedforward'),\n",
       " ('4197ab70-699b-4f69-9694-a5f39c2bb0b0',\n",
       "  '263efbd5-75c4-4724-828c-e7f1e31a9e31',\n",
       "  'ImpliedParameterFeedforward'),\n",
       " ('d146a0ab-de0c-4d8c-bd25-9913bde2f2e5',\n",
       "  '3cfd0006-5b58-4891-a461-821d5190f9e3',\n",
       "  'ImpliedParameterFeedforward'),\n",
       " ('ac16b279-fa4d-4ff4-8584-17e84ea401a2',\n",
       "  'c2602a9d-5f1b-4296-a799-91dd7916f87f',\n",
       "  'ImpliedParameterFeedforward'),\n",
       " ('bd31f91a-43a9-42f9-8e69-78c8dd16a03e',\n",
       "  '615ed0f4-622b-499e-ade3-62ec6ede4517',\n",
       "  'ImpliedParameterFeedforward'),\n",
       " ('57be4b8a-285d-41fc-a059-f8e1c3f68b58',\n",
       "  '62c449d0-dc7a-4c43-b026-31fbdfb262d7',\n",
       "  'ImpliedParameterFeedforward'),\n",
       " ('74c492cc-1104-4ddd-b54c-5fd8a7cab158',\n",
       "  '10605770-ea8a-4336-af28-6ab11ffe816a',\n",
       "  'ImpliedParameterFeedforward')]"
      ]
     },
     "execution_count": 8,
     "metadata": {},
     "output_type": "execute_result"
    }
   ],
   "source": [
    "implied_feed"
   ]
  },
  {
   "cell_type": "markdown",
   "id": "a564de2d-46ed-468f-ba80-3384bed1857b",
   "metadata": {},
   "source": [
    "Want to look at all the \\$results and other parameters"
   ]
  },
  {
   "cell_type": "code",
   "execution_count": 9,
   "id": "5679cb02-d1ee-4896-94aa-6a6145ef4118",
   "metadata": {},
   "outputs": [
    {
     "data": {
      "text/plain": [
       "[]"
      ]
     },
     "execution_count": 9,
     "metadata": {},
     "output_type": "execute_result"
    }
   ],
   "source": [
    "random_rez['ba092833-0b87-40b3-ba56-52cef7ff4636']"
   ]
  },
  {
   "cell_type": "code",
   "execution_count": 10,
   "id": "c499e1e0-55ec-4ee4-8d24-5ac7d70ae608",
   "metadata": {},
   "outputs": [
    {
     "name": "stdout",
     "output_type": "stream",
     "text": [
      "Results sequences:\n",
      "[]\n",
      "Input sequences:\n",
      "[]\n",
      "Results sequences:\n",
      "[]\n",
      "Input sequences:\n",
      "[]\n",
      "Results sequences:\n",
      "[]\n",
      "Input sequences:\n",
      "[]\n",
      "Results sequences:\n",
      "[]\n",
      "Input sequences:\n",
      "[]\n",
      "Results sequences:\n",
      "[]\n",
      "Input sequences:\n",
      "[]\n",
      "Results sequences:\n",
      "[]\n",
      "Input sequences:\n",
      "[]\n",
      "Results sequences:\n",
      "[]\n",
      "Input sequences:\n",
      "[]\n",
      "Results sequences:\n",
      "[]\n",
      "Input sequences:\n",
      "[]\n"
     ]
    }
   ],
   "source": [
    "for implied in implied_feed:\n",
    "    print(\"Results sequences:\")\n",
    "    print(random_rez[implied[0]])\n",
    "    print(\"Input sequences:\")\n",
    "    print(random_rez[implied[1]])"
   ]
  },
  {
   "cell_type": "code",
   "execution_count": null,
   "id": "5f7dd228-3589-45d7-82d4-b7bcef405338",
   "metadata": {},
   "outputs": [],
   "source": []
  }
 ],
 "metadata": {
  "kernelspec": {
   "display_name": "Python 3",
   "language": "python",
   "name": "python3"
  },
  "language_info": {
   "codemirror_mode": {
    "name": "ipython",
    "version": 3
   },
   "file_extension": ".py",
   "mimetype": "text/x-python",
   "name": "python",
   "nbconvert_exporter": "python",
   "pygments_lexer": "ipython3",
   "version": "3.9.2"
  }
 },
 "nbformat": 4,
 "nbformat_minor": 5
}
