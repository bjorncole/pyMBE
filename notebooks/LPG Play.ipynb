{
 "cells": [
  {
   "cell_type": "markdown",
   "id": "0e39b260",
   "metadata": {},
   "source": [
    "# Labeled Property Graph Play\n",
    "\n",
    "The notebook looks at working with the LPG from SysML v2 clients"
   ]
  },
  {
   "cell_type": "code",
   "execution_count": 1,
   "id": "02d833d8",
   "metadata": {},
   "outputs": [],
   "source": [
    "import pymbe.api as pm\n",
    "from pymbe.label import get_label\n",
    "import networkx as NX\n",
    "import matplotlib.pyplot as plt\n",
    "\n",
    "from pymbe.interpretation.interp_playbooks import random_generator_playbook\n",
    "from pymbe.interpretation.results import pprint_interpretation"
   ]
  },
  {
   "cell_type": "code",
   "execution_count": 2,
   "id": "0887c0f5",
   "metadata": {},
   "outputs": [
    {
     "name": "stdout",
     "output_type": "stream",
     "text": [
      "[]\n"
     ]
    },
    {
     "name": "stderr",
     "output_type": "stream",
     "text": [
      "c:\\users\\bjorn\\documents\\git\\pymbe\\src\\pymbe\\graph\\lpg.py:265: UserWarning: These edge types are not in the graph: {()}.\n",
      "  warn(f\"These edge types are not in the graph: {mismatched_edge_types}.\")\n"
     ]
    },
    {
     "data": {
      "application/vnd.jupyter.widget-view+json": {
       "model_id": "693c279ff94544158d6e3792d349dc90",
       "version_major": 2,
       "version_minor": 0
      },
      "text/plain": [
       "DockPop(children=(UI(children=(SysML2ClientWidget(children=(Text(value='http://sysml2-sst.intercax.com', descr…"
      ]
     },
     "metadata": {},
     "output_type": "display_data"
    }
   ],
   "source": [
    "pm.UI.new(host_url=\"http://sysml2-sst.intercax.com\")"
   ]
  },
  {
   "cell_type": "code",
   "execution_count": 3,
   "id": "729c43c6",
   "metadata": {},
   "outputs": [
    {
     "name": "stdout",
     "output_type": "stream",
     "text": [
      "[['aab4a97e-f55b-48b5-840e-3e507d09a71b', '66ef0938-5e1e-47b9-846e-694329b5db33', 'aedb007d-d53d-43eb-b497-d5f5ede2df40'], ['d29dee98-5b9d-4a78-8532-95a82e47b8bc', '9b8a7db1-f366-44f4-b9b2-9573fdadfdcf'], ['4c593e66-3737-407b-bbe9-0354a7f3d84b', 'bd4d17f0-2c49-4721-9b64-e82f76426caa'], ['4c593e66-3737-407b-bbe9-0354a7f3d84b', 'c9a16c71-4138-47b3-ae75-f5d0a525b633']]\n",
      "[[Rocket#0]]\n",
      "5\n",
      "[SS#0, SS#1, SS#2, SS#3, SS#4]\n",
      "[[Rocket#0, SS#4], [Rocket#0, SS#1], [Rocket#0, SS#0], [Rocket#0, SS#2], [Rocket#0, SS#3]]\n",
      "9\n",
      "[Coupler#0, Coupler#1, Coupler#2, Coupler#3, Coupler#4, Coupler#5, Coupler#6, Coupler#7, Coupler#8, Coupler#9, Coupler#10, Coupler#11, Coupler#12, Coupler#13, Coupler#14, Coupler#15, Coupler#16, Coupler#17, Coupler#18, Coupler#19, Coupler#20, Coupler#21, Coupler#22, Coupler#23, Coupler#24, Coupler#25, Coupler#26, Coupler#27, Coupler#28, Coupler#29, Coupler#30, Coupler#31, Coupler#32, Coupler#33, Coupler#34, Coupler#35, Coupler#36, Coupler#37, Coupler#38, Coupler#39]\n",
      "[[SS#0], [SS#1], [SS#2], [SS#3], [SS#4]]\n",
      "33\n",
      "[R\"SFB#0, R\"SFB#1, R\"SFB#2, R\"SFB#3, R\"SFB#4, R\"SFB#5, R\"SFB#6, R\"SFB#7, R\"SFB#8, R\"SFB#9, R\"SFB#10, R\"SFB#11, R\"SFB#12, R\"SFB#13, R\"SFB#14, R\"SFB#15, R\"SFB#16, R\"SFB#17, R\"SFB#18, R\"SFB#19, R\"SFB#20, R\"SFB#21, R\"SFB#22, R\"SFB#23, R\"SFB#24, R\"SFB#25, R\"SFB#26, R\"SFB#27, R\"SFB#28, R\"SFB#29, R\"SFB#0, R\"SFB#1, R\"SFB#2, R\"SFB#3, R\"SFB#4, R\"SFB#5, R\"SFB#6, R\"SFB#7, R\"SFB#8, R\"SFB#9]\n",
      "[]\n",
      "0\n",
      "[FFT#0, FFT#1, FFT#2, FFT#3, FFT#4, FFT#5, FFT#6, FFT#7, FFT#8, FFT#9, FFT#10, FFT#11, FFT#12, FFT#13, FFT#14, FFT#15, FFT#16, FFT#17, FFT#18, FFT#19, FFT#20, FFT#21, FFT#22, FFT#23, FFT#24, FFT#25, FFT#26, FFT#27, FFT#28, FFT#29, FFT#30, FFT#31, FFT#32, FFT#33, FFT#34, FFT#35, FFT#36, FFT#37, FFT#38, FFT#39, FFT#40, FFT#41, FFT#42, FFT#43, FFT#44, FFT#45, FFT#46, FFT#47, FFT#48, FFT#49, FFT#50, FFT#51, FFT#52, FFT#53, FFT#54, FFT#55, FFT#56, FFT#57, FFT#58, FFT#59, FFT#60, FFT#61, FFT#62, FFT#63, FFT#64, FFT#65, FFT#66, FFT#67, FFT#68, FFT#69, FFT#70, FFT#71, FFT#72, FFT#73, FFT#74, FFT#75, FFT#76, FFT#77, FFT#78, FFT#79, FFT#80, FFT#81, FFT#82, FFT#83, FFT#84, FFT#85, FFT#86, FFT#87, FFT#88, FFT#89, FFT#90, FFT#91, FFT#92, FFT#93, FFT#94, FFT#95, FFT#96, FFT#97, FFT#98, FFT#99, FFT#100, FFT#101, FFT#102, FFT#103, FFT#104, FFT#105, FFT#106, FFT#107, FFT#108, FFT#109, FFT#110, FFT#111, FFT#112, FFT#113, FFT#114, FFT#115, FFT#116, FFT#117, FFT#118, FFT#119, FFT#120, FFT#121, FFT#122, FFT#123, FFT#124, FFT#125, FFT#126, FFT#127, FFT#128, FFT#129, FFT#130, FFT#131, FFT#132, FFT#0, FFT#1, FFT#2, FFT#3, FFT#4, FFT#5, FFT#6, FFT#7, FFT#8, FFT#9, FFT#10, FFT#11, FFT#12, FFT#13, FFT#14, FFT#15, FFT#16]\n",
      "[]\n",
      "0\n",
      "[L\"LFE#0, L\"LFE#1, L\"LFE#2, L\"LFE#3, L\"LFE#4, L\"LFE#5, L\"LFE#6, L\"LFE#7, L\"LFE#8, L\"LFE#9, L\"LFE#10, L\"LFE#11, L\"LFE#12, L\"LFE#13, L\"LFE#14, L\"LFE#15, L\"LFE#16, L\"LFE#17, L\"LFE#18, L\"LFE#19, L\"LFE#20, L\"LFE#21, L\"LFE#22, L\"LFE#23, L\"LFE#24, L\"LFE#25, L\"LFE#26, L\"LFE#27, L\"LFE#28, L\"LFE#29, L\"LFE#30, L\"LFE#31, L\"LFE#32, L\"LFE#33, L\"LFE#34, L\"LFE#35, L\"LFE#36, L\"LFE#37, L\"LFE#38, L\"LFE#39]\n"
     ]
    },
    {
     "name": "stderr",
     "output_type": "stream",
     "text": [
      "c:\\users\\bjorn\\documents\\git\\pymbe\\src\\pymbe\\graph\\lpg.py:265: UserWarning: These edge types are not in the graph: {('FeatureMembership', 'FeatureValue', 'Import', 'Membership', 'ParameterMembership', 'Redefinition', 'ResultExpressionMembership', 'ReturnParameterMembership', 'Superclassing')}.\n",
      "  warn(f\"These edge types are not in the graph: {mismatched_edge_types}.\")\n",
      "c:\\users\\bjorn\\documents\\git\\pymbe\\src\\pymbe\\graph\\lpg.py:265: UserWarning: These edge types are not in the graph: {('FeatureMembership', 'FeatureTyping', 'FeatureValue', 'Import', 'Membership', 'ParameterMembership', 'Redefinition', 'ResultExpressionMembership', 'ReturnParameterMembership')}.\n",
      "  warn(f\"These edge types are not in the graph: {mismatched_edge_types}.\")\n",
      "c:\\users\\bjorn\\documents\\git\\pymbe\\src\\pymbe\\graph\\lpg.py:265: UserWarning: These edge types are not in the graph: {('FeatureTyping', 'FeatureValue', 'Import', 'Membership', 'ParameterMembership', 'Redefinition', 'ResultExpressionMembership', 'ReturnParameterMembership', 'Superclassing')}.\n",
      "  warn(f\"These edge types are not in the graph: {mismatched_edge_types}.\")\n",
      "c:\\users\\bjorn\\documents\\git\\pymbe\\src\\pymbe\\graph\\lpg.py:265: UserWarning: These edge types are not in the graph: {('Import', 'Membership', 'Redefinition', 'ResultExpressionMembership', 'FeatureMembership', 'FeatureTyping', 'FeatureValue', 'ParameterMembership', 'ReturnParameterMembership')}.\n",
      "  warn(f\"These edge types are not in the graph: {mismatched_edge_types}.\")\n"
     ]
    }
   ],
   "source": [
    "ui, *_ = _.children\n",
    "client, tree, inspector, lpg, interpreter = ui.children\n",
    "client.project_selector.value = client.project_selector.options[\"Kerbal (2021-04-17 18:03:01)\"]\n",
    "client._download_elements()"
   ]
  },
  {
   "cell_type": "code",
   "execution_count": 4,
   "id": "243721b3",
   "metadata": {},
   "outputs": [
    {
     "data": {
      "text/plain": [
       "<networkx.classes.multidigraph.MultiDiGraph at 0x1a6e03ac5e0>"
      ]
     },
     "execution_count": 4,
     "metadata": {},
     "output_type": "execute_result"
    }
   ],
   "source": [
    "lpg.graph"
   ]
  },
  {
   "cell_type": "code",
   "execution_count": 5,
   "id": "08fa332e-59e3-48c2-9c92-b6ccd8c2ed08",
   "metadata": {},
   "outputs": [],
   "source": [
    "shorten_pre_bake = {\n",
    "    'RT-10 \"Hammer\" Solid Fuel Booster': \"RT-10\",\n",
    "    'RT-5 \"Flea\" Solid Fuel Booster': \"RT-5\",\n",
    "    'LV-T45 \"Swivel\" Liquid Fuel Engine': \"LV-T45\",\n",
    "    'FL-T100 Fuel Tank': \"FL-T100\",\n",
    "    'FL-T200 Fuel Tank': \"FL-T200\"\n",
    "}"
   ]
  },
  {
   "cell_type": "code",
   "execution_count": 6,
   "id": "92b99d95-1864-4e77-ba7d-b7df943e6445",
   "metadata": {},
   "outputs": [
    {
     "name": "stdout",
     "output_type": "stream",
     "text": [
      "[['aab4a97e-f55b-48b5-840e-3e507d09a71b', '66ef0938-5e1e-47b9-846e-694329b5db33', 'aedb007d-d53d-43eb-b497-d5f5ede2df40'], ['d29dee98-5b9d-4a78-8532-95a82e47b8bc', '9b8a7db1-f366-44f4-b9b2-9573fdadfdcf'], ['4c593e66-3737-407b-bbe9-0354a7f3d84b', 'bd4d17f0-2c49-4721-9b64-e82f76426caa'], ['4c593e66-3737-407b-bbe9-0354a7f3d84b', 'c9a16c71-4138-47b3-ae75-f5d0a525b633']]\n",
      "[[Rocket#0]]\n",
      "1\n",
      "[SS#0, LS#0, LS#1, LS#2, LS#3]\n",
      "[[Rocket#0, LS#0]]\n",
      "3\n",
      "[Coupler#0, Coupler#1, Coupler#2, Coupler#3, Coupler#4, Coupler#5, Coupler#6, Coupler#7, Coupler#8, Coupler#9, Coupler#10, Coupler#11, Coupler#12, Coupler#13, Coupler#14, Coupler#15, Coupler#16, Coupler#17, Coupler#18, Coupler#19, Coupler#20, Coupler#21, Coupler#22, Coupler#23, Coupler#24, Coupler#25, Coupler#26, Coupler#27, Coupler#28, Coupler#29, Coupler#30, Coupler#31, Coupler#32, Coupler#33, Coupler#34, Coupler#35, Coupler#36, Coupler#37, Coupler#38, Coupler#39]\n",
      "[[SS#0]]\n",
      "5\n",
      "[RT-5#0, RT-5#1, RT-5#2, RT-10#0, RT-10#1, RT-10#2, RT-10#3, RT-10#4, RT-10#5, RT-10#6, RT-10#7, RT-10#8, RT-10#9, RT-10#10, RT-10#11, RT-10#12, RT-10#13, RT-10#14, RT-10#15, RT-10#16, RT-10#17, RT-10#18, RT-10#19, RT-10#20, RT-10#21, RT-10#22, RT-10#23, RT-10#24, RT-10#25, RT-10#26, RT-10#27, RT-10#28, RT-10#29, RT-10#30, RT-10#31, RT-10#32, RT-10#33, RT-10#34, RT-10#35, RT-10#36]\n",
      "[[LS#0], [LS#1], [LS#2], [LS#3]]\n",
      "33\n",
      "[FL-T100#0, FL-T100#1, FL-T100#2, FL-T100#3, FL-T100#4, FL-T100#5, FL-T100#6, FL-T100#7, FL-T100#8, FL-T100#9, FL-T100#10, FL-T100#11, FL-T100#12, FL-T100#13, FL-T100#14, FL-T100#15, FL-T100#16, FL-T100#17, FL-T100#18, FL-T100#19, FL-T100#20, FL-T100#21, FL-T100#22, FL-T100#23, FL-T100#24, FL-T100#25, FL-T100#26, FL-T100#27, FL-T100#28, FL-T100#29, FL-T100#30, FL-T100#31, FL-T100#32, FL-T100#33, FL-T100#34, FL-T100#35, FL-T100#36, FL-T100#37, FL-T100#38, FL-T100#39, FL-T100#40, FL-T100#41, FL-T100#42, FL-T100#43, FL-T100#44, FL-T100#45, FL-T100#46, FL-T100#47, FL-T100#48, FL-T100#49, FL-T100#50, FL-T100#51, FL-T200#0, FL-T200#1, FL-T200#2, FL-T200#3, FL-T200#4, FL-T200#5, FL-T200#6, FL-T200#7, FL-T200#8, FL-T200#9, FL-T200#10, FL-T200#11, FL-T200#12, FL-T200#13, FL-T200#14, FL-T200#15, FL-T200#16, FL-T200#17, FL-T200#18, FL-T200#19, FL-T200#20, FL-T200#21, FL-T200#22, FL-T200#23, FL-T200#24, FL-T200#25, FL-T200#26, FL-T200#27, FL-T200#28, FL-T200#29, FL-T200#30, FL-T200#31, FL-T200#32, FL-T200#33, FL-T200#34, FL-T200#35, FL-T200#36, FL-T200#37, FL-T200#38, FL-T200#39, FL-T200#40, FL-T200#41, FL-T200#42, FL-T200#43, FL-T200#44, FL-T200#45, FL-T200#46, FL-T200#47, FL-T200#48, FL-T200#49, FL-T200#50, FL-T200#51, FL-T200#52, FL-T200#53, FL-T200#54, FL-T200#55, FL-T200#56, FL-T200#57, FL-T200#58, FL-T200#59, FL-T200#60, FL-T200#61, FL-T200#62, FL-T200#63, FL-T200#64, FL-T200#65, FL-T200#66, FL-T200#67, FL-T200#68, FL-T200#69, FL-T200#70, FL-T200#71, FL-T200#72, FL-T200#73, FL-T200#74, FL-T200#75, FL-T200#76, FL-T200#77, FL-T200#78, FL-T200#79, FL-T200#80, FL-T200#81, FL-T200#82, FL-T200#83, FL-T200#84, FL-T200#85, FL-T200#86, FL-T200#87, FL-T200#88, FL-T200#89, FL-T200#90, FL-T200#91, FL-T200#92, FL-T200#93, FL-T200#94, FL-T200#95, FL-T200#96, FL-T200#97]\n",
      "[[LS#0], [LS#1], [LS#2], [LS#3]]\n",
      "16\n",
      "[LV-T45#0, LV-T45#1, LV-T45#2, LV-T45#3, LV-T45#4, LV-T45#5, LV-T45#6, LV-T45#7, LV-T45#8, LV-T45#9, LV-T45#10, LV-T45#11, LV-T45#12, LV-T45#13, LV-T45#14, LV-T45#15, LV-T45#16, LV-T45#17, LV-T45#18, LV-T45#19, LV-T45#20, LV-T45#21, LV-T45#22, LV-T45#23, LV-T45#24, LV-T45#25, LV-T45#26, LV-T45#27, LV-T45#28, LV-T45#29, LV-T45#30, LV-T45#31, LV-T45#32, LV-T45#33, LV-T45#34, LV-T45#35, LV-T45#36, LV-T45#37, LV-T45#38, LV-T45#39]\n"
     ]
    }
   ],
   "source": [
    "random_rez = random_generator_playbook(\n",
    "    lpg,\n",
    "    shorten_pre_bake\n",
    ")"
   ]
  },
  {
   "cell_type": "code",
   "execution_count": 7,
   "id": "5679cb02-d1ee-4896-94aa-6a6145ef4118",
   "metadata": {},
   "outputs": [
    {
     "data": {
      "text/plain": [
       "[[SS#0, RT-10#19],\n",
       " [SS#0, RT-10#36],\n",
       " [SS#0, RT-10#21],\n",
       " [SS#0, RT-10#31],\n",
       " [SS#0, RT-10#6]]"
      ]
     },
     "execution_count": 7,
     "metadata": {},
     "output_type": "execute_result"
    }
   ],
   "source": [
    "random_rez['9b8a7db1-f366-44f4-b9b2-9573fdadfdcf']"
   ]
  },
  {
   "cell_type": "code",
   "execution_count": 8,
   "id": "7219b053-8503-4987-a358-703fe4e5643c",
   "metadata": {},
   "outputs": [
    {
     "data": {
      "text/plain": [
       "['LS#3']"
      ]
     },
     "execution_count": 8,
     "metadata": {},
     "output_type": "execute_result"
    }
   ],
   "source": [
    "import random\n",
    "sample_set = ['LS#0', 'LS#1', 'LS#2', 'LS#3', 'LS#4']\n",
    "total_draw = 1\n",
    "random.sample(sample_set, total_draw)"
   ]
  },
  {
   "cell_type": "code",
   "execution_count": 9,
   "id": "54bbc9c7-8b5f-47d7-889f-72c9c06730a7",
   "metadata": {},
   "outputs": [
    {
     "data": {
      "text/plain": [
       "['Solid Stage, id = d29dee98-5b9d-4a78-8532-95a82e47b8bc, size = 1',\n",
       " [SS#0],\n",
       " 'Liquid Stage, id = 4c593e66-3737-407b-bbe9-0354a7f3d84b, size = 4',\n",
       " [LS#0],\n",
       " [LS#1],\n",
       " [LS#2],\n",
       " [LS#3],\n",
       " 'Coupler, id = db167a72-ec46-4176-9436-b9f0c17e7de0, size = 40',\n",
       " [Coupler#0],\n",
       " [Coupler#1],\n",
       " [Coupler#2],\n",
       " [Coupler#3],\n",
       " [Coupler#4],\n",
       " ['..'],\n",
       " 'RT-5 \"Flea\" Solid Fuel Booster, id = 83842e20-04ce-4df8-84b4-7b7b2efb83a0, size = 3',\n",
       " [RT-5#0],\n",
       " [RT-5#1],\n",
       " [RT-5#2],\n",
       " 'RT-10 \"Hammer\" Solid Fuel Booster, id = a8235762-e6a8-424f-a08d-e1f93569ccbc, size = 37',\n",
       " [RT-10#0],\n",
       " [RT-10#1],\n",
       " [RT-10#2],\n",
       " [RT-10#3],\n",
       " [RT-10#4],\n",
       " ['..'],\n",
       " 'FL-T100 Fuel Tank, id = 391427e3-154a-48ed-9a2a-46c6279585e7, size = 52',\n",
       " [FL-T100#0],\n",
       " [FL-T100#1],\n",
       " [FL-T100#2],\n",
       " [FL-T100#3],\n",
       " [FL-T100#4],\n",
       " ['..'],\n",
       " 'FL-T200 Fuel Tank, id = ac8d6db7-57ec-4862-885c-3060750b2f5c, size = 98',\n",
       " [FL-T200#0],\n",
       " [FL-T200#1],\n",
       " [FL-T200#2],\n",
       " [FL-T200#3],\n",
       " [FL-T200#4],\n",
       " ['..'],\n",
       " 'LV-T45 \"Swivel\" Liquid Fuel Engine, id = 8b5b7ee8-f1ba-48b6-b06a-824c203af623, size = 40',\n",
       " [LV-T45#0],\n",
       " [LV-T45#1],\n",
       " [LV-T45#2],\n",
       " [LV-T45#3],\n",
       " [LV-T45#4],\n",
       " ['..'],\n",
       " 'Parachute, id = f2442e71-4f4f-4961-941c-504ac8ab5aae, size = 1',\n",
       " [Parachute#0],\n",
       " 'Mk1 Command Pod, id = c39054e2-10a3-4182-8afd-829675d73067, size = 1',\n",
       " [MCP#0],\n",
       " 'Liquid Engine, id = a230580c-c9e8-44aa-9c8b-539e8bd03bd7, size = 40',\n",
       " [LV-T45#0],\n",
       " [LV-T45#1],\n",
       " [LV-T45#2],\n",
       " [LV-T45#3],\n",
       " [LV-T45#4],\n",
       " ['..'],\n",
       " 'Rocket Stage, id = 74b1eb47-b64b-4e97-8e1b-1b750e1fab0f, size = 5',\n",
       " [SS#0],\n",
       " [LS#0],\n",
       " [LS#1],\n",
       " [LS#2],\n",
       " [LS#3],\n",
       " ['..'],\n",
       " 'Solid Booster, id = 58afe05b-c62b-48ba-bf0e-9071d0ae3e25, size = 40',\n",
       " [RT-5#0],\n",
       " [RT-5#1],\n",
       " [RT-5#2],\n",
       " [RT-10#0],\n",
       " [RT-10#1],\n",
       " ['..'],\n",
       " 'Pod, id = 6627d4d4-11f7-4090-9872-cca465a84e19, size = 1',\n",
       " [MCP#0],\n",
       " 'Fuel Tank Section, id = ec814df1-3327-4e96-b719-6a1125e8c8ae, size = 150',\n",
       " [FL-T100#0],\n",
       " [FL-T100#1],\n",
       " [FL-T100#2],\n",
       " [FL-T100#3],\n",
       " [FL-T100#4],\n",
       " ['..'],\n",
       " 'Kerbal Rocket Part, id = 1814cbd7-ba78-4ff0-91ce-442c5a6a45d4, size = 272',\n",
       " [LV-T45#0],\n",
       " [LV-T45#1],\n",
       " [LV-T45#2],\n",
       " [LV-T45#3],\n",
       " [LV-T45#4],\n",
       " ['..'],\n",
       " 'Rocket, id = aab4a97e-f55b-48b5-840e-3e507d09a71b, size = 1',\n",
       " [Rocket#0],\n",
       " 'stages: Rocket Stage, id = 66ef0938-5e1e-47b9-846e-694329b5db33, size = 1',\n",
       " [Rocket#0, LS#0],\n",
       " 'Coupler to Carrying Stage: Coupler, id = aedb007d-d53d-43eb-b497-d5f5ede2df40, size = 3',\n",
       " [Rocket#0, LS#0, Coupler#16],\n",
       " [Rocket#0, LS#0, Coupler#38],\n",
       " [Rocket#0, LS#0, Coupler#37],\n",
       " 'boosters: Solid Booster, id = 9b8a7db1-f366-44f4-b9b2-9573fdadfdcf, size = 5',\n",
       " [SS#0, RT-10#19],\n",
       " [SS#0, RT-10#36],\n",
       " [SS#0, RT-10#21],\n",
       " [SS#0, RT-10#31],\n",
       " [SS#0, RT-10#6],\n",
       " ['..'],\n",
       " 'tanks: Fuel Tank Section, id = bd4d17f0-2c49-4721-9b64-e82f76426caa, size = 33',\n",
       " [LS#0, FL-T200#22],\n",
       " [LS#0, FL-T200#62],\n",
       " [LS#0, FL-T100#49],\n",
       " [LS#0, FL-T200#16],\n",
       " [LS#1, FL-T200#70],\n",
       " ['..'],\n",
       " 'engines: Liquid Engine, id = c9a16c71-4138-47b3-ae75-f5d0a525b633, size = 16',\n",
       " [LS#1, LV-T45#7],\n",
       " [LS#1, LV-T45#9],\n",
       " [LS#1, LV-T45#5],\n",
       " [LS#1, LV-T45#21],\n",
       " [LS#1, LV-T45#32],\n",
       " ['..']]"
      ]
     },
     "execution_count": 9,
     "metadata": {},
     "output_type": "execute_result"
    }
   ],
   "source": [
    "pprint_interpretation(random_rez, lpg.nodes)"
   ]
  }
 ],
 "metadata": {
  "kernelspec": {
   "display_name": "Python 3",
   "language": "python",
   "name": "python3"
  },
  "language_info": {
   "codemirror_mode": {
    "name": "ipython",
    "version": 3
   },
   "file_extension": ".py",
   "mimetype": "text/x-python",
   "name": "python",
   "nbconvert_exporter": "python",
   "pygments_lexer": "ipython3",
   "version": "3.9.2"
  }
 },
 "nbformat": 4,
 "nbformat_minor": 5
}
