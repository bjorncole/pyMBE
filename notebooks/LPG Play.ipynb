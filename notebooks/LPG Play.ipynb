{
 "cells": [
  {
   "cell_type": "markdown",
   "id": "0e39b260",
   "metadata": {},
   "source": [
    "# Labeled Property Graph Play\n",
    "\n",
    "The notebook looks at working with the LPG from SysML v2 clients"
   ]
  },
  {
   "cell_type": "code",
   "execution_count": null,
   "id": "02d833d8",
   "metadata": {},
   "outputs": [],
   "source": [
    "import pymbe.api as pm\n",
    "from pymbe.widget import labeling\n",
    "import networkx as NX\n",
    "import matplotlib.pyplot as plt"
   ]
  },
  {
   "cell_type": "code",
   "execution_count": null,
   "id": "0887c0f5",
   "metadata": {},
   "outputs": [],
   "source": [
    "pm.UI.new(host_url=\"http://sysml2-sst.intercax.com\")"
   ]
  },
  {
   "cell_type": "code",
   "execution_count": null,
   "id": "729c43c6",
   "metadata": {},
   "outputs": [],
   "source": [
    "ui, *_ = _.children\n",
    "client, tree, inspector, lpg = ui.children\n",
    "client.project_selector.value = client.project_selector.options[\"Kerbal (2021-04-17 18:03:01)\"]\n",
    "client._download_elements()"
   ]
  },
  {
   "cell_type": "code",
   "execution_count": null,
   "id": "243721b3",
   "metadata": {},
   "outputs": [],
   "source": [
    "lpg.graph"
   ]
  },
  {
   "cell_type": "code",
   "execution_count": null,
   "id": "5e413da3",
   "metadata": {},
   "outputs": [],
   "source": [
    "len(lpg.nodes)"
   ]
  },
  {
   "cell_type": "code",
   "execution_count": null,
   "id": "64074f78",
   "metadata": {},
   "outputs": [],
   "source": [
    "banded_feature_graph = lpg.get_projection(\"Banded Graph\")"
   ]
  },
  {
   "cell_type": "code",
   "execution_count": null,
   "id": "15e8e77c",
   "metadata": {},
   "outputs": [],
   "source": [
    "len(banded_feature_graph.nodes)"
   ]
  },
  {
   "cell_type": "code",
   "execution_count": null,
   "id": "b8077d43",
   "metadata": {},
   "outputs": [],
   "source": [
    "banded_feature_graph"
   ]
  },
  {
   "cell_type": "code",
   "execution_count": null,
   "id": "6d0d26ac",
   "metadata": {},
   "outputs": [],
   "source": [
    "xes = []\n",
    "for key, ele in client.elements_by_id.items():\n",
    "    if 'name' in ele and ele['name'] == '$x':\n",
    "        xes.append(ele)"
   ]
  },
  {
   "cell_type": "code",
   "execution_count": null,
   "id": "b7a75bea",
   "metadata": {},
   "outputs": [],
   "source": [
    "xes[0]['@id']"
   ]
  },
  {
   "cell_type": "code",
   "execution_count": null,
   "id": "70d75975",
   "metadata": {},
   "outputs": [],
   "source": [
    "extended_banded_feature_graph = lpg.get_projection(\"Expanded Banded Graph\")"
   ]
  },
  {
   "cell_type": "code",
   "execution_count": null,
   "id": "b4ae5c32",
   "metadata": {},
   "outputs": [],
   "source": [
    "pos = NX.planar_layout(extended_banded_feature_graph)\n",
    "\n",
    "plt.figure(figsize=(20, 12))\n",
    "        \n",
    "NX.draw_networkx_nodes(extended_banded_feature_graph, pos, nodelist=extended_banded_feature_graph.nodes, node_color=\"r\")\n",
    "\n",
    "node_labels = {}\n",
    "\n",
    "for node in extended_banded_feature_graph.nodes:\n",
    "    label = labeling.get_m1_signature_label(lpg.nodes[node], lpg.nodes).replace('$', '\\$')\n",
    "    node_labels.update({node: label})\n",
    "\n",
    "sc_edges = []\n",
    "fm_edges = []\n",
    "ft_edges = []\n",
    "pm_edges = []\n",
    "rpm_edges = []\n",
    "\n",
    "for edg in extended_banded_feature_graph.edges:\n",
    "    if edg[2] == 'Superclassing':\n",
    "        sc_edges.append([edg[0], edg[1]])\n",
    "    elif edg[2] == 'FeatureMembership':\n",
    "        fm_edges.append([edg[0], edg[1]])\n",
    "    elif edg[2] == 'FeatureMembership':\n",
    "        pm_edges.append([edg[0], edg[1]])\n",
    "    elif edg[2] == 'ParameterMembership':\n",
    "        fm_edges.append([edg[0], edg[1]])\n",
    "    elif edg[2] == 'ReturnParameterMembership':\n",
    "        rpm_edges.append([edg[0], edg[1]])\n",
    "        \n",
    "NX.draw_networkx_labels(extended_banded_feature_graph, pos, node_labels, font_size=8)\n",
    "NX.draw_networkx_edges(extended_banded_feature_graph, pos, edgelist=sc_edges, edge_color=\"b\", arrowsize=20)\n",
    "NX.draw_networkx_edges(extended_banded_feature_graph, pos, edgelist=fm_edges, edge_color=\"r\", arrowsize=20)\n",
    "NX.draw_networkx_edges(extended_banded_feature_graph, pos, edgelist=ft_edges, edge_color=\"g\", arrowsize=20)\n",
    "NX.draw_networkx_edges(extended_banded_feature_graph, pos, edgelist=pm_edges, edge_color=\"c\", arrowsize=20)\n",
    "NX.draw_networkx_edges(extended_banded_feature_graph, pos, edgelist=rpm_edges, edge_color=\"m\", arrowsize=20)\n",
    "1"
   ]
  },
  {
   "cell_type": "code",
   "execution_count": null,
   "id": "dc11417c",
   "metadata": {},
   "outputs": [],
   "source": [
    "xes[0]['@id'] in list(extended_banded_feature_graph.nodes)"
   ]
  },
  {
   "cell_type": "code",
   "execution_count": null,
   "id": "93ec91ca",
   "metadata": {},
   "outputs": [],
   "source": [
    "import pymbe.query.metamodel_navigator as MN"
   ]
  },
  {
   "cell_type": "code",
   "execution_count": null,
   "id": "6622fac9",
   "metadata": {},
   "outputs": [],
   "source": [
    "MN.feature_upper_multiplicity(\n",
    "    client.elements_by_id['c9a16c71-4138-47b3-ae75-f5d0a525b633'],\n",
    "    client\n",
    ")"
   ]
  },
  {
   "cell_type": "code",
   "execution_count": null,
   "id": "fb8854b4",
   "metadata": {},
   "outputs": [],
   "source": [
    "import pymbe.query.query as Query\n",
    "Query.roll_up_upper_multiplicity(\n",
    "    lpg,\n",
    "    client.elements_by_id['069675af-a514-40e3-9010-605553dec7c9'],\n",
    ")"
   ]
  },
  {
   "cell_type": "code",
   "execution_count": null,
   "id": "e339c1e3",
   "metadata": {},
   "outputs": [],
   "source": [
    "banded_roots = [node for node in extended_banded_feature_graph.nodes if extended_banded_feature_graph.out_degree(node) == 0]"
   ]
  },
  {
   "cell_type": "code",
   "execution_count": null,
   "id": "79e1d38b",
   "metadata": {},
   "outputs": [],
   "source": [
    "for part_tree_root in banded_roots:\n",
    "    try:\n",
    "        part_path = NX.shortest_path(\n",
    "            extended_banded_feature_graph,\n",
    "            '069675af-a514-40e3-9010-605553dec7c9',\n",
    "            part_tree_root)\n",
    "    except NX.NetworkXNoPath:\n",
    "        pass\n",
    "    except NX.NodeNotFound:\n",
    "        # nothing to roll up, so just use own multiplicity\n",
    "        corrected_mult = feature_lower_multiplicity(feat, client)"
   ]
  },
  {
   "cell_type": "markdown",
   "id": "c14b6937",
   "metadata": {},
   "source": [
    "The walk below shows how to get from parameters to the formulas calculating them or owning attribute usages."
   ]
  },
  {
   "cell_type": "code",
   "execution_count": null,
   "id": "5d671ff4",
   "metadata": {},
   "outputs": [],
   "source": [
    "[labeling.get_m1_signature_label(lpg.nodes[step], lpg.nodes) for step in part_path]"
   ]
  }
 ],
 "metadata": {
  "kernelspec": {
   "display_name": "Python 3",
   "language": "python",
   "name": "python3"
  },
  "language_info": {
   "codemirror_mode": {
    "name": "ipython",
    "version": 3
   },
   "file_extension": ".py",
   "mimetype": "text/x-python",
   "name": "python",
   "nbconvert_exporter": "python",
   "pygments_lexer": "ipython3",
   "version": "3.9.2"
  }
 },
 "nbformat": 4,
 "nbformat_minor": 5
}
