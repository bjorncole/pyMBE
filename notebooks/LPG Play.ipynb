{
 "cells": [
  {
   "cell_type": "markdown",
   "id": "0e39b260",
   "metadata": {},
   "source": [
    "# Labeled Property Graph Play\n",
    "\n",
    "The notebook looks at working with the LPG from SysML v2 clients"
   ]
  },
  {
   "cell_type": "code",
   "execution_count": 8,
   "id": "02d833d8",
   "metadata": {},
   "outputs": [],
   "source": [
    "import pymbe.api as pm\n",
    "from pymbe.label import get_label\n",
    "import networkx as NX\n",
    "import matplotlib.pyplot as plt\n",
    "\n",
    "from pymbe.interpretation.interp_playbooks import random_generator_playbook\n",
    "from pymbe.interpretation.results import pprint_interpretation"
   ]
  },
  {
   "cell_type": "code",
   "execution_count": 2,
   "id": "0887c0f5",
   "metadata": {},
   "outputs": [
    {
     "data": {
      "application/vnd.jupyter.widget-view+json": {
       "model_id": "ef906e7e7aad429f8d03bc7237fa9a15",
       "version_major": 2,
       "version_minor": 0
      },
      "text/plain": [
       "DockPop(children=(UI(children=(SysML2ClientWidget(children=(Text(value='http://sysml2-sst.intercax.com', descr…"
      ]
     },
     "metadata": {},
     "output_type": "display_data"
    }
   ],
   "source": [
    "pm.UI.new(host_url=\"http://sysml2-sst.intercax.com\")"
   ]
  },
  {
   "cell_type": "code",
   "execution_count": 3,
   "id": "729c43c6",
   "metadata": {},
   "outputs": [],
   "source": [
    "ui, *_ = _.children\n",
    "client, tree, inspector, lpg = ui.children\n",
    "client.project_selector.value = client.project_selector.options[\"Kerbal (2021-04-17 18:03:01)\"]\n",
    "client._download_elements()"
   ]
  },
  {
   "cell_type": "code",
   "execution_count": 4,
   "id": "243721b3",
   "metadata": {},
   "outputs": [
    {
     "data": {
      "text/plain": [
       "<networkx.classes.multidigraph.MultiDiGraph at 0x28ec562deb0>"
      ]
     },
     "execution_count": 4,
     "metadata": {},
     "output_type": "execute_result"
    }
   ],
   "source": [
    "lpg.graph"
   ]
  },
  {
   "cell_type": "code",
   "execution_count": 5,
   "id": "08fa332e-59e3-48c2-9c92-b6ccd8c2ed08",
   "metadata": {},
   "outputs": [],
   "source": [
    "shorten_pre_bake = {\n",
    "    'RT-10 \"Hammer\" Solid Fuel Booster': \"RT-10\",\n",
    "    'RT-5 \"Flea\" Solid Fuel Booster': \"RT-5\",\n",
    "    'LV-T45 \"Swivel\" Liquid Fuel Engine': \"LV-T45\",\n",
    "    'FL-T100 Fuel Tank': \"FL-T100\",\n",
    "    'FL-T200 Fuel Tank': \"FL-T200\"\n",
    "}"
   ]
  },
  {
   "cell_type": "code",
   "execution_count": 7,
   "id": "92b99d95-1864-4e77-ba7d-b7df943e6445",
   "metadata": {},
   "outputs": [
    {
     "name": "stdout",
     "output_type": "stream",
     "text": [
      "{'d29dee98-5b9d-4a78-8532-95a82e47b8bc': 4, '4c593e66-3737-407b-bbe9-0354a7f3d84b': 1, 'db167a72-ec46-4176-9436-b9f0c17e7de0': 40, '83842e20-04ce-4df8-84b4-7b7b2efb83a0': 21, 'a8235762-e6a8-424f-a08d-e1f93569ccbc': 19, 'ac8d6db7-57ec-4862-885c-3060750b2f5c': 65, '391427e3-154a-48ed-9a2a-46c6279585e7': 85, '8b5b7ee8-f1ba-48b6-b06a-824c203af623': 40}\n"
     ]
    }
   ],
   "source": [
    "random_rez = random_generator_playbook(\n",
    "    lpg,\n",
    "    lpg.nodes,\n",
    "    shorten_pre_bake\n",
    ")"
   ]
  },
  {
   "cell_type": "code",
   "execution_count": 10,
   "id": "54bbc9c7-8b5f-47d7-889f-72c9c06730a7",
   "metadata": {},
   "outputs": [
    {
     "data": {
      "text/plain": [
       "['Solid Stage, id = d29dee98-5b9d-4a78-8532-95a82e47b8bc, size = 4',\n",
       " [SS#0],\n",
       " [SS#1],\n",
       " [SS#2],\n",
       " [SS#3],\n",
       " 'Liquid Stage, id = 4c593e66-3737-407b-bbe9-0354a7f3d84b, size = 1',\n",
       " [LS#0],\n",
       " 'Coupler, id = db167a72-ec46-4176-9436-b9f0c17e7de0, size = 40',\n",
       " [Coupler#0],\n",
       " [Coupler#1],\n",
       " [Coupler#2],\n",
       " [Coupler#3],\n",
       " [Coupler#4],\n",
       " ['..'],\n",
       " 'RT-5 \"Flea\" Solid Fuel Booster, id = 83842e20-04ce-4df8-84b4-7b7b2efb83a0, size = 21',\n",
       " [RT-5#0],\n",
       " [RT-5#1],\n",
       " [RT-5#2],\n",
       " [RT-5#3],\n",
       " [RT-5#4],\n",
       " ['..'],\n",
       " 'RT-10 \"Hammer\" Solid Fuel Booster, id = a8235762-e6a8-424f-a08d-e1f93569ccbc, size = 19',\n",
       " [RT-10#0],\n",
       " [RT-10#1],\n",
       " [RT-10#2],\n",
       " [RT-10#3],\n",
       " [RT-10#4],\n",
       " ['..'],\n",
       " 'FL-T200 Fuel Tank, id = ac8d6db7-57ec-4862-885c-3060750b2f5c, size = 65',\n",
       " [FL-T200#0],\n",
       " [FL-T200#1],\n",
       " [FL-T200#2],\n",
       " [FL-T200#3],\n",
       " [FL-T200#4],\n",
       " ['..'],\n",
       " 'FL-T100 Fuel Tank, id = 391427e3-154a-48ed-9a2a-46c6279585e7, size = 85',\n",
       " [FL-T100#0],\n",
       " [FL-T100#1],\n",
       " [FL-T100#2],\n",
       " [FL-T100#3],\n",
       " [FL-T100#4],\n",
       " ['..'],\n",
       " 'LV-T45 \"Swivel\" Liquid Fuel Engine, id = 8b5b7ee8-f1ba-48b6-b06a-824c203af623, size = 40',\n",
       " [LV-T45#0],\n",
       " [LV-T45#1],\n",
       " [LV-T45#2],\n",
       " [LV-T45#3],\n",
       " [LV-T45#4],\n",
       " ['..']]"
      ]
     },
     "execution_count": 10,
     "metadata": {},
     "output_type": "execute_result"
    }
   ],
   "source": [
    "pprint_interpretation(random_rez, lpg.nodes)"
   ]
  },
  {
   "cell_type": "code",
   "execution_count": null,
   "id": "5e413da3",
   "metadata": {},
   "outputs": [],
   "source": [
    "len(lpg.nodes)"
   ]
  },
  {
   "cell_type": "code",
   "execution_count": null,
   "id": "64074f78",
   "metadata": {},
   "outputs": [],
   "source": [
    "banded_feature_graph = lpg.get_projection(\"Banded Graph\")"
   ]
  },
  {
   "cell_type": "code",
   "execution_count": null,
   "id": "15e8e77c",
   "metadata": {},
   "outputs": [],
   "source": [
    "len(banded_feature_graph.nodes)"
   ]
  },
  {
   "cell_type": "code",
   "execution_count": null,
   "id": "b8077d43",
   "metadata": {},
   "outputs": [],
   "source": [
    "banded_feature_graph"
   ]
  },
  {
   "cell_type": "code",
   "execution_count": null,
   "id": "6d0d26ac",
   "metadata": {},
   "outputs": [],
   "source": [
    "xes = []\n",
    "for key, ele in client.elements_by_id.items():\n",
    "    if 'name' in ele and ele['name'] == '$x':\n",
    "        xes.append(ele)"
   ]
  },
  {
   "cell_type": "code",
   "execution_count": null,
   "id": "b7a75bea",
   "metadata": {},
   "outputs": [],
   "source": [
    "xes[0]['@id']"
   ]
  },
  {
   "cell_type": "code",
   "execution_count": null,
   "id": "70d75975",
   "metadata": {},
   "outputs": [],
   "source": [
    "extended_banded_feature_graph = lpg.get_projection(\"Expanded Banded Graph\")"
   ]
  },
  {
   "cell_type": "code",
   "execution_count": null,
   "id": "b4ae5c32",
   "metadata": {},
   "outputs": [],
   "source": [
    "pos = NX.planar_layout(extended_banded_feature_graph)\n",
    "\n",
    "plt.figure(figsize=(20, 12))\n",
    "        \n",
    "NX.draw_networkx_nodes(extended_banded_feature_graph, pos, nodelist=extended_banded_feature_graph.nodes, node_color=\"r\")\n",
    "\n",
    "node_labels = {}\n",
    "\n",
    "for node in extended_banded_feature_graph.nodes:\n",
    "    label = get_label(lpg.nodes[node], lpg.nodes).replace('$', '\\$')\n",
    "    node_labels.update({node: label})\n",
    "\n",
    "sc_edges = []\n",
    "fm_edges = []\n",
    "ft_edges = []\n",
    "pm_edges = []\n",
    "rpm_edges = []\n",
    "\n",
    "for edg in extended_banded_feature_graph.edges:\n",
    "    if edg[2] == 'Superclassing':\n",
    "        sc_edges.append([edg[0], edg[1]])\n",
    "    elif edg[2] == 'FeatureMembership':\n",
    "        fm_edges.append([edg[0], edg[1]])\n",
    "    elif edg[2] == 'FeatureMembership':\n",
    "        pm_edges.append([edg[0], edg[1]])\n",
    "    elif edg[2] == 'ParameterMembership':\n",
    "        fm_edges.append([edg[0], edg[1]])\n",
    "    elif edg[2] == 'ReturnParameterMembership':\n",
    "        rpm_edges.append([edg[0], edg[1]])\n",
    "        \n",
    "NX.draw_networkx_labels(extended_banded_feature_graph, pos, node_labels, font_size=8)\n",
    "NX.draw_networkx_edges(extended_banded_feature_graph, pos, edgelist=sc_edges, edge_color=\"b\", arrowsize=20)\n",
    "NX.draw_networkx_edges(extended_banded_feature_graph, pos, edgelist=fm_edges, edge_color=\"r\", arrowsize=20)\n",
    "NX.draw_networkx_edges(extended_banded_feature_graph, pos, edgelist=ft_edges, edge_color=\"g\", arrowsize=20)\n",
    "NX.draw_networkx_edges(extended_banded_feature_graph, pos, edgelist=pm_edges, edge_color=\"c\", arrowsize=20)\n",
    "NX.draw_networkx_edges(extended_banded_feature_graph, pos, edgelist=rpm_edges, edge_color=\"m\", arrowsize=20)\n",
    "1"
   ]
  },
  {
   "cell_type": "code",
   "execution_count": null,
   "id": "dc11417c",
   "metadata": {},
   "outputs": [],
   "source": [
    "xes[0]['@id'] in list(extended_banded_feature_graph.nodes)"
   ]
  },
  {
   "cell_type": "code",
   "execution_count": null,
   "id": "93ec91ca",
   "metadata": {},
   "outputs": [],
   "source": [
    "import pymbe.query.metamodel_navigator as MN"
   ]
  },
  {
   "cell_type": "code",
   "execution_count": null,
   "id": "6622fac9",
   "metadata": {},
   "outputs": [],
   "source": [
    "elements_by_id = client.elements_by_id\n",
    "MN.feature_multiplicity(elements_by_id['c9a16c71-4138-47b3-ae75-f5d0a525b633'], elements_by_id, bound=\"upper\")"
   ]
  },
  {
   "cell_type": "code",
   "execution_count": null,
   "id": "fb8854b4",
   "metadata": {},
   "outputs": [],
   "source": [
    "import pymbe.query.query as Query\n",
    "Query.roll_up_upper_multiplicity(\n",
    "    lpg,\n",
    "    client.elements_by_id['069675af-a514-40e3-9010-605553dec7c9'],\n",
    ")"
   ]
  },
  {
   "cell_type": "code",
   "execution_count": null,
   "id": "e339c1e3",
   "metadata": {},
   "outputs": [],
   "source": [
    "banded_roots = [node for node in extended_banded_feature_graph.nodes if extended_banded_feature_graph.out_degree(node) == 0]"
   ]
  },
  {
   "cell_type": "code",
   "execution_count": null,
   "id": "79e1d38b",
   "metadata": {},
   "outputs": [],
   "source": [
    "for part_tree_root in banded_roots:\n",
    "    try:\n",
    "        part_path = NX.shortest_path(\n",
    "            extended_banded_feature_graph,\n",
    "            '069675af-a514-40e3-9010-605553dec7c9',\n",
    "            part_tree_root)\n",
    "    except NX.NetworkXNoPath:\n",
    "        pass\n",
    "    except NX.NodeNotFound:\n",
    "        # nothing to roll up, so just use own multiplicity\n",
    "        corrected_mult = feature_lower_multiplicity(feat, client)"
   ]
  },
  {
   "cell_type": "markdown",
   "id": "c14b6937",
   "metadata": {},
   "source": [
    "The walk below shows how to get from parameters to the formulas calculating them or owning attribute usages."
   ]
  },
  {
   "cell_type": "code",
   "execution_count": null,
   "id": "5d671ff4",
   "metadata": {},
   "outputs": [],
   "source": [
    "[get_label(lpg.nodes[step], lpg.nodes) for step in part_path]"
   ]
  }
 ],
 "metadata": {
  "kernelspec": {
   "display_name": "Python 3",
   "language": "python",
   "name": "python3"
  },
  "language_info": {
   "codemirror_mode": {
    "name": "ipython",
    "version": 3
   },
   "file_extension": ".py",
   "mimetype": "text/x-python",
   "name": "python",
   "nbconvert_exporter": "python",
   "pygments_lexer": "ipython3",
   "version": "3.9.2"
  }
 },
 "nbformat": 4,
 "nbformat_minor": 5
}
