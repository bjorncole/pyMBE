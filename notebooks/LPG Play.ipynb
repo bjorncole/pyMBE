{
 "cells": [
  {
   "cell_type": "markdown",
   "id": "0e39b260",
   "metadata": {},
   "source": [
    "# Labeled Property Graph Play\n",
    "\n",
    "The notebook looks at working with the LPG from SysML v2 clients"
   ]
  },
  {
   "cell_type": "code",
   "execution_count": 1,
   "id": "02d833d8",
   "metadata": {},
   "outputs": [],
   "source": [
    "import pymbe.api as pm\n",
    "from pymbe.label import get_label\n",
    "import networkx as NX\n",
    "import matplotlib.pyplot as plt\n",
    "\n",
    "from pymbe.interpretation.interp_playbooks import random_generator_playbook\n",
    "from pymbe.interpretation.results import pprint_interpretation"
   ]
  },
  {
   "cell_type": "code",
   "execution_count": 2,
   "id": "0887c0f5",
   "metadata": {},
   "outputs": [
    {
     "name": "stderr",
     "output_type": "stream",
     "text": [
      "c:\\users\\bjorn\\documents\\git\\pymbe\\src\\pymbe\\graph\\lpg.py:265: UserWarning: These edge types are not in the graph: {()}.\n",
      "  warn(f\"These edge types are not in the graph: {mismatched_edge_types}.\")\n",
      "c:\\users\\bjorn\\documents\\git\\pymbe\\src\\pymbe\\graph\\lpg.py:265: UserWarning: These edge types are not in the graph: {('FeatureMembership', 'FeatureValue', 'ParameterMembership', 'ResultExpressionMembership', 'ReturnParameterMembership')}.\n",
      "  warn(f\"These edge types are not in the graph: {mismatched_edge_types}.\")\n"
     ]
    },
    {
     "data": {
      "application/vnd.jupyter.widget-view+json": {
       "model_id": "49f4f84ee7fe41f39d16c2c475edb401",
       "version_major": 2,
       "version_minor": 0
      },
      "text/plain": [
       "DockPop(children=(UI(children=(SysML2ClientWidget(children=(Text(value='http://sysml2-sst.intercax.com', descr…"
      ]
     },
     "metadata": {},
     "output_type": "display_data"
    }
   ],
   "source": [
    "pm.UI.new(host_url=\"http://sysml2-sst.intercax.com\")"
   ]
  },
  {
   "cell_type": "code",
   "execution_count": 3,
   "id": "729c43c6",
   "metadata": {},
   "outputs": [
    {
     "name": "stderr",
     "output_type": "stream",
     "text": [
      "c:\\users\\bjorn\\documents\\git\\pymbe\\src\\pymbe\\graph\\lpg.py:265: UserWarning: These edge types are not in the graph: {('FeatureMembership', 'FeatureValue', 'Import', 'Membership', 'ParameterMembership', 'Redefinition', 'ResultExpressionMembership', 'ReturnParameterMembership', 'Superclassing')}.\n",
      "  warn(f\"These edge types are not in the graph: {mismatched_edge_types}.\")\n",
      "c:\\users\\bjorn\\documents\\git\\pymbe\\src\\pymbe\\graph\\lpg.py:265: UserWarning: These edge types are not in the graph: {('FeatureMembership', 'FeatureTyping', 'FeatureValue', 'Import', 'Membership', 'ParameterMembership', 'Redefinition', 'ResultExpressionMembership', 'ReturnParameterMembership')}.\n",
      "  warn(f\"These edge types are not in the graph: {mismatched_edge_types}.\")\n",
      "c:\\users\\bjorn\\documents\\git\\pymbe\\src\\pymbe\\graph\\lpg.py:265: UserWarning: These edge types are not in the graph: {('FeatureTyping', 'FeatureValue', 'Import', 'Membership', 'ParameterMembership', 'Redefinition', 'ResultExpressionMembership', 'ReturnParameterMembership', 'Superclassing')}.\n",
      "  warn(f\"These edge types are not in the graph: {mismatched_edge_types}.\")\n",
      "c:\\users\\bjorn\\documents\\git\\pymbe\\src\\pymbe\\graph\\lpg.py:265: UserWarning: These edge types are not in the graph: {('Import', 'Membership', 'Redefinition', 'ResultExpressionMembership', 'FeatureMembership', 'FeatureTyping', 'FeatureValue', 'ParameterMembership', 'ReturnParameterMembership')}.\n",
      "  warn(f\"These edge types are not in the graph: {mismatched_edge_types}.\")\n",
      "c:\\users\\bjorn\\documents\\git\\pymbe\\src\\pymbe\\graph\\lpg.py:265: UserWarning: These edge types are not in the graph: {('FeatureTyping', 'Import', 'Membership', 'Redefinition', 'Superclassing', 'FeatureMembership', 'FeatureValue', 'ParameterMembership', 'ResultExpressionMembership', 'ReturnParameterMembership')}.\n",
      "  warn(f\"These edge types are not in the graph: {mismatched_edge_types}.\")\n"
     ]
    }
   ],
   "source": [
    "ui, *_ = _.children\n",
    "client, tree, inspector, lpg, interpreter = ui.children\n",
    "client.project_selector.value = client.project_selector.options[\"Kerbal (2021-04-17 18:03:01)\"]\n",
    "client._download_elements()"
   ]
  },
  {
   "cell_type": "code",
   "execution_count": 4,
   "id": "243721b3",
   "metadata": {},
   "outputs": [
    {
     "data": {
      "text/plain": [
       "<networkx.classes.multidigraph.MultiDiGraph at 0x27cbe58f1f0>"
      ]
     },
     "execution_count": 4,
     "metadata": {},
     "output_type": "execute_result"
    }
   ],
   "source": [
    "lpg.graph"
   ]
  },
  {
   "cell_type": "code",
   "execution_count": 5,
   "id": "08fa332e-59e3-48c2-9c92-b6ccd8c2ed08",
   "metadata": {},
   "outputs": [],
   "source": [
    "shorten_pre_bake = {\n",
    "    'RT-10 \"Hammer\" Solid Fuel Booster': \"RT-10\",\n",
    "    'RT-5 \"Flea\" Solid Fuel Booster': \"RT-5\",\n",
    "    'LV-T45 \"Swivel\" Liquid Fuel Engine': \"LV-T45\",\n",
    "    'FL-T100 Fuel Tank': \"FL-T100\",\n",
    "    'FL-T200 Fuel Tank': \"FL-T200\"\n",
    "}"
   ]
  },
  {
   "cell_type": "code",
   "execution_count": 6,
   "id": "92b99d95-1864-4e77-ba7d-b7df943e6445",
   "metadata": {},
   "outputs": [],
   "source": [
    "random_rez = random_generator_playbook(\n",
    "    lpg,\n",
    "    shorten_pre_bake\n",
    ")"
   ]
  },
  {
   "cell_type": "markdown",
   "id": "a564de2d-46ed-468f-ba80-3384bed1857b",
   "metadata": {},
   "source": [
    "Want to look at all the \\$results and other parameters"
   ]
  },
  {
   "cell_type": "code",
   "execution_count": 7,
   "id": "5679cb02-d1ee-4896-94aa-6a6145ef4118",
   "metadata": {},
   "outputs": [
    {
     "data": {
      "text/plain": [
       "[]"
      ]
     },
     "execution_count": 7,
     "metadata": {},
     "output_type": "execute_result"
    }
   ],
   "source": [
    "random_rez['ac79381e-74ee-4364-9d20-424a50f4834d']"
   ]
  },
  {
   "cell_type": "code",
   "execution_count": 8,
   "id": "e8b8babc-f7ec-40fa-9552-e4a25107cabc",
   "metadata": {},
   "outputs": [],
   "source": [
    "rpms = [lpg.edges[edg] for edg in list(lpg.edges.keys()) if edg[2] == 'ReturnParameterMembership']"
   ]
  },
  {
   "cell_type": "code",
   "execution_count": 9,
   "id": "e4fd9dfd-d3b0-492e-a07a-b0decfcbf29f",
   "metadata": {},
   "outputs": [
    {
     "data": {
      "text/plain": [
       "37"
      ]
     },
     "execution_count": 9,
     "metadata": {},
     "output_type": "execute_result"
    }
   ],
   "source": [
    "len(rpms)"
   ]
  },
  {
   "cell_type": "markdown",
   "id": "a9a5062d-abeb-49ff-ba52-a4d48e7d298a",
   "metadata": {},
   "source": [
    "Bind results from member expressions to the input parameters."
   ]
  },
  {
   "cell_type": "code",
   "execution_count": 11,
   "id": "0a1accf3-f88a-46e5-bc05-6a61fe8f1277",
   "metadata": {},
   "outputs": [
    {
     "name": "stderr",
     "output_type": "stream",
     "text": [
      "c:\\users\\bjorn\\documents\\git\\pymbe\\src\\pymbe\\graph\\lpg.py:265: UserWarning: These edge types are not in the graph: {('FeatureTyping', 'Import', 'Membership', 'Redefinition', 'Superclassing', 'FeatureMembership', 'FeatureValue', 'ParameterMembership', 'ResultExpressionMembership')}.\n",
      "  warn(f\"These edge types are not in the graph: {mismatched_edge_types}.\")\n"
     ]
    }
   ],
   "source": [
    "eeg = lpg.get_projection(\"Expression Evaluation Graph\")"
   ]
  },
  {
   "cell_type": "markdown",
   "id": "e424251d-c8df-492f-a411-b518b50bd411",
   "metadata": {},
   "source": [
    "Repackage LPG edges to get a good ID dictionary."
   ]
  },
  {
   "cell_type": "code",
   "execution_count": 12,
   "id": "f3494425-cbad-45dc-9a9d-7edf752a4e2d",
   "metadata": {},
   "outputs": [],
   "source": [
    "edge_dict = {}\n",
    "for edge in lpg.edges.values():\n",
    "    edge_dict.update({edge['@id']: edge})"
   ]
  },
  {
   "cell_type": "markdown",
   "id": "cc400be2-9975-4d81-a3d8-93e4d55a64d9",
   "metadata": {},
   "source": [
    "Develop implied edges to fill in the information from the model about results and input parameters elsewhere in the model."
   ]
  },
  {
   "cell_type": "code",
   "execution_count": 17,
   "id": "35ea30c6-7496-4710-a724-1167f91a6518",
   "metadata": {},
   "outputs": [
    {
     "name": "stdout",
     "output_type": "stream",
     "text": [
      "collect ($collection) => $result\n",
      "['FRE.engines --[4197ab70-699b-4f69-9694-a5f39c2bb0b0]--> $collection']\n",
      "FRE.Full Mass (p) => $result\n",
      "['FRE.Full Mass --[dbed26c7-1a89-4e04-ae50-d81ad4886ad6]--> p: Fuel Tank Section']\n",
      "sum ($collection) => $result\n",
      "['collect ($collection) => $result --[57be4b8a-285d-41fc-a059-f8e1c3f68b58]--> $collection']\n",
      "FRE.Mass (p) => $result\n",
      "['FRE.Mass --[ac79381e-74ee-4364-9d20-424a50f4834d]--> p: Kerbal Rocket Part']\n",
      "+ ($x, $y) => $result\n",
      "['sum ($collection) => $result --[d146a0ab-de0c-4d8c-bd25-9913bde2f2e5]--> $x', 'sum ($collection) => $result --[ac16b279-fa4d-4ff4-8584-17e84ea401a2]--> $y']\n",
      "collect ($collection) => $result\n",
      "['FRE.tanks --[74c492cc-1104-4ddd-b54c-5fd8a7cab158]--> $collection']\n",
      "sum ($collection) => $result\n",
      "['collect ($collection) => $result --[bd31f91a-43a9-42f9-8e69-78c8dd16a03e]--> $collection']\n"
     ]
    }
   ],
   "source": [
    "for rpm in rpms:\n",
    "    for result_feeder in eeg.predecessors(rpm['memberElement']['@id']):\n",
    "        # I think what we really want is Expressions that have at least one input parameter\n",
    "        if 'Expression' in lpg.nodes[result_feeder]['@type'] and lpg.nodes[result_feeder]['@type'] != 'FeatureReferenceExpression':\n",
    "            result_to_bind = lpg.nodes[result_feeder]['result']\n",
    "            print(get_label(lpg.nodes[result_feeder], lpg.nodes))\n",
    "            expr_members = []\n",
    "            para_members = []\n",
    "            expr_results = []\n",
    "            result_members = []\n",
    "            ownedMemberships = lpg.nodes[result_feeder]['ownedMembership']\n",
    "            for om in ownedMemberships:\n",
    "                if 'Parameter' in edge_dict[om['@id']]['@type'] and edge_dict[om['@id']]['@type']:\n",
    "                    if 'ReturnParameter' in edge_dict[om['@id']]['@type']:\n",
    "                        result_members.append(edge_dict[om['@id']]['memberElement']['@id'])\n",
    "                    else:\n",
    "                        para_members.append(edge_dict[om['@id']]['memberElement']['@id'])\n",
    "                elif 'Membership' in edge_dict[om['@id']]['@type'] or 'Result' in edge_dict[om['@id']]['@type']:\n",
    "                    #print(edge_dict[om['@id']])\n",
    "                    edge_member = edge_dict[om['@id']]['memberElement']['@id']\n",
    "                    expr_members.append(edge_dict[om['@id']]['memberElement']['@id'])\n",
    "                    if 'result' in lpg.nodes[edge_member]:\n",
    "                        expr_result = lpg.nodes[edge_member]['result']['@id']\n",
    "                        expr_results.append(expr_result)\n",
    "            edge_stack = []\n",
    "            for indx, expr in enumerate(expr_members):\n",
    "                if indx < len(expr_results) and indx < len(para_members):\n",
    "                    edge_stack.append(\n",
    "                        get_label(lpg.nodes[expr], lpg.nodes) + ' --[' +\n",
    "                        lpg.nodes[expr_results[indx]]['@id'] + ']--> ' +\n",
    "                        get_label(lpg.nodes[para_members[indx]], lpg.nodes)\n",
    "                    )\n",
    "            print(edge_stack)"
   ]
  },
  {
   "cell_type": "markdown",
   "id": "dda6b5f7-3170-42b7-bed6-3a233925472a",
   "metadata": {},
   "source": [
    "NOTE FOR ABOVE: The FRE.Mass(p) => result type expressions actually have the p as an input, Mass as a \"ResultExpressionMembership\" (looks like our dot product), and the result of that going to the result."
   ]
  },
  {
   "cell_type": "code",
   "execution_count": null,
   "id": "6b876489-b5b4-4c70-a330-f7f37004eb5f",
   "metadata": {},
   "outputs": [],
   "source": []
  }
 ],
 "metadata": {
  "kernelspec": {
   "display_name": "Python 3",
   "language": "python",
   "name": "python3"
  },
  "language_info": {
   "codemirror_mode": {
    "name": "ipython",
    "version": 3
   },
   "file_extension": ".py",
   "mimetype": "text/x-python",
   "name": "python",
   "nbconvert_exporter": "python",
   "pygments_lexer": "ipython3",
   "version": "3.9.2"
  }
 },
 "nbformat": 4,
 "nbformat_minor": 5
}
