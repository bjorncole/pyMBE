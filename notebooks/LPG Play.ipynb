{
 "cells": [
  {
   "cell_type": "markdown",
   "id": "0e39b260",
   "metadata": {},
   "source": [
    "# Labeled Property Graph Play\n",
    "\n",
    "The notebook looks at working with the LPG from SysML v2 clients"
   ]
  },
  {
   "cell_type": "code",
   "execution_count": 1,
   "id": "02d833d8",
   "metadata": {},
   "outputs": [],
   "source": [
    "import pymbe.api as pm\n",
    "from pymbe.label import get_label\n",
    "import networkx as nx\n",
    "import matplotlib.pyplot as plt\n",
    "\n",
    "from pymbe.interpretation.interp_playbooks import random_generator_playbook\n",
    "from pymbe.interpretation.results import pprint_interpretation\n",
    "\n",
    "from pymbe.query.metamodel_navigator import map_inputs_to_results"
   ]
  },
  {
   "cell_type": "code",
   "execution_count": 2,
   "id": "0887c0f5",
   "metadata": {},
   "outputs": [
    {
     "data": {
      "application/vnd.jupyter.widget-view+json": {
       "model_id": "535be64e293048dabb438809f4e80b71",
       "version_major": 2,
       "version_minor": 0
      },
      "text/plain": [
       "DockPop(children=(UI(children=(SysML2ClientWidget(children=(Text(value='http://sysml2-sst.intercax.com', descr…"
      ]
     },
     "metadata": {},
     "output_type": "display_data"
    }
   ],
   "source": [
    "pm.UI.new(host_url=\"http://sysml2-sst.intercax.com\")"
   ]
  },
  {
   "cell_type": "code",
   "execution_count": 3,
   "id": "4f1acb4e-5ca1-4723-9c4c-184a7f08dfad",
   "metadata": {},
   "outputs": [],
   "source": [
    "ui, *_ = _.children\n",
    "client, tree, inspector, lpg, interpreter = ui.children"
   ]
  },
  {
   "cell_type": "code",
   "execution_count": null,
   "id": "ef9faa57-4382-4627-af5a-18186247da68",
   "metadata": {},
   "outputs": [],
   "source": [
    "ui, *_ = _.children\n",
    "client, tree, inspector, lpg, interpreter = ui.children\n",
    "client.project_selector.value = client.project_selector.options[\"Kerbal\"]\n",
    "client._download_elements()"
   ]
  },
  {
   "cell_type": "code",
   "execution_count": null,
   "id": "ce97d8bd-389c-4f62-8886-490331435d3e",
   "metadata": {},
   "outputs": [],
   "source": [
    "client.project_selector.value"
   ]
  },
  {
   "cell_type": "code",
   "execution_count": null,
   "id": "da35f57a-094f-44a6-80ef-f0abe4510dd9",
   "metadata": {},
   "outputs": [],
   "source": [
    "client.commit_selector.value"
   ]
  },
  {
   "cell_type": "code",
   "execution_count": null,
   "id": "08fa332e-59e3-48c2-9c92-b6ccd8c2ed08",
   "metadata": {},
   "outputs": [],
   "source": [
    "shorten_pre_bake = {\n",
    "    'RT-10 \"Hammer\" Solid Fuel Booster': \"RT-10\",\n",
    "    'RT-5 \"Flea\" Solid Fuel Booster': \"RT-5\",\n",
    "    'LV-T45 \"Swivel\" Liquid Fuel Engine': \"LV-T45\",\n",
    "    'FL-T100 Fuel Tank': \"FL-T100\",\n",
    "    'FL-T200 Fuel Tank': \"FL-T200\"\n",
    "}"
   ]
  },
  {
   "cell_type": "code",
   "execution_count": null,
   "id": "92b99d95-1864-4e77-ba7d-b7df943e6445",
   "metadata": {},
   "outputs": [],
   "source": [
    "random_rez = random_generator_playbook(\n",
    "    client,\n",
    "    lpg,\n",
    "    shorten_pre_bake\n",
    ")"
   ]
  },
  {
   "cell_type": "code",
   "execution_count": null,
   "id": "c6cdca99-958c-42ec-aff2-83dfee22f48c",
   "metadata": {},
   "outputs": [],
   "source": [
    "random_rez['2caccce7-a0b4-4926-8f24-0dbffb92f6ad']"
   ]
  },
  {
   "cell_type": "code",
   "execution_count": null,
   "id": "c0189072-6f1d-41a3-968c-acb6f831a711",
   "metadata": {},
   "outputs": [],
   "source": [
    "random_rez['478a8a4d-90c7-44fd-a2ae-e4057636d4bc']"
   ]
  },
  {
   "cell_type": "code",
   "execution_count": null,
   "id": "3e56802d-245a-4242-95eb-191e2afb7e53",
   "metadata": {},
   "outputs": [],
   "source": [
    "from pymbe.interpretation.calc_dependencies import generate_execution_order"
   ]
  },
  {
   "cell_type": "code",
   "execution_count": null,
   "id": "d0a8d235-896a-4783-8ede-22e4dc430040",
   "metadata": {},
   "outputs": [],
   "source": [
    "dcg = generate_execution_order(lpg, random_rez)"
   ]
  },
  {
   "cell_type": "code",
   "execution_count": null,
   "id": "4ef3b75c-9ef9-4d4d-931c-49d68ae043e7",
   "metadata": {},
   "outputs": [],
   "source": [
    "from pymbe.label import get_label_for_id\n",
    "[(get_label_for_id(line[0], lpg.nodes), get_label_for_id(line[1], lpg.nodes), line[2]) for line in dcg]"
   ]
  },
  {
   "cell_type": "code",
   "execution_count": null,
   "id": "1e4eb2a7-79d1-44b0-9a25-01c0c5898779",
   "metadata": {},
   "outputs": [],
   "source": [
    "from pymbe.graph.calc_lpg import CalculationGroup\n",
    "cg = CalculationGroup(lpg.get_projection(\"Expression Inferred Graph\"), random_rez, dcg)"
   ]
  },
  {
   "cell_type": "code",
   "execution_count": null,
   "id": "3a9650f6-9ce9-4798-a557-8ee7dac5bd8a",
   "metadata": {},
   "outputs": [],
   "source": [
    "random_rez['7231441b-4a41-468b-b3a0-aac229c5f12d']"
   ]
  },
  {
   "cell_type": "code",
   "execution_count": null,
   "id": "8a3eaf11-f2c2-433f-8cec-e4b1f1ccb8b3",
   "metadata": {},
   "outputs": [],
   "source": [
    "cg.solve_graph(lpg)"
   ]
  },
  {
   "cell_type": "markdown",
   "id": "452e0fe4-445d-4a76-9788-29b1f1b33643",
   "metadata": {},
   "source": [
    "This is the reference to the interpretation of the result parameter of the literal expression assigning a value."
   ]
  },
  {
   "cell_type": "code",
   "execution_count": null,
   "id": "c3ed1cdf-07a5-4006-bfb4-c0cecba3fc3a",
   "metadata": {},
   "outputs": [],
   "source": [
    "random_rez['e63383e0-14bd-433f-a614-8033bc0c0718']"
   ]
  },
  {
   "cell_type": "markdown",
   "id": "6c17c036-f1df-4ca9-b871-6e81416d87e1",
   "metadata": {},
   "source": [
    "This is the reference to the interpretation of the tank Empty Mass attribute usage."
   ]
  },
  {
   "cell_type": "code",
   "execution_count": null,
   "id": "9cc7716b-d10d-4355-9922-4752dd9a6418",
   "metadata": {},
   "outputs": [],
   "source": [
    "random_rez['90585a2c-f8ff-4237-8d40-34523645ec04']"
   ]
  },
  {
   "cell_type": "code",
   "execution_count": null,
   "id": "056875fd-8caf-4ddc-85f6-a3e7d599b7db",
   "metadata": {},
   "outputs": [],
   "source": [
    "random_rez['c65d9f75-e9c0-474c-a269-29bc1a01a9d2']"
   ]
  },
  {
   "cell_type": "code",
   "execution_count": null,
   "id": "e8f24c2e-6dc3-4f29-bdc9-f4e1219fc2b5",
   "metadata": {},
   "outputs": [],
   "source": [
    "random_rez['ddd03b91-b830-4bb0-aaae-41329a7d955f']"
   ]
  },
  {
   "cell_type": "code",
   "execution_count": null,
   "id": "5e8da40f-4d9a-4738-ab3b-84cbccb91c1e",
   "metadata": {},
   "outputs": [],
   "source": []
  }
 ],
 "metadata": {
  "kernelspec": {
   "display_name": "Python 3",
   "language": "python",
   "name": "python3"
  },
  "language_info": {
   "codemirror_mode": {
    "name": "ipython",
    "version": 3
   },
   "file_extension": ".py",
   "mimetype": "text/x-python",
   "name": "python",
   "nbconvert_exporter": "python",
   "pygments_lexer": "ipython3",
   "version": "3.9.4"
  }
 },
 "nbformat": 4,
 "nbformat_minor": 5
}
