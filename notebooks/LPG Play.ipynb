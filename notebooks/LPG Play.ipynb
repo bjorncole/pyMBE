{
 "cells": [
  {
   "cell_type": "markdown",
   "id": "0e39b260",
   "metadata": {},
   "source": [
    "# Labeled Property Graph Play\n",
    "\n",
    "The notebook looks at working with the LPG from SysML v2 clients"
   ]
  },
  {
   "cell_type": "code",
   "execution_count": 1,
   "id": "02d833d8",
   "metadata": {},
   "outputs": [],
   "source": [
    "import pymbe.api as pm\n",
    "from pymbe.label import get_label\n",
    "import networkx as NX\n",
    "import matplotlib.pyplot as plt\n",
    "\n",
    "from pymbe.interpretation.interp_playbooks import random_generator_playbook"
   ]
  },
  {
   "cell_type": "code",
   "execution_count": 2,
   "id": "0887c0f5",
   "metadata": {},
   "outputs": [
    {
     "data": {
      "application/vnd.jupyter.widget-view+json": {
       "model_id": "ef906e7e7aad429f8d03bc7237fa9a15",
       "version_major": 2,
       "version_minor": 0
      },
      "text/plain": [
       "DockPop(children=(UI(children=(SysML2ClientWidget(children=(Text(value='http://sysml2-sst.intercax.com', descr…"
      ]
     },
     "metadata": {},
     "output_type": "display_data"
    }
   ],
   "source": [
    "pm.UI.new(host_url=\"http://sysml2-sst.intercax.com\")"
   ]
  },
  {
   "cell_type": "code",
   "execution_count": 3,
   "id": "729c43c6",
   "metadata": {},
   "outputs": [],
   "source": [
    "ui, *_ = _.children\n",
    "client, tree, inspector, lpg = ui.children\n",
    "client.project_selector.value = client.project_selector.options[\"Kerbal (2021-04-17 18:03:01)\"]\n",
    "client._download_elements()"
   ]
  },
  {
   "cell_type": "code",
   "execution_count": 4,
   "id": "243721b3",
   "metadata": {},
   "outputs": [
    {
     "data": {
      "text/plain": [
       "<networkx.classes.multidigraph.MultiDiGraph at 0x28ec562deb0>"
      ]
     },
     "execution_count": 4,
     "metadata": {},
     "output_type": "execute_result"
    }
   ],
   "source": [
    "lpg.graph"
   ]
  },
  {
   "cell_type": "code",
   "execution_count": 5,
   "id": "08fa332e-59e3-48c2-9c92-b6ccd8c2ed08",
   "metadata": {},
   "outputs": [],
   "source": [
    "shorten_pre_bake = {\n",
    "    'RT-10 \"Hammer\" Solid Fuel Booster': \"RT-10\",\n",
    "    'RT-5 \"Flea\" Solid Fuel Booster': \"RT-5\",\n",
    "    'LV-T45 \"Swivel\" Liquid Fuel Engine': \"LV-T45\",\n",
    "    'FL-T100 Fuel Tank': \"FL-T100\",\n",
    "    'FL-T200 Fuel Tank': \"FL-T200\"\n",
    "}"
   ]
  },
  {
   "cell_type": "code",
   "execution_count": 6,
   "id": "92b99d95-1864-4e77-ba7d-b7df943e6445",
   "metadata": {},
   "outputs": [
    {
     "name": "stdout",
     "output_type": "stream",
     "text": [
      "{'d29dee98-5b9d-4a78-8532-95a82e47b8bc': 3, '4c593e66-3737-407b-bbe9-0354a7f3d84b': 2, 'db167a72-ec46-4176-9436-b9f0c17e7de0': 40, '83842e20-04ce-4df8-84b4-7b7b2efb83a0': 7, 'a8235762-e6a8-424f-a08d-e1f93569ccbc': 33, 'ac8d6db7-57ec-4862-885c-3060750b2f5c': 139, '391427e3-154a-48ed-9a2a-46c6279585e7': 11, '8b5b7ee8-f1ba-48b6-b06a-824c203af623': 40}\n"
     ]
    },
    {
     "name": "stderr",
     "output_type": "stream",
     "text": [
      "c:\\users\\bjorn\\documents\\git\\pymbe\\src\\pymbe\\graph\\lpg.py:253: UserWarning: These edge types are not in the graph: {('FeatureMembership', 'FeatureValue', 'Import', 'Membership', 'ParameterMembership', 'Redefinition', 'ResultExpressionMembership', 'ReturnParameterMembership', 'Superclassing')}.\n",
      "  warn(f\"These edge types are not in the graph: {mismatched_edge_types}.\")\n",
      "c:\\users\\bjorn\\documents\\git\\pymbe\\src\\pymbe\\graph\\lpg.py:253: UserWarning: These edge types are not in the graph: {('FeatureMembership', 'FeatureTyping', 'FeatureValue', 'Import', 'Membership', 'ParameterMembership', 'Redefinition', 'ResultExpressionMembership', 'ReturnParameterMembership')}.\n",
      "  warn(f\"These edge types are not in the graph: {mismatched_edge_types}.\")\n",
      "c:\\users\\bjorn\\documents\\git\\pymbe\\src\\pymbe\\graph\\lpg.py:253: UserWarning: These edge types are not in the graph: {('FeatureTyping', 'FeatureValue', 'Import', 'Membership', 'ParameterMembership', 'Redefinition', 'ResultExpressionMembership', 'ReturnParameterMembership', 'Superclassing')}.\n",
      "  warn(f\"These edge types are not in the graph: {mismatched_edge_types}.\")\n",
      "c:\\users\\bjorn\\documents\\git\\pymbe\\src\\pymbe\\graph\\lpg.py:253: UserWarning: These edge types are not in the graph: {('Import', 'Membership', 'Redefinition', 'ResultExpressionMembership', 'FeatureMembership', 'FeatureTyping', 'FeatureValue', 'ParameterMembership', 'ReturnParameterMembership')}.\n",
      "  warn(f\"These edge types are not in the graph: {mismatched_edge_types}.\")\n"
     ]
    },
    {
     "data": {
      "text/plain": [
       "{'d29dee98-5b9d-4a78-8532-95a82e47b8bc': [[SS#0], [SS#1], [SS#2]],\n",
       " '4c593e66-3737-407b-bbe9-0354a7f3d84b': [[LS#0], [LS#1]],\n",
       " 'db167a72-ec46-4176-9436-b9f0c17e7de0': [[Coupler#0],\n",
       "  [Coupler#1],\n",
       "  [Coupler#2],\n",
       "  [Coupler#3],\n",
       "  [Coupler#4],\n",
       "  [Coupler#5],\n",
       "  [Coupler#6],\n",
       "  [Coupler#7],\n",
       "  [Coupler#8],\n",
       "  [Coupler#9],\n",
       "  [Coupler#10],\n",
       "  [Coupler#11],\n",
       "  [Coupler#12],\n",
       "  [Coupler#13],\n",
       "  [Coupler#14],\n",
       "  [Coupler#15],\n",
       "  [Coupler#16],\n",
       "  [Coupler#17],\n",
       "  [Coupler#18],\n",
       "  [Coupler#19],\n",
       "  [Coupler#20],\n",
       "  [Coupler#21],\n",
       "  [Coupler#22],\n",
       "  [Coupler#23],\n",
       "  [Coupler#24],\n",
       "  [Coupler#25],\n",
       "  [Coupler#26],\n",
       "  [Coupler#27],\n",
       "  [Coupler#28],\n",
       "  [Coupler#29],\n",
       "  [Coupler#30],\n",
       "  [Coupler#31],\n",
       "  [Coupler#32],\n",
       "  [Coupler#33],\n",
       "  [Coupler#34],\n",
       "  [Coupler#35],\n",
       "  [Coupler#36],\n",
       "  [Coupler#37],\n",
       "  [Coupler#38],\n",
       "  [Coupler#39]],\n",
       " '83842e20-04ce-4df8-84b4-7b7b2efb83a0': [[RT-5#0],\n",
       "  [RT-5#1],\n",
       "  [RT-5#2],\n",
       "  [RT-5#3],\n",
       "  [RT-5#4],\n",
       "  [RT-5#5],\n",
       "  [RT-5#6]],\n",
       " 'a8235762-e6a8-424f-a08d-e1f93569ccbc': [[RT-10#0],\n",
       "  [RT-10#1],\n",
       "  [RT-10#2],\n",
       "  [RT-10#3],\n",
       "  [RT-10#4],\n",
       "  [RT-10#5],\n",
       "  [RT-10#6],\n",
       "  [RT-10#7],\n",
       "  [RT-10#8],\n",
       "  [RT-10#9],\n",
       "  [RT-10#10],\n",
       "  [RT-10#11],\n",
       "  [RT-10#12],\n",
       "  [RT-10#13],\n",
       "  [RT-10#14],\n",
       "  [RT-10#15],\n",
       "  [RT-10#16],\n",
       "  [RT-10#17],\n",
       "  [RT-10#18],\n",
       "  [RT-10#19],\n",
       "  [RT-10#20],\n",
       "  [RT-10#21],\n",
       "  [RT-10#22],\n",
       "  [RT-10#23],\n",
       "  [RT-10#24],\n",
       "  [RT-10#25],\n",
       "  [RT-10#26],\n",
       "  [RT-10#27],\n",
       "  [RT-10#28],\n",
       "  [RT-10#29],\n",
       "  [RT-10#30],\n",
       "  [RT-10#31],\n",
       "  [RT-10#32]],\n",
       " 'ac8d6db7-57ec-4862-885c-3060750b2f5c': [[FL-T200#0],\n",
       "  [FL-T200#1],\n",
       "  [FL-T200#2],\n",
       "  [FL-T200#3],\n",
       "  [FL-T200#4],\n",
       "  [FL-T200#5],\n",
       "  [FL-T200#6],\n",
       "  [FL-T200#7],\n",
       "  [FL-T200#8],\n",
       "  [FL-T200#9],\n",
       "  [FL-T200#10],\n",
       "  [FL-T200#11],\n",
       "  [FL-T200#12],\n",
       "  [FL-T200#13],\n",
       "  [FL-T200#14],\n",
       "  [FL-T200#15],\n",
       "  [FL-T200#16],\n",
       "  [FL-T200#17],\n",
       "  [FL-T200#18],\n",
       "  [FL-T200#19],\n",
       "  [FL-T200#20],\n",
       "  [FL-T200#21],\n",
       "  [FL-T200#22],\n",
       "  [FL-T200#23],\n",
       "  [FL-T200#24],\n",
       "  [FL-T200#25],\n",
       "  [FL-T200#26],\n",
       "  [FL-T200#27],\n",
       "  [FL-T200#28],\n",
       "  [FL-T200#29],\n",
       "  [FL-T200#30],\n",
       "  [FL-T200#31],\n",
       "  [FL-T200#32],\n",
       "  [FL-T200#33],\n",
       "  [FL-T200#34],\n",
       "  [FL-T200#35],\n",
       "  [FL-T200#36],\n",
       "  [FL-T200#37],\n",
       "  [FL-T200#38],\n",
       "  [FL-T200#39],\n",
       "  [FL-T200#40],\n",
       "  [FL-T200#41],\n",
       "  [FL-T200#42],\n",
       "  [FL-T200#43],\n",
       "  [FL-T200#44],\n",
       "  [FL-T200#45],\n",
       "  [FL-T200#46],\n",
       "  [FL-T200#47],\n",
       "  [FL-T200#48],\n",
       "  [FL-T200#49],\n",
       "  [FL-T200#50],\n",
       "  [FL-T200#51],\n",
       "  [FL-T200#52],\n",
       "  [FL-T200#53],\n",
       "  [FL-T200#54],\n",
       "  [FL-T200#55],\n",
       "  [FL-T200#56],\n",
       "  [FL-T200#57],\n",
       "  [FL-T200#58],\n",
       "  [FL-T200#59],\n",
       "  [FL-T200#60],\n",
       "  [FL-T200#61],\n",
       "  [FL-T200#62],\n",
       "  [FL-T200#63],\n",
       "  [FL-T200#64],\n",
       "  [FL-T200#65],\n",
       "  [FL-T200#66],\n",
       "  [FL-T200#67],\n",
       "  [FL-T200#68],\n",
       "  [FL-T200#69],\n",
       "  [FL-T200#70],\n",
       "  [FL-T200#71],\n",
       "  [FL-T200#72],\n",
       "  [FL-T200#73],\n",
       "  [FL-T200#74],\n",
       "  [FL-T200#75],\n",
       "  [FL-T200#76],\n",
       "  [FL-T200#77],\n",
       "  [FL-T200#78],\n",
       "  [FL-T200#79],\n",
       "  [FL-T200#80],\n",
       "  [FL-T200#81],\n",
       "  [FL-T200#82],\n",
       "  [FL-T200#83],\n",
       "  [FL-T200#84],\n",
       "  [FL-T200#85],\n",
       "  [FL-T200#86],\n",
       "  [FL-T200#87],\n",
       "  [FL-T200#88],\n",
       "  [FL-T200#89],\n",
       "  [FL-T200#90],\n",
       "  [FL-T200#91],\n",
       "  [FL-T200#92],\n",
       "  [FL-T200#93],\n",
       "  [FL-T200#94],\n",
       "  [FL-T200#95],\n",
       "  [FL-T200#96],\n",
       "  [FL-T200#97],\n",
       "  [FL-T200#98],\n",
       "  [FL-T200#99],\n",
       "  [FL-T200#100],\n",
       "  [FL-T200#101],\n",
       "  [FL-T200#102],\n",
       "  [FL-T200#103],\n",
       "  [FL-T200#104],\n",
       "  [FL-T200#105],\n",
       "  [FL-T200#106],\n",
       "  [FL-T200#107],\n",
       "  [FL-T200#108],\n",
       "  [FL-T200#109],\n",
       "  [FL-T200#110],\n",
       "  [FL-T200#111],\n",
       "  [FL-T200#112],\n",
       "  [FL-T200#113],\n",
       "  [FL-T200#114],\n",
       "  [FL-T200#115],\n",
       "  [FL-T200#116],\n",
       "  [FL-T200#117],\n",
       "  [FL-T200#118],\n",
       "  [FL-T200#119],\n",
       "  [FL-T200#120],\n",
       "  [FL-T200#121],\n",
       "  [FL-T200#122],\n",
       "  [FL-T200#123],\n",
       "  [FL-T200#124],\n",
       "  [FL-T200#125],\n",
       "  [FL-T200#126],\n",
       "  [FL-T200#127],\n",
       "  [FL-T200#128],\n",
       "  [FL-T200#129],\n",
       "  [FL-T200#130],\n",
       "  [FL-T200#131],\n",
       "  [FL-T200#132],\n",
       "  [FL-T200#133],\n",
       "  [FL-T200#134],\n",
       "  [FL-T200#135],\n",
       "  [FL-T200#136],\n",
       "  [FL-T200#137],\n",
       "  [FL-T200#138]],\n",
       " '391427e3-154a-48ed-9a2a-46c6279585e7': [[FL-T100#0],\n",
       "  [FL-T100#1],\n",
       "  [FL-T100#2],\n",
       "  [FL-T100#3],\n",
       "  [FL-T100#4],\n",
       "  [FL-T100#5],\n",
       "  [FL-T100#6],\n",
       "  [FL-T100#7],\n",
       "  [FL-T100#8],\n",
       "  [FL-T100#9],\n",
       "  [FL-T100#10]],\n",
       " '8b5b7ee8-f1ba-48b6-b06a-824c203af623': [[LV-T45#0],\n",
       "  [LV-T45#1],\n",
       "  [LV-T45#2],\n",
       "  [LV-T45#3],\n",
       "  [LV-T45#4],\n",
       "  [LV-T45#5],\n",
       "  [LV-T45#6],\n",
       "  [LV-T45#7],\n",
       "  [LV-T45#8],\n",
       "  [LV-T45#9],\n",
       "  [LV-T45#10],\n",
       "  [LV-T45#11],\n",
       "  [LV-T45#12],\n",
       "  [LV-T45#13],\n",
       "  [LV-T45#14],\n",
       "  [LV-T45#15],\n",
       "  [LV-T45#16],\n",
       "  [LV-T45#17],\n",
       "  [LV-T45#18],\n",
       "  [LV-T45#19],\n",
       "  [LV-T45#20],\n",
       "  [LV-T45#21],\n",
       "  [LV-T45#22],\n",
       "  [LV-T45#23],\n",
       "  [LV-T45#24],\n",
       "  [LV-T45#25],\n",
       "  [LV-T45#26],\n",
       "  [LV-T45#27],\n",
       "  [LV-T45#28],\n",
       "  [LV-T45#29],\n",
       "  [LV-T45#30],\n",
       "  [LV-T45#31],\n",
       "  [LV-T45#32],\n",
       "  [LV-T45#33],\n",
       "  [LV-T45#34],\n",
       "  [LV-T45#35],\n",
       "  [LV-T45#36],\n",
       "  [LV-T45#37],\n",
       "  [LV-T45#38],\n",
       "  [LV-T45#39]]}"
      ]
     },
     "execution_count": 6,
     "metadata": {},
     "output_type": "execute_result"
    }
   ],
   "source": [
    "random_generator_playbook(\n",
    "    lpg,\n",
    "    lpg.nodes,\n",
    "    shorten_pre_bake\n",
    ")"
   ]
  },
  {
   "cell_type": "code",
   "execution_count": null,
   "id": "5e413da3",
   "metadata": {},
   "outputs": [],
   "source": [
    "len(lpg.nodes)"
   ]
  },
  {
   "cell_type": "code",
   "execution_count": null,
   "id": "64074f78",
   "metadata": {},
   "outputs": [],
   "source": [
    "banded_feature_graph = lpg.get_projection(\"Banded Graph\")"
   ]
  },
  {
   "cell_type": "code",
   "execution_count": null,
   "id": "15e8e77c",
   "metadata": {},
   "outputs": [],
   "source": [
    "len(banded_feature_graph.nodes)"
   ]
  },
  {
   "cell_type": "code",
   "execution_count": null,
   "id": "b8077d43",
   "metadata": {},
   "outputs": [],
   "source": [
    "banded_feature_graph"
   ]
  },
  {
   "cell_type": "code",
   "execution_count": null,
   "id": "6d0d26ac",
   "metadata": {},
   "outputs": [],
   "source": [
    "xes = []\n",
    "for key, ele in client.elements_by_id.items():\n",
    "    if 'name' in ele and ele['name'] == '$x':\n",
    "        xes.append(ele)"
   ]
  },
  {
   "cell_type": "code",
   "execution_count": null,
   "id": "b7a75bea",
   "metadata": {},
   "outputs": [],
   "source": [
    "xes[0]['@id']"
   ]
  },
  {
   "cell_type": "code",
   "execution_count": null,
   "id": "70d75975",
   "metadata": {},
   "outputs": [],
   "source": [
    "extended_banded_feature_graph = lpg.get_projection(\"Expanded Banded Graph\")"
   ]
  },
  {
   "cell_type": "code",
   "execution_count": null,
   "id": "b4ae5c32",
   "metadata": {},
   "outputs": [],
   "source": [
    "pos = NX.planar_layout(extended_banded_feature_graph)\n",
    "\n",
    "plt.figure(figsize=(20, 12))\n",
    "        \n",
    "NX.draw_networkx_nodes(extended_banded_feature_graph, pos, nodelist=extended_banded_feature_graph.nodes, node_color=\"r\")\n",
    "\n",
    "node_labels = {}\n",
    "\n",
    "for node in extended_banded_feature_graph.nodes:\n",
    "    label = get_label(lpg.nodes[node], lpg.nodes).replace('$', '\\$')\n",
    "    node_labels.update({node: label})\n",
    "\n",
    "sc_edges = []\n",
    "fm_edges = []\n",
    "ft_edges = []\n",
    "pm_edges = []\n",
    "rpm_edges = []\n",
    "\n",
    "for edg in extended_banded_feature_graph.edges:\n",
    "    if edg[2] == 'Superclassing':\n",
    "        sc_edges.append([edg[0], edg[1]])\n",
    "    elif edg[2] == 'FeatureMembership':\n",
    "        fm_edges.append([edg[0], edg[1]])\n",
    "    elif edg[2] == 'FeatureMembership':\n",
    "        pm_edges.append([edg[0], edg[1]])\n",
    "    elif edg[2] == 'ParameterMembership':\n",
    "        fm_edges.append([edg[0], edg[1]])\n",
    "    elif edg[2] == 'ReturnParameterMembership':\n",
    "        rpm_edges.append([edg[0], edg[1]])\n",
    "        \n",
    "NX.draw_networkx_labels(extended_banded_feature_graph, pos, node_labels, font_size=8)\n",
    "NX.draw_networkx_edges(extended_banded_feature_graph, pos, edgelist=sc_edges, edge_color=\"b\", arrowsize=20)\n",
    "NX.draw_networkx_edges(extended_banded_feature_graph, pos, edgelist=fm_edges, edge_color=\"r\", arrowsize=20)\n",
    "NX.draw_networkx_edges(extended_banded_feature_graph, pos, edgelist=ft_edges, edge_color=\"g\", arrowsize=20)\n",
    "NX.draw_networkx_edges(extended_banded_feature_graph, pos, edgelist=pm_edges, edge_color=\"c\", arrowsize=20)\n",
    "NX.draw_networkx_edges(extended_banded_feature_graph, pos, edgelist=rpm_edges, edge_color=\"m\", arrowsize=20)\n",
    "1"
   ]
  },
  {
   "cell_type": "code",
   "execution_count": null,
   "id": "dc11417c",
   "metadata": {},
   "outputs": [],
   "source": [
    "xes[0]['@id'] in list(extended_banded_feature_graph.nodes)"
   ]
  },
  {
   "cell_type": "code",
   "execution_count": null,
   "id": "93ec91ca",
   "metadata": {},
   "outputs": [],
   "source": [
    "import pymbe.query.metamodel_navigator as MN"
   ]
  },
  {
   "cell_type": "code",
   "execution_count": null,
   "id": "6622fac9",
   "metadata": {},
   "outputs": [],
   "source": [
    "elements_by_id = client.elements_by_id\n",
    "MN.feature_multiplicity(elements_by_id['c9a16c71-4138-47b3-ae75-f5d0a525b633'], elements_by_id, bound=\"upper\")"
   ]
  },
  {
   "cell_type": "code",
   "execution_count": null,
   "id": "fb8854b4",
   "metadata": {},
   "outputs": [],
   "source": [
    "import pymbe.query.query as Query\n",
    "Query.roll_up_upper_multiplicity(\n",
    "    lpg,\n",
    "    client.elements_by_id['069675af-a514-40e3-9010-605553dec7c9'],\n",
    ")"
   ]
  },
  {
   "cell_type": "code",
   "execution_count": null,
   "id": "e339c1e3",
   "metadata": {},
   "outputs": [],
   "source": [
    "banded_roots = [node for node in extended_banded_feature_graph.nodes if extended_banded_feature_graph.out_degree(node) == 0]"
   ]
  },
  {
   "cell_type": "code",
   "execution_count": null,
   "id": "79e1d38b",
   "metadata": {},
   "outputs": [],
   "source": [
    "for part_tree_root in banded_roots:\n",
    "    try:\n",
    "        part_path = NX.shortest_path(\n",
    "            extended_banded_feature_graph,\n",
    "            '069675af-a514-40e3-9010-605553dec7c9',\n",
    "            part_tree_root)\n",
    "    except NX.NetworkXNoPath:\n",
    "        pass\n",
    "    except NX.NodeNotFound:\n",
    "        # nothing to roll up, so just use own multiplicity\n",
    "        corrected_mult = feature_lower_multiplicity(feat, client)"
   ]
  },
  {
   "cell_type": "markdown",
   "id": "c14b6937",
   "metadata": {},
   "source": [
    "The walk below shows how to get from parameters to the formulas calculating them or owning attribute usages."
   ]
  },
  {
   "cell_type": "code",
   "execution_count": null,
   "id": "5d671ff4",
   "metadata": {},
   "outputs": [],
   "source": [
    "[get_label(lpg.nodes[step], lpg.nodes) for step in part_path]"
   ]
  }
 ],
 "metadata": {
  "kernelspec": {
   "display_name": "Python 3",
   "language": "python",
   "name": "python3"
  },
  "language_info": {
   "codemirror_mode": {
    "name": "ipython",
    "version": 3
   },
   "file_extension": ".py",
   "mimetype": "text/x-python",
   "name": "python",
   "nbconvert_exporter": "python",
   "pygments_lexer": "ipython3",
   "version": "3.9.2"
  }
 },
 "nbformat": 4,
 "nbformat_minor": 5
}
