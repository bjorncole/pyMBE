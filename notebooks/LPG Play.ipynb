{
 "cells": [
  {
   "cell_type": "markdown",
   "id": "0e39b260",
   "metadata": {},
   "source": [
    "# Labeled Property Graph Play\n",
    "\n",
    "The notebook looks at working with the LPG from SysML v2 clients"
   ]
  },
  {
   "cell_type": "code",
   "execution_count": 1,
   "id": "02d833d8",
   "metadata": {},
   "outputs": [],
   "source": [
    "import pymbe.api as pm\n",
    "from pymbe.label import get_label\n",
    "import networkx as NX\n",
    "import matplotlib.pyplot as plt\n",
    "\n",
    "from pymbe.interpretation.interp_playbooks import random_generator_playbook\n",
    "from pymbe.interpretation.results import pprint_interpretation"
   ]
  },
  {
   "cell_type": "code",
   "execution_count": 2,
   "id": "0887c0f5",
   "metadata": {},
   "outputs": [
    {
     "name": "stderr",
     "output_type": "stream",
     "text": [
      "c:\\users\\bjorn\\documents\\git\\pymbe\\src\\pymbe\\graph\\lpg.py:265: UserWarning: These edge types are not in the graph: {()}.\n",
      "  warn(f\"These edge types are not in the graph: {mismatched_edge_types}.\")\n",
      "c:\\users\\bjorn\\documents\\git\\pymbe\\src\\pymbe\\graph\\lpg.py:265: UserWarning: These edge types are not in the graph: {('FeatureMembership', 'FeatureValue', 'ParameterMembership', 'ResultExpressionMembership', 'ReturnParameterMembership')}.\n",
      "  warn(f\"These edge types are not in the graph: {mismatched_edge_types}.\")\n"
     ]
    },
    {
     "data": {
      "application/vnd.jupyter.widget-view+json": {
       "model_id": "13ae6a007e3f407ca8dbcdc107ba4a5a",
       "version_major": 2,
       "version_minor": 0
      },
      "text/plain": [
       "DockPop(children=(UI(children=(SysML2ClientWidget(children=(Text(value='http://sysml2-sst.intercax.com', descr…"
      ]
     },
     "metadata": {},
     "output_type": "display_data"
    }
   ],
   "source": [
    "pm.UI.new(host_url=\"http://sysml2-sst.intercax.com\")"
   ]
  },
  {
   "cell_type": "code",
   "execution_count": 3,
   "id": "729c43c6",
   "metadata": {},
   "outputs": [
    {
     "name": "stderr",
     "output_type": "stream",
     "text": [
      "c:\\users\\bjorn\\documents\\git\\pymbe\\src\\pymbe\\graph\\lpg.py:265: UserWarning: These edge types are not in the graph: {('FeatureMembership', 'FeatureValue', 'Import', 'Membership', 'ParameterMembership', 'Redefinition', 'ResultExpressionMembership', 'ReturnParameterMembership', 'Superclassing')}.\n",
      "  warn(f\"These edge types are not in the graph: {mismatched_edge_types}.\")\n",
      "c:\\users\\bjorn\\documents\\git\\pymbe\\src\\pymbe\\graph\\lpg.py:265: UserWarning: These edge types are not in the graph: {('FeatureMembership', 'FeatureTyping', 'FeatureValue', 'Import', 'Membership', 'ParameterMembership', 'Redefinition', 'ResultExpressionMembership', 'ReturnParameterMembership')}.\n",
      "  warn(f\"These edge types are not in the graph: {mismatched_edge_types}.\")\n",
      "c:\\users\\bjorn\\documents\\git\\pymbe\\src\\pymbe\\graph\\lpg.py:265: UserWarning: These edge types are not in the graph: {('FeatureTyping', 'FeatureValue', 'Import', 'Membership', 'ParameterMembership', 'Redefinition', 'ResultExpressionMembership', 'ReturnParameterMembership', 'Superclassing')}.\n",
      "  warn(f\"These edge types are not in the graph: {mismatched_edge_types}.\")\n",
      "c:\\users\\bjorn\\documents\\git\\pymbe\\src\\pymbe\\graph\\lpg.py:265: UserWarning: These edge types are not in the graph: {('Import', 'Membership', 'Redefinition', 'ResultExpressionMembership', 'FeatureMembership', 'FeatureTyping', 'FeatureValue', 'ParameterMembership', 'ReturnParameterMembership')}.\n",
      "  warn(f\"These edge types are not in the graph: {mismatched_edge_types}.\")\n",
      "c:\\users\\bjorn\\documents\\git\\pymbe\\src\\pymbe\\graph\\lpg.py:265: UserWarning: These edge types are not in the graph: {('FeatureTyping', 'Import', 'Membership', 'Redefinition', 'Superclassing', 'FeatureMembership', 'FeatureValue', 'ParameterMembership', 'ResultExpressionMembership', 'ReturnParameterMembership')}.\n",
      "  warn(f\"These edge types are not in the graph: {mismatched_edge_types}.\")\n"
     ]
    }
   ],
   "source": [
    "ui, *_ = _.children\n",
    "client, tree, inspector, lpg, interpreter = ui.children\n",
    "client.project_selector.value = client.project_selector.options[\"Kerbal (2021-04-17 18:03:01)\"]\n",
    "client._download_elements()"
   ]
  },
  {
   "cell_type": "code",
   "execution_count": 4,
   "id": "243721b3",
   "metadata": {},
   "outputs": [
    {
     "data": {
      "text/plain": [
       "<networkx.classes.multidigraph.MultiDiGraph at 0x2204dbbaac0>"
      ]
     },
     "execution_count": 4,
     "metadata": {},
     "output_type": "execute_result"
    }
   ],
   "source": [
    "lpg.graph"
   ]
  },
  {
   "cell_type": "code",
   "execution_count": 5,
   "id": "08fa332e-59e3-48c2-9c92-b6ccd8c2ed08",
   "metadata": {},
   "outputs": [],
   "source": [
    "shorten_pre_bake = {\n",
    "    'RT-10 \"Hammer\" Solid Fuel Booster': \"RT-10\",\n",
    "    'RT-5 \"Flea\" Solid Fuel Booster': \"RT-5\",\n",
    "    'LV-T45 \"Swivel\" Liquid Fuel Engine': \"LV-T45\",\n",
    "    'FL-T100 Fuel Tank': \"FL-T100\",\n",
    "    'FL-T200 Fuel Tank': \"FL-T200\"\n",
    "}"
   ]
  },
  {
   "cell_type": "code",
   "execution_count": 6,
   "id": "92b99d95-1864-4e77-ba7d-b7df943e6445",
   "metadata": {},
   "outputs": [],
   "source": [
    "random_rez = random_generator_playbook(\n",
    "    lpg,\n",
    "    shorten_pre_bake\n",
    ")"
   ]
  },
  {
   "cell_type": "markdown",
   "id": "a564de2d-46ed-468f-ba80-3384bed1857b",
   "metadata": {},
   "source": [
    "Want to look at all the \\$results and other parameters"
   ]
  },
  {
   "cell_type": "code",
   "execution_count": 7,
   "id": "5679cb02-d1ee-4896-94aa-6a6145ef4118",
   "metadata": {},
   "outputs": [
    {
     "data": {
      "text/plain": [
       "[[LS#0,\n",
       "  FM#0,\n",
       "  + ($x, $y) => $result,\n",
       "  sum ($collection) => $result,\n",
       "  collect ($collection) => $result,\n",
       "  FRE.Mass (p) => $result,\n",
       "  FRE.Mass,\n",
       "  LS#0.FM#0.+ ($x, $y) => $result.sum ($collection) => $result.collect ($collection) => $result.FRE.Mass (p) => $result.FRE.Mass.$result#0 (unset)],\n",
       " [LS#1,\n",
       "  FM#1,\n",
       "  + ($x, $y) => $result,\n",
       "  sum ($collection) => $result,\n",
       "  collect ($collection) => $result,\n",
       "  FRE.Mass (p) => $result,\n",
       "  FRE.Mass,\n",
       "  LS#1.FM#1.+ ($x, $y) => $result.sum ($collection) => $result.collect ($collection) => $result.FRE.Mass (p) => $result.FRE.Mass.$result#1 (unset)],\n",
       " [LS#2,\n",
       "  FM#2,\n",
       "  + ($x, $y) => $result,\n",
       "  sum ($collection) => $result,\n",
       "  collect ($collection) => $result,\n",
       "  FRE.Mass (p) => $result,\n",
       "  FRE.Mass,\n",
       "  LS#2.FM#2.+ ($x, $y) => $result.sum ($collection) => $result.collect ($collection) => $result.FRE.Mass (p) => $result.FRE.Mass.$result#2 (unset)]]"
      ]
     },
     "execution_count": 7,
     "metadata": {},
     "output_type": "execute_result"
    }
   ],
   "source": [
    "random_rez['ac79381e-74ee-4364-9d20-424a50f4834d']"
   ]
  },
  {
   "cell_type": "code",
   "execution_count": 8,
   "id": "e8b8babc-f7ec-40fa-9552-e4a25107cabc",
   "metadata": {},
   "outputs": [],
   "source": [
    "rpms = [lpg.edges[edg] for edg in list(lpg.edges.keys()) if edg[2] == 'ReturnParameterMembership']"
   ]
  },
  {
   "cell_type": "code",
   "execution_count": 9,
   "id": "e4fd9dfd-d3b0-492e-a07a-b0decfcbf29f",
   "metadata": {},
   "outputs": [
    {
     "data": {
      "text/plain": [
       "37"
      ]
     },
     "execution_count": 9,
     "metadata": {},
     "output_type": "execute_result"
    }
   ],
   "source": [
    "len(rpms)"
   ]
  },
  {
   "cell_type": "markdown",
   "id": "0963b097-3db0-4c11-9219-006872c1fd7f",
   "metadata": {},
   "source": [
    "Try to link results to input parameters in the model"
   ]
  },
  {
   "cell_type": "code",
   "execution_count": 10,
   "id": "c7b9eef3-358a-4d3e-a8b0-cc7bfc6543fd",
   "metadata": {},
   "outputs": [
    {
     "name": "stdout",
     "output_type": "stream",
     "text": [
      "[[RT-10#0, EM#0, 0«#0, RT-10#0.EM#0.0«#0.$result#0 (unset)], [RT-10#1, EM#1, 0«#1, RT-10#1.EM#1.0«#1.$result#1 (unset)], [RT-10#2, EM#2, 0«#2, RT-10#2.EM#2.0«#2.$result#2 (unset)], [RT-10#3, EM#3, 0«#3, RT-10#3.EM#3.0«#3.$result#3 (unset)], [RT-10#4, EM#4, 0«#4, RT-10#4.EM#4.0«#4.$result#4 (unset)], [RT-10#5, EM#5, 0«#5, RT-10#5.EM#5.0«#5.$result#5 (unset)], [RT-10#6, EM#6, 0«#6, RT-10#6.EM#6.0«#6.$result#6 (unset)], [RT-10#7, EM#7, 0«#7, RT-10#7.EM#7.0«#7.$result#7 (unset)], [RT-10#8, EM#8, 0«#8, RT-10#8.EM#8.0«#8.$result#8 (unset)], [RT-10#9, EM#9, 0«#9, RT-10#9.EM#9.0«#9.$result#9 (unset)], [RT-10#10, EM#10, 0«#10, RT-10#10.EM#10.0«#10.$result#10 (unset)], [RT-10#11, EM#11, 0«#11, RT-10#11.EM#11.0«#11.$result#11 (unset)], [RT-10#12, EM#12, 0«#12, RT-10#12.EM#12.0«#12.$result#12 (unset)], [RT-10#13, EM#13, 0«#13, RT-10#13.EM#13.0«#13.$result#13 (unset)], [RT-10#14, EM#14, 0«#14, RT-10#14.EM#14.0«#14.$result#14 (unset)], [RT-10#15, EM#15, 0«#15, RT-10#15.EM#15.0«#15.$result#15 (unset)], [RT-10#16, EM#16, 0«#16, RT-10#16.EM#16.0«#16.$result#16 (unset)], [RT-10#17, EM#17, 0«#17, RT-10#17.EM#17.0«#17.$result#17 (unset)], [RT-10#18, EM#18, 0«#18, RT-10#18.EM#18.0«#18.$result#18 (unset)], [RT-10#19, EM#19, 0«#19, RT-10#19.EM#19.0«#19.$result#19 (unset)], [RT-10#20, EM#20, 0«#20, RT-10#20.EM#20.0«#20.$result#20 (unset)], [RT-10#21, EM#21, 0«#21, RT-10#21.EM#21.0«#21.$result#21 (unset)], [RT-10#22, EM#22, 0«#22, RT-10#22.EM#22.0«#22.$result#22 (unset)], [RT-10#23, EM#23, 0«#23, RT-10#23.EM#23.0«#23.$result#23 (unset)]]\n",
      "[[LV-T45#0, SI#0, 1«#0, LV-T45#0.SI#0.1«#0.$result#0 (unset)]]\n",
      "[[LS#0, FM#0, + ($x, $y) => $result, LS#0.FM#0.+ ($x, $y) => $result.$result#0 (unset)], [LS#1, FM#1, + ($x, $y) => $result, LS#1.FM#1.+ ($x, $y) => $result.$result#1 (unset)], [LS#2, FM#2, + ($x, $y) => $result, LS#2.FM#2.+ ($x, $y) => $result.$result#2 (unset)]]\n",
      "[[LS#0, FM#0, + ($x, $y) => $result, sum ($collection) => $result, collect ($collection) => $result, FRE.engines, LS#0.FM#0.+ ($x, $y) => $result.sum ($collection) => $result.collect ($collection) => $result.FRE.engines.$result#0 (unset)], [LS#1, FM#1, + ($x, $y) => $result, sum ($collection) => $result, collect ($collection) => $result, FRE.engines, LS#1.FM#1.+ ($x, $y) => $result.sum ($collection) => $result.collect ($collection) => $result.FRE.engines.$result#1 (unset)], [LS#2, FM#2, + ($x, $y) => $result, sum ($collection) => $result, collect ($collection) => $result, FRE.engines, LS#2.FM#2.+ ($x, $y) => $result.sum ($collection) => $result.collect ($collection) => $result.FRE.engines.$result#2 (unset)]]\n",
      "[]\n",
      "[[RT-10#0, SI#0, 1«#0, RT-10#0.SI#0.1«#0.$result#0 (unset)], [RT-10#1, SI#1, 1«#1, RT-10#1.SI#1.1«#1.$result#1 (unset)], [RT-10#2, SI#2, 1«#2, RT-10#2.SI#2.1«#2.$result#2 (unset)], [RT-10#3, SI#3, 1«#3, RT-10#3.SI#3.1«#3.$result#3 (unset)], [RT-10#4, SI#4, 1«#4, RT-10#4.SI#4.1«#4.$result#4 (unset)], [RT-10#5, SI#5, 1«#5, RT-10#5.SI#5.1«#5.$result#5 (unset)], [RT-10#6, SI#6, 1«#6, RT-10#6.SI#6.1«#6.$result#6 (unset)], [RT-10#7, SI#7, 1«#7, RT-10#7.SI#7.1«#7.$result#7 (unset)], [RT-10#8, SI#8, 1«#8, RT-10#8.SI#8.1«#8.$result#8 (unset)], [RT-10#9, SI#9, 1«#9, RT-10#9.SI#9.1«#9.$result#9 (unset)], [RT-10#10, SI#10, 1«#10, RT-10#10.SI#10.1«#10.$result#10 (unset)], [RT-10#11, SI#11, 1«#11, RT-10#11.SI#11.1«#11.$result#11 (unset)], [RT-10#12, SI#12, 1«#12, RT-10#12.SI#12.1«#12.$result#12 (unset)], [RT-10#13, SI#13, 1«#13, RT-10#13.SI#13.1«#13.$result#13 (unset)], [RT-10#14, SI#14, 1«#14, RT-10#14.SI#14.1«#14.$result#14 (unset)], [RT-10#15, SI#15, 1«#15, RT-10#15.SI#15.1«#15.$result#15 (unset)], [RT-10#16, SI#16, 1«#16, RT-10#16.SI#16.1«#16.$result#16 (unset)], [RT-10#17, SI#17, 1«#17, RT-10#17.SI#17.1«#17.$result#17 (unset)], [RT-10#18, SI#18, 1«#18, RT-10#18.SI#18.1«#18.$result#18 (unset)], [RT-10#19, SI#19, 1«#19, RT-10#19.SI#19.1«#19.$result#19 (unset)], [RT-10#20, SI#20, 1«#20, RT-10#20.SI#20.1«#20.$result#20 (unset)], [RT-10#21, SI#21, 1«#21, RT-10#21.SI#21.1«#21.$result#21 (unset)], [RT-10#22, SI#22, 1«#22, RT-10#22.SI#22.1«#22.$result#22 (unset)], [RT-10#23, SI#23, 1«#23, RT-10#23.SI#23.1«#23.$result#23 (unset)]]\n",
      "[[RT-5#0, Thrust#0, 1«#0, RT-5#0.Thrust#0.1«#0.$result#0 (unset)], [RT-5#1, Thrust#1, 1«#1, RT-5#1.Thrust#1.1«#1.$result#1 (unset)], [RT-5#2, Thrust#2, 1«#2, RT-5#2.Thrust#2.1«#2.$result#2 (unset)], [RT-5#3, Thrust#3, 1«#3, RT-5#3.Thrust#3.1«#3.$result#3 (unset)], [RT-5#4, Thrust#4, 1«#4, RT-5#4.Thrust#4.1«#4.$result#4 (unset)], [RT-5#5, Thrust#5, 1«#5, RT-5#5.Thrust#5.1«#5.$result#5 (unset)], [RT-5#6, Thrust#6, 1«#6, RT-5#6.Thrust#6.1«#6.$result#6 (unset)], [RT-5#7, Thrust#7, 1«#7, RT-5#7.Thrust#7.1«#7.$result#7 (unset)], [RT-5#8, Thrust#8, 1«#8, RT-5#8.Thrust#8.1«#8.$result#8 (unset)], [RT-5#9, Thrust#9, 1«#9, RT-5#9.Thrust#9.1«#9.$result#9 (unset)], [RT-5#10, Thrust#10, 1«#10, RT-5#10.Thrust#10.1«#10.$result#10 (unset)], [RT-5#11, Thrust#11, 1«#11, RT-5#11.Thrust#11.1«#11.$result#11 (unset)], [RT-5#12, Thrust#12, 1«#12, RT-5#12.Thrust#12.1«#12.$result#12 (unset)], [RT-5#13, Thrust#13, 1«#13, RT-5#13.Thrust#13.1«#13.$result#13 (unset)], [RT-5#14, Thrust#14, 1«#14, RT-5#14.Thrust#14.1«#14.$result#14 (unset)], [RT-5#15, Thrust#15, 1«#15, RT-5#15.Thrust#15.1«#15.$result#15 (unset)]]\n",
      "[[LV-T45#0, Thrust#0, 1«#0, LV-T45#0.Thrust#0.1«#0.$result#0 (unset)]]\n",
      "[[FL-T100#0, FM#0, 0«#0, FL-T100#0.FM#0.0«#0.$result#0 (unset)], [FL-T100#1, FM#1, 0«#1, FL-T100#1.FM#1.0«#1.$result#1 (unset)], [FL-T100#2, FM#2, 0«#2, FL-T100#2.FM#2.0«#2.$result#2 (unset)], [FL-T100#3, FM#3, 0«#3, FL-T100#3.FM#3.0«#3.$result#3 (unset)], [FL-T100#4, FM#4, 0«#4, FL-T100#4.FM#4.0«#4.$result#4 (unset)], [FL-T100#5, FM#5, 0«#5, FL-T100#5.FM#5.0«#5.$result#5 (unset)], [FL-T100#6, FM#6, 0«#6, FL-T100#6.FM#6.0«#6.$result#6 (unset)], [FL-T100#7, FM#7, 0«#7, FL-T100#7.FM#7.0«#7.$result#7 (unset)], [FL-T100#8, FM#8, 0«#8, FL-T100#8.FM#8.0«#8.$result#8 (unset)], [FL-T100#9, FM#9, 0«#9, FL-T100#9.FM#9.0«#9.$result#9 (unset)], [FL-T100#10, FM#10, 0«#10, FL-T100#10.FM#10.0«#10.$result#10 (unset)], [FL-T100#11, FM#11, 0«#11, FL-T100#11.FM#11.0«#11.$result#11 (unset)], [FL-T100#12, FM#12, 0«#12, FL-T100#12.FM#12.0«#12.$result#12 (unset)], [FL-T100#13, FM#13, 0«#13, FL-T100#13.FM#13.0«#13.$result#13 (unset)], [FL-T100#14, FM#14, 0«#14, FL-T100#14.FM#14.0«#14.$result#14 (unset)], [FL-T100#15, FM#15, 0«#15, FL-T100#15.FM#15.0«#15.$result#15 (unset)], [FL-T100#16, FM#16, 0«#16, FL-T100#16.FM#16.0«#16.$result#16 (unset)], [FL-T100#17, FM#17, 0«#17, FL-T100#17.FM#17.0«#17.$result#17 (unset)], [FL-T100#18, FM#18, 0«#18, FL-T100#18.FM#18.0«#18.$result#18 (unset)], [FL-T100#19, FM#19, 0«#19, FL-T100#19.FM#19.0«#19.$result#19 (unset)], [FL-T100#20, FM#20, 0«#20, FL-T100#20.FM#20.0«#20.$result#20 (unset)], [FL-T100#21, FM#21, 0«#21, FL-T100#21.FM#21.0«#21.$result#21 (unset)], [FL-T100#22, FM#22, 0«#22, FL-T100#22.FM#22.0«#22.$result#22 (unset)], [FL-T100#23, FM#23, 0«#23, FL-T100#23.FM#23.0«#23.$result#23 (unset)], [FL-T100#24, FM#24, 0«#24, FL-T100#24.FM#24.0«#24.$result#24 (unset)], [FL-T100#25, FM#25, 0«#25, FL-T100#25.FM#25.0«#25.$result#25 (unset)], [FL-T100#26, FM#26, 0«#26, FL-T100#26.FM#26.0«#26.$result#26 (unset)], [FL-T100#27, FM#27, 0«#27, FL-T100#27.FM#27.0«#27.$result#27 (unset)], [FL-T100#28, FM#28, 0«#28, FL-T100#28.FM#28.0«#28.$result#28 (unset)], [FL-T100#29, FM#29, 0«#29, FL-T100#29.FM#29.0«#29.$result#29 (unset)], [FL-T100#30, FM#30, 0«#30, FL-T100#30.FM#30.0«#30.$result#30 (unset)], [FL-T100#31, FM#31, 0«#31, FL-T100#31.FM#31.0«#31.$result#31 (unset)], [FL-T100#32, FM#32, 0«#32, FL-T100#32.FM#32.0«#32.$result#32 (unset)], [FL-T100#33, FM#33, 0«#33, FL-T100#33.FM#33.0«#33.$result#33 (unset)], [FL-T100#34, FM#34, 0«#34, FL-T100#34.FM#34.0«#34.$result#34 (unset)], [FL-T100#35, FM#35, 0«#35, FL-T100#35.FM#35.0«#35.$result#35 (unset)], [FL-T100#36, FM#36, 0«#36, FL-T100#36.FM#36.0«#36.$result#36 (unset)], [FL-T100#37, FM#37, 0«#37, FL-T100#37.FM#37.0«#37.$result#37 (unset)], [FL-T100#38, FM#38, 0«#38, FL-T100#38.FM#38.0«#38.$result#38 (unset)], [FL-T100#39, FM#39, 0«#39, FL-T100#39.FM#39.0«#39.$result#39 (unset)], [FL-T100#40, FM#40, 0«#40, FL-T100#40.FM#40.0«#40.$result#40 (unset)], [FL-T100#41, FM#41, 0«#41, FL-T100#41.FM#41.0«#41.$result#41 (unset)], [FL-T100#42, FM#42, 0«#42, FL-T100#42.FM#42.0«#42.$result#42 (unset)], [FL-T100#43, FM#43, 0«#43, FL-T100#43.FM#43.0«#43.$result#43 (unset)], [FL-T100#44, FM#44, 0«#44, FL-T100#44.FM#44.0«#44.$result#44 (unset)], [FL-T100#45, FM#45, 0«#45, FL-T100#45.FM#45.0«#45.$result#45 (unset)], [FL-T100#46, FM#46, 0«#46, FL-T100#46.FM#46.0«#46.$result#46 (unset)], [FL-T100#47, FM#47, 0«#47, FL-T100#47.FM#47.0«#47.$result#47 (unset)], [FL-T100#48, FM#48, 0«#48, FL-T100#48.FM#48.0«#48.$result#48 (unset)], [FL-T100#49, FM#49, 0«#49, FL-T100#49.FM#49.0«#49.$result#49 (unset)], [FL-T100#50, FM#50, 0«#50, FL-T100#50.FM#50.0«#50.$result#50 (unset)], [FL-T100#51, FM#51, 0«#51, FL-T100#51.FM#51.0«#51.$result#51 (unset)], [FL-T100#52, FM#52, 0«#52, FL-T100#52.FM#52.0«#52.$result#52 (unset)], [FL-T100#53, FM#53, 0«#53, FL-T100#53.FM#53.0«#53.$result#53 (unset)], [FL-T100#54, FM#54, 0«#54, FL-T100#54.FM#54.0«#54.$result#54 (unset)], [FL-T100#55, FM#55, 0«#55, FL-T100#55.FM#55.0«#55.$result#55 (unset)], [FL-T100#56, FM#56, 0«#56, FL-T100#56.FM#56.0«#56.$result#56 (unset)], [FL-T100#57, FM#57, 0«#57, FL-T100#57.FM#57.0«#57.$result#57 (unset)], [FL-T100#58, FM#58, 0«#58, FL-T100#58.FM#58.0«#58.$result#58 (unset)], [FL-T100#59, FM#59, 0«#59, FL-T100#59.FM#59.0«#59.$result#59 (unset)], [FL-T100#60, FM#60, 0«#60, FL-T100#60.FM#60.0«#60.$result#60 (unset)], [FL-T100#61, FM#61, 0«#61, FL-T100#61.FM#61.0«#61.$result#61 (unset)], [FL-T100#62, FM#62, 0«#62, FL-T100#62.FM#62.0«#62.$result#62 (unset)], [FL-T100#63, FM#63, 0«#63, FL-T100#63.FM#63.0«#63.$result#63 (unset)], [FL-T100#64, FM#64, 0«#64, FL-T100#64.FM#64.0«#64.$result#64 (unset)], [FL-T100#65, FM#65, 0«#65, FL-T100#65.FM#65.0«#65.$result#65 (unset)], [FL-T100#66, FM#66, 0«#66, FL-T100#66.FM#66.0«#66.$result#66 (unset)], [FL-T100#67, FM#67, 0«#67, FL-T100#67.FM#67.0«#67.$result#67 (unset)], [FL-T100#68, FM#68, 0«#68, FL-T100#68.FM#68.0«#68.$result#68 (unset)], [FL-T100#69, FM#69, 0«#69, FL-T100#69.FM#69.0«#69.$result#69 (unset)], [FL-T100#70, FM#70, 0«#70, FL-T100#70.FM#70.0«#70.$result#70 (unset)], [FL-T100#71, FM#71, 0«#71, FL-T100#71.FM#71.0«#71.$result#71 (unset)], [FL-T100#72, FM#72, 0«#72, FL-T100#72.FM#72.0«#72.$result#72 (unset)], [FL-T100#73, FM#73, 0«#73, FL-T100#73.FM#73.0«#73.$result#73 (unset)], [FL-T100#74, FM#74, 0«#74, FL-T100#74.FM#74.0«#74.$result#74 (unset)], [FL-T100#75, FM#75, 0«#75, FL-T100#75.FM#75.0«#75.$result#75 (unset)], [FL-T100#76, FM#76, 0«#76, FL-T100#76.FM#76.0«#76.$result#76 (unset)], [FL-T100#77, FM#77, 0«#77, FL-T100#77.FM#77.0«#77.$result#77 (unset)], [FL-T100#78, FM#78, 0«#78, FL-T100#78.FM#78.0«#78.$result#78 (unset)], [FL-T100#79, FM#79, 0«#79, FL-T100#79.FM#79.0«#79.$result#79 (unset)], [FL-T100#80, FM#80, 0«#80, FL-T100#80.FM#80.0«#80.$result#80 (unset)], [FL-T100#81, FM#81, 0«#81, FL-T100#81.FM#81.0«#81.$result#81 (unset)], [FL-T100#82, FM#82, 0«#82, FL-T100#82.FM#82.0«#82.$result#82 (unset)], [FL-T100#83, FM#83, 0«#83, FL-T100#83.FM#83.0«#83.$result#83 (unset)], [FL-T100#84, FM#84, 0«#84, FL-T100#84.FM#84.0«#84.$result#84 (unset)], [FL-T100#85, FM#85, 0«#85, FL-T100#85.FM#85.0«#85.$result#85 (unset)], [FL-T100#86, FM#86, 0«#86, FL-T100#86.FM#86.0«#86.$result#86 (unset)], [FL-T100#87, FM#87, 0«#87, FL-T100#87.FM#87.0«#87.$result#87 (unset)], [FL-T100#88, FM#88, 0«#88, FL-T100#88.FM#88.0«#88.$result#88 (unset)], [FL-T100#89, FM#89, 0«#89, FL-T100#89.FM#89.0«#89.$result#89 (unset)], [FL-T100#90, FM#90, 0«#90, FL-T100#90.FM#90.0«#90.$result#90 (unset)], [FL-T100#91, FM#91, 0«#91, FL-T100#91.FM#91.0«#91.$result#91 (unset)], [FL-T100#92, FM#92, 0«#92, FL-T100#92.FM#92.0«#92.$result#92 (unset)], [FL-T100#93, FM#93, 0«#93, FL-T100#93.FM#93.0«#93.$result#93 (unset)], [FL-T100#94, FM#94, 0«#94, FL-T100#94.FM#94.0«#94.$result#94 (unset)]]\n",
      "[[RT-5#0, SI#0, 1«#0, RT-5#0.SI#0.1«#0.$result#0 (unset)], [RT-5#1, SI#1, 1«#1, RT-5#1.SI#1.1«#1.$result#1 (unset)], [RT-5#2, SI#2, 1«#2, RT-5#2.SI#2.1«#2.$result#2 (unset)], [RT-5#3, SI#3, 1«#3, RT-5#3.SI#3.1«#3.$result#3 (unset)], [RT-5#4, SI#4, 1«#4, RT-5#4.SI#4.1«#4.$result#4 (unset)], [RT-5#5, SI#5, 1«#5, RT-5#5.SI#5.1«#5.$result#5 (unset)], [RT-5#6, SI#6, 1«#6, RT-5#6.SI#6.1«#6.$result#6 (unset)], [RT-5#7, SI#7, 1«#7, RT-5#7.SI#7.1«#7.$result#7 (unset)], [RT-5#8, SI#8, 1«#8, RT-5#8.SI#8.1«#8.$result#8 (unset)], [RT-5#9, SI#9, 1«#9, RT-5#9.SI#9.1«#9.$result#9 (unset)], [RT-5#10, SI#10, 1«#10, RT-5#10.SI#10.1«#10.$result#10 (unset)], [RT-5#11, SI#11, 1«#11, RT-5#11.SI#11.1«#11.$result#11 (unset)], [RT-5#12, SI#12, 1«#12, RT-5#12.SI#12.1«#12.$result#12 (unset)], [RT-5#13, SI#13, 1«#13, RT-5#13.SI#13.1«#13.$result#13 (unset)], [RT-5#14, SI#14, 1«#14, RT-5#14.SI#14.1«#14.$result#14 (unset)], [RT-5#15, SI#15, 1«#15, RT-5#15.SI#15.1«#15.$result#15 (unset)]]\n",
      "[]\n",
      "[[LS#0, FM#0, + ($x, $y) => $result, sum ($collection) => $result, collect ($collection) => $result, FRE.tanks, LS#0.FM#0.+ ($x, $y) => $result.sum ($collection) => $result.collect ($collection) => $result.FRE.tanks.$result#0 (unset)], [LS#1, FM#1, + ($x, $y) => $result, sum ($collection) => $result, collect ($collection) => $result, FRE.tanks, LS#1.FM#1.+ ($x, $y) => $result.sum ($collection) => $result.collect ($collection) => $result.FRE.tanks.$result#1 (unset)], [LS#2, FM#2, + ($x, $y) => $result, sum ($collection) => $result, collect ($collection) => $result, FRE.tanks, LS#2.FM#2.+ ($x, $y) => $result.sum ($collection) => $result.collect ($collection) => $result.FRE.tanks.$result#2 (unset)]]\n",
      "[]\n",
      "[[RT-10#0, FM#0, 3«#0, RT-10#0.FM#0.3«#0.$result#0 (unset)], [RT-10#1, FM#1, 3«#1, RT-10#1.FM#1.3«#1.$result#1 (unset)], [RT-10#2, FM#2, 3«#2, RT-10#2.FM#2.3«#2.$result#2 (unset)], [RT-10#3, FM#3, 3«#3, RT-10#3.FM#3.3«#3.$result#3 (unset)], [RT-10#4, FM#4, 3«#4, RT-10#4.FM#4.3«#4.$result#4 (unset)], [RT-10#5, FM#5, 3«#5, RT-10#5.FM#5.3«#5.$result#5 (unset)], [RT-10#6, FM#6, 3«#6, RT-10#6.FM#6.3«#6.$result#6 (unset)], [RT-10#7, FM#7, 3«#7, RT-10#7.FM#7.3«#7.$result#7 (unset)], [RT-10#8, FM#8, 3«#8, RT-10#8.FM#8.3«#8.$result#8 (unset)], [RT-10#9, FM#9, 3«#9, RT-10#9.FM#9.3«#9.$result#9 (unset)], [RT-10#10, FM#10, 3«#10, RT-10#10.FM#10.3«#10.$result#10 (unset)], [RT-10#11, FM#11, 3«#11, RT-10#11.FM#11.3«#11.$result#11 (unset)], [RT-10#12, FM#12, 3«#12, RT-10#12.FM#12.3«#12.$result#12 (unset)], [RT-10#13, FM#13, 3«#13, RT-10#13.FM#13.3«#13.$result#13 (unset)], [RT-10#14, FM#14, 3«#14, RT-10#14.FM#14.3«#14.$result#14 (unset)], [RT-10#15, FM#15, 3«#15, RT-10#15.FM#15.3«#15.$result#15 (unset)], [RT-10#16, FM#16, 3«#16, RT-10#16.FM#16.3«#16.$result#16 (unset)], [RT-10#17, FM#17, 3«#17, RT-10#17.FM#17.3«#17.$result#17 (unset)], [RT-10#18, FM#18, 3«#18, RT-10#18.FM#18.3«#18.$result#18 (unset)], [RT-10#19, FM#19, 3«#19, RT-10#19.FM#19.3«#19.$result#19 (unset)], [RT-10#20, FM#20, 3«#20, RT-10#20.FM#20.3«#20.$result#20 (unset)], [RT-10#21, FM#21, 3«#21, RT-10#21.FM#21.3«#21.$result#21 (unset)], [RT-10#22, FM#22, 3«#22, RT-10#22.FM#22.3«#22.$result#22 (unset)], [RT-10#23, FM#23, 3«#23, RT-10#23.FM#23.3«#23.$result#23 (unset)]]\n",
      "[[FL-T100#0, EM#0, 0«#0, FL-T100#0.EM#0.0«#0.$result#0 (unset)], [FL-T100#1, EM#1, 0«#1, FL-T100#1.EM#1.0«#1.$result#1 (unset)], [FL-T100#2, EM#2, 0«#2, FL-T100#2.EM#2.0«#2.$result#2 (unset)], [FL-T100#3, EM#3, 0«#3, FL-T100#3.EM#3.0«#3.$result#3 (unset)], [FL-T100#4, EM#4, 0«#4, FL-T100#4.EM#4.0«#4.$result#4 (unset)], [FL-T100#5, EM#5, 0«#5, FL-T100#5.EM#5.0«#5.$result#5 (unset)], [FL-T100#6, EM#6, 0«#6, FL-T100#6.EM#6.0«#6.$result#6 (unset)], [FL-T100#7, EM#7, 0«#7, FL-T100#7.EM#7.0«#7.$result#7 (unset)], [FL-T100#8, EM#8, 0«#8, FL-T100#8.EM#8.0«#8.$result#8 (unset)], [FL-T100#9, EM#9, 0«#9, FL-T100#9.EM#9.0«#9.$result#9 (unset)], [FL-T100#10, EM#10, 0«#10, FL-T100#10.EM#10.0«#10.$result#10 (unset)], [FL-T100#11, EM#11, 0«#11, FL-T100#11.EM#11.0«#11.$result#11 (unset)], [FL-T100#12, EM#12, 0«#12, FL-T100#12.EM#12.0«#12.$result#12 (unset)], [FL-T100#13, EM#13, 0«#13, FL-T100#13.EM#13.0«#13.$result#13 (unset)], [FL-T100#14, EM#14, 0«#14, FL-T100#14.EM#14.0«#14.$result#14 (unset)], [FL-T100#15, EM#15, 0«#15, FL-T100#15.EM#15.0«#15.$result#15 (unset)], [FL-T100#16, EM#16, 0«#16, FL-T100#16.EM#16.0«#16.$result#16 (unset)], [FL-T100#17, EM#17, 0«#17, FL-T100#17.EM#17.0«#17.$result#17 (unset)], [FL-T100#18, EM#18, 0«#18, FL-T100#18.EM#18.0«#18.$result#18 (unset)], [FL-T100#19, EM#19, 0«#19, FL-T100#19.EM#19.0«#19.$result#19 (unset)], [FL-T100#20, EM#20, 0«#20, FL-T100#20.EM#20.0«#20.$result#20 (unset)], [FL-T100#21, EM#21, 0«#21, FL-T100#21.EM#21.0«#21.$result#21 (unset)], [FL-T100#22, EM#22, 0«#22, FL-T100#22.EM#22.0«#22.$result#22 (unset)], [FL-T100#23, EM#23, 0«#23, FL-T100#23.EM#23.0«#23.$result#23 (unset)], [FL-T100#24, EM#24, 0«#24, FL-T100#24.EM#24.0«#24.$result#24 (unset)], [FL-T100#25, EM#25, 0«#25, FL-T100#25.EM#25.0«#25.$result#25 (unset)], [FL-T100#26, EM#26, 0«#26, FL-T100#26.EM#26.0«#26.$result#26 (unset)], [FL-T100#27, EM#27, 0«#27, FL-T100#27.EM#27.0«#27.$result#27 (unset)], [FL-T100#28, EM#28, 0«#28, FL-T100#28.EM#28.0«#28.$result#28 (unset)], [FL-T100#29, EM#29, 0«#29, FL-T100#29.EM#29.0«#29.$result#29 (unset)], [FL-T100#30, EM#30, 0«#30, FL-T100#30.EM#30.0«#30.$result#30 (unset)], [FL-T100#31, EM#31, 0«#31, FL-T100#31.EM#31.0«#31.$result#31 (unset)], [FL-T100#32, EM#32, 0«#32, FL-T100#32.EM#32.0«#32.$result#32 (unset)], [FL-T100#33, EM#33, 0«#33, FL-T100#33.EM#33.0«#33.$result#33 (unset)], [FL-T100#34, EM#34, 0«#34, FL-T100#34.EM#34.0«#34.$result#34 (unset)], [FL-T100#35, EM#35, 0«#35, FL-T100#35.EM#35.0«#35.$result#35 (unset)], [FL-T100#36, EM#36, 0«#36, FL-T100#36.EM#36.0«#36.$result#36 (unset)], [FL-T100#37, EM#37, 0«#37, FL-T100#37.EM#37.0«#37.$result#37 (unset)], [FL-T100#38, EM#38, 0«#38, FL-T100#38.EM#38.0«#38.$result#38 (unset)], [FL-T100#39, EM#39, 0«#39, FL-T100#39.EM#39.0«#39.$result#39 (unset)], [FL-T100#40, EM#40, 0«#40, FL-T100#40.EM#40.0«#40.$result#40 (unset)], [FL-T100#41, EM#41, 0«#41, FL-T100#41.EM#41.0«#41.$result#41 (unset)], [FL-T100#42, EM#42, 0«#42, FL-T100#42.EM#42.0«#42.$result#42 (unset)], [FL-T100#43, EM#43, 0«#43, FL-T100#43.EM#43.0«#43.$result#43 (unset)], [FL-T100#44, EM#44, 0«#44, FL-T100#44.EM#44.0«#44.$result#44 (unset)], [FL-T100#45, EM#45, 0«#45, FL-T100#45.EM#45.0«#45.$result#45 (unset)], [FL-T100#46, EM#46, 0«#46, FL-T100#46.EM#46.0«#46.$result#46 (unset)], [FL-T100#47, EM#47, 0«#47, FL-T100#47.EM#47.0«#47.$result#47 (unset)], [FL-T100#48, EM#48, 0«#48, FL-T100#48.EM#48.0«#48.$result#48 (unset)], [FL-T100#49, EM#49, 0«#49, FL-T100#49.EM#49.0«#49.$result#49 (unset)], [FL-T100#50, EM#50, 0«#50, FL-T100#50.EM#50.0«#50.$result#50 (unset)], [FL-T100#51, EM#51, 0«#51, FL-T100#51.EM#51.0«#51.$result#51 (unset)], [FL-T100#52, EM#52, 0«#52, FL-T100#52.EM#52.0«#52.$result#52 (unset)], [FL-T100#53, EM#53, 0«#53, FL-T100#53.EM#53.0«#53.$result#53 (unset)], [FL-T100#54, EM#54, 0«#54, FL-T100#54.EM#54.0«#54.$result#54 (unset)], [FL-T100#55, EM#55, 0«#55, FL-T100#55.EM#55.0«#55.$result#55 (unset)], [FL-T100#56, EM#56, 0«#56, FL-T100#56.EM#56.0«#56.$result#56 (unset)], [FL-T100#57, EM#57, 0«#57, FL-T100#57.EM#57.0«#57.$result#57 (unset)], [FL-T100#58, EM#58, 0«#58, FL-T100#58.EM#58.0«#58.$result#58 (unset)], [FL-T100#59, EM#59, 0«#59, FL-T100#59.EM#59.0«#59.$result#59 (unset)], [FL-T100#60, EM#60, 0«#60, FL-T100#60.EM#60.0«#60.$result#60 (unset)], [FL-T100#61, EM#61, 0«#61, FL-T100#61.EM#61.0«#61.$result#61 (unset)], [FL-T100#62, EM#62, 0«#62, FL-T100#62.EM#62.0«#62.$result#62 (unset)], [FL-T100#63, EM#63, 0«#63, FL-T100#63.EM#63.0«#63.$result#63 (unset)], [FL-T100#64, EM#64, 0«#64, FL-T100#64.EM#64.0«#64.$result#64 (unset)], [FL-T100#65, EM#65, 0«#65, FL-T100#65.EM#65.0«#65.$result#65 (unset)], [FL-T100#66, EM#66, 0«#66, FL-T100#66.EM#66.0«#66.$result#66 (unset)], [FL-T100#67, EM#67, 0«#67, FL-T100#67.EM#67.0«#67.$result#67 (unset)], [FL-T100#68, EM#68, 0«#68, FL-T100#68.EM#68.0«#68.$result#68 (unset)], [FL-T100#69, EM#69, 0«#69, FL-T100#69.EM#69.0«#69.$result#69 (unset)], [FL-T100#70, EM#70, 0«#70, FL-T100#70.EM#70.0«#70.$result#70 (unset)], [FL-T100#71, EM#71, 0«#71, FL-T100#71.EM#71.0«#71.$result#71 (unset)], [FL-T100#72, EM#72, 0«#72, FL-T100#72.EM#72.0«#72.$result#72 (unset)], [FL-T100#73, EM#73, 0«#73, FL-T100#73.EM#73.0«#73.$result#73 (unset)], [FL-T100#74, EM#74, 0«#74, FL-T100#74.EM#74.0«#74.$result#74 (unset)], [FL-T100#75, EM#75, 0«#75, FL-T100#75.EM#75.0«#75.$result#75 (unset)], [FL-T100#76, EM#76, 0«#76, FL-T100#76.EM#76.0«#76.$result#76 (unset)], [FL-T100#77, EM#77, 0«#77, FL-T100#77.EM#77.0«#77.$result#77 (unset)], [FL-T100#78, EM#78, 0«#78, FL-T100#78.EM#78.0«#78.$result#78 (unset)], [FL-T100#79, EM#79, 0«#79, FL-T100#79.EM#79.0«#79.$result#79 (unset)], [FL-T100#80, EM#80, 0«#80, FL-T100#80.EM#80.0«#80.$result#80 (unset)], [FL-T100#81, EM#81, 0«#81, FL-T100#81.EM#81.0«#81.$result#81 (unset)], [FL-T100#82, EM#82, 0«#82, FL-T100#82.EM#82.0«#82.$result#82 (unset)], [FL-T100#83, EM#83, 0«#83, FL-T100#83.EM#83.0«#83.$result#83 (unset)], [FL-T100#84, EM#84, 0«#84, FL-T100#84.EM#84.0«#84.$result#84 (unset)], [FL-T100#85, EM#85, 0«#85, FL-T100#85.EM#85.0«#85.$result#85 (unset)], [FL-T100#86, EM#86, 0«#86, FL-T100#86.EM#86.0«#86.$result#86 (unset)], [FL-T100#87, EM#87, 0«#87, FL-T100#87.EM#87.0«#87.$result#87 (unset)], [FL-T100#88, EM#88, 0«#88, FL-T100#88.EM#88.0«#88.$result#88 (unset)], [FL-T100#89, EM#89, 0«#89, FL-T100#89.EM#89.0«#89.$result#89 (unset)], [FL-T100#90, EM#90, 0«#90, FL-T100#90.EM#90.0«#90.$result#90 (unset)], [FL-T100#91, EM#91, 0«#91, FL-T100#91.EM#91.0«#91.$result#91 (unset)], [FL-T100#92, EM#92, 0«#92, FL-T100#92.EM#92.0«#92.$result#92 (unset)], [FL-T100#93, EM#93, 0«#93, FL-T100#93.EM#93.0«#93.$result#93 (unset)], [FL-T100#94, EM#94, 0«#94, FL-T100#94.EM#94.0«#94.$result#94 (unset)]]\n",
      "[[LV-T45#0, Mass#0, 1«#0, LV-T45#0.Mass#0.1«#0.$result#0 (unset)]]\n",
      "[[LS#0, FM#0, + ($x, $y) => $result, sum ($collection) => $result, collect ($collection) => $result, FRE.Full Mass (p) => $result, LS#0.FM#0.+ ($x, $y) => $result.sum ($collection) => $result.collect ($collection) => $result.FRE.Full Mass (p) => $result.$result#0 (unset)], [LS#1, FM#1, + ($x, $y) => $result, sum ($collection) => $result, collect ($collection) => $result, FRE.Full Mass (p) => $result, LS#1.FM#1.+ ($x, $y) => $result.sum ($collection) => $result.collect ($collection) => $result.FRE.Full Mass (p) => $result.$result#1 (unset)], [LS#2, FM#2, + ($x, $y) => $result, sum ($collection) => $result, collect ($collection) => $result, FRE.Full Mass (p) => $result, LS#2.FM#2.+ ($x, $y) => $result.sum ($collection) => $result.collect ($collection) => $result.FRE.Full Mass (p) => $result.$result#2 (unset)]]\n",
      "[]\n",
      "[[RT-5#0, EM#0, 0«#0, RT-5#0.EM#0.0«#0.$result#0 (unset)], [RT-5#1, EM#1, 0«#1, RT-5#1.EM#1.0«#1.$result#1 (unset)], [RT-5#2, EM#2, 0«#2, RT-5#2.EM#2.0«#2.$result#2 (unset)], [RT-5#3, EM#3, 0«#3, RT-5#3.EM#3.0«#3.$result#3 (unset)], [RT-5#4, EM#4, 0«#4, RT-5#4.EM#4.0«#4.$result#4 (unset)], [RT-5#5, EM#5, 0«#5, RT-5#5.EM#5.0«#5.$result#5 (unset)], [RT-5#6, EM#6, 0«#6, RT-5#6.EM#6.0«#6.$result#6 (unset)], [RT-5#7, EM#7, 0«#7, RT-5#7.EM#7.0«#7.$result#7 (unset)], [RT-5#8, EM#8, 0«#8, RT-5#8.EM#8.0«#8.$result#8 (unset)], [RT-5#9, EM#9, 0«#9, RT-5#9.EM#9.0«#9.$result#9 (unset)], [RT-5#10, EM#10, 0«#10, RT-5#10.EM#10.0«#10.$result#10 (unset)], [RT-5#11, EM#11, 0«#11, RT-5#11.EM#11.0«#11.$result#11 (unset)], [RT-5#12, EM#12, 0«#12, RT-5#12.EM#12.0«#12.$result#12 (unset)], [RT-5#13, EM#13, 0«#13, RT-5#13.EM#13.0«#13.$result#13 (unset)], [RT-5#14, EM#14, 0«#14, RT-5#14.EM#14.0«#14.$result#14 (unset)], [RT-5#15, EM#15, 0«#15, RT-5#15.EM#15.0«#15.$result#15 (unset)]]\n",
      "[[LS#0, FM#0, + ($x, $y) => $result, sum ($collection) => $result, LS#0.FM#0.+ ($x, $y) => $result.sum ($collection) => $result.$result#0 (unset)], [LS#1, FM#1, + ($x, $y) => $result, sum ($collection) => $result, LS#1.FM#1.+ ($x, $y) => $result.sum ($collection) => $result.$result#1 (unset)], [LS#2, FM#2, + ($x, $y) => $result, sum ($collection) => $result, LS#2.FM#2.+ ($x, $y) => $result.sum ($collection) => $result.$result#2 (unset)]]\n",
      "[[LS#0, FM#0, + ($x, $y) => $result, sum ($collection) => $result, collect ($collection) => $result, LS#0.FM#0.+ ($x, $y) => $result.sum ($collection) => $result.collect ($collection) => $result.$result#0 (unset)], [LS#1, FM#1, + ($x, $y) => $result, sum ($collection) => $result, collect ($collection) => $result, LS#1.FM#1.+ ($x, $y) => $result.sum ($collection) => $result.collect ($collection) => $result.$result#1 (unset)], [LS#2, FM#2, + ($x, $y) => $result, sum ($collection) => $result, collect ($collection) => $result, LS#2.FM#2.+ ($x, $y) => $result.sum ($collection) => $result.collect ($collection) => $result.$result#2 (unset)]]\n",
      "[[RT-10#0, Thrust#0, 1«#0, RT-10#0.Thrust#0.1«#0.$result#0 (unset)], [RT-10#1, Thrust#1, 1«#1, RT-10#1.Thrust#1.1«#1.$result#1 (unset)], [RT-10#2, Thrust#2, 1«#2, RT-10#2.Thrust#2.1«#2.$result#2 (unset)], [RT-10#3, Thrust#3, 1«#3, RT-10#3.Thrust#3.1«#3.$result#3 (unset)], [RT-10#4, Thrust#4, 1«#4, RT-10#4.Thrust#4.1«#4.$result#4 (unset)], [RT-10#5, Thrust#5, 1«#5, RT-10#5.Thrust#5.1«#5.$result#5 (unset)], [RT-10#6, Thrust#6, 1«#6, RT-10#6.Thrust#6.1«#6.$result#6 (unset)], [RT-10#7, Thrust#7, 1«#7, RT-10#7.Thrust#7.1«#7.$result#7 (unset)], [RT-10#8, Thrust#8, 1«#8, RT-10#8.Thrust#8.1«#8.$result#8 (unset)], [RT-10#9, Thrust#9, 1«#9, RT-10#9.Thrust#9.1«#9.$result#9 (unset)], [RT-10#10, Thrust#10, 1«#10, RT-10#10.Thrust#10.1«#10.$result#10 (unset)], [RT-10#11, Thrust#11, 1«#11, RT-10#11.Thrust#11.1«#11.$result#11 (unset)], [RT-10#12, Thrust#12, 1«#12, RT-10#12.Thrust#12.1«#12.$result#12 (unset)], [RT-10#13, Thrust#13, 1«#13, RT-10#13.Thrust#13.1«#13.$result#13 (unset)], [RT-10#14, Thrust#14, 1«#14, RT-10#14.Thrust#14.1«#14.$result#14 (unset)], [RT-10#15, Thrust#15, 1«#15, RT-10#15.Thrust#15.1«#15.$result#15 (unset)], [RT-10#16, Thrust#16, 1«#16, RT-10#16.Thrust#16.1«#16.$result#16 (unset)], [RT-10#17, Thrust#17, 1«#17, RT-10#17.Thrust#17.1«#17.$result#17 (unset)], [RT-10#18, Thrust#18, 1«#18, RT-10#18.Thrust#18.1«#18.$result#18 (unset)], [RT-10#19, Thrust#19, 1«#19, RT-10#19.Thrust#19.1«#19.$result#19 (unset)], [RT-10#20, Thrust#20, 1«#20, RT-10#20.Thrust#20.1«#20.$result#20 (unset)], [RT-10#21, Thrust#21, 1«#21, RT-10#21.Thrust#21.1«#21.$result#21 (unset)], [RT-10#22, Thrust#22, 1«#22, RT-10#22.Thrust#22.1«#22.$result#22 (unset)], [RT-10#23, Thrust#23, 1«#23, RT-10#23.Thrust#23.1«#23.$result#23 (unset)]]\n",
      "[[FL-T200#0, FM#0, 1«#0, FL-T200#0.FM#0.1«#0.$result#0 (unset)], [FL-T200#1, FM#1, 1«#1, FL-T200#1.FM#1.1«#1.$result#1 (unset)], [FL-T200#2, FM#2, 1«#2, FL-T200#2.FM#2.1«#2.$result#2 (unset)], [FL-T200#3, FM#3, 1«#3, FL-T200#3.FM#3.1«#3.$result#3 (unset)], [FL-T200#4, FM#4, 1«#4, FL-T200#4.FM#4.1«#4.$result#4 (unset)], [FL-T200#5, FM#5, 1«#5, FL-T200#5.FM#5.1«#5.$result#5 (unset)], [FL-T200#6, FM#6, 1«#6, FL-T200#6.FM#6.1«#6.$result#6 (unset)], [FL-T200#7, FM#7, 1«#7, FL-T200#7.FM#7.1«#7.$result#7 (unset)], [FL-T200#8, FM#8, 1«#8, FL-T200#8.FM#8.1«#8.$result#8 (unset)], [FL-T200#9, FM#9, 1«#9, FL-T200#9.FM#9.1«#9.$result#9 (unset)], [FL-T200#10, FM#10, 1«#10, FL-T200#10.FM#10.1«#10.$result#10 (unset)], [FL-T200#11, FM#11, 1«#11, FL-T200#11.FM#11.1«#11.$result#11 (unset)], [FL-T200#12, FM#12, 1«#12, FL-T200#12.FM#12.1«#12.$result#12 (unset)], [FL-T200#13, FM#13, 1«#13, FL-T200#13.FM#13.1«#13.$result#13 (unset)], [FL-T200#14, FM#14, 1«#14, FL-T200#14.FM#14.1«#14.$result#14 (unset)], [FL-T200#15, FM#15, 1«#15, FL-T200#15.FM#15.1«#15.$result#15 (unset)], [FL-T200#16, FM#16, 1«#16, FL-T200#16.FM#16.1«#16.$result#16 (unset)], [FL-T200#17, FM#17, 1«#17, FL-T200#17.FM#17.1«#17.$result#17 (unset)], [FL-T200#18, FM#18, 1«#18, FL-T200#18.FM#18.1«#18.$result#18 (unset)], [FL-T200#19, FM#19, 1«#19, FL-T200#19.FM#19.1«#19.$result#19 (unset)], [FL-T200#20, FM#20, 1«#20, FL-T200#20.FM#20.1«#20.$result#20 (unset)], [FL-T200#21, FM#21, 1«#21, FL-T200#21.FM#21.1«#21.$result#21 (unset)], [FL-T200#22, FM#22, 1«#22, FL-T200#22.FM#22.1«#22.$result#22 (unset)], [FL-T200#23, FM#23, 1«#23, FL-T200#23.FM#23.1«#23.$result#23 (unset)], [FL-T200#24, FM#24, 1«#24, FL-T200#24.FM#24.1«#24.$result#24 (unset)], [FL-T200#25, FM#25, 1«#25, FL-T200#25.FM#25.1«#25.$result#25 (unset)], [FL-T200#26, FM#26, 1«#26, FL-T200#26.FM#26.1«#26.$result#26 (unset)], [FL-T200#27, FM#27, 1«#27, FL-T200#27.FM#27.1«#27.$result#27 (unset)], [FL-T200#28, FM#28, 1«#28, FL-T200#28.FM#28.1«#28.$result#28 (unset)], [FL-T200#29, FM#29, 1«#29, FL-T200#29.FM#29.1«#29.$result#29 (unset)], [FL-T200#30, FM#30, 1«#30, FL-T200#30.FM#30.1«#30.$result#30 (unset)], [FL-T200#31, FM#31, 1«#31, FL-T200#31.FM#31.1«#31.$result#31 (unset)], [FL-T200#32, FM#32, 1«#32, FL-T200#32.FM#32.1«#32.$result#32 (unset)], [FL-T200#33, FM#33, 1«#33, FL-T200#33.FM#33.1«#33.$result#33 (unset)], [FL-T200#34, FM#34, 1«#34, FL-T200#34.FM#34.1«#34.$result#34 (unset)], [FL-T200#35, FM#35, 1«#35, FL-T200#35.FM#35.1«#35.$result#35 (unset)], [FL-T200#36, FM#36, 1«#36, FL-T200#36.FM#36.1«#36.$result#36 (unset)], [FL-T200#37, FM#37, 1«#37, FL-T200#37.FM#37.1«#37.$result#37 (unset)], [FL-T200#38, FM#38, 1«#38, FL-T200#38.FM#38.1«#38.$result#38 (unset)], [FL-T200#39, FM#39, 1«#39, FL-T200#39.FM#39.1«#39.$result#39 (unset)], [FL-T200#40, FM#40, 1«#40, FL-T200#40.FM#40.1«#40.$result#40 (unset)], [FL-T200#41, FM#41, 1«#41, FL-T200#41.FM#41.1«#41.$result#41 (unset)], [FL-T200#42, FM#42, 1«#42, FL-T200#42.FM#42.1«#42.$result#42 (unset)], [FL-T200#43, FM#43, 1«#43, FL-T200#43.FM#43.1«#43.$result#43 (unset)], [FL-T200#44, FM#44, 1«#44, FL-T200#44.FM#44.1«#44.$result#44 (unset)], [FL-T200#45, FM#45, 1«#45, FL-T200#45.FM#45.1«#45.$result#45 (unset)], [FL-T200#46, FM#46, 1«#46, FL-T200#46.FM#46.1«#46.$result#46 (unset)], [FL-T200#47, FM#47, 1«#47, FL-T200#47.FM#47.1«#47.$result#47 (unset)], [FL-T200#48, FM#48, 1«#48, FL-T200#48.FM#48.1«#48.$result#48 (unset)], [FL-T200#49, FM#49, 1«#49, FL-T200#49.FM#49.1«#49.$result#49 (unset)], [FL-T200#50, FM#50, 1«#50, FL-T200#50.FM#50.1«#50.$result#50 (unset)], [FL-T200#51, FM#51, 1«#51, FL-T200#51.FM#51.1«#51.$result#51 (unset)], [FL-T200#52, FM#52, 1«#52, FL-T200#52.FM#52.1«#52.$result#52 (unset)], [FL-T200#53, FM#53, 1«#53, FL-T200#53.FM#53.1«#53.$result#53 (unset)], [FL-T200#54, FM#54, 1«#54, FL-T200#54.FM#54.1«#54.$result#54 (unset)]]\n",
      "[]\n",
      "[[FL-T200#0, EM#0, 0«#0, FL-T200#0.EM#0.0«#0.$result#0 (unset)], [FL-T200#1, EM#1, 0«#1, FL-T200#1.EM#1.0«#1.$result#1 (unset)], [FL-T200#2, EM#2, 0«#2, FL-T200#2.EM#2.0«#2.$result#2 (unset)], [FL-T200#3, EM#3, 0«#3, FL-T200#3.EM#3.0«#3.$result#3 (unset)], [FL-T200#4, EM#4, 0«#4, FL-T200#4.EM#4.0«#4.$result#4 (unset)], [FL-T200#5, EM#5, 0«#5, FL-T200#5.EM#5.0«#5.$result#5 (unset)], [FL-T200#6, EM#6, 0«#6, FL-T200#6.EM#6.0«#6.$result#6 (unset)], [FL-T200#7, EM#7, 0«#7, FL-T200#7.EM#7.0«#7.$result#7 (unset)], [FL-T200#8, EM#8, 0«#8, FL-T200#8.EM#8.0«#8.$result#8 (unset)], [FL-T200#9, EM#9, 0«#9, FL-T200#9.EM#9.0«#9.$result#9 (unset)], [FL-T200#10, EM#10, 0«#10, FL-T200#10.EM#10.0«#10.$result#10 (unset)], [FL-T200#11, EM#11, 0«#11, FL-T200#11.EM#11.0«#11.$result#11 (unset)], [FL-T200#12, EM#12, 0«#12, FL-T200#12.EM#12.0«#12.$result#12 (unset)], [FL-T200#13, EM#13, 0«#13, FL-T200#13.EM#13.0«#13.$result#13 (unset)], [FL-T200#14, EM#14, 0«#14, FL-T200#14.EM#14.0«#14.$result#14 (unset)], [FL-T200#15, EM#15, 0«#15, FL-T200#15.EM#15.0«#15.$result#15 (unset)], [FL-T200#16, EM#16, 0«#16, FL-T200#16.EM#16.0«#16.$result#16 (unset)], [FL-T200#17, EM#17, 0«#17, FL-T200#17.EM#17.0«#17.$result#17 (unset)], [FL-T200#18, EM#18, 0«#18, FL-T200#18.EM#18.0«#18.$result#18 (unset)], [FL-T200#19, EM#19, 0«#19, FL-T200#19.EM#19.0«#19.$result#19 (unset)], [FL-T200#20, EM#20, 0«#20, FL-T200#20.EM#20.0«#20.$result#20 (unset)], [FL-T200#21, EM#21, 0«#21, FL-T200#21.EM#21.0«#21.$result#21 (unset)], [FL-T200#22, EM#22, 0«#22, FL-T200#22.EM#22.0«#22.$result#22 (unset)], [FL-T200#23, EM#23, 0«#23, FL-T200#23.EM#23.0«#23.$result#23 (unset)], [FL-T200#24, EM#24, 0«#24, FL-T200#24.EM#24.0«#24.$result#24 (unset)], [FL-T200#25, EM#25, 0«#25, FL-T200#25.EM#25.0«#25.$result#25 (unset)], [FL-T200#26, EM#26, 0«#26, FL-T200#26.EM#26.0«#26.$result#26 (unset)], [FL-T200#27, EM#27, 0«#27, FL-T200#27.EM#27.0«#27.$result#27 (unset)], [FL-T200#28, EM#28, 0«#28, FL-T200#28.EM#28.0«#28.$result#28 (unset)], [FL-T200#29, EM#29, 0«#29, FL-T200#29.EM#29.0«#29.$result#29 (unset)], [FL-T200#30, EM#30, 0«#30, FL-T200#30.EM#30.0«#30.$result#30 (unset)], [FL-T200#31, EM#31, 0«#31, FL-T200#31.EM#31.0«#31.$result#31 (unset)], [FL-T200#32, EM#32, 0«#32, FL-T200#32.EM#32.0«#32.$result#32 (unset)], [FL-T200#33, EM#33, 0«#33, FL-T200#33.EM#33.0«#33.$result#33 (unset)], [FL-T200#34, EM#34, 0«#34, FL-T200#34.EM#34.0«#34.$result#34 (unset)], [FL-T200#35, EM#35, 0«#35, FL-T200#35.EM#35.0«#35.$result#35 (unset)], [FL-T200#36, EM#36, 0«#36, FL-T200#36.EM#36.0«#36.$result#36 (unset)], [FL-T200#37, EM#37, 0«#37, FL-T200#37.EM#37.0«#37.$result#37 (unset)], [FL-T200#38, EM#38, 0«#38, FL-T200#38.EM#38.0«#38.$result#38 (unset)], [FL-T200#39, EM#39, 0«#39, FL-T200#39.EM#39.0«#39.$result#39 (unset)], [FL-T200#40, EM#40, 0«#40, FL-T200#40.EM#40.0«#40.$result#40 (unset)], [FL-T200#41, EM#41, 0«#41, FL-T200#41.EM#41.0«#41.$result#41 (unset)], [FL-T200#42, EM#42, 0«#42, FL-T200#42.EM#42.0«#42.$result#42 (unset)], [FL-T200#43, EM#43, 0«#43, FL-T200#43.EM#43.0«#43.$result#43 (unset)], [FL-T200#44, EM#44, 0«#44, FL-T200#44.EM#44.0«#44.$result#44 (unset)], [FL-T200#45, EM#45, 0«#45, FL-T200#45.EM#45.0«#45.$result#45 (unset)], [FL-T200#46, EM#46, 0«#46, FL-T200#46.EM#46.0«#46.$result#46 (unset)], [FL-T200#47, EM#47, 0«#47, FL-T200#47.EM#47.0«#47.$result#47 (unset)], [FL-T200#48, EM#48, 0«#48, FL-T200#48.EM#48.0«#48.$result#48 (unset)], [FL-T200#49, EM#49, 0«#49, FL-T200#49.EM#49.0«#49.$result#49 (unset)], [FL-T200#50, EM#50, 0«#50, FL-T200#50.EM#50.0«#50.$result#50 (unset)], [FL-T200#51, EM#51, 0«#51, FL-T200#51.EM#51.0«#51.$result#51 (unset)], [FL-T200#52, EM#52, 0«#52, FL-T200#52.EM#52.0«#52.$result#52 (unset)], [FL-T200#53, EM#53, 0«#53, FL-T200#53.EM#53.0«#53.$result#53 (unset)], [FL-T200#54, EM#54, 0«#54, FL-T200#54.EM#54.0«#54.$result#54 (unset)]]\n",
      "[[LS#0, FM#0, + ($x, $y) => $result, sum ($collection) => $result, LS#0.FM#0.+ ($x, $y) => $result.sum ($collection) => $result.$result#0 (unset)], [LS#1, FM#1, + ($x, $y) => $result, sum ($collection) => $result, LS#1.FM#1.+ ($x, $y) => $result.sum ($collection) => $result.$result#1 (unset)], [LS#2, FM#2, + ($x, $y) => $result, sum ($collection) => $result, LS#2.FM#2.+ ($x, $y) => $result.sum ($collection) => $result.$result#2 (unset)]]\n",
      "[[LS#0, FM#0, + ($x, $y) => $result, sum ($collection) => $result, collect ($collection) => $result, FRE.Mass (p) => $result, LS#0.FM#0.+ ($x, $y) => $result.sum ($collection) => $result.collect ($collection) => $result.FRE.Mass (p) => $result.$result#0 (unset)], [LS#1, FM#1, + ($x, $y) => $result, sum ($collection) => $result, collect ($collection) => $result, FRE.Mass (p) => $result, LS#1.FM#1.+ ($x, $y) => $result.sum ($collection) => $result.collect ($collection) => $result.FRE.Mass (p) => $result.$result#1 (unset)], [LS#2, FM#2, + ($x, $y) => $result, sum ($collection) => $result, collect ($collection) => $result, FRE.Mass (p) => $result, LS#2.FM#2.+ ($x, $y) => $result.sum ($collection) => $result.collect ($collection) => $result.FRE.Mass (p) => $result.$result#2 (unset)]]\n",
      "[[LS#0, FM#0, + ($x, $y) => $result, sum ($collection) => $result, collect ($collection) => $result, FRE.Mass (p) => $result, FRE.Mass, LS#0.FM#0.+ ($x, $y) => $result.sum ($collection) => $result.collect ($collection) => $result.FRE.Mass (p) => $result.FRE.Mass.$result#0 (unset)], [LS#1, FM#1, + ($x, $y) => $result, sum ($collection) => $result, collect ($collection) => $result, FRE.Mass (p) => $result, FRE.Mass, LS#1.FM#1.+ ($x, $y) => $result.sum ($collection) => $result.collect ($collection) => $result.FRE.Mass (p) => $result.FRE.Mass.$result#1 (unset)], [LS#2, FM#2, + ($x, $y) => $result, sum ($collection) => $result, collect ($collection) => $result, FRE.Mass (p) => $result, FRE.Mass, LS#2.FM#2.+ ($x, $y) => $result.sum ($collection) => $result.collect ($collection) => $result.FRE.Mass (p) => $result.FRE.Mass.$result#2 (unset)]]\n",
      "[]\n",
      "[]\n",
      "[[LS#0, FM#0, + ($x, $y) => $result, sum ($collection) => $result, collect ($collection) => $result, FRE.Full Mass (p) => $result, FRE.Full Mass, LS#0.FM#0.+ ($x, $y) => $result.sum ($collection) => $result.collect ($collection) => $result.FRE.Full Mass (p) => $result.FRE.Full Mass.$result#0 (unset)], [LS#1, FM#1, + ($x, $y) => $result, sum ($collection) => $result, collect ($collection) => $result, FRE.Full Mass (p) => $result, FRE.Full Mass, LS#1.FM#1.+ ($x, $y) => $result.sum ($collection) => $result.collect ($collection) => $result.FRE.Full Mass (p) => $result.FRE.Full Mass.$result#1 (unset)], [LS#2, FM#2, + ($x, $y) => $result, sum ($collection) => $result, collect ($collection) => $result, FRE.Full Mass (p) => $result, FRE.Full Mass, LS#2.FM#2.+ ($x, $y) => $result.sum ($collection) => $result.collect ($collection) => $result.FRE.Full Mass (p) => $result.FRE.Full Mass.$result#2 (unset)]]\n",
      "[]\n",
      "[]\n",
      "[[RT-5#0, FM#0, 1«#0, RT-5#0.FM#0.1«#0.$result#0 (unset)], [RT-5#1, FM#1, 1«#1, RT-5#1.FM#1.1«#1.$result#1 (unset)], [RT-5#2, FM#2, 1«#2, RT-5#2.FM#2.1«#2.$result#2 (unset)], [RT-5#3, FM#3, 1«#3, RT-5#3.FM#3.1«#3.$result#3 (unset)], [RT-5#4, FM#4, 1«#4, RT-5#4.FM#4.1«#4.$result#4 (unset)], [RT-5#5, FM#5, 1«#5, RT-5#5.FM#5.1«#5.$result#5 (unset)], [RT-5#6, FM#6, 1«#6, RT-5#6.FM#6.1«#6.$result#6 (unset)], [RT-5#7, FM#7, 1«#7, RT-5#7.FM#7.1«#7.$result#7 (unset)], [RT-5#8, FM#8, 1«#8, RT-5#8.FM#8.1«#8.$result#8 (unset)], [RT-5#9, FM#9, 1«#9, RT-5#9.FM#9.1«#9.$result#9 (unset)], [RT-5#10, FM#10, 1«#10, RT-5#10.FM#10.1«#10.$result#10 (unset)], [RT-5#11, FM#11, 1«#11, RT-5#11.FM#11.1«#11.$result#11 (unset)], [RT-5#12, FM#12, 1«#12, RT-5#12.FM#12.1«#12.$result#12 (unset)], [RT-5#13, FM#13, 1«#13, RT-5#13.FM#13.1«#13.$result#13 (unset)], [RT-5#14, FM#14, 1«#14, RT-5#14.FM#14.1«#14.$result#14 (unset)], [RT-5#15, FM#15, 1«#15, RT-5#15.FM#15.1«#15.$result#15 (unset)]]\n",
      "[]\n",
      "[]\n",
      "[[LS#0, FM#0, + ($x, $y) => $result, sum ($collection) => $result, collect ($collection) => $result, LS#0.FM#0.+ ($x, $y) => $result.sum ($collection) => $result.collect ($collection) => $result.$result#0 (unset)], [LS#1, FM#1, + ($x, $y) => $result, sum ($collection) => $result, collect ($collection) => $result, LS#1.FM#1.+ ($x, $y) => $result.sum ($collection) => $result.collect ($collection) => $result.$result#1 (unset)], [LS#2, FM#2, + ($x, $y) => $result, sum ($collection) => $result, collect ($collection) => $result, LS#2.FM#2.+ ($x, $y) => $result.sum ($collection) => $result.collect ($collection) => $result.$result#2 (unset)]]\n"
     ]
    }
   ],
   "source": [
    "for rpm in rpms:\n",
    "    print(random_rez[rpm['featureOfType']['@id']])"
   ]
  },
  {
   "cell_type": "markdown",
   "id": "a9a5062d-abeb-49ff-ba52-a4d48e7d298a",
   "metadata": {},
   "source": [
    "Bind results from member expressions to the input parameters."
   ]
  },
  {
   "cell_type": "code",
   "execution_count": 11,
   "id": "0a1accf3-f88a-46e5-bc05-6a61fe8f1277",
   "metadata": {},
   "outputs": [],
   "source": [
    "eeg = lpg.get_projection(\"Expression Evaluation Graph\")"
   ]
  },
  {
   "cell_type": "markdown",
   "id": "e424251d-c8df-492f-a411-b518b50bd411",
   "metadata": {},
   "source": [
    "Repackage LPG edges to get a good ID dictionary."
   ]
  },
  {
   "cell_type": "code",
   "execution_count": 21,
   "id": "f3494425-cbad-45dc-9a9d-7edf752a4e2d",
   "metadata": {},
   "outputs": [],
   "source": [
    "edge_dict = {}\n",
    "for edge in lpg.edges.values():\n",
    "    edge_dict.update({edge['@id']: edge})"
   ]
  },
  {
   "cell_type": "markdown",
   "id": "cc400be2-9975-4d81-a3d8-93e4d55a64d9",
   "metadata": {},
   "source": [
    "Develop implied edges to fill in the information from the model about results and input parameters elsewhere in the model."
   ]
  },
  {
   "cell_type": "code",
   "execution_count": 54,
   "id": "35ea30c6-7496-4710-a724-1167f91a6518",
   "metadata": {},
   "outputs": [
    {
     "name": "stdout",
     "output_type": "stream",
     "text": [
      "+ ($x, $y) => $result\n",
      "['sum ($collection) => $result --[d146a0ab-de0c-4d8c-bd25-9913bde2f2e5] --> $x', 'sum ($collection) => $result --[ac16b279-fa4d-4ff4-8584-17e84ea401a2] --> $y']\n",
      "FRE.engines\n",
      "[]\n",
      "FRE.tanks\n",
      "[]\n",
      "FRE.Full Mass (p) => $result\n",
      "['FRE.Full Mass --[dbed26c7-1a89-4e04-ae50-d81ad4886ad6] --> p: Fuel Tank Section']\n",
      "sum ($collection) => $result\n",
      "['collect ($collection) => $result --[57be4b8a-285d-41fc-a059-f8e1c3f68b58] --> $collection']\n",
      "collect ($collection) => $result\n",
      "['FRE.engines --[4197ab70-699b-4f69-9694-a5f39c2bb0b0] --> $collection']\n",
      "sum ($collection) => $result\n",
      "['collect ($collection) => $result --[bd31f91a-43a9-42f9-8e69-78c8dd16a03e] --> $collection']\n",
      "FRE.Mass (p) => $result\n",
      "['FRE.Mass --[ac79381e-74ee-4364-9d20-424a50f4834d] --> p: Kerbal Rocket Part']\n",
      "FRE.Mass\n",
      "[]\n",
      "FRE.Full Mass\n",
      "[]\n",
      "collect ($collection) => $result\n",
      "['FRE.tanks --[74c492cc-1104-4ddd-b54c-5fd8a7cab158] --> $collection']\n"
     ]
    }
   ],
   "source": [
    "for rpm in rpms:\n",
    "    for result_feeder in eeg.predecessors(rpm['memberElement']['@id']):\n",
    "        if 'Expression' in lpg.nodes[result_feeder]['@type']:\n",
    "            result_to_bind = lpg.nodes[result_feeder]['result']\n",
    "            print(get_label(lpg.nodes[result_feeder], lpg.nodes))\n",
    "            expr_members = []\n",
    "            para_members = []\n",
    "            expr_results = []\n",
    "            result_members = []\n",
    "            ownedMemberships = lpg.nodes[result_feeder]['ownedMembership']\n",
    "            for om in ownedMemberships:\n",
    "                if 'Parameter' in edge_dict[om['@id']]['@type']:\n",
    "                    if 'ReturnParameter' in edge_dict[om['@id']]['@type']:\n",
    "                        result_members.append(edge_dict[om['@id']]['memberElement']['@id'])\n",
    "                    else:\n",
    "                        para_members.append(edge_dict[om['@id']]['memberElement']['@id'])\n",
    "                elif 'Membership' in edge_dict[om['@id']]['@type'] or 'Result' in edge_dict[om['@id']]['@type']:\n",
    "                    #print(edge_dict[om['@id']])\n",
    "                    edge_member = edge_dict[om['@id']]['memberElement']['@id']\n",
    "                    expr_members.append(edge_dict[om['@id']]['memberElement']['@id'])\n",
    "                    if 'result' in lpg.nodes[edge_member]:\n",
    "                        expr_result = lpg.nodes[edge_member]['result']['@id']\n",
    "                        expr_results.append(expr_result)\n",
    "            edge_stack = []\n",
    "            for indx, expr in enumerate(expr_members):\n",
    "                if indx < len(expr_results) and indx < len(para_members):\n",
    "                    edge_stack.append(\n",
    "                        get_label(lpg.nodes[expr], lpg.nodes) + ' --[' +\n",
    "                        lpg.nodes[expr_results[indx]]['@id'] + '] --> ' +\n",
    "                        get_label(lpg.nodes[para_members[indx]], lpg.nodes)\n",
    "                    )\n",
    "            print(edge_stack)"
   ]
  },
  {
   "cell_type": "code",
   "execution_count": null,
   "id": "730bfb30-dd26-4c88-94f0-f5ad5f21da79",
   "metadata": {},
   "outputs": [],
   "source": []
  }
 ],
 "metadata": {
  "kernelspec": {
   "display_name": "Python 3",
   "language": "python",
   "name": "python3"
  },
  "language_info": {
   "codemirror_mode": {
    "name": "ipython",
    "version": 3
   },
   "file_extension": ".py",
   "mimetype": "text/x-python",
   "name": "python",
   "nbconvert_exporter": "python",
   "pygments_lexer": "ipython3",
   "version": "3.9.2"
  }
 },
 "nbformat": 4,
 "nbformat_minor": 5
}
