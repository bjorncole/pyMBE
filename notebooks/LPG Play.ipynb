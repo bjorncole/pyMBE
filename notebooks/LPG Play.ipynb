{
 "cells": [
  {
   "cell_type": "markdown",
   "id": "0e39b260",
   "metadata": {},
   "source": [
    "# Labeled Property Graph Play\n",
    "\n",
    "The notebook looks at working with the LPG from SysML v2 clients"
   ]
  },
  {
   "cell_type": "code",
   "execution_count": 1,
   "id": "02d833d8",
   "metadata": {},
   "outputs": [],
   "source": [
    "import pymbe.api as pm\n",
    "from pymbe.label import get_label\n",
    "import networkx as NX\n",
    "import matplotlib.pyplot as plt\n",
    "\n",
    "from pymbe.interpretation.interp_playbooks import random_generator_playbook\n",
    "from pymbe.interpretation.results import pprint_interpretation\n",
    "\n",
    "from pymbe.query.metamodel_navigator import map_inputs_to_results"
   ]
  },
  {
   "cell_type": "code",
   "execution_count": 2,
   "id": "0887c0f5",
   "metadata": {},
   "outputs": [
    {
     "name": "stderr",
     "output_type": "stream",
     "text": [
      "c:\\users\\bjorn\\documents\\git\\pymbe\\src\\pymbe\\graph\\lpg.py:267: UserWarning: These edge types are not in the graph: {'FeatureMembership', 'ParameterMembership', 'ResultExpressionMembership', 'ReturnParameterMembership', 'FeatureValue'}.\n",
      "  warn(f\"These edge types are not in the graph: {mismatched_edge_types}.\")\n"
     ]
    },
    {
     "data": {
      "application/vnd.jupyter.widget-view+json": {
       "model_id": "a2d080f0407749db958802d687379719",
       "version_major": 2,
       "version_minor": 0
      },
      "text/plain": [
       "DockPop(children=(UI(children=(SysML2ClientWidget(children=(Text(value='http://sysml2-sst.intercax.com', descr…"
      ]
     },
     "metadata": {},
     "output_type": "display_data"
    }
   ],
   "source": [
    "pm.UI.new(host_url=\"http://sysml2-sst.intercax.com\")"
   ]
  },
  {
   "cell_type": "code",
   "execution_count": 3,
   "id": "ef9faa57-4382-4627-af5a-18186247da68",
   "metadata": {},
   "outputs": [],
   "source": [
    "ui, *_ = _.children\n",
    "client, tree, inspector, lpg, interpreter = ui.children\n",
    "client.project_selector.value = client.project_selector.options[\"Kerbal (2021-04-17 18:03:01)\"]\n",
    "client._download_elements()"
   ]
  },
  {
   "cell_type": "code",
   "execution_count": 4,
   "id": "ce97d8bd-389c-4f62-8886-490331435d3e",
   "metadata": {},
   "outputs": [
    {
     "data": {
      "text/plain": [
       "'db6f06e9-71af-4ec3-98f2-03548516ed5d'"
      ]
     },
     "execution_count": 4,
     "metadata": {},
     "output_type": "execute_result"
    }
   ],
   "source": [
    "client.project_selector.value"
   ]
  },
  {
   "cell_type": "code",
   "execution_count": 5,
   "id": "da35f57a-094f-44a6-80ef-f0abe4510dd9",
   "metadata": {},
   "outputs": [
    {
     "data": {
      "text/plain": [
       "'69116641-5991-4974-9d85-69d8a9e8eee5'"
      ]
     },
     "execution_count": 5,
     "metadata": {},
     "output_type": "execute_result"
    }
   ],
   "source": [
    "client.commit_selector.value"
   ]
  },
  {
   "cell_type": "code",
   "execution_count": 6,
   "id": "0e9350e1-ff0e-4f15-93c6-41591d4f428d",
   "metadata": {},
   "outputs": [],
   "source": [
    "from copy import deepcopy\n",
    "from uuid import uuid4\n",
    "from pymbe.query.metamodel_navigator import map_inputs_to_results\n",
    "\n",
    "\n",
    "new_edges = [\n",
    "    (source, target, metatype, {\n",
    "        \"@id\": f\"_{uuid4()}\",\n",
    "        \"@type\": metatype,\n",
    "        \"label\": metatype,\n",
    "        \"relatedElement\": [\n",
    "            {\"@id\": source},\n",
    "            {\"@id\": target},\n",
    "        ],\n",
    "        \"source\": [{\"@id\": source}],\n",
    "        \"target\": [{\"@id\": target}],\n",
    "    })\n",
    "    for source, target, metatype in map_inputs_to_results(lpg)\n",
    "]\n",
    "new_elements = {\n",
    "    data[\"@id\"]: data\n",
    "    for *_, data in new_edges\n",
    "}\n",
    "new_edges\n",
    "\n",
    "client.elements_by_id = {**client.elements_by_id, **new_elements}"
   ]
  },
  {
   "cell_type": "code",
   "execution_count": 7,
   "id": "08fa332e-59e3-48c2-9c92-b6ccd8c2ed08",
   "metadata": {},
   "outputs": [],
   "source": [
    "shorten_pre_bake = {\n",
    "    'RT-10 \"Hammer\" Solid Fuel Booster': \"RT-10\",\n",
    "    'RT-5 \"Flea\" Solid Fuel Booster': \"RT-5\",\n",
    "    'LV-T45 \"Swivel\" Liquid Fuel Engine': \"LV-T45\",\n",
    "    'FL-T100 Fuel Tank': \"FL-T100\",\n",
    "    'FL-T200 Fuel Tank': \"FL-T200\"\n",
    "}"
   ]
  },
  {
   "cell_type": "code",
   "execution_count": 8,
   "id": "92b99d95-1864-4e77-ba7d-b7df943e6445",
   "metadata": {},
   "outputs": [],
   "source": [
    "random_rez = random_generator_playbook(\n",
    "    lpg,\n",
    "    shorten_pre_bake\n",
    ")"
   ]
  },
  {
   "cell_type": "code",
   "execution_count": 9,
   "id": "aca5ac5e-1aee-4911-82d0-17a8d7f0a620",
   "metadata": {},
   "outputs": [
    {
     "data": {
      "text/plain": [
       "[['Rocket', 'stages: Rocket Stage', 'Coupler to Carrying Stage: Coupler'],\n",
       " ['Solid Stage', 'boosters: Solid Booster'],\n",
       " ['Liquid Stage', 'engines: Liquid Engine'],\n",
       " ['Liquid Stage', 'tanks: Fuel Tank Section']]"
      ]
     },
     "execution_count": 9,
     "metadata": {},
     "output_type": "execute_result"
    }
   ],
   "source": [
    "from pymbe.interpretation.interp_playbooks import build_sequence_templates\n",
    "from pymbe.interpretation.results import pprint_single_id_list\n",
    "from pymbe.interpretation.results import pprint_double_id_list\n",
    "pprint_double_id_list(build_sequence_templates(lpg), lpg.nodes)"
   ]
  },
  {
   "cell_type": "code",
   "execution_count": 10,
   "id": "4635b8b1-4b24-4fa5-a1d5-754e8439c151",
   "metadata": {},
   "outputs": [],
   "source": [
    "part_featuring_graph = lpg.get_projection(\"Part Featuring Graph\")"
   ]
  },
  {
   "cell_type": "code",
   "execution_count": 11,
   "id": "b006d46e-b694-486d-8266-c29dd2cdd550",
   "metadata": {},
   "outputs": [
    {
     "data": {
      "text/plain": [
       "<networkx.classes.multidigraph.MultiDiGraph at 0x207e4977f10>"
      ]
     },
     "execution_count": 11,
     "metadata": {},
     "output_type": "execute_result"
    }
   ],
   "source": [
    "part_featuring_graph"
   ]
  },
  {
   "cell_type": "code",
   "execution_count": 12,
   "id": "b72d968f-11c2-4eb8-9de1-340bbe4e0165",
   "metadata": {},
   "outputs": [],
   "source": [
    "feature_components = NX.connected_components(part_featuring_graph.to_undirected())"
   ]
  },
  {
   "cell_type": "code",
   "execution_count": 13,
   "id": "ad2671f1-d9f0-45e8-9624-a06744e4ca7f",
   "metadata": {},
   "outputs": [],
   "source": [
    "connected_subs = []\n",
    "for comp in NX.connected_components(part_featuring_graph.to_undirected()):\n",
    "    connected_sub = NX.subgraph(part_featuring_graph, list(comp))\n",
    "    connected_subs.append(connected_sub)"
   ]
  },
  {
   "cell_type": "code",
   "execution_count": 14,
   "id": "1cc76452-5efd-407c-958c-56e630fbe228",
   "metadata": {},
   "outputs": [
    {
     "name": "stdout",
     "output_type": "stream",
     "text": [
      "['Rocket']\n",
      "['Solid Stage']\n",
      "['Liquid Stage']\n"
     ]
    }
   ],
   "source": [
    "for connected in connected_subs:\n",
    "    #print(pprint_single_id_list(list(connected.nodes), lpg.nodes))\n",
    "    leaves = [node for node in connected.nodes if connected.in_degree(node) == 0]\n",
    "    roots = [node for node in connected.nodes if connected.out_degree(node) == 0]\n",
    "    print(pprint_single_id_list(leaves, lpg.nodes))"
   ]
  },
  {
   "cell_type": "code",
   "execution_count": 15,
   "id": "2a021824-618c-4d98-9f51-e8224ff26e5e",
   "metadata": {},
   "outputs": [
    {
     "name": "stdout",
     "output_type": "stream",
     "text": [
      "http://sysml2-sst.intercax.com:9000/projects/db6f06e9-71af-4ec3-98f2-03548516ed5d/commits/69116641-5991-4974-9d85-69d8a9e8eee5/elements?page[size]=5000\n"
     ]
    }
   ],
   "source": [
    "from pymbe.local.bundle import download_to_local\n",
    "\n",
    "download_to_local(\n",
    "    \"http://sysml2-sst.intercax.com\",\n",
    "    \"Kerbal\",\n",
    "    client.project_selector.value,\n",
    "    client.commit_selector.value,\n",
    "    \"C:/Users/bjorn/Documents/Project Dany\"\n",
    ")"
   ]
  }
 ],
 "metadata": {
  "kernelspec": {
   "display_name": "Python 3",
   "language": "python",
   "name": "python3"
  },
  "language_info": {
   "codemirror_mode": {
    "name": "ipython",
    "version": 3
   },
   "file_extension": ".py",
   "mimetype": "text/x-python",
   "name": "python",
   "nbconvert_exporter": "python",
   "pygments_lexer": "ipython3",
   "version": "3.9.4"
  }
 },
 "nbformat": 4,
 "nbformat_minor": 5
}
