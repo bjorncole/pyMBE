{
 "cells": [
  {
   "cell_type": "markdown",
   "id": "5ac76c9a",
   "metadata": {},
   "source": [
    "# Tutorial & Widget Experiments\n",
    "\n",
    "> This notebook is primarily being used to experiment with how to use the `pymbe` widgets.\n",
    ">\n",
    "> It should be fairly \"clean\" until the `Scratch Pad` section.\n",
    ">\n",
    "\n",
    "In the future, this notebook will be cleaned up and renamed \"Tutorial\"."
   ]
  },
  {
   "cell_type": "markdown",
   "id": "eb97c4a6",
   "metadata": {},
   "source": [
    "## 1. Import `pymbe` and create a new user interface"
   ]
  },
  {
   "cell_type": "code",
   "execution_count": null,
   "id": "d6a0c534",
   "metadata": {},
   "outputs": [],
   "source": [
    "import pymbe.api as pm"
   ]
  },
  {
   "cell_type": "code",
   "execution_count": null,
   "id": "7083446d",
   "metadata": {
    "tags": []
   },
   "outputs": [],
   "source": [
    "pm.UI.new(host_url=\"http://sysml2-sst.intercax.com\")"
   ]
  },
  {
   "cell_type": "markdown",
   "id": "f1b013d1",
   "metadata": {},
   "source": [
    "## 2. Use the widget\n",
    "...or automatically load the `Kerbal` model using the cell below"
   ]
  },
  {
   "cell_type": "code",
   "execution_count": null,
   "id": "e6bdcb2a",
   "metadata": {
    "tags": []
   },
   "outputs": [],
   "source": [
    "ui, *_ = _.children\n",
    "ui.client.project_selector.value = ui.client.project_selector.options[\"Kerbal\"]\n",
    "ui.client._download_elements()"
   ]
  },
  {
   "cell_type": "markdown",
   "id": "3a87a584",
   "metadata": {},
   "source": [
    "...and, for example, select some edge types to filter down the diagram"
   ]
  },
  {
   "cell_type": "code",
   "execution_count": null,
   "id": "e1cbbd52",
   "metadata": {
    "tags": []
   },
   "outputs": [],
   "source": [
    "EDGE_TYPES_TO_SELECT =  (\"Superclassing\", \"FeatureTyping\", \"FeatureMembership\")\n",
    "lpg.edge_type_selector.value = [\n",
    "    edges\n",
    "    for key, edges in lpg.edge_type_selector.options.items()\n",
    "    if any(\n",
    "        key.startswith(edge_type)\n",
    "        for edge_type in EDGE_TYPES_TO_SELECT\n",
    "    )\n",
    "]\n",
    "lpg._update_diagram_graph()"
   ]
  },
  {
   "cell_type": "markdown",
   "id": "c1194489",
   "metadata": {},
   "source": [
    "# Interpretation\n",
    "\n",
    "> This is where we are refactoring the $M_0$ interpretation..."
   ]
  },
  {
   "cell_type": "code",
   "execution_count": null,
   "id": "2c583b13",
   "metadata": {},
   "outputs": [],
   "source": [
    "def pop_tree(*_):\n",
    "    print(\"before\")\n",
    "    DockPop(\n",
    "        [ipyw.VBox([project.tree])],\n",
    "        layout=dict(height=\"60vh\"),\n",
    "    )\n",
    "    print(\"after\")\n",
    "\n",
    "tree = ipyw.Button(\n",
    "    icon=\"poll-h\",\n",
    "    on_click=pop_tree,\n",
    "    tooltip=\"Project Tree\",\n",
    "    layout=dict(width=\"40px\"),\n",
    ")\n",
    "tree.on_click(pop_tree)\n",
    "buttons = ipyw.VBox([tree])\n",
    "\n",
    "DockPop([ipyw.VBox([client.widget, buttons])], mode=\"split-right\")"
   ]
  },
  {
   "cell_type": "code",
   "execution_count": null,
   "id": "8fa7dbf5",
   "metadata": {},
   "outputs": [],
   "source": [
    "class SafeDict(dict):\n",
    "\n",
    "    __DEFAULT__ = dict()\n",
    "\n",
    "    def __init__(self, iterable, default=None):\n",
    "        self.__default__ = default\n",
    "\n",
    "    def get(self, item, default=dict()):\n",
    "        return super().get(item, default) or self.__DEFAULT__\n",
    "\n",
    "\n",
    "a = SafeDict()\n",
    "a[\"as\"] = \"if\"\n",
    "a.get(\"b\")"
   ]
  },
  {
   "cell_type": "code",
   "execution_count": null,
   "id": "d82f9e1e",
   "metadata": {
    "tags": []
   },
   "outputs": [],
   "source": [
    "from pymbe.interpretation import make_banded_featuring_graph\n",
    "\n",
    "\n",
    "def retrieve_element(elements: dict, element: (str, dict), strict: bool = True) -> dict:\n",
    "    input_element = element\n",
    "    if isinstance(element, str):\n",
    "        element = elements.get(element, None)\n",
    "    elif not isinstance(element, dict):\n",
    "        raise ValueError(f\"Failed to process element: '{input_element}'\")\n",
    "    if strict and element is None:\n",
    "        raise ValueError(f\"Failed to process element: '{input_element}'\")\n",
    "    return element\n",
    "\n",
    "\n",
    "def get_metaclass(elements, element) -> str:\n",
    "    element = retrieve_element(elements, element)\n",
    "    return element.get(\"@type\", None)\n",
    "\n",
    "\n",
    "def get_feature_upper_multiplicity(elements: dict, feature: (dict, str)) -> int:\n",
    "    feature = retrieve_element(elements, feature)\n",
    "\n",
    "    multiplicity = elements.get((feature.get(\"multiplicity\", {}) or {}).get(\"@id\", None), None)\n",
    "    if multiplicity is None:\n",
    "        return None\n",
    "    upper_bound = elements.get((multiplicity.get(\"upperBound\", {}) or {}).get(\"@id\", {}), None)\n",
    "    if upper_bound is None:\n",
    "        return None\n",
    "    return upper_bound.get(\"value\", None)\n",
    "\n",
    "\n",
    "def roll_up_upper_multiplicities(lpg):\n",
    "    banded_featuring_graph = make_banded_featuring_graph(lpg)\n",
    "\n",
    "    banded_roots = [\n",
    "        banded_featuring_graph.nodes[node]\n",
    "        for node in banded_featuring_graph\n",
    "        if banded_featuring_graph.out_degree(node) == 0\n",
    "    ]\n",
    "    \n",
    "    for part_usage in \n",
    "\n",
    "elements = lpg.elements_by_id\n",
    "\n",
    "features = [\n",
    "    id_\n",
    "    for id_, data in elements.items()\n",
    "    if data[\"@type\"] == \"Feature\"\n",
    "]\n",
    "\n",
    "for feature in features:\n",
    "    upper_multiplicity = get_feature_upper_multiplicity(elements, feature)\n",
    "    if upper_multiplicity:\n",
    "        print(elements[feature][\"qualifiedName\"], upper_multiplicity)"
   ]
  },
  {
   "cell_type": "markdown",
   "id": "a308cd1c",
   "metadata": {},
   "source": [
    "# Troubleshooting"
   ]
  },
  {
   "cell_type": "markdown",
   "id": "e00b83c5",
   "metadata": {},
   "source": [
    "## Fix linking issue with diagram element selector"
   ]
  },
  {
   "cell_type": "code",
   "execution_count": null,
   "id": "62863c07",
   "metadata": {},
   "outputs": [],
   "source": [
    "tree.selected_nodes"
   ]
  },
  {
   "cell_type": "markdown",
   "id": "3ddf7530",
   "metadata": {},
   "source": [
    "# Subgraphing to Node Reach"
   ]
  },
  {
   "cell_type": "code",
   "execution_count": null,
   "id": "3a3dcd95",
   "metadata": {},
   "outputs": [],
   "source": []
  },
  {
   "cell_type": "markdown",
   "id": "44411a43",
   "metadata": {},
   "source": [
    "# Scratch Pad\n",
    "> **WARNING**: Anything below this point is just for experimentation purposes"
   ]
  },
  {
   "cell_type": "code",
   "execution_count": null,
   "id": "22c9ff72",
   "metadata": {},
   "outputs": [],
   "source": [
    "# Create a widget to see the qualified name of the elements nodes selected\n",
    "import ipywidgets as ipyw\n",
    "\n",
    "out = ipyw.Output(layout={'border': '1px solid black'})\n",
    "\n",
    "def update_node_selections(*_):\n",
    "    out.outputs = []\n",
    "    with out:\n",
    "        [\n",
    "            print(element[\"qualifiedName\"])\n",
    "            for element in lpg.selected_nodes_by_type\n",
    "        ]\n",
    "            \n",
    "lpg.node_type_selector.observe(update_node_selections, \"value\")\n",
    "\n",
    "out"
   ]
  },
  {
   "cell_type": "markdown",
   "id": "32a2cb3c",
   "metadata": {},
   "source": [
    "## Project Tree / LPG element selection Experiments"
   ]
  },
  {
   "cell_type": "code",
   "execution_count": null,
   "id": "bc7fcb80",
   "metadata": {},
   "outputs": [],
   "source": [
    "from copy import deepcopy\n",
    "\n",
    "#data = deepcopy(project.element_data.outputs[0])\n",
    "# data\n",
    "project.element_data.clear_output()\n",
    "data[\"data\"][\"application/json\"] = {\"a\": 10, \"2\": \"c\"}\n",
    "project.element_data.outputs = [data]\n",
    "\n",
    "import json\n",
    "\n",
    "project.element_data.outputs[0][\"data\"][\"application/json\"] = {\"a\": 10, \"b\": 100}\n",
    "project.element_data.outputs = [{**project.element_data.outputs[0]}]\n",
    "project.element_data.clear_output()\n",
    "\n",
    "lpg.diagram.elk_app.diagram.selected = ('275e842f-85d4-4e30-accc-3f8d826bfd63', 'd150a7ef-15a2-428d-a1f6-bdc5b2074426', '4ca57b96-7b73-47c7-a69e-d204d92d8773',)\n",
    "\n",
    "project.tree.nodes[0].selected = True\n",
    "project.tree.\n",
    "lpg.diagram.elk_app.toolbar.layout.flex = \"0\"\n",
    "\n",
    "def safe_linker(elements=None):\n",
    "    elements = elements or []\n",
    "    return [\n",
    "        element._identifier\n",
    "        for element in elements\n",
    "    ]\n",
    "\n",
    "trt.dlink(\n",
    "    (project.tree, \"selected_nodes\"),\n",
    "    (lpg.diagram.elk_app.diagram, \"selected\"),\n",
    "    safe_linker,\n",
    ")\n",
    "\n",
    "lpg.diagram.elk_app.toolbar._model_name = \"BoxModel\"\n",
    "lpg.diagram.elk_app.toolbar._model_name = \"BoxView\""
   ]
  },
  {
   "cell_type": "markdown",
   "id": "45f4daf1",
   "metadata": {},
   "source": [
    "## RDF Experiments"
   ]
  },
  {
   "cell_type": "code",
   "execution_count": null,
   "id": "401b3260",
   "metadata": {},
   "outputs": [],
   "source": [
    "def process_edge(source, target, edge_type, data=None):\n",
    "    if edge_type in (\"FeatureTyping\", \"FeatureMembership\"):\n",
    "        source, target = target, source\n",
    "    return [source, target, data]\n",
    "\n",
    "graph = nx.DiGraph()\n",
    "graph.add_edges_from([\n",
    "    process_edge(source, target, edge_type, data)\n",
    "    for (source, target, edge_type), data in dict(client.lpg.graph.edges).items()\n",
    "    if edge_type in (\"Superclassing\", \"FeatureTyping\", \"FeatureMembership\")\n",
    "])\n",
    "graph"
   ]
  },
  {
   "cell_type": "code",
   "execution_count": null,
   "id": "cb111917",
   "metadata": {},
   "outputs": [],
   "source": [
    "diagram.graph = graph"
   ]
  },
  {
   "cell_type": "code",
   "execution_count": null,
   "id": "2718fa3a",
   "metadata": {},
   "outputs": [],
   "source": [
    "diagram = client.lpg.make_diagram(\n",
    "    graph=client.lpg.subgraph(edge_types=(\"Superclassing\", \"FeatureTyping^-1\", \"FeatureMembership^-1\"))\n",
    ")\n",
    "elk_app, *_ = diagram.children\n",
    "diagram"
   ]
  },
  {
   "cell_type": "code",
   "execution_count": null,
   "id": "c5baee51",
   "metadata": {},
   "outputs": [],
   "source": [
    "# Select the root node in the diagram...\n",
    "# ... or you can manually select one yourself\n",
    "elk_app.selected = \"5260380b-6fda-43cc-993f-5df58868edbb\","
   ]
  },
  {
   "cell_type": "code",
   "execution_count": null,
   "id": "68855ebc",
   "metadata": {
    "tags": []
   },
   "outputs": [],
   "source": [
    "first_element_selected, *_ = elk_app.selected\n",
    "client.elements_by_id[first_element_selected]"
   ]
  },
  {
   "cell_type": "markdown",
   "id": "3215d4a7",
   "metadata": {},
   "source": [
    "# Parse JSON-LD into RDF"
   ]
  },
  {
   "cell_type": "code",
   "execution_count": null,
   "id": "c05fed00",
   "metadata": {},
   "outputs": [],
   "source": [
    "import rdflib\n",
    "from rdflib.extras.external_graph_libs import rdflib_to_networkx_multidigraph\n",
    "import networkx as nx\n",
    "import matplotlib.pyplot as plt\n",
    "\n",
    "result = client.rdf.graph\n",
    "# result = g.parse(url, format='turtle')\n",
    "\n",
    "G = rdflib_to_networkx_multidigraph(result)\n",
    "\n",
    "# Plot Networkx instance of RDF Graph\n",
    "pos = nx.spring_layout(G, scale=2)\n",
    "edge_labels = nx.get_edge_attributes(G, 'r')"
   ]
  },
  {
   "cell_type": "code",
   "execution_count": null,
   "id": "74a40c20",
   "metadata": {},
   "outputs": [],
   "source": [
    "ax = plt.figure(figsize=(50,30)).gca();\n",
    "nx.draw_networkx_edge_labels(G, pos, edge_labels=edge_labels, ax=ax)\n",
    "nx.draw(G, with_labels=True, ax=ax)"
   ]
  },
  {
   "cell_type": "markdown",
   "id": "b4b59d0c",
   "metadata": {},
   "source": [
    "# TODOs\n",
    "1. Finish fleshing out the process in the `Kerbal Model.ipynb`\n",
    "2. Modify the subgraph generator so it can take the value from the `Type Selector` directly\n",
    "3. Improve the ipyelk diagram widget (may need to make improvements to `ipyelk`)\n",
    "   * Add arrows\n",
    "   * Add compartments\n",
    "   * Fix layout\n",
    "   * Add widget to see node details\n",
    "4. Finalize the RDF formulation"
   ]
  }
 ],
 "metadata": {
  "kernelspec": {
   "display_name": "Python 3",
   "language": "python",
   "name": "python3"
  },
  "language_info": {
   "codemirror_mode": {
    "name": "ipython",
    "version": 3
   },
   "file_extension": ".py",
   "mimetype": "text/x-python",
   "name": "python",
   "nbconvert_exporter": "python",
   "pygments_lexer": "ipython3",
   "version": "3.9.2"
  }
 },
 "nbformat": 4,
 "nbformat_minor": 5
}
