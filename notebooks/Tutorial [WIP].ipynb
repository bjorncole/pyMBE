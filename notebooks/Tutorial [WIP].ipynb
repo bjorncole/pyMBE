{
 "cells": [
  {
   "cell_type": "markdown",
   "id": "given-singer",
   "metadata": {},
   "source": [
    "# Tutorial & Widget Experiments\n",
    "\n",
    "> This notebook is primarily being used to experiment with how to use the `pymbe` widgets.\n",
    ">\n",
    "> It should be fairly \"clean\" until the `Scratch Pad` section.\n",
    ">\n",
    "\n",
    "In the future, this notebook will be cleaned up and renamed \"Tutorial\"."
   ]
  },
  {
   "cell_type": "markdown",
   "id": "adjacent-budget",
   "metadata": {},
   "source": [
    "## 1. Import `pymbe` and widget libraries"
   ]
  },
  {
   "cell_type": "code",
   "execution_count": null,
   "id": "provincial-title",
   "metadata": {},
   "outputs": [],
   "source": [
    "import ipywidgets as ipyw\n",
    "import traitlets as trt\n",
    "\n",
    "from wxyz.lab import DockPop, DockBox\n",
    "\n",
    "import pymbe.api as pm"
   ]
  },
  {
   "cell_type": "markdown",
   "id": "buried-ticket",
   "metadata": {
    "tags": []
   },
   "source": [
    "## 2. Create Widgets"
   ]
  },
  {
   "cell_type": "code",
   "execution_count": null,
   "id": "subsequent-master",
   "metadata": {
    "tags": []
   },
   "outputs": [],
   "source": [
    "client = pm.SysML2ClientWidget(host_url=\"http://sysml2-sst.intercax.com\")\n",
    "tree = pm.ContainmentTree()\n",
    "inspector = pm.ElementInspector()\n",
    "lpg = pm.SysML2LPGWidget(layout=dict(height=\"66vh\"))"
   ]
  },
  {
   "cell_type": "markdown",
   "id": "expressed-criminal",
   "metadata": {
    "tags": []
   },
   "source": [
    "## 3. Link widgets"
   ]
  },
  {
   "cell_type": "code",
   "execution_count": null,
   "id": "tested-country",
   "metadata": {
    "tags": []
   },
   "outputs": [],
   "source": [
    "# link project data\n",
    "for widget in (tree, inspector, lpg):\n",
    "    trt.link((client, \"elements_by_id\"), (widget, \"elements_by_id\"))\n",
    "\n",
    "# link element selectors\n",
    "for widget in (inspector,): # lpg):\n",
    "    trt.link((tree, \"selected\"), (widget, \"selected\"))"
   ]
  },
  {
   "cell_type": "markdown",
   "id": "chemical-wilderness",
   "metadata": {
    "tags": []
   },
   "source": [
    "## 4. ... and combine them into a single widget\n",
    "> In the future, a combined widget will be offered as part of `pymbe`"
   ]
  },
  {
   "cell_type": "code",
   "execution_count": null,
   "id": "willing-pathology",
   "metadata": {},
   "outputs": [],
   "source": [
    "dp = DockPop([\n",
    "    DockBox(\n",
    "        children=[client, tree, inspector, lpg],\n",
    "        description=\"SysML Model\",\n",
    "        dock_layout={\n",
    "            'type': 'split-area',\n",
    "            'orientation': 'vertical',\n",
    "            'children': [\n",
    "                {'type': 'tab-area', 'widgets': [0], 'currentIndex': 0},\n",
    "                {\n",
    "                    'type': 'split-area',\n",
    "                    'orientation': 'horizontal',\n",
    "                    'children': [\n",
    "                        {'type': 'tab-area', 'widgets': [1], 'currentIndex': 0},\n",
    "                        {'type': 'tab-area', 'widgets': [2, 3], 'currentIndex': 0}\n",
    "                    ],\n",
    "                    'sizes': [0.2255, 0.7744],\n",
    "                }\n",
    "            ],\n",
    "            'sizes': [0.1874, 0.8125],\n",
    "        },\n",
    "    )\n",
    "])\n",
    "client._set_layout()\n",
    "tree.layout.overflow_y = \"auto\"  # TODO: figure out why this is set to None\n",
    "dp"
   ]
  },
  {
   "cell_type": "markdown",
   "id": "magnetic-program",
   "metadata": {},
   "source": [
    "## 5. Use the widget\n",
    "...or automatically load the `Kerbal` model using the cell below"
   ]
  },
  {
   "cell_type": "code",
   "execution_count": null,
   "id": "little-aberdeen",
   "metadata": {
    "tags": []
   },
   "outputs": [],
   "source": [
    "client.project_selector.value = client.project_selector.options[\"Kerbal\"]\n",
    "client._download_elements()"
   ]
  },
  {
   "cell_type": "markdown",
   "id": "secondary-preservation",
   "metadata": {},
   "source": [
    "...and, for example, select some edge types to filter down the diagram"
   ]
  },
  {
   "cell_type": "code",
   "execution_count": null,
   "id": "clinical-florist",
   "metadata": {
    "tags": []
   },
   "outputs": [],
   "source": [
    "EDGE_TYPES_TO_SELECT =  (\"Superclassing\", \"FeatureTyping\", \"FeatureMembership\")\n",
    "lpg.edge_type_selector.value = [\n",
    "    edges\n",
    "    for key, edges in lpg.edge_type_selector.options.items()\n",
    "    if any(\n",
    "        key.startswith(edge_type)\n",
    "        for edge_type in EDGE_TYPES_TO_SELECT\n",
    "    )\n",
    "]\n",
    "lpg._update_diagram_graph()"
   ]
  },
  {
   "cell_type": "markdown",
   "id": "composite-payroll",
   "metadata": {},
   "source": [
    "# Interpretation\n",
    "\n",
    "> This is where we are refactoring the $M_0$ interpretation..."
   ]
  },
  {
   "cell_type": "code",
   "execution_count": null,
   "id": "solar-breath",
   "metadata": {},
   "outputs": [],
   "source": [
    "def pop_tree(*_):\n",
    "    print(\"before\")\n",
    "    DockPop(\n",
    "        [ipyw.VBox([project.tree])],\n",
    "        layout=dict(height=\"60vh\"),\n",
    "    )\n",
    "    print(\"after\")\n",
    "\n",
    "tree = ipyw.Button(\n",
    "    icon=\"poll-h\",\n",
    "    on_click=pop_tree,\n",
    "    tooltip=\"Project Tree\",\n",
    "    layout=dict(width=\"40px\"),\n",
    ")\n",
    "tree.on_click(pop_tree)\n",
    "buttons = ipyw.VBox([tree])\n",
    "\n",
    "DockPop([ipyw.VBox([client.widget, buttons])], mode=\"split-right\")"
   ]
  },
  {
   "cell_type": "code",
   "execution_count": null,
   "id": "developed-satisfaction",
   "metadata": {},
   "outputs": [],
   "source": [
    "class SafeDict(dict):\n",
    "\n",
    "    __DEFAULT__ = dict()\n",
    "\n",
    "    def __init__(self, iterable, default=None):\n",
    "        self.__default__ = default\n",
    "\n",
    "    def get(self, item, default=dict()):\n",
    "        return super().get(item, default) or self.__DEFAULT__\n",
    "\n",
    "\n",
    "a = SafeDict()\n",
    "a[\"as\"] = \"if\"\n",
    "a.get(\"b\")"
   ]
  },
  {
   "cell_type": "code",
   "execution_count": null,
   "id": "molecular-adventure",
   "metadata": {
    "tags": []
   },
   "outputs": [],
   "source": [
    "from pymbe.interpretation import make_banded_featuring_graph\n",
    "\n",
    "\n",
    "def retrieve_element(elements: dict, element: (str, dict), strict: bool = True) -> dict:\n",
    "    input_element = element\n",
    "    if isinstance(element, str):\n",
    "        element = elements.get(element, None)\n",
    "    elif not isinstance(element, dict):\n",
    "        raise ValueError(f\"Failed to process element: '{input_element}'\")\n",
    "    if strict and element is None:\n",
    "        raise ValueError(f\"Failed to process element: '{input_element}'\")\n",
    "    return element\n",
    "\n",
    "\n",
    "def get_metaclass(elements, element) -> str:\n",
    "    element = retrieve_element(elements, element)\n",
    "    return element.get(\"@type\", None)\n",
    "\n",
    "\n",
    "def get_feature_upper_multiplicity(elements: dict, feature: (dict, str)) -> int:\n",
    "    feature = retrieve_element(elements, feature)\n",
    "\n",
    "    multiplicity = elements.get((feature.get(\"multiplicity\", {}) or {}).get(\"@id\", None), None)\n",
    "    if multiplicity is None:\n",
    "        return None\n",
    "    upper_bound = elements.get((multiplicity.get(\"upperBound\", {}) or {}).get(\"@id\", {}), None)\n",
    "    if upper_bound is None:\n",
    "        return None\n",
    "    return upper_bound.get(\"value\", None)\n",
    "\n",
    "\n",
    "def roll_up_upper_multiplicities(lpg):\n",
    "    banded_featuring_graph = make_banded_featuring_graph(lpg)\n",
    "\n",
    "    banded_roots = [\n",
    "        banded_featuring_graph.nodes[node]\n",
    "        for node in banded_featuring_graph\n",
    "        if banded_featuring_graph.out_degree(node) == 0\n",
    "    ]\n",
    "    \n",
    "    for part_usage in \n",
    "\n",
    "elements = lpg.elements_by_id\n",
    "\n",
    "features = [\n",
    "    id_\n",
    "    for id_, data in elements.items()\n",
    "    if data[\"@type\"] == \"Feature\"\n",
    "]\n",
    "\n",
    "for feature in features:\n",
    "    upper_multiplicity = get_feature_upper_multiplicity(elements, feature)\n",
    "    if upper_multiplicity:\n",
    "        print(elements[feature][\"qualifiedName\"], upper_multiplicity)"
   ]
  },
  {
   "cell_type": "markdown",
   "id": "spare-pottery",
   "metadata": {},
   "source": [
    "# Troubleshooting"
   ]
  },
  {
   "cell_type": "markdown",
   "id": "novel-affairs",
   "metadata": {},
   "source": [
    "## Fix linking issue with diagram element selector"
   ]
  },
  {
   "cell_type": "code",
   "execution_count": null,
   "id": "laughing-kingston",
   "metadata": {},
   "outputs": [],
   "source": [
    "lpg.selected, tree.selected, inspector.selected"
   ]
  },
  {
   "cell_type": "markdown",
   "id": "right-thriller",
   "metadata": {},
   "source": [
    "# Scratch Pad\n",
    "> **WARNING**: Anything below this point is just for experimentation purposes"
   ]
  },
  {
   "cell_type": "code",
   "execution_count": null,
   "id": "geological-trance",
   "metadata": {},
   "outputs": [],
   "source": [
    "# Create a widget to see the qualified name of the elements nodes selected\n",
    "import ipywidgets as ipyw\n",
    "\n",
    "out = ipyw.Output(layout={'border': '1px solid black'})\n",
    "\n",
    "def update_node_selections(*_):\n",
    "    out.outputs = []\n",
    "    with out:\n",
    "        [\n",
    "            print(element[\"qualifiedName\"])\n",
    "            for element in lpg.selected_nodes_by_type\n",
    "        ]\n",
    "            \n",
    "lpg.node_type_selector.observe(update_node_selections, \"value\")\n",
    "\n",
    "out"
   ]
  },
  {
   "cell_type": "markdown",
   "id": "allied-consultation",
   "metadata": {},
   "source": [
    "## Project Tree / LPG element selection Experiments"
   ]
  },
  {
   "cell_type": "code",
   "execution_count": null,
   "id": "light-union",
   "metadata": {},
   "outputs": [],
   "source": [
    "from copy import deepcopy\n",
    "\n",
    "#data = deepcopy(project.element_data.outputs[0])\n",
    "# data\n",
    "project.element_data.clear_output()\n",
    "data[\"data\"][\"application/json\"] = {\"a\": 10, \"2\": \"c\"}\n",
    "project.element_data.outputs = [data]\n",
    "\n",
    "import json\n",
    "\n",
    "project.element_data.outputs[0][\"data\"][\"application/json\"] = {\"a\": 10, \"b\": 100}\n",
    "project.element_data.outputs = [{**project.element_data.outputs[0]}]\n",
    "project.element_data.clear_output()\n",
    "\n",
    "lpg.diagram.elk_app.diagram.selected = ('275e842f-85d4-4e30-accc-3f8d826bfd63', 'd150a7ef-15a2-428d-a1f6-bdc5b2074426', '4ca57b96-7b73-47c7-a69e-d204d92d8773',)\n",
    "\n",
    "project.tree.nodes[0].selected = True\n",
    "project.tree.\n",
    "lpg.diagram.elk_app.toolbar.layout.flex = \"0\"\n",
    "\n",
    "def safe_linker(elements=None):\n",
    "    elements = elements or []\n",
    "    return [\n",
    "        element._identifier\n",
    "        for element in elements\n",
    "    ]\n",
    "\n",
    "trt.dlink(\n",
    "    (project.tree, \"selected_nodes\"),\n",
    "    (lpg.diagram.elk_app.diagram, \"selected\"),\n",
    "    safe_linker,\n",
    ")\n",
    "\n",
    "lpg.diagram.elk_app.toolbar._model_name = \"BoxModel\"\n",
    "lpg.diagram.elk_app.toolbar._model_name = \"BoxView\""
   ]
  },
  {
   "cell_type": "markdown",
   "id": "clinical-botswana",
   "metadata": {},
   "source": [
    "## RDF Experiments"
   ]
  },
  {
   "cell_type": "code",
   "execution_count": null,
   "id": "traditional-letters",
   "metadata": {},
   "outputs": [],
   "source": [
    "def process_edge(source, target, edge_type, data=None):\n",
    "    if edge_type in (\"FeatureTyping\", \"FeatureMembership\"):\n",
    "        source, target = target, source\n",
    "    return [source, target, data]\n",
    "\n",
    "graph = nx.DiGraph()\n",
    "graph.add_edges_from([\n",
    "    process_edge(source, target, edge_type, data)\n",
    "    for (source, target, edge_type), data in dict(client.lpg.graph.edges).items()\n",
    "    if edge_type in (\"Superclassing\", \"FeatureTyping\", \"FeatureMembership\")\n",
    "])\n",
    "graph"
   ]
  },
  {
   "cell_type": "code",
   "execution_count": null,
   "id": "valuable-canal",
   "metadata": {},
   "outputs": [],
   "source": [
    "diagram.graph = graph"
   ]
  },
  {
   "cell_type": "code",
   "execution_count": null,
   "id": "nervous-knitting",
   "metadata": {},
   "outputs": [],
   "source": [
    "diagram = client.lpg.make_diagram(\n",
    "    graph=client.lpg.subgraph(edge_types=(\"Superclassing\", \"FeatureTyping^-1\", \"FeatureMembership^-1\"))\n",
    ")\n",
    "elk_app, *_ = diagram.children\n",
    "diagram"
   ]
  },
  {
   "cell_type": "code",
   "execution_count": null,
   "id": "quantitative-gauge",
   "metadata": {},
   "outputs": [],
   "source": [
    "# Select the root node in the diagram...\n",
    "# ... or you can manually select one yourself\n",
    "elk_app.selected = \"5260380b-6fda-43cc-993f-5df58868edbb\","
   ]
  },
  {
   "cell_type": "code",
   "execution_count": null,
   "id": "composite-liechtenstein",
   "metadata": {
    "tags": []
   },
   "outputs": [],
   "source": [
    "first_element_selected, *_ = elk_app.selected\n",
    "client.elements_by_id[first_element_selected]"
   ]
  },
  {
   "cell_type": "markdown",
   "id": "vocational-patent",
   "metadata": {},
   "source": [
    "# Parse JSON-LD into RDF"
   ]
  },
  {
   "cell_type": "code",
   "execution_count": null,
   "id": "patient-suggestion",
   "metadata": {},
   "outputs": [],
   "source": [
    "import rdflib\n",
    "from rdflib.extras.external_graph_libs import rdflib_to_networkx_multidigraph\n",
    "import networkx as nx\n",
    "import matplotlib.pyplot as plt\n",
    "\n",
    "result = client.rdf.graph\n",
    "# result = g.parse(url, format='turtle')\n",
    "\n",
    "G = rdflib_to_networkx_multidigraph(result)\n",
    "\n",
    "# Plot Networkx instance of RDF Graph\n",
    "pos = nx.spring_layout(G, scale=2)\n",
    "edge_labels = nx.get_edge_attributes(G, 'r')"
   ]
  },
  {
   "cell_type": "code",
   "execution_count": null,
   "id": "personalized-county",
   "metadata": {},
   "outputs": [],
   "source": [
    "ax = plt.figure(figsize=(50,30)).gca();\n",
    "nx.draw_networkx_edge_labels(G, pos, edge_labels=edge_labels, ax=ax)\n",
    "nx.draw(G, with_labels=True, ax=ax)"
   ]
  },
  {
   "cell_type": "markdown",
   "id": "polyphonic-franklin",
   "metadata": {},
   "source": [
    "# TODOs\n",
    "1. Finish fleshing out the process in the `Kerbal Model.ipynb`\n",
    "2. Modify the subgraph generator so it can take the value from the `Type Selector` directly\n",
    "3. Improve the ipyelk diagram widget (may need to make improvements to `ipyelk`)\n",
    "   * Add arrows\n",
    "   * Add compartments\n",
    "   * Fix layout\n",
    "   * Add widget to see node details\n",
    "4. Finalize the RDF formulation"
   ]
  }
 ],
 "metadata": {
  "kernelspec": {
   "display_name": "Python 3",
   "language": "python",
   "name": "python3"
  },
  "language_info": {
   "codemirror_mode": {
    "name": "ipython",
    "version": 3
   },
   "file_extension": ".py",
   "mimetype": "text/x-python",
   "name": "python",
   "nbconvert_exporter": "python",
   "pygments_lexer": "ipython3",
   "version": "3.9.2"
  }
 },
 "nbformat": 4,
 "nbformat_minor": 5
}
