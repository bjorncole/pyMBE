{
 "cells": [
  {
   "cell_type": "markdown",
   "id": "4b9ecba8-a490-44bf-9a31-b94faa77d3c3",
   "metadata": {},
   "source": [
    "# Playbook Explorer\n",
    "\n",
    "This notebook is intended to be a live example of how to work with SysML v2 models at analysis-time. For these purposes, the following terms are introduced:\n",
    "* An *interpretation* is the mapping of user model symbols (the \"M1 model\" in OMG-speak) into semantically-correct symbols that represent real world objects meant to conform to the model (the \"M0\" in OMG-speak). Interpretation semantics are inspired by https://www.w3.org/TR/owl2-direct-semantics/ and are mostly similar.\n",
    "* A *sequence* for an interpretation contains *atoms* or *instances* that match to real world things. Reading a sequence from left to right provides a set of nested contexts for the atoms that is important to the interpretation. For example [Rocket#0, LS#3] is a 2-sequence to describe facts around the LS#3 atom when it is considered in context for Rocket#0. This is an important idea for the SysML time and occurrence model where one may want to see how values change under different conditions.\n",
    "\n",
    "This is a notebook that walks through the random interpretation generator to help developers working on their own interpreters."
   ]
  },
  {
   "cell_type": "markdown",
   "id": "e405de1e-20e9-4763-a363-ddb6eb6fac9d",
   "metadata": {},
   "source": [
    "## Example Model\n",
    "\n",
    "The model that is used for this example is a very simple parts model.\n",
    "\n",
    "    package 'Simple Action Example' {\n",
    "    import Base::Anything;\n",
    "    import ScalarValues::*;\n",
    "    package 'Fake Library' {\n",
    "        action def Action {\n",
    "            action subactions : Action [0..20];\n",
    "        }\n",
    "        connection def Connection {\n",
    "            end source: Anything;\n",
    "            end target: Anything;\n",
    "        }\n",
    "        connection def HappensDuring :> Connection {\n",
    "            end earlierOccurrence: Action :>> Connection::source;\n",
    "            end laterOccurrence: Action :>> Connection::target;\n",
    "        }\n",
    "    }\n",
    "    \n",
    "   \n",
    "    \n",
    "    action 'Build Burger': 'Fake Library'::Action {\n",
    "        attribute 'Burger Kind' : String;\n",
    "        first start;\n",
    "        then action 'Place Buns' : 'Fake Library'::Action;\n",
    "        then action 'Add Patty' : 'Fake Library'::Action;\n",
    "        \n",
    "        decide 'Next Topping';\n",
    "        if 'Burger Kind' == \"Cheeseburger\" then 'Add Cheese';\n",
    "        if 'Burger Kind' == \"Hamburger\" then 'Dress Burger';\n",
    "        \n",
    "        action 'Add Cheese' : 'Fake Library'::Action [0..1];\n",
    "        action 'Dress Burger' : 'Fake Library'::Action [0..1];\n",
    "        \n",
    "        merge 'Finish Build';\n",
    "        \n",
    "        action 'Plate Burger' : 'Fake Library'::Action;\n",
    "        then done;\n",
    "        \n",
    "        succession pattyToTopping : 'Fake Library'::HappensDuring first 'Add Patty' then 'Next Topping';\n",
    "        succession cheeseToFinish : 'Fake Library'::HappensDuring first 'Add Cheese' then 'Finish Build';\n",
    "        succession dressToFinish : 'Fake Library'::HappensDuring first 'Dress Burger' then 'Finish Build';\n",
    "        \n",
    "        succession 'Finish Build' then 'Plate Burger';\n",
    "    }\n",
    "}"
   ]
  },
  {
   "cell_type": "markdown",
   "id": "5354f8ac-7cd4-4910-8cfc-d5b9e4fd0263",
   "metadata": {},
   "source": [
    "## Imports\n",
    "\n",
    "Import key modules, functions, and classes from the PyMBE library:"
   ]
  },
  {
   "cell_type": "code",
   "execution_count": 1,
   "id": "9dd5d23e-7a3a-4a8a-a297-c3598c048c4e",
   "metadata": {},
   "outputs": [],
   "source": [
    "import pymbe.api as pm\n",
    "from pymbe.label import get_label, get_label_for_id\n",
    "import networkx as nx\n",
    "import matplotlib.pyplot as plt\n",
    "\n",
    "from pymbe.interpretation.interp_playbooks import *\n",
    "from pymbe.interpretation.results import *\n",
    "\n",
    "from pymbe.client import SysML2Client\n",
    "from pymbe.query.metamodel_navigator import map_inputs_to_results\n",
    "\n",
    "from pymbe.interpretation.calc_dependencies import generate_execution_order\n",
    "\n",
    "import os\n",
    "\n",
    "from pymbe.graph.lpg import SysML2LabeledPropertyGraph"
   ]
  },
  {
   "cell_type": "markdown",
   "id": "e688d538-53b0-49c3-a805-c6ccb29c00dc",
   "metadata": {},
   "source": [
    "## Key IDs\n",
    "\n",
    "The unique identifiers below are useful references for walking through the interpretations generated in this notebook."
   ]
  },
  {
   "cell_type": "code",
   "execution_count": 2,
   "id": "f14b53d3-bee3-4ca1-939f-fe2f8f410b7a",
   "metadata": {},
   "outputs": [],
   "source": [
    "action_id = '2d1857b0-f54f-49c4-8231-592e92d0f8be'\n",
    "\n",
    "add_cheese_action_id = '8ea260c0-9c6c-4aec-95d0-903cde4f83d6'"
   ]
  },
  {
   "cell_type": "markdown",
   "id": "4781f4e7-9176-4258-a3af-13076eeacb84",
   "metadata": {},
   "source": [
    "## Client Setup\n",
    "\n",
    "The example here uses a local copy of the JSON file obtained by a GET operation on the SysML v2 API at:\n",
    "http://sysml2-sst.intercax.com:9000/projects/a4f6a618-e4eb-4ac8-84b8-d6bcd3badcec/commits/c48aea9b-42fb-49b3-9a3e-9c39385408d7/elements?page[size]=5000"
   ]
  },
  {
   "cell_type": "markdown",
   "id": "9521c0ea-a498-4a37-b2c7-c7c4440157de",
   "metadata": {},
   "source": [
    "Create the client and load local data."
   ]
  },
  {
   "cell_type": "code",
   "execution_count": 3,
   "id": "b66f365e-ef81-42ba-bdae-2f5d239abe4f",
   "metadata": {},
   "outputs": [],
   "source": [
    "helper_client = SysML2Client()\n",
    "\n",
    "path = \"C:\\\\Users\\\\bjorn\\\\Documents\\\\Git\\\\pyMBE\"\n",
    "file_name = \"\\\\tests\\\\data\\\\Simple Actions Model\\\\elements.json\"\n",
    "\n",
    "helper_client._load_disk_elements(path + str(file_name))"
   ]
  },
  {
   "cell_type": "markdown",
   "id": "f9497fb5-64e1-476f-9d1a-295cc8794a48",
   "metadata": {},
   "source": [
    "Create a graph representation of the model and load it into memory."
   ]
  },
  {
   "cell_type": "code",
   "execution_count": 4,
   "id": "8faf098c-8e66-488c-9b28-b6f3a8be6a93",
   "metadata": {},
   "outputs": [],
   "source": [
    "lpg = SysML2LabeledPropertyGraph()\n",
    "lpg.update(helper_client.elements_by_id, False)"
   ]
  },
  {
   "cell_type": "markdown",
   "id": "1522f0a3-03b8-4784-86fa-ea1e3a59befa",
   "metadata": {},
   "source": [
    "This is just a helper to make abbreviations more legible."
   ]
  },
  {
   "cell_type": "code",
   "execution_count": 5,
   "id": "a890ad5d-62bc-4e22-a71e-2d66295c772e",
   "metadata": {},
   "outputs": [],
   "source": [
    "shorten_pre_bake = {\n",
    "}"
   ]
  },
  {
   "cell_type": "markdown",
   "id": "f35e1c75-0746-4297-b159-31dc16adca07",
   "metadata": {},
   "source": [
    "Create an interpretation of the Kerbal model using the random generator playbook. In general, this randomly selects:\n",
    "- The ratios of partitioning abstract classifier sequence sets into concrete sets. For example, one draw may choose 2 liquid stages and 3 solids.\n",
    "- The number of sequences to create for a given feature multiplicity. For example, draw 2 for a 0..8 engines : Liquid Engine PartUsage.\n",
    "\n",
    "The playbook also attempts to make sequences created obey the Subsetting relationship (elements marked with subsets in M1 model should have their interpretation sequences entirely included within the interpretation sequences of the superset)."
   ]
  },
  {
   "cell_type": "code",
   "execution_count": 6,
   "id": "e312d2cb-66ea-4ff4-8dc7-99bb4de175dc",
   "metadata": {},
   "outputs": [],
   "source": [
    "from pymbe.query.query import get_types_for_feature, get_features_typed_by_type, roll_up_multiplicity_for_type"
   ]
  },
  {
   "cell_type": "code",
   "execution_count": 7,
   "id": "cb5cebee-7e86-40c0-a7c5-3e5987fedb01",
   "metadata": {},
   "outputs": [
    {
     "data": {
      "text/plain": [
       "['2d1857b0-f54f-49c4-8231-592e92d0f8be']"
      ]
     },
     "execution_count": 7,
     "metadata": {},
     "output_type": "execute_result"
    }
   ],
   "source": [
    "get_types_for_feature(lpg, add_cheese_action_id)"
   ]
  },
  {
   "cell_type": "code",
   "execution_count": 8,
   "id": "bd394c21-099d-4e6f-8182-97070e23531b",
   "metadata": {},
   "outputs": [
    {
     "data": {
      "text/plain": [
       "['a96a9d95-89cc-42d9-a5a8-5ba858448df5',\n",
       " 'aebd4f41-d07d-46d6-9128-81a87813d7f3',\n",
       " '98f39ee5-32db-436a-9aff-01aaef0e3cb9',\n",
       " 'f31aa2c6-db4b-47d2-9dfa-e520f2b9d50a',\n",
       " '8ea260c0-9c6c-4aec-95d0-903cde4f83d6',\n",
       " 'f3ac7d60-609a-4904-80e6-3607ad668140']"
      ]
     },
     "execution_count": 8,
     "metadata": {},
     "output_type": "execute_result"
    }
   ],
   "source": [
    "get_features_typed_by_type(lpg, action_id)"
   ]
  },
  {
   "cell_type": "code",
   "execution_count": 9,
   "id": "3f950b20-2dac-41cb-960e-f3c83b05081e",
   "metadata": {},
   "outputs": [
    {
     "name": "stderr",
     "output_type": "stream",
     "text": [
      "c:\\users\\bjorn\\documents\\git\\pymbe\\src\\pymbe\\graph\\lpg.py:395: UserWarning: These edge types are not in the graph: {'FeatureValue'}.\n",
      "  warn(f\"These edge types are not in the graph: {mismatched_edge_types}.\")\n"
     ]
    }
   ],
   "source": [
    "banded_featuring_graph = lpg.get_projection(\"Expanded Banded Graph\")"
   ]
  },
  {
   "cell_type": "code",
   "execution_count": 10,
   "id": "548f1c60-38df-4864-8c55-4dc10a6115da",
   "metadata": {},
   "outputs": [
    {
     "data": {
      "text/plain": [
       "['87a7fec7-89c7-40f7-8428-bb0816f0ba04',\n",
       " 'f3ac7d60-609a-4904-80e6-3607ad668140',\n",
       " 'e2e4718c-f8e6-41c0-9976-97e499083491',\n",
       " 'b165ab14-9d17-4df6-9be7-1b30b5a67b6b',\n",
       " 'ad1b3c5a-2841-4c13-8492-4b051e7772b3',\n",
       " '09ccebfc-893c-478d-b0da-deeb6f1f8627',\n",
       " '7f4ea4e2-50ac-4afd-8eed-3cfde947e279',\n",
       " 'a554eddf-f846-4536-8b05-fe87012e8e16']"
      ]
     },
     "execution_count": 10,
     "metadata": {},
     "output_type": "execute_result"
    }
   ],
   "source": [
    "banded_roots = [\n",
    "        node\n",
    "        for node in banded_featuring_graph.nodes\n",
    "        if banded_featuring_graph.out_degree(node) < 1\n",
    "    ]\n",
    "banded_roots"
   ]
  },
  {
   "cell_type": "code",
   "execution_count": 11,
   "id": "8bd29ae6-e255-4a04-b0a8-b708c39ca6d6",
   "metadata": {},
   "outputs": [],
   "source": [
    "from pymbe.interpretation.interp_playbooks import build_expression_sequence_templates\n",
    "from pymbe.label import get_label_for_id"
   ]
  },
  {
   "cell_type": "code",
   "execution_count": 12,
   "id": "c0614a10-966c-48d6-8d49-a046a7a9c0cf",
   "metadata": {},
   "outputs": [
    {
     "name": "stdout",
     "output_type": "stream",
     "text": [
      "['0 «Occurred LiteralInteger»', '$result']\n",
      "['== ($x, $y) => $result', '$x: Anything']\n",
      "['== ($x, $y) => $result', '$result']\n",
      "['== ($x, $y) => $result', 'FRE.Burger Kind', '$result: String']\n",
      "['== ($x, $y) => $result', '$y: Anything']\n",
      "['0 «Occurred LiteralInteger»', '$result']\n",
      "['== ($x, $y) => $result', '$x: Anything']\n",
      "['== ($x, $y) => $result', '$result']\n",
      "['== ($x, $y) => $result', 'FRE.Burger Kind', '$result: String']\n",
      "['== ($x, $y) => $result', '$y: Anything']\n",
      "['1 «Occurred LiteralInteger»', '$result']\n",
      "['1 «Occurred LiteralInteger»', '$result']\n"
     ]
    }
   ],
   "source": [
    "expr_seqs = build_expression_sequence_templates(lpg)\n",
    "for seq in expr_seqs:\n",
    "    sig_seq = []\n",
    "    for item in seq:\n",
    "        sig_seq.append(get_label_for_id(item, helper_client.elements_by_id))\n",
    "    print(sig_seq)"
   ]
  },
  {
   "cell_type": "code",
   "execution_count": 13,
   "id": "7d7221c8-3181-4179-ab4e-9e319d067291",
   "metadata": {},
   "outputs": [],
   "source": [
    "from pymbe.query.metamodel_navigator import feature_multiplicity"
   ]
  },
  {
   "cell_type": "code",
   "execution_count": 14,
   "id": "674de106-d419-40c8-a307-40167fcafa4d",
   "metadata": {},
   "outputs": [
    {
     "data": {
      "text/plain": [
       "0"
      ]
     },
     "execution_count": 14,
     "metadata": {},
     "output_type": "execute_result"
    }
   ],
   "source": [
    "feature_multiplicity(helper_client.elements_by_id[add_cheese_action_id], helper_client.elements_by_id, \"lower\")"
   ]
  },
  {
   "cell_type": "code",
   "execution_count": 15,
   "id": "12973f18-8fd4-4bcd-8aa5-50342af9f4c2",
   "metadata": {},
   "outputs": [],
   "source": [
    "from pymbe.interpretation.interp_playbooks import build_sequence_templates\n",
    "feature_seqs = build_sequence_templates(lpg)"
   ]
  },
  {
   "cell_type": "code",
   "execution_count": 16,
   "id": "76ae1abd-0536-4d44-8649-f35f48e0284b",
   "metadata": {},
   "outputs": [
    {
     "name": "stdout",
     "output_type": "stream",
     "text": [
      "Build Burger: Action\n",
      "Add Cheese: Action\n",
      "======================\n",
      "Build Burger: Action\n",
      "Add Patty: Action\n",
      "======================\n",
      "Build Burger: Action\n",
      "Place Buns: Action\n",
      "======================\n",
      "Build Burger: Action\n",
      "Plate Burger: Action\n",
      "======================\n",
      "Build Burger: Action\n",
      "Burger Kind: String\n",
      "======================\n",
      "Build Burger: Action\n",
      "Dress Burger: Action\n",
      "======================\n",
      "Build Burger: Action\n",
      "start\n",
      "======================\n"
     ]
    }
   ],
   "source": [
    "for seq in feature_seqs:\n",
    "    for item in seq:\n",
    "        print(get_label_for_id(item, helper_client.elements_by_id))\n",
    "    print('======================')"
   ]
  },
  {
   "cell_type": "code",
   "execution_count": 17,
   "id": "a5df2e24-f995-4d9a-b2ee-eac0408a7a4b",
   "metadata": {},
   "outputs": [
    {
     "data": {
      "text/plain": [
       "12"
      ]
     },
     "execution_count": 17,
     "metadata": {},
     "output_type": "execute_result"
    }
   ],
   "source": [
    "roll_up_multiplicity_for_type(lpg, helper_client.elements_by_id[action_id], 'upper')"
   ]
  },
  {
   "cell_type": "code",
   "execution_count": 18,
   "id": "cc64cbc6-c15b-4f79-84dc-1af698b5963f",
   "metadata": {},
   "outputs": [
    {
     "name": "stderr",
     "output_type": "stream",
     "text": [
      "c:\\users\\bjorn\\documents\\git\\pymbe\\src\\pymbe\\graph\\lpg.py:395: UserWarning: These edge types are not in the graph: {'ResultExpressionMembership'}.\n",
      "  warn(f\"These edge types are not in the graph: {mismatched_edge_types}.\")\n"
     ]
    },
    {
     "ename": "NotImplementedError",
     "evalue": "('Cannot handle untyped features! Tried on start', ' id = 5d6e4fc3-0f61-4f10-86d2-d36463b93cd7')",
     "output_type": "error",
     "traceback": [
      "\u001b[1;31m---------------------------------------------------------------------------\u001b[0m",
      "\u001b[1;31mNotImplementedError\u001b[0m                       Traceback (most recent call last)",
      "\u001b[1;32m<ipython-input-18-ef0e99e110ac>\u001b[0m in \u001b[0;36m<module>\u001b[1;34m\u001b[0m\n\u001b[1;32m----> 1\u001b[1;33m m0_interpretation = random_generator_playbook(\n\u001b[0m\u001b[0;32m      2\u001b[0m     \u001b[0mhelper_client\u001b[0m\u001b[1;33m,\u001b[0m\u001b[1;33m\u001b[0m\u001b[1;33m\u001b[0m\u001b[0m\n\u001b[0;32m      3\u001b[0m     \u001b[0mlpg\u001b[0m\u001b[1;33m,\u001b[0m\u001b[1;33m\u001b[0m\u001b[1;33m\u001b[0m\u001b[0m\n\u001b[0;32m      4\u001b[0m     \u001b[0mshorten_pre_bake\u001b[0m\u001b[1;33m\u001b[0m\u001b[1;33m\u001b[0m\u001b[0m\n\u001b[0;32m      5\u001b[0m )\n",
      "\u001b[1;32mc:\\users\\bjorn\\documents\\git\\pymbe\\src\\pymbe\\interpretation\\interp_playbooks.py\u001b[0m in \u001b[0;36mrandom_generator_playbook\u001b[1;34m(client, lpg, name_hints)\u001b[0m\n\u001b[0;32m     77\u001b[0m     \u001b[1;31m# PHASE 3: Expand the dictionaries out into feature sequences by pulling from instances developed here\u001b[0m\u001b[1;33m\u001b[0m\u001b[1;33m\u001b[0m\u001b[1;33m\u001b[0m\u001b[0m\n\u001b[0;32m     78\u001b[0m \u001b[1;33m\u001b[0m\u001b[0m\n\u001b[1;32m---> 79\u001b[1;33m     \u001b[0mrandom_generator_playbook_phase_3\u001b[0m\u001b[1;33m(\u001b[0m\u001b[0mfeature_sequences\u001b[0m\u001b[1;33m,\u001b[0m \u001b[0mall_elements\u001b[0m\u001b[1;33m,\u001b[0m \u001b[0mlpg\u001b[0m\u001b[1;33m,\u001b[0m \u001b[0mptg\u001b[0m\u001b[1;33m,\u001b[0m \u001b[0minstances_dict\u001b[0m\u001b[1;33m)\u001b[0m\u001b[1;33m\u001b[0m\u001b[1;33m\u001b[0m\u001b[0m\n\u001b[0m\u001b[0;32m     80\u001b[0m \u001b[1;33m\u001b[0m\u001b[0m\n\u001b[0;32m     81\u001b[0m     \u001b[1;31m# PHASE 4: Expand sequences to support computations\u001b[0m\u001b[1;33m\u001b[0m\u001b[1;33m\u001b[0m\u001b[1;33m\u001b[0m\u001b[0m\n",
      "\u001b[1;32mc:\\users\\bjorn\\documents\\git\\pymbe\\src\\pymbe\\interpretation\\interp_playbooks.py\u001b[0m in \u001b[0;36mrandom_generator_playbook_phase_3\u001b[1;34m(feature_sequences, all_elements, lpg, ptg, instances_dict)\u001b[0m\n\u001b[0;32m    325\u001b[0m \u001b[1;33m\u001b[0m\u001b[0m\n\u001b[0;32m    326\u001b[0m                 \u001b[1;32mif\u001b[0m \u001b[0mlen\u001b[0m\u001b[1;33m(\u001b[0m\u001b[0mtypes\u001b[0m\u001b[1;33m)\u001b[0m \u001b[1;33m==\u001b[0m \u001b[1;36m0\u001b[0m\u001b[1;33m:\u001b[0m\u001b[1;33m\u001b[0m\u001b[1;33m\u001b[0m\u001b[0m\n\u001b[1;32m--> 327\u001b[1;33m                     raise NotImplementedError(\"Cannot handle untyped features! Tried on \" +\n\u001b[0m\u001b[0;32m    328\u001b[0m                                             get_label_for_id(feature_id, all_elements), \" id = \" + feature_id)\n\u001b[0;32m    329\u001b[0m                 \u001b[1;32melif\u001b[0m \u001b[0mlen\u001b[0m\u001b[1;33m(\u001b[0m\u001b[0mtypes\u001b[0m\u001b[1;33m)\u001b[0m \u001b[1;33m>\u001b[0m \u001b[1;36m1\u001b[0m\u001b[1;33m:\u001b[0m\u001b[1;33m\u001b[0m\u001b[1;33m\u001b[0m\u001b[0m\n",
      "\u001b[1;31mNotImplementedError\u001b[0m: ('Cannot handle untyped features! Tried on start', ' id = 5d6e4fc3-0f61-4f10-86d2-d36463b93cd7')"
     ]
    }
   ],
   "source": [
    "m0_interpretation = random_generator_playbook(\n",
    "    helper_client,\n",
    "    lpg,\n",
    "    shorten_pre_bake\n",
    ")"
   ]
  },
  {
   "cell_type": "markdown",
   "id": "37b882b2-f601-4c61-a8a9-4029b2e7381d",
   "metadata": {},
   "source": [
    "To see how sequences are structured, the cell below renders sequences that show what type of atoms will fill particular positions in the sequence, as well as the maximum multiplicity (number of) sequences."
   ]
  },
  {
   "cell_type": "code",
   "execution_count": null,
   "id": "f203759a-6a70-4a56-8799-2338ee6080c1",
   "metadata": {},
   "outputs": [],
   "source": [
    "from pymbe.query.query import roll_up_upper_multiplicity, roll_up_multiplicity_for_type\n",
    "\n",
    "feat_sequences = build_sequence_templates(lpg=lpg)\n",
    "\n",
    "total = 0\n",
    "for seq in feat_sequences:\n",
    "    print(str(pprint_single_id_list(seq, lpg.nodes)) + \", \" + str(roll_up_upper_multiplicity(lpg, lpg.nodes[seq[-1]])))"
   ]
  },
  {
   "cell_type": "markdown",
   "id": "461a6537-2b8a-49f4-897b-c57a9888800f",
   "metadata": {},
   "source": [
    "## Calculation Results Shown\n",
    "\n",
    "The following cells are a series of displays of relevant features in the interpretation."
   ]
  },
  {
   "cell_type": "markdown",
   "id": "ed5b0fbd-9d75-45af-971c-b334798340fb",
   "metadata": {},
   "source": [
    "Show all interpretation sequence sets (limited to length of 5)."
   ]
  },
  {
   "cell_type": "code",
   "execution_count": null,
   "id": "54a33294-b833-45f9-a5f9-f70b9231aa96",
   "metadata": {},
   "outputs": [],
   "source": [
    "for print_line in pprint_interpretation(m0_interpretation, lpg.nodes):\n",
    "    print(print_line)"
   ]
  },
  {
   "cell_type": "code",
   "execution_count": null,
   "id": "2cbd43d5-ff88-4df8-b561-dab8119c5fc0",
   "metadata": {},
   "outputs": [],
   "source": []
  }
 ],
 "metadata": {
  "kernelspec": {
   "display_name": "Python 3",
   "language": "python",
   "name": "python3"
  },
  "language_info": {
   "codemirror_mode": {
    "name": "ipython",
    "version": 3
   },
   "file_extension": ".py",
   "mimetype": "text/x-python",
   "name": "python",
   "nbconvert_exporter": "python",
   "pygments_lexer": "ipython3",
   "version": "3.9.4"
  }
 },
 "nbformat": 4,
 "nbformat_minor": 5
}
