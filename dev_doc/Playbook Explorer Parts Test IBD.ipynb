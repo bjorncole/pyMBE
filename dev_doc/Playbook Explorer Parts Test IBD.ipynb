{
 "cells": [
  {
   "cell_type": "markdown",
   "id": "4b9ecba8-a490-44bf-9a31-b94faa77d3c3",
   "metadata": {},
   "source": [
    "# Playbook Explorer\n",
    "\n",
    "This notebook is intended to be a live example of how to work with SysML v2 models at analysis-time. For these purposes, the following terms are introduced:\n",
    "* An *interpretation* is the mapping of user model symbols (the \"M1 model\" in OMG-speak) into semantically-correct symbols that represent real world objects meant to conform to the model (the \"M0\" in OMG-speak). Interpretation semantics are inspired by https://www.w3.org/TR/owl2-direct-semantics/ and are mostly similar.\n",
    "* A *sequence* for an interpretation contains *atoms* or *instances* that match to real world things. Reading a sequence from left to right provides a set of nested contexts for the atoms that is important to the interpretation. For example [Rocket#0, LS#3] is a 2-sequence to describe facts around the LS#3 atom when it is considered in context for Rocket#0. This is an important idea for the SysML time and occurrence model where one may want to see how values change under different conditions.\n",
    "\n",
    "This is a notebook that walks through the random interpretation generator to help developers working on their own interpreters."
   ]
  },
  {
   "cell_type": "markdown",
   "id": "e405de1e-20e9-4763-a363-ddb6eb6fac9d",
   "metadata": {},
   "source": [
    "## Example Model\n",
    "\n",
    "The model that is used for this example is a very simple parts model.\n",
    "\n",
    "    package 'Simple Parts Model' {\n",
    "        package 'Fake Library' {\n",
    "            part def Part;\n",
    "            port def Port;\n",
    "            connection def Connection;\n",
    "        }\n",
    "    \n",
    "        part 'Power Group' : 'Fake Library'::Part {\n",
    "            part 'Power Source' : 'Fake Library'::Part {\n",
    "                port 'Power Out' : 'Fake Library'::Port;\n",
    "            }\n",
    "            part 'Power User' : 'Fake Library'::Part {\n",
    "                port 'Power In' : 'Fake Library'::Port;\n",
    "            }\n",
    "\n",
    "            connection powerToUser : 'Fake Library'::Connection connect 'Power Source'::'Power Out' to 'Power User'::'Power In';\n",
    "        }\n",
    "    \n",
    "    }"
   ]
  },
  {
   "cell_type": "markdown",
   "id": "5354f8ac-7cd4-4910-8cfc-d5b9e4fd0263",
   "metadata": {},
   "source": [
    "## Imports\n",
    "\n",
    "Import key modules, functions, and classes from the PyMBE library:"
   ]
  },
  {
   "cell_type": "code",
   "execution_count": null,
   "id": "9dd5d23e-7a3a-4a8a-a297-c3598c048c4e",
   "metadata": {},
   "outputs": [],
   "source": [
    "from pathlib import Path\n",
    "import networkx as nx\n",
    "\n",
    "import pymbe.api as pm\n",
    "\n",
    "from pymbe.client import SysML2Client\n",
    "from pymbe.graph.lpg import SysML2LabeledPropertyGraph\n",
    "from pymbe.interpretation.interp_playbooks import (\n",
    "    build_expression_sequence_templates,\n",
    "    build_sequence_templates,\n",
    "    random_generator_playbook,\n",
    ")\n",
    "from pymbe.interpretation.results import *\n",
    "from pymbe.label import get_label_for_id\n",
    "from pymbe.query.metamodel_navigator import feature_multiplicity\n",
    "from pymbe.query.query import (\n",
    "    roll_up_multiplicity,\n",
    "    roll_up_upper_multiplicity,\n",
    "    roll_up_multiplicity_for_type,\n",
    "    get_types_for_feature,\n",
    "    get_features_typed_by_type,\n",
    ")"
   ]
  },
  {
   "cell_type": "markdown",
   "id": "4781f4e7-9176-4258-a3af-13076eeacb84",
   "metadata": {},
   "source": [
    "## Client Setup\n",
    "\n",
    "The example here uses a local copy of the JSON file obtained by a GET operation on the SysML v2 API at:\n",
    "http://sysml2-sst.intercax.com:9000/projects/a4f6a618-e4eb-4ac8-84b8-d6bcd3badcec/commits/c48aea9b-42fb-49b3-9a3e-9c39385408d7/elements?page[size]=5000"
   ]
  },
  {
   "cell_type": "markdown",
   "id": "9521c0ea-a498-4a37-b2c7-c7c4440157de",
   "metadata": {},
   "source": [
    "Create the client and load local data."
   ]
  },
  {
   "cell_type": "code",
   "execution_count": null,
   "id": "b66f365e-ef81-42ba-bdae-2f5d239abe4f",
   "metadata": {},
   "outputs": [],
   "source": [
    "helper_client = SysML2Client()\n",
    "\n",
    "simple_parts_file = Path(\"..\") / \"tests/fixtures/Simple Parts Model.json\"\n",
    "\n",
    "helper_client._load_from_file(simple_parts_file)"
   ]
  },
  {
   "cell_type": "markdown",
   "id": "f9497fb5-64e1-476f-9d1a-295cc8794a48",
   "metadata": {},
   "source": [
    "Create a graph representation of the model and load it into memory."
   ]
  },
  {
   "cell_type": "code",
   "execution_count": null,
   "id": "8faf098c-8e66-488c-9b28-b6f3a8be6a93",
   "metadata": {},
   "outputs": [],
   "source": [
    "lpg = SysML2LabeledPropertyGraph()\n",
    "lpg.update(helper_client.elements_by_id, False)"
   ]
  },
  {
   "cell_type": "markdown",
   "id": "1522f0a3-03b8-4784-86fa-ea1e3a59befa",
   "metadata": {},
   "source": [
    "This is just a helper to make abbreviations more legible."
   ]
  },
  {
   "cell_type": "code",
   "execution_count": null,
   "id": "a890ad5d-62bc-4e22-a71e-2d66295c772e",
   "metadata": {},
   "outputs": [],
   "source": [
    "shorten_pre_bake = {}"
   ]
  },
  {
   "cell_type": "markdown",
   "id": "f35e1c75-0746-4297-b159-31dc16adca07",
   "metadata": {},
   "source": [
    "Create an interpretation of the Kerbal model using the random generator playbook. In general, this randomly selects:\n",
    "- The ratios of partitioning abstract classifier sequence sets into concrete sets. For example, one draw may choose 2 liquid stages and 3 solids.\n",
    "- The number of sequences to create for a given feature multiplicity. For example, draw 2 for a 0..8 engines : Liquid Engine PartUsage.\n",
    "\n",
    "The playbook also attempts to make sequences created obey the Subsetting relationship (elements marked with subsets in M1 model should have their interpretation sequences entirely included within the interpretation sequences of the superset)."
   ]
  },
  {
   "cell_type": "code",
   "execution_count": null,
   "id": "beee1167-dc08-4bc7-8784-9cde8c86ba5e",
   "metadata": {},
   "outputs": [],
   "source": [
    "part_id = 'a4b4fc39-eec4-4ae6-8f16-62a106323e69'\n",
    "port_id = 'ef2b63dc-3666-4df0-beb9-790b8e7fc21c'\n",
    "connection_id = '290107ad-b043-405e-8a60-2796e7681552'\n",
    "\n",
    "power_in_id = '6717616c-47ee-4fed-bf7d-e4e98c929fac'\n",
    "power_user_id = '3f314dcb-4426-48ae-a21e-cac3dbf9deff'\n",
    "connect_use_id = '8f3cfffc-04c8-458b-84d4-82ef1bf2498c'"
   ]
  },
  {
   "cell_type": "code",
   "execution_count": null,
   "id": "306ad568-f672-4b43-8b90-0d6c2043807d",
   "metadata": {},
   "outputs": [],
   "source": [
    "from pymbe.query.query import calculate_signature\n",
    "calculate_signature(\n",
    "    helper_client.elements_by_id[power_user_id],\n",
    "    helper_client.elements_by_id\n",
    ")"
   ]
  },
  {
   "cell_type": "code",
   "execution_count": null,
   "id": "e312d2cb-66ea-4ff4-8dc7-99bb4de175dc",
   "metadata": {},
   "outputs": [],
   "source": [
    "from pymbe.query.query import get_types_for_feature, get_features_typed_by_type, roll_up_multiplicity_for_type"
   ]
  },
  {
   "cell_type": "code",
   "execution_count": null,
   "id": "cb5cebee-7e86-40c0-a7c5-3e5987fedb01",
   "metadata": {},
   "outputs": [],
   "source": [
    "get_types_for_feature(lpg, 'f91dbe6e-ca1b-48fd-9b7d-b0a5325d0e05')"
   ]
  },
  {
   "cell_type": "code",
   "execution_count": null,
   "id": "bd394c21-099d-4e6f-8182-97070e23531b",
   "metadata": {},
   "outputs": [],
   "source": [
    "get_features_typed_by_type(lpg, part_id)"
   ]
  },
  {
   "cell_type": "code",
   "execution_count": null,
   "id": "746e2571-84a4-4c4c-ab8a-a5b8d86a1bcf",
   "metadata": {},
   "outputs": [],
   "source": [
    "roll_up_multiplicity_for_type(lpg, helper_client.elements_by_id[connection_id], 'upper')"
   ]
  },
  {
   "cell_type": "code",
   "execution_count": null,
   "id": "20dd9cd1-c7e7-41d1-9f70-d3abc399e9f1",
   "metadata": {},
   "outputs": [],
   "source": [
    "roll_up_multiplicity(lpg, helper_client.elements_by_id[power_in_id], 'upper')"
   ]
  },
  {
   "cell_type": "code",
   "execution_count": null,
   "id": "811e902a-33b5-4503-b656-cda088e8745a",
   "metadata": {},
   "outputs": [],
   "source": [
    "roll_up_multiplicity(lpg, helper_client.elements_by_id[power_user_id], 'upper')"
   ]
  },
  {
   "cell_type": "code",
   "execution_count": null,
   "id": "c5335494-1dc3-4f74-92a6-1b4efa9ab7ef",
   "metadata": {},
   "outputs": [],
   "source": [
    "roll_up_multiplicity(lpg, helper_client.elements_by_id[connect_use_id], 'upper')"
   ]
  },
  {
   "cell_type": "code",
   "execution_count": null,
   "id": "3f950b20-2dac-41cb-960e-f3c83b05081e",
   "metadata": {},
   "outputs": [],
   "source": [
    "banded_featuring_graph = lpg.get_projection(\"Expanded Banded Graph\")"
   ]
  },
  {
   "cell_type": "code",
   "execution_count": null,
   "id": "548f1c60-38df-4864-8c55-4dc10a6115da",
   "metadata": {},
   "outputs": [],
   "source": [
    "banded_roots = [\n",
    "        node\n",
    "        for node in banded_featuring_graph.nodes\n",
    "        if banded_featuring_graph.out_degree(node) < 1\n",
    "    ]\n",
    "banded_roots"
   ]
  },
  {
   "cell_type": "code",
   "execution_count": null,
   "id": "8bd29ae6-e255-4a04-b0a8-b708c39ca6d6",
   "metadata": {},
   "outputs": [],
   "source": [
    "from pymbe.interpretation.interp_playbooks import build_expression_sequence_templates\n",
    "from pymbe.label import get_label_for_id"
   ]
  },
  {
   "cell_type": "code",
   "execution_count": null,
   "id": "c0614a10-966c-48d6-8d49-a046a7a9c0cf",
   "metadata": {},
   "outputs": [],
   "source": [
    "expr_seqs = build_expression_sequence_templates(lpg)\n",
    "for seq in expr_seqs:\n",
    "    sig_seq = []\n",
    "    for item in seq:\n",
    "        sig_seq.append(get_label_for_id(item, helper_client.elements_by_id))\n",
    "    print(sig_seq)"
   ]
  },
  {
   "cell_type": "code",
   "execution_count": null,
   "id": "7d7221c8-3181-4179-ab4e-9e319d067291",
   "metadata": {},
   "outputs": [],
   "source": [
    "from pymbe.query.metamodel_navigator import feature_multiplicity"
   ]
  },
  {
   "cell_type": "code",
   "execution_count": null,
   "id": "674de106-d419-40c8-a307-40167fcafa4d",
   "metadata": {},
   "outputs": [],
   "source": [
    "feature_multiplicity(helper_client.elements_by_id[connection_id], helper_client.elements_by_id, \"upper\")"
   ]
  },
  {
   "cell_type": "code",
   "execution_count": null,
   "id": "12973f18-8fd4-4bcd-8aa5-50342af9f4c2",
   "metadata": {},
   "outputs": [],
   "source": [
    "from pymbe.interpretation.interp_playbooks import build_sequence_templates\n",
    "build_sequence_templates(lpg)"
   ]
  },
  {
   "cell_type": "code",
   "execution_count": null,
   "id": "cc64cbc6-c15b-4f79-84dc-1af698b5963f",
   "metadata": {},
   "outputs": [],
   "source": [
    "m0_interpretation = random_generator_playbook(\n",
    "    lpg,\n",
    "    shorten_pre_bake,\n",
    ")"
   ]
  },
  {
   "cell_type": "markdown",
   "id": "37b882b2-f601-4c61-a8a9-4029b2e7381d",
   "metadata": {},
   "source": [
    "To see how sequences are structured, the cell below renders sequences that show what type of atoms will fill particular positions in the sequence, as well as the maximum multiplicity (number of) sequences."
   ]
  },
  {
   "cell_type": "code",
   "execution_count": null,
   "id": "f203759a-6a70-4a56-8799-2338ee6080c1",
   "metadata": {},
   "outputs": [],
   "source": [
    "feat_sequences = build_sequence_templates(lpg=lpg)\n",
    "\n",
    "total = 0\n",
    "for seq in feat_sequences:\n",
    "    print(str(pprint_single_id_list(seq, lpg.nodes)) + \", \" + str(roll_up_upper_multiplicity(lpg, lpg.nodes[seq[-1]])))"
   ]
  },
  {
   "cell_type": "markdown",
   "id": "461a6537-2b8a-49f4-897b-c57a9888800f",
   "metadata": {},
   "source": [
    "## Calculation Results Shown\n",
    "\n",
    "The following cells are a series of displays of relevant features in the interpretation."
   ]
  },
  {
   "cell_type": "markdown",
   "id": "ed5b0fbd-9d75-45af-971c-b334798340fb",
   "metadata": {},
   "source": [
    "Show all interpretation sequence sets (limited to length of 5)."
   ]
  },
  {
   "cell_type": "code",
   "execution_count": null,
   "id": "54a33294-b833-45f9-a5f9-f70b9231aa96",
   "metadata": {},
   "outputs": [],
   "source": [
    "for print_line in pprint_interpretation(m0_interpretation, lpg.nodes):\n",
    "    print(print_line)"
   ]
  },
  {
   "cell_type": "markdown",
   "id": "0852058a-243f-4ad3-bb0d-eb657ca07068",
   "metadata": {},
   "source": [
    "# Lets make that IBD"
   ]
  },
  {
   "cell_type": "code",
   "execution_count": null,
   "id": "7c5b9944-ed26-4c82-8e41-85b1e896aa6a",
   "metadata": {},
   "outputs": [],
   "source": [
    "from pprint import pprint\n",
    "from collections import defaultdict\n",
    "\n",
    "\n",
    "connector_usagetypes = (\"ConnectionUsage\", \"SuccessionUsage\")\n",
    "elements = helper_client.elements_by_id\n",
    "\n",
    "connectors, m1_connectors = [], []\n",
    "for id_, sequences in m0_interpretation.items():\n",
    "    element = elements[id_]\n",
    "    if element[\"@type\"] in connector_usagetypes:\n",
    "        connectors += [connector_usage for *_, connector_usage in sequences]\n",
    "        src, tgt = element[\"connectorEnd\"][:2]\n",
    "        src, tgt = src[\"@id\"], tgt[\"@id\"]\n",
    "        m1_connectors += [(element[\"@id\"], src, tgt)]\n",
    "\n",
    "to_parent = {}\n",
    "for id_, sequences in m0_interpretation.items():\n",
    "    element = elements[id_]\n",
    "    if element[\"@type\"] in (\"PartUsage\", \"PortUsage\"):\n",
    "        for sequence in sequences:\n",
    "            parent = sequence[0]\n",
    "            for child in sequence[1:]:\n",
    "                to_parent[child] = parent\n",
    "                parent = child\n",
    "    \n",
    "pprint(dict(to_parent))"
   ]
  },
  {
   "cell_type": "markdown",
   "id": "1982ba4f-752f-4541-ac8d-9a7c346c3c84",
   "metadata": {},
   "source": [
    "# Find M0 Source and Targets for Each M0 Connector\n",
    "> This is hacky AF but it works..."
   ]
  },
  {
   "cell_type": "code",
   "execution_count": null,
   "id": "ab1fe967-311f-4403-93dc-8b80fe3ea7aa",
   "metadata": {},
   "outputs": [],
   "source": [
    "m0_connectors = []\n",
    "for conn_usage, src, tgt in m1_connectors:\n",
    "    for m0_conn_usage in m0_interpretation[conn_usage]:\n",
    "        num_items = len(m0_conn_usage)\n",
    "        for m0_src in m0_interpretation[src]:\n",
    "            if m0_src[:num_items] == m0_conn_usage:\n",
    "                m0_src = m0_src[-1]\n",
    "                break\n",
    "        for m0_tgt in m0_interpretation[tgt]:\n",
    "            if m0_tgt[:num_items] == m0_conn_usage:\n",
    "                m0_tgt = m0_tgt[-1]\n",
    "                break\n",
    "        m0_connectors += [(tuple(m0_conn_usage), m0_src, m0_tgt)]\n",
    "m0_connectors"
   ]
  },
  {
   "cell_type": "markdown",
   "id": "fbd3300f-1213-4596-bfc5-2b7ff633f41f",
   "metadata": {},
   "source": [
    "# Draw the Diagram"
   ]
  },
  {
   "cell_type": "code",
   "execution_count": null,
   "id": "0fde7b5f-41ab-4c4e-a4da-149e15093d36",
   "metadata": {},
   "outputs": [],
   "source": [
    "from pymbe.widget.diagram.parts import Part\n",
    "from pymbe.widget.diagram.part_diagram import PartDiagram\n",
    "from pymbe.widget.diagram.relationships import Relationship\n",
    "\n",
    "import ipyelk as IE\n",
    "\n",
    "from ipyelk.elements import Compartment, Port"
   ]
  },
  {
   "cell_type": "code",
   "execution_count": null,
   "id": "89963d20-9f49-497f-9953-f1b6f54bfbb4",
   "metadata": {},
   "outputs": [],
   "source": [
    "diagram = IE.Diagram(layout={\"height\": \"100%\"})\n",
    "diagram"
   ]
  },
  {
   "cell_type": "code",
   "execution_count": null,
   "id": "e9349fca-4a77-404f-b694-9ecf4d8a264d",
   "metadata": {},
   "outputs": [],
   "source": [
    "parts = {\n",
    "    instance: Part.from_data({\"@id\": instance.name, \"@type\": instance.name.split(\"#\")[0]})\n",
    "    for instance in set([*to_parent, *to_parent.values()])\n",
    "}"
   ]
  },
  {
   "cell_type": "code",
   "execution_count": null,
   "id": "e07d70da-8b7a-43a2-a20b-770770ee6e26",
   "metadata": {},
   "outputs": [],
   "source": [
    "hasattr(parent, \"parts\")"
   ]
  },
  {
   "cell_type": "code",
   "execution_count": null,
   "id": "df03a6b4-f66e-4213-8757-c9601570842f",
   "metadata": {},
   "outputs": [],
   "source": [
    "part_diagram = PartDiagram()\n",
    "\n",
    "compartments = {}\n",
    "\n",
    "for instance, part in parts.items():\n",
    "    parent = parts.get(to_parent.get(instance, None), None)\n",
    "    if parent is None:\n",
    "        part_diagram.add_child(part)\n",
    "        continue\n",
    "    if instance.name.startswith(\"Port\"):\n",
    "        parent.add_port(Port(id=instance.name))\n",
    "    else:\n",
    "        if not hasattr(parent, \"parts\"):\n",
    "            parent.parts = Compartment().make_labels(headings=[\"parts\"])\n",
    "        parent.parts.add_child(part)"
   ]
  },
  {
   "cell_type": "code",
   "execution_count": null,
   "id": "9615b790-76ed-45de-982a-8f753b34431c",
   "metadata": {},
   "outputs": [],
   "source": [
    "loader = IE.ElementLoader()\n",
    "diagram.source = loader.load(part_diagram)\n",
    "diagram.style = part_diagram.style\n",
    "diagram.view.symbols = part_diagram.symbols"
   ]
  }
 ],
 "metadata": {
  "kernelspec": {
   "display_name": "Python 3",
   "language": "python",
   "name": "python3"
  },
  "language_info": {
   "codemirror_mode": {
    "name": "ipython",
    "version": 3
   },
   "file_extension": ".py",
   "mimetype": "text/x-python",
   "name": "python",
   "nbconvert_exporter": "python",
   "pygments_lexer": "ipython3",
   "version": "3.9.4"
  }
 },
 "nbformat": 4,
 "nbformat_minor": 5
}
