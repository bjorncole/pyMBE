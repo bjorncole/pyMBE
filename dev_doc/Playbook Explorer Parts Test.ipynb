{
 "cells": [
  {
   "cell_type": "markdown",
   "id": "458408a6",
   "metadata": {},
   "source": [
    "# Playbook Explorer\n",
    "\n",
    "This notebook is intended to be a live example of how to work with SysML v2 models at analysis-time. For these purposes, the following terms are introduced:\n",
    "* An *interpretation* is the mapping of user model symbols (the \"M1 model\" in OMG-speak) into semantically-correct symbols that represent real world objects meant to conform to the model (the \"M0\" in OMG-speak). Interpretation semantics are inspired by https://www.w3.org/TR/owl2-direct-semantics/ and are mostly similar.\n",
    "* A *sequence* for an interpretation contains *atoms* or *instances* that match to real world things. Reading a sequence from left to right provides a set of nested contexts for the atoms that is important to the interpretation. For example [Rocket#0, LS#3] is a 2-sequence to describe facts around the LS#3 atom when it is considered in context for Rocket#0. This is an important idea for the SysML time and occurrence model where one may want to see how values change under different conditions.\n",
    "\n",
    "This is a notebook that walks through the random interpretation generator to help developers working on their own interpreters."
   ]
  },
  {
   "cell_type": "markdown",
   "id": "31cf0d77",
   "metadata": {},
   "source": [
    "## Example Model\n",
    "\n",
    "The model that is used for this example is a very simple parts model.\n",
    "\n",
    "    package 'Simple Parts Model' {\n",
    "    import Base::Anything;\n",
    "    package 'Fake Library' {\n",
    "        part def Part;\n",
    "        port def Port;\n",
    "        connection def Connection;\n",
    "    }\n",
    "    \n",
    "    part 'Power Group' : 'Fake Library'::Part {\n",
    "        part 'Power Source' : 'Fake Library'::Part [2] {\n",
    "            port 'Power Out' : 'Fake Library'::Port;\n",
    "        }\n",
    "        part 'Power User' : 'Fake Library'::Part [4] {\n",
    "            port 'Power In' : 'Fake Library'::Port;\n",
    "        }\n",
    "        \n",
    "        connection powerToUser : 'Fake Library'::Connection [4] connect 'Power Source'::'Power Out' to 'Power User'::'Power In'; \n",
    "    }\n",
    "    \n",
    "}"
   ]
  },
  {
   "cell_type": "markdown",
   "id": "5bc3825e",
   "metadata": {},
   "source": [
    "## Imports\n",
    "\n",
    "Import key modules, functions, and classes from the PyMBE library:"
   ]
  },
  {
   "cell_type": "code",
   "execution_count": null,
   "id": "084eaf7c",
   "metadata": {},
   "outputs": [],
   "source": [
    "from pathlib import Path\n",
    "import networkx as nx\n",
    "\n",
    "import pymbe.api as pm\n",
    "\n",
    "from pymbe.client import SysML2Client\n",
    "from pymbe.graph.lpg import SysML2LabeledPropertyGraph\n",
    "from pymbe.interpretation.interp_playbooks import (\n",
    "    build_expression_sequence_templates,\n",
    "    build_sequence_templates,\n",
    "    random_generator_playbook,\n",
    ")\n",
    "from pymbe.interpretation.results import *\n",
    "from pymbe.label import get_label_for_id\n",
    "from pymbe.query.metamodel_navigator import feature_multiplicity\n",
    "from pymbe.query.query import (\n",
    "    roll_up_multiplicity,\n",
    "    roll_up_upper_multiplicity,\n",
    "    roll_up_multiplicity_for_type,\n",
    "    get_types_for_feature,\n",
    "    get_features_typed_by_type,\n",
    ")\n",
    "from pymbe.local.stablization import build_stable_id_lookups"
   ]
  },
  {
   "cell_type": "markdown",
   "id": "b983d6e8",
   "metadata": {},
   "source": [
    "## Client Setup\n",
    "\n",
    "The example here uses a local copy of the JSON file obtained by a GET operation on the SysML v2 API at:\n",
    "http://sysml2-sst.intercax.com:9000/projects/a4f6a618-e4eb-4ac8-84b8-d6bcd3badcec/commits/c48aea9b-42fb-49b3-9a3e-9c39385408d7/elements?page[size]=5000"
   ]
  },
  {
   "cell_type": "markdown",
   "id": "2e65745f",
   "metadata": {},
   "source": [
    "Create the client and load local data."
   ]
  },
  {
   "cell_type": "code",
   "execution_count": null,
   "id": "ed3ab166",
   "metadata": {},
   "outputs": [],
   "source": [
    "helper_client = SysML2Client()\n",
    "\n",
    "simple_parts_file = Path(pm.__file__).parent / \"../../tests/fixtures/Simple Parts Model.json\"\n",
    "\n",
    "helper_client._load_from_file(simple_parts_file)"
   ]
  },
  {
   "cell_type": "markdown",
   "id": "47ee0bc8",
   "metadata": {},
   "source": [
    "Create a graph representation of the model and load it into memory."
   ]
  },
  {
   "cell_type": "code",
   "execution_count": null,
   "id": "c7b4559b",
   "metadata": {},
   "outputs": [],
   "source": [
    "lpg = SysML2LabeledPropertyGraph()\n",
    "lpg.model = helper_client.model"
   ]
  },
  {
   "cell_type": "markdown",
   "id": "c998324f",
   "metadata": {},
   "source": [
    "This is just a helper to make abbreviations more legible."
   ]
  },
  {
   "cell_type": "code",
   "execution_count": null,
   "id": "d6dc34d2",
   "metadata": {},
   "outputs": [],
   "source": [
    "name_hints = {\n",
    "}"
   ]
  },
  {
   "cell_type": "markdown",
   "id": "5cd2266d",
   "metadata": {},
   "source": [
    "Create an interpretation of the Kerbal model using the random generator playbook. In general, this randomly selects:\n",
    "- The ratios of partitioning abstract classifier sequence sets into concrete sets. For example, one draw may choose 2 liquid stages and 3 solids.\n",
    "- The number of sequences to create for a given feature multiplicity. For example, draw 2 for a 0..8 engines : Liquid Engine PartUsage.\n",
    "\n",
    "The playbook also attempts to make sequences created obey the Subsetting relationship (elements marked with subsets in M1 model should have their interpretation sequences entirely included within the interpretation sequences of the superset)."
   ]
  },
  {
   "cell_type": "markdown",
   "id": "56286881",
   "metadata": {},
   "source": [
    "## Key IDs\n",
    "\n",
    "The unique identifiers below are useful references for walking through the interpretations generated in this notebook."
   ]
  },
  {
   "cell_type": "code",
   "execution_count": null,
   "id": "505b4c45-0d2d-4fe3-a85f-6080509a76eb",
   "metadata": {},
   "outputs": [],
   "source": [
    "SIMPLE_MODEL = \"Model::Simple Parts Model::\"\n",
    "FAKE_LIBRARY = \"Model::Simple Parts Model::Fake Library::\""
   ]
  },
  {
   "cell_type": "code",
   "execution_count": null,
   "id": "5f8020a1",
   "metadata": {},
   "outputs": [],
   "source": [
    "name_to_id_lookup = build_stable_id_lookups(lpg)[1]\n",
    "name_to_id_lookup"
   ]
  },
  {
   "cell_type": "code",
   "execution_count": null,
   "id": "63e3385d-ab6f-4c58-8e63-4bd003133282",
   "metadata": {},
   "outputs": [],
   "source": [
    "connection_id = name_to_id_lookup[f\"{FAKE_LIBRARY}Connection <<ConnectionDefinition>>\"]\n",
    "power_source_id = name_to_id_lookup[f\"{SIMPLE_MODEL}Power Group: Part::Power Source: Part <<PartUsage>>\"]\n",
    "power_user_id = name_to_id_lookup[f\"{SIMPLE_MODEL}Power Group: Part::Power User: Part <<PartUsage>>\"]\n",
    "part_id = name_to_id_lookup[f\"{FAKE_LIBRARY}Part <<PartDefinition>>\"]\n",
    "port_id = name_to_id_lookup[f\"{FAKE_LIBRARY}Port <<PortDefinition>>\"]\n",
    "power_in_id = name_to_id_lookup[f\"{SIMPLE_MODEL}Power Group: Part::Power User: Part::Power In: Port <<PortUsage>>\"]\n",
    "connect_use_id = name_to_id_lookup[f\"{SIMPLE_MODEL}Power Group: Part::powerToUser: Connection <<ConnectionUsage>>\"]\n",
    "power_group_id = name_to_id_lookup[f\"{SIMPLE_MODEL}Power Group: Part <<PartUsage>>\"]"
   ]
  },
  {
   "cell_type": "markdown",
   "id": "7058a095-59fa-496b-82f6-197c16ed843a",
   "metadata": {},
   "source": [
    "## M1 Model Exploration\n",
    "\n",
    "Look at the properties of M1 and do some queries to check on typing and multiplicity."
   ]
  },
  {
   "cell_type": "code",
   "execution_count": null,
   "id": "a6738ccb",
   "metadata": {},
   "outputs": [],
   "source": [
    "from pymbe.query.query import get_types_for_feature, get_features_typed_by_type, roll_up_multiplicity_for_type"
   ]
  },
  {
   "cell_type": "code",
   "execution_count": null,
   "id": "3ec4a7d5",
   "metadata": {},
   "outputs": [],
   "source": [
    "pprint_single_id_list(get_types_for_feature(lpg, power_source_id), lpg.model)"
   ]
  },
  {
   "cell_type": "code",
   "execution_count": null,
   "id": "a39ce48d",
   "metadata": {},
   "outputs": [],
   "source": [
    "pprint_single_id_list(get_features_typed_by_type(lpg, part_id), lpg.model)"
   ]
  },
  {
   "cell_type": "code",
   "execution_count": null,
   "id": "d03b2c2c",
   "metadata": {},
   "outputs": [],
   "source": [
    "roll_up_multiplicity_for_type(lpg, lpg.model.elements[connection_id], 'upper')"
   ]
  },
  {
   "cell_type": "code",
   "execution_count": null,
   "id": "c38f6492",
   "metadata": {},
   "outputs": [],
   "source": [
    "roll_up_multiplicity(lpg, lpg.model.elements[power_in_id], 'upper')"
   ]
  },
  {
   "cell_type": "code",
   "execution_count": null,
   "id": "789e51b2",
   "metadata": {},
   "outputs": [],
   "source": [
    "roll_up_multiplicity(lpg, lpg.model.elements[power_user_id], 'upper')"
   ]
  },
  {
   "cell_type": "code",
   "execution_count": null,
   "id": "cae0da1c",
   "metadata": {},
   "outputs": [],
   "source": [
    "roll_up_multiplicity(lpg, lpg.model.elements[connect_use_id], 'upper')"
   ]
  },
  {
   "cell_type": "code",
   "execution_count": null,
   "id": "54cdfe6a",
   "metadata": {},
   "outputs": [],
   "source": [
    "banded_featuring_graph = lpg.get_projection(\"Expanded Banded\")"
   ]
  },
  {
   "cell_type": "code",
   "execution_count": null,
   "id": "900b0f96",
   "metadata": {},
   "outputs": [],
   "source": [
    "banded_roots = [\n",
    "        node\n",
    "        for node in banded_featuring_graph.nodes\n",
    "        if banded_featuring_graph.out_degree(node) < 1\n",
    "    ]\n",
    "pprint_single_id_list(banded_roots, lpg.model)"
   ]
  },
  {
   "cell_type": "code",
   "execution_count": null,
   "id": "55e70e16",
   "metadata": {},
   "outputs": [],
   "source": [
    "from pymbe.interpretation.interp_playbooks import build_expression_sequence_templates\n",
    "from pymbe.label import get_label_for_id"
   ]
  },
  {
   "cell_type": "code",
   "execution_count": null,
   "id": "84bf4430",
   "metadata": {},
   "outputs": [],
   "source": [
    "expr_seqs = build_expression_sequence_templates(lpg)\n",
    "for seq in expr_seqs:\n",
    "    sig_seq = []\n",
    "    for item in seq:\n",
    "        sig_seq.append(get_label_for_id(item, helper_client.model))\n",
    "    print(sig_seq)"
   ]
  },
  {
   "cell_type": "code",
   "execution_count": null,
   "id": "d1c69cec",
   "metadata": {},
   "outputs": [],
   "source": [
    "from pymbe.query.metamodel_navigator import feature_multiplicity"
   ]
  },
  {
   "cell_type": "code",
   "execution_count": null,
   "id": "fa2f4412",
   "metadata": {},
   "outputs": [],
   "source": [
    "feature_multiplicity(lpg.model.elements[connection_id], \"upper\")"
   ]
  },
  {
   "cell_type": "code",
   "execution_count": null,
   "id": "203182ae",
   "metadata": {},
   "outputs": [],
   "source": [
    "from pymbe.interpretation.interp_playbooks import build_sequence_templates\n",
    "pprint_double_id_list(build_sequence_templates(lpg), lpg.model)"
   ]
  },
  {
   "cell_type": "code",
   "execution_count": null,
   "id": "f33918ae",
   "metadata": {},
   "outputs": [],
   "source": [
    "m0_interpretation = random_generator_playbook(\n",
    "    lpg,\n",
    "    name_hints,\n",
    ")"
   ]
  },
  {
   "cell_type": "markdown",
   "id": "7ece2c9d",
   "metadata": {},
   "source": [
    "To see how sequences are structured, the cell below renders sequences that show what type of atoms will fill particular positions in the sequence, as well as the maximum multiplicity (number of) sequences."
   ]
  },
  {
   "cell_type": "code",
   "execution_count": null,
   "id": "eb47c95f",
   "metadata": {},
   "outputs": [],
   "source": [
    "feat_sequences = build_sequence_templates(lpg=lpg)\n",
    "\n",
    "for sequence in feat_sequences:\n",
    "    print(\n",
    "        f\"{pprint_single_id_list(sequence, lpg.model)}, \"\n",
    "        f\"{roll_up_upper_multiplicity(lpg, lpg.model.elements[sequence[-1]])}\"\n",
    "    )"
   ]
  },
  {
   "cell_type": "code",
   "execution_count": null,
   "id": "a8c7a091",
   "metadata": {},
   "outputs": [],
   "source": [
    "for element in lpg.model.elements.values():\n",
    "    if element._data.get(\"type\"):\n",
    "        break\n",
    "        \n",
    "element, element.type"
   ]
  },
  {
   "cell_type": "markdown",
   "id": "4f8b6a99",
   "metadata": {},
   "source": [
    "## Calculation Results Shown\n",
    "\n",
    "The following cells are a series of displays of relevant features in the interpretation."
   ]
  },
  {
   "cell_type": "markdown",
   "id": "506a0fed",
   "metadata": {},
   "source": [
    "Show all interpretation sequence sets (limited to length of 5)."
   ]
  },
  {
   "cell_type": "code",
   "execution_count": null,
   "id": "8679b18d",
   "metadata": {},
   "outputs": [],
   "source": [
    "for print_line in pprint_interpretation(m0_interpretation, lpg.model):\n",
    "    print(print_line)"
   ]
  },
  {
   "cell_type": "code",
   "execution_count": null,
   "id": "752f26ed-1c10-4144-a98a-a5cf2e6651d4",
   "metadata": {},
   "outputs": [],
   "source": []
  }
 ],
 "metadata": {
  "kernelspec": {
   "display_name": "Python 3 (ipykernel)",
   "language": "python",
   "name": "python3"
  },
  "language_info": {
   "codemirror_mode": {
    "name": "ipython",
    "version": 3
   },
   "file_extension": ".py",
   "mimetype": "text/x-python",
   "name": "python",
   "nbconvert_exporter": "python",
   "pygments_lexer": "ipython3",
   "version": "3.9.5"
  }
 },
 "nbformat": 4,
 "nbformat_minor": 5
}
