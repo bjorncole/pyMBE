{
 "cells": [
  {
   "cell_type": "markdown",
   "id": "4b9ecba8-a490-44bf-9a31-b94faa77d3c3",
   "metadata": {},
   "source": [
    "# Playbook Explorer\n",
    "\n",
    "This notebook is intended to be a live example of how to work with SysML v2 models at analysis-time. For these purposes, the following terms are introduced:\n",
    "* An *interpretation* is the mapping of user model symbols (the \"M1 model\" in OMG-speak) into semantically-correct symbols that represent real world objects meant to conform to the model (the \"M0\" in OMG-speak). Interpretation semantics are inspired by https://www.w3.org/TR/owl2-direct-semantics/ and are mostly similar.\n",
    "* A *sequence* for an interpretation contains *atoms* or *instances* that match to real world things. Reading a sequence from left to right provides a set of nested contexts for the atoms that is important to the interpretation. For example [Rocket#0, LS#3] is a 2-sequence to describe facts around the LS#3 atom when it is considered in context for Rocket#0. This is an important idea for the SysML time and occurrence model where one may want to see how values change under different conditions.\n",
    "\n",
    "This is a notebook that walks through the random interpretation generator to help developers working on their own interpreters."
   ]
  },
  {
   "cell_type": "markdown",
   "id": "e405de1e-20e9-4763-a363-ddb6eb6fac9d",
   "metadata": {},
   "source": [
    "## Example Model\n",
    "\n",
    "The model that is used for this example is a very simple parts model.\n",
    "\n",
    "    package 'Simple Parts Model' {\n",
    "        package 'Fake Library' {\n",
    "            part def Part;\n",
    "            port def Port;\n",
    "            connection def Connection;\n",
    "        }\n",
    "    \n",
    "        part 'Power Group' : 'Fake Library'::Part {\n",
    "            part 'Power Source' : 'Fake Library'::Part {\n",
    "                port 'Power Out' : 'Fake Library'::Port;\n",
    "            }\n",
    "            part 'Power User' : 'Fake Library'::Part {\n",
    "                port 'Power In' : 'Fake Library'::Port;\n",
    "            }\n",
    "\n",
    "            connection powerToUser : 'Fake Library'::Connection connect 'Power Source'::'Power Out' to 'Power User'::'Power In';\n",
    "        }\n",
    "    \n",
    "    }"
   ]
  },
  {
   "cell_type": "markdown",
   "id": "5354f8ac-7cd4-4910-8cfc-d5b9e4fd0263",
   "metadata": {},
   "source": [
    "## Imports\n",
    "\n",
    "Import key modules, functions, and classes from the PyMBE library:"
   ]
  },
  {
   "cell_type": "code",
   "execution_count": 1,
   "id": "9dd5d23e-7a3a-4a8a-a297-c3598c048c4e",
   "metadata": {},
   "outputs": [],
   "source": [
    "import pymbe.api as pm\n",
    "from pymbe.label import get_label\n",
    "import networkx as nx\n",
    "import matplotlib.pyplot as plt\n",
    "\n",
    "from pymbe.interpretation.interp_playbooks import *\n",
    "from pymbe.interpretation.results import *\n",
    "\n",
    "from pymbe.client import SysML2Client\n",
    "from pymbe.query.metamodel_navigator import map_inputs_to_results\n",
    "\n",
    "from pymbe.interpretation.calc_dependencies import generate_execution_order\n",
    "\n",
    "import os\n",
    "\n",
    "from pymbe.graph.lpg import SysML2LabeledPropertyGraph"
   ]
  },
  {
   "cell_type": "markdown",
   "id": "e688d538-53b0-49c3-a805-c6ccb29c00dc",
   "metadata": {},
   "source": [
    "## Key IDs\n",
    "\n",
    "The unique identifiers below are useful references for walking through the interpretations generated in this notebook."
   ]
  },
  {
   "cell_type": "code",
   "execution_count": null,
   "id": "f14b53d3-bee3-4ca1-939f-fe2f8f410b7a",
   "metadata": {},
   "outputs": [],
   "source": []
  },
  {
   "cell_type": "markdown",
   "id": "4781f4e7-9176-4258-a3af-13076eeacb84",
   "metadata": {},
   "source": [
    "## Client Setup\n",
    "\n",
    "The example here uses a local copy of the JSON file obtained by a GET operation on the SysML v2 API at:\n",
    "http://sysml2-sst.intercax.com:9000/projects/a4f6a618-e4eb-4ac8-84b8-d6bcd3badcec/commits/c48aea9b-42fb-49b3-9a3e-9c39385408d7/elements?page[size]=5000"
   ]
  },
  {
   "cell_type": "markdown",
   "id": "9521c0ea-a498-4a37-b2c7-c7c4440157de",
   "metadata": {},
   "source": [
    "Create the client and load local data."
   ]
  },
  {
   "cell_type": "code",
   "execution_count": 2,
   "id": "b66f365e-ef81-42ba-bdae-2f5d239abe4f",
   "metadata": {},
   "outputs": [],
   "source": [
    "helper_client = SysML2Client()\n",
    "\n",
    "path = \"C:\\\\Users\\\\bjorn\\\\Documents\\\\Git\\\\pyMBE\"\n",
    "file_name = \"\\\\tests\\\\data\\\\Simple Parts Model\\\\elements.json\"\n",
    "\n",
    "helper_client._load_disk_elements(path + str(file_name))"
   ]
  },
  {
   "cell_type": "markdown",
   "id": "f9497fb5-64e1-476f-9d1a-295cc8794a48",
   "metadata": {},
   "source": [
    "Create a graph representation of the model and load it into memory."
   ]
  },
  {
   "cell_type": "code",
   "execution_count": 3,
   "id": "8faf098c-8e66-488c-9b28-b6f3a8be6a93",
   "metadata": {},
   "outputs": [],
   "source": [
    "lpg = SysML2LabeledPropertyGraph()\n",
    "lpg.update(helper_client.elements_by_id, False)"
   ]
  },
  {
   "cell_type": "markdown",
   "id": "1522f0a3-03b8-4784-86fa-ea1e3a59befa",
   "metadata": {},
   "source": [
    "This is just a helper to make abbreviations more legible."
   ]
  },
  {
   "cell_type": "code",
   "execution_count": 4,
   "id": "a890ad5d-62bc-4e22-a71e-2d66295c772e",
   "metadata": {},
   "outputs": [],
   "source": [
    "shorten_pre_bake = {\n",
    "}"
   ]
  },
  {
   "cell_type": "markdown",
   "id": "f35e1c75-0746-4297-b159-31dc16adca07",
   "metadata": {},
   "source": [
    "Create an interpretation of the Kerbal model using the random generator playbook. In general, this randomly selects:\n",
    "- The ratios of partitioning abstract classifier sequence sets into concrete sets. For example, one draw may choose 2 liquid stages and 3 solids.\n",
    "- The number of sequences to create for a given feature multiplicity. For example, draw 2 for a 0..8 engines : Liquid Engine PartUsage.\n",
    "\n",
    "The playbook also attempts to make sequences created obey the Subsetting relationship (elements marked with subsets in M1 model should have their interpretation sequences entirely included within the interpretation sequences of the superset)."
   ]
  },
  {
   "cell_type": "code",
   "execution_count": 5,
   "id": "beee1167-dc08-4bc7-8784-9cde8c86ba5e",
   "metadata": {},
   "outputs": [],
   "source": [
    "part_id = 'a1eb8672-fdc4-446e-a004-861974660152'\n",
    "port_id = 'f29c8a2e-a7d3-4685-bfbb-3d54b5dd704c'\n",
    "connection_id = '9739035d-8c51-4eab-8ab9-ed703a21f1c4'"
   ]
  },
  {
   "cell_type": "code",
   "execution_count": 6,
   "id": "e312d2cb-66ea-4ff4-8dc7-99bb4de175dc",
   "metadata": {},
   "outputs": [],
   "source": [
    "from pymbe.query.query import get_types_for_feature, get_features_typed_by_type, roll_up_multiplicity_for_type"
   ]
  },
  {
   "cell_type": "code",
   "execution_count": 7,
   "id": "cb5cebee-7e86-40c0-a7c5-3e5987fedb01",
   "metadata": {},
   "outputs": [
    {
     "data": {
      "text/plain": [
       "['f29c8a2e-a7d3-4685-bfbb-3d54b5dd704c']"
      ]
     },
     "execution_count": 7,
     "metadata": {},
     "output_type": "execute_result"
    }
   ],
   "source": [
    "get_types_for_feature(lpg, '7328c370-26d7-40e4-9a36-c88ef76c7d30')"
   ]
  },
  {
   "cell_type": "code",
   "execution_count": 8,
   "id": "bd394c21-099d-4e6f-8182-97070e23531b",
   "metadata": {},
   "outputs": [
    {
     "data": {
      "text/plain": [
       "['4f446a59-bc83-4285-aa2b-6c5dd9bd5541',\n",
       " '648fd9b3-2a6e-40e8-b3e9-b8ebb407ce07',\n",
       " 'eb96afae-0f09-4912-861e-705bb33a4202']"
      ]
     },
     "execution_count": 8,
     "metadata": {},
     "output_type": "execute_result"
    }
   ],
   "source": [
    "get_features_typed_by_type(lpg, part_id)"
   ]
  },
  {
   "cell_type": "code",
   "execution_count": 9,
   "id": "746e2571-84a4-4c4c-ab8a-a5b8d86a1bcf",
   "metadata": {},
   "outputs": [
    {
     "name": "stderr",
     "output_type": "stream",
     "text": [
      "c:\\users\\bjorn\\documents\\git\\pymbe\\src\\pymbe\\graph\\lpg.py:388: UserWarning: These node types are not in the graph: {'ReferenceUsage'}.\n",
      "  warn(f\"These node types are not in the graph: {mismatched_node_types}.\")\n",
      "c:\\users\\bjorn\\documents\\git\\pymbe\\src\\pymbe\\graph\\lpg.py:395: UserWarning: These edge types are not in the graph: {'ParameterMembership', 'FeatureValue', 'ReturnParameterMembership'}.\n",
      "  warn(f\"These edge types are not in the graph: {mismatched_edge_types}.\")\n"
     ]
    },
    {
     "data": {
      "text/plain": [
       "1"
      ]
     },
     "execution_count": 9,
     "metadata": {},
     "output_type": "execute_result"
    }
   ],
   "source": [
    "roll_up_multiplicity_for_type(lpg, helper_client.elements_by_id[connection_id], 'upper')"
   ]
  },
  {
   "cell_type": "code",
   "execution_count": 10,
   "id": "20dd9cd1-c7e7-41d1-9f70-d3abc399e9f1",
   "metadata": {},
   "outputs": [
    {
     "data": {
      "text/plain": [
       "1"
      ]
     },
     "execution_count": 10,
     "metadata": {},
     "output_type": "execute_result"
    }
   ],
   "source": [
    "roll_up_multiplicity(lpg, helper_client.elements_by_id['eb96afae-0f09-4912-861e-705bb33a4202'], 'upper')"
   ]
  },
  {
   "cell_type": "code",
   "execution_count": 11,
   "id": "811e902a-33b5-4503-b656-cda088e8745a",
   "metadata": {},
   "outputs": [
    {
     "data": {
      "text/plain": [
       "1"
      ]
     },
     "execution_count": 11,
     "metadata": {},
     "output_type": "execute_result"
    }
   ],
   "source": [
    "roll_up_multiplicity(lpg, helper_client.elements_by_id['648fd9b3-2a6e-40e8-b3e9-b8ebb407ce07'], 'upper')"
   ]
  },
  {
   "cell_type": "code",
   "execution_count": 12,
   "id": "c5335494-1dc3-4f74-92a6-1b4efa9ab7ef",
   "metadata": {},
   "outputs": [
    {
     "data": {
      "text/plain": [
       "1"
      ]
     },
     "execution_count": 12,
     "metadata": {},
     "output_type": "execute_result"
    }
   ],
   "source": [
    "roll_up_multiplicity(lpg, helper_client.elements_by_id['4f446a59-bc83-4285-aa2b-6c5dd9bd5541'], 'upper')"
   ]
  },
  {
   "cell_type": "code",
   "execution_count": 13,
   "id": "3f950b20-2dac-41cb-960e-f3c83b05081e",
   "metadata": {},
   "outputs": [],
   "source": [
    "banded_featuring_graph = lpg.get_projection(\"Expanded Banded Graph\")"
   ]
  },
  {
   "cell_type": "code",
   "execution_count": 14,
   "id": "548f1c60-38df-4864-8c55-4dc10a6115da",
   "metadata": {},
   "outputs": [
    {
     "data": {
      "text/plain": [
       "['eb96afae-0f09-4912-861e-705bb33a4202']"
      ]
     },
     "execution_count": 14,
     "metadata": {},
     "output_type": "execute_result"
    }
   ],
   "source": [
    "banded_roots = [\n",
    "        node\n",
    "        for node in banded_featuring_graph.nodes\n",
    "        if banded_featuring_graph.out_degree(node) < 1\n",
    "    ]\n",
    "banded_roots"
   ]
  },
  {
   "cell_type": "code",
   "execution_count": 15,
   "id": "8bd29ae6-e255-4a04-b0a8-b708c39ca6d6",
   "metadata": {},
   "outputs": [],
   "source": [
    "from pymbe.interpretation.interp_playbooks import build_expression_sequence_templates\n",
    "from pymbe.label import get_label_for_id"
   ]
  },
  {
   "cell_type": "code",
   "execution_count": 16,
   "id": "c0614a10-966c-48d6-8d49-a046a7a9c0cf",
   "metadata": {},
   "outputs": [],
   "source": [
    "expr_seqs = build_expression_sequence_templates(lpg)\n",
    "for seq in expr_seqs:\n",
    "    sig_seq = []\n",
    "    for item in seq:\n",
    "        sig_seq.append(get_label_for_id(item, helper_client.elements_by_id))\n",
    "    print(sig_seq)"
   ]
  },
  {
   "cell_type": "code",
   "execution_count": 17,
   "id": "7d7221c8-3181-4179-ab4e-9e319d067291",
   "metadata": {},
   "outputs": [],
   "source": [
    "from pymbe.query.metamodel_navigator import feature_multiplicity"
   ]
  },
  {
   "cell_type": "code",
   "execution_count": 18,
   "id": "674de106-d419-40c8-a307-40167fcafa4d",
   "metadata": {},
   "outputs": [
    {
     "data": {
      "text/plain": [
       "1"
      ]
     },
     "execution_count": 18,
     "metadata": {},
     "output_type": "execute_result"
    }
   ],
   "source": [
    "feature_multiplicity(helper_client.elements_by_id[connection_id], helper_client.elements_by_id, \"upper\")"
   ]
  },
  {
   "cell_type": "code",
   "execution_count": 19,
   "id": "12973f18-8fd4-4bcd-8aa5-50342af9f4c2",
   "metadata": {},
   "outputs": [
    {
     "data": {
      "text/plain": [
       "[['eb96afae-0f09-4912-861e-705bb33a4202',\n",
       "  '4f446a59-bc83-4285-aa2b-6c5dd9bd5541',\n",
       "  'babeb025-52f3-4ebe-9f0f-0414a4b6240d'],\n",
       " ['eb96afae-0f09-4912-861e-705bb33a4202',\n",
       "  '648fd9b3-2a6e-40e8-b3e9-b8ebb407ce07',\n",
       "  '7328c370-26d7-40e4-9a36-c88ef76c7d30'],\n",
       " ['eb96afae-0f09-4912-861e-705bb33a4202',\n",
       "  'c109629e-dbf1-4708-bba7-63c8cb647484']]"
      ]
     },
     "execution_count": 19,
     "metadata": {},
     "output_type": "execute_result"
    }
   ],
   "source": [
    "from pymbe.interpretation.interp_playbooks import build_sequence_templates\n",
    "build_sequence_templates(lpg)"
   ]
  },
  {
   "cell_type": "code",
   "execution_count": 20,
   "id": "cc64cbc6-c15b-4f79-84dc-1af698b5963f",
   "metadata": {},
   "outputs": [
    {
     "name": "stderr",
     "output_type": "stream",
     "text": [
      "c:\\users\\bjorn\\documents\\git\\pymbe\\src\\pymbe\\graph\\lpg.py:395: UserWarning: These edge types are not in the graph: {'ParameterMembership', 'ResultExpressionMembership'}.\n",
      "  warn(f\"These edge types are not in the graph: {mismatched_edge_types}.\")\n",
      "c:\\users\\bjorn\\documents\\git\\pymbe\\src\\pymbe\\graph\\lpg.py:395: UserWarning: These edge types are not in the graph: {'Superclassing'}.\n",
      "  warn(f\"These edge types are not in the graph: {mismatched_edge_types}.\")\n"
     ]
    }
   ],
   "source": [
    "m0_interpretation = random_generator_playbook(\n",
    "    helper_client,\n",
    "    lpg,\n",
    "    shorten_pre_bake\n",
    ")"
   ]
  },
  {
   "cell_type": "markdown",
   "id": "37b882b2-f601-4c61-a8a9-4029b2e7381d",
   "metadata": {},
   "source": [
    "To see how sequences are structured, the cell below renders sequences that show what type of atoms will fill particular positions in the sequence, as well as the maximum multiplicity (number of) sequences."
   ]
  },
  {
   "cell_type": "code",
   "execution_count": 21,
   "id": "f203759a-6a70-4a56-8799-2338ee6080c1",
   "metadata": {},
   "outputs": [
    {
     "name": "stdout",
     "output_type": "stream",
     "text": [
      "['Power Group: Part', 'Power Source: Part', 'Power Out: Port'], 1\n",
      "['Power Group: Part', 'Power User: Part', 'Power In: Port'], 1\n",
      "['Power Group: Part', 'powerToUser: Connection'], 1\n"
     ]
    }
   ],
   "source": [
    "from pymbe.query.query import roll_up_upper_multiplicity, roll_up_multiplicity_for_type\n",
    "\n",
    "feat_sequences = build_sequence_templates(lpg=lpg)\n",
    "\n",
    "total = 0\n",
    "for seq in feat_sequences:\n",
    "    print(str(pprint_single_id_list(seq, lpg.nodes)) + \", \" + str(roll_up_upper_multiplicity(lpg, lpg.nodes[seq[-1]])))"
   ]
  },
  {
   "cell_type": "markdown",
   "id": "461a6537-2b8a-49f4-897b-c57a9888800f",
   "metadata": {},
   "source": [
    "## Calculation Results Shown\n",
    "\n",
    "The following cells are a series of displays of relevant features in the interpretation."
   ]
  },
  {
   "cell_type": "markdown",
   "id": "ed5b0fbd-9d75-45af-971c-b334798340fb",
   "metadata": {},
   "source": [
    "Show all interpretation sequence sets (limited to length of 5)."
   ]
  },
  {
   "cell_type": "code",
   "execution_count": 22,
   "id": "54a33294-b833-45f9-a5f9-f70b9231aa96",
   "metadata": {},
   "outputs": [
    {
     "name": "stdout",
     "output_type": "stream",
     "text": [
      "Port, id = f29c8a2e-a7d3-4685-bfbb-3d54b5dd704c, size = 2\n",
      "[Port#0]\n",
      "[Port#1]\n",
      "Connection, id = 9739035d-8c51-4eab-8ab9-ed703a21f1c4, size = 1\n",
      "[Connection#0]\n",
      "Part, id = a1eb8672-fdc4-446e-a004-861974660152, size = 3\n",
      "[Part#0]\n",
      "[Part#1]\n",
      "[Part#2]\n",
      "Power Group: Part, id = eb96afae-0f09-4912-861e-705bb33a4202, size = 1\n",
      "[Part#0]\n",
      "Power Source: Part, id = 4f446a59-bc83-4285-aa2b-6c5dd9bd5541, size = 1\n",
      "[Part#0, Part#1]\n",
      "Power Out: Port, id = babeb025-52f3-4ebe-9f0f-0414a4b6240d, size = 1\n",
      "[Part#0, Part#1, Port#0]\n",
      "Power User: Part, id = 648fd9b3-2a6e-40e8-b3e9-b8ebb407ce07, size = 1\n",
      "[Part#0, Part#2]\n",
      "Power In: Port, id = 7328c370-26d7-40e4-9a36-c88ef76c7d30, size = 1\n",
      "[Part#0, Part#2, Port#1]\n",
      "powerToUser: Connection, id = c109629e-dbf1-4708-bba7-63c8cb647484, size = 1\n",
      "[Part#0, Connection#0]\n",
      "15e0e4a3-7a35-4495-8111-cbe004f6fdda «Feature», id = 15e0e4a3-7a35-4495-8111-cbe004f6fdda, size = 1\n",
      "[Part#0, Connection#0, Part#0, Part#1, Port#0]\n",
      "7c8c4bb7-8f20-41a9-947e-978eb36fc0ff «Feature», id = 7c8c4bb7-8f20-41a9-947e-978eb36fc0ff, size = 1\n",
      "[Part#0, Connection#0, Part#0, Part#2, Port#1]\n"
     ]
    }
   ],
   "source": [
    "for print_line in pprint_interpretation(m0_interpretation, lpg.nodes):\n",
    "    print(print_line)"
   ]
  },
  {
   "cell_type": "code",
   "execution_count": null,
   "id": "2cbd43d5-ff88-4df8-b561-dab8119c5fc0",
   "metadata": {},
   "outputs": [],
   "source": []
  }
 ],
 "metadata": {
  "kernelspec": {
   "display_name": "Python 3",
   "language": "python",
   "name": "python3"
  },
  "language_info": {
   "codemirror_mode": {
    "name": "ipython",
    "version": 3
   },
   "file_extension": ".py",
   "mimetype": "text/x-python",
   "name": "python",
   "nbconvert_exporter": "python",
   "pygments_lexer": "ipython3",
   "version": "3.9.4"
  }
 },
 "nbformat": 4,
 "nbformat_minor": 5
}
