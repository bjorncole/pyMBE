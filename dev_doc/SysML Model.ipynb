{
 "cells": [
  {
   "cell_type": "markdown",
   "id": "0bc6a46d-16af-4d67-9390-a544df71974f",
   "metadata": {},
   "source": [
    "# Using the Model\n",
    "\n",
    "> This notebook explains how one can load a SysML v2 model and interact with the data"
   ]
  },
  {
   "cell_type": "code",
   "execution_count": null,
   "id": "0c184bf4-bbec-49d7-9a41-fec97291fa8a",
   "metadata": {},
   "outputs": [],
   "source": [
    "from pathlib import Path\n",
    "\n",
    "import pymbe.api as pm"
   ]
  },
  {
   "cell_type": "code",
   "execution_count": null,
   "id": "482ba0f6-524c-4545-969e-980845ad1627",
   "metadata": {},
   "outputs": [],
   "source": [
    "MODEL_PATH = Path(pm.__file__).parent / \"../../tests/fixtures/Kerbal.json\""
   ]
  },
  {
   "cell_type": "code",
   "execution_count": null,
   "id": "447d028f-6d83-42e0-9949-b9a6e6d9cf39",
   "metadata": {},
   "outputs": [],
   "source": [
    "model = pm.Model.load_from_file(MODEL_PATH)\n",
    "model"
   ]
  },
  {
   "cell_type": "markdown",
   "id": "df8403cd-c185-47a2-a266-09dc1297686c",
   "metadata": {},
   "source": [
    "all the model elements are stored under `model.elements` and can be retrieved by their SysML identifier"
   ]
  },
  {
   "cell_type": "code",
   "execution_count": null,
   "id": "1c2a5e80-9991-460f-9f54-74e5ce91f57f",
   "metadata": {},
   "outputs": [],
   "source": [
    "an_element = model.elements[\"20511137-d751-4baf-ac4b-994a8e65ad3d\"]\n",
    "an_element"
   ]
  },
  {
   "cell_type": "markdown",
   "id": "8074673b-d418-4075-89c7-6301403479c8",
   "metadata": {},
   "source": [
    "and their properties are resolved to the appropriate element"
   ]
  },
  {
   "cell_type": "code",
   "execution_count": null,
   "id": "41c64ac7-40f0-4c60-a6fb-3c944147c33e",
   "metadata": {},
   "outputs": [],
   "source": [
    "an_element.relatedElement[0].value"
   ]
  },
  {
   "cell_type": "code",
   "execution_count": null,
   "id": "566c10bb-a4e2-4e60-941f-44a4be6b2bee",
   "metadata": {},
   "outputs": [],
   "source": [
    "assert an_element.target[0].reverseReturnParameterMembership[0] == an_element.relatedElement[0]"
   ]
  },
  {
   "cell_type": "code",
   "execution_count": null,
   "id": "65c11863-7bdb-4778-a32e-8ee4a783e38b",
   "metadata": {},
   "outputs": [],
   "source": [
    "# TODO: REPR the relationships as (a)-[r:RELTYPE {name: a.name + '<->' + b.name}]->(b)"
   ]
  }
 ],
 "metadata": {
  "kernelspec": {
   "display_name": "Python 3 (ipykernel)",
   "language": "python",
   "name": "python3"
  },
  "language_info": {
   "codemirror_mode": {
    "name": "ipython",
    "version": 3
   },
   "file_extension": ".py",
   "mimetype": "text/x-python",
   "name": "python",
   "nbconvert_exporter": "python",
   "pygments_lexer": "ipython3",
   "version": "3.9.5"
  }
 },
 "nbformat": 4,
 "nbformat_minor": 5
}
