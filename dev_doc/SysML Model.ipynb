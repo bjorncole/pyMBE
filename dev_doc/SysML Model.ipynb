{
 "cells": [
  {
   "cell_type": "markdown",
   "id": "0bc6a46d-16af-4d67-9390-a544df71974f",
   "metadata": {},
   "source": [
    "# Using the Model\n",
    "\n",
    "> This notebook explains how one can load a SysML v2 model and interact with the data"
   ]
  },
  {
   "cell_type": "code",
   "execution_count": null,
   "id": "0c184bf4-bbec-49d7-9a41-fec97291fa8a",
   "metadata": {},
   "outputs": [],
   "source": [
    "from pathlib import Path\n",
    "\n",
    "import pymbe.api as pm"
   ]
  },
  {
   "cell_type": "code",
   "execution_count": null,
   "id": "482ba0f6-524c-4545-969e-980845ad1627",
   "metadata": {},
   "outputs": [],
   "source": [
    "fixtures_folder = Path(pm.__file__).parent / \"../../tests/fixtures/\""
   ]
  },
  {
   "cell_type": "code",
   "execution_count": null,
   "id": "447d028f-6d83-42e0-9949-b9a6e6d9cf39",
   "metadata": {},
   "outputs": [],
   "source": [
    "model = pm.Model.load_from_file(fixtures_folder / \"Kerbal.json\")\n",
    "# model = pm.Model.load_from_file(list(fixtures_folder.glob(\"*.json\"))[6])\n",
    "\n",
    "model"
   ]
  },
  {
   "cell_type": "markdown",
   "id": "c8f75ebc-616e-4194-9669-f627e53233a0",
   "metadata": {},
   "source": [
    "you can save the model back to a file"
   ]
  },
  {
   "cell_type": "code",
   "execution_count": null,
   "id": "957e8000-49d8-477e-97ac-64693c82d842",
   "metadata": {},
   "outputs": [],
   "source": [
    "model.save_to_file(\"New Kerbal.json\")"
   ]
  },
  {
   "cell_type": "markdown",
   "id": "de4a0e71-78e1-4110-bed6-7fa85650077a",
   "metadata": {},
   "source": [
    "and load it back..."
   ]
  },
  {
   "cell_type": "code",
   "execution_count": null,
   "id": "e00ac3af-2aae-4c89-9c55-3f7f6c3ac964",
   "metadata": {},
   "outputs": [],
   "source": [
    "new_model = pm.Model.load_from_file(\"New Kerbal.json\")\n",
    "\n",
    "assert len(new_model.elements) == len(model.elements)"
   ]
  },
  {
   "cell_type": "markdown",
   "id": "ba964a83-c004-4a72-9511-0097206b0406",
   "metadata": {},
   "source": [
    "the model can own elements (`.ownedElement`) and relationships (`.ownedRelationship`), and an element can be retrieved by name"
   ]
  },
  {
   "cell_type": "markdown",
   "id": "848b3695-3724-49b0-aa33-cd349c17743e",
   "metadata": {},
   "source": [
    "model.ownedElement[0].ownedElement[\"14a-Language Extensions\"].ownedElement[\"User Defined Extensions\"].ownedElement[\"ClassificationLevel\"].data"
   ]
  },
  {
   "cell_type": "code",
   "execution_count": null,
   "id": "9beacde7-9c20-4a34-aed1-ab8695b2ab79",
   "metadata": {},
   "outputs": [],
   "source": [
    "kerbal = model.ownedElement[\"Kerbal\"]\n",
    "\n",
    "assert kerbal.name == \"Kerbal\"\n",
    "\n",
    "kerbal"
   ]
  },
  {
   "cell_type": "markdown",
   "id": "8cfe2427-e65b-4e8c-a42d-281163aae901",
   "metadata": {},
   "source": [
    "this can be done sequentially through the chain of element ownership"
   ]
  },
  {
   "cell_type": "code",
   "execution_count": null,
   "id": "8a68a911-51e5-4578-a334-c59b0b1875a4",
   "metadata": {},
   "outputs": [],
   "source": [
    "kerbal.ownedElement[\"Parts Library\"].ownedElement[\"FL-T200 Fuel Tank\"].ownedElement[\"Empty Mass\"].ownedElement[0][\"value\"]"
   ]
  },
  {
   "cell_type": "code",
   "execution_count": null,
   "id": "9cd911a3-7044-44ea-b236-364d8e78c256",
   "metadata": {},
   "outputs": [],
   "source": [
    "assert kerbal.ownedElement[\"Parts Library\"].ownedElement[\"FL-T200 Fuel Tank\"].ownedElement[\"Empty Mass\"].ownedElement[0].value == 0.125"
   ]
  },
  {
   "cell_type": "markdown",
   "id": "df8403cd-c185-47a2-a266-09dc1297686c",
   "metadata": {},
   "source": [
    "all the model elements are stored under `model.elements` and can be retrieved by their SysML identifier"
   ]
  },
  {
   "cell_type": "code",
   "execution_count": null,
   "id": "1c2a5e80-9991-460f-9f54-74e5ce91f57f",
   "metadata": {},
   "outputs": [],
   "source": [
    "a_return_parameter_membership = model.elements[\"20511137-d751-4baf-ac4b-994a8e65ad3d\"]\n",
    "a_return_parameter_membership"
   ]
  },
  {
   "cell_type": "markdown",
   "id": "8074673b-d418-4075-89c7-6301403479c8",
   "metadata": {},
   "source": [
    "and their properties are resolved to the appropriate element"
   ]
  },
  {
   "cell_type": "code",
   "execution_count": null,
   "id": "41c64ac7-40f0-4c60-a6fb-3c944147c33e",
   "metadata": {},
   "outputs": [],
   "source": [
    "a_return_parameter_membership.relatedElement[0].value"
   ]
  },
  {
   "cell_type": "markdown",
   "id": "7b530ea4-bd0d-495c-97f3-3bb262e911c3",
   "metadata": {},
   "source": [
    "because of the nature of the data, there are multiple ways to refer to the same element, and the interactions allow for that"
   ]
  },
  {
   "cell_type": "code",
   "execution_count": null,
   "id": "566c10bb-a4e2-4e60-941f-44a4be6b2bee",
   "metadata": {},
   "outputs": [],
   "source": [
    "assert a_return_parameter_membership.target.reverseReturnParameterMembership == a_return_parameter_membership.relatedElement[0]"
   ]
  },
  {
   "cell_type": "code",
   "execution_count": null,
   "id": "a2d40035-4261-4714-ba3b-3991d1334571",
   "metadata": {},
   "outputs": [],
   "source": [
    "assert a_return_parameter_membership._id == a_return_parameter_membership._data[\"@id\"]"
   ]
  },
  {
   "cell_type": "code",
   "execution_count": null,
   "id": "65c11863-7bdb-4778-a32e-8ee4a783e38b",
   "metadata": {},
   "outputs": [],
   "source": [
    "model.elements[\"0b6a7f54-f8bf-4a16-b5aa-a309321256c1\"].source.throughSuperclassing.name == \"Kerbal Rocket Part\""
   ]
  },
  {
   "cell_type": "markdown",
   "id": "7c155805-4471-4da5-af3e-d3d33d00bb5a",
   "metadata": {},
   "source": [
    "we can also explore all the relationships in a given element\n",
    "\n",
    "a `through<Relationship Metatype>` is attached to the source, while a `reverse<Relationship Metatype>` is attached to the targer"
   ]
  },
  {
   "cell_type": "code",
   "execution_count": null,
   "id": "35227485-dc58-419b-9255-16719360072a",
   "metadata": {},
   "outputs": [],
   "source": [
    "an_element = a_return_parameter_membership.relatedElement[1]\n",
    "\n",
    "a_return_parameter_membership.target.relationships"
   ]
  },
  {
   "cell_type": "markdown",
   "id": "cd45163c-87c7-4621-9ba1-acb1d0f06398",
   "metadata": {},
   "source": [
    "we can also see all the relationships"
   ]
  },
  {
   "cell_type": "code",
   "execution_count": null,
   "id": "a652f8c4-bffa-4bc6-9c44-a01f633eadcb",
   "metadata": {
    "tags": []
   },
   "outputs": [],
   "source": [
    "from pprint import pprint\n",
    "\n",
    "\n",
    "for element_id, element in model.elements.items():\n",
    "    name = element.qualifiedName or element_id\n",
    "    relationships = element.relationships\n",
    "\n",
    "    if not relationships:\n",
    "        continue\n",
    "    print(\"\\n\", name)\n",
    "    pprint(relationships)"
   ]
  }
 ],
 "metadata": {
  "kernelspec": {
   "display_name": "Python 3 (ipykernel)",
   "language": "python",
   "name": "python3"
  },
  "language_info": {
   "codemirror_mode": {
    "name": "ipython",
    "version": 3
   },
   "file_extension": ".py",
   "mimetype": "text/x-python",
   "name": "python",
   "nbconvert_exporter": "python",
   "pygments_lexer": "ipython3",
   "version": "3.9.5"
  }
 },
 "nbformat": 4,
 "nbformat_minor": 5
}
