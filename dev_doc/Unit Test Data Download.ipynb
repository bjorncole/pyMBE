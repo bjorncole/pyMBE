{
 "cells": [
  {
   "cell_type": "markdown",
   "id": "8ae760a7-c8b3-44a3-96d4-c466f89fb82e",
   "metadata": {},
   "source": [
    "# Unit Test Downloader\n",
    "This notebook collects the commands to download a version of the unit test models from the SysML reference implementation API site."
   ]
  },
  {
   "cell_type": "code",
   "execution_count": 1,
   "id": "ed9fb047-1683-44d0-9b97-305bddd9e412",
   "metadata": {},
   "outputs": [],
   "source": [
    "from pymbe.local.bundle import download_to_local"
   ]
  },
  {
   "cell_type": "markdown",
   "id": "936307b5-79d8-497c-a0e2-14cde6fd1fdc",
   "metadata": {},
   "source": [
    "To configure the statement below, look for the project and commit ids at . Then put your desired download directory below. Forward slashes work fine, even on Windows."
   ]
  },
  {
   "cell_type": "code",
   "execution_count": 2,
   "id": "7242026b-c564-4861-80a6-da4086b416c6",
   "metadata": {},
   "outputs": [
    {
     "name": "stdout",
     "output_type": "stream",
     "text": [
      "http://sysml2-sst.intercax.com:9000/projects/cd250ff2-12b0-4394-9fb8-34898cb577b0/commits/9e33c634-d5b8-43a0-ae72-e37a12268643/elements?page[size]=5000\n"
     ]
    }
   ],
   "source": [
    "download_to_local(\n",
    "    \"http://sysml2-sst.intercax.com\",\n",
    "    \"Simple Parts Model\",\n",
    "    \"cd250ff2-12b0-4394-9fb8-34898cb577b0\",\n",
    "    \"9e33c634-d5b8-43a0-ae72-e37a12268643\",\n",
    "    \"C:/Users/bjorn/Documents/Project Dany\"\n",
    ")"
   ]
  },
  {
   "cell_type": "markdown",
   "id": "c46b5114-bb64-4b16-a22f-ab1d9e7478e3",
   "metadata": {},
   "source": [
    "Inspect the data that have been downloaded (don't load into client yet)."
   ]
  },
  {
   "cell_type": "code",
   "execution_count": null,
   "id": "af6ad9b8-a024-4ba3-9ce2-a541cf2ad08b",
   "metadata": {},
   "outputs": [],
   "source": [
    "import json\n",
    "element_json = json.loads(open(\"C:\\\\Users\\\\bjorn\\\\Documents\\\\Project Dany\\\\Kerbal 2\\\\elements.json\", \"r\").read())"
   ]
  },
  {
   "cell_type": "code",
   "execution_count": null,
   "id": "804e3a19-d913-401d-9c42-c21e3b19f650",
   "metadata": {},
   "outputs": [],
   "source": [
    "expr_types = ('Expression', 'OperatorExpression', 'InvocationExpression', 'FeatureReferenceExpression')"
   ]
  },
  {
   "cell_type": "code",
   "execution_count": null,
   "id": "715e5594-7901-480b-b78f-bc5c6f5868da",
   "metadata": {},
   "outputs": [],
   "source": [
    "exprs = [expr for expr in element_json if expr['@type'] in expr_types]"
   ]
  },
  {
   "cell_type": "code",
   "execution_count": null,
   "id": "4f35c9c6-0c01-4355-8ae5-429edf3c02cd",
   "metadata": {},
   "outputs": [],
   "source": [
    "len(exprs)"
   ]
  },
  {
   "cell_type": "code",
   "execution_count": null,
   "id": "c76b0707-1f82-47a7-99a8-335b12d7d2fa",
   "metadata": {},
   "outputs": [],
   "source": [
    "keyed_elements =  {\n",
    "            element[\"@id\"]: element\n",
    "            for element in element_json\n",
    "        }"
   ]
  },
  {
   "cell_type": "code",
   "execution_count": null,
   "id": "72795c18-36a5-4aec-accd-2eb3a57fb6ce",
   "metadata": {},
   "outputs": [],
   "source": [
    "from pymbe.label import get_qualified_label\n",
    "\n",
    "get_qualified_label(exprs[2], keyed_elements)"
   ]
  },
  {
   "cell_type": "code",
   "execution_count": null,
   "id": "3e58a1a1-1ee6-4b2f-8046-a0cbb07a1d40",
   "metadata": {},
   "outputs": [],
   "source": [
    "exprs[2]['owner']['@id']"
   ]
  },
  {
   "cell_type": "code",
   "execution_count": null,
   "id": "9c67ffd0-27ca-4bba-a8af-86b3423a78a0",
   "metadata": {},
   "outputs": [],
   "source": []
  }
 ],
 "metadata": {
  "kernelspec": {
   "display_name": "Python 3",
   "language": "python",
   "name": "python3"
  },
  "language_info": {
   "codemirror_mode": {
    "name": "ipython",
    "version": 3
   },
   "file_extension": ".py",
   "mimetype": "text/x-python",
   "name": "python",
   "nbconvert_exporter": "python",
   "pygments_lexer": "ipython3",
   "version": "3.9.4"
  }
 },
 "nbformat": 4,
 "nbformat_minor": 5
}
