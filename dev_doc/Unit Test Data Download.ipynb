{
 "cells": [
  {
   "cell_type": "markdown",
   "id": "8ae760a7-c8b3-44a3-96d4-c466f89fb82e",
   "metadata": {},
   "source": [
    "# Unit Test Downloader and Metadata Extractor\n",
    "This notebook collects the commands to download a version of the unit test models from the SysML reference implementation API site."
   ]
  },
  {
   "cell_type": "markdown",
   "id": "0d3fc31b-69cd-43c7-b256-83010d4e32e8",
   "metadata": {},
   "source": [
    "## Download Data from the Server\n",
    "\n",
    "Contact the API server and pull down relevant data."
   ]
  },
  {
   "cell_type": "code",
   "execution_count": null,
   "id": "ed9fb047-1683-44d0-9b97-305bddd9e412",
   "metadata": {},
   "outputs": [],
   "source": [
    "import json\n",
    "from pathlib import Path\n",
    "\n",
    "from pymbe.local.bundle import download_to_local\n",
    "\n",
    "import pymbe.api as pm\n",
    "from pymbe.client import SysML2Client\n",
    "from pymbe.label import *\n",
    "from pymbe.graph.lpg import SysML2LabeledPropertyGraph\n",
    "from pymbe.interpretation.calc_dependencies import *"
   ]
  },
  {
   "cell_type": "markdown",
   "id": "936307b5-79d8-497c-a0e2-14cde6fd1fdc",
   "metadata": {},
   "source": [
    "To configure the statement below, look for the project and commit ids at . Then put your desired download directory below. Forward slashes work fine, even on Windows."
   ]
  },
  {
   "cell_type": "code",
   "execution_count": null,
   "id": "69e835a0-01e4-433e-8501-b32ff02fc8cc",
   "metadata": {},
   "outputs": [],
   "source": [
    "fixtures = Path(\"..\") / \"tests\" / \"fixtures\""
   ]
  },
  {
   "cell_type": "code",
   "execution_count": null,
   "id": "7242026b-c564-4861-80a6-da4086b416c6",
   "metadata": {},
   "outputs": [],
   "source": [
    "download_to_local(\n",
    "    \"http://sysml2.intercax.com\",\n",
    "    \"Kerbal.json\",\n",
    "    \"2141dcd2-33b5-4ca7-b284-8ff4bb150b52\",\n",
    "    \"de71ca5b-8a53-4fb2-a0a3-afde48b04aba\",\n",
    "    str(fixtures.absolute()),\n",
    ")"
   ]
  },
  {
   "cell_type": "markdown",
   "id": "c46b5114-bb64-4b16-a22f-ab1d9e7478e3",
   "metadata": {},
   "source": [
    "Inspect the data that have been downloaded (don't load into client yet)."
   ]
  },
  {
   "cell_type": "markdown",
   "id": "3f5624db-61a9-4d8b-81d5-98a51efb2a07",
   "metadata": {},
   "source": [
    "## Load the Data and Generate a Stable Name and ID Map"
   ]
  },
  {
   "cell_type": "code",
   "execution_count": null,
   "id": "af6ad9b8-a024-4ba3-9ce2-a541cf2ad08b",
   "metadata": {},
   "outputs": [],
   "source": [
    "helper_client = SysML2Client()\n",
    "\n",
    "elements_data_path = Path(\"..\") / \"tests\" / \"fixtures\" / \"Kerbal.json\"\n",
    "assert elements_data_path.exists(), f\"Could not find: '{elements_data_path}'\"\n",
    "\n",
    "helper_client._load_from_file(elements_data_path)\n",
    "\n",
    "lpg = SysML2LabeledPropertyGraph()\n",
    "lpg.update(helper_client.elements_by_id, False)\n",
    "\n",
    "exec_order = generate_execution_order(lpg)\n",
    "sig_map = generate_parameter_signature_map(helper_client.elements_by_id, exec_order)\n",
    "\n",
    "id_to_qualified_name = {}\n",
    "qualified_name_to_id = {}"
   ]
  },
  {
   "cell_type": "code",
   "execution_count": null,
   "id": "9c67ffd0-27ca-4bba-a8af-86b3423a78a0",
   "metadata": {},
   "outputs": [],
   "source": [
    "for ele_id, node in dict(lpg.nodes).items():\n",
    "    qualified_label = get_qualified_label(node, helper_client.elements_by_id, sig_map, True)\n",
    "    id_to_qualified_name.update({ele_id: qualified_label})\n",
    "    if qualified_label in qualified_name_to_id:\n",
    "        print(f\"Duplicate name found for {qualified_label}\")\n",
    "    \n",
    "    qualified_name_to_id.update({qualified_label: ele_id})"
   ]
  },
  {
   "cell_type": "code",
   "execution_count": null,
   "id": "8656f533-70c9-423b-816b-69a48fc7ebc1",
   "metadata": {},
   "outputs": [],
   "source": [
    "len(qualified_name_to_id.items())"
   ]
  },
  {
   "cell_type": "code",
   "execution_count": null,
   "id": "f98b83f0-3366-455a-a0cf-c0652efacda9",
   "metadata": {},
   "outputs": [],
   "source": [
    "len(id_to_qualified_name.items())"
   ]
  },
  {
   "cell_type": "code",
   "execution_count": null,
   "id": "07da8a6e-6854-4245-ad46-9640f86d2aaf",
   "metadata": {},
   "outputs": [],
   "source": [
    "qualified_name_to_id"
   ]
  },
  {
   "cell_type": "code",
   "execution_count": null,
   "id": "6b403fa0-271d-4fa8-a0e9-368426fd84ad",
   "metadata": {},
   "outputs": [],
   "source": []
  }
 ],
 "metadata": {
  "kernelspec": {
   "display_name": "Python 3 (ipykernel)",
   "language": "python",
   "name": "python3"
  },
  "language_info": {
   "codemirror_mode": {
    "name": "ipython",
    "version": 3
   },
   "file_extension": ".py",
   "mimetype": "text/x-python",
   "name": "python",
   "nbconvert_exporter": "python",
   "pygments_lexer": "ipython3",
   "version": "3.9.5"
  }
 },
 "nbformat": 4,
 "nbformat_minor": 5
}
