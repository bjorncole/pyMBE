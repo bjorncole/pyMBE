{
 "cells": [
  {
   "cell_type": "markdown",
   "id": "f1f6e230-bdc6-483f-8f33-6a1b0fc6eda9",
   "metadata": {},
   "source": [
    "# Core Technologies Walkthrough\n",
    "\n",
    "This notebook is intended to be an interactive walk-through of the critical modules and supporting technologies behind the PyMBE analysis platform to help accelerate the onboarding of new contributors."
   ]
  },
  {
   "cell_type": "code",
   "execution_count": null,
   "id": "ab9e4582-f39d-4af5-88d7-cb3d18f52482",
   "metadata": {},
   "outputs": [],
   "source": []
  }
 ],
 "metadata": {
  "kernelspec": {
   "display_name": "Python 3",
   "language": "python",
   "name": "python3"
  },
  "language_info": {
   "codemirror_mode": {
    "name": "ipython",
    "version": 3
   },
   "file_extension": ".py",
   "mimetype": "text/x-python",
   "name": "python",
   "nbconvert_exporter": "python",
   "pygments_lexer": "ipython3",
   "version": "3.9.2"
  }
 },
 "nbformat": 4,
 "nbformat_minor": 5
}
