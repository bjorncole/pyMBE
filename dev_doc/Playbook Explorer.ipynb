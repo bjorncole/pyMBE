{
 "cells": [
  {
   "cell_type": "markdown",
   "id": "4b9ecba8-a490-44bf-9a31-b94faa77d3c3",
   "metadata": {},
   "source": [
    "# Playbook Explorer\n",
    "\n",
    "This notebook is intended to be a live example of how to work with SysML v2 models at analysis-time. For these purposes, the following terms are introduced:\n",
    "* An *interpretation* is the mapping of user model symbols (the \"M1 model\" in OMG-speak) into semantically-correct symbols that represent real world objects meant to conform to the model (the \"M0\" in OMG-speak). Interpretation semantics are inspired by https://www.w3.org/TR/owl2-direct-semantics/ and are mostly similar.\n",
    "* A *sequence* for an interpretation contains *atoms* or *instances* that match to real world things. Reading a sequence from left to right provides a set of nested contexts for the atoms that is important to the interpretation. For example [Rocket#0, LS#3] is a 2-sequence to describe facts around the LS#3 atom when it is considered in context for Rocket#0. This is an important idea for the SysML time and occurrence model where one may want to see how values change under different conditions.\n",
    "\n",
    "This is a notebook that walks through the random interpretation generator to help developers working on their own interpreters."
   ]
  },
  {
   "cell_type": "markdown",
   "id": "e405de1e-20e9-4763-a363-ddb6eb6fac9d",
   "metadata": {},
   "source": [
    "## Example Model\n",
    "\n",
    "The model that is used for this example is the SysML v2 Kerbal model written by Bjorn Cole\n",
    "\n",
    "The textual SysML v2 model is the Kerbal model:\n",
    "\n",
    "    package Kerbal {\n",
    "        package 'Rocket Building' {\n",
    "            import ScalarFunctions::*;\n",
    "\n",
    "            part def Rocket {\n",
    "                part stages : 'Rocket Stage' [1..5] {\n",
    "                    // placing this here because previous stages only make sense in context of a full vehicle\n",
    "                    ref 'Carried Stage' : 'Rocket Stage' [1];\n",
    "                    attribute 'Payload Mass' : Real;\n",
    "                    attribute 'Loaded Mass' : Real;\n",
    "                    attribute 'Burnout Mass' : Real;\n",
    "                    part 'Coupler to Carrying Stage' : Coupler [0..8] {\n",
    "                        attribute 'Separation Force' : Real;\n",
    "                    }\n",
    "                }\n",
    "            }\n",
    "            item def Oxidizer;\n",
    "            item def Fuel;\n",
    "            item def 'Solid Propellant';\n",
    "\n",
    "            // TODO: Something something part symmetry\n",
    "            abstract part def 'Rocket Stage';\n",
    "\n",
    "            // use stage types to enforce matching\n",
    "            part def 'Liquid Stage' :> 'Rocket Stage' {\n",
    "                part engines : 'Liquid Engine' [0..8];\n",
    "                part tanks : 'Fuel Tank Section' [0..30];\n",
    "                attribute 'Full Mass' : Real = sum(engines->collect p:'Kerbal Rocket Part' (p::Mass)) +\n",
    "                                        sum(tanks->collect p:'Fuel Tank Section' (p::'Full Mass'));\n",
    "\n",
    "                attribute 'Empty Mass' : Real;\n",
    "            }\n",
    "            part def 'Solid Stage' :> 'Rocket Stage' {\n",
    "                part boosters : 'Solid Booster' [0..8];\n",
    "                attribute 'Full Mass' : Real;\n",
    "                attribute 'Empty Mass' : Real;\n",
    "            }\n",
    "\n",
    "            part def 'Coupler' :> 'Kerbal Rocket Part';\n",
    "\n",
    "            abstract part def 'Fuel Tank Section' :> 'Kerbal Rocket Part' {\n",
    "                attribute 'Liquid Fuel' : Real;\n",
    "                attribute 'Oxidizer' : Real;\n",
    "                attribute 'Full Mass' : Real;\n",
    "                attribute 'Empty Mass' : Real;\n",
    "            }\n",
    "\n",
    "            abstract part def 'Liquid Engine' :> 'Kerbal Rocket Part' {\n",
    "                attribute 'Specific Impulse' : Real;\n",
    "                attribute 'Thrust' : Real;\n",
    "            }\n",
    "            abstract part def 'Solid Booster' :> 'Kerbal Rocket Part' {\n",
    "                attribute 'Specific Impulse' : Real;\n",
    "                attribute 'Full Mass' : Real;\n",
    "                attribute 'Empty Mass' : Real;\n",
    "                attribute 'Thrust' : Real;\n",
    "            }\n",
    "\n",
    "            part def 'Pod' :> 'Kerbal Rocket Part'  {\n",
    "                attribute Torque : Real;\n",
    "            }\n",
    "            part def 'Parachute' :> 'Kerbal Rocket Part';\n",
    "\n",
    "            part def 'Kerbal Rocket Part' {\n",
    "                attribute Mass : Real;\n",
    "                attribute 'Max Temperature' : Real;\n",
    "            }\n",
    "        }\n",
    "        package 'Parts Library' {\n",
    "            import ScalarFunctions::*;\n",
    "            part def 'FL-T200 Fuel Tank' :> 'Rocket Building'::'Fuel Tank Section' {\n",
    "                attribute 'Full Mass' : Real :>> 'Rocket Building'::'Fuel Tank Section'::'Full Mass' = 1.125;\n",
    "                attribute 'Empty Mass' : Real :>> 'Rocket Building'::'Fuel Tank Section'::'Empty Mass' = 0.125;\n",
    "            }\n",
    "            part def 'FL-T100 Fuel Tank' :> 'Rocket Building'::'Fuel Tank Section' {\n",
    "                attribute 'Full Mass' : Real :>> 'Rocket Building'::'Fuel Tank Section'::'Full Mass' = 0.5625;\n",
    "                attribute 'Empty Mass' : Real :>> 'Rocket Building'::'Fuel Tank Section'::'Empty Mass' = 0.0625;\n",
    "            }\n",
    "            part def 'Mk1 Command Pod' :> 'Rocket Building'::'Pod';\n",
    "            part def 'LV-T45 \"Swivel\" Liquid Fuel Engine' :> 'Rocket Building'::'Liquid Engine' {\n",
    "                attribute 'Specific Impulse' : Real :>> 'Rocket Building'::'Liquid Engine'::'Specific Impulse' = 170.0;\n",
    "                attribute 'Thrust' : Real :>> 'Rocket Building'::'Liquid Engine'::'Thrust' = 167.97;\n",
    "                attribute 'Mass' : Real :>> 'Rocket Building'::'Kerbal Rocket Part'::Mass = 1.50;\n",
    "            }\n",
    "            part def 'RT-5 \"Flea\" Solid Fuel Booster' :> 'Rocket Building'::'Solid Booster' {\n",
    "                attribute 'Full Mass' : Real :>> 'Rocket Building'::'Solid Booster'::'Full Mass' = 1.50;\n",
    "                attribute 'Empty Mass' : Real :>> 'Rocket Building'::'Solid Booster'::'Empty Mass' = 0.45;\n",
    "                attribute 'Specific Impulse' : Real :>> 'Rocket Building'::'Solid Booster'::'Specific Impulse' = 140.0;\n",
    "                attribute 'Thrust' : Real :>> 'Rocket Building'::'Solid Booster'::'Thrust' = 162.91;\n",
    "            }\n",
    "            part def 'RT-10 \"Hammer\" Solid Fuel Booster' :> 'Rocket Building'::'Solid Booster' {\n",
    "                attribute 'Full Mass' : Real :>> 'Rocket Building'::'Solid Booster'::'Full Mass' = 3.56;\n",
    "                attribute 'Empty Mass' : Real :>> 'Rocket Building'::'Solid Booster'::'Empty Mass' = 0.75;\n",
    "                attribute 'Specific Impulse' : Real :>> 'Rocket Building'::'Solid Booster'::'Specific Impulse' = 170.0;\n",
    "                attribute 'Thrust' : Real :>> 'Rocket Building'::'Solid Booster'::Thrust = 197.90;\n",
    "            }\n",
    "        }\n",
    "    }"
   ]
  },
  {
   "cell_type": "markdown",
   "id": "5354f8ac-7cd4-4910-8cfc-d5b9e4fd0263",
   "metadata": {},
   "source": [
    "## Imports\n",
    "\n",
    "Import key modules, functions, and classes from the PyMBE library:"
   ]
  },
  {
   "cell_type": "code",
   "execution_count": 1,
   "id": "9dd5d23e-7a3a-4a8a-a297-c3598c048c4e",
   "metadata": {},
   "outputs": [],
   "source": [
    "import os\n",
    "from pathlib import Path\n",
    "\n",
    "import networkx as nx\n",
    "\n",
    "import pymbe.api as pm\n",
    "from pymbe.client import SysML2Client\n",
    "from pymbe.label import *\n",
    "from pymbe.graph.lpg import SysML2LabeledPropertyGraph\n",
    "from pymbe.interpretation.calc_dependencies import generate_execution_order, generate_parameter_signature_map\n",
    "from pymbe.interpretation.interp_playbooks import *\n",
    "from pymbe.interpretation.results import *"
   ]
  },
  {
   "cell_type": "markdown",
   "id": "e688d538-53b0-49c3-a805-c6ccb29c00dc",
   "metadata": {},
   "source": [
    "## Key IDs\n",
    "\n",
    "The unique identifiers below are useful references for walking through the interpretations generated in this notebook."
   ]
  },
  {
   "cell_type": "code",
   "execution_count": 2,
   "id": "f14b53d3-bee3-4ca1-939f-fe2f8f410b7a",
   "metadata": {},
   "outputs": [],
   "source": [
    "fts_full_mass = 'b97614b5-a413-471c-ade2-e1bfc7816543' # Full Mass Attribute under Fuel Tank Sections\n",
    "ft200_full_mass = 'e6d1c157-fbff-4b45-9a8a-ed192431510f' # Full Mass Attribute under FL-T200 Fuel Tank\n",
    "ft100_full_mass = 'f7d4ac57-9a58-4bec-9153-2254019de47d' # Full Mass Attribute under FL-T100 Fuel Tank\n",
    "liquid_stage_full_mass = 'd2ccb1d4-015f-4d74-82ee-b795c2ea1c16' # Full Mass Attribute under Liquid Stage\n",
    "top_plus = '3b2d0703-6c19-4584-901b-9aabb156fde2' # The '+' Expression under the Full Mass Attribute under Liquid Stage\n",
    "tank_mass_sum_1 = '75ea8b2b-8805-45df-bac1-5ffd955e4982' # The 'sum' Expression that sums Full Mass of tanks\n",
    "#collect_1 = 'd6644a0a-6eef-49c1-a770-60886073554c' # The 'collect' Expression that gathers Full Masses that apply to the current scope\n",
    "#collect_1_result = '2caccce7-a0b4-4926-8f24-0dbffb92f6ad' # The result parameter of above collect expression\n",
    "full_mass_dot = '86a423f7-18b6-4a86-ac52-2f69302121ab' # Expression that scopes Full Mass attribute in FeatureReferenceExpression\n",
    "fre_1 = '6505ffab-edc1-442d-9d99-91802d764df8' # Expression to point to the instances of Full Mass\n",
    "fre_1_result = 'b316c054-39af-4c78-a9f8-4e0445dfb836' # Result of gathering all instances of Full Mass from the interpretation\n",
    "sum_1_result = '5f2e43c7-eada-4be7-b934-ed30180b2aec' # Result of the sum Expression on Full Mass\n",
    "x = '85e06150-af83-4262-81c4-c95aa2817ce7'"
   ]
  },
  {
   "cell_type": "markdown",
   "id": "4781f4e7-9176-4258-a3af-13076eeacb84",
   "metadata": {},
   "source": [
    "## Client Setup\n",
    "\n",
    "The example here uses a local copy of the JSON file obtained by a GET operation on the SysML v2 API at:\n",
    "http://sysml2-sst.intercax.com:9000/projects/a4f6a618-e4eb-4ac8-84b8-d6bcd3badcec/commits/c48aea9b-42fb-49b3-9a3e-9c39385408d7/elements?page[size]=5000"
   ]
  },
  {
   "cell_type": "markdown",
   "id": "9521c0ea-a498-4a37-b2c7-c7c4440157de",
   "metadata": {},
   "source": [
    "Create the client and load local data."
   ]
  },
  {
   "cell_type": "code",
   "execution_count": 3,
   "id": "b66f365e-ef81-42ba-bdae-2f5d239abe4f",
   "metadata": {},
   "outputs": [],
   "source": [
    "helper_client = SysML2Client()\n",
    "\n",
    "elements_data_path = Path(\"..\") / \"tests\" / \"fixtures\" / \"Kerbal.json\"\n",
    "assert elements_data_path.exists(), f\"Could not find: '{elements_data_path}'\"\n",
    "\n",
    "helper_client._load_from_file(elements_data_path)"
   ]
  },
  {
   "cell_type": "markdown",
   "id": "f9497fb5-64e1-476f-9d1a-295cc8794a48",
   "metadata": {},
   "source": [
    "Create a graph representation of the model and load it into memory."
   ]
  },
  {
   "cell_type": "code",
   "execution_count": 4,
   "id": "8faf098c-8e66-488c-9b28-b6f3a8be6a93",
   "metadata": {},
   "outputs": [],
   "source": [
    "lpg = SysML2LabeledPropertyGraph()\n",
    "lpg.update(helper_client.elements_by_id, False)"
   ]
  },
  {
   "cell_type": "markdown",
   "id": "1522f0a3-03b8-4784-86fa-ea1e3a59befa",
   "metadata": {},
   "source": [
    "This is just a helper to make abbreviations more legible."
   ]
  },
  {
   "cell_type": "code",
   "execution_count": 5,
   "id": "a890ad5d-62bc-4e22-a71e-2d66295c772e",
   "metadata": {},
   "outputs": [],
   "source": [
    "shorten_pre_bake = {\n",
    "    'RT-10 \"Hammer\" Solid Fuel Booster': \"RT-10\",\n",
    "    'RT-5 \"Flea\" Solid Fuel Booster': \"RT-5\",\n",
    "    'LV-T45 \"Swivel\" Liquid Fuel Engine': \"LV-T45\",\n",
    "    'FL-T100 Fuel Tank': \"FL-T100\",\n",
    "    'FL-T200 Fuel Tank': \"FL-T200\"\n",
    "}"
   ]
  },
  {
   "cell_type": "markdown",
   "id": "50d9f9e1-8439-4ffa-9cb1-147529fd8a75",
   "metadata": {},
   "source": [
    "## Understanding Expressions\n",
    "\n",
    "Eventually this will move out to its own notebook ...\n",
    "\n",
    "Expressions form trees inside the M1 model. Some work has to be done in order to understand them and how data should flow from result parameters in one expression to the input parameters of another."
   ]
  },
  {
   "cell_type": "markdown",
   "id": "f35e1c75-0746-4297-b159-31dc16adca07",
   "metadata": {},
   "source": [
    "Create an interpretation of the Kerbal model using the random generator playbook. In general, this randomly selects:\n",
    "- The ratios of partitioning abstract classifier sequence sets into concrete sets. For example, one draw may choose 2 liquid stages and 3 solids.\n",
    "- The number of sequences to create for a given feature multiplicity. For example, draw 2 for a 0..8 engines : Liquid Engine PartUsage.\n",
    "\n",
    "The playbook also attempts to make sequences created obey the Subsetting relationship (elements marked with subsets in M1 model should have their interpretation sequences entirely included within the interpretation sequences of the superset)."
   ]
  },
  {
   "cell_type": "code",
   "execution_count": 6,
   "id": "89f32280-6fc3-4d23-94bc-09be746d9f44",
   "metadata": {},
   "outputs": [
    {
     "name": "stdout",
     "output_type": "stream",
     "text": [
      "These edge types are not in the graph: {'ResultExpressionMembership'}.\n",
      "These edge types are not in the graph: {'ImpliedParameterFeedforward'}.\n"
     ]
    }
   ],
   "source": [
    "exec_order = generate_execution_order(lpg)"
   ]
  },
  {
   "cell_type": "code",
   "execution_count": 7,
   "id": "cdaa5ae9-b727-4c12-a72e-96f5cfc296ec",
   "metadata": {},
   "outputs": [
    {
     "data": {
      "text/plain": [
       "[['162.91 «Occurred LiteralReal»', '$result', 'Output'],\n",
       " ['0.75 «Occurred LiteralReal»', '$result', 'Output'],\n",
       " ['Empty Mass: Real', 'Empty Mass: Real', 'Redefinition'],\n",
       " ['Empty Mass: Real', 'Empty Mass: Real', 'Redefinition'],\n",
       " ['Thrust: Real', 'Thrust: Real', 'Redefinition'],\n",
       " ['96ca6e7a-9a9c-4eba-9529-e4d5ac29118a «LiteralInteger»',\n",
       "  '$result',\n",
       "  'Output'],\n",
       " ['Thrust: Real', 'Thrust: Real', 'Redefinition'],\n",
       " ['Thrust: Real', 'Thrust: Real', 'Redefinition'],\n",
       " ['c6f72048-3c8c-4c5a-bdd0-f902736315e9 «LiteralInteger»',\n",
       "  '$result',\n",
       "  'Output'],\n",
       " ['FRE.Mass', '$result: Real', 'Output'],\n",
       " ['170.0 «Occurred LiteralReal»', '$result', 'Output'],\n",
       " ['1.5 «Occurred LiteralReal»', '$result', 'Output'],\n",
       " ['Full Mass: Real', 'Full Mass: Real', 'Redefinition'],\n",
       " ['Full Mass: Real', 'Full Mass: Real', 'Redefinition'],\n",
       " ['FRE.tanks', '$result: Fuel Tank Section', 'Output'],\n",
       " ['FRE.engines', '$result: Liquid Engine', 'Output'],\n",
       " ['$result: Fuel Tank Section', '$collection', 'Assignment'],\n",
       " ['$result: Liquid Engine', '$collection', 'Assignment'],\n",
       " ['$collection', 'tanks.Full Mass ($collection) => $result', 'Input'],\n",
       " ['$collection', 'engines.Mass ($collection) => $result', 'Input'],\n",
       " ['tanks.Full Mass ($collection) => $result', '$result', 'Output'],\n",
       " ['engines.Mass ($collection) => $result', '$result', 'Output'],\n",
       " ['$result', '$collection', 'Assignment'],\n",
       " ['$result', '$collection', 'Assignment'],\n",
       " ['$collection', 'sum ($collection) => $result', 'Input'],\n",
       " ['$collection', 'sum ($collection) => $result', 'Input'],\n",
       " ['sum ($collection) => $result', '$result', 'Output'],\n",
       " ['sum ($collection) => $result', '$result', 'Output'],\n",
       " ['$result', '$y', 'Assignment'],\n",
       " ['$result', '$x', 'Assignment'],\n",
       " ['$y', '+ ($x, $y) => $result', 'Input'],\n",
       " ['$x', '+ ($x, $y) => $result', 'Input'],\n",
       " ['+ ($x, $y) => $result', '$result', 'Output'],\n",
       " ['8 «Occurred LiteralInteger»', '$result', 'Output'],\n",
       " ['bb2d418b-3cce-4cd2-b214-d3a89f25df31 «LiteralInteger»',\n",
       "  '$result',\n",
       "  'Output'],\n",
       " ['0.45 «Occurred LiteralReal»', '$result', 'Output'],\n",
       " ['0.125 «Occurred LiteralReal»', '$result', 'Output'],\n",
       " ['1.5 «Occurred LiteralReal»', '$result', 'Output'],\n",
       " ['8 «Occurred LiteralInteger»', '$result', 'Output'],\n",
       " ['Mass: Real', 'Mass: Real', 'Redefinition'],\n",
       " ['1 «Occurred LiteralInteger»', '$result', 'Output'],\n",
       " ['167.97 «Occurred LiteralReal»', '$result', 'Output'],\n",
       " ['8 «Occurred LiteralInteger»', '$result', 'Output'],\n",
       " ['6255fb87-8ced-4a3f-8359-4afab73e6606 «LiteralInteger»',\n",
       "  '$result',\n",
       "  'Output'],\n",
       " ['Empty Mass: Real', 'Empty Mass: Real', 'Redefinition'],\n",
       " ['Empty Mass: Real', 'Empty Mass: Real', 'Redefinition'],\n",
       " ['Full Mass: Real', 'Full Mass: Real', 'Redefinition'],\n",
       " ['Full Mass: Real', 'Full Mass: Real', 'Redefinition'],\n",
       " ['30 «Occurred LiteralInteger»', '$result', 'Output'],\n",
       " ['197.9 «Occurred LiteralReal»', '$result', 'Output'],\n",
       " ['140.0 «Occurred LiteralReal»', '$result', 'Output'],\n",
       " ['1 «Occurred LiteralInteger»', '$result', 'Output'],\n",
       " ['0.0625 «Occurred LiteralReal»', '$result', 'Output'],\n",
       " ['170.0 «Occurred LiteralReal»', '$result', 'Output'],\n",
       " ['1.125 «Occurred LiteralReal»', '$result', 'Output'],\n",
       " ['Specific Impulse: Real', 'Specific Impulse: Real', 'Redefinition'],\n",
       " ['5 «Occurred LiteralInteger»', '$result', 'Output'],\n",
       " ['Specific Impulse: Real', 'Specific Impulse: Real', 'Redefinition'],\n",
       " ['Specific Impulse: Real', 'Specific Impulse: Real', 'Redefinition'],\n",
       " ['FRE.Full Mass', '$result: Real', 'Output'],\n",
       " ['3.56 «Occurred LiteralReal»', '$result', 'Output'],\n",
       " ['0.5625 «Occurred LiteralReal»', '$result', 'Output']]"
      ]
     },
     "execution_count": 7,
     "metadata": {},
     "output_type": "execute_result"
    }
   ],
   "source": [
    "pprint_edges(exec_order, helper_client.elements_by_id)"
   ]
  },
  {
   "cell_type": "code",
   "execution_count": 8,
   "id": "e9a8a739-a8e8-402a-b087-8159ca548d17",
   "metadata": {},
   "outputs": [
    {
     "name": "stdout",
     "output_type": "stream",
     "text": [
      "Input:FRE.tanks -> tanks.Full Mass ($collection) => $result\n",
      "New expression is tanks.Full Mass (FRE.tanks) => $result\n",
      "Input:FRE.engines -> engines.Mass ($collection) => $result\n",
      "New expression is engines.Mass (FRE.engines) => $result\n",
      "Input:tanks.Full Mass (FRE.tanks) -> sum ($collection) => $result\n",
      "New expression is sum (tanks.Full Mass (FRE.tanks)) => $result\n",
      "Input:engines.Mass (FRE.engines) -> sum ($collection) => $result\n",
      "New expression is sum (engines.Mass (FRE.engines)) => $result\n",
      "Input:sum (tanks.Full Mass (FRE.tanks)) -> + ($x, $y) => $result\n",
      "New expression is + ($x, sum (tanks.Full Mass (FRE.tanks))) => $result\n",
      "Input:sum (engines.Mass (FRE.engines)) -> + ($x, $y) => $result\n",
      "New expression is + (sum (engines.Mass (FRE.engines)), sum (tanks.Full Mass (FRE.tanks))) => $result\n"
     ]
    },
    {
     "data": {
      "text/plain": [
       "{'aef934b4-e1e9-446e-9ece-90cbec19d4b0': '162.91 «Occurred LiteralReal»',\n",
       " '8f04d362-a772-45f0-a643-2ad54402e102': '0.75 «Occurred LiteralReal»',\n",
       " 'faca6d46-8bd7-4741-90f5-135944589e67': '96ca6e7a-9a9c-4eba-9529-e4d5ac29118a «LiteralInteger»',\n",
       " '5979ec43-005d-4d53-b7ba-df5baf05126d': 'c6f72048-3c8c-4c5a-bdd0-f902736315e9 «LiteralInteger»',\n",
       " '5b04675b-4d4c-46a7-a3a5-093d71632df3': 'FRE.Mass',\n",
       " 'a7488413-69b7-4581-8a63-70faa4540ffa': '170.0 «Occurred LiteralReal»',\n",
       " 'a3ce36a4-de64-45b8-9197-d5b77b380063': '1.5 «Occurred LiteralReal»',\n",
       " '9743726d-901e-41c7-a6f9-4be933de5922': 'FRE.tanks',\n",
       " 'f8c8d8e8-f215-43c6-9fb4-5738ba0f062e': 'FRE.engines',\n",
       " '3d732f1e-b29a-4227-a5f2-f994ba00fce6': 'FRE.tanks',\n",
       " 'e7658828-6e2a-4041-9d1d-a599115b3859': 'FRE.engines',\n",
       " '86a423f7-18b6-4a86-ac52-2f69302121ab': 'tanks.Full Mass (FRE.tanks) => $result',\n",
       " 'd4dd510d-fe76-4b06-9f33-7e744d57e0dd': 'engines.Mass (FRE.engines) => $result',\n",
       " '60a2df91-abd9-4221-90f0-20aa1b2f8997': 'tanks.Full Mass (FRE.tanks)',\n",
       " '4eb53d3c-c93d-4900-9885-6ec99150dc01': 'engines.Mass (FRE.engines)',\n",
       " 'bcc90be6-036a-47b7-91db-b7ae85a90e10': 'tanks.Full Mass (FRE.tanks)',\n",
       " 'e5d649cf-b6cf-4426-b778-516a2d900029': 'engines.Mass (FRE.engines)',\n",
       " '75ea8b2b-8805-45df-bac1-5ffd955e4982': 'sum (tanks.Full Mass (FRE.tanks)) => $result',\n",
       " '2ad4cc6d-dccb-4099-a253-d55d757b46a3': 'sum (engines.Mass (FRE.engines)) => $result',\n",
       " '5f2e43c7-eada-4be7-b934-ed30180b2aec': 'sum (tanks.Full Mass (FRE.tanks))',\n",
       " '83a74020-c952-4521-9dc1-37f484d775c1': 'sum (engines.Mass (FRE.engines))',\n",
       " '4e6ad42b-4074-417b-bee8-125065eb08ab': 'sum (tanks.Full Mass (FRE.tanks))',\n",
       " '85e06150-af83-4262-81c4-c95aa2817ce7': 'sum (engines.Mass (FRE.engines))',\n",
       " '3b2d0703-6c19-4584-901b-9aabb156fde2': '+ (sum (engines.Mass (FRE.engines)), sum (tanks.Full Mass (FRE.tanks))) => $result',\n",
       " '6b19ebe1-6d95-4b72-ba16-247e6733b56c': '+ (sum (engines.Mass (FRE.engines)), sum (tanks.Full Mass (FRE.tanks)))',\n",
       " '5351a395-e304-4345-a7e0-5ac66c874375': '8 «Occurred LiteralInteger»',\n",
       " 'e412656d-eea2-4650-8b87-6d66460e5010': 'bb2d418b-3cce-4cd2-b214-d3a89f25df31 «LiteralInteger»',\n",
       " 'fbfa52d6-8b81-4087-b908-11851f55eb11': '0.45 «Occurred LiteralReal»',\n",
       " 'ff4f763e-5423-41a3-9526-d938a350da98': '0.125 «Occurred LiteralReal»',\n",
       " 'dcc52f93-c89b-4b62-a94e-c50035648450': '1.5 «Occurred LiteralReal»',\n",
       " '431b47a9-0ecf-495a-836b-d588605c0ca6': '8 «Occurred LiteralInteger»',\n",
       " 'aff8a5d1-1560-4ce3-b001-39da2b3ef833': '1 «Occurred LiteralInteger»',\n",
       " 'd79192d7-bf71-49c8-b671-dab115275f7d': '167.97 «Occurred LiteralReal»',\n",
       " 'a9c80c3d-92d7-418a-9f50-b1c9932bea4a': '8 «Occurred LiteralInteger»',\n",
       " '715e7c98-1d48-49ce-bf0e-49135ae2d97d': '6255fb87-8ced-4a3f-8359-4afab73e6606 «LiteralInteger»',\n",
       " '6a514fa1-130d-4048-bb18-0bb6191e503e': '30 «Occurred LiteralInteger»',\n",
       " 'cc0f5b38-e495-4836-9b21-9801335e42b3': '197.9 «Occurred LiteralReal»',\n",
       " '2fdcb8f5-de79-4916-8d39-b88d9932bbe4': '140.0 «Occurred LiteralReal»',\n",
       " 'e02a0c86-b9c8-40b0-962f-0c25865ea8c4': '1 «Occurred LiteralInteger»',\n",
       " 'feb336c7-2768-4a7c-b9cd-ad4ca3c3e8dd': '0.0625 «Occurred LiteralReal»',\n",
       " '793f6dd7-c561-472a-8d50-ea4d0a6f4b8f': '170.0 «Occurred LiteralReal»',\n",
       " '2d7ec78a-f4ed-4c08-918b-3d1766915832': '1.125 «Occurred LiteralReal»',\n",
       " '4a866edb-9d50-454d-a574-f60142e81399': '5 «Occurred LiteralInteger»',\n",
       " 'b316c054-39af-4c78-a9f8-4e0445dfb836': 'FRE.Full Mass',\n",
       " '2759f68a-b09e-44ff-9b45-c4ba28314ecc': '3.56 «Occurred LiteralReal»',\n",
       " '0cf78450-b602-4e1c-b749-55d50a94d0f0': '0.5625 «Occurred LiteralReal»'}"
      ]
     },
     "execution_count": 8,
     "metadata": {},
     "output_type": "execute_result"
    }
   ],
   "source": [
    "sig_map = generate_parameter_signature_map(helper_client.elements_by_id, exec_order)\n",
    "sig_map"
   ]
  },
  {
   "cell_type": "code",
   "execution_count": 11,
   "id": "60b67e8e-7b09-4619-8375-33fc400d1649",
   "metadata": {},
   "outputs": [
    {
     "data": {
      "text/plain": [
       "'Model::Kerbal::Rocket Building::Liquid Stage::Full Mass: Real::+ (sum (engines.Mass (FRE.engines)), sum (tanks.Full Mass (FRE.tanks))) => $result::sum (engines.Mass (FRE.engines)) => $result::engines.Mass (FRE.engines) => $result::engines.Mass (FRE.engines)'"
      ]
     },
     "execution_count": 11,
     "metadata": {},
     "output_type": "execute_result"
    }
   ],
   "source": [
    "get_qualified_label(\n",
    "    helper_client.elements_by_id[\"4eb53d3c-c93d-4900-9885-6ec99150dc01\"],\n",
    "    helper_client.elements_by_id,\n",
    "    sig_map\n",
    ")"
   ]
  },
  {
   "cell_type": "code",
   "execution_count": 12,
   "id": "7a036a57-9879-4205-abde-5a342f6ddf17",
   "metadata": {},
   "outputs": [
    {
     "data": {
      "text/plain": [
       "'Model::Kerbal::Rocket Building::Liquid Stage::Full Mass: Real::+ (sum (engines.Mass (FRE.engines)), sum (tanks.Full Mass (FRE.tanks))) => $result::sum (engines.Mass (FRE.engines)) => $result::engines.Mass (FRE.engines)'"
      ]
     },
     "execution_count": 12,
     "metadata": {},
     "output_type": "execute_result"
    }
   ],
   "source": [
    "get_qualified_label(\n",
    "    helper_client.elements_by_id[\"e5d649cf-b6cf-4426-b778-516a2d900029\"],\n",
    "    helper_client.elements_by_id,\n",
    "    sig_map\n",
    ")"
   ]
  },
  {
   "cell_type": "code",
   "execution_count": null,
   "id": "cc64cbc6-c15b-4f79-84dc-1af698b5963f",
   "metadata": {},
   "outputs": [],
   "source": [
    "m0_interpretation = random_generator_playbook(\n",
    "    lpg,\n",
    "    shorten_pre_bake,\n",
    ")"
   ]
  },
  {
   "cell_type": "code",
   "execution_count": null,
   "id": "10bff4cf-5a26-49fc-908b-04357cbbed80",
   "metadata": {},
   "outputs": [],
   "source": [
    "pprint_single_id_list(list(m0_interpretation.keys()), helper_client.elements_by_id)"
   ]
  },
  {
   "cell_type": "markdown",
   "id": "37b882b2-f601-4c61-a8a9-4029b2e7381d",
   "metadata": {},
   "source": [
    "To see how sequences are structured, the cell below renders sequences that show what type of atoms will fill particular positions in the sequence, as well as the maximum multiplicity (number of) sequences."
   ]
  },
  {
   "cell_type": "code",
   "execution_count": null,
   "id": "43685e41-dc8a-4f91-b58e-4711e92cc052",
   "metadata": {},
   "outputs": [],
   "source": [
    "from pymbe.query.query import roll_up_upper_multiplicity, roll_up_multiplicity_for_type\n",
    "\n",
    "feat_sequences = build_sequence_templates(lpg=lpg)\n",
    "\n",
    "total = 0\n",
    "for seq in feat_sequences:\n",
    "    print(str(pprint_single_id_list(seq, lpg.nodes)) + \", \" + str(roll_up_upper_multiplicity(lpg, lpg.nodes[seq[-1]])))"
   ]
  },
  {
   "cell_type": "markdown",
   "id": "34b37e3a-82bc-4e03-9b0d-514cbdf0f0d9",
   "metadata": {},
   "source": [
    "Once the interpretations are generated, we can look for expressions and create an execution order (this is similar to Excel builds a dependency graph internally to accelerate computations and partial updates when a user changes a cell value)."
   ]
  },
  {
   "cell_type": "code",
   "execution_count": null,
   "id": "a5f5915f-2368-4c65-834c-2505fff92fb4",
   "metadata": {},
   "outputs": [],
   "source": [
    "dcg = generate_execution_order(lpg, m0_interpretation)"
   ]
  },
  {
   "cell_type": "markdown",
   "id": "b4a229a5-480a-41ee-9ecf-d3fe6f1c1783",
   "metadata": {},
   "source": [
    "One of the core tools in examining and working with the M1 model is using the get_projection function on the master graph to select out the kind of nodes and edges that will support other queries (roll-up using breadth-first search in reverse order, paths from one node to another to lay out sequences, etc.)"
   ]
  },
  {
   "cell_type": "code",
   "execution_count": null,
   "id": "15f179ab-d182-46d0-9013-d4414376f7c1",
   "metadata": {},
   "outputs": [],
   "source": [
    "from pymbe.graph.calc_lpg import CalculationGroup\n",
    "cg = CalculationGroup(lpg.get_projection(\"Expression Inferred Graph\"), m0_interpretation, dcg)"
   ]
  },
  {
   "cell_type": "markdown",
   "id": "abc869d6-4494-4de2-b8de-5974afda0a03",
   "metadata": {},
   "source": [
    "Display the calculation order determined by the algorithm, as well as a hint about what the step is (generating output from a function, moving values from function parameters to an attribute, applying redefinition, etc.)"
   ]
  },
  {
   "cell_type": "code",
   "execution_count": null,
   "id": "27d2fc68-8c05-45b7-8fc9-ddc12d625564",
   "metadata": {},
   "outputs": [],
   "source": [
    "for item in dcg:\n",
    "    instance_safe = True\n",
    "    if item[0] not in m0_interpretation or len(m0_interpretation[item[0]]) == 0:\n",
    "        print(\"No instances for \" + lpg.nodes[item[0]]['qualifiedName'])\n",
    "        instance_safe = False\n",
    "    if item[1] not in m0_interpretation or len(m0_interpretation[item[1]]) == 0:\n",
    "        print(\"No instances for \" + lpg.nodes[item[1]]['qualifiedName'])\n",
    "        instance_safe = False\n",
    "    if instance_safe:\n",
    "        rep_source = m0_interpretation[item[0]][0][-1]\n",
    "        rep_target = m0_interpretation[item[1]][0][-1]\n",
    "        if len(item) == 3:\n",
    "            safe_item = item[2]\n",
    "        else:\n",
    "            safe_item = 'None'\n",
    "        print('(' + str(rep_source) + ', ' + str(rep_target) + ', ' + safe_item + ')')"
   ]
  },
  {
   "cell_type": "markdown",
   "id": "8f333a0c-f06e-457a-9678-cdc0bda628c9",
   "metadata": {},
   "source": [
    "Use the calculation order in order to resolve the \"unset\" fields on many attributes to values where they are determined in the M1 model (e.g., using the ' = ' operator to assign values directly or connect to equations or analyses)."
   ]
  },
  {
   "cell_type": "code",
   "execution_count": null,
   "id": "55819138-3597-4070-8b0d-c73f6e12f31d",
   "metadata": {},
   "outputs": [],
   "source": [
    "cg.solve_graph(lpg)"
   ]
  },
  {
   "cell_type": "markdown",
   "id": "461a6537-2b8a-49f4-897b-c57a9888800f",
   "metadata": {},
   "source": [
    "## Calculation Results Shown\n",
    "\n",
    "The following cells are a series of displays of relevant features in the interpretation."
   ]
  },
  {
   "cell_type": "code",
   "execution_count": null,
   "id": "5c1b19a4-533f-481c-bf09-77be140822a9",
   "metadata": {},
   "outputs": [],
   "source": [
    "m0_interpretation[sum_1_result]"
   ]
  },
  {
   "cell_type": "code",
   "execution_count": null,
   "id": "40d25c6c-74b7-4219-9a08-8c40c189b607",
   "metadata": {},
   "outputs": [],
   "source": [
    "m0_interpretation[x]"
   ]
  },
  {
   "cell_type": "code",
   "execution_count": null,
   "id": "c7b0554d-16d7-414c-8566-2900bec8ea52",
   "metadata": {},
   "outputs": [],
   "source": [
    "m0_interpretation[liquid_stage_full_mass]"
   ]
  },
  {
   "cell_type": "code",
   "execution_count": null,
   "id": "31214eb4-294f-4e6a-87c5-29d9c08b1d87",
   "metadata": {},
   "outputs": [],
   "source": [
    "m0_interpretation[fre_1_result]"
   ]
  },
  {
   "cell_type": "code",
   "execution_count": null,
   "id": "56bb7103-f200-4630-8a04-1bfb972ecdd0",
   "metadata": {},
   "outputs": [],
   "source": [
    "m0_interpretation[fre_2_result]"
   ]
  },
  {
   "cell_type": "markdown",
   "id": "ed5b0fbd-9d75-45af-971c-b334798340fb",
   "metadata": {},
   "source": [
    "Show all interpretation sequence sets (limited to length of 5)."
   ]
  },
  {
   "cell_type": "code",
   "execution_count": null,
   "id": "54a33294-b833-45f9-a5f9-f70b9231aa96",
   "metadata": {},
   "outputs": [],
   "source": [
    "for print_line in pprint_interpretation(m0_interpretation, lpg.nodes):\n",
    "    print(print_line)"
   ]
  },
  {
   "cell_type": "code",
   "execution_count": null,
   "id": "20eb14f9-73af-44f7-a403-18343cee0428",
   "metadata": {},
   "outputs": [],
   "source": []
  }
 ],
 "metadata": {
  "kernelspec": {
   "display_name": "Python 3 (ipykernel)",
   "language": "python",
   "name": "python3"
  },
  "language_info": {
   "codemirror_mode": {
    "name": "ipython",
    "version": 3
   },
   "file_extension": ".py",
   "mimetype": "text/x-python",
   "name": "python",
   "nbconvert_exporter": "python",
   "pygments_lexer": "ipython3",
   "version": "3.9.5"
  }
 },
 "nbformat": 4,
 "nbformat_minor": 5
}
