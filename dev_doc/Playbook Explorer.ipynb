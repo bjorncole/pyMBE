{
 "cells": [
  {
   "cell_type": "markdown",
   "id": "4b9ecba8-a490-44bf-9a31-b94faa77d3c3",
   "metadata": {},
   "source": [
    "# Playbook Explorer\n",
    "\n",
    "This notebook is intended to be a live example of how to work with SysML v2 models at analysis-time. For these purposes, the following terms are introduced:\n",
    "* An *interpretation* is the mapping of user model symbols (the \"M1 model\" in OMG-speak) into semantically-correct symbols that represent real world objects meant to conform to the model (the \"M0\" in OMG-speak). Interpretation semantics are inspired by https://www.w3.org/TR/owl2-direct-semantics/ and are mostly similar.\n",
    "* A *sequence* for an interpretation contains *atoms* or *instances* that match to real world things. Reading a sequence from left to right provides a set of nested contexts for the atoms that is important to the interpretation. For example [Rocket#0, LS#3] is a 2-sequence to describe facts around the LS#3 atom when it is considered in context for Rocket#0. This is an important idea for the SysML time and occurrence model where one may want to see how values change under different conditions.\n",
    "\n",
    "This is a notebook that walks through the random interpretation generator to help developers working on their own interpreters."
   ]
  },
  {
   "cell_type": "markdown",
   "id": "e405de1e-20e9-4763-a363-ddb6eb6fac9d",
   "metadata": {},
   "source": [
    "## Example Model\n",
    "\n",
    "The model that is used for this example is the SysML v2 Kerbal model written by Bjorn Cole\n",
    "\n",
    "The textual SysML v2 model is the Kerbal model:\n",
    "\n",
    "    package Kerbal {\n",
    "        package 'Rocket Building' {\n",
    "            import ScalarFunctions::*;\n",
    "\n",
    "            part def Rocket {\n",
    "                part stages : 'Rocket Stage' [1..5] {\n",
    "                    // placing this here because previous stages only make sense in context of a full vehicle\n",
    "                    ref 'Carried Stage' : 'Rocket Stage' [1];\n",
    "                    attribute 'Payload Mass' : Real;\n",
    "                    attribute 'Loaded Mass' : Real;\n",
    "                    attribute 'Burnout Mass' : Real;\n",
    "                    part 'Coupler to Carrying Stage' : Coupler [0..8] {\n",
    "                        attribute 'Separation Force' : Real;\n",
    "                    }\n",
    "                }\n",
    "            }\n",
    "            item def Oxidizer;\n",
    "            item def Fuel;\n",
    "            item def 'Solid Propellant';\n",
    "\n",
    "            // TODO: Something something part symmetry\n",
    "            abstract part def 'Rocket Stage';\n",
    "\n",
    "            // use stage types to enforce matching\n",
    "            part def 'Liquid Stage' :> 'Rocket Stage' {\n",
    "                part engines : 'Liquid Engine' [0..8];\n",
    "                part tanks : 'Fuel Tank Section' [0..30];\n",
    "                attribute 'Full Mass' : Real = sum(engines->collect p:'Kerbal Rocket Part' (p::Mass)) +\n",
    "                                        sum(tanks->collect p:'Fuel Tank Section' (p::'Full Mass'));\n",
    "\n",
    "                attribute 'Empty Mass' : Real;\n",
    "            }\n",
    "            part def 'Solid Stage' :> 'Rocket Stage' {\n",
    "                part boosters : 'Solid Booster' [0..8];\n",
    "                attribute 'Full Mass' : Real;\n",
    "                attribute 'Empty Mass' : Real;\n",
    "            }\n",
    "\n",
    "            part def 'Coupler' :> 'Kerbal Rocket Part';\n",
    "\n",
    "            abstract part def 'Fuel Tank Section' :> 'Kerbal Rocket Part' {\n",
    "                attribute 'Liquid Fuel' : Real;\n",
    "                attribute 'Oxidizer' : Real;\n",
    "                attribute 'Full Mass' : Real;\n",
    "                attribute 'Empty Mass' : Real;\n",
    "            }\n",
    "\n",
    "            abstract part def 'Liquid Engine' :> 'Kerbal Rocket Part' {\n",
    "                attribute 'Specific Impulse' : Real;\n",
    "                attribute 'Thrust' : Real;\n",
    "            }\n",
    "            abstract part def 'Solid Booster' :> 'Kerbal Rocket Part' {\n",
    "                attribute 'Specific Impulse' : Real;\n",
    "                attribute 'Full Mass' : Real;\n",
    "                attribute 'Empty Mass' : Real;\n",
    "                attribute 'Thrust' : Real;\n",
    "            }\n",
    "\n",
    "            part def 'Pod' :> 'Kerbal Rocket Part'  {\n",
    "                attribute Torque : Real;\n",
    "            }\n",
    "            part def 'Parachute' :> 'Kerbal Rocket Part';\n",
    "\n",
    "            part def 'Kerbal Rocket Part' {\n",
    "                attribute Mass : Real;\n",
    "                attribute 'Max Temperature' : Real;\n",
    "            }\n",
    "        }\n",
    "        package 'Parts Library' {\n",
    "            import ScalarFunctions::*;\n",
    "            part def 'FL-T200 Fuel Tank' :> 'Rocket Building'::'Fuel Tank Section' {\n",
    "                attribute 'Full Mass' : Real :>> 'Rocket Building'::'Fuel Tank Section'::'Full Mass' = 1.125;\n",
    "                attribute 'Empty Mass' : Real :>> 'Rocket Building'::'Fuel Tank Section'::'Empty Mass' = 0.125;\n",
    "            }\n",
    "            part def 'FL-T100 Fuel Tank' :> 'Rocket Building'::'Fuel Tank Section' {\n",
    "                attribute 'Full Mass' : Real :>> 'Rocket Building'::'Fuel Tank Section'::'Full Mass' = 0.5625;\n",
    "                attribute 'Empty Mass' : Real :>> 'Rocket Building'::'Fuel Tank Section'::'Empty Mass' = 0.0625;\n",
    "            }\n",
    "            part def 'Mk1 Command Pod' :> 'Rocket Building'::'Pod';\n",
    "            part def 'LV-T45 \"Swivel\" Liquid Fuel Engine' :> 'Rocket Building'::'Liquid Engine' {\n",
    "                attribute 'Specific Impulse' : Real :>> 'Rocket Building'::'Liquid Engine'::'Specific Impulse' = 170.0;\n",
    "                attribute 'Thrust' : Real :>> 'Rocket Building'::'Liquid Engine'::'Thrust' = 167.97;\n",
    "                attribute 'Mass' : Real :>> 'Rocket Building'::'Kerbal Rocket Part'::Mass = 1.50;\n",
    "            }\n",
    "            part def 'RT-5 \"Flea\" Solid Fuel Booster' :> 'Rocket Building'::'Solid Booster' {\n",
    "                attribute 'Full Mass' : Real :>> 'Rocket Building'::'Solid Booster'::'Full Mass' = 1.50;\n",
    "                attribute 'Empty Mass' : Real :>> 'Rocket Building'::'Solid Booster'::'Empty Mass' = 0.45;\n",
    "                attribute 'Specific Impulse' : Real :>> 'Rocket Building'::'Solid Booster'::'Specific Impulse' = 140.0;\n",
    "                attribute 'Thrust' : Real :>> 'Rocket Building'::'Solid Booster'::'Thrust' = 162.91;\n",
    "            }\n",
    "            part def 'RT-10 \"Hammer\" Solid Fuel Booster' :> 'Rocket Building'::'Solid Booster' {\n",
    "                attribute 'Full Mass' : Real :>> 'Rocket Building'::'Solid Booster'::'Full Mass' = 3.56;\n",
    "                attribute 'Empty Mass' : Real :>> 'Rocket Building'::'Solid Booster'::'Empty Mass' = 0.75;\n",
    "                attribute 'Specific Impulse' : Real :>> 'Rocket Building'::'Solid Booster'::'Specific Impulse' = 170.0;\n",
    "                attribute 'Thrust' : Real :>> 'Rocket Building'::'Solid Booster'::Thrust = 197.90;\n",
    "            }\n",
    "        }\n",
    "    }"
   ]
  },
  {
   "cell_type": "markdown",
   "id": "5354f8ac-7cd4-4910-8cfc-d5b9e4fd0263",
   "metadata": {},
   "source": [
    "## Imports\n",
    "\n",
    "Import key modules, functions, and classes from the PyMBE library:"
   ]
  },
  {
   "cell_type": "code",
   "execution_count": null,
   "id": "9dd5d23e-7a3a-4a8a-a297-c3598c048c4e",
   "metadata": {},
   "outputs": [],
   "source": [
    "import os\n",
    "from pathlib import Path\n",
    "\n",
    "import networkx as nx\n",
    "\n",
    "import pymbe.api as pm\n",
    "from pymbe.client import SysML2Client\n",
    "from pymbe.label import get_label\n",
    "from pymbe.graph.lpg import SysML2LabeledPropertyGraph\n",
    "from pymbe.interpretation.calc_dependencies import generate_execution_order\n",
    "from pymbe.interpretation.interp_playbooks import *\n",
    "from pymbe.interpretation.results import *\n",
    "from pymbe.query.metamodel_navigator import map_inputs_to_results"
   ]
  },
  {
   "cell_type": "markdown",
   "id": "e688d538-53b0-49c3-a805-c6ccb29c00dc",
   "metadata": {},
   "source": [
    "## Key IDs\n",
    "\n",
    "The unique identifiers below are useful references for walking through the interpretations generated in this notebook."
   ]
  },
  {
   "cell_type": "code",
   "execution_count": null,
   "id": "f14b53d3-bee3-4ca1-939f-fe2f8f410b7a",
   "metadata": {},
   "outputs": [],
   "source": [
    "fts_full_mass = '004a1b5f-4bfc-4460-9f38-1e7b4caba6e5' # Full Mass Attribute under Fuel Tank Sections\n",
    "ft200_full_mass = '1e5a0ed7-8b41-4ab4-a433-8f7eedd75833' # Full Mass Attribute under FL-T200 Fuel Tank\n",
    "ft100_full_mass = 'a57b423b-5c0c-4057-be6b-689abcb536b2' # Full Mass Attribute under FL-T100 Fuel Tank\n",
    "liquid_stage_full_mass = '7beafac8-c1c1-4b1b-ae21-d3c9a733531c' # Full Mass Attribute under Liquid Stage\n",
    "top_plus = 'b51bb349-e210-4be8-be64-e749ea4e563b' # The '+' Expression under the Full Mass Attribute under Liquid Stage\n",
    "tank_mass_sum_1 = '700d97d1-410a-459c-ad09-8792c27e2803' # The 'sum' Expression that sums Full Mass of tanks\n",
    "collect_1 = 'd6644a0a-6eef-49c1-a770-60886073554c' # The 'collect' Expression that gathers Full Masses that apply to the current scope\n",
    "collect_1_result = '2caccce7-a0b4-4926-8f24-0dbffb92f6ad' # The result parameter of above collect expression\n",
    "full_mass_dot = 'ad0bff53-eebe-4446-a8df-4db0b7187707' # Expression that scopes Full Mass attribute in FeatureReferenceExpression\n",
    "fre_1 = '2665fb1b-1f12-4f13-a977-0f060915773e' # Expression to point to the instances of Full Mass\n",
    "fre_1_result = '6cfb516b-6045-454e-a521-83b747acef7e' # Result of gathering all instances of Full Mass from the interpretation\n",
    "sum_1_result = '31f8c4bd-9700-4bc3-9970-3eb5451f0203' # Result of the sum Expression on Full Mass\n",
    "x = '478a8a4d-90c7-44fd-a2ae-e4057636d4bc'\n",
    "\n",
    "fre_2_result = '5897d247-1e81-41ad-bc5e-92eac8b35c2f' # Result of gathering all instances of Full Mass from the interpretation\n",
    "collect_2_result = '2119c27e-d44c-479e-8b31-64de015dad61' # The result parameter of above collect expression\n",
    "sum_2_collection = '3947bb94-0f09-413a-924b-2b1422354c93' # Input to sum Expression for Mass\n",
    "sum_2_result = 'e50e47ab-4d6c-42d1-8997-81c52ffb7068' # Result of the sum Expression on Mass"
   ]
  },
  {
   "cell_type": "markdown",
   "id": "4781f4e7-9176-4258-a3af-13076eeacb84",
   "metadata": {},
   "source": [
    "## Client Setup\n",
    "\n",
    "The example here uses a local copy of the JSON file obtained by a GET operation on the SysML v2 API at:\n",
    "http://sysml2-sst.intercax.com:9000/projects/a4f6a618-e4eb-4ac8-84b8-d6bcd3badcec/commits/c48aea9b-42fb-49b3-9a3e-9c39385408d7/elements?page[size]=5000"
   ]
  },
  {
   "cell_type": "markdown",
   "id": "9521c0ea-a498-4a37-b2c7-c7c4440157de",
   "metadata": {},
   "source": [
    "Create the client and load local data."
   ]
  },
  {
   "cell_type": "code",
   "execution_count": null,
   "id": "b66f365e-ef81-42ba-bdae-2f5d239abe4f",
   "metadata": {},
   "outputs": [],
   "source": [
    "helper_client = SysML2Client()\n",
    "\n",
    "elements_data_path = Path(\"..\") / \"tests\" / \"fixtures\" / \"Kerbal.json\"\n",
    "assert elements_data_path.exists(), f\"Could not find: '{elements_data_path}'\"\n",
    "\n",
    "helper_client._load_from_file(elements_data_path)"
   ]
  },
  {
   "cell_type": "markdown",
   "id": "f9497fb5-64e1-476f-9d1a-295cc8794a48",
   "metadata": {},
   "source": [
    "Create a graph representation of the model and load it into memory."
   ]
  },
  {
   "cell_type": "code",
   "execution_count": null,
   "id": "8faf098c-8e66-488c-9b28-b6f3a8be6a93",
   "metadata": {},
   "outputs": [],
   "source": [
    "lpg = SysML2LabeledPropertyGraph()\n",
    "lpg.update(helper_client.elements_by_id, False)"
   ]
  },
  {
   "cell_type": "markdown",
   "id": "1522f0a3-03b8-4784-86fa-ea1e3a59befa",
   "metadata": {},
   "source": [
    "This is just a helper to make abbreviations more legible."
   ]
  },
  {
   "cell_type": "code",
   "execution_count": null,
   "id": "a890ad5d-62bc-4e22-a71e-2d66295c772e",
   "metadata": {},
   "outputs": [],
   "source": [
    "shorten_pre_bake = {\n",
    "    'RT-10 \"Hammer\" Solid Fuel Booster': \"RT-10\",\n",
    "    'RT-5 \"Flea\" Solid Fuel Booster': \"RT-5\",\n",
    "    'LV-T45 \"Swivel\" Liquid Fuel Engine': \"LV-T45\",\n",
    "    'FL-T100 Fuel Tank': \"FL-T100\",\n",
    "    'FL-T200 Fuel Tank': \"FL-T200\"\n",
    "}"
   ]
  },
  {
   "cell_type": "markdown",
   "id": "f35e1c75-0746-4297-b159-31dc16adca07",
   "metadata": {},
   "source": [
    "Create an interpretation of the Kerbal model using the random generator playbook. In general, this randomly selects:\n",
    "- The ratios of partitioning abstract classifier sequence sets into concrete sets. For example, one draw may choose 2 liquid stages and 3 solids.\n",
    "- The number of sequences to create for a given feature multiplicity. For example, draw 2 for a 0..8 engines : Liquid Engine PartUsage.\n",
    "\n",
    "The playbook also attempts to make sequences created obey the Subsetting relationship (elements marked with subsets in M1 model should have their interpretation sequences entirely included within the interpretation sequences of the superset)."
   ]
  },
  {
   "cell_type": "code",
   "execution_count": null,
   "id": "cc64cbc6-c15b-4f79-84dc-1af698b5963f",
   "metadata": {},
   "outputs": [],
   "source": [
    "m0_interpretation = random_generator_playbook(\n",
    "    lpg,\n",
    "    shorten_pre_bake,\n",
    ")"
   ]
  },
  {
   "cell_type": "markdown",
   "id": "37b882b2-f601-4c61-a8a9-4029b2e7381d",
   "metadata": {},
   "source": [
    "To see how sequences are structured, the cell below renders sequences that show what type of atoms will fill particular positions in the sequence, as well as the maximum multiplicity (number of) sequences."
   ]
  },
  {
   "cell_type": "code",
   "execution_count": null,
   "id": "43685e41-dc8a-4f91-b58e-4711e92cc052",
   "metadata": {},
   "outputs": [],
   "source": [
    "from pymbe.query.query import roll_up_upper_multiplicity, roll_up_multiplicity_for_type\n",
    "\n",
    "feat_sequences = build_sequence_templates(lpg=lpg)\n",
    "\n",
    "total = 0\n",
    "for seq in feat_sequences:\n",
    "    print(str(pprint_single_id_list(seq, lpg.nodes)) + \", \" + str(roll_up_upper_multiplicity(lpg, lpg.nodes[seq[-1]])))"
   ]
  },
  {
   "cell_type": "markdown",
   "id": "34b37e3a-82bc-4e03-9b0d-514cbdf0f0d9",
   "metadata": {},
   "source": [
    "Once the interpretations are generated, we can look for expressions and create an execution order (this is similar to Excel builds a dependency graph internally to accelerate computations and partial updates when a user changes a cell value)."
   ]
  },
  {
   "cell_type": "code",
   "execution_count": null,
   "id": "a5f5915f-2368-4c65-834c-2505fff92fb4",
   "metadata": {},
   "outputs": [],
   "source": [
    "dcg = generate_execution_order(lpg, m0_interpretation)"
   ]
  },
  {
   "cell_type": "markdown",
   "id": "b4a229a5-480a-41ee-9ecf-d3fe6f1c1783",
   "metadata": {},
   "source": [
    "One of the core tools in examining and working with the M1 model is using the get_projection function on the master graph to select out the kind of nodes and edges that will support other queries (roll-up using breadth-first search in reverse order, paths from one node to another to lay out sequences, etc.)"
   ]
  },
  {
   "cell_type": "code",
   "execution_count": null,
   "id": "15f179ab-d182-46d0-9013-d4414376f7c1",
   "metadata": {},
   "outputs": [],
   "source": [
    "from pymbe.graph.calc_lpg import CalculationGroup\n",
    "cg = CalculationGroup(lpg.get_projection(\"Expression Inferred Graph\"), m0_interpretation, dcg)"
   ]
  },
  {
   "cell_type": "markdown",
   "id": "abc869d6-4494-4de2-b8de-5974afda0a03",
   "metadata": {},
   "source": [
    "Display the calculation order determined by the algorithm, as well as a hint about what the step is (generating output from a function, moving values from function parameters to an attribute, applying redefinition, etc.)"
   ]
  },
  {
   "cell_type": "code",
   "execution_count": null,
   "id": "27d2fc68-8c05-45b7-8fc9-ddc12d625564",
   "metadata": {},
   "outputs": [],
   "source": [
    "for item in dcg:\n",
    "    instance_safe = True\n",
    "    if item[0] not in m0_interpretation or len(m0_interpretation[item[0]]) == 0:\n",
    "        print(\"No instances for \" + lpg.nodes[item[0]]['qualifiedName'])\n",
    "        instance_safe = False\n",
    "    if item[1] not in m0_interpretation or len(m0_interpretation[item[1]]) == 0:\n",
    "        print(\"No instances for \" + lpg.nodes[item[1]]['qualifiedName'])\n",
    "        instance_safe = False\n",
    "    if instance_safe:\n",
    "        rep_source = m0_interpretation[item[0]][0][-1]\n",
    "        rep_target = m0_interpretation[item[1]][0][-1]\n",
    "        if len(item) == 3:\n",
    "            safe_item = item[2]\n",
    "        else:\n",
    "            safe_item = 'None'\n",
    "        print('(' + str(rep_source) + ', ' + str(rep_target) + ', ' + safe_item + ')')"
   ]
  },
  {
   "cell_type": "markdown",
   "id": "8f333a0c-f06e-457a-9678-cdc0bda628c9",
   "metadata": {},
   "source": [
    "Use the calculation order in order to resolve the \"unset\" fields on many attributes to values where they are determined in the M1 model (e.g., using the ' = ' operator to assign values directly or connect to equations or analyses)."
   ]
  },
  {
   "cell_type": "code",
   "execution_count": null,
   "id": "55819138-3597-4070-8b0d-c73f6e12f31d",
   "metadata": {},
   "outputs": [],
   "source": [
    "cg.solve_graph(lpg)"
   ]
  },
  {
   "cell_type": "markdown",
   "id": "461a6537-2b8a-49f4-897b-c57a9888800f",
   "metadata": {},
   "source": [
    "## Calculation Results Shown\n",
    "\n",
    "The following cells are a series of displays of relevant features in the interpretation."
   ]
  },
  {
   "cell_type": "code",
   "execution_count": null,
   "id": "d9bd24d3-2bae-4394-aa06-4e379b8c48e9",
   "metadata": {},
   "outputs": [],
   "source": [
    "m0_interpretation[collect_1_result]"
   ]
  },
  {
   "cell_type": "code",
   "execution_count": null,
   "id": "27576101-8841-4403-9a3e-c6265ae50e09",
   "metadata": {},
   "outputs": [],
   "source": [
    "m0_interpretation[collect_2_result]"
   ]
  },
  {
   "cell_type": "code",
   "execution_count": null,
   "id": "e23175bb-c9b9-4938-a919-8ed477ef2075",
   "metadata": {},
   "outputs": [],
   "source": [
    "m0_interpretation[sum_2_collection]"
   ]
  },
  {
   "cell_type": "code",
   "execution_count": null,
   "id": "5c1b19a4-533f-481c-bf09-77be140822a9",
   "metadata": {},
   "outputs": [],
   "source": [
    "m0_interpretation[sum_1_result]"
   ]
  },
  {
   "cell_type": "code",
   "execution_count": null,
   "id": "40d25c6c-74b7-4219-9a08-8c40c189b607",
   "metadata": {},
   "outputs": [],
   "source": [
    "m0_interpretation[x]"
   ]
  },
  {
   "cell_type": "code",
   "execution_count": null,
   "id": "c7b0554d-16d7-414c-8566-2900bec8ea52",
   "metadata": {},
   "outputs": [],
   "source": [
    "m0_interpretation[liquid_stage_full_mass]"
   ]
  },
  {
   "cell_type": "code",
   "execution_count": null,
   "id": "31214eb4-294f-4e6a-87c5-29d9c08b1d87",
   "metadata": {},
   "outputs": [],
   "source": [
    "m0_interpretation[fre_1_result]"
   ]
  },
  {
   "cell_type": "code",
   "execution_count": null,
   "id": "56bb7103-f200-4630-8a04-1bfb972ecdd0",
   "metadata": {},
   "outputs": [],
   "source": [
    "m0_interpretation[fre_2_result]"
   ]
  },
  {
   "cell_type": "markdown",
   "id": "ed5b0fbd-9d75-45af-971c-b334798340fb",
   "metadata": {},
   "source": [
    "Show all interpretation sequence sets (limited to length of 5)."
   ]
  },
  {
   "cell_type": "code",
   "execution_count": null,
   "id": "54a33294-b833-45f9-a5f9-f70b9231aa96",
   "metadata": {},
   "outputs": [],
   "source": [
    "for print_line in pprint_interpretation(m0_interpretation, lpg.nodes):\n",
    "    print(print_line)"
   ]
  }
 ],
 "metadata": {
  "kernelspec": {
   "display_name": "Python 3",
   "language": "python",
   "name": "python3"
  },
  "language_info": {
   "codemirror_mode": {
    "name": "ipython",
    "version": 3
   },
   "file_extension": ".py",
   "mimetype": "text/x-python",
   "name": "python",
   "nbconvert_exporter": "python",
   "pygments_lexer": "ipython3",
   "version": "3.9.4"
  }
 },
 "nbformat": 4,
 "nbformat_minor": 5
}
