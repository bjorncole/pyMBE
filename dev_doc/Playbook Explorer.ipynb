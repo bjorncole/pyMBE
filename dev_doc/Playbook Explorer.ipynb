{
 "cells": [
  {
   "cell_type": "markdown",
   "id": "adc3348f",
   "metadata": {},
   "source": [
    "# Playbook Explorer\n",
    "\n",
    "This notebook is intended to be a live example of how to work with SysML v2 models at analysis-time. For these purposes, the following terms are introduced:\n",
    "* An *interpretation* is the mapping of user model symbols (the \"M1 model\" in OMG-speak) into semantically-correct symbols that represent real world objects meant to conform to the model (the \"M0\" in OMG-speak). Interpretation semantics are inspired by https://www.w3.org/TR/owl2-direct-semantics/ and are mostly similar.\n",
    "* A *sequence* for an interpretation contains *atoms* or *instances* that match to real world things. Reading a sequence from left to right provides a set of nested contexts for the atoms that is important to the interpretation. For example [Rocket#0, LS#3] is a 2-sequence to describe facts around the LS#3 atom when it is considered in context for Rocket#0. This is an important idea for the SysML time and occurrence model where one may want to see how values change under different conditions.\n",
    "\n",
    "This is a notebook that walks through the random interpretation generator to help developers working on their own interpreters."
   ]
  },
  {
   "cell_type": "markdown",
   "id": "3578af16",
   "metadata": {},
   "source": [
    "## Example Model\n",
    "\n",
    "The model that is used for this example is the SysML v2 Kerbal model written by Bjorn Cole\n",
    "\n",
    "The textual SysML v2 model is the Kerbal model:\n",
    "\n",
    "    package Kerbal {\n",
    "        package 'Rocket Building' {\n",
    "            import ScalarFunctions::*;\n",
    "\n",
    "            part def Rocket {\n",
    "                part stages : 'Rocket Stage' [1..5] {\n",
    "                    // placing this here because previous stages only make sense in context of a full vehicle\n",
    "                    ref 'Carried Stage' : 'Rocket Stage' [1];\n",
    "                    attribute 'Payload Mass' : Real;\n",
    "                    attribute 'Loaded Mass' : Real;\n",
    "                    attribute 'Burnout Mass' : Real;\n",
    "                    part 'Coupler to Carrying Stage' : Coupler [0..8] {\n",
    "                        attribute 'Separation Force' : Real;\n",
    "                    }\n",
    "                }\n",
    "            }\n",
    "            item def Oxidizer;\n",
    "            item def Fuel;\n",
    "            item def 'Solid Propellant';\n",
    "\n",
    "            // TODO: Something something part symmetry\n",
    "            abstract part def 'Rocket Stage';\n",
    "\n",
    "            // use stage types to enforce matching\n",
    "            part def 'Liquid Stage' :> 'Rocket Stage' {\n",
    "                part engines : 'Liquid Engine' [0..8];\n",
    "                part tanks : 'Fuel Tank Section' [0..30];\n",
    "                attribute 'Full Mass' : Real = sum(engines->collect p:'Kerbal Rocket Part' (p::Mass)) +\n",
    "                                        sum(tanks->collect p:'Fuel Tank Section' (p::'Full Mass'));\n",
    "\n",
    "                attribute 'Empty Mass' : Real;\n",
    "            }\n",
    "            part def 'Solid Stage' :> 'Rocket Stage' {\n",
    "                part boosters : 'Solid Booster' [0..8];\n",
    "                attribute 'Full Mass' : Real;\n",
    "                attribute 'Empty Mass' : Real;\n",
    "            }\n",
    "\n",
    "            part def 'Coupler' :> 'Kerbal Rocket Part';\n",
    "\n",
    "            abstract part def 'Fuel Tank Section' :> 'Kerbal Rocket Part' {\n",
    "                attribute 'Liquid Fuel' : Real;\n",
    "                attribute 'Oxidizer' : Real;\n",
    "                attribute 'Full Mass' : Real;\n",
    "                attribute 'Empty Mass' : Real;\n",
    "            }\n",
    "\n",
    "            abstract part def 'Liquid Engine' :> 'Kerbal Rocket Part' {\n",
    "                attribute 'Specific Impulse' : Real;\n",
    "                attribute 'Thrust' : Real;\n",
    "            }\n",
    "            abstract part def 'Solid Booster' :> 'Kerbal Rocket Part' {\n",
    "                attribute 'Specific Impulse' : Real;\n",
    "                attribute 'Full Mass' : Real;\n",
    "                attribute 'Empty Mass' : Real;\n",
    "                attribute 'Thrust' : Real;\n",
    "            }\n",
    "\n",
    "            part def 'Pod' :> 'Kerbal Rocket Part'  {\n",
    "                attribute Torque : Real;\n",
    "            }\n",
    "            part def 'Parachute' :> 'Kerbal Rocket Part';\n",
    "\n",
    "            part def 'Kerbal Rocket Part' {\n",
    "                attribute Mass : Real;\n",
    "                attribute 'Max Temperature' : Real;\n",
    "            }\n",
    "        }\n",
    "        package 'Parts Library' {\n",
    "            import ScalarFunctions::*;\n",
    "            part def 'FL-T200 Fuel Tank' :> 'Rocket Building'::'Fuel Tank Section' {\n",
    "                attribute 'Full Mass' : Real :>> 'Rocket Building'::'Fuel Tank Section'::'Full Mass' = 1.125;\n",
    "                attribute 'Empty Mass' : Real :>> 'Rocket Building'::'Fuel Tank Section'::'Empty Mass' = 0.125;\n",
    "            }\n",
    "            part def 'FL-T100 Fuel Tank' :> 'Rocket Building'::'Fuel Tank Section' {\n",
    "                attribute 'Full Mass' : Real :>> 'Rocket Building'::'Fuel Tank Section'::'Full Mass' = 0.5625;\n",
    "                attribute 'Empty Mass' : Real :>> 'Rocket Building'::'Fuel Tank Section'::'Empty Mass' = 0.0625;\n",
    "            }\n",
    "            part def 'Mk1 Command Pod' :> 'Rocket Building'::'Pod';\n",
    "            part def 'LV-T45 \"Swivel\" Liquid Fuel Engine' :> 'Rocket Building'::'Liquid Engine' {\n",
    "                attribute 'Specific Impulse' : Real :>> 'Rocket Building'::'Liquid Engine'::'Specific Impulse' = 170.0;\n",
    "                attribute 'Thrust' : Real :>> 'Rocket Building'::'Liquid Engine'::'Thrust' = 167.97;\n",
    "                attribute 'Mass' : Real :>> 'Rocket Building'::'Kerbal Rocket Part'::Mass = 1.50;\n",
    "            }\n",
    "            part def 'RT-5 \"Flea\" Solid Fuel Booster' :> 'Rocket Building'::'Solid Booster' {\n",
    "                attribute 'Full Mass' : Real :>> 'Rocket Building'::'Solid Booster'::'Full Mass' = 1.50;\n",
    "                attribute 'Empty Mass' : Real :>> 'Rocket Building'::'Solid Booster'::'Empty Mass' = 0.45;\n",
    "                attribute 'Specific Impulse' : Real :>> 'Rocket Building'::'Solid Booster'::'Specific Impulse' = 140.0;\n",
    "                attribute 'Thrust' : Real :>> 'Rocket Building'::'Solid Booster'::'Thrust' = 162.91;\n",
    "            }\n",
    "            part def 'RT-10 \"Hammer\" Solid Fuel Booster' :> 'Rocket Building'::'Solid Booster' {\n",
    "                attribute 'Full Mass' : Real :>> 'Rocket Building'::'Solid Booster'::'Full Mass' = 3.56;\n",
    "                attribute 'Empty Mass' : Real :>> 'Rocket Building'::'Solid Booster'::'Empty Mass' = 0.75;\n",
    "                attribute 'Specific Impulse' : Real :>> 'Rocket Building'::'Solid Booster'::'Specific Impulse' = 170.0;\n",
    "                attribute 'Thrust' : Real :>> 'Rocket Building'::'Solid Booster'::Thrust = 197.90;\n",
    "            }\n",
    "        }\n",
    "    }"
   ]
  },
  {
   "cell_type": "markdown",
   "id": "867d0a20",
   "metadata": {},
   "source": [
    "## Imports\n",
    "\n",
    "Import key modules, functions, and classes from the PyMBE library:"
   ]
  },
  {
   "cell_type": "code",
   "execution_count": null,
   "id": "c29f9679",
   "metadata": {},
   "outputs": [],
   "source": [
    "import os\n",
    "from pathlib import Path\n",
    "\n",
    "import networkx as nx\n",
    "\n",
    "import pymbe.api as pm\n",
    "from pymbe.client import SysML2Client\n",
    "from pymbe.label import *\n",
    "from pymbe.graph.lpg import SysML2LabeledPropertyGraph\n",
    "from pymbe.interpretation.calc_dependencies import generate_execution_order, generate_parameter_signature_map\n",
    "from pymbe.interpretation.interp_playbooks import *\n",
    "from pymbe.interpretation.results import *"
   ]
  },
  {
   "cell_type": "markdown",
   "id": "c7cdd1be",
   "metadata": {},
   "source": [
    "## Key IDs\n",
    "\n",
    "The unique identifiers below are useful references for walking through the interpretations generated in this notebook."
   ]
  },
  {
   "cell_type": "code",
   "execution_count": null,
   "id": "83fb572d",
   "metadata": {},
   "outputs": [],
   "source": [
    "fts_full_mass = 'b97614b5-a413-471c-ade2-e1bfc7816543' # Full Mass Attribute under Fuel Tank Sections\n",
    "ft200_full_mass = 'e6d1c157-fbff-4b45-9a8a-ed192431510f' # Full Mass Attribute under FL-T200 Fuel Tank\n",
    "ft100_full_mass = 'f7d4ac57-9a58-4bec-9153-2254019de47d' # Full Mass Attribute under FL-T100 Fuel Tank\n",
    "liquid_stage_full_mass = 'd2ccb1d4-015f-4d74-82ee-b795c2ea1c16' # Full Mass Attribute under Liquid Stage\n",
    "top_plus = '3b2d0703-6c19-4584-901b-9aabb156fde2' # The '+' Expression under the Full Mass Attribute under Liquid Stage\n",
    "tank_mass_sum_1 = '75ea8b2b-8805-45df-bac1-5ffd955e4982' # The 'sum' Expression that sums Full Mass of tanks\n",
    "#collect_1 = 'd6644a0a-6eef-49c1-a770-60886073554c' # The 'collect' Expression that gathers Full Masses that apply to the current scope\n",
    "#collect_1_result = '2caccce7-a0b4-4926-8f24-0dbffb92f6ad' # The result parameter of above collect expression\n",
    "full_mass_dot = '86a423f7-18b6-4a86-ac52-2f69302121ab' # Expression that scopes Full Mass attribute in FeatureReferenceExpression\n",
    "fre_1 = '6505ffab-edc1-442d-9d99-91802d764df8' # Expression to point to the instances of Full Mass\n",
    "fre_1_result = 'b316c054-39af-4c78-a9f8-4e0445dfb836' # Result of gathering all instances of Full Mass from the interpretation\n",
    "sum_1_result = '5f2e43c7-eada-4be7-b934-ed30180b2aec' # Result of the sum Expression on Full Mass\n",
    "x = '85e06150-af83-4262-81c4-c95aa2817ce7'\n",
    "\n",
    "real = 'ee569a49-1a15-49e8-990c-6cd545b2971e'"
   ]
  },
  {
   "cell_type": "markdown",
   "id": "235b40fa",
   "metadata": {},
   "source": [
    "## Client Setup\n",
    "\n",
    "The example here uses a local copy of the JSON file obtained by a GET operation on the SysML v2 API at:\n",
    "http://sysml2-sst.intercax.com:9000/projects/a4f6a618-e4eb-4ac8-84b8-d6bcd3badcec/commits/c48aea9b-42fb-49b3-9a3e-9c39385408d7/elements?page[size]=5000"
   ]
  },
  {
   "cell_type": "markdown",
   "id": "c63ccb19",
   "metadata": {},
   "source": [
    "Create the client and load local data."
   ]
  },
  {
   "cell_type": "code",
   "execution_count": null,
   "id": "81093175",
   "metadata": {},
   "outputs": [],
   "source": [
    "helper_client = SysML2Client()\n",
    "\n",
    "elements_data_path = Path(\"..\") / \"tests\" / \"fixtures\" / \"Kerbal.json\"\n",
    "assert elements_data_path.exists(), f\"Could not find: '{elements_data_path}'\"\n",
    "\n",
    "helper_client._load_from_file(elements_data_path)"
   ]
  },
  {
   "cell_type": "markdown",
   "id": "1c38ff1b",
   "metadata": {},
   "source": [
    "Create a graph representation of the model and load it into memory."
   ]
  },
  {
   "cell_type": "code",
   "execution_count": null,
   "id": "066d7b38",
   "metadata": {},
   "outputs": [],
   "source": [
    "lpg = SysML2LabeledPropertyGraph()\n",
    "lpg.model = helper_client.model"
   ]
  },
  {
   "cell_type": "markdown",
   "id": "2a5cae3a",
   "metadata": {},
   "source": [
    "This is just a helper to make abbreviations more legible."
   ]
  },
  {
   "cell_type": "code",
   "execution_count": null,
   "id": "cc27f8c9",
   "metadata": {},
   "outputs": [],
   "source": [
    "shorten_pre_bake = {\n",
    "    'RT-10 \"Hammer\" Solid Fuel Booster': \"RT-10\",\n",
    "    'RT-5 \"Flea\" Solid Fuel Booster': \"RT-5\",\n",
    "    'LV-T45 \"Swivel\" Liquid Fuel Engine': \"LV-T45\",\n",
    "    'FL-T100 Fuel Tank': \"FL-T100\",\n",
    "    'FL-T200 Fuel Tank': \"FL-T200\",\n",
    "}"
   ]
  },
  {
   "cell_type": "markdown",
   "id": "034f1738",
   "metadata": {},
   "source": [
    "## Understanding Expressions\n",
    "\n",
    "Eventually this will move out to its own notebook ...\n",
    "\n",
    "Expressions form trees inside the M1 model. Some work has to be done in order to understand them and how data should flow from result parameters in one expression to the input parameters of another."
   ]
  },
  {
   "cell_type": "markdown",
   "id": "4bb0054e",
   "metadata": {},
   "source": [
    "Create an interpretation of the Kerbal model using the random generator playbook. In general, this randomly selects:\n",
    "- The ratios of partitioning abstract classifier sequence sets into concrete sets. For example, one draw may choose 2 liquid stages and 3 solids.\n",
    "- The number of sequences to create for a given feature multiplicity. For example, draw 2 for a 0..8 engines : Liquid Engine PartUsage.\n",
    "\n",
    "The playbook also attempts to make sequences created obey the Subsetting relationship (elements marked with subsets in M1 model should have their interpretation sequences entirely included within the interpretation sequences of the superset)."
   ]
  },
  {
   "cell_type": "code",
   "execution_count": null,
   "id": "a4d22bef",
   "metadata": {},
   "outputs": [],
   "source": [
    "exec_order = generate_execution_order(lpg)"
   ]
  },
  {
   "cell_type": "code",
   "execution_count": null,
   "id": "8e23cbd8",
   "metadata": {},
   "outputs": [],
   "source": [
    "pprint_edges(exec_order, helper_client.model)"
   ]
  },
  {
   "cell_type": "code",
   "execution_count": null,
   "id": "73c84ea9",
   "metadata": {},
   "outputs": [],
   "source": [
    "sig_map = generate_parameter_signature_map(helper_client.model, exec_order)\n",
    "sig_map"
   ]
  },
  {
   "cell_type": "code",
   "execution_count": null,
   "id": "061caccd",
   "metadata": {},
   "outputs": [],
   "source": [
    "get_qualified_label(\n",
    "    helper_client.model.elements[\"78e4b4b9-b08f-41fc-b51a-d5350a7fcaf6\"],\n",
    "    sig_map,\n",
    "    False,\n",
    ")"
   ]
  },
  {
   "cell_type": "code",
   "execution_count": null,
   "id": "0c66fe9a",
   "metadata": {},
   "outputs": [],
   "source": [
    "get_qualified_label(\n",
    "    helper_client.model.elements[\"5897d247-1e81-41ad-bc5e-92eac8b35c2f\"],\n",
    "    sig_map,\n",
    "    False,\n",
    ")"
   ]
  },
  {
   "cell_type": "code",
   "execution_count": null,
   "id": "d4b710e1",
   "metadata": {},
   "outputs": [],
   "source": [
    "m0_interpretation = random_generator_playbook(\n",
    "    lpg,\n",
    "    shorten_pre_bake,\n",
    ")"
   ]
  },
  {
   "cell_type": "code",
   "execution_count": null,
   "id": "48a1fd87",
   "metadata": {},
   "outputs": [],
   "source": [
    "pprint_single_id_list(list(m0_interpretation.keys()), helper_client.model)"
   ]
  },
  {
   "cell_type": "markdown",
   "id": "5a4707f9",
   "metadata": {},
   "source": [
    "To see how sequences are structured, the cell below renders sequences that show what type of atoms will fill particular positions in the sequence, as well as the maximum multiplicity (number of) sequences."
   ]
  },
  {
   "cell_type": "code",
   "execution_count": null,
   "id": "1885ecd0",
   "metadata": {},
   "outputs": [],
   "source": [
    "from pymbe.query.query import roll_up_upper_multiplicity, roll_up_multiplicity_for_type\n",
    "\n",
    "feat_sequences = build_sequence_templates(lpg=lpg)\n",
    "\n",
    "total = 0\n",
    "for seq in feat_sequences:\n",
    "    print(str(pprint_single_id_list(seq, lpg.model)) + \", \" + str(roll_up_upper_multiplicity(lpg, lpg.model.elements[seq[-1]])))"
   ]
  },
  {
   "cell_type": "markdown",
   "id": "ea4bf287",
   "metadata": {},
   "source": [
    "Once the interpretations are generated, we can look for expressions and create an execution order (this is similar to Excel builds a dependency graph internally to accelerate computations and partial updates when a user changes a cell value)."
   ]
  },
  {
   "cell_type": "code",
   "execution_count": null,
   "id": "a4942e46",
   "metadata": {},
   "outputs": [],
   "source": [
    "dcg = generate_execution_order(lpg)"
   ]
  },
  {
   "cell_type": "markdown",
   "id": "d7065122",
   "metadata": {},
   "source": [
    "One of the core tools in examining and working with the M1 model is using the get_projection function on the master graph to select out the kind of nodes and edges that will support other queries (roll-up using breadth-first search in reverse order, paths from one node to another to lay out sequences, etc.)"
   ]
  },
  {
   "cell_type": "code",
   "execution_count": null,
   "id": "33b161c0",
   "metadata": {},
   "outputs": [],
   "source": [
    "from pymbe.graph.calc_lpg import CalculationGroup\n",
    "cg = CalculationGroup(lpg.get_projection(\"Expression Inferred\"), m0_interpretation, dcg)"
   ]
  },
  {
   "cell_type": "markdown",
   "id": "1f270ad2",
   "metadata": {},
   "source": [
    "Display the calculation order determined by the algorithm, as well as a hint about what the step is (generating output from a function, moving values from function parameters to an attribute, applying redefinition, etc.)"
   ]
  },
  {
   "cell_type": "code",
   "execution_count": null,
   "id": "3b1d0a4f",
   "metadata": {},
   "outputs": [],
   "source": [
    "for item in dcg:\n",
    "    instance_safe = True\n",
    "    if item[0] not in m0_interpretation or len(m0_interpretation[item[0]]) == 0:\n",
    "        print(\"No instances for \" + lpg.nodes[item[0]]['qualifiedName'])\n",
    "        instance_safe = False\n",
    "    if item[1] not in m0_interpretation or len(m0_interpretation[item[1]]) == 0:\n",
    "        print(\"No instances for \" + lpg.nodes[item[1]]['qualifiedName'])\n",
    "        instance_safe = False\n",
    "    if instance_safe:\n",
    "        rep_source = m0_interpretation[item[0]][0][-1]\n",
    "        rep_target = m0_interpretation[item[1]][0][-1]\n",
    "        if len(item) == 3:\n",
    "            safe_item = item[2]\n",
    "        else:\n",
    "            safe_item = 'None'\n",
    "        print('(' + str(rep_source) + ', ' + str(rep_target) + ', ' + safe_item + ')')"
   ]
  },
  {
   "cell_type": "markdown",
   "id": "ed153b7e",
   "metadata": {},
   "source": [
    "Use the calculation order in order to resolve the \"unset\" fields on many attributes to values where they are determined in the M1 model (e.g., using the ' = ' operator to assign values directly or connect to equations or analyses)."
   ]
  },
  {
   "cell_type": "code",
   "execution_count": null,
   "id": "0d77c85d",
   "metadata": {},
   "outputs": [],
   "source": [
    "cg.solve_graph(lpg)"
   ]
  },
  {
   "cell_type": "code",
   "execution_count": null,
   "id": "a285a5bb",
   "metadata": {},
   "outputs": [],
   "source": [
    "[pse for pse in cg.calculation_log if pse.startswith(\"[PSE]\")]"
   ]
  },
  {
   "cell_type": "markdown",
   "id": "cf138784",
   "metadata": {},
   "source": [
    "## Calculation Results Shown\n",
    "\n",
    "The following cells are a series of displays of relevant features in the interpretation."
   ]
  },
  {
   "cell_type": "code",
   "execution_count": null,
   "id": "50daae54",
   "metadata": {},
   "outputs": [],
   "source": [
    "m0_interpretation[sum_1_result]"
   ]
  },
  {
   "cell_type": "code",
   "execution_count": null,
   "id": "f58f0c87",
   "metadata": {},
   "outputs": [],
   "source": [
    "m0_interpretation[x]"
   ]
  },
  {
   "cell_type": "code",
   "execution_count": null,
   "id": "8ff09a14",
   "metadata": {},
   "outputs": [],
   "source": [
    "m0_interpretation[liquid_stage_full_mass]"
   ]
  },
  {
   "cell_type": "code",
   "execution_count": null,
   "id": "181a1416",
   "metadata": {},
   "outputs": [],
   "source": [
    "m0_interpretation[fre_1_result]"
   ]
  },
  {
   "cell_type": "code",
   "execution_count": null,
   "id": "95d584fa",
   "metadata": {},
   "outputs": [],
   "source": [
    "m0_interpretation[real]"
   ]
  },
  {
   "cell_type": "markdown",
   "id": "b092b128",
   "metadata": {},
   "source": [
    "Show all interpretation sequence sets (limited to length of 5)."
   ]
  },
  {
   "cell_type": "code",
   "execution_count": null,
   "id": "4f03f8bc",
   "metadata": {},
   "outputs": [],
   "source": [
    "for print_line in pprint_interpretation(m0_interpretation, helper_client.elements_by_id):\n",
    "    print(print_line)"
   ]
  }
 ],
 "metadata": {
  "interpreter": {
   "hash": "9fe5c9e152601a1eb5e9639b16919aa7b75c6b4ec870d734bdf4d8ae7e914249"
  },
  "kernelspec": {
   "display_name": "Python 3 (ipykernel)",
   "language": "python",
   "name": "python3"
  },
  "language_info": {
   "codemirror_mode": {
    "name": "ipython",
    "version": 3
   },
   "file_extension": ".py",
   "mimetype": "text/x-python",
   "name": "python",
   "nbconvert_exporter": "python",
   "pygments_lexer": "ipython3",
   "version": "3.9.5"
  }
 },
 "nbformat": 4,
 "nbformat_minor": 5
}
