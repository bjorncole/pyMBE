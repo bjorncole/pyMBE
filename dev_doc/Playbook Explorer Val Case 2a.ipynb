{
 "cells": [
  {
   "cell_type": "markdown",
   "id": "4b9ecba8-a490-44bf-9a31-b94faa77d3c3",
   "metadata": {},
   "source": [
    "# Playbook Explorer\n",
    "\n",
    "This notebook is intended to be a live example of how to work with SysML v2 models at analysis-time. For these purposes, the following terms are introduced:\n",
    "* An *interpretation* is the mapping of user model symbols (the \"M1 model\" in OMG-speak) into semantically-correct symbols that represent real world objects meant to conform to the model (the \"M0\" in OMG-speak). Interpretation semantics are inspired by https://www.w3.org/TR/owl2-direct-semantics/ and are mostly similar.\n",
    "* A *sequence* for an interpretation contains *atoms* or *instances* that match to real world things. Reading a sequence from left to right provides a set of nested contexts for the atoms that is important to the interpretation. For example [Rocket#0, LS#3] is a 2-sequence to describe facts around the LS#3 atom when it is considered in context for Rocket#0. This is an important idea for the SysML time and occurrence model where one may want to see how values change under different conditions.\n",
    "\n",
    "This is a notebook that walks through the random interpretation generator to help developers working on their own interpreters."
   ]
  },
  {
   "cell_type": "markdown",
   "id": "e405de1e-20e9-4763-a363-ddb6eb6fac9d",
   "metadata": {},
   "source": [
    "## Example Model\n",
    "\n",
    "The model that is used for this example is the SysML v2 Validation case 2a:\n",
    "\n",
    "    package '2a-Parts Interconnection' {\n",
    "\timport Definitions::*;\n",
    "\timport Usages::*;\n",
    "\n",
    "\tpackage Definitions {\t\t\n",
    "\t\t// Port Definitions\n",
    "\t\t\n",
    "\t\tport def FuelCmdPort;\n",
    "\t\t\n",
    "\t\tport def DrivePwrPort;\n",
    "\t\tport def ClutchPort;\n",
    "\t\t\n",
    "\t\tport def ShaftPort_a;\n",
    "\t\tport def ShaftPort_b;\n",
    "\t\tport def ShaftPort_c;\n",
    "\t\tport def ShaftPort_d;\n",
    "\t\t\n",
    "\t\tport def DiffPort;\n",
    "\t\tport def AxlePort;\n",
    "\t\tport def AxleToWheelPort;\n",
    "\t\tport def WheelToAxlePort;\n",
    "\t\tport def WheelToRoadPort;\n",
    "\t\t\n",
    "\t\t/**\n",
    "\t\t * A port definition can have nested ports.\n",
    "\t\t */\n",
    "\t\tport def VehicleToRoadPort { \n",
    "\t\t\tport wheelToRoadPort: WheelToRoadPort[2];\n",
    "\t\t}\n",
    "\t\n",
    "\t\t// Blocks\n",
    "\t\n",
    "\t\tpart def VehicleA { \n",
    "\t\t\tport fuelCmdPort: FuelCmdPort;\n",
    "\t\t\tport vehicleToRoadPort: VehicleToRoadPort;\n",
    "\t\t}\n",
    "\t\t\n",
    "\t\tpart def AxleAssembly;\t\t\n",
    "\t\tpart def RearAxleAssembly :> AxleAssembly { \n",
    "\t\t\tport shaftPort_d: ShaftPort_d;\n",
    "\t\t}\n",
    "\t\t\n",
    "\t\tpart def Axle;\n",
    "\t\tpart def RearAxle :> Axle;\n",
    "\t\t\n",
    "\t\tpart def HalfAxle { \n",
    "\t\t\tport axleToDiffPort: AxlePort;\n",
    "\t\t\tport axleToWheelPort: AxleToWheelPort;\n",
    "\t\t}\n",
    "\t\t\n",
    "\t\tpart def Engine { \n",
    "\t\t\tport fuelCmdPort: FuelCmdPort;\n",
    "\t\t\tport drivePwrPort: DrivePwrPort;\n",
    "\t\t}\n",
    "\t\n",
    "\t\tpart def Transmission { \n",
    "\t\t\tport clutchPort: ClutchPort;\n",
    "\t\t\tport shaftPort_a: ShaftPort_a;\n",
    "\t\t}\n",
    "\t\t\n",
    "\t\tpart def Driveshaft { \n",
    "\t\t\tport shaftPort_b: ShaftPort_b;\n",
    "\t\t\tport shaftPort_c: ShaftPort_c;\n",
    "\t\t}\t\n",
    "\t\t\n",
    "\t\t/**\n",
    "\t\t * Ports do not have to be defined on part defs.\n",
    "\t\t * They can be added directly to their usages.\n",
    "\t\t */\n",
    "\t\tpart def Differential;\n",
    "\t\tpart def Wheel;\n",
    "\t\t\n",
    "\t\t// Interface Definitions\n",
    "\t\t\n",
    "\t\t/**\n",
    "\t\t * The ends of an interface definition are always ports.\n",
    "\t\t */\n",
    "\t\tinterface def EngineToTransmissionInterface {\n",
    "\t\t\tend drivePwrPort: DrivePwrPort;\n",
    "\t\t\tend clutchPort: ClutchPort;\n",
    "\t\t}\n",
    "\t\t\n",
    "\t\tinterface def DriveshaftInterface {\n",
    "\t\t\tend shaftPort_a: ShaftPort_a;\n",
    "\t\t\tend shaftPort_d: ShaftPort_d;\n",
    "\t\t\t\n",
    "\t\t\t/**\n",
    "\t\t\t * 'driveshaft' is a reference to the driveshaft that will\n",
    "\t\t\t * act as the \"interface medium\" for this interface.\n",
    "\t\t\t */\n",
    "\t\t\tref driveshaft: Driveshaft {\n",
    "\t\t\t\tport shaftPort_b :>> Driveshaft::shaftPort_b;\n",
    "\t\t\t\tport shaftPort_c :>> Driveshaft::shaftPort_c;\n",
    "\t\t\t}\n",
    "\t\t\t\n",
    "\t\t\t/**\n",
    "\t\t\t * The two ends of 'DriveShaftInterface' are always connected\n",
    "\t\t\t * via the referenced 'driveshaft'.\n",
    "\t\t\t */\n",
    "\t\t\tconnect shaftPort_a to driveshaft::shaftPort_b;\n",
    "\t\t\tconnect driveshaft::shaftPort_c to shaftPort_d;\n",
    "\t\t}\n",
    "\t\t\n",
    "\t}\n",
    "\t\n",
    "\tpackage Usages {\n",
    "\t\n",
    "\t\tpart vehicle1_c1: VehicleA {\n",
    "\t\t\t\n",
    "\t\t\t/**\n",
    "\t\t\t * Inherited ports are redefined to provide \"local connection points\".\n",
    "\t\t\t * (\"::>>\" is a shorthand for \"redefines\".)\n",
    "\t\t\t */\n",
    "\t\t\tport fuelCmdPort :>> VehicleA::fuelCmdPort;\n",
    "\t\t\t\n",
    "\t\t\tbind fuelCmdPort = engine::fuelCmdPort;\n",
    "\t\t\t\n",
    "\t\t\tpart engine: Engine {\n",
    "\t\t\t\tport fuelCmdPort :>> Engine::fuelCmdPort;\n",
    "\t\t\t\tport drivePwrPort :>> Engine::drivePwrPort;\n",
    "\t\t\t}\n",
    "\t\t\t\n",
    "\t\t\t/**\n",
    "\t\t\t * A usage of an interface definition connects two ports relative to \n",
    "\t\t\t * a containing context.\n",
    "\t\t\t */\n",
    "\t\t\tinterface :EngineToTransmissionInterface\n",
    "\t\t\t\tconnect engine::drivePwrPort to transmission::clutchPort;\n",
    "\t\t\t\t\n",
    "\t\t\tpart transmission: Transmission {\n",
    "\t\t\t\tport clutchPort :>> Transmission::clutchPort;\n",
    "\t\t\t\tport shaftPort_a :>> Transmission::shaftPort_a;\t\n",
    "\t\t\t}\n",
    "\t\t\t\n",
    "\t\t\t/**\n",
    "\t\t\t * This 'driveshaft' is the part of 'vehicle1_c1' that will act as the\n",
    "\t\t\t * interface medium in the following 'DriveshaftInterface' usage.\n",
    "\t\t\t */\n",
    "\t\t\tpart driveshaft: Driveshaft;\n",
    "\t\t\t\n",
    "\t\t\tinterface :DriveshaftInterface\n",
    "\t\t\t\tconnect transmission::shaftPort_a to rearAxleAssembly::shaftPort_d {\n",
    "\t\t\t\t\t/**\n",
    "\t\t\t\t\t * The reference property from 'DriveshaftInterface' is redefined\n",
    "\t\t\t\t\t * in order to bind it to the appropriate part of 'vehicle1_c1'.\n",
    "\t\t\t\t\t */\n",
    "\t\t\t\t\tref :>> DriveshaftInterface::driveshaft = vehicle1_c1::driveshaft;\n",
    "\t\t\t\t}\n",
    "\t\n",
    "\t\t\tpart rearAxleAssembly: RearAxleAssembly {\n",
    "\t\t\t\tport shaftPort_d: ShaftPort_d :>> RearAxleAssembly::shaftPort_d;\n",
    "\t\n",
    "\t\t\t\tbind shaftPort_d = differential::shaftPort_d;\n",
    "\t\t\t\t\n",
    "\t\t\t\tpart differential: Differential {\n",
    "\t\t\t\t\t/**\n",
    "\t\t\t\t\t * If the part def has no ports, then they can be defined directly in\n",
    "\t\t\t\t\t * a usage of the part def.\n",
    "\t\t\t\t\t */\n",
    "\t\t\t\t\tport shaftPort_d: ShaftPort_d;\n",
    "\t\t\t\t\tport leftDiffPort: DiffPort;\n",
    "\t\t\t\t\tport rightDiffPort: DiffPort;\n",
    "\t\t\t\t}\n",
    "\t\t\t\t\n",
    "\t\t\t\t/* TODO: Allow use of \"interface\" keyword for an unnamed, default-typed interface usage. */\n",
    "\t\t\t\t\n",
    "\t\t\t\t/**\n",
    "\t\t\t\t * A connection can be to a port that is arbitrarily deeply nested, on either end. \n",
    "\t\t\t\t */\n",
    "\t\t\t\tconnect differential::leftDiffPort to rearAxle::leftHalfAxle::leftAxleToDiffPort;\n",
    "\t\t\t\tconnect differential::rightDiffPort to rearAxle::rightHalfAxle::rightAxleToDiffPort;\n",
    "\t\t\n",
    "\t\t\t\tpart rearAxle: RearAxle {\n",
    "\t\t\t\t\tpart leftHalfAxle: HalfAxle {\n",
    "\t\t\t\t\t\tport leftAxleToDiffPort :>> HalfAxle::axleToDiffPort;\n",
    "\t\t\t\t\t\tport leftAxleToWheelPort :>> HalfAxle::axleToWheelPort;\n",
    "\t\t\t\t\t}\n",
    "\t\t\t\t\tpart rightHalfAxle: HalfAxle  {\n",
    "\t\t\t\t\t\tport rightAxleToDiffPort :>> HalfAxle::axleToDiffPort;\n",
    "\t\t\t\t\t\tport rightAxleToWheelPort :>> HalfAxle::axleToWheelPort;\n",
    "\t\t\t\t\t}\n",
    "\t\t\t\t}\n",
    "\t\t\t\t\n",
    "\t\t\t\tconnect rearAxle::leftHalfAxle::leftAxleToWheelPort to leftWheel::wheelToAxlePort;\n",
    "\t\t\t\tconnect rearAxle::rightHalfAxle::rightAxleToWheelPort to rightWheel::wheelToAxlePort;\n",
    "\t\n",
    "\t\t\t\tpart rearWheel: Wheel[2] ordered;\n",
    "\t\t\t\t\n",
    "\t\t\t\t/* The two rear wheels of 'rearAxleAssembly' must be given\n",
    "\t\t\t\t * their own names in order to be referenced in connections.\n",
    "\t\t\t\t * \n",
    "\t\t\t\t * (\":>\" is a shorthand here for \"subsets\".)\n",
    "\t\t\t\t */\n",
    "\t\t\t\tpart leftWheel :> rearWheel = rearWheel[1] {\n",
    "\t\t\t\t\tport wheelToAxlePort: WheelToAxlePort;\n",
    "\t\t\t\t\tport wheelToRoadPort: WheelToRoadPort;\n",
    "\t\t\t\t}\n",
    "\t\t\t\t\n",
    "\t\t\t\tpart rightWheel :> rearWheel = rearWheel[2] {\n",
    "\t\t\t\t\tport wheelToAxlePort: WheelToAxlePort;\n",
    "\t\t\t\t\tport wheelToRoadPort: WheelToRoadPort;\n",
    "\t\t\t\t}\n",
    "\t\t\t\t\n",
    "\t\t\t}\n",
    "\t\t\t\n",
    "\t\t\tbind rearAxleAssembly::leftWheel::wheelToRoadPort = \n",
    "\t\t\t\t vehicleToRoadPort::leftWheelToRoadPort;\n",
    "\t\t\t\t \n",
    "\t\t\tbind rearAxleAssembly::rightWheel::wheelToRoadPort = \n",
    "\t\t\t\t vehicleToRoadPort::rightWheelToRoadPort;\n",
    "\t\t\t\t\n",
    "\t\t\tport vehicleToRoadPort redefines VehicleA::vehicleToRoadPort {\n",
    "\t\t\t\tport leftWheelToRoadPort :> wheelToRoadPort = wheelToRoadPort[1];\n",
    "\t\t\t\tport rightWheelToRoadPort :> wheelToRoadPort = wheelToRoadPort[2];\n",
    "\t\t\t}\n",
    "\t\t\t\n",
    "\t\t}\n",
    "\t\n",
    "\t}\n",
    "\t\n",
    "}"
   ]
  },
  {
   "cell_type": "markdown",
   "id": "5354f8ac-7cd4-4910-8cfc-d5b9e4fd0263",
   "metadata": {},
   "source": [
    "## Imports\n",
    "\n",
    "Import key modules, functions, and classes from the PyMBE library:"
   ]
  },
  {
   "cell_type": "code",
   "execution_count": 1,
   "id": "9dd5d23e-7a3a-4a8a-a297-c3598c048c4e",
   "metadata": {},
   "outputs": [],
   "source": [
    "import pymbe.api as pm\n",
    "from pymbe.label import get_label\n",
    "import networkx as nx\n",
    "import matplotlib.pyplot as plt\n",
    "\n",
    "from pymbe.interpretation.interp_playbooks import *\n",
    "from pymbe.interpretation.results import *\n",
    "\n",
    "from pymbe.client import SysML2Client\n",
    "from pymbe.query.metamodel_navigator import map_inputs_to_results\n",
    "\n",
    "from pymbe.interpretation.calc_dependencies import generate_execution_order\n",
    "\n",
    "import os\n",
    "\n",
    "from pymbe.graph.lpg import SysML2LabeledPropertyGraph"
   ]
  },
  {
   "cell_type": "markdown",
   "id": "e688d538-53b0-49c3-a805-c6ccb29c00dc",
   "metadata": {},
   "source": [
    "## Key IDs\n",
    "\n",
    "The unique identifiers below are useful references for walking through the interpretations generated in this notebook."
   ]
  },
  {
   "cell_type": "code",
   "execution_count": null,
   "id": "f14b53d3-bee3-4ca1-939f-fe2f8f410b7a",
   "metadata": {},
   "outputs": [],
   "source": []
  },
  {
   "cell_type": "markdown",
   "id": "4781f4e7-9176-4258-a3af-13076eeacb84",
   "metadata": {},
   "source": [
    "## Client Setup\n",
    "\n",
    "The example here uses a local copy of the JSON file obtained by a GET operation on the SysML v2 API at:\n",
    "http://sysml2-sst.intercax.com:9000/projects/a4f6a618-e4eb-4ac8-84b8-d6bcd3badcec/commits/c48aea9b-42fb-49b3-9a3e-9c39385408d7/elements?page[size]=5000"
   ]
  },
  {
   "cell_type": "markdown",
   "id": "9521c0ea-a498-4a37-b2c7-c7c4440157de",
   "metadata": {},
   "source": [
    "Create the client and load local data."
   ]
  },
  {
   "cell_type": "code",
   "execution_count": 2,
   "id": "b66f365e-ef81-42ba-bdae-2f5d239abe4f",
   "metadata": {},
   "outputs": [],
   "source": [
    "helper_client = SysML2Client()\n",
    "\n",
    "path = \"C:\\\\Users\\\\bjorn\\\\Documents\\\\Git\\\\pyMBE\"\n",
    "file_name = \"\\\\tests\\\\data\\\\Validation Case 2a\\\\elements.json\"\n",
    "\n",
    "helper_client._load_disk_elements(path + str(file_name))"
   ]
  },
  {
   "cell_type": "markdown",
   "id": "f9497fb5-64e1-476f-9d1a-295cc8794a48",
   "metadata": {},
   "source": [
    "Create a graph representation of the model and load it into memory."
   ]
  },
  {
   "cell_type": "code",
   "execution_count": 3,
   "id": "8faf098c-8e66-488c-9b28-b6f3a8be6a93",
   "metadata": {},
   "outputs": [],
   "source": [
    "lpg = SysML2LabeledPropertyGraph()\n",
    "lpg.update(helper_client.elements_by_id, False)"
   ]
  },
  {
   "cell_type": "markdown",
   "id": "1522f0a3-03b8-4784-86fa-ea1e3a59befa",
   "metadata": {},
   "source": [
    "This is just a helper to make abbreviations more legible."
   ]
  },
  {
   "cell_type": "code",
   "execution_count": 4,
   "id": "a890ad5d-62bc-4e22-a71e-2d66295c772e",
   "metadata": {},
   "outputs": [],
   "source": [
    "shorten_pre_bake = {\n",
    "}"
   ]
  },
  {
   "cell_type": "code",
   "execution_count": 5,
   "id": "a498f0ec-f109-4ee9-84aa-a754211503b2",
   "metadata": {},
   "outputs": [
    {
     "data": {
      "text/plain": [
       "[]"
      ]
     },
     "execution_count": 5,
     "metadata": {},
     "output_type": "execute_result"
    }
   ],
   "source": [
    "helper_client.elements_by_id\n",
    "empty_node_ids = [node_id for node_id in helper_client.elements_by_id if helper_client.elements_by_id[node_id] == {}]\n",
    "empty_node_ids"
   ]
  },
  {
   "cell_type": "code",
   "execution_count": 6,
   "id": "a81c16d6-b5fe-413e-bec2-180adadefde9",
   "metadata": {},
   "outputs": [
    {
     "data": {
      "text/plain": [
       "[]"
      ]
     },
     "execution_count": 6,
     "metadata": {},
     "output_type": "execute_result"
    }
   ],
   "source": [
    "empty_node_ids = [node_id for node_id in lpg.nodes if lpg.nodes[node_id] == {}]\n",
    "empty_node_ids"
   ]
  },
  {
   "cell_type": "markdown",
   "id": "f35e1c75-0746-4297-b159-31dc16adca07",
   "metadata": {},
   "source": [
    "Create an interpretation of the Kerbal model using the random generator playbook. In general, this randomly selects:\n",
    "- The ratios of partitioning abstract classifier sequence sets into concrete sets. For example, one draw may choose 2 liquid stages and 3 solids.\n",
    "- The number of sequences to create for a given feature multiplicity. For example, draw 2 for a 0..8 engines : Liquid Engine PartUsage.\n",
    "\n",
    "The playbook also attempts to make sequences created obey the Subsetting relationship (elements marked with subsets in M1 model should have their interpretation sequences entirely included within the interpretation sequences of the superset)."
   ]
  },
  {
   "cell_type": "code",
   "execution_count": 7,
   "id": "cc64cbc6-c15b-4f79-84dc-1af698b5963f",
   "metadata": {},
   "outputs": [
    {
     "name": "stderr",
     "output_type": "stream",
     "text": [
      "c:\\users\\bjorn\\documents\\git\\pymbe\\src\\pymbe\\graph\\lpg.py:284: UserWarning: These edge types are not in the graph: {'ResultExpressionMembership'}.\n",
      "  warn(f\"These edge types are not in the graph: {mismatched_edge_types}.\")\n"
     ]
    },
    {
     "ename": "NotImplementedError",
     "evalue": "Cannot handle untyped features!",
     "output_type": "error",
     "traceback": [
      "\u001b[1;31m---------------------------------------------------------------------------\u001b[0m",
      "\u001b[1;31mNotImplementedError\u001b[0m                       Traceback (most recent call last)",
      "\u001b[1;32m<ipython-input-7-ef0e99e110ac>\u001b[0m in \u001b[0;36m<module>\u001b[1;34m\u001b[0m\n\u001b[1;32m----> 1\u001b[1;33m m0_interpretation = random_generator_playbook(\n\u001b[0m\u001b[0;32m      2\u001b[0m     \u001b[0mhelper_client\u001b[0m\u001b[1;33m,\u001b[0m\u001b[1;33m\u001b[0m\u001b[1;33m\u001b[0m\u001b[0m\n\u001b[0;32m      3\u001b[0m     \u001b[0mlpg\u001b[0m\u001b[1;33m,\u001b[0m\u001b[1;33m\u001b[0m\u001b[1;33m\u001b[0m\u001b[0m\n\u001b[0;32m      4\u001b[0m     \u001b[0mshorten_pre_bake\u001b[0m\u001b[1;33m\u001b[0m\u001b[1;33m\u001b[0m\u001b[0m\n\u001b[0;32m      5\u001b[0m )\n",
      "\u001b[1;32mc:\\users\\bjorn\\documents\\git\\pymbe\\src\\pymbe\\interpretation\\interp_playbooks.py\u001b[0m in \u001b[0;36mrandom_generator_playbook\u001b[1;34m(client, lpg, name_hints)\u001b[0m\n\u001b[0;32m     77\u001b[0m     \u001b[1;31m# PHASE 3: Expand the dictionaries out into feature sequences by pulling from instances developed here\u001b[0m\u001b[1;33m\u001b[0m\u001b[1;33m\u001b[0m\u001b[1;33m\u001b[0m\u001b[0m\n\u001b[0;32m     78\u001b[0m \u001b[1;33m\u001b[0m\u001b[0m\n\u001b[1;32m---> 79\u001b[1;33m     \u001b[0mrandom_generator_playbook_phase_3\u001b[0m\u001b[1;33m(\u001b[0m\u001b[0mfeature_sequences\u001b[0m\u001b[1;33m,\u001b[0m \u001b[0mall_elements\u001b[0m\u001b[1;33m,\u001b[0m \u001b[0mptg\u001b[0m\u001b[1;33m,\u001b[0m \u001b[0minstances_dict\u001b[0m\u001b[1;33m)\u001b[0m\u001b[1;33m\u001b[0m\u001b[1;33m\u001b[0m\u001b[0m\n\u001b[0m\u001b[0;32m     80\u001b[0m \u001b[1;33m\u001b[0m\u001b[0m\n\u001b[0;32m     81\u001b[0m     \u001b[1;31m# PHASE 4: Expand sequences to support computations\u001b[0m\u001b[1;33m\u001b[0m\u001b[1;33m\u001b[0m\u001b[1;33m\u001b[0m\u001b[0m\n",
      "\u001b[1;32mc:\\users\\bjorn\\documents\\git\\pymbe\\src\\pymbe\\interpretation\\interp_playbooks.py\u001b[0m in \u001b[0;36mrandom_generator_playbook_phase_3\u001b[1;34m(feature_sequences, all_elements, ptg, instances_dict)\u001b[0m\n\u001b[0;32m    266\u001b[0m                     \u001b[0mtypes\u001b[0m \u001b[1;33m=\u001b[0m \u001b[0mlist\u001b[0m\u001b[1;33m(\u001b[0m\u001b[0mptg\u001b[0m\u001b[1;33m.\u001b[0m\u001b[0msuccessors\u001b[0m\u001b[1;33m(\u001b[0m\u001b[0mfeature_id\u001b[0m\u001b[1;33m)\u001b[0m\u001b[1;33m)\u001b[0m\u001b[1;33m\u001b[0m\u001b[1;33m\u001b[0m\u001b[0m\n\u001b[0;32m    267\u001b[0m                 \u001b[1;32melse\u001b[0m\u001b[1;33m:\u001b[0m\u001b[1;33m\u001b[0m\u001b[1;33m\u001b[0m\u001b[0m\n\u001b[1;32m--> 268\u001b[1;33m                     \u001b[1;32mraise\u001b[0m \u001b[0mNotImplementedError\u001b[0m\u001b[1;33m(\u001b[0m\u001b[1;34m\"Cannot handle untyped features!\"\u001b[0m\u001b[1;33m)\u001b[0m\u001b[1;33m\u001b[0m\u001b[1;33m\u001b[0m\u001b[0m\n\u001b[0m\u001b[0;32m    269\u001b[0m \u001b[1;33m\u001b[0m\u001b[0m\n\u001b[0;32m    270\u001b[0m                 \u001b[1;32mif\u001b[0m \u001b[0mlen\u001b[0m\u001b[1;33m(\u001b[0m\u001b[0mtypes\u001b[0m\u001b[1;33m)\u001b[0m \u001b[1;33m>\u001b[0m \u001b[1;36m1\u001b[0m\u001b[1;33m:\u001b[0m\u001b[1;33m\u001b[0m\u001b[1;33m\u001b[0m\u001b[0m\n",
      "\u001b[1;31mNotImplementedError\u001b[0m: Cannot handle untyped features!"
     ]
    }
   ],
   "source": [
    "m0_interpretation = random_generator_playbook(\n",
    "    helper_client,\n",
    "    lpg,\n",
    "    shorten_pre_bake\n",
    ")"
   ]
  },
  {
   "cell_type": "markdown",
   "id": "37b882b2-f601-4c61-a8a9-4029b2e7381d",
   "metadata": {},
   "source": [
    "To see how sequences are structured, the cell below renders sequences that show what type of atoms will fill particular positions in the sequence, as well as the maximum multiplicity (number of) sequences."
   ]
  },
  {
   "cell_type": "code",
   "execution_count": 8,
   "id": "43685e41-dc8a-4f91-b58e-4711e92cc052",
   "metadata": {},
   "outputs": [
    {
     "name": "stdout",
     "output_type": "stream",
     "text": [
      "['Driveshaft', 'shaftPort_b: ShaftPort_b'], 1\n",
      "['Driveshaft', 'shaftPort_c: ShaftPort_c'], 1\n",
      "['VehicleToRoadPort', 'wheelToRoadPort: WheelToRoadPort'], 2\n",
      "['vehicle1_c1: VehicleA', 'rearAxleAssembly: RearAxleAssembly', 'rearAxle: RearAxle', 'rightHalfAxle: HalfAxle', 'rightAxleToDiffPort: AxlePort'], 1\n",
      "['vehicle1_c1: VehicleA', 'rearAxleAssembly: RearAxleAssembly', 'rearAxle: RearAxle', 'rightHalfAxle: HalfAxle', 'rightAxleToWheelPort: AxleToWheelPort'], 1\n",
      "['vehicle1_c1: VehicleA', 'rearAxleAssembly: RearAxleAssembly', 'leftWheel: Wheel', 'wheelToAxlePort: WheelToAxlePort'], 2\n",
      "['vehicle1_c1: VehicleA', 'rearAxleAssembly: RearAxleAssembly', 'leftWheel: Wheel', 'wheelToRoadPort: WheelToRoadPort'], 2\n",
      "['vehicle1_c1: VehicleA', 'fuelCmdPort: FuelCmdPort'], 1\n",
      "['vehicle1_c1: VehicleA', 'driveshaft: Driveshaft'], 1\n",
      "['vehicle1_c1: VehicleA', 'engine: Engine', 'drivePwrPort: DrivePwrPort'], 1\n",
      "['vehicle1_c1: VehicleA', 'engine: Engine', 'fuelCmdPort: FuelCmdPort'], 1\n",
      "['vehicle1_c1: VehicleA', 'rearAxleAssembly: RearAxleAssembly', 'differential: Differential', 'shaftPort_d: ShaftPort_d'], 1\n",
      "['vehicle1_c1: VehicleA', 'rearAxleAssembly: RearAxleAssembly', 'differential: Differential', 'leftDiffPort: DiffPort'], 1\n",
      "['vehicle1_c1: VehicleA', 'rearAxleAssembly: RearAxleAssembly', 'differential: Differential', 'rightDiffPort: DiffPort'], 1\n",
      "['vehicle1_c1: VehicleA', 'vehicleToRoadPort: VehicleToRoadPort', 'leftWheelToRoadPort: WheelToRoadPort'], 2\n",
      "['vehicle1_c1: VehicleA', 'vehicleToRoadPort: VehicleToRoadPort', 'rightWheelToRoadPort: WheelToRoadPort'], 2\n",
      "['vehicle1_c1: VehicleA', 'transmission: Transmission', 'clutchPort: ClutchPort'], 1\n",
      "['vehicle1_c1: VehicleA', 'transmission: Transmission', 'shaftPort_a: ShaftPort_a'], 1\n",
      "['vehicle1_c1: VehicleA', 'rearAxleAssembly: RearAxleAssembly', 'rightWheel: Wheel', 'wheelToRoadPort: WheelToRoadPort'], 2\n",
      "['vehicle1_c1: VehicleA', 'rearAxleAssembly: RearAxleAssembly', 'rightWheel: Wheel', 'wheelToAxlePort: WheelToAxlePort'], 2\n",
      "['vehicle1_c1: VehicleA', 'rearAxleAssembly: RearAxleAssembly', 'shaftPort_d: ShaftPort_d'], 1\n",
      "['vehicle1_c1: VehicleA', 'rearAxleAssembly: RearAxleAssembly', 'rearWheel: Wheel'], 2\n",
      "['vehicle1_c1: VehicleA', 'rearAxleAssembly: RearAxleAssembly', 'rearAxle: RearAxle', 'leftHalfAxle: HalfAxle', 'leftAxleToWheelPort: AxleToWheelPort'], 1\n",
      "['vehicle1_c1: VehicleA', 'rearAxleAssembly: RearAxleAssembly', 'rearAxle: RearAxle', 'leftHalfAxle: HalfAxle', 'leftAxleToDiffPort: AxlePort'], 1\n",
      "['RearAxleAssembly', 'shaftPort_d: ShaftPort_d'], 1\n",
      "['HalfAxle', 'axleToDiffPort: AxlePort'], 1\n",
      "['HalfAxle', 'axleToWheelPort: AxleToWheelPort'], 1\n",
      "['VehicleA', 'vehicleToRoadPort: VehicleToRoadPort'], 1\n",
      "['VehicleA', 'fuelCmdPort: FuelCmdPort'], 1\n",
      "['Engine', 'drivePwrPort: DrivePwrPort'], 1\n",
      "['Engine', 'fuelCmdPort: FuelCmdPort'], 1\n",
      "['Transmission', 'shaftPort_a: ShaftPort_a'], 1\n",
      "['Transmission', 'clutchPort: ClutchPort'], 1\n"
     ]
    }
   ],
   "source": [
    "from pymbe.query.query import roll_up_upper_multiplicity, roll_up_multiplicity_for_type\n",
    "\n",
    "feat_sequences = build_sequence_templates(lpg=lpg)\n",
    "\n",
    "total = 0\n",
    "for seq in feat_sequences:\n",
    "    print(str(pprint_single_id_list(seq, lpg.nodes)) + \", \" + str(roll_up_upper_multiplicity(lpg, lpg.nodes[seq[-1]])))"
   ]
  },
  {
   "cell_type": "markdown",
   "id": "34b37e3a-82bc-4e03-9b0d-514cbdf0f0d9",
   "metadata": {},
   "source": [
    "Once the interpretations are generated, we can look for expressions and create an execution order (this is similar to Excel builds a dependency graph internally to accelerate computations and partial updates when a user changes a cell value)."
   ]
  },
  {
   "cell_type": "code",
   "execution_count": 8,
   "id": "a5f5915f-2368-4c65-834c-2505fff92fb4",
   "metadata": {},
   "outputs": [
    {
     "name": "stderr",
     "output_type": "stream",
     "text": [
      "c:\\users\\bjorn\\documents\\git\\pymbe\\src\\pymbe\\graph\\lpg.py:267: UserWarning: These edge types are not in the graph: {'ImpliedParameterFeedforward'}.\n",
      "  warn(f\"These edge types are not in the graph: {mismatched_edge_types}.\")\n"
     ]
    }
   ],
   "source": [
    "dcg = generate_execution_order(lpg, m0_interpretation)"
   ]
  },
  {
   "cell_type": "markdown",
   "id": "b4a229a5-480a-41ee-9ecf-d3fe6f1c1783",
   "metadata": {},
   "source": [
    "One of the core tools in examining and working with the M1 model is using the get_projection function on the master graph to select out the kind of nodes and edges that will support other queries (roll-up using breadth-first search in reverse order, paths from one node to another to lay out sequences, etc.)"
   ]
  },
  {
   "cell_type": "code",
   "execution_count": 9,
   "id": "15f179ab-d182-46d0-9013-d4414376f7c1",
   "metadata": {},
   "outputs": [],
   "source": [
    "from pymbe.graph.calc_lpg import CalculationGroup\n",
    "cg = CalculationGroup(lpg.get_projection(\"Expression Inferred Graph\"), m0_interpretation, dcg)"
   ]
  },
  {
   "cell_type": "markdown",
   "id": "abc869d6-4494-4de2-b8de-5974afda0a03",
   "metadata": {},
   "source": [
    "Display the calculation order determined by the algorithm, as well as a hint about what the step is (generating output from a function, moving values from function parameters to an attribute, applying redefinition, etc.)"
   ]
  },
  {
   "cell_type": "code",
   "execution_count": 10,
   "id": "27d2fc68-8c05-45b7-8fc9-ddc12d625564",
   "metadata": {},
   "outputs": [
    {
     "name": "stdout",
     "output_type": "stream",
     "text": [
      "(1 «Occurred LiteralInteger», Rocket#0.LS#3.1 «Occurred LiteralInteger».$result#0 (unset), Output)\n",
      "(162.91 «Occurred LiteralReal», RT-5#0.162.91 «Occurred LiteralReal».$result#0 (unset), Output)\n",
      "(197.9 «Occurred LiteralReal», RT-10#0.197.9 «Occurred LiteralReal».$result#0 (unset), Output)\n",
      "(RT-5#0.162.91 «Occurred LiteralReal».$result#0 (unset), .Real#1317 (unset), ValueBinding)\n",
      "(RT-10#0.197.9 «Occurred LiteralReal».$result#0 (unset), .Real#1292 (unset), ValueBinding)\n",
      "(.Real#1317 (unset), .Real#127 (unset), Redefinition)\n",
      "(.Real#1292 (unset), .Real#127 (unset), Redefinition)\n",
      "(0.45 «Occurred LiteralReal», RT-5#0.0.45 «Occurred LiteralReal».$result#0 (unset), Output)\n",
      "(0.75 «Occurred LiteralReal», RT-10#0.0.75 «Occurred LiteralReal».$result#0 (unset), Output)\n",
      "(RT-5#0.0.45 «Occurred LiteralReal».$result#0 (unset), .Real#2669 (unset), ValueBinding)\n",
      "(RT-10#0.0.75 «Occurred LiteralReal».$result#0 (unset), .Real#2300 (unset), ValueBinding)\n",
      "(.Real#2669 (unset), .Real#2518 (unset), Redefinition)\n",
      "(.Real#2300 (unset), .Real#2518 (unset), Redefinition)\n",
      "(0 «Occurred LiteralInteger», LS#0.0 «Occurred LiteralInteger».$result#0 (unset), Output)\n",
      "(140.0 «Occurred LiteralReal», RT-5#0.140.0 «Occurred LiteralReal».$result#0 (unset), Output)\n",
      "(170.0 «Occurred LiteralReal», RT-10#0.170.0 «Occurred LiteralReal».$result#0 (unset), Output)\n",
      "(RT-5#0.140.0 «Occurred LiteralReal».$result#0 (unset), .Real#1134 (unset), ValueBinding)\n",
      "(RT-10#0.170.0 «Occurred LiteralReal».$result#0 (unset), .Real#2234 (unset), ValueBinding)\n",
      "(.Real#1134 (unset), .Real#2315 (unset), Redefinition)\n",
      "(.Real#2234 (unset), .Real#2315 (unset), Redefinition)\n",
      "(8 «Occurred LiteralInteger», SS#0.8 «Occurred LiteralInteger».$result#0 (unset), Output)\n",
      "(0.5625 «Occurred LiteralReal», FL-T100#0.0.5625 «Occurred LiteralReal».$result#0 (unset), Output)\n",
      "(1.125 «Occurred LiteralReal», FL-T200#0.1.125 «Occurred LiteralReal».$result#0 (unset), Output)\n",
      "(1.5 «Occurred LiteralReal», LV-T45#0.1.5 «Occurred LiteralReal».$result#0 (unset), Output)\n",
      "(FL-T100#0.0.5625 «Occurred LiteralReal».$result#0 (unset), .Real#898 (unset), ValueBinding)\n",
      "(FL-T200#0.1.125 «Occurred LiteralReal».$result#0 (unset), .Real#1441 (unset), ValueBinding)\n",
      "(LV-T45#0.1.5 «Occurred LiteralReal».$result#0 (unset), .Real#503 (unset), ValueBinding)\n",
      "(.Real#898 (unset), .Real#765 (unset), Redefinition)\n",
      "(.Real#1441 (unset), .Real#765 (unset), Redefinition)\n",
      "(.Real#503 (unset), .Real#2604 (unset), Redefinition)\n",
      "(FL-T100#55, FRE.tanks, )\n",
      "(.Real#765 (unset), FRE.Full Mass, )\n",
      "(LV-T45#3, FRE.engines, )\n",
      "(.Real#2604 (unset), FRE.Mass, )\n",
      "(FRE.tanks, LS#0.+ ($x, $y) => $result.sum ($collection) => $result.collect ($collection) => $result.FRE.tanks.$result#0 (unset), Output)\n",
      "(FRE.Full Mass, FRE.Full Mass (p) => $result, )\n",
      "No instances for Kerbal::'Rocket Building'::'Liquid Stage'::'Full Mass'::null::null::null::null::p\n",
      "(FRE.Full Mass, LS#0.+ ($x, $y) => $result.sum ($collection) => $result.collect ($collection) => $result.FRE.Full Mass (p) => $result.FRE.Full Mass.$result#0 (unset), Output)\n",
      "(FRE.engines, LS#0.+ ($x, $y) => $result.sum ($collection) => $result.collect ($collection) => $result.FRE.engines.$result#0 (unset), Output)\n",
      "(FRE.Mass, FRE.Mass (p) => $result, )\n",
      "No instances for Kerbal::'Rocket Building'::'Liquid Stage'::'Full Mass'::null::null::null::null::p\n",
      "(FRE.Mass, LS#0.+ ($x, $y) => $result.sum ($collection) => $result.collect ($collection) => $result.FRE.Mass (p) => $result.FRE.Mass.$result#0 (unset), Output)\n",
      "(LS#0.+ ($x, $y) => $result.sum ($collection) => $result.collect ($collection) => $result.FRE.tanks.$result#0 (unset), LS#0.+ ($x, $y) => $result.sum ($collection) => $result.collect ($collection) => $result.$collection#0 (unset), Assignment)\n",
      "(FRE.Full Mass (p) => $result, LS#0.+ ($x, $y) => $result.sum ($collection) => $result.collect ($collection) => $result.FRE.Full Mass (p) => $result.$result#0 (unset), Output)\n",
      "(LS#0.+ ($x, $y) => $result.sum ($collection) => $result.collect ($collection) => $result.FRE.Full Mass (p) => $result.FRE.Full Mass.$result#0 (unset), LS#0.+ ($x, $y) => $result.sum ($collection) => $result.collect ($collection) => $result.FRE.Full Mass (p) => $result.$result#0 (unset), Assignment)\n",
      "(LS#0.+ ($x, $y) => $result.sum ($collection) => $result.collect ($collection) => $result.FRE.engines.$result#0 (unset), LS#0.+ ($x, $y) => $result.sum ($collection) => $result.collect ($collection) => $result.$collection#0 (unset), Assignment)\n",
      "(FRE.Mass (p) => $result, LS#0.+ ($x, $y) => $result.sum ($collection) => $result.collect ($collection) => $result.FRE.Mass (p) => $result.$result#0 (unset), Output)\n",
      "(LS#0.+ ($x, $y) => $result.sum ($collection) => $result.collect ($collection) => $result.FRE.Mass (p) => $result.FRE.Mass.$result#0 (unset), LS#0.+ ($x, $y) => $result.sum ($collection) => $result.collect ($collection) => $result.FRE.Mass (p) => $result.$result#0 (unset), Assignment)\n",
      "(LS#0.+ ($x, $y) => $result.sum ($collection) => $result.collect ($collection) => $result.$collection#0 (unset), collect ($collection) => $result, Input)\n",
      "(LS#0.+ ($x, $y) => $result.sum ($collection) => $result.collect ($collection) => $result.FRE.Full Mass (p) => $result.$result#0 (unset), collect ($collection) => $result, )\n",
      "(LS#0.+ ($x, $y) => $result.sum ($collection) => $result.collect ($collection) => $result.$collection#0 (unset), collect ($collection) => $result, Input)\n",
      "(LS#0.+ ($x, $y) => $result.sum ($collection) => $result.collect ($collection) => $result.FRE.Mass (p) => $result.$result#0 (unset), collect ($collection) => $result, )\n",
      "(collect ($collection) => $result, LS#0.+ ($x, $y) => $result.sum ($collection) => $result.collect ($collection) => $result.$result#0 (unset), Output)\n",
      "(collect ($collection) => $result, LS#0.+ ($x, $y) => $result.sum ($collection) => $result.collect ($collection) => $result.$result#0 (unset), Output)\n",
      "(LS#0.+ ($x, $y) => $result.sum ($collection) => $result.collect ($collection) => $result.$result#0 (unset), LS#0.+ ($x, $y) => $result.sum ($collection) => $result.$collection#0 (unset), Assignment)\n",
      "(LS#0.+ ($x, $y) => $result.sum ($collection) => $result.collect ($collection) => $result.$result#0 (unset), LS#0.+ ($x, $y) => $result.sum ($collection) => $result.$collection#0 (unset), Assignment)\n",
      "(LS#0.+ ($x, $y) => $result.sum ($collection) => $result.$collection#0 (unset), sum ($collection) => $result, Input)\n",
      "(LS#0.+ ($x, $y) => $result.sum ($collection) => $result.$collection#0 (unset), sum ($collection) => $result, Input)\n",
      "(sum ($collection) => $result, LS#0.+ ($x, $y) => $result.sum ($collection) => $result.$result#0 (unset), Output)\n",
      "(sum ($collection) => $result, LS#0.+ ($x, $y) => $result.sum ($collection) => $result.$result#0 (unset), Output)\n",
      "(LS#0.+ ($x, $y) => $result.sum ($collection) => $result.$result#0 (unset), LS#0.+ ($x, $y) => $result.$y#0 (unset), Assignment)\n",
      "(LS#0.+ ($x, $y) => $result.sum ($collection) => $result.$result#0 (unset), LS#0.+ ($x, $y) => $result.$x#0 (unset), Assignment)\n",
      "(LS#0.+ ($x, $y) => $result.$y#0 (unset), + ($x, $y) => $result, Input)\n",
      "(LS#0.+ ($x, $y) => $result.$x#0 (unset), + ($x, $y) => $result, Input)\n",
      "(+ ($x, $y) => $result, LS#0.+ ($x, $y) => $result.$result#0 (unset), Output)\n",
      "(LS#0.+ ($x, $y) => $result.$result#0 (unset), .Real#253 (unset), ValueBinding)\n",
      "(0 «Occurred LiteralInteger», Rocket#0.LS#3.0 «Occurred LiteralInteger».$result#0 (unset), Output)\n",
      "(30 «Occurred LiteralInteger», LS#0.30 «Occurred LiteralInteger».$result#0 (unset), Output)\n",
      "(3.56 «Occurred LiteralReal», RT-10#0.3.56 «Occurred LiteralReal».$result#0 (unset), Output)\n",
      "(1.5 «Occurred LiteralReal», RT-5#0.1.5 «Occurred LiteralReal».$result#0 (unset), Output)\n",
      "(RT-10#0.3.56 «Occurred LiteralReal».$result#0 (unset), .Real#872 (unset), ValueBinding)\n",
      "(RT-5#0.1.5 «Occurred LiteralReal».$result#0 (unset), .Real#1722 (unset), ValueBinding)\n",
      "(.Real#872 (unset), .Real#2860 (unset), Redefinition)\n",
      "(.Real#1722 (unset), .Real#2860 (unset), Redefinition)\n",
      "(8 «Occurred LiteralInteger», Rocket#0.LS#3.8 «Occurred LiteralInteger».$result#0 (unset), Output)\n",
      "(1 «Occurred LiteralInteger», Rocket#0.1 «Occurred LiteralInteger».$result#0 (unset), Output)\n",
      "(0.0625 «Occurred LiteralReal», FL-T100#0.0.0625 «Occurred LiteralReal».$result#0 (unset), Output)\n",
      "(0.125 «Occurred LiteralReal», FL-T200#0.0.125 «Occurred LiteralReal».$result#0 (unset), Output)\n",
      "(FL-T100#0.0.0625 «Occurred LiteralReal».$result#0 (unset), .Real#2692 (unset), ValueBinding)\n",
      "(FL-T200#0.0.125 «Occurred LiteralReal».$result#0 (unset), .Real#193 (unset), ValueBinding)\n",
      "(.Real#2692 (unset), .Real#2381 (unset), Redefinition)\n",
      "(.Real#193 (unset), .Real#2381 (unset), Redefinition)\n",
      "(0 «Occurred LiteralInteger», LS#0.0 «Occurred LiteralInteger».$result#0 (unset), Output)\n",
      "(8 «Occurred LiteralInteger», LS#0.8 «Occurred LiteralInteger».$result#0 (unset), Output)\n",
      "(170.0 «Occurred LiteralReal», LV-T45#0.170.0 «Occurred LiteralReal».$result#0 (unset), Output)\n",
      "(LV-T45#0.170.0 «Occurred LiteralReal».$result#0 (unset), .Real#787 (unset), ValueBinding)\n",
      "(.Real#787 (unset), .Real#1052 (unset), Redefinition)\n",
      "(167.97 «Occurred LiteralReal», LV-T45#0.167.97 «Occurred LiteralReal».$result#0 (unset), Output)\n",
      "(LV-T45#0.167.97 «Occurred LiteralReal».$result#0 (unset), .Real#827 (unset), ValueBinding)\n",
      "(.Real#827 (unset), .Real#1473 (unset), Redefinition)\n",
      "(5 «Occurred LiteralInteger», Rocket#0.5 «Occurred LiteralInteger».$result#0 (unset), Output)\n",
      "(0 «Occurred LiteralInteger», SS#0.0 «Occurred LiteralInteger».$result#0 (unset), Output)\n"
     ]
    }
   ],
   "source": [
    "for item in dcg:\n",
    "    instance_safe = True\n",
    "    if item[0] not in m0_interpretation or len(m0_interpretation[item[0]]) == 0:\n",
    "        print(\"No instances for \" + lpg.nodes[item[0]]['qualifiedName'])\n",
    "        instance_safe = False\n",
    "    if item[1] not in m0_interpretation or len(m0_interpretation[item[1]]) == 0:\n",
    "        print(\"No instances for \" + lpg.nodes[item[1]]['qualifiedName'])\n",
    "        instance_safe = False\n",
    "    if instance_safe:\n",
    "        rep_source = m0_interpretation[item[0]][0][-1]\n",
    "        rep_target = m0_interpretation[item[1]][0][-1]\n",
    "        if len(item) == 3:\n",
    "            safe_item = item[2]\n",
    "        else:\n",
    "            safe_item = 'None'\n",
    "        print('(' + str(rep_source) + ', ' + str(rep_target) + ', ' + safe_item + ')')"
   ]
  },
  {
   "cell_type": "markdown",
   "id": "8f333a0c-f06e-457a-9678-cdc0bda628c9",
   "metadata": {},
   "source": [
    "Use the calculation order in order to resolve the \"unset\" fields on many attributes to values where they are determined in the M1 model (e.g., using the ' = ' operator to assign values directly or connect to equations or analyses)."
   ]
  },
  {
   "cell_type": "code",
   "execution_count": 11,
   "id": "55819138-3597-4070-8b0d-c73f6e12f31d",
   "metadata": {},
   "outputs": [],
   "source": [
    "cg.solve_graph(lpg)"
   ]
  },
  {
   "cell_type": "markdown",
   "id": "461a6537-2b8a-49f4-897b-c57a9888800f",
   "metadata": {},
   "source": [
    "## Calculation Results Shown\n",
    "\n",
    "The following cells are a series of displays of relevant features in the interpretation."
   ]
  },
  {
   "cell_type": "code",
   "execution_count": 12,
   "id": "d9bd24d3-2bae-4394-aa06-4e379b8c48e9",
   "metadata": {},
   "outputs": [
    {
     "data": {
      "text/plain": [
       "[[LS#0,\n",
       "  + ($x, $y) => $result,\n",
       "  sum ($collection) => $result,\n",
       "  collect ($collection) => $result,\n",
       "  LS#0.+ ($x, $y) => $result.sum ($collection) => $result.collect ($collection) => $result.$result#0 ([.Real#247 (0.5625), .Real#2601 (0.5625), .Real#2803 (0.5625), .Real#1855 (0.5625), .Real#198 (0.5625), .Real#1938 (0.5625), .Real#461 (0.5625), .Real#1169 (0.5625), .Real#76 (1.125), .Real#524 (0.5625), .Real#2453 (0.5625), .Real#2871 (0.5625), .Real#2581 (0.5625), .Real#799 (0.5625), .Real#1344 (0.5625), .Real#1555 (0.5625), .Real#1936 (0.5625), .Real#2148 (0.5625), .Real#2067 (0.5625), .Real#2958 (0.5625), .Real#980 (0.5625), .Real#633 (0.5625), .Real#2348 (0.5625), .Real#337 (0.5625), .Real#62 (0.5625), .Real#874 (0.5625), .Real#1814 (0.5625), .Real#2227 (0.5625), .Real#2680 (1.125), .Real#1603 (0.5625)])],\n",
       " [LS#1,\n",
       "  + ($x, $y) => $result,\n",
       "  sum ($collection) => $result,\n",
       "  collect ($collection) => $result,\n",
       "  LS#1.+ ($x, $y) => $result.sum ($collection) => $result.collect ($collection) => $result.$result#1 ([.Real#612 (0.5625), .Real#418 (0.5625)])],\n",
       " [LS#2,\n",
       "  + ($x, $y) => $result,\n",
       "  sum ($collection) => $result,\n",
       "  collect ($collection) => $result,\n",
       "  LS#2.+ ($x, $y) => $result.sum ($collection) => $result.collect ($collection) => $result.$result#2 ([.Real#591 (1.125), .Real#1952 (0.5625), .Real#765 (1.125), .Real#2801 (0.5625), .Real#275 (0.5625), .Real#1973 (0.5625)])],\n",
       " [LS#3,\n",
       "  + ($x, $y) => $result,\n",
       "  sum ($collection) => $result,\n",
       "  collect ($collection) => $result,\n",
       "  LS#3.+ ($x, $y) => $result.sum ($collection) => $result.collect ($collection) => $result.$result#3 ([.Real#900 (0.5625), .Real#2209 (0.5625), .Real#140 (0.5625), .Real#1913 (0.5625), .Real#1782 (1.125), .Real#1156 (0.5625), .Real#2464 (0.5625), .Real#456 (0.5625), .Real#1565 (0.5625), .Real#107 (0.5625), .Real#2688 (0.5625), .Real#901 (0.5625), .Real#1304 (0.5625), .Real#429 (0.5625), .Real#515 (1.125), .Real#481 (0.5625), .Real#2647 (1.125), .Real#806 (1.125), .Real#1851 (1.125), .Real#1949 (0.5625), .Real#2769 (0.5625), .Real#71 (0.5625)])]]"
      ]
     },
     "execution_count": 12,
     "metadata": {},
     "output_type": "execute_result"
    }
   ],
   "source": [
    "m0_interpretation[collect_1_result]"
   ]
  },
  {
   "cell_type": "code",
   "execution_count": 13,
   "id": "27576101-8841-4403-9a3e-c6265ae50e09",
   "metadata": {},
   "outputs": [
    {
     "data": {
      "text/plain": [
       "[[LS#0,\n",
       "  + ($x, $y) => $result,\n",
       "  sum ($collection) => $result,\n",
       "  collect ($collection) => $result,\n",
       "  LS#0.+ ($x, $y) => $result.sum ($collection) => $result.collect ($collection) => $result.$result#0 ([.Real#1368 (1.5), .Real#2495 (1.5), .Real#860 (1.5), .Real#1735 (1.5), .Real#1354 (1.5)])],\n",
       " [LS#1,\n",
       "  + ($x, $y) => $result,\n",
       "  sum ($collection) => $result,\n",
       "  collect ($collection) => $result,\n",
       "  LS#1.+ ($x, $y) => $result.sum ($collection) => $result.collect ($collection) => $result.$result#1 ([])],\n",
       " [LS#2,\n",
       "  + ($x, $y) => $result,\n",
       "  sum ($collection) => $result,\n",
       "  collect ($collection) => $result,\n",
       "  LS#2.+ ($x, $y) => $result.sum ($collection) => $result.collect ($collection) => $result.$result#2 ([.Real#2296 (1.5), .Real#1096 (1.5), .Real#2590 (1.5), .Real#1294 (1.5)])],\n",
       " [LS#3,\n",
       "  + ($x, $y) => $result,\n",
       "  sum ($collection) => $result,\n",
       "  collect ($collection) => $result,\n",
       "  LS#3.+ ($x, $y) => $result.sum ($collection) => $result.collect ($collection) => $result.$result#3 ([.Real#805 (1.5), .Real#2923 (1.5), .Real#1723 (1.5), .Real#392 (1.5)])]]"
      ]
     },
     "execution_count": 13,
     "metadata": {},
     "output_type": "execute_result"
    }
   ],
   "source": [
    "m0_interpretation[collect_2_result]"
   ]
  },
  {
   "cell_type": "code",
   "execution_count": 14,
   "id": "e23175bb-c9b9-4938-a919-8ed477ef2075",
   "metadata": {},
   "outputs": [
    {
     "data": {
      "text/plain": [
       "[[LS#0,\n",
       "  + ($x, $y) => $result,\n",
       "  sum ($collection) => $result,\n",
       "  LS#0.+ ($x, $y) => $result.sum ($collection) => $result.$collection#0 ([.Real#1368 (1.5), .Real#2495 (1.5), .Real#860 (1.5), .Real#1735 (1.5), .Real#1354 (1.5)])],\n",
       " [LS#1,\n",
       "  + ($x, $y) => $result,\n",
       "  sum ($collection) => $result,\n",
       "  LS#1.+ ($x, $y) => $result.sum ($collection) => $result.$collection#1 ([])],\n",
       " [LS#2,\n",
       "  + ($x, $y) => $result,\n",
       "  sum ($collection) => $result,\n",
       "  LS#2.+ ($x, $y) => $result.sum ($collection) => $result.$collection#2 ([.Real#2296 (1.5), .Real#1096 (1.5), .Real#2590 (1.5), .Real#1294 (1.5)])],\n",
       " [LS#3,\n",
       "  + ($x, $y) => $result,\n",
       "  sum ($collection) => $result,\n",
       "  LS#3.+ ($x, $y) => $result.sum ($collection) => $result.$collection#3 ([.Real#805 (1.5), .Real#2923 (1.5), .Real#1723 (1.5), .Real#392 (1.5)])]]"
      ]
     },
     "execution_count": 14,
     "metadata": {},
     "output_type": "execute_result"
    }
   ],
   "source": [
    "m0_interpretation[sum_2_collection]"
   ]
  },
  {
   "cell_type": "code",
   "execution_count": 15,
   "id": "5c1b19a4-533f-481c-bf09-77be140822a9",
   "metadata": {},
   "outputs": [
    {
     "data": {
      "text/plain": [
       "[[LS#0,\n",
       "  + ($x, $y) => $result,\n",
       "  sum ($collection) => $result,\n",
       "  LS#0.+ ($x, $y) => $result.sum ($collection) => $result.$result#0 (18.0)],\n",
       " [LS#1,\n",
       "  + ($x, $y) => $result,\n",
       "  sum ($collection) => $result,\n",
       "  LS#1.+ ($x, $y) => $result.sum ($collection) => $result.$result#1 (1.125)],\n",
       " [LS#2,\n",
       "  + ($x, $y) => $result,\n",
       "  sum ($collection) => $result,\n",
       "  LS#2.+ ($x, $y) => $result.sum ($collection) => $result.$result#2 (4.5)],\n",
       " [LS#3,\n",
       "  + ($x, $y) => $result,\n",
       "  sum ($collection) => $result,\n",
       "  LS#3.+ ($x, $y) => $result.sum ($collection) => $result.$result#3 (15.1875)]]"
      ]
     },
     "execution_count": 15,
     "metadata": {},
     "output_type": "execute_result"
    }
   ],
   "source": [
    "m0_interpretation[sum_1_result]"
   ]
  },
  {
   "cell_type": "code",
   "execution_count": 16,
   "id": "40d25c6c-74b7-4219-9a08-8c40c189b607",
   "metadata": {},
   "outputs": [
    {
     "data": {
      "text/plain": [
       "[[LS#0, + ($x, $y) => $result, LS#0.+ ($x, $y) => $result.$x#0 (7.5)],\n",
       " [LS#1, + ($x, $y) => $result, LS#1.+ ($x, $y) => $result.$x#1 (0)],\n",
       " [LS#2, + ($x, $y) => $result, LS#2.+ ($x, $y) => $result.$x#2 (6.0)],\n",
       " [LS#3, + ($x, $y) => $result, LS#3.+ ($x, $y) => $result.$x#3 (6.0)]]"
      ]
     },
     "execution_count": 16,
     "metadata": {},
     "output_type": "execute_result"
    }
   ],
   "source": [
    "m0_interpretation[x]"
   ]
  },
  {
   "cell_type": "code",
   "execution_count": 17,
   "id": "c7b0554d-16d7-414c-8566-2900bec8ea52",
   "metadata": {},
   "outputs": [
    {
     "data": {
      "text/plain": [
       "[[LS#0, .Real#253 (25.5)],\n",
       " [LS#1, .Real#2997 (1.125)],\n",
       " [LS#2, .Real#616 (10.5)],\n",
       " [LS#3, .Real#485 (21.1875)]]"
      ]
     },
     "execution_count": 17,
     "metadata": {},
     "output_type": "execute_result"
    }
   ],
   "source": [
    "m0_interpretation[liquid_stage_full_mass]"
   ]
  },
  {
   "cell_type": "code",
   "execution_count": 18,
   "id": "31214eb4-294f-4e6a-87c5-29d9c08b1d87",
   "metadata": {},
   "outputs": [
    {
     "data": {
      "text/plain": [
       "[[LS#0,\n",
       "  + ($x, $y) => $result,\n",
       "  sum ($collection) => $result,\n",
       "  collect ($collection) => $result,\n",
       "  FRE.Full Mass (p) => $result,\n",
       "  FRE.Full Mass,\n",
       "  LS#0.+ ($x, $y) => $result.sum ($collection) => $result.collect ($collection) => $result.FRE.Full Mass (p) => $result.FRE.Full Mass.$result#0 ([[FL-T200#0, .Real#765 (1.125)], [FL-T200#1, .Real#2680 (1.125)], [FL-T200#2, .Real#1851 (1.125)], [FL-T200#3, .Real#515 (1.125)], [FL-T200#4, .Real#2647 (1.125)], [FL-T200#5, .Real#569 (1.125)], [FL-T200#6, .Real#323 (1.125)], [FL-T200#7, .Real#122 (1.125)], [FL-T200#8, .Real#806 (1.125)], [FL-T200#9, .Real#972 (1.125)], [FL-T200#10, .Real#76 (1.125)], [FL-T200#11, .Real#1782 (1.125)], [FL-T200#12, .Real#591 (1.125)], [FL-T200#13, .Real#1330 (1.125)], [FL-T200#14, .Real#1709 (1.125)], [FL-T200#15, .Real#2410 (1.125)], [FL-T100#0, .Real#2271 (0.5625)], [FL-T100#1, .Real#45 (0.5625)], [FL-T100#2, .Real#1199 (0.5625)], [FL-T100#3, .Real#1948 (0.5625)], [FL-T100#4, .Real#1952 (0.5625)], [FL-T100#5, .Real#2148 (0.5625)], [FL-T100#6, .Real#1639 (0.5625)], [FL-T100#7, .Real#2971 (0.5625)], [FL-T100#8, .Real#1345 (0.5625)], [FL-T100#9, .Real#799 (0.5625)], [FL-T100#10, .Real#42 (0.5625)], [FL-T100#11, .Real#1041 (0.5625)], [FL-T100#12, .Real#933 (0.5625)], [FL-T100#13, .Real#1665 (0.5625)], [FL-T100#14, .Real#2007 (0.5625)], [FL-T100#15, .Real#1855 (0.5625)], [FL-T100#16, .Real#198 (0.5625)], [FL-T100#17, .Real#1637 (0.5625)], [FL-T100#18, .Real#112 (0.5625)], [FL-T100#19, .Real#1949 (0.5625)], [FL-T100#20, .Real#1091 (0.5625)], [FL-T100#21, .Real#275 (0.5625)], [FL-T100#22, .Real#1322 (0.5625)], [FL-T100#23, .Real#2581 (0.5625)], [FL-T100#24, .Real#1874 (0.5625)], [FL-T100#25, .Real#226 (0.5625)], [FL-T100#26, .Real#1020 (0.5625)], [FL-T100#27, .Real#926 (0.5625)], [FL-T100#28, .Real#641 (0.5625)], [FL-T100#29, .Real#2385 (0.5625)], [FL-T100#30, .Real#521 (0.5625)], [FL-T100#31, .Real#1238 (0.5625)], [FL-T100#32, .Real#2625 (0.5625)], [FL-T100#33, .Real#370 (0.5625)], [FL-T100#34, .Real#2636 (0.5625)], [FL-T100#35, .Real#461 (0.5625)], [FL-T100#36, .Real#1936 (0.5625)], [FL-T100#37, .Real#8 (0.5625)], [FL-T100#38, .Real#2871 (0.5625)], [FL-T100#39, .Real#1973 (0.5625)], [FL-T100#40, .Real#2951 (0.5625)], [FL-T100#41, .Real#2967 (0.5625)], [FL-T100#42, .Real#414 (0.5625)], [FL-T100#43, .Real#337 (0.5625)], [FL-T100#44, .Real#2462 (0.5625)], [FL-T100#45, .Real#849 (0.5625)], [FL-T100#46, .Real#1443 (0.5625)], [FL-T100#47, .Real#1186 (0.5625)], [FL-T100#48, .Real#2688 (0.5625)], [FL-T100#49, .Real#2993 (0.5625)], [FL-T100#50, .Real#1555 (0.5625)], [FL-T100#51, .Real#601 (0.5625)], [FL-T100#52, .Real#2980 (0.5625)], [FL-T100#53, .Real#2227 (0.5625)], [FL-T100#54, .Real#2626 (0.5625)], [FL-T100#55, .Real#247 (0.5625)], [FL-T100#56, .Real#901 (0.5625)], [FL-T100#57, .Real#1760 (0.5625)], [FL-T100#58, .Real#1053 (0.5625)], [FL-T100#59, .Real#140 (0.5625)], [FL-T100#60, .Real#633 (0.5625)], [FL-T100#61, .Real#2630 (0.5625)], [FL-T100#62, .Real#1773 (0.5625)], [FL-T100#63, .Real#17 (0.5625)], [FL-T100#64, .Real#2815 (0.5625)], [FL-T100#65, .Real#850 (0.5625)], [FL-T100#66, .Real#1962 (0.5625)], [FL-T100#67, .Real#1814 (0.5625)], [FL-T100#68, .Real#1913 (0.5625)], [FL-T100#69, .Real#2278 (0.5625)], [FL-T100#70, .Real#2526 (0.5625)], [FL-T100#71, .Real#107 (0.5625)], [FL-T100#72, .Real#2209 (0.5625)], [FL-T100#73, .Real#2601 (0.5625)], [FL-T100#74, .Real#278 (0.5625)], [FL-T100#75, .Real#2803 (0.5625)], [FL-T100#76, .Real#71 (0.5625)], [FL-T100#77, .Real#1304 (0.5625)], [FL-T100#78, .Real#2801 (0.5625)], [FL-T100#79, .Real#26 (0.5625)], [FL-T100#80, .Real#1258 (0.5625)], [FL-T100#81, .Real#2753 (0.5625)], [FL-T100#82, .Real#980 (0.5625)], [FL-T100#83, .Real#2134 (0.5625)], [FL-T100#84, .Real#1938 (0.5625)], [FL-T100#85, .Real#1629 (0.5625)], [FL-T100#86, .Real#456 (0.5625)], [FL-T100#87, .Real#81 (0.5625)], [FL-T100#88, .Real#2565 (0.5625)], [FL-T100#89, .Real#2348 (0.5625)], [FL-T100#90, .Real#1865 (0.5625)], [FL-T100#91, .Real#2784 (0.5625)], [FL-T100#92, .Real#383 (0.5625)], [FL-T100#93, .Real#1603 (0.5625)], [FL-T100#94, .Real#2485 (0.5625)], [FL-T100#95, .Real#796 (0.5625)], [FL-T100#96, .Real#612 (0.5625)], [FL-T100#97, .Real#2774 (0.5625)], [FL-T100#98, .Real#2067 (0.5625)], [FL-T100#99, .Real#947 (0.5625)], [FL-T100#100, .Real#1375 (0.5625)], [FL-T100#101, .Real#2769 (0.5625)], [FL-T100#102, .Real#43 (0.5625)], [FL-T100#103, .Real#2441 (0.5625)], [FL-T100#104, .Real#2466 (0.5625)], [FL-T100#105, .Real#2550 (0.5625)], [FL-T100#106, .Real#1565 (0.5625)], [FL-T100#107, .Real#372 (0.5625)], [FL-T100#108, .Real#948 (0.5625)], [FL-T100#109, .Real#481 (0.5625)], [FL-T100#110, .Real#862 (0.5625)], [FL-T100#111, .Real#1169 (0.5625)], [FL-T100#112, .Real#1876 (0.5625)], [FL-T100#113, .Real#1917 (0.5625)], [FL-T100#114, .Real#1211 (0.5625)], [FL-T100#115, .Real#418 (0.5625)], [FL-T100#116, .Real#900 (0.5625)], [FL-T100#117, .Real#1156 (0.5625)], [FL-T100#118, .Real#524 (0.5625)], [FL-T100#119, .Real#1750 (0.5625)], [FL-T100#120, .Real#2453 (0.5625)], [FL-T100#121, .Real#1517 (0.5625)], [FL-T100#122, .Real#2364 (0.5625)], [FL-T100#123, .Real#62 (0.5625)], [FL-T100#124, .Real#574 (0.5625)], [FL-T100#125, .Real#874 (0.5625)], [FL-T100#126, .Real#1344 (0.5625)], [FL-T100#127, .Real#2958 (0.5625)], [FL-T100#128, .Real#2360 (0.5625)], [FL-T100#129, .Real#429 (0.5625)], [FL-T100#130, .Real#2464 (0.5625)], [FL-T100#131, .Real#2833 (0.5625)], [FL-T100#132, .Real#751 (0.5625)], [FL-T100#133, .Real#1326 (0.5625)]])],\n",
       " [LS#1,\n",
       "  + ($x, $y) => $result,\n",
       "  sum ($collection) => $result,\n",
       "  collect ($collection) => $result,\n",
       "  FRE.Full Mass (p) => $result,\n",
       "  FRE.Full Mass,\n",
       "  LS#1.+ ($x, $y) => $result.sum ($collection) => $result.collect ($collection) => $result.FRE.Full Mass (p) => $result.FRE.Full Mass.$result#1 ([[FL-T200#0, .Real#765 (1.125)], [FL-T200#1, .Real#2680 (1.125)], [FL-T200#2, .Real#1851 (1.125)], [FL-T200#3, .Real#515 (1.125)], [FL-T200#4, .Real#2647 (1.125)], [FL-T200#5, .Real#569 (1.125)], [FL-T200#6, .Real#323 (1.125)], [FL-T200#7, .Real#122 (1.125)], [FL-T200#8, .Real#806 (1.125)], [FL-T200#9, .Real#972 (1.125)], [FL-T200#10, .Real#76 (1.125)], [FL-T200#11, .Real#1782 (1.125)], [FL-T200#12, .Real#591 (1.125)], [FL-T200#13, .Real#1330 (1.125)], [FL-T200#14, .Real#1709 (1.125)], [FL-T200#15, .Real#2410 (1.125)], [FL-T100#0, .Real#2271 (0.5625)], [FL-T100#1, .Real#45 (0.5625)], [FL-T100#2, .Real#1199 (0.5625)], [FL-T100#3, .Real#1948 (0.5625)], [FL-T100#4, .Real#1952 (0.5625)], [FL-T100#5, .Real#2148 (0.5625)], [FL-T100#6, .Real#1639 (0.5625)], [FL-T100#7, .Real#2971 (0.5625)], [FL-T100#8, .Real#1345 (0.5625)], [FL-T100#9, .Real#799 (0.5625)], [FL-T100#10, .Real#42 (0.5625)], [FL-T100#11, .Real#1041 (0.5625)], [FL-T100#12, .Real#933 (0.5625)], [FL-T100#13, .Real#1665 (0.5625)], [FL-T100#14, .Real#2007 (0.5625)], [FL-T100#15, .Real#1855 (0.5625)], [FL-T100#16, .Real#198 (0.5625)], [FL-T100#17, .Real#1637 (0.5625)], [FL-T100#18, .Real#112 (0.5625)], [FL-T100#19, .Real#1949 (0.5625)], [FL-T100#20, .Real#1091 (0.5625)], [FL-T100#21, .Real#275 (0.5625)], [FL-T100#22, .Real#1322 (0.5625)], [FL-T100#23, .Real#2581 (0.5625)], [FL-T100#24, .Real#1874 (0.5625)], [FL-T100#25, .Real#226 (0.5625)], [FL-T100#26, .Real#1020 (0.5625)], [FL-T100#27, .Real#926 (0.5625)], [FL-T100#28, .Real#641 (0.5625)], [FL-T100#29, .Real#2385 (0.5625)], [FL-T100#30, .Real#521 (0.5625)], [FL-T100#31, .Real#1238 (0.5625)], [FL-T100#32, .Real#2625 (0.5625)], [FL-T100#33, .Real#370 (0.5625)], [FL-T100#34, .Real#2636 (0.5625)], [FL-T100#35, .Real#461 (0.5625)], [FL-T100#36, .Real#1936 (0.5625)], [FL-T100#37, .Real#8 (0.5625)], [FL-T100#38, .Real#2871 (0.5625)], [FL-T100#39, .Real#1973 (0.5625)], [FL-T100#40, .Real#2951 (0.5625)], [FL-T100#41, .Real#2967 (0.5625)], [FL-T100#42, .Real#414 (0.5625)], [FL-T100#43, .Real#337 (0.5625)], [FL-T100#44, .Real#2462 (0.5625)], [FL-T100#45, .Real#849 (0.5625)], [FL-T100#46, .Real#1443 (0.5625)], [FL-T100#47, .Real#1186 (0.5625)], [FL-T100#48, .Real#2688 (0.5625)], [FL-T100#49, .Real#2993 (0.5625)], [FL-T100#50, .Real#1555 (0.5625)], [FL-T100#51, .Real#601 (0.5625)], [FL-T100#52, .Real#2980 (0.5625)], [FL-T100#53, .Real#2227 (0.5625)], [FL-T100#54, .Real#2626 (0.5625)], [FL-T100#55, .Real#247 (0.5625)], [FL-T100#56, .Real#901 (0.5625)], [FL-T100#57, .Real#1760 (0.5625)], [FL-T100#58, .Real#1053 (0.5625)], [FL-T100#59, .Real#140 (0.5625)], [FL-T100#60, .Real#633 (0.5625)], [FL-T100#61, .Real#2630 (0.5625)], [FL-T100#62, .Real#1773 (0.5625)], [FL-T100#63, .Real#17 (0.5625)], [FL-T100#64, .Real#2815 (0.5625)], [FL-T100#65, .Real#850 (0.5625)], [FL-T100#66, .Real#1962 (0.5625)], [FL-T100#67, .Real#1814 (0.5625)], [FL-T100#68, .Real#1913 (0.5625)], [FL-T100#69, .Real#2278 (0.5625)], [FL-T100#70, .Real#2526 (0.5625)], [FL-T100#71, .Real#107 (0.5625)], [FL-T100#72, .Real#2209 (0.5625)], [FL-T100#73, .Real#2601 (0.5625)], [FL-T100#74, .Real#278 (0.5625)], [FL-T100#75, .Real#2803 (0.5625)], [FL-T100#76, .Real#71 (0.5625)], [FL-T100#77, .Real#1304 (0.5625)], [FL-T100#78, .Real#2801 (0.5625)], [FL-T100#79, .Real#26 (0.5625)], [FL-T100#80, .Real#1258 (0.5625)], [FL-T100#81, .Real#2753 (0.5625)], [FL-T100#82, .Real#980 (0.5625)], [FL-T100#83, .Real#2134 (0.5625)], [FL-T100#84, .Real#1938 (0.5625)], [FL-T100#85, .Real#1629 (0.5625)], [FL-T100#86, .Real#456 (0.5625)], [FL-T100#87, .Real#81 (0.5625)], [FL-T100#88, .Real#2565 (0.5625)], [FL-T100#89, .Real#2348 (0.5625)], [FL-T100#90, .Real#1865 (0.5625)], [FL-T100#91, .Real#2784 (0.5625)], [FL-T100#92, .Real#383 (0.5625)], [FL-T100#93, .Real#1603 (0.5625)], [FL-T100#94, .Real#2485 (0.5625)], [FL-T100#95, .Real#796 (0.5625)], [FL-T100#96, .Real#612 (0.5625)], [FL-T100#97, .Real#2774 (0.5625)], [FL-T100#98, .Real#2067 (0.5625)], [FL-T100#99, .Real#947 (0.5625)], [FL-T100#100, .Real#1375 (0.5625)], [FL-T100#101, .Real#2769 (0.5625)], [FL-T100#102, .Real#43 (0.5625)], [FL-T100#103, .Real#2441 (0.5625)], [FL-T100#104, .Real#2466 (0.5625)], [FL-T100#105, .Real#2550 (0.5625)], [FL-T100#106, .Real#1565 (0.5625)], [FL-T100#107, .Real#372 (0.5625)], [FL-T100#108, .Real#948 (0.5625)], [FL-T100#109, .Real#481 (0.5625)], [FL-T100#110, .Real#862 (0.5625)], [FL-T100#111, .Real#1169 (0.5625)], [FL-T100#112, .Real#1876 (0.5625)], [FL-T100#113, .Real#1917 (0.5625)], [FL-T100#114, .Real#1211 (0.5625)], [FL-T100#115, .Real#418 (0.5625)], [FL-T100#116, .Real#900 (0.5625)], [FL-T100#117, .Real#1156 (0.5625)], [FL-T100#118, .Real#524 (0.5625)], [FL-T100#119, .Real#1750 (0.5625)], [FL-T100#120, .Real#2453 (0.5625)], [FL-T100#121, .Real#1517 (0.5625)], [FL-T100#122, .Real#2364 (0.5625)], [FL-T100#123, .Real#62 (0.5625)], [FL-T100#124, .Real#574 (0.5625)], [FL-T100#125, .Real#874 (0.5625)], [FL-T100#126, .Real#1344 (0.5625)], [FL-T100#127, .Real#2958 (0.5625)], [FL-T100#128, .Real#2360 (0.5625)], [FL-T100#129, .Real#429 (0.5625)], [FL-T100#130, .Real#2464 (0.5625)], [FL-T100#131, .Real#2833 (0.5625)], [FL-T100#132, .Real#751 (0.5625)], [FL-T100#133, .Real#1326 (0.5625)]])],\n",
       " [LS#2,\n",
       "  + ($x, $y) => $result,\n",
       "  sum ($collection) => $result,\n",
       "  collect ($collection) => $result,\n",
       "  FRE.Full Mass (p) => $result,\n",
       "  FRE.Full Mass,\n",
       "  LS#2.+ ($x, $y) => $result.sum ($collection) => $result.collect ($collection) => $result.FRE.Full Mass (p) => $result.FRE.Full Mass.$result#2 ([[FL-T200#0, .Real#765 (1.125)], [FL-T200#1, .Real#2680 (1.125)], [FL-T200#2, .Real#1851 (1.125)], [FL-T200#3, .Real#515 (1.125)], [FL-T200#4, .Real#2647 (1.125)], [FL-T200#5, .Real#569 (1.125)], [FL-T200#6, .Real#323 (1.125)], [FL-T200#7, .Real#122 (1.125)], [FL-T200#8, .Real#806 (1.125)], [FL-T200#9, .Real#972 (1.125)], [FL-T200#10, .Real#76 (1.125)], [FL-T200#11, .Real#1782 (1.125)], [FL-T200#12, .Real#591 (1.125)], [FL-T200#13, .Real#1330 (1.125)], [FL-T200#14, .Real#1709 (1.125)], [FL-T200#15, .Real#2410 (1.125)], [FL-T100#0, .Real#2271 (0.5625)], [FL-T100#1, .Real#45 (0.5625)], [FL-T100#2, .Real#1199 (0.5625)], [FL-T100#3, .Real#1948 (0.5625)], [FL-T100#4, .Real#1952 (0.5625)], [FL-T100#5, .Real#2148 (0.5625)], [FL-T100#6, .Real#1639 (0.5625)], [FL-T100#7, .Real#2971 (0.5625)], [FL-T100#8, .Real#1345 (0.5625)], [FL-T100#9, .Real#799 (0.5625)], [FL-T100#10, .Real#42 (0.5625)], [FL-T100#11, .Real#1041 (0.5625)], [FL-T100#12, .Real#933 (0.5625)], [FL-T100#13, .Real#1665 (0.5625)], [FL-T100#14, .Real#2007 (0.5625)], [FL-T100#15, .Real#1855 (0.5625)], [FL-T100#16, .Real#198 (0.5625)], [FL-T100#17, .Real#1637 (0.5625)], [FL-T100#18, .Real#112 (0.5625)], [FL-T100#19, .Real#1949 (0.5625)], [FL-T100#20, .Real#1091 (0.5625)], [FL-T100#21, .Real#275 (0.5625)], [FL-T100#22, .Real#1322 (0.5625)], [FL-T100#23, .Real#2581 (0.5625)], [FL-T100#24, .Real#1874 (0.5625)], [FL-T100#25, .Real#226 (0.5625)], [FL-T100#26, .Real#1020 (0.5625)], [FL-T100#27, .Real#926 (0.5625)], [FL-T100#28, .Real#641 (0.5625)], [FL-T100#29, .Real#2385 (0.5625)], [FL-T100#30, .Real#521 (0.5625)], [FL-T100#31, .Real#1238 (0.5625)], [FL-T100#32, .Real#2625 (0.5625)], [FL-T100#33, .Real#370 (0.5625)], [FL-T100#34, .Real#2636 (0.5625)], [FL-T100#35, .Real#461 (0.5625)], [FL-T100#36, .Real#1936 (0.5625)], [FL-T100#37, .Real#8 (0.5625)], [FL-T100#38, .Real#2871 (0.5625)], [FL-T100#39, .Real#1973 (0.5625)], [FL-T100#40, .Real#2951 (0.5625)], [FL-T100#41, .Real#2967 (0.5625)], [FL-T100#42, .Real#414 (0.5625)], [FL-T100#43, .Real#337 (0.5625)], [FL-T100#44, .Real#2462 (0.5625)], [FL-T100#45, .Real#849 (0.5625)], [FL-T100#46, .Real#1443 (0.5625)], [FL-T100#47, .Real#1186 (0.5625)], [FL-T100#48, .Real#2688 (0.5625)], [FL-T100#49, .Real#2993 (0.5625)], [FL-T100#50, .Real#1555 (0.5625)], [FL-T100#51, .Real#601 (0.5625)], [FL-T100#52, .Real#2980 (0.5625)], [FL-T100#53, .Real#2227 (0.5625)], [FL-T100#54, .Real#2626 (0.5625)], [FL-T100#55, .Real#247 (0.5625)], [FL-T100#56, .Real#901 (0.5625)], [FL-T100#57, .Real#1760 (0.5625)], [FL-T100#58, .Real#1053 (0.5625)], [FL-T100#59, .Real#140 (0.5625)], [FL-T100#60, .Real#633 (0.5625)], [FL-T100#61, .Real#2630 (0.5625)], [FL-T100#62, .Real#1773 (0.5625)], [FL-T100#63, .Real#17 (0.5625)], [FL-T100#64, .Real#2815 (0.5625)], [FL-T100#65, .Real#850 (0.5625)], [FL-T100#66, .Real#1962 (0.5625)], [FL-T100#67, .Real#1814 (0.5625)], [FL-T100#68, .Real#1913 (0.5625)], [FL-T100#69, .Real#2278 (0.5625)], [FL-T100#70, .Real#2526 (0.5625)], [FL-T100#71, .Real#107 (0.5625)], [FL-T100#72, .Real#2209 (0.5625)], [FL-T100#73, .Real#2601 (0.5625)], [FL-T100#74, .Real#278 (0.5625)], [FL-T100#75, .Real#2803 (0.5625)], [FL-T100#76, .Real#71 (0.5625)], [FL-T100#77, .Real#1304 (0.5625)], [FL-T100#78, .Real#2801 (0.5625)], [FL-T100#79, .Real#26 (0.5625)], [FL-T100#80, .Real#1258 (0.5625)], [FL-T100#81, .Real#2753 (0.5625)], [FL-T100#82, .Real#980 (0.5625)], [FL-T100#83, .Real#2134 (0.5625)], [FL-T100#84, .Real#1938 (0.5625)], [FL-T100#85, .Real#1629 (0.5625)], [FL-T100#86, .Real#456 (0.5625)], [FL-T100#87, .Real#81 (0.5625)], [FL-T100#88, .Real#2565 (0.5625)], [FL-T100#89, .Real#2348 (0.5625)], [FL-T100#90, .Real#1865 (0.5625)], [FL-T100#91, .Real#2784 (0.5625)], [FL-T100#92, .Real#383 (0.5625)], [FL-T100#93, .Real#1603 (0.5625)], [FL-T100#94, .Real#2485 (0.5625)], [FL-T100#95, .Real#796 (0.5625)], [FL-T100#96, .Real#612 (0.5625)], [FL-T100#97, .Real#2774 (0.5625)], [FL-T100#98, .Real#2067 (0.5625)], [FL-T100#99, .Real#947 (0.5625)], [FL-T100#100, .Real#1375 (0.5625)], [FL-T100#101, .Real#2769 (0.5625)], [FL-T100#102, .Real#43 (0.5625)], [FL-T100#103, .Real#2441 (0.5625)], [FL-T100#104, .Real#2466 (0.5625)], [FL-T100#105, .Real#2550 (0.5625)], [FL-T100#106, .Real#1565 (0.5625)], [FL-T100#107, .Real#372 (0.5625)], [FL-T100#108, .Real#948 (0.5625)], [FL-T100#109, .Real#481 (0.5625)], [FL-T100#110, .Real#862 (0.5625)], [FL-T100#111, .Real#1169 (0.5625)], [FL-T100#112, .Real#1876 (0.5625)], [FL-T100#113, .Real#1917 (0.5625)], [FL-T100#114, .Real#1211 (0.5625)], [FL-T100#115, .Real#418 (0.5625)], [FL-T100#116, .Real#900 (0.5625)], [FL-T100#117, .Real#1156 (0.5625)], [FL-T100#118, .Real#524 (0.5625)], [FL-T100#119, .Real#1750 (0.5625)], [FL-T100#120, .Real#2453 (0.5625)], [FL-T100#121, .Real#1517 (0.5625)], [FL-T100#122, .Real#2364 (0.5625)], [FL-T100#123, .Real#62 (0.5625)], [FL-T100#124, .Real#574 (0.5625)], [FL-T100#125, .Real#874 (0.5625)], [FL-T100#126, .Real#1344 (0.5625)], [FL-T100#127, .Real#2958 (0.5625)], [FL-T100#128, .Real#2360 (0.5625)], [FL-T100#129, .Real#429 (0.5625)], [FL-T100#130, .Real#2464 (0.5625)], [FL-T100#131, .Real#2833 (0.5625)], [FL-T100#132, .Real#751 (0.5625)], [FL-T100#133, .Real#1326 (0.5625)]])],\n",
       " [LS#3,\n",
       "  + ($x, $y) => $result,\n",
       "  sum ($collection) => $result,\n",
       "  collect ($collection) => $result,\n",
       "  FRE.Full Mass (p) => $result,\n",
       "  FRE.Full Mass,\n",
       "  LS#3.+ ($x, $y) => $result.sum ($collection) => $result.collect ($collection) => $result.FRE.Full Mass (p) => $result.FRE.Full Mass.$result#3 ([[FL-T200#0, .Real#765 (1.125)], [FL-T200#1, .Real#2680 (1.125)], [FL-T200#2, .Real#1851 (1.125)], [FL-T200#3, .Real#515 (1.125)], [FL-T200#4, .Real#2647 (1.125)], [FL-T200#5, .Real#569 (1.125)], [FL-T200#6, .Real#323 (1.125)], [FL-T200#7, .Real#122 (1.125)], [FL-T200#8, .Real#806 (1.125)], [FL-T200#9, .Real#972 (1.125)], [FL-T200#10, .Real#76 (1.125)], [FL-T200#11, .Real#1782 (1.125)], [FL-T200#12, .Real#591 (1.125)], [FL-T200#13, .Real#1330 (1.125)], [FL-T200#14, .Real#1709 (1.125)], [FL-T200#15, .Real#2410 (1.125)], [FL-T100#0, .Real#2271 (0.5625)], [FL-T100#1, .Real#45 (0.5625)], [FL-T100#2, .Real#1199 (0.5625)], [FL-T100#3, .Real#1948 (0.5625)], [FL-T100#4, .Real#1952 (0.5625)], [FL-T100#5, .Real#2148 (0.5625)], [FL-T100#6, .Real#1639 (0.5625)], [FL-T100#7, .Real#2971 (0.5625)], [FL-T100#8, .Real#1345 (0.5625)], [FL-T100#9, .Real#799 (0.5625)], [FL-T100#10, .Real#42 (0.5625)], [FL-T100#11, .Real#1041 (0.5625)], [FL-T100#12, .Real#933 (0.5625)], [FL-T100#13, .Real#1665 (0.5625)], [FL-T100#14, .Real#2007 (0.5625)], [FL-T100#15, .Real#1855 (0.5625)], [FL-T100#16, .Real#198 (0.5625)], [FL-T100#17, .Real#1637 (0.5625)], [FL-T100#18, .Real#112 (0.5625)], [FL-T100#19, .Real#1949 (0.5625)], [FL-T100#20, .Real#1091 (0.5625)], [FL-T100#21, .Real#275 (0.5625)], [FL-T100#22, .Real#1322 (0.5625)], [FL-T100#23, .Real#2581 (0.5625)], [FL-T100#24, .Real#1874 (0.5625)], [FL-T100#25, .Real#226 (0.5625)], [FL-T100#26, .Real#1020 (0.5625)], [FL-T100#27, .Real#926 (0.5625)], [FL-T100#28, .Real#641 (0.5625)], [FL-T100#29, .Real#2385 (0.5625)], [FL-T100#30, .Real#521 (0.5625)], [FL-T100#31, .Real#1238 (0.5625)], [FL-T100#32, .Real#2625 (0.5625)], [FL-T100#33, .Real#370 (0.5625)], [FL-T100#34, .Real#2636 (0.5625)], [FL-T100#35, .Real#461 (0.5625)], [FL-T100#36, .Real#1936 (0.5625)], [FL-T100#37, .Real#8 (0.5625)], [FL-T100#38, .Real#2871 (0.5625)], [FL-T100#39, .Real#1973 (0.5625)], [FL-T100#40, .Real#2951 (0.5625)], [FL-T100#41, .Real#2967 (0.5625)], [FL-T100#42, .Real#414 (0.5625)], [FL-T100#43, .Real#337 (0.5625)], [FL-T100#44, .Real#2462 (0.5625)], [FL-T100#45, .Real#849 (0.5625)], [FL-T100#46, .Real#1443 (0.5625)], [FL-T100#47, .Real#1186 (0.5625)], [FL-T100#48, .Real#2688 (0.5625)], [FL-T100#49, .Real#2993 (0.5625)], [FL-T100#50, .Real#1555 (0.5625)], [FL-T100#51, .Real#601 (0.5625)], [FL-T100#52, .Real#2980 (0.5625)], [FL-T100#53, .Real#2227 (0.5625)], [FL-T100#54, .Real#2626 (0.5625)], [FL-T100#55, .Real#247 (0.5625)], [FL-T100#56, .Real#901 (0.5625)], [FL-T100#57, .Real#1760 (0.5625)], [FL-T100#58, .Real#1053 (0.5625)], [FL-T100#59, .Real#140 (0.5625)], [FL-T100#60, .Real#633 (0.5625)], [FL-T100#61, .Real#2630 (0.5625)], [FL-T100#62, .Real#1773 (0.5625)], [FL-T100#63, .Real#17 (0.5625)], [FL-T100#64, .Real#2815 (0.5625)], [FL-T100#65, .Real#850 (0.5625)], [FL-T100#66, .Real#1962 (0.5625)], [FL-T100#67, .Real#1814 (0.5625)], [FL-T100#68, .Real#1913 (0.5625)], [FL-T100#69, .Real#2278 (0.5625)], [FL-T100#70, .Real#2526 (0.5625)], [FL-T100#71, .Real#107 (0.5625)], [FL-T100#72, .Real#2209 (0.5625)], [FL-T100#73, .Real#2601 (0.5625)], [FL-T100#74, .Real#278 (0.5625)], [FL-T100#75, .Real#2803 (0.5625)], [FL-T100#76, .Real#71 (0.5625)], [FL-T100#77, .Real#1304 (0.5625)], [FL-T100#78, .Real#2801 (0.5625)], [FL-T100#79, .Real#26 (0.5625)], [FL-T100#80, .Real#1258 (0.5625)], [FL-T100#81, .Real#2753 (0.5625)], [FL-T100#82, .Real#980 (0.5625)], [FL-T100#83, .Real#2134 (0.5625)], [FL-T100#84, .Real#1938 (0.5625)], [FL-T100#85, .Real#1629 (0.5625)], [FL-T100#86, .Real#456 (0.5625)], [FL-T100#87, .Real#81 (0.5625)], [FL-T100#88, .Real#2565 (0.5625)], [FL-T100#89, .Real#2348 (0.5625)], [FL-T100#90, .Real#1865 (0.5625)], [FL-T100#91, .Real#2784 (0.5625)], [FL-T100#92, .Real#383 (0.5625)], [FL-T100#93, .Real#1603 (0.5625)], [FL-T100#94, .Real#2485 (0.5625)], [FL-T100#95, .Real#796 (0.5625)], [FL-T100#96, .Real#612 (0.5625)], [FL-T100#97, .Real#2774 (0.5625)], [FL-T100#98, .Real#2067 (0.5625)], [FL-T100#99, .Real#947 (0.5625)], [FL-T100#100, .Real#1375 (0.5625)], [FL-T100#101, .Real#2769 (0.5625)], [FL-T100#102, .Real#43 (0.5625)], [FL-T100#103, .Real#2441 (0.5625)], [FL-T100#104, .Real#2466 (0.5625)], [FL-T100#105, .Real#2550 (0.5625)], [FL-T100#106, .Real#1565 (0.5625)], [FL-T100#107, .Real#372 (0.5625)], [FL-T100#108, .Real#948 (0.5625)], [FL-T100#109, .Real#481 (0.5625)], [FL-T100#110, .Real#862 (0.5625)], [FL-T100#111, .Real#1169 (0.5625)], [FL-T100#112, .Real#1876 (0.5625)], [FL-T100#113, .Real#1917 (0.5625)], [FL-T100#114, .Real#1211 (0.5625)], [FL-T100#115, .Real#418 (0.5625)], [FL-T100#116, .Real#900 (0.5625)], [FL-T100#117, .Real#1156 (0.5625)], [FL-T100#118, .Real#524 (0.5625)], [FL-T100#119, .Real#1750 (0.5625)], [FL-T100#120, .Real#2453 (0.5625)], [FL-T100#121, .Real#1517 (0.5625)], [FL-T100#122, .Real#2364 (0.5625)], [FL-T100#123, .Real#62 (0.5625)], [FL-T100#124, .Real#574 (0.5625)], [FL-T100#125, .Real#874 (0.5625)], [FL-T100#126, .Real#1344 (0.5625)], [FL-T100#127, .Real#2958 (0.5625)], [FL-T100#128, .Real#2360 (0.5625)], [FL-T100#129, .Real#429 (0.5625)], [FL-T100#130, .Real#2464 (0.5625)], [FL-T100#131, .Real#2833 (0.5625)], [FL-T100#132, .Real#751 (0.5625)], [FL-T100#133, .Real#1326 (0.5625)]])]]"
      ]
     },
     "execution_count": 18,
     "metadata": {},
     "output_type": "execute_result"
    }
   ],
   "source": [
    "m0_interpretation[fre_1_result]"
   ]
  },
  {
   "cell_type": "code",
   "execution_count": 19,
   "id": "56bb7103-f200-4630-8a04-1bfb972ecdd0",
   "metadata": {},
   "outputs": [
    {
     "data": {
      "text/plain": [
       "[[LS#0,\n",
       "  + ($x, $y) => $result,\n",
       "  sum ($collection) => $result,\n",
       "  collect ($collection) => $result,\n",
       "  FRE.Mass (p) => $result,\n",
       "  FRE.Mass,\n",
       "  LS#0.+ ($x, $y) => $result.sum ($collection) => $result.collect ($collection) => $result.FRE.Mass (p) => $result.FRE.Mass.$result#0 ([[FL-T200#0, .Real#2604 (unset)], [FL-T200#1, .Real#1630 (unset)], [FL-T200#2, .Real#2176 (unset)], [FL-T200#3, .Real#3002 (unset)], [FL-T200#4, .Real#1046 (unset)], [FL-T200#5, .Real#2682 (unset)], [FL-T200#6, .Real#20 (unset)], [FL-T200#7, .Real#2187 (unset)], [FL-T200#8, .Real#876 (unset)], [FL-T200#9, .Real#689 (unset)], [FL-T200#10, .Real#2915 (unset)], [FL-T200#11, .Real#1103 (unset)], [FL-T200#12, .Real#594 (unset)], [FL-T200#13, .Real#284 (unset)], [FL-T200#14, .Real#1550 (unset)], [FL-T200#15, .Real#84 (unset)], [FL-T100#0, .Real#68 (unset)], [FL-T100#1, .Real#883 (unset)], [FL-T100#2, .Real#2107 (unset)], [FL-T100#3, .Real#1756 (unset)], [FL-T100#4, .Real#2415 (unset)], [FL-T100#5, .Real#2094 (unset)], [FL-T100#6, .Real#2491 (unset)], [FL-T100#7, .Real#1338 (unset)], [FL-T100#8, .Real#2656 (unset)], [FL-T100#9, .Real#1861 (unset)], [FL-T100#10, .Real#1985 (unset)], [FL-T100#11, .Real#1458 (unset)], [FL-T100#12, .Real#1305 (unset)], [FL-T100#13, .Real#2800 (unset)], [FL-T100#14, .Real#664 (unset)], [FL-T100#15, .Real#484 (unset)], [FL-T100#16, .Real#1627 (unset)], [FL-T100#17, .Real#2989 (unset)], [FL-T100#18, .Real#1972 (unset)], [FL-T100#19, .Real#884 (unset)], [FL-T100#20, .Real#1997 (unset)], [FL-T100#21, .Real#1695 (unset)], [FL-T100#22, .Real#1158 (unset)], [FL-T100#23, .Real#1993 (unset)], [FL-T100#24, .Real#729 (unset)], [FL-T100#25, .Real#1295 (unset)], [FL-T100#26, .Real#868 (unset)], [FL-T100#27, .Real#1205 (unset)], [FL-T100#28, .Real#644 (unset)], [FL-T100#29, .Real#389 (unset)], [FL-T100#30, .Real#2918 (unset)], [FL-T100#31, .Real#1264 (unset)], [FL-T100#32, .Real#1785 (unset)], [FL-T100#33, .Real#348 (unset)], [FL-T100#34, .Real#2158 (unset)], [FL-T100#35, .Real#1929 (unset)], [FL-T100#36, .Real#486 (unset)], [FL-T100#37, .Real#544 (unset)], [FL-T100#38, .Real#424 (unset)], [FL-T100#39, .Real#2689 (unset)], [FL-T100#40, .Real#2181 (unset)], [FL-T100#41, .Real#449 (unset)], [FL-T100#42, .Real#2058 (unset)], [FL-T100#43, .Real#1482 (unset)], [FL-T100#44, .Real#1580 (unset)], [FL-T100#45, .Real#2827 (unset)], [FL-T100#46, .Real#2760 (unset)], [FL-T100#47, .Real#1624 (unset)], [FL-T100#48, .Real#487 (unset)], [FL-T100#49, .Real#619 (unset)], [FL-T100#50, .Real#489 (unset)], [FL-T100#51, .Real#2616 (unset)], [FL-T100#52, .Real#403 (unset)], [FL-T100#53, .Real#1854 (unset)], [FL-T100#54, .Real#1170 (unset)], [FL-T100#55, .Real#2226 (unset)], [FL-T100#56, .Real#2715 (unset)], [FL-T100#57, .Real#2798 (unset)], [FL-T100#58, .Real#1636 (unset)], [FL-T100#59, .Real#1266 (unset)], [FL-T100#60, .Real#2541 (unset)], [FL-T100#61, .Real#54 (unset)], [FL-T100#62, .Real#2022 (unset)], [FL-T100#63, .Real#1285 (unset)], [FL-T100#64, .Real#748 (unset)], [FL-T100#65, .Real#1809 (unset)], [FL-T100#66, .Real#2779 (unset)], [FL-T100#67, .Real#2377 (unset)], [FL-T100#68, .Real#1864 (unset)], [FL-T100#69, .Real#522 (unset)], [FL-T100#70, .Real#1139 (unset)], [FL-T100#71, .Real#2079 (unset)], [FL-T100#72, .Real#1894 (unset)], [FL-T100#73, .Real#1640 (unset)], [FL-T100#74, .Real#1975 (unset)], [FL-T100#75, .Real#779 (unset)], [FL-T100#76, .Real#1403 (unset)], [FL-T100#77, .Real#789 (unset)], [FL-T100#78, .Real#969 (unset)], [FL-T100#79, .Real#1700 (unset)], [FL-T100#80, .Real#780 (unset)], [FL-T100#81, .Real#1941 (unset)], [FL-T100#82, .Real#2416 (unset)], [FL-T100#83, .Real#823 (unset)], [FL-T100#84, .Real#2263 (unset)], [FL-T100#85, .Real#733 (unset)], [FL-T100#86, .Real#903 (unset)], [FL-T100#87, .Real#2339 (unset)], [FL-T100#88, .Real#3 (unset)], [FL-T100#89, .Real#161 (unset)], [FL-T100#90, .Real#750 (unset)], [FL-T100#91, .Real#2114 (unset)], [FL-T100#92, .Real#2817 (unset)], [FL-T100#93, .Real#158 (unset)], [FL-T100#94, .Real#2159 (unset)], [FL-T100#95, .Real#2538 (unset)], [FL-T100#96, .Real#53 (unset)], [FL-T100#97, .Real#2855 (unset)], [FL-T100#98, .Real#2243 (unset)], [FL-T100#99, .Real#428 (unset)], [FL-T100#100, .Real#2875 (unset)], [FL-T100#101, .Real#547 (unset)], [FL-T100#102, .Real#555 (unset)], [FL-T100#103, .Real#538 (unset)], [FL-T100#104, .Real#1593 (unset)], [FL-T100#105, .Real#2316 (unset)], [FL-T100#106, .Real#2311 (unset)], [FL-T100#107, .Real#5 (unset)], [FL-T100#108, .Real#2560 (unset)], [FL-T100#109, .Real#366 (unset)], [FL-T100#110, .Real#643 (unset)], [FL-T100#111, .Real#60 (unset)], [FL-T100#112, .Real#2961 (unset)], [FL-T100#113, .Real#1598 (unset)], [FL-T100#114, .Real#2608 (unset)], [FL-T100#115, .Real#1312 (unset)], [FL-T100#116, .Real#291 (unset)], [FL-T100#117, .Real#2166 (unset)], [FL-T100#118, .Real#1956 (unset)], [FL-T100#119, .Real#2755 (unset)], [FL-T100#120, .Real#2736 (unset)], [FL-T100#121, .Real#1162 (unset)], [FL-T100#122, .Real#88 (unset)], [FL-T100#123, .Real#1045 (unset)], [FL-T100#124, .Real#1144 (unset)], [FL-T100#125, .Real#2189 (unset)], [FL-T100#126, .Real#1511 (unset)], [FL-T100#127, .Real#988 (unset)], [FL-T100#128, .Real#65 (unset)], [FL-T100#129, .Real#1042 (unset)], [FL-T100#130, .Real#1621 (unset)], [FL-T100#131, .Real#518 (unset)], [FL-T100#132, .Real#50 (unset)], [FL-T100#133, .Real#2668 (unset)], [Coupler#0, .Real#1433 (unset)], [Coupler#1, .Real#1597 (unset)], [Coupler#2, .Real#710 (unset)], [Coupler#3, .Real#1493 (unset)], [Coupler#4, .Real#1356 (unset)], [Coupler#5, .Real#1381 (unset)], [Coupler#6, .Real#459 (unset)], [Coupler#7, .Real#75 (unset)], [Coupler#8, .Real#1145 (unset)], [Coupler#9, .Real#1 (unset)], [Coupler#10, .Real#1505 (unset)], [Coupler#11, .Real#1450 (unset)], [Coupler#12, .Real#1566 (unset)], [Coupler#13, .Real#540 (unset)], [Coupler#14, .Real#2728 (unset)], [Coupler#15, .Real#2936 (unset)], [Coupler#16, .Real#672 (unset)], [Coupler#17, .Real#1131 (unset)], [Coupler#18, .Real#1788 (unset)], [Coupler#19, .Real#1426 (unset)], [Coupler#20, .Real#2639 (unset)], [Coupler#21, .Real#2583 (unset)], [Coupler#22, .Real#2591 (unset)], [Coupler#23, .Real#2476 (unset)], [Coupler#24, .Real#482 (unset)], [Coupler#25, .Real#2010 (unset)], [Coupler#26, .Real#2790 (unset)], [Coupler#27, .Real#1542 (unset)], [Coupler#28, .Real#1520 (unset)], [Coupler#29, .Real#1397 (unset)], [Coupler#30, .Real#2179 (unset)], [Coupler#31, .Real#1485 (unset)], [Coupler#32, .Real#1480 (unset)], [Coupler#33, .Real#2402 (unset)], [Coupler#34, .Real#2942 (unset)], [Coupler#35, .Real#2470 (unset)], [Coupler#36, .Real#2558 (unset)], [Coupler#37, .Real#177 (unset)], [Coupler#38, .Real#2498 (unset)], [Coupler#39, .Real#1358 (unset)], [RT-5#0, .Real#568 (unset)], [RT-5#1, .Real#1231 (unset)], [RT-5#2, .Real#2707 (unset)], [RT-5#3, .Real#196 (unset)], [RT-5#4, .Real#886 (unset)], [RT-5#5, .Real#1366 (unset)], [RT-5#6, .Real#2427 (unset)], [RT-5#7, .Real#1347 (unset)], [RT-5#8, .Real#621 (unset)], [RT-5#9, .Real#2842 (unset)], [RT-5#10, .Real#2411 (unset)], [RT-5#11, .Real#2902 (unset)], [RT-5#12, .Real#1404 (unset)], [RT-5#13, .Real#1615 (unset)], [RT-5#14, .Real#1128 (unset)], [RT-5#15, .Real#113 (unset)], [RT-5#16, .Real#2096 (unset)], [RT-5#17, .Real#941 (unset)], [RT-5#18, .Real#407 (unset)], [RT-5#19, .Real#1068 (unset)], [RT-5#20, .Real#2323 (unset)], [RT-5#21, .Real#1707 (unset)], [RT-5#22, .Real#793 (unset)], [RT-5#23, .Real#677 (unset)], [RT-5#24, .Real#2241 (unset)], [RT-5#25, .Real#339 (unset)], [RT-5#26, .Real#683 (unset)], [RT-5#27, .Real#513 (unset)], [RT-5#28, .Real#910 (unset)], [RT-5#29, .Real#2557 (unset)], [RT-5#30, .Real#1863 (unset)], [RT-5#31, .Real#355 (unset)], [RT-5#32, .Real#1416 (unset)], [RT-5#33, .Real#1526 (unset)], [RT-5#34, .Real#1606 (unset)], [RT-10#0, .Real#419 (unset)], [RT-10#1, .Real#1021 (unset)], [RT-10#2, .Real#1341 (unset)], [RT-10#3, .Real#2482 (unset)], [RT-10#4, .Real#1651 (unset)], [Parachute#0, .Real#1614 (unset)], [LV-T45#0, .Real#2319 (1.5)], [LV-T45#1, .Real#542 (1.5)], [LV-T45#2, .Real#2514 (1.5)], [LV-T45#3, .Real#1368 (1.5)], [LV-T45#4, .Real#1096 (1.5)], [LV-T45#5, .Real#2988 (1.5)], [LV-T45#6, .Real#2153 (1.5)], [LV-T45#7, .Real#1428 (1.5)], [LV-T45#8, .Real#1294 (1.5)], [LV-T45#9, .Real#133 (1.5)], [LV-T45#10, .Real#1354 (1.5)], [LV-T45#11, .Real#1685 (1.5)], [LV-T45#12, .Real#2495 (1.5)], [LV-T45#13, .Real#392 (1.5)], [LV-T45#14, .Real#611 (1.5)], [LV-T45#15, .Real#860 (1.5)], [LV-T45#16, .Real#2706 (1.5)], [LV-T45#17, .Real#2923 (1.5)], [LV-T45#18, .Real#2590 (1.5)], [LV-T45#19, .Real#1431 (1.5)], [LV-T45#20, .Real#1934 (1.5)], [LV-T45#21, .Real#290 (1.5)], [LV-T45#22, .Real#1239 (1.5)], [LV-T45#23, .Real#1762 (1.5)], [LV-T45#24, .Real#2532 (1.5)], [LV-T45#25, .Real#1875 (1.5)], [LV-T45#26, .Real#805 (1.5)], [LV-T45#27, .Real#804 (1.5)], [LV-T45#28, .Real#606 (1.5)], [LV-T45#29, .Real#2062 (1.5)], [LV-T45#30, .Real#2296 (1.5)], [LV-T45#31, .Real#2032 (1.5)], [LV-T45#32, .Real#1746 (1.5)], [LV-T45#33, .Real#2622 (1.5)], [LV-T45#34, .Real#1655 (1.5)], [LV-T45#35, .Real#2730 (1.5)], [LV-T45#36, .Real#1735 (1.5)], [LV-T45#37, .Real#280 (1.5)], [LV-T45#38, .Real#1723 (1.5)], [LV-T45#39, .Real#2173 (1.5)], [MCP#0, .Real#2829 (unset)]])],\n",
       " [LS#1,\n",
       "  + ($x, $y) => $result,\n",
       "  sum ($collection) => $result,\n",
       "  collect ($collection) => $result,\n",
       "  FRE.Mass (p) => $result,\n",
       "  FRE.Mass,\n",
       "  LS#1.+ ($x, $y) => $result.sum ($collection) => $result.collect ($collection) => $result.FRE.Mass (p) => $result.FRE.Mass.$result#1 ([[FL-T200#0, .Real#2604 (unset)], [FL-T200#1, .Real#1630 (unset)], [FL-T200#2, .Real#2176 (unset)], [FL-T200#3, .Real#3002 (unset)], [FL-T200#4, .Real#1046 (unset)], [FL-T200#5, .Real#2682 (unset)], [FL-T200#6, .Real#20 (unset)], [FL-T200#7, .Real#2187 (unset)], [FL-T200#8, .Real#876 (unset)], [FL-T200#9, .Real#689 (unset)], [FL-T200#10, .Real#2915 (unset)], [FL-T200#11, .Real#1103 (unset)], [FL-T200#12, .Real#594 (unset)], [FL-T200#13, .Real#284 (unset)], [FL-T200#14, .Real#1550 (unset)], [FL-T200#15, .Real#84 (unset)], [FL-T100#0, .Real#68 (unset)], [FL-T100#1, .Real#883 (unset)], [FL-T100#2, .Real#2107 (unset)], [FL-T100#3, .Real#1756 (unset)], [FL-T100#4, .Real#2415 (unset)], [FL-T100#5, .Real#2094 (unset)], [FL-T100#6, .Real#2491 (unset)], [FL-T100#7, .Real#1338 (unset)], [FL-T100#8, .Real#2656 (unset)], [FL-T100#9, .Real#1861 (unset)], [FL-T100#10, .Real#1985 (unset)], [FL-T100#11, .Real#1458 (unset)], [FL-T100#12, .Real#1305 (unset)], [FL-T100#13, .Real#2800 (unset)], [FL-T100#14, .Real#664 (unset)], [FL-T100#15, .Real#484 (unset)], [FL-T100#16, .Real#1627 (unset)], [FL-T100#17, .Real#2989 (unset)], [FL-T100#18, .Real#1972 (unset)], [FL-T100#19, .Real#884 (unset)], [FL-T100#20, .Real#1997 (unset)], [FL-T100#21, .Real#1695 (unset)], [FL-T100#22, .Real#1158 (unset)], [FL-T100#23, .Real#1993 (unset)], [FL-T100#24, .Real#729 (unset)], [FL-T100#25, .Real#1295 (unset)], [FL-T100#26, .Real#868 (unset)], [FL-T100#27, .Real#1205 (unset)], [FL-T100#28, .Real#644 (unset)], [FL-T100#29, .Real#389 (unset)], [FL-T100#30, .Real#2918 (unset)], [FL-T100#31, .Real#1264 (unset)], [FL-T100#32, .Real#1785 (unset)], [FL-T100#33, .Real#348 (unset)], [FL-T100#34, .Real#2158 (unset)], [FL-T100#35, .Real#1929 (unset)], [FL-T100#36, .Real#486 (unset)], [FL-T100#37, .Real#544 (unset)], [FL-T100#38, .Real#424 (unset)], [FL-T100#39, .Real#2689 (unset)], [FL-T100#40, .Real#2181 (unset)], [FL-T100#41, .Real#449 (unset)], [FL-T100#42, .Real#2058 (unset)], [FL-T100#43, .Real#1482 (unset)], [FL-T100#44, .Real#1580 (unset)], [FL-T100#45, .Real#2827 (unset)], [FL-T100#46, .Real#2760 (unset)], [FL-T100#47, .Real#1624 (unset)], [FL-T100#48, .Real#487 (unset)], [FL-T100#49, .Real#619 (unset)], [FL-T100#50, .Real#489 (unset)], [FL-T100#51, .Real#2616 (unset)], [FL-T100#52, .Real#403 (unset)], [FL-T100#53, .Real#1854 (unset)], [FL-T100#54, .Real#1170 (unset)], [FL-T100#55, .Real#2226 (unset)], [FL-T100#56, .Real#2715 (unset)], [FL-T100#57, .Real#2798 (unset)], [FL-T100#58, .Real#1636 (unset)], [FL-T100#59, .Real#1266 (unset)], [FL-T100#60, .Real#2541 (unset)], [FL-T100#61, .Real#54 (unset)], [FL-T100#62, .Real#2022 (unset)], [FL-T100#63, .Real#1285 (unset)], [FL-T100#64, .Real#748 (unset)], [FL-T100#65, .Real#1809 (unset)], [FL-T100#66, .Real#2779 (unset)], [FL-T100#67, .Real#2377 (unset)], [FL-T100#68, .Real#1864 (unset)], [FL-T100#69, .Real#522 (unset)], [FL-T100#70, .Real#1139 (unset)], [FL-T100#71, .Real#2079 (unset)], [FL-T100#72, .Real#1894 (unset)], [FL-T100#73, .Real#1640 (unset)], [FL-T100#74, .Real#1975 (unset)], [FL-T100#75, .Real#779 (unset)], [FL-T100#76, .Real#1403 (unset)], [FL-T100#77, .Real#789 (unset)], [FL-T100#78, .Real#969 (unset)], [FL-T100#79, .Real#1700 (unset)], [FL-T100#80, .Real#780 (unset)], [FL-T100#81, .Real#1941 (unset)], [FL-T100#82, .Real#2416 (unset)], [FL-T100#83, .Real#823 (unset)], [FL-T100#84, .Real#2263 (unset)], [FL-T100#85, .Real#733 (unset)], [FL-T100#86, .Real#903 (unset)], [FL-T100#87, .Real#2339 (unset)], [FL-T100#88, .Real#3 (unset)], [FL-T100#89, .Real#161 (unset)], [FL-T100#90, .Real#750 (unset)], [FL-T100#91, .Real#2114 (unset)], [FL-T100#92, .Real#2817 (unset)], [FL-T100#93, .Real#158 (unset)], [FL-T100#94, .Real#2159 (unset)], [FL-T100#95, .Real#2538 (unset)], [FL-T100#96, .Real#53 (unset)], [FL-T100#97, .Real#2855 (unset)], [FL-T100#98, .Real#2243 (unset)], [FL-T100#99, .Real#428 (unset)], [FL-T100#100, .Real#2875 (unset)], [FL-T100#101, .Real#547 (unset)], [FL-T100#102, .Real#555 (unset)], [FL-T100#103, .Real#538 (unset)], [FL-T100#104, .Real#1593 (unset)], [FL-T100#105, .Real#2316 (unset)], [FL-T100#106, .Real#2311 (unset)], [FL-T100#107, .Real#5 (unset)], [FL-T100#108, .Real#2560 (unset)], [FL-T100#109, .Real#366 (unset)], [FL-T100#110, .Real#643 (unset)], [FL-T100#111, .Real#60 (unset)], [FL-T100#112, .Real#2961 (unset)], [FL-T100#113, .Real#1598 (unset)], [FL-T100#114, .Real#2608 (unset)], [FL-T100#115, .Real#1312 (unset)], [FL-T100#116, .Real#291 (unset)], [FL-T100#117, .Real#2166 (unset)], [FL-T100#118, .Real#1956 (unset)], [FL-T100#119, .Real#2755 (unset)], [FL-T100#120, .Real#2736 (unset)], [FL-T100#121, .Real#1162 (unset)], [FL-T100#122, .Real#88 (unset)], [FL-T100#123, .Real#1045 (unset)], [FL-T100#124, .Real#1144 (unset)], [FL-T100#125, .Real#2189 (unset)], [FL-T100#126, .Real#1511 (unset)], [FL-T100#127, .Real#988 (unset)], [FL-T100#128, .Real#65 (unset)], [FL-T100#129, .Real#1042 (unset)], [FL-T100#130, .Real#1621 (unset)], [FL-T100#131, .Real#518 (unset)], [FL-T100#132, .Real#50 (unset)], [FL-T100#133, .Real#2668 (unset)], [Coupler#0, .Real#1433 (unset)], [Coupler#1, .Real#1597 (unset)], [Coupler#2, .Real#710 (unset)], [Coupler#3, .Real#1493 (unset)], [Coupler#4, .Real#1356 (unset)], [Coupler#5, .Real#1381 (unset)], [Coupler#6, .Real#459 (unset)], [Coupler#7, .Real#75 (unset)], [Coupler#8, .Real#1145 (unset)], [Coupler#9, .Real#1 (unset)], [Coupler#10, .Real#1505 (unset)], [Coupler#11, .Real#1450 (unset)], [Coupler#12, .Real#1566 (unset)], [Coupler#13, .Real#540 (unset)], [Coupler#14, .Real#2728 (unset)], [Coupler#15, .Real#2936 (unset)], [Coupler#16, .Real#672 (unset)], [Coupler#17, .Real#1131 (unset)], [Coupler#18, .Real#1788 (unset)], [Coupler#19, .Real#1426 (unset)], [Coupler#20, .Real#2639 (unset)], [Coupler#21, .Real#2583 (unset)], [Coupler#22, .Real#2591 (unset)], [Coupler#23, .Real#2476 (unset)], [Coupler#24, .Real#482 (unset)], [Coupler#25, .Real#2010 (unset)], [Coupler#26, .Real#2790 (unset)], [Coupler#27, .Real#1542 (unset)], [Coupler#28, .Real#1520 (unset)], [Coupler#29, .Real#1397 (unset)], [Coupler#30, .Real#2179 (unset)], [Coupler#31, .Real#1485 (unset)], [Coupler#32, .Real#1480 (unset)], [Coupler#33, .Real#2402 (unset)], [Coupler#34, .Real#2942 (unset)], [Coupler#35, .Real#2470 (unset)], [Coupler#36, .Real#2558 (unset)], [Coupler#37, .Real#177 (unset)], [Coupler#38, .Real#2498 (unset)], [Coupler#39, .Real#1358 (unset)], [RT-5#0, .Real#568 (unset)], [RT-5#1, .Real#1231 (unset)], [RT-5#2, .Real#2707 (unset)], [RT-5#3, .Real#196 (unset)], [RT-5#4, .Real#886 (unset)], [RT-5#5, .Real#1366 (unset)], [RT-5#6, .Real#2427 (unset)], [RT-5#7, .Real#1347 (unset)], [RT-5#8, .Real#621 (unset)], [RT-5#9, .Real#2842 (unset)], [RT-5#10, .Real#2411 (unset)], [RT-5#11, .Real#2902 (unset)], [RT-5#12, .Real#1404 (unset)], [RT-5#13, .Real#1615 (unset)], [RT-5#14, .Real#1128 (unset)], [RT-5#15, .Real#113 (unset)], [RT-5#16, .Real#2096 (unset)], [RT-5#17, .Real#941 (unset)], [RT-5#18, .Real#407 (unset)], [RT-5#19, .Real#1068 (unset)], [RT-5#20, .Real#2323 (unset)], [RT-5#21, .Real#1707 (unset)], [RT-5#22, .Real#793 (unset)], [RT-5#23, .Real#677 (unset)], [RT-5#24, .Real#2241 (unset)], [RT-5#25, .Real#339 (unset)], [RT-5#26, .Real#683 (unset)], [RT-5#27, .Real#513 (unset)], [RT-5#28, .Real#910 (unset)], [RT-5#29, .Real#2557 (unset)], [RT-5#30, .Real#1863 (unset)], [RT-5#31, .Real#355 (unset)], [RT-5#32, .Real#1416 (unset)], [RT-5#33, .Real#1526 (unset)], [RT-5#34, .Real#1606 (unset)], [RT-10#0, .Real#419 (unset)], [RT-10#1, .Real#1021 (unset)], [RT-10#2, .Real#1341 (unset)], [RT-10#3, .Real#2482 (unset)], [RT-10#4, .Real#1651 (unset)], [Parachute#0, .Real#1614 (unset)], [LV-T45#0, .Real#2319 (1.5)], [LV-T45#1, .Real#542 (1.5)], [LV-T45#2, .Real#2514 (1.5)], [LV-T45#3, .Real#1368 (1.5)], [LV-T45#4, .Real#1096 (1.5)], [LV-T45#5, .Real#2988 (1.5)], [LV-T45#6, .Real#2153 (1.5)], [LV-T45#7, .Real#1428 (1.5)], [LV-T45#8, .Real#1294 (1.5)], [LV-T45#9, .Real#133 (1.5)], [LV-T45#10, .Real#1354 (1.5)], [LV-T45#11, .Real#1685 (1.5)], [LV-T45#12, .Real#2495 (1.5)], [LV-T45#13, .Real#392 (1.5)], [LV-T45#14, .Real#611 (1.5)], [LV-T45#15, .Real#860 (1.5)], [LV-T45#16, .Real#2706 (1.5)], [LV-T45#17, .Real#2923 (1.5)], [LV-T45#18, .Real#2590 (1.5)], [LV-T45#19, .Real#1431 (1.5)], [LV-T45#20, .Real#1934 (1.5)], [LV-T45#21, .Real#290 (1.5)], [LV-T45#22, .Real#1239 (1.5)], [LV-T45#23, .Real#1762 (1.5)], [LV-T45#24, .Real#2532 (1.5)], [LV-T45#25, .Real#1875 (1.5)], [LV-T45#26, .Real#805 (1.5)], [LV-T45#27, .Real#804 (1.5)], [LV-T45#28, .Real#606 (1.5)], [LV-T45#29, .Real#2062 (1.5)], [LV-T45#30, .Real#2296 (1.5)], [LV-T45#31, .Real#2032 (1.5)], [LV-T45#32, .Real#1746 (1.5)], [LV-T45#33, .Real#2622 (1.5)], [LV-T45#34, .Real#1655 (1.5)], [LV-T45#35, .Real#2730 (1.5)], [LV-T45#36, .Real#1735 (1.5)], [LV-T45#37, .Real#280 (1.5)], [LV-T45#38, .Real#1723 (1.5)], [LV-T45#39, .Real#2173 (1.5)], [MCP#0, .Real#2829 (unset)]])],\n",
       " [LS#2,\n",
       "  + ($x, $y) => $result,\n",
       "  sum ($collection) => $result,\n",
       "  collect ($collection) => $result,\n",
       "  FRE.Mass (p) => $result,\n",
       "  FRE.Mass,\n",
       "  LS#2.+ ($x, $y) => $result.sum ($collection) => $result.collect ($collection) => $result.FRE.Mass (p) => $result.FRE.Mass.$result#2 ([[FL-T200#0, .Real#2604 (unset)], [FL-T200#1, .Real#1630 (unset)], [FL-T200#2, .Real#2176 (unset)], [FL-T200#3, .Real#3002 (unset)], [FL-T200#4, .Real#1046 (unset)], [FL-T200#5, .Real#2682 (unset)], [FL-T200#6, .Real#20 (unset)], [FL-T200#7, .Real#2187 (unset)], [FL-T200#8, .Real#876 (unset)], [FL-T200#9, .Real#689 (unset)], [FL-T200#10, .Real#2915 (unset)], [FL-T200#11, .Real#1103 (unset)], [FL-T200#12, .Real#594 (unset)], [FL-T200#13, .Real#284 (unset)], [FL-T200#14, .Real#1550 (unset)], [FL-T200#15, .Real#84 (unset)], [FL-T100#0, .Real#68 (unset)], [FL-T100#1, .Real#883 (unset)], [FL-T100#2, .Real#2107 (unset)], [FL-T100#3, .Real#1756 (unset)], [FL-T100#4, .Real#2415 (unset)], [FL-T100#5, .Real#2094 (unset)], [FL-T100#6, .Real#2491 (unset)], [FL-T100#7, .Real#1338 (unset)], [FL-T100#8, .Real#2656 (unset)], [FL-T100#9, .Real#1861 (unset)], [FL-T100#10, .Real#1985 (unset)], [FL-T100#11, .Real#1458 (unset)], [FL-T100#12, .Real#1305 (unset)], [FL-T100#13, .Real#2800 (unset)], [FL-T100#14, .Real#664 (unset)], [FL-T100#15, .Real#484 (unset)], [FL-T100#16, .Real#1627 (unset)], [FL-T100#17, .Real#2989 (unset)], [FL-T100#18, .Real#1972 (unset)], [FL-T100#19, .Real#884 (unset)], [FL-T100#20, .Real#1997 (unset)], [FL-T100#21, .Real#1695 (unset)], [FL-T100#22, .Real#1158 (unset)], [FL-T100#23, .Real#1993 (unset)], [FL-T100#24, .Real#729 (unset)], [FL-T100#25, .Real#1295 (unset)], [FL-T100#26, .Real#868 (unset)], [FL-T100#27, .Real#1205 (unset)], [FL-T100#28, .Real#644 (unset)], [FL-T100#29, .Real#389 (unset)], [FL-T100#30, .Real#2918 (unset)], [FL-T100#31, .Real#1264 (unset)], [FL-T100#32, .Real#1785 (unset)], [FL-T100#33, .Real#348 (unset)], [FL-T100#34, .Real#2158 (unset)], [FL-T100#35, .Real#1929 (unset)], [FL-T100#36, .Real#486 (unset)], [FL-T100#37, .Real#544 (unset)], [FL-T100#38, .Real#424 (unset)], [FL-T100#39, .Real#2689 (unset)], [FL-T100#40, .Real#2181 (unset)], [FL-T100#41, .Real#449 (unset)], [FL-T100#42, .Real#2058 (unset)], [FL-T100#43, .Real#1482 (unset)], [FL-T100#44, .Real#1580 (unset)], [FL-T100#45, .Real#2827 (unset)], [FL-T100#46, .Real#2760 (unset)], [FL-T100#47, .Real#1624 (unset)], [FL-T100#48, .Real#487 (unset)], [FL-T100#49, .Real#619 (unset)], [FL-T100#50, .Real#489 (unset)], [FL-T100#51, .Real#2616 (unset)], [FL-T100#52, .Real#403 (unset)], [FL-T100#53, .Real#1854 (unset)], [FL-T100#54, .Real#1170 (unset)], [FL-T100#55, .Real#2226 (unset)], [FL-T100#56, .Real#2715 (unset)], [FL-T100#57, .Real#2798 (unset)], [FL-T100#58, .Real#1636 (unset)], [FL-T100#59, .Real#1266 (unset)], [FL-T100#60, .Real#2541 (unset)], [FL-T100#61, .Real#54 (unset)], [FL-T100#62, .Real#2022 (unset)], [FL-T100#63, .Real#1285 (unset)], [FL-T100#64, .Real#748 (unset)], [FL-T100#65, .Real#1809 (unset)], [FL-T100#66, .Real#2779 (unset)], [FL-T100#67, .Real#2377 (unset)], [FL-T100#68, .Real#1864 (unset)], [FL-T100#69, .Real#522 (unset)], [FL-T100#70, .Real#1139 (unset)], [FL-T100#71, .Real#2079 (unset)], [FL-T100#72, .Real#1894 (unset)], [FL-T100#73, .Real#1640 (unset)], [FL-T100#74, .Real#1975 (unset)], [FL-T100#75, .Real#779 (unset)], [FL-T100#76, .Real#1403 (unset)], [FL-T100#77, .Real#789 (unset)], [FL-T100#78, .Real#969 (unset)], [FL-T100#79, .Real#1700 (unset)], [FL-T100#80, .Real#780 (unset)], [FL-T100#81, .Real#1941 (unset)], [FL-T100#82, .Real#2416 (unset)], [FL-T100#83, .Real#823 (unset)], [FL-T100#84, .Real#2263 (unset)], [FL-T100#85, .Real#733 (unset)], [FL-T100#86, .Real#903 (unset)], [FL-T100#87, .Real#2339 (unset)], [FL-T100#88, .Real#3 (unset)], [FL-T100#89, .Real#161 (unset)], [FL-T100#90, .Real#750 (unset)], [FL-T100#91, .Real#2114 (unset)], [FL-T100#92, .Real#2817 (unset)], [FL-T100#93, .Real#158 (unset)], [FL-T100#94, .Real#2159 (unset)], [FL-T100#95, .Real#2538 (unset)], [FL-T100#96, .Real#53 (unset)], [FL-T100#97, .Real#2855 (unset)], [FL-T100#98, .Real#2243 (unset)], [FL-T100#99, .Real#428 (unset)], [FL-T100#100, .Real#2875 (unset)], [FL-T100#101, .Real#547 (unset)], [FL-T100#102, .Real#555 (unset)], [FL-T100#103, .Real#538 (unset)], [FL-T100#104, .Real#1593 (unset)], [FL-T100#105, .Real#2316 (unset)], [FL-T100#106, .Real#2311 (unset)], [FL-T100#107, .Real#5 (unset)], [FL-T100#108, .Real#2560 (unset)], [FL-T100#109, .Real#366 (unset)], [FL-T100#110, .Real#643 (unset)], [FL-T100#111, .Real#60 (unset)], [FL-T100#112, .Real#2961 (unset)], [FL-T100#113, .Real#1598 (unset)], [FL-T100#114, .Real#2608 (unset)], [FL-T100#115, .Real#1312 (unset)], [FL-T100#116, .Real#291 (unset)], [FL-T100#117, .Real#2166 (unset)], [FL-T100#118, .Real#1956 (unset)], [FL-T100#119, .Real#2755 (unset)], [FL-T100#120, .Real#2736 (unset)], [FL-T100#121, .Real#1162 (unset)], [FL-T100#122, .Real#88 (unset)], [FL-T100#123, .Real#1045 (unset)], [FL-T100#124, .Real#1144 (unset)], [FL-T100#125, .Real#2189 (unset)], [FL-T100#126, .Real#1511 (unset)], [FL-T100#127, .Real#988 (unset)], [FL-T100#128, .Real#65 (unset)], [FL-T100#129, .Real#1042 (unset)], [FL-T100#130, .Real#1621 (unset)], [FL-T100#131, .Real#518 (unset)], [FL-T100#132, .Real#50 (unset)], [FL-T100#133, .Real#2668 (unset)], [Coupler#0, .Real#1433 (unset)], [Coupler#1, .Real#1597 (unset)], [Coupler#2, .Real#710 (unset)], [Coupler#3, .Real#1493 (unset)], [Coupler#4, .Real#1356 (unset)], [Coupler#5, .Real#1381 (unset)], [Coupler#6, .Real#459 (unset)], [Coupler#7, .Real#75 (unset)], [Coupler#8, .Real#1145 (unset)], [Coupler#9, .Real#1 (unset)], [Coupler#10, .Real#1505 (unset)], [Coupler#11, .Real#1450 (unset)], [Coupler#12, .Real#1566 (unset)], [Coupler#13, .Real#540 (unset)], [Coupler#14, .Real#2728 (unset)], [Coupler#15, .Real#2936 (unset)], [Coupler#16, .Real#672 (unset)], [Coupler#17, .Real#1131 (unset)], [Coupler#18, .Real#1788 (unset)], [Coupler#19, .Real#1426 (unset)], [Coupler#20, .Real#2639 (unset)], [Coupler#21, .Real#2583 (unset)], [Coupler#22, .Real#2591 (unset)], [Coupler#23, .Real#2476 (unset)], [Coupler#24, .Real#482 (unset)], [Coupler#25, .Real#2010 (unset)], [Coupler#26, .Real#2790 (unset)], [Coupler#27, .Real#1542 (unset)], [Coupler#28, .Real#1520 (unset)], [Coupler#29, .Real#1397 (unset)], [Coupler#30, .Real#2179 (unset)], [Coupler#31, .Real#1485 (unset)], [Coupler#32, .Real#1480 (unset)], [Coupler#33, .Real#2402 (unset)], [Coupler#34, .Real#2942 (unset)], [Coupler#35, .Real#2470 (unset)], [Coupler#36, .Real#2558 (unset)], [Coupler#37, .Real#177 (unset)], [Coupler#38, .Real#2498 (unset)], [Coupler#39, .Real#1358 (unset)], [RT-5#0, .Real#568 (unset)], [RT-5#1, .Real#1231 (unset)], [RT-5#2, .Real#2707 (unset)], [RT-5#3, .Real#196 (unset)], [RT-5#4, .Real#886 (unset)], [RT-5#5, .Real#1366 (unset)], [RT-5#6, .Real#2427 (unset)], [RT-5#7, .Real#1347 (unset)], [RT-5#8, .Real#621 (unset)], [RT-5#9, .Real#2842 (unset)], [RT-5#10, .Real#2411 (unset)], [RT-5#11, .Real#2902 (unset)], [RT-5#12, .Real#1404 (unset)], [RT-5#13, .Real#1615 (unset)], [RT-5#14, .Real#1128 (unset)], [RT-5#15, .Real#113 (unset)], [RT-5#16, .Real#2096 (unset)], [RT-5#17, .Real#941 (unset)], [RT-5#18, .Real#407 (unset)], [RT-5#19, .Real#1068 (unset)], [RT-5#20, .Real#2323 (unset)], [RT-5#21, .Real#1707 (unset)], [RT-5#22, .Real#793 (unset)], [RT-5#23, .Real#677 (unset)], [RT-5#24, .Real#2241 (unset)], [RT-5#25, .Real#339 (unset)], [RT-5#26, .Real#683 (unset)], [RT-5#27, .Real#513 (unset)], [RT-5#28, .Real#910 (unset)], [RT-5#29, .Real#2557 (unset)], [RT-5#30, .Real#1863 (unset)], [RT-5#31, .Real#355 (unset)], [RT-5#32, .Real#1416 (unset)], [RT-5#33, .Real#1526 (unset)], [RT-5#34, .Real#1606 (unset)], [RT-10#0, .Real#419 (unset)], [RT-10#1, .Real#1021 (unset)], [RT-10#2, .Real#1341 (unset)], [RT-10#3, .Real#2482 (unset)], [RT-10#4, .Real#1651 (unset)], [Parachute#0, .Real#1614 (unset)], [LV-T45#0, .Real#2319 (1.5)], [LV-T45#1, .Real#542 (1.5)], [LV-T45#2, .Real#2514 (1.5)], [LV-T45#3, .Real#1368 (1.5)], [LV-T45#4, .Real#1096 (1.5)], [LV-T45#5, .Real#2988 (1.5)], [LV-T45#6, .Real#2153 (1.5)], [LV-T45#7, .Real#1428 (1.5)], [LV-T45#8, .Real#1294 (1.5)], [LV-T45#9, .Real#133 (1.5)], [LV-T45#10, .Real#1354 (1.5)], [LV-T45#11, .Real#1685 (1.5)], [LV-T45#12, .Real#2495 (1.5)], [LV-T45#13, .Real#392 (1.5)], [LV-T45#14, .Real#611 (1.5)], [LV-T45#15, .Real#860 (1.5)], [LV-T45#16, .Real#2706 (1.5)], [LV-T45#17, .Real#2923 (1.5)], [LV-T45#18, .Real#2590 (1.5)], [LV-T45#19, .Real#1431 (1.5)], [LV-T45#20, .Real#1934 (1.5)], [LV-T45#21, .Real#290 (1.5)], [LV-T45#22, .Real#1239 (1.5)], [LV-T45#23, .Real#1762 (1.5)], [LV-T45#24, .Real#2532 (1.5)], [LV-T45#25, .Real#1875 (1.5)], [LV-T45#26, .Real#805 (1.5)], [LV-T45#27, .Real#804 (1.5)], [LV-T45#28, .Real#606 (1.5)], [LV-T45#29, .Real#2062 (1.5)], [LV-T45#30, .Real#2296 (1.5)], [LV-T45#31, .Real#2032 (1.5)], [LV-T45#32, .Real#1746 (1.5)], [LV-T45#33, .Real#2622 (1.5)], [LV-T45#34, .Real#1655 (1.5)], [LV-T45#35, .Real#2730 (1.5)], [LV-T45#36, .Real#1735 (1.5)], [LV-T45#37, .Real#280 (1.5)], [LV-T45#38, .Real#1723 (1.5)], [LV-T45#39, .Real#2173 (1.5)], [MCP#0, .Real#2829 (unset)]])],\n",
       " [LS#3,\n",
       "  + ($x, $y) => $result,\n",
       "  sum ($collection) => $result,\n",
       "  collect ($collection) => $result,\n",
       "  FRE.Mass (p) => $result,\n",
       "  FRE.Mass,\n",
       "  LS#3.+ ($x, $y) => $result.sum ($collection) => $result.collect ($collection) => $result.FRE.Mass (p) => $result.FRE.Mass.$result#3 ([[FL-T200#0, .Real#2604 (unset)], [FL-T200#1, .Real#1630 (unset)], [FL-T200#2, .Real#2176 (unset)], [FL-T200#3, .Real#3002 (unset)], [FL-T200#4, .Real#1046 (unset)], [FL-T200#5, .Real#2682 (unset)], [FL-T200#6, .Real#20 (unset)], [FL-T200#7, .Real#2187 (unset)], [FL-T200#8, .Real#876 (unset)], [FL-T200#9, .Real#689 (unset)], [FL-T200#10, .Real#2915 (unset)], [FL-T200#11, .Real#1103 (unset)], [FL-T200#12, .Real#594 (unset)], [FL-T200#13, .Real#284 (unset)], [FL-T200#14, .Real#1550 (unset)], [FL-T200#15, .Real#84 (unset)], [FL-T100#0, .Real#68 (unset)], [FL-T100#1, .Real#883 (unset)], [FL-T100#2, .Real#2107 (unset)], [FL-T100#3, .Real#1756 (unset)], [FL-T100#4, .Real#2415 (unset)], [FL-T100#5, .Real#2094 (unset)], [FL-T100#6, .Real#2491 (unset)], [FL-T100#7, .Real#1338 (unset)], [FL-T100#8, .Real#2656 (unset)], [FL-T100#9, .Real#1861 (unset)], [FL-T100#10, .Real#1985 (unset)], [FL-T100#11, .Real#1458 (unset)], [FL-T100#12, .Real#1305 (unset)], [FL-T100#13, .Real#2800 (unset)], [FL-T100#14, .Real#664 (unset)], [FL-T100#15, .Real#484 (unset)], [FL-T100#16, .Real#1627 (unset)], [FL-T100#17, .Real#2989 (unset)], [FL-T100#18, .Real#1972 (unset)], [FL-T100#19, .Real#884 (unset)], [FL-T100#20, .Real#1997 (unset)], [FL-T100#21, .Real#1695 (unset)], [FL-T100#22, .Real#1158 (unset)], [FL-T100#23, .Real#1993 (unset)], [FL-T100#24, .Real#729 (unset)], [FL-T100#25, .Real#1295 (unset)], [FL-T100#26, .Real#868 (unset)], [FL-T100#27, .Real#1205 (unset)], [FL-T100#28, .Real#644 (unset)], [FL-T100#29, .Real#389 (unset)], [FL-T100#30, .Real#2918 (unset)], [FL-T100#31, .Real#1264 (unset)], [FL-T100#32, .Real#1785 (unset)], [FL-T100#33, .Real#348 (unset)], [FL-T100#34, .Real#2158 (unset)], [FL-T100#35, .Real#1929 (unset)], [FL-T100#36, .Real#486 (unset)], [FL-T100#37, .Real#544 (unset)], [FL-T100#38, .Real#424 (unset)], [FL-T100#39, .Real#2689 (unset)], [FL-T100#40, .Real#2181 (unset)], [FL-T100#41, .Real#449 (unset)], [FL-T100#42, .Real#2058 (unset)], [FL-T100#43, .Real#1482 (unset)], [FL-T100#44, .Real#1580 (unset)], [FL-T100#45, .Real#2827 (unset)], [FL-T100#46, .Real#2760 (unset)], [FL-T100#47, .Real#1624 (unset)], [FL-T100#48, .Real#487 (unset)], [FL-T100#49, .Real#619 (unset)], [FL-T100#50, .Real#489 (unset)], [FL-T100#51, .Real#2616 (unset)], [FL-T100#52, .Real#403 (unset)], [FL-T100#53, .Real#1854 (unset)], [FL-T100#54, .Real#1170 (unset)], [FL-T100#55, .Real#2226 (unset)], [FL-T100#56, .Real#2715 (unset)], [FL-T100#57, .Real#2798 (unset)], [FL-T100#58, .Real#1636 (unset)], [FL-T100#59, .Real#1266 (unset)], [FL-T100#60, .Real#2541 (unset)], [FL-T100#61, .Real#54 (unset)], [FL-T100#62, .Real#2022 (unset)], [FL-T100#63, .Real#1285 (unset)], [FL-T100#64, .Real#748 (unset)], [FL-T100#65, .Real#1809 (unset)], [FL-T100#66, .Real#2779 (unset)], [FL-T100#67, .Real#2377 (unset)], [FL-T100#68, .Real#1864 (unset)], [FL-T100#69, .Real#522 (unset)], [FL-T100#70, .Real#1139 (unset)], [FL-T100#71, .Real#2079 (unset)], [FL-T100#72, .Real#1894 (unset)], [FL-T100#73, .Real#1640 (unset)], [FL-T100#74, .Real#1975 (unset)], [FL-T100#75, .Real#779 (unset)], [FL-T100#76, .Real#1403 (unset)], [FL-T100#77, .Real#789 (unset)], [FL-T100#78, .Real#969 (unset)], [FL-T100#79, .Real#1700 (unset)], [FL-T100#80, .Real#780 (unset)], [FL-T100#81, .Real#1941 (unset)], [FL-T100#82, .Real#2416 (unset)], [FL-T100#83, .Real#823 (unset)], [FL-T100#84, .Real#2263 (unset)], [FL-T100#85, .Real#733 (unset)], [FL-T100#86, .Real#903 (unset)], [FL-T100#87, .Real#2339 (unset)], [FL-T100#88, .Real#3 (unset)], [FL-T100#89, .Real#161 (unset)], [FL-T100#90, .Real#750 (unset)], [FL-T100#91, .Real#2114 (unset)], [FL-T100#92, .Real#2817 (unset)], [FL-T100#93, .Real#158 (unset)], [FL-T100#94, .Real#2159 (unset)], [FL-T100#95, .Real#2538 (unset)], [FL-T100#96, .Real#53 (unset)], [FL-T100#97, .Real#2855 (unset)], [FL-T100#98, .Real#2243 (unset)], [FL-T100#99, .Real#428 (unset)], [FL-T100#100, .Real#2875 (unset)], [FL-T100#101, .Real#547 (unset)], [FL-T100#102, .Real#555 (unset)], [FL-T100#103, .Real#538 (unset)], [FL-T100#104, .Real#1593 (unset)], [FL-T100#105, .Real#2316 (unset)], [FL-T100#106, .Real#2311 (unset)], [FL-T100#107, .Real#5 (unset)], [FL-T100#108, .Real#2560 (unset)], [FL-T100#109, .Real#366 (unset)], [FL-T100#110, .Real#643 (unset)], [FL-T100#111, .Real#60 (unset)], [FL-T100#112, .Real#2961 (unset)], [FL-T100#113, .Real#1598 (unset)], [FL-T100#114, .Real#2608 (unset)], [FL-T100#115, .Real#1312 (unset)], [FL-T100#116, .Real#291 (unset)], [FL-T100#117, .Real#2166 (unset)], [FL-T100#118, .Real#1956 (unset)], [FL-T100#119, .Real#2755 (unset)], [FL-T100#120, .Real#2736 (unset)], [FL-T100#121, .Real#1162 (unset)], [FL-T100#122, .Real#88 (unset)], [FL-T100#123, .Real#1045 (unset)], [FL-T100#124, .Real#1144 (unset)], [FL-T100#125, .Real#2189 (unset)], [FL-T100#126, .Real#1511 (unset)], [FL-T100#127, .Real#988 (unset)], [FL-T100#128, .Real#65 (unset)], [FL-T100#129, .Real#1042 (unset)], [FL-T100#130, .Real#1621 (unset)], [FL-T100#131, .Real#518 (unset)], [FL-T100#132, .Real#50 (unset)], [FL-T100#133, .Real#2668 (unset)], [Coupler#0, .Real#1433 (unset)], [Coupler#1, .Real#1597 (unset)], [Coupler#2, .Real#710 (unset)], [Coupler#3, .Real#1493 (unset)], [Coupler#4, .Real#1356 (unset)], [Coupler#5, .Real#1381 (unset)], [Coupler#6, .Real#459 (unset)], [Coupler#7, .Real#75 (unset)], [Coupler#8, .Real#1145 (unset)], [Coupler#9, .Real#1 (unset)], [Coupler#10, .Real#1505 (unset)], [Coupler#11, .Real#1450 (unset)], [Coupler#12, .Real#1566 (unset)], [Coupler#13, .Real#540 (unset)], [Coupler#14, .Real#2728 (unset)], [Coupler#15, .Real#2936 (unset)], [Coupler#16, .Real#672 (unset)], [Coupler#17, .Real#1131 (unset)], [Coupler#18, .Real#1788 (unset)], [Coupler#19, .Real#1426 (unset)], [Coupler#20, .Real#2639 (unset)], [Coupler#21, .Real#2583 (unset)], [Coupler#22, .Real#2591 (unset)], [Coupler#23, .Real#2476 (unset)], [Coupler#24, .Real#482 (unset)], [Coupler#25, .Real#2010 (unset)], [Coupler#26, .Real#2790 (unset)], [Coupler#27, .Real#1542 (unset)], [Coupler#28, .Real#1520 (unset)], [Coupler#29, .Real#1397 (unset)], [Coupler#30, .Real#2179 (unset)], [Coupler#31, .Real#1485 (unset)], [Coupler#32, .Real#1480 (unset)], [Coupler#33, .Real#2402 (unset)], [Coupler#34, .Real#2942 (unset)], [Coupler#35, .Real#2470 (unset)], [Coupler#36, .Real#2558 (unset)], [Coupler#37, .Real#177 (unset)], [Coupler#38, .Real#2498 (unset)], [Coupler#39, .Real#1358 (unset)], [RT-5#0, .Real#568 (unset)], [RT-5#1, .Real#1231 (unset)], [RT-5#2, .Real#2707 (unset)], [RT-5#3, .Real#196 (unset)], [RT-5#4, .Real#886 (unset)], [RT-5#5, .Real#1366 (unset)], [RT-5#6, .Real#2427 (unset)], [RT-5#7, .Real#1347 (unset)], [RT-5#8, .Real#621 (unset)], [RT-5#9, .Real#2842 (unset)], [RT-5#10, .Real#2411 (unset)], [RT-5#11, .Real#2902 (unset)], [RT-5#12, .Real#1404 (unset)], [RT-5#13, .Real#1615 (unset)], [RT-5#14, .Real#1128 (unset)], [RT-5#15, .Real#113 (unset)], [RT-5#16, .Real#2096 (unset)], [RT-5#17, .Real#941 (unset)], [RT-5#18, .Real#407 (unset)], [RT-5#19, .Real#1068 (unset)], [RT-5#20, .Real#2323 (unset)], [RT-5#21, .Real#1707 (unset)], [RT-5#22, .Real#793 (unset)], [RT-5#23, .Real#677 (unset)], [RT-5#24, .Real#2241 (unset)], [RT-5#25, .Real#339 (unset)], [RT-5#26, .Real#683 (unset)], [RT-5#27, .Real#513 (unset)], [RT-5#28, .Real#910 (unset)], [RT-5#29, .Real#2557 (unset)], [RT-5#30, .Real#1863 (unset)], [RT-5#31, .Real#355 (unset)], [RT-5#32, .Real#1416 (unset)], [RT-5#33, .Real#1526 (unset)], [RT-5#34, .Real#1606 (unset)], [RT-10#0, .Real#419 (unset)], [RT-10#1, .Real#1021 (unset)], [RT-10#2, .Real#1341 (unset)], [RT-10#3, .Real#2482 (unset)], [RT-10#4, .Real#1651 (unset)], [Parachute#0, .Real#1614 (unset)], [LV-T45#0, .Real#2319 (1.5)], [LV-T45#1, .Real#542 (1.5)], [LV-T45#2, .Real#2514 (1.5)], [LV-T45#3, .Real#1368 (1.5)], [LV-T45#4, .Real#1096 (1.5)], [LV-T45#5, .Real#2988 (1.5)], [LV-T45#6, .Real#2153 (1.5)], [LV-T45#7, .Real#1428 (1.5)], [LV-T45#8, .Real#1294 (1.5)], [LV-T45#9, .Real#133 (1.5)], [LV-T45#10, .Real#1354 (1.5)], [LV-T45#11, .Real#1685 (1.5)], [LV-T45#12, .Real#2495 (1.5)], [LV-T45#13, .Real#392 (1.5)], [LV-T45#14, .Real#611 (1.5)], [LV-T45#15, .Real#860 (1.5)], [LV-T45#16, .Real#2706 (1.5)], [LV-T45#17, .Real#2923 (1.5)], [LV-T45#18, .Real#2590 (1.5)], [LV-T45#19, .Real#1431 (1.5)], [LV-T45#20, .Real#1934 (1.5)], [LV-T45#21, .Real#290 (1.5)], [LV-T45#22, .Real#1239 (1.5)], [LV-T45#23, .Real#1762 (1.5)], [LV-T45#24, .Real#2532 (1.5)], [LV-T45#25, .Real#1875 (1.5)], [LV-T45#26, .Real#805 (1.5)], [LV-T45#27, .Real#804 (1.5)], [LV-T45#28, .Real#606 (1.5)], [LV-T45#29, .Real#2062 (1.5)], [LV-T45#30, .Real#2296 (1.5)], [LV-T45#31, .Real#2032 (1.5)], [LV-T45#32, .Real#1746 (1.5)], [LV-T45#33, .Real#2622 (1.5)], [LV-T45#34, .Real#1655 (1.5)], [LV-T45#35, .Real#2730 (1.5)], [LV-T45#36, .Real#1735 (1.5)], [LV-T45#37, .Real#280 (1.5)], [LV-T45#38, .Real#1723 (1.5)], [LV-T45#39, .Real#2173 (1.5)], [MCP#0, .Real#2829 (unset)]])]]"
      ]
     },
     "execution_count": 19,
     "metadata": {},
     "output_type": "execute_result"
    }
   ],
   "source": [
    "m0_interpretation[fre_2_result]"
   ]
  },
  {
   "cell_type": "markdown",
   "id": "ed5b0fbd-9d75-45af-971c-b334798340fb",
   "metadata": {},
   "source": [
    "Show all interpretation sequence sets (limited to length of 5)."
   ]
  },
  {
   "cell_type": "code",
   "execution_count": 9,
   "id": "54a33294-b833-45f9-a5f9-f70b9231aa96",
   "metadata": {},
   "outputs": [],
   "source": [
    "for print_line in pprint_interpretation(m0_interpretation, lpg.nodes):\n",
    "    print(print_line)"
   ]
  },
  {
   "cell_type": "code",
   "execution_count": null,
   "id": "2cbd43d5-ff88-4df8-b561-dab8119c5fc0",
   "metadata": {},
   "outputs": [],
   "source": []
  }
 ],
 "metadata": {
  "kernelspec": {
   "display_name": "Python 3",
   "language": "python",
   "name": "python3"
  },
  "language_info": {
   "codemirror_mode": {
    "name": "ipython",
    "version": 3
   },
   "file_extension": ".py",
   "mimetype": "text/x-python",
   "name": "python",
   "nbconvert_exporter": "python",
   "pygments_lexer": "ipython3",
   "version": "3.9.4"
  }
 },
 "nbformat": 4,
 "nbformat_minor": 5
}
