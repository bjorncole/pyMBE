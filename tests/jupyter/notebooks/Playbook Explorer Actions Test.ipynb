{
 "cells": [
  {
   "cell_type": "markdown",
   "id": "4b9ecba8-a490-44bf-9a31-b94faa77d3c3",
   "metadata": {},
   "source": [
    "# Playbook Explorer\n",
    "\n",
    "This notebook is intended to be a live example of how to work with SysML v2 models at analysis-time. For these purposes, the following terms are introduced:\n",
    "* An *interpretation* is the mapping of user model symbols (the \"M1 model\" in OMG-speak) into semantically-correct symbols that represent real world objects meant to conform to the model (the \"M0\" in OMG-speak). Interpretation semantics are inspired by https://www.w3.org/TR/owl2-direct-semantics/ and are mostly similar.\n",
    "* A *sequence* for an interpretation contains *atoms* or *instances* that match to real world things. Reading a sequence from left to right provides a set of nested contexts for the atoms that is important to the interpretation. For example [Rocket#0, LS#3] is a 2-sequence to describe facts around the LS#3 atom when it is considered in context for Rocket#0. This is an important idea for the SysML time and occurrence model where one may want to see how values change under different conditions.\n",
    "\n",
    "This is a notebook that walks through the random interpretation generator to help developers working on their own interpreters."
   ]
  },
  {
   "cell_type": "markdown",
   "id": "e405de1e-20e9-4763-a363-ddb6eb6fac9d",
   "metadata": {},
   "source": [
    "## Example Model\n",
    "\n",
    "The model that is used for this example is a very simple parts model.\n",
    "\n",
    "    package 'Simple Action Example' {\n",
    "    import Base::Anything;\n",
    "    import ScalarValues::*;\n",
    "    package 'Fake Library' {\n",
    "        action def Action {\n",
    "            action subactions : Action [0..20];\n",
    "        }\n",
    "        connection def Connection {\n",
    "            end source: Anything;\n",
    "            end target: Anything;\n",
    "        }\n",
    "        connection def HappensDuring :> Connection {\n",
    "            end earlierOccurrence: Action :>> Connection::source;\n",
    "            end laterOccurrence: Action :>> Connection::target;\n",
    "        }\n",
    "    }\n",
    "    \n",
    "   \n",
    "    \n",
    "    action 'Build Burger': 'Fake Library'::Action {\n",
    "        attribute 'Burger Kind' : String;\n",
    "        first start;\n",
    "        then action 'Place Buns' : 'Fake Library'::Action;\n",
    "        then action 'Add Patty' : 'Fake Library'::Action;\n",
    "        \n",
    "        decide 'Next Topping';\n",
    "        if 'Burger Kind' == \"Cheeseburger\" then 'Add Cheese';\n",
    "        if 'Burger Kind' == \"Hamburger\" then 'Dress Burger';\n",
    "        \n",
    "        action 'Add Cheese' : 'Fake Library'::Action [0..1];\n",
    "        action 'Dress Burger' : 'Fake Library'::Action [0..1];\n",
    "        \n",
    "        merge 'Finish Build';\n",
    "        \n",
    "        action 'Plate Burger' : 'Fake Library'::Action;\n",
    "        then done;\n",
    "        \n",
    "        succession pattyToTopping : 'Fake Library'::HappensDuring first 'Add Patty' then 'Next Topping';\n",
    "        succession cheeseToFinish : 'Fake Library'::HappensDuring first 'Add Cheese' then 'Finish Build';\n",
    "        succession dressToFinish : 'Fake Library'::HappensDuring first 'Dress Burger' then 'Finish Build';\n",
    "        \n",
    "        succession 'Finish Build' then 'Plate Burger';\n",
    "    }\n",
    "}"
   ]
  },
  {
   "cell_type": "markdown",
   "id": "5354f8ac-7cd4-4910-8cfc-d5b9e4fd0263",
   "metadata": {},
   "source": [
    "## Imports\n",
    "\n",
    "Import key modules, functions, and classes from the PyMBE library:"
   ]
  },
  {
   "cell_type": "code",
   "execution_count": null,
   "id": "9dd5d23e-7a3a-4a8a-a297-c3598c048c4e",
   "metadata": {},
   "outputs": [],
   "source": [
    "import os\n",
    "from pathlib import Path\n",
    "\n",
    "import networkx as nx\n",
    "\n",
    "import pymbe.api as pm\n",
    "from pymbe.client import SysML2Client\n",
    "from pymbe.label import *\n",
    "from pymbe.graph.lpg import SysML2LabeledPropertyGraph\n",
    "from pymbe.interpretation.calc_dependencies import generate_execution_order, generate_parameter_signature_map\n",
    "from pymbe.interpretation.interp_playbooks import *\n",
    "from pymbe.interpretation.interpretation import repack_instance_dictionaries\n",
    "from pymbe.interpretation.results import *\n",
    "\n",
    "from pymbe.local.stablization import build_stable_id_lookups"
   ]
  },
  {
   "cell_type": "markdown",
   "id": "4781f4e7-9176-4258-a3af-13076eeacb84",
   "metadata": {},
   "source": [
    "## Client Setup\n",
    "\n",
    "The example here uses a local copy of the JSON file obtained by a GET operation on the SysML v2 API at:\n",
    "http://sysml2-sst.intercax.com:9000/projects/a4f6a618-e4eb-4ac8-84b8-d6bcd3badcec/commits/c48aea9b-42fb-49b3-9a3e-9c39385408d7/elements?page[size]=5000"
   ]
  },
  {
   "cell_type": "markdown",
   "id": "9521c0ea-a498-4a37-b2c7-c7c4440157de",
   "metadata": {},
   "source": [
    "Create the client and load local data."
   ]
  },
  {
   "cell_type": "code",
   "execution_count": null,
   "id": "b66f365e-ef81-42ba-bdae-2f5d239abe4f",
   "metadata": {},
   "outputs": [],
   "source": [
    "helper_client = SysML2Client()\n",
    "\n",
    "elements_data_path = Path(\"../../..\") / \"tests\" / \"fixtures\" / \"Simple Action Example.json\"\n",
    "assert elements_data_path.exists(), f\"Could not find: '{elements_data_path}'\"\n",
    "\n",
    "helper_client._load_from_file(elements_data_path)"
   ]
  },
  {
   "cell_type": "markdown",
   "id": "f9497fb5-64e1-476f-9d1a-295cc8794a48",
   "metadata": {},
   "source": [
    "Create a graph representation of the model and load it into memory."
   ]
  },
  {
   "cell_type": "code",
   "execution_count": null,
   "id": "8faf098c-8e66-488c-9b28-b6f3a8be6a93",
   "metadata": {},
   "outputs": [],
   "source": [
    "lpg = SysML2LabeledPropertyGraph()\n",
    "lpg.model = helper_client.model"
   ]
  },
  {
   "cell_type": "markdown",
   "id": "1522f0a3-03b8-4784-86fa-ea1e3a59befa",
   "metadata": {},
   "source": [
    "This is just a helper to make abbreviations more legible."
   ]
  },
  {
   "cell_type": "code",
   "execution_count": null,
   "id": "a890ad5d-62bc-4e22-a71e-2d66295c772e",
   "metadata": {},
   "outputs": [],
   "source": [
    "shorten_pre_bake = {\n",
    "}"
   ]
  },
  {
   "cell_type": "markdown",
   "id": "f4f5b007-217f-4796-a9c6-e4c13b899d2a",
   "metadata": {},
   "source": [
    "## Key IDs\n",
    "\n",
    "The unique identifiers below are useful references for walking through the interpretations generated in this notebook."
   ]
  },
  {
   "cell_type": "code",
   "execution_count": null,
   "id": "b94373bd-08a5-4fd0-a9bd-c7b87e33b4c4",
   "metadata": {},
   "outputs": [],
   "source": [
    "eig = lpg.get_projection(\"Expression Inferred\")\n",
    "\n",
    "execution_pairs = []\n",
    "execution_contexts = {}\n",
    "\n",
    "roots = [lpg.model.elements[node] for node in eig.nodes if eig.in_degree(node) == 0]"
   ]
  },
  {
   "cell_type": "code",
   "execution_count": null,
   "id": "535c340d-0354-4f2d-ac35-398b6ee3c7a5",
   "metadata": {},
   "outputs": [],
   "source": [
    "roots"
   ]
  },
  {
   "cell_type": "code",
   "execution_count": null,
   "id": "f45283ec-6aef-4ee9-a203-cf66da5cbc14",
   "metadata": {},
   "outputs": [],
   "source": [
    "[root.featuringType for root in roots]"
   ]
  },
  {
   "cell_type": "code",
   "execution_count": null,
   "id": "cbb08609-8a78-4f9e-a642-8be952ab6a03",
   "metadata": {},
   "outputs": [],
   "source": [
    "name_to_id_lookup = build_stable_id_lookups(lpg)[1]\n",
    "name_to_id_lookup"
   ]
  },
  {
   "cell_type": "code",
   "execution_count": null,
   "id": "4d872fe9-f812-4c18-9a5c-2e3e3bfedf74",
   "metadata": {},
   "outputs": [],
   "source": [
    "SIMPLE_ACTION_EXAMPLE = 'Model::Simple Action Example::'\n",
    "FAKE_LIBRARY = 'Model::Simple Action Example::Fake Library::'\n",
    "\n",
    "add_cheese_action_id = name_to_id_lookup[f'{SIMPLE_ACTION_EXAMPLE}Build Burger: Action <<ActionUsage>>']\n",
    "action_id = name_to_id_lookup[f'{FAKE_LIBRARY}Action <<ActionDefinition>>']"
   ]
  },
  {
   "cell_type": "markdown",
   "id": "f35e1c75-0746-4297-b159-31dc16adca07",
   "metadata": {},
   "source": [
    "Create an interpretation of the Kerbal model using the random generator playbook. In general, this randomly selects:\n",
    "- The ratios of partitioning abstract classifier sequence sets into concrete sets. For example, one draw may choose 2 liquid stages and 3 solids.\n",
    "- The number of sequences to create for a given feature multiplicity. For example, draw 2 for a 0..8 engines : Liquid Engine PartUsage.\n",
    "\n",
    "The playbook also attempts to make sequences created obey the Subsetting relationship (elements marked with subsets in M1 model should have their interpretation sequences entirely included within the interpretation sequences of the superset)."
   ]
  },
  {
   "cell_type": "code",
   "execution_count": null,
   "id": "e312d2cb-66ea-4ff4-8dc7-99bb4de175dc",
   "metadata": {},
   "outputs": [],
   "source": [
    "from pymbe.query.query import get_types_for_feature, get_features_typed_by_type, roll_up_multiplicity_for_type"
   ]
  },
  {
   "cell_type": "code",
   "execution_count": null,
   "id": "cb5cebee-7e86-40c0-a7c5-3e5987fedb01",
   "metadata": {},
   "outputs": [],
   "source": [
    "get_types_for_feature(lpg, add_cheese_action_id)"
   ]
  },
  {
   "cell_type": "code",
   "execution_count": null,
   "id": "bd394c21-099d-4e6f-8182-97070e23531b",
   "metadata": {},
   "outputs": [],
   "source": [
    "get_features_typed_by_type(lpg, action_id)"
   ]
  },
  {
   "cell_type": "code",
   "execution_count": null,
   "id": "3f950b20-2dac-41cb-960e-f3c83b05081e",
   "metadata": {},
   "outputs": [],
   "source": [
    "banded_featuring_graph = lpg.get_projection(\"Expanded Banded\")"
   ]
  },
  {
   "cell_type": "code",
   "execution_count": null,
   "id": "548f1c60-38df-4864-8c55-4dc10a6115da",
   "metadata": {},
   "outputs": [],
   "source": [
    "banded_roots = [\n",
    "        lpg.model.elements[node]\n",
    "        for node in banded_featuring_graph.nodes\n",
    "        if banded_featuring_graph.out_degree(node) < 1\n",
    "    ]\n",
    "banded_roots"
   ]
  },
  {
   "cell_type": "code",
   "execution_count": null,
   "id": "d1211791-0351-461a-81c5-d27d47f2fa2e",
   "metadata": {},
   "outputs": [],
   "source": [
    "m0_interpretation = random_generator_playbook(\n",
    "    lpg,\n",
    "    shorten_pre_bake,\n",
    ")"
   ]
  },
  {
   "cell_type": "code",
   "execution_count": null,
   "id": "cd61d23c-781e-4382-925c-c9a47d4d2fba",
   "metadata": {},
   "outputs": [],
   "source": []
  }
 ],
 "metadata": {
  "kernelspec": {
   "display_name": "Python 3 (ipykernel)",
   "language": "python",
   "name": "python3"
  },
  "language_info": {
   "codemirror_mode": {
    "name": "ipython",
    "version": 3
   },
   "file_extension": ".py",
   "mimetype": "text/x-python",
   "name": "python",
   "nbconvert_exporter": "python",
   "pygments_lexer": "ipython3",
   "version": "3.9.6"
  }
 },
 "nbformat": 4,
 "nbformat_minor": 5
}
