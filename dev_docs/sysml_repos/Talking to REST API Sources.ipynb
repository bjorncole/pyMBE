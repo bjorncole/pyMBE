{
 "cells": [
  {
   "cell_type": "markdown",
   "id": "1e8b4774-7938-4888-8c14-79f425ca8efe",
   "metadata": {},
   "source": [
    "# REST API Source Connections\n",
    "\n",
    "One of the major new advances of SysML v2 is the definition of a standard API for server-side and headless clients to expose in order to support a standard way of loading model data in multiple applications. This notebook walks through PyMBE's approach to loading data from such an API."
   ]
  },
  {
   "cell_type": "code",
   "execution_count": null,
   "id": "a18a598a-d90f-4cd5-bd9e-3befe20ce78a",
   "metadata": {},
   "outputs": [],
   "source": [
    "printing_level = \"TRACE\"\n",
    "import requests\n",
    "import re"
   ]
  },
  {
   "cell_type": "markdown",
   "id": "1ab9b82c-0bb2-48eb-a67c-68501efe1d9a",
   "metadata": {},
   "source": [
    "## Public Instance example\n",
    "\n",
    "This example is built around the public instance for the API, maintained at standards bodies and groups like OpenMBEE."
   ]
  },
  {
   "cell_type": "code",
   "execution_count": null,
   "id": "2d4cc8c7-61cf-49aa-be14-b473f1647d1e",
   "metadata": {},
   "outputs": [],
   "source": [
    "host_url = \"http://sysml2.intercax.com\"\n",
    "host_port = 9000"
   ]
  },
  {
   "cell_type": "markdown",
   "id": "e34fdf92-8375-4cdb-9e38-e67a6437dedd",
   "metadata": {},
   "source": [
    "### Finding existing projects and commits\n",
    "\n",
    "The top level of navigation for data in an API repository is the Project with multiple commits, as described by the platform independent model, pictured below."
   ]
  },
  {
   "cell_type": "markdown",
   "id": "4c500565-f64e-48e5-9837-10577adccdcf",
   "metadata": {},
   "source": [
    "![API PIM](../images/api_pim.png \"API Platform Independent Model\")"
   ]
  },
  {
   "cell_type": "code",
   "execution_count": null,
   "id": "a80838a0-2bfe-43df-a029-d3a156dfa696",
   "metadata": {},
   "outputs": [],
   "source": [
    "projects_url = f\"{host_url}:{host_port}/projects\"\n",
    "projects_url"
   ]
  },
  {
   "cell_type": "code",
   "execution_count": null,
   "id": "49a4ed83-0614-466a-b53f-e265be8257b0",
   "metadata": {},
   "outputs": [],
   "source": [
    "projects_response = requests.get(projects_url)"
   ]
  },
  {
   "cell_type": "code",
   "execution_count": null,
   "id": "d7af72da-67e7-4657-a725-51dbaf5f936a",
   "metadata": {},
   "outputs": [],
   "source": [
    "desired_project = \"3a-Function-based Behavior\""
   ]
  },
  {
   "cell_type": "code",
   "execution_count": null,
   "id": "2c4df82f-bf7f-497f-b4bc-f10487996ba5",
   "metadata": {},
   "outputs": [],
   "source": [
    "projects_kvp = {}\n",
    "if printing_level == \"TRACE\":\n",
    "    print(f\"Downloading data from {host_url} ...\")\n",
    "if projects_response.status_code == 200:\n",
    "    if printing_level == \"TRACE\":\n",
    "        print(f\"Download returned with OK status code.\")\n",
    "    projects_kvp = projects_response.json()\n",
    "    filtered_project = [project for project in projects_kvp\n",
    "                        if project['name'].startswith(desired_project)]\n",
    "    if printing_level == \"TRACE\":\n",
    "        print(f\"Filtered projects include: {[project['name'] for project in filtered_project]}\")"
   ]
  },
  {
   "cell_type": "code",
   "execution_count": null,
   "id": "28d44a39-351b-468e-80a4-b6ad2433197a",
   "metadata": {},
   "outputs": [],
   "source": [
    "commits_url = f\"{projects_url}/{filtered_project[0]['@id']}/commits\"\n",
    "commits_url"
   ]
  },
  {
   "cell_type": "code",
   "execution_count": null,
   "id": "78030139-4506-47b0-acfd-9feffcd3a52c",
   "metadata": {},
   "outputs": [],
   "source": [
    "commits_response = requests.get(commits_url)\n",
    "if commits_response.status_code == 200:\n",
    "    if printing_level == \"TRACE\":\n",
    "        print(f\"Download returned with OK status code.\")\n",
    "    commits_kvp = commits_response.json()\n",
    "    if printing_level == \"TRACE\":\n",
    "        print(f\"Found {len(commits_kvp)} commits under this project.\")"
   ]
  },
  {
   "cell_type": "markdown",
   "id": "b746a6d2-f0c8-4665-a684-39cdb8e6ba34",
   "metadata": {},
   "source": [
    "### Acquiring Elements\n",
    "\n",
    "Under a given commit, multiple elements can be found. There may be a large number of elements in the model, so moving through multiple pages of elements may be needed."
   ]
  },
  {
   "cell_type": "code",
   "execution_count": null,
   "id": "613c74bc-a704-427d-b496-6611b3420de2",
   "metadata": {},
   "outputs": [],
   "source": [
    "elements_url = f\"{commits_url}/{commits_kvp[0]['@id']}/elements\"\n",
    "elements_url"
   ]
  },
  {
   "cell_type": "markdown",
   "id": "571fa015-fc31-4fa6-b010-483b71ef94f7",
   "metadata": {},
   "source": [
    "The reference to the next page is contained in response headers. We can parse it with a regular expression."
   ]
  },
  {
   "cell_type": "code",
   "execution_count": null,
   "id": "20d91cde-4a7f-4f08-a754-2dd9061590ca",
   "metadata": {},
   "outputs": [],
   "source": [
    "_next_url_regex = re.compile(r'<(http://.*)>; rel=\"next\"')"
   ]
  },
  {
   "cell_type": "code",
   "execution_count": null,
   "id": "6e2a0052-4ce1-4492-b027-b04122d792b1",
   "metadata": {},
   "outputs": [],
   "source": [
    "url = elements_url\n",
    "collected_elements = []\n",
    "\n",
    "while url:\n",
    "    elements_response = requests.get(url)\n",
    "    if elements_response.status_code == 200:\n",
    "        link = elements_response.headers.get(\"Link\")\n",
    "        if not link:\n",
    "            if printing_level == \"TRACE\":\n",
    "                print(\"No more pages found.\")\n",
    "            break\n",
    "        urls = _next_url_regex.findall(link)\n",
    "        if printing_level == \"TRACE\":\n",
    "            print(f\"Download returned with OK status code.\")\n",
    "            print(f\"Link to next page found at: {urls}\")\n",
    "        if len(urls) == 1:\n",
    "            url = urls[0]\n",
    "        else:\n",
    "            url = None\n",
    "        if printing_level == \"TRACE\":\n",
    "            print(\"Adding found elements to collected result.\")\n",
    "        \n",
    "        collected_elements += elements_response.json()\n",
    "        \n",
    "if printing_level == \"TRACE\":\n",
    "    print(f\"Downloaded {len(collected_elements)} elements.\")"
   ]
  },
  {
   "cell_type": "markdown",
   "id": "ae6bc9f8-fcf4-43b0-929b-169b99bf1a9c",
   "metadata": {},
   "source": [
    "### Local Save\n",
    "\n",
    "The collected dictionary of elements can be rendered back into JSON and saved to the local filesystem."
   ]
  },
  {
   "cell_type": "code",
   "execution_count": null,
   "id": "95b79a14-e248-4f46-9dfd-9c1081abe859",
   "metadata": {},
   "outputs": [],
   "source": [
    "import json"
   ]
  },
  {
   "cell_type": "code",
   "execution_count": null,
   "id": "d71c264a-c2b9-49bb-b520-bc01af04cc5f",
   "metadata": {},
   "outputs": [],
   "source": [
    "with open('run_examples_data/downloaded_elements.json', 'w') as fp:\n",
    "    json.dump(collected_elements, fp)"
   ]
  }
 ],
 "metadata": {
  "kernelspec": {
   "display_name": "Python 3 (ipykernel)",
   "language": "python",
   "name": "python3"
  },
  "language_info": {
   "codemirror_mode": {
    "name": "ipython",
    "version": 3
   },
   "file_extension": ".py",
   "mimetype": "text/x-python",
   "name": "python",
   "nbconvert_exporter": "python",
   "pygments_lexer": "ipython3",
   "version": "3.9.13"
  }
 },
 "nbformat": 4,
 "nbformat_minor": 5
}
