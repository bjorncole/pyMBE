{
 "cells": [
  {
   "cell_type": "markdown",
   "id": "617450a5-686f-4cab-bea0-02d1bea94c2d",
   "metadata": {},
   "source": [
    "# Loading from File Sources\n",
    "\n",
    "This notebook goes through several file format examples to try and load."
   ]
  },
  {
   "cell_type": "code",
   "execution_count": null,
   "id": "05c3a60d-3481-4ac3-b1af-fab31b8bc3cb",
   "metadata": {},
   "outputs": [],
   "source": [
    "import pymbe.api as pm\n",
    "from pymbe.model import Model\n",
    "\n",
    "from os import path"
   ]
  },
  {
   "cell_type": "code",
   "execution_count": null,
   "id": "624aaf86-9649-4fd4-90b9-e396fbf59060",
   "metadata": {},
   "outputs": [],
   "source": [
    "path.exists('../../tests/fixtures')"
   ]
  },
  {
   "cell_type": "code",
   "execution_count": null,
   "id": "7fc1e182-7de8-479a-95f2-8dff64b0f534",
   "metadata": {},
   "outputs": [],
   "source": [
    "test_model = Model.load_from_post_file('../../tests/fixtures/Model_Loader_Test_Level_1.json')"
   ]
  },
  {
   "cell_type": "code",
   "execution_count": null,
   "id": "1c66d220-60a3-486c-bb23-9e94dbf782ba",
   "metadata": {},
   "outputs": [],
   "source": [
    "test_model"
   ]
  },
  {
   "cell_type": "code",
   "execution_count": null,
   "id": "4273bba5-5a47-4f56-a294-4996a4ed6993",
   "metadata": {},
   "outputs": [],
   "source": [
    "[classifier.declaredName for classifier in list(test_model.elements.values()) if classifier._metatype == 'Classifier']"
   ]
  },
  {
   "cell_type": "code",
   "execution_count": null,
   "id": "93867f66-a721-4890-a9e4-c37eb0d90dc9",
   "metadata": {},
   "outputs": [],
   "source": [
    "feature_memberships = [fm for fm in list(test_model.elements.values()) if fm._metatype == 'FeatureMembership']"
   ]
  },
  {
   "cell_type": "code",
   "execution_count": null,
   "id": "67744123-56be-4b6a-9c6d-f1a4a82b1bb7",
   "metadata": {},
   "outputs": [],
   "source": [
    "(feature_memberships[0].owningRelatedElement.declaredName, feature_memberships[0].ownedRelatedElement[0].declaredName)"
   ]
  },
  {
   "cell_type": "code",
   "execution_count": null,
   "id": "49ba29ee-7563-44bb-86b3-c22c6da2ba95",
   "metadata": {},
   "outputs": [],
   "source": [
    "membs = [rel_with_owned for rel_with_owned in list(test_model.elements.values()) if hasattr(rel_with_owned, \"ownedRelatedElement\")\n",
    "   and len(rel_with_owned.ownedRelatedElement) == 1]\n",
    "membs"
   ]
  },
  {
   "cell_type": "code",
   "execution_count": null,
   "id": "29f34a10-b2ad-44a2-8142-03ced1d79bb0",
   "metadata": {},
   "outputs": [],
   "source": [
    "[(memb.owningRelatedElement, memb.ownedRelatedElement[0].declaredName) for memb in membs\n",
    "     if hasattr(memb.ownedRelatedElement[0], \"declaredName\") and not hasattr(memb.owningRelatedElement, \"declaredName\")]"
   ]
  },
  {
   "cell_type": "code",
   "execution_count": null,
   "id": "decfba05-7c84-415b-84d0-7994a826828e",
   "metadata": {},
   "outputs": [],
   "source": [
    "[(memb.owningRelatedElement.declaredName, memb.ownedRelatedElement[0].declaredName) for memb in membs\n",
    "     if hasattr(memb.ownedRelatedElement[0], \"declaredName\") and hasattr(memb.owningRelatedElement, \"declaredName\")]"
   ]
  },
  {
   "cell_type": "code",
   "execution_count": null,
   "id": "7f7c7909-6bcc-4373-88c1-809e180f14dc",
   "metadata": {},
   "outputs": [],
   "source": [
    "features = [feature for feature in list(test_model.elements.values()) if feature._metatype == 'Feature']"
   ]
  },
  {
   "cell_type": "code",
   "execution_count": null,
   "id": "798434d4-38d5-4c8a-aac6-a5fbc053fb0d",
   "metadata": {},
   "outputs": [],
   "source": [
    "test_ft_1 = [tf for tf in features if tf.declaredName == \"Test Feature 1\"]"
   ]
  },
  {
   "cell_type": "code",
   "execution_count": null,
   "id": "d7295637-0c36-4a8f-bf7d-f0d4699b16f0",
   "metadata": {},
   "outputs": [],
   "source": [
    "test_ft_1[0].reverseFeatureMembership"
   ]
  },
  {
   "cell_type": "code",
   "execution_count": null,
   "id": "6900f6e0-bb5c-4c21-ab70-7f4b45cc0cee",
   "metadata": {},
   "outputs": [],
   "source": [
    "fts = [ft for ft in list(test_model.elements.values()) if ft._metatype == 'FeatureTyping']\n",
    "fts"
   ]
  },
  {
   "cell_type": "code",
   "execution_count": null,
   "id": "6cca7e59-1321-4949-b4af-5c160d53e62d",
   "metadata": {},
   "outputs": [],
   "source": [
    "fts[0].source[0]"
   ]
  },
  {
   "cell_type": "code",
   "execution_count": null,
   "id": "4838a667-a911-4691-a20d-f0bddae4bb2b",
   "metadata": {},
   "outputs": [],
   "source": [
    "[(memb.owningRelatedElement.declaredName, memb.ownedRelatedElement[0]) for memb in membs\n",
    "     if not hasattr(memb.ownedRelatedElement[0], \"declaredName\") and hasattr(memb.owningRelatedElement, \"declaredName\")]"
   ]
  },
  {
   "cell_type": "code",
   "execution_count": null,
   "id": "968b8c40-0170-4d75-8997-648460675e95",
   "metadata": {},
   "outputs": [],
   "source": [
    "test_model3 = Model.load_from_post_file('../../tests/fixtures/Model_Loader_Test_Level_3.json')"
   ]
  },
  {
   "cell_type": "code",
   "execution_count": null,
   "id": "924c0806-855a-40b8-a0a2-c06108cd4e71",
   "metadata": {},
   "outputs": [],
   "source": [
    "key_invar = [invariant for invariant in list(test_model3.elements.values()) if invariant._metatype == 'Invariant'][0]"
   ]
  },
  {
   "cell_type": "code",
   "execution_count": null,
   "id": "d57e2f79-76eb-40e1-9ab8-fe464f56f144",
   "metadata": {},
   "outputs": [],
   "source": [
    "key_invar.ownedRelationship"
   ]
  },
  {
   "cell_type": "code",
   "execution_count": null,
   "id": "06c334b4-9408-4a72-a2d5-aa81a01464dd",
   "metadata": {},
   "outputs": [],
   "source": [
    "key_invar.ownedRelationship[0].ownedRelatedElement"
   ]
  },
  {
   "cell_type": "code",
   "execution_count": null,
   "id": "56c9d368-5256-42b2-9b18-ac688d13a106",
   "metadata": {},
   "outputs": [],
   "source": [
    "key_invar.ownedRelationship[0].ownedRelatedElement[0].operator"
   ]
  },
  {
   "cell_type": "code",
   "execution_count": null,
   "id": "44c69cbd-7d85-4d0d-90ca-7aaaf975b173",
   "metadata": {},
   "outputs": [],
   "source": [
    "key_invar.ownedRelationship[0].ownedRelatedElement[0].ownedRelationship"
   ]
  },
  {
   "cell_type": "code",
   "execution_count": null,
   "id": "0b871ae0-ceed-46e5-a253-20e20185d9a3",
   "metadata": {},
   "outputs": [],
   "source": [
    "key_invar.ownedRelationship[0].ownedRelatedElement[0].ownedRelationship[0].\\\n",
    "    ownedRelatedElement[0].ownedRelationship[0].ownedRelatedElement[0].\\\n",
    "    ownedRelationship[0].memberElement.declaredName"
   ]
  },
  {
   "cell_type": "code",
   "execution_count": null,
   "id": "7509a3cf-f863-4386-9ced-1f380136723d",
   "metadata": {},
   "outputs": [],
   "source": [
    "key_invar.ownedRelationship[0].ownedRelatedElement[0].ownedRelationship[1].\\\n",
    "    ownedRelatedElement[0].ownedRelationship[0].ownedRelatedElement[0].operator"
   ]
  },
  {
   "cell_type": "code",
   "execution_count": null,
   "id": "76d6738d-55e5-413c-be3c-a1be0651fc18",
   "metadata": {},
   "outputs": [],
   "source": [
    "key_invar.ownedRelationship[0].ownedRelatedElement[0].ownedRelationship[1].\\\n",
    "    ownedRelatedElement[0].ownedRelationship[0].ownedRelatedElement[0].\\\n",
    "    ownedRelationship[0].ownedRelatedElement[0].ownedRelationship[0].\\\n",
    "    ownedRelatedElement[0].ownedRelationship[0].memberElement.declaredName"
   ]
  },
  {
   "cell_type": "code",
   "execution_count": null,
   "id": "39925025-a910-4103-86fd-4cb774e224e1",
   "metadata": {},
   "outputs": [],
   "source": [
    "key_invar.ownedRelationship[0].ownedRelatedElement[0].ownedRelationship[1].\\\n",
    "    ownedRelatedElement[0].ownedRelationship[0].ownedRelatedElement[0].\\\n",
    "    ownedRelationship[1].ownedRelatedElement[0].ownedRelationship[0].\\\n",
    "    ownedRelatedElement[0].ownedRelationship[0].memberElement.declaredName"
   ]
  },
  {
   "cell_type": "code",
   "execution_count": null,
   "id": "c2ef9ad0-95f7-4e94-87e3-f668cb35dc60",
   "metadata": {},
   "outputs": [],
   "source": [
    "key_invar.ownedRelationship[0].ownedRelatedElement[0].ownedRelationship[1].\\\n",
    "    memberElement.ownedRelationship[0].target[0].ownedRelationship[1].\\\n",
    "    memberElement.ownedRelationship[0].target[0].ownedRelationship[0].\\\n",
    "    memberElement.declaredName"
   ]
  },
  {
   "cell_type": "code",
   "execution_count": null,
   "id": "96b1d1e1-5ace-4032-939b-5ed259e55afb",
   "metadata": {},
   "outputs": [],
   "source": [
    "test_model3.all_relationships"
   ]
  },
  {
   "cell_type": "code",
   "execution_count": null,
   "id": "0f42c2bd-12d2-466a-b1c2-c9354a2a82f1",
   "metadata": {},
   "outputs": [],
   "source": [
    "key_invar.ownedRelationship[0].ownedRelatedElement[0].throughParameterMembership"
   ]
  },
  {
   "cell_type": "code",
   "execution_count": null,
   "id": "93f5e34f-1bfd-41b7-b1e9-8f6bdab41994",
   "metadata": {},
   "outputs": [],
   "source": [
    "literal_test_model = Model.load_from_post_file('../../tests/fixtures/Model_Loader_Literal_Test.json')"
   ]
  },
  {
   "cell_type": "code",
   "execution_count": null,
   "id": "bcb6ef48-55f1-4628-a74c-a58e853498ab",
   "metadata": {},
   "outputs": [],
   "source": [
    "literal_test_model"
   ]
  },
  {
   "cell_type": "code",
   "execution_count": null,
   "id": "d30a8f88-149a-46c6-8be3-f88b61bd9240",
   "metadata": {},
   "outputs": [],
   "source": [
    "literal_test_literals = [literal for literal in list(literal_test_model.elements.values()) if literal._metatype == 'LiteralRational']\n",
    "literal_test_literals"
   ]
  },
  {
   "cell_type": "code",
   "execution_count": null,
   "id": "5b36327e-75fb-4c36-ac87-b4afeafdee25",
   "metadata": {},
   "outputs": [],
   "source": [
    "literal_test_literals[0].value"
   ]
  },
  {
   "cell_type": "code",
   "execution_count": null,
   "id": "ced5769f-5e09-403a-947a-408073b0c6d3",
   "metadata": {},
   "outputs": [],
   "source": []
  }
 ],
 "metadata": {
  "kernelspec": {
   "display_name": "Python 3 (ipykernel)",
   "language": "python",
   "name": "python3"
  },
  "language_info": {
   "codemirror_mode": {
    "name": "ipython",
    "version": 3
   },
   "file_extension": ".py",
   "mimetype": "text/x-python",
   "name": "python",
   "nbconvert_exporter": "python",
   "pygments_lexer": "ipython3",
   "version": "3.9.13"
  }
 },
 "nbformat": 4,
 "nbformat_minor": 5
}
