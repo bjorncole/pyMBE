{
 "cells": [
  {
   "cell_type": "markdown",
   "id": "617450a5-686f-4cab-bea0-02d1bea94c2d",
   "metadata": {},
   "source": [
    "# Loading from File Sources\n",
    "\n",
    "This notebook goes through several file format examples to try and load."
   ]
  },
  {
   "cell_type": "code",
   "execution_count": 1,
   "id": "05c3a60d-3481-4ac3-b1af-fab31b8bc3cb",
   "metadata": {},
   "outputs": [],
   "source": [
    "import pymbe.api as pm\n",
    "from pymbe.model import Model\n",
    "\n",
    "from os import path"
   ]
  },
  {
   "cell_type": "code",
   "execution_count": 2,
   "id": "624aaf86-9649-4fd4-90b9-e396fbf59060",
   "metadata": {},
   "outputs": [
    {
     "data": {
      "text/plain": [
       "True"
      ]
     },
     "execution_count": 2,
     "metadata": {},
     "output_type": "execute_result"
    }
   ],
   "source": [
    "path.exists('../../tests/fixtures')"
   ]
  },
  {
   "cell_type": "code",
   "execution_count": 3,
   "id": "7fc1e182-7de8-479a-95f2-8dff64b0f534",
   "metadata": {},
   "outputs": [],
   "source": [
    "test_model = Model.load_from_post_file('../../tests/fixtures/Model_Loader_Test_Level_1.json')"
   ]
  },
  {
   "cell_type": "code",
   "execution_count": 4,
   "id": "1c66d220-60a3-486c-bb23-9e94dbf782ba",
   "metadata": {},
   "outputs": [
    {
     "data": {
      "text/plain": [
       "<SysML v2 Model (C:\\Users\\Bjorn Cole\\Documents\\GitHub\\pyMBE\\tests\\fixtures\\Model_Loader_Test_Level_1.json)>"
      ]
     },
     "execution_count": 4,
     "metadata": {},
     "output_type": "execute_result"
    }
   ],
   "source": [
    "test_model"
   ]
  },
  {
   "cell_type": "code",
   "execution_count": 5,
   "id": "4273bba5-5a47-4f56-a294-4996a4ed6993",
   "metadata": {},
   "outputs": [
    {
     "data": {
      "text/plain": [
       "['My Bare Class',\n",
       " 'My Class with Two features',\n",
       " 'Class with Typed Features',\n",
       " 'Specialized Class']"
      ]
     },
     "execution_count": 5,
     "metadata": {},
     "output_type": "execute_result"
    }
   ],
   "source": [
    "[classifier.declaredName for classifier in list(test_model.elements.values()) if classifier._metatype == 'Classifier']"
   ]
  },
  {
   "cell_type": "code",
   "execution_count": 6,
   "id": "93867f66-a721-4890-a9e4-c37eb0d90dc9",
   "metadata": {},
   "outputs": [],
   "source": [
    "feature_memberships = [fm for fm in list(test_model.elements.values()) if fm._metatype == 'FeatureMembership']"
   ]
  },
  {
   "cell_type": "code",
   "execution_count": 7,
   "id": "67744123-56be-4b6a-9c6d-f1a4a82b1bb7",
   "metadata": {},
   "outputs": [
    {
     "data": {
      "text/plain": [
       "('My Class with Two features', 'Test Feature 1')"
      ]
     },
     "execution_count": 7,
     "metadata": {},
     "output_type": "execute_result"
    }
   ],
   "source": [
    "(feature_memberships[0].owningRelatedElement.declaredName, feature_memberships[0].ownedRelatedElement[0].declaredName)"
   ]
  },
  {
   "cell_type": "code",
   "execution_count": 8,
   "id": "49ba29ee-7563-44bb-86b3-c22c6da2ba95",
   "metadata": {},
   "outputs": [
    {
     "data": {
      "text/plain": [
       "[<91d3a7d2-0834-4aa0-9a79-dc2a21fb11b9 «OwningMembership»>,\n",
       " <adda97af-f64e-4fbf-98a9-8b7d1915d8db «OwningMembership»>,\n",
       " <f4ee484d-2722-43b9-9a4b-c8c25149ce45 «FeatureMembership»>,\n",
       " <21977ebb-e74b-4d04-a5c6-fd196cf308d2 «FeatureMembership»>,\n",
       " <dd64f08a-721f-496b-aed7-e8304e5e1d33 «OwningMembership»>,\n",
       " <16de0703-3b8e-4b70-aaf4-704f5847fe70 «OwningMembership»>,\n",
       " <1e219b62-6777-4d0d-93d0-09afaaf97570 «OwningMembership»>,\n",
       " <b3222f62-2550-42a9-b1dd-9636970bab81 «FeatureMembership»>,\n",
       " <2d18ff60-339e-4864-a3fa-40ccf31ba046 «FeatureMembership»>,\n",
       " <510962d0-a451-4749-9aee-308039695a1e «OwningMembership»>,\n",
       " <56c2b571-6118-4acf-bb04-10d2d6b21470 «OwningMembership»>,\n",
       " <9c5cc8db-6b9b-4822-9d7c-5cab44ddaeb5 «OwningMembership»>]"
      ]
     },
     "execution_count": 8,
     "metadata": {},
     "output_type": "execute_result"
    }
   ],
   "source": [
    "membs = [rel_with_owned for rel_with_owned in list(test_model.elements.values()) if hasattr(rel_with_owned, \"ownedRelatedElement\")\n",
    "   and len(rel_with_owned.ownedRelatedElement) == 1]\n",
    "membs"
   ]
  },
  {
   "cell_type": "code",
   "execution_count": 9,
   "id": "29f34a10-b2ad-44a2-8142-03ced1d79bb0",
   "metadata": {},
   "outputs": [
    {
     "data": {
      "text/plain": [
       "[(<3093cc44-3025-450e-8ea8-18705529b528 «Namespace»>,\n",
       "  'Model Loader Test Level 1')]"
      ]
     },
     "execution_count": 9,
     "metadata": {},
     "output_type": "execute_result"
    }
   ],
   "source": [
    "[(memb.owningRelatedElement, memb.ownedRelatedElement[0].declaredName) for memb in membs\n",
    "     if hasattr(memb.ownedRelatedElement[0], \"declaredName\") and not hasattr(memb.owningRelatedElement, \"declaredName\")]"
   ]
  },
  {
   "cell_type": "code",
   "execution_count": 10,
   "id": "decfba05-7c84-415b-84d0-7994a826828e",
   "metadata": {},
   "outputs": [
    {
     "data": {
      "text/plain": [
       "[('Model Loader Test Level 1', 'My Bare Class'),\n",
       " ('My Class with Two features', 'Test Feature 1'),\n",
       " ('My Class with Two features', 'Test Feature 2'),\n",
       " ('Model Loader Test Level 1', 'My Class with Two features'),\n",
       " ('Model Loader Test Level 1', 'Bare Feature'),\n",
       " ('Model Loader Test Level 1', 'Bare Classed Feature'),\n",
       " ('Class with Typed Features', 'Typed Feature 1'),\n",
       " ('Class with Typed Features', 'Typed Feature 2'),\n",
       " ('Model Loader Test Level 1', 'Class with Typed Features'),\n",
       " ('Model Loader Test Level 1', 'Specialized Class')]"
      ]
     },
     "execution_count": 10,
     "metadata": {},
     "output_type": "execute_result"
    }
   ],
   "source": [
    "[(memb.owningRelatedElement.declaredName, memb.ownedRelatedElement[0].declaredName) for memb in membs\n",
    "     if hasattr(memb.ownedRelatedElement[0], \"declaredName\") and hasattr(memb.owningRelatedElement, \"declaredName\")]"
   ]
  },
  {
   "cell_type": "code",
   "execution_count": 11,
   "id": "4838a667-a911-4691-a20d-f0bddae4bb2b",
   "metadata": {},
   "outputs": [
    {
     "data": {
      "text/plain": [
       "[]"
      ]
     },
     "execution_count": 11,
     "metadata": {},
     "output_type": "execute_result"
    }
   ],
   "source": [
    "[(memb.owningRelatedElement.declaredName, memb.ownedRelatedElement[0]) for memb in membs\n",
    "     if not hasattr(memb.ownedRelatedElement[0], \"declaredName\") and hasattr(memb.owningRelatedElement, \"declaredName\")]"
   ]
  },
  {
   "cell_type": "code",
   "execution_count": 12,
   "id": "968b8c40-0170-4d75-8997-648460675e95",
   "metadata": {},
   "outputs": [],
   "source": [
    "test_model3 = Model.load_from_post_file('../../tests/fixtures/Model_Loader_Test_Level_3.json')"
   ]
  },
  {
   "cell_type": "code",
   "execution_count": 13,
   "id": "924c0806-855a-40b8-a0a2-c06108cd4e71",
   "metadata": {},
   "outputs": [],
   "source": [
    "key_invar = [invariant for invariant in list(test_model3.elements.values()) if invariant._metatype == 'Invariant'][0]"
   ]
  },
  {
   "cell_type": "code",
   "execution_count": 14,
   "id": "d57e2f79-76eb-40e1-9ab8-fe464f56f144",
   "metadata": {},
   "outputs": [
    {
     "data": {
      "text/plain": [
       "[<bd20d260-600e-4e84-b62f-a792d076c5bc «ResultExpressionMembership»>,\n",
       " <44e277be-4768-4532-9e9f-a047f56bef16 «ReturnParameterMembership»>]"
      ]
     },
     "execution_count": 14,
     "metadata": {},
     "output_type": "execute_result"
    }
   ],
   "source": [
    "key_invar.ownedRelationship"
   ]
  },
  {
   "cell_type": "code",
   "execution_count": 15,
   "id": "06c334b4-9408-4a72-a2d5-aa81a01464dd",
   "metadata": {},
   "outputs": [
    {
     "data": {
      "text/plain": [
       "[<441e6602-45c8-4c68-9402-6761c9a79fb1 «OperatorExpression»>]"
      ]
     },
     "execution_count": 15,
     "metadata": {},
     "output_type": "execute_result"
    }
   ],
   "source": [
    "key_invar.ownedRelationship[0].ownedRelatedElement"
   ]
  },
  {
   "cell_type": "code",
   "execution_count": 19,
   "id": "56c9d368-5256-42b2-9b18-ac688d13a106",
   "metadata": {},
   "outputs": [
    {
     "data": {
      "text/plain": [
       "'=='"
      ]
     },
     "execution_count": 19,
     "metadata": {},
     "output_type": "execute_result"
    }
   ],
   "source": [
    "key_invar.ownedRelationship[0].ownedRelatedElement[0].operator"
   ]
  },
  {
   "cell_type": "code",
   "execution_count": 23,
   "id": "44c69cbd-7d85-4d0d-90ca-7aaaf975b173",
   "metadata": {},
   "outputs": [
    {
     "data": {
      "text/plain": [
       "[<2db2fd0d-2f2b-4c40-8c8f-51bf28c59fa8 «ParameterMembership»>,\n",
       " <93b0aaee-58ed-47c2-bb45-e8c4b2a3ddc0 «ParameterMembership»>,\n",
       " <4a9f407b-39bf-403f-89cd-90302b218920 «ReturnParameterMembership»>]"
      ]
     },
     "execution_count": 23,
     "metadata": {},
     "output_type": "execute_result"
    }
   ],
   "source": [
    "key_invar.ownedRelationship[0].ownedRelatedElement[0].ownedRelationship"
   ]
  },
  {
   "cell_type": "code",
   "execution_count": 43,
   "id": "0b871ae0-ceed-46e5-a253-20e20185d9a3",
   "metadata": {},
   "outputs": [
    {
     "data": {
      "text/plain": [
       "'Register 1'"
      ]
     },
     "execution_count": 43,
     "metadata": {},
     "output_type": "execute_result"
    }
   ],
   "source": [
    "key_invar.ownedRelationship[0].ownedRelatedElement[0].ownedRelationship[0].\\\n",
    "    ownedRelatedElement[0].ownedRelationship[0].ownedRelatedElement[0].\\\n",
    "    ownedRelationship[0].memberElement.declaredName"
   ]
  },
  {
   "cell_type": "code",
   "execution_count": 57,
   "id": "7509a3cf-f863-4386-9ced-1f380136723d",
   "metadata": {},
   "outputs": [
    {
     "data": {
      "text/plain": [
       "'+'"
      ]
     },
     "execution_count": 57,
     "metadata": {},
     "output_type": "execute_result"
    }
   ],
   "source": [
    "key_invar.ownedRelationship[0].ownedRelatedElement[0].ownedRelationship[1].\\\n",
    "    ownedRelatedElement[0].ownedRelationship[0].ownedRelatedElement[0].operator"
   ]
  },
  {
   "cell_type": "code",
   "execution_count": 65,
   "id": "76d6738d-55e5-413c-be3c-a1be0651fc18",
   "metadata": {},
   "outputs": [
    {
     "data": {
      "text/plain": [
       "'Register 2'"
      ]
     },
     "execution_count": 65,
     "metadata": {},
     "output_type": "execute_result"
    }
   ],
   "source": [
    "key_invar.ownedRelationship[0].ownedRelatedElement[0].ownedRelationship[1].\\\n",
    "    ownedRelatedElement[0].ownedRelationship[0].ownedRelatedElement[0].\\\n",
    "    ownedRelationship[0].ownedRelatedElement[0].ownedRelationship[0].\\\n",
    "    ownedRelatedElement[0].ownedRelationship[0].memberElement.declaredName"
   ]
  },
  {
   "cell_type": "code",
   "execution_count": 68,
   "id": "39925025-a910-4103-86fd-4cb774e224e1",
   "metadata": {},
   "outputs": [
    {
     "data": {
      "text/plain": [
       "'Register 3'"
      ]
     },
     "execution_count": 68,
     "metadata": {},
     "output_type": "execute_result"
    }
   ],
   "source": [
    "key_invar.ownedRelationship[0].ownedRelatedElement[0].ownedRelationship[1].\\\n",
    "    ownedRelatedElement[0].ownedRelationship[0].ownedRelatedElement[0].\\\n",
    "    ownedRelationship[1].ownedRelatedElement[0].ownedRelationship[0].\\\n",
    "    ownedRelatedElement[0].ownedRelationship[0].memberElement.declaredName"
   ]
  },
  {
   "cell_type": "code",
   "execution_count": 91,
   "id": "c2ef9ad0-95f7-4e94-87e3-f668cb35dc60",
   "metadata": {},
   "outputs": [
    {
     "data": {
      "text/plain": [
       "<7f20b21b-0962-496f-92f7-90fbb5b6c8e0 «FeatureReferenceExpression»>"
      ]
     },
     "execution_count": 91,
     "metadata": {},
     "output_type": "execute_result"
    }
   ],
   "source": [
    "key_invar.ownedRelationship[0].ownedRelatedElement[0].ownedRelationship[1].\\\n",
    "    memberElement.ownedRelationship[0].target[0].ownedRelationship[1].\\\n",
    "    memberElement.ownedRelationship[0].target[0].ownedRelationship"
   ]
  },
  {
   "cell_type": "code",
   "execution_count": 17,
   "id": "93f5e34f-1bfd-41b7-b1e9-8f6bdab41994",
   "metadata": {},
   "outputs": [],
   "source": [
    "literal_test_model = Model.load_from_post_file('../../tests/fixtures/Model_Loader_Literal_Test.json')"
   ]
  },
  {
   "cell_type": "code",
   "execution_count": 18,
   "id": "bcb6ef48-55f1-4628-a74c-a58e853498ab",
   "metadata": {},
   "outputs": [
    {
     "data": {
      "text/plain": [
       "<SysML v2 Model (C:\\Users\\Bjorn Cole\\Documents\\GitHub\\pyMBE\\tests\\fixtures\\Model_Loader_Literal_Test.json)>"
      ]
     },
     "execution_count": 18,
     "metadata": {},
     "output_type": "execute_result"
    }
   ],
   "source": [
    "literal_test_model"
   ]
  },
  {
   "cell_type": "code",
   "execution_count": null,
   "id": "d30a8f88-149a-46c6-8be3-f88b61bd9240",
   "metadata": {},
   "outputs": [],
   "source": []
  }
 ],
 "metadata": {
  "kernelspec": {
   "display_name": "Python 3 (ipykernel)",
   "language": "python",
   "name": "python3"
  },
  "language_info": {
   "codemirror_mode": {
    "name": "ipython",
    "version": 3
   },
   "file_extension": ".py",
   "mimetype": "text/x-python",
   "name": "python",
   "nbconvert_exporter": "python",
   "pygments_lexer": "ipython3",
   "version": "3.9.13"
  }
 },
 "nbformat": 4,
 "nbformat_minor": 5
}
