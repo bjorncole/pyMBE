{
 "cells": [
  {
   "cell_type": "markdown",
   "id": "617450a5-686f-4cab-bea0-02d1bea94c2d",
   "metadata": {},
   "source": [
    "# Loading from File Sources\n",
    "\n",
    "This notebook goes through several file format examples to try and load."
   ]
  },
  {
   "cell_type": "code",
   "execution_count": 2,
   "id": "05c3a60d-3481-4ac3-b1af-fab31b8bc3cb",
   "metadata": {},
   "outputs": [],
   "source": [
    "import pymbe.api as pm\n",
    "from pymbe.model import Model\n",
    "\n",
    "from os import path"
   ]
  },
  {
   "cell_type": "code",
   "execution_count": 7,
   "id": "624aaf86-9649-4fd4-90b9-e396fbf59060",
   "metadata": {},
   "outputs": [
    {
     "data": {
      "text/plain": [
       "True"
      ]
     },
     "execution_count": 7,
     "metadata": {},
     "output_type": "execute_result"
    }
   ],
   "source": [
    "path.exists('../../tests/fixtures')"
   ]
  },
  {
   "cell_type": "code",
   "execution_count": 8,
   "id": "7fc1e182-7de8-479a-95f2-8dff64b0f534",
   "metadata": {},
   "outputs": [],
   "source": [
    "test_model = Model.load_from_post_file('../../tests/fixtures/Model_Loader_Test_Level_1.json')"
   ]
  },
  {
   "cell_type": "code",
   "execution_count": 9,
   "id": "1c66d220-60a3-486c-bb23-9e94dbf782ba",
   "metadata": {},
   "outputs": [
    {
     "data": {
      "text/plain": [
       "<SysML v2 Model (C:\\Users\\Bjorn Cole\\Documents\\GitHub\\pyMBE\\tests\\fixtures\\Model_Loader_Test_Level_1.json)>"
      ]
     },
     "execution_count": 9,
     "metadata": {},
     "output_type": "execute_result"
    }
   ],
   "source": [
    "test_model"
   ]
  },
  {
   "cell_type": "code",
   "execution_count": 13,
   "id": "4273bba5-5a47-4f56-a294-4996a4ed6993",
   "metadata": {},
   "outputs": [
    {
     "data": {
      "text/plain": [
       "['My Bare Class',\n",
       " 'My Class with Two features',\n",
       " 'Class with Typed Features',\n",
       " 'Specialized Class']"
      ]
     },
     "execution_count": 13,
     "metadata": {},
     "output_type": "execute_result"
    }
   ],
   "source": [
    "[classifier.declaredName for classifier in list(test_model.elements.values()) if classifier._metatype == 'Classifier']"
   ]
  },
  {
   "cell_type": "code",
   "execution_count": null,
   "id": "93867f66-a721-4890-a9e4-c37eb0d90dc9",
   "metadata": {},
   "outputs": [],
   "source": []
  }
 ],
 "metadata": {
  "kernelspec": {
   "display_name": "Python 3 (ipykernel)",
   "language": "python",
   "name": "python3"
  },
  "language_info": {
   "codemirror_mode": {
    "name": "ipython",
    "version": 3
   },
   "file_extension": ".py",
   "mimetype": "text/x-python",
   "name": "python",
   "nbconvert_exporter": "python",
   "pygments_lexer": "ipython3",
   "version": "3.9.13"
  }
 },
 "nbformat": 4,
 "nbformat_minor": 5
}
