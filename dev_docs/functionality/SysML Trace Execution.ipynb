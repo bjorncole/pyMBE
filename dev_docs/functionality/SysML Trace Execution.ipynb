{
 "cells": [
  {
   "cell_type": "markdown",
   "id": "0b29b3fe-4145-499c-90f9-a383a8d3ca02",
   "metadata": {},
   "source": [
    "# SysML Trace Execution\n",
    "\n",
    "A notebook experimenting with execution rules and timeslices as cursors in SysML."
   ]
  },
  {
   "cell_type": "code",
   "execution_count": null,
   "id": "f7839ebb-7c5b-4284-9ca4-5a83c53cb1ec",
   "metadata": {},
   "outputs": [],
   "source": [
    "import json\n",
    "import pymbe.api as pm\n",
    "\n",
    "import copy\n",
    "\n",
    "from importlib import resources as lib_resources\n",
    "\n",
    "from dataclasses import field\n",
    "from typing import Any, List\n",
    "\n",
    "from pathlib import Path\n",
    "\n",
    "from typing import Any, Collection, Dict, List, Tuple, Union\n",
    "\n",
    "from pymbe.model import Model, Element\n",
    "from pymbe.model_modification import *\n",
    "\n",
    "from pymbe.query.metamodel_navigator import (is_type_undefined_mult,\n",
    "                                    is_multiplicity_one,\n",
    "                                    is_multiplicity_specific_finite,\n",
    "                                    get_finite_multiplicity_types,\n",
    "                                    identify_connectors_one_side,\n",
    "                                    get_lower_multiplicity,\n",
    "                                    get_upper_multiplicity,\n",
    "                                    does_behavior_have_write_features,\n",
    "                                    get_most_specific_feature_type,\n",
    "                                    has_type_named,\n",
    "                                    get_effective_lower_multiplicity,\n",
    "                                    get_feature_bound_values,\n",
    "                                    get_more_general_types,\n",
    "                                    get_effective_basic_name)\n",
    "\n",
    "from pymbe.metamodel import derive_inherited_featurememberships\n",
    "\n",
    "from pymbe.text_concrete_syntax import serialize_kerml_atom\n",
    "\n",
    "from pymbe.interpretation.working_maps import FeatureTypeWorkingMap\n",
    "from pymbe.interpretation.execute_kerml_atoms import KermlForwardExecutor\n",
    "\n",
    "from uuid import uuid4"
   ]
  },
  {
   "cell_type": "markdown",
   "id": "58774846-db97-4e49-b8da-6eef42b2b0b0",
   "metadata": {},
   "source": [
    "## Key Helpers for the Algorithm\n",
    "\n",
    "These helpers are yet to be implemented in the core of the Python tool and thus need to be more spelled out."
   ]
  },
  {
   "cell_type": "markdown",
   "id": "7caea0ba-ebf3-473e-93d6-f4f02037ab92",
   "metadata": {},
   "source": [
    "# Load up Kernel and Systems Libraries\n",
    "\n",
    "Load up the model libraries into memory so that key features for subsetting can be found."
   ]
  },
  {
   "cell_type": "code",
   "execution_count": null,
   "id": "09d9067b-6355-4b9d-9ef4-46cbdb353ead",
   "metadata": {},
   "outputs": [],
   "source": [
    "library_model = None\n",
    "\n",
    "with lib_resources.path(\"pymbe.static_data\", \"SystemsLibrary.json\") as lib_data1:\n",
    "    with lib_resources.path(\"pymbe.static_data\", \"KernelLibraryExpanded.json\") as lib_data2:\n",
    "            library_model = pm.Model.load_from_mult_post_files([lib_data1, lib_data2])"
   ]
  },
  {
   "cell_type": "markdown",
   "id": "cdf018c2-6bb6-49a4-9358-02ba6a991b13",
   "metadata": {},
   "source": [
    "## Routines for Execution\n",
    "\n",
    "The following sections are focused on solving the problem of mapping values to KerML types in the model. The approach taken here is to find one legal set of values for types in the model via an approach where the program will walk straight ahead in the model, deriving values as it goes. This approach is called \"execution\" here."
   ]
  },
  {
   "cell_type": "code",
   "execution_count": null,
   "id": "8476dd20-1f30-48ec-9fd4-bfd3fdaefa79",
   "metadata": {},
   "outputs": [],
   "source": [
    "def print_values_dictionary(model, values_dict):\n",
    "    print_string = \"\"\n",
    "    for k, v in values_dict.items():\n",
    "        print_string = print_string + f\">>>Key {model.get_element(k)} ({k}) has values {v}\\n\"\n",
    "        \n",
    "    print(print_string)"
   ]
  },
  {
   "cell_type": "code",
   "execution_count": null,
   "id": "739aece2-4a51-4eaf-b027-408b70565e8a",
   "metadata": {},
   "outputs": [],
   "source": [
    "def pretty_print_steps_log(builder_log):\n",
    "    # helper to print the log in a way you can read it in the Jupyter notebook easily\n",
    "    print(\"\\n\".join(builder_log))"
   ]
  },
  {
   "cell_type": "markdown",
   "id": "fd27e6cc-2fd8-4890-9c93-a7e8caa1c6ad",
   "metadata": {},
   "source": [
    "## Atom Metadata Load\n",
    "\n",
    "Bring up the Atom metadata."
   ]
  },
  {
   "cell_type": "markdown",
   "id": "73d104ea-d80a-4c73-ba7e-8bc96c942ce8",
   "metadata": {},
   "source": [
    "filename = \"A-2-Atoms\"\n",
    "\n",
    "if not filename.endswith(\".json\"):\n",
    "    filename += \".json\"\n",
    "\n",
    "json_file = Path(Path.cwd()) / \"annex_a_data\" / filename\n",
    "\n",
    "atoms_data = pm.Model.load_from_post_file(json_file)\n",
    "atoms_data"
   ]
  },
  {
   "cell_type": "markdown",
   "id": "3d42352a-0aa9-4e97-8959-f8fcd026b565",
   "metadata": {},
   "source": [
    "## Simple Loop Trial"
   ]
  },
  {
   "cell_type": "code",
   "execution_count": null,
   "id": "3eaa3d32-7a9f-44b7-abb8-87fc45922128",
   "metadata": {},
   "outputs": [],
   "source": [
    "filename = \"UserModelTrialLoops\"\n",
    "\n",
    "if not filename.endswith(\".json\"):\n",
    "    filename += \".json\"\n",
    "\n",
    "json_file = Path(Path.cwd()) / \"sysml_data\" / filename\n",
    "\n",
    "loop_data = pm.Model.load_from_post_file(json_file)\n",
    "loop_data\n",
    "\n",
    "loop_data.reference_other_model(library_model)"
   ]
  },
  {
   "cell_type": "code",
   "execution_count": null,
   "id": "bffd842c-b348-4f13-9c68-6d6d45241d8a",
   "metadata": {},
   "outputs": [],
   "source": [
    "packages = [ele for ele in loop_data.elements.values() if ele._metatype == 'Package']\n",
    "packages"
   ]
  },
  {
   "cell_type": "code",
   "execution_count": null,
   "id": "3e512b29-02b3-4bdf-a88d-002a8cf0b7e9",
   "metadata": {},
   "outputs": [],
   "source": [
    "execute_package = [ele for ele in packages if ele.declaredName == \"LoopToExecute\"][0]\n",
    "execute_package"
   ]
  },
  {
   "cell_type": "code",
   "execution_count": null,
   "id": "00c52937-ec02-48ca-9756-957a4da79f53",
   "metadata": {},
   "outputs": [],
   "source": [
    "trace_package = [ele for ele in packages if ele.declaredName == \"LoopTrace\"][0]\n",
    "trace_package"
   ]
  },
  {
   "cell_type": "code",
   "execution_count": null,
   "id": "396f0abc-a3d4-4deb-8149-b5ff3985f6ac",
   "metadata": {},
   "outputs": [],
   "source": [
    "action_to_execute = [action for action in execute_package.throughOwningMembership\n",
    "                     if get_effective_basic_name(action) == \"Loop Master\"][0]\n",
    "action_to_execute"
   ]
  },
  {
   "cell_type": "code",
   "execution_count": null,
   "id": "fc6ca289-8128-4f3f-af9d-9492013d706e",
   "metadata": {},
   "outputs": [],
   "source": [
    "occ_ns = [\n",
    "        library_model_ns\n",
    "        for library_model_ns in library_model.ownedElement\n",
    "        if library_model_ns.throughOwningMembership[0].declaredName == \"Occurrences\"\n",
    "    ][0]"
   ]
  },
  {
   "cell_type": "code",
   "execution_count": null,
   "id": "559e171b-2598-4257-8cea-361e83a3031a",
   "metadata": {},
   "outputs": [],
   "source": [
    "occ = [ele for ele in occ_ns.throughOwningMembership[0].throughOwningMembership\n",
    "           if get_effective_basic_name(ele) == \"Occurrence\"][0]\n",
    "\n",
    "time_slices = [ele for ele in occ.throughFeatureMembership if get_effective_basic_name(ele) == \"timeSlices\"][0]\n",
    "time_slices"
   ]
  },
  {
   "cell_type": "code",
   "execution_count": null,
   "id": "e82c3697-983a-4216-b3b3-e2d8c5e9fe2b",
   "metadata": {},
   "outputs": [],
   "source": [
    "def build_from_feature_slice_pattern(\n",
    "    owner: Element,\n",
    "    name: str,\n",
    "    model: Model,\n",
    "    specific_fields: dict[str, Any],\n",
    "    feature_type: Element,\n",
    "    direction: str = \"\",\n",
    "    metatype: str = \"Feature\",\n",
    "    connector_end: bool = False,\n",
    "):\n",
    "\n",
    "    \"\"\"Creates a new element using a feature-style pattern that assumes:\n",
    "    - The Feature will have some special kind of membership connecting it to the owner\n",
    "    - The Feature may have a multiplicity\n",
    "    - The Feature may have a type\n",
    "    \"\"\"\n",
    "    typing_snippet = {}\n",
    "    direction_snippet = {}\n",
    "    member_kind = \"\"\n",
    "\n",
    "    if feature_type is not None:\n",
    "        typing_snippet = {\"type\": {\"@id\": feature_type}}\n",
    "\n",
    "    if direction != \"\":\n",
    "        direction_snippet = {\"direction\": direction}\n",
    "\n",
    "    specific_fields = typing_snippet | direction_snippet\n",
    "\n",
    "    feature_dict = create_element_data_dictionary(\n",
    "        name=name, metaclass=metatype, model=model, specific_fields=specific_fields\n",
    "    )\n",
    "\n",
    "    feature_dict.update({\"portionKind\": \"timeslice\", \"isPortion\": True})\n",
    "\n",
    "    new_ele = Element.new(data=feature_dict, model=model)\n",
    "\n",
    "    # TODO: Add more cases here\n",
    "    if (\n",
    "        metatype in {\"Feature\", \"Connector\", \"Succession\", \"Step\"}\n",
    "        or \"Usage\" in metatype\n",
    "    ):\n",
    "        if connector_end:\n",
    "            member_kind = \"EndFeatureMembership\"\n",
    "        else:\n",
    "            member_kind = \"FeatureMembership\"\n",
    "\n",
    "    new_element_ownership_pattern(\n",
    "        owner=owner, ele=new_ele, model=model, member_kind=member_kind\n",
    "    )\n",
    "\n",
    "    # need to subset the library timeSlices\n",
    "\n",
    "    build_from_binary_relationship_pattern(\n",
    "        source=new_ele,\n",
    "        target=time_slices,\n",
    "        model=model,\n",
    "        metatype=\"Subsetting\",\n",
    "        owned_by_source=True,\n",
    "        owns_target=False,\n",
    "        alternative_owner=None,\n",
    "        specific_fields={},\n",
    "    )\n",
    "\n",
    "    if feature_type is not None:\n",
    "        build_from_binary_relationship_pattern(\n",
    "            source=new_ele,\n",
    "            target=feature_type,\n",
    "            model=model,\n",
    "            metatype=\"FeatureTyping\",\n",
    "            owned_by_source=True,\n",
    "            owns_target=False,\n",
    "            alternative_owner=None,\n",
    "            specific_fields={},\n",
    "        )\n",
    "\n",
    "    return new_ele"
   ]
  },
  {
   "cell_type": "code",
   "execution_count": null,
   "id": "78b66a8c-a941-4d2b-9e90-2c385ab39358",
   "metadata": {},
   "outputs": [],
   "source": [
    "class TimeSliceWorkingMap():\n",
    "    # The working dictionary for atoms to atoms (objects)\n",
    "    _working_dict: dict[str, dict[str, list[Element]]] = field(default_factory=dict)\n",
    "\n",
    "    def __init__():\n",
    "        self._working_dict = {}"
   ]
  },
  {
   "cell_type": "code",
   "execution_count": null,
   "id": "bbf2cfb9-81ff-49c1-8659-ff98d7a912e4",
   "metadata": {},
   "outputs": [],
   "source": [
    "class ForwardSysMLExecution():\n",
    "\n",
    "    working_slices: List[Element] = field(default_factory=list)\n",
    "\n",
    "    execution_action: Element\n",
    "\n",
    "    # a log that is indexed by instance that walks through the executor steps taken\n",
    "    _builder_log = {}\n",
    "\n",
    "    # a log that walks thorugh the steps of traversal between elements\n",
    "    _traversal_log: list[str]\n",
    "\n",
    "    # a log that records the state of the value assignments at particular points\n",
    "    _value_map_log = []\n",
    "\n",
    "    # Prevent infinite loops\n",
    "    _safety_counter: int\n",
    "    \n",
    "    def __init__(self):\n",
    "        self.working_slices = {}\n",
    "        self.current_frame_list = {}\n",
    "        self.working_slice_activation = {}\n",
    "        self._builder_log = {}\n",
    "        self._traversal_log = []\n",
    "        self._value_map_log = []\n",
    "        self.execution_action = None\n",
    "        self._safety_counter = 0\n",
    "\n",
    "    def start_execution(self, target_package: Element, execution_name: str):\n",
    "        \"\"\"\n",
    "        Create the outer action that will carry the execution trace.\n",
    "        \"\"\"\n",
    "        self.execution_action = build_from_classifier_pattern(\n",
    "            owner=target_package,\n",
    "            name=execution_name,\n",
    "            model=target_package._model,\n",
    "            metatype=\"ActionDefinition\",\n",
    "            superclasses=[],\n",
    "            specific_fields={},\n",
    "        )\n",
    "    \n",
    "    def start_behavior(self, behavior_element: Element, new_owner: Element):\n",
    "        \"\"\"\n",
    "        Start the behavior by adding an initial time slice for it to the working stack\n",
    "        \"\"\"\n",
    "\n",
    "        # check that we have a SuccessionAsUsage that points to the start node\n",
    "\n",
    "        successions = [ele for ele in behavior_element.throughFeatureMembership\n",
    "                       if ele._metatype == \"SuccessionAsUsage\"]\n",
    "\n",
    "        start_succession = [ele for ele in successions\n",
    "                            if get_effective_basic_name(ele.source[0]) == \"start\"][0]\n",
    "\n",
    "        if new_owner is None:\n",
    "            new_slice = build_from_feature_slice_pattern(\n",
    "                owner=self.execution_action,\n",
    "                name=f\"\\\"{get_effective_basic_name(behavior_element)} Top Frame\\\"\",\n",
    "                model=behavior_element._model,\n",
    "                specific_fields={},\n",
    "                feature_type=None,\n",
    "                direction = \"\",\n",
    "                metatype = \"OccurrenceUsage\",\n",
    "                connector_end = False,\n",
    "            )\n",
    "\n",
    "            self.current_frame_list.update({'Core Thread': 1})\n",
    "\n",
    "            new_working_slice = build_from_feature_slice_pattern(\n",
    "                owner=new_slice,\n",
    "                name=\"Core Thread\" + \\\n",
    "                    f\" Frame {self.current_frame_list['Core Thread']}\\\"\",\n",
    "                model=behavior_element._model,\n",
    "                specific_fields={},\n",
    "                feature_type=None,\n",
    "                direction = \"\",\n",
    "                metatype = \"OccurrenceUsage\",\n",
    "                connector_end = False,\n",
    "            )\n",
    "\n",
    "            self.working_slice_activation.update({new_working_slice: start_succession.target[0]})\n",
    "\n",
    "            self.working_slices.update({'Core Thread': new_working_slice})\n",
    "    \n",
    "    def consider_current_step(self):\n",
    "        \"\"\"\n",
    "        Cycle through the current working slices to see if there is a set of steps \n",
    "        inside the step to take.\n",
    "        \"\"\"\n",
    "\n",
    "        for thread_name, working_slice in self.working_slices.items():\n",
    "\n",
    "            original_step = self.working_slice_activation[working_slice]\n",
    "\n",
    "            print(f\"Considering {original_step} within {working_slice}\")\n",
    "\n",
    "            internal_steps = False\n",
    "\n",
    "            for feature in original_step.throughFeatureMembership:\n",
    "                if feature._metatype in (\"ActionUsage\", \"AssignActionUsage\"):\n",
    "                    print(f\"Found subsetep {feature} within {working_slice}\")\n",
    "\n",
    "                    internal_steps = True\n",
    "\n",
    "            if not internal_steps:\n",
    "                self.consider_next_step()\n",
    "    \n",
    "    def consider_next_step(self):\n",
    "        \"\"\"\n",
    "        Cycle through the current working slices to see if there is yet a new step \n",
    "        to take. Eventually order next steps by time.\n",
    "        \"\"\"\n",
    "\n",
    "        for thread_name, working_slice in self.working_slices.items():\n",
    "\n",
    "            original_step = self.working_slice_activation[working_slice]\n",
    "\n",
    "            for next_step in original_step.throughSuccessionAsUsage:\n",
    "                print(f\"Found next step as {next_step}\")\n",
    "\n",
    "    def record_slice(self):\n",
    "        \"\"\"\n",
    "        Record the new time slices ... this should probably move to the working structure.\n",
    "        \"\"\""
   ]
  },
  {
   "cell_type": "code",
   "execution_count": null,
   "id": "d1a760c3-a9f1-4c8c-9137-680f4e7e7424",
   "metadata": {},
   "outputs": [],
   "source": [
    "executor = ForwardSysMLExecution()"
   ]
  },
  {
   "cell_type": "code",
   "execution_count": null,
   "id": "07ffa21a-29b7-45e7-b780-bbb52ad1a304",
   "metadata": {},
   "outputs": [],
   "source": [
    "executor.start_execution(target_package=trace_package, execution_name=\"Loop Trial\")"
   ]
  },
  {
   "cell_type": "code",
   "execution_count": null,
   "id": "56dd9fca-3648-44ab-86ee-fde396a5466e",
   "metadata": {},
   "outputs": [],
   "source": [
    "executor.start_behavior(behavior_element=action_to_execute, new_owner=None)"
   ]
  },
  {
   "cell_type": "code",
   "execution_count": null,
   "id": "f100eb0f-28d4-4144-b59e-c33fccc57f4d",
   "metadata": {},
   "outputs": [],
   "source": [
    "executor.consider_current_step()"
   ]
  },
  {
   "cell_type": "code",
   "execution_count": null,
   "id": "e0e80af1-ce54-4e2e-bb97-5f9d4e04df5b",
   "metadata": {},
   "outputs": [],
   "source": [
    "executor.current_frame_list"
   ]
  },
  {
   "cell_type": "code",
   "execution_count": null,
   "id": "6993f693-924d-4cc4-bc55-5188c195a62c",
   "metadata": {},
   "outputs": [],
   "source": [
    "trace_package.throughOwningMembership"
   ]
  },
  {
   "cell_type": "code",
   "execution_count": null,
   "id": "a011d7d8-9a7d-4636-abf9-a310ddd2cff7",
   "metadata": {},
   "outputs": [],
   "source": [
    "trace_package.throughOwningMembership[0].throughFeatureMembership[0]"
   ]
  },
  {
   "cell_type": "code",
   "execution_count": null,
   "id": "4cbefc8c-15c2-409d-9e63-e3d29cf278a7",
   "metadata": {},
   "outputs": [],
   "source": [
    "actions = [ele for ele in loop_data.elements.values() if ele._metatype == 'ActionUsage']\n",
    "actions"
   ]
  },
  {
   "cell_type": "code",
   "execution_count": null,
   "id": "7efe9fdd-f431-4bfa-943c-e01045ca0572",
   "metadata": {},
   "outputs": [],
   "source": [
    "features = action_to_execute.throughFeatureMembership\n",
    "features"
   ]
  },
  {
   "cell_type": "code",
   "execution_count": null,
   "id": "af5535f5-2291-4159-8911-d8fda7b1ab09",
   "metadata": {},
   "outputs": [],
   "source": [
    "[ele for ele in action_to_execute.throughFeatureMembership\n",
    "     if hasattr(ele, \"throughSuccessionAsUsage\") or hasattr(ele, \"throughTransitionUsage\")]"
   ]
  },
  {
   "cell_type": "code",
   "execution_count": null,
   "id": "1a52044a-b488-484a-b24c-64ac8fd7081b",
   "metadata": {},
   "outputs": [],
   "source": []
  }
 ],
 "metadata": {
  "kernelspec": {
   "display_name": "Python 3 (ipykernel)",
   "language": "python",
   "name": "python3"
  },
  "language_info": {
   "codemirror_mode": {
    "name": "ipython",
    "version": 3
   },
   "file_extension": ".py",
   "mimetype": "text/x-python",
   "name": "python",
   "nbconvert_exporter": "python",
   "pygments_lexer": "ipython3",
   "version": "3.12.5"
  }
 },
 "nbformat": 4,
 "nbformat_minor": 5
}
