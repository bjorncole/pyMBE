{
 "cells": [
  {
   "cell_type": "markdown",
   "id": "22566df0-51c6-471f-8e15-152f483691e2",
   "metadata": {},
   "source": [
    "# Expressions in SysML\n",
    "\n",
    "Expressions in SysML can turn into deeply nested trees. This notebook shows how to work with them."
   ]
  },
  {
   "cell_type": "code",
   "execution_count": null,
   "id": "543ceee9-6b44-4dc3-9bb7-8a7c1b95e70f",
   "metadata": {},
   "outputs": [],
   "source": [
    "import json\n",
    "from importlib import resources as lib_resources\n",
    "import pymbe.api as pm\n",
    "\n",
    "from pymbe.model import Element\n",
    "\n",
    "from uuid import uuid4\n",
    "\n",
    "from pymbe.query.metamodel_navigator import \\\n",
    "    get_effective_basic_name, get_effective_lower_multiplicity, get_effective_upper_multiplicity, get_most_specific_feature_type\n",
    "\n",
    "from pymbe.model_modification import (\n",
    "    build_from_classifier_pattern,\n",
    "    build_from_feature_pattern,\n",
    "    assign_value_by_literal_expression,\n",
    "    assign_multiple_values_with_fre,\n",
    "    create_element_data_dictionary,\n",
    "    build_from_expression_pattern,\n",
    "    build_from_parameter_pattern,\n",
    "    assign_feature_value_to_expression,\n",
    ")\n",
    "\n",
    "from pymbe.text_concrete_syntax import serialize_sysml_package"
   ]
  },
  {
   "cell_type": "code",
   "execution_count": null,
   "id": "69a09718-4f00-4f9c-96b1-d42de2a7a75c",
   "metadata": {},
   "outputs": [],
   "source": [
    "library_model = None\n",
    "\n",
    "with lib_resources.path(\"pymbe.static_data\", \"SystemsLibrary.json\") as lib_data1:\n",
    "    with lib_resources.path(\"pymbe.static_data\", \"KernelLibraryExpanded.json\") as lib_data2:\n",
    "            library_model = pm.Model.load_from_mult_post_files([lib_data1, lib_data2])"
   ]
  },
  {
   "cell_type": "code",
   "execution_count": null,
   "id": "cfe69e46-3928-4a33-bb5c-609313ca9f77",
   "metadata": {},
   "outputs": [],
   "source": [
    "empty_model = pm.Model(elements={})\n",
    "\n",
    "package_model_namespace_data = {\n",
    "    \"aliasIds\": [],\n",
    "    \"isImpliedIncluded\": False,\n",
    "    \"@type\": \"Namespace\",\n",
    "    \"@id\": str(uuid4()),\n",
    "    \"ownedRelationship\": [],\n",
    "}\n",
    "\n",
    "package_model_data = {\n",
    "    \"name\": \"SysML Value Model\",\n",
    "    \"declaredName\": \"SysML Value Model\",\n",
    "    \"isLibraryElement\": False,\n",
    "    \"filterCondition\": [],\n",
    "    \"ownedElement\": [],\n",
    "    \"owner\": {},\n",
    "    \"@type\": \"Package\",\n",
    "    \"@id\": str(uuid4()),\n",
    "    \"ownedRelationship\": [],\n",
    "}\n",
    "\n",
    "new_ns = Element.new(data=package_model_namespace_data, model=empty_model)\n",
    "\n",
    "new_package = Element.new(data=package_model_data, model=empty_model)\n",
    "\n",
    "empty_model.reference_other_model(library_model)"
   ]
  },
  {
   "cell_type": "markdown",
   "id": "f3e0bfd1-8a4b-424b-9b00-cda5380cc6f7",
   "metadata": {},
   "source": [
    "## Generating Expressions\n",
    "\n",
    "Elements in an expression tree reference each other in a cyclical way, where nodes need owners but when owners are serialized, the serializations of their children are included. To get around this, the generation of serialization is held off until the expression is fully built. First parameters and the expressions relating them are generated, then values are assigned to inputs as needed to build up the expression tree. The value assignment call also sets up ownership of the expressions within the model."
   ]
  },
  {
   "cell_type": "markdown",
   "id": "f051b83a-07b6-49dc-aa90-d84bbccfe355",
   "metadata": {},
   "source": [
    "### Example 1: Simple addition and subtraction\n",
    "\n",
    "Do a binary operation with the + symbol and then the second part of the expression is a subtraction."
   ]
  },
  {
   "cell_type": "code",
   "execution_count": null,
   "id": "08efc27b-d9fc-4330-aa32-f2f2049f3e3c",
   "metadata": {},
   "outputs": [],
   "source": [
    "sf_ns = [\n",
    "        library_model_ns\n",
    "        for library_model_ns in library_model.ownedElement\n",
    "        if library_model_ns.throughOwningMembership[0].declaredName == \"ScalarFunctions\"\n",
    "    ][0]"
   ]
  },
  {
   "cell_type": "code",
   "execution_count": null,
   "id": "b46fc077-f89b-47ae-a314-3aa734a1ad78",
   "metadata": {},
   "outputs": [],
   "source": [
    "plus_func = sf_ns.throughOwningMembership[0].throughOwningMembership[1]"
   ]
  },
  {
   "cell_type": "code",
   "execution_count": null,
   "id": "90a5877c-44b3-4423-b98c-42453a2aec35",
   "metadata": {},
   "outputs": [],
   "source": [
    "minus_fuc = sf_ns.throughOwningMembership[0].throughOwningMembership[2]"
   ]
  },
  {
   "cell_type": "markdown",
   "id": "f217ed52-39cf-4e29-935e-c7043b0e8dc8",
   "metadata": {},
   "source": [
    "Create literal expressions, which have only return parameters, first so they can be added to the expression tree for higher-order operations."
   ]
  },
  {
   "cell_type": "code",
   "execution_count": null,
   "id": "a356ef02-b2c5-4c65-82a5-392bf77eba89",
   "metadata": {},
   "outputs": [],
   "source": [
    "lr1_return_para = build_from_parameter_pattern(\n",
    "        name=\"result\",\n",
    "        model=empty_model,\n",
    "        specific_fields={},\n",
    "        feature_type=None,\n",
    "        direction=\"out\",\n",
    "        metatype=\"Feature\",\n",
    "        returning_parameter=True,\n",
    "    )\n",
    "lr1_return_para"
   ]
  },
  {
   "cell_type": "code",
   "execution_count": null,
   "id": "3a00ad77-de34-400b-a466-d055d119df58",
   "metadata": {},
   "outputs": [],
   "source": [
    "lr1 = build_from_expression_pattern(\n",
    "    model=empty_model,\n",
    "    specific_fields={\"value\": 3.4},\n",
    "    metatype=\"LiteralRational\",\n",
    "    in_paras=[],\n",
    "    return_para=lr1_return_para\n",
    ")\n",
    "lr1"
   ]
  },
  {
   "cell_type": "code",
   "execution_count": null,
   "id": "a115cb72-064b-4869-a404-4557fa7220bd",
   "metadata": {},
   "outputs": [],
   "source": [
    "lr2_return_para = build_from_parameter_pattern(\n",
    "        name=\"result\",\n",
    "        model=empty_model,\n",
    "        specific_fields={},\n",
    "        feature_type=None,\n",
    "        direction=\"out\",\n",
    "        metatype=\"Feature\",\n",
    "        returning_parameter=True,\n",
    "    )\n",
    "lr2_return_para"
   ]
  },
  {
   "cell_type": "code",
   "execution_count": null,
   "id": "b169e688-d6e6-43ab-8c13-21d85521a9ed",
   "metadata": {},
   "outputs": [],
   "source": [
    "lr2 = build_from_expression_pattern(\n",
    "    model=empty_model,\n",
    "    specific_fields={\"value\": 6.7},\n",
    "    metatype=\"LiteralRational\",\n",
    "    in_paras=[],\n",
    "    return_para=lr1_return_para\n",
    ")\n",
    "lr2"
   ]
  },
  {
   "cell_type": "code",
   "execution_count": null,
   "id": "9e54ec3a-cd8a-4502-8c15-6cea9a195b5f",
   "metadata": {},
   "outputs": [],
   "source": [
    "lr3_return_para = build_from_parameter_pattern(\n",
    "        name=\"result\",\n",
    "        model=empty_model,\n",
    "        specific_fields={},\n",
    "        feature_type=None,\n",
    "        direction=\"out\",\n",
    "        metatype=\"Feature\",\n",
    "        returning_parameter=True,\n",
    "    )\n",
    "lr3_return_para"
   ]
  },
  {
   "cell_type": "code",
   "execution_count": null,
   "id": "3f696c74-af2b-4886-9d70-e18255962342",
   "metadata": {},
   "outputs": [],
   "source": [
    "lr3 = build_from_expression_pattern(\n",
    "    model=empty_model,\n",
    "    specific_fields={\"value\": 11.1},\n",
    "    metatype=\"LiteralRational\",\n",
    "    in_paras=[],\n",
    "    return_para=lr3_return_para\n",
    ")\n",
    "lr3"
   ]
  },
  {
   "cell_type": "code",
   "execution_count": null,
   "id": "a4414ce0-c9f0-4e81-93e9-10744087094e",
   "metadata": {},
   "outputs": [],
   "source": [
    "adder_x_para = build_from_parameter_pattern(\n",
    "    name=\"x\",\n",
    "    model=empty_model,\n",
    "    specific_fields={},\n",
    "    feature_type=None,\n",
    "    direction=\"in\",\n",
    "    metatype=\"Feature\",\n",
    "    returning_parameter=False,\n",
    ")"
   ]
  },
  {
   "cell_type": "code",
   "execution_count": null,
   "id": "f6e7e33f-6a39-45cc-9081-187482ad7aae",
   "metadata": {},
   "outputs": [],
   "source": [
    "adder_y_para = build_from_parameter_pattern(\n",
    "    name=\"y\",\n",
    "    model=empty_model,\n",
    "    specific_fields={},\n",
    "    feature_type=None,\n",
    "    direction=\"in\",\n",
    "    metatype=\"Feature\",\n",
    "    returning_parameter=False,\n",
    ")"
   ]
  },
  {
   "cell_type": "code",
   "execution_count": null,
   "id": "15ceabc8-9ce4-480d-9f8e-c14e5b15edf2",
   "metadata": {},
   "outputs": [],
   "source": [
    "adder_return_para = build_from_parameter_pattern(\n",
    "    name=\"result\",\n",
    "    model=empty_model,\n",
    "    specific_fields={},\n",
    "    feature_type=None,\n",
    "    direction=\"out\",\n",
    "    metatype=\"Feature\",\n",
    "    returning_parameter=True,\n",
    ")"
   ]
  },
  {
   "cell_type": "code",
   "execution_count": null,
   "id": "e49bb2cc-58ed-4f0c-8a01-39e6f2fcd9e8",
   "metadata": {},
   "outputs": [],
   "source": [
    "subtractor_x_para = build_from_parameter_pattern(\n",
    "    name=\"x\",\n",
    "    model=empty_model,\n",
    "    specific_fields={},\n",
    "    feature_type=None,\n",
    "    direction=\"in\",\n",
    "    metatype=\"Feature\",\n",
    "    returning_parameter=False,\n",
    ")"
   ]
  },
  {
   "cell_type": "code",
   "execution_count": null,
   "id": "f30dbbd5-e308-41a2-91f4-157eaae7a9af",
   "metadata": {},
   "outputs": [],
   "source": [
    "subtractor_y_para = build_from_parameter_pattern(\n",
    "    name=\"y\",\n",
    "    model=empty_model,\n",
    "    specific_fields={},\n",
    "    feature_type=None,\n",
    "    direction=\"in\",\n",
    "    metatype=\"Feature\",\n",
    "    returning_parameter=False,\n",
    ")"
   ]
  },
  {
   "cell_type": "code",
   "execution_count": null,
   "id": "11cbfdb8-33e3-475b-bec4-325fb8784648",
   "metadata": {},
   "outputs": [],
   "source": [
    "subtractor_return_para = build_from_parameter_pattern(\n",
    "    name=\"result\",\n",
    "    model=empty_model,\n",
    "    specific_fields={},\n",
    "    feature_type=None,\n",
    "    direction=\"out\",\n",
    "    metatype=\"Feature\",\n",
    "    returning_parameter=True,\n",
    ")"
   ]
  },
  {
   "cell_type": "markdown",
   "id": "d504de1a-5fe0-4aab-bb56-f56af8f33e40",
   "metadata": {},
   "source": [
    "First build the second part of the expression (the subtraction)."
   ]
  },
  {
   "cell_type": "code",
   "execution_count": null,
   "id": "f79fac21-75cf-4206-a57d-80e79576d5c0",
   "metadata": {},
   "outputs": [],
   "source": [
    "subtractor = build_from_expression_pattern(\n",
    "    model=empty_model,\n",
    "    specific_fields={\"operator\": get_effective_basic_name(minus_fuc)},\n",
    "    metatype=\"OperatorExpression\",\n",
    "    in_paras=[subtractor_x_para, subtractor_y_para],\n",
    "    return_para=subtractor_return_para\n",
    ")"
   ]
  },
  {
   "cell_type": "code",
   "execution_count": null,
   "id": "bd9869ed-5177-43e8-81e2-48b2a193a84a",
   "metadata": {},
   "outputs": [],
   "source": [
    "assign_feature_value_to_expression(\n",
    "    target_feature=subtractor_x_para,\n",
    "    expr=lr2,\n",
    "    model=empty_model\n",
    ")"
   ]
  },
  {
   "cell_type": "code",
   "execution_count": null,
   "id": "2cf3f77d-1905-4364-bd1a-c6f05d53217c",
   "metadata": {},
   "outputs": [],
   "source": [
    "assign_feature_value_to_expression(\n",
    "    target_feature=subtractor_y_para,\n",
    "    expr=lr3,\n",
    "    model=empty_model\n",
    ")"
   ]
  },
  {
   "cell_type": "markdown",
   "id": "a0fccab4-6a7b-480c-b9d1-3d64383a4a44",
   "metadata": {},
   "source": [
    "With the subtractor side built, now add in the adder side."
   ]
  },
  {
   "cell_type": "code",
   "execution_count": null,
   "id": "0ac600c6-965a-41ac-9a64-d02c48eceee2",
   "metadata": {},
   "outputs": [],
   "source": [
    "assign_feature_value_to_expression(\n",
    "    target_feature=adder_x_para,\n",
    "    expr=lr1,\n",
    "    model=empty_model\n",
    ")"
   ]
  },
  {
   "cell_type": "code",
   "execution_count": null,
   "id": "93dbcc33-a0b8-404f-aca5-8fdabf7646bf",
   "metadata": {},
   "outputs": [],
   "source": [
    "assign_feature_value_to_expression(\n",
    "    target_feature=adder_y_para,\n",
    "    expr=subtractor,\n",
    "    model=empty_model\n",
    ")"
   ]
  },
  {
   "cell_type": "code",
   "execution_count": null,
   "id": "ddb92275-4b27-43d4-acae-194d96329b5e",
   "metadata": {},
   "outputs": [],
   "source": [
    "adder = build_from_expression_pattern(\n",
    "    model=empty_model,\n",
    "    specific_fields={\"operator\": get_effective_basic_name(plus_func)},\n",
    "    metatype=\"OperatorExpression\",\n",
    "    in_paras=[adder_x_para, adder_y_para],\n",
    "    return_para=adder_return_para\n",
    ")"
   ]
  },
  {
   "cell_type": "code",
   "execution_count": null,
   "id": "5ec7151f-f2db-4f93-9b8d-4b3383ee0bfd",
   "metadata": {},
   "outputs": [],
   "source": [
    "subtractor"
   ]
  },
  {
   "cell_type": "code",
   "execution_count": null,
   "id": "50abcd24-97e5-4cca-800f-e0a8b118719f",
   "metadata": {},
   "outputs": [],
   "source": [
    "adder"
   ]
  },
  {
   "cell_type": "code",
   "execution_count": null,
   "id": "f10b59b8-0bdd-4ee5-a20a-7fef2c8936e6",
   "metadata": {},
   "outputs": [],
   "source": []
  }
 ],
 "metadata": {
  "kernelspec": {
   "display_name": "Python 3 (ipykernel)",
   "language": "python",
   "name": "python3"
  },
  "language_info": {
   "codemirror_mode": {
    "name": "ipython",
    "version": 3
   },
   "file_extension": ".py",
   "mimetype": "text/x-python",
   "name": "python",
   "nbconvert_exporter": "python",
   "pygments_lexer": "ipython3",
   "version": "3.9.6"
  }
 },
 "nbformat": 4,
 "nbformat_minor": 5
}
