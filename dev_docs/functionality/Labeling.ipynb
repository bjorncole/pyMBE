{
 "cells": [
  {
   "cell_type": "markdown",
   "id": "de3dbbf5-ac72-43a8-b416-73318c1d1847",
   "metadata": {},
   "source": [
    "# Labeling Algorithms\n",
    "\n",
    "This notebook walks through segments of the PyMBE code base that pertain to generating labels from elements when there is not a clear user name but rather the label should be assembled from other attributes of the element and/or its owned elements."
   ]
  },
  {
   "cell_type": "markdown",
   "id": "d922a615-a2b9-4ee0-94d6-f8d92c72cc8d",
   "metadata": {},
   "source": [
    "The approach for complicated labels is to look at label fragments and how they can be combined in order to generate an integrated string."
   ]
  },
  {
   "cell_type": "code",
   "execution_count": null,
   "id": "56ac97ab-7042-450c-802a-f3330d75216b",
   "metadata": {
    "tags": [
     "labeling",
     "code_block_1"
    ]
   },
   "outputs": [],
   "source": [
    "import inspect\n",
    "import pymbe.api as pm\n",
    "from pymbe.model import Element, Model\n",
    "from pymbe.label import get_label_for_expression"
   ]
  },
  {
   "cell_type": "code",
   "execution_count": null,
   "id": "a9af7e66-f5fd-41c0-b8fc-03bfca0957b0",
   "metadata": {},
   "outputs": [],
   "source": [
    "print(inspect.getsource(get_label_for_expression))"
   ]
  },
  {
   "cell_type": "code",
   "execution_count": null,
   "id": "e5c0acc0-106b-4c77-9bd2-97f998544e2d",
   "metadata": {},
   "outputs": [],
   "source": [
    "new_model = Model.load_from_post_file(\"../../tests/fixtures/Model_Loader_Test_Level_3.json\")"
   ]
  },
  {
   "cell_type": "code",
   "execution_count": null,
   "id": "a66417d2-79f7-4267-a1e2-2aac73fe4584",
   "metadata": {},
   "outputs": [],
   "source": [
    "new_model"
   ]
  },
  {
   "cell_type": "code",
   "execution_count": null,
   "id": "b3761181-64ca-4c45-abf2-d99c76fa1e2f",
   "metadata": {},
   "outputs": [],
   "source": [
    "new_model.ownedMetatype[\"Invariant\"]"
   ]
  },
  {
   "cell_type": "code",
   "execution_count": null,
   "id": "6329aec4-54c3-4c91-ab31-15078decb543",
   "metadata": {},
   "outputs": [],
   "source": [
    "new_model.elements"
   ]
  },
  {
   "cell_type": "code",
   "execution_count": null,
   "id": "8ac2c0e8-bdb4-4a57-a7f6-93a60de4c065",
   "metadata": {},
   "outputs": [],
   "source": [
    "myInvar = new_model.ownedMetatype[\"Invariant\"][-1]"
   ]
  },
  {
   "cell_type": "code",
   "execution_count": null,
   "id": "a454a65c-babd-4d2d-bc98-6786b9e2cc32",
   "metadata": {},
   "outputs": [],
   "source": [
    "myInvar"
   ]
  },
  {
   "cell_type": "code",
   "execution_count": null,
   "id": "766f21e1-854c-4661-b483-f2bc8d612a3b",
   "metadata": {},
   "outputs": [],
   "source": [
    "myInvar.throughResultExpressionMembership[0].operator"
   ]
  },
  {
   "cell_type": "code",
   "execution_count": null,
   "id": "992fe483-2c22-4db4-b80d-0e0d64c2339a",
   "metadata": {},
   "outputs": [],
   "source": [
    "for invar in new_model.ownedMetatype[\"Invariant\"]:\n",
    "    print(get_label_for_expression(invar.throughResultExpressionMembership[0]))"
   ]
  },
  {
   "cell_type": "code",
   "execution_count": null,
   "id": "4894e165-cbdd-4e87-b7a8-86b5d875ac03",
   "metadata": {},
   "outputs": [],
   "source": [
    "new_model.ownedMetatype[\"Invariant\"]"
   ]
  },
  {
   "cell_type": "code",
   "execution_count": null,
   "id": "2ae7233e-a9de-489a-b302-4aa73a6da04c",
   "metadata": {},
   "outputs": [],
   "source": [
    "expr = myInvar.throughResultExpressionMembership[0]"
   ]
  },
  {
   "cell_type": "code",
   "execution_count": null,
   "id": "f1eddb5c-3fcd-480d-b1a4-f6e06fe9bbc4",
   "metadata": {},
   "outputs": [],
   "source": [
    "expr.throughParameterMembership"
   ]
  },
  {
   "cell_type": "code",
   "execution_count": null,
   "id": "ce247447-c64c-4169-8306-cdb477c0ed06",
   "metadata": {},
   "outputs": [],
   "source": [
    "expr.throughReturnParameterMembership"
   ]
  },
  {
   "cell_type": "code",
   "execution_count": null,
   "id": "9b313c1f-8ed4-48ca-8971-9ab91366abb4",
   "metadata": {},
   "outputs": [],
   "source": [
    "level1 = Model.load_from_post_file(\"../../tests/fixtures/Model_Loader_Test_Level_1.json\")"
   ]
  },
  {
   "cell_type": "code",
   "execution_count": null,
   "id": "660e03a0-6d9a-417d-b8f1-1e610bd98b63",
   "metadata": {},
   "outputs": [],
   "source": [
    "features = [ele for ele in level1.elements.values() if ele._metatype == \"Feature\"]\n",
    "features"
   ]
  },
  {
   "cell_type": "code",
   "execution_count": null,
   "id": "80a5b91d-acf5-4b2a-89be-f9b294eb6764",
   "metadata": {},
   "outputs": [],
   "source": [
    "classifiers = [ele for ele in level1.elements.values() if ele._metatype == \"Classifier\"]\n",
    "classifiers"
   ]
  },
  {
   "cell_type": "code",
   "execution_count": null,
   "id": "2143d027-d1ab-4e75-9de9-ef7e596af9b9",
   "metadata": {},
   "outputs": [],
   "source": [
    "fts = [ele for ele in level1.elements.values() if ele._metatype == \"FeatureTyping\"]\n",
    "fts"
   ]
  },
  {
   "cell_type": "code",
   "execution_count": null,
   "id": "55a4974b-6a73-4a50-9b3a-dea0be9f1f08",
   "metadata": {},
   "outputs": [],
   "source": [
    "features[0]._data"
   ]
  },
  {
   "cell_type": "code",
   "execution_count": null,
   "id": "8f70ac93-273d-4e74-a2a5-d1db9a18c881",
   "metadata": {},
   "outputs": [],
   "source": [
    "oes = [ele for ele in new_model.elements.values() if ele._metatype == \"OperatorExpression\"]\n",
    "oes"
   ]
  },
  {
   "cell_type": "code",
   "execution_count": null,
   "id": "7095b0f7-efe1-4b40-90ac-2bb5b4c5956b",
   "metadata": {},
   "outputs": [],
   "source": [
    "oes[0]._derived[\"label\"]"
   ]
  },
  {
   "cell_type": "code",
   "execution_count": null,
   "id": "9ee42119-0460-4b6c-98d8-0152c0f8f79b",
   "metadata": {},
   "outputs": [],
   "source": [
    "fres = [ele for ele in new_model.elements.values() if ele._metatype == \"FeatureReferenceExpression\"]\n",
    "fres"
   ]
  },
  {
   "cell_type": "code",
   "execution_count": null,
   "id": "cfe468ff-9ba7-4740-966d-5cebcffb8b0e",
   "metadata": {},
   "outputs": [],
   "source": [
    "pms = [ele for ele in new_model.elements.values() if ele._metatype == \"ParameterMembership\"]\n",
    "pms[0].target[0].reverseParameterMembership"
   ]
  },
  {
   "cell_type": "code",
   "execution_count": null,
   "id": "c82486c9-3e11-4a8f-91c6-f4c005adb793",
   "metadata": {},
   "outputs": [],
   "source": [
    "pms"
   ]
  },
  {
   "cell_type": "code",
   "execution_count": null,
   "id": "eccb9161-24e0-4f15-90e2-9c6d131c3658",
   "metadata": {},
   "outputs": [],
   "source": [
    "rpms = [ele for ele in new_model.elements.values() if ele._metatype == \"ReturnParameterMembership\"]\n",
    "rpms"
   ]
  },
  {
   "cell_type": "code",
   "execution_count": null,
   "id": "6abf9de4-d152-4153-80db-ae635367be7c",
   "metadata": {},
   "outputs": [],
   "source": [
    "pms[0].target[0]._data"
   ]
  },
  {
   "cell_type": "code",
   "execution_count": null,
   "id": "a7b7910e-56f0-46f2-81c5-92ae58983edc",
   "metadata": {},
   "outputs": [],
   "source": [
    "pms[0].target[0].reverseParameterMembership[0]._data"
   ]
  },
  {
   "cell_type": "code",
   "execution_count": null,
   "id": "d3b29b55-44f3-4b8c-aa4b-4226853f28d6",
   "metadata": {},
   "outputs": [],
   "source": []
  }
 ],
 "metadata": {
  "kernelspec": {
   "display_name": "Python 3 (ipykernel)",
   "language": "python",
   "name": "python3"
  },
  "language_info": {
   "codemirror_mode": {
    "name": "ipython",
    "version": 3
   },
   "file_extension": ".py",
   "mimetype": "text/x-python",
   "name": "python",
   "nbconvert_exporter": "python",
   "pygments_lexer": "ipython3",
   "version": "3.9.6"
  }
 },
 "nbformat": 4,
 "nbformat_minor": 5
}
