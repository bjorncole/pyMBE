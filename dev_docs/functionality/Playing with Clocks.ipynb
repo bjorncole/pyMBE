{
 "cells": [
  {
   "cell_type": "markdown",
   "id": "e9f05554-4b08-419f-8d43-2377ab1933d2",
   "metadata": {},
   "source": [
    "# Playing with Clock Execution\n",
    "\n",
    "Trying out library Clocks with execution."
   ]
  },
  {
   "cell_type": "code",
   "execution_count": null,
   "id": "f8dcdba5-8800-43a4-83f1-c380b4115866",
   "metadata": {},
   "outputs": [],
   "source": [
    "import json\n",
    "import pymbe.api as pm\n",
    "\n",
    "import copy\n",
    "\n",
    "from importlib import resources as lib_resources\n",
    "\n",
    "from pathlib import Path\n",
    "\n",
    "from typing import Any, Collection, Dict, List, Tuple, Union\n",
    "\n",
    "from pymbe.model import Model, Element\n",
    "from pymbe.model_modification import *\n",
    "\n",
    "from pymbe.query.metamodel_navigator import is_type_undefined_mult, \\\n",
    "                                    is_multiplicity_one, \\\n",
    "                                    is_multiplicity_specific_finite, \\\n",
    "                                    get_finite_multiplicity_types, \\\n",
    "                                    identify_connectors_one_side, \\\n",
    "                                    get_lower_multiplicity, \\\n",
    "                                    get_upper_multiplicity, \\\n",
    "                                    does_behavior_have_write_features, \\\n",
    "                                    get_most_specific_feature_type, \\\n",
    "                                    has_type_named, \\\n",
    "                                    get_effective_lower_multiplicity, \\\n",
    "                                    get_feature_bound_values, \\\n",
    "                                    get_more_general_types\n",
    "\n",
    "from pymbe.metamodel import derive_inherited_featurememberships\n",
    "\n",
    "from pymbe.interpretation.working_maps import FeatureTypeWorkingMap\n",
    "from pymbe.interpretation.execute_kerml_atoms import KermlForwardExecutor\n",
    "\n",
    "from uuid import uuid4"
   ]
  },
  {
   "cell_type": "code",
   "execution_count": null,
   "id": "cf0ded1a-89df-45e4-82b6-4998883fcaf2",
   "metadata": {},
   "outputs": [],
   "source": [
    "library_model = None\n",
    "\n",
    "with lib_resources.path(\"pymbe.static_data\", \"KernelLibrary.json\") as lib_data:\n",
    "    library_model = pm.Model.load_from_post_file(lib_data)"
   ]
  },
  {
   "cell_type": "code",
   "execution_count": null,
   "id": "b74b648c-a848-45f1-b2a5-e74cfd9e1517",
   "metadata": {},
   "outputs": [],
   "source": [
    "clock_ns = [library_model_ns for library_model_ns in library_model.ownedElement if library_model_ns.throughOwningMembership[0].declaredName == 'Clocks'][0]"
   ]
  },
  {
   "cell_type": "code",
   "execution_count": null,
   "id": "a2fd201b-7754-47d7-92d0-e613dfef2673",
   "metadata": {},
   "outputs": [],
   "source": [
    "empty_model = pm.Model(elements={})\n",
    "\n",
    "package_model_namespace_data = {\n",
    "    \"aliasIds\": [],\n",
    "    \"isImpliedIncluded\": False,\n",
    "    \"@type\": \"Namespace\",\n",
    "    \"@id\": str(uuid4()),\n",
    "    \"ownedRelationship\": [],\n",
    "}\n",
    "\n",
    "package_model_data = {\n",
    "    \"name\": \"User Process Model\",\n",
    "    \"isLibraryElement\": False,\n",
    "    \"filterCondition\": [],\n",
    "    \"ownedElement\": [],\n",
    "    \"owner\": {},\n",
    "    \"@type\": \"Package\",\n",
    "    \"@id\": str(uuid4()),\n",
    "    \"ownedRelationship\": [],\n",
    "}\n",
    "\n",
    "new_ns = Element.new(data=package_model_namespace_data, model=empty_model)\n",
    "\n",
    "new_package = Element.new(data=package_model_data, model=empty_model)"
   ]
  },
  {
   "cell_type": "code",
   "execution_count": null,
   "id": "e6c37260-63b3-48c6-8568-da996f3b93c4",
   "metadata": {},
   "outputs": [],
   "source": [
    "empty_model.reference_other_model(library_model)"
   ]
  },
  {
   "cell_type": "code",
   "execution_count": null,
   "id": "79078bc2-54d7-4dc3-8b75-316a3561f83d",
   "metadata": {},
   "outputs": [],
   "source": [
    "clock_ns.throughOwningMembership[0].throughOwningMembership"
   ]
  },
  {
   "cell_type": "code",
   "execution_count": null,
   "id": "c7ef77bf-7273-4d07-96db-2d94403462fd",
   "metadata": {},
   "outputs": [],
   "source": [
    "clock_structure = clock_ns.throughOwningMembership[0].throughOwningMembership[3]\n",
    "clock_structure"
   ]
  },
  {
   "cell_type": "code",
   "execution_count": null,
   "id": "36880acc-bf06-4863-8bc1-e24b62ccc788",
   "metadata": {},
   "outputs": [],
   "source": [
    "clock_structure.throughFeatureMembership"
   ]
  },
  {
   "cell_type": "code",
   "execution_count": null,
   "id": "bd317cc7-99fd-4ce9-b6e0-ddd0588ee830",
   "metadata": {},
   "outputs": [],
   "source": [
    "clock_structure.throughFeatureMembership[2]"
   ]
  },
  {
   "cell_type": "code",
   "execution_count": null,
   "id": "14db80ba-1bfd-41f5-a15d-22144255685c",
   "metadata": {},
   "outputs": [],
   "source": [
    "clock_structure.throughFeatureMembership[2]._derived"
   ]
  },
  {
   "cell_type": "code",
   "execution_count": null,
   "id": "c62b3640-c01c-4e3a-8f54-72a4b7cce7c2",
   "metadata": {},
   "outputs": [],
   "source": [
    "clock_structure.throughFeatureMembership[2].throughResultExpressionMembership"
   ]
  },
  {
   "cell_type": "code",
   "execution_count": null,
   "id": "cb355f79-5e42-4d94-a2e9-6df598100aad",
   "metadata": {},
   "outputs": [],
   "source": [
    "clock_structure.throughFeatureMembership[2].throughResultExpressionMembership[0]._derived"
   ]
  },
  {
   "cell_type": "code",
   "execution_count": null,
   "id": "99745b31-dedd-4742-8dcc-88b802097071",
   "metadata": {},
   "outputs": [],
   "source": [
    "clock_structure.throughFeatureMembership[2].throughResultExpressionMembership[0]._data"
   ]
  },
  {
   "cell_type": "code",
   "execution_count": null,
   "id": "40036d5e-4a7e-4681-a3dd-9fd41e438a82",
   "metadata": {},
   "outputs": [],
   "source": [
    "clock_structure.throughFeatureMembership[2].throughResultExpressionMembership[0].throughParameterMembership[1].throughFeatureValue[0].throughFeatureMembership[0]"
   ]
  },
  {
   "cell_type": "code",
   "execution_count": null,
   "id": "de92b4aa-f070-41c0-b738-491c5bfb95e5",
   "metadata": {},
   "outputs": [],
   "source": [
    "clock_structure.throughFeatureMembership[2].throughResultExpressionMembership[0].throughParameterMembership[1].throughFeatureValue[0].throughFeatureMembership[0].\\\n",
    "    throughResultExpressionMembership[0]"
   ]
  },
  {
   "cell_type": "code",
   "execution_count": null,
   "id": "989e935b-7a31-446b-98d8-a8373703d0f6",
   "metadata": {},
   "outputs": [],
   "source": [
    "fce = clock_structure.throughFeatureMembership[2].throughResultExpressionMembership[0].throughParameterMembership[1].throughFeatureValue[0].throughFeatureMembership[0].\\\n",
    "    throughResultExpressionMembership[0].throughParameterMembership[1].throughFeatureValue[0]"
   ]
  },
  {
   "cell_type": "code",
   "execution_count": null,
   "id": "ab9ade05-76ef-4446-a5de-fe1b53d18ca4",
   "metadata": {},
   "outputs": [],
   "source": [
    "fce"
   ]
  },
  {
   "cell_type": "code",
   "execution_count": null,
   "id": "2339a4c7-99c9-4ac2-a367-0419eebb5192",
   "metadata": {},
   "outputs": [],
   "source": [
    "fce._derived"
   ]
  },
  {
   "cell_type": "code",
   "execution_count": null,
   "id": "166a0b79-5a68-4562-b837-a90f33c26896",
   "metadata": {},
   "outputs": [],
   "source": []
  },
  {
   "cell_type": "code",
   "execution_count": null,
   "id": "368df0d2-f896-484f-b12b-684edd7e6334",
   "metadata": {},
   "outputs": [],
   "source": [
    "fce.throughParameterMembership"
   ]
  },
  {
   "cell_type": "code",
   "execution_count": null,
   "id": "2bdcbbc0-8ab8-4cdb-9c64-9405432d177b",
   "metadata": {},
   "outputs": [],
   "source": [
    "fce.throughReturnParameterMembership"
   ]
  },
  {
   "cell_type": "code",
   "execution_count": null,
   "id": "6c5c63e7-668f-475e-94fa-6d66f78ea77b",
   "metadata": {},
   "outputs": [],
   "source": [
    "object_ns = [library_model_ns for library_model_ns in library_model.ownedElement if library_model_ns.throughOwningMembership[0].declaredName == 'Objects'][0]"
   ]
  },
  {
   "cell_type": "code",
   "execution_count": null,
   "id": "46e10cc8-350a-40ec-bd67-1e6b302657ea",
   "metadata": {},
   "outputs": [],
   "source": [
    "object_ns.throughOwningMembership[0].throughOwningMembership"
   ]
  },
  {
   "cell_type": "code",
   "execution_count": null,
   "id": "f7dc785d-c072-44c2-9656-1baf34a11372",
   "metadata": {},
   "outputs": [],
   "source": [
    "object_kerml = object_ns.throughOwningMembership[0].throughOwningMembership[1]\n",
    "object_kerml"
   ]
  },
  {
   "cell_type": "markdown",
   "id": "3831d617-3388-4b89-9aec-cc2ae8020e40",
   "metadata": {},
   "source": [
    "Quick hack to work around non-existent implicit Subclassification."
   ]
  },
  {
   "cell_type": "code",
   "execution_count": null,
   "id": "167490c0-89b9-46b4-9d39-23db15756fb9",
   "metadata": {},
   "outputs": [],
   "source": [
    "build_from_binary_relationship_pattern(\n",
    "        source=clock_structure,\n",
    "        target=object_kerml,\n",
    "        model=empty_model,\n",
    "        metatype=\"Subclassification\",\n",
    "        owned_by_source=True,\n",
    "        owns_target=False,\n",
    "        alternative_owner=None,\n",
    "        specific_fields={},\n",
    "    )"
   ]
  },
  {
   "cell_type": "code",
   "execution_count": null,
   "id": "7f3cd6ec-dd2f-454b-8159-4ae22d09d474",
   "metadata": {},
   "outputs": [],
   "source": [
    "clock_structure.feature"
   ]
  },
  {
   "cell_type": "code",
   "execution_count": null,
   "id": "97904fb0-c0cc-4ef2-b6da-1abe6d746fb8",
   "metadata": {},
   "outputs": [],
   "source": [
    "clock_snapshots = [feat for feat in clock_structure.feature if get_effective_basic_name(feat) == \"snapshots\"]\n",
    "clock_snapshots"
   ]
  },
  {
   "cell_type": "markdown",
   "id": "88b87adc-6468-4d61-98b5-268bf4502db9",
   "metadata": {},
   "source": [
    "Now create a Clock with three snapshots that can be lined up against a time span."
   ]
  },
  {
   "cell_type": "code",
   "execution_count": null,
   "id": "8c1fbe20-3ab1-4a1d-ad2a-18a8a4bec34c",
   "metadata": {},
   "outputs": [],
   "source": [
    "clock_snap1 = build_from_classifier_pattern(\n",
    "    owner=new_package,\n",
    "    name=\"Clock Snapshot 1\",\n",
    "    model=empty_model,\n",
    "    metatype=\"Structure\",\n",
    "    superclasses=[clock_structure],\n",
    "    specific_fields={\"ownedRelationship\": []},\n",
    ")\n",
    "\n",
    "clock_snap2 = build_from_classifier_pattern(\n",
    "    owner=new_package,\n",
    "    name=\"Clock Snapshot 2\",\n",
    "    model=empty_model,\n",
    "    metatype=\"Structure\",\n",
    "    superclasses=[clock_structure],\n",
    "    specific_fields={\"ownedRelationship\": []},\n",
    ")\n",
    "\n",
    "clock_snap3 = build_from_classifier_pattern(\n",
    "    owner=new_package,\n",
    "    name=\"Clock Snapshot 3\",\n",
    "    model=empty_model,\n",
    "    metatype=\"Structure\",\n",
    "    superclasses=[clock_structure],\n",
    "    specific_fields={\"ownedRelationship\": []},\n",
    ")"
   ]
  },
  {
   "cell_type": "markdown",
   "id": "c5c6307d-0898-41fa-8506-67f05bd13c5f",
   "metadata": {},
   "source": [
    "Current time should be assigned to the current clock time by the creation of Literal value expressions that match."
   ]
  },
  {
   "cell_type": "code",
   "execution_count": null,
   "id": "f99c47ca-91fb-41e0-9deb-b9cd8d2e4638",
   "metadata": {},
   "outputs": [],
   "source": []
  }
 ],
 "metadata": {
  "kernelspec": {
   "display_name": "Python 3 (ipykernel)",
   "language": "python",
   "name": "python3"
  },
  "language_info": {
   "codemirror_mode": {
    "name": "ipython",
    "version": 3
   },
   "file_extension": ".py",
   "mimetype": "text/x-python",
   "name": "python",
   "nbconvert_exporter": "python",
   "pygments_lexer": "ipython3",
   "version": "3.9.6"
  }
 },
 "nbformat": 4,
 "nbformat_minor": 5
}
