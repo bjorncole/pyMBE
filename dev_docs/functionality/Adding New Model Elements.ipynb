{
 "cells": [
  {
   "cell_type": "markdown",
   "id": "2e67ffa6-c30a-4017-be1d-044dba065f78",
   "metadata": {},
   "source": [
    "# Adding New Model Elements\n",
    "\n",
    "This notebook walks through adding in-memory elements via PyMBE and tracking the additions to support updating model repositories after a session."
   ]
  },
  {
   "cell_type": "code",
   "execution_count": null,
   "id": "9e5cee07-82e9-43cf-80ea-37b4c621ac8f",
   "metadata": {},
   "outputs": [],
   "source": [
    "import pymbe.api as pm\n",
    "from importlib import resources as lib_resources\n",
    "\n",
    "from uuid import uuid4\n",
    "\n",
    "from pymbe.model import Element\n",
    "from pymbe.model import MetaModel\n",
    "from pymbe.model_modification import \\\n",
    "    build_from_classifier_pattern, new_element_ownership_pattern, build_from_feature_pattern, apply_covered_feature_pattern\n",
    "\n",
    "from pymbe.metamodel import \\\n",
    "    get_more_general_types, derive_inherited_featurememberships\n",
    "\n",
    "from pymbe.query.metamodel_navigator import get_effective_basic_name"
   ]
  },
  {
   "cell_type": "markdown",
   "id": "0345f45f-5f35-4cea-903e-c3dd8cc1ef41",
   "metadata": {},
   "source": [
    "## Open Library Data\n",
    "\n",
    "The library data are organized around namespaces, where each namespace corresponds to a specific file in the library."
   ]
  },
  {
   "cell_type": "code",
   "execution_count": null,
   "id": "85ca81ee-0094-4cea-bc6c-37cac4862007",
   "metadata": {},
   "outputs": [],
   "source": [
    "library_model = None\n",
    "\n",
    "with lib_resources.path(\"pymbe.static_data\", \"KernelLibrary.json\") as lib_data:\n",
    "    library_model = pm.Model.load_from_post_file(lib_data)"
   ]
  },
  {
   "cell_type": "code",
   "execution_count": null,
   "id": "74f22868-21e7-4d4e-98e6-6f13220b981e",
   "metadata": {},
   "outputs": [],
   "source": [
    "library_model.ownedElement[0]._data"
   ]
  },
  {
   "cell_type": "markdown",
   "id": "9c16ac57-8348-49da-a720-d9add98b3807",
   "metadata": {},
   "source": [
    "## New Package\n",
    "The most basic element in a model for grouping things is the package. It holds a place within a modeling project to associate other model contents.\n",
    "\n",
    "The new root-level Package also needs to be inside a Namespace and become an owned member via an OwningMembership."
   ]
  },
  {
   "cell_type": "code",
   "execution_count": null,
   "id": "ed5135a3-8ac2-41b3-b809-05bf8bc3394a",
   "metadata": {},
   "outputs": [],
   "source": [
    "package_model_namespace_data = {\n",
    "    'aliasIds': [],\n",
    "    'isImpliedIncluded': False,\n",
    "    '@type': \"Namespace\",\n",
    "    '@id': str(uuid4()),\n",
    "    'ownedRelationship': []\n",
    "}"
   ]
  },
  {
   "cell_type": "code",
   "execution_count": null,
   "id": "9f968e44-9eec-49b7-a539-9d484601dd09",
   "metadata": {},
   "outputs": [],
   "source": [
    "package_model_data = {\n",
    "    'name': \"User Process Model\",\n",
    "    'isLibraryElement': False,\n",
    "    'filterCondition': [],\n",
    "    'ownedElement': [],\n",
    "    'owner': {},\n",
    "    '@type': \"Package\",\n",
    "    '@id': str(uuid4()),\n",
    "    'ownedRelationship': []\n",
    "}"
   ]
  },
  {
   "cell_type": "code",
   "execution_count": null,
   "id": "5486d278-7a2c-483f-995d-da1cb3d06e6f",
   "metadata": {},
   "outputs": [],
   "source": [
    "empty_model = pm.Model(elements={})\n",
    "empty_model"
   ]
  },
  {
   "cell_type": "code",
   "execution_count": null,
   "id": "0b9a73f9-5549-49a0-b06b-3dfcd001eab0",
   "metadata": {},
   "outputs": [],
   "source": [
    "new_ns = Element.new(data=package_model_namespace_data,model=empty_model)"
   ]
  },
  {
   "cell_type": "code",
   "execution_count": null,
   "id": "18b2e40a-88b9-400d-9716-f38eda852a3c",
   "metadata": {},
   "outputs": [],
   "source": [
    "new_package = Element.new(data=package_model_data,model=empty_model)\n",
    "new_package"
   ]
  },
  {
   "cell_type": "code",
   "execution_count": null,
   "id": "9846216e-42bb-4ffb-92c6-f37ff8cdaee8",
   "metadata": {},
   "outputs": [],
   "source": [
    "new_element_ownership_pattern(\n",
    "    owner=new_ns, ele=new_package, model=empty_model, member_kind=\"OwningMembership\"\n",
    ")"
   ]
  },
  {
   "cell_type": "markdown",
   "id": "d4c50a10-7971-477c-a218-af7e90c54bf2",
   "metadata": {},
   "source": [
    "### Connect New Model to Library\n",
    "\n",
    "Reference the new model to the library so inheritance and redefinition can be connected to library elements."
   ]
  },
  {
   "cell_type": "code",
   "execution_count": null,
   "id": "80c629ab-653e-4681-90f4-343124573d11",
   "metadata": {},
   "outputs": [],
   "source": [
    "empty_model.reference_other_model(library_model)"
   ]
  },
  {
   "cell_type": "code",
   "execution_count": null,
   "id": "17082fa0-fa1b-44f0-935e-9b8f07045f62",
   "metadata": {},
   "outputs": [],
   "source": [
    "peform_ns = [library_model_ns\n",
    "               for library_model_ns in library_model.ownedElement\n",
    "               if library_model_ns.throughOwningMembership[0].declaredName == 'Performances'][0]\n",
    "\n",
    "perform_eles = peform_ns.throughOwningMembership[0].throughOwningMembership\n",
    "\n",
    "performance = None\n",
    "    \n",
    "for perform_ele in perform_eles:\n",
    "    if perform_ele._metatype in ('Behavior'):\n",
    "        if hasattr(perform_ele, \"declaredName\"):\n",
    "            if perform_ele.declaredName == 'Performance':\n",
    "                performance = perform_ele\n",
    "                \n",
    "performance"
   ]
  },
  {
   "cell_type": "code",
   "execution_count": null,
   "id": "b76bc601-68ba-4f87-bd86-7f3c7c18ab18",
   "metadata": {},
   "outputs": [],
   "source": [
    "performance._data"
   ]
  },
  {
   "cell_type": "markdown",
   "id": "b236586b-2176-4bcf-8d31-fa74135f7730",
   "metadata": {},
   "source": [
    "## New Performance\n",
    "\n",
    "A new element to specialize the Performance library element is created."
   ]
  },
  {
   "cell_type": "code",
   "execution_count": null,
   "id": "abcb2424-2c85-4a4f-913b-579108d18118",
   "metadata": {},
   "outputs": [],
   "source": [
    "new_performance = build_from_classifier_pattern(\n",
    "    owner=new_package,\n",
    "    name=\"New Process\",\n",
    "    model=empty_model,\n",
    "    metatype=\"Behavior\",\n",
    "    superclasses=[performance],\n",
    "    specific_fields={\"ownedRelationship\": []}\n",
    ")"
   ]
  },
  {
   "cell_type": "code",
   "execution_count": null,
   "id": "51316b5c-a0d1-49f5-ac40-d51eeceeb41f",
   "metadata": {},
   "outputs": [],
   "source": [
    "new_performance._derived"
   ]
  },
  {
   "cell_type": "code",
   "execution_count": null,
   "id": "4076160a-50ac-43e3-898f-95b8f5e2aa43",
   "metadata": {},
   "outputs": [],
   "source": [
    "new_package.throughOwningMembership"
   ]
  },
  {
   "cell_type": "code",
   "execution_count": null,
   "id": "91c97988-f36e-4ce7-8fba-4fc1686d3e73",
   "metadata": {},
   "outputs": [],
   "source": [
    "new_process = new_package.throughOwningMembership[0]\n",
    "new_process"
   ]
  },
  {
   "cell_type": "code",
   "execution_count": null,
   "id": "28a08ee9-b3d4-4151-ab93-71f169943df1",
   "metadata": {},
   "outputs": [],
   "source": [
    "new_process._data"
   ]
  },
  {
   "cell_type": "code",
   "execution_count": null,
   "id": "ecbf82a9-1af1-44f6-bc5b-79d0cfa482c5",
   "metadata": {},
   "outputs": [],
   "source": [
    "new_process._derived"
   ]
  },
  {
   "cell_type": "code",
   "execution_count": null,
   "id": "b3b5e725-4c7b-47c3-9da2-53410eac7214",
   "metadata": {},
   "outputs": [],
   "source": [
    "get_more_general_types(new_process,0,20)"
   ]
  },
  {
   "cell_type": "code",
   "execution_count": null,
   "id": "3a95920a-a819-41f4-a6bf-52617e425c1e",
   "metadata": {},
   "outputs": [],
   "source": [
    "new_process._data"
   ]
  },
  {
   "cell_type": "code",
   "execution_count": null,
   "id": "61823a7f-debc-4fd8-9836-379ca5f6cc74",
   "metadata": {},
   "outputs": [],
   "source": [
    "new_process.feature"
   ]
  },
  {
   "cell_type": "code",
   "execution_count": null,
   "id": "cac6745e-5ad9-4826-b20a-19296ecd8de3",
   "metadata": {},
   "outputs": [],
   "source": [
    "performance.ownedRelationship"
   ]
  },
  {
   "cell_type": "markdown",
   "id": "5754b62b-8310-4778-8659-c830b5e94ed7",
   "metadata": {},
   "source": [
    "## New Object\n",
    "\n",
    "Create a basic Object that is connected back to the libarry"
   ]
  },
  {
   "cell_type": "code",
   "execution_count": null,
   "id": "33332301-9331-4317-9c97-c833bfb525af",
   "metadata": {},
   "outputs": [],
   "source": [
    "object_ns = [library_model_ns\n",
    "               for library_model_ns in library_model.ownedElement\n",
    "               if library_model_ns.throughOwningMembership[0].declaredName == 'Objects'][0]\n",
    "\n",
    "object_eles = object_ns.throughOwningMembership[0].throughOwningMembership\n",
    "\n",
    "obj = None\n",
    "    \n",
    "for object_ele in object_eles:\n",
    "    if object_ele._metatype in ('Structure'):\n",
    "        if hasattr(object_ele, \"declaredName\"):\n",
    "            if object_ele.declaredName == 'Object':\n",
    "                obj = object_ele"
   ]
  },
  {
   "cell_type": "code",
   "execution_count": null,
   "id": "cf96b395-68da-4f72-89cb-b1959006f17c",
   "metadata": {},
   "outputs": [],
   "source": [
    "obj"
   ]
  },
  {
   "cell_type": "markdown",
   "id": "ce821850-7d7e-4699-8a71-ffe8ac5da6fc",
   "metadata": {},
   "source": [
    "## New Step\n",
    "Add steps to our earlier new Performance."
   ]
  },
  {
   "cell_type": "code",
   "execution_count": null,
   "id": "8a03950e-e16e-403c-bff7-eb816b001587",
   "metadata": {},
   "outputs": [],
   "source": [
    "new_step_type_1 = build_from_classifier_pattern(\n",
    "        owner=new_package,\n",
    "        name=\"Sub-Process 1\",\n",
    "        model=empty_model,\n",
    "        metatype=\"Behavior\",\n",
    "        superclasses=[performance],\n",
    "        specific_fields={\"ownedRelationship\": []}\n",
    "    )\n",
    "\n",
    "new_step_type_2 = build_from_classifier_pattern(\n",
    "    owner=new_package,\n",
    "    name=\"Sub-Process 2\",\n",
    "    model=empty_model,\n",
    "    metatype=\"Behavior\",\n",
    "    superclasses=[performance],\n",
    "    specific_fields={\"ownedRelationship\": []}\n",
    ")\n",
    "\n",
    "new_step_1 = build_from_feature_pattern(\n",
    "    owner=new_performance,\n",
    "    name=\"Step 1\",\n",
    "    model=empty_model,\n",
    "    specific_fields={},\n",
    "    feature_type=new_step_type_1,\n",
    "    direction=\"\",\n",
    "    metatype=\"Step\",\n",
    "    connector_end=False,\n",
    ")\n",
    "\n",
    "new_step_2 = build_from_feature_pattern(\n",
    "    owner=new_performance,\n",
    "    name=\"Step 2\",\n",
    "    model=empty_model,\n",
    "    specific_fields={},\n",
    "    feature_type=new_step_type_2,\n",
    "    direction=\"\",\n",
    "    metatype=\"Step\",\n",
    "    connector_end=False,\n",
    ")"
   ]
  },
  {
   "cell_type": "code",
   "execution_count": null,
   "id": "ca4bd49e-0121-4aa7-88ea-cc116ae91712",
   "metadata": {},
   "outputs": [],
   "source": [
    "(new_step_1, new_step_2)"
   ]
  },
  {
   "cell_type": "code",
   "execution_count": null,
   "id": "b744213d-5141-4628-85ab-4bcca9b06b23",
   "metadata": {},
   "outputs": [],
   "source": [
    "new_performance.throughFeatureMembership"
   ]
  },
  {
   "cell_type": "code",
   "execution_count": null,
   "id": "3d472fd2-d6a0-46e4-81f3-4890bdf85da3",
   "metadata": {},
   "outputs": [],
   "source": [
    "self_feat = None\n",
    "time_enclosed_feat = None\n",
    "\n",
    "for new_perf_feature in new_performance.feature:\n",
    "    if get_effective_basic_name(new_perf_feature) == \"self\":\n",
    "        self_feat = new_perf_feature\n",
    "    if get_effective_basic_name(new_perf_feature) == \"timeEnclosedOccurrences\":\n",
    "        time_enclosed_feat = new_perf_feature"
   ]
  },
  {
   "cell_type": "code",
   "execution_count": null,
   "id": "26a56777-9db0-4c75-95fd-747038ecd4dc",
   "metadata": {},
   "outputs": [],
   "source": [
    "new_performance_exec = build_from_classifier_pattern(\n",
    "    owner=new_package,\n",
    "    name=\"New Process as Executed\",\n",
    "    model=empty_model,\n",
    "    metatype=\"Behavior\",\n",
    "    superclasses=[new_performance],\n",
    "    specific_fields={\"ownedRelationship\": []}\n",
    ")\n",
    "\n",
    "step_1_exec = build_from_classifier_pattern(\n",
    "    owner=new_package,\n",
    "    name=\"Sub-Process 1 as Executed\",\n",
    "    model=empty_model,\n",
    "    metatype=\"Behavior\",\n",
    "    superclasses=[new_step_type_1],\n",
    "    specific_fields={\"ownedRelationship\": []}\n",
    ")\n",
    "\n",
    "step_2_exec = build_from_classifier_pattern(\n",
    "    owner=new_package,\n",
    "    name=\"Sub-Process 2 as Executed\",\n",
    "    model=empty_model,\n",
    "    metatype=\"Behavior\",\n",
    "    superclasses=[new_step_type_2],\n",
    "    specific_fields={\"ownedRelationship\": []}\n",
    ")"
   ]
  },
  {
   "cell_type": "code",
   "execution_count": null,
   "id": "c71d442f-78ee-4f29-8ec9-856652f1e4bf",
   "metadata": {},
   "outputs": [],
   "source": [
    "covered_self = apply_covered_feature_pattern(\n",
    "    one_member_classifiers=[new_performance_exec],\n",
    "    feature_to_cover=self_feat,\n",
    "    type_to_apply_pattern_on=new_performance_exec,\n",
    "    model=empty_model,\n",
    "    new_types_owner=new_package,\n",
    "    covering_classifier_prefix=\"Class to Cover \",\n",
    "    covering_classifier_suffix=\"\",\n",
    "    redefining_feature_prefix=\"\",\n",
    "    redefining_feature_suffix=\"(Closed)\",\n",
    ")\n",
    "covered_self"
   ]
  },
  {
   "cell_type": "code",
   "execution_count": null,
   "id": "ffb70f16-6e01-4483-a234-125484323a4c",
   "metadata": {},
   "outputs": [],
   "source": [
    "covered_self._derived"
   ]
  },
  {
   "cell_type": "code",
   "execution_count": null,
   "id": "901b575c-a33c-48fa-bb03-53108cf34c0f",
   "metadata": {},
   "outputs": [],
   "source": [
    "covered_self.reverseFeatureMembership"
   ]
  },
  {
   "cell_type": "code",
   "execution_count": null,
   "id": "42624334-0a77-42ed-a2fb-e77c7ed5085e",
   "metadata": {},
   "outputs": [],
   "source": [
    "covered_time_enclosed = apply_covered_feature_pattern(\n",
    "    one_member_classifiers=[new_performance_exec, step_1_exec, step_2_exec],\n",
    "    feature_to_cover=time_enclosed_feat,\n",
    "    type_to_apply_pattern_on=new_performance_exec,\n",
    "    model=empty_model,\n",
    "    new_types_owner=new_package,\n",
    "    covering_classifier_prefix=\"Class to Cover \",\n",
    "    covering_classifier_suffix=\"\",\n",
    "    redefining_feature_prefix=\"\",\n",
    "    redefining_feature_suffix=\"(Closed)\",\n",
    ")"
   ]
  },
  {
   "cell_type": "code",
   "execution_count": null,
   "id": "4450e381-953b-4674-8265-8db6da6a7057",
   "metadata": {},
   "outputs": [],
   "source": [
    "covered_time_enclosed.throughFeatureTyping[0]._derived"
   ]
  },
  {
   "cell_type": "code",
   "execution_count": null,
   "id": "35d3a91c-87b2-4b84-aa10-4ef00bfb892e",
   "metadata": {},
   "outputs": [],
   "source": [
    "covered_time_enclosed.throughFeatureTyping[0].throughUnioning"
   ]
  }
 ],
 "metadata": {
  "kernelspec": {
   "display_name": "Python 3 (ipykernel)",
   "language": "python",
   "name": "python3"
  },
  "language_info": {
   "codemirror_mode": {
    "name": "ipython",
    "version": 3
   },
   "file_extension": ".py",
   "mimetype": "text/x-python",
   "name": "python",
   "nbconvert_exporter": "python",
   "pygments_lexer": "ipython3",
   "version": "3.9.6"
  }
 },
 "nbformat": 4,
 "nbformat_minor": 5
}
