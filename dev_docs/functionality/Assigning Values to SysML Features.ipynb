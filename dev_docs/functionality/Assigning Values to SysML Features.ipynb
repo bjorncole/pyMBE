{
 "cells": [
  {
   "cell_type": "markdown",
   "id": "e2e9bd2f-4d69-4c47-9f94-c0565139f653",
   "metadata": {},
   "source": [
    "# Assigning Values to SysML Features\n",
    "\n",
    "This notebook walks through the model modification methods for creating feature reference expressions and literal expressions to assign one or more values to the Features (usages) within a SysML model once the value has been determined by user entry or a solver."
   ]
  },
  {
   "cell_type": "code",
   "execution_count": null,
   "id": "6bb2b359-717e-4474-905d-e92eb5ac6b57",
   "metadata": {},
   "outputs": [],
   "source": [
    "import json\n",
    "from importlib import resources as lib_resources\n",
    "import pymbe.api as pm\n",
    "\n",
    "from pymbe.model import Element\n",
    "\n",
    "from uuid import uuid4\n",
    "\n",
    "from pymbe.query.metamodel_navigator import \\\n",
    "    get_effective_basic_name, get_effective_lower_multiplicity, get_effective_upper_multiplicity, get_most_specific_feature_type\n",
    "\n",
    "from pymbe.model_modification import \\\n",
    "    build_from_classifier_pattern, build_from_feature_pattern, assign_value_by_literal_expression, assign_multiple_values_with_fre\n",
    "\n",
    "from pymbe.text_concrete_syntax import serialize_sysml_package"
   ]
  },
  {
   "cell_type": "markdown",
   "id": "a623c401-75cf-422f-bc05-3e37b65e969f",
   "metadata": {},
   "source": [
    "## Load Libraries\n",
    "\n",
    "Load up the core SysML and KerML libraries to reference against our model."
   ]
  },
  {
   "cell_type": "code",
   "execution_count": null,
   "id": "32d1a523-5377-44da-beae-41329dc8b042",
   "metadata": {},
   "outputs": [],
   "source": [
    "library_model = None\n",
    "\n",
    "with lib_resources.path(\"pymbe.static_data\", \"SystemsLibrary.json\") as lib_data1:\n",
    "    with lib_resources.path(\"pymbe.static_data\", \"KernelLibraryExpanded.json\") as lib_data2:\n",
    "            library_model = pm.Model.load_from_mult_post_files([lib_data1, lib_data2])"
   ]
  },
  {
   "cell_type": "markdown",
   "id": "ca1481d6-35dc-4a82-b1f3-7750be74094c",
   "metadata": {},
   "source": [
    "## Create empty model and reference\n",
    "\n",
    "Have a new model that includes references back to the collective libraries so it can be built with SysML V2."
   ]
  },
  {
   "cell_type": "code",
   "execution_count": null,
   "id": "51bb55ed-c77e-4d33-8cac-35e0df5a4583",
   "metadata": {},
   "outputs": [],
   "source": [
    "empty_model = pm.Model(elements={})\n",
    "\n",
    "package_model_namespace_data = {\n",
    "    \"aliasIds\": [],\n",
    "    \"isImpliedIncluded\": False,\n",
    "    \"@type\": \"Namespace\",\n",
    "    \"@id\": str(uuid4()),\n",
    "    \"ownedRelationship\": [],\n",
    "}\n",
    "\n",
    "package_model_data = {\n",
    "    \"name\": \"SysML Value Model\",\n",
    "    \"declaredName\": \"SysML Value Model\",\n",
    "    \"isLibraryElement\": False,\n",
    "    \"filterCondition\": [],\n",
    "    \"ownedElement\": [],\n",
    "    \"owner\": {},\n",
    "    \"@type\": \"Package\",\n",
    "    \"@id\": str(uuid4()),\n",
    "    \"ownedRelationship\": [],\n",
    "}\n",
    "\n",
    "new_ns = Element.new(data=package_model_namespace_data, model=empty_model)\n",
    "\n",
    "new_package = Element.new(data=package_model_data, model=empty_model)\n",
    "\n",
    "empty_model.reference_other_model(library_model)"
   ]
  },
  {
   "cell_type": "code",
   "execution_count": null,
   "id": "06e9655a-c941-495b-a7fe-a90e871d4cef",
   "metadata": {},
   "outputs": [],
   "source": [
    "empty_model"
   ]
  },
  {
   "cell_type": "code",
   "execution_count": null,
   "id": "4243bb5a-89c7-465c-a439-3983d896c679",
   "metadata": {},
   "outputs": [],
   "source": [
    "empty_model.ownedElement[1]"
   ]
  },
  {
   "cell_type": "markdown",
   "id": "f17f17b3-11de-406f-bc34-903d6ab07350",
   "metadata": {},
   "source": [
    "## Get Library Elements\n",
    "\n",
    "Retrieve the library elements from which the rest of this example model will be built."
   ]
  },
  {
   "cell_type": "code",
   "execution_count": null,
   "id": "604375c0-edb9-4131-8aa2-3af489c8ec7c",
   "metadata": {},
   "outputs": [],
   "source": [
    "part_ns = [\n",
    "        library_model_ns\n",
    "        for library_model_ns in library_model.ownedElement\n",
    "        if library_model_ns.throughOwningMembership[0].declaredName == \"Parts\"\n",
    "    ][0]"
   ]
  },
  {
   "cell_type": "code",
   "execution_count": null,
   "id": "f6dda328-8188-4bdc-a2c9-6347f2c6813b",
   "metadata": {},
   "outputs": [],
   "source": [
    "lib_part = part_ns.throughOwningMembership[0].throughOwningMembership[2]\n",
    "lib_part"
   ]
  },
  {
   "cell_type": "code",
   "execution_count": null,
   "id": "92c43685-77b0-485c-a9a1-26ca41c7b190",
   "metadata": {},
   "outputs": [],
   "source": [
    "bf_ns = [\n",
    "        library_model_ns\n",
    "        for library_model_ns in library_model.ownedElement\n",
    "        if library_model_ns.throughOwningMembership[0].declaredName == \"BaseFunctions\"\n",
    "    ][0]"
   ]
  },
  {
   "cell_type": "code",
   "execution_count": null,
   "id": "a6c3717c-f505-4483-92c0-0fc7305ccf16",
   "metadata": {},
   "outputs": [],
   "source": [
    "sep_function = bf_ns.throughOwningMembership[0].throughOwningMembership[8]\n",
    "sep_function"
   ]
  },
  {
   "cell_type": "code",
   "execution_count": null,
   "id": "53725c7f-ebed-4f0a-aa80-7916ced4d2cf",
   "metadata": {},
   "outputs": [],
   "source": [
    "new_car = build_from_classifier_pattern(\n",
    "    owner=new_package,\n",
    "    name=\"Car\",\n",
    "    model=empty_model,\n",
    "    metatype=\"PartDefinition\",\n",
    "    superclasses=[lib_part],\n",
    "    specific_fields={\"ownedRelationship\": []},\n",
    ")"
   ]
  },
  {
   "cell_type": "code",
   "execution_count": null,
   "id": "e041c4b0-2c63-465b-bae8-9fa7a4bb4905",
   "metadata": {},
   "outputs": [],
   "source": [
    "new_wheel_def = build_from_classifier_pattern(\n",
    "    owner=new_package,\n",
    "    name=\"Wheel\",\n",
    "    model=empty_model,\n",
    "    metatype=\"PartDefinition\",\n",
    "    superclasses=[lib_part],\n",
    "    specific_fields={\"ownedRelationship\": []},\n",
    ")"
   ]
  },
  {
   "cell_type": "code",
   "execution_count": null,
   "id": "80326dfa-d331-4128-b2b1-7a0183fef6c4",
   "metadata": {},
   "outputs": [],
   "source": [
    "new_wheels = build_from_feature_pattern(\n",
    "    owner=new_car,\n",
    "    name=\"wheels\",\n",
    "    model=empty_model,\n",
    "    specific_fields={\"ownedRelationship\": []},\n",
    "    feature_type=new_wheel_def,\n",
    "    direction=\"\",\n",
    "    metatype=\"PartUsage\",\n",
    "    connector_end=False,\n",
    ")"
   ]
  },
  {
   "cell_type": "code",
   "execution_count": null,
   "id": "71b10667-7382-4da5-9f23-039fa6cf49fc",
   "metadata": {},
   "outputs": [],
   "source": [
    "wheel_diameter = build_from_feature_pattern(\n",
    "    owner=new_wheel_def,\n",
    "    name=\"diameter\",\n",
    "    model=empty_model,\n",
    "    specific_fields={\"ownedRelationship\": []},\n",
    "    feature_type=None,\n",
    "    direction=\"\",\n",
    "    metatype=\"AttributeUsage\",\n",
    "    connector_end=False,\n",
    ")"
   ]
  },
  {
   "cell_type": "markdown",
   "id": "b14feac6-c246-4302-9613-80814feee2a5",
   "metadata": {},
   "source": [
    "Add a specific value to the diameter of the wheel type."
   ]
  },
  {
   "cell_type": "code",
   "execution_count": null,
   "id": "3cbe51ce-4358-4b52-8bb4-5a607aa321ae",
   "metadata": {},
   "outputs": [],
   "source": [
    "assign_value_by_literal_expression(\n",
    "    target_feature=wheel_diameter,\n",
    "    value_to_assign=16.5,\n",
    "    model=empty_model\n",
    ")"
   ]
  },
  {
   "cell_type": "markdown",
   "id": "762e8a98-2622-4f8f-adbf-3dd9e7adac8d",
   "metadata": {},
   "source": [
    "This is an example of what the model may look like before individual wheels are assigned values."
   ]
  },
  {
   "cell_type": "code",
   "execution_count": null,
   "id": "f25527fb-c5f2-4c67-9cf0-74c426c9ac78",
   "metadata": {},
   "outputs": [],
   "source": [
    "print(serialize_sysml_package(empty_model.ownedElement[1]))"
   ]
  },
  {
   "cell_type": "code",
   "execution_count": null,
   "id": "f9ff7d43-ff9a-478c-be07-f03d2b0f85a2",
   "metadata": {},
   "outputs": [],
   "source": [
    "wheel1 = build_from_feature_pattern(\n",
    "    owner=new_car,\n",
    "    name=\"wheel1\",\n",
    "    model=empty_model,\n",
    "    specific_fields={\"ownedRelationship\": []},\n",
    "    feature_type=new_wheel_def,\n",
    "    direction=\"\",\n",
    "    metatype=\"PartUsage\",\n",
    "    connector_end=False,\n",
    ")"
   ]
  },
  {
   "cell_type": "code",
   "execution_count": null,
   "id": "bbb30bab-4b0c-4fee-9c58-30bef5fd15fb",
   "metadata": {},
   "outputs": [],
   "source": [
    "wheel2 = build_from_feature_pattern(\n",
    "    owner=new_car,\n",
    "    name=\"wheel2\",\n",
    "    model=empty_model,\n",
    "    specific_fields={\"ownedRelationship\": []},\n",
    "    feature_type=new_wheel_def,\n",
    "    direction=\"\",\n",
    "    metatype=\"PartUsage\",\n",
    "    connector_end=False,\n",
    ")"
   ]
  },
  {
   "cell_type": "code",
   "execution_count": null,
   "id": "6b349206-37f0-49b0-b52b-7a546b590403",
   "metadata": {},
   "outputs": [],
   "source": [
    "wheel3 = build_from_feature_pattern(\n",
    "    owner=new_car,\n",
    "    name=\"wheel3\",\n",
    "    model=empty_model,\n",
    "    specific_fields={\"ownedRelationship\": []},\n",
    "    feature_type=new_wheel_def,\n",
    "    direction=\"\",\n",
    "    metatype=\"PartUsage\",\n",
    "    connector_end=False,\n",
    ")"
   ]
  },
  {
   "cell_type": "code",
   "execution_count": null,
   "id": "aa3f6781-92c3-4358-aa5f-0f12d518ffff",
   "metadata": {},
   "outputs": [],
   "source": [
    "wheel4 = build_from_feature_pattern(\n",
    "    owner=new_car,\n",
    "    name=\"wheel4\",\n",
    "    model=empty_model,\n",
    "    specific_fields={\"ownedRelationship\": []},\n",
    "    feature_type=new_wheel_def,\n",
    "    direction=\"\",\n",
    "    metatype=\"PartUsage\",\n",
    "    connector_end=False,\n",
    ")"
   ]
  },
  {
   "cell_type": "code",
   "execution_count": null,
   "id": "31cf69c9-a7a2-49a2-aa7b-96b51f565356",
   "metadata": {},
   "outputs": [],
   "source": [
    "assign_multiple_values_with_fre(\n",
    "    type_to_apply_pattern_on=new_wheels,\n",
    "    model=empty_model,\n",
    "    features_to_reference=[wheel1, wheel2, wheel3, wheel4],\n",
    "    seperator_function=sep_function\n",
    ")"
   ]
  },
  {
   "cell_type": "code",
   "execution_count": null,
   "id": "21f0b849-cb17-4343-96bb-6ef4ad5f61b6",
   "metadata": {},
   "outputs": [],
   "source": [
    "print(serialize_sysml_package(empty_model.ownedElement[1]))"
   ]
  },
  {
   "cell_type": "code",
   "execution_count": null,
   "id": "298db564-57ec-4706-a6a5-2e706cb8b600",
   "metadata": {},
   "outputs": [],
   "source": []
  }
 ],
 "metadata": {
  "kernelspec": {
   "display_name": "Python 3 (ipykernel)",
   "language": "python",
   "name": "python3"
  },
  "language_info": {
   "codemirror_mode": {
    "name": "ipython",
    "version": 3
   },
   "file_extension": ".py",
   "mimetype": "text/x-python",
   "name": "python",
   "nbconvert_exporter": "python",
   "pygments_lexer": "ipython3",
   "version": "3.9.6"
  }
 },
 "nbformat": 4,
 "nbformat_minor": 5
}
