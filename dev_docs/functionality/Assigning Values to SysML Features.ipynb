{
 "cells": [
  {
   "cell_type": "markdown",
   "id": "e2e9bd2f-4d69-4c47-9f94-c0565139f653",
   "metadata": {},
   "source": [
    "# Assigning Values to SysML Features\n",
    "\n",
    "This notebook walks through the model modification methods for creating feature reference expressions and literal expressions to assign one or more values to the Features (usages) within a SysML model once the value has been determined by user entry or a solver."
   ]
  },
  {
   "cell_type": "code",
   "execution_count": 1,
   "id": "6bb2b359-717e-4474-905d-e92eb5ac6b57",
   "metadata": {},
   "outputs": [],
   "source": [
    "import json\n",
    "from importlib import resources as lib_resources\n",
    "import pymbe.api as pm\n",
    "\n",
    "from pymbe.model import Element\n",
    "\n",
    "from uuid import uuid4\n",
    "\n",
    "from pymbe.query.metamodel_navigator import \\\n",
    "    get_effective_basic_name, get_effective_lower_multiplicity, get_effective_upper_multiplicity, get_most_specific_feature_type\n",
    "\n",
    "from pymbe.model_modification import \\\n",
    "    build_from_classifier_pattern, build_from_feature_pattern, assign_value_by_literal_expression, assign_multiple_values_with_fre\n",
    "\n",
    "from pymbe.text_concrete_syntax import serialize_sysml_package"
   ]
  },
  {
   "cell_type": "markdown",
   "id": "a623c401-75cf-422f-bc05-3e37b65e969f",
   "metadata": {},
   "source": [
    "## Load Libraries\n",
    "\n",
    "Load up the core SysML and KerML libraries to reference against our model."
   ]
  },
  {
   "cell_type": "code",
   "execution_count": 2,
   "id": "32d1a523-5377-44da-beae-41329dc8b042",
   "metadata": {},
   "outputs": [
    {
     "name": "stderr",
     "output_type": "stream",
     "text": [
      "c:\\users\\bjorn cole\\documents\\github\\pymbe\\src\\pymbe\\label.py:150: UserWarning: Cannot process Expression elements yet!\n",
      "  warn(f\"Cannot process {expression._metatype} elements yet!\")\n",
      "c:\\users\\bjorn cole\\documents\\github\\pymbe\\src\\pymbe\\label.py:150: UserWarning: Cannot process BooleanExpression elements yet!\n",
      "  warn(f\"Cannot process {expression._metatype} elements yet!\")\n"
     ]
    }
   ],
   "source": [
    "library_model = None\n",
    "\n",
    "with lib_resources.path(\"pymbe.static_data\", \"SystemsLibrary.json\") as lib_data1:\n",
    "    with lib_resources.path(\"pymbe.static_data\", \"KernelLibraryExpanded.json\") as lib_data2:\n",
    "            library_model = pm.Model.load_from_mult_post_files([lib_data1, lib_data2])"
   ]
  },
  {
   "cell_type": "markdown",
   "id": "ca1481d6-35dc-4a82-b1f3-7750be74094c",
   "metadata": {},
   "source": [
    "## Create empty model and reference\n",
    "\n",
    "Have a new model that includes references back to the collective libraries so it can be built with SysML V2."
   ]
  },
  {
   "cell_type": "code",
   "execution_count": 3,
   "id": "51bb55ed-c77e-4d33-8cac-35e0df5a4583",
   "metadata": {},
   "outputs": [],
   "source": [
    "empty_model = pm.Model(elements={})\n",
    "\n",
    "package_model_namespace_data = {\n",
    "    \"aliasIds\": [],\n",
    "    \"isImpliedIncluded\": False,\n",
    "    \"@type\": \"Namespace\",\n",
    "    \"@id\": str(uuid4()),\n",
    "    \"ownedRelationship\": [],\n",
    "}\n",
    "\n",
    "package_model_data = {\n",
    "    \"name\": \"SysML Value Model\",\n",
    "    \"declaredName\": \"SysML Value Model\",\n",
    "    \"isLibraryElement\": False,\n",
    "    \"filterCondition\": [],\n",
    "    \"ownedElement\": [],\n",
    "    \"owner\": {},\n",
    "    \"@type\": \"Package\",\n",
    "    \"@id\": str(uuid4()),\n",
    "    \"ownedRelationship\": [],\n",
    "}\n",
    "\n",
    "new_ns = Element.new(data=package_model_namespace_data, model=empty_model)\n",
    "\n",
    "new_package = Element.new(data=package_model_data, model=empty_model)\n",
    "\n",
    "empty_model.reference_other_model(library_model)"
   ]
  },
  {
   "cell_type": "code",
   "execution_count": 4,
   "id": "06e9655a-c941-495b-a7fe-a90e871d4cef",
   "metadata": {},
   "outputs": [
    {
     "data": {
      "text/plain": [
       "<SysML v2 Model (2 elements)>"
      ]
     },
     "execution_count": 4,
     "metadata": {},
     "output_type": "execute_result"
    }
   ],
   "source": [
    "empty_model"
   ]
  },
  {
   "cell_type": "code",
   "execution_count": 5,
   "id": "4243bb5a-89c7-465c-a439-3983d896c679",
   "metadata": {},
   "outputs": [
    {
     "data": {
      "text/plain": [
       "SysML Value Model «Package»"
      ]
     },
     "execution_count": 5,
     "metadata": {},
     "output_type": "execute_result"
    }
   ],
   "source": [
    "empty_model.ownedElement[1]"
   ]
  },
  {
   "cell_type": "markdown",
   "id": "f17f17b3-11de-406f-bc34-903d6ab07350",
   "metadata": {},
   "source": [
    "## Get Library Elements\n",
    "\n",
    "Retrieve the library elements from which the rest of this example model will be built."
   ]
  },
  {
   "cell_type": "code",
   "execution_count": 6,
   "id": "604375c0-edb9-4131-8aa2-3af489c8ec7c",
   "metadata": {},
   "outputs": [],
   "source": [
    "part_ns = [\n",
    "        library_model_ns\n",
    "        for library_model_ns in library_model.ownedElement\n",
    "        if library_model_ns.throughOwningMembership[0].declaredName == \"Parts\"\n",
    "    ][0]"
   ]
  },
  {
   "cell_type": "code",
   "execution_count": 7,
   "id": "f6dda328-8188-4bdc-a2c9-6347f2c6813b",
   "metadata": {},
   "outputs": [
    {
     "data": {
      "text/plain": [
       "Part «PartDefinition»"
      ]
     },
     "execution_count": 7,
     "metadata": {},
     "output_type": "execute_result"
    }
   ],
   "source": [
    "lib_part = part_ns.throughOwningMembership[0].throughOwningMembership[2]\n",
    "lib_part"
   ]
  },
  {
   "cell_type": "code",
   "execution_count": 8,
   "id": "92c43685-77b0-485c-a9a1-26ca41c7b190",
   "metadata": {},
   "outputs": [],
   "source": [
    "bf_ns = [\n",
    "        library_model_ns\n",
    "        for library_model_ns in library_model.ownedElement\n",
    "        if library_model_ns.throughOwningMembership[0].declaredName == \"BaseFunctions\"\n",
    "    ][0]"
   ]
  },
  {
   "cell_type": "code",
   "execution_count": 9,
   "id": "a6c3717c-f505-4483-92c0-0fc7305ccf16",
   "metadata": {},
   "outputs": [
    {
     "data": {
      "text/plain": [
       ", «Function»"
      ]
     },
     "execution_count": 9,
     "metadata": {},
     "output_type": "execute_result"
    }
   ],
   "source": [
    "sep_function = bf_ns.throughOwningMembership[0].throughOwningMembership[8]\n",
    "sep_function"
   ]
  },
  {
   "cell_type": "code",
   "execution_count": 10,
   "id": "53725c7f-ebed-4f0a-aa80-7916ced4d2cf",
   "metadata": {},
   "outputs": [],
   "source": [
    "new_car = build_from_classifier_pattern(\n",
    "    owner=new_package,\n",
    "    name=\"Car\",\n",
    "    model=empty_model,\n",
    "    metatype=\"PartDefinition\",\n",
    "    superclasses=[lib_part],\n",
    "    specific_fields={\"ownedRelationship\": []},\n",
    ")"
   ]
  },
  {
   "cell_type": "code",
   "execution_count": 11,
   "id": "e041c4b0-2c63-465b-bae8-9fa7a4bb4905",
   "metadata": {},
   "outputs": [],
   "source": [
    "new_wheel_def = build_from_classifier_pattern(\n",
    "    owner=new_package,\n",
    "    name=\"Wheel\",\n",
    "    model=empty_model,\n",
    "    metatype=\"PartDefinition\",\n",
    "    superclasses=[lib_part],\n",
    "    specific_fields={\"ownedRelationship\": []},\n",
    ")"
   ]
  },
  {
   "cell_type": "code",
   "execution_count": 12,
   "id": "80326dfa-d331-4128-b2b1-7a0183fef6c4",
   "metadata": {},
   "outputs": [],
   "source": [
    "new_wheels = build_from_feature_pattern(\n",
    "    owner=new_car,\n",
    "    name=\"wheels\",\n",
    "    model=empty_model,\n",
    "    specific_fields={\"ownedRelationship\": []},\n",
    "    feature_type=new_wheel_def,\n",
    "    direction=\"\",\n",
    "    metatype=\"PartUsage\",\n",
    "    connector_end=False,\n",
    ")"
   ]
  },
  {
   "cell_type": "code",
   "execution_count": 13,
   "id": "71b10667-7382-4da5-9f23-039fa6cf49fc",
   "metadata": {},
   "outputs": [],
   "source": [
    "wheel_diameter = build_from_feature_pattern(\n",
    "    owner=new_wheel_def,\n",
    "    name=\"diameter\",\n",
    "    model=empty_model,\n",
    "    specific_fields={\"ownedRelationship\": []},\n",
    "    feature_type=None,\n",
    "    direction=\"\",\n",
    "    metatype=\"AttributeUsage\",\n",
    "    connector_end=False,\n",
    ")"
   ]
  },
  {
   "cell_type": "markdown",
   "id": "b14feac6-c246-4302-9613-80814feee2a5",
   "metadata": {},
   "source": [
    "Add a specific value to the diameter of the wheel type."
   ]
  },
  {
   "cell_type": "code",
   "execution_count": 14,
   "id": "3cbe51ce-4358-4b52-8bb4-5a607aa321ae",
   "metadata": {},
   "outputs": [
    {
     "data": {
      "text/plain": [
       "16.5 «Occurred LiteralRational»"
      ]
     },
     "execution_count": 14,
     "metadata": {},
     "output_type": "execute_result"
    }
   ],
   "source": [
    "assign_value_by_literal_expression(\n",
    "    target_feature=wheel_diameter,\n",
    "    value_to_assign=16.5,\n",
    "    model=empty_model\n",
    ")"
   ]
  },
  {
   "cell_type": "markdown",
   "id": "762e8a98-2622-4f8f-adbf-3dd9e7adac8d",
   "metadata": {},
   "source": [
    "This is an example of what the model may look like before individual wheels are assigned values."
   ]
  },
  {
   "cell_type": "code",
   "execution_count": 15,
   "id": "f25527fb-c5f2-4c67-9cf0-74c426c9ac78",
   "metadata": {},
   "outputs": [
    {
     "name": "stdout",
     "output_type": "stream",
     "text": [
      "package 'SysML Value Model' {\n",
      "\tpart def Car {\n",
      "\t\tpart wheels : Wheel;\n",
      "\t}\n",
      "\tpart def Wheel {\n",
      "\t\tattribute diameter = 16.5;\n",
      "\t}\n",
      "}\n",
      "\n"
     ]
    }
   ],
   "source": [
    "print(serialize_sysml_package(empty_model.ownedElement[1]))"
   ]
  },
  {
   "cell_type": "code",
   "execution_count": 16,
   "id": "f9ff7d43-ff9a-478c-be07-f03d2b0f85a2",
   "metadata": {},
   "outputs": [],
   "source": [
    "wheel1 = build_from_feature_pattern(\n",
    "    owner=new_car,\n",
    "    name=\"wheel1\",\n",
    "    model=empty_model,\n",
    "    specific_fields={\"ownedRelationship\": []},\n",
    "    feature_type=new_wheel_def,\n",
    "    direction=\"\",\n",
    "    metatype=\"PartUsage\",\n",
    "    connector_end=False,\n",
    ")"
   ]
  },
  {
   "cell_type": "code",
   "execution_count": 17,
   "id": "bbb30bab-4b0c-4fee-9c58-30bef5fd15fb",
   "metadata": {},
   "outputs": [],
   "source": [
    "wheel2 = build_from_feature_pattern(\n",
    "    owner=new_car,\n",
    "    name=\"wheel2\",\n",
    "    model=empty_model,\n",
    "    specific_fields={\"ownedRelationship\": []},\n",
    "    feature_type=new_wheel_def,\n",
    "    direction=\"\",\n",
    "    metatype=\"PartUsage\",\n",
    "    connector_end=False,\n",
    ")"
   ]
  },
  {
   "cell_type": "code",
   "execution_count": 18,
   "id": "6b349206-37f0-49b0-b52b-7a546b590403",
   "metadata": {},
   "outputs": [],
   "source": [
    "wheel3 = build_from_feature_pattern(\n",
    "    owner=new_car,\n",
    "    name=\"wheel3\",\n",
    "    model=empty_model,\n",
    "    specific_fields={\"ownedRelationship\": []},\n",
    "    feature_type=new_wheel_def,\n",
    "    direction=\"\",\n",
    "    metatype=\"PartUsage\",\n",
    "    connector_end=False,\n",
    ")"
   ]
  },
  {
   "cell_type": "code",
   "execution_count": 19,
   "id": "aa3f6781-92c3-4358-aa5f-0f12d518ffff",
   "metadata": {},
   "outputs": [],
   "source": [
    "wheel4 = build_from_feature_pattern(\n",
    "    owner=new_car,\n",
    "    name=\"wheel4\",\n",
    "    model=empty_model,\n",
    "    specific_fields={\"ownedRelationship\": []},\n",
    "    feature_type=new_wheel_def,\n",
    "    direction=\"\",\n",
    "    metatype=\"PartUsage\",\n",
    "    connector_end=False,\n",
    ")"
   ]
  },
  {
   "cell_type": "code",
   "execution_count": 20,
   "id": "31cf69c9-a7a2-49a2-aa7b-96b51f565356",
   "metadata": {},
   "outputs": [
    {
     "ename": "IndexError",
     "evalue": "list index out of range",
     "output_type": "error",
     "traceback": [
      "\u001b[1;31m---------------------------------------------------------------------------\u001b[0m",
      "\u001b[1;31mIndexError\u001b[0m                                Traceback (most recent call last)",
      "\u001b[1;32mC:\\Users\\BJORNC~1\\AppData\\Local\\Temp/ipykernel_8228/3668456549.py\u001b[0m in \u001b[0;36m<module>\u001b[1;34m\u001b[0m\n\u001b[1;32m----> 1\u001b[1;33m assign_multiple_values_with_fre(\n\u001b[0m\u001b[0;32m      2\u001b[0m     \u001b[0mtype_to_apply_pattern_on\u001b[0m\u001b[1;33m=\u001b[0m\u001b[0mnew_wheels\u001b[0m\u001b[1;33m,\u001b[0m\u001b[1;33m\u001b[0m\u001b[1;33m\u001b[0m\u001b[0m\n\u001b[0;32m      3\u001b[0m     \u001b[0mmodel\u001b[0m\u001b[1;33m=\u001b[0m\u001b[0mempty_model\u001b[0m\u001b[1;33m,\u001b[0m\u001b[1;33m\u001b[0m\u001b[1;33m\u001b[0m\u001b[0m\n\u001b[0;32m      4\u001b[0m     \u001b[0mfeatures_to_reference\u001b[0m\u001b[1;33m=\u001b[0m\u001b[1;33m[\u001b[0m\u001b[0mwheel1\u001b[0m\u001b[1;33m,\u001b[0m \u001b[0mwheel2\u001b[0m\u001b[1;33m,\u001b[0m \u001b[0mwheel3\u001b[0m\u001b[1;33m,\u001b[0m \u001b[0mwheel4\u001b[0m\u001b[1;33m]\u001b[0m\u001b[1;33m,\u001b[0m\u001b[1;33m\u001b[0m\u001b[1;33m\u001b[0m\u001b[0m\n\u001b[0;32m      5\u001b[0m     \u001b[0mseperator_function\u001b[0m\u001b[1;33m=\u001b[0m\u001b[0msep_function\u001b[0m\u001b[1;33m\u001b[0m\u001b[1;33m\u001b[0m\u001b[0m\n",
      "\u001b[1;32mc:\\users\\bjorn cole\\documents\\github\\pymbe\\src\\pymbe\\model_modification.py\u001b[0m in \u001b[0;36massign_multiple_values_with_fre\u001b[1;34m(type_to_apply_pattern_on, model, features_to_reference, seperator_function)\u001b[0m\n\u001b[0;32m   1160\u001b[0m \u001b[1;33m\u001b[0m\u001b[0m\n\u001b[0;32m   1161\u001b[0m     \u001b[1;31m# need reference to the first element in the path\u001b[0m\u001b[1;33m\u001b[0m\u001b[1;33m\u001b[0m\u001b[1;33m\u001b[0m\u001b[0m\n\u001b[1;32m-> 1162\u001b[1;33m     new_oe = build_from_expression_pattern(\n\u001b[0m\u001b[0;32m   1163\u001b[0m         \u001b[0mowner\u001b[0m\u001b[1;33m=\u001b[0m\u001b[0mtype_to_apply_pattern_on\u001b[0m\u001b[1;33m,\u001b[0m\u001b[1;33m\u001b[0m\u001b[1;33m\u001b[0m\u001b[0m\n\u001b[0;32m   1164\u001b[0m         \u001b[0mmodel\u001b[0m\u001b[1;33m=\u001b[0m\u001b[0mmodel\u001b[0m\u001b[1;33m,\u001b[0m\u001b[1;33m\u001b[0m\u001b[1;33m\u001b[0m\u001b[0m\n",
      "\u001b[1;32mc:\\users\\bjorn cole\\documents\\github\\pymbe\\src\\pymbe\\model_modification.py\u001b[0m in \u001b[0;36mbuild_from_expression_pattern\u001b[1;34m(owner, model, specific_fields, metatype, in_paras, return_para)\u001b[0m\n\u001b[0;32m    952\u001b[0m     \u001b[0mnew_ele\u001b[0m\u001b[1;33m.\u001b[0m\u001b[0mresolve\u001b[0m\u001b[1;33m(\u001b[0m\u001b[1;33m)\u001b[0m\u001b[1;33m\u001b[0m\u001b[1;33m\u001b[0m\u001b[0m\n\u001b[0;32m    953\u001b[0m \u001b[1;33m\u001b[0m\u001b[0m\n\u001b[1;32m--> 954\u001b[1;33m     \u001b[0mmodel\u001b[0m\u001b[1;33m.\u001b[0m\u001b[0m_add_labels\u001b[0m\u001b[1;33m(\u001b[0m\u001b[0mnew_ele\u001b[0m\u001b[1;33m)\u001b[0m\u001b[1;33m\u001b[0m\u001b[1;33m\u001b[0m\u001b[0m\n\u001b[0m\u001b[0;32m    955\u001b[0m \u001b[1;33m\u001b[0m\u001b[0m\n\u001b[0;32m    956\u001b[0m     \u001b[1;32mfor\u001b[0m \u001b[0mnew_pm\u001b[0m \u001b[1;32min\u001b[0m \u001b[0mnew_pms\u001b[0m\u001b[1;33m:\u001b[0m\u001b[1;33m\u001b[0m\u001b[1;33m\u001b[0m\u001b[0m\n",
      "\u001b[1;32mc:\\users\\bjorn cole\\documents\\github\\pymbe\\src\\pymbe\\model.py\u001b[0m in \u001b[0;36m_add_labels\u001b[1;34m(self, *elements)\u001b[0m\n\u001b[0;32m    335\u001b[0m         \u001b[0melements\u001b[0m \u001b[1;33m=\u001b[0m \u001b[0melements\u001b[0m \u001b[1;32mor\u001b[0m \u001b[0mself\u001b[0m\u001b[1;33m.\u001b[0m\u001b[0melements\u001b[0m\u001b[1;33m.\u001b[0m\u001b[0mvalues\u001b[0m\u001b[1;33m(\u001b[0m\u001b[1;33m)\u001b[0m\u001b[1;33m\u001b[0m\u001b[1;33m\u001b[0m\u001b[0m\n\u001b[0;32m    336\u001b[0m         \u001b[1;32mfor\u001b[0m \u001b[0melement\u001b[0m \u001b[1;32min\u001b[0m \u001b[0melements\u001b[0m\u001b[1;33m:\u001b[0m\u001b[1;33m\u001b[0m\u001b[1;33m\u001b[0m\u001b[0m\n\u001b[1;32m--> 337\u001b[1;33m             \u001b[0mlabel\u001b[0m \u001b[1;33m=\u001b[0m \u001b[0mget_label\u001b[0m\u001b[1;33m(\u001b[0m\u001b[0melement\u001b[0m\u001b[1;33m=\u001b[0m\u001b[0melement\u001b[0m\u001b[1;33m)\u001b[0m\u001b[1;33m\u001b[0m\u001b[1;33m\u001b[0m\u001b[0m\n\u001b[0m\u001b[0;32m    338\u001b[0m             \u001b[1;32mif\u001b[0m \u001b[0mlabel\u001b[0m\u001b[1;33m:\u001b[0m\u001b[1;33m\u001b[0m\u001b[1;33m\u001b[0m\u001b[0m\n\u001b[0;32m    339\u001b[0m                 \u001b[0melement\u001b[0m\u001b[1;33m.\u001b[0m\u001b[0m_derived\u001b[0m\u001b[1;33m[\u001b[0m\u001b[1;34m\"label\"\u001b[0m\u001b[1;33m]\u001b[0m \u001b[1;33m=\u001b[0m \u001b[0mlabel\u001b[0m\u001b[1;33m\u001b[0m\u001b[1;33m\u001b[0m\u001b[0m\n",
      "\u001b[1;32mc:\\users\\bjorn cole\\documents\\github\\pymbe\\src\\pymbe\\label.py\u001b[0m in \u001b[0;36mget_label\u001b[1;34m(element)\u001b[0m\n\u001b[0;32m     21\u001b[0m     \u001b[0mmetatype\u001b[0m \u001b[1;33m=\u001b[0m \u001b[0melement\u001b[0m\u001b[1;33m.\u001b[0m\u001b[0m_metatype\u001b[0m\u001b[1;33m\u001b[0m\u001b[1;33m\u001b[0m\u001b[0m\n\u001b[0;32m     22\u001b[0m     \u001b[1;32mif\u001b[0m \u001b[0mmetatype\u001b[0m\u001b[1;33m.\u001b[0m\u001b[0mendswith\u001b[0m\u001b[1;33m(\u001b[0m\u001b[1;34m\"Expression\"\u001b[0m\u001b[1;33m)\u001b[0m\u001b[1;33m:\u001b[0m\u001b[1;33m\u001b[0m\u001b[1;33m\u001b[0m\u001b[0m\n\u001b[1;32m---> 23\u001b[1;33m         \u001b[1;32mreturn\u001b[0m \u001b[1;34mf\"{get_label_for_expression(element)} «{metatype}»\"\u001b[0m\u001b[1;33m\u001b[0m\u001b[1;33m\u001b[0m\u001b[0m\n\u001b[0m\u001b[0;32m     24\u001b[0m     \u001b[1;32mif\u001b[0m \u001b[0mmetatype\u001b[0m \u001b[1;33m==\u001b[0m \u001b[1;34m\"Invariant\"\u001b[0m \u001b[1;32mand\u001b[0m \u001b[1;34m\"throughResultExpressionMembership\"\u001b[0m \u001b[1;32min\u001b[0m \u001b[0melement\u001b[0m\u001b[1;33m.\u001b[0m\u001b[0m_derived\u001b[0m\u001b[1;33m:\u001b[0m\u001b[1;33m\u001b[0m\u001b[1;33m\u001b[0m\u001b[0m\n\u001b[0;32m     25\u001b[0m         \u001b[0minvar_expression\u001b[0m \u001b[1;33m=\u001b[0m \u001b[0melement\u001b[0m\u001b[1;33m.\u001b[0m\u001b[0mthroughResultExpressionMembership\u001b[0m\u001b[1;33m[\u001b[0m\u001b[1;36m0\u001b[0m\u001b[1;33m]\u001b[0m\u001b[1;33m\u001b[0m\u001b[1;33m\u001b[0m\u001b[0m\n",
      "\u001b[1;32mc:\\users\\bjorn cole\\documents\\github\\pymbe\\src\\pymbe\\label.py\u001b[0m in \u001b[0;36mget_label_for_expression\u001b[1;34m(expression)\u001b[0m\n\u001b[0;32m     91\u001b[0m         \u001b[1;31m# case for OperatorExpression - recurse on the parameters\u001b[0m\u001b[1;33m\u001b[0m\u001b[1;33m\u001b[0m\u001b[1;33m\u001b[0m\u001b[0m\n\u001b[0;32m     92\u001b[0m \u001b[1;33m\u001b[0m\u001b[0m\n\u001b[1;32m---> 93\u001b[1;33m         expression_label = f\" {expression.operator} \".join(\n\u001b[0m\u001b[0;32m     94\u001b[0m             \u001b[0mmap\u001b[0m\u001b[1;33m(\u001b[0m\u001b[0mget_label_for_expression\u001b[0m\u001b[1;33m,\u001b[0m \u001b[0mexpression\u001b[0m\u001b[1;33m.\u001b[0m\u001b[0mthroughParameterMembership\u001b[0m\u001b[1;33m)\u001b[0m\u001b[1;33m\u001b[0m\u001b[1;33m\u001b[0m\u001b[0m\n\u001b[0;32m     95\u001b[0m         )\n",
      "\u001b[1;32mc:\\users\\bjorn cole\\documents\\github\\pymbe\\src\\pymbe\\label.py\u001b[0m in \u001b[0;36mget_label_for_expression\u001b[1;34m(expression)\u001b[0m\n\u001b[0;32m     97\u001b[0m     \u001b[1;31m# case for the Features under an expression\u001b[0m\u001b[1;33m\u001b[0m\u001b[1;33m\u001b[0m\u001b[1;33m\u001b[0m\u001b[0m\n\u001b[0;32m     98\u001b[0m     \u001b[1;32melif\u001b[0m \u001b[0mmeta\u001b[0m \u001b[1;33m==\u001b[0m \u001b[1;34m\"Feature\"\u001b[0m\u001b[1;33m:\u001b[0m\u001b[1;33m\u001b[0m\u001b[1;33m\u001b[0m\u001b[0m\n\u001b[1;32m---> 99\u001b[1;33m         \u001b[0mexpression_label\u001b[0m \u001b[1;33m=\u001b[0m \u001b[0mget_label_for_expression\u001b[0m\u001b[1;33m(\u001b[0m\u001b[0mexpression\u001b[0m\u001b[1;33m.\u001b[0m\u001b[0mthroughFeatureValue\u001b[0m\u001b[1;33m[\u001b[0m\u001b[1;36m0\u001b[0m\u001b[1;33m]\u001b[0m\u001b[1;33m)\u001b[0m\u001b[1;33m\u001b[0m\u001b[1;33m\u001b[0m\u001b[0m\n\u001b[0m\u001b[0;32m    100\u001b[0m \u001b[1;33m\u001b[0m\u001b[0m\n\u001b[0;32m    101\u001b[0m     \u001b[1;32melif\u001b[0m \u001b[0mmeta\u001b[0m \u001b[1;33m==\u001b[0m \u001b[1;34m\"FeatureReferenceExpression\"\u001b[0m\u001b[1;33m:\u001b[0m\u001b[1;33m\u001b[0m\u001b[1;33m\u001b[0m\u001b[0m\n",
      "\u001b[1;31mIndexError\u001b[0m: list index out of range"
     ]
    }
   ],
   "source": [
    "assign_multiple_values_with_fre(\n",
    "    type_to_apply_pattern_on=new_wheels,\n",
    "    model=empty_model,\n",
    "    features_to_reference=[wheel1, wheel2, wheel3, wheel4],\n",
    "    seperator_function=sep_function\n",
    ")"
   ]
  },
  {
   "cell_type": "code",
   "execution_count": null,
   "id": "21f0b849-cb17-4343-96bb-6ef4ad5f61b6",
   "metadata": {},
   "outputs": [],
   "source": [
    "print(serialize_sysml_package(empty_model.ownedElement[1]))"
   ]
  },
  {
   "cell_type": "code",
   "execution_count": null,
   "id": "298db564-57ec-4706-a6a5-2e706cb8b600",
   "metadata": {},
   "outputs": [],
   "source": []
  }
 ],
 "metadata": {
  "kernelspec": {
   "display_name": "Python 3 (ipykernel)",
   "language": "python",
   "name": "python3"
  },
  "language_info": {
   "codemirror_mode": {
    "name": "ipython",
    "version": 3
   },
   "file_extension": ".py",
   "mimetype": "text/x-python",
   "name": "python",
   "nbconvert_exporter": "python",
   "pygments_lexer": "ipython3",
   "version": "3.9.6"
  }
 },
 "nbformat": 4,
 "nbformat_minor": 5
}
