{
 "cells": [
  {
   "cell_type": "markdown",
   "id": "0b29b3fe-4145-499c-90f9-a383a8d3ca02",
   "metadata": {},
   "source": [
    "# Annex A Execution\n",
    "\n",
    "A notebook implementing the execution rules from KerML Annex A with PyMBE."
   ]
  },
  {
   "cell_type": "code",
   "execution_count": null,
   "id": "f7839ebb-7c5b-4284-9ca4-5a83c53cb1ec",
   "metadata": {},
   "outputs": [],
   "source": [
    "import json\n",
    "import pymbe.api as pm\n",
    "\n",
    "import copy\n",
    "\n",
    "from importlib import resources as lib_resources\n",
    "\n",
    "from pathlib import Path\n",
    "\n",
    "from typing import Any, Collection, Dict, List, Tuple, Union\n",
    "\n",
    "from pymbe.model import Model, Element\n",
    "from pymbe.model_modification import *\n",
    "\n",
    "from pymbe.query.metamodel_navigator import is_type_undefined_mult, \\\n",
    "                                    is_multiplicity_one, \\\n",
    "                                    is_multiplicity_specific_finite, \\\n",
    "                                    get_finite_multiplicity_types, \\\n",
    "                                    identify_connectors_one_side, \\\n",
    "                                    get_lower_multiplicity, \\\n",
    "                                    get_upper_multiplicity, \\\n",
    "                                    does_behavior_have_write_features, \\\n",
    "                                    get_most_specific_feature_type, \\\n",
    "                                    has_type_named, \\\n",
    "                                    get_effective_lower_multiplicity, \\\n",
    "                                    get_feature_bound_values, \\\n",
    "                                    get_more_general_types\n",
    "\n",
    "from pymbe.metamodel import derive_inherited_featurememberships\n",
    "\n",
    "from pymbe.text_concrete_syntax import serialize_kerml_atom\n",
    "\n",
    "from pymbe.interpretation.working_maps import FeatureTypeWorkingMap\n",
    "from pymbe.interpretation.execute_kerml_atoms import KermlForwardExecutor\n",
    "\n",
    "from uuid import uuid4"
   ]
  },
  {
   "cell_type": "markdown",
   "id": "58774846-db97-4e49-b8da-6eef42b2b0b0",
   "metadata": {},
   "source": [
    "## Key Helpers for the Algorithm\n",
    "\n",
    "These helpers are yet to be implemented in the core of the Python tool and thus need to be more spelled out."
   ]
  },
  {
   "cell_type": "markdown",
   "id": "539c53c5-b093-45b3-8026-2cea43082b3d",
   "metadata": {},
   "source": [
    "### Check for Connectors to Features"
   ]
  },
  {
   "cell_type": "code",
   "execution_count": null,
   "id": "8b787a36-0513-48b7-bf60-3793ccc30c84",
   "metadata": {},
   "outputs": [],
   "source": [
    "def is_feature_connected(feature):\n",
    "    print(f\"...Inspecting {feature.declaredName} for connector references.\")\n",
    "    if hasattr(feature, \"reverseReferenceSubsetting\"):\n",
    "        print(f\"...Found link to connector end {feature.reverseReferenceSubsetting[0]}\")\n",
    "        return True\n",
    "    else:\n",
    "        print(f\"...Found no reverse edge outgoing to connector end.\")\n",
    "        return False"
   ]
  },
  {
   "cell_type": "markdown",
   "id": "7caea0ba-ebf3-473e-93d6-f4f02037ab92",
   "metadata": {},
   "source": [
    "# Load up Kernel Libraries\n",
    "\n",
    "Load up the model libraries into memory so that key features for subsetting can be found."
   ]
  },
  {
   "cell_type": "code",
   "execution_count": null,
   "id": "09d9067b-6355-4b9d-9ef4-46cbdb353ead",
   "metadata": {},
   "outputs": [],
   "source": [
    "library = \"KernelLibrary\"\n",
    "\n",
    "library_model = None\n",
    "\n",
    "with lib_resources.path(\"pymbe.static_data\", \"KernelLibrary.json\") as lib_data:\n",
    "    library_model = pm.Model.load_from_post_file(lib_data)"
   ]
  },
  {
   "cell_type": "markdown",
   "id": "cdf018c2-6bb6-49a4-9358-02ba6a991b13",
   "metadata": {},
   "source": [
    "## Routines for Execution\n",
    "\n",
    "The following sections are focused on solving the problem of mapping values to KerML types in the model. The approach taken here is to find one legal set of values for types in the model via an approach where the program will walk straight ahead in the model, deriving values as it goes. This approach is called \"execution\" here."
   ]
  },
  {
   "cell_type": "code",
   "execution_count": null,
   "id": "8476dd20-1f30-48ec-9fd4-bfd3fdaefa79",
   "metadata": {},
   "outputs": [],
   "source": [
    "def print_values_dictionary(model, values_dict):\n",
    "    print_string = \"\"\n",
    "    for k, v in values_dict.items():\n",
    "        print_string = print_string + f\">>>Key {model.get_element(k)} ({k}) has values {v}\\n\"\n",
    "        \n",
    "    print(print_string)"
   ]
  },
  {
   "cell_type": "code",
   "execution_count": null,
   "id": "739aece2-4a51-4eaf-b027-408b70565e8a",
   "metadata": {},
   "outputs": [],
   "source": [
    "def pretty_print_steps_log(builder_log):\n",
    "    # helper to print the log in a way you can read it in the Jupyter notebook easily\n",
    "    print(\"\\n\".join(builder_log))"
   ]
  },
  {
   "cell_type": "markdown",
   "id": "fd27e6cc-2fd8-4890-9c93-a7e8caa1c6ad",
   "metadata": {},
   "source": [
    "## Atom Metadata Load\n",
    "\n",
    "Bring up the Atom metadata."
   ]
  },
  {
   "cell_type": "markdown",
   "id": "73d104ea-d80a-4c73-ba7e-8bc96c942ce8",
   "metadata": {},
   "source": [
    "filename = \"A-2-Atoms\"\n",
    "\n",
    "if not filename.endswith(\".json\"):\n",
    "    filename += \".json\"\n",
    "\n",
    "json_file = Path(Path.cwd()) / \"annex_a_data\" / filename\n",
    "\n",
    "atoms_data = pm.Model.load_from_post_file(json_file)\n",
    "atoms_data"
   ]
  },
  {
   "cell_type": "markdown",
   "id": "3d42352a-0aa9-4e97-8959-f8fcd026b565",
   "metadata": {},
   "source": [
    "## Annex A.3.2 Without Connectors Case"
   ]
  },
  {
   "cell_type": "code",
   "execution_count": null,
   "id": "3eaa3d32-7a9f-44b7-abb8-87fc45922128",
   "metadata": {},
   "outputs": [],
   "source": [
    "filename = \"A-3-2-WithoutConnectors\"\n",
    "\n",
    "if not filename.endswith(\".json\"):\n",
    "    filename += \".json\"\n",
    "\n",
    "json_file = Path(Path.cwd()) / \"annex_a_data\" / filename\n",
    "\n",
    "without_connectors_data = pm.Model.load_from_post_file(json_file)\n",
    "without_connectors_data\n",
    "\n",
    "without_connectors_data.reference_other_model(library_model)"
   ]
  },
  {
   "cell_type": "code",
   "execution_count": null,
   "id": "bffd842c-b348-4f13-9c68-6d6d45241d8a",
   "metadata": {},
   "outputs": [],
   "source": [
    "packages = [ele for ele in without_connectors_data.elements.values() if ele._metatype == 'Package']\n",
    "packages"
   ]
  },
  {
   "cell_type": "code",
   "execution_count": null,
   "id": "f573e8e8-a1fb-4589-8244-65514cbce1a5",
   "metadata": {},
   "outputs": [],
   "source": [
    "without_connectors_to_execute_classifiers = \\\n",
    "    [ele for ele in packages[0].throughOwningMembership if ele._metatype == 'Classifier']"
   ]
  },
  {
   "cell_type": "code",
   "execution_count": null,
   "id": "a22680e9-33ef-465b-8bb1-76ffa110c45e",
   "metadata": {},
   "outputs": [],
   "source": [
    "without_connectors_executor = KermlForwardExecutor(without_connectors_data, packages[1])"
   ]
  },
  {
   "cell_type": "code",
   "execution_count": null,
   "id": "18a359ea-5462-4f8f-8c0c-18115d80ecdc",
   "metadata": {},
   "outputs": [],
   "source": [
    "packages[0].throughOwningMembership"
   ]
  },
  {
   "cell_type": "code",
   "execution_count": null,
   "id": "6cca76d4-f55e-4790-ad56-f3e14dd6d74a",
   "metadata": {},
   "outputs": [],
   "source": [
    "packages[0].throughOwningMembership[1].throughSubclassification"
   ]
  },
  {
   "cell_type": "code",
   "execution_count": null,
   "id": "64b3a331-4359-4d3f-bb37-6fe88576baa9",
   "metadata": {},
   "outputs": [],
   "source": [
    "packages[0].throughOwningMembership[2].basic_name"
   ]
  },
  {
   "cell_type": "code",
   "execution_count": null,
   "id": "8682c183-9f3d-4a82-acf3-39b218bfdb97",
   "metadata": {},
   "outputs": [],
   "source": [
    "without_connectors_executor.execute_from_classifier(packages[0].throughOwningMembership[1])"
   ]
  },
  {
   "cell_type": "code",
   "execution_count": null,
   "id": "d6cd51eb-66e8-4241-9abc-d7821f4885a1",
   "metadata": {},
   "outputs": [],
   "source": [
    "for item in packages[1].throughOwningMembership:\n",
    "    print(serialize_kerml_atom(item))"
   ]
  },
  {
   "cell_type": "code",
   "execution_count": null,
   "id": "928e3aae-ffc2-46cf-9889-411fee85bd99",
   "metadata": {},
   "outputs": [],
   "source": [
    "print(without_connectors_executor._traversal_log)"
   ]
  },
  {
   "cell_type": "code",
   "execution_count": null,
   "id": "914f4769-42b3-4718-97b2-a949643e244c",
   "metadata": {},
   "outputs": [],
   "source": [
    "pretty_print_steps_log(without_connectors_executor._builder_log['Bicycle «Classifier».[]'])"
   ]
  },
  {
   "cell_type": "code",
   "execution_count": null,
   "id": "28c76d55-bfe4-41c2-a3ea-a53ced9af047",
   "metadata": {},
   "outputs": [],
   "source": [
    "print(\"\\n\".join(without_connectors_executor._value_map_log))"
   ]
  },
  {
   "cell_type": "markdown",
   "id": "76527f48-4908-42a8-8115-f9895e2a00af",
   "metadata": {},
   "source": [
    "## Annex A.3.3 One-To-One Connectors Case"
   ]
  },
  {
   "cell_type": "code",
   "execution_count": null,
   "id": "f63fe8c2-aa35-45e1-aaa5-d63bf92f629c",
   "metadata": {},
   "outputs": [],
   "source": [
    "filename = \"A-3-3-OneToOneConnectors\"\n",
    "\n",
    "if not filename.endswith(\".json\"):\n",
    "    filename += \".json\"\n",
    "\n",
    "json_file = Path(Path.cwd()) / \"annex_a_data\" / filename\n",
    "\n",
    "one_2_one_connectors_data = pm.Model.load_from_post_file(json_file)\n",
    "one_2_one_connectors_data\n",
    "\n",
    "one_2_one_connectors_data.reference_other_model(library_model)"
   ]
  },
  {
   "cell_type": "code",
   "execution_count": null,
   "id": "e3668916-c1c1-4585-8196-c457b142f060",
   "metadata": {},
   "outputs": [],
   "source": [
    "packages = [ele for ele in one_2_one_connectors_data.elements.values() if ele._metatype == 'Package']\n",
    "packages"
   ]
  },
  {
   "cell_type": "code",
   "execution_count": null,
   "id": "51301a43-d790-40b7-be39-33e55febea94",
   "metadata": {},
   "outputs": [],
   "source": [
    "packages[2].throughOwningMembership"
   ]
  },
  {
   "cell_type": "code",
   "execution_count": null,
   "id": "a2977955-e553-4c30-8a41-3d8899d219b5",
   "metadata": {},
   "outputs": [],
   "source": [
    "packages[2].throughOwningMembership[1].throughFeatureMembership[0].throughEndFeatureMembership"
   ]
  },
  {
   "cell_type": "code",
   "execution_count": null,
   "id": "bf1c2e8d-1270-4a5d-a6f4-72d5a9bb9575",
   "metadata": {},
   "outputs": [],
   "source": [
    "one_2_one_connectors_executor = KermlForwardExecutor(one_2_one_connectors_data, packages[3])"
   ]
  },
  {
   "cell_type": "code",
   "execution_count": null,
   "id": "0f7ce455-334c-44a5-b45e-2d82df1cfe10",
   "metadata": {},
   "outputs": [],
   "source": [
    "one_2_one_connectors_executor.execute_from_classifier(packages[2].throughOwningMembership[1])"
   ]
  },
  {
   "cell_type": "code",
   "execution_count": null,
   "id": "e82b0dfa-e4d7-4e37-951b-7a49b96e91d9",
   "metadata": {},
   "outputs": [],
   "source": [
    "for item in packages[3].throughOwningMembership:\n",
    "    print(serialize_kerml_atom(item))"
   ]
  },
  {
   "cell_type": "code",
   "execution_count": null,
   "id": "112c40ea-1008-4010-aee4-08b53f767027",
   "metadata": {},
   "outputs": [],
   "source": [
    "packages[3].throughOwningMembership"
   ]
  },
  {
   "cell_type": "code",
   "execution_count": null,
   "id": "2deb2b94-e97e-46b9-912e-eb9b9d8eb236",
   "metadata": {},
   "outputs": [],
   "source": [
    "packages[3].throughOwningMembership[4].throughSubclassification"
   ]
  },
  {
   "cell_type": "code",
   "execution_count": null,
   "id": "0a864778-b2a0-48ad-9231-fc57b554eb50",
   "metadata": {},
   "outputs": [],
   "source": [
    "print(without_connectors_executor._traversal_log)"
   ]
  },
  {
   "cell_type": "code",
   "execution_count": null,
   "id": "82696365-9e5f-4423-bb39-06eec7c76562",
   "metadata": {},
   "outputs": [],
   "source": [
    "list(without_connectors_executor._builder_log.keys())"
   ]
  },
  {
   "cell_type": "code",
   "execution_count": null,
   "id": "3e985ab2-f291-462c-92e1-08dcf532d07f",
   "metadata": {},
   "outputs": [],
   "source": [
    "pretty_print_steps_log(without_connectors_executor._builder_log['Bicycle «Classifier».[]'])"
   ]
  },
  {
   "cell_type": "code",
   "execution_count": null,
   "id": "f89d7c8c-43ca-4a03-9928-3b46c6f7a76f",
   "metadata": {},
   "outputs": [],
   "source": [
    "print(\"\\n\".join(without_connectors_executor._value_map_log))"
   ]
  },
  {
   "cell_type": "markdown",
   "id": "33368566-8042-4c8d-a2da-d7c70fd1bc7d",
   "metadata": {},
   "source": [
    "## Annex A.3.6 Timing for Behaviors, Sequences"
   ]
  },
  {
   "cell_type": "code",
   "execution_count": null,
   "id": "f63d5aba-7169-41ce-b47d-6c9dc1e35636",
   "metadata": {},
   "outputs": [],
   "source": [
    "filename = \"A-3-6-Sequences\"\n",
    "filename = \"A-3-6-aSequences-User-Only\"\n",
    "\n",
    "if not filename.endswith(\".json\"):\n",
    "    filename += \".json\"\n",
    "\n",
    "json_file = Path(Path.cwd()) / \"annex_a_data\" / filename\n",
    "\n",
    "sequences_data = pm.Model.load_from_post_file(json_file)\n",
    "sequences_data\n",
    "\n",
    "sequences_data.reference_other_model(library_model)"
   ]
  },
  {
   "cell_type": "code",
   "execution_count": null,
   "id": "6736b5cd-3f6f-4a18-b390-1ecf26cd6dac",
   "metadata": {},
   "outputs": [],
   "source": [
    "packages = [ele for ele in sequences_data.elements.values() if ele._metatype == 'Package']\n",
    "packages"
   ]
  },
  {
   "cell_type": "code",
   "execution_count": null,
   "id": "6305e541-907d-4284-9ef2-7419d2355a0e",
   "metadata": {},
   "outputs": [],
   "source": [
    "packages[0].throughOwningMembership"
   ]
  },
  {
   "cell_type": "code",
   "execution_count": null,
   "id": "67ec0f7b-c7a4-4868-b7e2-151c7b9ee3e3",
   "metadata": {},
   "outputs": [],
   "source": [
    "packages[0].throughOwningMembership[1].throughFeatureMembership"
   ]
  },
  {
   "cell_type": "code",
   "execution_count": null,
   "id": "3c528fe2-40d2-4338-96e1-b6312fabac89",
   "metadata": {},
   "outputs": [],
   "source": [
    "packages[0].throughOwningMembership[1].throughFeatureMembership[0].throughSubsetting[0]._derived"
   ]
  },
  {
   "cell_type": "code",
   "execution_count": null,
   "id": "cec1fa26-79be-4aab-8a74-aa13268317c7",
   "metadata": {},
   "outputs": [],
   "source": [
    "sequences_executor = KermlForwardExecutor(sequences_data, packages[1])"
   ]
  },
  {
   "cell_type": "code",
   "execution_count": null,
   "id": "b33ad882-269e-4fcc-92e6-cac35b2f2f20",
   "metadata": {},
   "outputs": [],
   "source": [
    "sequences_executor.execute_from_classifier(packages[0].throughOwningMembership[1])"
   ]
  },
  {
   "cell_type": "code",
   "execution_count": null,
   "id": "021673bf-e141-43b8-9239-d01c1a3d57d5",
   "metadata": {},
   "outputs": [],
   "source": [
    "for item in packages[1].throughOwningMembership:\n",
    "    print(serialize_kerml_atom(item))"
   ]
  },
  {
   "cell_type": "code",
   "execution_count": null,
   "id": "e8ca1d1c-8ee3-41eb-b599-12fc0b718d89",
   "metadata": {},
   "outputs": [],
   "source": [
    "packages[1].throughOwningMembership"
   ]
  },
  {
   "cell_type": "code",
   "execution_count": null,
   "id": "5425f0d2-9905-4849-86a4-84d9cb9203a1",
   "metadata": {},
   "outputs": [],
   "source": [
    "print(sequences_executor._traversal_log)"
   ]
  },
  {
   "cell_type": "code",
   "execution_count": null,
   "id": "9b11104d-0ef3-4a89-a449-e01c1f37a104",
   "metadata": {},
   "outputs": [],
   "source": [
    "list(sequences_executor._builder_log.keys())"
   ]
  },
  {
   "cell_type": "code",
   "execution_count": null,
   "id": "a1a499e1-6563-4edc-a5e2-d58ff61b34d4",
   "metadata": {},
   "outputs": [],
   "source": [
    "pretty_print_steps_log(sequences_executor._builder_log['dry: Dry «Step».[]'])"
   ]
  },
  {
   "cell_type": "code",
   "execution_count": null,
   "id": "0bff9237-7678-4948-a8c6-567b40f7e0c5",
   "metadata": {},
   "outputs": [],
   "source": [
    "print(\"\\n\".join(sequences_executor._value_map_log))"
   ]
  },
  {
   "cell_type": "markdown",
   "id": "2e3180d0-f4ea-46df-8da6-0690a93d5617",
   "metadata": {},
   "source": [
    "## Annex A.3.8 Feature Value Changes"
   ]
  },
  {
   "cell_type": "code",
   "execution_count": null,
   "id": "31e873c4-53b3-4d5e-aa73-762461422aa1",
   "metadata": {},
   "outputs": [],
   "source": [
    "filename = \"A-3-8-ChangingFeatureValues\"\n",
    "\n",
    "if not filename.endswith(\".json\"):\n",
    "    filename += \".json\"\n",
    "\n",
    "json_file = Path(Path.cwd()) / \"annex_a_data\" / filename\n",
    "\n",
    "values_data = pm.Model.load_from_post_file(json_file)\n",
    "values_data\n",
    "\n",
    "values_data.reference_other_model(library_model)"
   ]
  },
  {
   "cell_type": "code",
   "execution_count": null,
   "id": "26cc51fc-9e1a-4941-9b69-57a8419a9ac6",
   "metadata": {},
   "outputs": [],
   "source": [
    "packages = [ele for ele in values_data.elements.values() if ele._metatype == 'Package']\n",
    "packages"
   ]
  },
  {
   "cell_type": "code",
   "execution_count": null,
   "id": "4411f9d6-1ab7-47aa-a4dd-9b4341cfcc75",
   "metadata": {},
   "outputs": [],
   "source": [
    "packages[1]"
   ]
  },
  {
   "cell_type": "code",
   "execution_count": null,
   "id": "02552818-d6a3-45d5-8027-0fd7767c71b7",
   "metadata": {},
   "outputs": [],
   "source": [
    "values_executor = KermlForwardExecutor(values_data, packages[1])"
   ]
  },
  {
   "cell_type": "code",
   "execution_count": null,
   "id": "f21a737f-5f49-4c9d-8f57-e02e6e2d97c8",
   "metadata": {},
   "outputs": [],
   "source": [
    "packages[0]"
   ]
  },
  {
   "cell_type": "code",
   "execution_count": null,
   "id": "20baf9e8-6cfc-4b76-8b24-bcfdec606836",
   "metadata": {},
   "outputs": [],
   "source": [
    "has_type_named(packages[0].throughOwningMembership[3].throughFeatureMembership[1], \"FeatureWritePerformance\")"
   ]
  },
  {
   "cell_type": "code",
   "execution_count": null,
   "id": "0dfd72ec-20da-4d43-8081-2a9802014ae9",
   "metadata": {},
   "outputs": [],
   "source": [
    "packages[0].throughOwningMembership[3].throughFeatureMembership[1].throughFeatureMembership"
   ]
  },
  {
   "cell_type": "code",
   "execution_count": null,
   "id": "94c7e028-f710-403f-9c6e-4f464fb7bcef",
   "metadata": {},
   "outputs": [],
   "source": [
    "packages[0].throughOwningMembership[3].throughFeatureMembership[1].throughFeatureMembership[0].throughFeatureMembership[0].throughFeatureMembership[0].throughSubsetting"
   ]
  },
  {
   "cell_type": "code",
   "execution_count": null,
   "id": "baf834ac-42b4-46f5-8e47-bde726074fb1",
   "metadata": {},
   "outputs": [],
   "source": [
    "values_executor.execute_from_classifier(packages[0].throughOwningMembership[1])"
   ]
  },
  {
   "cell_type": "code",
   "execution_count": null,
   "id": "5579d9df-eb4d-4766-8980-31ca82927450",
   "metadata": {},
   "outputs": [],
   "source": [
    "for item in packages[1].throughOwningMembership:\n",
    "    print(serialize_kerml_atom(item))"
   ]
  },
  {
   "cell_type": "code",
   "execution_count": null,
   "id": "ef099e78-12b2-4701-a04c-d8bc5c7b28ff",
   "metadata": {},
   "outputs": [],
   "source": [
    "print(values_executor._traversal_log)"
   ]
  },
  {
   "cell_type": "code",
   "execution_count": null,
   "id": "4baf695b-c8ec-4064-a540-2a48e0c7a8f5",
   "metadata": {},
   "outputs": [],
   "source": [
    "list(values_executor._builder_log.keys())"
   ]
  },
  {
   "cell_type": "code",
   "execution_count": null,
   "id": "3679fc17-b9fd-4f77-bb15-aaf2e705800e",
   "metadata": {},
   "outputs": [],
   "source": [
    "pretty_print_steps_log(values_executor._builder_log['paint: Paint «Step».[]'])"
   ]
  },
  {
   "cell_type": "code",
   "execution_count": null,
   "id": "f3869900-45ee-4f83-bbc6-ba439fe6caf4",
   "metadata": {},
   "outputs": [],
   "source": [
    "print(\"\\n\".join(values_executor._value_map_log))"
   ]
  },
  {
   "cell_type": "code",
   "execution_count": null,
   "id": "230d3a10-7c27-4ccb-8371-ca1039957f40",
   "metadata": {},
   "outputs": [],
   "source": []
  }
 ],
 "metadata": {
  "kernelspec": {
   "display_name": "Python 3 (ipykernel)",
   "language": "python",
   "name": "python3"
  },
  "language_info": {
   "codemirror_mode": {
    "name": "ipython",
    "version": 3
   },
   "file_extension": ".py",
   "mimetype": "text/x-python",
   "name": "python",
   "nbconvert_exporter": "python",
   "pygments_lexer": "ipython3",
   "version": "3.9.6"
  }
 },
 "nbformat": 4,
 "nbformat_minor": 5
}
