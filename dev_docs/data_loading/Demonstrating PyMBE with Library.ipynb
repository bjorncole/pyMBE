{
 "cells": [
  {
   "cell_type": "markdown",
   "id": "299a838a-9486-4801-8466-b207f2fd1ae3",
   "metadata": {},
   "source": [
    "# Demonstrating PyMBE with Library\n",
    "\n",
    "This notebook shows how PyMBE explores KerML and SysML models by loading libraries from JSON data and exploring them as Python classes."
   ]
  },
  {
   "cell_type": "code",
   "execution_count": 1,
   "id": "f1645b5f-c517-47fc-91e4-f42d72458996",
   "metadata": {},
   "outputs": [],
   "source": [
    "import json\n",
    "import pymbe.api as pm\n",
    "\n",
    "import copy\n",
    "\n",
    "from importlib import resources as lib_resources\n",
    "\n",
    "from pathlib import Path\n",
    "\n",
    "from typing import Any, Collection, Dict, List, Tuple, Union\n",
    "\n",
    "from pymbe.model import Model, Element\n",
    "\n",
    "from uuid import uuid4"
   ]
  },
  {
   "cell_type": "code",
   "execution_count": 2,
   "id": "4d971816-ee8b-4db0-b11a-4f949da90446",
   "metadata": {},
   "outputs": [
    {
     "name": "stdout",
     "output_type": "stream",
     "text": [
      "c:\\users\\bjorn cole\\documents\\github\\pymbe\\src\\pymbe\\static_data\\Base.json\n"
     ]
    }
   ],
   "source": [
    "with lib_resources.path(\"pymbe.static_data\", \"Base.json\") as lib_data:\n",
    "    print(lib_data)"
   ]
  },
  {
   "cell_type": "code",
   "execution_count": 3,
   "id": "ca836568-07f8-4066-b52a-308a1a3a144a",
   "metadata": {},
   "outputs": [],
   "source": [
    "library_namespace = \"Base\"\n",
    "\n",
    "base_library_model = None\n",
    "\n",
    "with lib_resources.path(\"pymbe.static_data\", \"Base.json\") as lib_data:\n",
    "    base_library_model = pm.Model.load_from_post_file(lib_data)"
   ]
  },
  {
   "cell_type": "code",
   "execution_count": 4,
   "id": "f6a1c8b7-fdb3-4a29-9648-4d7c5c39eb22",
   "metadata": {},
   "outputs": [
    {
     "data": {
      "text/plain": [
       "<SysML v2 Model (C:\\Users\\Bjorn Cole\\Documents\\GitHub\\pyMBE\\src\\pymbe\\static_data\\Base.json)>"
      ]
     },
     "execution_count": 4,
     "metadata": {},
     "output_type": "execute_result"
    }
   ],
   "source": [
    "base_library_model"
   ]
  },
  {
   "cell_type": "code",
   "execution_count": 5,
   "id": "82f4573e-16b3-4e38-83ce-338c0605ff4d",
   "metadata": {},
   "outputs": [
    {
     "data": {
      "text/plain": [
       "[b8677e94-9996-446f-b68f-c753e96b4816 «Namespace»]"
      ]
     },
     "execution_count": 5,
     "metadata": {},
     "output_type": "execute_result"
    }
   ],
   "source": [
    "namespaces = [ele for ele in base_library_model.elements.values() if ele._metatype == 'Namespace']\n",
    "namespaces"
   ]
  },
  {
   "cell_type": "code",
   "execution_count": 6,
   "id": "84ab804b-cd23-4a6b-9ff7-dcd1ef2ad709",
   "metadata": {},
   "outputs": [
    {
     "data": {
      "text/plain": [
       "[Base «LibraryPackage»]"
      ]
     },
     "execution_count": 6,
     "metadata": {},
     "output_type": "execute_result"
    }
   ],
   "source": [
    "namespaces[0].throughOwningMembership"
   ]
  },
  {
   "cell_type": "code",
   "execution_count": 7,
   "id": "fc9e5dc9-ba94-4056-8d29-46b2a2f4b019",
   "metadata": {},
   "outputs": [
    {
     "data": {
      "text/plain": [
       "Base «LibraryPackage»"
      ]
     },
     "execution_count": 7,
     "metadata": {},
     "output_type": "execute_result"
    }
   ],
   "source": [
    "namespaces[0].throughOwningMembership[0]"
   ]
  },
  {
   "cell_type": "code",
   "execution_count": 8,
   "id": "ab85d430-ff8e-493d-956f-dbd2406e0948",
   "metadata": {},
   "outputs": [
    {
     "data": {
      "text/plain": [
       "[<OwningMembership([Base «LibraryPackage»] ←→ [a87cdfd0-5aed-4545-b56a-a4bb7bed3d3d «Documentation»])>,\n",
       " <OwningMembership([Anything «Classifier»] ←→ [c0bd669b-b276-48f6-bb90-26b466bf977c «Documentation»])>,\n",
       " <OwningMembership([0..*] ←→ [1 «Occurred LiteralInteger»])>,\n",
       " <OwningMembership([self «Feature»] ←→ [0..*])>,\n",
       " <OwningMembership([0..*] ←→ [1 «Occurred LiteralInteger»])>,\n",
       " <OwningMembership([0..*] ←→ [32df5f20-c827-4941-bd15-dd7de7d2d589 «LiteralInfinity»])>,\n",
       " <OwningMembership([things «Feature»] ←→ [0..*])>,\n",
       " <OwningMembership([things «Feature»] ←→ [99ceeebd-fdcd-4761-af1f-d816b075514f «Documentation»])>,\n",
       " <OwningMembership([0..*] ←→ [1 «Occurred LiteralInteger»])>,\n",
       " <OwningMembership([that «Feature»] ←→ [0..*])>,\n",
       " <OwningMembership([that «Feature»] ←→ [dace4a84-a585-46d0-803d-5c60e32107d4 «Documentation»])>,\n",
       " <OwningMembership([self «Feature»] ←→ [7db2f3b0-0c22-4aa6-b384-ed341472d559 «Documentation»])>,\n",
       " <OwningMembership([Base «LibraryPackage»] ←→ [Anything «Classifier»])>,\n",
       " <OwningMembership([DataValue «DataType»] ←→ [923c2575-f2d9-43f8-a79c-5ebbd6430e40 «Documentation»])>,\n",
       " <OwningMembership([Base «LibraryPackage»] ←→ [DataValue «DataType»])>,\n",
       " <OwningMembership([Base «LibraryPackage»] ←→ [things «Feature»])>,\n",
       " <OwningMembership([0..*] ←→ [ac2e64dc-607d-4150-b95a-db82adf218f3 «LiteralInteger»])>,\n",
       " <OwningMembership([0..*] ←→ [9410fc11-bcff-44f3-8760-8938ba21e11f «LiteralInfinity»])>,\n",
       " <OwningMembership([dataValues «Feature»] ←→ [0..*])>,\n",
       " <OwningMembership([dataValues «Feature»] ←→ [82cb2a1e-7f06-4ae8-b1d5-48a172fca350 «Documentation»])>,\n",
       " <OwningMembership([Base «LibraryPackage»] ←→ [dataValues «Feature»])>,\n",
       " <OwningMembership([Base «LibraryPackage»] ←→ [72514c15-1c75-4343-aac2-fd5c4689f710 «Comment»])>,\n",
       " <OwningMembership([b8677e94-9996-446f-b68f-c753e96b4816 «Namespace»] ←→ [Base «LibraryPackage»])>]"
      ]
     },
     "execution_count": 8,
     "metadata": {},
     "output_type": "execute_result"
    }
   ],
   "source": [
    "owning_memberships = [ele for ele in base_library_model.elements.values() if ele._metatype == 'OwningMembership']\n",
    "owning_memberships"
   ]
  },
  {
   "cell_type": "code",
   "execution_count": 9,
   "id": "a1d424b6-9a82-4826-8ffe-e950df63bea7",
   "metadata": {},
   "outputs": [
    {
     "data": {
      "text/plain": [
       "[Anything «Classifier»]"
      ]
     },
     "execution_count": 9,
     "metadata": {},
     "output_type": "execute_result"
    }
   ],
   "source": [
    "classes = [ele for ele in base_library_model.elements.values() if ele._metatype == 'Classifier']\n",
    "classes"
   ]
  },
  {
   "cell_type": "code",
   "execution_count": 10,
   "id": "c50c3687-4622-4805-a665-de7e08bdf8f4",
   "metadata": {},
   "outputs": [
    {
     "data": {
      "text/plain": [
       "[out result «Feature»,\n",
       " out result «Feature»,\n",
       " out result «Feature»,\n",
       " out result «Feature»,\n",
       " that «Feature»,\n",
       " things «Feature»,\n",
       " self «Feature»,\n",
       " self «Feature»,\n",
       " out result «Feature»,\n",
       " out result «Feature»,\n",
       " dataValues «Feature»]"
      ]
     },
     "execution_count": 10,
     "metadata": {},
     "output_type": "execute_result"
    }
   ],
   "source": [
    "features = [ele for ele in base_library_model.elements.values() if ele._metatype == 'Feature']\n",
    "features"
   ]
  },
  {
   "cell_type": "code",
   "execution_count": 11,
   "id": "0df7aa37-0457-4fdd-8fa2-fa30cdd9d98e",
   "metadata": {},
   "outputs": [
    {
     "name": "stderr",
     "output_type": "stream",
     "text": [
      "c:\\users\\bjorn cole\\documents\\github\\pymbe\\src\\pymbe\\label.py:126: UserWarning: Cannot process Expression elements yet!\n",
      "  warn(f\"Cannot process {expression._metatype} elements yet!\")\n",
      "c:\\users\\bjorn cole\\documents\\github\\pymbe\\src\\pymbe\\label.py:126: UserWarning: Cannot process NullExpression elements yet!\n",
      "  warn(f\"Cannot process {expression._metatype} elements yet!\")\n",
      "c:\\users\\bjorn cole\\documents\\github\\pymbe\\src\\pymbe\\label.py:126: UserWarning: Cannot process BooleanExpression elements yet!\n",
      "  warn(f\"Cannot process {expression._metatype} elements yet!\")\n"
     ]
    }
   ],
   "source": [
    "verification_namespace = \"KernelLibrary\"\n",
    "\n",
    "verification_library_model = None\n",
    "\n",
    "with lib_resources.path(\"pymbe.static_data\", \"KernelLibrary.json\") as lib_data:\n",
    "    verification_library_model = pm.Model.load_from_post_file(lib_data)"
   ]
  },
  {
   "cell_type": "code",
   "execution_count": 17,
   "id": "19f32305-c118-4f16-a7f1-26e40d65d8a3",
   "metadata": {},
   "outputs": [
    {
     "data": {
      "text/plain": [
       "[9cb49b7c-9a0e-4c54-8f17-6c3e4bcd022c «Namespace»,\n",
       " 8a5648f5-56fd-450f-8b96-c174af257ef7 «Namespace»,\n",
       " 97c6cd61-7bb3-4962-961d-d8b38ee86f78 «Namespace»,\n",
       " 27e33a1d-32b4-4216-9ff9-dbdbdf73e959 «Namespace»,\n",
       " c0ec9b56-0042-44bc-b743-56927ef25fac «Namespace»,\n",
       " 0c3bcf40-a2bd-4e5e-b324-8b31fe409cc4 «Namespace»,\n",
       " f0bbcb1d-bb98-4ea1-ad5d-4ccfa832d9fb «Namespace»,\n",
       " d39bae29-233b-4c30-8b84-6231ba7b8e3f «Namespace»,\n",
       " fdc091fe-d511-44d3-b80e-0741ea474628 «Namespace»,\n",
       " 8fbb40db-36a2-4094-8e95-703bf159705b «Namespace»,\n",
       " bd8d6d52-773d-435d-a66f-8ec665255ec7 «Namespace»,\n",
       " 993b8316-e5eb-4a95-948f-d89050449a92 «Namespace»,\n",
       " 14084784-59a9-4c48-a15e-75709750c1f4 «Namespace»,\n",
       " a836d19d-3911-4905-9fd6-3653b0b3abca «Namespace»,\n",
       " c7c5bf69-9672-40f7-84f6-75bf16a2f2cc «Namespace»,\n",
       " 4d022887-fda8-48c8-902d-4b8bfbb65491 «Namespace»,\n",
       " 5e45588a-489d-47fe-89bc-134bdf7296e0 «Namespace»,\n",
       " 217fed78-8dbc-4254-ace3-531000b260fd «Namespace»,\n",
       " 43ae5d40-5d02-4f59-9d5e-61f6873f4c70 «Namespace»,\n",
       " af2da44b-8b62-4819-8d5a-efe29cea730c «Namespace»,\n",
       " 271e5d22-d573-4e2b-94f6-d0cc73141e97 «Namespace»,\n",
       " da640c5a-c6f8-40c2-88b9-5c9f1d8487b8 «Namespace»,\n",
       " 783c3e8a-b892-4733-9a2f-491811552e0f «Namespace»,\n",
       " 77aecf0a-3ee7-4201-9272-c66a9df8356e «Namespace»,\n",
       " 95f2d0a4-1037-4947-9c2c-f5a103fdc3ba «Namespace»,\n",
       " f358daed-f7fc-474b-8d4f-fbafb8acaaf0 «Namespace»,\n",
       " 43d16333-0fc0-4a40-9d01-f5968d0b51ef «Namespace»,\n",
       " 9d4cc2a1-6b61-4db6-a332-96ce52f49edc «Namespace»,\n",
       " a82e9973-a3ce-4992-9e71-75f95351cac9 «Namespace»,\n",
       " c1f895ea-2529-4aed-9205-0634e2b37371 «Namespace»,\n",
       " c6c900a2-1217-416b-ba63-23a3e1d4f3a6 «Namespace»,\n",
       " df50aa81-51c1-4f72-842a-23199c81ebdb «Namespace»,\n",
       " 6af34673-a795-42ad-9921-1cc73397fcb9 «Namespace»,\n",
       " 1bc5bc5c-292f-425b-887d-c542feccb46d «Namespace»,\n",
       " 8200cb50-e6a6-4617-b4ee-388dac7213fd «Namespace»,\n",
       " 22030fb1-f79a-43e3-a255-190a585ebb3a «Namespace»]"
      ]
     },
     "execution_count": 17,
     "metadata": {},
     "output_type": "execute_result"
    }
   ],
   "source": [
    "namespaces = [ele for ele in verification_library_model.elements.values() if ele._metatype == 'Namespace']\n",
    "namespaces"
   ]
  },
  {
   "cell_type": "code",
   "execution_count": 19,
   "id": "aab95981-33e3-42c1-84f1-1b6622799fa1",
   "metadata": {},
   "outputs": [
    {
     "data": {
      "text/plain": [
       "[Transfers «LibraryPackage»,\n",
       " CollectionFunctions «LibraryPackage»,\n",
       " BaseFunctions «LibraryPackage»,\n",
       " IntegerFunctions «LibraryPackage»,\n",
       " SequenceFunctions «LibraryPackage»,\n",
       " StringFunctions «LibraryPackage»,\n",
       " VectorValues «LibraryPackage»,\n",
       " TrigFunctions «LibraryPackage»,\n",
       " ScalarFunctions «LibraryPackage»,\n",
       " VectorFunctions «LibraryPackage»,\n",
       " ControlFunctions «LibraryPackage»,\n",
       " Base «LibraryPackage»,\n",
       " Observation «LibraryPackage»,\n",
       " RationalFunctions «LibraryPackage»,\n",
       " Links «LibraryPackage»,\n",
       " Performances «LibraryPackage»,\n",
       " NumericalFunctions «LibraryPackage»,\n",
       " DataFunctions «LibraryPackage»,\n",
       " ControlPerformances «LibraryPackage»,\n",
       " ComplexFunctions «LibraryPackage»,\n",
       " Metaobjects «LibraryPackage»,\n",
       " ScalarValues «LibraryPackage»,\n",
       " StatePerformances «LibraryPackage»,\n",
       " TransitionPerformances «LibraryPackage»,\n",
       " RealFunctions «LibraryPackage»,\n",
       " NaturalFunctions «LibraryPackage»,\n",
       " Objects «LibraryPackage»,\n",
       " Triggers «LibraryPackage»,\n",
       " FeatureReferencingPerformances «LibraryPackage»,\n",
       " Collections «LibraryPackage»,\n",
       " BooleanFunctions «LibraryPackage»,\n",
       " Occurrences «LibraryPackage»,\n",
       " SpatialFrames «LibraryPackage»,\n",
       " Clocks «LibraryPackage»,\n",
       " OccurrenceFunctions «LibraryPackage»,\n",
       " KerML «LibraryPackage»]"
      ]
     },
     "execution_count": 19,
     "metadata": {},
     "output_type": "execute_result"
    }
   ],
   "source": [
    "owned_library_packaged = [ns.throughOwningMembership[0] for ns in namespaces]\n",
    "owned_library_packaged"
   ]
  },
  {
   "cell_type": "code",
   "execution_count": 25,
   "id": "5247691e-b6a2-451d-899b-71ff3f4c4fb3",
   "metadata": {},
   "outputs": [
    {
     "data": {
      "text/plain": [
       "[4e741226-f7da-4659-8a8d-4842293c3404 «Documentation»,\n",
       " <Association([Anything «Classifier»] ←→ [Anything «Classifier»])>,\n",
       " Occurrence «Class»,\n",
       " Life «Class»,\n",
       " occurrences «Feature»,\n",
       " IncomingTransferSort «Predicate»,\n",
       " <<BooleanExpression 68c0c0ba-d0f8-513f-8243-be9ce46853da>> «BooleanExpression»,\n",
       " <Subclassification([<Association([Anything «Classifier»] ←→ [Anything «Classifier»])>] ←→ [<Association([Anything «Classifier»] ←→ [Anything «Classifier»])>])>,\n",
       " <Association([Occurrence «Class»] ←→ [Occurrence «Class»])>,\n",
       " <Association([Occurrence «Class»] ←→ [Occurrence «Class»])>,\n",
       " <Association([Occurrence «Class»] ←→ [Occurrence «Class»])>,\n",
       " <Association([Occurrence «Class»] ←→ [Occurrence «Class»])>,\n",
       " <Association([Occurrence «Class»] ←→ [Occurrence «Class»])>,\n",
       " <Association([Occurrence «Class»] ←→ [Occurrence «Class»])>,\n",
       " <Association([Occurrence «Class»] ←→ [Occurrence «Class»])>,\n",
       " <Association([Occurrence «Class»] ←→ [Occurrence «Class»])>,\n",
       " <Association([Occurrence «Class»] ←→ [Occurrence «Class»])>,\n",
       " <Association([Occurrence «Class»] ←→ [Occurrence «Class»])>,\n",
       " <Association([Occurrence «Class»] ←→ [Occurrence «Class»])>,\n",
       " <Association([Occurrence «Class»] ←→ [Occurrence «Class»])>,\n",
       " <Association([Occurrence «Class»] ←→ [Occurrence «Class»])>,\n",
       " <Association([Occurrence «Class»] ←→ [Occurrence «Class»])>,\n",
       " <Association([Occurrence «Class»] ←→ [Occurrence «Class»])>,\n",
       " happensBeforeLinks «Feature»,\n",
       " <Association([Occurrence «Class»] ←→ [Occurrence «Class»])>,\n",
       " <Association([Occurrence «Class»] ←→ [Occurrence «Class»])>,\n",
       " <Association([Occurrence «Class»] ←→ [Occurrence «Class»])>,\n",
       " <Association([Occurrence «Class»] ←→ [Occurrence «Class»])>,\n",
       " <Association([Occurrence «Class»] ←→ [Occurrence «Class»])>]"
      ]
     },
     "execution_count": 25,
     "metadata": {},
     "output_type": "execute_result"
    }
   ],
   "source": [
    "owned_library_packaged[31].throughOwningMembership"
   ]
  },
  {
   "cell_type": "code",
   "execution_count": 28,
   "id": "2455e08b-ebae-405e-ab60-1ccfbcbf5076",
   "metadata": {},
   "outputs": [
    {
     "data": {
      "text/plain": [
       "Occurrence «Class»"
      ]
     },
     "execution_count": 28,
     "metadata": {},
     "output_type": "execute_result"
    }
   ],
   "source": [
    "occurrence = owned_library_packaged[31].throughOwningMembership[2]\n",
    "occurrence"
   ]
  },
  {
   "cell_type": "code",
   "execution_count": 31,
   "id": "b8222511-30ae-4a96-a377-22a37cd14e93",
   "metadata": {},
   "outputs": [
    {
     "data": {
      "text/plain": [
       "[('portionOfLife «Feature»', 'fa859d04-71c3-510a-bdb7-d35d7bc10bee'),\n",
       " ('self «Feature»', 'e926c99e-a7d4-57e2-8d79-f4088a0c00f9'),\n",
       " ('sameLifeOccurrences «Feature»', '29589f01-c2d8-5525-a9bf-8fd157b61b4f'),\n",
       " ('this «Feature»', 'bffacdad-6769-575f-be46-e30433a5af4d'),\n",
       " ('<Connector([self «Feature»] ←→ [this «Feature»])>',\n",
       "  'b8847761-5635-49b8-a7a0-3263f37cb3d5'),\n",
       " ('localClock «Feature»', '1055a84d-fed9-571c-8367-7f8a9b3a3ac1'),\n",
       " ('suboccurrences «Feature»', '42cca478-6f8d-5c19-b990-bc4510c8bea7'),\n",
       " ('withoutOccurrences «Feature»', '05fff4e4-cdd3-5942-b213-8df135a6c562'),\n",
       " ('predecessors «Feature»', '43f4a2ef-f178-57b6-b967-458a580f1b87'),\n",
       " ('successors «Feature»', 'cdbc7853-3c7e-5c48-9817-2dd245e50317'),\n",
       " ('immediatePredecessors «Feature»', 'c5317d0f-35d3-567c-b7de-7f4fa8260ad3'),\n",
       " ('immediateSuccessors «Feature»', '0ecb793f-a890-5fbd-b460-c28c791df30c'),\n",
       " ('timeEnclosedOccurrences «Feature»', '27cd823b-91df-5d0b-967d-25f6c022c384'),\n",
       " ('timeCoincidentOccurrences «Feature»',\n",
       "  '6788277f-7cdd-500a-8b02-39844f659f4f'),\n",
       " ('spaceEnclosedOccurrences «Feature»',\n",
       "  '0536eca0-9fdc-5208-87c8-2dcc8356081a'),\n",
       " ('spaceTimeEnclosedOccurrences «Feature»',\n",
       "  '36cc01d9-7cf0-54f7-ab42-838ee52d9d1b'),\n",
       " ('spaceTimeEnclosedPoints «Feature»', '2ce6ae13-819f-5639-b06e-6872e8624da8'),\n",
       " ('spaceTimeCoincidentOccurrences «Feature»',\n",
       "  '0fc0fae0-4b34-5499-ab11-daa8573e22d4'),\n",
       " ('outsideOfOccurrences «Feature»', '39e7ab46-4b77-56c5-be49-cec0a1b784fe'),\n",
       " ('justOutsideOfOccurrences «Feature»',\n",
       "  '9f15f4ff-e883-5ee3-a73f-15730b50b155'),\n",
       " ('matingOccurrences «Feature»', '618024bc-861e-581c-b049-697db6290025'),\n",
       " ('innerSpaceDimension «Feature»', 'f7162942-e1e4-543d-abef-68b63eea0e30'),\n",
       " ('innerSpaceDimension <= 3 «Invariant»',\n",
       "  '80e2664f-9737-45ec-8969-0ee4fa933854'),\n",
       " ('outerSpaceDimension «Feature»', 'c38c598e-c640-51ca-be77-4fbd9254c9d1'),\n",
       " ('notEmpty(outerSpaceDimension) implies Empty FRE «Invariant»',\n",
       "  '528ae9a7-f749-449f-a221-7ac9d54507f3'),\n",
       " ('portions «Feature»', 'faf13619-5fb6-5a19-871e-e14767f89a28'),\n",
       " ('portionOf «Feature»', 'b9db8f58-131b-56fb-9a18-01bd8f2870df'),\n",
       " ('timeSlices «Feature»', 'f44ce934-e087-5c0c-a24a-8280cf69df84'),\n",
       " ('timeSliceOf «Feature»', '2012913c-a576-5118-9dcb-5b26a927b16a'),\n",
       " ('snapshots «Feature»', '2b9660c5-2b98-5ecd-bf09-32a62ff6be1e'),\n",
       " ('snapshots == union(startShot, union(middleTimeSlice.snapshots, endShot)) «Invariant»',\n",
       "  '10035e9e-aa56-4c29-b2d0-374a11ecb840'),\n",
       " ('snapshotOf «Feature»', '5a7f6ed4-62ad-5556-8824-4c59333e8d87'),\n",
       " ('startShot «Feature»', '232c0d78-db6e-5363-9e8d-54426e6a8ab4'),\n",
       " ('middleTimeSlice «Feature»', '8f325094-2f07-5075-84a2-e20f64999145'),\n",
       " ('isEmpty(Empty FCE) == Empty FCE == Empty FCE «Invariant»',\n",
       "  '6c3762db-a55a-4e0d-b6bd-81c09148da28'),\n",
       " ('<Connector([startShot «Feature»] ←→ [middleTimeSlice «Feature»])>',\n",
       "  'b072f8e0-aacd-49a7-95a8-5c6018ab861b'),\n",
       " ('endShot «Feature»', '9d7114c7-3920-502b-a085-31836fb7fe77'),\n",
       " ('<Connector([middleTimeSlice «Feature»] ←→ [endShot «Feature»])>',\n",
       "  '03791fe5-e4f8-48b4-918f-c19c21339323'),\n",
       " ('spaceSlices «Feature»', '80a5b391-d7f4-5d7a-b061-b06c397d4a0c'),\n",
       " ('spaceSliceOf «Feature»', '817763b4-4fcd-5d8e-8934-9591df7f05cb'),\n",
       " ('spaceShots «Feature»', 'acbd427f-8ecf-59a6-9c9f-bf9854908e42'),\n",
       " ('spaceShotOf «Feature»', 'd1560b5a-db03-5b99-9bbf-1bd3883ef262'),\n",
       " ('unionsOf «Feature»', 'e95dbcde-8fb8-52dc-9199-ee01e4ce3699'),\n",
       " ('<BindingConnector([15a7b030-bafa-4a84-9c51-518f159eb2c3 «Feature»] ←→ [self «Feature»])>',\n",
       "  '3796f945-6eea-4095-bc77-5ac46c867dcc'),\n",
       " ('intersectionsOf «Feature»', 'eba60b10-4da7-5503-907b-4bbd67bf477a'),\n",
       " ('<BindingConnector([a2073fe7-1ad7-4fbe-bc8c-997bc5ebfb00 «Feature»] ←→ [self «Feature»])>',\n",
       "  'f7bf1666-ed04-40f4-9995-4ef68c108730'),\n",
       " ('differencesOf «Feature»', 'b8c04581-14c0-5fd6-8670-746d1853850e'),\n",
       " ('<BindingConnector([50951556-44f6-44c4-b472-2aa6e466c4f8 «Feature»] ←→ [self «Feature»])>',\n",
       "  '27e00bbc-9c5c-4795-8fd9-fa4b6725cdf9'),\n",
       " ('spaceInterior «Feature»', 'e24b4cdf-0f1e-5b60-a62a-b09e0d1e6956'),\n",
       " ('spaceInteriorOf «Feature»', 'a4d21db8-87e3-542d-a5de-df08f3486f65'),\n",
       " ('notEmpty(spaceInterior) implies Empty FRE «Invariant»',\n",
       "  '64bfbd1f-c71e-46a1-9b6c-507000e3ed36'),\n",
       " ('spaceBoundary «Feature»', '340cd2d4-f01d-5027-8aa0-419369abce3c'),\n",
       " ('spaceBoundaryOf «Feature»', '1c8f6c51-daa8-5e32-999e-831c4b7be22f'),\n",
       " ('isClosed implies Empty FRE «Invariant»',\n",
       "  'b7c8096d-3b07-4e57-b29a-e3c04d953add'),\n",
       " ('innerSpaceDimension == 0 implies Empty FRE «Invariant»',\n",
       "  '8ec0d677-ecea-444a-85b7-3f0fbe91bcde'),\n",
       " ('<Connector([spaceInterior «Feature»] ←→ [28c69c36-b0ae-4e97-926e-ba0740d62854 «Feature»])>',\n",
       "  '7d8577bf-e16f-4f80-b4ad-dce117ba0b7d'),\n",
       " ('<Connector([3a4a79fa-3798-4dac-9cf9-987baf7eccd8 «Feature»] ←→ [spaceInterior «Feature»])>',\n",
       "  '893e3cdc-f034-46fa-9351-c0e77aec05e9'),\n",
       " ('innerSpaceOccurrences «Feature»', 'c82148c3-4c46-5d1a-81cb-d06b9af86b16'),\n",
       " ('surroundedByOccurrences «Feature»', '741ea0aa-b16b-5b44-ac46-564c85d4f05d'),\n",
       " ('isClosed «Feature»', 'f9e920cc-2ec4-56b3-9920-8e5dbbc50a5a'),\n",
       " ('isClosed == isEmpty(Empty FCE) «Invariant»',\n",
       "  '7219d52a-a098-4f72-8d15-36ed55b9a74c'),\n",
       " ('incomingTransfers «Feature»', '951532be-ca58-5725-816f-80d3ff0918f8'),\n",
       " ('isDispatch «Feature»', '8e57748c-699b-525f-a9af-13eba4d0bc6e'),\n",
       " ('dispatchScope «Feature»', '64a32628-ac32-5a0a-ba1c-3bf1313ae41f'),\n",
       " ('<Connector([self «Feature»] ←→ [dispatchScope «Feature»])>',\n",
       "  '43d58890-d1b1-4147-9ab9-36cae9adb5ef'),\n",
       " ('isRunToCompletion «Feature»', 'c88a7695-4294-5588-9bcc-c295513c4eb9'),\n",
       " ('runToCompletionScope «Feature»', '968b3a18-112f-5b6a-b09b-c0732c50f69a'),\n",
       " ('<Connector([self «Feature»] ←→ [runToCompletionScope «Feature»])>',\n",
       "  '04753562-c20a-4786-abec-063286911d48'),\n",
       " ('incomingTransferSort «Feature»', '1e5d1a3b-0bcf-5091-b752-ea77bfb96708'),\n",
       " ('incomingTransfersToSelf «Feature»', '23eed4d1-9254-59a8-ae68-912966ed1d14'),\n",
       " ('outgoingTransfers «Feature»', '5776dd9f-de7b-5498-8da5-006a6c79a52a'),\n",
       " ('outgoingTransfersFromSelf «Feature»',\n",
       "  '87ed453a-3c8d-50cc-93d9-f9d9ad7817a6')]"
      ]
     },
     "execution_count": 31,
     "metadata": {},
     "output_type": "execute_result"
    }
   ],
   "source": [
    "[(str(occ), occ._id) for occ in occurrence.throughFeatureMembership]"
   ]
  },
  {
   "cell_type": "code",
   "execution_count": null,
   "id": "ae404193-3185-4180-a69e-587f6059c994",
   "metadata": {},
   "outputs": [],
   "source": []
  }
 ],
 "metadata": {
  "kernelspec": {
   "display_name": "Python 3 (ipykernel)",
   "language": "python",
   "name": "python3"
  },
  "language_info": {
   "codemirror_mode": {
    "name": "ipython",
    "version": 3
   },
   "file_extension": ".py",
   "mimetype": "text/x-python",
   "name": "python",
   "nbconvert_exporter": "python",
   "pygments_lexer": "ipython3",
   "version": "3.9.6"
  }
 },
 "nbformat": 4,
 "nbformat_minor": 5
}
