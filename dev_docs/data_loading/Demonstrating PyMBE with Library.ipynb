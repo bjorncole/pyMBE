{
 "cells": [
  {
   "cell_type": "markdown",
   "id": "299a838a-9486-4801-8466-b207f2fd1ae3",
   "metadata": {},
   "source": [
    "# Demonstrating PyMBE with Library\n",
    "\n",
    "This notebook shows how PyMBE explores KerML and SysML models by loading libraries from JSON data and exploring them as Python classes."
   ]
  },
  {
   "cell_type": "code",
   "execution_count": 1,
   "id": "f1645b5f-c517-47fc-91e4-f42d72458996",
   "metadata": {},
   "outputs": [],
   "source": [
    "import json\n",
    "import pymbe.api as pm\n",
    "\n",
    "import copy\n",
    "\n",
    "from importlib import resources as lib_resources\n",
    "\n",
    "from pathlib import Path\n",
    "\n",
    "from typing import Any, Collection, Dict, List, Tuple, Union\n",
    "\n",
    "from pymbe.model import Model, Element\n",
    "\n",
    "from uuid import uuid4"
   ]
  },
  {
   "cell_type": "code",
   "execution_count": 2,
   "id": "4d971816-ee8b-4db0-b11a-4f949da90446",
   "metadata": {},
   "outputs": [
    {
     "name": "stdout",
     "output_type": "stream",
     "text": [
      "c:\\users\\bjorn cole\\documents\\github\\pymbe\\src\\pymbe\\static_data\\Base.json\n"
     ]
    }
   ],
   "source": [
    "with lib_resources.path(\"pymbe.static_data\", \"Base.json\") as lib_data:\n",
    "    print(lib_data)"
   ]
  },
  {
   "cell_type": "code",
   "execution_count": 3,
   "id": "ca836568-07f8-4066-b52a-308a1a3a144a",
   "metadata": {},
   "outputs": [],
   "source": [
    "library_namespace = \"Base\"\n",
    "\n",
    "base_library_model = None\n",
    "\n",
    "with lib_resources.path(\"pymbe.static_data\", \"Base.json\") as lib_data:\n",
    "    base_library_model = pm.Model.load_from_post_file(lib_data)"
   ]
  },
  {
   "cell_type": "code",
   "execution_count": 4,
   "id": "f6a1c8b7-fdb3-4a29-9648-4d7c5c39eb22",
   "metadata": {},
   "outputs": [
    {
     "data": {
      "text/plain": [
       "<SysML v2 Model (C:\\Users\\Bjorn Cole\\Documents\\GitHub\\pyMBE\\src\\pymbe\\static_data\\Base.json)>"
      ]
     },
     "execution_count": 4,
     "metadata": {},
     "output_type": "execute_result"
    }
   ],
   "source": [
    "base_library_model"
   ]
  },
  {
   "cell_type": "code",
   "execution_count": 5,
   "id": "82f4573e-16b3-4e38-83ce-338c0605ff4d",
   "metadata": {},
   "outputs": [
    {
     "data": {
      "text/plain": [
       "[b8677e94-9996-446f-b68f-c753e96b4816 «Namespace»]"
      ]
     },
     "execution_count": 5,
     "metadata": {},
     "output_type": "execute_result"
    }
   ],
   "source": [
    "namespaces = [ele for ele in base_library_model.elements.values() if ele._metatype == 'Namespace']\n",
    "namespaces"
   ]
  },
  {
   "cell_type": "code",
   "execution_count": 6,
   "id": "84ab804b-cd23-4a6b-9ff7-dcd1ef2ad709",
   "metadata": {},
   "outputs": [
    {
     "data": {
      "text/plain": [
       "[Base «LibraryPackage»]"
      ]
     },
     "execution_count": 6,
     "metadata": {},
     "output_type": "execute_result"
    }
   ],
   "source": [
    "namespaces[0].throughOwningMembership"
   ]
  },
  {
   "cell_type": "code",
   "execution_count": 7,
   "id": "fc9e5dc9-ba94-4056-8d29-46b2a2f4b019",
   "metadata": {},
   "outputs": [
    {
     "data": {
      "text/plain": [
       "Base «LibraryPackage»"
      ]
     },
     "execution_count": 7,
     "metadata": {},
     "output_type": "execute_result"
    }
   ],
   "source": [
    "namespaces[0].throughOwningMembership[0]"
   ]
  },
  {
   "cell_type": "code",
   "execution_count": 8,
   "id": "ab85d430-ff8e-493d-956f-dbd2406e0948",
   "metadata": {},
   "outputs": [
    {
     "data": {
      "text/plain": [
       "[<OwningMembership([Base «LibraryPackage»] ←→ [a87cdfd0-5aed-4545-b56a-a4bb7bed3d3d «Documentation»])>,\n",
       " <OwningMembership([Anything «Classifier»] ←→ [c0bd669b-b276-48f6-bb90-26b466bf977c «Documentation»])>,\n",
       " <OwningMembership([0..*] ←→ [1 «Occurred LiteralInteger»])>,\n",
       " <OwningMembership([self «Feature»] ←→ [0..*])>,\n",
       " <OwningMembership([0..*] ←→ [1 «Occurred LiteralInteger»])>,\n",
       " <OwningMembership([0..*] ←→ [32df5f20-c827-4941-bd15-dd7de7d2d589 «LiteralInfinity»])>,\n",
       " <OwningMembership([things «Feature»] ←→ [0..*])>,\n",
       " <OwningMembership([things «Feature»] ←→ [99ceeebd-fdcd-4761-af1f-d816b075514f «Documentation»])>,\n",
       " <OwningMembership([0..*] ←→ [1 «Occurred LiteralInteger»])>,\n",
       " <OwningMembership([that «Feature»] ←→ [0..*])>,\n",
       " <OwningMembership([that «Feature»] ←→ [dace4a84-a585-46d0-803d-5c60e32107d4 «Documentation»])>,\n",
       " <OwningMembership([self «Feature»] ←→ [7db2f3b0-0c22-4aa6-b384-ed341472d559 «Documentation»])>,\n",
       " <OwningMembership([Base «LibraryPackage»] ←→ [Anything «Classifier»])>,\n",
       " <OwningMembership([DataValue «DataType»] ←→ [923c2575-f2d9-43f8-a79c-5ebbd6430e40 «Documentation»])>,\n",
       " <OwningMembership([Base «LibraryPackage»] ←→ [DataValue «DataType»])>,\n",
       " <OwningMembership([Base «LibraryPackage»] ←→ [things «Feature»])>,\n",
       " <OwningMembership([0..*] ←→ [ac2e64dc-607d-4150-b95a-db82adf218f3 «LiteralInteger»])>,\n",
       " <OwningMembership([0..*] ←→ [9410fc11-bcff-44f3-8760-8938ba21e11f «LiteralInfinity»])>,\n",
       " <OwningMembership([dataValues «Feature»] ←→ [0..*])>,\n",
       " <OwningMembership([dataValues «Feature»] ←→ [82cb2a1e-7f06-4ae8-b1d5-48a172fca350 «Documentation»])>,\n",
       " <OwningMembership([Base «LibraryPackage»] ←→ [dataValues «Feature»])>,\n",
       " <OwningMembership([Base «LibraryPackage»] ←→ [72514c15-1c75-4343-aac2-fd5c4689f710 «Comment»])>,\n",
       " <OwningMembership([b8677e94-9996-446f-b68f-c753e96b4816 «Namespace»] ←→ [Base «LibraryPackage»])>]"
      ]
     },
     "execution_count": 8,
     "metadata": {},
     "output_type": "execute_result"
    }
   ],
   "source": [
    "owning_memberships = [ele for ele in base_library_model.elements.values() if ele._metatype == 'OwningMembership']\n",
    "owning_memberships"
   ]
  },
  {
   "cell_type": "code",
   "execution_count": 9,
   "id": "a1d424b6-9a82-4826-8ffe-e950df63bea7",
   "metadata": {},
   "outputs": [
    {
     "data": {
      "text/plain": [
       "[Anything «Classifier»]"
      ]
     },
     "execution_count": 9,
     "metadata": {},
     "output_type": "execute_result"
    }
   ],
   "source": [
    "classes = [ele for ele in base_library_model.elements.values() if ele._metatype == 'Classifier']\n",
    "classes"
   ]
  },
  {
   "cell_type": "code",
   "execution_count": 10,
   "id": "c50c3687-4622-4805-a665-de7e08bdf8f4",
   "metadata": {},
   "outputs": [
    {
     "data": {
      "text/plain": [
       "[out result «Feature»,\n",
       " out result «Feature»,\n",
       " out result «Feature»,\n",
       " out result «Feature»,\n",
       " that «Feature»,\n",
       " things «Feature»,\n",
       " self «Feature»,\n",
       " self «Feature»,\n",
       " out result «Feature»,\n",
       " out result «Feature»,\n",
       " dataValues «Feature»]"
      ]
     },
     "execution_count": 10,
     "metadata": {},
     "output_type": "execute_result"
    }
   ],
   "source": [
    "features = [ele for ele in base_library_model.elements.values() if ele._metatype == 'Feature']\n",
    "features"
   ]
  },
  {
   "cell_type": "code",
   "execution_count": 11,
   "id": "0df7aa37-0457-4fdd-8fa2-fa30cdd9d98e",
   "metadata": {},
   "outputs": [],
   "source": [
    "verification_namespace = \"Base Try 2\"\n",
    "\n",
    "verification_library_model = None\n",
    "\n",
    "with lib_resources.path(\"pymbe.static_data\", \"Base Try 2.json\") as lib_data:\n",
    "    verification_library_model = pm.Model.load_from_post_file(lib_data)"
   ]
  },
  {
   "cell_type": "code",
   "execution_count": 12,
   "id": "051f125d-f60d-44c5-9bec-487219b22877",
   "metadata": {},
   "outputs": [
    {
     "data": {
      "text/plain": [
       "[out result «Feature»,\n",
       " out result «Feature»,\n",
       " out result «Feature»,\n",
       " out result «Feature»,\n",
       " that «Feature»,\n",
       " things «Feature»,\n",
       " self «Feature»,\n",
       " self «Feature»,\n",
       " out result «Feature»,\n",
       " out result «Feature»,\n",
       " dataValues «Feature»]"
      ]
     },
     "execution_count": 12,
     "metadata": {},
     "output_type": "execute_result"
    }
   ],
   "source": [
    "features2 = [ele for ele in verification_library_model.elements.values() if ele._metatype == 'Feature']\n",
    "features2"
   ]
  },
  {
   "cell_type": "code",
   "execution_count": 13,
   "id": "efa1ae06-a32a-47df-9cab-9c0d76f3604e",
   "metadata": {},
   "outputs": [
    {
     "name": "stdout",
     "output_type": "stream",
     "text": [
      "Id 1 = 1a25494d-a2c6-4f21-9523-8aa7ab20c5b4 and Id 2 = a4ffa8e2-a346-4bf0-b20e-77ad4000bdf8\n",
      "Id 1 = e40ea82f-a515-4c0f-be84-c872f10add43 and Id 2 = 27aa51f8-464d-44f0-99e4-faf0884f552a\n",
      "Id 1 = 8e72bd41-d044-44d9-9bb8-39d467491a0c and Id 2 = 123eebe7-05ee-4322-a460-fbe9b4b233aa\n",
      "Id 1 = 775c4d87-5d34-4495-992c-6bcd9d5be344 and Id 2 = a467adbb-5be4-4d54-b4fb-ae0a81295fb9\n",
      "Id 1 = dbd75b49-0e57-5cf9-ba35-9f8843b1e657 and Id 2 = dbd75b49-0e57-5cf9-ba35-9f8843b1e657\n",
      "Id 1 = 3176ab6a-8d7b-5e14-b263-57bd30f77f78 and Id 2 = 3176ab6a-8d7b-5e14-b263-57bd30f77f78\n",
      "Id 1 = 2804586b-de79-5d1a-98ab-493f1e706a87 and Id 2 = 2804586b-de79-5d1a-98ab-493f1e706a87\n",
      "Id 1 = eece6ace-38b0-57dd-9eea-8add3ed6c003 and Id 2 = eece6ace-38b0-57dd-9eea-8add3ed6c003\n",
      "Id 1 = 39d1ad4f-bdf8-4a09-85eb-cfac91285dc0 and Id 2 = 9444966f-d4e5-4b9c-b80d-4f0861fc2f56\n",
      "Id 1 = 3218e151-3e9a-4bf2-abe1-1ccede7bc08d and Id 2 = f806b283-9744-49d3-8217-08cabb6932f4\n",
      "Id 1 = e3cf6666-8d68-5824-9480-7acad0d4512c and Id 2 = e3cf6666-8d68-5824-9480-7acad0d4512c\n"
     ]
    }
   ],
   "source": [
    "for prime, ver in zip(features, features2):\n",
    "    print(f\"Id 1 = {prime._id} and Id 2 = {ver._id}\")"
   ]
  },
  {
   "cell_type": "code",
   "execution_count": 16,
   "id": "19f32305-c118-4f16-a7f1-26e40d65d8a3",
   "metadata": {},
   "outputs": [
    {
     "data": {
      "text/plain": [
       "'This package defines the classifiers and features that provide the bases for the typing\\nof all elements in the language.\\n'"
      ]
     },
     "execution_count": 16,
     "metadata": {},
     "output_type": "execute_result"
    }
   ],
   "source": [
    "namespaces[0].throughOwningMembership[0].throughOwningMembership[0].body"
   ]
  },
  {
   "cell_type": "code",
   "execution_count": 18,
   "id": "9f12dabc-3087-44e8-8f5f-e46cc4ed5c66",
   "metadata": {},
   "outputs": [
    {
     "data": {
      "text/plain": [
       "[a87cdfd0-5aed-4545-b56a-a4bb7bed3d3d «Documentation»,\n",
       " Anything «Classifier»,\n",
       " DataValue «DataType»,\n",
       " things «Feature»,\n",
       " dataValues «Feature»,\n",
       " 72514c15-1c75-4343-aac2-fd5c4689f710 «Comment»]"
      ]
     },
     "execution_count": 18,
     "metadata": {},
     "output_type": "execute_result"
    }
   ],
   "source": [
    "namespaces[0].throughOwningMembership[0].throughOwningMembership"
   ]
  },
  {
   "cell_type": "code",
   "execution_count": null,
   "id": "aab95981-33e3-42c1-84f1-1b6622799fa1",
   "metadata": {},
   "outputs": [],
   "source": []
  }
 ],
 "metadata": {
  "kernelspec": {
   "display_name": "Python 3 (ipykernel)",
   "language": "python",
   "name": "python3"
  },
  "language_info": {
   "codemirror_mode": {
    "name": "ipython",
    "version": 3
   },
   "file_extension": ".py",
   "mimetype": "text/x-python",
   "name": "python",
   "nbconvert_exporter": "python",
   "pygments_lexer": "ipython3",
   "version": "3.9.6"
  }
 },
 "nbformat": 4,
 "nbformat_minor": 5
}
