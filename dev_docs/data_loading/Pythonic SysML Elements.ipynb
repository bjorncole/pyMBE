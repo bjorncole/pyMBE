{
 "cells": [
  {
   "cell_type": "markdown",
   "id": "ef38eade-95f5-498e-8e7c-6a5c362a615a",
   "metadata": {
    "tags": []
   },
   "source": [
    "# Pythonic SysML Elements\n",
    "\n",
    "This notebook walks through the approach to making SysML elements act Pythonically while in the PyMBE environment in order to support more intuitive codes that inspect and analyze SysML models.\n",
    "\n",
    "Note that the Markdown headers for code snippets are set up to be translated into docstrings for documentation of the code eventually."
   ]
  },
  {
   "cell_type": "code",
   "execution_count": 1,
   "id": "fef0f668-cae5-4440-b4ca-2a10215e0f43",
   "metadata": {
    "tags": []
   },
   "outputs": [],
   "source": [
    "import json\n",
    "from dataclasses import dataclass, field\n",
    "from typing import Any, Dict, List, Set, Tuple, Union\n",
    "from collections import defaultdict\n",
    "\n",
    "from uuid import uuid4\n",
    "\n",
    "with open('example_data/sysml_3a.json', 'r') as fp:\n",
    "    element_raw_data = json.load(fp)\n",
    "    \n",
    "printing_level = \"TRACE\""
   ]
  },
  {
   "cell_type": "markdown",
   "id": "b3a25645-3140-4085-af63-f39d5fc9374d",
   "metadata": {},
   "source": [
    "## Interchange data and loading\n",
    "\n",
    "The API for standing up a model in memory is built around loading data from Python dictionaries. This is mostly based around major APIs of interest (e.g., the SysML v2 REST API) exchanging data in the JSON format with a main set of keys and values."
   ]
  },
  {
   "cell_type": "markdown",
   "id": "825e8415-94b0-44cc-8982-00cb5c492c42",
   "metadata": {},
   "source": [
    "### Bulk loading model data\n",
    "\n",
    "The entry point to loading up the models is a bulk load method that gathers collections of dictionaries (each model element is expected to serialize as a dictionary from JSON) and creates a new dictionary that allows for rapid look up of elements by their IDs."
   ]
  },
  {
   "cell_type": "code",
   "execution_count": 2,
   "id": "ef5421c8-0469-4909-912b-4e3421c00c33",
   "metadata": {},
   "outputs": [],
   "source": [
    "def index_element_data(elements):\n",
    "    return {element[\"@id\"]: element for element in elements}"
   ]
  },
  {
   "cell_type": "markdown",
   "id": "bc4027c7-91d0-42bd-ac05-6fafa7a65f63",
   "metadata": {},
   "source": [
    "### ID reference format\n",
    "\n",
    "The serialized JSON files will present IDs as a single entry dictionary of the form {'@id': uuid}."
   ]
  },
  {
   "cell_type": "code",
   "execution_count": 3,
   "id": "190da324-5416-49c0-b9ab-f17ac183410d",
   "metadata": {},
   "outputs": [
    {
     "data": {
      "text/plain": [
       "{'@type': 'Redefinition',\n",
       " '@id': '023b4d09-6bc3-4d70-b6d8-e6c9b4679d70',\n",
       " 'aliasIds': [],\n",
       " 'documentation': [],\n",
       " 'effectiveName': None,\n",
       " 'elementId': '023b4d09-6bc3-4d70-b6d8-e6c9b4679d70',\n",
       " 'general': {'@id': '20205904-dcb9-487c-9b87-dd5e55e39396'},\n",
       " 'isImplied': False,\n",
       " 'isImpliedIncluded': False,\n",
       " 'isLibraryElement': False,\n",
       " 'name': None,\n",
       " 'ownedAnnotation': [],\n",
       " 'ownedElement': [],\n",
       " 'ownedRelatedElement': [],\n",
       " 'ownedRelationship': [],\n",
       " 'owner': None,\n",
       " 'owningFeature': {'@id': '56851b8c-56c7-4429-8bd0-17fc09b3ce02'},\n",
       " 'owningMembership': None,\n",
       " 'owningNamespace': None,\n",
       " 'owningRelatedElement': {'@id': '56851b8c-56c7-4429-8bd0-17fc09b3ce02'},\n",
       " 'owningRelationship': None,\n",
       " 'owningType': {'@id': '56851b8c-56c7-4429-8bd0-17fc09b3ce02'},\n",
       " 'qualifiedName': None,\n",
       " 'redefinedFeature': {'@id': '20205904-dcb9-487c-9b87-dd5e55e39396'},\n",
       " 'redefiningFeature': {'@id': '56851b8c-56c7-4429-8bd0-17fc09b3ce02'},\n",
       " 'relatedElement': [{'@id': '56851b8c-56c7-4429-8bd0-17fc09b3ce02'},\n",
       "  {'@id': '20205904-dcb9-487c-9b87-dd5e55e39396'}],\n",
       " 'shortName': None,\n",
       " 'source': [{'@id': '56851b8c-56c7-4429-8bd0-17fc09b3ce02'}],\n",
       " 'specific': {'@id': '56851b8c-56c7-4429-8bd0-17fc09b3ce02'},\n",
       " 'subsettedFeature': {'@id': '20205904-dcb9-487c-9b87-dd5e55e39396'},\n",
       " 'subsettingFeature': {'@id': '56851b8c-56c7-4429-8bd0-17fc09b3ce02'},\n",
       " 'target': [{'@id': '20205904-dcb9-487c-9b87-dd5e55e39396'}],\n",
       " 'textualRepresentation': []}"
      ]
     },
     "execution_count": 3,
     "metadata": {},
     "output_type": "execute_result"
    }
   ],
   "source": [
    "index_element_data(element_raw_data)[element_raw_data[0]['@id']]"
   ]
  },
  {
   "cell_type": "markdown",
   "id": "e98aca98-4a68-46ac-91a4-87b93907e15f",
   "metadata": {},
   "source": [
    "## Pythonic Model elements\n",
    "\n",
    "The methods and the class developed here are intended to support the Python representation and manipulation of system model data. The partial methods describe below set up various fields in objects of the Element class for use in downstream or user codes involving this library.\n",
    "\n",
    "There are a variety of features developed here to make the interaction with system model data more Pythonic."
   ]
  },
  {
   "cell_type": "markdown",
   "id": "10089c8b-6a39-4d78-b2e1-f5f684a088ce",
   "metadata": {},
   "source": [
    "### List of Items Accessible by Name\n",
    "\n",
    "For convenience, a class is introduced that allows for collections of objects to be referenced by name rather than by unique identifier. This requires that names in a given list are unique."
   ]
  },
  {
   "cell_type": "markdown",
   "id": "bb628580-3664-48e2-b5e9-8ed6660b6eb6",
   "metadata": {},
   "source": [
    "#### Precursors\n",
    "\n",
    "Classes that this class references are stubbed below for its use."
   ]
  },
  {
   "cell_type": "code",
   "execution_count": 4,
   "id": "03c37198-b68f-4d08-82fc-410f1a09f6b8",
   "metadata": {},
   "outputs": [],
   "source": [
    "class Element():\n",
    "    \"\"\"Dummy version for algorithm testing\"\"\"\n",
    "    _data = None\n",
    "    _model = None"
   ]
  },
  {
   "cell_type": "code",
   "execution_count": 5,
   "id": "23e8a58a-f47c-4ed3-8656-c23e95015ee0",
   "metadata": {},
   "outputs": [],
   "source": [
    "class Model():\n",
    "    \"\"\"Dummy version for algorithm testing\"\"\"\n",
    "    elements: Dict[str, \"Element\"]"
   ]
  },
  {
   "cell_type": "markdown",
   "id": "85956131-32ed-4a41-9f86-4adbf2802f4a",
   "metadata": {},
   "source": [
    "The ListOfNamedItemsClass extends list to make names within model element data a useable index."
   ]
  },
  {
   "cell_type": "code",
   "execution_count": 6,
   "id": "cfefa612-4bb4-4148-92a0-fdbb3724cc15",
   "metadata": {},
   "outputs": [],
   "source": [
    "class ListOfNamedItems(list):\n",
    "    \"\"\"A list that also can return items by their name.\"\"\"\n",
    "    \n",
    "    # FIXME: Should really build/update the item map on entry modification rather than lookup\n",
    "    \n",
    "    # FIXME: figure out why __dir__ of returned objects think they are lists\n",
    "    def __getitem__(self, key):\n",
    "        item_map = {\n",
    "            item._data[\"name\"]: item\n",
    "            for item in self\n",
    "            if isinstance(item, Element) and \"name\" in item._data\n",
    "        }\n",
    "        effective_item_map = {\n",
    "            item._data[\"effectiveName\"]: item\n",
    "            for item in self\n",
    "            if isinstance(item, Element) and \"effectiveName\" in item._data\n",
    "        }\n",
    "        if key in item_map:\n",
    "            return item_map[key]\n",
    "        if key in effective_item_map:\n",
    "            return effective_item_map[key]\n",
    "        if isinstance(key, int):\n",
    "            return super().__getitem__(key)\n",
    "        return None"
   ]
  },
  {
   "cell_type": "code",
   "execution_count": 7,
   "id": "951e81b4-1420-42b5-b8db-5620312eb41f",
   "metadata": {},
   "outputs": [],
   "source": [
    "def is_id_item(item):\n",
    "    return isinstance(item, dict) and item['@id'] is not None and isinstance(item['@id'], str)"
   ]
  },
  {
   "cell_type": "code",
   "execution_count": 8,
   "id": "1aaecee5-73a7-496d-b3ca-d59e92505f29",
   "metadata": {},
   "outputs": [
    {
     "data": {
      "text/plain": [
       "False"
      ]
     },
     "execution_count": 8,
     "metadata": {},
     "output_type": "execute_result"
    }
   ],
   "source": [
    "is_id_item([])"
   ]
  },
  {
   "cell_type": "code",
   "execution_count": 9,
   "id": "00ce6b5a-b680-45de-9920-ab0b0558ea5d",
   "metadata": {},
   "outputs": [
    {
     "data": {
      "text/plain": [
       "True"
      ]
     },
     "execution_count": 9,
     "metadata": {},
     "output_type": "execute_result"
    }
   ],
   "source": [
    "is_id_item({'@id': '56851b8c-56c7-4429-8bd0-17fc09b3ce02'})"
   ]
  },
  {
   "cell_type": "code",
   "execution_count": 10,
   "id": "27c35a76-656c-4299-b89c-16d6bf915c3f",
   "metadata": {},
   "outputs": [
    {
     "data": {
      "text/plain": [
       "False"
      ]
     },
     "execution_count": 10,
     "metadata": {},
     "output_type": "execute_result"
    }
   ],
   "source": [
    "dummy_ele = Element()\n",
    "is_id_item(dummy_ele)"
   ]
  },
  {
   "cell_type": "markdown",
   "id": "67a0524e-4903-417e-b50f-75f202029a3b",
   "metadata": {},
   "source": [
    "### Navigating fields for owned elements (and more specialized collections)\n",
    "\n",
    "Elements should be able to directly reference elements through ownership relations. This is done by dynamically constructing Python fields for meta-attributes that start with \"owned.\""
   ]
  },
  {
   "cell_type": "code",
   "execution_count": 11,
   "id": "6bc334ea-483e-4c0a-88de-11f702970e80",
   "metadata": {},
   "outputs": [],
   "source": [
    "def set_names_for_owned_for_element(self):\n",
    "    data = self._data\n",
    "    \n",
    "    # iterate through the meta-attributes for the model element in serial form\n",
    "    for key, items in data.items():\n",
    "        if printing_level == \"TRACE\":\n",
    "            print(f'Key is {key} and items are {items}')\n",
    "        if key.startswith(\"owned\") and isinstance(items, list):\n",
    "            new_list = [self._model.elements[item['@id']] for item in items if is_id_item(item)]\n",
    "            if printing_level == \"TRACE\" and len(new_list) > 0:\n",
    "                print(f'Expanding {key} with new list of named items')\n",
    "            if len(new_list) > 0:\n",
    "                data[key] = ListOfNamedItems(new_list)"
   ]
  },
  {
   "cell_type": "code",
   "execution_count": null,
   "id": "40411f04-9c77-4d88-ae35-e0f04855aa43",
   "metadata": {},
   "outputs": [],
   "source": []
  },
  {
   "cell_type": "markdown",
   "id": "1d7cb302-5d51-4400-adef-088fd39d91e4",
   "metadata": {},
   "source": [
    "#### Tester\n",
    "\n",
    "Build an object with only the necessary fields for the test from raw JSON data. In this case, this is an object with \"_data\" and \"_model\" fields, and then another object type with an \"elements\" field."
   ]
  },
  {
   "cell_type": "code",
   "execution_count": 12,
   "id": "0620d937-4462-41d4-ac29-8ea60b375e69",
   "metadata": {},
   "outputs": [],
   "source": [
    "def construct_test_element_from_raw(raw_dict, model_object):\n",
    "    test_element = Element()\n",
    "    test_element._data = raw_dict\n",
    "    test_element._model = model_object\n",
    "    return test_element"
   ]
  },
  {
   "cell_type": "code",
   "execution_count": 13,
   "id": "68ea83e7-0686-495d-83fd-fd3debadaa0c",
   "metadata": {},
   "outputs": [],
   "source": [
    "test_model = Model()\n",
    "indexed_raw = index_element_data(element_raw_data)\n",
    "test_elements = {indx: construct_test_element_from_raw(raw_item, test_model)\n",
    "                for indx, raw_item in indexed_raw.items()}\n",
    "setattr(test_model, \"elements\", test_elements)"
   ]
  },
  {
   "cell_type": "code",
   "execution_count": 14,
   "id": "2e1276d6-b04d-484a-8904-4a741f176a21",
   "metadata": {},
   "outputs": [
    {
     "data": {
      "text/plain": [
       "{'@type': 'ItemFlowEnd',\n",
       " '@id': '03deed71-fa6f-438f-abe5-aa0aed87ef71',\n",
       " 'aliasIds': [],\n",
       " 'chainingFeature': [],\n",
       " 'differencingType': [],\n",
       " 'directedFeature': [{'@id': 'a00075f8-bb12-4b6a-ba6a-07c9f6cec315'}],\n",
       " 'direction': None,\n",
       " 'documentation': [],\n",
       " 'effectiveName': 'target',\n",
       " 'elementId': '03deed71-fa6f-438f-abe5-aa0aed87ef71',\n",
       " 'endFeature': [],\n",
       " 'endOwningType': {'@id': 'ed250300-0077-42f6-b893-1cda693b72c2'},\n",
       " 'feature': [{'@id': '56851b8c-56c7-4429-8bd0-17fc09b3ce02'},\n",
       "  {'@id': 'a00075f8-bb12-4b6a-ba6a-07c9f6cec315'},\n",
       "  {'@id': 'd997ec27-b1ed-4aca-bab5-488e4e80e5f0'}],\n",
       " 'featureMembership': [{'@id': 'c4914f92-09f3-4a05-81de-b169eb1d22d7'},\n",
       "  {'@id': '993b7a8d-2301-4d52-9b3c-194a773bdd1c'}],\n",
       " 'featuringType': [{'@id': 'ed250300-0077-42f6-b893-1cda693b72c2'}],\n",
       " 'importedMembership': [],\n",
       " 'inheritedFeature': [{'@id': 'a00075f8-bb12-4b6a-ba6a-07c9f6cec315'},\n",
       "  {'@id': 'd997ec27-b1ed-4aca-bab5-488e4e80e5f0'}],\n",
       " 'inheritedMembership': [{'@id': '993b7a8d-2301-4d52-9b3c-194a773bdd1c'}],\n",
       " 'input': [],\n",
       " 'intersectingType': [],\n",
       " 'isAbstract': False,\n",
       " 'isComposite': False,\n",
       " 'isConjugated': False,\n",
       " 'isDerived': False,\n",
       " 'isEnd': True,\n",
       " 'isImpliedIncluded': False,\n",
       " 'isLibraryElement': False,\n",
       " 'isOrdered': True,\n",
       " 'isPortion': False,\n",
       " 'isReadOnly': False,\n",
       " 'isSufficient': False,\n",
       " 'isUnique': True,\n",
       " 'member': [{'@id': '56851b8c-56c7-4429-8bd0-17fc09b3ce02'},\n",
       "  {'@id': 'a00075f8-bb12-4b6a-ba6a-07c9f6cec315'},\n",
       "  {'@id': 'd997ec27-b1ed-4aca-bab5-488e4e80e5f0'}],\n",
       " 'membership': [{'@id': 'c4914f92-09f3-4a05-81de-b169eb1d22d7'},\n",
       "  {'@id': '993b7a8d-2301-4d52-9b3c-194a773bdd1c'}],\n",
       " 'multiplicity': None,\n",
       " 'name': None,\n",
       " 'output': [{'@id': 'a00075f8-bb12-4b6a-ba6a-07c9f6cec315'}],\n",
       " 'ownedAnnotation': [],\n",
       " 'ownedConjugator': None,\n",
       " 'ownedDifferencing': [],\n",
       " 'ownedDisjoining': [],\n",
       " 'ownedElement': [{'@id': '56851b8c-56c7-4429-8bd0-17fc09b3ce02'}],\n",
       " 'ownedEndFeature': [],\n",
       " 'ownedFeature': [{'@id': '56851b8c-56c7-4429-8bd0-17fc09b3ce02'}],\n",
       " 'ownedFeatureChaining': [],\n",
       " 'ownedFeatureInverting': [],\n",
       " 'ownedFeatureMembership': [{'@id': 'c4914f92-09f3-4a05-81de-b169eb1d22d7'}],\n",
       " 'ownedImport': [],\n",
       " 'ownedIntersecting': [],\n",
       " 'ownedMember': [{'@id': '56851b8c-56c7-4429-8bd0-17fc09b3ce02'}],\n",
       " 'ownedMembership': [{'@id': 'c4914f92-09f3-4a05-81de-b169eb1d22d7'}],\n",
       " 'ownedRedefinition': [],\n",
       " 'ownedReferenceSubsetting': {'@id': '2c63434b-134b-41d7-b35a-6255d2925edf'},\n",
       " 'ownedRelationship': [{'@id': '2c63434b-134b-41d7-b35a-6255d2925edf'},\n",
       "  {'@id': 'c4914f92-09f3-4a05-81de-b169eb1d22d7'}],\n",
       " 'ownedSpecialization': [{'@id': '2c63434b-134b-41d7-b35a-6255d2925edf'}],\n",
       " 'ownedSubsetting': [{'@id': '2c63434b-134b-41d7-b35a-6255d2925edf'}],\n",
       " 'ownedTypeFeaturing': [],\n",
       " 'ownedTyping': [],\n",
       " 'ownedUnioning': [],\n",
       " 'owner': {'@id': 'ed250300-0077-42f6-b893-1cda693b72c2'},\n",
       " 'owningFeatureMembership': {'@id': '2bbac43e-e5e3-4e5e-bb4f-d491876f2a3d'},\n",
       " 'owningMembership': {'@id': '2bbac43e-e5e3-4e5e-bb4f-d491876f2a3d'},\n",
       " 'owningNamespace': {'@id': 'ed250300-0077-42f6-b893-1cda693b72c2'},\n",
       " 'owningRelationship': {'@id': '2bbac43e-e5e3-4e5e-bb4f-d491876f2a3d'},\n",
       " 'owningType': {'@id': 'ed250300-0077-42f6-b893-1cda693b72c2'},\n",
       " 'qualifiedName': \"'3a-Function-based Behavior-1'::Usages::'provide power'::null::target\",\n",
       " 'shortName': None,\n",
       " 'textualRepresentation': [],\n",
       " 'type': [{'@id': '8fe4fd3c-5618-46a2-8358-316560b49231'}],\n",
       " 'unioningType': []}"
      ]
     },
     "execution_count": 14,
     "metadata": {},
     "output_type": "execute_result"
    }
   ],
   "source": [
    "test_model.elements[element_raw_data[2]['@id']]._data"
   ]
  },
  {
   "cell_type": "code",
   "execution_count": 15,
   "id": "4b456a91-cdef-4407-bf90-85975c4b8948",
   "metadata": {},
   "outputs": [
    {
     "name": "stdout",
     "output_type": "stream",
     "text": [
      "Key is @type and items are ItemFlowEnd\n",
      "Key is @id and items are 03deed71-fa6f-438f-abe5-aa0aed87ef71\n",
      "Key is aliasIds and items are []\n",
      "Key is chainingFeature and items are []\n",
      "Key is differencingType and items are []\n",
      "Key is directedFeature and items are [{'@id': 'a00075f8-bb12-4b6a-ba6a-07c9f6cec315'}]\n",
      "Key is direction and items are None\n",
      "Key is documentation and items are []\n",
      "Key is effectiveName and items are target\n",
      "Key is elementId and items are 03deed71-fa6f-438f-abe5-aa0aed87ef71\n",
      "Key is endFeature and items are []\n",
      "Key is endOwningType and items are {'@id': 'ed250300-0077-42f6-b893-1cda693b72c2'}\n",
      "Key is feature and items are [{'@id': '56851b8c-56c7-4429-8bd0-17fc09b3ce02'}, {'@id': 'a00075f8-bb12-4b6a-ba6a-07c9f6cec315'}, {'@id': 'd997ec27-b1ed-4aca-bab5-488e4e80e5f0'}]\n",
      "Key is featureMembership and items are [{'@id': 'c4914f92-09f3-4a05-81de-b169eb1d22d7'}, {'@id': '993b7a8d-2301-4d52-9b3c-194a773bdd1c'}]\n",
      "Key is featuringType and items are [{'@id': 'ed250300-0077-42f6-b893-1cda693b72c2'}]\n",
      "Key is importedMembership and items are []\n",
      "Key is inheritedFeature and items are [{'@id': 'a00075f8-bb12-4b6a-ba6a-07c9f6cec315'}, {'@id': 'd997ec27-b1ed-4aca-bab5-488e4e80e5f0'}]\n",
      "Key is inheritedMembership and items are [{'@id': '993b7a8d-2301-4d52-9b3c-194a773bdd1c'}]\n",
      "Key is input and items are []\n",
      "Key is intersectingType and items are []\n",
      "Key is isAbstract and items are False\n",
      "Key is isComposite and items are False\n",
      "Key is isConjugated and items are False\n",
      "Key is isDerived and items are False\n",
      "Key is isEnd and items are True\n",
      "Key is isImpliedIncluded and items are False\n",
      "Key is isLibraryElement and items are False\n",
      "Key is isOrdered and items are True\n",
      "Key is isPortion and items are False\n",
      "Key is isReadOnly and items are False\n",
      "Key is isSufficient and items are False\n",
      "Key is isUnique and items are True\n",
      "Key is member and items are [{'@id': '56851b8c-56c7-4429-8bd0-17fc09b3ce02'}, {'@id': 'a00075f8-bb12-4b6a-ba6a-07c9f6cec315'}, {'@id': 'd997ec27-b1ed-4aca-bab5-488e4e80e5f0'}]\n",
      "Key is membership and items are [{'@id': 'c4914f92-09f3-4a05-81de-b169eb1d22d7'}, {'@id': '993b7a8d-2301-4d52-9b3c-194a773bdd1c'}]\n",
      "Key is multiplicity and items are None\n",
      "Key is name and items are None\n",
      "Key is output and items are [{'@id': 'a00075f8-bb12-4b6a-ba6a-07c9f6cec315'}]\n",
      "Key is ownedAnnotation and items are []\n",
      "Key is ownedConjugator and items are None\n",
      "Key is ownedDifferencing and items are []\n",
      "Key is ownedDisjoining and items are []\n",
      "Key is ownedElement and items are [{'@id': '56851b8c-56c7-4429-8bd0-17fc09b3ce02'}]\n",
      "Expanding ownedElement with new list of named items\n",
      "Key is ownedEndFeature and items are []\n",
      "Key is ownedFeature and items are [{'@id': '56851b8c-56c7-4429-8bd0-17fc09b3ce02'}]\n",
      "Expanding ownedFeature with new list of named items\n",
      "Key is ownedFeatureChaining and items are []\n",
      "Key is ownedFeatureInverting and items are []\n",
      "Key is ownedFeatureMembership and items are [{'@id': 'c4914f92-09f3-4a05-81de-b169eb1d22d7'}]\n",
      "Expanding ownedFeatureMembership with new list of named items\n",
      "Key is ownedImport and items are []\n",
      "Key is ownedIntersecting and items are []\n",
      "Key is ownedMember and items are [{'@id': '56851b8c-56c7-4429-8bd0-17fc09b3ce02'}]\n",
      "Expanding ownedMember with new list of named items\n",
      "Key is ownedMembership and items are [{'@id': 'c4914f92-09f3-4a05-81de-b169eb1d22d7'}]\n",
      "Expanding ownedMembership with new list of named items\n",
      "Key is ownedRedefinition and items are []\n",
      "Key is ownedReferenceSubsetting and items are {'@id': '2c63434b-134b-41d7-b35a-6255d2925edf'}\n",
      "Key is ownedRelationship and items are [{'@id': '2c63434b-134b-41d7-b35a-6255d2925edf'}, {'@id': 'c4914f92-09f3-4a05-81de-b169eb1d22d7'}]\n",
      "Expanding ownedRelationship with new list of named items\n",
      "Key is ownedSpecialization and items are [{'@id': '2c63434b-134b-41d7-b35a-6255d2925edf'}]\n",
      "Expanding ownedSpecialization with new list of named items\n",
      "Key is ownedSubsetting and items are [{'@id': '2c63434b-134b-41d7-b35a-6255d2925edf'}]\n",
      "Expanding ownedSubsetting with new list of named items\n",
      "Key is ownedTypeFeaturing and items are []\n",
      "Key is ownedTyping and items are []\n",
      "Key is ownedUnioning and items are []\n",
      "Key is owner and items are {'@id': 'ed250300-0077-42f6-b893-1cda693b72c2'}\n",
      "Key is owningFeatureMembership and items are {'@id': '2bbac43e-e5e3-4e5e-bb4f-d491876f2a3d'}\n",
      "Key is owningMembership and items are {'@id': '2bbac43e-e5e3-4e5e-bb4f-d491876f2a3d'}\n",
      "Key is owningNamespace and items are {'@id': 'ed250300-0077-42f6-b893-1cda693b72c2'}\n",
      "Key is owningRelationship and items are {'@id': '2bbac43e-e5e3-4e5e-bb4f-d491876f2a3d'}\n",
      "Key is owningType and items are {'@id': 'ed250300-0077-42f6-b893-1cda693b72c2'}\n",
      "Key is qualifiedName and items are '3a-Function-based Behavior-1'::Usages::'provide power'::null::target\n",
      "Key is shortName and items are None\n",
      "Key is textualRepresentation and items are []\n",
      "Key is type and items are [{'@id': '8fe4fd3c-5618-46a2-8358-316560b49231'}]\n",
      "Key is unioningType and items are []\n"
     ]
    }
   ],
   "source": [
    "set_names_for_owned_for_element(test_model.elements[element_raw_data[2]['@id']])"
   ]
  },
  {
   "cell_type": "code",
   "execution_count": 16,
   "id": "440ec5c9-f659-45cc-9d58-11cf885f0088",
   "metadata": {
    "tags": []
   },
   "outputs": [
    {
     "data": {
      "text/plain": [
       "{'@type': 'ReferenceUsage',\n",
       " '@id': '56851b8c-56c7-4429-8bd0-17fc09b3ce02',\n",
       " 'aliasIds': [],\n",
       " 'chainingFeature': [],\n",
       " 'definition': [{'@id': '83893534-5d4f-48f4-ae5a-d6da8356ae53'}],\n",
       " 'differencingType': [],\n",
       " 'directedFeature': [],\n",
       " 'directedUsage': [],\n",
       " 'direction': None,\n",
       " 'documentation': [],\n",
       " 'effectiveName': 'engineTorque',\n",
       " 'elementId': '56851b8c-56c7-4429-8bd0-17fc09b3ce02',\n",
       " 'endFeature': [],\n",
       " 'endOwningType': None,\n",
       " 'feature': [],\n",
       " 'featureMembership': [],\n",
       " 'featuringType': [{'@id': '03deed71-fa6f-438f-abe5-aa0aed87ef71'}],\n",
       " 'importedMembership': [],\n",
       " 'inheritedFeature': [],\n",
       " 'inheritedMembership': [],\n",
       " 'input': [],\n",
       " 'intersectingType': [],\n",
       " 'isAbstract': False,\n",
       " 'isComposite': False,\n",
       " 'isConjugated': False,\n",
       " 'isDerived': False,\n",
       " 'isEnd': False,\n",
       " 'isImpliedIncluded': False,\n",
       " 'isLibraryElement': False,\n",
       " 'isOrdered': False,\n",
       " 'isPortion': False,\n",
       " 'isReadOnly': False,\n",
       " 'isReference': True,\n",
       " 'isSufficient': False,\n",
       " 'isUnique': True,\n",
       " 'isVariation': False,\n",
       " 'member': [],\n",
       " 'membership': [],\n",
       " 'multiplicity': None,\n",
       " 'name': None,\n",
       " 'nestedAction': [],\n",
       " 'nestedAllocation': [],\n",
       " 'nestedAnalysisCase': [],\n",
       " 'nestedAttribute': [],\n",
       " 'nestedCalculation': [],\n",
       " 'nestedCase': [],\n",
       " 'nestedConcern': [],\n",
       " 'nestedConnection': [],\n",
       " 'nestedConstraint': [],\n",
       " 'nestedEnumeration': [],\n",
       " 'nestedFlow': [],\n",
       " 'nestedInterface': [],\n",
       " 'nestedItem': [],\n",
       " 'nestedMetadata': [],\n",
       " 'nestedOccurrence': [],\n",
       " 'nestedPart': [],\n",
       " 'nestedPort': [],\n",
       " 'nestedReference': [],\n",
       " 'nestedRendering': [],\n",
       " 'nestedRequirement': [],\n",
       " 'nestedState': [],\n",
       " 'nestedTransition': [],\n",
       " 'nestedUsage': [],\n",
       " 'nestedUseCase': [],\n",
       " 'nestedVerificationCase': [],\n",
       " 'nestedView': [],\n",
       " 'nestedViewpoint': [],\n",
       " 'output': [],\n",
       " 'ownedAnnotation': [],\n",
       " 'ownedConjugator': None,\n",
       " 'ownedDifferencing': [],\n",
       " 'ownedDisjoining': [],\n",
       " 'ownedElement': [],\n",
       " 'ownedEndFeature': [],\n",
       " 'ownedFeature': [],\n",
       " 'ownedFeatureChaining': [],\n",
       " 'ownedFeatureInverting': [],\n",
       " 'ownedFeatureMembership': [],\n",
       " 'ownedImport': [],\n",
       " 'ownedIntersecting': [],\n",
       " 'ownedMember': [],\n",
       " 'ownedMembership': [],\n",
       " 'ownedRedefinition': [{'@id': '023b4d09-6bc3-4d70-b6d8-e6c9b4679d70'}],\n",
       " 'ownedReferenceSubsetting': None,\n",
       " 'ownedRelationship': [{'@id': '023b4d09-6bc3-4d70-b6d8-e6c9b4679d70'}],\n",
       " 'ownedSpecialization': [{'@id': '023b4d09-6bc3-4d70-b6d8-e6c9b4679d70'}],\n",
       " 'ownedSubsetting': [{'@id': '023b4d09-6bc3-4d70-b6d8-e6c9b4679d70'}],\n",
       " 'ownedTypeFeaturing': [],\n",
       " 'ownedTyping': [],\n",
       " 'ownedUnioning': [],\n",
       " 'owner': {'@id': '03deed71-fa6f-438f-abe5-aa0aed87ef71'},\n",
       " 'owningDefinition': None,\n",
       " 'owningFeatureMembership': {'@id': 'c4914f92-09f3-4a05-81de-b169eb1d22d7'},\n",
       " 'owningMembership': {'@id': 'c4914f92-09f3-4a05-81de-b169eb1d22d7'},\n",
       " 'owningNamespace': {'@id': '03deed71-fa6f-438f-abe5-aa0aed87ef71'},\n",
       " 'owningRelationship': {'@id': 'c4914f92-09f3-4a05-81de-b169eb1d22d7'},\n",
       " 'owningType': {'@id': '03deed71-fa6f-438f-abe5-aa0aed87ef71'},\n",
       " 'owningUsage': None,\n",
       " 'qualifiedName': \"'3a-Function-based Behavior-1'::Usages::'provide power'::null::target::engineTorque\",\n",
       " 'shortName': None,\n",
       " 'textualRepresentation': [],\n",
       " 'type': [{'@id': '83893534-5d4f-48f4-ae5a-d6da8356ae53'}],\n",
       " 'unioningType': [],\n",
       " 'usage': [],\n",
       " 'variant': [],\n",
       " 'variantMembership': []}"
      ]
     },
     "execution_count": 16,
     "metadata": {},
     "output_type": "execute_result"
    }
   ],
   "source": [
    "test_model.elements[element_raw_data[2]['@id']]._data['ownedElement'][0]._data"
   ]
  },
  {
   "cell_type": "code",
   "execution_count": 17,
   "id": "f5e14eba-4af2-4a20-bfe0-2033bc4cf8a1",
   "metadata": {},
   "outputs": [],
   "source": [
    "del Element, Model"
   ]
  },
  {
   "cell_type": "markdown",
   "id": "c6ef4c96-790a-4c18-b89e-93c261cb2807",
   "metadata": {},
   "source": [
    "### Accessing fields Pythonically\n",
    "\n",
    "The next thing to add to the Element class are magics to match the meta-attributes of loaded elements to properties on Python objects. That is done by adding to the getattr and getitem magics.\n",
    "\n",
    "This should focus on the metafields with expected literal values in the JSON."
   ]
  },
  {
   "cell_type": "markdown",
   "id": "d7aa464b-0650-404e-8f24-33f31fa57cac",
   "metadata": {},
   "source": [
    "#### More developed Model class\n",
    "\n",
    "This iteration of the Model class adds the needed methods to support Pythonic relationships."
   ]
  },
  {
   "cell_type": "code",
   "execution_count": 22,
   "id": "64cd49d4-5c54-4c32-bede-38720b867c2a",
   "metadata": {},
   "outputs": [],
   "source": [
    "class Model:  # pylint: disable=too-many-instance-attributes\n",
    "    \"\"\"A SysML v2 Model\"\"\"\n",
    "\n",
    "    # TODO: Look into making elements immutable (e.g., frozen dict)\n",
    "    elements: Dict[str, \"Element\"]\n",
    "\n",
    "    name: str = \"SysML v2 Model\"\n",
    "\n",
    "    all_relationships: Dict[str, \"Element\"] = field(default_factory=dict)\n",
    "    all_non_relationships: Dict[str, \"Element\"] = field(default_factory=dict)\n",
    "\n",
    "    ownedElement: ListOfNamedItems = field(  # pylint: disable=invalid-name\n",
    "        default_factory=ListOfNamedItems,\n",
    "    )\n",
    "    ownedMetatype: Dict[str, List[\"Element\"]] = field(  # pylint: disable=invalid-name\n",
    "        default_factory=dict,\n",
    "    )\n",
    "    ownedRelationship: List[\"Element\"] = field(  # pylint: disable=invalid-name\n",
    "        default_factory=list,\n",
    "    )\n",
    "\n",
    "    max_multiplicity = 100\n",
    "\n",
    "    source: Any = None"
   ]
  },
  {
   "cell_type": "markdown",
   "id": "90ad8686-f677-486d-912c-8fae86da9a03",
   "metadata": {},
   "source": [
    "#### More developed Element class\n",
    "\n",
    "This iteration of the Element class adds the needed methods to support the Pythonic field accessors."
   ]
  },
  {
   "cell_type": "code",
   "execution_count": 23,
   "id": "2663d5b2-0c07-4f17-afc0-99a9ce476012",
   "metadata": {},
   "outputs": [],
   "source": [
    "class Element():\n",
    "    _data: dict\n",
    "    _model: Model\n",
    "\n",
    "    _id: str = field(default_factory=lambda: str(uuid4()))\n",
    "    _metatype: str = \"Element\"\n",
    "    _derived: Dict[str, List] = field(default_factory=lambda: defaultdict(list))\n",
    "    \n",
    "    def __getattr__(self, key: str):\n",
    "        try:\n",
    "            return self[key]\n",
    "        except KeyError as exc:\n",
    "            raise AttributeError(f\"Cannot find {key}\") from exc\n",
    "    \n",
    "    # FIXME: Take advantage of new JSON schema put out in the SysML specification data to isolate fields of most interest.\n",
    "    \n",
    "    def __getitem__(self, key: str):\n",
    "        found = False\n",
    "        for source in (\"_data\", \"_derived\"):\n",
    "            source = self.__getattribute__(source)\n",
    "            if key in source:\n",
    "                if printing_level == 'TRACE':\n",
    "                    print(f'Found meta-attribute {key}')\n",
    "                found = True\n",
    "                item = source[key]\n",
    "                break\n",
    "        if not found:\n",
    "            raise KeyError(f\"No '{key}' in {self}\")\n",
    "\n",
    "        if isinstance(item, (dict, str)):\n",
    "            item = self.__safe_dereference(item)\n",
    "        elif isinstance(item, (list, tuple, set)):\n",
    "            items = [self.__safe_dereference(subitem) for subitem in item]\n",
    "            return type(item)(items)\n",
    "        return item\n",
    "    \n",
    "    def __safe_dereference(self, item):\n",
    "        \"\"\"If given a reference to another element, try to get that element\"\"\"\n",
    "        try:\n",
    "            if isinstance(item, dict) and \"@id\" in item:\n",
    "                if len(item) > 1:\n",
    "                    warn(f\"Found a reference with more than one entry: {item}\")\n",
    "                item = item[\"@id\"]\n",
    "            return self._model.elements[item]\n",
    "        except KeyError:\n",
    "            return item"
   ]
  },
  {
   "cell_type": "markdown",
   "id": "fbc2ccb7-f1a0-4f7b-b092-31492b8db88f",
   "metadata": {},
   "source": [
    "Demonstrate the application of the owned element resolution to all elements in the example data."
   ]
  },
  {
   "cell_type": "code",
   "execution_count": 24,
   "id": "f86f9a8c-9f4a-4eae-a879-11f86a9a6c10",
   "metadata": {},
   "outputs": [],
   "source": [
    "def construct_test_element_from_raw(raw_dict, model_object):\n",
    "    test_element = Element()\n",
    "    test_element._data = raw_dict\n",
    "    test_element._model = model_object\n",
    "    return test_element"
   ]
  },
  {
   "cell_type": "code",
   "execution_count": 25,
   "id": "328284f9-992a-4c7f-bb5f-5f15b07ca7f2",
   "metadata": {},
   "outputs": [],
   "source": [
    "with open('example_data/sysml_3a.json', 'r') as fp:\n",
    "    element_raw_data2 = json.load(fp)\n",
    "\n",
    "test_model2 = Model()\n",
    "indexed_raw2 = index_element_data(element_raw_data2)\n",
    "test_elements2 = {indx: construct_test_element_from_raw(raw_item, test_model2)\n",
    "                for indx, raw_item in indexed_raw2.items()}\n",
    "test_model2.elements = test_elements2"
   ]
  },
  {
   "cell_type": "code",
   "execution_count": 27,
   "id": "f9c4894c-b689-4709-85df-8fcceff071a2",
   "metadata": {},
   "outputs": [],
   "source": [
    "set_names_for_owned_for_element(test_model2.elements[element_raw_data[2]['@id']])"
   ]
  },
  {
   "cell_type": "code",
   "execution_count": 33,
   "id": "55cfec4a-9197-4d12-b2bb-163c7092ef15",
   "metadata": {},
   "outputs": [],
   "source": [
    "printing_level = \"ERROR\""
   ]
  },
  {
   "cell_type": "code",
   "execution_count": 34,
   "id": "fd385888-91fe-470b-83ca-dc75d59843dc",
   "metadata": {},
   "outputs": [],
   "source": [
    "for element_raw in element_raw_data:\n",
    "    set_names_for_owned_for_element(test_model2.elements[element_raw['@id']])"
   ]
  },
  {
   "cell_type": "code",
   "execution_count": 35,
   "id": "34e51a00-7909-4e76-ace9-a2a0f938672e",
   "metadata": {},
   "outputs": [
    {
     "data": {
      "text/plain": [
       "'Element'"
      ]
     },
     "execution_count": 35,
     "metadata": {},
     "output_type": "execute_result"
    }
   ],
   "source": [
    "test_model2.elements[element_raw_data[2]['@id']]._metatype"
   ]
  },
  {
   "cell_type": "code",
   "execution_count": 36,
   "id": "f05648d8-1714-4836-ad89-13b549997f1a",
   "metadata": {},
   "outputs": [
    {
     "data": {
      "text/plain": [
       "'target'"
      ]
     },
     "execution_count": 36,
     "metadata": {},
     "output_type": "execute_result"
    }
   ],
   "source": [
    "test_model2.elements[element_raw_data[2]['@id']].effectiveName"
   ]
  },
  {
   "cell_type": "code",
   "execution_count": 37,
   "id": "6253ed6d-9474-407b-aad0-36181d8c55f4",
   "metadata": {},
   "outputs": [
    {
     "data": {
      "text/plain": [
       "<__main__.Element at 0x28d66d006d0>"
      ]
     },
     "execution_count": 37,
     "metadata": {},
     "output_type": "execute_result"
    }
   ],
   "source": [
    "test_model2.elements[element_raw_data[2]['@id']].ownedElement['engineTorque']"
   ]
  },
  {
   "cell_type": "code",
   "execution_count": 38,
   "id": "c7cfa119-9225-4369-83e0-240eb32adfd8",
   "metadata": {},
   "outputs": [
    {
     "data": {
      "text/plain": [
       "<__main__.Element at 0x28d688b3a00>"
      ]
     },
     "execution_count": 38,
     "metadata": {},
     "output_type": "execute_result"
    }
   ],
   "source": [
    "test_model2.elements[element_raw_data[2]['@id']]"
   ]
  },
  {
   "cell_type": "code",
   "execution_count": 40,
   "id": "9c00a2c0-e911-4811-87c5-bc9383c2727f",
   "metadata": {},
   "outputs": [
    {
     "data": {
      "text/plain": [
       "[{None: []},\n",
       " {None: []},\n",
       " {None: [None]},\n",
       " {None: []},\n",
       " {None: []},\n",
       " {None: []},\n",
       " {None: ['3a-Function-based Behavior-1']},\n",
       " {None: []},\n",
       " {None: []},\n",
       " {None: [None]},\n",
       " {None: []},\n",
       " {'Definitions': ['FuelCmd',\n",
       "   None,\n",
       "   'EngineStart',\n",
       "   'EngineOff',\n",
       "   None,\n",
       "   'Generate Torque',\n",
       "   'Amplify Torque',\n",
       "   'Transfer Torque',\n",
       "   'Distribute Torque',\n",
       "   'Provide Power']},\n",
       " {None: []},\n",
       " {None: []},\n",
       " {None: []},\n",
       " {None: []},\n",
       " {None: []},\n",
       " {None: []},\n",
       " {None: []},\n",
       " {None: []},\n",
       " {None: []},\n",
       " {None: []},\n",
       " {None: []},\n",
       " {None: []},\n",
       " {None: []},\n",
       " {None: []},\n",
       " {None: []},\n",
       " {None: []},\n",
       " {None: []},\n",
       " {None: []},\n",
       " {None: []},\n",
       " {None: []},\n",
       " {None: [None, None]},\n",
       " {None: []},\n",
       " {None: []},\n",
       " {None: []},\n",
       " {None: [None, None]},\n",
       " {None: []},\n",
       " {None: []},\n",
       " {None: []},\n",
       " {'Generate Torque': ['fuelCmd', 'engineTorque']},\n",
       " {'engineTorque': []},\n",
       " {None: []},\n",
       " {None: []},\n",
       " {None: []},\n",
       " {'engineStart': []},\n",
       " {None: []},\n",
       " {None: [None, None]},\n",
       " {None: []},\n",
       " {None: []},\n",
       " {None: []},\n",
       " {None: [None, None]},\n",
       " {None: []},\n",
       " {None: []},\n",
       " {None: []},\n",
       " {'transfer torque': []},\n",
       " {None: []},\n",
       " {None: []},\n",
       " {None: []},\n",
       " {'Transfer Torque': ['transmissionTorque', 'driveshaftTorque']},\n",
       " {None: []},\n",
       " {None: []},\n",
       " {None: []},\n",
       " {None: []},\n",
       " {None: []},\n",
       " {'driveshaftTorque': []},\n",
       " {None: []},\n",
       " {None: []},\n",
       " {None: []},\n",
       " {None: []},\n",
       " {None: []},\n",
       " {'distribute torque': []},\n",
       " {None: []},\n",
       " {None: []},\n",
       " {None: []},\n",
       " {None: []},\n",
       " {None: []},\n",
       " {None: [None]},\n",
       " {'transmissionTorque': []},\n",
       " {None: []},\n",
       " {None: []},\n",
       " {None: []},\n",
       " {None: []},\n",
       " {None: []},\n",
       " {'fuelCmd': []},\n",
       " {None: []},\n",
       " {None: []},\n",
       " {None: [None, None]},\n",
       " {None: []},\n",
       " {None: []},\n",
       " {None: [None, None]},\n",
       " {None: []},\n",
       " {None: [None, None]},\n",
       " {'Provide Power': ['fuelCmd', 'wheelTorque1', 'wheelTorque2']},\n",
       " {None: []},\n",
       " {None: []},\n",
       " {None: []},\n",
       " {None: []},\n",
       " {None: []},\n",
       " {None: []},\n",
       " {None: []},\n",
       " {None: []},\n",
       " {None: []},\n",
       " {'wheelTorque2': []},\n",
       " {None: []},\n",
       " {None: []},\n",
       " {None: []},\n",
       " {None: []},\n",
       " {None: []},\n",
       " {None: []},\n",
       " {'3a-Function-based Behavior-1': ['Definitions', 'Usages']},\n",
       " {None: []},\n",
       " {None: []},\n",
       " {None: []},\n",
       " {None: []},\n",
       " {None: []},\n",
       " {None: []},\n",
       " {None: []},\n",
       " {None: [None, None]},\n",
       " {None: []},\n",
       " {None: []},\n",
       " {None: []},\n",
       " {None: []},\n",
       " {None: []},\n",
       " {None: []},\n",
       " {None: []},\n",
       " {None: []},\n",
       " {None: []},\n",
       " {'engineStopped': ['engineOff', None]},\n",
       " {None: []},\n",
       " {None: []},\n",
       " {None: []},\n",
       " {'continue': [None]},\n",
       " {None: []},\n",
       " {None: []},\n",
       " {None: []},\n",
       " {'wheelTorque1': []},\n",
       " {'Distribute Torque': ['driveShaftTorque', 'wheelTorque1', 'wheelTorque2']},\n",
       " {None: []},\n",
       " {None: []},\n",
       " {'wheelTorque1': []},\n",
       " {None: []},\n",
       " {None: []},\n",
       " {None: []},\n",
       " {None: [None]},\n",
       " {None: []},\n",
       " {None: []},\n",
       " {None: []},\n",
       " {None: [None, None]},\n",
       " {None: []},\n",
       " {'wheelTorque2': []},\n",
       " {None: []},\n",
       " {None: []},\n",
       " {'TorqueValue': []},\n",
       " {None: [None, None]},\n",
       " {None: [None, None, None]},\n",
       " {None: []},\n",
       " {'EngineOff': []},\n",
       " {None: []},\n",
       " {None: []},\n",
       " {None: []},\n",
       " {None: []},\n",
       " {None: [None]},\n",
       " {None: []},\n",
       " {None: []},\n",
       " {'engineTorque': []},\n",
       " {'Amplify Torque': ['engineTorque', 'transmissionTorque']},\n",
       " {'Usages': ['provide power']},\n",
       " {None: []},\n",
       " {None: []},\n",
       " {'EngineStart': []},\n",
       " {None: []},\n",
       " {None: []},\n",
       " {None: []},\n",
       " {None: []},\n",
       " {None: []},\n",
       " {None: []},\n",
       " {None: []},\n",
       " {None: []},\n",
       " {None: []},\n",
       " {None: []},\n",
       " {'wheelTorque2': []},\n",
       " {None: []},\n",
       " {None: []},\n",
       " {None: [None]},\n",
       " {None: []},\n",
       " {'transmissionTorque': []},\n",
       " {None: []},\n",
       " {None: []},\n",
       " {None: []},\n",
       " {None: [None, None]},\n",
       " {None: []},\n",
       " {'wheelTorque1': []},\n",
       " {None: []},\n",
       " {None: []},\n",
       " {None: []},\n",
       " {None: []},\n",
       " {None: []},\n",
       " {None: []},\n",
       " {None: []},\n",
       " {None: []},\n",
       " {None: [None, None]},\n",
       " {None: [None]},\n",
       " {None: []},\n",
       " {None: []},\n",
       " {None: []},\n",
       " {None: []},\n",
       " {None: []},\n",
       " {None: []},\n",
       " {None: [None]},\n",
       " {None: []},\n",
       " {None: []},\n",
       " {None: []},\n",
       " {None: []},\n",
       " {None: []},\n",
       " {None: []},\n",
       " {None: [None]},\n",
       " {None: []},\n",
       " {None: []},\n",
       " {None: []},\n",
       " {None: []},\n",
       " {'fuelCmd': []},\n",
       " {None: [None, None]},\n",
       " {None: []},\n",
       " {'fuelCmd': []},\n",
       " {None: []},\n",
       " {'generate torque': [None]},\n",
       " {None: []},\n",
       " {None: []},\n",
       " {None: []},\n",
       " {'engineOff': []},\n",
       " {None: []},\n",
       " {None: [None, None, None]},\n",
       " {None: []},\n",
       " {None: []},\n",
       " {None: []},\n",
       " {None: []},\n",
       " {None: []},\n",
       " {None: []},\n",
       " {None: []},\n",
       " {None: []},\n",
       " {None: []},\n",
       " {None: []},\n",
       " {None: []},\n",
       " {None: []},\n",
       " {'driveShaftTorque': []},\n",
       " {None: []},\n",
       " {None: []},\n",
       " {'start': []},\n",
       " {None: []},\n",
       " {None: []},\n",
       " {None: []},\n",
       " {'FuelCmd': []},\n",
       " {None: []},\n",
       " {None: []},\n",
       " {None: []},\n",
       " {None: []},\n",
       " {None: []},\n",
       " {None: []},\n",
       " {None: []},\n",
       " {None: []},\n",
       " {None: []},\n",
       " {'provide power': ['fuelCmd',\n",
       "   'wheelTorque1',\n",
       "   'wheelTorque2',\n",
       "   None,\n",
       "   'generate torque',\n",
       "   None,\n",
       "   'amplify torque',\n",
       "   None,\n",
       "   'transfer torque',\n",
       "   None,\n",
       "   'distribute torque',\n",
       "   None,\n",
       "   None,\n",
       "   None,\n",
       "   'continue',\n",
       "   None,\n",
       "   'engineStarted',\n",
       "   None,\n",
       "   'engineStopped',\n",
       "   None,\n",
       "   None,\n",
       "   None,\n",
       "   None,\n",
       "   None,\n",
       "   None,\n",
       "   None,\n",
       "   None,\n",
       "   None,\n",
       "   None,\n",
       "   None]},\n",
       " {None: []},\n",
       " {None: []},\n",
       " {None: []},\n",
       " {None: []},\n",
       " {None: []},\n",
       " {None: []},\n",
       " {'engineStarted': ['engineStart', None, None]},\n",
       " {None: [None, None]},\n",
       " {None: []},\n",
       " {None: []},\n",
       " {None: []},\n",
       " {None: []},\n",
       " {None: []},\n",
       " {None: [None, None, None]},\n",
       " {None: []},\n",
       " {None: []},\n",
       " {None: []},\n",
       " {'amplify torque': []},\n",
       " {None: []},\n",
       " {None: []},\n",
       " {None: []},\n",
       " {None: [None, None]},\n",
       " {None: []},\n",
       " {None: []},\n",
       " {None: []},\n",
       " {None: []},\n",
       " {None: []},\n",
       " {None: []},\n",
       " {None: [None]},\n",
       " {None: []},\n",
       " {None: []},\n",
       " {None: []},\n",
       " {None: []},\n",
       " {None: []}]"
      ]
     },
     "execution_count": 40,
     "metadata": {},
     "output_type": "execute_result"
    }
   ],
   "source": [
    "[{element_raw['name']: [ele['name'] for ele in test_model2.elements[element_raw['@id']].ownedElement]} for element_raw in element_raw_data]"
   ]
  },
  {
   "cell_type": "markdown",
   "id": "686dcafc-a7ac-4bf2-8883-f8e3f3bec139",
   "metadata": {},
   "source": [
    "### Navigating relationships Pythonically\n",
    "\n",
    "The next Pythonic task for our model elements is the ability to traverse SysML v2 relationships Pythonically, either in the forward (through) or reverse direction with simple property accessors."
   ]
  },
  {
   "cell_type": "code",
   "execution_count": 32,
   "id": "497a1e4b-391d-4ec1-a3bb-094e48892d8b",
   "metadata": {},
   "outputs": [],
   "source": [
    "def element_resolve_to_determine_element_as_relationship(self):\n",
    "    self._is_relationship = \"relatedElement\" in data"
   ]
  },
  {
   "cell_type": "code",
   "execution_count": null,
   "id": "768cb851-761e-44e7-ab01-fdf2d09f6edd",
   "metadata": {},
   "outputs": [],
   "source": [
    " def model_add_relationships(self):\n",
    "        \"\"\"Adds relationships to elements\"\"\"\n",
    "        relationship_mapper = {\n",
    "            \"through\": (\"source\", \"target\"),\n",
    "            \"reverse\": (\"target\", \"source\"),\n",
    "        }\n",
    "        # TODO: make this more elegant...  maybe.\n",
    "        for relationship in self.all_relationships.values():\n",
    "            endpoints = {\n",
    "                endpoint_type: [\n",
    "                    self.elements[endpoint[\"@id\"]]\n",
    "                    for endpoint in relationship._data[endpoint_type]\n",
    "                ]\n",
    "                for endpoint_type in (\"source\", \"target\")\n",
    "            }\n",
    "            metatype = relationship._metatype\n",
    "            for direction, (key1, key2) in relationship_mapper.items():\n",
    "                endpts1, endpts2 = endpoints[key1], endpoints[key2]\n",
    "                for endpt1 in endpts1:\n",
    "                    for endpt2 in endpts2:\n",
    "                        endpt1._derived[f\"{direction}{metatype}\"] += [{\"@id\": endpt2._data[\"@id\"]}]"
   ]
  },
  {
   "cell_type": "markdown",
   "id": "ded5923e-fa04-483f-93a1-f99c5063db38",
   "metadata": {},
   "source": [
    "### Dealing with derived attributes\n",
    "\n",
    "In SysML v2 models, there are a large number of derived attributes and collections that can gather the incoming and outgoing relationships to other elements. These are actually the standard means of navigation rather than the relationship-based fields generated specifically for pyMBE (also to make it easier to remember some of the names)."
   ]
  },
  {
   "cell_type": "markdown",
   "id": "e11d3e50-7070-44db-9ac9-379661642596",
   "metadata": {},
   "source": [
    "### Creating model elements Pythonically\n",
    "\n",
    "After setting up a model in memory Pythonically, the next steps will be to create model elements within the model processing session."
   ]
  },
  {
   "cell_type": "markdown",
   "id": "b133c79b-0c1c-4051-b9ee-34bdc5ae4ca8",
   "metadata": {},
   "source": [
    "## Example: Working with Actions in SysML v2 test case 3a"
   ]
  },
  {
   "cell_type": "markdown",
   "id": "a18aceeb-5560-433a-a37c-6ef6b3e4c077",
   "metadata": {
    "tags": []
   },
   "source": [
    "### Fields for model element attributes\n",
    "\n",
    "The fields for a given element should be referenceable in a Pythonic way, using the dot operator. In addition, the field name should indicate whether the reference is \"inside\" the Element or avaiable through a traversal reference. In this case, we use \"through\" for moving from source to target on a relationship and \"reverse\" to go from target to source."
   ]
  },
  {
   "cell_type": "code",
   "execution_count": 2,
   "id": "d85e0712-7710-4ca8-aa70-c7e2c1f9f29e",
   "metadata": {},
   "outputs": [
    {
     "data": {
      "text/plain": [
       "{'1fc1cef9-5ba6-4150-ab8a-ae483583eb18': <Generate Torque «ActionDefinition»>,\n",
       " '2f97f7f3-5085-4fb2-a8d4-9729db79e0af': <Transfer Torque «ActionDefinition»>,\n",
       " '4ce66471-d562-4b33-8d2b-c8232ad5884a': <Provide Power «ActionDefinition»>,\n",
       " '772cc577-68ef-4180-93a6-3e0b4c5459f2': <Distribute Torque «ActionDefinition»>,\n",
       " '8fe4fd3c-5618-46a2-8358-316560b49231': <Amplify Torque «ActionDefinition»>}"
      ]
     },
     "execution_count": 2,
     "metadata": {},
     "output_type": "execute_result"
    }
   ],
   "source": [
    "all_action_defs = {ele_id:ele for (ele_id, ele)\n",
    "                   in test_model.all_non_relationships.items()\n",
    "                   if ele['@type'] == 'ActionDefinition'} \n",
    "all_action_defs"
   ]
  },
  {
   "cell_type": "code",
   "execution_count": 3,
   "id": "9fae3ea0-c2df-4cc7-9d79-99b2a6dd050f",
   "metadata": {},
   "outputs": [],
   "source": [
    "transfer_action = [ele for (ele_id, ele)\n",
    "                   in all_action_defs.items() if ele['name'] == \"Transfer Torque\"][0]"
   ]
  },
  {
   "cell_type": "markdown",
   "id": "0dd8e8a9-2e34-4512-a76f-9a9b47c927eb",
   "metadata": {},
   "source": [
    "With the object assigned to the variable above, we can now explore the element fields:"
   ]
  },
  {
   "cell_type": "code",
   "execution_count": 4,
   "id": "9c65f964-56f4-4036-8cb9-4adfbeec650a",
   "metadata": {},
   "outputs": [
    {
     "data": {
      "text/plain": [
       "'Transfer Torque'"
      ]
     },
     "execution_count": 4,
     "metadata": {},
     "output_type": "execute_result"
    }
   ],
   "source": [
    "transfer_action.name"
   ]
  },
  {
   "cell_type": "code",
   "execution_count": 5,
   "id": "8f203e7a-26eb-4135-9d62-02fb2bbd6b19",
   "metadata": {},
   "outputs": [
    {
     "data": {
      "text/plain": [
       "[<transmissionTorque «ReferenceUsage»>, <driveshaftTorque «ReferenceUsage»>]"
      ]
     },
     "execution_count": 5,
     "metadata": {},
     "output_type": "execute_result"
    }
   ],
   "source": [
    "transfer_action.ownedElement"
   ]
  },
  {
   "cell_type": "code",
   "execution_count": 6,
   "id": "f0fe6f29-d591-4fa5-820e-6d775ef44b97",
   "metadata": {},
   "outputs": [
    {
     "data": {
      "text/plain": [
       "[<FeatureMembership([<Transfer Torque «ActionDefinition»>] ←→ [<transmissionTorque «ReferenceUsage»>])>,\n",
       " <FeatureMembership([<Transfer Torque «ActionDefinition»>] ←→ [<driveshaftTorque «ReferenceUsage»>])>]"
      ]
     },
     "execution_count": 6,
     "metadata": {},
     "output_type": "execute_result"
    }
   ],
   "source": [
    "transfer_action.ownedRelationship"
   ]
  },
  {
   "cell_type": "code",
   "execution_count": 7,
   "id": "90c69af5-878e-44ea-8fbf-012af3dd640a",
   "metadata": {},
   "outputs": [
    {
     "data": {
      "text/plain": [
       "<driveshaftTorque «ReferenceUsage»>"
      ]
     },
     "execution_count": 7,
     "metadata": {},
     "output_type": "execute_result"
    }
   ],
   "source": [
    "transfer_action.throughFeatureMembership[0]"
   ]
  },
  {
   "cell_type": "markdown",
   "id": "0de46edf-997d-4d54-b899-944f01ee7a77",
   "metadata": {},
   "source": [
    "### Working with Derived Attributes\n",
    "\n",
    "SysML v2 has a number of attributes that are derived from the Element's relationship to other Elements. For performance reasons, it may be desirable to evaluate these derivations lazily. It may also be desirable to precache these evaluations or build them up in the background. "
   ]
  },
  {
   "cell_type": "markdown",
   "id": "39402d60-1117-4937-8ac8-6908f6f53fb2",
   "metadata": {},
   "source": [
    "## Example: Working with Clean Bicycle KerML example\n",
    "\n",
    "The same apporach to model load can work with KerML exports also with some refactoring effort."
   ]
  },
  {
   "cell_type": "code",
   "execution_count": 8,
   "id": "3cfc67c1-7352-4175-9a02-0881458f97f7",
   "metadata": {},
   "outputs": [],
   "source": [
    "with open('example_data/Clean_Bicycle.json', 'r') as fp:\n",
    "    element_raw_data = json.load(fp)"
   ]
  },
  {
   "cell_type": "code",
   "execution_count": 9,
   "id": "349f9c6d-03b7-48c3-8d36-8be276615d21",
   "metadata": {},
   "outputs": [
    {
     "data": {
      "text/plain": [
       "578"
      ]
     },
     "execution_count": 9,
     "metadata": {},
     "output_type": "execute_result"
    }
   ],
   "source": [
    "len(element_raw_data)"
   ]
  },
  {
   "cell_type": "code",
   "execution_count": 10,
   "id": "51653021-f4ac-4db8-a8c7-30357460ad9c",
   "metadata": {},
   "outputs": [],
   "source": [
    "extracted_elements = [(lambda d: d.update({'@id': ele['identity']['@id']}) or d)(ele['payload'])\n",
    "                      for ele in element_raw_data]"
   ]
  },
  {
   "cell_type": "code",
   "execution_count": 11,
   "id": "a7efcea1-c371-456d-8061-a198746f19bd",
   "metadata": {},
   "outputs": [],
   "source": [
    "bicycle_model = pm.Model.load(extracted_elements)"
   ]
  },
  {
   "cell_type": "code",
   "execution_count": 14,
   "id": "24df49e2-6e80-4eb0-9218-17e55fa8c76a",
   "metadata": {},
   "outputs": [
    {
     "data": {
      "text/plain": [
       "<SysML v2 Model (578 elements)>"
      ]
     },
     "execution_count": 14,
     "metadata": {},
     "output_type": "execute_result"
    }
   ],
   "source": [
    "bicycle_model"
   ]
  },
  {
   "cell_type": "code",
   "execution_count": 19,
   "id": "d83635ce-ec7d-49db-9c7e-df365ef5648d",
   "metadata": {},
   "outputs": [
    {
     "data": {
      "text/plain": [
       "{'87af228c-582f-47e7-b839-fd087651f365': <Anything «Classifier»>,\n",
       " 'ade99188-b733-456e-b36e-da48eea6634e': <A Bike «Classifier»>,\n",
       " '5c76919e-54b8-4478-9e6e-5b185ebbf686': <A Seat «Classifier»>,\n",
       " '6d191eb7-6ac3-4367-ac9d-19a03c55be10': <Wheel 1 «Classifier»>,\n",
       " '70aca545-7c74-4f51-b86f-295d2fbbcc1e': <Wheel 2 «Classifier»>,\n",
       " 'a707dc82-6838-4683-8f01-e85c5969e7e9': <A Bike «Classifier»>,\n",
       " 'd483e836-71a7-4fa4-b12b-87ccbee88131': <A Seat «Classifier»>,\n",
       " '9347a3a9-1292-4572-a5e9-6f668977d6cf': <Wheel «Classifier»>,\n",
       " 'bff8a8bd-5af0-408f-a1c6-fb5963b8dea3': <A Bike «Classifier»>,\n",
       " '38993def-3ac2-4d68-ab79-4292006baf4f': <A Seat «Classifier»>,\n",
       " 'eec45ce3-7c16-47bd-8684-cbdb4537e50a': <Wheel 2 «Classifier»>,\n",
       " 'b6e1d8bf-0866-4f04-a22b-5b2f3cd003ec': <Wheel 1 «Classifier»>,\n",
       " '776a0aba-638b-4d81-8ba6-0eb3318f3cbc': <Wheel «Classifier»>}"
      ]
     },
     "execution_count": 19,
     "metadata": {},
     "output_type": "execute_result"
    }
   ],
   "source": [
    "all_class_defs = {ele_id:ele for (ele_id, ele)\n",
    "                   in bicycle_model.all_non_relationships.items()\n",
    "                   if ele['@type'] == 'Classifier'} \n",
    "all_class_defs"
   ]
  },
  {
   "cell_type": "code",
   "execution_count": 20,
   "id": "a6e59d3a-d234-49c9-ba5e-60c4db727aa5",
   "metadata": {},
   "outputs": [
    {
     "data": {
      "text/plain": [
       "{'3b94de7a-06c8-4788-a63b-44de4a238e10': <things «Feature»>,\n",
       " '66617c14-8e6f-451f-b48f-f5c30f2a30b9': <66617c14-8e6f-451f-b48f-f5c30f2a30b9 «Feature»>,\n",
       " '753bcd40-49e2-4caa-9e42-c0fdaae036db': <753bcd40-49e2-4caa-9e42-c0fdaae036db «Feature»>,\n",
       " '59eafeb0-480e-4913-ae24-6538b541324e': <naturals «Feature»>,\n",
       " '31de0e8f-1c60-4627-87ad-8a6a139a6d9e': <31de0e8f-1c60-4627-87ad-8a6a139a6d9e «Feature»>,\n",
       " '998e3fc9-3a42-4e5b-9057-2870479631a9': <998e3fc9-3a42-4e5b-9057-2870479631a9 «Feature»>,\n",
       " '5f2595d2-0c07-4ddf-aa7b-013d6b3d7498': <5f2595d2-0c07-4ddf-aa7b-013d6b3d7498 «Feature»>,\n",
       " 'c68f4b5f-db8c-42dd-b711-459b16df19ce': <My Seat «Feature»>,\n",
       " '3396e57f-23cd-4fbe-a55d-8c4966d79897': <3396e57f-23cd-4fbe-a55d-8c4966d79897 «Feature»>,\n",
       " 'e81c2f88-04b5-4c2a-aa46-0d1b671ee0df': <e81c2f88-04b5-4c2a-aa46-0d1b671ee0df «Feature»>,\n",
       " 'e5126bfe-4b08-49d3-ab64-e0022e74fc4a': <e5126bfe-4b08-49d3-ab64-e0022e74fc4a «Feature»>,\n",
       " '948dd903-0cd0-4394-8fa6-d1e3ebec01d7': <948dd903-0cd0-4394-8fa6-d1e3ebec01d7 «Feature»>,\n",
       " '65ce9a7d-41d7-43b2-99c4-b2e59d7b4647': <65ce9a7d-41d7-43b2-99c4-b2e59d7b4647 «Feature»>,\n",
       " '1f258e35-94b6-43f7-b9ef-cdac4d42d4fa': <dataValues «Feature»>,\n",
       " '17064692-2bc0-4c2f-a9d6-bcec37afe662': <back wheel diameter «Feature»>,\n",
       " '257c25e9-b5cb-4453-8ab9-3b6396c8a6a4': <Back Wheel «Feature»>,\n",
       " '93c7d6bb-88df-4b0f-b734-e8cfe5bcf9b2': <93c7d6bb-88df-4b0f-b734-e8cfe5bcf9b2 «Feature»>,\n",
       " '3519d795-1b01-4c3b-87cf-1ae147d10db0': <3519d795-1b01-4c3b-87cf-1ae147d10db0 «Feature»>,\n",
       " 'cc9c7203-c98f-42ed-b15e-66840a0e4ddd': <cc9c7203-c98f-42ed-b15e-66840a0e4ddd «Feature»>,\n",
       " 'e26cf231-681e-49f9-a372-be370a50f39d': <e26cf231-681e-49f9-a372-be370a50f39d «Feature»>,\n",
       " 'aba7c772-36d4-4024-b3bd-675aa6c54d84': <front wheel diameter «Feature»>,\n",
       " '5ff671e6-8d15-4bf1-958f-08b36e1df5f5': <Front Wheel «Feature»>,\n",
       " '98a50b7e-8450-46e8-944b-8b18bfda9847': <98a50b7e-8450-46e8-944b-8b18bfda9847 «Feature»>,\n",
       " '065485c4-8186-4445-8106-57e20637169d': <source «Feature»>,\n",
       " '6e6e6528-5811-4249-8786-59b2eb47b9f5': <driver «Feature»>,\n",
       " '2e7d901f-5c53-4ebf-927a-4f170cae471d': <target «Feature»>,\n",
       " '730cc1cb-2a79-43a3-b363-bbb13a4dc430': <driven «Feature»>,\n",
       " '5b381168-5f5b-49fd-af46-878966e71a1e': <5b381168-5f5b-49fd-af46-878966e71a1e «Feature»>,\n",
       " 'a59db591-2328-4872-8b4d-6f3c4dbe9c20': <a59db591-2328-4872-8b4d-6f3c4dbe9c20 «Feature»>,\n",
       " 'fe299194-90f5-4ee7-8269-0d10e2050e6e': <fe299194-90f5-4ee7-8269-0d10e2050e6e «Feature»>,\n",
       " '780d1044-e42d-4a0f-be80-748bba7a28e7': <binaryLinks «Feature»>,\n",
       " '452cf82e-dfab-46d2-833e-2164b8392e84': <My Bike «Feature»>,\n",
       " '7d8b376a-0644-4eef-a60e-2cbd2521abfb': <7d8b376a-0644-4eef-a60e-2cbd2521abfb «Feature»>,\n",
       " 'e2132391-ab40-48ce-8339-f188f4ffca5c': <e2132391-ab40-48ce-8339-f188f4ffca5c «Feature»>,\n",
       " 'aec7214d-a245-4da2-a5eb-66d1487afbc7': <aec7214d-a245-4da2-a5eb-66d1487afbc7 «Feature»>,\n",
       " 'd8815a76-4d96-4b27-80fc-9ec1e513ff2f': <d8815a76-4d96-4b27-80fc-9ec1e513ff2f «Feature»>,\n",
       " '9556cdaf-84ae-4d7f-8394-96b331debac6': <My Seat «Feature»>,\n",
       " '74bcdb7a-1ad9-4124-91af-05e9d02c6bc8': <74bcdb7a-1ad9-4124-91af-05e9d02c6bc8 «Feature»>,\n",
       " '4d354994-b8da-4519-acef-aa61b95e408e': <Back Wheel «Feature»>,\n",
       " 'ddfff54f-3d57-4fcb-bbd4-562dd4140044': <ddfff54f-3d57-4fcb-bbd4-562dd4140044 «Feature»>,\n",
       " '809bc03b-7140-4436-9207-69c6a231c7a3': <Front Wheel «Feature»>,\n",
       " 'e9e42ab2-6b69-4cf5-81a8-6eba244b1d75': <e9e42ab2-6b69-4cf5-81a8-6eba244b1d75 «Feature»>,\n",
       " 'ec6b161e-0f54-4fed-9406-6d37d7e683da': <driver «Feature»>,\n",
       " 'b9bfa051-b1d4-47f3-9221-27700ab05e9c': <driven «Feature»>,\n",
       " '8d6e35fb-539d-4adf-9a0f-3a651987eda8': <8d6e35fb-539d-4adf-9a0f-3a651987eda8 «Feature»>,\n",
       " 'ce5aaff2-7868-4b89-8fb3-78b4b08a8f60': <ce5aaff2-7868-4b89-8fb3-78b4b08a8f60 «Feature»>,\n",
       " '30d92b09-5cdb-4d7f-8c9b-fb3f2b178ee5': <30d92b09-5cdb-4d7f-8c9b-fb3f2b178ee5 «Feature»>,\n",
       " '4bceb911-120b-408f-b717-bc09d0f849ac': <My Bike «Feature»>,\n",
       " 'd5c0e85b-7d5d-49a5-989f-18bb69bf5376': <d5c0e85b-7d5d-49a5-989f-18bb69bf5376 «Feature»>,\n",
       " 'd0e4bf32-2ebf-4be6-8dd8-34cf67e4b047': <d0e4bf32-2ebf-4be6-8dd8-34cf67e4b047 «Feature»>,\n",
       " 'a93582c7-c734-4b66-ab58-e9a3e837bd15': <a93582c7-c734-4b66-ab58-e9a3e837bd15 «Feature»>,\n",
       " '6f2c920d-d7f2-4d8d-b29d-8dfbaded14e1': <6f2c920d-d7f2-4d8d-b29d-8dfbaded14e1 «Feature»>,\n",
       " '8c61032e-3f90-4dc6-86b9-390c7bb172b0': <My Seat «Feature»>,\n",
       " '7879fe17-e05e-4762-a535-7b427eda63dd': <7879fe17-e05e-4762-a535-7b427eda63dd «Feature»>,\n",
       " 'b15a9fab-b96e-4a45-a009-cbee26af991f': <b15a9fab-b96e-4a45-a009-cbee26af991f «Feature»>,\n",
       " '9c5a6119-52d8-41a0-a5ba-644ca82b0b19': <9c5a6119-52d8-41a0-a5ba-644ca82b0b19 «Feature»>,\n",
       " 'a912e204-58c4-4a3e-9b12-5a88435c3a50': <Back Wheel «Feature»>,\n",
       " 'c4f02934-80a3-4828-a034-4a33d7fed3f5': <c4f02934-80a3-4828-a034-4a33d7fed3f5 «Feature»>,\n",
       " '0f4290a0-1e76-4946-8586-3cf5ae42fac4': <Front Wheel «Feature»>,\n",
       " 'a1bf9c7c-e47f-45a7-b0d4-1beea6841e6f': <a1bf9c7c-e47f-45a7-b0d4-1beea6841e6f «Feature»>,\n",
       " 'a29e6285-6f77-4b08-8c68-40f8b47fbf9d': <driver «Feature»>,\n",
       " '641c4333-dcd6-4c42-830d-a9e6d1891e23': <driven «Feature»>,\n",
       " 'd3875fdc-9435-417a-88ce-6c3b2c324678': <d3875fdc-9435-417a-88ce-6c3b2c324678 «Feature»>,\n",
       " 'ffd1c730-2338-4ae1-a5fa-9594cd5be2b6': <ffd1c730-2338-4ae1-a5fa-9594cd5be2b6 «Feature»>,\n",
       " '00723563-4194-467b-9155-2b23918043b4': <00723563-4194-467b-9155-2b23918043b4 «Feature»>,\n",
       " 'bedd62cb-53d2-42c9-801e-d778220b9d89': <My Bike «Feature»>,\n",
       " '45328ef9-6c3b-4135-8ba9-60da5a4bb5da': <45328ef9-6c3b-4135-8ba9-60da5a4bb5da «Feature»>,\n",
       " 'a171ab37-c144-4350-80db-a2382da1649c': <a171ab37-c144-4350-80db-a2382da1649c «Feature»>,\n",
       " 'c15c7a54-d77e-4aec-b964-4fbea6d7c5fe': <Grounded Back Wheel «Feature»>,\n",
       " 'ada700d7-71e1-4791-9bc3-9a296040cc3a': <ada700d7-71e1-4791-9bc3-9a296040cc3a «Feature»>,\n",
       " '3f6226bb-eaea-44c6-a669-2a9fe6c6378c': <Grounded Front Wheel «Feature»>,\n",
       " 'ac0eadaa-31bb-411d-a9e5-1a2c57ab43b8': <My Bike Grounded «Feature»>}"
      ]
     },
     "execution_count": 20,
     "metadata": {},
     "output_type": "execute_result"
    }
   ],
   "source": [
    "all_feature_defs = {ele_id:ele for (ele_id, ele)\n",
    "                   in bicycle_model.all_non_relationships.items()\n",
    "                   if ele['@type'] == 'Feature'}\n",
    "all_feature_defs"
   ]
  },
  {
   "cell_type": "code",
   "execution_count": 22,
   "id": "58c49678-b2bd-4794-a6ee-ddedb84167e3",
   "metadata": {},
   "outputs": [
    {
     "data": {
      "text/plain": [
       "[<Subsetting([<753bcd40-49e2-4caa-9e42-c0fdaae036db «Feature»>] ←→ [<things «Feature»>])>,\n",
       " <Subsetting([<7f293023-91e2-473e-bd86-f33207ddb1af «LiteralInteger»>] ←→ [<literalIntegerEvaluations «Expression»>])>,\n",
       " <Subsetting([<11d21539-a652-41f1-a8e0-797892d718d0 «MultiplicityRange»>] ←→ [<naturals «Feature»>])>,\n",
       " <Subsetting([<31de0e8f-1c60-4627-87ad-8a6a139a6d9e «Feature»>] ←→ [<things «Feature»>])>,\n",
       " <Subsetting([<f6aec2a0-2f16-46d0-a879-fd9d87d6fc20 «LiteralInteger»>] ←→ [<literalIntegerEvaluations «Expression»>])>,\n",
       " <Subsetting([<3594ef6e-8ee0-4b9a-a4b8-14be786394a9 «MultiplicityRange»>] ←→ [<naturals «Feature»>])>,\n",
       " <Subsetting([<998e3fc9-3a42-4e5b-9057-2870479631a9 «Feature»>] ←→ [<things «Feature»>])>,\n",
       " <Subsetting([<2e273be6-d551-4ac5-8d8b-111666ed30d1 «LiteralInteger»>] ←→ [<literalIntegerEvaluations «Expression»>])>,\n",
       " <Subsetting([<39d0ae2c-e041-4161-b6f2-c6edbdc7ae3a «MultiplicityRange»>] ←→ [<naturals «Feature»>])>,\n",
       " <Subsetting([<5f2595d2-0c07-4ddf-aa7b-013d6b3d7498 «Feature»>] ←→ [<things «Feature»>])>,\n",
       " <Subsetting([<49144789-449d-4815-9261-33cb639f06cf «LiteralInteger»>] ←→ [<literalIntegerEvaluations «Expression»>])>,\n",
       " <Subsetting([<981bec93-2d67-4eda-8f19-bcae97d2c9cf «MultiplicityRange»>] ←→ [<naturals «Feature»>])>,\n",
       " <Subsetting([<My Seat «Feature»>] ←→ [<things «Feature»>])>,\n",
       " <Subsetting([<3396e57f-23cd-4fbe-a55d-8c4966d79897 «Feature»>] ←→ [<things «Feature»>])>,\n",
       " <Subsetting([<a8c15eec-29d7-40af-8b64-392d977b3853 «LiteralInteger»>] ←→ [<literalIntegerEvaluations «Expression»>])>,\n",
       " <Subsetting([<bf10efb4-c23a-42d6-b2d4-0c33ed1ececd «MultiplicityRange»>] ←→ [<naturals «Feature»>])>,\n",
       " <Subsetting([<e81c2f88-04b5-4c2a-aa46-0d1b671ee0df «Feature»>] ←→ [<things «Feature»>])>,\n",
       " <Subsetting([<af99e9f9-bda3-4892-91a2-4bcb97af42ef «LiteralInteger»>] ←→ [<literalIntegerEvaluations «Expression»>])>,\n",
       " <Subsetting([<efc005f1-dfb1-4eda-a84a-7a7737a579cf «MultiplicityRange»>] ←→ [<naturals «Feature»>])>,\n",
       " <Subsetting([<e5126bfe-4b08-49d3-ab64-e0022e74fc4a «Feature»>] ←→ [<things «Feature»>])>,\n",
       " <Subsetting([<d8ff0f66-0195-4038-97cb-787ba6639b5f «LiteralInteger»>] ←→ [<literalIntegerEvaluations «Expression»>])>,\n",
       " <Subsetting([<56e15823-e375-4d1d-b274-8f5fa135cf7d «MultiplicityRange»>] ←→ [<naturals «Feature»>])>,\n",
       " <Subsetting([<65ce9a7d-41d7-43b2-99c4-b2e59d7b4647 «Feature»>] ←→ [<things «Feature»>])>,\n",
       " <Subsetting([<ba13f0a0-158a-46a0-94ea-47e724b5b780 «LiteralRational»>] ←→ [<literalRationalEvaluations «Expression»>])>,\n",
       " <Subsetting([<back wheel diameter «Feature»>] ←→ [<dataValues «Feature»>])>,\n",
       " <Subsetting([<Back Wheel «Feature»>] ←→ [<things «Feature»>])>,\n",
       " <Subsetting([<93c7d6bb-88df-4b0f-b734-e8cfe5bcf9b2 «Feature»>] ←→ [<things «Feature»>])>,\n",
       " <Subsetting([<0988e57a-88f5-42ee-915e-4cad72485f41 «LiteralInteger»>] ←→ [<literalIntegerEvaluations «Expression»>])>,\n",
       " <Subsetting([<b2689b64-5e07-4479-b821-1098d4457cc6 «MultiplicityRange»>] ←→ [<naturals «Feature»>])>,\n",
       " <Subsetting([<3519d795-1b01-4c3b-87cf-1ae147d10db0 «Feature»>] ←→ [<things «Feature»>])>,\n",
       " <Subsetting([<ac189f75-13af-4c10-9bac-ad46086c4b95 «LiteralInteger»>] ←→ [<literalIntegerEvaluations «Expression»>])>,\n",
       " <Subsetting([<93b54f9d-5b6f-4971-a033-4c3abb8d7b24 «MultiplicityRange»>] ←→ [<naturals «Feature»>])>,\n",
       " <Subsetting([<cc9c7203-c98f-42ed-b15e-66840a0e4ddd «Feature»>] ←→ [<things «Feature»>])>,\n",
       " <Subsetting([<99be584f-a984-41c8-ae5f-6306b98ccfa8 «LiteralInteger»>] ←→ [<literalIntegerEvaluations «Expression»>])>,\n",
       " <Subsetting([<f66a838b-64d9-45cd-b6bc-77cd3939c6d0 «MultiplicityRange»>] ←→ [<naturals «Feature»>])>,\n",
       " <Subsetting([<e26cf231-681e-49f9-a372-be370a50f39d «Feature»>] ←→ [<things «Feature»>])>,\n",
       " <Subsetting([<e7bd17f3-0e0c-4e1f-a68e-cb478c25f5b9 «LiteralRational»>] ←→ [<literalRationalEvaluations «Expression»>])>,\n",
       " <Subsetting([<front wheel diameter «Feature»>] ←→ [<dataValues «Feature»>])>,\n",
       " <Subsetting([<Front Wheel «Feature»>] ←→ [<things «Feature»>])>,\n",
       " <Subsetting([<98a50b7e-8450-46e8-944b-8b18bfda9847 «Feature»>] ←→ [<things «Feature»>])>,\n",
       " <Subsetting([<f6fd02ac-f3fb-4615-9ebd-2f19e0f87800 «LiteralInteger»>] ←→ [<literalIntegerEvaluations «Expression»>])>,\n",
       " <Subsetting([<ee8e64fd-4153-4b80-bff0-db51d85481e2 «MultiplicityRange»>] ←→ [<naturals «Feature»>])>,\n",
       " <Subsetting([<5b381168-5f5b-49fd-af46-878966e71a1e «Feature»>] ←→ [<things «Feature»>])>,\n",
       " <Subsetting([<1250ced6-2972-44b9-8928-f6b43d36f603 «LiteralInteger»>] ←→ [<literalIntegerEvaluations «Expression»>])>,\n",
       " <Subsetting([<0bc5bd44-add6-4d2a-b428-b26d24855b91 «MultiplicityRange»>] ←→ [<naturals «Feature»>])>,\n",
       " <Subsetting([<Connector([<Back Wheel «Feature»>] ←→ [<Front Wheel «Feature»>])>] ←→ [<binaryLinks «Feature»>])>,\n",
       " <Subsetting([<My Bike «Feature»>] ←→ [<things «Feature»>])>,\n",
       " <Subsetting([<7d8b376a-0644-4eef-a60e-2cbd2521abfb «Feature»>] ←→ [<things «Feature»>])>,\n",
       " <Subsetting([<ae4cda64-1a38-48d5-b393-277212600d1a «LiteralInteger»>] ←→ [<literalIntegerEvaluations «Expression»>])>,\n",
       " <Subsetting([<af62442a-9362-46f3-b91b-d01367d8816c «MultiplicityRange»>] ←→ [<naturals «Feature»>])>,\n",
       " <Subsetting([<e2132391-ab40-48ce-8339-f188f4ffca5c «Feature»>] ←→ [<things «Feature»>])>,\n",
       " <Subsetting([<5d5cdbe2-5a87-4ca6-ad9d-3ce41771cd3e «LiteralInteger»>] ←→ [<literalIntegerEvaluations «Expression»>])>,\n",
       " <Subsetting([<c0862bdc-087e-4288-9c3c-d818f257a0e4 «MultiplicityRange»>] ←→ [<naturals «Feature»>])>,\n",
       " <Subsetting([<aec7214d-a245-4da2-a5eb-66d1487afbc7 «Feature»>] ←→ [<things «Feature»>])>,\n",
       " <Subsetting([<5513ae74-81e4-4dcf-9bcc-4452714f3ba4 «LiteralInteger»>] ←→ [<literalIntegerEvaluations «Expression»>])>,\n",
       " <Subsetting([<0323a1c1-1abe-4510-9cc5-388d2b9ee6dc «MultiplicityRange»>] ←→ [<naturals «Feature»>])>,\n",
       " <Subsetting([<d8815a76-4d96-4b27-80fc-9ec1e513ff2f «Feature»>] ←→ [<things «Feature»>])>,\n",
       " <Subsetting([<8fad79e8-1b68-4aad-8a02-d0302e6b181d «LiteralInteger»>] ←→ [<literalIntegerEvaluations «Expression»>])>,\n",
       " <Subsetting([<c03463d8-6271-4c2c-b092-05dc3d967eff «MultiplicityRange»>] ←→ [<naturals «Feature»>])>,\n",
       " <Subsetting([<My Seat «Feature»>] ←→ [<things «Feature»>])>,\n",
       " <Subsetting([<74bcdb7a-1ad9-4124-91af-05e9d02c6bc8 «Feature»>] ←→ [<things «Feature»>])>,\n",
       " <Subsetting([<114c5060-e3ac-474b-b92b-9e531a1117c0 «LiteralInteger»>] ←→ [<literalIntegerEvaluations «Expression»>])>,\n",
       " <Subsetting([<76e5d47d-6ea0-44e0-9205-7d9f4eee674f «MultiplicityRange»>] ←→ [<naturals «Feature»>])>,\n",
       " <Subsetting([<Back Wheel «Feature»>] ←→ [<things «Feature»>])>,\n",
       " <Subsetting([<ddfff54f-3d57-4fcb-bbd4-562dd4140044 «Feature»>] ←→ [<things «Feature»>])>,\n",
       " <Subsetting([<7a7ebb56-a132-40f1-a72f-5f73af72cf5f «LiteralInteger»>] ←→ [<literalIntegerEvaluations «Expression»>])>,\n",
       " <Subsetting([<08daa9e7-e9dc-4e48-a638-bf3ea3ee45c5 «MultiplicityRange»>] ←→ [<naturals «Feature»>])>,\n",
       " <Subsetting([<Front Wheel «Feature»>] ←→ [<things «Feature»>])>,\n",
       " <Subsetting([<e9e42ab2-6b69-4cf5-81a8-6eba244b1d75 «Feature»>] ←→ [<things «Feature»>])>,\n",
       " <Subsetting([<fb11ee67-a0c7-4102-bddb-c947f13c9620 «LiteralInteger»>] ←→ [<literalIntegerEvaluations «Expression»>])>,\n",
       " <Subsetting([<763d5736-21c8-4346-9d71-abe13ff6b94e «MultiplicityRange»>] ←→ [<naturals «Feature»>])>,\n",
       " <Subsetting([<8d6e35fb-539d-4adf-9a0f-3a651987eda8 «Feature»>] ←→ [<things «Feature»>])>,\n",
       " <Subsetting([<128d4ebf-d3ee-428f-bce4-cb923a922ce5 «LiteralInteger»>] ←→ [<literalIntegerEvaluations «Expression»>])>,\n",
       " <Subsetting([<ff0bb300-4b5d-4ab8-89d7-3a52a751205a «MultiplicityRange»>] ←→ [<naturals «Feature»>])>,\n",
       " <Subsetting([<Connector([<Back Wheel «Feature»>] ←→ [<Front Wheel «Feature»>])>] ←→ [<binaryLinks «Feature»>])>,\n",
       " <Subsetting([<My Bike «Feature»>] ←→ [<things «Feature»>])>,\n",
       " <Subsetting([<d5c0e85b-7d5d-49a5-989f-18bb69bf5376 «Feature»>] ←→ [<things «Feature»>])>,\n",
       " <Subsetting([<9d7df78d-30a7-46e1-bf39-89a46ea05973 «LiteralInteger»>] ←→ [<literalIntegerEvaluations «Expression»>])>,\n",
       " <Subsetting([<6d6cb7cc-0dee-4ac9-9619-835c730e8680 «MultiplicityRange»>] ←→ [<naturals «Feature»>])>,\n",
       " <Subsetting([<d0e4bf32-2ebf-4be6-8dd8-34cf67e4b047 «Feature»>] ←→ [<things «Feature»>])>,\n",
       " <Subsetting([<589287a4-661a-41ed-a9d2-10b90748fc65 «LiteralInteger»>] ←→ [<literalIntegerEvaluations «Expression»>])>,\n",
       " <Subsetting([<0878360c-b6f3-4c64-a9f1-b024005574e8 «MultiplicityRange»>] ←→ [<naturals «Feature»>])>,\n",
       " <Subsetting([<a93582c7-c734-4b66-ab58-e9a3e837bd15 «Feature»>] ←→ [<things «Feature»>])>,\n",
       " <Subsetting([<383b03f0-3979-4b92-b8c7-34c08b5b5b83 «LiteralInteger»>] ←→ [<literalIntegerEvaluations «Expression»>])>,\n",
       " <Subsetting([<d8a13b17-51f8-43b9-bfea-751a2b2f4b3d «MultiplicityRange»>] ←→ [<naturals «Feature»>])>,\n",
       " <Subsetting([<6f2c920d-d7f2-4d8d-b29d-8dfbaded14e1 «Feature»>] ←→ [<things «Feature»>])>,\n",
       " <Subsetting([<b447944a-06ab-4d3b-bb2b-14208a67e53f «LiteralInteger»>] ←→ [<literalIntegerEvaluations «Expression»>])>,\n",
       " <Subsetting([<4671fa75-1936-48d1-8125-ceecca4dc9a6 «MultiplicityRange»>] ←→ [<naturals «Feature»>])>,\n",
       " <Subsetting([<My Seat «Feature»>] ←→ [<things «Feature»>])>,\n",
       " <Subsetting([<7879fe17-e05e-4762-a535-7b427eda63dd «Feature»>] ←→ [<things «Feature»>])>,\n",
       " <Subsetting([<e2dfd31c-cf13-404d-a313-1ef74be8c482 «LiteralInteger»>] ←→ [<literalIntegerEvaluations «Expression»>])>,\n",
       " <Subsetting([<80c520c9-191b-4a61-aa29-939c785ea842 «MultiplicityRange»>] ←→ [<naturals «Feature»>])>,\n",
       " <Subsetting([<b15a9fab-b96e-4a45-a009-cbee26af991f «Feature»>] ←→ [<things «Feature»>])>,\n",
       " <Subsetting([<01d8f299-b50d-4e03-a0cc-15faa9f44765 «LiteralInteger»>] ←→ [<literalIntegerEvaluations «Expression»>])>,\n",
       " <Subsetting([<990cf93b-54a9-4148-82bc-eb903ae68251 «MultiplicityRange»>] ←→ [<naturals «Feature»>])>,\n",
       " <Subsetting([<9c5a6119-52d8-41a0-a5ba-644ca82b0b19 «Feature»>] ←→ [<things «Feature»>])>,\n",
       " <Subsetting([<33b499b2-2865-4d73-8e9b-1f49e9425e47 «LiteralInteger»>] ←→ [<literalIntegerEvaluations «Expression»>])>,\n",
       " <Subsetting([<c018b441-68bd-4fac-8307-6d0372983a48 «MultiplicityRange»>] ←→ [<naturals «Feature»>])>,\n",
       " <Subsetting([<Back Wheel «Feature»>] ←→ [<things «Feature»>])>,\n",
       " <Subsetting([<c4f02934-80a3-4828-a034-4a33d7fed3f5 «Feature»>] ←→ [<things «Feature»>])>,\n",
       " <Subsetting([<22d0cb63-80f8-4b8a-9c42-7f5330794414 «LiteralInteger»>] ←→ [<literalIntegerEvaluations «Expression»>])>,\n",
       " <Subsetting([<83be0233-a6f2-4249-913b-4fb76e2c3b38 «MultiplicityRange»>] ←→ [<naturals «Feature»>])>,\n",
       " <Subsetting([<Front Wheel «Feature»>] ←→ [<things «Feature»>])>,\n",
       " <Subsetting([<a1bf9c7c-e47f-45a7-b0d4-1beea6841e6f «Feature»>] ←→ [<things «Feature»>])>,\n",
       " <Subsetting([<5e4e3560-22cd-434a-82d9-f6774da21df4 «LiteralInteger»>] ←→ [<literalIntegerEvaluations «Expression»>])>,\n",
       " <Subsetting([<644b7609-5fe5-490c-8bd7-364a275b0780 «MultiplicityRange»>] ←→ [<naturals «Feature»>])>,\n",
       " <Subsetting([<d3875fdc-9435-417a-88ce-6c3b2c324678 «Feature»>] ←→ [<things «Feature»>])>,\n",
       " <Subsetting([<755c238a-9f89-43d8-84ba-6266dea69991 «LiteralInteger»>] ←→ [<literalIntegerEvaluations «Expression»>])>,\n",
       " <Subsetting([<cd860f87-a0d9-4cc2-b9a1-871d7ac71c65 «MultiplicityRange»>] ←→ [<naturals «Feature»>])>,\n",
       " <Subsetting([<Connector([<Back Wheel «Feature»>] ←→ [<Front Wheel «Feature»>])>] ←→ [<binaryLinks «Feature»>])>,\n",
       " <Subsetting([<My Bike «Feature»>] ←→ [<things «Feature»>])>,\n",
       " <Subsetting([<My Bike Grounded «Feature»>] ←→ [<My Bike «Feature»>])>,\n",
       " <Subsetting([<45328ef9-6c3b-4135-8ba9-60da5a4bb5da «Feature»>] ←→ [<things «Feature»>])>,\n",
       " <Subsetting([<b059605c-62a3-4490-9be0-eb7d4066c571 «LiteralInteger»>] ←→ [<literalIntegerEvaluations «Expression»>])>,\n",
       " <Subsetting([<9906e105-57ec-4812-9563-8b9498831bcb «MultiplicityRange»>] ←→ [<naturals «Feature»>])>,\n",
       " <Subsetting([<a171ab37-c144-4350-80db-a2382da1649c «Feature»>] ←→ [<things «Feature»>])>,\n",
       " <Subsetting([<6c44725f-0291-49bb-884a-ff3a6ce83bca «LiteralInteger»>] ←→ [<literalIntegerEvaluations «Expression»>])>,\n",
       " <Subsetting([<1021e0db-b9d2-4b0a-b6ee-3a8bab1f7d94 «MultiplicityRange»>] ←→ [<naturals «Feature»>])>,\n",
       " <Subsetting([<ada700d7-71e1-4791-9bc3-9a296040cc3a «Feature»>] ←→ [<things «Feature»>])>,\n",
       " <Subsetting([<be6a0b90-5f34-4d4c-805c-151192449e69 «LiteralInteger»>] ←→ [<literalIntegerEvaluations «Expression»>])>,\n",
       " <Subsetting([<3a777244-c621-4255-bce5-afe3f82bc3ec «MultiplicityRange»>] ←→ [<naturals «Feature»>])>]"
      ]
     },
     "execution_count": 22,
     "metadata": {},
     "output_type": "execute_result"
    }
   ],
   "source": [
    "all_ss_defs = [ele for (ele_id, ele)\n",
    "                   in bicycle_model.all_relationships.items()\n",
    "                   if ele['@type'] == 'Subsetting']\n",
    "all_ss_defs"
   ]
  },
  {
   "cell_type": "code",
   "execution_count": null,
   "id": "1dd40e4a-1e3b-42b8-9ab8-0d07ec4d9330",
   "metadata": {},
   "outputs": [],
   "source": []
  }
 ],
 "metadata": {
  "kernelspec": {
   "display_name": "Python 3 (ipykernel)",
   "language": "python",
   "name": "python3"
  },
  "language_info": {
   "codemirror_mode": {
    "name": "ipython",
    "version": 3
   },
   "file_extension": ".py",
   "mimetype": "text/x-python",
   "name": "python",
   "nbconvert_exporter": "python",
   "pygments_lexer": "ipython3",
   "version": "3.9.13"
  }
 },
 "nbformat": 4,
 "nbformat_minor": 5
}
