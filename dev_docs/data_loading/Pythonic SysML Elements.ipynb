{
 "cells": [
  {
   "cell_type": "markdown",
   "id": "ef38eade-95f5-498e-8e7c-6a5c362a615a",
   "metadata": {
    "tags": []
   },
   "source": [
    "# Pythonic SysML Elements\n",
    "\n",
    "This notebook walks through the approach to making SysML elements act Pythonically while in the PyMBE environment in order to support more intuitive codes that inspect and analyze SysML models."
   ]
  },
  {
   "cell_type": "code",
   "execution_count": 10,
   "id": "fef0f668-cae5-4440-b4ca-2a10215e0f43",
   "metadata": {},
   "outputs": [
    {
     "data": {
      "text/plain": [
       "<SysML v2 Model (297 elements)>"
      ]
     },
     "execution_count": 10,
     "metadata": {},
     "output_type": "execute_result"
    }
   ],
   "source": [
    "import json\n",
    "import pymbe.api as pm\n",
    "\n",
    "with open('example_data/downloaded_elements.json', 'r') as fp:\n",
    "    element_raw_data = json.load(fp)\n",
    "\n",
    "test_model = pm.Model(elements={})\n",
    "test_model.load(element_raw_data)"
   ]
  },
  {
   "cell_type": "markdown",
   "id": "a18aceeb-5560-433a-a37c-6ef6b3e4c077",
   "metadata": {
    "tags": []
   },
   "source": [
    "## Fields for model element attributes\n",
    "\n",
    "The fields for a given element should be referenceable in a Pythonic way, using the dot operator. In addition, the field name should indicate whether the reference is \"inside\" the Element or avaiable through a traversal reference. In this case, we use \"through\" for moving from source to target on a relationship and \"reverse\" to go from target to source."
   ]
  },
  {
   "cell_type": "code",
   "execution_count": null,
   "id": "d85e0712-7710-4ca8-aa70-c7e2c1f9f29e",
   "metadata": {},
   "outputs": [],
   "source": []
  },
  {
   "cell_type": "markdown",
   "id": "0de46edf-997d-4d54-b899-944f01ee7a77",
   "metadata": {},
   "source": [
    "## Working with Derived Attributes\n",
    "\n",
    "SysML v2 has a number of attributes that are derived from the Element's relationship to other Elements. For performance reasons, it may be desirable to evaluate these derivations lazily. It may also be desirable to precache these evaluations or build them up in the background. "
   ]
  },
  {
   "cell_type": "code",
   "execution_count": null,
   "id": "9d95499e-b8c3-4dc6-b1e0-f6317f73d7f7",
   "metadata": {},
   "outputs": [],
   "source": []
  }
 ],
 "metadata": {
  "kernelspec": {
   "display_name": "Python 3 (ipykernel)",
   "language": "python",
   "name": "python3"
  },
  "language_info": {
   "codemirror_mode": {
    "name": "ipython",
    "version": 3
   },
   "file_extension": ".py",
   "mimetype": "text/x-python",
   "name": "python",
   "nbconvert_exporter": "python",
   "pygments_lexer": "ipython3",
   "version": "3.9.13"
  }
 },
 "nbformat": 4,
 "nbformat_minor": 5
}
