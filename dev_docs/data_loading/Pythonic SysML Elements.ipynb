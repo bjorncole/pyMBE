{
 "cells": [
  {
   "cell_type": "markdown",
   "id": "ef38eade-95f5-498e-8e7c-6a5c362a615a",
   "metadata": {
    "tags": []
   },
   "source": [
    "# Pythonic SysML Elements\n",
    "\n",
    "This notebook walks through the approach to making SysML elements act Pythonically while in the PyMBE environment in order to support more intuitive codes that inspect and analyze SysML models."
   ]
  },
  {
   "cell_type": "code",
   "execution_count": null,
   "id": "fef0f668-cae5-4440-b4ca-2a10215e0f43",
   "metadata": {},
   "outputs": [],
   "source": [
    "import json\n",
    "import pymbe.api as pm\n",
    "\n",
    "with open('example_data/sysml_3a.json', 'r') as fp:\n",
    "    element_raw_data = json.load(fp)\n",
    "\n",
    "test_model = pm.Model.load(element_raw_data)"
   ]
  },
  {
   "cell_type": "markdown",
   "id": "b133c79b-0c1c-4051-b9ee-34bdc5ae4ca8",
   "metadata": {},
   "source": [
    "## Example: Working with Actions in SysML v2 test case 3a"
   ]
  },
  {
   "cell_type": "markdown",
   "id": "a18aceeb-5560-433a-a37c-6ef6b3e4c077",
   "metadata": {
    "tags": []
   },
   "source": [
    "### Fields for model element attributes\n",
    "\n",
    "The fields for a given element should be referenceable in a Pythonic way, using the dot operator. In addition, the field name should indicate whether the reference is \"inside\" the Element or avaiable through a traversal reference. In this case, we use \"through\" for moving from source to target on a relationship and \"reverse\" to go from target to source."
   ]
  },
  {
   "cell_type": "code",
   "execution_count": null,
   "id": "d85e0712-7710-4ca8-aa70-c7e2c1f9f29e",
   "metadata": {},
   "outputs": [],
   "source": [
    "all_action_defs = {ele_id:ele for (ele_id, ele)\n",
    "                   in test_model.all_non_relationships.items()\n",
    "                   if ele['@type'] == 'ActionDefinition'} \n",
    "all_action_defs"
   ]
  },
  {
   "cell_type": "code",
   "execution_count": null,
   "id": "9fae3ea0-c2df-4cc7-9d79-99b2a6dd050f",
   "metadata": {},
   "outputs": [],
   "source": [
    "transfer_action = [ele for (ele_id, ele)\n",
    "                   in all_action_defs.items() if ele['name'] == \"Transfer Torque\"][0]"
   ]
  },
  {
   "cell_type": "markdown",
   "id": "0dd8e8a9-2e34-4512-a76f-9a9b47c927eb",
   "metadata": {},
   "source": [
    "With the object assigned to the variable above, we can now explore the element fields:"
   ]
  },
  {
   "cell_type": "code",
   "execution_count": null,
   "id": "9c65f964-56f4-4036-8cb9-4adfbeec650a",
   "metadata": {},
   "outputs": [],
   "source": [
    "transfer_action.name"
   ]
  },
  {
   "cell_type": "code",
   "execution_count": null,
   "id": "8f203e7a-26eb-4135-9d62-02fb2bbd6b19",
   "metadata": {},
   "outputs": [],
   "source": [
    "transfer_action.ownedElement"
   ]
  },
  {
   "cell_type": "code",
   "execution_count": null,
   "id": "f0fe6f29-d591-4fa5-820e-6d775ef44b97",
   "metadata": {},
   "outputs": [],
   "source": [
    "transfer_action.ownedRelationship"
   ]
  },
  {
   "cell_type": "code",
   "execution_count": null,
   "id": "90c69af5-878e-44ea-8fbf-012af3dd640a",
   "metadata": {},
   "outputs": [],
   "source": [
    "transfer_action.throughFeatureMembership[0]"
   ]
  },
  {
   "cell_type": "markdown",
   "id": "0de46edf-997d-4d54-b899-944f01ee7a77",
   "metadata": {},
   "source": [
    "### Working with Derived Attributes\n",
    "\n",
    "SysML v2 has a number of attributes that are derived from the Element's relationship to other Elements. For performance reasons, it may be desirable to evaluate these derivations lazily. It may also be desirable to precache these evaluations or build them up in the background. "
   ]
  },
  {
   "cell_type": "markdown",
   "id": "39402d60-1117-4937-8ac8-6908f6f53fb2",
   "metadata": {},
   "source": [
    "## Example: Working with Clean Bicycle KerML example\n",
    "\n",
    "The same apporach to model load can work with KerML exports also with some refactoring effort."
   ]
  },
  {
   "cell_type": "code",
   "execution_count": null,
   "id": "3cfc67c1-7352-4175-9a02-0881458f97f7",
   "metadata": {},
   "outputs": [],
   "source": [
    "with open('example_data/Clean_Bicycle.json', 'r') as fp:\n",
    "    element_raw_data = json.load(fp)"
   ]
  },
  {
   "cell_type": "code",
   "execution_count": null,
   "id": "349f9c6d-03b7-48c3-8d36-8be276615d21",
   "metadata": {},
   "outputs": [],
   "source": [
    "len(element_raw_data)"
   ]
  },
  {
   "cell_type": "code",
   "execution_count": null,
   "id": "51653021-f4ac-4db8-a8c7-30357460ad9c",
   "metadata": {},
   "outputs": [],
   "source": [
    "extracted_elements = [(lambda d: d.update({'@id': ele['identity']['@id']}) or d)(ele['payload'])\n",
    "                      for ele in element_raw_data]"
   ]
  },
  {
   "cell_type": "code",
   "execution_count": null,
   "id": "a7efcea1-c371-456d-8061-a198746f19bd",
   "metadata": {},
   "outputs": [],
   "source": [
    "bicycle_model = pm.Model.load(extracted_elements)"
   ]
  },
  {
   "cell_type": "code",
   "execution_count": null,
   "id": "24df49e2-6e80-4eb0-9218-17e55fa8c76a",
   "metadata": {},
   "outputs": [],
   "source": []
  }
 ],
 "metadata": {
  "kernelspec": {
   "display_name": "Python 3 (ipykernel)",
   "language": "python",
   "name": "python3"
  },
  "language_info": {
   "codemirror_mode": {
    "name": "ipython",
    "version": 3
   },
   "file_extension": ".py",
   "mimetype": "text/x-python",
   "name": "python",
   "nbconvert_exporter": "python",
   "pygments_lexer": "ipython3",
   "version": "3.9.13"
  }
 },
 "nbformat": 4,
 "nbformat_minor": 5
}
