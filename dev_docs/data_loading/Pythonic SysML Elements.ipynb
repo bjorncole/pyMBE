{
 "cells": [
  {
   "cell_type": "markdown",
   "id": "ef38eade-95f5-498e-8e7c-6a5c362a615a",
   "metadata": {
    "tags": []
   },
   "source": [
    "# Pythonic SysML Elements\n",
    "\n",
    "This notebook walks through the approach to making SysML elements act Pythonically while in the PyMBE environment in order to support more intuitive codes that inspect and analyze SysML models.\n",
    "\n",
    "Note that the Markdown headers for code snippets are set up to be translated into docstrings for documentation of the code eventually."
   ]
  },
  {
   "cell_type": "code",
   "execution_count": null,
   "id": "fef0f668-cae5-4440-b4ca-2a10215e0f43",
   "metadata": {
    "tags": []
   },
   "outputs": [],
   "source": [
    "import inspect\n",
    "import os\n",
    "import traceback\n",
    "import logging\n",
    "import pymbe.api as pm\n",
    "from pymbe.model import Element\n",
    "from pymbe.model import ListOfNamedItems\n",
    "from pymbe.model import Model\n",
    "\n",
    "import json\n",
    "from dataclasses import dataclass, field\n",
    "from typing import Any, Dict, List, Set, Tuple, Union, Collection\n",
    "from collections import defaultdict\n",
    "\n",
    "from uuid import uuid4\n",
    "\n",
    "with open('example_data/sysml_3a.json', 'r') as fp:\n",
    "    element_raw_data = json.load(fp)\n",
    "    \n",
    "with open('canonical_data/Model_Loader_Test_Level_1.json', 'r') as fp:\n",
    "    element_raw_post_data = json.load(fp)\n"
   ]
  },
  {
   "cell_type": "code",
   "execution_count": null,
   "id": "627769e2-a4d0-44e6-9e96-804c3bd14946",
   "metadata": {},
   "outputs": [],
   "source": [
    "logging.basicConfig(level=logging.INFO)"
   ]
  },
  {
   "cell_type": "markdown",
   "id": "f5b60e35-0593-48ad-8dd3-4df60dcc43a2",
   "metadata": {},
   "source": [
    "## Lifecycle Tracker\n",
    "\n",
    "The element class below is created to track the full lifecycle of an Element as it is read back from Python, populated with attribute data, and related to others through serialized relations references."
   ]
  },
  {
   "cell_type": "code",
   "execution_count": null,
   "id": "c6ef4dbd-62c4-4dc3-863e-6dc6d11e9064",
   "metadata": {},
   "outputs": [],
   "source": [
    "class InstrumentedElement(Element):\n",
    "    \n",
    "    def __post_init__(self):\n",
    "        logging.info(\"[Element] entering post initialization.\")\n",
    "        \n",
    "        #super().__post_init__()\n",
    "        if not self._model._initializing:\n",
    "            self._model.elements[self._id] = self\n",
    "        if self._data:\n",
    "            logging.info(\"[Element] data found. About to resolve.\")\n",
    "            self.resolve()\n",
    "            \n",
    "    def __setattr__(self, name, value):\n",
    "        super().__setattr__(name, value)\n",
    "        logging.info(f\"[Element] value of {name} is trying to be set to {value}\")\n",
    "            \n",
    "    def resolve(self):\n",
    "        if not self._is_proxy:\n",
    "            logging.info(\"[Element] element is not proxy.\")\n",
    "            return\n",
    "        \n",
    "        logging.info(\"[Element] element is still in proxy mode - resolving internal data\")\n",
    "\n",
    "        model = self._model\n",
    "        if not self._data:\n",
    "            logging.info(\"[Element] no data found to resolve.\")\n",
    "            if not model._api:\n",
    "                raise SystemError(\"Model must have an API to retrieve the data from!\")\n",
    "            self._data = model._api.get_element_data(self._id)\n",
    "        data = self._data\n",
    "        self._id = data[\"@id\"]\n",
    "        self._metatype = data[\"@type\"]\n",
    "\n",
    "        self._is_abstract = bool(data.get(\"isAbstract\"))\n",
    "        self._is_relationship = bool(data.get(\"relatedElement\"))\n",
    "        \n",
    "        logging.info(f\"[Element] assigned id = {self._id}, metatype = {self._metatype}, is abstract = {self._is_abstract}, and is relationship = {self._is_relationship}.\")\n",
    "        \n",
    "        for key, items in data.items():\n",
    "            if key.startswith(\"owned\") and isinstance(items, list):\n",
    "                logging.info(f\"Key starting with owned found: {key}\")\n",
    "                data[key] = ListOfNamedItems(items)\n",
    "                logging.info(f\"Data resolved to: {data[key]}\")\n",
    "        if not model._initializing:\n",
    "            self._model._add_element(self)\n",
    "        self._is_proxy = False"
   ]
  },
  {
   "cell_type": "markdown",
   "id": "0bc147bb-afac-4d48-9397-293f96e208ea",
   "metadata": {},
   "source": [
    "## Test Objects\n",
    "\n",
    "Load up an instrumented element and model to explore the concepts below."
   ]
  },
  {
   "cell_type": "code",
   "execution_count": null,
   "id": "d90fabd3-69c0-4dd1-980c-e5702caf36fa",
   "metadata": {},
   "outputs": [],
   "source": [
    "def factor_element_post_data_to_get(post_element):\n",
    "    return {**{k: v for k, v in post_element[\"payload\"].items()}, \"@id\": post_element[\"identity\"][\"@id\"]}"
   ]
  },
  {
   "cell_type": "code",
   "execution_count": null,
   "id": "712f8c02-6bea-4605-bdce-05a9a590ddbc",
   "metadata": {},
   "outputs": [],
   "source": [
    "factor_element_post_data_to_get(element_raw_post_data[0])"
   ]
  },
  {
   "cell_type": "code",
   "execution_count": null,
   "id": "b25a249c-2e67-4661-b24e-510aa49adc4f",
   "metadata": {},
   "outputs": [],
   "source": [
    "factored_post_data = [factor_element_post_data_to_get(raw_post) for raw_post in element_raw_post_data]"
   ]
  },
  {
   "cell_type": "code",
   "execution_count": null,
   "id": "d8aa6026-614f-4b9a-9c63-0fdbef0ae935",
   "metadata": {},
   "outputs": [],
   "source": [
    "def get_index_of_named_element(name=\"example\"):\n",
    "    key_element_index = 0\n",
    "    max_tries = 1000\n",
    "    found = False\n",
    "    while not found and key_element_index < max_tries:\n",
    "        if \"declaredName\" in element_raw_post_data[key_element_index][\"payload\"]:\n",
    "            if element_raw_post_data[key_element_index][\"payload\"][\"declaredName\"] == name:\n",
    "                found = True\n",
    "                return key_element_index\n",
    "        key_element_index = key_element_index + 1"
   ]
  },
  {
   "cell_type": "code",
   "execution_count": null,
   "id": "e3282a6e-ec44-4a21-bf05-04db43c290f7",
   "metadata": {},
   "outputs": [],
   "source": [
    "get_index_of_named_element(name=\"Bare Classed Feature\")"
   ]
  },
  {
   "cell_type": "code",
   "execution_count": null,
   "id": "c3dbb96b-66ad-4395-9ac0-6701fadadfed",
   "metadata": {},
   "outputs": [],
   "source": [
    "element_raw_post_data[15]"
   ]
  },
  {
   "cell_type": "code",
   "execution_count": null,
   "id": "2a48c271-fd9c-4135-b3bb-d868b5c381d4",
   "metadata": {},
   "outputs": [],
   "source": [
    "@dataclass(repr=False)\n",
    "class InstrumentedModel(Model):\n",
    "    \n",
    "    instrumented_name: str = \"Bare Classed Feature\"\n",
    "    instrumented_element: InstrumentedElement = None\n",
    "    \n",
    "    def __post_init__(self):\n",
    "        '''Same as other code but with insertion of instrumented element'''\n",
    "        \n",
    "        self._load_metahints()\n",
    "        \n",
    "        logging.info(f\"[Model] loading model with instrumented element with name '{self.instrumented_name}'\")\n",
    "        \n",
    "        instrumented_data = None\n",
    "        instrumented_element = None\n",
    "        for id_, data in self.elements.items():\n",
    "            if \"declaredName\" in data and data[\"declaredName\"] == self.instrumented_name:\n",
    "                instrumented_data = (id_, data)\n",
    "                \n",
    "        logging.info(f\"[Model] Model data is '{instrumented_data[1]}'\")\n",
    "                \n",
    "        self.elements = {\n",
    "            id_: Element(_data=data,\n",
    "                         _model=self,\n",
    "                         _metamodel_hints={att[0]: att[1:] for att in self._metamodel_hints[data[\"@type\"]]})\n",
    "            for id_, data in self.elements.items()\n",
    "            if isinstance(data, dict)\n",
    "        }\n",
    "        \n",
    "        self.instrumented_element = InstrumentedElement(_data=instrumented_data[1],\n",
    "                                                        _model=self,\n",
    "                                                        _metamodel_hints={att[0]: att[1:] for att in self._metamodel_hints[instrumented_data[1][\"@type\"]]})\n",
    "        \n",
    "        self.elements.update({instrumented_data[0]: self.instrumented_element})\n",
    "\n",
    "        self._add_owned()\n",
    "\n",
    "        # Modify and add derived data to the elements\n",
    "        self._add_relationships()\n",
    "        self._add_labels()\n",
    "        self._initializing = False\n",
    "        \n",
    "    @staticmethod\n",
    "    def load(\n",
    "        elements: Collection[Dict],\n",
    "        **kwargs,\n",
    "    ) -> \"Model\":\n",
    "        \"\"\"Make a Model from an iterable container of elements\"\"\"\n",
    "        return InstrumentedModel(\n",
    "            elements={element[\"@id\"]: element for element in elements},\n",
    "            **kwargs,\n",
    "        )\n",
    "    \n",
    "    def _add_relationships(self):\n",
    "        \"\"\"Adds relationships to elements\"\"\"\n",
    "        relationship_mapper = {\n",
    "            \"through\": (\"source\", \"target\"),\n",
    "            \"reverse\": (\"target\", \"source\"),\n",
    "        }\n",
    "        # TODO: make this more elegant...  maybe.\n",
    "        for relationship in self.all_relationships.values():\n",
    "            endpoints = {\n",
    "                endpoint_type: [\n",
    "                    self.get_element(endpoint[\"@id\"])\n",
    "                    for endpoint in relationship._data[endpoint_type]\n",
    "                ]\n",
    "                for endpoint_type in (\"source\", \"target\")\n",
    "            }\n",
    "            metatype = relationship._metatype\n",
    "            for direction, (key1, key2) in relationship_mapper.items():\n",
    "                endpts1, endpts2 = endpoints[key1], endpoints[key2]\n",
    "                for endpt1 in endpts1:\n",
    "                    for endpt2 in endpts2:\n",
    "                        endpt1._derived[f\"{direction}{metatype}\"] += [{\"@id\": endpt2._data[\"@id\"]}]\n",
    "                        if endpt1 == self.instrumented_element:\n",
    "                            logging.info(f\"[Model] updating derived field of instrument element for {direction}{metatype}\")"
   ]
  },
  {
   "cell_type": "code",
   "execution_count": null,
   "id": "01553296-6126-4c18-9e71-37e60f6750ab",
   "metadata": {},
   "outputs": [],
   "source": [
    "test_model = InstrumentedModel.load(elements=factored_post_data)"
   ]
  },
  {
   "cell_type": "markdown",
   "id": "b3a25645-3140-4085-af63-f39d5fc9374d",
   "metadata": {},
   "source": [
    "## Interchange data and loading\n",
    "\n",
    "The API for standing up a model in memory is built around loading data from Python dictionaries. This is mostly based around major APIs of interest (e.g., the SysML v2 REST API) exchanging data in the JSON format with a main set of keys and values."
   ]
  },
  {
   "cell_type": "markdown",
   "id": "825e8415-94b0-44cc-8982-00cb5c492c42",
   "metadata": {},
   "source": [
    "### Bulk loading model data\n",
    "\n",
    "The entry point to loading up the models is a bulk load method that gathers collections of dictionaries (each model element is expected to serialize as a dictionary from JSON) and creates a new dictionary that allows for rapid look up of elements by their IDs."
   ]
  },
  {
   "cell_type": "markdown",
   "id": "bc4027c7-91d0-42bd-ac05-6fafa7a65f63",
   "metadata": {},
   "source": [
    "### ID reference format\n",
    "\n",
    "The serialized JSON files will present IDs as a single entry dictionary of the form {'@id': uuid}."
   ]
  },
  {
   "cell_type": "code",
   "execution_count": null,
   "id": "2072347c-012f-403f-baad-024986e070d3",
   "metadata": {},
   "outputs": [],
   "source": [
    "pm.is_id_item({\"@id\": \"2012_ajfal_jfajkl\"})"
   ]
  },
  {
   "cell_type": "markdown",
   "id": "e98aca98-4a68-46ac-91a4-87b93907e15f",
   "metadata": {},
   "source": [
    "## Pythonic Model elements\n",
    "\n",
    "The methods and the class developed here are intended to support the Python representation and manipulation of system model data. The partial methods describe below set up various fields in objects of the Element class for use in downstream or user codes involving this library.\n",
    "\n",
    "There are a variety of features developed here to make the interaction with system model data more Pythonic."
   ]
  },
  {
   "cell_type": "markdown",
   "id": "10089c8b-6a39-4d78-b2e1-f5f684a088ce",
   "metadata": {},
   "source": [
    "### List of Items Accessible by Name\n",
    "\n",
    "For convenience, a class is introduced that allows for collections of objects to be referenced by name rather than by unique identifier. This requires that names in a given list are unique."
   ]
  },
  {
   "cell_type": "markdown",
   "id": "85956131-32ed-4a41-9f86-4adbf2802f4a",
   "metadata": {},
   "source": [
    "The ListOfNamedItemsClass extends list to make names within model element data a useable index."
   ]
  },
  {
   "cell_type": "code",
   "execution_count": null,
   "id": "79ecf1d3-d34a-40e8-8075-5cc8e5e36306",
   "metadata": {},
   "outputs": [],
   "source": [
    "print(inspect.getsource(ListOfNamedItems.__getitem__))"
   ]
  },
  {
   "cell_type": "markdown",
   "id": "67a0524e-4903-417e-b50f-75f202029a3b",
   "metadata": {},
   "source": [
    "### Navigating fields for owned elements (and more specialized collections)\n",
    "\n",
    "Elements should be able to directly reference elements through ownership relations. This is done by dynamically constructing Python fields for meta-attributes that start with \"owned.\" This is done in the element read lifecycle, starting with when the model begins to load."
   ]
  },
  {
   "cell_type": "code",
   "execution_count": null,
   "id": "d70bcc4b-3a69-4fcb-8754-d6e8d087833b",
   "metadata": {},
   "outputs": [],
   "source": [
    "test_model.ownedElement"
   ]
  },
  {
   "cell_type": "code",
   "execution_count": null,
   "id": "a652ff57-f2db-4d8a-9cbc-535c10dbcbef",
   "metadata": {},
   "outputs": [],
   "source": [
    "test_model.ownedRelationship"
   ]
  },
  {
   "cell_type": "code",
   "execution_count": null,
   "id": "5ca7887a-2e39-4673-95f9-19d10f93c42b",
   "metadata": {},
   "outputs": [],
   "source": [
    "test_model.elements[\"231cb543-a22d-4347-82c2-3bb910a7a810\"]._derived"
   ]
  },
  {
   "cell_type": "code",
   "execution_count": null,
   "id": "c0dfb5fc-2731-4161-b0ee-83ba2e79b7c4",
   "metadata": {},
   "outputs": [],
   "source": [
    "test_model.instrumented_element"
   ]
  },
  {
   "cell_type": "code",
   "execution_count": null,
   "id": "0f1e3deb-4f12-4fd0-aa72-f953e6c4f0a1",
   "metadata": {},
   "outputs": [],
   "source": [
    "test_model.instrumented_element._metamodel_hints"
   ]
  },
  {
   "cell_type": "code",
   "execution_count": null,
   "id": "8a646a0a-55cd-4a04-ae27-7d9f508c7c28",
   "metadata": {},
   "outputs": [],
   "source": [
    "test_model.instrumented_element.declaredName"
   ]
  },
  {
   "cell_type": "code",
   "execution_count": null,
   "id": "a5e90822-f5f1-442a-85ec-2741c9e17352",
   "metadata": {},
   "outputs": [],
   "source": [
    "test_model.instrumented_element.type[0].declaredName"
   ]
  },
  {
   "cell_type": "markdown",
   "id": "c6ef4c96-790a-4c18-b89e-93c261cb2807",
   "metadata": {},
   "source": [
    "### Accessing fields Pythonically\n",
    "\n",
    "The next thing to add to the Element class are magics to match the meta-attributes of loaded elements to properties on Python objects. That is done by adding to the getattr and getitem magics.\n",
    "\n",
    "This should focus on the metafields with expected literal values in the JSON."
   ]
  },
  {
   "cell_type": "code",
   "execution_count": null,
   "id": "4b238ed7-58ff-4723-a39e-81f578caedf6",
   "metadata": {},
   "outputs": [],
   "source": [
    "print(''.join(inspect.getsourcelines(Element.resolve)[0][16:-3]))"
   ]
  },
  {
   "cell_type": "code",
   "execution_count": null,
   "id": "101602b3-0da7-407a-a04b-f46b7634075f",
   "metadata": {},
   "outputs": [],
   "source": [
    "test_model.elements[\"231cb543-a22d-4347-82c2-3bb910a7a810\"].ownedRelationship"
   ]
  },
  {
   "cell_type": "markdown",
   "id": "686dcafc-a7ac-4bf2-8883-f8e3f3bec139",
   "metadata": {},
   "source": [
    "### Navigating relationships Pythonically\n",
    "\n",
    "The next Pythonic task for our model elements is the ability to traverse SysML v2 relationships Pythonically, either in the forward (through) or reverse direction with simple property accessors."
   ]
  },
  {
   "cell_type": "code",
   "execution_count": null,
   "id": "497a1e4b-391d-4ec1-a3bb-094e48892d8b",
   "metadata": {},
   "outputs": [],
   "source": [
    "def element_resolve_to_determine_element_as_relationship(self):\n",
    "    self._is_relationship = \"relatedElement\" in data"
   ]
  },
  {
   "cell_type": "code",
   "execution_count": null,
   "id": "768cb851-761e-44e7-ab01-fdf2d09f6edd",
   "metadata": {},
   "outputs": [],
   "source": [
    " def model_add_relationships(self):\n",
    "        \"\"\"Adds relationships to elements\"\"\"\n",
    "        relationship_mapper = {\n",
    "            \"through\": (\"source\", \"target\"),\n",
    "            \"reverse\": (\"target\", \"source\"),\n",
    "        }\n",
    "        # TODO: make this more elegant...  maybe.\n",
    "        for relationship in self.all_relationships.values():\n",
    "            endpoints = {\n",
    "                endpoint_type: [\n",
    "                    self.elements[endpoint[\"@id\"]]\n",
    "                    for endpoint in relationship._data[endpoint_type]\n",
    "                ]\n",
    "                for endpoint_type in (\"source\", \"target\")\n",
    "            }\n",
    "            metatype = relationship._metatype\n",
    "            for direction, (key1, key2) in relationship_mapper.items():\n",
    "                endpts1, endpts2 = endpoints[key1], endpoints[key2]\n",
    "                for endpt1 in endpts1:\n",
    "                    for endpt2 in endpts2:\n",
    "                        endpt1._derived[f\"{direction}{metatype}\"] += [{\"@id\": endpt2._data[\"@id\"]}]"
   ]
  },
  {
   "cell_type": "markdown",
   "id": "ded5923e-fa04-483f-93a1-f99c5063db38",
   "metadata": {},
   "source": [
    "### Dealing with derived attributes\n",
    "\n",
    "In SysML v2 models, there are a large number of derived attributes and collections that can gather the incoming and outgoing relationships to other elements. These are actually the standard means of navigation rather than the relationship-based fields generated specifically for pyMBE (also to make it easier to remember some of the names)."
   ]
  },
  {
   "cell_type": "markdown",
   "id": "e11d3e50-7070-44db-9ac9-379661642596",
   "metadata": {},
   "source": [
    "### Creating model elements Pythonically\n",
    "\n",
    "After setting up a model in memory Pythonically, the next steps will be to create model elements within the model processing session."
   ]
  }
 ],
 "metadata": {
  "kernelspec": {
   "display_name": "Python 3 (ipykernel)",
   "language": "python",
   "name": "python3"
  },
  "language_info": {
   "codemirror_mode": {
    "name": "ipython",
    "version": 3
   },
   "file_extension": ".py",
   "mimetype": "text/x-python",
   "name": "python",
   "nbconvert_exporter": "python",
   "pygments_lexer": "ipython3",
   "version": "3.9.13"
  }
 },
 "nbformat": 4,
 "nbformat_minor": 5
}
