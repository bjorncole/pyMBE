{
 "cells": [
  {
   "cell_type": "markdown",
   "id": "ef38eade-95f5-498e-8e7c-6a5c362a615a",
   "metadata": {
    "tags": []
   },
   "source": [
    "# Pythonic SysML Elements\n",
    "\n",
    "This notebook walks through the approach to making SysML elements act Pythonically while in the PyMBE environment in order to support more intuitive codes that inspect and analyze SysML models.\n",
    "\n",
    "Note that the Markdown headers for code snippets are set up to be translated into docstrings for documentation of the code eventually."
   ]
  },
  {
   "cell_type": "code",
   "execution_count": null,
   "id": "fef0f668-cae5-4440-b4ca-2a10215e0f43",
   "metadata": {
    "tags": []
   },
   "outputs": [],
   "source": [
    "import json\n",
    "from dataclasses import dataclass, field\n",
    "from typing import Any, Dict, List, Set, Tuple, Union\n",
    "from collections import defaultdict\n",
    "\n",
    "from uuid import uuid4\n",
    "\n",
    "with open('example_data/sysml_3a.json', 'r') as fp:\n",
    "    element_raw_data = json.load(fp)\n",
    "    \n",
    "printing_level = \"TRACE\""
   ]
  },
  {
   "cell_type": "markdown",
   "id": "b3a25645-3140-4085-af63-f39d5fc9374d",
   "metadata": {},
   "source": [
    "## Interchange data and loading\n",
    "\n",
    "The API for standing up a model in memory is built around loading data from Python dictionaries. This is mostly based around major APIs of interest (e.g., the SysML v2 REST API) exchanging data in the JSON format with a main set of keys and values."
   ]
  },
  {
   "cell_type": "markdown",
   "id": "825e8415-94b0-44cc-8982-00cb5c492c42",
   "metadata": {},
   "source": [
    "### Bulk loading model data\n",
    "\n",
    "The entry point to loading up the models is a bulk load method that gathers collections of dictionaries (each model element is expected to serialize as a dictionary from JSON) and creates a new dictionary that allows for rapid look up of elements by their IDs."
   ]
  },
  {
   "cell_type": "code",
   "execution_count": null,
   "id": "ef5421c8-0469-4909-912b-4e3421c00c33",
   "metadata": {},
   "outputs": [],
   "source": [
    "def index_element_data(elements):\n",
    "    return {element[\"@id\"]: element for element in elements}"
   ]
  },
  {
   "cell_type": "code",
   "execution_count": null,
   "id": "190da324-5416-49c0-b9ab-f17ac183410d",
   "metadata": {},
   "outputs": [],
   "source": [
    "index_element_data(element_raw_data)[element_raw_data[0]['@id']]"
   ]
  },
  {
   "cell_type": "markdown",
   "id": "bc4027c7-91d0-42bd-ac05-6fafa7a65f63",
   "metadata": {},
   "source": [
    "### ID reference format\n",
    "\n",
    "The serialized JSON files will present IDs as a single entry dictionary of the form {'@id': uuid}."
   ]
  },
  {
   "cell_type": "code",
   "execution_count": null,
   "id": "951e81b4-1420-42b5-b8db-5620312eb41f",
   "metadata": {},
   "outputs": [],
   "source": [
    "def is_id_item(item):\n",
    "    return isinstance(item, dict) and item['@id'] is not None and isinstance(item['@id'], str)"
   ]
  },
  {
   "cell_type": "code",
   "execution_count": null,
   "id": "1aaecee5-73a7-496d-b3ca-d59e92505f29",
   "metadata": {},
   "outputs": [],
   "source": [
    "is_id_item([])"
   ]
  },
  {
   "cell_type": "code",
   "execution_count": null,
   "id": "00ce6b5a-b680-45de-9920-ab0b0558ea5d",
   "metadata": {},
   "outputs": [],
   "source": [
    "is_id_item({'@id': '56851b8c-56c7-4429-8bd0-17fc09b3ce02'})"
   ]
  },
  {
   "cell_type": "markdown",
   "id": "e98aca98-4a68-46ac-91a4-87b93907e15f",
   "metadata": {},
   "source": [
    "## Pythonic Model elements\n",
    "\n",
    "The methods and the class developed here are intended to support the Python representation and manipulation of system model data. The partial methods describe below set up various fields in objects of the Element class for use in downstream or user codes involving this library.\n",
    "\n",
    "There are a variety of features developed here to make the interaction with system model data more Pythonic."
   ]
  },
  {
   "cell_type": "markdown",
   "id": "10089c8b-6a39-4d78-b2e1-f5f684a088ce",
   "metadata": {},
   "source": [
    "### Making Items Accessible By Name Rather Than Index\n",
    "\n",
    "For convenience, a class is introduced that allows for collections of objects to be referenced by name rather than by unique identifier. This requires that names in a given list are unique."
   ]
  },
  {
   "cell_type": "markdown",
   "id": "bb628580-3664-48e2-b5e9-8ed6660b6eb6",
   "metadata": {},
   "source": [
    "#### Precursors\n",
    "\n",
    "Classes that this class references are stubbed below for its use."
   ]
  },
  {
   "cell_type": "code",
   "execution_count": null,
   "id": "03c37198-b68f-4d08-82fc-410f1a09f6b8",
   "metadata": {},
   "outputs": [],
   "source": [
    "class Element():\n",
    "    \"\"\"Dummy version for algorithm testing\"\"\"\n",
    "    _data = None\n",
    "    _model = None"
   ]
  },
  {
   "cell_type": "code",
   "execution_count": null,
   "id": "23e8a58a-f47c-4ed3-8656-c23e95015ee0",
   "metadata": {},
   "outputs": [],
   "source": [
    "class Model():\n",
    "    \"\"\"Dummy version for algorithm testing\"\"\"\n",
    "    elements: Dict[str, \"Element\"]"
   ]
  },
  {
   "cell_type": "markdown",
   "id": "85956131-32ed-4a41-9f86-4adbf2802f4a",
   "metadata": {},
   "source": [
    "The ListOfNamedItemsClass extends list to make names within model element data a useable index."
   ]
  },
  {
   "cell_type": "code",
   "execution_count": null,
   "id": "cfefa612-4bb4-4148-92a0-fdbb3724cc15",
   "metadata": {},
   "outputs": [],
   "source": [
    "class ListOfNamedItems(list):\n",
    "    \"\"\"A list that also can return items by their name.\"\"\"\n",
    "    \n",
    "    # FIXME: Should really build/update the item map on entry modification rather than lookup\n",
    "    \n",
    "    # FIXME: figure out why __dir__ of returned objects think they are lists\n",
    "    def __getitem__(self, key):\n",
    "        item_map = {\n",
    "            item._data[\"name\"]: item\n",
    "            for item in self\n",
    "            if isinstance(item, Element) and \"name\" in item._data\n",
    "        }\n",
    "        effective_item_map = {\n",
    "            item._data[\"effectiveName\"]: item\n",
    "            for item in self\n",
    "            if isinstance(item, Element) and \"effectiveName\" in item._data\n",
    "        }\n",
    "        if key in item_map:\n",
    "            if printing_level == \"TRACE\":\n",
    "                print(f\"Adding {item_map[key]} to list index.\")\n",
    "            return item_map[key]\n",
    "        if key in effective_item_map:\n",
    "            if printing_level == \"TRACE\":\n",
    "                print(f\"Adding {effective_item_map[key]} to list index.\")\n",
    "            return effective_item_map[key]\n",
    "        if isinstance(key, int):\n",
    "            return super().__getitem__(key)\n",
    "        return None"
   ]
  },
  {
   "cell_type": "markdown",
   "id": "67a0524e-4903-417e-b50f-75f202029a3b",
   "metadata": {},
   "source": [
    "### Navigating fields for owned elements (and more specialized collections)\n",
    "\n",
    "Elements should be able to directly reference elements through ownership relations. This is done by dynamically constructing Python fields for meta-attributes that start with \"owned.\""
   ]
  },
  {
   "cell_type": "code",
   "execution_count": null,
   "id": "6bc334ea-483e-4c0a-88de-11f702970e80",
   "metadata": {},
   "outputs": [],
   "source": [
    "def set_names_for_owned_for_element(self):\n",
    "    data = self._data\n",
    "    \n",
    "    # iterate through the meta-attributes for the model element in serial form\n",
    "    for key, items in data.items():\n",
    "        if printing_level == \"TRACE\":\n",
    "            print(f'Key is {key} and items are {items}')\n",
    "        if key.startswith(\"owned\") and isinstance(items, list):\n",
    "            new_list = [self._model.elements[item['@id']] for item in items if is_id_item(item)]\n",
    "            if printing_level == \"TRACE\" and len(new_list) > 0:\n",
    "                print(f'Expanding {key} with new list of named items')\n",
    "            if len(new_list) > 0:\n",
    "                data[key] = ListOfNamedItems(new_list)"
   ]
  },
  {
   "cell_type": "markdown",
   "id": "1d7cb302-5d51-4400-adef-088fd39d91e4",
   "metadata": {},
   "source": [
    "#### Tester\n",
    "\n",
    "Build an object with only the necessary fields for the test from raw JSON data. In this case, this is an object with \"_data\" and \"_model\" fields, and then another object type with an \"elements\" field."
   ]
  },
  {
   "cell_type": "code",
   "execution_count": null,
   "id": "0620d937-4462-41d4-ac29-8ea60b375e69",
   "metadata": {},
   "outputs": [],
   "source": [
    "def construct_test_element_from_raw(raw_dict, model_object):\n",
    "    test_element = Element()\n",
    "    test_element._data = raw_dict\n",
    "    test_element._model = model_object\n",
    "    return test_element"
   ]
  },
  {
   "cell_type": "code",
   "execution_count": null,
   "id": "68ea83e7-0686-495d-83fd-fd3debadaa0c",
   "metadata": {},
   "outputs": [],
   "source": [
    "test_model = Model()\n",
    "indexed_raw = index_element_data(element_raw_data)\n",
    "test_elements = {indx: construct_test_element_from_raw(raw_item, test_model)\n",
    "                for indx, raw_item in indexed_raw.items()}\n",
    "setattr(test_model, \"elements\", test_elements)"
   ]
  },
  {
   "cell_type": "code",
   "execution_count": null,
   "id": "2e1276d6-b04d-484a-8904-4a741f176a21",
   "metadata": {},
   "outputs": [],
   "source": [
    "test_model.elements[element_raw_data[2]['@id']]._data"
   ]
  },
  {
   "cell_type": "code",
   "execution_count": null,
   "id": "4b456a91-cdef-4407-bf90-85975c4b8948",
   "metadata": {},
   "outputs": [],
   "source": [
    "set_names_for_owned_for_element(test_model.elements[element_raw_data[2]['@id']])"
   ]
  },
  {
   "cell_type": "code",
   "execution_count": null,
   "id": "440ec5c9-f659-45cc-9d58-11cf885f0088",
   "metadata": {
    "tags": []
   },
   "outputs": [],
   "source": [
    "test_model.elements[element_raw_data[2]['@id']]._data['ownedElement'][0]._data"
   ]
  },
  {
   "cell_type": "code",
   "execution_count": null,
   "id": "f5e14eba-4af2-4a20-bfe0-2033bc4cf8a1",
   "metadata": {},
   "outputs": [],
   "source": [
    "del Element, Model"
   ]
  },
  {
   "cell_type": "markdown",
   "id": "c6ef4c96-790a-4c18-b89e-93c261cb2807",
   "metadata": {},
   "source": [
    "### Accessing fields Pythonically\n",
    "\n",
    "The next thing to add to the Element class are magics to match the meta-attributes of loaded elements to properties on Python objects. That is done by adding to the getattr and getitem magics.\n",
    "\n",
    "This should focus on the metafields with expected literal values in the JSON."
   ]
  },
  {
   "cell_type": "markdown",
   "id": "d7aa464b-0650-404e-8f24-33f31fa57cac",
   "metadata": {},
   "source": [
    "#### More developed Model class\n",
    "\n",
    "This iteration of the Model class adds the needed methods to support Pythonic relationships."
   ]
  },
  {
   "cell_type": "code",
   "execution_count": null,
   "id": "64cd49d4-5c54-4c32-bede-38720b867c2a",
   "metadata": {},
   "outputs": [],
   "source": [
    "class Model:  # pylint: disable=too-many-instance-attributes\n",
    "    \"\"\"A SysML v2 Model\"\"\"\n",
    "\n",
    "    # TODO: Look into making elements immutable (e.g., frozen dict)\n",
    "    elements: Dict[str, \"Element\"]\n",
    "\n",
    "    name: str = \"SysML v2 Model\"\n",
    "\n",
    "    all_relationships: Dict[str, \"Element\"] = field(default_factory=dict)\n",
    "    all_non_relationships: Dict[str, \"Element\"] = field(default_factory=dict)\n",
    "\n",
    "    ownedElement: ListOfNamedItems = field(  # pylint: disable=invalid-name\n",
    "        default_factory=ListOfNamedItems,\n",
    "    )\n",
    "    ownedMetatype: Dict[str, List[\"Element\"]] = field(  # pylint: disable=invalid-name\n",
    "        default_factory=dict,\n",
    "    )\n",
    "    ownedRelationship: List[\"Element\"] = field(  # pylint: disable=invalid-name\n",
    "        default_factory=list,\n",
    "    )\n",
    "\n",
    "    max_multiplicity = 100\n",
    "\n",
    "    source: Any = None"
   ]
  },
  {
   "cell_type": "markdown",
   "id": "90ad8686-f677-486d-912c-8fae86da9a03",
   "metadata": {},
   "source": [
    "#### More developed Element class\n",
    "\n",
    "This iteration of the Element class adds the needed methods to support the Pythonic field accessors."
   ]
  },
  {
   "cell_type": "code",
   "execution_count": null,
   "id": "2663d5b2-0c07-4f17-afc0-99a9ce476012",
   "metadata": {},
   "outputs": [],
   "source": [
    "@dataclass(repr=False)\n",
    "class Element():\n",
    "    _data: dict\n",
    "    _model: Model\n",
    "\n",
    "    _id: str = field(default_factory=lambda: str(uuid4()))\n",
    "    _metatype: str = \"Element\"\n",
    "    _derived: Dict[str, List] = field(default_factory=lambda: defaultdict(list))\n",
    "    \n",
    "    def __getattr__(self, key: str):\n",
    "        try:\n",
    "            return self[key]\n",
    "        except KeyError as exc:\n",
    "            raise AttributeError(f\"Cannot find {key}\") from exc\n",
    "    \n",
    "    # FIXME: Take advantage of new JSON schema put out in the SysML specification data to isolate fields of most interest.\n",
    "    \n",
    "    def __getitem__(self, key: str):\n",
    "        found = False\n",
    "        for source in (\"_data\", \"_derived\"):\n",
    "            source = self.__getattribute__(source)\n",
    "            if key in source:\n",
    "                if printing_level == 'TRACE':\n",
    "                    print(f'Found meta-attribute {key}')\n",
    "                found = True\n",
    "                item = source[key]\n",
    "                if printing_level == \"TRACE\":\n",
    "                    print(f\"(in _getitem_) item is {item}\")\n",
    "                break\n",
    "        if not found:\n",
    "            raise KeyError(f\"No '{key}' in {self}\")\n",
    "\n",
    "        if isinstance(item, (dict, str)):\n",
    "            item = self.__safe_dereference(item)\n",
    "        elif isinstance(item, ListOfNamedItems):\n",
    "            return item\n",
    "        elif isinstance(item, (list, tuple, set)):\n",
    "            items = [self.__safe_dereference(subitem) for subitem in item]\n",
    "            return type(item)(items)\n",
    "        return item\n",
    "    \n",
    "    def __safe_dereference(self, item):\n",
    "        \"\"\"If given a reference to another element, try to get that element\"\"\"\n",
    "        try:\n",
    "            if isinstance(item, dict) and \"@id\" in item:\n",
    "                if len(item) > 1:\n",
    "                    warn(f\"Found a reference with more than one entry: {item}\")\n",
    "                item = item[\"@id\"]\n",
    "            return self._model.elements[item]\n",
    "        except KeyError:\n",
    "            return item"
   ]
  },
  {
   "cell_type": "markdown",
   "id": "fbc2ccb7-f1a0-4f7b-b092-31492b8db88f",
   "metadata": {},
   "source": [
    "Demonstrate the application of the owned element resolution to all elements in the example data."
   ]
  },
  {
   "cell_type": "code",
   "execution_count": null,
   "id": "f86f9a8c-9f4a-4eae-a879-11f86a9a6c10",
   "metadata": {},
   "outputs": [],
   "source": [
    "def construct_test_element_from_raw(raw_dict, model_object):\n",
    "    test_element = Element(_data=raw_dict, _model=model_object, _metatype=raw_dict['@type'])\n",
    "    test_element._data = raw_dict\n",
    "    test_element._model = model_object\n",
    "    return test_element"
   ]
  },
  {
   "cell_type": "code",
   "execution_count": null,
   "id": "328284f9-992a-4c7f-bb5f-5f15b07ca7f2",
   "metadata": {},
   "outputs": [],
   "source": [
    "with open('example_data/sysml_3a.json', 'r') as fp:\n",
    "    element_raw_data2 = json.load(fp)\n",
    "\n",
    "test_model2 = Model()\n",
    "indexed_raw2 = index_element_data(element_raw_data2)\n",
    "test_elements2 = {indx: construct_test_element_from_raw(raw_item, test_model2)\n",
    "                for indx, raw_item in indexed_raw2.items()}\n",
    "test_model2.elements = test_elements2"
   ]
  },
  {
   "cell_type": "code",
   "execution_count": null,
   "id": "f9c4894c-b689-4709-85df-8fcceff071a2",
   "metadata": {},
   "outputs": [],
   "source": [
    "set_names_for_owned_for_element(test_model2.elements[element_raw_data[2]['@id']])"
   ]
  },
  {
   "cell_type": "code",
   "execution_count": null,
   "id": "5591eba6-2c80-47af-851f-07f964d3e8d9",
   "metadata": {},
   "outputs": [],
   "source": [
    "test_model2.elements[element_raw_data[2]['@id']].ownedElement"
   ]
  },
  {
   "cell_type": "code",
   "execution_count": null,
   "id": "6253ed6d-9474-407b-aad0-36181d8c55f4",
   "metadata": {},
   "outputs": [],
   "source": [
    "test_model2.elements[element_raw_data[2]['@id']].ownedElement['engineTorque']._data"
   ]
  },
  {
   "cell_type": "code",
   "execution_count": null,
   "id": "55cfec4a-9197-4d12-b2bb-163c7092ef15",
   "metadata": {},
   "outputs": [],
   "source": [
    "printing_level = \"ERROR\""
   ]
  },
  {
   "cell_type": "code",
   "execution_count": null,
   "id": "fd385888-91fe-470b-83ca-dc75d59843dc",
   "metadata": {},
   "outputs": [],
   "source": [
    "for element_raw in element_raw_data:\n",
    "    set_names_for_owned_for_element(test_model2.elements[element_raw['@id']])"
   ]
  },
  {
   "cell_type": "code",
   "execution_count": null,
   "id": "34e51a00-7909-4e76-ace9-a2a0f938672e",
   "metadata": {},
   "outputs": [],
   "source": [
    "test_model2.elements[element_raw_data[2]['@id']]._metatype"
   ]
  },
  {
   "cell_type": "code",
   "execution_count": null,
   "id": "f05648d8-1714-4836-ad89-13b549997f1a",
   "metadata": {},
   "outputs": [],
   "source": [
    "test_model2.elements[element_raw_data[2]['@id']].effectiveName"
   ]
  },
  {
   "cell_type": "code",
   "execution_count": null,
   "id": "c7cfa119-9225-4369-83e0-240eb32adfd8",
   "metadata": {},
   "outputs": [],
   "source": [
    "test_model2.elements[element_raw_data[2]['@id']]"
   ]
  },
  {
   "cell_type": "code",
   "execution_count": null,
   "id": "9c00a2c0-e911-4811-87c5-bc9383c2727f",
   "metadata": {},
   "outputs": [],
   "source": [
    "[{element_raw['name']: [ele['name']\n",
    "            for ele in test_model2.elements[element_raw['@id']].ownedElement]}\n",
    "            for element_raw in element_raw_data]"
   ]
  },
  {
   "cell_type": "markdown",
   "id": "686dcafc-a7ac-4bf2-8883-f8e3f3bec139",
   "metadata": {},
   "source": [
    "### Navigating relationships Pythonically\n",
    "\n",
    "The next Pythonic task for our model elements is the ability to traverse SysML v2 relationships Pythonically, either in the forward (through) or reverse direction with simple property accessors."
   ]
  },
  {
   "cell_type": "code",
   "execution_count": null,
   "id": "497a1e4b-391d-4ec1-a3bb-094e48892d8b",
   "metadata": {},
   "outputs": [],
   "source": [
    "def element_resolve_to_determine_element_as_relationship(self):\n",
    "    data = self._data\n",
    "    self._is_relationship = \"relatedElement\" in data"
   ]
  },
  {
   "cell_type": "code",
   "execution_count": null,
   "id": "b51569df-00ac-4411-9121-01c56323a45a",
   "metadata": {},
   "outputs": [],
   "source": [
    "resolve_rels = [element_resolve_to_determine_element_as_relationship(ele) for id_, ele in test_model2.elements.items()]"
   ]
  },
  {
   "cell_type": "code",
   "execution_count": null,
   "id": "0bd81efd-b7c2-45a4-b72f-74594c1bb869",
   "metadata": {},
   "outputs": [],
   "source": [
    "[(test_model2.elements[ele_data['@id']]._is_relationship,\n",
    "  test_model2.elements[ele_data['@id']]._data['@type']\n",
    " )for ele_data in element_raw_data[1:10]]"
   ]
  },
  {
   "cell_type": "code",
   "execution_count": null,
   "id": "ddf3b5e8-9727-487a-8fa9-7dd9a91dd6d7",
   "metadata": {},
   "outputs": [],
   "source": [
    "def add_relationship_properties(model, relationship):\n",
    "    relationship_mapper = {\n",
    "            \"through\": (\"source\", \"target\"),\n",
    "            \"reverse\": (\"target\", \"source\"),\n",
    "        }\n",
    "    \n",
    "    endpoints = {\n",
    "        endpoint_type: [\n",
    "            model.elements[endpoint[\"@id\"]]\n",
    "            for endpoint in relationship._data[endpoint_type]\n",
    "        ]\n",
    "        for endpoint_type in (\"source\", \"target\")\n",
    "    }\n",
    "    metatype = relationship._metatype\n",
    "    for direction, (key1, key2) in relationship_mapper.items():\n",
    "        endpts1, endpts2 = endpoints[key1], endpoints[key2]\n",
    "        for endpt1 in endpts1:\n",
    "            for endpt2 in endpts2:\n",
    "                endpt1._derived[f\"{direction}{metatype}\"] += [{\"@id\": endpt2._data[\"@id\"]}]"
   ]
  },
  {
   "cell_type": "code",
   "execution_count": null,
   "id": "768cb851-761e-44e7-ab01-fdf2d09f6edd",
   "metadata": {},
   "outputs": [],
   "source": [
    " def model_add_relationship_properties(self):\n",
    "        self.all_relationships = {\n",
    "            id_: element for id_, element in self.elements.items() if element._is_relationship\n",
    "        }\n",
    "        \n",
    "        # TODO: make this more elegant...  maybe.\n",
    "        for relationship in self.all_relationships.values():\n",
    "            add_relationship_properties(self, relationship)"
   ]
  },
  {
   "cell_type": "code",
   "execution_count": null,
   "id": "af89cbe1-5da4-458d-90f4-dedeade8078b",
   "metadata": {},
   "outputs": [],
   "source": [
    "model_add_relationship_properties(test_model2)"
   ]
  },
  {
   "cell_type": "code",
   "execution_count": null,
   "id": "963a0979-06b3-4a6d-9ce5-9cddca5acfd9",
   "metadata": {},
   "outputs": [],
   "source": [
    "test_model2.elements[element_raw_data[11]['@id']]._derived"
   ]
  },
  {
   "cell_type": "code",
   "execution_count": null,
   "id": "dbfea807-1da8-43c3-ba17-72a207b76a54",
   "metadata": {},
   "outputs": [],
   "source": [
    "test_model2.elements[element_raw_data[11]['@id']].throughOwningMembership[0]._data"
   ]
  },
  {
   "cell_type": "markdown",
   "id": "ded5923e-fa04-483f-93a1-f99c5063db38",
   "metadata": {},
   "source": [
    "### Dealing with derived attributes\n",
    "\n",
    "In SysML v2 models, there are a large number of derived attributes and collections that can gather the incoming and outgoing relationships to other elements. These are actually the standard means of navigation rather than the relationship-based fields generated specifically for pyMBE (also to make it easier to remember some of the names)."
   ]
  },
  {
   "cell_type": "markdown",
   "id": "e11d3e50-7070-44db-9ac9-379661642596",
   "metadata": {},
   "source": [
    "### Creating model elements Pythonically\n",
    "\n",
    "After setting up a model in memory Pythonically, the next steps will be to create model elements within the model processing session. This method is meant to be bound to the Model class."
   ]
  },
  {
   "cell_type": "code",
   "execution_count": null,
   "id": "a5a80027-2999-40f7-896a-c4f1a1052f28",
   "metadata": {},
   "outputs": [],
   "source": [
    "def add_element_to_model(self, element_data):\n",
    "    element = Element(_data=element_data, _model=self, _metatype=element_data['@type'])\n",
    "    \n",
    "    element_resolve_to_determine_element_as_relationship(element)\n",
    "    if element._is_relationship:\n",
    "        add_relationship_properties(self, element)\n",
    "        \n",
    "    self.elements.update({element_data['@id']: element})"
   ]
  },
  {
   "cell_type": "code",
   "execution_count": null,
   "id": "92de9664-4996-4248-81b3-bb7fd20e781b",
   "metadata": {},
   "outputs": [],
   "source": [
    "action_items = [test_model2.elements[element_raw['@id']]\n",
    "     for element_raw in element_raw_data\n",
    "     if element_raw['@type'] == 'ActionDefinition' or element_raw['@type'] == 'ActionUsage']"
   ]
  },
  {
   "cell_type": "code",
   "execution_count": null,
   "id": "a6901947-57c1-4ccd-9865-57e8bf2c408e",
   "metadata": {},
   "outputs": [],
   "source": [
    "(action_items[1]['@type'], action_items[0]['@type'])"
   ]
  },
  {
   "cell_type": "code",
   "execution_count": null,
   "id": "883bd91c-c3c3-4a00-bd71-1e48bc5b7323",
   "metadata": {},
   "outputs": [],
   "source": [
    "new_ft_id = str(uuid4())\n",
    "feature_typing_data = {\n",
    "    '@id': new_ft_id,\n",
    "    '@type': 'FeatureTyping',\n",
    "    'source': [{'@id': action_items[1]['@id']}],\n",
    "    'target': [{'@id': action_items[0]['@id']}]\n",
    "}"
   ]
  },
  {
   "cell_type": "code",
   "execution_count": null,
   "id": "9f3db9ec-3506-4781-a036-b1593be5e219",
   "metadata": {},
   "outputs": [],
   "source": [
    "add_element_to_model(test_model2, feature_typing_data)"
   ]
  },
  {
   "cell_type": "code",
   "execution_count": null,
   "id": "51eadc1a-9102-494d-967f-b3a3551e97fa",
   "metadata": {},
   "outputs": [],
   "source": [
    "test_model2.elements[new_ft_id]._data"
   ]
  },
  {
   "cell_type": "code",
   "execution_count": null,
   "id": "13d82830-db15-4bd7-a367-2f94c564328d",
   "metadata": {},
   "outputs": [],
   "source": [
    "action_items[1].throughFeatureTyping[0]._data"
   ]
  }
 ],
 "metadata": {
  "kernelspec": {
   "display_name": "Python 3 (ipykernel)",
   "language": "python",
   "name": "python3"
  },
  "language_info": {
   "codemirror_mode": {
    "name": "ipython",
    "version": 3
   },
   "file_extension": ".py",
   "mimetype": "text/x-python",
   "name": "python",
   "nbconvert_exporter": "python",
   "pygments_lexer": "ipython3",
   "version": "3.9.13"
  }
 },
 "nbformat": 4,
 "nbformat_minor": 5
}
