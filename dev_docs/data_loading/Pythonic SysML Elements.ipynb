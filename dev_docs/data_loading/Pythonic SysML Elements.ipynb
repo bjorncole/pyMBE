{
 "cells": [
  {
   "cell_type": "markdown",
   "id": "ef38eade-95f5-498e-8e7c-6a5c362a615a",
   "metadata": {
    "tags": []
   },
   "source": [
    "# Pythonic SysML Elements\n",
    "\n",
    "This notebook walks through the approach to making SysML elements act Pythonically while in the PyMBE environment in order to support more intuitive codes that inspect and analyze SysML models.\n",
    "\n",
    "Note that the Markdown headers for code snippets are set up to be translated into docstrings for documentation of the code eventually."
   ]
  },
  {
   "cell_type": "code",
   "execution_count": 1,
   "id": "fef0f668-cae5-4440-b4ca-2a10215e0f43",
   "metadata": {
    "tags": []
   },
   "outputs": [],
   "source": [
    "import inspect\n",
    "import os\n",
    "import traceback\n",
    "import logging\n",
    "import pymbe.api as pm\n",
    "from pymbe.model import Element\n",
    "from pymbe.model import ListOfNamedItems\n",
    "from pymbe.model import Model\n",
    "\n",
    "import json\n",
    "from dataclasses import dataclass, field\n",
    "from typing import Any, Dict, List, Set, Tuple, Union, Collection\n",
    "from collections import defaultdict\n",
    "\n",
    "from uuid import uuid4\n",
    "\n",
    "with open('example_data/sysml_3a.json', 'r') as fp:\n",
    "    element_raw_data = json.load(fp)\n",
    "    \n",
    "with open('canonical_data/Model_Loader_Test_Level_1.json', 'r') as fp:\n",
    "    element_raw_post_data = json.load(fp)\n"
   ]
  },
  {
   "cell_type": "code",
   "execution_count": 2,
   "id": "627769e2-a4d0-44e6-9e96-804c3bd14946",
   "metadata": {},
   "outputs": [],
   "source": [
    "logging.basicConfig(level=logging.INFO)"
   ]
  },
  {
   "cell_type": "markdown",
   "id": "f5b60e35-0593-48ad-8dd3-4df60dcc43a2",
   "metadata": {},
   "source": [
    "## Lifecycle Tracker\n",
    "\n",
    "The element class below is created to track the full lifecycle of an Element as it is read back from Python, populated with attribute data, and related to others through serialized relations references."
   ]
  },
  {
   "cell_type": "code",
   "execution_count": 3,
   "id": "c6ef4dbd-62c4-4dc3-863e-6dc6d11e9064",
   "metadata": {},
   "outputs": [],
   "source": [
    "class InstrumentedElement(Element):\n",
    "    \n",
    "    def __post_init__(self):\n",
    "        logging.info(\"[Element] entering post initialization.\")\n",
    "        \n",
    "        #super().__post_init__()\n",
    "        if not self._model._initializing:\n",
    "            self._model.elements[self._id] = self\n",
    "        if self._data:\n",
    "            logging.info(\"[Element] data found. About to resolve.\")\n",
    "            self.resolve()\n",
    "            \n",
    "    def __setattr__(self, name, value):\n",
    "        super().__setattr__(name, value)\n",
    "        logging.info(f\"[Element] value of {name} is trying to be set to {value}\")\n",
    "            \n",
    "    def resolve(self):\n",
    "        if not self._is_proxy:\n",
    "            logging.info(\"[Element] element is not proxy.\")\n",
    "            return\n",
    "        \n",
    "        logging.info(\"[Element] element is still in proxy mode - resolving internal data\")\n",
    "\n",
    "        model = self._model\n",
    "        if not self._data:\n",
    "            logging.info(\"[Element] no data found to resolve.\")\n",
    "            if not model._api:\n",
    "                raise SystemError(\"Model must have an API to retrieve the data from!\")\n",
    "            self._data = model._api.get_element_data(self._id)\n",
    "        data = self._data\n",
    "        self._id = data[\"@id\"]\n",
    "        self._metatype = data[\"@type\"]\n",
    "\n",
    "        self._is_abstract = bool(data.get(\"isAbstract\"))\n",
    "        self._is_relationship = bool(data.get(\"relatedElement\"))\n",
    "        \n",
    "        logging.info(f\"[Element] assigned id = {self._id}, metatype = {self._metatype}, is abstract = {self._is_abstract}, and is relationship = {self._is_relationship}.\")\n",
    "        \n",
    "        for key, items in data.items():\n",
    "            if key.startswith(\"owned\") and isinstance(items, list):\n",
    "                logging.info(f\"Key starting with owned found: {key}\")\n",
    "                data[key] = ListOfNamedItems(items)\n",
    "                logging.info(f\"Data resolved to: {data[key]}\")\n",
    "        if not model._initializing:\n",
    "            self._model._add_element(self)\n",
    "        self._is_proxy = False"
   ]
  },
  {
   "cell_type": "markdown",
   "id": "0bc147bb-afac-4d48-9397-293f96e208ea",
   "metadata": {},
   "source": [
    "## Test Objects\n",
    "\n",
    "Load up an instrumented element and model to explore the concepts below."
   ]
  },
  {
   "cell_type": "code",
   "execution_count": 4,
   "id": "d90fabd3-69c0-4dd1-980c-e5702caf36fa",
   "metadata": {},
   "outputs": [],
   "source": [
    "def factor_element_post_data_to_get(post_element):\n",
    "    return {**{k: v for k, v in post_element[\"payload\"].items()}, \"@id\": post_element[\"identity\"][\"@id\"]}"
   ]
  },
  {
   "cell_type": "code",
   "execution_count": 5,
   "id": "712f8c02-6bea-4605-bdce-05a9a590ddbc",
   "metadata": {},
   "outputs": [
    {
     "data": {
      "text/plain": [
       "{'elementId': 'f48aa78b-6c4e-4826-a4a7-9c77cde2b9d0',\n",
       " 'annotation': [],\n",
       " 'owningRelationship': {'@id': '91d3a7d2-0834-4aa0-9a79-dc2a21fb11b9'},\n",
       " 'aliasIds': [],\n",
       " '@type': 'Documentation',\n",
       " 'ownedRelationship': [],\n",
       " 'body': 'Meant to cover simple loading of classifiers, features, FeatureOwnership, MemberOwnership, Package, FeatureTyping, Specialization.',\n",
       " 'isImpliedIncluded': False,\n",
       " '@id': 'f48aa78b-6c4e-4826-a4a7-9c77cde2b9d0'}"
      ]
     },
     "execution_count": 5,
     "metadata": {},
     "output_type": "execute_result"
    }
   ],
   "source": [
    "factor_element_post_data_to_get(element_raw_post_data[0])"
   ]
  },
  {
   "cell_type": "code",
   "execution_count": 6,
   "id": "b25a249c-2e67-4661-b24e-510aa49adc4f",
   "metadata": {},
   "outputs": [],
   "source": [
    "factored_post_data = [factor_element_post_data_to_get(raw_post) for raw_post in element_raw_post_data]"
   ]
  },
  {
   "cell_type": "code",
   "execution_count": 7,
   "id": "d8aa6026-614f-4b9a-9c63-0fdbef0ae935",
   "metadata": {},
   "outputs": [],
   "source": [
    "def get_index_of_named_element(name=\"example\"):\n",
    "    key_element_index = 0\n",
    "    max_tries = 1000\n",
    "    found = False\n",
    "    while not found and key_element_index < max_tries:\n",
    "        if \"declaredName\" in element_raw_post_data[key_element_index][\"payload\"]:\n",
    "            if element_raw_post_data[key_element_index][\"payload\"][\"declaredName\"] == name:\n",
    "                found = True\n",
    "                return key_element_index\n",
    "        key_element_index = key_element_index + 1"
   ]
  },
  {
   "cell_type": "code",
   "execution_count": 8,
   "id": "e3282a6e-ec44-4a21-bf05-04db43c290f7",
   "metadata": {},
   "outputs": [
    {
     "data": {
      "text/plain": [
       "15"
      ]
     },
     "execution_count": 8,
     "metadata": {},
     "output_type": "execute_result"
    }
   ],
   "source": [
    "get_index_of_named_element(name=\"Bare Classed Feature\")"
   ]
  },
  {
   "cell_type": "code",
   "execution_count": 9,
   "id": "c3dbb96b-66ad-4395-9ac0-6701fadadfed",
   "metadata": {},
   "outputs": [
    {
     "data": {
      "text/plain": [
       "{'payload': {'elementId': '231cb543-a22d-4347-82c2-3bb910a7a810',\n",
       "  'isDerived': False,\n",
       "  'owningRelationship': {'@id': '1e219b62-6777-4d0d-93d0-09afaaf97570'},\n",
       "  'aliasIds': [],\n",
       "  '@type': 'Feature',\n",
       "  'ownedRelationship': [{'@id': '024d0e2d-dee8-47ed-a9ba-0bacbc38a201'}],\n",
       "  'isUnique': True,\n",
       "  'isPortion': False,\n",
       "  'isAbstract': False,\n",
       "  'isEnd': False,\n",
       "  'isImpliedIncluded': False,\n",
       "  'isComposite': False,\n",
       "  'isReadOnly': False,\n",
       "  'declaredName': 'Bare Classed Feature',\n",
       "  'isSufficient': False,\n",
       "  'isOrdered': False},\n",
       " 'identity': {'@id': '231cb543-a22d-4347-82c2-3bb910a7a810'}}"
      ]
     },
     "execution_count": 9,
     "metadata": {},
     "output_type": "execute_result"
    }
   ],
   "source": [
    "element_raw_post_data[15]"
   ]
  },
  {
   "cell_type": "code",
   "execution_count": 10,
   "id": "2a48c271-fd9c-4135-b3bb-d868b5c381d4",
   "metadata": {},
   "outputs": [],
   "source": [
    "@dataclass(repr=False)\n",
    "class InstrumentedModel(Model):\n",
    "    \n",
    "    instrumented_name: str = \"Bare Classed Feature\"\n",
    "    instrumented_element: InstrumentedElement = None\n",
    "    \n",
    "    def __post_init__(self):\n",
    "        '''Same as other code but with insertion of instrumented element'''\n",
    "        \n",
    "        self._load_metahints()\n",
    "        \n",
    "        logging.info(f\"[Model] loading model with instrumented element with name '{self.instrumented_name}'\")\n",
    "        \n",
    "        instrumented_data = None\n",
    "        instrumented_element = None\n",
    "        for id_, data in self.elements.items():\n",
    "            if \"declaredName\" in data and data[\"declaredName\"] == self.instrumented_name:\n",
    "                instrumented_data = (id_, data)\n",
    "                \n",
    "        logging.info(f\"[Model] Model data is '{instrumented_data[1]}'\")\n",
    "                \n",
    "        self.elements = {\n",
    "            id_: Element(_data=data,\n",
    "                         _model=self,\n",
    "                         _metamodel_hints={att[0]: att[1:] for att in self._metamodel_hints[data[\"@type\"]]})\n",
    "            for id_, data in self.elements.items()\n",
    "            if isinstance(data, dict)\n",
    "        }\n",
    "        \n",
    "        self.instrumented_element = InstrumentedElement(_data=instrumented_data[1],\n",
    "                                                        _model=self,\n",
    "                                                        _metamodel_hints={att[0]: att[1:] for att in self._metamodel_hints[instrumented_data[1][\"@type\"]]})\n",
    "        \n",
    "        self.elements.update({instrumented_data[0]: self.instrumented_element})\n",
    "\n",
    "        self._add_owned()\n",
    "\n",
    "        # Modify and add derived data to the elements\n",
    "        self._add_relationships()\n",
    "        self._add_labels()\n",
    "        self._initializing = False\n",
    "        \n",
    "    @staticmethod\n",
    "    def load(\n",
    "        elements: Collection[Dict],\n",
    "        **kwargs,\n",
    "    ) -> \"Model\":\n",
    "        \"\"\"Make a Model from an iterable container of elements\"\"\"\n",
    "        return InstrumentedModel(\n",
    "            elements={element[\"@id\"]: element for element in elements},\n",
    "            **kwargs,\n",
    "        )\n",
    "    \n",
    "    def _add_relationships(self):\n",
    "        \"\"\"Adds relationships to elements\"\"\"\n",
    "        relationship_mapper = {\n",
    "            \"through\": (\"source\", \"target\"),\n",
    "            \"reverse\": (\"target\", \"source\"),\n",
    "        }\n",
    "        # TODO: make this more elegant...  maybe.\n",
    "        for relationship in self.all_relationships.values():\n",
    "            endpoints = {\n",
    "                endpoint_type: [\n",
    "                    self.get_element(endpoint[\"@id\"])\n",
    "                    for endpoint in relationship._data[endpoint_type]\n",
    "                ]\n",
    "                for endpoint_type in (\"source\", \"target\")\n",
    "            }\n",
    "            metatype = relationship._metatype\n",
    "            for direction, (key1, key2) in relationship_mapper.items():\n",
    "                endpts1, endpts2 = endpoints[key1], endpoints[key2]\n",
    "                for endpt1 in endpts1:\n",
    "                    for endpt2 in endpts2:\n",
    "                        endpt1._derived[f\"{direction}{metatype}\"] += [{\"@id\": endpt2._data[\"@id\"]}]\n",
    "                        if endpt1 == self.instrumented_element:\n",
    "                            logging.info(f\"[Model] updating derived field of instrument element for {direction}{metatype}\")"
   ]
  },
  {
   "cell_type": "code",
   "execution_count": 11,
   "id": "01553296-6126-4c18-9e71-37e60f6750ab",
   "metadata": {},
   "outputs": [
    {
     "name": "stderr",
     "output_type": "stream",
     "text": [
      "INFO:root:[Model] loading model with instrumented element with name 'Bare Classed Feature'\n",
      "INFO:root:[Model] Model data is '{'elementId': '231cb543-a22d-4347-82c2-3bb910a7a810', 'isDerived': False, 'owningRelationship': {'@id': '1e219b62-6777-4d0d-93d0-09afaaf97570'}, 'aliasIds': [], '@type': 'Feature', 'ownedRelationship': [{'@id': '024d0e2d-dee8-47ed-a9ba-0bacbc38a201'}], 'isUnique': True, 'isPortion': False, 'isAbstract': False, 'isEnd': False, 'isImpliedIncluded': False, 'isComposite': False, 'isReadOnly': False, 'declaredName': 'Bare Classed Feature', 'isSufficient': False, 'isOrdered': False, '@id': '231cb543-a22d-4347-82c2-3bb910a7a810'}'\n",
      "INFO:root:[Element] value of _data is trying to be set to {'elementId': '231cb543-a22d-4347-82c2-3bb910a7a810', 'isDerived': False, 'owningRelationship': {'@id': '1e219b62-6777-4d0d-93d0-09afaaf97570'}, 'aliasIds': [], '@type': 'Feature', 'ownedRelationship': [{'@id': '024d0e2d-dee8-47ed-a9ba-0bacbc38a201'}], 'isUnique': True, 'isPortion': False, 'isAbstract': False, 'isEnd': False, 'isImpliedIncluded': False, 'isComposite': False, 'isReadOnly': False, 'declaredName': 'Bare Classed Feature', 'isSufficient': False, 'isOrdered': False, '@id': '231cb543-a22d-4347-82c2-3bb910a7a810'}\n",
      "INFO:root:[Element] value of _model is trying to be set to <SysML v2 Model (32 elements)>\n",
      "INFO:root:[Element] value of _metamodel_hints is trying to be set to {'ownedRelationship': ['inherited', 'primary', 'Relationship', 'EReference'], 'owningRelationship': ['inherited', 'primary', 'Relationship', 'EReference'], 'isUnique': ['local', 'primary', 'Boolean', 'EAttribute'], 'isComposite': ['local', 'primary', 'Boolean', 'EAttribute'], 'isPortion': ['local', 'primary', 'Boolean', 'EAttribute'], 'isDerived': ['local', 'primary', 'Boolean', 'EAttribute'], 'declaredName': ['inherited', 'primary', 'String', 'EAttribute'], 'aliasIds': ['inherited', 'primary', 'String', 'EAttribute'], 'isOrdered': ['local', 'primary', 'Boolean', 'EAttribute'], 'isEnd': ['local', 'primary', 'Boolean', 'EAttribute'], 'direction': ['local', 'primary', 'FeatureDirectionKind', 'EAttribute'], 'isSufficient': ['inherited', 'primary', 'Boolean', 'EAttribute'], 'isReadOnly': ['local', 'primary', 'Boolean', 'EAttribute'], 'isImpliedIncluded': ['inherited', 'primary', 'Boolean', 'EAttribute'], 'elementId': ['inherited', 'primary', 'String', 'EAttribute'], 'isAbstract': ['inherited', 'primary', 'Boolean', 'EAttribute'], 'declaredShortName': ['inherited', 'primary', 'String', 'EAttribute']}\n",
      "INFO:root:[Element] value of _id is trying to be set to 0b881ad6-ada2-4b18-a2d7-006f14e0baea\n",
      "INFO:root:[Element] value of _metatype is trying to be set to Element\n",
      "INFO:root:[Element] value of _derived is trying to be set to defaultdict(<class 'list'>, {})\n",
      "INFO:root:[Element] value of _is_abstract is trying to be set to False\n",
      "INFO:root:[Element] value of _is_proxy is trying to be set to True\n",
      "INFO:root:[Element] value of _is_relationship is trying to be set to False\n",
      "INFO:root:[Element] value of _package is trying to be set to None\n",
      "INFO:root:[Element] entering post initialization.\n",
      "INFO:root:[Element] data found. About to resolve.\n",
      "INFO:root:[Element] element is still in proxy mode - resolving internal data\n",
      "INFO:root:[Element] value of _id is trying to be set to 231cb543-a22d-4347-82c2-3bb910a7a810\n",
      "INFO:root:[Element] value of _metatype is trying to be set to Feature\n",
      "INFO:root:[Element] value of _is_abstract is trying to be set to False\n",
      "INFO:root:[Element] value of _is_relationship is trying to be set to False\n",
      "INFO:root:[Element] assigned id = 231cb543-a22d-4347-82c2-3bb910a7a810, metatype = Feature, is abstract = False, and is relationship = False.\n",
      "INFO:root:Key starting with owned found: ownedRelationship\n",
      "INFO:root:Data resolved to: [{'@id': '024d0e2d-dee8-47ed-a9ba-0bacbc38a201'}]\n",
      "INFO:root:[Element] value of _is_proxy is trying to be set to False\n"
     ]
    }
   ],
   "source": [
    "test_model = InstrumentedModel.load(elements=factored_post_data)"
   ]
  },
  {
   "cell_type": "markdown",
   "id": "b3a25645-3140-4085-af63-f39d5fc9374d",
   "metadata": {},
   "source": [
    "## Interchange data and loading\n",
    "\n",
    "The API for standing up a model in memory is built around loading data from Python dictionaries. This is mostly based around major APIs of interest (e.g., the SysML v2 REST API) exchanging data in the JSON format with a main set of keys and values."
   ]
  },
  {
   "cell_type": "markdown",
   "id": "825e8415-94b0-44cc-8982-00cb5c492c42",
   "metadata": {},
   "source": [
    "### Bulk loading model data\n",
    "\n",
    "The entry point to loading up the models is a bulk load method that gathers collections of dictionaries (each model element is expected to serialize as a dictionary from JSON) and creates a new dictionary that allows for rapid look up of elements by their IDs."
   ]
  },
  {
   "cell_type": "markdown",
   "id": "bc4027c7-91d0-42bd-ac05-6fafa7a65f63",
   "metadata": {},
   "source": [
    "### ID reference format\n",
    "\n",
    "The serialized JSON files will present IDs as a single entry dictionary of the form {'@id': uuid}."
   ]
  },
  {
   "cell_type": "code",
   "execution_count": 12,
   "id": "951e81b4-1420-42b5-b8db-5620312eb41f",
   "metadata": {},
   "outputs": [],
   "source": [
    "def is_id_item(item):\n",
    "    return isinstance(item, dict) and item['@id'] is not None and isinstance(item['@id'], str)"
   ]
  },
  {
   "cell_type": "markdown",
   "id": "e98aca98-4a68-46ac-91a4-87b93907e15f",
   "metadata": {},
   "source": [
    "## Pythonic Model elements\n",
    "\n",
    "The methods and the class developed here are intended to support the Python representation and manipulation of system model data. The partial methods describe below set up various fields in objects of the Element class for use in downstream or user codes involving this library.\n",
    "\n",
    "There are a variety of features developed here to make the interaction with system model data more Pythonic."
   ]
  },
  {
   "cell_type": "markdown",
   "id": "10089c8b-6a39-4d78-b2e1-f5f684a088ce",
   "metadata": {},
   "source": [
    "### List of Items Accessible by Name\n",
    "\n",
    "For convenience, a class is introduced that allows for collections of objects to be referenced by name rather than by unique identifier. This requires that names in a given list are unique."
   ]
  },
  {
   "cell_type": "markdown",
   "id": "85956131-32ed-4a41-9f86-4adbf2802f4a",
   "metadata": {},
   "source": [
    "The ListOfNamedItemsClass extends list to make names within model element data a useable index."
   ]
  },
  {
   "cell_type": "code",
   "execution_count": 13,
   "id": "79ecf1d3-d34a-40e8-8075-5cc8e5e36306",
   "metadata": {},
   "outputs": [
    {
     "name": "stdout",
     "output_type": "stream",
     "text": [
      "    def __getitem__(self, key):\n",
      "        item_map = {\n",
      "            item._data[\"declaredName\"]: item\n",
      "            for item in self\n",
      "            if isinstance(item, Element) and \"declaredName\" in item._data\n",
      "        }\n",
      "        effective_item_map = {\n",
      "            item._data[\"effectiveName\"]: item\n",
      "            for item in self\n",
      "            if isinstance(item, Element) and \"effectiveName\" in item._data\n",
      "        }\n",
      "        if key in item_map:\n",
      "            return item_map[key]\n",
      "        if key in effective_item_map:\n",
      "            return effective_item_map[key]\n",
      "        if isinstance(key, int):\n",
      "            return super().__getitem__(key)\n",
      "        return None\n",
      "\n"
     ]
    }
   ],
   "source": [
    "print(inspect.getsource(ListOfNamedItems.__getitem__))"
   ]
  },
  {
   "cell_type": "code",
   "execution_count": 14,
   "id": "1aaecee5-73a7-496d-b3ca-d59e92505f29",
   "metadata": {},
   "outputs": [
    {
     "data": {
      "text/plain": [
       "False"
      ]
     },
     "execution_count": 14,
     "metadata": {},
     "output_type": "execute_result"
    }
   ],
   "source": [
    "is_id_item([])"
   ]
  },
  {
   "cell_type": "code",
   "execution_count": 15,
   "id": "00ce6b5a-b680-45de-9920-ab0b0558ea5d",
   "metadata": {},
   "outputs": [
    {
     "data": {
      "text/plain": [
       "True"
      ]
     },
     "execution_count": 15,
     "metadata": {},
     "output_type": "execute_result"
    }
   ],
   "source": [
    "is_id_item({'@id': '56851b8c-56c7-4429-8bd0-17fc09b3ce02'})"
   ]
  },
  {
   "cell_type": "markdown",
   "id": "67a0524e-4903-417e-b50f-75f202029a3b",
   "metadata": {},
   "source": [
    "### Navigating fields for owned elements (and more specialized collections)\n",
    "\n",
    "Elements should be able to directly reference elements through ownership relations. This is done by dynamically constructing Python fields for meta-attributes that start with \"owned.\" This is done in the element read lifecycle, starting with when the model begins to load."
   ]
  },
  {
   "cell_type": "code",
   "execution_count": 16,
   "id": "d70bcc4b-3a69-4fcb-8754-d6e8d087833b",
   "metadata": {},
   "outputs": [
    {
     "data": {
      "text/plain": [
       "[<cdd5d1e3-fe4b-52bd-8a01-51a53f22ba47 «LibraryPackage»>,\n",
       " <eff08982-c95f-439f-8ee4-563136c74ed8 «Type»>,\n",
       " <3093cc44-3025-450e-8ea8-18705529b528 «Namespace»>]"
      ]
     },
     "execution_count": 16,
     "metadata": {},
     "output_type": "execute_result"
    }
   ],
   "source": [
    "test_model.ownedElement"
   ]
  },
  {
   "cell_type": "code",
   "execution_count": 17,
   "id": "a652ff57-f2db-4d8a-9cbc-535c10dbcbef",
   "metadata": {},
   "outputs": [
    {
     "data": {
      "text/plain": [
       "[]"
      ]
     },
     "execution_count": 17,
     "metadata": {},
     "output_type": "execute_result"
    }
   ],
   "source": [
    "test_model.ownedRelationship"
   ]
  },
  {
   "cell_type": "code",
   "execution_count": 18,
   "id": "5ca7887a-2e39-4673-95f9-19d10f93c42b",
   "metadata": {},
   "outputs": [
    {
     "data": {
      "text/plain": [
       "defaultdict(list, {'label': 'Bare Classed Feature'})"
      ]
     },
     "execution_count": 18,
     "metadata": {},
     "output_type": "execute_result"
    }
   ],
   "source": [
    "test_model.elements[\"231cb543-a22d-4347-82c2-3bb910a7a810\"]._derived"
   ]
  },
  {
   "cell_type": "code",
   "execution_count": 19,
   "id": "c0dfb5fc-2731-4161-b0ee-83ba2e79b7c4",
   "metadata": {},
   "outputs": [
    {
     "data": {
      "text/plain": [
       "<231cb543-a22d-4347-82c2-3bb910a7a810 «Feature»>"
      ]
     },
     "execution_count": 19,
     "metadata": {},
     "output_type": "execute_result"
    }
   ],
   "source": [
    "test_model.instrumented_element"
   ]
  },
  {
   "cell_type": "markdown",
   "id": "c6ef4c96-790a-4c18-b89e-93c261cb2807",
   "metadata": {},
   "source": [
    "### Accessing fields Pythonically\n",
    "\n",
    "The next thing to add to the Element class are magics to match the meta-attributes of loaded elements to properties on Python objects. That is done by adding to the getattr and getitem magics.\n",
    "\n",
    "This should focus on the metafields with expected literal values in the JSON."
   ]
  },
  {
   "cell_type": "code",
   "execution_count": 45,
   "id": "4b238ed7-58ff-4723-a39e-81f578caedf6",
   "metadata": {},
   "outputs": [
    {
     "name": "stdout",
     "output_type": "stream",
     "text": [
      "        for key, items in data.items():\n",
      "            # set up owned elements to be referencable by their name\n",
      "            if key.startswith(\"owned\") and isinstance(items, list):\n",
      "                data[key] = ListOfNamedItems(items)\n",
      "            # add Pythonic property to Element object based on metamodel for primary data values\n",
      "            elif key in self._metamodel_hints and \\\n",
      "                self._metamodel_hints[key][1] == 'primary' and \\\n",
      "                self._metamodel_hints[key][3] != 'EReference':\n",
      "                    setattr(self, key, items)\n",
      "\n"
     ]
    }
   ],
   "source": [
    "print(''.join(inspect.getsourcelines(Element.resolve)[0][16:-3]))"
   ]
  },
  {
   "cell_type": "code",
   "execution_count": null,
   "id": "328284f9-992a-4c7f-bb5f-5f15b07ca7f2",
   "metadata": {},
   "outputs": [],
   "source": [
    "with open('example_data/sysml_3a.json', 'r') as fp:\n",
    "    element_raw_data2 = json.load(fp)\n",
    "\n",
    "test_model2 = Model()\n",
    "indexed_raw2 = index_element_data(element_raw_data2)\n",
    "test_elements2 = {indx: construct_test_element_from_raw(raw_item, test_model2)\n",
    "                for indx, raw_item in indexed_raw2.items()}\n",
    "test_model2.elements = test_elements2"
   ]
  },
  {
   "cell_type": "code",
   "execution_count": null,
   "id": "f9c4894c-b689-4709-85df-8fcceff071a2",
   "metadata": {},
   "outputs": [],
   "source": [
    "set_names_for_owned_for_element(test_model2.elements[element_raw_data[2]['@id']])"
   ]
  },
  {
   "cell_type": "code",
   "execution_count": null,
   "id": "55cfec4a-9197-4d12-b2bb-163c7092ef15",
   "metadata": {},
   "outputs": [],
   "source": [
    "printing_level = \"ERROR\""
   ]
  },
  {
   "cell_type": "code",
   "execution_count": null,
   "id": "fd385888-91fe-470b-83ca-dc75d59843dc",
   "metadata": {},
   "outputs": [],
   "source": [
    "for element_raw in element_raw_data:\n",
    "    set_names_for_owned_for_element(test_model2.elements[element_raw['@id']])"
   ]
  },
  {
   "cell_type": "code",
   "execution_count": null,
   "id": "34e51a00-7909-4e76-ace9-a2a0f938672e",
   "metadata": {},
   "outputs": [],
   "source": [
    "test_model2.elements[element_raw_data[2]['@id']]._metatype"
   ]
  },
  {
   "cell_type": "code",
   "execution_count": null,
   "id": "f05648d8-1714-4836-ad89-13b549997f1a",
   "metadata": {},
   "outputs": [],
   "source": [
    "test_model2.elements[element_raw_data[2]['@id']].effectiveName"
   ]
  },
  {
   "cell_type": "code",
   "execution_count": null,
   "id": "6253ed6d-9474-407b-aad0-36181d8c55f4",
   "metadata": {},
   "outputs": [],
   "source": [
    "test_model2.elements[element_raw_data[2]['@id']].ownedElement['engineTorque']"
   ]
  },
  {
   "cell_type": "code",
   "execution_count": null,
   "id": "c7cfa119-9225-4369-83e0-240eb32adfd8",
   "metadata": {},
   "outputs": [],
   "source": [
    "test_model2.elements[element_raw_data[2]['@id']]"
   ]
  },
  {
   "cell_type": "code",
   "execution_count": null,
   "id": "9c00a2c0-e911-4811-87c5-bc9383c2727f",
   "metadata": {},
   "outputs": [],
   "source": [
    "[{element_raw['name']: [ele['name'] for ele in test_model2.elements[element_raw['@id']].ownedElement]} for element_raw in element_raw_data]"
   ]
  },
  {
   "cell_type": "markdown",
   "id": "686dcafc-a7ac-4bf2-8883-f8e3f3bec139",
   "metadata": {},
   "source": [
    "### Navigating relationships Pythonically\n",
    "\n",
    "The next Pythonic task for our model elements is the ability to traverse SysML v2 relationships Pythonically, either in the forward (through) or reverse direction with simple property accessors."
   ]
  },
  {
   "cell_type": "code",
   "execution_count": null,
   "id": "497a1e4b-391d-4ec1-a3bb-094e48892d8b",
   "metadata": {},
   "outputs": [],
   "source": [
    "def element_resolve_to_determine_element_as_relationship(self):\n",
    "    self._is_relationship = \"relatedElement\" in data"
   ]
  },
  {
   "cell_type": "code",
   "execution_count": null,
   "id": "768cb851-761e-44e7-ab01-fdf2d09f6edd",
   "metadata": {},
   "outputs": [],
   "source": [
    " def model_add_relationships(self):\n",
    "        \"\"\"Adds relationships to elements\"\"\"\n",
    "        relationship_mapper = {\n",
    "            \"through\": (\"source\", \"target\"),\n",
    "            \"reverse\": (\"target\", \"source\"),\n",
    "        }\n",
    "        # TODO: make this more elegant...  maybe.\n",
    "        for relationship in self.all_relationships.values():\n",
    "            endpoints = {\n",
    "                endpoint_type: [\n",
    "                    self.elements[endpoint[\"@id\"]]\n",
    "                    for endpoint in relationship._data[endpoint_type]\n",
    "                ]\n",
    "                for endpoint_type in (\"source\", \"target\")\n",
    "            }\n",
    "            metatype = relationship._metatype\n",
    "            for direction, (key1, key2) in relationship_mapper.items():\n",
    "                endpts1, endpts2 = endpoints[key1], endpoints[key2]\n",
    "                for endpt1 in endpts1:\n",
    "                    for endpt2 in endpts2:\n",
    "                        endpt1._derived[f\"{direction}{metatype}\"] += [{\"@id\": endpt2._data[\"@id\"]}]"
   ]
  },
  {
   "cell_type": "markdown",
   "id": "ded5923e-fa04-483f-93a1-f99c5063db38",
   "metadata": {},
   "source": [
    "### Dealing with derived attributes\n",
    "\n",
    "In SysML v2 models, there are a large number of derived attributes and collections that can gather the incoming and outgoing relationships to other elements. These are actually the standard means of navigation rather than the relationship-based fields generated specifically for pyMBE (also to make it easier to remember some of the names)."
   ]
  },
  {
   "cell_type": "markdown",
   "id": "e11d3e50-7070-44db-9ac9-379661642596",
   "metadata": {},
   "source": [
    "### Creating model elements Pythonically\n",
    "\n",
    "After setting up a model in memory Pythonically, the next steps will be to create model elements within the model processing session."
   ]
  },
  {
   "cell_type": "markdown",
   "id": "b133c79b-0c1c-4051-b9ee-34bdc5ae4ca8",
   "metadata": {},
   "source": [
    "## Example: Working with Actions in SysML v2 test case 3a"
   ]
  },
  {
   "cell_type": "markdown",
   "id": "a18aceeb-5560-433a-a37c-6ef6b3e4c077",
   "metadata": {
    "tags": []
   },
   "source": [
    "### Fields for model element attributes\n",
    "\n",
    "The fields for a given element should be referenceable in a Pythonic way, using the dot operator. In addition, the field name should indicate whether the reference is \"inside\" the Element or avaiable through a traversal reference. In this case, we use \"through\" for moving from source to target on a relationship and \"reverse\" to go from target to source."
   ]
  },
  {
   "cell_type": "code",
   "execution_count": null,
   "id": "d85e0712-7710-4ca8-aa70-c7e2c1f9f29e",
   "metadata": {},
   "outputs": [],
   "source": [
    "all_action_defs = {ele_id:ele for (ele_id, ele)\n",
    "                   in test_model.all_non_relationships.items()\n",
    "                   if ele['@type'] == 'ActionDefinition'} \n",
    "all_action_defs"
   ]
  },
  {
   "cell_type": "code",
   "execution_count": null,
   "id": "9fae3ea0-c2df-4cc7-9d79-99b2a6dd050f",
   "metadata": {},
   "outputs": [],
   "source": [
    "transfer_action = [ele for (ele_id, ele)\n",
    "                   in all_action_defs.items() if ele['name'] == \"Transfer Torque\"][0]"
   ]
  },
  {
   "cell_type": "markdown",
   "id": "0dd8e8a9-2e34-4512-a76f-9a9b47c927eb",
   "metadata": {},
   "source": [
    "With the object assigned to the variable above, we can now explore the element fields:"
   ]
  },
  {
   "cell_type": "code",
   "execution_count": null,
   "id": "9c65f964-56f4-4036-8cb9-4adfbeec650a",
   "metadata": {},
   "outputs": [],
   "source": [
    "transfer_action.name"
   ]
  },
  {
   "cell_type": "code",
   "execution_count": null,
   "id": "8f203e7a-26eb-4135-9d62-02fb2bbd6b19",
   "metadata": {},
   "outputs": [],
   "source": [
    "transfer_action.ownedElement"
   ]
  },
  {
   "cell_type": "code",
   "execution_count": null,
   "id": "f0fe6f29-d591-4fa5-820e-6d775ef44b97",
   "metadata": {},
   "outputs": [],
   "source": [
    "transfer_action.ownedRelationship"
   ]
  },
  {
   "cell_type": "code",
   "execution_count": null,
   "id": "90c69af5-878e-44ea-8fbf-012af3dd640a",
   "metadata": {},
   "outputs": [],
   "source": [
    "transfer_action.throughFeatureMembership[0]"
   ]
  },
  {
   "cell_type": "markdown",
   "id": "0de46edf-997d-4d54-b899-944f01ee7a77",
   "metadata": {},
   "source": [
    "### Working with Derived Attributes\n",
    "\n",
    "SysML v2 has a number of attributes that are derived from the Element's relationship to other Elements. For performance reasons, it may be desirable to evaluate these derivations lazily. It may also be desirable to precache these evaluations or build them up in the background. "
   ]
  },
  {
   "cell_type": "markdown",
   "id": "39402d60-1117-4937-8ac8-6908f6f53fb2",
   "metadata": {},
   "source": [
    "## Example: Working with Clean Bicycle KerML example\n",
    "\n",
    "The same apporach to model load can work with KerML exports also with some refactoring effort."
   ]
  },
  {
   "cell_type": "code",
   "execution_count": null,
   "id": "3cfc67c1-7352-4175-9a02-0881458f97f7",
   "metadata": {},
   "outputs": [],
   "source": [
    "with open('example_data/Clean_Bicycle.json', 'r') as fp:\n",
    "    element_raw_data = json.load(fp)"
   ]
  },
  {
   "cell_type": "code",
   "execution_count": null,
   "id": "349f9c6d-03b7-48c3-8d36-8be276615d21",
   "metadata": {},
   "outputs": [],
   "source": [
    "len(element_raw_data)"
   ]
  },
  {
   "cell_type": "code",
   "execution_count": null,
   "id": "51653021-f4ac-4db8-a8c7-30357460ad9c",
   "metadata": {},
   "outputs": [],
   "source": [
    "extracted_elements = [(lambda d: d.update({'@id': ele['identity']['@id']}) or d)(ele['payload'])\n",
    "                      for ele in element_raw_data]"
   ]
  },
  {
   "cell_type": "code",
   "execution_count": null,
   "id": "a7efcea1-c371-456d-8061-a198746f19bd",
   "metadata": {},
   "outputs": [],
   "source": [
    "bicycle_model = pm.Model.load(extracted_elements)"
   ]
  },
  {
   "cell_type": "code",
   "execution_count": null,
   "id": "24df49e2-6e80-4eb0-9218-17e55fa8c76a",
   "metadata": {},
   "outputs": [],
   "source": [
    "bicycle_model"
   ]
  },
  {
   "cell_type": "code",
   "execution_count": null,
   "id": "d83635ce-ec7d-49db-9c7e-df365ef5648d",
   "metadata": {},
   "outputs": [],
   "source": [
    "all_class_defs = {ele_id:ele for (ele_id, ele)\n",
    "                   in bicycle_model.all_non_relationships.items()\n",
    "                   if ele['@type'] == 'Classifier'} \n",
    "all_class_defs"
   ]
  },
  {
   "cell_type": "code",
   "execution_count": null,
   "id": "a6e59d3a-d234-49c9-ba5e-60c4db727aa5",
   "metadata": {},
   "outputs": [],
   "source": [
    "all_feature_defs = {ele_id:ele for (ele_id, ele)\n",
    "                   in bicycle_model.all_non_relationships.items()\n",
    "                   if ele['@type'] == 'Feature'}\n",
    "all_feature_defs"
   ]
  },
  {
   "cell_type": "code",
   "execution_count": null,
   "id": "58c49678-b2bd-4794-a6ee-ddedb84167e3",
   "metadata": {},
   "outputs": [],
   "source": [
    "all_ss_defs = [ele for (ele_id, ele)\n",
    "                   in bicycle_model.all_relationships.items()\n",
    "                   if ele['@type'] == 'Subsetting']\n",
    "all_ss_defs"
   ]
  },
  {
   "cell_type": "code",
   "execution_count": null,
   "id": "1dd40e4a-1e3b-42b8-9ab8-0d07ec4d9330",
   "metadata": {},
   "outputs": [],
   "source": []
  }
 ],
 "metadata": {
  "kernelspec": {
   "display_name": "Python 3 (ipykernel)",
   "language": "python",
   "name": "python3"
  },
  "language_info": {
   "codemirror_mode": {
    "name": "ipython",
    "version": 3
   },
   "file_extension": ".py",
   "mimetype": "text/x-python",
   "name": "python",
   "nbconvert_exporter": "python",
   "pygments_lexer": "ipython3",
   "version": "3.9.13"
  }
 },
 "nbformat": 4,
 "nbformat_minor": 5
}
