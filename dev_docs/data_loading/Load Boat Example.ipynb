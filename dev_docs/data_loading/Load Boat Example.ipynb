{
 "cells": [
  {
   "cell_type": "markdown",
   "id": "1534a715-a253-4727-8096-c1dc9b65aa47",
   "metadata": {},
   "source": [
    "# Import python packages"
   ]
  },
  {
   "cell_type": "code",
   "execution_count": 1,
   "id": "51990d94-9d0b-4e25-a2da-525d939fa506",
   "metadata": {},
   "outputs": [],
   "source": [
    "from pathlib import Path\n",
    "import pymbe.api as pm"
   ]
  },
  {
   "cell_type": "markdown",
   "id": "33314957-16d5-4fa3-866d-26dc913bff2c",
   "metadata": {},
   "source": [
    "# Load the SysML v2 model from JSON"
   ]
  },
  {
   "cell_type": "code",
   "execution_count": 2,
   "id": "5ccc9377-62a4-4a01-9cf9-c02ec28929fe",
   "metadata": {},
   "outputs": [
    {
     "name": "stderr",
     "output_type": "stream",
     "text": [
      "c:\\git\\pymbe\\src\\pymbe\\label.py:115: UserWarning: Cannot process Expression elements yet!\n",
      "  warn(f\"Cannot process {expression._metatype} elements yet!\")\n"
     ]
    },
    {
     "data": {
      "text/plain": [
       "<SysML v2 Model (C:\\git\\pymbe\\dev_docs\\data_loading\\example_data\\TrashCollection.json)>"
      ]
     },
     "execution_count": 2,
     "metadata": {},
     "output_type": "execute_result"
    }
   ],
   "source": [
    "json_file = Path(Path.cwd()) / \"example_data\" / \"TrashCollection.json\"\n",
    "\n",
    "boat_data = pm.Model.load_from_post_file(json_file)\n",
    "boat_data"
   ]
  },
  {
   "cell_type": "markdown",
   "id": "93edbed1-4ac2-4d61-b8e3-f4348611a4ca",
   "metadata": {},
   "source": [
    "## List and explore SysML packages in the model"
   ]
  },
  {
   "cell_type": "code",
   "execution_count": 3,
   "id": "7c379a23-be2f-4778-95f3-bf28b3e341ee",
   "metadata": {},
   "outputs": [
    {
     "data": {
      "text/plain": [
       "[Trash Collections «Package»]"
      ]
     },
     "execution_count": 3,
     "metadata": {},
     "output_type": "execute_result"
    }
   ],
   "source": [
    "packages = [ele for ele in boat_data.elements.values() if ele._metatype == 'Package']\n",
    "packages"
   ]
  },
  {
   "cell_type": "code",
   "execution_count": 4,
   "id": "6f289b8b-2332-4750-89fe-d10e56c7a339",
   "metadata": {},
   "outputs": [
    {
     "data": {
      "text/plain": [
       "[Trash Collection Efficiency Analysis «AnalysisCaseDefinition»]"
      ]
     },
     "execution_count": 4,
     "metadata": {},
     "output_type": "execute_result"
    }
   ],
   "source": [
    "analyses = \\\n",
    "    [ele for ele in packages[0].throughOwningMembership if ele._metatype == 'AnalysisCaseDefinition']\n",
    "analyses"
   ]
  },
  {
   "cell_type": "code",
   "execution_count": 5,
   "id": "a22ce583-1341-478b-bca4-0039862f70cd",
   "metadata": {},
   "outputs": [
    {
     "data": {
      "text/plain": [
       "Trash Removal Fleet: Trash Removal Fleet «ReferenceUsage»"
      ]
     },
     "execution_count": 5,
     "metadata": {},
     "output_type": "execute_result"
    }
   ],
   "source": [
    "analyses[0].throughSubjectMembership[0]"
   ]
  },
  {
   "cell_type": "code",
   "execution_count": 6,
   "id": "9b7dbbae-8581-43f4-a1d7-61e285453569",
   "metadata": {},
   "outputs": [
    {
     "data": {
      "text/plain": [
       "Trash Removal Fleet «PartDefinition»"
      ]
     },
     "execution_count": 6,
     "metadata": {},
     "output_type": "execute_result"
    }
   ],
   "source": [
    "fleet = analyses[0].throughSubjectMembership[0].throughFeatureTyping[0]\n",
    "fleet"
   ]
  },
  {
   "cell_type": "code",
   "execution_count": 7,
   "id": "7752976c-a4a6-4c5e-ac0b-1e709c649d1c",
   "metadata": {},
   "outputs": [],
   "source": [
    "generic_trash_removal_ship = fleet.throughFeatureMembership[0].throughFeatureTyping[0]"
   ]
  },
  {
   "cell_type": "markdown",
   "id": "a966e5bb-b013-4373-8f4f-c4f8ba98fc79",
   "metadata": {},
   "source": [
    "### Find trash capture ship alternatives"
   ]
  },
  {
   "cell_type": "code",
   "execution_count": 8,
   "id": "b5d9ee40-1325-4d31-afd9-2d1613cb109e",
   "metadata": {},
   "outputs": [
    {
     "data": {
      "text/plain": [
       "[Water Surface Trash Skimmer «PartDefinition»,\n",
       " Net-Based Skimmer «PartDefinition»,\n",
       " Trash Processor Mothership «PartDefinition»]"
      ]
     },
     "execution_count": 8,
     "metadata": {},
     "output_type": "execute_result"
    }
   ],
   "source": [
    "generic_trash_removal_ship.reverseSubclassification"
   ]
  },
  {
   "cell_type": "code",
   "execution_count": 9,
   "id": "bdedb0d1-06bd-449e-97b7-66265dcc2bdc",
   "metadata": {},
   "outputs": [
    {
     "data": {
      "text/plain": [
       "Net-Based Skimmer «PartDefinition»"
      ]
     },
     "execution_count": 9,
     "metadata": {},
     "output_type": "execute_result"
    }
   ],
   "source": [
    "surface_skimmer, net_skimmer, _ = generic_trash_removal_ship.reverseSubclassification\n",
    "net_skimmer"
   ]
  },
  {
   "cell_type": "markdown",
   "id": "d40e41d9-df60-4de6-a973-92da8adc5c73",
   "metadata": {},
   "source": [
    "## Find the necessary parameters"
   ]
  },
  {
   "cell_type": "markdown",
   "id": "4b75f2bf-0c3c-42fd-81ed-ca67785ddfdb",
   "metadata": {},
   "source": [
    "### Find parameters for Surface Skimmer Concept"
   ]
  },
  {
   "cell_type": "code",
   "execution_count": 10,
   "id": "a46ce501-d0f5-402b-9863-f27533bcc4bd",
   "metadata": {},
   "outputs": [
    {
     "data": {
      "text/plain": [
       "[Skim Trash: Skim Trash Def «PerformActionUsage»,\n",
       " Inlet Diameter: LengthValue «AttributeUsage»,\n",
       " Inlet Height: LengthValue «AttributeUsage»]"
      ]
     },
     "execution_count": 10,
     "metadata": {},
     "output_type": "execute_result"
    }
   ],
   "source": [
    "surface_skimmer.throughFeatureMembership"
   ]
  },
  {
   "cell_type": "code",
   "execution_count": 11,
   "id": "327aa6a8-5943-4098-bc1c-a4958d2241bc",
   "metadata": {},
   "outputs": [],
   "source": [
    "_, surface_skimmer_inlet_diameter, _ = surface_skimmer.throughFeatureMembership\n",
    "\n",
    "# get the boat speed from the generic definition\n",
    "surface_skimmer_speed_kts = surface_skimmer.throughSubclassification[0].throughFeatureMembership[0].throughFeatureValue[0].value"
   ]
  },
  {
   "cell_type": "markdown",
   "id": "4eeb6586-3d3c-4bd9-855e-5b1d5cb3c2b9",
   "metadata": {},
   "source": [
    "### Find parameters for Net Skimmer Concept"
   ]
  },
  {
   "cell_type": "code",
   "execution_count": 12,
   "id": "598e9b54-5d09-4256-bd94-f5041211c86c",
   "metadata": {},
   "outputs": [
    {
     "data": {
      "text/plain": [
       "[Net Width: LengthValue «AttributeUsage»,\n",
       " Time to Deploy: LengthValue «AttributeUsage»,\n",
       " Time to Gather: LengthValue «AttributeUsage»,\n",
       " boat speed: SpeedValue «AttributeUsage»]"
      ]
     },
     "execution_count": 12,
     "metadata": {},
     "output_type": "execute_result"
    }
   ],
   "source": [
    "net_skimmer.throughFeatureMembership"
   ]
  },
  {
   "cell_type": "code",
   "execution_count": 13,
   "id": "0f01cbf5-df51-4de5-8e3f-9be61a4ec84f",
   "metadata": {},
   "outputs": [
    {
     "data": {
      "text/plain": [
       "2.5"
      ]
     },
     "execution_count": 13,
     "metadata": {},
     "output_type": "execute_result"
    }
   ],
   "source": [
    "net_skimmer_width, net_skimmer_time_to_deploy, _, net_skimmer_speed = net_skimmer.throughFeatureMembership\n",
    "net_skimmer_time_to_deploy.throughFeatureValue[0].value"
   ]
  },
  {
   "cell_type": "markdown",
   "id": "0059f419-5f50-4e70-b5c1-e78edf3eaf51",
   "metadata": {},
   "source": [
    "# Define a computable model"
   ]
  },
  {
   "cell_type": "code",
   "execution_count": 14,
   "id": "6affd7c1-0d7f-4bd9-ada8-dc01f8cda8ef",
   "metadata": {},
   "outputs": [],
   "source": [
    "from math import ceil, sqrt\n",
    "\n",
    "HRS_TO_YEARS = 1 / (24 * 365.25)\n",
    "\n",
    "\n",
    "def time_to_skim_hrs(\n",
    "    boat_speed_kts: float,\n",
    "    boat_capture_width_m: float,\n",
    "    boat_setup_time_hr: float,\n",
    "    boat_garbage_capacity_m3: float,\n",
    "    garbage_volume_density_m: float,  # volume of garbage per surface area (m3/m2 = m) to depth of capture\n",
    "    area_to_skim_km2: float,\n",
    ") -> float:\n",
    "    \"\"\"An overly simplistic model for how a trash skimming boat would clean up an area.\"\"\"\n",
    "    SEC_TO_HR = 1 / 3_600\n",
    "    KM2_to_M2 = 1_000_000\n",
    "    KTS_TO_MPS = 0.514444  # knots to meter/sec\n",
    "\n",
    "    boat_speed_mps = KTS_TO_MPS * boat_speed_kts\n",
    "    area_to_skim_m2 = KM2_to_M2 * area_to_skim_km2\n",
    "\n",
    "    amount_of_trash_to_skim_m3 = area_to_skim_m2 * garbage_volume_density_m\n",
    "    number_of_trips = ceil(amount_of_trash_to_skim_m3 / boat_garbage_capacity_m3)\n",
    "\n",
    "    if number_of_trips == 1:\n",
    "        time_to_skim_area_hr = SEC_TO_HR * area_to_skim_m2 / (boat_speed_mps * boat_capture_width_m)\n",
    "        return boat_setup_time_hr + time_to_skim_area_hr\n",
    "\n",
    "    print(f\"Will need to do {number_of_trips:,d} trips to collect all the garbage\")\n",
    "\n",
    "    time_to_collect_to_capacity_hr = boat_garbage_capacity_m3 / (garbage_volume_density_m * boat_capture_width_m * boat_speed_mps) * SEC_TO_HR\n",
    "    time_to_travel_to_mothership_hr = SEC_TO_HR * sqrt(KM2_to_M2 * area_to_skim_km2) / boat_speed_mps\n",
    "\n",
    "    return number_of_trips * (boat_setup_time_hr + time_to_collect_to_capacity_hr + time_to_travel_to_mothership_hr)"
   ]
  },
  {
   "cell_type": "markdown",
   "id": "2dcf8fa5-ba27-48a8-a25a-43af109033ea",
   "metadata": {},
   "source": [
    "# Define a Scenario"
   ]
  },
  {
   "cell_type": "code",
   "execution_count": 15,
   "id": "e9df2d99-c5e3-4725-97c1-f3fd9b257cda",
   "metadata": {},
   "outputs": [],
   "source": [
    "GARBAGE_VOLUME_DENSITY = 0.00001  # the volume of garbage per surface area (m3/m2)\n",
    "AREA_TO_SKIM = 20  # km2"
   ]
  },
  {
   "cell_type": "markdown",
   "id": "07a4f792-fb6b-40cc-a739-1e67ac3f1edc",
   "metadata": {},
   "source": [
    "# Analyze Alternatives"
   ]
  },
  {
   "cell_type": "markdown",
   "id": "6ecef3d2-fc7e-47a8-8bfd-1cef221105c3",
   "metadata": {},
   "source": [
    "## Simple skimmer"
   ]
  },
  {
   "cell_type": "code",
   "execution_count": 16,
   "id": "19c7a26e-f2fc-434c-8da9-d7106b9dce3d",
   "metadata": {},
   "outputs": [
    {
     "name": "stdout",
     "output_type": "stream",
     "text": [
      "It will take the boat 270 hrs to complete the task\n"
     ]
    }
   ],
   "source": [
    "surface_skimmer_time_to_complete_hr = time_to_skim_hrs(\n",
    "    boat_speed_kts=surface_skimmer_speed_kts,\n",
    "    boat_capture_width_m=surface_skimmer_inlet_diameter.throughFeatureValue[0].value,\n",
    "    boat_setup_time_hr=0.5,\n",
    "    boat_garbage_capacity_m3=500,\n",
    "    garbage_volume_density_m=GARBAGE_VOLUME_DENSITY,  \n",
    "    area_to_skim_km2=AREA_TO_SKIM,\n",
    ")\n",
    "print(f\"It will take the boat {int(surface_skimmer_time_to_complete_hr):,d} hrs to complete the task\")"
   ]
  },
  {
   "cell_type": "markdown",
   "id": "14af9fe3-b9f8-4a8d-b77c-5e0405b4c46a",
   "metadata": {},
   "source": [
    "## Net-capture skimmer (using SysML2 model data)"
   ]
  },
  {
   "cell_type": "code",
   "execution_count": 17,
   "id": "494c899e-1476-435e-8635-e87bb6733b45",
   "metadata": {},
   "outputs": [
    {
     "name": "stdout",
     "output_type": "stream",
     "text": [
      "It will take the boat 270 hrs to complete the task\n"
     ]
    }
   ],
   "source": [
    "net_skimmer_time_to_complete_hr = time_to_skim_hrs(\n",
    "    boat_speed_kts=net_skimmer_speed.throughFeatureValue[0].value,\n",
    "    boat_capture_width_m=net_skimmer_width.throughFeatureValue[0].value,\n",
    "    boat_setup_time_hr=net_skimmer_time_to_deploy.throughFeatureValue[0].value,\n",
    "    boat_garbage_capacity_m3=500,\n",
    "    garbage_volume_density_m=GARBAGE_VOLUME_DENSITY,\n",
    "    area_to_skim_km2=AREA_TO_SKIM,\n",
    ")\n",
    "print(f\"It will take the boat {int(surface_skimmer_time_to_complete_hr):,d} hrs to complete the task\")"
   ]
  },
  {
   "cell_type": "markdown",
   "id": "239ae859-c529-4271-b66e-3446872bee02",
   "metadata": {},
   "source": [
    "## Combine analyses"
   ]
  },
  {
   "cell_type": "code",
   "execution_count": 18,
   "id": "eaa37112-b8a7-4ba0-89c0-03ab735015fd",
   "metadata": {},
   "outputs": [
    {
     "name": "stdout",
     "output_type": "stream",
     "text": [
      "Would need 3.63 surface skimmer boats to be the equivalent of the net skimmer concept\n"
     ]
    }
   ],
   "source": [
    "print(f\"Would need {surface_skimmer_time_to_complete_hr/net_skimmer_time_to_complete_hr:.2f} surface skimmer boats to be the equivalent of the net skimmer concept\")"
   ]
  }
 ],
 "metadata": {
  "kernelspec": {
   "display_name": "Python 3 (ipykernel)",
   "language": "python",
   "name": "python3"
  },
  "language_info": {
   "codemirror_mode": {
    "name": "ipython",
    "version": 3
   },
   "file_extension": ".py",
   "mimetype": "text/x-python",
   "name": "python",
   "nbconvert_exporter": "python",
   "pygments_lexer": "ipython3",
   "version": "3.9.6"
  }
 },
 "nbformat": 4,
 "nbformat_minor": 5
}
