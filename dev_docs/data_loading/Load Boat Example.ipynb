{
 "cells": [
  {
   "cell_type": "code",
   "execution_count": 1,
   "id": "51990d94-9d0b-4e25-a2da-525d939fa506",
   "metadata": {},
   "outputs": [],
   "source": [
    "import json\n",
    "import pymbe.api as pm\n",
    "\n",
    "from pathlib import Path\n",
    "\n",
    "from typing import Any, Collection, Dict, List, Tuple, Union\n",
    "\n",
    "from pymbe.model import Model, Element\n",
    "from pymbe.model_modification import build_from_classifier_pattern, \\\n",
    "                                    new_element_ownership_pattern, \\\n",
    "                                    build_from_binary_relationship_pattern, \\\n",
    "                                    build_unioning_superset_classifier, \\\n",
    "                                    build_from_feature_pattern, \\\n",
    "                                    build_from_binary_assoc_pattern, \\\n",
    "                                    build_from_binary_connector_pattern, \\\n",
    "                                    apply_covered_feature_pattern\n",
    "\n",
    "from pymbe.query.metamodel_navigator import is_type_undefined_mult, \\\n",
    "                                    is_multiplicity_one, \\\n",
    "                                    is_multiplicity_specific_finite, \\\n",
    "                                    get_finite_multiplicity_types, \\\n",
    "                                    identify_connectors_one_side, \\\n",
    "                                    get_lower_multiplicty, \\\n",
    "                                    get_upper_multiplicty\n",
    "\n",
    "from uuid import uuid4"
   ]
  },
  {
   "cell_type": "code",
   "execution_count": 2,
   "id": "5ccc9377-62a4-4a01-9cf9-c02ec28929fe",
   "metadata": {},
   "outputs": [
    {
     "name": "stderr",
     "output_type": "stream",
     "text": [
      "c:\\users\\bjorn cole\\documents\\github\\pymbe\\src\\pymbe\\label.py:115: UserWarning: Cannot process Expression elements yet!\n",
      "  warn(f\"Cannot process {expression._metatype} elements yet!\")\n"
     ]
    },
    {
     "data": {
      "text/plain": [
       "<SysML v2 Model (C:\\Users\\Bjorn Cole\\Documents\\GitHub\\pyMBE\\dev_docs\\data_loading\\example_data\\TrashCollection.json)>"
      ]
     },
     "execution_count": 2,
     "metadata": {},
     "output_type": "execute_result"
    }
   ],
   "source": [
    "filename = \"TrashCollection\"\n",
    "\n",
    "if not filename.endswith(\".json\"):\n",
    "    filename += \".json\"\n",
    "\n",
    "json_file = Path(Path.cwd()) / \"example_data\" / filename\n",
    "\n",
    "boat_data = pm.Model.load_from_post_file(json_file)\n",
    "boat_data"
   ]
  },
  {
   "cell_type": "code",
   "execution_count": 3,
   "id": "7c379a23-be2f-4778-95f3-bf28b3e341ee",
   "metadata": {},
   "outputs": [
    {
     "data": {
      "text/plain": [
       "[Trash Collections «Package»]"
      ]
     },
     "execution_count": 3,
     "metadata": {},
     "output_type": "execute_result"
    }
   ],
   "source": [
    "packages = [ele for ele in boat_data.elements.values() if ele._metatype == 'Package']\n",
    "packages"
   ]
  },
  {
   "cell_type": "code",
   "execution_count": 4,
   "id": "6d23af12-ab21-4378-bb32-cdb4d604734a",
   "metadata": {},
   "outputs": [
    {
     "data": {
      "text/plain": [
       "[b22106eb-671a-47eb-a278-38bfb56c8210 «Documentation»,\n",
       " Trash Removal Fleet «PartDefinition»,\n",
       " Trash Removal Ship «PartDefinition»,\n",
       " Water Surface Trash Skimmer «PartDefinition»,\n",
       " Trash Interception Gudiance «PartDefinition»,\n",
       " Ocean «ItemDefinition»,\n",
       " Ocean Current «ItemDefinition»,\n",
       " Trash Collection Scenario «ActionDefinition»,\n",
       " Skim Trash Def «ActionDefinition»,\n",
       " Water «ItemDefinition»,\n",
       " Trash «ItemDefinition»,\n",
       " Water-Trash Mix «ItemDefinition»,\n",
       " Grouch Class Skimmer «PartDefinition»,\n",
       " Net-Based Skimmer «PartDefinition»,\n",
       " Trash Processor Mothership «PartDefinition»,\n",
       " Deploy Net «ActionDefinition»,\n",
       " Reel Net «ActionDefinition»,\n",
       " Trash Collection Metric «AttributeDefinition»,\n",
       " Efficiency Analysis «ActionDefinition»,\n",
       " Trash Collection Efficiency Analysis «AnalysisCaseDefinition»]"
      ]
     },
     "execution_count": 4,
     "metadata": {},
     "output_type": "execute_result"
    }
   ],
   "source": [
    "packages[0].throughOwningMembership"
   ]
  },
  {
   "cell_type": "code",
   "execution_count": 5,
   "id": "6f289b8b-2332-4750-89fe-d10e56c7a339",
   "metadata": {},
   "outputs": [
    {
     "data": {
      "text/plain": [
       "[Trash Collection Efficiency Analysis «AnalysisCaseDefinition»]"
      ]
     },
     "execution_count": 5,
     "metadata": {},
     "output_type": "execute_result"
    }
   ],
   "source": [
    "analyses = \\\n",
    "    [ele for ele in packages[0].throughOwningMembership if ele._metatype == 'AnalysisCaseDefinition']\n",
    "analyses"
   ]
  },
  {
   "cell_type": "code",
   "execution_count": 6,
   "id": "a22ce583-1341-478b-bca4-0039862f70cd",
   "metadata": {},
   "outputs": [
    {
     "data": {
      "text/plain": [
       "Trash Removal Fleet: Trash Removal Fleet «ReferenceUsage»"
      ]
     },
     "execution_count": 6,
     "metadata": {},
     "output_type": "execute_result"
    }
   ],
   "source": [
    "analyses[0].throughSubjectMembership[0]"
   ]
  },
  {
   "cell_type": "code",
   "execution_count": 7,
   "id": "9b7dbbae-8581-43f4-a1d7-61e285453569",
   "metadata": {},
   "outputs": [
    {
     "data": {
      "text/plain": [
       "Trash Removal Fleet «PartDefinition»"
      ]
     },
     "execution_count": 7,
     "metadata": {},
     "output_type": "execute_result"
    }
   ],
   "source": [
    "fleet = analyses[0].throughSubjectMembership[0].throughFeatureTyping[0]\n",
    "fleet"
   ]
  },
  {
   "cell_type": "code",
   "execution_count": 8,
   "id": "c114257f-5ce7-4923-98da-eda2f7b89372",
   "metadata": {},
   "outputs": [
    {
     "data": {
      "text/plain": [
       "[Water Surface Trash Skimmer «PartDefinition»,\n",
       " Net-Based Skimmer «PartDefinition»,\n",
       " Trash Processor Mothership «PartDefinition»]"
      ]
     },
     "execution_count": 8,
     "metadata": {},
     "output_type": "execute_result"
    }
   ],
   "source": [
    "surface_skimmer = fleet.throughFeatureMembership[0].throughFeatureTyping[0].reverseSubclassification[0]\n",
    "fleet.throughFeatureMembership[0].throughFeatureTyping[0].reverseSubclassification"
   ]
  },
  {
   "cell_type": "code",
   "execution_count": 9,
   "id": "3c8a4bb3-84fc-490a-bd3a-f98c1bd73ec2",
   "metadata": {},
   "outputs": [
    {
     "data": {
      "text/plain": [
       "[Skim Trash: Skim Trash Def «PerformActionUsage»,\n",
       " Inlet Diameter: LengthValue «AttributeUsage»,\n",
       " Inlet Height: LengthValue «AttributeUsage»]"
      ]
     },
     "execution_count": 9,
     "metadata": {},
     "output_type": "execute_result"
    }
   ],
   "source": [
    "surface_skimmer.throughFeatureMembership"
   ]
  },
  {
   "cell_type": "code",
   "execution_count": 10,
   "id": "37d0d3dc-4a2d-4263-9ade-21ca941b2fe0",
   "metadata": {},
   "outputs": [
    {
     "data": {
      "text/plain": [
       "width «AttributeUsage»"
      ]
     },
     "execution_count": 10,
     "metadata": {},
     "output_type": "execute_result"
    }
   ],
   "source": [
    "build_from_feature_pattern(\n",
    "    owner=surface_skimmer,\n",
    "    name='width',\n",
    "    model=boat_data,\n",
    "    specific_fields = {},\n",
    "    feature_type=None,\n",
    "    direction=\"\",\n",
    "    metatype=\"AttributeUsage\",\n",
    "    connector_end = False,\n",
    ")"
   ]
  },
  {
   "cell_type": "code",
   "execution_count": 11,
   "id": "147777cc-c7b5-4a5f-a454-eb827b5345cf",
   "metadata": {},
   "outputs": [
    {
     "data": {
      "text/plain": [
       "[Skim Trash: Skim Trash Def «PerformActionUsage»,\n",
       " Inlet Diameter: LengthValue «AttributeUsage»,\n",
       " Inlet Height: LengthValue «AttributeUsage»,\n",
       " width «AttributeUsage»]"
      ]
     },
     "execution_count": 11,
     "metadata": {},
     "output_type": "execute_result"
    }
   ],
   "source": [
    "surface_skimmer.throughFeatureMembership"
   ]
  },
  {
   "cell_type": "code",
   "execution_count": 12,
   "id": "9603c5f5-c84c-4e5a-a28b-2e96e5c65a62",
   "metadata": {},
   "outputs": [
    {
     "data": {
      "text/plain": [
       "Inlet Diameter: LengthValue «AttributeUsage»"
      ]
     },
     "execution_count": 12,
     "metadata": {},
     "output_type": "execute_result"
    }
   ],
   "source": [
    "surface_skimmer.throughFeatureMembership[1]"
   ]
  },
  {
   "cell_type": "code",
   "execution_count": null,
   "id": "5d6d8d97-ea56-4014-8af5-2894e087b699",
   "metadata": {},
   "outputs": [],
   "source": []
  }
 ],
 "metadata": {
  "kernelspec": {
   "display_name": "Python 3 (ipykernel)",
   "language": "python",
   "name": "python3"
  },
  "language_info": {
   "codemirror_mode": {
    "name": "ipython",
    "version": 3
   },
   "file_extension": ".py",
   "mimetype": "text/x-python",
   "name": "python",
   "nbconvert_exporter": "python",
   "pygments_lexer": "ipython3",
   "version": "3.9.6"
  }
 },
 "nbformat": 4,
 "nbformat_minor": 5
}
