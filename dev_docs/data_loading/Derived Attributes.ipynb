{
 "cells": [
  {
   "cell_type": "markdown",
   "id": "ddb162ad-0fcc-467f-911d-e63371993ba3",
   "metadata": {},
   "source": [
    "# Manipulating Derived Attributes\n",
    "\n",
    "This notebook works through loading data from prime attributes (those with literal values in the serialization) and derived attributes (those that are derived through reference to others). Because SysML v2 makes derived attributes come from the Relationships between non-Relationship elements, the Relationships will be examined first."
   ]
  },
  {
   "cell_type": "code",
   "execution_count": null,
   "id": "c104eb5f-19a7-44c0-aa68-5399e81b6c1a",
   "metadata": {},
   "outputs": [],
   "source": [
    "import json\n",
    "from collections import defaultdict\n",
    "from dataclasses import dataclass, field\n",
    "from typing import Any, Dict, List, Set, Tuple, Union\n",
    "from uuid import uuid4\n",
    "from warnings import warn"
   ]
  },
  {
   "cell_type": "markdown",
   "id": "6b36a0f7-3e21-478c-9bd0-c25dcc822f16",
   "metadata": {},
   "source": [
    "## Important Infrastructure\n",
    "\n",
    "This section covers major pieces of coding infrastructure that will be used in the rest of the methods in this notebook."
   ]
  },
  {
   "cell_type": "markdown",
   "id": "5692ff61-43aa-460f-a03b-2d369b20d10c",
   "metadata": {},
   "source": [
    "### Referencing Items by Their Name Rather than Index"
   ]
  },
  {
   "cell_type": "code",
   "execution_count": null,
   "id": "7e71d3a6-1d98-44c7-ad97-4849db31961d",
   "metadata": {},
   "outputs": [],
   "source": [
    "class ListOfNamedItems(list):\n",
    "    \"\"\"A list that also can return items by their name.\"\"\"\n",
    "    \n",
    "    # FIXME: Should really build/update the item map on entry modification rather than lookup\n",
    "    \n",
    "    # FIXME: figure out why __dir__ of returned objects think they are lists\n",
    "    def __getitem__(self, key):\n",
    "        item_map = {\n",
    "            item.name: item\n",
    "            for item in self\n",
    "            if isinstance(item, Element) and hasattr(item, \"name\")\n",
    "        }\n",
    "        effective_item_map = {\n",
    "            item.effectiveName: item\n",
    "            for item in self\n",
    "            if isinstance(item, Element) and hasattr(item, \"effectiveName\")\n",
    "        }\n",
    "        if key in item_map:\n",
    "            if printing_level == \"TRACE\":\n",
    "                print(f\"Adding {item_map[key]} to list index.\")\n",
    "            return item_map[key]\n",
    "        if key in effective_item_map:\n",
    "            if printing_level == \"TRACE\":\n",
    "                print(f\"Adding {effective_item_map[key]} to list index.\")\n",
    "            return effective_item_map[key]\n",
    "        if isinstance(key, int):\n",
    "            return super().__getitem__(key)\n",
    "        return None"
   ]
  },
  {
   "cell_type": "markdown",
   "id": "6163a87c-14ab-4d73-a309-5a9456f00adb",
   "metadata": {},
   "source": [
    "### ID reference format\n",
    "\n",
    "The serialized JSON files will present IDs as a single entry dictionary of the form {'@id': uuid}."
   ]
  },
  {
   "cell_type": "code",
   "execution_count": null,
   "id": "83a394c6-14e5-4e7b-98fc-f741d0d8d365",
   "metadata": {},
   "outputs": [],
   "source": [
    "def is_id_item(item):\n",
    "    is_unit_item = isinstance(item, dict) and item['@id'] is not None and isinstance(item['@id'], str)\n",
    "    if is_unit_item:\n",
    "        return True\n",
    "    is_list_item = False\n",
    "    if isinstance(item, list):\n",
    "        for actual_item in item:\n",
    "            if isinstance(actual_item, dict) and actual_item['@id'] is not None and isinstance(actual_item['@id'], str):\n",
    "                return True\n",
    "        \n",
    "    return False"
   ]
  },
  {
   "cell_type": "markdown",
   "id": "338d3f26-5e26-4e43-bcfb-bac722d389bf",
   "metadata": {},
   "source": [
    "## Model Element Lookup\n",
    "\n",
    "Tracing relationships requires the ability to look up Elements from a master register."
   ]
  },
  {
   "cell_type": "markdown",
   "id": "378941fb-ec31-473c-9d4f-1faa5edfa550",
   "metadata": {},
   "source": [
    "### Model Register\n",
    "\n",
    "This class provides the ability to look up the set of loaded elements. This is set up as a class to support large models in case not the entire list of items can be stored in memory."
   ]
  },
  {
   "cell_type": "code",
   "execution_count": null,
   "id": "aaec299a-8443-407c-b968-74b0162b794e",
   "metadata": {},
   "outputs": [],
   "source": [
    "@dataclass\n",
    "class ModelRegistry():\n",
    "    \n",
    "    _elements: Dict[str, \"Element\"] = field(default_factory=dict)\n",
    "    _id_list: List[str] = field(default_factory=list)\n",
    "    \n",
    "    def get(self, ele_id: str):\n",
    "        return self._elements[ele_id]\n",
    "    \n",
    "    def get_all_of_metatype(self, metatype: str):\n",
    "        return [ele for ele in self._elements.values() if ele._metatype == metatype]\n",
    "        \n",
    "    def get_all_ids(self):\n",
    "        return self._id_list\n",
    "    \n",
    "    def add(self, ele):\n",
    "        self._id_list.append(ele._id)\n",
    "        self._elements.update({ele._id: ele}) "
   ]
  },
  {
   "cell_type": "markdown",
   "id": "fda3efb9-55c7-4bb5-b7dd-26d812a214ac",
   "metadata": {},
   "source": [
    "## Prime Attribute Loading\n",
    "\n",
    "The following section goes over the primary attributes that are to be loaded from and saved back to serializations of non-relationship elements."
   ]
  },
  {
   "cell_type": "markdown",
   "id": "35795234-9972-4b25-b87e-121e23d0b421",
   "metadata": {},
   "source": [
    "### Partial Class\n",
    "\n",
    "The Element class below has just the properties needed for this section."
   ]
  },
  {
   "cell_type": "code",
   "execution_count": null,
   "id": "4d58bd7a-229a-4c24-93d1-f5eab1b94f66",
   "metadata": {},
   "outputs": [],
   "source": [
    "@dataclass\n",
    "class Element:\n",
    "    \"\"\"Partial class to cover needs for lazy loading and derived attribute calculation methods.\"\"\"\n",
    "    \n",
    "    to_lazy_derive: bool = True\n",
    "    \n",
    "    \"\"\"The list of relationships which have this Element as a source\"\"\"\n",
    "    source_to_relationships: Set[str] = field(default_factory=set)\n",
    "    \"\"\"The list of relationships which have this Element as a target\"\"\"\n",
    "    target_to_relationships: Set[str] = field(default_factory=set)"
   ]
  },
  {
   "cell_type": "code",
   "execution_count": null,
   "id": "6c856a81-b8c6-4b29-b9fb-35bc3a5b3d28",
   "metadata": {},
   "outputs": [],
   "source": [
    "def primary_fields():\n",
    "    primary_fields = (\"elementId\", \"name\", \"effectiveName\", \"body\", \"isAbstract\", \n",
    "                      \"isUnique\", \"isOrdered\", \"isComposite\", \"isEnd\", \"@type\", \"@id\")\n",
    "    \n",
    "    return primary_fields"
   ]
  },
  {
   "cell_type": "code",
   "execution_count": null,
   "id": "fe14a8ea-fc91-4e35-957a-24a74716a14a",
   "metadata": {},
   "outputs": [],
   "source": [
    "def load_primary_attributes(element=None, data={}):\n",
    "    \n",
    "    for d_key, d_val in data.items():\n",
    "        if d_key in primary_fields():\n",
    "            if d_key == \"@id\":\n",
    "                setattr(element, \"_id\", d_val)\n",
    "            elif d_key == \"@type\":\n",
    "                setattr(element, \"_metatype\", d_val)\n",
    "            else:\n",
    "                setattr(element, d_key, d_val)"
   ]
  },
  {
   "cell_type": "code",
   "execution_count": null,
   "id": "7e8af00f-b281-45c7-a1fe-2749f05c6423",
   "metadata": {},
   "outputs": [],
   "source": [
    "def is_relationship(data):\n",
    "    return \"relatedElement\" in data"
   ]
  },
  {
   "cell_type": "markdown",
   "id": "74a63fb0-5c23-448f-98c0-48c4d5b7d669",
   "metadata": {
    "tags": []
   },
   "source": [
    "## Relationship Attribute Loading\n",
    "\n",
    "Relationships can have reference attributes loaded, but only the most important ones. The rest can be derived or implied through the subsetting and redefinition rules."
   ]
  },
  {
   "cell_type": "code",
   "execution_count": null,
   "id": "0c57cb0e-122a-436f-bd2f-0159c0e6ddf7",
   "metadata": {},
   "outputs": [],
   "source": [
    "def relationship_fields():\n",
    "    \n",
    "    relationship_fields = (\"ownedRelatedElement\", \"ownedMemberElement\", \"owningRelatedElement\", \"ownedMemberFeature\", \"type\", \"typedFeature\")\n",
    "    \n",
    "    return relationship_fields"
   ]
  },
  {
   "cell_type": "code",
   "execution_count": null,
   "id": "2fb79498-2d4e-4f20-be6c-86fb653f8630",
   "metadata": {},
   "outputs": [],
   "source": [
    "def load_relationship_attributes(element=None, data={}):\n",
    "    \n",
    "    for d_key, d_val in data.items():\n",
    "        if d_key in relationship_fields() and is_id_item(d_val):\n",
    "            if isinstance(d_val, list):\n",
    "                flat_list = []\n",
    "                for d_ind_val in d_val:\n",
    "                    flat_list.append(d_ind_val['@id'])\n",
    "                setattr(element, d_key, flat_list)\n",
    "            else:\n",
    "                setattr(element, d_key, [d_val['@id']])"
   ]
  },
  {
   "cell_type": "code",
   "execution_count": null,
   "id": "aa286b46-2012-4221-a7f2-0fb53c094301",
   "metadata": {},
   "outputs": [],
   "source": [
    "def dereference_relationship_ends(rel=None, registry=None):\n",
    "    \n",
    "    for field in relationship_fields():\n",
    "        if hasattr(rel, field):\n",
    "            field_vals = getattr(rel, field)\n",
    "            need_reference = False\n",
    "            \n",
    "            # By this point, the relationship ends should all be lists, even if of length 1\n",
    "            if field_vals is not None and isinstance(field_vals, list) and isinstance(field_vals[0], str):\n",
    "                field_val_eles = []\n",
    "                for field_ind_val in field_vals:\n",
    "                    field_val_ele = registry.get(field_ind_val)\n",
    "                    field_val_eles.append(field_val_ele)\n",
    "                need_reference = True\n",
    "                \n",
    "            if need_reference:\n",
    "                setattr(rel, field, field_val_eles)"
   ]
  },
  {
   "cell_type": "markdown",
   "id": "2ba2af8f-86ca-4522-aa15-5a6428d7e114",
   "metadata": {},
   "source": [
    "## Loading Test\n",
    "\n",
    "These cells walk through testing against serialized model data from the Reference Implementation API."
   ]
  },
  {
   "cell_type": "code",
   "execution_count": null,
   "id": "f390e8ed-1462-4438-9555-e9e1d0831440",
   "metadata": {},
   "outputs": [],
   "source": [
    "with open('example_data/sysml_3a.json', 'r') as fp:\n",
    "    element_raw_data = json.load(fp)\n",
    "    \n",
    "printing_level = \"ERROR\""
   ]
  },
  {
   "cell_type": "code",
   "execution_count": null,
   "id": "964d037f-3b58-4908-9ed3-d724fb72cc80",
   "metadata": {},
   "outputs": [],
   "source": [
    "test_registry = ModelRegistry()\n",
    "\n",
    "# Pass 1 - get non-relationship element data\n",
    "for ele_data in element_raw_data:\n",
    "    new_ele = Element()\n",
    "    load_primary_attributes(element=new_ele, data=ele_data)\n",
    "    if is_relationship(ele_data):\n",
    "        load_relationship_attributes(element=new_ele, data=ele_data)\n",
    "    test_registry.add(new_ele)\n",
    "        \n",
    "# Pass 2 - get relationship element data and connect others\n",
    "for ele_data in element_raw_data:\n",
    "    if is_relationship(ele_data):\n",
    "        for source_ele in ele_data['source']:\n",
    "            test_registry.get(source_ele['@id']).source_to_relationships.add(ele_data['@id'])\n",
    "        for target_ele in ele_data['target']:\n",
    "            test_registry.get(target_ele['@id']).target_to_relationships.add(ele_data['@id'])\n",
    "        rel = test_registry.get(ele_data['@id'])\n",
    "        dereference_relationship_ends(rel=rel, registry=test_registry)"
   ]
  },
  {
   "cell_type": "code",
   "execution_count": null,
   "id": "045bb99a-60f2-480e-b883-804a2be36a75",
   "metadata": {},
   "outputs": [],
   "source": [
    "trial_items = test_registry.get_all_ids()[0:10]\n",
    "[test_registry.get(trial_item) for trial_item in trial_items]"
   ]
  },
  {
   "cell_type": "code",
   "execution_count": null,
   "id": "ea0c60b0-e6d3-45f2-8748-820869692617",
   "metadata": {},
   "outputs": [],
   "source": [
    "owning_memberships = test_registry.get_all_of_metatype(\"OwningMembership\")"
   ]
  },
  {
   "cell_type": "code",
   "execution_count": null,
   "id": "c58fc976-2208-4b62-a10a-63621aec39c2",
   "metadata": {},
   "outputs": [],
   "source": [
    "owning_memberships[0].ownedMemberElement"
   ]
  },
  {
   "cell_type": "markdown",
   "id": "4f36ff5a-5adc-4b17-8cbc-eed3ffad9cd4",
   "metadata": {},
   "source": [
    "## Derived Attribute Calculations"
   ]
  },
  {
   "cell_type": "markdown",
   "id": "b8f0f2a3-d1ba-4213-b96f-489b0dedcebe",
   "metadata": {},
   "source": [
    "### Owning Relationships\n",
    "\n",
    "ASSUMPTION: The relevant relationships are binary, one source, one target.\n",
    "\n",
    "The base ends for ownership are embedded in the root Relationship. Each Relationship has multiple \"ownedRelatedElement\" and \"owningRelatedElement\" fields. In practice, there is one of each in Relationships that specialize for ownership (e.g., OwningMembership, FeatureMembership, EndFeatureMembership)\n",
    "\n",
    "For all rel : Relationship\n",
    "\n",
    "sourceElement.ownedElement += rel.ownedRelatedElement\n",
    "\n",
    "targetElement.owner = rel.owningRelatedElement"
   ]
  },
  {
   "cell_type": "markdown",
   "id": "7963ba31-b87d-4c2a-95fe-a8b225bf1db7",
   "metadata": {},
   "source": [
    "### OwningMembership\n",
    "\n",
    "The OwningMembership is binary, and has a source and target. The source is the owningRelatedElement, while the target is the ownedMemberElement.\n",
    "\n",
    "Source implications:\n",
    "- redefined by membershipOwningNamespace\n",
    "- subsets membershipNamespace\n",
    "- subsets owningRelatedElement, which has opposite ownedMembership\n",
    "\n",
    "Target implications:\n",
    "- redefined by memberElement, ownedMemberElement\n",
    "- subsets ownedRelatedElement, which has opposite owningRelationship"
   ]
  },
  {
   "cell_type": "code",
   "execution_count": null,
   "id": "cf32fa83-d35e-4845-a92b-a308289a8a6d",
   "metadata": {},
   "outputs": [],
   "source": [
    "def source_side_resolve_owningmembership(registry=None, source_ele=None, rel=None):\n",
    "    if hasattr(source_ele, \"ownedElement\"):\n",
    "        source_ele.ownedElement.append(registry.get(rel.ownedRelatedElement[0]._id))\n",
    "    else:\n",
    "        setattr(source_ele, \"ownedElement\", ListOfNamedItems([registry.get(rel.ownedRelatedElement[0]._id)]))\n",
    "    if hasattr(source_ele, \"throughOwningMembership\"):\n",
    "        source_ele.throughOwningMembership.append(registry.get(rel.ownedRelatedElement[0]._id))\n",
    "    else:\n",
    "        setattr(source_ele, \"throughOwningMembership\", ListOfNamedItems([registry.get(rel.ownedRelatedElement[0]._id)]))"
   ]
  },
  {
   "cell_type": "code",
   "execution_count": null,
   "id": "2c2b3ad9-d588-40b6-8eeb-422d61bab331",
   "metadata": {},
   "outputs": [],
   "source": [
    "def target_side_resolve_owningmembership(registry=None, target_ele=None, rel=None):\n",
    "    setattr(target_ele, \"owner\", [registry.get(rel.owningRelatedElement[0]._id)])\n",
    "    \n",
    "    if hasattr(target_ele, \"reverseOwningMembership\"):\n",
    "        target_ele.reverseOwningMembership.append(registry.get(rel.owningRelatedElement[0]._id))\n",
    "    else:\n",
    "        setattr(target_ele, \"reverseOwningMembership\", [registry.get(rel.owningRelatedElement[0]._id)])"
   ]
  },
  {
   "cell_type": "code",
   "execution_count": null,
   "id": "012c15de-3bb6-439e-9494-a0a3bc8ac3bf",
   "metadata": {},
   "outputs": [],
   "source": [
    "trial_items = test_registry.get_all_ids()\n",
    "for trial_item in trial_items:\n",
    "    for source_rel in test_registry.get(trial_item).source_to_relationships:\n",
    "        if test_registry.get(source_rel)._metatype == \"OwningMembership\":\n",
    "            print('Resolving owned element for ' + trial_item)\n",
    "            source_side_resolve_owningmembership(registry=test_registry,\n",
    "                                                 source_ele=test_registry.get(trial_item),\n",
    "                                                 rel=test_registry.get(source_rel))"
   ]
  },
  {
   "cell_type": "code",
   "execution_count": null,
   "id": "a0936afb-0737-4bd9-97f9-aed67d4b86f1",
   "metadata": {},
   "outputs": [],
   "source": [
    "test_registry.get('0ae12f1c-e915-40b7-90dd-af4a62bf9e81').ownedElement"
   ]
  },
  {
   "cell_type": "code",
   "execution_count": null,
   "id": "9b6f7ff1-f640-42f5-9f4a-62755503d6e1",
   "metadata": {},
   "outputs": [],
   "source": [
    "[owned_ele.name for owned_ele in test_registry.get('0ae12f1c-e915-40b7-90dd-af4a62bf9e81').ownedElement]"
   ]
  },
  {
   "cell_type": "code",
   "execution_count": null,
   "id": "1c922fda-12d1-40c1-a032-fe73350a3a2e",
   "metadata": {},
   "outputs": [],
   "source": [
    "test_registry.get('0ae12f1c-e915-40b7-90dd-af4a62bf9e81').ownedElement[\"Transfer Torque\"]"
   ]
  },
  {
   "cell_type": "code",
   "execution_count": null,
   "id": "1c934fc1-9695-45f2-a972-4feb5e7caf8b",
   "metadata": {},
   "outputs": [],
   "source": [
    "test_registry.get('0ae12f1c-e915-40b7-90dd-af4a62bf9e81').name"
   ]
  },
  {
   "cell_type": "markdown",
   "id": "af8abd95-d639-43cb-a04f-62bee26de7b1",
   "metadata": {},
   "source": [
    "### FeaturingMembership\n",
    "\n",
    "The FeaturingMembership is binary, and has a source and target. The source is the owningRelatedElement, while the target is the ownedMemberElement.\n",
    "\n",
    "Source implications:\n",
    "- redefined by membershipOwningNamespace\n",
    "- subsets membershipNamespace\n",
    "- subsets owningRelatedElement, which has opposite ownedMembership\n",
    "\n",
    "Target implications:\n",
    "- redefined by ownedMemberFeature\n",
    "- subsets ownedRelatedElement, which has opposite owningRelationship"
   ]
  },
  {
   "cell_type": "code",
   "execution_count": null,
   "id": "3abcda0f-a8ee-4430-9740-1fe9ac8de667",
   "metadata": {},
   "outputs": [],
   "source": [
    "def source_side_resolve_featuremembership(registry=None, source_ele=None, rel=None):\n",
    "    if hasattr(source_ele, \"ownedElement\"):\n",
    "        source_ele.ownedElement.append(registry.get(rel.ownedMemberFeature[0]._id))\n",
    "    else:\n",
    "        setattr(source_ele, \"ownedElement\", ListOfNamedItems([registry.get(rel.ownedMemberFeature[0]._id)]))\n",
    "    if hasattr(source_ele, \"feature\"):\n",
    "        source_ele.feature.append(registry.get(rel.ownedMemberFeature[0]._id))\n",
    "    else:\n",
    "        setattr(source_ele, \"feature\", ListOfNamedItems([registry.get(rel.ownedMemberFeature[0]._id)]))\n",
    "    if hasattr(source_ele, \"throughFeatureMembership\"):\n",
    "        source_ele.throughFeatureMembership.append(registry.get(rel.ownedMemberFeature[0]._id))\n",
    "    else:\n",
    "        setattr(source_ele, \"throughFeatureMembership\", ListOfNamedItems([registry.get(rel.ownedMemberFeature[0]._id)]))"
   ]
  },
  {
   "cell_type": "code",
   "execution_count": null,
   "id": "1e12b35a-0ce7-4bde-8199-b984bc2b6c01",
   "metadata": {},
   "outputs": [],
   "source": [
    "def target_side_resolve_featuremembership(registry=None, target_ele=None, rel=None):\n",
    "    setattr(target_ele, \"owner\", [registry.get(rel.owningRelatedElement[0]._id)])\n",
    "    if hasattr(target_ele, \"reverseFeatureMembership\"):\n",
    "        target_ele.reverseOwningMembership.append(registry.get(rel.owningRelatedElement[0]._id))\n",
    "    else:\n",
    "        setattr(target_ele, \"reverseFeatureMembership\", [registry.get(rel.owningRelatedElement[0]._id)])"
   ]
  },
  {
   "cell_type": "code",
   "execution_count": null,
   "id": "ed3509ec-46ab-4907-baef-2911bbc859ff",
   "metadata": {},
   "outputs": [],
   "source": [
    "feature_memberships = test_registry.get_all_of_metatype(\"FeatureMembership\")"
   ]
  },
  {
   "cell_type": "code",
   "execution_count": null,
   "id": "fcc61927-eb6e-4739-a8e1-ebf19e917bd5",
   "metadata": {},
   "outputs": [],
   "source": [
    "feature_memberships[0].ownedMemberFeature[0]._id"
   ]
  },
  {
   "cell_type": "markdown",
   "id": "803a7890-ae5d-4cb3-8588-68bf96761b63",
   "metadata": {},
   "source": [
    "### FeatureTyping\n",
    "\n",
    "The FeatureTyping is binary, and has a source and target. The source is the type, while the target is the typedFeature.\n",
    "\n",
    "Source implications:\n",
    "- redefines specific\n",
    "\n",
    "Target implications:\n",
    "- redefines general"
   ]
  },
  {
   "cell_type": "code",
   "execution_count": null,
   "id": "6fdd53c7-c19c-4a21-8ccf-37fe2e991b3a",
   "metadata": {},
   "outputs": [],
   "source": [
    "def source_side_resolve_featuretyping(registry=None, source_ele=None, rel=None):\n",
    "    if hasattr(source_ele, \"type\"):\n",
    "        source_ele.ownedElement.append(registry.get(rel.type[0]._id))\n",
    "    else:\n",
    "        setattr(source_ele, \"type\", [registry.get(rel.type[0]._id)])\n",
    "    \n",
    "    if hasattr(source_ele, \"throughFeatureTyping\"):\n",
    "        source_ele.throughFeatureTyping.append(registry.get(rel.type[0]._id))\n",
    "    else:\n",
    "        setattr(source_ele, \"throughFeatureTyping\", ListOfNamedItems([registry.get(rel.type[0]._id)]))"
   ]
  },
  {
   "cell_type": "code",
   "execution_count": null,
   "id": "3757472f-741e-41bb-8c1f-52eb7e53c148",
   "metadata": {},
   "outputs": [],
   "source": [
    "def target_side_resolve_featuretyping(registry=None, target_ele=None, rel=None):\n",
    "    if hasattr(target_ele, \"typedFeature\"):\n",
    "        target_ele.typedFeature.append(registry.get(rel.typedFeature[0]._id))\n",
    "    else:\n",
    "        setattr(target_ele, \"typedFeature\", [registry.get(rel.typedFeature[0]._id)])\n",
    "    \n",
    "    if hasattr(target_ele, \"reverseFeatureTyping\"):\n",
    "        target_ele.reverseFeatureTyping.append(registry.get(rel.typedFeature[0]._id))\n",
    "    else:\n",
    "        setattr(target_ele, \"reverseFeatureTyping\", [registry.get(rel.typedFeature[0]._id)])"
   ]
  },
  {
   "cell_type": "markdown",
   "id": "48662a1b-bc07-4011-8e77-7325075f0250",
   "metadata": {},
   "source": [
    "## Enacting Lazy Evaluation\n",
    "\n",
    "The methods below allow Elements to perform a lazy evaluation of their derived attributes with respect to the relationships to which they are connected."
   ]
  },
  {
   "cell_type": "code",
   "execution_count": null,
   "id": "423a22c9-96e2-4aa2-ad71-1600a1363193",
   "metadata": {},
   "outputs": [],
   "source": [
    "def evaluate_derived_properties(ele=None, registry=None):\n",
    "    for source_rel_id in ele.source_to_relationships:\n",
    "        source_rel = registry.get(source_rel_id)\n",
    "        if source_rel._metatype == \"OwningMembership\":\n",
    "            source_side_resolve_owningmembership(registry=registry, source_ele=ele, rel=source_rel)\n",
    "        elif source_rel._metatype == \"FeatureMembership\":\n",
    "            source_side_resolve_featuremembership(registry=registry, source_ele=ele, rel=source_rel)\n",
    "        elif source_rel._metatype == \"FeatureTyping\":\n",
    "            source_side_resolve_featuretyping(registry=registry, source_ele=ele, rel=source_rel)\n",
    "    for target_rel_id in ele.target_to_relationships:\n",
    "        target_rel = registry.get(target_rel_id)\n",
    "        if target_rel._metatype == \"OwningMembership\":\n",
    "            target_side_resolve_owningmembership(registry=registry, target_ele=ele, rel=target_rel)\n",
    "        elif target_rel._metatype == \"FeatureMembership\":\n",
    "            target_side_resolve_featuremembership(registry=registry, target_ele=ele, rel=target_rel)\n",
    "        elif target_rel._metatype == \"FeatureTyping\":\n",
    "            target_side_resolve_featuretyping(registry=registry, target_ele=ele, rel=target_rel)"
   ]
  },
  {
   "cell_type": "code",
   "execution_count": null,
   "id": "b4ba3370-79a6-4b59-b5bc-95d013396905",
   "metadata": {},
   "outputs": [],
   "source": [
    "test_registry2 = ModelRegistry()\n",
    "\n",
    "# Pass 1 - get non-relationship element data\n",
    "for ele_data in element_raw_data:\n",
    "    new_ele = Element()\n",
    "    load_primary_attributes(element=new_ele, data=ele_data)\n",
    "    if is_relationship(ele_data):\n",
    "        load_relationship_attributes(element=new_ele, data=ele_data)\n",
    "    test_registry2.add(new_ele)\n",
    "        \n",
    "# Pass 2 - get relationship element data and connect others\n",
    "for ele_data in element_raw_data:\n",
    "    if is_relationship(ele_data):\n",
    "        \n",
    "        for source_ele in ele_data['source']:\n",
    "            test_registry2.get(source_ele['@id']).source_to_relationships.add(ele_data['@id'])\n",
    "        for target_ele in ele_data['target']:\n",
    "            test_registry2.get(target_ele['@id']).target_to_relationships.add(ele_data['@id'])\n",
    "            \n",
    "        rel = test_registry2.get(ele_data['@id'])\n",
    "        dereference_relationship_ends(rel=rel, registry=test_registry2)"
   ]
  },
  {
   "cell_type": "code",
   "execution_count": null,
   "id": "3bde05f9-1bfe-4c23-9bd2-73cc915ad875",
   "metadata": {},
   "outputs": [],
   "source": [
    "ele_to_derive = test_registry2.get('0ae12f1c-e915-40b7-90dd-af4a62bf9e81')"
   ]
  },
  {
   "cell_type": "code",
   "execution_count": null,
   "id": "d1b3b0a4-5131-4c68-b1b7-b82978536633",
   "metadata": {},
   "outputs": [],
   "source": [
    "hasattr(ele_to_derive, \"ownedElement\")"
   ]
  },
  {
   "cell_type": "code",
   "execution_count": null,
   "id": "fe9805bb-7c3b-42f7-8372-0424fc6c4fbf",
   "metadata": {},
   "outputs": [],
   "source": [
    "for trial_item in trial_items:\n",
    "    evaluate_derived_properties(ele=test_registry2.get(trial_item), registry=test_registry2)"
   ]
  },
  {
   "cell_type": "code",
   "execution_count": null,
   "id": "462a83e8-f151-40bd-8786-a5656549f565",
   "metadata": {},
   "outputs": [],
   "source": [
    "ele_to_derive.owner[0].name"
   ]
  },
  {
   "cell_type": "code",
   "execution_count": null,
   "id": "d907b36a-18e0-486e-aafc-8ba81d5aa45f",
   "metadata": {},
   "outputs": [],
   "source": [
    "ele_to_derive.throughOwningMembership"
   ]
  },
  {
   "cell_type": "code",
   "execution_count": null,
   "id": "21fb802f-c69d-41c5-9a35-ef324096d553",
   "metadata": {},
   "outputs": [],
   "source": [
    "ele_to_derive.reverseOwningMembership"
   ]
  },
  {
   "cell_type": "code",
   "execution_count": null,
   "id": "d1c1e2e2-b996-499b-896a-71166fc62b79",
   "metadata": {},
   "outputs": [],
   "source": [
    "[feature.name for feature in test_registry2.get_all_of_metatype(\"FeatureMembership\")[2].ownedMemberFeature]"
   ]
  },
  {
   "cell_type": "code",
   "execution_count": null,
   "id": "264c867a-4093-4db0-b956-82711e740e37",
   "metadata": {},
   "outputs": [],
   "source": [
    "example_ele_with_feature = [feature for feature in test_registry2.get_all_of_metatype(\"FeatureMembership\")[2].owningRelatedElement][0]"
   ]
  },
  {
   "cell_type": "code",
   "execution_count": null,
   "id": "4b48fa64-544d-4eb4-af3e-e0a2a84f9d12",
   "metadata": {},
   "outputs": [],
   "source": [
    "example_ele_with_feature.ownedElement[\"engineStarted\"].name"
   ]
  },
  {
   "cell_type": "code",
   "execution_count": null,
   "id": "01d8cc61-796f-4ef5-a3bc-9a0a0345f232",
   "metadata": {},
   "outputs": [],
   "source": [
    "example_ele_with_feature.feature[\"engineStarted\"].name"
   ]
  },
  {
   "cell_type": "code",
   "execution_count": null,
   "id": "8e05ecc7-985a-4e7e-ad5e-ba690ca0f46a",
   "metadata": {},
   "outputs": [],
   "source": [
    "example_ele_with_feature.feature[\"engineStarted\"]"
   ]
  },
  {
   "cell_type": "code",
   "execution_count": null,
   "id": "337112f0-a116-4d58-85e5-00401f4ae7b7",
   "metadata": {},
   "outputs": [],
   "source": [
    "[f\"{feature.typedFeature[0].name}: {feature.type[0].name}\"  for feature in test_registry2.get_all_of_metatype(\"FeatureTyping\")]"
   ]
  },
  {
   "cell_type": "code",
   "execution_count": null,
   "id": "9994ca5c-f112-435c-8471-f393ff9bf57a",
   "metadata": {},
   "outputs": [],
   "source": [
    "test_registry2.get_all_of_metatype(\"FeatureTyping\")[4].typedFeature[0].type[0].name"
   ]
  },
  {
   "cell_type": "code",
   "execution_count": null,
   "id": "c974e618-e8b0-4b7c-b65f-6598cdd6b898",
   "metadata": {},
   "outputs": [],
   "source": [
    "test_registry2.get_all_of_metatype(\"FeatureTyping\")[4].typedFeature[0].name"
   ]
  },
  {
   "cell_type": "code",
   "execution_count": null,
   "id": "94bdb3aa-3ec4-443c-b10c-945bb65995a5",
   "metadata": {},
   "outputs": [],
   "source": []
  }
 ],
 "metadata": {
  "kernelspec": {
   "display_name": "Python 3 (ipykernel)",
   "language": "python",
   "name": "python3"
  },
  "language_info": {
   "codemirror_mode": {
    "name": "ipython",
    "version": 3
   },
   "file_extension": ".py",
   "mimetype": "text/x-python",
   "name": "python",
   "nbconvert_exporter": "python",
   "pygments_lexer": "ipython3",
   "version": "3.9.13"
  }
 },
 "nbformat": 4,
 "nbformat_minor": 5
}
