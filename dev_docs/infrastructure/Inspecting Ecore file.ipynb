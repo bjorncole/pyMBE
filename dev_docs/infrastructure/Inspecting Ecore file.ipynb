{
 "cells": [
  {
   "cell_type": "markdown",
   "id": "b3ed7bf1-c2d5-48c3-8d13-fd214b1bc2f7",
   "metadata": {},
   "source": [
    "# Inspecting Ecore file for SysML v2 Metamodel\n",
    "\n",
    "This notebook steps through a couple of different methods for loading up the SysML v2 Ecore metamodel. One with a library called pyEcore and another just using the raw lxml library. The notebook also exports the model as static metadata for PyMBE to use to correctly build model elements."
   ]
  },
  {
   "cell_type": "code",
   "execution_count": null,
   "id": "1f9657b1-fe77-4425-8c4f-6053633d28fa",
   "metadata": {},
   "outputs": [],
   "source": [
    "import json"
   ]
  },
  {
   "cell_type": "code",
   "execution_count": null,
   "id": "ad4bc225-0137-49bf-ad4d-61dd6062e5c5",
   "metadata": {},
   "outputs": [],
   "source": [
    "from pyecore.resources import ResourceSet, URI\n",
    "from pyecore.ecore import EClass, EAttribute, EString, EObject, EProxy, EEnum"
   ]
  },
  {
   "cell_type": "code",
   "execution_count": null,
   "id": "8092acf8-1f5c-4c8f-a153-7e808dad19cc",
   "metadata": {},
   "outputs": [],
   "source": [
    "# From the quick start for PyEcore to load a file into the metaclass model\n",
    "\n",
    "rset = ResourceSet()\n",
    "kerml_resource = rset.get_resource(URI('metamodel/kerml.ecore'))\n",
    "kerml_root = kerml_resource.contents[0]\n",
    "rset.metamodel_registry[kerml_root.nsURI] = kerml_root\n",
    "\n",
    "rset = ResourceSet()\n",
    "sysml_resource = rset.get_resource(URI('metamodel/SysML.ecore'))\n",
    "sysml_root = sysml_resource.contents[0]\n",
    "rset.metamodel_registry[sysml_root.nsURI] = sysml_root\n",
    "\n",
    "types_resource = rset.get_resource(URI('metamodel/types.ecore'))\n",
    "types_root = types_resource.contents[0]\n",
    "rset.metamodel_registry[types_root.nsURI] = types_root"
   ]
  },
  {
   "cell_type": "code",
   "execution_count": null,
   "id": "d73406af-7b54-452e-8062-723e1028b57c",
   "metadata": {},
   "outputs": [],
   "source": [
    "kerml_root"
   ]
  },
  {
   "cell_type": "markdown",
   "id": "1dabba1b-f860-4012-adbe-ae0783ab4d4e",
   "metadata": {},
   "source": [
    "Determine what the fields for an EPackage in this framework are:"
   ]
  },
  {
   "cell_type": "code",
   "execution_count": null,
   "id": "7b5f973b-28ac-40a1-9e0c-7b6960a60c25",
   "metadata": {},
   "outputs": [],
   "source": [
    "dir(kerml_root)"
   ]
  },
  {
   "cell_type": "code",
   "execution_count": null,
   "id": "f3d9eb2b-9ada-44b3-afcf-c73b1645b462",
   "metadata": {},
   "outputs": [],
   "source": [
    "all_classes = sysml_root.eClassifiers\n",
    "all_classes"
   ]
  },
  {
   "cell_type": "markdown",
   "id": "4beb2e27-e086-4941-87b4-cef0e6500af4",
   "metadata": {},
   "source": [
    "Determine what the fields for an EClass in this framework are:"
   ]
  },
  {
   "cell_type": "code",
   "execution_count": null,
   "id": "bb1a4d83-9325-4b47-aaad-85e910f58daa",
   "metadata": {},
   "outputs": [],
   "source": [
    "dir(all_classes[0])"
   ]
  },
  {
   "cell_type": "code",
   "execution_count": null,
   "id": "28a9644d-299a-4b0b-9134-21066560e5ef",
   "metadata": {},
   "outputs": [],
   "source": [
    "def get_eclass(eclass_name):\n",
    "    return [the_class for the_class in all_classes if the_class.name == eclass_name][0]"
   ]
  },
  {
   "cell_type": "code",
   "execution_count": null,
   "id": "6a12c061-bd88-460a-a440-919b1a0aabff",
   "metadata": {},
   "outputs": [],
   "source": [
    "owning_membership = [the_class for the_class in all_classes if the_class.name == \"OwningMembership\"][0]"
   ]
  },
  {
   "cell_type": "code",
   "execution_count": null,
   "id": "b06f8c61-2212-47c6-a286-52e03fd29308",
   "metadata": {},
   "outputs": [],
   "source": [
    "owning_membership"
   ]
  },
  {
   "cell_type": "code",
   "execution_count": null,
   "id": "5998c1cc-1a8b-4f73-863f-356866b980e7",
   "metadata": {},
   "outputs": [],
   "source": [
    "owning_membership.eAttributes"
   ]
  },
  {
   "cell_type": "code",
   "execution_count": null,
   "id": "a23ffa48-0ddc-4881-bfb1-e3b9b5cad8d4",
   "metadata": {},
   "outputs": [],
   "source": [
    "owning_membership.eReferences"
   ]
  },
  {
   "cell_type": "code",
   "execution_count": null,
   "id": "f7d8e49c-9558-470b-b5a7-0203812af2c9",
   "metadata": {},
   "outputs": [],
   "source": [
    "owning_membership.eAttributes[0]"
   ]
  },
  {
   "cell_type": "code",
   "execution_count": null,
   "id": "b5407d0b-5baf-479a-89d8-6fa0181e662f",
   "metadata": {},
   "outputs": [],
   "source": [
    "dir(owning_membership.eAttributes[0])"
   ]
  },
  {
   "cell_type": "code",
   "execution_count": null,
   "id": "6336b9b0-3737-449d-8cb5-ebc1b8273e5d",
   "metadata": {},
   "outputs": [],
   "source": [
    "owning_membership.eAttributes[0].derived"
   ]
  },
  {
   "cell_type": "code",
   "execution_count": null,
   "id": "113d1aa0-af94-4774-976a-1a28ab9336eb",
   "metadata": {},
   "outputs": [],
   "source": [
    "attr_type = None\n",
    "if isinstance(owning_membership.eAttributes[0].eType, EProxy):\n",
    "    attr_type = owning_membership.eAttributes[0].eType.force_resolve()\n",
    "else:\n",
    "    attr_type = owning_membership.eAttributes[0].eType"
   ]
  },
  {
   "cell_type": "code",
   "execution_count": null,
   "id": "383aedc1-3c70-4f73-9659-00d317c7db18",
   "metadata": {},
   "outputs": [],
   "source": [
    "attr_type.name"
   ]
  },
  {
   "cell_type": "code",
   "execution_count": null,
   "id": "130d0408-9cff-45f8-87a7-6fc035827162",
   "metadata": {},
   "outputs": [],
   "source": [
    "[super_type.name for super_type in all_classes[1].eAllSuperTypes()]"
   ]
  },
  {
   "cell_type": "code",
   "execution_count": null,
   "id": "dc208283-b413-4cba-9e34-0a5514e52691",
   "metadata": {},
   "outputs": [],
   "source": [
    "owning_membership.eAllAttributes()"
   ]
  },
  {
   "cell_type": "code",
   "execution_count": null,
   "id": "41ffd508-2c77-4546-8111-b618775cf6d1",
   "metadata": {},
   "outputs": [],
   "source": [
    "owning_membership.eAllReferences()"
   ]
  },
  {
   "cell_type": "code",
   "execution_count": null,
   "id": "7359b156-cbee-4af3-ab27-fa9c0c23fcba",
   "metadata": {},
   "outputs": [],
   "source": [
    "def element_has_feature_by_name(element, name):\n",
    "    all_refs = element.eAllReferences()\n",
    "    all_atts = element.eAllAttributes()\n",
    "    \n",
    "    for ref in all_refs:\n",
    "        if ref.name == name:\n",
    "            return True\n",
    "        \n",
    "    for att in all_atts:\n",
    "        if att.name == name:\n",
    "            return True\n",
    "        \n",
    "    return False"
   ]
  },
  {
   "cell_type": "code",
   "execution_count": null,
   "id": "d3972e68-1453-494b-91b5-a2c0bd0e1e6a",
   "metadata": {},
   "outputs": [],
   "source": [
    "element_has_feature_by_name(owning_membership, \"relatedElement\")"
   ]
  },
  {
   "cell_type": "code",
   "execution_count": null,
   "id": "758c2559-a39f-4a35-b7fb-78fa7e7a1e14",
   "metadata": {},
   "outputs": [],
   "source": [
    "def layout_features(element):\n",
    "    \n",
    "    all_refs = element.eAllReferences()\n",
    "    all_atts = element.eAllAttributes()\n",
    "    \n",
    "    local_refs = element.eReferences\n",
    "    local_atts = element.eAttributes\n",
    "    \n",
    "    feature_dict = {\n",
    "        ref.name: {\n",
    "            'inherited': ref not in local_refs,\n",
    "            'derived': ref.derived,\n",
    "            'kind': ref.eType.force_resolve().name if isinstance(ref.eType, EProxy) else ref.eType.name,\n",
    "            'is_reference': True,\n",
    "            'lower_bound': ref.lowerBound,\n",
    "            'upper_bound': ref.upperBound,\n",
    "        }\n",
    "        for ref in all_refs\n",
    "    } | {\n",
    "        att.name: {\n",
    "            'inherited': att not in local_atts,\n",
    "            'derived': att.derived,\n",
    "            'kind': att.eType.force_resolve().name if isinstance(att.eType, EProxy) else att.eType.name,\n",
    "            'is_reference': False,\n",
    "            'lower_bound': att.lowerBound,\n",
    "            'upper_bound': att.upperBound,\n",
    "        }\n",
    "        for att in all_atts\n",
    "    }\n",
    "    \n",
    "    return feature_dict"
   ]
  },
  {
   "cell_type": "code",
   "execution_count": null,
   "id": "62961e22-3a23-4197-93cf-88b02f4a2465",
   "metadata": {},
   "outputs": [],
   "source": [
    "layout_features(owning_membership)"
   ]
  },
  {
   "cell_type": "code",
   "execution_count": null,
   "id": "85d578e9-d95e-43c0-95d0-2bddee20f0ee",
   "metadata": {},
   "outputs": [],
   "source": [
    "def get_primary_attributes(eclass_name):\n",
    "    eclass = get_eclass(eclass_name)\n",
    "    \n",
    "    all_features = layout_features(eclass)\n",
    "    \n",
    "    primary_features = {name: feature for name, feature in all_features.items() if not feature['derived']}\n",
    "    \n",
    "    return primary_features"
   ]
  },
  {
   "cell_type": "code",
   "execution_count": null,
   "id": "bf4595eb-0586-4531-b4ff-9f02d2216969",
   "metadata": {},
   "outputs": [],
   "source": [
    "def get_derived_attributes(eclass_name):\n",
    "    eclass = get_eclass(eclass_name)\n",
    "    \n",
    "    all_features = layout_features(eclass)\n",
    "    \n",
    "    primary_features = {name: feature for name, feature in all_features.items() if feature['derived']}\n",
    "    \n",
    "    return primary_features"
   ]
  },
  {
   "cell_type": "code",
   "execution_count": null,
   "id": "7a405162-cba0-4691-84a0-a96b650f2361",
   "metadata": {},
   "outputs": [],
   "source": [
    "layout_features(get_eclass(\"OwningMembership\"))"
   ]
  },
  {
   "cell_type": "code",
   "execution_count": null,
   "id": "6b3102e6-e1bb-4e46-abeb-da2360cc5037",
   "metadata": {},
   "outputs": [],
   "source": [
    "layout_features(get_eclass(\"PartUsage\"))"
   ]
  },
  {
   "cell_type": "code",
   "execution_count": null,
   "id": "94724106-e7f0-4bc0-bef6-c28d273e5a38",
   "metadata": {},
   "outputs": [],
   "source": [
    "def find_all_sub_types(element):\n",
    "    # go through all of the meta-elements in the Ecore and find the ones that have the \n",
    "    # element given as an argument as one of their super types\n",
    "    \n",
    "    sub_types = []\n",
    "    \n",
    "    all_classes = sysml_root.eClassifiers\n",
    "    for clz in all_classes:\n",
    "        if not isinstance(clz, EEnum):\n",
    "            if element in clz.eAllSuperTypes():\n",
    "                sub_types.append(clz)\n",
    "            \n",
    "    return sub_types"
   ]
  },
  {
   "cell_type": "code",
   "execution_count": null,
   "id": "364fa7bc-2d7a-47fb-95bc-98d85160cbe2",
   "metadata": {},
   "outputs": [],
   "source": [
    "find_all_sub_types(get_eclass(\"OwningMembership\"))"
   ]
  },
  {
   "cell_type": "code",
   "execution_count": null,
   "id": "a116ca20-e53a-4941-84fa-8eb37d21a220",
   "metadata": {},
   "outputs": [],
   "source": [
    "get_primary_attributes(\"PartDefinition\")"
   ]
  },
  {
   "cell_type": "code",
   "execution_count": null,
   "id": "ed384b00-cc5f-4f9f-8817-a59ac6a1641f",
   "metadata": {},
   "outputs": [],
   "source": [
    "get_derived_attributes(\"PartUsage\")"
   ]
  },
  {
   "cell_type": "code",
   "execution_count": null,
   "id": "e1ce2b43-5893-4934-832f-2a6a44a217e5",
   "metadata": {},
   "outputs": [],
   "source": [
    "get_primary_attributes(\"OwningMembership\")"
   ]
  },
  {
   "cell_type": "code",
   "execution_count": null,
   "id": "a6755302-f79b-47f3-8ac2-a583a1224c1d",
   "metadata": {},
   "outputs": [],
   "source": [
    "get_primary_attributes(\"Membership\")"
   ]
  },
  {
   "cell_type": "code",
   "execution_count": null,
   "id": "7ded0f5a-385d-4f6a-a363-6f4ab2ba6269",
   "metadata": {},
   "outputs": [],
   "source": [
    "get_primary_attributes(\"Specialization\")"
   ]
  },
  {
   "cell_type": "code",
   "execution_count": null,
   "id": "3b6ff523-781e-4bb0-bac7-2691157829a3",
   "metadata": {},
   "outputs": [],
   "source": [
    "get_primary_attributes(\"FeatureTyping\")"
   ]
  },
  {
   "cell_type": "code",
   "execution_count": null,
   "id": "804500b2-36ac-4e65-b262-fe2eb490d849",
   "metadata": {},
   "outputs": [],
   "source": [
    "attributes_dict = {k.name:get_primary_attributes(k.name) for k in all_classes if isinstance(k, EClass)}"
   ]
  },
  {
   "cell_type": "code",
   "execution_count": null,
   "id": "1da5436a-ddbc-4d92-8971-464fe6f54ceb",
   "metadata": {},
   "outputs": [],
   "source": [
    "# want layout_features on all metaclasses in kerml, sysml\n",
    "sysml_classes = [k for k in sysml_root.eClassifiers if isinstance(k, EClass)]\n",
    "kerml_classes = [k for k in kerml_root.eClassifiers if isinstance(k, EClass)] \n",
    "\n",
    "sysml_classes[2].name"
   ]
  },
  {
   "cell_type": "code",
   "execution_count": null,
   "id": "715b8d14-d46a-4994-8746-8d8b04229c90",
   "metadata": {},
   "outputs": [],
   "source": [
    "with open(\"metamodel/attribute_metadata.json\",\"w\") as file1:\n",
    "    all_classes = [k for k in sysml_root.eClassifiers if isinstance(k, EClass)] + \\\n",
    "        [k for k in kerml_root.eClassifiers if isinstance(k, EClass)]\n",
    "    \n",
    "    metamodel_data = {clz.name: layout_features(clz) for clz in all_classes}\n",
    "    \n",
    "    json.dump(metamodel_data, file1)"
   ]
  }
 ],
 "metadata": {
  "kernelspec": {
   "display_name": "Python 3 (ipykernel)",
   "language": "python",
   "name": "python3"
  },
  "language_info": {
   "codemirror_mode": {
    "name": "ipython",
    "version": 3
   },
   "file_extension": ".py",
   "mimetype": "text/x-python",
   "name": "python",
   "nbconvert_exporter": "python",
   "pygments_lexer": "ipython3",
   "version": "3.9.6"
  }
 },
 "nbformat": 4,
 "nbformat_minor": 5
}
