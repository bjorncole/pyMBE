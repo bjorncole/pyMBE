{
 "cells": [
  {
   "cell_type": "markdown",
   "id": "617450a5-686f-4cab-bea0-02d1bea94c2d",
   "metadata": {},
   "source": [
    "# Loading from File Sources\n",
    "\n",
    "This notebook walks through the facilities that currently exist for loading up models from JSON files, as well as runs relevant unit tests."
   ]
  },
  {
   "cell_type": "code",
   "execution_count": 19,
   "id": "05c3a60d-3481-4ac3-b1af-fab31b8bc3cb",
   "metadata": {},
   "outputs": [],
   "source": [
    "import inspect\n",
    "import pytest\n",
    "import sys\n",
    "\n",
    "import pymbe.api as pm\n",
    "from pymbe.model import Model\n",
    "\n",
    "import os\n",
    "\n",
    "from os import path"
   ]
  },
  {
   "cell_type": "code",
   "execution_count": 28,
   "id": "9af61eb7-145f-4e2f-af97-ff4fdfd1b19f",
   "metadata": {},
   "outputs": [
    {
     "data": {
      "text/plain": [
       "[('__eq__', <function pymbe.model.__create_fn__.<locals>.__eq__(self, other)>),\n",
       " ('__init__',\n",
       "  <function pymbe.model.__create_fn__.<locals>.__init__(self, elements: Dict[str, ForwardRef('Element')], name: str = 'SysML v2 Model', all_relationships: Dict[str, ForwardRef('Element')] = <factory>, all_non_relationships: Dict[str, ForwardRef('Element')] = <factory>, ownedElement: pymbe.model.ListOfNamedItems = <factory>, ownedMetatype: Dict[str, List[ForwardRef('Element')]] = <factory>, ownedRelationship: List[ForwardRef('Element')] = <factory>, source: Any = None, _api: pymbe.model.ModelClient = None, _initializing: bool = True, _naming: pymbe.model.Naming = <Naming.LABEL: 'label'>, _labeling: pymbe.model.Naming = <Naming.LABEL: 'label'>, metamodel: pymbe.metamodel.MetaModel = None, _referenced_models: List[ForwardRef('Model')] = <factory>, _metamodel_hints: Dict[str, List[List[str]]] = <factory>) -> None>),\n",
       " ('__post_init__', <function pymbe.model.Model.__post_init__(self)>),\n",
       " ('__repr__', <function pymbe.model.Model.__repr__(self) -> str>),\n",
       " ('_add_element',\n",
       "  <function pymbe.model.Model._add_element(self, element: 'Element') -> 'Element'>),\n",
       " ('_add_labels', <function pymbe.model.Model._add_labels(self, *elements)>),\n",
       " ('_add_owned', <function pymbe.model.Model._add_owned(self)>),\n",
       " ('_add_relationship',\n",
       "  <function pymbe.model.Model._add_relationship(self, relationship)>),\n",
       " ('_add_relationships', <function pymbe.model.Model._add_relationships(self)>),\n",
       " ('get_element',\n",
       "  <function pymbe.model.Model.get_element(self, element_id: str, fail: bool = True, resolve: bool = True) -> 'Element'>),\n",
       " ('load',\n",
       "  <function pymbe.model.Model.load(elements: Collection[Dict], **kwargs) -> 'Model'>),\n",
       " ('load_from_file',\n",
       "  <function pymbe.model.Model.load_from_file(filepath: Union[pathlib.Path, str], encoding: str = 'utf-8') -> 'Model'>),\n",
       " ('load_from_mult_post_files',\n",
       "  <function pymbe.model.Model.load_from_mult_post_files(filepath_list: List, encoding: str = 'utf-8') -> 'Model'>),\n",
       " ('load_from_post_file',\n",
       "  <function pymbe.model.Model.load_from_post_file(filepath: Union[pathlib.Path, str], encoding: str = 'utf-8') -> 'Model'>),\n",
       " ('reference_other_model',\n",
       "  <function pymbe.model.Model.reference_other_model(self, ref_model: 'Model')>),\n",
       " ('save_to_file',\n",
       "  <function pymbe.model.Model.save_to_file(self, filepath: Union[pathlib.Path, str] = None, indent: int = 2, encoding: str = 'utf-8')>)]"
      ]
     },
     "execution_count": 28,
     "metadata": {},
     "output_type": "execute_result"
    }
   ],
   "source": [
    "model_functions = inspect.getmembers(Model, inspect.isfunction)\n",
    "model_functions"
   ]
  },
  {
   "cell_type": "code",
   "execution_count": 32,
   "id": "f350b584-3f9a-4a36-bb58-47c14d316b27",
   "metadata": {},
   "outputs": [
    {
     "name": "stdout",
     "output_type": "stream",
     "text": [
      "    def _add_element(self, element: \"Element\") -> \"Element\":\n",
      "        id_ = element._id\n",
      "        metatype = element._metatype\n",
      "\n",
      "        self.elements[id_] = element\n",
      "\n",
      "        if element.get_owner() is None:\n",
      "            if element not in self.ownedElement:\n",
      "                self.ownedElement += [element]\n",
      "\n",
      "        if metatype not in self.ownedMetatype:\n",
      "            self.ownedMetatype[metatype] = []\n",
      "        if element not in self.ownedMetatype[metatype]:\n",
      "            self.ownedMetatype[metatype] += [element]\n",
      "\n",
      "        if element._is_relationship:\n",
      "            if element not in self.ownedRelationship:\n",
      "                self.ownedRelationship += [element]\n",
      "            if id_ not in self.all_relationships:\n",
      "                self.all_relationships[id_] = element\n",
      "        else:\n",
      "            if id_ not in self.all_non_relationships:\n",
      "                self.all_non_relationships[id_] = element\n",
      "\n",
      "        if not self._initializing:\n",
      "            self._add_labels(element)\n",
      "        return element\n",
      "\n"
     ]
    }
   ],
   "source": [
    "print(inspect.getsource(model_functions[4][1]))"
   ]
  },
  {
   "cell_type": "markdown",
   "id": "0a1d0345-f760-4895-a09f-6d7c7f93a11d",
   "metadata": {},
   "source": [
    "## Related Unit Tests\n",
    "\n",
    "The tests that check on this functionality are below."
   ]
  },
  {
   "cell_type": "code",
   "execution_count": 8,
   "id": "33bf2711-a31f-4e7a-a3f7-bc5b73a8e602",
   "metadata": {},
   "outputs": [
    {
     "data": {
      "text/plain": [
       "'C:\\\\Users\\\\Bjorn Cole\\\\Documents\\\\GitHub\\\\pyMBE'"
      ]
     },
     "execution_count": 8,
     "metadata": {},
     "output_type": "execute_result"
    }
   ],
   "source": [
    "test_run_root = os.path.abspath(\"../../\")\n",
    "test_run_root"
   ]
  },
  {
   "cell_type": "code",
   "execution_count": 10,
   "id": "ffdd4a8d-1132-4fee-9015-d67856208731",
   "metadata": {},
   "outputs": [
    {
     "name": "stdout",
     "output_type": "stream",
     "text": [
      "================================================= test session starts =================================================\n",
      "platform win32 -- Python 3.9.6, pytest-6.2.4, py-1.10.0, pluggy-0.13.1 -- C:\\Users\\Bjorn Cole\\Documents\\GitHub\\pyMBE\\envs\\developer\\python.exe\n",
      "cachedir: .pytest_cache\n",
      "metadata: {'Python': '3.9.6', 'Platform': 'Windows-10-10.0.22621-SP0', 'Packages': {'pytest': '6.2.4', 'py': '1.10.0', 'pluggy': '0.13.1'}, 'Plugins': {'anyio': '3.3.0', 'importnb': '0.7.0', 'asyncio': '0.15.1', 'cov': '2.12.1', 'forked': '1.3.0', 'html': '3.1.1', 'metadata': '1.11.0', 'xdist': '2.3.0'}, 'JAVA_HOME': 'C:\\\\Program Files\\\\Eclipse Adoptium\\\\jdk-11.0.17.8-hotspot'}\n",
      "rootdir: C:\\Users\\Bjorn Cole\\Documents\\GitHub\\pyMBE, configfile: setup.cfg\n",
      "plugins: anyio-3.3.0, importnb-0.7.0, asyncio-0.15.1, cov-2.12.1, forked-1.3.0, html-3.1.1, metadata-1.11.0, xdist-2.3.0\n",
      "collecting ... collected 1 item\n",
      "run-last-failure: 11 known failures not in selected tests\n",
      "\n",
      "..\\..\\tests\\model\\test_class_and_relation_creation.py::test_create_classifier_against_library PASSED             [100%]"
     ]
    },
    {
     "name": "stderr",
     "output_type": "stream",
     "text": [
      "Coverage.py warning: Module pymbe was previously imported, but not measured (module-not-measured)\n"
     ]
    },
    {
     "name": "stdout",
     "output_type": "stream",
     "text": [
      "\n",
      "\n",
      "================================================== warnings summary ===================================================\n",
      "tests/model/test_class_and_relation_creation.py::test_create_classifier_against_library\n",
      "  c:\\users\\bjorn cole\\documents\\github\\pymbe\\src\\pymbe\\label.py:150: UserWarning: Cannot process Expression elements yet!\n",
      "    warn(f\"Cannot process {expression._metatype} elements yet!\")\n",
      "\n",
      "tests/model/test_class_and_relation_creation.py::test_create_classifier_against_library\n",
      "  c:\\users\\bjorn cole\\documents\\github\\pymbe\\src\\pymbe\\label.py:150: UserWarning: Cannot process BooleanExpression elements yet!\n",
      "    warn(f\"Cannot process {expression._metatype} elements yet!\")\n",
      "\n",
      "-- Docs: https://docs.pytest.org/en/stable/warnings.html\n",
      "---- generated xml file: C:\\Users\\Bjorn Cole\\Documents\\GitHub\\pyMBE\\dev_docs\\infrastructure\\build\\pytest.xunit.xml ----\n",
      "-- generated html file: file://C:\\Users\\Bjorn Cole\\Documents\\GitHub\\pyMBE\\dev_docs\\infrastructure\\build\\pytest.html ---\n",
      "\n",
      "----------- coverage: platform win32, python 3.9.6-final-0 -----------\n",
      "Name                                                                                              Stmts   Miss  Cover   Missing\n",
      "-------------------------------------------------------------------------------------------------------------------------------\n",
      "C:\\Users\\Bjorn Cole\\Documents\\GitHub\\pyMBE\\src\\pymbe\\__init__.py                                      2      2     0%   1-3\n",
      "C:\\Users\\Bjorn Cole\\Documents\\GitHub\\pyMBE\\src\\pymbe\\_version.py                                      1      1     0%   1\n",
      "C:\\Users\\Bjorn Cole\\Documents\\GitHub\\pyMBE\\src\\pymbe\\api.py                                           7      7     0%   1-8\n",
      "C:\\Users\\Bjorn Cole\\Documents\\GitHub\\pyMBE\\src\\pymbe\\client.py                                      116    116     0%   1-213\n",
      "C:\\Users\\Bjorn Cole\\Documents\\GitHub\\pyMBE\\src\\pymbe\\graph\\__init__.py                                3      3     0%   1-5\n",
      "C:\\Users\\Bjorn Cole\\Documents\\GitHub\\pyMBE\\src\\pymbe\\graph\\edge_generators.py                        64     64     0%   1-165\n",
      "C:\\Users\\Bjorn Cole\\Documents\\GitHub\\pyMBE\\src\\pymbe\\graph\\lpg.py                                   157    157     0%   1-361\n",
      "C:\\Users\\Bjorn Cole\\Documents\\GitHub\\pyMBE\\src\\pymbe\\graph\\rdf.py                                    38     38     0%   1-59\n",
      "C:\\Users\\Bjorn Cole\\Documents\\GitHub\\pyMBE\\src\\pymbe\\interpretation\\calc_dependencies.py             76     76     0%   1-136\n",
      "C:\\Users\\Bjorn Cole\\Documents\\GitHub\\pyMBE\\src\\pymbe\\interpretation\\execute_kerml_atoms.py          378    378     0%   1-1103\n",
      "C:\\Users\\Bjorn Cole\\Documents\\GitHub\\pyMBE\\src\\pymbe\\interpretation\\indeterminate_boundaries.py      27     27     0%   1-79\n",
      "C:\\Users\\Bjorn Cole\\Documents\\GitHub\\pyMBE\\src\\pymbe\\interpretation\\occurrences_steps.py              5      5     0%   1-67\n",
      "C:\\Users\\Bjorn Cole\\Documents\\GitHub\\pyMBE\\src\\pymbe\\interpretation\\working_maps.py                  83     83     0%   1-243\n",
      "C:\\Users\\Bjorn Cole\\Documents\\GitHub\\pyMBE\\src\\pymbe\\label.py                                       115     27    77%   38-39, 45, 77, 81, 162-165, 170-195\n",
      "C:\\Users\\Bjorn Cole\\Documents\\GitHub\\pyMBE\\src\\pymbe\\local\\stablization.py                           15     15     0%   1-27\n",
      "C:\\Users\\Bjorn Cole\\Documents\\GitHub\\pyMBE\\src\\pymbe\\metamodel.py                                   102     66    35%   1-22, 28, 53, 78, 85, 105-206\n",
      "C:\\Users\\Bjorn Cole\\Documents\\GitHub\\pyMBE\\src\\pymbe\\model.py                                       377    222    41%   1-56, 61-64, 68, 71, 74-129, 165-170, 183-199, 202, 205, 223-256, 260, 262-263, 270, 277-279, 282, 310-331, 341, 366, 373, 386-413, 422, 427-434, 437, 441-448, 454, 456, 461-463, 485-498, 500, 507, 513, 524, 537-538, 550-562, 569-570, 579-619, 630-646, 651, 656, 659-660\n",
      "C:\\Users\\Bjorn Cole\\Documents\\GitHub\\pyMBE\\src\\pymbe\\model_modification.py                          249    190    24%   103, 142-181, 201-239, 262-350, 372-429, 483-525, 548-586, 611-678, 696-763, 778-909, 921-965, 978-1036, 1050-1102, 1112\n",
      "C:\\Users\\Bjorn Cole\\Documents\\GitHub\\pyMBE\\src\\pymbe\\query\\metamodel_navigator.py                   180    166     8%   4-369, 378\n",
      "C:\\Users\\Bjorn Cole\\Documents\\GitHub\\pyMBE\\src\\pymbe\\query\\query.py                                  97     97     0%   2-205\n",
      "C:\\Users\\Bjorn Cole\\Documents\\GitHub\\pyMBE\\src\\pymbe\\text_concrete_syntax.py                         57     57     0%   1-101\n",
      "C:\\Users\\Bjorn Cole\\Documents\\GitHub\\pyMBE\\src\\pymbe\\widget\\client.py                               131    131     0%   1-227\n",
      "C:\\Users\\Bjorn Cole\\Documents\\GitHub\\pyMBE\\src\\pymbe\\widget\\containment.py                          206    206     0%   1-388\n",
      "C:\\Users\\Bjorn Cole\\Documents\\GitHub\\pyMBE\\src\\pymbe\\widget\\core.py                                  26     26     0%   1-41\n",
      "C:\\Users\\Bjorn Cole\\Documents\\GitHub\\pyMBE\\src\\pymbe\\widget\\diagram\\__init__.py                       2      2     0%   1-3\n",
      "C:\\Users\\Bjorn Cole\\Documents\\GitHub\\pyMBE\\src\\pymbe\\widget\\diagram\\loader.py                        39     39     0%   1-108\n",
      "C:\\Users\\Bjorn Cole\\Documents\\GitHub\\pyMBE\\src\\pymbe\\widget\\diagram\\part_diagram.py                  32     32     0%   1-104\n",
      "C:\\Users\\Bjorn Cole\\Documents\\GitHub\\pyMBE\\src\\pymbe\\widget\\diagram\\parts.py                         29     29     0%   1-53\n",
      "C:\\Users\\Bjorn Cole\\Documents\\GitHub\\pyMBE\\src\\pymbe\\widget\\diagram\\relationships.py                 46     46     0%   1-121\n",
      "C:\\Users\\Bjorn Cole\\Documents\\GitHub\\pyMBE\\src\\pymbe\\widget\\diagram\\symbols.py                       15     15     0%   1-144\n",
      "C:\\Users\\Bjorn Cole\\Documents\\GitHub\\pyMBE\\src\\pymbe\\widget\\diagram\\tools.py                         92     92     0%   1-236\n",
      "C:\\Users\\Bjorn Cole\\Documents\\GitHub\\pyMBE\\src\\pymbe\\widget\\diagram\\utils.py                         39     39     0%   1-56\n",
      "C:\\Users\\Bjorn Cole\\Documents\\GitHub\\pyMBE\\src\\pymbe\\widget\\diagram\\widget.py                       188    188     0%   1-375\n",
      "C:\\Users\\Bjorn Cole\\Documents\\GitHub\\pyMBE\\src\\pymbe\\widget\\inspector.py                             47     47     0%   1-74\n",
      "C:\\Users\\Bjorn Cole\\Documents\\GitHub\\pyMBE\\src\\pymbe\\widget\\ui.py                                    43     43     0%   1-99\n",
      "-------------------------------------------------------------------------------------------------------------------------------\n",
      "TOTAL                                                                                              3084   2732    11%\n",
      "\n",
      "5 files skipped due to complete coverage.\n",
      "Coverage HTML written to dir build/htmlcov\n",
      "Coverage XML written to file build/cov.xml\n",
      "\n",
      "============================================ 1 passed, 2 warnings in 2.89s ============================================\n"
     ]
    },
    {
     "data": {
      "text/plain": [
       "<ExitCode.OK: 0>"
      ]
     },
     "execution_count": 10,
     "metadata": {},
     "output_type": "execute_result"
    }
   ],
   "source": [
    "pytest.main([f\"--rootdir={test_run_root}\", f\"{test_run_root}\\\\tests\\\\model\\\\test_class_and_relation_creation.py::test_create_classifier_against_library\"])"
   ]
  },
  {
   "cell_type": "code",
   "execution_count": null,
   "id": "860a5057-db4a-4711-a52d-4563b9561871",
   "metadata": {},
   "outputs": [],
   "source": []
  }
 ],
 "metadata": {
  "kernelspec": {
   "display_name": "Python 3 (ipykernel)",
   "language": "python",
   "name": "python3"
  },
  "language_info": {
   "codemirror_mode": {
    "name": "ipython",
    "version": 3
   },
   "file_extension": ".py",
   "mimetype": "text/x-python",
   "name": "python",
   "nbconvert_exporter": "python",
   "pygments_lexer": "ipython3",
   "version": "3.9.6"
  }
 },
 "nbformat": 4,
 "nbformat_minor": 5
}
