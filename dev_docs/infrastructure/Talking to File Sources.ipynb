{
 "cells": [
  {
   "cell_type": "markdown",
   "id": "617450a5-686f-4cab-bea0-02d1bea94c2d",
   "metadata": {},
   "source": [
    "# Loading from File Sources\n",
    "\n",
    "This notebook walks through the facilities that currently exist for loading up models from JSON files, as well as runs relevant unit tests."
   ]
  },
  {
   "cell_type": "code",
   "execution_count": null,
   "id": "05c3a60d-3481-4ac3-b1af-fab31b8bc3cb",
   "metadata": {},
   "outputs": [],
   "source": [
    "import inspect\n",
    "import pytest\n",
    "import sys\n",
    "\n",
    "import pymbe.api as pm\n",
    "from pymbe.model import Model\n",
    "\n",
    "import os\n",
    "\n",
    "from os import path"
   ]
  },
  {
   "cell_type": "code",
   "execution_count": null,
   "id": "9af61eb7-145f-4e2f-af97-ff4fdfd1b19f",
   "metadata": {},
   "outputs": [],
   "source": [
    "model_functions = inspect.getmembers(Model, inspect.isfunction)\n",
    "model_functions"
   ]
  },
  {
   "cell_type": "code",
   "execution_count": null,
   "id": "f350b584-3f9a-4a36-bb58-47c14d316b27",
   "metadata": {},
   "outputs": [],
   "source": [
    "print(inspect.getsource(model_functions[4][1]))"
   ]
  },
  {
   "cell_type": "markdown",
   "id": "0a1d0345-f760-4895-a09f-6d7c7f93a11d",
   "metadata": {},
   "source": [
    "## Related Unit Tests\n",
    "\n",
    "The tests that check on this functionality are below."
   ]
  },
  {
   "cell_type": "code",
   "execution_count": null,
   "id": "33bf2711-a31f-4e7a-a3f7-bc5b73a8e602",
   "metadata": {},
   "outputs": [],
   "source": [
    "test_run_root = os.path.abspath(\"../../\")\n",
    "test_run_root"
   ]
  },
  {
   "cell_type": "code",
   "execution_count": null,
   "id": "ffdd4a8d-1132-4fee-9015-d67856208731",
   "metadata": {},
   "outputs": [],
   "source": [
    "pytest.main([f\"--rootdir={test_run_root}\", f\"{test_run_root}\\\\tests\\\\model\\\\test_class_and_relation_creation.py::test_create_classifier_against_library\"])"
   ]
  },
  {
   "cell_type": "code",
   "execution_count": null,
   "id": "860a5057-db4a-4711-a52d-4563b9561871",
   "metadata": {},
   "outputs": [],
   "source": []
  }
 ],
 "metadata": {
  "kernelspec": {
   "display_name": "Python 3 (ipykernel)",
   "language": "python",
   "name": "python3"
  },
  "language_info": {
   "codemirror_mode": {
    "name": "ipython",
    "version": 3
   },
   "file_extension": ".py",
   "mimetype": "text/x-python",
   "name": "python",
   "nbconvert_exporter": "python",
   "pygments_lexer": "ipython3",
   "version": "3.9.6"
  }
 },
 "nbformat": 4,
 "nbformat_minor": 5
}
