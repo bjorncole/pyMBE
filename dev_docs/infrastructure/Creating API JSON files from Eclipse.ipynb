{
 "cells": [
  {
   "cell_type": "markdown",
   "id": "4758c701-aac3-40d3-9e25-ad0c172599b6",
   "metadata": {},
   "source": [
    "# Creating API JSON files from Eclipse Reference Implementation\n",
    "\n",
    "The Eclipse SysML v2 Reference Implementation has methods to create JSON files that conform to the v2 REST API. These are set up with Run Configurations in the Eclipse IDE, which can be triggered by command line commands. This notebook uses that CLI in order to create the needed JSON files both for user examples and for libraries."
   ]
  },
  {
   "cell_type": "markdown",
   "id": "995ce0e3-b58f-4340-9c63-dbea1d7cd481",
   "metadata": {},
   "source": [
    "## Current Status\n",
    "\n",
    "Currently trying to resolve some classloader issues with the reference implementation when run from command line."
   ]
  },
  {
   "cell_type": "code",
   "execution_count": null,
   "id": "a8a8f64f-7fa2-4fc3-957d-c0820a79e40a",
   "metadata": {},
   "outputs": [],
   "source": []
  }
 ],
 "metadata": {
  "kernelspec": {
   "display_name": "Python 3 (ipykernel)",
   "language": "python",
   "name": "python3"
  },
  "language_info": {
   "codemirror_mode": {
    "name": "ipython",
    "version": 3
   },
   "file_extension": ".py",
   "mimetype": "text/x-python",
   "name": "python",
   "nbconvert_exporter": "python",
   "pygments_lexer": "ipython3",
   "version": "3.9.6"
  }
 },
 "nbformat": 4,
 "nbformat_minor": 5
}
