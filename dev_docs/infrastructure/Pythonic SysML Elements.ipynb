{
 "cells": [
  {
   "cell_type": "markdown",
   "id": "ef38eade-95f5-498e-8e7c-6a5c362a615a",
   "metadata": {
    "tags": []
   },
   "source": [
    "# Pythonic SysML Elements\n",
    "\n",
    "This notebook walks through the approach to making SysML elements act Pythonically while in the PyMBE environment in order to support more intuitive codes that inspect and analyze SysML models.\n",
    "\n",
    "Note that the Markdown headers for code snippets are set up to be translated into docstrings for documentation of the code eventually."
   ]
  },
  {
   "cell_type": "code",
   "execution_count": null,
   "id": "fef0f668-cae5-4440-b4ca-2a10215e0f43",
   "metadata": {
    "tags": []
   },
   "outputs": [],
   "source": [
    "import inspect\n",
    "import os\n",
    "import traceback\n",
    "import logging\n",
    "import pymbe.api as pm\n",
    "from pymbe.model import Element\n",
    "from pymbe.model import ListOfNamedItems\n",
    "from pymbe.model import Model\n",
    "\n",
    "from pymbe.model_modification import new_element_ownership_pattern, build_from_feature_pattern\n",
    "\n",
    "import json\n",
    "from dataclasses import dataclass, field\n",
    "from typing import Any, Dict, List, Set, Tuple, Union, Collection\n",
    "from collections import defaultdict\n",
    "\n",
    "from uuid import uuid4"
   ]
  },
  {
   "cell_type": "markdown",
   "id": "d5263f55-98d7-431d-aeea-6c32693eeb0b",
   "metadata": {},
   "source": [
    "## Raw Data to Process into Elements"
   ]
  },
  {
   "cell_type": "markdown",
   "id": "e9f6b367-b8ac-42d1-b67d-df4331aedd5a",
   "metadata": {},
   "source": [
    "PyMBE expects to encounter model data in the form serialized in the REST API. This means that model elements are first seen as Python dictionaries, with references to other elements as IDs. The entries in the dictionary are driven by using the reflective Ecore model of KerML and SysML v2 to determine which attributes to include."
   ]
  },
  {
   "cell_type": "code",
   "execution_count": null,
   "id": "afabced6-5f4b-467f-a28f-63fc4822417d",
   "metadata": {},
   "outputs": [],
   "source": [
    "empty_model = pm.Model(elements={})\n",
    "empty_model"
   ]
  },
  {
   "cell_type": "markdown",
   "id": "5bb9ade9-fa4d-4196-ac76-deb396f256b9",
   "metadata": {},
   "source": [
    "Fill in a quick namespace and Package so elements we explore have a place to live."
   ]
  },
  {
   "cell_type": "code",
   "execution_count": null,
   "id": "63ef52a6-1d0e-4849-845b-97b6f29923cd",
   "metadata": {},
   "outputs": [],
   "source": [
    "package_model_namespace_data = {\n",
    "    'aliasIds': [],\n",
    "    'isImpliedIncluded': False,\n",
    "    '@type': \"Namespace\",\n",
    "    '@id': str(uuid4()),\n",
    "    'ownedRelationship': []\n",
    "}\n",
    "package_model_data = {\n",
    "    'name': \"Example Builder Model\",\n",
    "    'isLibraryElement': False,\n",
    "    'filterCondition': [],\n",
    "    'ownedElement': [],\n",
    "    'owner': {},\n",
    "    '@type': \"Package\",\n",
    "    '@id': str(uuid4()),\n",
    "    'ownedRelationship': []\n",
    "}\n",
    "new_ns = Element.new(data=package_model_namespace_data,model=empty_model)\n",
    "new_package = Element.new(data=package_model_data,model=empty_model)\n",
    "new_element_ownership_pattern(\n",
    "    owner=new_ns, ele=new_package, model=empty_model, member_kind=\"OwningMembership\"\n",
    ")"
   ]
  },
  {
   "cell_type": "markdown",
   "id": "c1a51e6b-c3f3-4bf3-ba77-a2f01b451750",
   "metadata": {},
   "source": [
    "An example of this data set is generated for a PartDefinition and a PartUsage below. Additional tags like \"@id\" and \"@type\" get generated when a new element is made."
   ]
  },
  {
   "cell_type": "code",
   "execution_count": null,
   "id": "91d96843-b419-46dd-b0dd-6141b6a1380b",
   "metadata": {
    "tags": []
   },
   "outputs": [],
   "source": [
    "partdefinition_data = empty_model.metamodel.pre_made_dicts[\"PartDefinition\"]\n",
    "partusage_data = empty_model.metamodel.pre_made_dicts[\"PartUsage\"]\n",
    "partusage_data"
   ]
  },
  {
   "cell_type": "code",
   "execution_count": null,
   "id": "3751abcc-8c6d-43a9-9cc5-adf50e37a45f",
   "metadata": {},
   "outputs": [],
   "source": [
    "partdefinition_data.update({\"@type\": \"PartDefinition\", \"declaredName\": \"Demo Unit\"})\n",
    "partdefinition_data.update({\"@id\": str(uuid4())})\n",
    "partusage_data.update({\"@type\": \"PartUsage\", \"declaredName\": \"Demo Component\"})\n",
    "partusage_data.update({\"@id\": str(uuid4())})\n",
    "partusage_data"
   ]
  },
  {
   "cell_type": "code",
   "execution_count": null,
   "id": "07547221-268e-4d30-ab64-dcd55887548a",
   "metadata": {},
   "outputs": [],
   "source": [
    "partdefinition_data"
   ]
  },
  {
   "cell_type": "markdown",
   "id": "cfee67fc-357b-47ba-96a9-aa2208343240",
   "metadata": {},
   "source": [
    "To demonstration how relationships are made, an example FeatureMembership is needed."
   ]
  },
  {
   "cell_type": "code",
   "execution_count": null,
   "id": "4d78a27f-28f8-4d4d-ac8f-7bec5c676e2a",
   "metadata": {},
   "outputs": [],
   "source": [
    "fm_data = empty_model.metamodel.pre_made_dicts[\"FeatureMembership\"]"
   ]
  },
  {
   "cell_type": "code",
   "execution_count": null,
   "id": "5144e6bb-89da-4f14-b8ba-65db3d19fbdb",
   "metadata": {},
   "outputs": [],
   "source": [
    "fm_data"
   ]
  },
  {
   "cell_type": "markdown",
   "id": "d46f409e-7acf-4418-b5fb-4bbd2ed8dcd0",
   "metadata": {},
   "source": [
    "Linking this to the other elements requires reference to their IDs."
   ]
  },
  {
   "cell_type": "code",
   "execution_count": null,
   "id": "547fcaf6-f741-47df-ac06-e55eb02e89c6",
   "metadata": {},
   "outputs": [],
   "source": [
    "fm_data.update({\"source\": [{\"@id\": partdefinition_data[\"@id\"]}],\n",
    "                \"target\": [{\"@id\": partusage_data[\"@id\"]}],\n",
    "                \"owningRelatedElement\": {\"@id\": partdefinition_data[\"@id\"]},\n",
    "               \"@id\": str(uuid4()),\n",
    "                \"@type\": \"FeatureMembership\"})\n",
    "fm_data"
   ]
  },
  {
   "cell_type": "code",
   "execution_count": null,
   "id": "6d97b0fc-f241-48ca-b6ce-db4ea1298275",
   "metadata": {},
   "outputs": [],
   "source": [
    "element_functions = inspect.getmembers(Element, inspect.isfunction)\n",
    "element_functions"
   ]
  },
  {
   "cell_type": "markdown",
   "id": "e98aca98-4a68-46ac-91a4-87b93907e15f",
   "metadata": {},
   "source": [
    "## Pythonic Model elements\n",
    "\n",
    "The methods and the class developed here are intended to support the Python representation and manipulation of system model data. The partial methods describe below set up various fields in objects of the Element class for use in downstream or user codes involving this library.\n",
    "\n",
    "There are a variety of features developed here to make the interaction with system model data more Pythonic.\n",
    "\n",
    "The getattr magic is used to map a simple field name to a getitem looking for a key against the data (or derived cache) dictionary of the Python element. The key will return data from non-derived attributes directly, or will call helper functions to calculate the derived attributes."
   ]
  },
  {
   "cell_type": "code",
   "execution_count": null,
   "id": "34589c5a-a3ce-40ec-9591-68a15e765537",
   "metadata": {},
   "outputs": [],
   "source": [
    "print(inspect.getsource(element_functions[5][1]))"
   ]
  },
  {
   "cell_type": "markdown",
   "id": "b9ebcc7e-dcee-4b30-b284-3d1cc1545692",
   "metadata": {},
   "source": [
    "When the Python object is created from the dictionary, it becomes possible to access known fields directly."
   ]
  },
  {
   "cell_type": "code",
   "execution_count": null,
   "id": "8945406f-f466-46ef-a688-4ac4997cafeb",
   "metadata": {},
   "outputs": [],
   "source": [
    "partdefinition_ele = Element.new(data=partdefinition_data, model=empty_model)\n",
    "partdefinition_ele"
   ]
  },
  {
   "cell_type": "markdown",
   "id": "c6ef4c96-790a-4c18-b89e-93c261cb2807",
   "metadata": {},
   "source": [
    "### Accessing fields Pythonically\n",
    "\n",
    "The next thing to add to the Element class are magics to match the meta-attributes of loaded elements to properties on Python objects. That is done by adding to the getattr and getitem magics.\n",
    "\n",
    "This should focus on the metafields with expected literal values in the JSON."
   ]
  },
  {
   "cell_type": "code",
   "execution_count": null,
   "id": "38043293-3617-40de-962d-f1dc617b8b8b",
   "metadata": {},
   "outputs": [],
   "source": [
    "partdefinition_ele.declaredName"
   ]
  },
  {
   "cell_type": "markdown",
   "id": "93add3da-1e16-475e-bff0-498611f39601",
   "metadata": {},
   "source": [
    "Derived attributes can also be computed. The below will be empty since there are no direct Features (and library is not loaded to show the Features of the Part object)."
   ]
  },
  {
   "cell_type": "code",
   "execution_count": null,
   "id": "45c74142-c1ba-46eb-a592-4eb66a67792c",
   "metadata": {},
   "outputs": [],
   "source": [
    "partdefinition_ele.feature"
   ]
  },
  {
   "cell_type": "markdown",
   "id": "686dcafc-a7ac-4bf2-8883-f8e3f3bec139",
   "metadata": {
    "tags": []
   },
   "source": [
    "### Navigating relationships Pythonically\n",
    "\n",
    "The next Pythonic task for our model elements is the ability to traverse SysML v2 relationships Pythonically, either in the forward (through) or reverse direction with simple property accessors."
   ]
  },
  {
   "cell_type": "code",
   "execution_count": null,
   "id": "24053ad3-98b6-4542-bd8b-106c4591ead9",
   "metadata": {},
   "outputs": [],
   "source": [
    "partusage_ele = Element.new(data=partusage_data, model=empty_model)\n",
    "fm_ele = Element.new(data=fm_data, model=empty_model)\n",
    "\n",
    "empty_model._add_relationship(fm_ele)"
   ]
  },
  {
   "cell_type": "code",
   "execution_count": null,
   "id": "9400769a-deb8-4ddc-bb3a-5b60a2b3d4ca",
   "metadata": {},
   "outputs": [],
   "source": [
    "model_functions = inspect.getmembers(Model, inspect.isfunction)"
   ]
  },
  {
   "cell_type": "markdown",
   "id": "401d6235-207a-4451-b825-c6c0d24c0a5f",
   "metadata": {},
   "source": [
    "In addition to laying in the attributes on Python objects, the PyMBE framework will create two kinds of attributes, a \"through(RelationshipType)\" and a \"reverse(RelationshipType)\", that can be used to navigate across standard SysML relationships like Subclassification, Subsetting, etc."
   ]
  },
  {
   "cell_type": "code",
   "execution_count": null,
   "id": "978f09a7-448f-4ef3-ba3a-ced008fb00dd",
   "metadata": {},
   "outputs": [],
   "source": [
    "print(inspect.getsource(model_functions[7][1]))"
   ]
  },
  {
   "cell_type": "code",
   "execution_count": null,
   "id": "19ecd184-c438-4a67-9583-bab9b8aa3d2b",
   "metadata": {},
   "outputs": [],
   "source": [
    "partdefinition_ele.throughFeatureMembership"
   ]
  },
  {
   "cell_type": "code",
   "execution_count": null,
   "id": "57b358fc-2be9-46bb-b12d-697af9af9810",
   "metadata": {},
   "outputs": [],
   "source": [
    "partusage_ele.reverseFeatureMembership"
   ]
  },
  {
   "cell_type": "markdown",
   "id": "b672a356-e42b-4ba5-8955-b0f392b486f0",
   "metadata": {},
   "source": [
    "The add relationship function drives the model class to dereference the IDs from the element and make these Python-style attributes."
   ]
  },
  {
   "cell_type": "markdown",
   "id": "10089c8b-6a39-4d78-b2e1-f5f684a088ce",
   "metadata": {
    "tags": []
   },
   "source": [
    "### List of Items Accessible by Name\n",
    "\n",
    "For convenience, a class is introduced that allows for collections of objects to be referenced by name rather than by unique identifier. This requires that names in a given list are unique. This is applied to the model-level object for directly owned elements (those elements with no other model element as an owner)."
   ]
  },
  {
   "cell_type": "code",
   "execution_count": null,
   "id": "35e48309-ec07-4c4b-96d1-a000ee0670d5",
   "metadata": {},
   "outputs": [],
   "source": [
    "empty_model.ownedElement[\"Demo Unit\"]"
   ]
  }
 ],
 "metadata": {
  "kernelspec": {
   "display_name": "Python 3 (ipykernel)",
   "language": "python",
   "name": "python3"
  },
  "language_info": {
   "codemirror_mode": {
    "name": "ipython",
    "version": 3
   },
   "file_extension": ".py",
   "mimetype": "text/x-python",
   "name": "python",
   "nbconvert_exporter": "python",
   "pygments_lexer": "ipython3",
   "version": "3.9.6"
  }
 },
 "nbformat": 4,
 "nbformat_minor": 5
}
