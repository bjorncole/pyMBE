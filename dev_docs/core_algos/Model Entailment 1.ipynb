{
 "cells": [
  {
   "cell_type": "markdown",
   "id": "0c14d216-f8b1-4967-b92c-ed8e71796e47",
   "metadata": {},
   "source": [
    "# Model Entailment 1\n",
    "\n",
    "This is the first of several notebooks to explore logical entailments in SysML v2 models, as well as the means by which to encode them."
   ]
  },
  {
   "cell_type": "code",
   "execution_count": 1,
   "id": "26930563-e2ff-4a75-aeb6-57223efbcb8c",
   "metadata": {},
   "outputs": [],
   "source": [
    "import json\n",
    "import pymbe.api as pm\n",
    "\n",
    "from pathlib import Path\n",
    "\n",
    "from typing import Any, Collection, Dict, List, Tuple, Union\n",
    "\n",
    "from pymbe.model import Model, Element\n",
    "from pymbe.model_modification import create_new_classifier, own_new_element, create_new_relationship\n",
    "\n",
    "from uuid import uuid4"
   ]
  },
  {
   "cell_type": "markdown",
   "id": "3d272a8f-5666-4fcb-96b0-2c7c3f1a64fc",
   "metadata": {},
   "source": [
    "## Load up basic model\n",
    "\n",
    "Load up a basic model in order to have basic package and namespace into which to add additional elements."
   ]
  },
  {
   "cell_type": "code",
   "execution_count": 2,
   "id": "87c1163a-2d73-4ae4-af8d-adfeb9562193",
   "metadata": {},
   "outputs": [
    {
     "data": {
      "text/plain": [
       "<SysML v2 Model (C:\\Users\\Bjorn Cole\\Documents\\GitHub\\pyMBE\\tests\\fixtures\\Model_Loader_Test_Level_1.json)>"
      ]
     },
     "execution_count": 2,
     "metadata": {},
     "output_type": "execute_result"
    }
   ],
   "source": [
    "filename = \"Model_Loader_Test_Level_1\"\n",
    "\n",
    "if not filename.endswith(\".json\"):\n",
    "    filename += \".json\"\n",
    "\n",
    "json_file = Path(Path.cwd()).parent.parent / \"tests/fixtures\" / filename\n",
    "\n",
    "level1 = pm.Model.load_from_post_file(json_file)\n",
    "level1"
   ]
  },
  {
   "cell_type": "code",
   "execution_count": 3,
   "id": "234d9ec2-c287-414a-af37-6a8051c2ba80",
   "metadata": {},
   "outputs": [
    {
     "data": {
      "text/plain": [
       "32"
      ]
     },
     "execution_count": 3,
     "metadata": {},
     "output_type": "execute_result"
    }
   ],
   "source": [
    "len(level1.elements)"
   ]
  },
  {
   "cell_type": "code",
   "execution_count": 4,
   "id": "f96e9047-5472-4ea2-a1d1-d71e351a27d5",
   "metadata": {},
   "outputs": [
    {
     "data": {
      "text/plain": [
       "[<2d68b91c-5f85-4853-be98-d22ad3ea767c «Classifier»>,\n",
       " <7fd2ad67-0ad3-4d11-bf74-657541b48341 «Classifier»>,\n",
       " <d59a1deb-4244-405a-b6a2-336f9c7e47b2 «Classifier»>,\n",
       " <05abc6ee-b407-4232-bad7-4e72f3e425b0 «Classifier»>]"
      ]
     },
     "execution_count": 4,
     "metadata": {},
     "output_type": "execute_result"
    }
   ],
   "source": [
    "classifiers = [ele for ele in level1.elements.values() if ele._metatype == 'Classifier']\n",
    "classifiers"
   ]
  },
  {
   "cell_type": "code",
   "execution_count": 5,
   "id": "4faa352c-2b3b-47bd-bd09-3d45c4195472",
   "metadata": {},
   "outputs": [
    {
     "data": {
      "text/plain": [
       "{'elementId': 'adda97af-f64e-4fbf-98a9-8b7d1915d8db',\n",
       " 'isImplied': False,\n",
       " 'aliasIds': [],\n",
       " 'visibility': 'public',\n",
       " '@type': 'OwningMembership',\n",
       " 'ownedRelationship': [],\n",
       " 'memberName': 'My Bare Class',\n",
       " 'source': [{'@id': 'f6610ab3-807b-4335-a7bf-eb72e63df831'}],\n",
       " 'ownedRelatedElement': [{'@id': '2d68b91c-5f85-4853-be98-d22ad3ea767c'}],\n",
       " 'isImpliedIncluded': False,\n",
       " 'target': [{'@id': '2d68b91c-5f85-4853-be98-d22ad3ea767c'}],\n",
       " 'owningRelatedElement': {'@id': 'f6610ab3-807b-4335-a7bf-eb72e63df831'},\n",
       " 'memberElement': {'@id': '2d68b91c-5f85-4853-be98-d22ad3ea767c'},\n",
       " '@id': 'adda97af-f64e-4fbf-98a9-8b7d1915d8db'}"
      ]
     },
     "execution_count": 5,
     "metadata": {},
     "output_type": "execute_result"
    }
   ],
   "source": [
    "owning_membership_data_example = classifiers[0].owningRelationship._data\n",
    "owning_membership_data_example"
   ]
  },
  {
   "cell_type": "code",
   "execution_count": 6,
   "id": "0a15c942-a20a-49a9-9f99-b149bb6ad823",
   "metadata": {},
   "outputs": [
    {
     "data": {
      "text/plain": [
       "<f6610ab3-807b-4335-a7bf-eb72e63df831 «Package»>"
      ]
     },
     "execution_count": 6,
     "metadata": {},
     "output_type": "execute_result"
    }
   ],
   "source": [
    "base_package = classifiers[0].owningRelationship.owningRelatedElement\n",
    "base_package"
   ]
  },
  {
   "cell_type": "code",
   "execution_count": 7,
   "id": "f5260208-47f0-46ba-80e8-58dfd1adf43d",
   "metadata": {},
   "outputs": [
    {
     "data": {
      "text/plain": [
       "<b300a7d3-3cce-451e-84a9-510987d2999a «Classifier»>"
      ]
     },
     "execution_count": 7,
     "metadata": {},
     "output_type": "execute_result"
    }
   ],
   "source": [
    "create_new_classifier(owner=base_package, name=\"Trial Element\", model=level1)"
   ]
  },
  {
   "cell_type": "code",
   "execution_count": 8,
   "id": "2f5d8278-9c26-454b-aeda-a18266d66b67",
   "metadata": {},
   "outputs": [
    {
     "data": {
      "text/plain": [
       "[<2d68b91c-5f85-4853-be98-d22ad3ea767c «Classifier»>,\n",
       " <7fd2ad67-0ad3-4d11-bf74-657541b48341 «Classifier»>,\n",
       " <d59a1deb-4244-405a-b6a2-336f9c7e47b2 «Classifier»>,\n",
       " <05abc6ee-b407-4232-bad7-4e72f3e425b0 «Classifier»>,\n",
       " <b300a7d3-3cce-451e-84a9-510987d2999a «Classifier»>]"
      ]
     },
     "execution_count": 8,
     "metadata": {},
     "output_type": "execute_result"
    }
   ],
   "source": [
    "classifiers = [ele for ele in level1.elements.values() if ele._metatype == 'Classifier']\n",
    "classifiers"
   ]
  },
  {
   "cell_type": "code",
   "execution_count": 9,
   "id": "588bb508-f5fc-4719-8610-ba58399f83a8",
   "metadata": {},
   "outputs": [
    {
     "data": {
      "text/plain": [
       "34"
      ]
     },
     "execution_count": 9,
     "metadata": {},
     "output_type": "execute_result"
    }
   ],
   "source": [
    "len(level1.elements)"
   ]
  },
  {
   "cell_type": "code",
   "execution_count": 10,
   "id": "c162caa7-4770-472f-8d29-808b1c26ac6c",
   "metadata": {},
   "outputs": [
    {
     "data": {
      "text/plain": [
       "[<NamespaceImport([<f6610ab3-807b-4335-a7bf-eb72e63df831 «Package»>] ←→ [<cdd5d1e3-fe4b-52bd-8a01-51a53f22ba47 «LibraryPackage»>])>,\n",
       " <OwningMembership([<f6610ab3-807b-4335-a7bf-eb72e63df831 «Package»>] ←→ [<2d68b91c-5f85-4853-be98-d22ad3ea767c «Classifier»>])>,\n",
       " <OwningMembership([<f6610ab3-807b-4335-a7bf-eb72e63df831 «Package»>] ←→ [<7fd2ad67-0ad3-4d11-bf74-657541b48341 «Classifier»>])>,\n",
       " <OwningMembership([<f6610ab3-807b-4335-a7bf-eb72e63df831 «Package»>] ←→ [<1d5bfd19-b00a-42af-a9ae-2b54c11cfe1f «Feature»>])>,\n",
       " <OwningMembership([<f6610ab3-807b-4335-a7bf-eb72e63df831 «Package»>] ←→ [<231cb543-a22d-4347-82c2-3bb910a7a810 «Feature»>])>,\n",
       " <OwningMembership([<f6610ab3-807b-4335-a7bf-eb72e63df831 «Package»>] ←→ [<d59a1deb-4244-405a-b6a2-336f9c7e47b2 «Classifier»>])>,\n",
       " <OwningMembership([<f6610ab3-807b-4335-a7bf-eb72e63df831 «Package»>] ←→ [<05abc6ee-b407-4232-bad7-4e72f3e425b0 «Classifier»>])>,\n",
       " <OwningMembership([<f6610ab3-807b-4335-a7bf-eb72e63df831 «Package»>] ←→ [<b300a7d3-3cce-451e-84a9-510987d2999a «Classifier»>])>]"
      ]
     },
     "execution_count": 10,
     "metadata": {},
     "output_type": "execute_result"
    }
   ],
   "source": [
    "base_package.ownedRelationship"
   ]
  },
  {
   "cell_type": "code",
   "execution_count": 11,
   "id": "e019b598-8ea9-40ac-8b56-8a00a3fdddda",
   "metadata": {},
   "outputs": [
    {
     "data": {
      "text/plain": [
       "[<2d68b91c-5f85-4853-be98-d22ad3ea767c «Classifier»>,\n",
       " <7fd2ad67-0ad3-4d11-bf74-657541b48341 «Classifier»>,\n",
       " <1d5bfd19-b00a-42af-a9ae-2b54c11cfe1f «Feature»>,\n",
       " <231cb543-a22d-4347-82c2-3bb910a7a810 «Feature»>,\n",
       " <d59a1deb-4244-405a-b6a2-336f9c7e47b2 «Classifier»>,\n",
       " <05abc6ee-b407-4232-bad7-4e72f3e425b0 «Classifier»>,\n",
       " <b300a7d3-3cce-451e-84a9-510987d2999a «Classifier»>]"
      ]
     },
     "execution_count": 11,
     "metadata": {},
     "output_type": "execute_result"
    }
   ],
   "source": [
    "base_package.ownedMember"
   ]
  },
  {
   "cell_type": "code",
   "execution_count": 12,
   "id": "080a9fd8-884e-41e7-b153-d67181817111",
   "metadata": {},
   "outputs": [],
   "source": [
    "special = [ele for ele in level1.elements.values() if ele._metatype == 'Subclassification']"
   ]
  },
  {
   "cell_type": "code",
   "execution_count": 13,
   "id": "e36544d2-efcd-4b29-8d7e-771da8245192",
   "metadata": {},
   "outputs": [
    {
     "data": {
      "text/plain": [
       "{'elementId': '0ad14c1c-a3e2-45e5-85a9-f00ff5d5746e',\n",
       " 'isImplied': False,\n",
       " 'aliasIds': [],\n",
       " '@type': 'Subclassification',\n",
       " 'ownedRelationship': [],\n",
       " 'source': [{'@id': '05abc6ee-b407-4232-bad7-4e72f3e425b0'}],\n",
       " 'ownedRelatedElement': [],\n",
       " 'specific': {'@id': '05abc6ee-b407-4232-bad7-4e72f3e425b0'},\n",
       " 'isImpliedIncluded': False,\n",
       " 'target': [{'@id': '2d68b91c-5f85-4853-be98-d22ad3ea767c'}],\n",
       " 'owningRelatedElement': {'@id': '05abc6ee-b407-4232-bad7-4e72f3e425b0'},\n",
       " 'general': {'@id': '2d68b91c-5f85-4853-be98-d22ad3ea767c'},\n",
       " 'subclassifier': {'@id': '05abc6ee-b407-4232-bad7-4e72f3e425b0'},\n",
       " 'superclassifier': {'@id': '2d68b91c-5f85-4853-be98-d22ad3ea767c'},\n",
       " '@id': '0ad14c1c-a3e2-45e5-85a9-f00ff5d5746e'}"
      ]
     },
     "execution_count": 13,
     "metadata": {},
     "output_type": "execute_result"
    }
   ],
   "source": [
    "special[0]._data"
   ]
  },
  {
   "cell_type": "code",
   "execution_count": 14,
   "id": "bcd2c60c-0372-4478-bf06-3848868b0248",
   "metadata": {},
   "outputs": [],
   "source": [
    "def create_super_classifier(classes : List[Element], super_name: str, owner: Element, model: Model):\n",
    "    '''\n",
    "    Take in a list of classifiers and generate a larger set from them. Idea is to have this work with\n",
    "    individuals and classifiers of multiplicity of 1.\n",
    "    '''\n",
    "    new_super = create_new_classifier(owner=owner, name=super_name, model=model)\n",
    "    \n",
    "    for clz in classes:\n",
    "        \n",
    "        subclass_added_data = {\n",
    "             'specific': {'@id': clz._id},\n",
    "             'general': {'@id': new_super._id},\n",
    "             'subclassifier': {'@id': clz._id},\n",
    "             'superclassifier': {'@id': new_super._id}\n",
    "        }\n",
    "        \n",
    "        new_sc = create_new_relationship(\n",
    "            source=clz,\n",
    "            target=new_super,\n",
    "            owner=clz,\n",
    "            model=model,\n",
    "            metatype='Subclassification',\n",
    "            owned_related_element=None,\n",
    "            owning_related_element=clz,\n",
    "            added_fields=subclass_added_data\n",
    "        )\n",
    "        \n",
    "    return new_super\n",
    "        "
   ]
  },
  {
   "cell_type": "code",
   "execution_count": 15,
   "id": "e7612dee-8ab1-4c28-a33b-f70148ffaa42",
   "metadata": {},
   "outputs": [],
   "source": [
    "bw1 = create_new_classifier(owner=base_package, name=\"Bike Wheel #1\", model=level1)\n",
    "bw2 = create_new_classifier(owner=base_package, name=\"Bike Wheel #2\", model=level1)\n",
    "bw3 = create_new_classifier(owner=base_package, name=\"Bike Wheel #3\", model=level1)\n",
    "bw4 = create_new_classifier(owner=base_package, name=\"Bike Wheel #4\", model=level1)"
   ]
  },
  {
   "cell_type": "code",
   "execution_count": 16,
   "id": "915e9006-741f-4e8b-a87c-d6c65942014a",
   "metadata": {},
   "outputs": [
    {
     "data": {
      "text/plain": [
       "'Bike Wheel #4'"
      ]
     },
     "execution_count": 16,
     "metadata": {},
     "output_type": "execute_result"
    }
   ],
   "source": [
    "base_package.ownedMember[-1].declaredName"
   ]
  },
  {
   "cell_type": "code",
   "execution_count": 17,
   "id": "1f61a33d-38b8-42ff-9dd8-a7d40f6e8089",
   "metadata": {},
   "outputs": [],
   "source": [
    "new_wheel = create_super_classifier(classes=[bw1, bw2, bw3, bw4], super_name=\"Bike Wheel\", model=level1, owner=base_package)"
   ]
  },
  {
   "cell_type": "code",
   "execution_count": 18,
   "id": "ab5b136e-31e7-406d-bfbc-0c4487a8666c",
   "metadata": {},
   "outputs": [
    {
     "data": {
      "text/plain": [
       "'Bike Wheel'"
      ]
     },
     "execution_count": 18,
     "metadata": {},
     "output_type": "execute_result"
    }
   ],
   "source": [
    "new_wheel.declaredName"
   ]
  },
  {
   "cell_type": "code",
   "execution_count": 19,
   "id": "1fc5ff63-e111-4790-9b82-152fbbd4c211",
   "metadata": {},
   "outputs": [
    {
     "data": {
      "text/plain": [
       "{'elementID': 'cc27942d-f7a5-4be7-948d-2b7693a0ff1f',\n",
       " 'owningRelationship': None,\n",
       " 'aliasIds': [],\n",
       " '@type': 'Classifier',\n",
       " 'ownedRelationship': [],\n",
       " 'declaredName': 'Bike Wheel',\n",
       " 'isSufficient': False,\n",
       " 'isAbstract': False,\n",
       " 'isImpliedIncluded': False,\n",
       " '@id': 'cc27942d-f7a5-4be7-948d-2b7693a0ff1f'}"
      ]
     },
     "execution_count": 19,
     "metadata": {},
     "output_type": "execute_result"
    }
   ],
   "source": [
    "new_wheel._data"
   ]
  },
  {
   "cell_type": "code",
   "execution_count": 20,
   "id": "59606feb-a73d-4c83-8901-9e7333897895",
   "metadata": {},
   "outputs": [
    {
     "data": {
      "text/plain": [
       "[<9f3dea5c-738c-41a8-865a-760048a154d6 «Classifier»>,\n",
       " <9f3dea5c-738c-41a8-865a-760048a154d6 «Classifier»>,\n",
       " <6414ae7a-a8ec-4369-91e6-93635c2ebe38 «Classifier»>,\n",
       " <6414ae7a-a8ec-4369-91e6-93635c2ebe38 «Classifier»>,\n",
       " <6cf45de7-f268-4d1f-ad0e-b7cc7a799b67 «Classifier»>,\n",
       " <6cf45de7-f268-4d1f-ad0e-b7cc7a799b67 «Classifier»>,\n",
       " <8bc088bc-4722-46da-9b76-7bffef8642e0 «Classifier»>,\n",
       " <8bc088bc-4722-46da-9b76-7bffef8642e0 «Classifier»>]"
      ]
     },
     "execution_count": 20,
     "metadata": {},
     "output_type": "execute_result"
    }
   ],
   "source": [
    "new_wheel.reverseSubclassification"
   ]
  },
  {
   "cell_type": "code",
   "execution_count": 21,
   "id": "f5138812-11bc-4e9a-9232-cef2fd26c5aa",
   "metadata": {},
   "outputs": [
    {
     "data": {
      "text/plain": [
       "[<2d68b91c-5f85-4853-be98-d22ad3ea767c «Classifier»>,\n",
       " <7fd2ad67-0ad3-4d11-bf74-657541b48341 «Classifier»>,\n",
       " <1d5bfd19-b00a-42af-a9ae-2b54c11cfe1f «Feature»>,\n",
       " <231cb543-a22d-4347-82c2-3bb910a7a810 «Feature»>,\n",
       " <d59a1deb-4244-405a-b6a2-336f9c7e47b2 «Classifier»>,\n",
       " <05abc6ee-b407-4232-bad7-4e72f3e425b0 «Classifier»>,\n",
       " <b300a7d3-3cce-451e-84a9-510987d2999a «Classifier»>,\n",
       " <9f3dea5c-738c-41a8-865a-760048a154d6 «Classifier»>,\n",
       " <6414ae7a-a8ec-4369-91e6-93635c2ebe38 «Classifier»>,\n",
       " <6cf45de7-f268-4d1f-ad0e-b7cc7a799b67 «Classifier»>,\n",
       " <8bc088bc-4722-46da-9b76-7bffef8642e0 «Classifier»>,\n",
       " <cc27942d-f7a5-4be7-948d-2b7693a0ff1f «Classifier»>]"
      ]
     },
     "execution_count": 21,
     "metadata": {},
     "output_type": "execute_result"
    }
   ],
   "source": [
    "base_package.ownedMember"
   ]
  },
  {
   "cell_type": "markdown",
   "id": "837d82a5-7614-4c0c-9cf6-757ce0194d5e",
   "metadata": {},
   "source": [
    "## Developing unrolling rule:\n",
    "### Find Features with multiplicity of 1, typed by non-1 multiplicity types."
   ]
  },
  {
   "cell_type": "markdown",
   "id": "f2fb9bd1-ba29-4666-8e2d-cd7634fb1919",
   "metadata": {},
   "source": [
    "Look for multiplicity ranges in the model that are set to 1."
   ]
  },
  {
   "cell_type": "code",
   "execution_count": null,
   "id": "4cb3427c-bdaa-4ee4-8a4c-9876c7bec038",
   "metadata": {},
   "outputs": [],
   "source": [
    "def isMultiplicityOne(multiplicity_range):\n",
    "    literal_value = [li.value for li in multiplicity_range.ownedElement if li['@type'] == 'LiteralInteger']\n",
    "    if len(literal_value) == 0:\n",
    "        return False\n",
    "    elif len(literal_value) == 1:\n",
    "        return literal_value[0] == 1\n",
    "    elif len(literal_value) == 2:\n",
    "        return literal_value[0] == 1 and literal_value[1] == 1"
   ]
  },
  {
   "cell_type": "code",
   "execution_count": null,
   "id": "f462a915-fe6a-4bb9-9515-4271c0615607",
   "metadata": {},
   "outputs": [],
   "source": [
    "def isMultiplicitySpecificFinite(multiplicity_range):\n",
    "    literal_value = [li.value for li in multiplicity_range.ownedElement if li['@type'] == 'LiteralInteger']\n",
    "    if len(literal_value) == 0:\n",
    "        return False\n",
    "    elif len(literal_value) == 1:\n",
    "        return literal_value[0] > 1\n",
    "    elif len(literal_value) == 2:\n",
    "        return literal_value[0] > 1 and literal_value[0] == literal_value[1]"
   ]
  },
  {
   "cell_type": "code",
   "execution_count": null,
   "id": "b8c5a2b3-1b9c-4fd5-8dc7-60ff035f64ff",
   "metadata": {},
   "outputs": [],
   "source": [
    "def isTypeUndefinedMult(type_ele):\n",
    "    if hasattr(element, \"ownedElement\") is False:\n",
    "        return False\n",
    "    mult_range = [mr for mr in element.ownedElement if mr['@type'] == 'MultiplicityRange']\n",
    "    return len(mult_range) == 0"
   ]
  },
  {
   "cell_type": "code",
   "execution_count": null,
   "id": "591b6d68-9417-4de5-819c-ef2f57e77a41",
   "metadata": {},
   "outputs": [],
   "source": [
    "one_multiplicities = [ele for (ele_id, ele)\n",
    "                      in bicycle_model.all_non_relationships.items()\n",
    "                      if ele['@type'] == 'MultiplicityRange' and isMultiplicityOne(ele)]\n",
    "print (f\"Found {len(one_multiplicities)} single value multiplicities\")"
   ]
  },
  {
   "cell_type": "code",
   "execution_count": null,
   "id": "b43be07c-cfb0-4063-883e-c63dd790e760",
   "metadata": {},
   "outputs": [],
   "source": [
    "finite_multiplicities = [ele for (ele_id, ele)\n",
    "                      in bicycle_model.all_non_relationships.items()\n",
    "                      if ele['@type'] == 'MultiplicityRange' and isMultiplicitySpecificFinite(ele)]\n",
    "print (f\"Found {len(finite_multiplicities)} finite value multiplicities\")"
   ]
  },
  {
   "cell_type": "markdown",
   "id": "d87e378e-3c11-452c-8b6c-f2517036874f",
   "metadata": {},
   "source": [
    "Create a function to discover multiplicities on elements."
   ]
  },
  {
   "cell_type": "code",
   "execution_count": null,
   "id": "d656b0c3-6a71-4dd2-adc6-0a2df6751f48",
   "metadata": {},
   "outputs": [],
   "source": [
    "def navigateToMultiplicity(element):\n",
    "    if printing_level == \"TRACE\":\n",
    "        print(f\"Trying to find multiplicity on type {element}\")\n",
    "    if hasattr(element, 'ownedElement'):\n",
    "        mult_range = [mr for mr in element.ownedElement if mr['@type'] == 'MultiplicityRange']\n",
    "        if len(mult_range) > 0:\n",
    "            literal_value = [li.value for li in mult_range[0].ownedElement if li['@type'] == 'LiteralInteger']\n",
    "            print(f\"Found literal value on type {element}\")\n",
    "            return literal_value\n",
    "        print(f\"Found non-literal multiplicity range on type {element}\")\n",
    "        return mult_range\n",
    "    if printing_level == \"TRACE\":\n",
    "        print(f\"Found no multiplicity on type {element}\")\n",
    "    return []"
   ]
  },
  {
   "cell_type": "code",
   "execution_count": null,
   "id": "8bdc6f77-f5a0-4206-ab3d-b684d06c2a4c",
   "metadata": {},
   "outputs": [],
   "source": [
    "all_class_defs = [ele for (ele_id, ele)\n",
    "                   in bicycle_model.all_non_relationships.items()\n",
    "                   if ele['@type'] == 'Classifier']\n",
    "all_class_defs"
   ]
  },
  {
   "cell_type": "code",
   "execution_count": null,
   "id": "16847e96-ba1d-4c1a-b6cc-5257b10501c8",
   "metadata": {},
   "outputs": [],
   "source": [
    "test_class = all_class_defs[2]"
   ]
  },
  {
   "cell_type": "code",
   "execution_count": null,
   "id": "48181fd2-9117-4948-af64-8aeb518267d2",
   "metadata": {},
   "outputs": [],
   "source": [
    "[(each_class, navigateToMultiplicity(each_class)) for each_class in all_class_defs]"
   ]
  },
  {
   "cell_type": "code",
   "execution_count": null,
   "id": "4fc5ee04-aa32-4902-af50-9aa09a0778b3",
   "metadata": {},
   "outputs": [],
   "source": [
    "all_feature_defs = [ele for (ele_id, ele)\n",
    "                   in bicycle_model.all_non_relationships.items()\n",
    "                   if ele['@type'] == 'Feature']"
   ]
  },
  {
   "cell_type": "code",
   "execution_count": null,
   "id": "42f0ed89-19c3-44ae-8fc2-ee5e03bdfade",
   "metadata": {},
   "outputs": [],
   "source": [
    "model_package = \"'Example Bicycle Open Wheels'\""
   ]
  },
  {
   "cell_type": "code",
   "execution_count": null,
   "id": "74ca672e-b7d1-4fa5-a90c-d6168ff2c269",
   "metadata": {},
   "outputs": [],
   "source": [
    "model_features = [(each_feature, \n",
    "  navigateToMultiplicity(each_feature)) for each_feature in all_feature_defs\n",
    " if each_feature.qualifiedName.split('::')[0] == model_package]\n",
    "model_features"
   ]
  },
  {
   "cell_type": "markdown",
   "id": "88373a7f-0f1a-46d5-a8b6-c68e7135d67b",
   "metadata": {},
   "source": [
    "The following are functions to support the rules described in canonical instantiation."
   ]
  },
  {
   "cell_type": "code",
   "execution_count": null,
   "id": "a1ad4f7e-24c4-41e7-81b8-db2685cd6a14",
   "metadata": {},
   "outputs": [],
   "source": [
    "def getFiniteMultiplicityTypes(elements_list, package):\n",
    "    model_types = [each_type for each_type in elements_list\n",
    "                      if each_type.qualifiedName.split('::')[0] == package\n",
    "                     ]\n",
    "    if printing_level == \"TRACE\":\n",
    "        print(model_types)\n",
    "    return [finite_type for finite_type in model_types if\n",
    "            len(navigateToMultiplicity(finite_type)) == 1 and navigateToMultiplicity(finite_type)[0] > 1]"
   ]
  },
  {
   "cell_type": "code",
   "execution_count": null,
   "id": "9e1bc1ae-94d0-4d5a-817b-5a3adbbdb4ac",
   "metadata": {},
   "outputs": [],
   "source": [
    "getFiniteMultiplicityTypes(all_feature_defs, model_package)"
   ]
  },
  {
   "cell_type": "code",
   "execution_count": null,
   "id": "04bb7364-fb45-4b37-aa0e-2580d57dee65",
   "metadata": {},
   "outputs": [],
   "source": [
    "getFiniteMultiplicityTypes(all_class_defs, model_package)"
   ]
  },
  {
   "cell_type": "code",
   "execution_count": null,
   "id": "5b4f7dc4-87a6-4f81-863b-ef6d7095f669",
   "metadata": {},
   "outputs": [],
   "source": [
    "def getSingleFeatMultiClass(features_list, package):\n",
    "    if printing_level == \"TRACE\":\n",
    "        print(\"Running single feature, multi class check\")\n",
    "    model_types = [each_type for each_type in features_list\n",
    "                      if each_type.qualifiedName.split('::')[0] == package\n",
    "                     ]\n",
    "    single_features = [finite_type for finite_type in model_types if\n",
    "            len(navigateToMultiplicity(finite_type)) == 1 and navigateToMultiplicity(finite_type)[0] == 1]\n",
    "    \n",
    "    if printing_level == \"TRACE\":\n",
    "        print(\"Found features of single multiplicity:\")\n",
    "        print(single_features)\n",
    "    \n",
    "    multi_class = [single_feat for single_feat in single_features\n",
    "                   if len(navigateToMultiplicity(single_feat.type[0])) == 0 or \n",
    "                   len(getFiniteMultiplicityTypes(single_feat.type, package)) > 0]\n",
    "    \n",
    "    if printing_level == \"TRACE\":\n",
    "        print(\"Found features of single multiplicity with non-single multiplicity types:\")\n",
    "        print(multi_class)\n",
    "    \n",
    "    return multi_class"
   ]
  },
  {
   "cell_type": "code",
   "execution_count": null,
   "id": "7240cdd6-9047-49ea-bb60-e0c6a39acc6f",
   "metadata": {},
   "outputs": [],
   "source": [
    "single_features_list = getSingleFeatMultiClass(all_feature_defs, model_package)"
   ]
  },
  {
   "cell_type": "code",
   "execution_count": null,
   "id": "d6a89bd1-e301-4cf8-9f77-5084dd9b4be7",
   "metadata": {},
   "outputs": [],
   "source": [
    "single_features_list"
   ]
  },
  {
   "cell_type": "markdown",
   "id": "8bde9be2-a99d-415e-b490-78a89ebdcd6e",
   "metadata": {},
   "source": [
    "## Defining Unrolling Rule:\n",
    "### Subset the non-1 multiplicity type and then redefine features to have the new 1-multiplicity types type them"
   ]
  },
  {
   "cell_type": "code",
   "execution_count": null,
   "id": "9762ba37-f128-4cef-9fc4-269ae8d52f37",
   "metadata": {},
   "outputs": [],
   "source": [
    "# TODO: Need to develop methods for adding model elements in PyMBE library."
   ]
  },
  {
   "cell_type": "code",
   "execution_count": null,
   "id": "0e055803-9710-4fc2-b812-9cc666cc2db3",
   "metadata": {},
   "outputs": [],
   "source": []
  }
 ],
 "metadata": {
  "kernelspec": {
   "display_name": "Python 3 (ipykernel)",
   "language": "python",
   "name": "python3"
  },
  "language_info": {
   "codemirror_mode": {
    "name": "ipython",
    "version": 3
   },
   "file_extension": ".py",
   "mimetype": "text/x-python",
   "name": "python",
   "nbconvert_exporter": "python",
   "pygments_lexer": "ipython3",
   "version": "3.9.13"
  }
 },
 "nbformat": 4,
 "nbformat_minor": 5
}
