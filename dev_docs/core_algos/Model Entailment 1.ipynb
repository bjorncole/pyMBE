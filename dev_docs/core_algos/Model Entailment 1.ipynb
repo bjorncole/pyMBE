{
 "cells": [
  {
   "cell_type": "markdown",
   "id": "0c14d216-f8b1-4967-b92c-ed8e71796e47",
   "metadata": {},
   "source": [
    "# Model Entailment 1\n",
    "\n",
    "This is the first of several notebooks to explore logical entailments in SysML v2 models, as well as the means by which to encode them."
   ]
  },
  {
   "cell_type": "code",
   "execution_count": 1,
   "id": "26930563-e2ff-4a75-aeb6-57223efbcb8c",
   "metadata": {},
   "outputs": [],
   "source": [
    "import json\n",
    "import pymbe.api as pm\n",
    "\n",
    "from pathlib import Path\n",
    "\n",
    "from typing import Any, Collection, Dict, List, Tuple, Union\n",
    "\n",
    "from pymbe.model import Model, Element\n",
    "from pymbe.model_modification import build_from_classifier_pattern, \\\n",
    "                                    new_element_ownership_pattern, \\\n",
    "                                    build_from_binary_relationship_pattern, \\\n",
    "                                    build_unioning_superset_classifier, \\\n",
    "                                    build_from_feature_pattern, \\\n",
    "                                    build_from_binary_connector_pattern\n",
    "\n",
    "from pymbe.query.metamodel_navigator import is_type_undefined_mult, \\\n",
    "                                    is_multiplicity_one, \\\n",
    "                                    is_multiplicity_specific_finite, \\\n",
    "                                    get_finite_multiplicity_types, \\\n",
    "                                    identify_connectors_one_side, \\\n",
    "                                    get_lower_multiplicty, \\\n",
    "                                    get_upper_multiplicty\n",
    "\n",
    "from uuid import uuid4"
   ]
  },
  {
   "cell_type": "markdown",
   "id": "3d272a8f-5666-4fcb-96b0-2c7c3f1a64fc",
   "metadata": {},
   "source": [
    "## Load up and explore basic model\n",
    "\n",
    "Load up a basic model in order to have basic package and namespace into which to add additional elements."
   ]
  },
  {
   "cell_type": "code",
   "execution_count": 2,
   "id": "87c1163a-2d73-4ae4-af8d-adfeb9562193",
   "metadata": {},
   "outputs": [
    {
     "data": {
      "text/plain": [
       "<SysML v2 Model (C:\\Users\\Bjorn Cole\\Documents\\GitHub\\pyMBE\\tests\\fixtures\\Model_Loader_Test_Level_2.json)>"
      ]
     },
     "execution_count": 2,
     "metadata": {},
     "output_type": "execute_result"
    }
   ],
   "source": [
    "filename = \"Model_Loader_Test_Level_2\"\n",
    "\n",
    "if not filename.endswith(\".json\"):\n",
    "    filename += \".json\"\n",
    "\n",
    "json_file = Path(Path.cwd()).parent.parent / \"tests/fixtures\" / filename\n",
    "\n",
    "level2 = pm.Model.load_from_post_file(json_file)\n",
    "level2"
   ]
  },
  {
   "cell_type": "code",
   "execution_count": 3,
   "id": "234d9ec2-c287-414a-af37-6a8051c2ba80",
   "metadata": {},
   "outputs": [
    {
     "data": {
      "text/plain": [
       "47"
      ]
     },
     "execution_count": 3,
     "metadata": {},
     "output_type": "execute_result"
    }
   ],
   "source": [
    "len(level2.elements)"
   ]
  },
  {
   "cell_type": "code",
   "execution_count": 4,
   "id": "2f5d8278-9c26-454b-aeda-a18266d66b67",
   "metadata": {},
   "outputs": [
    {
     "data": {
      "text/plain": [
       "[Context «Classifier»]"
      ]
     },
     "execution_count": 4,
     "metadata": {},
     "output_type": "execute_result"
    }
   ],
   "source": [
    "classifiers = [ele for ele in level2.elements.values() if ele._metatype == 'Classifier']\n",
    "classifiers"
   ]
  },
  {
   "cell_type": "markdown",
   "id": "8a2f435b-4a44-46dd-a1f9-c05e1046aeb6",
   "metadata": {},
   "source": [
    "Locate the root package of the model to which new elements will be added."
   ]
  },
  {
   "cell_type": "code",
   "execution_count": 5,
   "id": "0a15c942-a20a-49a9-9f99-b149bb6ad823",
   "metadata": {},
   "outputs": [
    {
     "data": {
      "text/plain": [
       "Model Loader Test Level 2 «Package»"
      ]
     },
     "execution_count": 5,
     "metadata": {},
     "output_type": "execute_result"
    }
   ],
   "source": [
    "base_package = classifiers[0].owningRelationship.owningRelatedElement\n",
    "base_package"
   ]
  },
  {
   "cell_type": "markdown",
   "id": "2cd61cb2-e285-41fc-be0d-1801985d59f9",
   "metadata": {},
   "source": [
    "## Example Application of Reasoning 1 - Build Common Class from Examples\n",
    "\n",
    "In this example, we look at a series of specific examples of an item, 4 bicycle wheels.\n",
    "\n",
    "First, add these elements to the model."
   ]
  },
  {
   "cell_type": "code",
   "execution_count": 6,
   "id": "e7612dee-8ab1-4c28-a33b-f70148ffaa42",
   "metadata": {},
   "outputs": [],
   "source": [
    "bw1 = build_from_classifier_pattern(owner=base_package, name=\"Bike Wheel #1\", model=level2, specific_fields={}, metatype=\"Classifier\")\n",
    "bw2 = build_from_classifier_pattern(owner=base_package, name=\"Bike Wheel #2\", model=level2, specific_fields={}, metatype=\"Classifier\")\n",
    "bw3 = build_from_classifier_pattern(owner=base_package, name=\"Bike Wheel #3\", model=level2, specific_fields={}, metatype=\"Classifier\")\n",
    "bw4 = build_from_classifier_pattern(owner=base_package, name=\"Bike Wheel #4\", model=level2, specific_fields={}, metatype=\"Classifier\")"
   ]
  },
  {
   "cell_type": "code",
   "execution_count": 7,
   "id": "175d0a83-3a1e-403f-849a-cd935d6184fd",
   "metadata": {},
   "outputs": [
    {
     "data": {
      "text/plain": [
       "<OwningMembership([Model Loader Test Level 2 «Package»] ←→ [Bike Wheel #1 «Classifier»])>"
      ]
     },
     "execution_count": 7,
     "metadata": {},
     "output_type": "execute_result"
    }
   ],
   "source": [
    "bw1.owningRelationship"
   ]
  },
  {
   "cell_type": "markdown",
   "id": "b74a5cfe-d405-40ca-92b4-79f83e567c1b",
   "metadata": {},
   "source": [
    "Now, create a new superclass that all of these specific wheels can be grouped into."
   ]
  },
  {
   "cell_type": "code",
   "execution_count": 8,
   "id": "1f61a33d-38b8-42ff-9dd8-a7d40f6e8089",
   "metadata": {},
   "outputs": [],
   "source": [
    "new_wheel = build_unioning_superset_classifier(classes=[bw1, bw2, bw3, bw4],\n",
    "                                    super_name=\"Bike Wheel\",\n",
    "                                    model=level2,\n",
    "                                    owner=base_package,\n",
    "                                    added_fields={})"
   ]
  },
  {
   "cell_type": "markdown",
   "id": "60aaedb3-fae4-42fa-8cd6-506d532405ef",
   "metadata": {},
   "source": [
    "Check that the wheel has its specific versions."
   ]
  },
  {
   "cell_type": "code",
   "execution_count": 9,
   "id": "59606feb-a73d-4c83-8901-9e7333897895",
   "metadata": {},
   "outputs": [
    {
     "data": {
      "text/plain": [
       "[Bike Wheel #1 «Classifier»,\n",
       " Bike Wheel #2 «Classifier»,\n",
       " Bike Wheel #3 «Classifier»,\n",
       " Bike Wheel #4 «Classifier»]"
      ]
     },
     "execution_count": 9,
     "metadata": {},
     "output_type": "execute_result"
    }
   ],
   "source": [
    "new_wheel.reverseSubclassification"
   ]
  },
  {
   "cell_type": "code",
   "execution_count": 10,
   "id": "f5138812-11bc-4e9a-9232-cef2fd26c5aa",
   "metadata": {},
   "outputs": [
    {
     "data": {
      "text/plain": [
       "[Context «Classifier»,\n",
       " Bike Wheel #1 «Classifier»,\n",
       " Bike Wheel #2 «Classifier»,\n",
       " Bike Wheel #3 «Classifier»,\n",
       " Bike Wheel #4 «Classifier»,\n",
       " Bike Wheel «Classifier»]"
      ]
     },
     "execution_count": 10,
     "metadata": {},
     "output_type": "execute_result"
    }
   ],
   "source": [
    "base_package.ownedMember"
   ]
  },
  {
   "cell_type": "markdown",
   "id": "837d82a5-7614-4c0c-9cf6-757ce0194d5e",
   "metadata": {},
   "source": [
    "## Developing unrolling rule around connectors\n",
    "\n",
    "Rule 1 - find connectors with ends that have a multiplicity of 1 and then specialize them."
   ]
  },
  {
   "cell_type": "code",
   "execution_count": 11,
   "id": "f96e9047-5472-4ea2-a1d1-d71e351a27d5",
   "metadata": {},
   "outputs": [],
   "source": [
    "connectors = [ele for ele in level2.elements.values() if ele._metatype == 'Connector']"
   ]
  },
  {
   "cell_type": "code",
   "execution_count": 12,
   "id": "d5ecb8a8-3592-41d0-8c0b-272935210bd8",
   "metadata": {},
   "outputs": [
    {
     "data": {
      "text/plain": [
       "[<EndFeatureMembership([<BindingConnector([4263296a-9ba6-4ebf-96a3-aff897ae1387 «Feature»] ←→ [972c4cc3-c930-49d4-8468-05a183106ce5 «Feature»])>] ←→ [fd93f251-98e5-4c9f-98c3-ab112690a971 «Feature»])>,\n",
       " <EndFeatureMembership([<BindingConnector([4263296a-9ba6-4ebf-96a3-aff897ae1387 «Feature»] ←→ [972c4cc3-c930-49d4-8468-05a183106ce5 «Feature»])>] ←→ [5e047bcc-a32e-4005-af3a-cb279d6f9f1b «Feature»])>,\n",
       " <EndFeatureMembership([<Connector([Side 1 «Feature»] ←→ [Side 2 «Feature»])>] ←→ [007d12b8-fc9d-4ad9-8b35-7dd35900aca5 «Feature»])>,\n",
       " <EndFeatureMembership([<Connector([Side 1 «Feature»] ←→ [Side 2 «Feature»])>] ←→ [911ec4fb-ec82-499f-8f7f-b2e9a39288ad «Feature»])>]"
      ]
     },
     "execution_count": 12,
     "metadata": {},
     "output_type": "execute_result"
    }
   ],
   "source": [
    "efms = [ele for ele in level2.elements.values() if ele._metatype == 'EndFeatureMembership']\n",
    "efms"
   ]
  },
  {
   "cell_type": "code",
   "execution_count": 13,
   "id": "f913d535-2c0f-4404-9209-5d94c4c165c6",
   "metadata": {},
   "outputs": [
    {
     "name": "stdout",
     "output_type": "stream",
     "text": [
      "007d12b8-fc9d-4ad9-8b35-7dd35900aca5 «Feature»\n",
      "Feature references Side 1 «Feature»\n",
      "911ec4fb-ec82-499f-8f7f-b2e9a39288ad «Feature»\n",
      "Feature references Side 2 «Feature»\n"
     ]
    }
   ],
   "source": [
    "for end_feature in connectors[0].throughEndFeatureMembership:\n",
    "    print(end_feature)\n",
    "    if 'throughReferenceSubsetting' in end_feature._derived:\n",
    "        print(f\"Feature references {end_feature.throughReferenceSubsetting[0]}\")"
   ]
  },
  {
   "cell_type": "code",
   "execution_count": 14,
   "id": "6b36f34a-6bcb-4d9c-8368-3a22c458e2c5",
   "metadata": {},
   "outputs": [
    {
     "data": {
      "text/plain": [
       "[Value «Feature»,\n",
       " Side 1 «Feature»,\n",
       " out result «Feature»,\n",
       " Value «Feature»,\n",
       " Side 2 «Feature»,\n",
       " 4263296a-9ba6-4ebf-96a3-aff897ae1387 «Feature»,\n",
       " 972c4cc3-c930-49d4-8468-05a183106ce5 «Feature»,\n",
       " fd93f251-98e5-4c9f-98c3-ab112690a971 «Feature»,\n",
       " 5e047bcc-a32e-4005-af3a-cb279d6f9f1b «Feature»,\n",
       " 007d12b8-fc9d-4ad9-8b35-7dd35900aca5 «Feature»,\n",
       " 911ec4fb-ec82-499f-8f7f-b2e9a39288ad «Feature»]"
      ]
     },
     "execution_count": 14,
     "metadata": {},
     "output_type": "execute_result"
    }
   ],
   "source": [
    "features = [ele for ele in level2.elements.values() if ele._metatype == 'Feature']\n",
    "features"
   ]
  },
  {
   "cell_type": "markdown",
   "id": "f2fb9bd1-ba29-4666-8e2d-cd7634fb1919",
   "metadata": {},
   "source": [
    "Look for multiplicity ranges in the model that are set to 1."
   ]
  },
  {
   "cell_type": "code",
   "execution_count": 15,
   "id": "e8b6c5bc-1a0b-4c3a-94cd-155ad8195133",
   "metadata": {},
   "outputs": [
    {
     "data": {
      "text/plain": [
       "[True, True, True, True, False, True, True, True, True, True, True]"
      ]
     },
     "execution_count": 15,
     "metadata": {},
     "output_type": "execute_result"
    }
   ],
   "source": [
    "[is_type_undefined_mult(ft) for ft in features]"
   ]
  },
  {
   "cell_type": "code",
   "execution_count": 16,
   "id": "d61820bc-2829-4466-9352-36e641ef07a8",
   "metadata": {},
   "outputs": [
    {
     "data": {
      "text/plain": [
       "[False, False, False, False, True, False, False, False, False, False, False]"
      ]
     },
     "execution_count": 16,
     "metadata": {},
     "output_type": "execute_result"
    }
   ],
   "source": [
    "[is_multiplicity_one(ft) for ft in features]"
   ]
  },
  {
   "cell_type": "code",
   "execution_count": 17,
   "id": "c371c854-5bf6-48ba-956b-ebad8773edbe",
   "metadata": {},
   "outputs": [
    {
     "data": {
      "text/plain": [
       "[False, False, False, False, False, False, False, False, False, False, False]"
      ]
     },
     "execution_count": 17,
     "metadata": {},
     "output_type": "execute_result"
    }
   ],
   "source": [
    "[is_multiplicity_specific_finite(ft) for ft in features]"
   ]
  },
  {
   "cell_type": "markdown",
   "id": "88373a7f-0f1a-46d5-a8b6-c68e7135d67b",
   "metadata": {},
   "source": [
    "Find all types (classifiers and features) that have a declared multiplicity that is finite."
   ]
  },
  {
   "cell_type": "code",
   "execution_count": 18,
   "id": "9e1bc1ae-94d0-4d5a-817b-5a3adbbdb4ac",
   "metadata": {},
   "outputs": [
    {
     "data": {
      "text/plain": [
       "[Side 2 «Feature»]"
      ]
     },
     "execution_count": 18,
     "metadata": {},
     "output_type": "execute_result"
    }
   ],
   "source": [
    "finite_mult = get_finite_multiplicity_types(level2)\n",
    "finite_mult"
   ]
  },
  {
   "cell_type": "code",
   "execution_count": 19,
   "id": "a2f8be44-16ea-4ffe-9f4d-8971fa4bbb65",
   "metadata": {},
   "outputs": [
    {
     "data": {
      "text/plain": [
       "1"
      ]
     },
     "execution_count": 19,
     "metadata": {},
     "output_type": "execute_result"
    }
   ],
   "source": [
    "get_lower_multiplicty(finite_mult[0])"
   ]
  },
  {
   "cell_type": "code",
   "execution_count": 20,
   "id": "57749543-4110-4649-b9a7-eba075de6ed7",
   "metadata": {},
   "outputs": [
    {
     "data": {
      "text/plain": [
       "1"
      ]
     },
     "execution_count": 20,
     "metadata": {},
     "output_type": "execute_result"
    }
   ],
   "source": [
    "get_upper_multiplicty(finite_mult[0])"
   ]
  },
  {
   "cell_type": "markdown",
   "id": "0b4031dc-82f5-49ee-b99a-f8142a2d6d5f",
   "metadata": {},
   "source": [
    "Find where ends the connection is bound to other features in the model."
   ]
  },
  {
   "cell_type": "code",
   "execution_count": 21,
   "id": "e7c6b400-3276-4508-93d1-455a8e633b99",
   "metadata": {},
   "outputs": [
    {
     "data": {
      "text/plain": [
       "[<ReferenceSubsetting([fd93f251-98e5-4c9f-98c3-ab112690a971 «Feature»] ←→ [4263296a-9ba6-4ebf-96a3-aff897ae1387 «Feature»])>,\n",
       " <ReferenceSubsetting([5e047bcc-a32e-4005-af3a-cb279d6f9f1b «Feature»] ←→ [972c4cc3-c930-49d4-8468-05a183106ce5 «Feature»])>,\n",
       " <ReferenceSubsetting([007d12b8-fc9d-4ad9-8b35-7dd35900aca5 «Feature»] ←→ [Side 1 «Feature»])>,\n",
       " <ReferenceSubsetting([911ec4fb-ec82-499f-8f7f-b2e9a39288ad «Feature»] ←→ [Side 2 «Feature»])>]"
      ]
     },
     "execution_count": 21,
     "metadata": {},
     "output_type": "execute_result"
    }
   ],
   "source": [
    "refsubs = [ele for ele in level2.elements.values() if ele._metatype == 'ReferenceSubsetting']\n",
    "refsubs"
   ]
  },
  {
   "cell_type": "code",
   "execution_count": 22,
   "id": "551985c7-8407-4943-8f93-54c3001b614c",
   "metadata": {},
   "outputs": [
    {
     "data": {
      "text/plain": [
       "[<Connector([Side 1 «Feature»] ←→ [Side 2 «Feature»])>]"
      ]
     },
     "execution_count": 22,
     "metadata": {},
     "output_type": "execute_result"
    }
   ],
   "source": [
    "conns_to_cover = identify_connectors_one_side(connectors)\n",
    "conns_to_cover"
   ]
  },
  {
   "cell_type": "code",
   "execution_count": 23,
   "id": "d8784f47-6911-4663-8297-daf9c9c728df",
   "metadata": {},
   "outputs": [
    {
     "data": {
      "text/plain": [
       "[Side 1 «Feature»]"
      ]
     },
     "execution_count": 23,
     "metadata": {},
     "output_type": "execute_result"
    }
   ],
   "source": [
    "conns_to_cover[0].source"
   ]
  },
  {
   "cell_type": "markdown",
   "id": "89ba8188-2537-45ad-b3a6-331df0cc5741",
   "metadata": {},
   "source": [
    "The function below shows the creation of a connector which requires many elements to be created (the connection itself, the ends, references out to other Features in the mind, specialization relationship."
   ]
  },
  {
   "cell_type": "code",
   "execution_count": 24,
   "id": "ef7acd99-9839-45ee-a370-600fc6fcdf37",
   "metadata": {},
   "outputs": [],
   "source": [
    "test_conn = build_from_binary_connector_pattern(\n",
    "    name=\"Test Connector\",\n",
    "    source_role_name=\"source end\",\n",
    "    target_role_name=\"target end\",\n",
    "    source=bw1,\n",
    "    target=bw2,\n",
    "    model=level2,\n",
    "    metatype=\"Connector\",\n",
    "    owner=base_package,\n",
    "    specific_fields={}\n",
    ")"
   ]
  },
  {
   "cell_type": "code",
   "execution_count": 25,
   "id": "4a87cacd-b5c8-46f7-812e-9e4a06b334e1",
   "metadata": {},
   "outputs": [
    {
     "data": {
      "text/plain": [
       "{'owningRelationship': {'@id': '936c1bbb-80f7-4c80-b1d7-d59da93c585e'},\n",
       " 'owningRelatedElement': None,\n",
       " 'source': [{'@id': '4416e243-936f-4fa4-8d9a-1ed39f060db9'}],\n",
       " 'ownedRelationship': [{'@id': '0f99a9ce-a536-4205-98a8-dc10e15df295'},\n",
       "  {'@id': 'e31c14e6-fc12-40e5-ab81-afbed5b76a4f'}],\n",
       " 'target': [{'@id': '77300e29-24cc-44e9-b1f3-03bd738d83c5'}],\n",
       " 'ownedRelatedElement': [],\n",
       " 'isOrdered': False,\n",
       " 'aliasIds': [],\n",
       " 'isEnd': False,\n",
       " 'direction': [],\n",
       " 'isSufficient': False,\n",
       " 'isReadOnly': False,\n",
       " 'isImpliedIncluded': False,\n",
       " 'elementId': '',\n",
       " 'isAbstract': False,\n",
       " 'declaredShortName': '',\n",
       " 'isImplied': False,\n",
       " 'isUnique': False,\n",
       " 'isPortion': False,\n",
       " 'isDirected': False,\n",
       " 'isComposite': False,\n",
       " 'isDerived': False,\n",
       " 'declaredName': 'Test Connector',\n",
       " 'relatedFeature': None,\n",
       " 'documentation': None,\n",
       " 'connectorEnd': None,\n",
       " 'owningMembership': None,\n",
       " 'ownedIntersecting': None,\n",
       " 'chainingFeature': None,\n",
       " 'ownedDisjoining': None,\n",
       " 'ownedDifferencing': None,\n",
       " 'ownedSpecialization': None,\n",
       " 'owningType': None,\n",
       " 'ownedRedefinition': None,\n",
       " 'ownedFeature': None,\n",
       " 'membership': None,\n",
       " 'importedMembership': None,\n",
       " 'featuringType': None,\n",
       " 'relatedElement': None,\n",
       " 'textualRepresentation': None,\n",
       " 'unioningType': None,\n",
       " 'ownedUnioning': None,\n",
       " 'differencingType': None,\n",
       " 'ownedElement': None,\n",
       " 'ownedEndFeature': None,\n",
       " 'owningFeatureMembership': None,\n",
       " 'type': None,\n",
       " 'ownedFeatureChaining': None,\n",
       " 'feature': None,\n",
       " 'ownedConjugator': None,\n",
       " 'ownedMember': None,\n",
       " 'member': None,\n",
       " 'ownedTyping': None,\n",
       " 'ownedReferenceSubsetting': None,\n",
       " 'multiplicity': None,\n",
       " 'ownedAnnotation': None,\n",
       " 'output': None,\n",
       " 'endFeature': None,\n",
       " 'targetFeature': None,\n",
       " 'intersectingType': None,\n",
       " 'featureMembership': None,\n",
       " 'directedFeature': None,\n",
       " 'ownedMembership': None,\n",
       " 'owningNamespace': None,\n",
       " 'ownedFeatureInverting': None,\n",
       " 'ownedFeatureMembership': None,\n",
       " 'owner': None,\n",
       " 'association': None,\n",
       " 'sourceFeature': None,\n",
       " 'endOwningType': None,\n",
       " 'inheritedMembership': None,\n",
       " 'inheritedFeature': None,\n",
       " 'input': None,\n",
       " 'ownedImport': None,\n",
       " 'ownedTypeFeaturing': None,\n",
       " 'ownedSubsetting': None,\n",
       " 'name': None,\n",
       " 'isConjugated': None,\n",
       " 'isNonunique': None,\n",
       " 'shortName': None,\n",
       " 'qualifiedName': None,\n",
       " 'isLibraryElement': None,\n",
       " '@type': 'Connector',\n",
       " '@id': '091fc82d-3b04-4bd0-a6c2-845ded472c88'}"
      ]
     },
     "execution_count": 25,
     "metadata": {},
     "output_type": "execute_result"
    }
   ],
   "source": [
    "test_conn._data"
   ]
  },
  {
   "cell_type": "markdown",
   "id": "a476fa8f-31b7-4483-a35a-98bfdfe7483a",
   "metadata": {},
   "source": [
    "Get the root package again for the new connections to be owned by."
   ]
  },
  {
   "cell_type": "code",
   "execution_count": 26,
   "id": "a2bd9083-1962-4f66-a62f-15a23a8649f2",
   "metadata": {},
   "outputs": [
    {
     "data": {
      "text/plain": [
       "Model Loader Test Level 2 «Package»"
      ]
     },
     "execution_count": 26,
     "metadata": {},
     "output_type": "execute_result"
    }
   ],
   "source": [
    "top_elements = [ele for ele in level2.ownedElement if ele._metatype == \"Namespace\"][0].throughOwningMembership\n",
    "top_package = [ele for ele in top_elements if ele._metatype == \"Package\"][0]\n",
    "top_package"
   ]
  },
  {
   "cell_type": "code",
   "execution_count": 27,
   "id": "37238e13-2aa7-4dfc-a834-5a3eea8df2d1",
   "metadata": {},
   "outputs": [
    {
     "data": {
      "text/plain": [
       "[<Connector([Side 1 «Feature»] ←→ [Side 2 «Feature»])>,\n",
       " <Connector([Bike Wheel #1 «Classifier»] ←→ [Bike Wheel #2 «Classifier»])>]"
      ]
     },
     "execution_count": 27,
     "metadata": {},
     "output_type": "execute_result"
    }
   ],
   "source": [
    "connectors = [ele for ele in level2.elements.values() if ele._metatype == 'Connector']\n",
    "connectors"
   ]
  },
  {
   "cell_type": "markdown",
   "id": "6f8e6951-35a6-40a6-ab5b-f6b7420d30d1",
   "metadata": {},
   "source": [
    "Look at end feature memberships and the links between the classifiers connected."
   ]
  },
  {
   "cell_type": "code",
   "execution_count": 28,
   "id": "ff47dd7a-648e-4258-bd2b-3a4c87056e0e",
   "metadata": {},
   "outputs": [
    {
     "data": {
      "text/plain": [
       "[<EndFeatureMembership([<Connector([Bike Wheel #1 «Classifier»] ←→ [Bike Wheel #2 «Classifier»])>] ←→ [source end «Feature»])>,\n",
       " <EndFeatureMembership([<Connector([Bike Wheel #1 «Classifier»] ←→ [Bike Wheel #2 «Classifier»])>] ←→ [target end «Feature»])>]"
      ]
     },
     "execution_count": 28,
     "metadata": {},
     "output_type": "execute_result"
    }
   ],
   "source": [
    "connectors[1].ownedRelationship"
   ]
  },
  {
   "cell_type": "code",
   "execution_count": 29,
   "id": "8d0f43da-d8c0-4f62-94eb-34de0921c083",
   "metadata": {},
   "outputs": [
    {
     "data": {
      "text/plain": [
       "[Bike Wheel #1 «Classifier»]"
      ]
     },
     "execution_count": 29,
     "metadata": {},
     "output_type": "execute_result"
    }
   ],
   "source": [
    "connectors[1].ownedRelationship[0].target[0].throughReferenceSubsetting"
   ]
  },
  {
   "cell_type": "code",
   "execution_count": 30,
   "id": "ed2409b3-3a5c-4b1b-8fd9-db729c9142c0",
   "metadata": {},
   "outputs": [
    {
     "data": {
      "text/plain": [
       "[Bike Wheel #2 «Classifier»]"
      ]
     },
     "execution_count": 30,
     "metadata": {},
     "output_type": "execute_result"
    }
   ],
   "source": [
    "connectors[1].ownedRelationship[1].target[0].throughReferenceSubsetting"
   ]
  },
  {
   "cell_type": "code",
   "execution_count": null,
   "id": "d177bbd5-00f3-43a9-a495-feab149dfb31",
   "metadata": {},
   "outputs": [],
   "source": []
  }
 ],
 "metadata": {
  "kernelspec": {
   "display_name": "Python 3 (ipykernel)",
   "language": "python",
   "name": "python3"
  },
  "language_info": {
   "codemirror_mode": {
    "name": "ipython",
    "version": 3
   },
   "file_extension": ".py",
   "mimetype": "text/x-python",
   "name": "python",
   "nbconvert_exporter": "python",
   "pygments_lexer": "ipython3",
   "version": "3.9.6"
  }
 },
 "nbformat": 4,
 "nbformat_minor": 5
}
