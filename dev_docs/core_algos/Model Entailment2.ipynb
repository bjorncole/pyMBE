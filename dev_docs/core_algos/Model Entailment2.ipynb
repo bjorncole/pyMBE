{
 "cells": [
  {
   "cell_type": "markdown",
   "id": "0c14d216-f8b1-4967-b92c-ed8e71796e47",
   "metadata": {},
   "source": [
    "# Model Entailment 2\n",
    "\n",
    "This notebook shows how to use entailments on SysML v2 models to look at specific behavior executions on a example car charger."
   ]
  },
  {
   "cell_type": "code",
   "execution_count": null,
   "id": "26930563-e2ff-4a75-aeb6-57223efbcb8c",
   "metadata": {},
   "outputs": [],
   "source": [
    "import json\n",
    "import pymbe.api as pm\n",
    "\n",
    "from pathlib import Path\n",
    "\n",
    "from typing import Any, Collection, Dict, List, Tuple, Union\n",
    "\n",
    "from pymbe.model import Model, Element\n",
    "from pymbe.model_modification import create_new_classifier, \\\n",
    "                                    own_new_element, \\\n",
    "                                    create_new_relationship, \\\n",
    "                                    create_super_classifier, \\\n",
    "                                    create_new_feature\n",
    "\n",
    "from uuid import uuid4"
   ]
  },
  {
   "cell_type": "markdown",
   "id": "3d272a8f-5666-4fcb-96b0-2c7c3f1a64fc",
   "metadata": {},
   "source": [
    "## Load up SysML Model\n",
    "\n",
    "Load up a basic model to explore the entailment logic. This version has the derived and implicit elements embedded with it to help with exploring data for the entailment."
   ]
  },
  {
   "cell_type": "code",
   "execution_count": null,
   "id": "87c1163a-2d73-4ae4-af8d-adfeb9562193",
   "metadata": {},
   "outputs": [],
   "source": [
    "filename = \"Concept of Operations Case with Derived\"\n",
    "\n",
    "if not filename.endswith(\".json\"):\n",
    "    filename += \".json\"\n",
    "\n",
    "json_file = Path(Path.cwd()).parent.parent / \"tests/fixtures\" / filename\n",
    "\n",
    "sysml_model = pm.Model.load_from_post_file(json_file)\n",
    "sysml_model"
   ]
  },
  {
   "cell_type": "code",
   "execution_count": null,
   "id": "234d9ec2-c287-414a-af37-6a8051c2ba80",
   "metadata": {},
   "outputs": [],
   "source": [
    "len(sysml_model.elements)"
   ]
  },
  {
   "cell_type": "code",
   "execution_count": null,
   "id": "f96e9047-5472-4ea2-a1d1-d71e351a27d5",
   "metadata": {},
   "outputs": [],
   "source": [
    "parts = [ele for ele in sysml_model.elements.values() if ele._metatype in ('PartDefinition', 'PartUsage')]\n",
    "parts"
   ]
  },
  {
   "cell_type": "code",
   "execution_count": null,
   "id": "6a893a25-b7e6-42fc-97dc-7b9cd940380a",
   "metadata": {},
   "outputs": [],
   "source": [
    "actions = [ele for ele in sysml_model.elements.values() if ele._metatype in ('ActionDefinition', 'ActionUsage')]\n",
    "actions"
   ]
  },
  {
   "cell_type": "markdown",
   "id": "0fc9f9e2-70ad-41f0-bdd2-cd3bbe3cfd6d",
   "metadata": {},
   "source": [
    "Gather up memberships in order to find action-action hierarchy to identify the subactions within each major action."
   ]
  },
  {
   "cell_type": "code",
   "execution_count": null,
   "id": "78f3391c-6dd3-41ef-9129-a60860b73e3b",
   "metadata": {},
   "outputs": [],
   "source": [
    "memberships = [ele for ele in sysml_model.elements.values() if ele._metatype in ('OwningMembership', 'FeatureMembership')]\n",
    "memberships[0:5]"
   ]
  },
  {
   "cell_type": "markdown",
   "id": "63ee76bd-6ee3-4527-b903-70c8a7a595ea",
   "metadata": {},
   "source": [
    "Isolate the FeatureMemberships that link an ActionDefinition or ActionUsage to children."
   ]
  },
  {
   "cell_type": "code",
   "execution_count": null,
   "id": "4b0ac61e-0aee-47cc-8905-e6f0e6f4523b",
   "metadata": {},
   "outputs": [],
   "source": [
    "action_action_memberships = [ele for ele in memberships\n",
    "                             if ele.source[0]._metatype in ('ActionUsage', 'ActionDefinition') and \n",
    "                            ele.target[0]._metatype in ('ActionUsage')]\n",
    "action_action_sources = [ele.source[0] for ele in action_action_memberships]\n",
    "\n",
    "parent_memberships = [ele for ele in action_action_memberships if ele.source[0] in set(action_action_sources)]\n",
    "parent_memberships"
   ]
  },
  {
   "cell_type": "markdown",
   "id": "e6e0fbc6-a841-48db-b6f3-987f0a80fd0a",
   "metadata": {},
   "source": [
    "## Cover semantic library features\n",
    "\n",
    "In the execution / interpretation examples, new instances of actions are created and rolled into a combined set (type) that is then used as the type for a new feature redefining the original from the library, closing it. \n",
    "\n",
    "For example:\n",
    "\n",
    "```\n",
    "#atom\n",
    "behavior MyDry specializes Dry;\n",
    "     \n",
    "#atom\n",
    "assoc MyPaint_Before_Dry_Link specializes HappensBefore {\n",
    "    end feature redefines earlierOccurrence : MyPaint;\n",
    "    end feature redefines laterOccurrence : MyDry;\n",
    "}\n",
    "\n",
    "behavior MyManufactureStepsPD unions MyPaint, MyDry;\n",
    "     \n",
    "#atom\n",
    "behavior MyManufacture specializes Manufacture {\n",
    "    feature redefines timeEnclosedOccurrences : MyManufactureStepsPD [2];\n",
    "    step redefines paint : MyPaint;\n",
    "    step redefines dry : MyDry [1];\n",
    "    succession redefines p_before_d : MyPaint_Before_Dry_Link [1]\n",
    "        first paint then dry;\n",
    "}\n",
    "```"
   ]
  },
  {
   "cell_type": "markdown",
   "id": "5f9b8978-67e8-42d9-bd97-65a2fbf51a3c",
   "metadata": {},
   "source": [
    "Isolate the features of interest in closing the library definitions with a specific result."
   ]
  },
  {
   "cell_type": "code",
   "execution_count": null,
   "id": "9a15e4c4-aeed-43a6-b6ab-129b09878bae",
   "metadata": {},
   "outputs": [],
   "source": [
    "subactions_feature = [ele for ele in actions if ele.declaredName == 'subactions'][0]\n",
    "subactions_feature"
   ]
  },
  {
   "cell_type": "code",
   "execution_count": null,
   "id": "0a46d5e7-7dd2-4136-ae15-1d584b5c8477",
   "metadata": {},
   "outputs": [],
   "source": [
    "start_feature = [ele for ele in actions if ele.declaredName == 'start'][0]\n",
    "start_feature"
   ]
  },
  {
   "cell_type": "code",
   "execution_count": null,
   "id": "39bed5ff-980f-4dbd-a72a-953ad1af2702",
   "metadata": {},
   "outputs": [],
   "source": [
    "done_feature = [ele for ele in actions if ele.declaredName == 'done'][0]\n",
    "done_feature"
   ]
  },
  {
   "cell_type": "markdown",
   "id": "c5a7b36d-3092-4e1c-b2f0-3a2a27848ce6",
   "metadata": {},
   "source": [
    "Gather up unique sets of the actions that need subactions covered under them."
   ]
  },
  {
   "cell_type": "code",
   "execution_count": null,
   "id": "1cf1d1bc-6453-4cf6-9d27-62c9571c8a31",
   "metadata": {},
   "outputs": [],
   "source": [
    "action_breakout_dict = {}\n",
    "\n",
    "for aa_source in set(action_action_sources):\n",
    "    new_children = []\n",
    "    for tgt in [ele.target[0] for ele in parent_memberships if ele.source[0] == aa_source]:\n",
    "        new_children.append(tgt)\n",
    "    action_breakout_dict.update({aa_source: new_children})\n",
    "    \n",
    "action_breakout_dict"
   ]
  },
  {
   "cell_type": "markdown",
   "id": "bdcd682a-d1fb-4ed0-87cd-99c21019e188",
   "metadata": {},
   "source": [
    "Get the base package in the model in order to have a place to put the newly generated actions.\n",
    "\n",
    "TODO: Move this over to a package specific to the analysis or an analysis case."
   ]
  },
  {
   "cell_type": "code",
   "execution_count": null,
   "id": "2d9ac2f9-03e6-48d1-bcce-25292f9029f2",
   "metadata": {},
   "outputs": [],
   "source": [
    "base_package = [ele for ele in sysml_model.ownedElement if ele._metatype == \"Namespace\"]\n",
    "base_package[0].throughOwningMembership"
   ]
  },
  {
   "cell_type": "code",
   "execution_count": null,
   "id": "70ac27e0-9adf-467b-a87a-e1c40fd2e123",
   "metadata": {},
   "outputs": [],
   "source": [
    "def cover_library_feature(\n",
    "    individuals: List[Element],\n",
    "    feature: Element,\n",
    "    covered_featured_type: Element,\n",
    "    model: Model\n",
    "):\n",
    "    '''\n",
    "    Cover the library feature with the given set of individual-like definitions\n",
    "    '''\n",
    "    \n",
    "    # TODO: Fix this to a better default owner\n",
    "    top_elements = [ele for ele in sysml_model.ownedElement if ele._metatype == \"Namespace\"][0].throughOwningMembership\n",
    "    top_package = [ele for ele in top_elements if ele._metatype == \"Package\"][0]\n",
    "   \n",
    "    # generate a new superclass for the individuals to tie them together\n",
    "    \n",
    "    covering_type = None\n",
    "    \n",
    "    if len(individuals) > 1:\n",
    "        covering_type = create_super_classifier(\n",
    "            classes=individuals,\n",
    "            super_name=action_key.declaredName + ' subactions',\n",
    "            owner=top_package,\n",
    "            model=model,\n",
    "            added_fields=added_dict,\n",
    "            unioned=True\n",
    "        )\n",
    "    \n",
    "    # redefine the feature in the specific type\n",
    "    \n",
    "    new_feature = create_new_feature(owner=covered_featured_type,\n",
    "                   name=feature.declaredName + ' (Closed)',\n",
    "                   model=model,\n",
    "                   added_fields={},\n",
    "                   metatype=feature._metatype)\n",
    "    \n",
    "    # assign the superclass as a type\n",
    "    \n",
    "    if len(individuals) > 1:\n",
    "        \n",
    "        ft_fields = {\n",
    "            'type': {'@id': covering_type._id},\n",
    "            'typedFeature': {'@id': new_feature._id}\n",
    "        }\n",
    "        \n",
    "        new_ft = create_new_relationship(\n",
    "            owner=new_feature,\n",
    "            source=new_feature,\n",
    "            target=covering_type,\n",
    "            model=model,\n",
    "            metatype=\"FeatureTyping\",\n",
    "            owned_related_element=None,\n",
    "            owning_related_element=new_feature,\n",
    "            added_fields={}\n",
    "        )\n",
    "    elif len(individuals) == 1:\n",
    "        \n",
    "        ft_fields = {\n",
    "            'type': {'@id': individuals[0]._id},\n",
    "            'typedFeature': {'@id': new_feature._id}\n",
    "        }\n",
    "        \n",
    "        new_ft = create_new_relationship(\n",
    "            owner=new_feature,\n",
    "            source=new_feature,\n",
    "            target=individuals[0],\n",
    "            model=model,\n",
    "            metatype=\"FeatureTyping\",\n",
    "            owned_related_element=None,\n",
    "            owning_related_element=new_feature,\n",
    "            added_fields={}\n",
    "        )\n",
    "    \n",
    "    print(f\"{covered_featured_type}::{new_feature} : {new_feature.throughFeatureTyping[0]}\")"
   ]
  },
  {
   "cell_type": "markdown",
   "id": "65273f49-8b55-4bcd-8179-1bf958052396",
   "metadata": {},
   "source": [
    "In this section, we look at all the subactions of an action, create exactly one specialization for them, bring them together into a set (Classifier), and then redefine the subactions feature in order to type it by that set, closing it. This is an example of closing a feature from the library in order to remove all degrees of freedom from it."
   ]
  },
  {
   "cell_type": "code",
   "execution_count": null,
   "id": "5cafc940-f8f9-4ca4-b692-dd0389880bf9",
   "metadata": {
    "tags": []
   },
   "outputs": [],
   "source": [
    "for action_key in action_breakout_dict.keys():\n",
    "    new_specials = []\n",
    "    for subaction in action_breakout_dict[action_key]:\n",
    "        added_dict = {\n",
    "            'isIndividual': False,\n",
    "            'isConjugated': False,\n",
    "            'isVariation': False,\n",
    "        }\n",
    "        action_owning_membership = [ele for ele in memberships if ele.target[0] == subaction]\n",
    "        \n",
    "        print(action_owning_membership[0].source[0])\n",
    "        \n",
    "        new_special = create_new_classifier(\n",
    "            owner=action_key,\n",
    "            name=f\"{subaction.declaredName} as run\",\n",
    "            model=sysml_model,\n",
    "            added_fields=added_dict,\n",
    "            metatype=\"ActionDefinition\"\n",
    "        )\n",
    "        \n",
    "        new_specials.append(new_special)\n",
    "        \n",
    "    # create a specialized version of the original action\n",
    "    \n",
    "    top_elements = [ele for ele in sysml_model.ownedElement if ele._metatype == \"Namespace\"][0].throughOwningMembership\n",
    "    top_package = [ele for ele in top_elements if ele._metatype == \"Package\"][0]\n",
    "    \n",
    "    solved_action = create_new_classifier(\n",
    "        owner=top_package,\n",
    "        name=f\"{action_key.declaredName} as run\",\n",
    "        model=sysml_model,\n",
    "        added_fields=added_dict,\n",
    "        metatype=\"ActionDefinition\"\n",
    "    )\n",
    "    \n",
    "    cover_library_feature(\n",
    "        individuals=new_specials,\n",
    "        feature=subactions_feature,\n",
    "        covered_featured_type=solved_action,\n",
    "        model=sysml_model\n",
    "    )"
   ]
  },
  {
   "cell_type": "code",
   "execution_count": null,
   "id": "14504482-6de9-4839-9cda-cd9a87129dfc",
   "metadata": {},
   "outputs": [],
   "source": [
    "unionings = [ele for ele in sysml_model.elements.values() if ele._metatype in ('Unioning')]\n",
    "unionings"
   ]
  },
  {
   "cell_type": "markdown",
   "id": "678b69c0-f964-431a-b32e-fb6ce3d725e6",
   "metadata": {},
   "source": [
    "The library hierarchy for subactions goes down:\n",
    "\n",
    "subactions\n",
    "\n",
    "...actions\n",
    "\n",
    "...subperformances\n",
    "\n",
    "......enclosedPerformances\n",
    "\n",
    ".........performances\n",
    "\n",
    ".........timeEnclosedPerformances\n",
    "\n",
    "......suboccurrences\n",
    "\n",
    "What this means is all subactions are subperformances which are fully enclosed in time without the larger action."
   ]
  },
  {
   "cell_type": "markdown",
   "id": "090a545e-7411-4652-b064-3af5beb63fe2",
   "metadata": {},
   "source": [
    "In addition to covering the subactions feature, we can also cover the start and done features."
   ]
  },
  {
   "cell_type": "code",
   "execution_count": null,
   "id": "0ddc9dd2-8ee0-4935-8910-93479e5be1cb",
   "metadata": {},
   "outputs": [],
   "source": [
    "all_actions = set([ele.source[0] for ele in parent_memberships]) | set([ele.target[0] for ele in parent_memberships])\n",
    "all_actions"
   ]
  },
  {
   "cell_type": "code",
   "execution_count": null,
   "id": "17da2a48-869c-4c2a-abf1-465b529f6d9f",
   "metadata": {},
   "outputs": [],
   "source": [
    "top_elements = [ele for ele in sysml_model.ownedElement if ele._metatype == \"Namespace\"][0].throughOwningMembership\n",
    "top_package = [ele for ele in top_elements if ele._metatype == \"Package\"][0]\n",
    "\n",
    "for action in all_actions:\n",
    "    #for subaction in action_breakout_dict[action_key]:\n",
    "    \n",
    "    solved_action = create_new_classifier(\n",
    "        owner=top_package,\n",
    "        name=f\"{action.declaredName} as run\",\n",
    "        model=sysml_model,\n",
    "        added_fields=added_dict,\n",
    "        metatype=\"ActionDefinition\"\n",
    "    )\n",
    "    \n",
    "    for side in ('startShot', 'endShot'):\n",
    "    \n",
    "        added_dict = {\n",
    "            'isIndividual': False,\n",
    "            'isConjugated': False,\n",
    "            'isVariation': False,\n",
    "        }\n",
    "\n",
    "        new_special = create_new_classifier(\n",
    "            owner=top_package,\n",
    "            name=f\"{action.declaredName} {side}\",\n",
    "            model=sysml_model,\n",
    "            added_fields=added_dict,\n",
    "            metatype=\"ActionDefinition\"\n",
    "        )\n",
    "        \n",
    "        feature_to_cover = None\n",
    "        \n",
    "        if side == 'startShot':\n",
    "            feature_to_cover = start_feature\n",
    "        elif side == 'endShot':\n",
    "            feature_to_cover = done_feature\n",
    "\n",
    "        cover_library_feature(\n",
    "            individuals=[new_special],\n",
    "            feature=feature_to_cover,\n",
    "            covered_featured_type=solved_action,\n",
    "            model=sysml_model\n",
    "        )\n",
    "        \n",
    "        print(f\"Loaded {new_special} under {solved_action}\")"
   ]
  },
  {
   "cell_type": "markdown",
   "id": "ef0d0be0-9037-40d2-ba41-646b1b1606bf",
   "metadata": {},
   "source": [
    "## Develop Timeslices for Car\n",
    "\n",
    "The actions that have assignment subactions are intended to set values within the car structure at specific times in a given scenario."
   ]
  },
  {
   "cell_type": "code",
   "execution_count": null,
   "id": "c71e3305-80c5-4564-9fbb-5caa3fccda79",
   "metadata": {},
   "outputs": [],
   "source": []
  }
 ],
 "metadata": {
  "kernelspec": {
   "display_name": "Python 3 (ipykernel)",
   "language": "python",
   "name": "python3"
  },
  "language_info": {
   "codemirror_mode": {
    "name": "ipython",
    "version": 3
   },
   "file_extension": ".py",
   "mimetype": "text/x-python",
   "name": "python",
   "nbconvert_exporter": "python",
   "pygments_lexer": "ipython3",
   "version": "3.9.13"
  }
 },
 "nbformat": 4,
 "nbformat_minor": 5
}
