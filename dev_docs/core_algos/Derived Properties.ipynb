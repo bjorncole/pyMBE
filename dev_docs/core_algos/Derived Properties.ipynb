{
 "cells": [
  {
   "cell_type": "markdown",
   "id": "1dc305b2-9db6-42fb-bbff-54e2d307f790",
   "metadata": {},
   "source": [
    "# Derived Properties Play\n",
    "\n",
    "Show the loading of derived properties and manipulation."
   ]
  },
  {
   "cell_type": "code",
   "execution_count": 1,
   "id": "1df54e87-37ff-4c78-8ce6-54ca3df97306",
   "metadata": {},
   "outputs": [],
   "source": [
    "import json\n",
    "import pymbe.api as pm\n",
    "\n",
    "from pathlib import Path\n",
    "\n",
    "from typing import Any, Collection, Dict, List, Tuple, Union\n",
    "\n",
    "from pymbe.model import Model, Element\n",
    "from pymbe.metamodel import derive_inherited_featurememberships, derive_features\n",
    "from pymbe.model_modification import *\n",
    "\n",
    "from pymbe.query.metamodel_navigator import is_type_undefined_mult, \\\n",
    "                                    is_multiplicity_one, \\\n",
    "                                    is_multiplicity_specific_finite, \\\n",
    "                                    get_finite_multiplicity_types, \\\n",
    "                                    identify_connectors_one_side, \\\n",
    "                                    get_lower_multiplicty, \\\n",
    "                                    get_upper_multiplicty, \\\n",
    "                                    does_behavior_have_write_features, \\\n",
    "                                    get_most_specific_feature_type, \\\n",
    "                                    has_type_named, \\\n",
    "                                    get_all_more_general_types\n",
    "\n",
    "from uuid import uuid4"
   ]
  },
  {
   "cell_type": "code",
   "execution_count": 2,
   "id": "6a24ca18-26c5-411e-a9cf-cab6e4287dc1",
   "metadata": {},
   "outputs": [
    {
     "name": "stderr",
     "output_type": "stream",
     "text": [
      "c:\\users\\bjorn cole\\documents\\github\\pymbe\\src\\pymbe\\label.py:117: UserWarning: Cannot process Expression elements yet!\n",
      "  warn(f\"Cannot process {expression._metatype} elements yet!\")\n"
     ]
    },
    {
     "data": {
      "text/plain": [
       "<SysML v2 Model (C:\\Users\\Bjorn Cole\\Documents\\GitHub\\pyMBE\\dev_docs\\core_algos\\annex_a_data\\A-3-8-ChangingFeatureValues.json)>"
      ]
     },
     "execution_count": 2,
     "metadata": {},
     "output_type": "execute_result"
    }
   ],
   "source": [
    "filename = \"A-3-8-ChangingFeatureValues\"\n",
    "\n",
    "if not filename.endswith(\".json\"):\n",
    "    filename += \".json\"\n",
    "\n",
    "json_file = Path(Path.cwd()) / \"annex_a_data\" / filename\n",
    "\n",
    "feature_values_data = pm.Model.load_from_post_file(json_file)\n",
    "feature_values_data"
   ]
  },
  {
   "cell_type": "code",
   "execution_count": 3,
   "id": "f8f1df61-5b1a-4cbc-b614-dc5f3c66820a",
   "metadata": {},
   "outputs": [
    {
     "data": {
      "text/plain": [
       "[ChangingFeatureValuesModelToBeExecuted «Package»,\n",
       " ChangingFeatureValuesExecution «Package»]"
      ]
     },
     "execution_count": 3,
     "metadata": {},
     "output_type": "execute_result"
    }
   ],
   "source": [
    "packages = [ele for ele in feature_values_data.elements.values() if ele._metatype == 'Package']\n",
    "packages"
   ]
  },
  {
   "cell_type": "code",
   "execution_count": 4,
   "id": "1b2483d6-72c7-4106-8970-20a2938a41b6",
   "metadata": {},
   "outputs": [
    {
     "data": {
      "text/plain": [
       "[]"
      ]
     },
     "execution_count": 4,
     "metadata": {},
     "output_type": "execute_result"
    }
   ],
   "source": [
    "packages[0].reverseSpecialization"
   ]
  },
  {
   "cell_type": "code",
   "execution_count": 5,
   "id": "9a53b48a-1566-4d28-bb0e-95c45c8846b7",
   "metadata": {},
   "outputs": [
    {
     "data": {
      "text/plain": [
       "objectToPaint: Product «Feature»"
      ]
     },
     "execution_count": 5,
     "metadata": {},
     "output_type": "execute_result"
    }
   ],
   "source": [
    "objToPaint = packages[0].throughOwningMembership[1].throughFeatureMembership[1].throughFeatureMembership[0]\n",
    "objToPaint"
   ]
  },
  {
   "cell_type": "code",
   "execution_count": 6,
   "id": "f35fec5e-1029-4e6c-ad59-272c413b4377",
   "metadata": {},
   "outputs": [
    {
     "data": {
      "text/plain": [
       "[objectToPaint: Product «Feature», Product «Structure»]"
      ]
     },
     "execution_count": 6,
     "metadata": {},
     "output_type": "execute_result"
    }
   ],
   "source": [
    "get_all_more_general_types(objToPaint)"
   ]
  },
  {
   "cell_type": "code",
   "execution_count": 7,
   "id": "15b5781b-2613-47fc-8131-94c14b762253",
   "metadata": {},
   "outputs": [
    {
     "data": {
      "text/plain": [
       "[]"
      ]
     },
     "execution_count": 7,
     "metadata": {},
     "output_type": "execute_result"
    }
   ],
   "source": [
    "packages[1].throughOwningMembership"
   ]
  },
  {
   "cell_type": "code",
   "execution_count": 8,
   "id": "90f1f604-79a1-4c5c-98b3-90cfe62d9459",
   "metadata": {},
   "outputs": [
    {
     "data": {
      "text/plain": [
       "[]"
      ]
     },
     "execution_count": 8,
     "metadata": {},
     "output_type": "execute_result"
    }
   ],
   "source": [
    "local_more_general =  objToPaint.throughFeatureTyping + \\\n",
    "                            objToPaint.reverseSubclassification\n",
    "\n",
    "local_more_general"
   ]
  },
  {
   "cell_type": "code",
   "execution_count": 9,
   "id": "05575312-a2ea-4647-9a04-cfbc4b851f9a",
   "metadata": {},
   "outputs": [
    {
     "data": {
      "text/plain": [
       "[objectToPaint: Product «Feature»]"
      ]
     },
     "execution_count": 9,
     "metadata": {},
     "output_type": "execute_result"
    }
   ],
   "source": [
    "objToPaint.throughRedefinition"
   ]
  },
  {
   "cell_type": "code",
   "execution_count": 10,
   "id": "87479808-193e-49cb-a418-e32d3d0a05b5",
   "metadata": {},
   "outputs": [
    {
     "data": {
      "text/plain": [
       "[<FeatureMembership([Product «Structure»] ←→ [isPainted: Boolean «Feature»])>,\n",
       " <FeatureMembership([Product «Structure»] ←→ [isDry: Boolean «Feature»])>,\n",
       " <FeatureMembership([Product «Structure»] ←→ [isShipped: Boolean «Feature»])>]"
      ]
     },
     "execution_count": 10,
     "metadata": {},
     "output_type": "execute_result"
    }
   ],
   "source": [
    "derive_inherited_featurememberships(objToPaint)"
   ]
  },
  {
   "cell_type": "code",
   "execution_count": 11,
   "id": "cd354a79-7d0f-4877-818c-c5cd04ec9289",
   "metadata": {},
   "outputs": [
    {
     "data": {
      "text/plain": [
       "[<Redefinition([objectToPaint: Product «Feature»] ←→ [objectToPaint: Product «Feature»])>,\n",
       " <FeatureValue([objectToPaint: Product «Feature»] ←→ [objectToFinish «FeatureReferenceExpression»])>]"
      ]
     },
     "execution_count": 11,
     "metadata": {},
     "output_type": "execute_result"
    }
   ],
   "source": [
    "objToPaint.ownedRelationship"
   ]
  },
  {
   "cell_type": "code",
   "execution_count": 12,
   "id": "89af3cff-2da1-4d22-8a44-23ddf7495308",
   "metadata": {},
   "outputs": [
    {
     "data": {
      "text/plain": [
       "[isPainted: Boolean «Feature»,\n",
       " isDry: Boolean «Feature»,\n",
       " isShipped: Boolean «Feature»]"
      ]
     },
     "execution_count": 12,
     "metadata": {},
     "output_type": "execute_result"
    }
   ],
   "source": [
    "derive_features(objToPaint)"
   ]
  }
 ],
 "metadata": {
  "kernelspec": {
   "display_name": "Python 3 (ipykernel)",
   "language": "python",
   "name": "python3"
  },
  "language_info": {
   "codemirror_mode": {
    "name": "ipython",
    "version": 3
   },
   "file_extension": ".py",
   "mimetype": "text/x-python",
   "name": "python",
   "nbconvert_exporter": "python",
   "pygments_lexer": "ipython3",
   "version": "3.9.6"
  }
 },
 "nbformat": 4,
 "nbformat_minor": 5
}
