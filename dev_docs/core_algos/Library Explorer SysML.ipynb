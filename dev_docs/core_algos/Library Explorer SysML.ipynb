{
 "cells": [
  {
   "cell_type": "markdown",
   "id": "f2a7ea9a-002e-43c4-ade8-1d3192bdb507",
   "metadata": {},
   "source": [
    "# Library Explorer SysML\n",
    "\n",
    "Open up SysML semantic library and explore how pyMBE renders it."
   ]
  },
  {
   "cell_type": "code",
   "execution_count": 1,
   "id": "813893a6-0fec-461d-bd28-b955b525c589",
   "metadata": {},
   "outputs": [],
   "source": [
    "import json\n",
    "from importlib import resources as lib_resources\n",
    "import pymbe.api as pm\n",
    "\n",
    "from pymbe.query.metamodel_navigator import \\\n",
    "    get_effective_basic_name, get_effective_lower_multiplicity, get_effective_upper_multiplicity, get_most_specific_feature_type"
   ]
  },
  {
   "cell_type": "markdown",
   "id": "45f864c3-b204-42ad-a074-65127705af6c",
   "metadata": {},
   "source": [
    "## Open Library Data\n",
    "\n",
    "The library data are organized around namespaces, where each namespace corresponds to a specific file in the library."
   ]
  },
  {
   "cell_type": "code",
   "execution_count": 2,
   "id": "52e7a6dd-94c1-4062-9f5f-ecc3bfc6e26c",
   "metadata": {},
   "outputs": [
    {
     "ename": "KeyError",
     "evalue": "'Failed to find element with id ecf35b7c-03d1-48f8-ae0d-45caf270f1af while looking for owner of Base'",
     "output_type": "error",
     "traceback": [
      "\u001b[1;31m---------------------------------------------------------------------------\u001b[0m",
      "\u001b[1;31mKeyError\u001b[0m                                  Traceback (most recent call last)",
      "\u001b[1;32mc:\\users\\bjorn cole\\documents\\github\\pymbe\\src\\pymbe\\model.py\u001b[0m in \u001b[0;36mget_owner\u001b[1;34m(self)\u001b[0m\n\u001b[0;32m    571\u001b[0m         \u001b[1;32mtry\u001b[0m\u001b[1;33m:\u001b[0m\u001b[1;33m\u001b[0m\u001b[1;33m\u001b[0m\u001b[0m\n\u001b[1;32m--> 572\u001b[1;33m             \u001b[1;32mreturn\u001b[0m \u001b[0mself\u001b[0m\u001b[1;33m.\u001b[0m\u001b[0m_model\u001b[0m\u001b[1;33m.\u001b[0m\u001b[0mget_element\u001b[0m\u001b[1;33m(\u001b[0m\u001b[0mowner_id\u001b[0m\u001b[1;33m)\u001b[0m\u001b[1;33m\u001b[0m\u001b[1;33m\u001b[0m\u001b[0m\n\u001b[0m\u001b[0;32m    573\u001b[0m         \u001b[1;32mexcept\u001b[0m \u001b[0mKeyError\u001b[0m \u001b[1;32mas\u001b[0m \u001b[0mno_owner\u001b[0m\u001b[1;33m:\u001b[0m\u001b[1;33m\u001b[0m\u001b[1;33m\u001b[0m\u001b[0m\n",
      "\u001b[1;32mc:\\users\\bjorn cole\\documents\\github\\pymbe\\src\\pymbe\\model.py\u001b[0m in \u001b[0;36mget_element\u001b[1;34m(self, element_id, fail, resolve)\u001b[0m\n\u001b[0;32m    251\u001b[0m                     \u001b[1;32mpass\u001b[0m\u001b[1;33m\u001b[0m\u001b[1;33m\u001b[0m\u001b[0m\n\u001b[1;32m--> 252\u001b[1;33m             \u001b[1;32mraise\u001b[0m \u001b[0mKeyError\u001b[0m\u001b[1;33m(\u001b[0m\u001b[1;34mf\"Could not retrieve '{element_id}' from the API\"\u001b[0m\u001b[1;33m)\u001b[0m\u001b[1;33m\u001b[0m\u001b[1;33m\u001b[0m\u001b[0m\n\u001b[0m\u001b[0;32m    253\u001b[0m         \u001b[1;32mreturn\u001b[0m \u001b[0melement\u001b[0m\u001b[1;33m\u001b[0m\u001b[1;33m\u001b[0m\u001b[0m\n",
      "\u001b[1;31mKeyError\u001b[0m: \"Could not retrieve 'ecf35b7c-03d1-48f8-ae0d-45caf270f1af' from the API\"",
      "\nThe above exception was the direct cause of the following exception:\n",
      "\u001b[1;31mKeyError\u001b[0m                                  Traceback (most recent call last)",
      "\u001b[1;32mC:\\Users\\BJORNC~1\\AppData\\Local\\Temp/ipykernel_10656/4060997030.py\u001b[0m in \u001b[0;36m<module>\u001b[1;34m\u001b[0m\n\u001b[0;32m      2\u001b[0m \u001b[1;33m\u001b[0m\u001b[0m\n\u001b[0;32m      3\u001b[0m \u001b[1;32mwith\u001b[0m \u001b[0mlib_resources\u001b[0m\u001b[1;33m.\u001b[0m\u001b[0mpath\u001b[0m\u001b[1;33m(\u001b[0m\u001b[1;34m\"pymbe.static_data\"\u001b[0m\u001b[1;33m,\u001b[0m \u001b[1;34m\"SysMLLibrary.json\"\u001b[0m\u001b[1;33m)\u001b[0m \u001b[1;32mas\u001b[0m \u001b[0mlib_data\u001b[0m\u001b[1;33m:\u001b[0m\u001b[1;33m\u001b[0m\u001b[1;33m\u001b[0m\u001b[0m\n\u001b[1;32m----> 4\u001b[1;33m     \u001b[0mlibrary_model\u001b[0m \u001b[1;33m=\u001b[0m \u001b[0mpm\u001b[0m\u001b[1;33m.\u001b[0m\u001b[0mModel\u001b[0m\u001b[1;33m.\u001b[0m\u001b[0mload_from_post_file\u001b[0m\u001b[1;33m(\u001b[0m\u001b[0mlib_data\u001b[0m\u001b[1;33m)\u001b[0m\u001b[1;33m\u001b[0m\u001b[1;33m\u001b[0m\u001b[0m\n\u001b[0m",
      "\u001b[1;32mc:\\users\\bjorn cole\\documents\\github\\pymbe\\src\\pymbe\\model.py\u001b[0m in \u001b[0;36mload_from_post_file\u001b[1;34m(filepath, encoding)\u001b[0m\n\u001b[0;32m    215\u001b[0m                 \u001b[0mfactored_data\u001b[0m\u001b[1;33m.\u001b[0m\u001b[0mappend\u001b[0m\u001b[1;33m(\u001b[0m\u001b[0mfactored_data_element\u001b[0m\u001b[1;33m)\u001b[0m\u001b[1;33m\u001b[0m\u001b[1;33m\u001b[0m\u001b[0m\n\u001b[0;32m    216\u001b[0m \u001b[1;33m\u001b[0m\u001b[0m\n\u001b[1;32m--> 217\u001b[1;33m         return Model.load(\n\u001b[0m\u001b[0;32m    218\u001b[0m             \u001b[0melements\u001b[0m\u001b[1;33m=\u001b[0m\u001b[0mfactored_data\u001b[0m\u001b[1;33m,\u001b[0m\u001b[1;33m\u001b[0m\u001b[1;33m\u001b[0m\u001b[0m\n\u001b[0;32m    219\u001b[0m             \u001b[0mname\u001b[0m\u001b[1;33m=\u001b[0m\u001b[0mfilepath\u001b[0m\u001b[1;33m.\u001b[0m\u001b[0mname\u001b[0m\u001b[1;33m,\u001b[0m\u001b[1;33m\u001b[0m\u001b[1;33m\u001b[0m\u001b[0m\n",
      "\u001b[1;32mc:\\users\\bjorn cole\\documents\\github\\pymbe\\src\\pymbe\\model.py\u001b[0m in \u001b[0;36mload\u001b[1;34m(elements, **kwargs)\u001b[0m\n\u001b[0;32m    173\u001b[0m     ) -> \"Model\":\n\u001b[0;32m    174\u001b[0m         \u001b[1;34m\"\"\"Make a Model from an iterable container of elements\"\"\"\u001b[0m\u001b[1;33m\u001b[0m\u001b[1;33m\u001b[0m\u001b[0m\n\u001b[1;32m--> 175\u001b[1;33m         return Model(\n\u001b[0m\u001b[0;32m    176\u001b[0m             elements={\n\u001b[0;32m    177\u001b[0m                 \u001b[0melement\u001b[0m\u001b[1;33m.\u001b[0m\u001b[0mget\u001b[0m\u001b[1;33m(\u001b[0m\u001b[1;34m\"identity\"\u001b[0m\u001b[1;33m,\u001b[0m \u001b[0melement\u001b[0m\u001b[1;33m)\u001b[0m\u001b[1;33m.\u001b[0m\u001b[0mget\u001b[0m\u001b[1;33m(\u001b[0m\u001b[1;34m\"@id\"\u001b[0m\u001b[1;33m)\u001b[0m\u001b[1;33m:\u001b[0m \u001b[0melement\u001b[0m\u001b[1;33m.\u001b[0m\u001b[0mget\u001b[0m\u001b[1;33m(\u001b[0m\u001b[1;34m\"payload\"\u001b[0m\u001b[1;33m,\u001b[0m \u001b[0melement\u001b[0m\u001b[1;33m)\u001b[0m\u001b[1;33m\u001b[0m\u001b[1;33m\u001b[0m\u001b[0m\n",
      "\u001b[1;32mc:\\users\\bjorn cole\\documents\\github\\pymbe\\src\\pymbe\\model.py\u001b[0m in \u001b[0;36m__init__\u001b[1;34m(self, elements, name, all_relationships, all_non_relationships, ownedElement, ownedMetatype, ownedRelationship, source, _api, _initializing, _naming, _labeling, metamodel, _referenced_models, _metamodel_hints)\u001b[0m\n",
      "\u001b[1;32mc:\\users\\bjorn cole\\documents\\github\\pymbe\\src\\pymbe\\model.py\u001b[0m in \u001b[0;36m__post_init__\u001b[1;34m(self)\u001b[0m\n\u001b[0;32m    156\u001b[0m         }\n\u001b[0;32m    157\u001b[0m \u001b[1;33m\u001b[0m\u001b[0m\n\u001b[1;32m--> 158\u001b[1;33m         \u001b[0mself\u001b[0m\u001b[1;33m.\u001b[0m\u001b[0m_add_owned\u001b[0m\u001b[1;33m(\u001b[0m\u001b[1;33m)\u001b[0m\u001b[1;33m\u001b[0m\u001b[1;33m\u001b[0m\u001b[0m\n\u001b[0m\u001b[0;32m    159\u001b[0m \u001b[1;33m\u001b[0m\u001b[0m\n\u001b[0;32m    160\u001b[0m         \u001b[1;31m# Modify and add derived data to the elements\u001b[0m\u001b[1;33m\u001b[0m\u001b[1;33m\u001b[0m\u001b[1;33m\u001b[0m\u001b[0m\n",
      "\u001b[1;32mc:\\users\\bjorn cole\\documents\\github\\pymbe\\src\\pymbe\\model.py\u001b[0m in \u001b[0;36m_add_owned\u001b[1;34m(self)\u001b[0m\n\u001b[0;32m    323\u001b[0m         }\n\u001b[0;32m    324\u001b[0m \u001b[1;33m\u001b[0m\u001b[0m\n\u001b[1;32m--> 325\u001b[1;33m         \u001b[0mowned\u001b[0m \u001b[1;33m=\u001b[0m \u001b[1;33m[\u001b[0m\u001b[0melement\u001b[0m \u001b[1;32mfor\u001b[0m \u001b[0melement\u001b[0m \u001b[1;32min\u001b[0m \u001b[0melements\u001b[0m\u001b[1;33m.\u001b[0m\u001b[0mvalues\u001b[0m\u001b[1;33m(\u001b[0m\u001b[1;33m)\u001b[0m \u001b[1;32mif\u001b[0m \u001b[0melement\u001b[0m\u001b[1;33m.\u001b[0m\u001b[0mget_owner\u001b[0m\u001b[1;33m(\u001b[0m\u001b[1;33m)\u001b[0m \u001b[1;32mis\u001b[0m \u001b[1;32mNone\u001b[0m\u001b[1;33m]\u001b[0m\u001b[1;33m\u001b[0m\u001b[1;33m\u001b[0m\u001b[0m\n\u001b[0m\u001b[0;32m    326\u001b[0m         self.ownedElement = ListOfNamedItems(\n\u001b[0;32m    327\u001b[0m             \u001b[0melement\u001b[0m \u001b[1;32mfor\u001b[0m \u001b[0melement\u001b[0m \u001b[1;32min\u001b[0m \u001b[0mowned\u001b[0m \u001b[1;32mif\u001b[0m \u001b[1;32mnot\u001b[0m \u001b[0melement\u001b[0m\u001b[1;33m.\u001b[0m\u001b[0m_is_relationship\u001b[0m\u001b[1;33m\u001b[0m\u001b[1;33m\u001b[0m\u001b[0m\n",
      "\u001b[1;32mc:\\users\\bjorn cole\\documents\\github\\pymbe\\src\\pymbe\\model.py\u001b[0m in \u001b[0;36m<listcomp>\u001b[1;34m(.0)\u001b[0m\n\u001b[0;32m    323\u001b[0m         }\n\u001b[0;32m    324\u001b[0m \u001b[1;33m\u001b[0m\u001b[0m\n\u001b[1;32m--> 325\u001b[1;33m         \u001b[0mowned\u001b[0m \u001b[1;33m=\u001b[0m \u001b[1;33m[\u001b[0m\u001b[0melement\u001b[0m \u001b[1;32mfor\u001b[0m \u001b[0melement\u001b[0m \u001b[1;32min\u001b[0m \u001b[0melements\u001b[0m\u001b[1;33m.\u001b[0m\u001b[0mvalues\u001b[0m\u001b[1;33m(\u001b[0m\u001b[1;33m)\u001b[0m \u001b[1;32mif\u001b[0m \u001b[0melement\u001b[0m\u001b[1;33m.\u001b[0m\u001b[0mget_owner\u001b[0m\u001b[1;33m(\u001b[0m\u001b[1;33m)\u001b[0m \u001b[1;32mis\u001b[0m \u001b[1;32mNone\u001b[0m\u001b[1;33m]\u001b[0m\u001b[1;33m\u001b[0m\u001b[1;33m\u001b[0m\u001b[0m\n\u001b[0m\u001b[0;32m    326\u001b[0m         self.ownedElement = ListOfNamedItems(\n\u001b[0;32m    327\u001b[0m             \u001b[0melement\u001b[0m \u001b[1;32mfor\u001b[0m \u001b[0melement\u001b[0m \u001b[1;32min\u001b[0m \u001b[0mowned\u001b[0m \u001b[1;32mif\u001b[0m \u001b[1;32mnot\u001b[0m \u001b[0melement\u001b[0m\u001b[1;33m.\u001b[0m\u001b[0m_is_relationship\u001b[0m\u001b[1;33m\u001b[0m\u001b[1;33m\u001b[0m\u001b[0m\n",
      "\u001b[1;32mc:\\users\\bjorn cole\\documents\\github\\pymbe\\src\\pymbe\\model.py\u001b[0m in \u001b[0;36mget_owner\u001b[1;34m(self)\u001b[0m\n\u001b[0;32m    581\u001b[0m             \u001b[1;32mif\u001b[0m \u001b[1;34m\"declaredName\"\u001b[0m \u001b[1;32min\u001b[0m \u001b[0mdata\u001b[0m\u001b[1;33m.\u001b[0m\u001b[0mkeys\u001b[0m\u001b[1;33m(\u001b[0m\u001b[1;33m)\u001b[0m\u001b[1;33m:\u001b[0m\u001b[1;33m\u001b[0m\u001b[1;33m\u001b[0m\u001b[0m\n\u001b[0;32m    582\u001b[0m                 \u001b[0mplayback_name\u001b[0m \u001b[1;33m=\u001b[0m \u001b[0mdata\u001b[0m\u001b[1;33m[\u001b[0m\u001b[1;34m\"declaredName\"\u001b[0m\u001b[1;33m]\u001b[0m\u001b[1;33m\u001b[0m\u001b[1;33m\u001b[0m\u001b[0m\n\u001b[1;32m--> 583\u001b[1;33m             raise KeyError(\n\u001b[0m\u001b[0;32m    584\u001b[0m                 \u001b[1;34mf\"Failed to find element with id {owner_id} while \"\u001b[0m\u001b[1;33m\u001b[0m\u001b[1;33m\u001b[0m\u001b[0m\n\u001b[0;32m    585\u001b[0m                 \u001b[1;33m+\u001b[0m \u001b[1;34mf\"looking for owner of {playback_name}\"\u001b[0m\u001b[1;33m\u001b[0m\u001b[1;33m\u001b[0m\u001b[0m\n",
      "\u001b[1;31mKeyError\u001b[0m: 'Failed to find element with id ecf35b7c-03d1-48f8-ae0d-45caf270f1af while looking for owner of Base'"
     ]
    }
   ],
   "source": [
    "library_model = None\n",
    "\n",
    "with lib_resources.path(\"pymbe.static_data\", \"SysMLLibrary.json\") as lib_data:\n",
    "    library_model = pm.Model.load_from_post_file(lib_data)"
   ]
  },
  {
   "cell_type": "markdown",
   "id": "2bfa3d56-ad37-4891-a887-57ad8227efa5",
   "metadata": {},
   "source": [
    "## Find Library Namespaces\n",
    "\n",
    "When the library is exported via the KerML2JSON methods from the reference implementation, a single file is created that contains multiple namespaces, each one representing one of the core library files."
   ]
  },
  {
   "cell_type": "code",
   "execution_count": null,
   "id": "da17467f-eb1b-4cec-b1ea-51c6e25dac43",
   "metadata": {},
   "outputs": [],
   "source": [
    "library_model.ownedElement"
   ]
  },
  {
   "cell_type": "markdown",
   "id": "5dd4aad8-6d40-4106-806d-6b63e17c87c1",
   "metadata": {},
   "source": [
    "## Base Library elements\n",
    "\n",
    "Load up the Base namespace and get to the root Package within it."
   ]
  },
  {
   "cell_type": "code",
   "execution_count": null,
   "id": "8cebda6d-a45c-4233-bf9f-8e58b4c97b72",
   "metadata": {},
   "outputs": [],
   "source": [
    "base_ns = [library_model_ns for library_model_ns in library_model.ownedElement if library_model_ns.throughOwningMembership[0].declaredName == 'Base'][0]"
   ]
  },
  {
   "cell_type": "code",
   "execution_count": null,
   "id": "0f379827-b8df-4efd-b8b3-5ff6a6d397f5",
   "metadata": {},
   "outputs": [],
   "source": [
    "base_ns.throughOwningMembership[0]._data"
   ]
  },
  {
   "cell_type": "markdown",
   "id": "2fd70461-b173-4a31-ae0a-478b657c3c50",
   "metadata": {},
   "source": [
    "### Root Elements of Base library\n",
    "\n",
    "Look at all the root level elements within the Base package."
   ]
  },
  {
   "cell_type": "code",
   "execution_count": null,
   "id": "01982978-a75f-4441-8236-1a7429972cdc",
   "metadata": {},
   "outputs": [],
   "source": [
    "base_ns.throughOwningMembership[0].throughOwningMembership"
   ]
  },
  {
   "cell_type": "code",
   "execution_count": null,
   "id": "29638df3-b7e3-4bd0-80a0-4718458fe8e3",
   "metadata": {},
   "outputs": [],
   "source": [
    "base_ns.throughOwningMembership[0].throughOwningMembership[1]._metatype"
   ]
  },
  {
   "cell_type": "markdown",
   "id": "b07f717c-9deb-4bcd-bae7-355d039ef5f4",
   "metadata": {},
   "source": [
    "### Explore multiplicity range objects\n",
    "\n",
    "Inspect the zeroOrOne multiplicity and look at how multiplicity range elements and their children work together for an optional Feature.\n",
    "\n",
    "This section looks at both the raw data (data field) and data added by PyMBE libraries (derived field)"
   ]
  },
  {
   "cell_type": "code",
   "execution_count": null,
   "id": "09fa6e7f-f0b3-42dc-b986-8ce639fcf3cc",
   "metadata": {},
   "outputs": [],
   "source": [
    "base_ns.throughOwningMembership[0].throughOwningMembership[6]"
   ]
  },
  {
   "cell_type": "code",
   "execution_count": null,
   "id": "4e94170b-2ed0-4895-8247-d0a8b6fafa7f",
   "metadata": {},
   "outputs": [],
   "source": [
    "base_ns.throughOwningMembership[0].throughOwningMembership[6]._derived"
   ]
  },
  {
   "cell_type": "code",
   "execution_count": null,
   "id": "914d785f-1803-46bf-9c3c-81a2a924b91f",
   "metadata": {},
   "outputs": [],
   "source": [
    "base_ns.throughOwningMembership[0].throughOwningMembership[6].throughOwningMembership[0].ownedRelationship[0]._data"
   ]
  },
  {
   "cell_type": "markdown",
   "id": "f7f765c3-4678-41d5-bbbb-802deef7428c",
   "metadata": {},
   "source": [
    "## Links Library elements\n",
    "\n",
    "Open up the Links library, which allows for some exploration of basic associations in the library."
   ]
  },
  {
   "cell_type": "code",
   "execution_count": null,
   "id": "a0f6ac0f-ba29-463a-8ddf-598b9bfd6e0a",
   "metadata": {},
   "outputs": [],
   "source": [
    "links_ns = [library_model_ns for library_model_ns in library_model.ownedElement if library_model_ns.throughOwningMembership[0].declaredName == 'Links'][0]"
   ]
  },
  {
   "cell_type": "code",
   "execution_count": null,
   "id": "43d502a2-8393-4929-998e-58b866e3cfd4",
   "metadata": {},
   "outputs": [],
   "source": [
    "links_ns.throughOwningMembership[0]._data"
   ]
  },
  {
   "cell_type": "markdown",
   "id": "38d8adf1-6446-4ccd-859b-f967796512ed",
   "metadata": {},
   "source": [
    "Look at root level elements."
   ]
  },
  {
   "cell_type": "code",
   "execution_count": null,
   "id": "d9de192f-3926-4613-80ac-0133a0a28fe7",
   "metadata": {},
   "outputs": [],
   "source": [
    "links_ns.throughOwningMembership[0].throughOwningMembership"
   ]
  },
  {
   "cell_type": "markdown",
   "id": "414448ca-5553-4205-9bfb-526a25885cc9",
   "metadata": {},
   "source": [
    "Look at the Features under the BinaryLink."
   ]
  },
  {
   "cell_type": "code",
   "execution_count": null,
   "id": "fe4b334d-5224-4082-aa16-325e73efc8f2",
   "metadata": {},
   "outputs": [],
   "source": [
    "links_ns.throughOwningMembership[0].throughOwningMembership"
   ]
  },
  {
   "cell_type": "code",
   "execution_count": null,
   "id": "2d8ba028-ab68-4bc1-831e-bf53e97c5236",
   "metadata": {},
   "outputs": [],
   "source": [
    "links_ns.throughOwningMembership[0].throughOwningMembership[2].throughFeatureMembership"
   ]
  },
  {
   "cell_type": "code",
   "execution_count": null,
   "id": "98c7d4d0-836d-41de-8d8a-ec90801e485b",
   "metadata": {},
   "outputs": [],
   "source": [
    "links_ns.throughOwningMembership[0].throughOwningMembership[2].throughFeatureMembership[2]._data"
   ]
  },
  {
   "cell_type": "code",
   "execution_count": null,
   "id": "fdcdee13-a1ba-47cf-8741-bcc369dcfa95",
   "metadata": {},
   "outputs": [],
   "source": [
    "links_ns.throughOwningMembership[0].throughOwningMembership[2]._data"
   ]
  },
  {
   "cell_type": "markdown",
   "id": "c6881b02-ff8b-45bf-93d8-85691b008f65",
   "metadata": {},
   "source": [
    "Examine the FeatureMembership from BinaryLink to participant Feature (and see that there is a memberName here as well as the Feature declared name)."
   ]
  },
  {
   "cell_type": "code",
   "execution_count": null,
   "id": "c57f6ed4-7d44-4f2d-ae34-718686a996e8",
   "metadata": {},
   "outputs": [],
   "source": [
    "links_ns.throughOwningMembership[0].throughOwningMembership[2].ownedRelationship[2]._data"
   ]
  },
  {
   "cell_type": "code",
   "execution_count": null,
   "id": "a8a32bcb-eebd-485d-b76b-e3357933877c",
   "metadata": {},
   "outputs": [],
   "source": [
    "links_ns.throughOwningMembership[0].throughOwningMembership[2].throughFeatureMembership"
   ]
  },
  {
   "cell_type": "code",
   "execution_count": null,
   "id": "6cce5ec6-6144-47dd-b794-6a6d2a24de10",
   "metadata": {},
   "outputs": [],
   "source": [
    "links_ns.throughOwningMembership[0].throughOwningMembership[2].throughFeatureMembership[0]._derived"
   ]
  },
  {
   "cell_type": "code",
   "execution_count": null,
   "id": "8413f734-0620-49ed-811a-e88bcae2db60",
   "metadata": {},
   "outputs": [],
   "source": [
    "links_ns.throughOwningMembership[0].throughOwningMembership[2].throughFeatureMembership[0].throughRedefinition"
   ]
  },
  {
   "cell_type": "code",
   "execution_count": null,
   "id": "a05e640f-9ff1-435d-a1d5-a34484bfbaa8",
   "metadata": {},
   "outputs": [],
   "source": [
    "links_ns.throughOwningMembership[0].throughOwningMembership[2].throughFeatureMembership[0]._data"
   ]
  },
  {
   "cell_type": "code",
   "execution_count": null,
   "id": "e4e41449-44e1-4b16-b80e-32aaa14e5b3f",
   "metadata": {},
   "outputs": [],
   "source": [
    "links_ns.throughOwningMembership[0].throughOwningMembership[2].throughFeatureMembership[0].throughRedefinition[0]._data"
   ]
  },
  {
   "cell_type": "markdown",
   "id": "2d7d1eb1-7a14-4d90-81ee-68820ee27e37",
   "metadata": {},
   "source": [
    "## Performance Library elements\n",
    "\n",
    "Open up the Performance library, which allows for some exploration of redefinition and interpreting some implicit Feature elements (name, multiplicity, type) that are important for model interpretation."
   ]
  },
  {
   "cell_type": "code",
   "execution_count": null,
   "id": "3e5ed3be-45e8-4948-84d5-a7178a307387",
   "metadata": {},
   "outputs": [],
   "source": [
    "peform_ns = [library_model_ns\n",
    "               for library_model_ns in library_model.ownedElement\n",
    "               if library_model_ns.throughOwningMembership[0].declaredName == 'Performances'][0]"
   ]
  },
  {
   "cell_type": "code",
   "execution_count": null,
   "id": "5a7c4ac0-de63-47ba-b278-993b233bf15f",
   "metadata": {},
   "outputs": [],
   "source": [
    "peform_ns.throughOwningMembership[0].throughOwningMembership"
   ]
  },
  {
   "cell_type": "code",
   "execution_count": null,
   "id": "e8c74310-4aa6-4684-acc1-c144a4981cdb",
   "metadata": {},
   "outputs": [],
   "source": [
    "peform_ns.throughOwningMembership[0].ownedRelationship"
   ]
  },
  {
   "cell_type": "code",
   "execution_count": null,
   "id": "2fc2bef3-96d0-400f-ba42-318ed0007854",
   "metadata": {},
   "outputs": [],
   "source": [
    "perform_eles = peform_ns.throughOwningMembership[0].throughOwningMembership\n",
    "\n",
    "performance = None\n",
    "    \n",
    "for perform_ele in perform_eles:\n",
    "    if perform_ele._metatype in ('Behavior'):\n",
    "        if hasattr(perform_ele, \"declaredName\"):\n",
    "            if perform_ele.declaredName == 'Performance':\n",
    "                performance = perform_ele\n",
    "                \n",
    "performance"
   ]
  },
  {
   "cell_type": "markdown",
   "id": "e13d77ee-318f-4e13-9742-a15a311ae170",
   "metadata": {},
   "source": [
    "### Performance library element exploration\n",
    "\n",
    "Look witin the Performance object and its Features that redefine other Features (from Occurrences for example). "
   ]
  },
  {
   "cell_type": "code",
   "execution_count": null,
   "id": "9d08b80e-4d57-4265-b92b-b18b836efe68",
   "metadata": {},
   "outputs": [],
   "source": [
    "performance.throughFeatureMembership"
   ]
  },
  {
   "cell_type": "code",
   "execution_count": null,
   "id": "4be7d4de-23db-4d4b-8390-dd978dcc43fd",
   "metadata": {},
   "outputs": [],
   "source": [
    "performance.throughFeatureMembership[3]._derived"
   ]
  },
  {
   "cell_type": "code",
   "execution_count": null,
   "id": "545262ec-b816-4ada-b640-0f4e74a04af8",
   "metadata": {},
   "outputs": [],
   "source": [
    "performance.throughFeatureMembership[3].throughRedefinition[0]"
   ]
  },
  {
   "cell_type": "code",
   "execution_count": null,
   "id": "ea968e02-2b97-436a-8853-0668cfc15a38",
   "metadata": {},
   "outputs": [],
   "source": [
    "get_effective_basic_name(performance.throughFeatureMembership[3])"
   ]
  },
  {
   "cell_type": "markdown",
   "id": "e13d1a97-27de-4aff-a6fc-8eb08a3a83fe",
   "metadata": {},
   "source": [
    "### Vector Values library element exploration\n",
    "\n",
    "Look around the vector values library element for redefinied multiplicity and type."
   ]
  },
  {
   "cell_type": "code",
   "execution_count": null,
   "id": "d03df378-f354-438b-8419-15896bf937e5",
   "metadata": {},
   "outputs": [],
   "source": [
    "vvals_ns = [library_model_ns for library_model_ns in library_model.ownedElement if library_model_ns.throughOwningMembership[0].declaredName == 'VectorValues'][0]\n",
    "vvals_ns"
   ]
  },
  {
   "cell_type": "code",
   "execution_count": null,
   "id": "4de1cb99-d19c-45f4-b5b5-32fd703bdc79",
   "metadata": {},
   "outputs": [],
   "source": [
    "vvals_eles = vvals_ns.throughOwningMembership[0].throughOwningMembership\n",
    "vvals_eles"
   ]
  },
  {
   "cell_type": "code",
   "execution_count": null,
   "id": "7a624cff-e3cc-426b-919b-64126c9bc895",
   "metadata": {},
   "outputs": [],
   "source": [
    "vvals_eles[4]"
   ]
  },
  {
   "cell_type": "markdown",
   "id": "d53ad639-40b0-467a-86ea-44bc09395db4",
   "metadata": {},
   "source": [
    "In pyMBE, the implicit names (names from redefined Features) are represented with the redefines shorthand ( :>> )."
   ]
  },
  {
   "cell_type": "code",
   "execution_count": null,
   "id": "bcb2b7a5-6459-4f88-bcb8-96f7978a1524",
   "metadata": {},
   "outputs": [],
   "source": [
    "vvals_eles[4].throughFeatureMembership[0]"
   ]
  },
  {
   "cell_type": "code",
   "execution_count": null,
   "id": "ade0371e-6c26-4815-ab14-9a355cd9c282",
   "metadata": {},
   "outputs": [],
   "source": [
    "get_effective_basic_name(vvals_eles[4].throughFeatureMembership[0])"
   ]
  },
  {
   "cell_type": "code",
   "execution_count": null,
   "id": "95a46546-f342-4930-8d13-49f065983cdc",
   "metadata": {},
   "outputs": [],
   "source": [
    "get_most_specific_feature_type(vvals_eles[4].throughFeatureMembership[0])"
   ]
  },
  {
   "cell_type": "code",
   "execution_count": null,
   "id": "197f99ed-8bbd-4b88-a843-dd68b65bb1cf",
   "metadata": {},
   "outputs": [],
   "source": [
    "get_effective_lower_multiplicity(vvals_eles[4].throughFeatureMembership[0])"
   ]
  },
  {
   "cell_type": "code",
   "execution_count": null,
   "id": "49b7be69-92d5-4b7a-9de8-43709d2b5be8",
   "metadata": {},
   "outputs": [],
   "source": [
    "get_effective_upper_multiplicity(vvals_eles[4].throughFeatureMembership[0])"
   ]
  },
  {
   "cell_type": "code",
   "execution_count": null,
   "id": "67ceeee8-cc48-4c0b-b0e2-71a7857ef0fd",
   "metadata": {},
   "outputs": [],
   "source": [
    "vvals_eles[4].throughFeatureMembership[0].throughRedefinition[0]"
   ]
  },
  {
   "cell_type": "code",
   "execution_count": null,
   "id": "e1d2a8d3-32d9-42c3-bc85-b16ddc88e34d",
   "metadata": {},
   "outputs": [],
   "source": [
    "vvals_eles[4].throughFeatureMembership[0].throughRedefinition[0].throughOwningMembership[0]._metatype"
   ]
  },
  {
   "cell_type": "code",
   "execution_count": null,
   "id": "99d0cdaf-9db3-482e-aa81-46fb3ac377a2",
   "metadata": {},
   "outputs": [],
   "source": [
    "vvals_eles[4].throughFeatureMembership[0].throughRedefinition[0].throughOwningMembership[0].throughOwningMembership"
   ]
  },
  {
   "cell_type": "code",
   "execution_count": null,
   "id": "dd83de0b-e3c3-4048-a3f6-0426ed56c0be",
   "metadata": {},
   "outputs": [],
   "source": [
    "vvals_eles[4].throughFeatureMembership[0].throughFeatureTyping"
   ]
  },
  {
   "cell_type": "code",
   "execution_count": null,
   "id": "3322d2b1-9a6e-476b-8e92-014d090ee106",
   "metadata": {},
   "outputs": [],
   "source": [
    "vvals_eles[4].throughFeatureMembership[0].throughRedefinition"
   ]
  },
  {
   "cell_type": "markdown",
   "id": "da9a73c6-96a6-4e78-8e1f-845cd6cf2f08",
   "metadata": {},
   "source": [
    "### Vector Functions library element exploration\n",
    "\n",
    "Look around the vector function library elements for the rendering of expression trees. "
   ]
  },
  {
   "cell_type": "code",
   "execution_count": null,
   "id": "87c381c9-c6c3-4ad0-8eb2-5c6f69ffd15a",
   "metadata": {},
   "outputs": [],
   "source": [
    "vfunc_ns = [library_model_ns\n",
    "               for library_model_ns in library_model.ownedElement\n",
    "               if library_model_ns.throughOwningMembership[0].declaredName == 'VectorFunctions'][0]"
   ]
  },
  {
   "cell_type": "code",
   "execution_count": null,
   "id": "00eb6ebf-33c8-4e4f-88f7-00bdd52a9217",
   "metadata": {},
   "outputs": [],
   "source": [
    "vfunc_ns.throughOwningMembership[0].throughOwningMembership"
   ]
  },
  {
   "cell_type": "markdown",
   "id": "c024020e-7cb3-4eb5-8950-d1d63cfaac94",
   "metadata": {},
   "source": [
    "Show the invariants as features within the adding ( + ) function rendered by following the expressions."
   ]
  },
  {
   "cell_type": "code",
   "execution_count": null,
   "id": "a95b73d9-331f-4d85-bbe0-9d28665f444a",
   "metadata": {},
   "outputs": [],
   "source": [
    "vfunc_ns.throughOwningMembership[0].throughOwningMembership[3].throughFeatureMembership"
   ]
  },
  {
   "cell_type": "markdown",
   "id": "44deaee1-97f8-46e1-b469-e1718359381a",
   "metadata": {},
   "source": [
    "Drill more down into the parts of the larger expressions."
   ]
  },
  {
   "cell_type": "code",
   "execution_count": null,
   "id": "ffc73e45-59d9-46ca-a9c4-a33ed0d11ceb",
   "metadata": {},
   "outputs": [],
   "source": [
    "vfunc_ns.throughOwningMembership[0].throughOwningMembership[3].throughFeatureMembership[2].throughResultExpressionMembership[0]._data"
   ]
  },
  {
   "cell_type": "code",
   "execution_count": null,
   "id": "76cbf449-bfc6-46f8-8c46-cc5c71cc86e3",
   "metadata": {},
   "outputs": [],
   "source": [
    "vfunc_ns.throughOwningMembership[0].throughOwningMembership[3].throughFeatureMembership[2].throughResultExpressionMembership[0]._derived"
   ]
  },
  {
   "cell_type": "code",
   "execution_count": null,
   "id": "af30f864-b0e0-4d5c-9c59-90adb47c2726",
   "metadata": {},
   "outputs": [],
   "source": [
    "vfunc_ns.throughOwningMembership[0].throughOwningMembership[3].throughFeatureMembership[2].\\\n",
    "    throughResultExpressionMembership[0].throughParameterMembership[1]._derived"
   ]
  },
  {
   "cell_type": "code",
   "execution_count": null,
   "id": "c23d9c09-f737-4808-ad4b-75edc754c830",
   "metadata": {},
   "outputs": [],
   "source": [
    "fre_trial = vfunc_ns.throughOwningMembership[0].throughOwningMembership[3].throughFeatureMembership[2].\\\n",
    "    throughResultExpressionMembership[0].throughParameterMembership[1].throughFeatureValue[0]\n",
    "fre_trial"
   ]
  },
  {
   "cell_type": "code",
   "execution_count": null,
   "id": "0ffeb864-da4f-4d74-b3b2-3da75c599989",
   "metadata": {},
   "outputs": [],
   "source": [
    "fre_trial._derived"
   ]
  },
  {
   "cell_type": "code",
   "execution_count": null,
   "id": "3dfed934-8109-4c79-b4d2-ab5ab66384b3",
   "metadata": {},
   "outputs": [],
   "source": [
    "fre_trial.throughFeatureMembership"
   ]
  },
  {
   "cell_type": "code",
   "execution_count": null,
   "id": "3618d019-fdde-4eb3-a285-168625e6ea8a",
   "metadata": {},
   "outputs": [],
   "source": [
    "vfunc_ns.throughOwningMembership[0].throughOwningMembership[3].throughFeatureMembership[2].throughReturnParameterMembership"
   ]
  }
 ],
 "metadata": {
  "kernelspec": {
   "display_name": "Python 3 (ipykernel)",
   "language": "python",
   "name": "python3"
  },
  "language_info": {
   "codemirror_mode": {
    "name": "ipython",
    "version": 3
   },
   "file_extension": ".py",
   "mimetype": "text/x-python",
   "name": "python",
   "nbconvert_exporter": "python",
   "pygments_lexer": "ipython3",
   "version": "3.9.6"
  }
 },
 "nbformat": 4,
 "nbformat_minor": 5
}
