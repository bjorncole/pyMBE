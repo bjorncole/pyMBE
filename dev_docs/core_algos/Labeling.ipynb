{
 "cells": [
  {
   "cell_type": "markdown",
   "id": "de3dbbf5-ac72-43a8-b416-73318c1d1847",
   "metadata": {},
   "source": [
    "# Labeling Algorithms\n",
    "\n",
    "This notebook walks through segments of the PyMBE code base that pertain to generating labels from elements when there is not a clear user name but rather the label should be assembled from other attributes of the element and/or its owned elements."
   ]
  },
  {
   "cell_type": "markdown",
   "id": "d922a615-a2b9-4ee0-94d6-f8d92c72cc8d",
   "metadata": {},
   "source": [
    "The approach for complicated labels is to look at label fragments and how they can be combined in order to generate an integrated string."
   ]
  },
  {
   "cell_type": "code",
   "execution_count": 1,
   "id": "56ac97ab-7042-450c-802a-f3330d75216b",
   "metadata": {
    "tags": [
     "labeling",
     "code_block_1"
    ]
   },
   "outputs": [],
   "source": [
    "import pymbe.api as pm\n",
    "from pymbe.model import Element, Model"
   ]
  },
  {
   "cell_type": "code",
   "execution_count": 2,
   "id": "ddbb58d6-b71d-4636-a5e1-a21846ca2589",
   "metadata": {},
   "outputs": [],
   "source": [
    "def label_expr(expression=None):\n",
    "    \n",
    "    if expression._metatype == 'OperatorExpression':\n",
    "    # case for OperatorExpression - recurse on the parameters\n",
    "    \n",
    "        return f\" {expression.operator} \".join(map(label_expr, expression.throughParameterMembership))\n",
    "    \n",
    "    # case for the Features under an expression\n",
    "    elif expression._metatype == 'Feature':\n",
    "        return label_expr(expression.throughFeatureValue[0])\n",
    "    \n",
    "    elif expression._metatype == 'FeatureReferenceExpression':\n",
    "    # case for FeatureReferenceExpression - terminal case #1\n",
    "        name_to_render = expression.throughMembership[0].declaredName\n",
    "        return name_to_render\n",
    "    elif expression._metatype == 'FeatureChainExpression':\n",
    "        # first item will be FRE to another feature\n",
    "        first_item = expression.throughParameterMembership[0].throughFeatureValue[0].throughMembership[0].declaredName\n",
    "        # check if this is a two-item feature chain or n > 2\n",
    "        if hasattr(expression, \"throughMembership\"):\n",
    "            # this is the n = 2 case\n",
    "            second_item = expression.throughMembership[0].declaredName\n",
    "            return first_item + '.' + second_item\n",
    "        else:\n",
    "            # this is the n > 2 case\n",
    "            chains = expression.throughOwningMembership[0].throughFeatureChaining\n",
    "            other_items = '.'.join([chain.declaredName for chain in chains])\n",
    "            return first_item + '.' + other_items\n",
    "    elif hasattr(expression, \"value\"):\n",
    "        return str(expression.value)\n",
    "    \n",
    "    elif expression._metatype == 'InvocationExpression':\n",
    "        body = ', '.join(map(label_expr, expression.throughParameterMembership))\n",
    "        return f\"{expression.throughFeatureTyping[0].declaredName}({body})\"\n",
    "    else:\n",
    "        raise NotImplementedError(f\"Cannot process {expression._metatype} elements yet!\")\n",
    "    \n",
    "    pass"
   ]
  },
  {
   "cell_type": "code",
   "execution_count": 3,
   "id": "e5c0acc0-106b-4c77-9bd2-97f998544e2d",
   "metadata": {},
   "outputs": [],
   "source": [
    "new_model = Model.load_from_post_file(\"../../tests/fixtures/Model_Loader_Test_Level_3.json\")"
   ]
  },
  {
   "cell_type": "code",
   "execution_count": 4,
   "id": "a66417d2-79f7-4267-a1e2-2aac73fe4584",
   "metadata": {},
   "outputs": [
    {
     "data": {
      "text/plain": [
       "<SysML v2 Model (C:\\Users\\Bjorn Cole\\Documents\\GitHub\\pyMBE\\tests\\fixtures\\Model_Loader_Test_Level_3.json)>"
      ]
     },
     "execution_count": 4,
     "metadata": {},
     "output_type": "execute_result"
    }
   ],
   "source": [
    "new_model"
   ]
  },
  {
   "cell_type": "code",
   "execution_count": 5,
   "id": "b3761181-64ca-4c45-abf2-d99c76fa1e2f",
   "metadata": {},
   "outputs": [
    {
     "data": {
      "text/plain": [
       "[<b1721dfe-65b3-44d9-a8e9-8de134a1b6c1 «Invariant»>,\n",
       " <bea8755b-7d58-4657-8c82-bd1a8616a9bf «Invariant»>,\n",
       " <ed65a371-da99-48a7-9abb-2ca6dbeb9da1 «Invariant»>,\n",
       " <beb7187e-22c3-4d0b-9a08-bb48bb54799f «Invariant»>,\n",
       " <d2e8e2ad-cc60-4f97-8f9d-a94d9abdb1cf «Invariant»>,\n",
       " <8e56739a-b360-4ca2-a5ab-2dfbb61e7506 «Invariant»>]"
      ]
     },
     "execution_count": 5,
     "metadata": {},
     "output_type": "execute_result"
    }
   ],
   "source": [
    "new_model.ownedMetatype[\"Invariant\"]"
   ]
  },
  {
   "cell_type": "code",
   "execution_count": 6,
   "id": "8ac2c0e8-bdb4-4a57-a7f6-93a60de4c065",
   "metadata": {},
   "outputs": [],
   "source": [
    "myInvar = new_model.ownedMetatype[\"Invariant\"][-1]"
   ]
  },
  {
   "cell_type": "code",
   "execution_count": 7,
   "id": "a454a65c-babd-4d2d-bc98-6786b9e2cc32",
   "metadata": {},
   "outputs": [
    {
     "data": {
      "text/plain": [
       "<8e56739a-b360-4ca2-a5ab-2dfbb61e7506 «Invariant»>"
      ]
     },
     "execution_count": 7,
     "metadata": {},
     "output_type": "execute_result"
    }
   ],
   "source": [
    "myInvar"
   ]
  },
  {
   "cell_type": "code",
   "execution_count": 8,
   "id": "766f21e1-854c-4661-b483-f2bc8d612a3b",
   "metadata": {},
   "outputs": [
    {
     "data": {
      "text/plain": [
       "'=='"
      ]
     },
     "execution_count": 8,
     "metadata": {},
     "output_type": "execute_result"
    }
   ],
   "source": [
    "myInvar.throughResultExpressionMembership[0].operator"
   ]
  },
  {
   "cell_type": "code",
   "execution_count": 9,
   "id": "992fe483-2c22-4db4-b80d-0e0d64c2339a",
   "metadata": {},
   "outputs": [
    {
     "name": "stdout",
     "output_type": "stream",
     "text": [
      "Register 1 == Register 2 + Register 3\n",
      "Register 2 == Register 3 + 15.0\n",
      "Register 1 == Register 2 + Register 3\n",
      "Register 1 == My Adder.Register 2 + My Adder.Register 3.Sub-Register 1.Sub-Sub-Register 2\n",
      "sin(Register 1 + My Adder.Register 2) == 0.707\n",
      "rect(Register 1, My Adder.Register 2) == 0.0\n"
     ]
    }
   ],
   "source": [
    "for invar in new_model.ownedMetatype[\"Invariant\"]:\n",
    "    print(label_expr(invar.throughResultExpressionMembership[0]))"
   ]
  },
  {
   "cell_type": "code",
   "execution_count": 10,
   "id": "2ae7233e-a9de-489a-b302-4aa73a6da04c",
   "metadata": {},
   "outputs": [],
   "source": [
    "expr = myInvar.throughResultExpressionMembership[0]"
   ]
  },
  {
   "cell_type": "code",
   "execution_count": 11,
   "id": "f1eddb5c-3fcd-480d-b1a4-f6e06fe9bbc4",
   "metadata": {},
   "outputs": [
    {
     "data": {
      "text/plain": [
       "[<195f2b6f-edd2-4f77-8f42-f16f6e5c0e06 «Feature»>,\n",
       " <83aa2197-f48f-434f-addc-62d236ca4eb8 «Feature»>]"
      ]
     },
     "execution_count": 11,
     "metadata": {},
     "output_type": "execute_result"
    }
   ],
   "source": [
    "expr.throughParameterMembership"
   ]
  },
  {
   "cell_type": "code",
   "execution_count": 12,
   "id": "ce247447-c64c-4169-8306-cdb477c0ed06",
   "metadata": {},
   "outputs": [
    {
     "data": {
      "text/plain": [
       "[<ef6f3768-3357-4074-a3ac-bf97289d6c7f «Feature»>]"
      ]
     },
     "execution_count": 12,
     "metadata": {},
     "output_type": "execute_result"
    }
   ],
   "source": [
    "expr.throughReturnParameterMembership"
   ]
  }
 ],
 "metadata": {
  "kernelspec": {
   "display_name": "Python 3 (ipykernel)",
   "language": "python",
   "name": "python3"
  },
  "language_info": {
   "codemirror_mode": {
    "name": "ipython",
    "version": 3
   },
   "file_extension": ".py",
   "mimetype": "text/x-python",
   "name": "python",
   "nbconvert_exporter": "python",
   "pygments_lexer": "ipython3",
   "version": "3.9.13"
  }
 },
 "nbformat": 4,
 "nbformat_minor": 5
}
