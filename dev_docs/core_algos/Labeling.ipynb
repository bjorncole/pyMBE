{
 "cells": [
  {
   "cell_type": "markdown",
   "id": "de3dbbf5-ac72-43a8-b416-73318c1d1847",
   "metadata": {},
   "source": [
    "# Labeling Algorithms\n",
    "\n",
    "This notebook walks through segments of the PyMBE code base that pertain to generating labels from elements when there is not a clear user name but rather the label should be assembled from other attributes of the element and/or its owned elements."
   ]
  },
  {
   "cell_type": "markdown",
   "id": "d922a615-a2b9-4ee0-94d6-f8d92c72cc8d",
   "metadata": {},
   "source": [
    "The approach for complicated labels is to look at label fragments and how they can be combined in order to generate an integrated string."
   ]
  },
  {
   "cell_type": "code",
   "execution_count": null,
   "id": "56ac97ab-7042-450c-802a-f3330d75216b",
   "metadata": {
    "tags": [
     "labeling",
     "code_block_1"
    ]
   },
   "outputs": [],
   "source": []
  }
 ],
 "metadata": {
  "kernelspec": {
   "display_name": "Python 3 (ipykernel)",
   "language": "python",
   "name": "python3"
  },
  "language_info": {
   "codemirror_mode": {
    "name": "ipython",
    "version": 3
   },
   "file_extension": ".py",
   "mimetype": "text/x-python",
   "name": "python",
   "nbconvert_exporter": "python",
   "pygments_lexer": "ipython3",
   "version": "3.9.13"
  }
 },
 "nbformat": 4,
 "nbformat_minor": 5
}
