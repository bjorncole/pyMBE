{
 "cells": [
  {
   "cell_type": "markdown",
   "id": "b3ed7bf1-c2d5-48c3-8d13-fd214b1bc2f7",
   "metadata": {},
   "source": [
    "# Inspecting Ecore file for SysML v2 Metamodel\n",
    "\n",
    "This notebook steps through a couple of different methods for loading up the SysML v2 Ecore metamodel. One with a library called pyEcore and another just using the raw lxml library."
   ]
  },
  {
   "cell_type": "code",
   "execution_count": 1,
   "id": "1f9657b1-fe77-4425-8c4f-6053633d28fa",
   "metadata": {},
   "outputs": [],
   "source": [
    "import lxml"
   ]
  },
  {
   "cell_type": "code",
   "execution_count": 19,
   "id": "ad4bc225-0137-49bf-ad4d-61dd6062e5c5",
   "metadata": {},
   "outputs": [],
   "source": [
    "from pyecore.resources import ResourceSet, URI\n",
    "from pyecore.ecore import EClass, EAttribute, EString, EObject, EProxy"
   ]
  },
  {
   "cell_type": "code",
   "execution_count": 3,
   "id": "8092acf8-1f5c-4c8f-a153-7e808dad19cc",
   "metadata": {},
   "outputs": [],
   "source": [
    "# From the quick start for PyEcore to load a file into the metaclass model\n",
    "\n",
    "rset = ResourceSet()\n",
    "sysml_resource = rset.get_resource(URI('metamodel/SysML.ecore'))\n",
    "mm_root = sysml_resource.contents[0]\n",
    "rset.metamodel_registry[mm_root.nsURI] = mm_root\n",
    "\n",
    "types_resource = rset.get_resource(URI('metamodel/types.ecore'))\n",
    "mm_root2 = types_resource.contents[0]\n",
    "rset.metamodel_registry[mm_root.nsURI] = mm_root2"
   ]
  },
  {
   "cell_type": "code",
   "execution_count": 4,
   "id": "d73406af-7b54-452e-8062-723e1028b57c",
   "metadata": {},
   "outputs": [
    {
     "data": {
      "text/plain": [
       "<pyecore.ecore.EPackage at 0x19017be4cd0>"
      ]
     },
     "execution_count": 4,
     "metadata": {},
     "output_type": "execute_result"
    }
   ],
   "source": [
    "mm_root"
   ]
  },
  {
   "cell_type": "markdown",
   "id": "1dabba1b-f860-4012-adbe-ae0783ab4d4e",
   "metadata": {},
   "source": [
    "Determine what the fields for an EPackage in this framework are:"
   ]
  },
  {
   "cell_type": "code",
   "execution_count": 5,
   "id": "7b5f973b-28ac-40a1-9e0c-7b6960a60c25",
   "metadata": {},
   "outputs": [
    {
     "data": {
      "text/plain": [
       "['eAnnotations',\n",
       " 'eClassifiers',\n",
       " 'eSubpackages',\n",
       " 'eSuperPackage',\n",
       " 'eURIFragment',\n",
       " 'getEAnnotation',\n",
       " 'getEClassifier',\n",
       " 'name',\n",
       " 'nsPrefix',\n",
       " 'nsURI']"
      ]
     },
     "execution_count": 5,
     "metadata": {},
     "output_type": "execute_result"
    }
   ],
   "source": [
    "dir(mm_root)"
   ]
  },
  {
   "cell_type": "code",
   "execution_count": 6,
   "id": "f3d9eb2b-9ada-44b3-afcf-c73b1645b462",
   "metadata": {},
   "outputs": [],
   "source": [
    "all_classes = mm_root.eClassifiers"
   ]
  },
  {
   "cell_type": "markdown",
   "id": "4beb2e27-e086-4941-87b4-cef0e6500af4",
   "metadata": {},
   "source": [
    "Determine what the fields for an EClass in this framework are:"
   ]
  },
  {
   "cell_type": "code",
   "execution_count": 7,
   "id": "bb1a4d83-9325-4b47-aaad-85e910f58daa",
   "metadata": {},
   "outputs": [
    {
     "data": {
      "text/plain": [
       "['abstract',\n",
       " 'allInstances',\n",
       " 'defaultValue',\n",
       " 'eAllAttributes',\n",
       " 'eAllGenericSuperTypes',\n",
       " 'eAllGenericSuperTypesClassifiers',\n",
       " 'eAllOperations',\n",
       " 'eAllReferences',\n",
       " 'eAllStructuralFeatures',\n",
       " 'eAllSuperTypes',\n",
       " 'eAnnotations',\n",
       " 'eAttributes',\n",
       " 'eGenericSuperTypes',\n",
       " 'eOperations',\n",
       " 'ePackage',\n",
       " 'eReferences',\n",
       " 'eStructuralFeatures',\n",
       " 'eSuperTypes',\n",
       " 'eTypeParameters',\n",
       " 'eURIFragment',\n",
       " 'findEOperation',\n",
       " 'findEStructuralFeature',\n",
       " 'getEAnnotation',\n",
       " 'instanceClass',\n",
       " 'instanceClassName',\n",
       " 'instanceTypeName',\n",
       " 'interface',\n",
       " 'name',\n",
       " 'notifyChanged']"
      ]
     },
     "execution_count": 7,
     "metadata": {},
     "output_type": "execute_result"
    }
   ],
   "source": [
    "dir(all_classes[0])"
   ]
  },
  {
   "cell_type": "code",
   "execution_count": 8,
   "id": "6a12c061-bd88-460a-a440-919b1a0aabff",
   "metadata": {},
   "outputs": [],
   "source": [
    "owning_membership = [the_class for the_class in all_classes if the_class.name == \"OwningMembership\"]"
   ]
  },
  {
   "cell_type": "code",
   "execution_count": 9,
   "id": "b06f8c61-2212-47c6-a286-52e03fd29308",
   "metadata": {},
   "outputs": [
    {
     "data": {
      "text/plain": [
       "<EClass name=\"OwningMembership\">"
      ]
     },
     "execution_count": 9,
     "metadata": {},
     "output_type": "execute_result"
    }
   ],
   "source": [
    "owning_membership[0]"
   ]
  },
  {
   "cell_type": "code",
   "execution_count": 10,
   "id": "5998c1cc-1a8b-4f73-863f-356866b980e7",
   "metadata": {},
   "outputs": [
    {
     "data": {
      "text/plain": [
       "[<EAttribute ownedMemberElementId: <pyecore.ecore.EProxy object at 0x0000019019364EB0>>,\n",
       " <EAttribute ownedMemberShortName: <pyecore.ecore.EProxy object at 0x0000019019364EB0>>,\n",
       " <EAttribute ownedMemberName: <pyecore.ecore.EProxy object at 0x0000019019364EB0>>]"
      ]
     },
     "execution_count": 10,
     "metadata": {},
     "output_type": "execute_result"
    }
   ],
   "source": [
    "owning_membership[0].eAttributes"
   ]
  },
  {
   "cell_type": "code",
   "execution_count": 11,
   "id": "a23ffa48-0ddc-4881-bfb1-e3b9b5cad8d4",
   "metadata": {},
   "outputs": [
    {
     "data": {
      "text/plain": [
       "[<EReference ownedMemberElement: <EClass name=\"Element\">>]"
      ]
     },
     "execution_count": 11,
     "metadata": {},
     "output_type": "execute_result"
    }
   ],
   "source": [
    "owning_membership[0].eReferences"
   ]
  },
  {
   "cell_type": "code",
   "execution_count": 12,
   "id": "f7d8e49c-9558-470b-b5a7-0203812af2c9",
   "metadata": {},
   "outputs": [
    {
     "data": {
      "text/plain": [
       "<EAttribute ownedMemberElementId: <pyecore.ecore.EProxy object at 0x0000019019364EB0>>"
      ]
     },
     "execution_count": 12,
     "metadata": {},
     "output_type": "execute_result"
    }
   ],
   "source": [
    "owning_membership[0].eAttributes[0]"
   ]
  },
  {
   "cell_type": "code",
   "execution_count": 38,
   "id": "b5407d0b-5baf-479a-89d8-6fa0181e662f",
   "metadata": {},
   "outputs": [
    {
     "data": {
      "text/plain": [
       "['changeable',\n",
       " 'defaultValueLiteral',\n",
       " 'derived',\n",
       " 'eAnnotations',\n",
       " 'eContainingClass',\n",
       " 'eGenericType',\n",
       " 'eType',\n",
       " 'eURIFragment',\n",
       " 'getEAnnotation',\n",
       " 'get_default_value',\n",
       " 'iD',\n",
       " 'lower',\n",
       " 'lowerBound',\n",
       " 'name',\n",
       " 'notifyChanged',\n",
       " 'notifyChanged',\n",
       " 'ordered',\n",
       " 'required',\n",
       " 'transient',\n",
       " 'unique',\n",
       " 'unsettable',\n",
       " 'upper',\n",
       " 'upperBound',\n",
       " 'volatile']"
      ]
     },
     "execution_count": 38,
     "metadata": {},
     "output_type": "execute_result"
    }
   ],
   "source": [
    "dir(owning_membership[0].eAttributes[0])"
   ]
  },
  {
   "cell_type": "code",
   "execution_count": 39,
   "id": "6336b9b0-3737-449d-8cb5-ebc1b8273e5d",
   "metadata": {},
   "outputs": [
    {
     "data": {
      "text/plain": [
       "True"
      ]
     },
     "execution_count": 39,
     "metadata": {},
     "output_type": "execute_result"
    }
   ],
   "source": [
    "owning_membership[0].eAttributes[0].derived"
   ]
  },
  {
   "cell_type": "code",
   "execution_count": 20,
   "id": "113d1aa0-af94-4774-976a-1a28ab9336eb",
   "metadata": {},
   "outputs": [],
   "source": [
    "attr_type = None\n",
    "if isinstance(owning_membership[0].eAttributes[0].eType, EProxy):\n",
    "    attr_type = owning_membership[0].eAttributes[0].eType.force_resolve()\n",
    "else:\n",
    "    attr_type = owning_membership[0].eAttributes[0].eType"
   ]
  },
  {
   "cell_type": "code",
   "execution_count": 32,
   "id": "383aedc1-3c70-4f73-9659-00d317c7db18",
   "metadata": {},
   "outputs": [
    {
     "data": {
      "text/plain": [
       "'String'"
      ]
     },
     "execution_count": 32,
     "metadata": {},
     "output_type": "execute_result"
    }
   ],
   "source": [
    "attr_type.name"
   ]
  },
  {
   "cell_type": "code",
   "execution_count": 14,
   "id": "130d0408-9cff-45f8-87a7-6fc035827162",
   "metadata": {},
   "outputs": [
    {
     "data": {
      "text/plain": [
       "['StateUsage',\n",
       " 'PerformActionUsage',\n",
       " 'ActionUsage',\n",
       " 'OccurrenceUsage',\n",
       " 'Step',\n",
       " 'Usage',\n",
       " 'Feature',\n",
       " 'Type',\n",
       " 'Namespace',\n",
       " 'Element',\n",
       " 'EventOccurrenceUsage']"
      ]
     },
     "execution_count": 14,
     "metadata": {},
     "output_type": "execute_result"
    }
   ],
   "source": [
    "[super_type.name for super_type in all_classes[0].eAllSuperTypes()]"
   ]
  },
  {
   "cell_type": "code",
   "execution_count": 24,
   "id": "dc208283-b413-4cba-9e34-0a5514e52691",
   "metadata": {},
   "outputs": [
    {
     "data": {
      "text/plain": [
       "{<EAttribute aliasIds: <pyecore.ecore.EProxy object at 0x0000019019364EB0>>,\n",
       " <EAttribute declaredName: <pyecore.ecore.EProxy object at 0x0000019019364EB0>>,\n",
       " <EAttribute declaredShortName: <pyecore.ecore.EProxy object at 0x0000019019364EB0>>,\n",
       " <EAttribute elementId: <pyecore.ecore.EProxy object at 0x0000019019364EB0>>,\n",
       " <EAttribute isImplied: <pyecore.ecore.EProxy object at 0x0000019019364AF0>>,\n",
       " <EAttribute isImpliedIncluded: <pyecore.ecore.EProxy object at 0x0000019019364AF0>>,\n",
       " <EAttribute isLibraryElement: <pyecore.ecore.EProxy object at 0x0000019019364AF0>>,\n",
       " <EAttribute memberElementId: <pyecore.ecore.EProxy object at 0x0000019019364EB0>>,\n",
       " <EAttribute memberName: <pyecore.ecore.EProxy object at 0x0000019019364EB0>>,\n",
       " <EAttribute memberShortName: <pyecore.ecore.EProxy object at 0x0000019019364EB0>>,\n",
       " <EAttribute name: <pyecore.ecore.EProxy object at 0x0000019019364EB0>>,\n",
       " <EAttribute ownedMemberElementId: <pyecore.ecore.EProxy object at 0x0000019019364EB0>>,\n",
       " <EAttribute ownedMemberName: <pyecore.ecore.EProxy object at 0x0000019019364EB0>>,\n",
       " <EAttribute ownedMemberShortName: <pyecore.ecore.EProxy object at 0x0000019019364EB0>>,\n",
       " <EAttribute qualifiedName: <pyecore.ecore.EProxy object at 0x0000019019364EB0>>,\n",
       " <EAttribute shortName: <pyecore.ecore.EProxy object at 0x0000019019364EB0>>,\n",
       " <EAttribute visibility: VisibilityKind[EOrderedSet([private=0, protected=1, public=2])]>}"
      ]
     },
     "execution_count": 24,
     "metadata": {},
     "output_type": "execute_result"
    }
   ],
   "source": [
    "owning_membership[0].eAllAttributes()"
   ]
  },
  {
   "cell_type": "code",
   "execution_count": 25,
   "id": "41ffd508-2c77-4546-8111-b618775cf6d1",
   "metadata": {},
   "outputs": [
    {
     "data": {
      "text/plain": [
       "{<EReference documentation: <EClass name=\"Documentation\">>,\n",
       " <EReference memberElement: <EClass name=\"Element\">>,\n",
       " <EReference membershipOwningNamespace: <EClass name=\"Namespace\">>,\n",
       " <EReference ownedAnnotation: <EClass name=\"Annotation\">>,\n",
       " <EReference ownedElement: <EClass name=\"Element\">>,\n",
       " <EReference ownedMemberElement: <EClass name=\"Element\">>,\n",
       " <EReference ownedRelatedElement: <EClass name=\"Element\">>,\n",
       " <EReference ownedRelationship: <EClass name=\"Relationship\">>,\n",
       " <EReference owner: <EClass name=\"Element\">>,\n",
       " <EReference owningMembership: <EClass name=\"OwningMembership\">>,\n",
       " <EReference owningNamespace: <EClass name=\"Namespace\">>,\n",
       " <EReference owningRelatedElement: <EClass name=\"Element\">>,\n",
       " <EReference owningRelationship: <EClass name=\"Relationship\">>,\n",
       " <EReference relatedElement: <EClass name=\"Element\">>,\n",
       " <EReference source: <EClass name=\"Element\">>,\n",
       " <EReference target: <EClass name=\"Element\">>,\n",
       " <EReference textualRepresentation: <EClass name=\"TextualRepresentation\">>}"
      ]
     },
     "execution_count": 25,
     "metadata": {},
     "output_type": "execute_result"
    }
   ],
   "source": [
    "owning_membership[0].eAllReferences()"
   ]
  },
  {
   "cell_type": "code",
   "execution_count": 28,
   "id": "7359b156-cbee-4af3-ab27-fa9c0c23fcba",
   "metadata": {},
   "outputs": [],
   "source": [
    "def element_has_feature_by_name(element, name):\n",
    "    all_refs = element.eAllReferences()\n",
    "    all_atts = element.eAllAttributes()\n",
    "    \n",
    "    for ref in all_refs:\n",
    "        if ref.name == name:\n",
    "            return True\n",
    "        \n",
    "    for att in all_atts:\n",
    "        if att.name == name:\n",
    "            return True\n",
    "        \n",
    "    return False"
   ]
  },
  {
   "cell_type": "code",
   "execution_count": 31,
   "id": "d3972e68-1453-494b-91b5-a2c0bd0e1e6a",
   "metadata": {},
   "outputs": [
    {
     "data": {
      "text/plain": [
       "True"
      ]
     },
     "execution_count": 31,
     "metadata": {},
     "output_type": "execute_result"
    }
   ],
   "source": [
    "element_has_feature_by_name(owning_membership[0], \"relatedElement\")"
   ]
  },
  {
   "cell_type": "code",
   "execution_count": 48,
   "id": "758c2559-a39f-4a35-b7fb-78fa7e7a1e14",
   "metadata": {},
   "outputs": [],
   "source": [
    "def layout_features(element):\n",
    "    \n",
    "    feature_line = []\n",
    "    \n",
    "    all_refs = element.eAllReferences()\n",
    "    all_atts = element.eAllAttributes()\n",
    "    \n",
    "    local_refs = element.eReferences\n",
    "    local_atts = element.eAttributes\n",
    "    \n",
    "    for ref in all_refs:\n",
    "        new_line = []\n",
    "        new_line.append(ref.name)\n",
    "        if ref in local_refs:\n",
    "            new_line.append('local')\n",
    "        else:\n",
    "            new_line.append('inherited')\n",
    "        if ref.derived:\n",
    "            new_line.append('derived')\n",
    "        else:\n",
    "            new_line.append('primary')\n",
    "        if isinstance(ref.eType, EProxy):\n",
    "            new_line.append(ref.eType.force_resolve().name)\n",
    "        else:\n",
    "            new_line.append(ref.eType.name)\n",
    "        \n",
    "        new_line.append('EReference')\n",
    "        feature_line.append(new_line)\n",
    "        \n",
    "    for att in all_atts:\n",
    "        new_line = []\n",
    "        new_line.append(att.name)\n",
    "        if att in local_atts:\n",
    "            new_line.append('local')\n",
    "        else:\n",
    "            new_line.append('inherited')\n",
    "        if att.derived:\n",
    "            new_line.append('derived')\n",
    "        else:\n",
    "            new_line.append('primary')\n",
    "        if isinstance(att.eType, EProxy):\n",
    "            new_line.append(att.eType.force_resolve().name)\n",
    "        else:\n",
    "            new_line.append(att.eType.name)\n",
    "        \n",
    "        new_line.append('EAttribute')\n",
    "        feature_line.append(new_line)\n",
    "    \n",
    "    return feature_line"
   ]
  },
  {
   "cell_type": "code",
   "execution_count": 49,
   "id": "62961e22-3a23-4197-93cf-88b02f4a2465",
   "metadata": {},
   "outputs": [
    {
     "data": {
      "text/plain": [
       "[['ownedMemberElement', 'local', 'derived', 'Element', 'EReference'],\n",
       " ['target', 'inherited', 'primary', 'Element', 'EReference'],\n",
       " ['relatedElement', 'inherited', 'derived', 'Element', 'EReference'],\n",
       " ['memberElement', 'inherited', 'primary', 'Element', 'EReference'],\n",
       " ['owningMembership',\n",
       "  'inherited',\n",
       "  'derived',\n",
       "  'OwningMembership',\n",
       "  'EReference'],\n",
       " ['owner', 'inherited', 'derived', 'Element', 'EReference'],\n",
       " ['ownedRelationship', 'inherited', 'primary', 'Relationship', 'EReference'],\n",
       " ['textualRepresentation',\n",
       "  'inherited',\n",
       "  'derived',\n",
       "  'TextualRepresentation',\n",
       "  'EReference'],\n",
       " ['owningRelatedElement', 'inherited', 'primary', 'Element', 'EReference'],\n",
       " ['membershipOwningNamespace',\n",
       "  'inherited',\n",
       "  'derived',\n",
       "  'Namespace',\n",
       "  'EReference'],\n",
       " ['ownedRelatedElement', 'inherited', 'primary', 'Element', 'EReference'],\n",
       " ['ownedElement', 'inherited', 'derived', 'Element', 'EReference'],\n",
       " ['ownedAnnotation', 'inherited', 'derived', 'Annotation', 'EReference'],\n",
       " ['source', 'inherited', 'primary', 'Element', 'EReference'],\n",
       " ['owningNamespace', 'inherited', 'derived', 'Namespace', 'EReference'],\n",
       " ['documentation', 'inherited', 'derived', 'Documentation', 'EReference'],\n",
       " ['owningRelationship', 'inherited', 'primary', 'Relationship', 'EReference'],\n",
       " ['memberName', 'inherited', 'primary', 'String', 'EAttribute'],\n",
       " ['isImpliedIncluded', 'inherited', 'primary', 'Boolean', 'EAttribute'],\n",
       " ['qualifiedName', 'inherited', 'derived', 'String', 'EAttribute'],\n",
       " ['ownedMemberName', 'local', 'derived', 'String', 'EAttribute'],\n",
       " ['elementId', 'inherited', 'primary', 'String', 'EAttribute'],\n",
       " ['name', 'inherited', 'derived', 'String', 'EAttribute'],\n",
       " ['declaredShortName', 'inherited', 'primary', 'String', 'EAttribute'],\n",
       " ['memberShortName', 'inherited', 'primary', 'String', 'EAttribute'],\n",
       " ['ownedMemberElementId', 'local', 'derived', 'String', 'EAttribute'],\n",
       " ['ownedMemberShortName', 'local', 'derived', 'String', 'EAttribute'],\n",
       " ['memberElementId', 'inherited', 'derived', 'String', 'EAttribute'],\n",
       " ['shortName', 'inherited', 'derived', 'String', 'EAttribute'],\n",
       " ['declaredName', 'inherited', 'primary', 'String', 'EAttribute'],\n",
       " ['visibility', 'inherited', 'primary', 'VisibilityKind', 'EAttribute'],\n",
       " ['isLibraryElement', 'inherited', 'derived', 'Boolean', 'EAttribute'],\n",
       " ['aliasIds', 'inherited', 'primary', 'String', 'EAttribute'],\n",
       " ['isImplied', 'inherited', 'primary', 'Boolean', 'EAttribute']]"
      ]
     },
     "execution_count": 49,
     "metadata": {},
     "output_type": "execute_result"
    }
   ],
   "source": [
    "layout_features(owning_membership[0])"
   ]
  },
  {
   "cell_type": "code",
   "execution_count": null,
   "id": "7a405162-cba0-4691-84a0-a96b650f2361",
   "metadata": {},
   "outputs": [],
   "source": []
  }
 ],
 "metadata": {
  "kernelspec": {
   "display_name": "Python 3 (ipykernel)",
   "language": "python",
   "name": "python3"
  },
  "language_info": {
   "codemirror_mode": {
    "name": "ipython",
    "version": 3
   },
   "file_extension": ".py",
   "mimetype": "text/x-python",
   "name": "python",
   "nbconvert_exporter": "python",
   "pygments_lexer": "ipython3",
   "version": "3.9.13"
  }
 },
 "nbformat": 4,
 "nbformat_minor": 5
}
