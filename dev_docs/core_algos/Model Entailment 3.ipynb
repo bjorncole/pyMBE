{
 "cells": [
  {
   "cell_type": "markdown",
   "id": "0c14d216-f8b1-4967-b92c-ed8e71796e47",
   "metadata": {},
   "source": [
    "# Model Entailment 3\n",
    "\n",
    "This is an entailment notebook to cover all of the cases in the Annex A procedure."
   ]
  },
  {
   "cell_type": "code",
   "execution_count": null,
   "id": "26930563-e2ff-4a75-aeb6-57223efbcb8c",
   "metadata": {},
   "outputs": [],
   "source": [
    "import json\n",
    "import pymbe.api as pm\n",
    "\n",
    "from pathlib import Path\n",
    "\n",
    "from typing import Any, Collection, Dict, List, Tuple, Union\n",
    "\n",
    "from pymbe.model import Model, Element\n",
    "from pymbe.model_modification import build_from_classifier_pattern, \\\n",
    "                                    new_element_ownership_pattern, \\\n",
    "                                    build_from_binary_relationship_pattern, \\\n",
    "                                    build_unioning_superset_classifier, \\\n",
    "                                    build_from_feature_pattern, \\\n",
    "                                    build_from_binary_connector_pattern\n",
    "\n",
    "from pymbe.query.metamodel_navigator import is_type_undefined_mult, \\\n",
    "                                    is_multiplicity_one, \\\n",
    "                                    is_multiplicity_specific_finite, \\\n",
    "                                    get_finite_multiplicity_types, \\\n",
    "                                    identify_connectors_one_side, \\\n",
    "                                    get_lower_multiplicty, \\\n",
    "                                    get_upper_multiplicty\n",
    "\n",
    "from uuid import uuid4"
   ]
  },
  {
   "cell_type": "markdown",
   "id": "3d272a8f-5666-4fcb-96b0-2c7c3f1a64fc",
   "metadata": {},
   "source": [
    "## Load up and explore basic model\n",
    "\n",
    "Load up a basic model in order to have basic package and namespace into which to add additional elements."
   ]
  },
  {
   "cell_type": "code",
   "execution_count": null,
   "id": "87c1163a-2d73-4ae4-af8d-adfeb9562193",
   "metadata": {},
   "outputs": [],
   "source": [
    "filename = \"Annex_A_Bike_Example\"\n",
    "\n",
    "if not filename.endswith(\".json\"):\n",
    "    filename += \".json\"\n",
    "\n",
    "json_file = Path(Path.cwd()).parent.parent / \"tests/fixtures\" / filename\n",
    "\n",
    "annex_a = pm.Model.load_from_post_file(json_file)\n",
    "annex_a"
   ]
  },
  {
   "cell_type": "code",
   "execution_count": null,
   "id": "234d9ec2-c287-414a-af37-6a8051c2ba80",
   "metadata": {},
   "outputs": [],
   "source": [
    "len(annex_a.elements)"
   ]
  },
  {
   "cell_type": "code",
   "execution_count": null,
   "id": "2f5d8278-9c26-454b-aeda-a18266d66b67",
   "metadata": {},
   "outputs": [],
   "source": [
    "classifiers = [ele for ele in annex_a.elements.values() if ele._metatype == 'Classifier']\n",
    "classifiers"
   ]
  },
  {
   "cell_type": "code",
   "execution_count": null,
   "id": "f92d84ee-020a-420d-8450-60a005dd4a30",
   "metadata": {},
   "outputs": [],
   "source": [
    "['throughFeatureMembership' in test_classifier._derived for test_classifier in classifiers]"
   ]
  }
 ],
 "metadata": {
  "kernelspec": {
   "display_name": "Python 3 (ipykernel)",
   "language": "python",
   "name": "python3"
  },
  "language_info": {
   "codemirror_mode": {
    "name": "ipython",
    "version": 3
   },
   "file_extension": ".py",
   "mimetype": "text/x-python",
   "name": "python",
   "nbconvert_exporter": "python",
   "pygments_lexer": "ipython3",
   "version": "3.9.13"
  }
 },
 "nbformat": 4,
 "nbformat_minor": 5
}
