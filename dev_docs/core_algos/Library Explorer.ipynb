{
 "cells": [
  {
   "cell_type": "markdown",
   "id": "f2a7ea9a-002e-43c4-ade8-1d3192bdb507",
   "metadata": {},
   "source": [
    "# Library Explorer\n",
    "\n",
    "Open up KerML semantic library and explore how pyMBE renders it."
   ]
  },
  {
   "cell_type": "code",
   "execution_count": 1,
   "id": "813893a6-0fec-461d-bd28-b955b525c589",
   "metadata": {},
   "outputs": [],
   "source": [
    "import json\n",
    "from importlib import resources as lib_resources\n",
    "import pymbe.api as pm\n",
    "\n",
    "from pymbe.query.metamodel_navigator import \\\n",
    "    get_effective_basic_name, get_effective_lower_multiplicity, get_effective_upper_multiplicity, get_most_specific_feature_type"
   ]
  },
  {
   "cell_type": "code",
   "execution_count": 2,
   "id": "52e7a6dd-94c1-4062-9f5f-ecc3bfc6e26c",
   "metadata": {},
   "outputs": [
    {
     "name": "stderr",
     "output_type": "stream",
     "text": [
      "c:\\users\\bjorn cole\\documents\\github\\pymbe\\src\\pymbe\\label.py:134: UserWarning: Cannot process Expression elements yet!\n",
      "  warn(f\"Cannot process {expression._metatype} elements yet!\")\n",
      "c:\\users\\bjorn cole\\documents\\github\\pymbe\\src\\pymbe\\label.py:134: UserWarning: Cannot process NullExpression elements yet!\n",
      "  warn(f\"Cannot process {expression._metatype} elements yet!\")\n",
      "c:\\users\\bjorn cole\\documents\\github\\pymbe\\src\\pymbe\\label.py:134: UserWarning: Cannot process BooleanExpression elements yet!\n",
      "  warn(f\"Cannot process {expression._metatype} elements yet!\")\n"
     ]
    }
   ],
   "source": [
    "library_model = None\n",
    "\n",
    "with lib_resources.path(\"pymbe.static_data\", \"KernelLibrary.json\") as lib_data:\n",
    "    library_model = pm.Model.load_from_post_file(lib_data)"
   ]
  },
  {
   "cell_type": "code",
   "execution_count": 3,
   "id": "da17467f-eb1b-4cec-b1ea-51c6e25dac43",
   "metadata": {},
   "outputs": [
    {
     "data": {
      "text/plain": [
       "[9cb49b7c-9a0e-4c54-8f17-6c3e4bcd022c «Namespace»,\n",
       " 8a5648f5-56fd-450f-8b96-c174af257ef7 «Namespace»,\n",
       " 97c6cd61-7bb3-4962-961d-d8b38ee86f78 «Namespace»,\n",
       " 27e33a1d-32b4-4216-9ff9-dbdbdf73e959 «Namespace»,\n",
       " c0ec9b56-0042-44bc-b743-56927ef25fac «Namespace»,\n",
       " 0c3bcf40-a2bd-4e5e-b324-8b31fe409cc4 «Namespace»,\n",
       " f0bbcb1d-bb98-4ea1-ad5d-4ccfa832d9fb «Namespace»,\n",
       " d39bae29-233b-4c30-8b84-6231ba7b8e3f «Namespace»,\n",
       " fdc091fe-d511-44d3-b80e-0741ea474628 «Namespace»,\n",
       " 8fbb40db-36a2-4094-8e95-703bf159705b «Namespace»,\n",
       " bd8d6d52-773d-435d-a66f-8ec665255ec7 «Namespace»,\n",
       " 993b8316-e5eb-4a95-948f-d89050449a92 «Namespace»,\n",
       " 14084784-59a9-4c48-a15e-75709750c1f4 «Namespace»,\n",
       " a836d19d-3911-4905-9fd6-3653b0b3abca «Namespace»,\n",
       " c7c5bf69-9672-40f7-84f6-75bf16a2f2cc «Namespace»,\n",
       " 4d022887-fda8-48c8-902d-4b8bfbb65491 «Namespace»,\n",
       " 5e45588a-489d-47fe-89bc-134bdf7296e0 «Namespace»,\n",
       " 217fed78-8dbc-4254-ace3-531000b260fd «Namespace»,\n",
       " 43ae5d40-5d02-4f59-9d5e-61f6873f4c70 «Namespace»,\n",
       " af2da44b-8b62-4819-8d5a-efe29cea730c «Namespace»,\n",
       " 271e5d22-d573-4e2b-94f6-d0cc73141e97 «Namespace»,\n",
       " da640c5a-c6f8-40c2-88b9-5c9f1d8487b8 «Namespace»,\n",
       " 783c3e8a-b892-4733-9a2f-491811552e0f «Namespace»,\n",
       " 77aecf0a-3ee7-4201-9272-c66a9df8356e «Namespace»,\n",
       " 95f2d0a4-1037-4947-9c2c-f5a103fdc3ba «Namespace»,\n",
       " f358daed-f7fc-474b-8d4f-fbafb8acaaf0 «Namespace»,\n",
       " 43d16333-0fc0-4a40-9d01-f5968d0b51ef «Namespace»,\n",
       " 9d4cc2a1-6b61-4db6-a332-96ce52f49edc «Namespace»,\n",
       " a82e9973-a3ce-4992-9e71-75f95351cac9 «Namespace»,\n",
       " c1f895ea-2529-4aed-9205-0634e2b37371 «Namespace»,\n",
       " c6c900a2-1217-416b-ba63-23a3e1d4f3a6 «Namespace»,\n",
       " df50aa81-51c1-4f72-842a-23199c81ebdb «Namespace»,\n",
       " 6af34673-a795-42ad-9921-1cc73397fcb9 «Namespace»,\n",
       " 1bc5bc5c-292f-425b-887d-c542feccb46d «Namespace»,\n",
       " 8200cb50-e6a6-4617-b4ee-388dac7213fd «Namespace»,\n",
       " 22030fb1-f79a-43e3-a255-190a585ebb3a «Namespace»]"
      ]
     },
     "execution_count": 3,
     "metadata": {},
     "output_type": "execute_result"
    }
   ],
   "source": [
    "library_model.ownedElement"
   ]
  },
  {
   "cell_type": "code",
   "execution_count": 4,
   "id": "8cebda6d-a45c-4233-bf9f-8e58b4c97b72",
   "metadata": {},
   "outputs": [],
   "source": [
    "base_ns = [library_model_ns for library_model_ns in library_model.ownedElement if library_model_ns.throughOwningMembership[0].declaredName == 'Base'][0]"
   ]
  },
  {
   "cell_type": "code",
   "execution_count": 5,
   "id": "0f379827-b8df-4efd-b8b3-5ff6a6d397f5",
   "metadata": {},
   "outputs": [
    {
     "data": {
      "text/plain": [
       "{'elementId': 'cdd5d1e3-fe4b-52bd-8a01-51a53f22ba47',\n",
       " 'owningRelationship': {'@id': '93299e76-a1e1-4579-bd5b-83090a308902'},\n",
       " 'isStandard': True,\n",
       " 'aliasIds': [],\n",
       " '@type': 'LibraryPackage',\n",
       " 'ownedRelationship': [{'@id': 'd2458397-8634-49b3-885f-d02979e8a189'},\n",
       "  {'@id': 'dd5915a5-576c-4387-98dc-262c06ba78c8'},\n",
       "  {'@id': 'dd283f30-7b35-4003-9e92-951aaea8e71f'},\n",
       "  {'@id': '8658bfd1-484e-404a-b5f0-b281b8f058a8'},\n",
       "  {'@id': '9b6d4d22-434a-4aab-8701-8d22dd2e7489'},\n",
       "  {'@id': '5772e348-2d4b-4ae2-bb2d-e3177716674a'},\n",
       "  {'@id': 'a51cd91a-f5cf-4b36-85e1-151e825e1510'},\n",
       "  {'@id': '92c4c776-ca5c-4590-b34e-8a3e6c6a2678'},\n",
       "  {'@id': 'a0c463ef-a0ce-4bf5-8e6c-cac6bef37fe2'},\n",
       "  {'@id': '38555a5e-e731-45c4-a5e0-a2d68b0b1bb9'}],\n",
       " 'declaredName': 'Base',\n",
       " 'isImpliedIncluded': False,\n",
       " '@id': 'cdd5d1e3-fe4b-52bd-8a01-51a53f22ba47'}"
      ]
     },
     "execution_count": 5,
     "metadata": {},
     "output_type": "execute_result"
    }
   ],
   "source": [
    "base_ns.throughOwningMembership[0]._data"
   ]
  },
  {
   "cell_type": "code",
   "execution_count": 6,
   "id": "01982978-a75f-4441-8236-1a7429972cdc",
   "metadata": {},
   "outputs": [
    {
     "data": {
      "text/plain": [
       "[7a7a0e26-0dbb-4a29-ba55-9d6390fdfccf «Documentation»,\n",
       " DataValue «DataType»,\n",
       " things «Feature»,\n",
       " dataValues «Feature»,\n",
       " naturals «Feature»,\n",
       " exactlyOne «MultiplicityRange»,\n",
       " zeroOrOne «MultiplicityRange»,\n",
       " oneToMany «MultiplicityRange»,\n",
       " zeroToMany «MultiplicityRange»,\n",
       " Anything «Classifier»]"
      ]
     },
     "execution_count": 6,
     "metadata": {},
     "output_type": "execute_result"
    }
   ],
   "source": [
    "base_ns.throughOwningMembership[0].throughOwningMembership"
   ]
  },
  {
   "cell_type": "code",
   "execution_count": 7,
   "id": "29638df3-b7e3-4bd0-80a0-4718458fe8e3",
   "metadata": {},
   "outputs": [
    {
     "data": {
      "text/plain": [
       "'DataType'"
      ]
     },
     "execution_count": 7,
     "metadata": {},
     "output_type": "execute_result"
    }
   ],
   "source": [
    "base_ns.throughOwningMembership[0].throughOwningMembership[1]._metatype"
   ]
  },
  {
   "cell_type": "code",
   "execution_count": 8,
   "id": "09fa6e7f-f0b3-42dc-b986-8ce639fcf3cc",
   "metadata": {},
   "outputs": [
    {
     "data": {
      "text/plain": [
       "zeroOrOne «MultiplicityRange»"
      ]
     },
     "execution_count": 8,
     "metadata": {},
     "output_type": "execute_result"
    }
   ],
   "source": [
    "base_ns.throughOwningMembership[0].throughOwningMembership[6]"
   ]
  },
  {
   "cell_type": "code",
   "execution_count": 9,
   "id": "4e94170b-2ed0-4895-8247-d0a8b6fafa7f",
   "metadata": {},
   "outputs": [
    {
     "data": {
      "text/plain": [
       "defaultdict(list,\n",
       "            {'throughOwningMembership': [{'@id': '27b088f8-d9e9-424f-91e4-55aceea9351b'},\n",
       "              {'@id': '0c40e1b0-ff84-453b-8458-2cf253e81a9b'},\n",
       "              {'@id': '7039a27e-6fec-4368-b731-111a193a083e'}],\n",
       "             'reverseOwningMembership': [{'@id': 'cdd5d1e3-fe4b-52bd-8a01-51a53f22ba47'}],\n",
       "             'label': 'zeroOrOne «MultiplicityRange»'})"
      ]
     },
     "execution_count": 9,
     "metadata": {},
     "output_type": "execute_result"
    }
   ],
   "source": [
    "base_ns.throughOwningMembership[0].throughOwningMembership[6]._derived"
   ]
  },
  {
   "cell_type": "code",
   "execution_count": 10,
   "id": "914d785f-1803-46bf-9c3c-81a2a924b91f",
   "metadata": {},
   "outputs": [
    {
     "data": {
      "text/plain": [
       "{'elementId': 'f0b635f5-9f11-4ff2-ad3e-8bdfa4467a52',\n",
       " 'isImplied': False,\n",
       " 'aliasIds': [],\n",
       " 'visibility': 'public',\n",
       " '@type': 'ReturnParameterMembership',\n",
       " 'ownedRelationship': [],\n",
       " 'memberName': 'result',\n",
       " 'ownedRelatedElement': [{'@id': '7e2f26e9-1289-4960-92e2-156f926991c9'}],\n",
       " 'source': [{'@id': '27b088f8-d9e9-424f-91e4-55aceea9351b'}],\n",
       " 'type': {'@id': '27b088f8-d9e9-424f-91e4-55aceea9351b'},\n",
       " 'isImpliedIncluded': False,\n",
       " 'target': [{'@id': '7e2f26e9-1289-4960-92e2-156f926991c9'}],\n",
       " 'owningRelatedElement': {'@id': '27b088f8-d9e9-424f-91e4-55aceea9351b'},\n",
       " 'feature': {'@id': '7e2f26e9-1289-4960-92e2-156f926991c9'},\n",
       " 'memberElement': {'@id': '7e2f26e9-1289-4960-92e2-156f926991c9'},\n",
       " '@id': 'f0b635f5-9f11-4ff2-ad3e-8bdfa4467a52'}"
      ]
     },
     "execution_count": 10,
     "metadata": {},
     "output_type": "execute_result"
    }
   ],
   "source": [
    "base_ns.throughOwningMembership[0].throughOwningMembership[6].throughOwningMembership[0].ownedRelationship[0]._data"
   ]
  },
  {
   "cell_type": "code",
   "execution_count": 11,
   "id": "a0f6ac0f-ba29-463a-8ddf-598b9bfd6e0a",
   "metadata": {},
   "outputs": [],
   "source": [
    "links_ns = [library_model_ns for library_model_ns in library_model.ownedElement if library_model_ns.throughOwningMembership[0].declaredName == 'Links'][0]"
   ]
  },
  {
   "cell_type": "code",
   "execution_count": 12,
   "id": "43d502a2-8393-4929-998e-58b866e3cfd4",
   "metadata": {},
   "outputs": [
    {
     "data": {
      "text/plain": [
       "{'elementId': 'd7ddb15a-29e3-558b-bd3d-ac8b2fa107f2',\n",
       " 'owningRelationship': {'@id': '769a5883-8838-4f52-b463-d85d43b9142f'},\n",
       " 'isStandard': True,\n",
       " 'aliasIds': [],\n",
       " '@type': 'LibraryPackage',\n",
       " 'ownedRelationship': [{'@id': 'dc0382b7-b1f8-479f-a77d-1cf04dc8dc0f'},\n",
       "  {'@id': '1f31988d-f47c-463b-bb21-d4a87c50c75f'},\n",
       "  {'@id': 'c82be6bb-05a4-4892-a9b5-bfa7c2481a27'},\n",
       "  {'@id': '957d3ae6-1402-4af4-af77-32e0ae54df83'},\n",
       "  {'@id': 'b108314b-19ed-4716-85e0-50adb23d2c29'},\n",
       "  {'@id': '8cc4ca21-177d-44fc-b2b6-0367ce10d624'},\n",
       "  {'@id': 'b1180408-9d37-4b2a-9eed-9bf8a5aa56c6'},\n",
       "  {'@id': '58464d0d-5495-470e-8db0-c0023f4914ea'},\n",
       "  {'@id': '82bb976a-d6c3-4d3f-b6a5-0bc0e56b7078'}],\n",
       " 'declaredName': 'Links',\n",
       " 'isImpliedIncluded': False,\n",
       " '@id': 'd7ddb15a-29e3-558b-bd3d-ac8b2fa107f2'}"
      ]
     },
     "execution_count": 12,
     "metadata": {},
     "output_type": "execute_result"
    }
   ],
   "source": [
    "links_ns.throughOwningMembership[0]._data"
   ]
  },
  {
   "cell_type": "markdown",
   "id": "4ed72cfc-aa61-4984-92b7-c7e5be8431f8",
   "metadata": {},
   "source": [
    "## Identifiers in Libraries\n",
    "\n",
    "The code for identifiers in libraries is called from ElementImpl.java in the reference implementation. There is a method called constructNameUUID in the ELementUtil class that walks through how namespace UUID and element name are combined into a new SHA-1 hash for a UUID."
   ]
  },
  {
   "cell_type": "code",
   "execution_count": 13,
   "id": "fe4b334d-5224-4082-aa16-325e73efc8f2",
   "metadata": {},
   "outputs": [
    {
     "data": {
      "text/plain": [
       "[73342ce6-7ebb-4731-ad50-c7a287a02adc «Documentation»,\n",
       " Link «Association»,\n",
       " <Association([Anything «Classifier»] ←→ [Anything «Classifier»])>,\n",
       " <Association([Anything «Classifier»] ←→ [Anything «Classifier»])>,\n",
       " links «Feature»,\n",
       " binaryLinks «Feature»,\n",
       " selfLinks «Feature»]"
      ]
     },
     "execution_count": 13,
     "metadata": {},
     "output_type": "execute_result"
    }
   ],
   "source": [
    "links_ns.throughOwningMembership[0].throughOwningMembership"
   ]
  },
  {
   "cell_type": "code",
   "execution_count": 14,
   "id": "2d8ba028-ab68-4bc1-831e-bf53e97c5236",
   "metadata": {},
   "outputs": [
    {
     "data": {
      "text/plain": [
       "[participant «Feature», source «Feature», target «Feature»]"
      ]
     },
     "execution_count": 14,
     "metadata": {},
     "output_type": "execute_result"
    }
   ],
   "source": [
    "links_ns.throughOwningMembership[0].throughOwningMembership[2].throughFeatureMembership"
   ]
  },
  {
   "cell_type": "code",
   "execution_count": 15,
   "id": "98c7d4d0-836d-41de-8d8a-ec90801e485b",
   "metadata": {},
   "outputs": [
    {
     "data": {
      "text/plain": [
       "{'elementId': '882a962b-82eb-55bc-aade-772fd2884849',\n",
       " 'isDerived': False,\n",
       " 'owningRelationship': {'@id': '83bbdc8a-f189-4514-8a97-5e78d2902614'},\n",
       " 'aliasIds': [],\n",
       " '@type': 'Feature',\n",
       " 'ownedRelationship': [{'@id': 'ed0c076b-2555-4b7f-b2c0-578c5140279e'},\n",
       "  {'@id': 'cfd3aade-8c28-45e7-9460-b9fd5782313a'},\n",
       "  {'@id': 'e79031e9-bf4c-4a71-911b-9f2922ce0e56'}],\n",
       " 'isUnique': False,\n",
       " 'isPortion': False,\n",
       " 'isAbstract': False,\n",
       " 'isEnd': True,\n",
       " 'isImpliedIncluded': False,\n",
       " 'isComposite': False,\n",
       " 'isReadOnly': True,\n",
       " 'declaredName': 'target',\n",
       " 'isSufficient': False,\n",
       " 'isOrdered': True,\n",
       " '@id': '882a962b-82eb-55bc-aade-772fd2884849'}"
      ]
     },
     "execution_count": 15,
     "metadata": {},
     "output_type": "execute_result"
    }
   ],
   "source": [
    "links_ns.throughOwningMembership[0].throughOwningMembership[2].throughFeatureMembership[2]._data"
   ]
  },
  {
   "cell_type": "code",
   "execution_count": 16,
   "id": "fdcdee13-a1ba-47cf-8741-bcc369dcfa95",
   "metadata": {},
   "outputs": [
    {
     "data": {
      "text/plain": [
       "{'elementId': '2c29150f-e44a-5194-b194-2a6b9984c35d',\n",
       " 'isImplied': False,\n",
       " 'owningRelationship': {'@id': 'b108314b-19ed-4716-85e0-50adb23d2c29'},\n",
       " 'aliasIds': [],\n",
       " '@type': 'Association',\n",
       " 'ownedRelationship': [{'@id': 'a5c96345-1c4f-46c8-b3ab-f7a452ee4ed3'},\n",
       "  {'@id': '192aecea-061a-4a89-bd49-daa914dfe10f'},\n",
       "  {'@id': '182cc717-f792-4d8c-af34-ab71175ea9bb'},\n",
       "  {'@id': 'd2a970c0-f660-45af-860d-beecba878421'},\n",
       "  {'@id': '83bbdc8a-f189-4514-8a97-5e78d2902614'}],\n",
       " 'ownedRelatedElement': [],\n",
       " 'source': [{'@id': 'd5b4e7df-e644-5f2f-b95e-cf6f1f6c076d'}],\n",
       " 'isAbstract': False,\n",
       " 'isImpliedIncluded': False,\n",
       " 'target': [{'@id': 'd5b4e7df-e644-5f2f-b95e-cf6f1f6c076d'}],\n",
       " 'declaredName': 'BinaryLink',\n",
       " 'isSufficient': True,\n",
       " '@id': '2c29150f-e44a-5194-b194-2a6b9984c35d'}"
      ]
     },
     "execution_count": 16,
     "metadata": {},
     "output_type": "execute_result"
    }
   ],
   "source": [
    "links_ns.throughOwningMembership[0].throughOwningMembership[2]._data"
   ]
  },
  {
   "cell_type": "code",
   "execution_count": 17,
   "id": "c57f6ed4-7d44-4f2d-ae34-718686a996e8",
   "metadata": {},
   "outputs": [
    {
     "data": {
      "text/plain": [
       "{'elementId': '182cc717-f792-4d8c-af34-ab71175ea9bb',\n",
       " 'isImplied': False,\n",
       " 'aliasIds': [],\n",
       " 'visibility': 'public',\n",
       " '@type': 'FeatureMembership',\n",
       " 'ownedRelationship': [],\n",
       " 'memberName': 'participant',\n",
       " 'ownedRelatedElement': [{'@id': 'bab58ce6-dbfd-5db1-a151-666fec66e36e'}],\n",
       " 'source': [{'@id': '2c29150f-e44a-5194-b194-2a6b9984c35d'}],\n",
       " 'type': {'@id': '2c29150f-e44a-5194-b194-2a6b9984c35d'},\n",
       " 'isImpliedIncluded': False,\n",
       " 'target': [{'@id': 'bab58ce6-dbfd-5db1-a151-666fec66e36e'}],\n",
       " 'owningRelatedElement': {'@id': '2c29150f-e44a-5194-b194-2a6b9984c35d'},\n",
       " 'feature': {'@id': 'bab58ce6-dbfd-5db1-a151-666fec66e36e'},\n",
       " 'memberElement': {'@id': 'bab58ce6-dbfd-5db1-a151-666fec66e36e'},\n",
       " '@id': '182cc717-f792-4d8c-af34-ab71175ea9bb'}"
      ]
     },
     "execution_count": 17,
     "metadata": {},
     "output_type": "execute_result"
    }
   ],
   "source": [
    "links_ns.throughOwningMembership[0].throughOwningMembership[2].ownedRelationship[2]._data"
   ]
  },
  {
   "cell_type": "code",
   "execution_count": 18,
   "id": "a8a32bcb-eebd-485d-b76b-e3357933877c",
   "metadata": {},
   "outputs": [
    {
     "data": {
      "text/plain": [
       "[participant «Feature», source «Feature», target «Feature»]"
      ]
     },
     "execution_count": 18,
     "metadata": {},
     "output_type": "execute_result"
    }
   ],
   "source": [
    "links_ns.throughOwningMembership[0].throughOwningMembership[2].throughFeatureMembership"
   ]
  },
  {
   "cell_type": "code",
   "execution_count": 19,
   "id": "6cce5ec6-6144-47dd-b794-6a6d2a24de10",
   "metadata": {},
   "outputs": [
    {
     "data": {
      "text/plain": [
       "defaultdict(list,\n",
       "            {'throughFeatureTyping': [{'@id': 'd5b4e7df-e644-5f2f-b95e-cf6f1f6c076d'}],\n",
       "             'throughOwningMembership': [{'@id': '3eab9e3b-2b81-402b-9650-11c1ebc201ce'}],\n",
       "             'throughRedefinition': [{'@id': '36b3c94b-3932-5d15-8d08-ebc1c1ecf830'}],\n",
       "             'reverseFeatureMembership': [{'@id': '2c29150f-e44a-5194-b194-2a6b9984c35d'}],\n",
       "             'reverseSubsetting': [{'@id': '63d685f6-e64e-5f75-8fcb-ef01b735f047'},\n",
       "              {'@id': '882a962b-82eb-55bc-aade-772fd2884849'}],\n",
       "             'label': 'participant «Feature»'})"
      ]
     },
     "execution_count": 19,
     "metadata": {},
     "output_type": "execute_result"
    }
   ],
   "source": [
    "links_ns.throughOwningMembership[0].throughOwningMembership[2].throughFeatureMembership[0]._derived"
   ]
  },
  {
   "cell_type": "code",
   "execution_count": 20,
   "id": "8413f734-0620-49ed-811a-e88bcae2db60",
   "metadata": {},
   "outputs": [
    {
     "data": {
      "text/plain": [
       "[participant «Feature»]"
      ]
     },
     "execution_count": 20,
     "metadata": {},
     "output_type": "execute_result"
    }
   ],
   "source": [
    "links_ns.throughOwningMembership[0].throughOwningMembership[2].throughFeatureMembership[0].throughRedefinition"
   ]
  },
  {
   "cell_type": "code",
   "execution_count": 21,
   "id": "a05e640f-9ff1-435d-a1d5-a34484bfbaa8",
   "metadata": {},
   "outputs": [
    {
     "data": {
      "text/plain": [
       "{'elementId': 'bab58ce6-dbfd-5db1-a151-666fec66e36e',\n",
       " 'isDerived': False,\n",
       " 'owningRelationship': {'@id': '182cc717-f792-4d8c-af34-ab71175ea9bb'},\n",
       " 'aliasIds': [],\n",
       " '@type': 'Feature',\n",
       " 'ownedRelationship': [{'@id': 'd6030cd3-d80c-4d9a-8fd5-66f0581ac1d7'},\n",
       "  {'@id': '5f3172a4-3035-4857-9a94-b368355fd9e3'},\n",
       "  {'@id': '3ca426df-4811-413a-bb4d-78ea6f400ad1'}],\n",
       " 'isUnique': False,\n",
       " 'isPortion': False,\n",
       " 'isAbstract': False,\n",
       " 'isEnd': False,\n",
       " 'isImpliedIncluded': False,\n",
       " 'isComposite': False,\n",
       " 'isReadOnly': False,\n",
       " 'declaredName': 'participant',\n",
       " 'isSufficient': False,\n",
       " 'isOrdered': True,\n",
       " '@id': 'bab58ce6-dbfd-5db1-a151-666fec66e36e'}"
      ]
     },
     "execution_count": 21,
     "metadata": {},
     "output_type": "execute_result"
    }
   ],
   "source": [
    "links_ns.throughOwningMembership[0].throughOwningMembership[2].throughFeatureMembership[0]._data"
   ]
  },
  {
   "cell_type": "code",
   "execution_count": 22,
   "id": "e4e41449-44e1-4b16-b80e-32aaa14e5b3f",
   "metadata": {},
   "outputs": [
    {
     "data": {
      "text/plain": [
       "{'elementId': '36b3c94b-3932-5d15-8d08-ebc1c1ecf830',\n",
       " 'isDerived': False,\n",
       " 'owningRelationship': {'@id': '5e91a5cd-9c1a-47a7-ab48-c326da771694'},\n",
       " 'aliasIds': [],\n",
       " '@type': 'Feature',\n",
       " 'ownedRelationship': [{'@id': 'c245cbcf-a6f5-408d-9d62-fb9c933d80f1'},\n",
       "  {'@id': 'fafce508-a731-4346-82be-f17e3f3db8dc'}],\n",
       " 'isUnique': False,\n",
       " 'isPortion': False,\n",
       " 'isAbstract': False,\n",
       " 'isEnd': False,\n",
       " 'isImpliedIncluded': False,\n",
       " 'isComposite': False,\n",
       " 'isReadOnly': True,\n",
       " 'declaredName': 'participant',\n",
       " 'isSufficient': False,\n",
       " 'isOrdered': True,\n",
       " '@id': '36b3c94b-3932-5d15-8d08-ebc1c1ecf830'}"
      ]
     },
     "execution_count": 22,
     "metadata": {},
     "output_type": "execute_result"
    }
   ],
   "source": [
    "links_ns.throughOwningMembership[0].throughOwningMembership[2].throughFeatureMembership[0].throughRedefinition[0]._data"
   ]
  },
  {
   "cell_type": "code",
   "execution_count": 23,
   "id": "3e5ed3be-45e8-4948-84d5-a7178a307387",
   "metadata": {},
   "outputs": [],
   "source": [
    "peform_ns = [library_model_ns\n",
    "               for library_model_ns in library_model.ownedElement\n",
    "               if library_model_ns.throughOwningMembership[0].declaredName == 'Performances'][0]"
   ]
  },
  {
   "cell_type": "code",
   "execution_count": 24,
   "id": "5a7c4ac0-de63-47ba-b278-993b233bf15f",
   "metadata": {},
   "outputs": [
    {
     "data": {
      "text/plain": [
       "[6910559d-1e2d-404b-a2ae-43eb89854d15 «Documentation»,\n",
       " Evaluation «Function»,\n",
       " BooleanEvaluation «Predicate»,\n",
       " MetadataAccessEvaluation «Function»,\n",
       " LiteralEvaluation «Function»,\n",
       " LiteralBooleanEvaluation «Predicate»,\n",
       " LiteralIntegerEvaluation «Function»,\n",
       " LiteralRationalEvaluation «Function»,\n",
       " LiteralStringEvaluation «Function»,\n",
       " NullEvaluation «Function»,\n",
       " <Association([Performance «Behavior»] ←→ [Object «Structure»])>,\n",
       " <Association([Object «Structure»] ←→ [Performance «Behavior», Object «Structure»])>,\n",
       " performances «Step»,\n",
       " <<Expression c590aa58-6c78-5aeb-b1c9-a784abcb2e29>> «Expression»,\n",
       " <<Expression de3f8eb6-72e3-5efe-a33e-d9347535e60c>> «Expression»,\n",
       " <<Expression 49158069-6a8a-50d9-8d31-28533873a623>> «Expression»,\n",
       " <<Expression 16073ffc-230c-54c3-b1fd-433458d0dbda>> «Expression»,\n",
       " <<Expression a501896d-d985-57c5-a824-840da2ce1a72>> «Expression»,\n",
       " <<Expression 821e72d8-ed55-5031-98b3-482a783d4202>> «Expression»,\n",
       " <<Expression 6bdf2043-0ebe-5875-ba07-950c51551aad>> «Expression»,\n",
       " <<Expression fb4cc07d-8595-55f8-a84f-5f5431024e1b>> «Expression»,\n",
       " <<Expression f4d9dec6-42e0-5a15-b12e-6b4e1831780c>> «Expression»,\n",
       " <<Expression a24c2a5c-fec8-57a7-8e6b-fd412baaa95c>> «Expression»,\n",
       " <<Expression 9aa34893-ae03-5bde-b027-fbb652dcf375>> «Expression»,\n",
       " Performance «Behavior»]"
      ]
     },
     "execution_count": 24,
     "metadata": {},
     "output_type": "execute_result"
    }
   ],
   "source": [
    "peform_ns.throughOwningMembership[0].throughOwningMembership"
   ]
  },
  {
   "cell_type": "code",
   "execution_count": 25,
   "id": "2fc2bef3-96d0-400f-ba42-318ed0007854",
   "metadata": {},
   "outputs": [
    {
     "data": {
      "text/plain": [
       "Performance «Behavior»"
      ]
     },
     "execution_count": 25,
     "metadata": {},
     "output_type": "execute_result"
    }
   ],
   "source": [
    "perform_eles = peform_ns.throughOwningMembership[0].throughOwningMembership\n",
    "\n",
    "performance = None\n",
    "    \n",
    "for perform_ele in perform_eles:\n",
    "    if perform_ele._metatype in ('Behavior'):\n",
    "        if hasattr(perform_ele, \"declaredName\"):\n",
    "            if perform_ele.declaredName == 'Performance':\n",
    "                performance = perform_ele\n",
    "                \n",
    "performance"
   ]
  },
  {
   "cell_type": "code",
   "execution_count": 26,
   "id": "9d08b80e-4d57-4265-b92b-b18b836efe68",
   "metadata": {},
   "outputs": [
    {
     "data": {
      "text/plain": [
       "[self «Feature»,\n",
       " involvedObjects «Feature»,\n",
       " performers «Feature»,\n",
       " 16c42f5a-39df-5dae-8bba-4ad4424bd606 «Feature»,\n",
       " c64ab43a-790b-5369-b8e4-3382ae24c736 «Feature»,\n",
       " enclosedPerformances «Step»,\n",
       " thisPerformance «Feature»,\n",
       " <Connector([self «Feature»] ←→ [thisPerformance «Feature»])>,\n",
       " subperformances «Step»]"
      ]
     },
     "execution_count": 26,
     "metadata": {},
     "output_type": "execute_result"
    }
   ],
   "source": [
    "performance.throughFeatureMembership"
   ]
  },
  {
   "cell_type": "code",
   "execution_count": 27,
   "id": "4be7d4de-23db-4d4b-8390-dd978dcc43fd",
   "metadata": {},
   "outputs": [
    {
     "data": {
      "text/plain": [
       "defaultdict(list,\n",
       "            {'throughRedefinition': [{'@id': '8e57748c-699b-525f-a9af-13eba4d0bc6e'}],\n",
       "             'throughFeatureValue': [{'@id': '83a77e92-dbba-4c5a-bc71-e2fec0dee1cd'}],\n",
       "             'reverseFeatureMembership': [{'@id': '1b7f00e7-24fb-5ebc-8773-89ba88bc3d5d'}],\n",
       "             'reverseMembership': [{'@id': 'e418ee32-750e-4960-84f3-b058a9029c1a'}],\n",
       "             'label': '16c42f5a-39df-5dae-8bba-4ad4424bd606 «Feature»'})"
      ]
     },
     "execution_count": 27,
     "metadata": {},
     "output_type": "execute_result"
    }
   ],
   "source": [
    "performance.throughFeatureMembership[3]._derived"
   ]
  },
  {
   "cell_type": "code",
   "execution_count": 28,
   "id": "545262ec-b816-4ada-b640-0f4e74a04af8",
   "metadata": {},
   "outputs": [
    {
     "data": {
      "text/plain": [
       "isDispatch «Feature»"
      ]
     },
     "execution_count": 28,
     "metadata": {},
     "output_type": "execute_result"
    }
   ],
   "source": [
    "performance.throughFeatureMembership[3].throughRedefinition[0]"
   ]
  },
  {
   "cell_type": "code",
   "execution_count": 29,
   "id": "ea968e02-2b97-436a-8853-0668cfc15a38",
   "metadata": {},
   "outputs": [
    {
     "data": {
      "text/plain": [
       "'isDispatch'"
      ]
     },
     "execution_count": 29,
     "metadata": {},
     "output_type": "execute_result"
    }
   ],
   "source": [
    "get_effective_basic_name(performance.throughFeatureMembership[3])"
   ]
  },
  {
   "cell_type": "code",
   "execution_count": 30,
   "id": "d03df378-f354-438b-8419-15896bf937e5",
   "metadata": {},
   "outputs": [
    {
     "data": {
      "text/plain": [
       "f0bbcb1d-bb98-4ea1-ad5d-4ccfa832d9fb «Namespace»"
      ]
     },
     "execution_count": 30,
     "metadata": {},
     "output_type": "execute_result"
    }
   ],
   "source": [
    "vvals_ns = [library_model_ns for library_model_ns in library_model.ownedElement if library_model_ns.throughOwningMembership[0].declaredName == 'VectorValues'][0]\n",
    "vvals_ns"
   ]
  },
  {
   "cell_type": "code",
   "execution_count": 31,
   "id": "4de1cb99-d19c-45f4-b5b5-32fd703bdc79",
   "metadata": {},
   "outputs": [
    {
     "data": {
      "text/plain": [
       "[34acaae4-80ba-49aa-80a9-92dd025638df «Documentation»,\n",
       " VectorValue «DataType»,\n",
       " NumericalVectorValue «DataType»,\n",
       " CartesianVectorValue «DataType»,\n",
       " ThreeVectorValue «DataType»,\n",
       " CartesianThreeVectorValue «DataType»]"
      ]
     },
     "execution_count": 31,
     "metadata": {},
     "output_type": "execute_result"
    }
   ],
   "source": [
    "vvals_eles = vvals_ns.throughOwningMembership[0].throughOwningMembership\n",
    "vvals_eles"
   ]
  },
  {
   "cell_type": "code",
   "execution_count": 32,
   "id": "7a624cff-e3cc-426b-919b-64126c9bc895",
   "metadata": {},
   "outputs": [
    {
     "data": {
      "text/plain": [
       "ThreeVectorValue «DataType»"
      ]
     },
     "execution_count": 32,
     "metadata": {},
     "output_type": "execute_result"
    }
   ],
   "source": [
    "vvals_eles[4]"
   ]
  },
  {
   "cell_type": "code",
   "execution_count": 33,
   "id": "bcb2b7a5-6459-4f88-bcb8-96f7978a1524",
   "metadata": {},
   "outputs": [
    {
     "data": {
      "text/plain": [
       "3643ce00-99f4-5ce4-a538-6258479b11db «Feature»"
      ]
     },
     "execution_count": 33,
     "metadata": {},
     "output_type": "execute_result"
    }
   ],
   "source": [
    "vvals_eles[4].throughFeatureMembership[0]"
   ]
  },
  {
   "cell_type": "code",
   "execution_count": 34,
   "id": "ade0371e-6c26-4815-ab14-9a355cd9c282",
   "metadata": {},
   "outputs": [
    {
     "data": {
      "text/plain": [
       "'dimension'"
      ]
     },
     "execution_count": 34,
     "metadata": {},
     "output_type": "execute_result"
    }
   ],
   "source": [
    "get_effective_basic_name(vvals_eles[4].throughFeatureMembership[0])"
   ]
  },
  {
   "cell_type": "code",
   "execution_count": 35,
   "id": "95a46546-f342-4930-8d13-49f065983cdc",
   "metadata": {},
   "outputs": [
    {
     "data": {
      "text/plain": [
       "Positive «DataType»"
      ]
     },
     "execution_count": 35,
     "metadata": {},
     "output_type": "execute_result"
    }
   ],
   "source": [
    "get_most_specific_feature_type(vvals_eles[4].throughFeatureMembership[0])"
   ]
  },
  {
   "cell_type": "code",
   "execution_count": 36,
   "id": "197f99ed-8bbd-4b88-a843-dd68b65bb1cf",
   "metadata": {},
   "outputs": [
    {
     "name": "stdout",
     "output_type": "stream",
     "text": [
      "Local more general is [dimension «Feature»]\n"
     ]
    },
    {
     "data": {
      "text/plain": [
       "0"
      ]
     },
     "execution_count": 36,
     "metadata": {},
     "output_type": "execute_result"
    }
   ],
   "source": [
    "get_effective_lower_multiplicity(vvals_eles[4].throughFeatureMembership[0])"
   ]
  },
  {
   "cell_type": "code",
   "execution_count": 37,
   "id": "49b7be69-92d5-4b7a-9de8-43709d2b5be8",
   "metadata": {},
   "outputs": [
    {
     "name": "stdout",
     "output_type": "stream",
     "text": [
      "Local more general is [dimension «Feature»]\n"
     ]
    },
    {
     "data": {
      "text/plain": [
       "1"
      ]
     },
     "execution_count": 37,
     "metadata": {},
     "output_type": "execute_result"
    }
   ],
   "source": [
    "get_effective_upper_multiplicity(vvals_eles[4].throughFeatureMembership[0])"
   ]
  },
  {
   "cell_type": "code",
   "execution_count": 38,
   "id": "67ceeee8-cc48-4c0b-b0e2-71a7857ef0fd",
   "metadata": {},
   "outputs": [
    {
     "data": {
      "text/plain": [
       "dimension «Feature»"
      ]
     },
     "execution_count": 38,
     "metadata": {},
     "output_type": "execute_result"
    }
   ],
   "source": [
    "vvals_eles[4].throughFeatureMembership[0].throughRedefinition[0]"
   ]
  },
  {
   "cell_type": "code",
   "execution_count": 39,
   "id": "e1d2a8d3-32d9-42c3-bc85-b16ddc88e34d",
   "metadata": {},
   "outputs": [
    {
     "data": {
      "text/plain": [
       "'MultiplicityRange'"
      ]
     },
     "execution_count": 39,
     "metadata": {},
     "output_type": "execute_result"
    }
   ],
   "source": [
    "vvals_eles[4].throughFeatureMembership[0].throughRedefinition[0].throughOwningMembership[0]._metatype"
   ]
  },
  {
   "cell_type": "code",
   "execution_count": 40,
   "id": "99d0cdaf-9db3-482e-aa81-46fb3ac377a2",
   "metadata": {},
   "outputs": [
    {
     "data": {
      "text/plain": [
       "[26aa91ed-7c93-4bf0-b269-c5bcc77c5bf9 «LiteralInteger»,\n",
       " 1 «Occurred LiteralInteger»]"
      ]
     },
     "execution_count": 40,
     "metadata": {},
     "output_type": "execute_result"
    }
   ],
   "source": [
    "vvals_eles[4].throughFeatureMembership[0].throughRedefinition[0].throughOwningMembership[0].throughOwningMembership"
   ]
  },
  {
   "cell_type": "code",
   "execution_count": 41,
   "id": "dd83de0b-e3c3-4048-a3f6-0426ed56c0be",
   "metadata": {},
   "outputs": [
    {
     "data": {
      "text/plain": [
       "[]"
      ]
     },
     "execution_count": 41,
     "metadata": {},
     "output_type": "execute_result"
    }
   ],
   "source": [
    "vvals_eles[4].throughFeatureMembership[0].throughFeatureTyping"
   ]
  },
  {
   "cell_type": "code",
   "execution_count": 42,
   "id": "3322d2b1-9a6e-476b-8e92-014d090ee106",
   "metadata": {},
   "outputs": [
    {
     "data": {
      "text/plain": [
       "[dimension «Feature»]"
      ]
     },
     "execution_count": 42,
     "metadata": {},
     "output_type": "execute_result"
    }
   ],
   "source": [
    "vvals_eles[4].throughFeatureMembership[0].throughRedefinition"
   ]
  },
  {
   "cell_type": "code",
   "execution_count": null,
   "id": "352e9c9c-bf52-47fa-b99b-631e4214adcd",
   "metadata": {},
   "outputs": [],
   "source": []
  }
 ],
 "metadata": {
  "kernelspec": {
   "display_name": "Python 3 (ipykernel)",
   "language": "python",
   "name": "python3"
  },
  "language_info": {
   "codemirror_mode": {
    "name": "ipython",
    "version": 3
   },
   "file_extension": ".py",
   "mimetype": "text/x-python",
   "name": "python",
   "nbconvert_exporter": "python",
   "pygments_lexer": "ipython3",
   "version": "3.9.6"
  }
 },
 "nbformat": 4,
 "nbformat_minor": 5
}
