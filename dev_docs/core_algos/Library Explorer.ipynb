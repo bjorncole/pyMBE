{
 "cells": [
  {
   "cell_type": "markdown",
   "id": "f2a7ea9a-002e-43c4-ade8-1d3192bdb507",
   "metadata": {},
   "source": [
    "# Library Explorer\n",
    "\n",
    "Open up KerML semantic library and explore how pyMBE renders it."
   ]
  },
  {
   "cell_type": "code",
   "execution_count": 1,
   "id": "813893a6-0fec-461d-bd28-b955b525c589",
   "metadata": {},
   "outputs": [],
   "source": [
    "import json\n",
    "from importlib import resources as lib_resources\n",
    "import pymbe.api as pm\n",
    "\n",
    "from pymbe.query.metamodel_navigator import \\\n",
    "    get_effective_basic_name, get_effective_lower_multiplicity, get_effective_upper_multiplicity, get_most_specific_feature_type"
   ]
  },
  {
   "cell_type": "markdown",
   "id": "45f864c3-b204-42ad-a074-65127705af6c",
   "metadata": {},
   "source": [
    "## Open Library Data\n",
    "\n",
    "The library data are organized around namespaces, where each namespace corresponds to a specific file in the library."
   ]
  },
  {
   "cell_type": "code",
   "execution_count": 2,
   "id": "52e7a6dd-94c1-4062-9f5f-ecc3bfc6e26c",
   "metadata": {},
   "outputs": [
    {
     "name": "stderr",
     "output_type": "stream",
     "text": [
      "c:\\users\\bjorn cole\\documents\\github\\pymbe\\src\\pymbe\\label.py:147: UserWarning: Cannot process Expression elements yet!\n",
      "  warn(f\"Cannot process {expression._metatype} elements yet!\")\n",
      "c:\\users\\bjorn cole\\documents\\github\\pymbe\\src\\pymbe\\label.py:147: UserWarning: Cannot process BooleanExpression elements yet!\n",
      "  warn(f\"Cannot process {expression._metatype} elements yet!\")\n"
     ]
    }
   ],
   "source": [
    "library_model = None\n",
    "\n",
    "with lib_resources.path(\"pymbe.static_data\", \"KernelLibrary.json\") as lib_data:\n",
    "    library_model = pm.Model.load_from_post_file(lib_data)"
   ]
  },
  {
   "cell_type": "markdown",
   "id": "2bfa3d56-ad37-4891-a887-57ad8227efa5",
   "metadata": {},
   "source": [
    "## Find Library Namespaces\n",
    "\n",
    "When the library is exported via the KerML2JSON methods from the reference implementation, a single file is created that contains multiple namespaces, each one representing one of the core library files."
   ]
  },
  {
   "cell_type": "code",
   "execution_count": 3,
   "id": "da17467f-eb1b-4cec-b1ea-51c6e25dac43",
   "metadata": {},
   "outputs": [
    {
     "data": {
      "text/plain": [
       "[f54c3daa-0d30-400a-98dc-ed0f90f17f44 «Namespace»,\n",
       " 989a0d7e-1e02-4e09-8d97-dbba74532aa7 «Namespace»,\n",
       " 2f754863-9814-449a-94bc-76777d1828cd «Namespace»,\n",
       " ff5c1da6-4a33-473e-8b28-61a7f68c210d «Namespace»,\n",
       " 75e7a7a5-5c09-4783-905c-71606f030e32 «Namespace»,\n",
       " 3ce50b27-0183-4852-a58b-c44ac43854e5 «Namespace»,\n",
       " 553222cc-c8d8-47f3-900f-9c99f3cef923 «Namespace»,\n",
       " 416f09f7-5f33-4c2c-bc52-5fefa9346d46 «Namespace»,\n",
       " c880f91f-91e9-4175-a815-776fd2dc85b9 «Namespace»,\n",
       " c4aaadba-82fa-40fb-b05e-3e7085e4f34f «Namespace»,\n",
       " 80fc88db-7418-412f-8d5f-bca65c175534 «Namespace»,\n",
       " 4fb3cc2b-c9ad-4319-b2b9-f3d4c2da0d72 «Namespace»,\n",
       " 49cab577-c3f6-42d1-8db4-971dadd79558 «Namespace»,\n",
       " 13ecd496-8628-42f5-9538-b63dadc872e5 «Namespace»,\n",
       " ce5c9d72-872c-4188-b7a7-1bdec0abdcee «Namespace»,\n",
       " 2beec831-147c-4453-ae5c-f38aa11b0a13 «Namespace»,\n",
       " f0729677-fd1f-4e3e-a192-f1fca7ac7abe «Namespace»,\n",
       " 667ea3c9-1e6e-4c31-a01a-52c4ed668640 «Namespace»,\n",
       " d045311c-8c89-4491-9061-376d92284218 «Namespace»,\n",
       " db810302-0407-46c4-956c-f498d05b6290 «Namespace»,\n",
       " 1ada3d55-df10-4105-b717-5abc71789f3f «Namespace»,\n",
       " 813137c0-ab84-42dc-9122-b1831b422f99 «Namespace»,\n",
       " 8cc73615-2148-4c06-914b-759a473081f1 «Namespace»,\n",
       " d1e8229d-a632-44b4-a1ce-0ad6c937c990 «Namespace»,\n",
       " bc840d6c-0341-43ef-8505-91260d970497 «Namespace»,\n",
       " fa33d841-c027-48b4-9e9a-cde7d82d4d01 «Namespace»,\n",
       " fc9e2806-7591-4a8f-ae6a-d5857238f39d «Namespace»,\n",
       " 48ffd29b-16ff-4929-9ea6-f0e085f5e1cc «Namespace»,\n",
       " af0206fb-2371-455b-96ab-203072a6f44e «Namespace»,\n",
       " 1296fcf9-53b0-438e-b873-903a3f055fbc «Namespace»,\n",
       " 2686416b-06ef-4328-859d-93e18c7d706a «Namespace»,\n",
       " fd20c2e4-2ebf-4231-bf55-1bfb1f3c0bd6 «Namespace»,\n",
       " 01c36478-904b-42ce-beec-dbe50d41d7c7 «Namespace»,\n",
       " 553255ba-cb21-4790-9d71-160f43532b5e «Namespace»,\n",
       " 83b26ae8-114b-4d97-867f-0d881f0cea53 «Namespace»,\n",
       " 317fbfaf-7d5d-469f-9395-0fa258f4f695 «Namespace»]"
      ]
     },
     "execution_count": 3,
     "metadata": {},
     "output_type": "execute_result"
    }
   ],
   "source": [
    "library_model.ownedElement"
   ]
  },
  {
   "cell_type": "markdown",
   "id": "5dd4aad8-6d40-4106-806d-6b63e17c87c1",
   "metadata": {},
   "source": [
    "## Base Library elements\n",
    "\n",
    "Load up the Base namespace and get to the root Package within it."
   ]
  },
  {
   "cell_type": "code",
   "execution_count": 4,
   "id": "8cebda6d-a45c-4233-bf9f-8e58b4c97b72",
   "metadata": {},
   "outputs": [],
   "source": [
    "base_ns = [library_model_ns for library_model_ns in library_model.ownedElement if library_model_ns.throughOwningMembership[0].declaredName == 'Base'][0]"
   ]
  },
  {
   "cell_type": "code",
   "execution_count": 5,
   "id": "0f379827-b8df-4efd-b8b3-5ff6a6d397f5",
   "metadata": {},
   "outputs": [
    {
     "data": {
      "text/plain": [
       "{'owningMembership': {'@id': 'a75fedde-56db-46b9-bd23-183a22d7091c'},\n",
       " '@type': 'LibraryPackage',\n",
       " 'membership': [{'@id': 'ef93faef-aad1-41d7-a3f9-ed783897ee21'},\n",
       "  {'@id': '380f5756-a83e-44ea-abe6-0368eed61bc0'},\n",
       "  {'@id': '5030576b-4f04-44c0-b79a-5d5894786230'},\n",
       "  {'@id': '0248b23c-5913-4d76-a0a5-eac5debad6f0'},\n",
       "  {'@id': 'a88102c6-196c-4efd-a3de-e46871e291ee'},\n",
       "  {'@id': '9f423d08-b53a-4420-9201-8bf7a886cc06'},\n",
       "  {'@id': 'fcbc1850-fdb4-49e6-9ff9-30c428283ded'},\n",
       "  {'@id': 'da84a3b0-9297-42a4-9bdf-68b943712b07'},\n",
       "  {'@id': 'bc7f7b3f-9dff-47ee-94aa-70b5021c81de'},\n",
       "  {'@id': '02fb559e-8afe-42a5-8368-e5567dc58e6f'}],\n",
       " 'isImpliedIncluded': False,\n",
       " 'owningNamespace': {'@id': 'd045311c-8c89-4491-9061-376d92284218'},\n",
       " 'member': [{'@id': '32b9abb8-aeb3-4468-9db7-b263971a3094'},\n",
       "  {'@id': 'd5b4e7df-e644-5f2f-b95e-cf6f1f6c076d'},\n",
       "  {'@id': 'eeef8c48-5018-5f4f-b1d7-a199b05d86ed'},\n",
       "  {'@id': '3176ab6a-8d7b-5e14-b263-57bd30f77f78'},\n",
       "  {'@id': 'e3cf6666-8d68-5824-9480-7acad0d4512c'},\n",
       "  {'@id': '7f46a88a-4eb2-501d-ad8b-9eefbb9b38e9'},\n",
       "  {'@id': '64e18b84-0e05-5c95-a003-c0f60a269893'},\n",
       "  {'@id': '288dd442-ca41-581f-a473-7379e9a6810d'},\n",
       "  {'@id': 'f0b868e2-7c8a-5671-b8c2-2608899b6dea'},\n",
       "  {'@id': '128b0b10-fcc6-50c3-b1e6-8baf212c6b6b'}],\n",
       " 'declaredName': 'Base',\n",
       " 'elementId': 'cdd5d1e3-fe4b-52bd-8a01-51a53f22ba47',\n",
       " 'owner': {'@id': 'd045311c-8c89-4491-9061-376d92284218'},\n",
       " 'textualRepresentation': [],\n",
       " 'isLibraryElement': True,\n",
       " 'importedMembership': [],\n",
       " 'ownedElement': [{'@id': '32b9abb8-aeb3-4468-9db7-b263971a3094'},\n",
       "  {'@id': 'd5b4e7df-e644-5f2f-b95e-cf6f1f6c076d'},\n",
       "  {'@id': 'eeef8c48-5018-5f4f-b1d7-a199b05d86ed'},\n",
       "  {'@id': '3176ab6a-8d7b-5e14-b263-57bd30f77f78'},\n",
       "  {'@id': 'e3cf6666-8d68-5824-9480-7acad0d4512c'},\n",
       "  {'@id': '7f46a88a-4eb2-501d-ad8b-9eefbb9b38e9'},\n",
       "  {'@id': '64e18b84-0e05-5c95-a003-c0f60a269893'},\n",
       "  {'@id': '288dd442-ca41-581f-a473-7379e9a6810d'},\n",
       "  {'@id': 'f0b868e2-7c8a-5671-b8c2-2608899b6dea'},\n",
       "  {'@id': '128b0b10-fcc6-50c3-b1e6-8baf212c6b6b'}],\n",
       " 'ownedAnnotation': [],\n",
       " 'owningRelationship': {'@id': 'a75fedde-56db-46b9-bd23-183a22d7091c'},\n",
       " 'aliasIds': [],\n",
       " 'ownedRelationship': [{'@id': 'ef93faef-aad1-41d7-a3f9-ed783897ee21'},\n",
       "  {'@id': '380f5756-a83e-44ea-abe6-0368eed61bc0'},\n",
       "  {'@id': '5030576b-4f04-44c0-b79a-5d5894786230'},\n",
       "  {'@id': '0248b23c-5913-4d76-a0a5-eac5debad6f0'},\n",
       "  {'@id': 'a88102c6-196c-4efd-a3de-e46871e291ee'},\n",
       "  {'@id': '9f423d08-b53a-4420-9201-8bf7a886cc06'},\n",
       "  {'@id': 'fcbc1850-fdb4-49e6-9ff9-30c428283ded'},\n",
       "  {'@id': 'da84a3b0-9297-42a4-9bdf-68b943712b07'},\n",
       "  {'@id': 'bc7f7b3f-9dff-47ee-94aa-70b5021c81de'},\n",
       "  {'@id': '02fb559e-8afe-42a5-8368-e5567dc58e6f'}],\n",
       " 'qualifiedName': 'Base',\n",
       " 'documentation': [{'@id': '32b9abb8-aeb3-4468-9db7-b263971a3094'}],\n",
       " 'ownedImport': [],\n",
       " 'isStandard': True,\n",
       " 'filterCondition': [],\n",
       " 'name': 'Base',\n",
       " 'ownedMember': [{'@id': '32b9abb8-aeb3-4468-9db7-b263971a3094'},\n",
       "  {'@id': 'd5b4e7df-e644-5f2f-b95e-cf6f1f6c076d'},\n",
       "  {'@id': 'eeef8c48-5018-5f4f-b1d7-a199b05d86ed'},\n",
       "  {'@id': '3176ab6a-8d7b-5e14-b263-57bd30f77f78'},\n",
       "  {'@id': 'e3cf6666-8d68-5824-9480-7acad0d4512c'},\n",
       "  {'@id': '7f46a88a-4eb2-501d-ad8b-9eefbb9b38e9'},\n",
       "  {'@id': '64e18b84-0e05-5c95-a003-c0f60a269893'},\n",
       "  {'@id': '288dd442-ca41-581f-a473-7379e9a6810d'},\n",
       "  {'@id': 'f0b868e2-7c8a-5671-b8c2-2608899b6dea'},\n",
       "  {'@id': '128b0b10-fcc6-50c3-b1e6-8baf212c6b6b'}],\n",
       " 'ownedMembership': [{'@id': 'ef93faef-aad1-41d7-a3f9-ed783897ee21'},\n",
       "  {'@id': '380f5756-a83e-44ea-abe6-0368eed61bc0'},\n",
       "  {'@id': '5030576b-4f04-44c0-b79a-5d5894786230'},\n",
       "  {'@id': '0248b23c-5913-4d76-a0a5-eac5debad6f0'},\n",
       "  {'@id': 'a88102c6-196c-4efd-a3de-e46871e291ee'},\n",
       "  {'@id': '9f423d08-b53a-4420-9201-8bf7a886cc06'},\n",
       "  {'@id': 'fcbc1850-fdb4-49e6-9ff9-30c428283ded'},\n",
       "  {'@id': 'da84a3b0-9297-42a4-9bdf-68b943712b07'},\n",
       "  {'@id': 'bc7f7b3f-9dff-47ee-94aa-70b5021c81de'},\n",
       "  {'@id': '02fb559e-8afe-42a5-8368-e5567dc58e6f'}],\n",
       " '@id': 'cdd5d1e3-fe4b-52bd-8a01-51a53f22ba47'}"
      ]
     },
     "execution_count": 5,
     "metadata": {},
     "output_type": "execute_result"
    }
   ],
   "source": [
    "base_ns.throughOwningMembership[0]._data"
   ]
  },
  {
   "cell_type": "markdown",
   "id": "2fd70461-b173-4a31-ae0a-478b657c3c50",
   "metadata": {},
   "source": [
    "### Root Elements of Base library\n",
    "\n",
    "Look at all the root level elements within the Base package."
   ]
  },
  {
   "cell_type": "code",
   "execution_count": 6,
   "id": "01982978-a75f-4441-8236-1a7429972cdc",
   "metadata": {},
   "outputs": [
    {
     "data": {
      "text/plain": [
       "[32b9abb8-aeb3-4468-9db7-b263971a3094 «Documentation»,\n",
       " things: Anything «Feature»,\n",
       " Anything «Classifier»,\n",
       " dataValues: DataValue «Feature»,\n",
       " naturals: Natural «Feature»,\n",
       " exactlyOne: Natural «MultiplicityRange»,\n",
       " zeroOrOne: Natural «MultiplicityRange»,\n",
       " oneToMany: Natural «MultiplicityRange»,\n",
       " zeroToMany: Natural «MultiplicityRange»,\n",
       " DataValue «DataType»]"
      ]
     },
     "execution_count": 6,
     "metadata": {},
     "output_type": "execute_result"
    }
   ],
   "source": [
    "base_ns.throughOwningMembership[0].throughOwningMembership"
   ]
  },
  {
   "cell_type": "code",
   "execution_count": 7,
   "id": "29638df3-b7e3-4bd0-80a0-4718458fe8e3",
   "metadata": {},
   "outputs": [
    {
     "data": {
      "text/plain": [
       "'Feature'"
      ]
     },
     "execution_count": 7,
     "metadata": {},
     "output_type": "execute_result"
    }
   ],
   "source": [
    "base_ns.throughOwningMembership[0].throughOwningMembership[1]._metatype"
   ]
  },
  {
   "cell_type": "markdown",
   "id": "b07f717c-9deb-4bcd-bae7-355d039ef5f4",
   "metadata": {},
   "source": [
    "### Explore multiplicity range objects\n",
    "\n",
    "Inspect the zeroOrOne multiplicity and look at how multiplicity range elements and their children work together for an optional Feature.\n",
    "\n",
    "This section looks at both the raw data (data field) and data added by PyMBE libraries (derived field)"
   ]
  },
  {
   "cell_type": "code",
   "execution_count": 8,
   "id": "09fa6e7f-f0b3-42dc-b986-8ce639fcf3cc",
   "metadata": {},
   "outputs": [
    {
     "data": {
      "text/plain": [
       "zeroOrOne: Natural «MultiplicityRange»"
      ]
     },
     "execution_count": 8,
     "metadata": {},
     "output_type": "execute_result"
    }
   ],
   "source": [
    "base_ns.throughOwningMembership[0].throughOwningMembership[6]"
   ]
  },
  {
   "cell_type": "code",
   "execution_count": 9,
   "id": "4e94170b-2ed0-4895-8247-d0a8b6fafa7f",
   "metadata": {},
   "outputs": [
    {
     "data": {
      "text/plain": [
       "defaultdict(list,\n",
       "            {'throughOwningMembership': [{'@id': '60b1091f-e53f-44cd-ac01-a086df92dcf6'},\n",
       "              {'@id': '3931fcb3-c5c2-46f5-9632-2daf83e05580'},\n",
       "              {'@id': 'e4e287ae-0f89-4ef7-b32a-63eb4aa2eae8'}],\n",
       "             'throughSubsetting': [{'@id': '7f46a88a-4eb2-501d-ad8b-9eefbb9b38e9'}],\n",
       "             'reverseOwningMembership': [{'@id': 'cdd5d1e3-fe4b-52bd-8a01-51a53f22ba47'}],\n",
       "             'label': 'zeroOrOne: Natural «MultiplicityRange»'})"
      ]
     },
     "execution_count": 9,
     "metadata": {},
     "output_type": "execute_result"
    }
   ],
   "source": [
    "base_ns.throughOwningMembership[0].throughOwningMembership[6]._derived"
   ]
  },
  {
   "cell_type": "code",
   "execution_count": 10,
   "id": "914d785f-1803-46bf-9c3c-81a2a924b91f",
   "metadata": {},
   "outputs": [
    {
     "data": {
      "text/plain": [
       "{'@type': 'ReturnParameterMembership',\n",
       " 'ownedMemberElementId': '41c98198-128d-4a00-9535-75d27217b3ac',\n",
       " 'memberName': 'result',\n",
       " 'ownedRelatedElement': [{'@id': '41c98198-128d-4a00-9535-75d27217b3ac'}],\n",
       " 'source': [{'@id': '60b1091f-e53f-44cd-ac01-a086df92dcf6'}],\n",
       " 'type': {'@id': '60b1091f-e53f-44cd-ac01-a086df92dcf6'},\n",
       " 'memberElementId': '41c98198-128d-4a00-9535-75d27217b3ac',\n",
       " 'isImpliedIncluded': False,\n",
       " 'owningRelatedElement': {'@id': '60b1091f-e53f-44cd-ac01-a086df92dcf6'},\n",
       " 'feature': {'@id': '41c98198-128d-4a00-9535-75d27217b3ac'},\n",
       " 'ownedMemberName': 'result',\n",
       " 'elementId': '9b561f09-6c86-465b-b7f0-914eb22488fd',\n",
       " 'textualRepresentation': [],\n",
       " 'isLibraryElement': True,\n",
       " 'ownedElement': [],\n",
       " 'ownedAnnotation': [],\n",
       " 'isImplied': False,\n",
       " 'ownedMemberFeature': {'@id': '41c98198-128d-4a00-9535-75d27217b3ac'},\n",
       " 'aliasIds': [],\n",
       " 'visibility': 'public',\n",
       " 'ownedRelationship': [],\n",
       " 'documentation': [],\n",
       " 'owningType': {'@id': '60b1091f-e53f-44cd-ac01-a086df92dcf6'},\n",
       " 'ownedMemberElement': {'@id': '41c98198-128d-4a00-9535-75d27217b3ac'},\n",
       " 'target': [{'@id': '41c98198-128d-4a00-9535-75d27217b3ac'}],\n",
       " 'ownedMemberParameter': {'@id': '41c98198-128d-4a00-9535-75d27217b3ac'},\n",
       " 'relatedElement': [{'@id': '60b1091f-e53f-44cd-ac01-a086df92dcf6'},\n",
       "  {'@id': '41c98198-128d-4a00-9535-75d27217b3ac'}],\n",
       " 'membershipOwningNamespace': {'@id': '60b1091f-e53f-44cd-ac01-a086df92dcf6'},\n",
       " 'memberElement': {'@id': '41c98198-128d-4a00-9535-75d27217b3ac'},\n",
       " '@id': '9b561f09-6c86-465b-b7f0-914eb22488fd'}"
      ]
     },
     "execution_count": 10,
     "metadata": {},
     "output_type": "execute_result"
    }
   ],
   "source": [
    "base_ns.throughOwningMembership[0].throughOwningMembership[6].throughOwningMembership[0].ownedRelationship[0]._data"
   ]
  },
  {
   "cell_type": "markdown",
   "id": "f7f765c3-4678-41d5-bbbb-802deef7428c",
   "metadata": {},
   "source": [
    "## Links Library elements\n",
    "\n",
    "Open up the Links library, which allows for some exploration of basic associations in the library."
   ]
  },
  {
   "cell_type": "code",
   "execution_count": 11,
   "id": "a0f6ac0f-ba29-463a-8ddf-598b9bfd6e0a",
   "metadata": {},
   "outputs": [],
   "source": [
    "links_ns = [library_model_ns for library_model_ns in library_model.ownedElement if library_model_ns.throughOwningMembership[0].declaredName == 'Links'][0]"
   ]
  },
  {
   "cell_type": "code",
   "execution_count": 12,
   "id": "43d502a2-8393-4929-998e-58b866e3cfd4",
   "metadata": {},
   "outputs": [
    {
     "data": {
      "text/plain": [
       "{'owningMembership': {'@id': '83acd36f-556f-4845-afa7-964f6b8d29f1'},\n",
       " '@type': 'LibraryPackage',\n",
       " 'membership': [{'@id': '380f5756-a83e-44ea-abe6-0368eed61bc0'},\n",
       "  {'@id': '0248b23c-5913-4d76-a0a5-eac5debad6f0'},\n",
       "  {'@id': 'dd399e91-ae0e-46b6-b7c0-005a3e4c439e'},\n",
       "  {'@id': '93c20d2c-e249-4363-8e3c-f9c0b507b20a'},\n",
       "  {'@id': 'b0f510fe-c533-4634-b973-a72e57f2c6c8'},\n",
       "  {'@id': 'de0bb1e5-a33e-4703-802c-eda8c36a7934'},\n",
       "  {'@id': '5fa5a1dc-449a-4df3-af6c-076b3cdd91ef'},\n",
       "  {'@id': '04a8e8d5-5c7d-4c7f-9b0e-acc0daf96471'},\n",
       "  {'@id': '0a5d5db4-9683-4290-ab44-a1775a8cf5ee'}],\n",
       " 'isImpliedIncluded': False,\n",
       " 'owningNamespace': {'@id': '416f09f7-5f33-4c2c-bc52-5fefa9346d46'},\n",
       " 'member': [{'@id': 'd5b4e7df-e644-5f2f-b95e-cf6f1f6c076d'},\n",
       "  {'@id': '3176ab6a-8d7b-5e14-b263-57bd30f77f78'},\n",
       "  {'@id': '7bb48faf-a1d6-4d05-aada-d522d830f1b6'},\n",
       "  {'@id': '197b894b-35a7-5601-a217-9600ea209c19'},\n",
       "  {'@id': '2c29150f-e44a-5194-b194-2a6b9984c35d'},\n",
       "  {'@id': 'e0130145-70fb-56a0-a9dc-a7dfb54e62dd'},\n",
       "  {'@id': 'f3a289be-654e-594b-ae14-492b03b06169'},\n",
       "  {'@id': '311a45f1-0a0c-54d3-ae87-c32e6927b7fa'},\n",
       "  {'@id': '5c75806f-0abf-51c3-a80d-bbf5346a0f36'}],\n",
       " 'declaredName': 'Links',\n",
       " 'elementId': 'd7ddb15a-29e3-558b-bd3d-ac8b2fa107f2',\n",
       " 'owner': {'@id': '416f09f7-5f33-4c2c-bc52-5fefa9346d46'},\n",
       " 'textualRepresentation': [],\n",
       " 'isLibraryElement': True,\n",
       " 'importedMembership': [{'@id': '380f5756-a83e-44ea-abe6-0368eed61bc0'},\n",
       "  {'@id': '0248b23c-5913-4d76-a0a5-eac5debad6f0'}],\n",
       " 'ownedElement': [{'@id': '7bb48faf-a1d6-4d05-aada-d522d830f1b6'},\n",
       "  {'@id': '197b894b-35a7-5601-a217-9600ea209c19'},\n",
       "  {'@id': '2c29150f-e44a-5194-b194-2a6b9984c35d'},\n",
       "  {'@id': 'e0130145-70fb-56a0-a9dc-a7dfb54e62dd'},\n",
       "  {'@id': 'f3a289be-654e-594b-ae14-492b03b06169'},\n",
       "  {'@id': '311a45f1-0a0c-54d3-ae87-c32e6927b7fa'},\n",
       "  {'@id': '5c75806f-0abf-51c3-a80d-bbf5346a0f36'}],\n",
       " 'ownedAnnotation': [],\n",
       " 'owningRelationship': {'@id': '83acd36f-556f-4845-afa7-964f6b8d29f1'},\n",
       " 'aliasIds': [],\n",
       " 'ownedRelationship': [{'@id': 'dd399e91-ae0e-46b6-b7c0-005a3e4c439e'},\n",
       "  {'@id': '822128c6-2262-4002-8428-4e9f31a117f1'},\n",
       "  {'@id': 'a6651f09-e21b-4a63-a5eb-8774c803a13b'},\n",
       "  {'@id': '93c20d2c-e249-4363-8e3c-f9c0b507b20a'},\n",
       "  {'@id': 'b0f510fe-c533-4634-b973-a72e57f2c6c8'},\n",
       "  {'@id': 'de0bb1e5-a33e-4703-802c-eda8c36a7934'},\n",
       "  {'@id': '5fa5a1dc-449a-4df3-af6c-076b3cdd91ef'},\n",
       "  {'@id': '04a8e8d5-5c7d-4c7f-9b0e-acc0daf96471'},\n",
       "  {'@id': '0a5d5db4-9683-4290-ab44-a1775a8cf5ee'}],\n",
       " 'qualifiedName': 'Links',\n",
       " 'documentation': [{'@id': '7bb48faf-a1d6-4d05-aada-d522d830f1b6'}],\n",
       " 'ownedImport': [{'@id': '822128c6-2262-4002-8428-4e9f31a117f1'},\n",
       "  {'@id': 'a6651f09-e21b-4a63-a5eb-8774c803a13b'}],\n",
       " 'isStandard': True,\n",
       " 'filterCondition': [],\n",
       " 'name': 'Links',\n",
       " 'ownedMember': [{'@id': '7bb48faf-a1d6-4d05-aada-d522d830f1b6'},\n",
       "  {'@id': '197b894b-35a7-5601-a217-9600ea209c19'},\n",
       "  {'@id': '2c29150f-e44a-5194-b194-2a6b9984c35d'},\n",
       "  {'@id': 'e0130145-70fb-56a0-a9dc-a7dfb54e62dd'},\n",
       "  {'@id': 'f3a289be-654e-594b-ae14-492b03b06169'},\n",
       "  {'@id': '311a45f1-0a0c-54d3-ae87-c32e6927b7fa'},\n",
       "  {'@id': '5c75806f-0abf-51c3-a80d-bbf5346a0f36'}],\n",
       " 'ownedMembership': [{'@id': 'dd399e91-ae0e-46b6-b7c0-005a3e4c439e'},\n",
       "  {'@id': '93c20d2c-e249-4363-8e3c-f9c0b507b20a'},\n",
       "  {'@id': 'b0f510fe-c533-4634-b973-a72e57f2c6c8'},\n",
       "  {'@id': 'de0bb1e5-a33e-4703-802c-eda8c36a7934'},\n",
       "  {'@id': '5fa5a1dc-449a-4df3-af6c-076b3cdd91ef'},\n",
       "  {'@id': '04a8e8d5-5c7d-4c7f-9b0e-acc0daf96471'},\n",
       "  {'@id': '0a5d5db4-9683-4290-ab44-a1775a8cf5ee'}],\n",
       " '@id': 'd7ddb15a-29e3-558b-bd3d-ac8b2fa107f2'}"
      ]
     },
     "execution_count": 12,
     "metadata": {},
     "output_type": "execute_result"
    }
   ],
   "source": [
    "links_ns.throughOwningMembership[0]._data"
   ]
  },
  {
   "cell_type": "markdown",
   "id": "38d8adf1-6446-4ccd-859b-f967796512ed",
   "metadata": {},
   "source": [
    "Look at root level elements."
   ]
  },
  {
   "cell_type": "code",
   "execution_count": 13,
   "id": "d9de192f-3926-4613-80ac-0133a0a28fe7",
   "metadata": {},
   "outputs": [
    {
     "data": {
      "text/plain": [
       "[7bb48faf-a1d6-4d05-aada-d522d830f1b6 «Documentation»,\n",
       " Link «Association»,\n",
       " BinaryLink «Association» ([Anything «Classifier»] ←→ [Anything «Classifier»]),\n",
       " SelfLink «Association» ([Anything «Classifier»] ←→ [Anything «Classifier»]),\n",
       " links: Link «Feature»,\n",
       " binaryLinks: BinaryLink «Feature»,\n",
       " selfLinks: SelfLink «Feature»]"
      ]
     },
     "execution_count": 13,
     "metadata": {},
     "output_type": "execute_result"
    }
   ],
   "source": [
    "links_ns.throughOwningMembership[0].throughOwningMembership"
   ]
  },
  {
   "cell_type": "markdown",
   "id": "414448ca-5553-4205-9bfb-526a25885cc9",
   "metadata": {},
   "source": [
    "Look at the Features under the BinaryLink."
   ]
  },
  {
   "cell_type": "code",
   "execution_count": 14,
   "id": "fe4b334d-5224-4082-aa16-325e73efc8f2",
   "metadata": {},
   "outputs": [
    {
     "data": {
      "text/plain": [
       "[7bb48faf-a1d6-4d05-aada-d522d830f1b6 «Documentation»,\n",
       " Link «Association»,\n",
       " BinaryLink «Association» ([Anything «Classifier»] ←→ [Anything «Classifier»]),\n",
       " SelfLink «Association» ([Anything «Classifier»] ←→ [Anything «Classifier»]),\n",
       " links: Link «Feature»,\n",
       " binaryLinks: BinaryLink «Feature»,\n",
       " selfLinks: SelfLink «Feature»]"
      ]
     },
     "execution_count": 14,
     "metadata": {},
     "output_type": "execute_result"
    }
   ],
   "source": [
    "links_ns.throughOwningMembership[0].throughOwningMembership"
   ]
  },
  {
   "cell_type": "code",
   "execution_count": 15,
   "id": "2d8ba028-ab68-4bc1-831e-bf53e97c5236",
   "metadata": {},
   "outputs": [
    {
     "data": {
      "text/plain": [
       "[participant: Anything «Feature»,\n",
       " source: Anything «Feature»,\n",
       " target: Anything «Feature»]"
      ]
     },
     "execution_count": 15,
     "metadata": {},
     "output_type": "execute_result"
    }
   ],
   "source": [
    "links_ns.throughOwningMembership[0].throughOwningMembership[2].throughFeatureMembership"
   ]
  },
  {
   "cell_type": "code",
   "execution_count": 16,
   "id": "98c7d4d0-836d-41de-8d8a-ec90801e485b",
   "metadata": {},
   "outputs": [
    {
     "data": {
      "text/plain": [
       "{'multiplicity': {'@id': '9696e9e7-6ecc-4615-bda6-d57ae48b507b'},\n",
       " 'owningMembership': {'@id': '5c77d3d9-2cce-4d6c-a7fa-6d38bb63013a'},\n",
       " 'ownedTypeFeaturing': [],\n",
       " 'chainingFeature': [],\n",
       " 'isConjugated': False,\n",
       " 'isUnique': False,\n",
       " 'ownedSubsetting': [{'@id': 'aa48a94c-f833-493c-af71-f7a6ee5eeffa'}],\n",
       " 'type': [{'@id': 'd5b4e7df-e644-5f2f-b95e-cf6f1f6c076d'}],\n",
       " 'output': [],\n",
       " 'isSufficient': False,\n",
       " 'ownedDifferencing': [],\n",
       " 'isOrdered': False,\n",
       " 'ownedRedefinition': [],\n",
       " 'elementId': '882a962b-82eb-55bc-aade-772fd2884849',\n",
       " 'textualRepresentation': [],\n",
       " 'isLibraryElement': True,\n",
       " 'ownedAnnotation': [],\n",
       " 'isDerived': False,\n",
       " 'ownedFeature': [],\n",
       " 'qualifiedName': 'Links::BinaryLink::target',\n",
       " 'documentation': [],\n",
       " 'intersectingType': [],\n",
       " 'owningType': {'@id': '2c29150f-e44a-5194-b194-2a6b9984c35d'},\n",
       " 'endFeature': [],\n",
       " 'directedFeature': [],\n",
       " 'isEnd': True,\n",
       " 'featuringType': [{'@id': '2c29150f-e44a-5194-b194-2a6b9984c35d'}],\n",
       " 'input': [],\n",
       " 'isComposite': False,\n",
       " 'name': 'target',\n",
       " 'ownedMember': [{'@id': '9696e9e7-6ecc-4615-bda6-d57ae48b507b'}],\n",
       " 'ownedMembership': [{'@id': 'bb1f2e98-1302-486a-b0d8-63393f30e56d'}],\n",
       " 'endOwningType': {'@id': '2c29150f-e44a-5194-b194-2a6b9984c35d'},\n",
       " '@type': 'Feature',\n",
       " 'ownedDisjoining': [],\n",
       " 'owningFeatureMembership': {'@id': '5c77d3d9-2cce-4d6c-a7fa-6d38bb63013a'},\n",
       " 'membership': [{'@id': 'bb1f2e98-1302-486a-b0d8-63393f30e56d'},\n",
       "  {'@id': '45ce5275-0957-43f9-aa41-d923cfe4d026'},\n",
       "  {'@id': '979183d3-2085-4026-bad4-cc57bf9d8bae'},\n",
       "  {'@id': 'adafff9a-f714-4222-9bf0-937644282a60'},\n",
       "  {'@id': '0abb3506-b547-4414-aa04-2d1cd22bc1f5'},\n",
       "  {'@id': '099c9963-e7bf-439f-b59f-57961d9706e6'},\n",
       "  {'@id': '7de99d22-4f1d-49e9-8f10-09cb0349a513'},\n",
       "  {'@id': '8b09bc0a-7fd8-402a-9de1-e96d495ebc24'}],\n",
       " 'isPortion': False,\n",
       " 'isImpliedIncluded': True,\n",
       " 'ownedFeatureChaining': [],\n",
       " 'owningNamespace': {'@id': '2c29150f-e44a-5194-b194-2a6b9984c35d'},\n",
       " 'ownedTyping': [{'@id': '8ca884df-b18e-43ea-aba8-e7e12f6edcaf'}],\n",
       " 'isReadOnly': True,\n",
       " 'feature': [{'@id': '2804586b-de79-5d1a-98ab-493f1e706a87'},\n",
       "  {'@id': 'dbd75b49-0e57-5cf9-ba35-9f8843b1e657'}],\n",
       " 'inheritedMembership': [{'@id': '45ce5275-0957-43f9-aa41-d923cfe4d026'},\n",
       "  {'@id': '979183d3-2085-4026-bad4-cc57bf9d8bae'},\n",
       "  {'@id': 'adafff9a-f714-4222-9bf0-937644282a60'},\n",
       "  {'@id': '0abb3506-b547-4414-aa04-2d1cd22bc1f5'},\n",
       "  {'@id': '099c9963-e7bf-439f-b59f-57961d9706e6'},\n",
       "  {'@id': '7de99d22-4f1d-49e9-8f10-09cb0349a513'},\n",
       "  {'@id': '8b09bc0a-7fd8-402a-9de1-e96d495ebc24'}],\n",
       " 'member': [{'@id': '9696e9e7-6ecc-4615-bda6-d57ae48b507b'},\n",
       "  {'@id': 'e0cfeed5-2e5e-42dd-aa93-9da81895500a'},\n",
       "  {'@id': '2804586b-de79-5d1a-98ab-493f1e706a87'},\n",
       "  {'@id': '9ed68891-8d1d-4ee0-a1c8-54675564c962'},\n",
       "  {'@id': 'b1a2c643-5877-40dc-bed2-d3ebb3255bcc'},\n",
       "  {'@id': 'fc76137c-7d12-4fd9-a680-c655cdfc98aa'},\n",
       "  {'@id': '485fa2fc-a5a7-4b81-b779-aae25b65930a'},\n",
       "  {'@id': 'dbd75b49-0e57-5cf9-ba35-9f8843b1e657'}],\n",
       " 'ownedEndFeature': [],\n",
       " 'declaredName': 'target',\n",
       " 'ownedFeatureMembership': [],\n",
       " 'inheritedFeature': [{'@id': '2804586b-de79-5d1a-98ab-493f1e706a87'},\n",
       "  {'@id': 'dbd75b49-0e57-5cf9-ba35-9f8843b1e657'}],\n",
       " 'owner': {'@id': '2c29150f-e44a-5194-b194-2a6b9984c35d'},\n",
       " 'importedMembership': [],\n",
       " 'ownedElement': [{'@id': '9696e9e7-6ecc-4615-bda6-d57ae48b507b'}],\n",
       " 'owningRelationship': {'@id': '5c77d3d9-2cce-4d6c-a7fa-6d38bb63013a'},\n",
       " 'aliasIds': [],\n",
       " 'ownedRelationship': [{'@id': '8ca884df-b18e-43ea-aba8-e7e12f6edcaf'},\n",
       "  {'@id': 'bb1f2e98-1302-486a-b0d8-63393f30e56d'},\n",
       "  {'@id': 'aa48a94c-f833-493c-af71-f7a6ee5eeffa'}],\n",
       " 'featureMembership': [{'@id': '979183d3-2085-4026-bad4-cc57bf9d8bae'},\n",
       "  {'@id': '8b09bc0a-7fd8-402a-9de1-e96d495ebc24'}],\n",
       " 'ownedImport': [],\n",
       " 'isAbstract': False,\n",
       " 'differencingType': [],\n",
       " 'ownedUnioning': [],\n",
       " 'unioningType': [],\n",
       " 'ownedSpecialization': [{'@id': '8ca884df-b18e-43ea-aba8-e7e12f6edcaf'},\n",
       "  {'@id': 'aa48a94c-f833-493c-af71-f7a6ee5eeffa'}],\n",
       " 'ownedIntersecting': [],\n",
       " 'ownedFeatureInverting': [],\n",
       " '@id': '882a962b-82eb-55bc-aade-772fd2884849'}"
      ]
     },
     "execution_count": 16,
     "metadata": {},
     "output_type": "execute_result"
    }
   ],
   "source": [
    "links_ns.throughOwningMembership[0].throughOwningMembership[2].throughFeatureMembership[2]._data"
   ]
  },
  {
   "cell_type": "code",
   "execution_count": 17,
   "id": "fdcdee13-a1ba-47cf-8741-bcc369dcfa95",
   "metadata": {},
   "outputs": [
    {
     "data": {
      "text/plain": [
       "{'owningMembership': {'@id': 'b0f510fe-c533-4634-b973-a72e57f2c6c8'},\n",
       " 'isConjugated': False,\n",
       " 'source': [{'@id': 'd5b4e7df-e644-5f2f-b95e-cf6f1f6c076d'}],\n",
       " 'output': [],\n",
       " 'isSufficient': True,\n",
       " 'ownedDifferencing': [],\n",
       " 'elementId': '2c29150f-e44a-5194-b194-2a6b9984c35d',\n",
       " 'textualRepresentation': [],\n",
       " 'isLibraryElement': True,\n",
       " 'ownedAnnotation': [],\n",
       " 'isImplied': False,\n",
       " 'ownedFeature': [{'@id': 'bab58ce6-dbfd-5db1-a151-666fec66e36e'},\n",
       "  {'@id': '63d685f6-e64e-5f75-8fcb-ef01b735f047'},\n",
       "  {'@id': '882a962b-82eb-55bc-aade-772fd2884849'}],\n",
       " 'qualifiedName': 'Links::BinaryLink',\n",
       " 'documentation': [{'@id': '2ca7db16-c3d0-4317-94bf-41d1cf777eab'}],\n",
       " 'intersectingType': [],\n",
       " 'endFeature': [{'@id': '63d685f6-e64e-5f75-8fcb-ef01b735f047'},\n",
       "  {'@id': '882a962b-82eb-55bc-aade-772fd2884849'}],\n",
       " 'directedFeature': [],\n",
       " 'input': [],\n",
       " 'sourceType': {'@id': 'd5b4e7df-e644-5f2f-b95e-cf6f1f6c076d'},\n",
       " 'relatedElement': [{'@id': 'd5b4e7df-e644-5f2f-b95e-cf6f1f6c076d'},\n",
       "  {'@id': 'd5b4e7df-e644-5f2f-b95e-cf6f1f6c076d'}],\n",
       " 'name': 'BinaryLink',\n",
       " 'ownedMember': [{'@id': '2ca7db16-c3d0-4317-94bf-41d1cf777eab'},\n",
       "  {'@id': 'bab58ce6-dbfd-5db1-a151-666fec66e36e'},\n",
       "  {'@id': '63d685f6-e64e-5f75-8fcb-ef01b735f047'},\n",
       "  {'@id': '882a962b-82eb-55bc-aade-772fd2884849'}],\n",
       " 'ownedMembership': [{'@id': '1f51a20d-7fd9-466e-b353-044863f5caeb'},\n",
       "  {'@id': '40bc08ed-f185-4a13-8e0d-cd0dc2544939'},\n",
       "  {'@id': '682c5fee-cae9-43f7-9bf2-bf89b888de53'},\n",
       "  {'@id': '5c77d3d9-2cce-4d6c-a7fa-6d38bb63013a'}],\n",
       " '@type': 'Association',\n",
       " 'ownedDisjoining': [],\n",
       " 'membership': [{'@id': '1f51a20d-7fd9-466e-b353-044863f5caeb'},\n",
       "  {'@id': '40bc08ed-f185-4a13-8e0d-cd0dc2544939'},\n",
       "  {'@id': '682c5fee-cae9-43f7-9bf2-bf89b888de53'},\n",
       "  {'@id': '5c77d3d9-2cce-4d6c-a7fa-6d38bb63013a'},\n",
       "  {'@id': '342472ef-2a5d-4518-b8c7-4e93d8db0fbb'},\n",
       "  {'@id': '45ce5275-0957-43f9-aa41-d923cfe4d026'},\n",
       "  {'@id': '979183d3-2085-4026-bad4-cc57bf9d8bae'}],\n",
       " 'ownedRelatedElement': [],\n",
       " 'isImpliedIncluded': True,\n",
       " 'relatedType': [{'@id': 'd5b4e7df-e644-5f2f-b95e-cf6f1f6c076d'},\n",
       "  {'@id': 'd5b4e7df-e644-5f2f-b95e-cf6f1f6c076d'}],\n",
       " 'owningNamespace': {'@id': 'd7ddb15a-29e3-558b-bd3d-ac8b2fa107f2'},\n",
       " 'feature': [{'@id': 'bab58ce6-dbfd-5db1-a151-666fec66e36e'},\n",
       "  {'@id': '63d685f6-e64e-5f75-8fcb-ef01b735f047'},\n",
       "  {'@id': '882a962b-82eb-55bc-aade-772fd2884849'},\n",
       "  {'@id': '2804586b-de79-5d1a-98ab-493f1e706a87'}],\n",
       " 'inheritedMembership': [{'@id': '342472ef-2a5d-4518-b8c7-4e93d8db0fbb'},\n",
       "  {'@id': '45ce5275-0957-43f9-aa41-d923cfe4d026'},\n",
       "  {'@id': '979183d3-2085-4026-bad4-cc57bf9d8bae'}],\n",
       " 'member': [{'@id': '2ca7db16-c3d0-4317-94bf-41d1cf777eab'},\n",
       "  {'@id': 'bab58ce6-dbfd-5db1-a151-666fec66e36e'},\n",
       "  {'@id': '63d685f6-e64e-5f75-8fcb-ef01b735f047'},\n",
       "  {'@id': '882a962b-82eb-55bc-aade-772fd2884849'},\n",
       "  {'@id': 'a1e405c5-bdee-44f8-b1fb-d0b5c289511b'},\n",
       "  {'@id': 'e0cfeed5-2e5e-42dd-aa93-9da81895500a'},\n",
       "  {'@id': '2804586b-de79-5d1a-98ab-493f1e706a87'}],\n",
       " 'ownedEndFeature': [{'@id': '63d685f6-e64e-5f75-8fcb-ef01b735f047'},\n",
       "  {'@id': '882a962b-82eb-55bc-aade-772fd2884849'}],\n",
       " 'declaredName': 'BinaryLink',\n",
       " 'ownedFeatureMembership': [{'@id': '40bc08ed-f185-4a13-8e0d-cd0dc2544939'},\n",
       "  {'@id': '682c5fee-cae9-43f7-9bf2-bf89b888de53'},\n",
       "  {'@id': '5c77d3d9-2cce-4d6c-a7fa-6d38bb63013a'}],\n",
       " 'ownedSubclassification': [{'@id': '2c2cd18e-220a-4ac4-bdd3-0689743dc40f'}],\n",
       " 'inheritedFeature': [{'@id': '2804586b-de79-5d1a-98ab-493f1e706a87'}],\n",
       " 'owner': {'@id': 'd7ddb15a-29e3-558b-bd3d-ac8b2fa107f2'},\n",
       " 'importedMembership': [],\n",
       " 'ownedElement': [{'@id': '2ca7db16-c3d0-4317-94bf-41d1cf777eab'},\n",
       "  {'@id': 'bab58ce6-dbfd-5db1-a151-666fec66e36e'},\n",
       "  {'@id': '63d685f6-e64e-5f75-8fcb-ef01b735f047'},\n",
       "  {'@id': '882a962b-82eb-55bc-aade-772fd2884849'}],\n",
       " 'owningRelationship': {'@id': 'b0f510fe-c533-4634-b973-a72e57f2c6c8'},\n",
       " 'aliasIds': [],\n",
       " 'ownedRelationship': [{'@id': '2c2cd18e-220a-4ac4-bdd3-0689743dc40f'},\n",
       "  {'@id': '1f51a20d-7fd9-466e-b353-044863f5caeb'},\n",
       "  {'@id': '40bc08ed-f185-4a13-8e0d-cd0dc2544939'},\n",
       "  {'@id': '682c5fee-cae9-43f7-9bf2-bf89b888de53'},\n",
       "  {'@id': '5c77d3d9-2cce-4d6c-a7fa-6d38bb63013a'}],\n",
       " 'featureMembership': [{'@id': '40bc08ed-f185-4a13-8e0d-cd0dc2544939'},\n",
       "  {'@id': '682c5fee-cae9-43f7-9bf2-bf89b888de53'},\n",
       "  {'@id': '5c77d3d9-2cce-4d6c-a7fa-6d38bb63013a'},\n",
       "  {'@id': '979183d3-2085-4026-bad4-cc57bf9d8bae'}],\n",
       " 'targetType': [{'@id': 'd5b4e7df-e644-5f2f-b95e-cf6f1f6c076d'}],\n",
       " 'ownedImport': [],\n",
       " 'isAbstract': False,\n",
       " 'target': [{'@id': 'd5b4e7df-e644-5f2f-b95e-cf6f1f6c076d'}],\n",
       " 'associationEnd': [{'@id': '63d685f6-e64e-5f75-8fcb-ef01b735f047'},\n",
       "  {'@id': '882a962b-82eb-55bc-aade-772fd2884849'}],\n",
       " 'differencingType': [],\n",
       " 'ownedUnioning': [],\n",
       " 'unioningType': [],\n",
       " 'ownedSpecialization': [{'@id': '2c2cd18e-220a-4ac4-bdd3-0689743dc40f'}],\n",
       " 'ownedIntersecting': [],\n",
       " '@id': '2c29150f-e44a-5194-b194-2a6b9984c35d'}"
      ]
     },
     "execution_count": 17,
     "metadata": {},
     "output_type": "execute_result"
    }
   ],
   "source": [
    "links_ns.throughOwningMembership[0].throughOwningMembership[2]._data"
   ]
  },
  {
   "cell_type": "markdown",
   "id": "c6881b02-ff8b-45bf-93d8-85691b008f65",
   "metadata": {},
   "source": [
    "Examine the FeatureMembership from BinaryLink to participant Feature (and see that there is a memberName here as well as the Feature declared name)."
   ]
  },
  {
   "cell_type": "code",
   "execution_count": 18,
   "id": "c57f6ed4-7d44-4f2d-ae34-718686a996e8",
   "metadata": {},
   "outputs": [
    {
     "data": {
      "text/plain": [
       "{'@type': 'FeatureMembership',\n",
       " 'ownedMemberElementId': 'bab58ce6-dbfd-5db1-a151-666fec66e36e',\n",
       " 'memberName': 'participant',\n",
       " 'ownedRelatedElement': [{'@id': 'bab58ce6-dbfd-5db1-a151-666fec66e36e'}],\n",
       " 'source': [{'@id': '2c29150f-e44a-5194-b194-2a6b9984c35d'}],\n",
       " 'type': {'@id': '2c29150f-e44a-5194-b194-2a6b9984c35d'},\n",
       " 'memberElementId': 'bab58ce6-dbfd-5db1-a151-666fec66e36e',\n",
       " 'isImpliedIncluded': False,\n",
       " 'owningRelatedElement': {'@id': '2c29150f-e44a-5194-b194-2a6b9984c35d'},\n",
       " 'feature': {'@id': 'bab58ce6-dbfd-5db1-a151-666fec66e36e'},\n",
       " 'ownedMemberName': 'participant',\n",
       " 'elementId': '40bc08ed-f185-4a13-8e0d-cd0dc2544939',\n",
       " 'textualRepresentation': [],\n",
       " 'isLibraryElement': True,\n",
       " 'ownedElement': [],\n",
       " 'ownedAnnotation': [],\n",
       " 'isImplied': False,\n",
       " 'ownedMemberFeature': {'@id': 'bab58ce6-dbfd-5db1-a151-666fec66e36e'},\n",
       " 'aliasIds': [],\n",
       " 'visibility': 'public',\n",
       " 'ownedRelationship': [],\n",
       " 'documentation': [],\n",
       " 'owningType': {'@id': '2c29150f-e44a-5194-b194-2a6b9984c35d'},\n",
       " 'ownedMemberElement': {'@id': 'bab58ce6-dbfd-5db1-a151-666fec66e36e'},\n",
       " 'target': [{'@id': 'bab58ce6-dbfd-5db1-a151-666fec66e36e'}],\n",
       " 'relatedElement': [{'@id': '2c29150f-e44a-5194-b194-2a6b9984c35d'},\n",
       "  {'@id': 'bab58ce6-dbfd-5db1-a151-666fec66e36e'}],\n",
       " 'membershipOwningNamespace': {'@id': '2c29150f-e44a-5194-b194-2a6b9984c35d'},\n",
       " 'memberElement': {'@id': 'bab58ce6-dbfd-5db1-a151-666fec66e36e'},\n",
       " '@id': '40bc08ed-f185-4a13-8e0d-cd0dc2544939'}"
      ]
     },
     "execution_count": 18,
     "metadata": {},
     "output_type": "execute_result"
    }
   ],
   "source": [
    "links_ns.throughOwningMembership[0].throughOwningMembership[2].ownedRelationship[2]._data"
   ]
  },
  {
   "cell_type": "code",
   "execution_count": 19,
   "id": "a8a32bcb-eebd-485d-b76b-e3357933877c",
   "metadata": {},
   "outputs": [
    {
     "data": {
      "text/plain": [
       "[participant: Anything «Feature»,\n",
       " source: Anything «Feature»,\n",
       " target: Anything «Feature»]"
      ]
     },
     "execution_count": 19,
     "metadata": {},
     "output_type": "execute_result"
    }
   ],
   "source": [
    "links_ns.throughOwningMembership[0].throughOwningMembership[2].throughFeatureMembership"
   ]
  },
  {
   "cell_type": "code",
   "execution_count": 20,
   "id": "6cce5ec6-6144-47dd-b794-6a6d2a24de10",
   "metadata": {},
   "outputs": [
    {
     "data": {
      "text/plain": [
       "defaultdict(list,\n",
       "            {'throughFeatureTyping': [{'@id': 'd5b4e7df-e644-5f2f-b95e-cf6f1f6c076d'}],\n",
       "             'throughOwningMembership': [{'@id': '9ed68891-8d1d-4ee0-a1c8-54675564c962'}],\n",
       "             'throughRedefinition': [{'@id': '36b3c94b-3932-5d15-8d08-ebc1c1ecf830'}],\n",
       "             'reverseFeatureMembership': [{'@id': '2c29150f-e44a-5194-b194-2a6b9984c35d'}],\n",
       "             'reverseSubsetting': [{'@id': '63d685f6-e64e-5f75-8fcb-ef01b735f047'},\n",
       "              {'@id': '882a962b-82eb-55bc-aade-772fd2884849'}],\n",
       "             'label': 'participant: Anything «Feature»'})"
      ]
     },
     "execution_count": 20,
     "metadata": {},
     "output_type": "execute_result"
    }
   ],
   "source": [
    "links_ns.throughOwningMembership[0].throughOwningMembership[2].throughFeatureMembership[0]._derived"
   ]
  },
  {
   "cell_type": "code",
   "execution_count": 21,
   "id": "8413f734-0620-49ed-811a-e88bcae2db60",
   "metadata": {},
   "outputs": [
    {
     "data": {
      "text/plain": [
       "[participant: Anything «Feature»]"
      ]
     },
     "execution_count": 21,
     "metadata": {},
     "output_type": "execute_result"
    }
   ],
   "source": [
    "links_ns.throughOwningMembership[0].throughOwningMembership[2].throughFeatureMembership[0].throughRedefinition"
   ]
  },
  {
   "cell_type": "code",
   "execution_count": 22,
   "id": "a05e640f-9ff1-435d-a1d5-a34484bfbaa8",
   "metadata": {},
   "outputs": [
    {
     "data": {
      "text/plain": [
       "{'multiplicity': {'@id': '9ed68891-8d1d-4ee0-a1c8-54675564c962'},\n",
       " 'owningMembership': {'@id': '40bc08ed-f185-4a13-8e0d-cd0dc2544939'},\n",
       " 'ownedTypeFeaturing': [],\n",
       " 'chainingFeature': [],\n",
       " 'isConjugated': False,\n",
       " 'isUnique': False,\n",
       " 'ownedSubsetting': [{'@id': '56b849dd-3dfa-4424-8197-a06cdbb265b5'}],\n",
       " 'type': [{'@id': 'd5b4e7df-e644-5f2f-b95e-cf6f1f6c076d'}],\n",
       " 'output': [],\n",
       " 'isSufficient': False,\n",
       " 'ownedDifferencing': [],\n",
       " 'isOrdered': True,\n",
       " 'ownedRedefinition': [{'@id': '56b849dd-3dfa-4424-8197-a06cdbb265b5'}],\n",
       " 'elementId': 'bab58ce6-dbfd-5db1-a151-666fec66e36e',\n",
       " 'textualRepresentation': [],\n",
       " 'isLibraryElement': True,\n",
       " 'ownedAnnotation': [],\n",
       " 'isDerived': False,\n",
       " 'ownedFeature': [],\n",
       " 'qualifiedName': 'Links::BinaryLink::participant',\n",
       " 'documentation': [],\n",
       " 'intersectingType': [],\n",
       " 'owningType': {'@id': '2c29150f-e44a-5194-b194-2a6b9984c35d'},\n",
       " 'endFeature': [],\n",
       " 'directedFeature': [],\n",
       " 'isEnd': False,\n",
       " 'featuringType': [{'@id': '2c29150f-e44a-5194-b194-2a6b9984c35d'}],\n",
       " 'input': [],\n",
       " 'isComposite': False,\n",
       " 'name': 'participant',\n",
       " 'ownedMember': [{'@id': '9ed68891-8d1d-4ee0-a1c8-54675564c962'}],\n",
       " 'ownedMembership': [{'@id': 'adafff9a-f714-4222-9bf0-937644282a60'}],\n",
       " '@type': 'Feature',\n",
       " 'ownedDisjoining': [],\n",
       " 'owningFeatureMembership': {'@id': '40bc08ed-f185-4a13-8e0d-cd0dc2544939'},\n",
       " 'membership': [{'@id': 'adafff9a-f714-4222-9bf0-937644282a60'},\n",
       "  {'@id': '45ce5275-0957-43f9-aa41-d923cfe4d026'},\n",
       "  {'@id': '979183d3-2085-4026-bad4-cc57bf9d8bae'},\n",
       "  {'@id': '0abb3506-b547-4414-aa04-2d1cd22bc1f5'},\n",
       "  {'@id': '099c9963-e7bf-439f-b59f-57961d9706e6'},\n",
       "  {'@id': '7de99d22-4f1d-49e9-8f10-09cb0349a513'},\n",
       "  {'@id': '8b09bc0a-7fd8-402a-9de1-e96d495ebc24'}],\n",
       " 'isPortion': False,\n",
       " 'isImpliedIncluded': True,\n",
       " 'ownedFeatureChaining': [],\n",
       " 'owningNamespace': {'@id': '2c29150f-e44a-5194-b194-2a6b9984c35d'},\n",
       " 'ownedTyping': [{'@id': 'f260bd23-624d-42dd-b7ad-137e259a808f'}],\n",
       " 'isReadOnly': False,\n",
       " 'feature': [{'@id': '2804586b-de79-5d1a-98ab-493f1e706a87'},\n",
       "  {'@id': 'dbd75b49-0e57-5cf9-ba35-9f8843b1e657'}],\n",
       " 'inheritedMembership': [{'@id': '45ce5275-0957-43f9-aa41-d923cfe4d026'},\n",
       "  {'@id': '979183d3-2085-4026-bad4-cc57bf9d8bae'},\n",
       "  {'@id': '0abb3506-b547-4414-aa04-2d1cd22bc1f5'},\n",
       "  {'@id': '099c9963-e7bf-439f-b59f-57961d9706e6'},\n",
       "  {'@id': '7de99d22-4f1d-49e9-8f10-09cb0349a513'},\n",
       "  {'@id': '8b09bc0a-7fd8-402a-9de1-e96d495ebc24'}],\n",
       " 'member': [{'@id': '9ed68891-8d1d-4ee0-a1c8-54675564c962'},\n",
       "  {'@id': 'e0cfeed5-2e5e-42dd-aa93-9da81895500a'},\n",
       "  {'@id': '2804586b-de79-5d1a-98ab-493f1e706a87'},\n",
       "  {'@id': 'b1a2c643-5877-40dc-bed2-d3ebb3255bcc'},\n",
       "  {'@id': 'fc76137c-7d12-4fd9-a680-c655cdfc98aa'},\n",
       "  {'@id': '485fa2fc-a5a7-4b81-b779-aae25b65930a'},\n",
       "  {'@id': 'dbd75b49-0e57-5cf9-ba35-9f8843b1e657'}],\n",
       " 'ownedEndFeature': [],\n",
       " 'declaredName': 'participant',\n",
       " 'ownedFeatureMembership': [],\n",
       " 'inheritedFeature': [{'@id': '2804586b-de79-5d1a-98ab-493f1e706a87'},\n",
       "  {'@id': 'dbd75b49-0e57-5cf9-ba35-9f8843b1e657'}],\n",
       " 'owner': {'@id': '2c29150f-e44a-5194-b194-2a6b9984c35d'},\n",
       " 'importedMembership': [],\n",
       " 'ownedElement': [{'@id': '9ed68891-8d1d-4ee0-a1c8-54675564c962'}],\n",
       " 'owningRelationship': {'@id': '40bc08ed-f185-4a13-8e0d-cd0dc2544939'},\n",
       " 'aliasIds': [],\n",
       " 'ownedRelationship': [{'@id': 'f260bd23-624d-42dd-b7ad-137e259a808f'},\n",
       "  {'@id': 'adafff9a-f714-4222-9bf0-937644282a60'},\n",
       "  {'@id': '56b849dd-3dfa-4424-8197-a06cdbb265b5'}],\n",
       " 'featureMembership': [{'@id': '979183d3-2085-4026-bad4-cc57bf9d8bae'},\n",
       "  {'@id': '8b09bc0a-7fd8-402a-9de1-e96d495ebc24'}],\n",
       " 'ownedImport': [],\n",
       " 'isAbstract': False,\n",
       " 'differencingType': [],\n",
       " 'ownedUnioning': [],\n",
       " 'unioningType': [],\n",
       " 'ownedSpecialization': [{'@id': 'f260bd23-624d-42dd-b7ad-137e259a808f'},\n",
       "  {'@id': '56b849dd-3dfa-4424-8197-a06cdbb265b5'}],\n",
       " 'ownedIntersecting': [],\n",
       " 'ownedFeatureInverting': [],\n",
       " '@id': 'bab58ce6-dbfd-5db1-a151-666fec66e36e'}"
      ]
     },
     "execution_count": 22,
     "metadata": {},
     "output_type": "execute_result"
    }
   ],
   "source": [
    "links_ns.throughOwningMembership[0].throughOwningMembership[2].throughFeatureMembership[0]._data"
   ]
  },
  {
   "cell_type": "code",
   "execution_count": 23,
   "id": "e4e41449-44e1-4b16-b80e-32aaa14e5b3f",
   "metadata": {},
   "outputs": [
    {
     "data": {
      "text/plain": [
       "{'multiplicity': {'@id': 'b1a2c643-5877-40dc-bed2-d3ebb3255bcc'},\n",
       " 'owningMembership': {'@id': '65ddec42-5047-4bb1-839a-75f370670db6'},\n",
       " 'ownedTypeFeaturing': [],\n",
       " 'chainingFeature': [],\n",
       " 'isConjugated': False,\n",
       " 'isUnique': False,\n",
       " 'ownedSubsetting': [{'@id': 'dc44cd8c-6607-4504-9d94-4d1f6b64e52e'}],\n",
       " 'type': [{'@id': 'd5b4e7df-e644-5f2f-b95e-cf6f1f6c076d'}],\n",
       " 'output': [],\n",
       " 'isSufficient': False,\n",
       " 'ownedDifferencing': [],\n",
       " 'isOrdered': True,\n",
       " 'ownedRedefinition': [],\n",
       " 'elementId': '36b3c94b-3932-5d15-8d08-ebc1c1ecf830',\n",
       " 'textualRepresentation': [],\n",
       " 'isLibraryElement': True,\n",
       " 'ownedAnnotation': [],\n",
       " 'isDerived': False,\n",
       " 'ownedFeature': [],\n",
       " 'qualifiedName': 'Links::Link::participant',\n",
       " 'documentation': [],\n",
       " 'intersectingType': [],\n",
       " 'owningType': {'@id': '197b894b-35a7-5601-a217-9600ea209c19'},\n",
       " 'endFeature': [],\n",
       " 'directedFeature': [],\n",
       " 'isEnd': False,\n",
       " 'featuringType': [{'@id': '197b894b-35a7-5601-a217-9600ea209c19'}],\n",
       " 'input': [],\n",
       " 'isComposite': False,\n",
       " 'name': 'participant',\n",
       " 'ownedMember': [{'@id': 'b1a2c643-5877-40dc-bed2-d3ebb3255bcc'}],\n",
       " 'ownedMembership': [{'@id': '0abb3506-b547-4414-aa04-2d1cd22bc1f5'}],\n",
       " '@type': 'Feature',\n",
       " 'ownedDisjoining': [],\n",
       " 'owningFeatureMembership': {'@id': '65ddec42-5047-4bb1-839a-75f370670db6'},\n",
       " 'membership': [{'@id': '0abb3506-b547-4414-aa04-2d1cd22bc1f5'},\n",
       "  {'@id': '45ce5275-0957-43f9-aa41-d923cfe4d026'},\n",
       "  {'@id': '979183d3-2085-4026-bad4-cc57bf9d8bae'},\n",
       "  {'@id': '099c9963-e7bf-439f-b59f-57961d9706e6'},\n",
       "  {'@id': '7de99d22-4f1d-49e9-8f10-09cb0349a513'},\n",
       "  {'@id': '8b09bc0a-7fd8-402a-9de1-e96d495ebc24'}],\n",
       " 'isPortion': False,\n",
       " 'isImpliedIncluded': True,\n",
       " 'ownedFeatureChaining': [],\n",
       " 'owningNamespace': {'@id': '197b894b-35a7-5601-a217-9600ea209c19'},\n",
       " 'ownedTyping': [{'@id': '38350345-0742-4dd8-9722-685f758bb0ca'}],\n",
       " 'isReadOnly': True,\n",
       " 'feature': [{'@id': '2804586b-de79-5d1a-98ab-493f1e706a87'},\n",
       "  {'@id': 'dbd75b49-0e57-5cf9-ba35-9f8843b1e657'}],\n",
       " 'inheritedMembership': [{'@id': '45ce5275-0957-43f9-aa41-d923cfe4d026'},\n",
       "  {'@id': '979183d3-2085-4026-bad4-cc57bf9d8bae'},\n",
       "  {'@id': '099c9963-e7bf-439f-b59f-57961d9706e6'},\n",
       "  {'@id': '7de99d22-4f1d-49e9-8f10-09cb0349a513'},\n",
       "  {'@id': '8b09bc0a-7fd8-402a-9de1-e96d495ebc24'}],\n",
       " 'member': [{'@id': 'b1a2c643-5877-40dc-bed2-d3ebb3255bcc'},\n",
       "  {'@id': 'e0cfeed5-2e5e-42dd-aa93-9da81895500a'},\n",
       "  {'@id': '2804586b-de79-5d1a-98ab-493f1e706a87'},\n",
       "  {'@id': 'fc76137c-7d12-4fd9-a680-c655cdfc98aa'},\n",
       "  {'@id': '485fa2fc-a5a7-4b81-b779-aae25b65930a'},\n",
       "  {'@id': 'dbd75b49-0e57-5cf9-ba35-9f8843b1e657'}],\n",
       " 'ownedEndFeature': [],\n",
       " 'declaredName': 'participant',\n",
       " 'ownedFeatureMembership': [],\n",
       " 'inheritedFeature': [{'@id': '2804586b-de79-5d1a-98ab-493f1e706a87'},\n",
       "  {'@id': 'dbd75b49-0e57-5cf9-ba35-9f8843b1e657'}],\n",
       " 'owner': {'@id': '197b894b-35a7-5601-a217-9600ea209c19'},\n",
       " 'importedMembership': [],\n",
       " 'ownedElement': [{'@id': 'b1a2c643-5877-40dc-bed2-d3ebb3255bcc'}],\n",
       " 'owningRelationship': {'@id': '65ddec42-5047-4bb1-839a-75f370670db6'},\n",
       " 'aliasIds': [],\n",
       " 'ownedRelationship': [{'@id': '38350345-0742-4dd8-9722-685f758bb0ca'},\n",
       "  {'@id': '0abb3506-b547-4414-aa04-2d1cd22bc1f5'},\n",
       "  {'@id': 'dc44cd8c-6607-4504-9d94-4d1f6b64e52e'}],\n",
       " 'featureMembership': [{'@id': '979183d3-2085-4026-bad4-cc57bf9d8bae'},\n",
       "  {'@id': '8b09bc0a-7fd8-402a-9de1-e96d495ebc24'}],\n",
       " 'ownedImport': [],\n",
       " 'isAbstract': False,\n",
       " 'differencingType': [],\n",
       " 'ownedUnioning': [],\n",
       " 'unioningType': [],\n",
       " 'ownedSpecialization': [{'@id': '38350345-0742-4dd8-9722-685f758bb0ca'},\n",
       "  {'@id': 'dc44cd8c-6607-4504-9d94-4d1f6b64e52e'}],\n",
       " 'ownedIntersecting': [],\n",
       " 'ownedFeatureInverting': [],\n",
       " '@id': '36b3c94b-3932-5d15-8d08-ebc1c1ecf830'}"
      ]
     },
     "execution_count": 23,
     "metadata": {},
     "output_type": "execute_result"
    }
   ],
   "source": [
    "links_ns.throughOwningMembership[0].throughOwningMembership[2].throughFeatureMembership[0].throughRedefinition[0]._data"
   ]
  },
  {
   "cell_type": "markdown",
   "id": "2d7d1eb1-7a14-4d90-81ee-68820ee27e37",
   "metadata": {},
   "source": [
    "## Performance Library elements\n",
    "\n",
    "Open up the Performance library, which allows for some exploration of redefinition and interpreting some implicit Feature elements (name, multiplicity, type) that are important for model interpretation."
   ]
  },
  {
   "cell_type": "code",
   "execution_count": null,
   "id": "3e5ed3be-45e8-4948-84d5-a7178a307387",
   "metadata": {},
   "outputs": [],
   "source": [
    "peform_ns = [library_model_ns\n",
    "               for library_model_ns in library_model.ownedElement\n",
    "               if library_model_ns.throughOwningMembership[0].declaredName == 'Performances'][0]"
   ]
  },
  {
   "cell_type": "code",
   "execution_count": null,
   "id": "5a7c4ac0-de63-47ba-b278-993b233bf15f",
   "metadata": {},
   "outputs": [],
   "source": [
    "peform_ns.throughOwningMembership[0].throughOwningMembership"
   ]
  },
  {
   "cell_type": "code",
   "execution_count": null,
   "id": "e8c74310-4aa6-4684-acc1-c144a4981cdb",
   "metadata": {},
   "outputs": [],
   "source": [
    "peform_ns.throughOwningMembership[0].ownedRelationship"
   ]
  },
  {
   "cell_type": "code",
   "execution_count": null,
   "id": "2fc2bef3-96d0-400f-ba42-318ed0007854",
   "metadata": {},
   "outputs": [],
   "source": [
    "perform_eles = peform_ns.throughOwningMembership[0].throughOwningMembership\n",
    "\n",
    "performance = None\n",
    "    \n",
    "for perform_ele in perform_eles:\n",
    "    if perform_ele._metatype in ('Behavior'):\n",
    "        if hasattr(perform_ele, \"declaredName\"):\n",
    "            if perform_ele.declaredName == 'Performance':\n",
    "                performance = perform_ele\n",
    "                \n",
    "performance"
   ]
  },
  {
   "cell_type": "markdown",
   "id": "e13d77ee-318f-4e13-9742-a15a311ae170",
   "metadata": {},
   "source": [
    "### Performance library element exploration\n",
    "\n",
    "Look witin the Performance object and its Features that redefine other Features (from Occurrences for example). "
   ]
  },
  {
   "cell_type": "code",
   "execution_count": null,
   "id": "9d08b80e-4d57-4265-b92b-b18b836efe68",
   "metadata": {},
   "outputs": [],
   "source": [
    "performance.throughFeatureMembership"
   ]
  },
  {
   "cell_type": "code",
   "execution_count": 29,
   "id": "4be7d4de-23db-4d4b-8390-dd978dcc43fd",
   "metadata": {},
   "outputs": [
    {
     "data": {
      "text/plain": [
       "defaultdict(list,\n",
       "            {'throughRedefinition': [{'@id': '8e57748c-699b-525f-a9af-13eba4d0bc6e'}],\n",
       "             'throughFeatureValue': [{'@id': 'a9d5ce51-de37-4f93-82df-8c2dbee979a0'}],\n",
       "             'reverseFeatureMembership': [{'@id': '1b7f00e7-24fb-5ebc-8773-89ba88bc3d5d'}],\n",
       "             'reverseMembership': [{'@id': 'cb262c12-88e2-475a-b363-e47ff7e7f0f8'}],\n",
       "             'reverseSubsetting': [{'@id': 'c7801914-95c2-4f47-88dc-999345d6264e'}],\n",
       "             'reverseReferenceSubsetting': [{'@id': '3d7fe677-aa8b-4176-8072-bb027d1d18ca'}],\n",
       "             'throughBindingConnector': [{'@id': 'c7801914-95c2-4f47-88dc-999345d6264e'}],\n",
       "             'label': 'isDispatch: Boolean «Feature»'})"
      ]
     },
     "execution_count": 29,
     "metadata": {},
     "output_type": "execute_result"
    }
   ],
   "source": [
    "performance.throughFeatureMembership[3]._derived"
   ]
  },
  {
   "cell_type": "code",
   "execution_count": 30,
   "id": "545262ec-b816-4ada-b640-0f4e74a04af8",
   "metadata": {},
   "outputs": [
    {
     "data": {
      "text/plain": [
       "isDispatch: Boolean «Feature»"
      ]
     },
     "execution_count": 30,
     "metadata": {},
     "output_type": "execute_result"
    }
   ],
   "source": [
    "performance.throughFeatureMembership[3].throughRedefinition[0]"
   ]
  },
  {
   "cell_type": "code",
   "execution_count": 31,
   "id": "ea968e02-2b97-436a-8853-0668cfc15a38",
   "metadata": {},
   "outputs": [
    {
     "data": {
      "text/plain": [
       "'isDispatch'"
      ]
     },
     "execution_count": 31,
     "metadata": {},
     "output_type": "execute_result"
    }
   ],
   "source": [
    "get_effective_basic_name(performance.throughFeatureMembership[3])"
   ]
  },
  {
   "cell_type": "markdown",
   "id": "e13d1a97-27de-4aff-a6fc-8eb08a3a83fe",
   "metadata": {},
   "source": [
    "### Vector Values library element exploration\n",
    "\n",
    "Look around the vector values library element for redefinied multiplicity and type."
   ]
  },
  {
   "cell_type": "code",
   "execution_count": 32,
   "id": "d03df378-f354-438b-8419-15896bf937e5",
   "metadata": {},
   "outputs": [
    {
     "data": {
      "text/plain": [
       "1296fcf9-53b0-438e-b873-903a3f055fbc «Namespace»"
      ]
     },
     "execution_count": 32,
     "metadata": {},
     "output_type": "execute_result"
    }
   ],
   "source": [
    "vvals_ns = [library_model_ns for library_model_ns in library_model.ownedElement if library_model_ns.throughOwningMembership[0].declaredName == 'VectorValues'][0]\n",
    "vvals_ns"
   ]
  },
  {
   "cell_type": "code",
   "execution_count": 33,
   "id": "4de1cb99-d19c-45f4-b5b5-32fd703bdc79",
   "metadata": {},
   "outputs": [
    {
     "data": {
      "text/plain": [
       "[e9e01573-4da6-4c4b-875a-d6264a33fe4a «Documentation»,\n",
       " VectorValue «DataType»,\n",
       " NumericalVectorValue «DataType»,\n",
       " CartesianVectorValue «DataType»,\n",
       " ThreeVectorValue «DataType»,\n",
       " CartesianThreeVectorValue «DataType»]"
      ]
     },
     "execution_count": 33,
     "metadata": {},
     "output_type": "execute_result"
    }
   ],
   "source": [
    "vvals_eles = vvals_ns.throughOwningMembership[0].throughOwningMembership\n",
    "vvals_eles"
   ]
  },
  {
   "cell_type": "code",
   "execution_count": 34,
   "id": "7a624cff-e3cc-426b-919b-64126c9bc895",
   "metadata": {},
   "outputs": [
    {
     "data": {
      "text/plain": [
       "ThreeVectorValue «DataType»"
      ]
     },
     "execution_count": 34,
     "metadata": {},
     "output_type": "execute_result"
    }
   ],
   "source": [
    "vvals_eles[4]"
   ]
  },
  {
   "cell_type": "markdown",
   "id": "d53ad639-40b0-467a-86ea-44bc09395db4",
   "metadata": {},
   "source": [
    "In pyMBE, the implicit names (names from redefined Features) are represented with the redefines shorthand ( :>> )."
   ]
  },
  {
   "cell_type": "code",
   "execution_count": 35,
   "id": "bcb2b7a5-6459-4f88-bcb8-96f7978a1524",
   "metadata": {},
   "outputs": [
    {
     "data": {
      "text/plain": [
       "dimension: Positive «Feature»"
      ]
     },
     "execution_count": 35,
     "metadata": {},
     "output_type": "execute_result"
    }
   ],
   "source": [
    "vvals_eles[4].throughFeatureMembership[0]"
   ]
  },
  {
   "cell_type": "code",
   "execution_count": 36,
   "id": "ade0371e-6c26-4815-ab14-9a355cd9c282",
   "metadata": {},
   "outputs": [
    {
     "data": {
      "text/plain": [
       "'dimension'"
      ]
     },
     "execution_count": 36,
     "metadata": {},
     "output_type": "execute_result"
    }
   ],
   "source": [
    "get_effective_basic_name(vvals_eles[4].throughFeatureMembership[0])"
   ]
  },
  {
   "cell_type": "code",
   "execution_count": 55,
   "id": "843ab436-959f-4e37-b163-6092c5f27f7c",
   "metadata": {},
   "outputs": [
    {
     "data": {
      "text/plain": [
       "dimension: Positive «Feature»"
      ]
     },
     "execution_count": 55,
     "metadata": {},
     "output_type": "execute_result"
    }
   ],
   "source": [
    "vvals_eles[4].throughFeatureMembership[0]"
   ]
  },
  {
   "cell_type": "code",
   "execution_count": 37,
   "id": "95a46546-f342-4930-8d13-49f065983cdc",
   "metadata": {},
   "outputs": [
    {
     "data": {
      "text/plain": [
       "Positive «DataType»"
      ]
     },
     "execution_count": 37,
     "metadata": {},
     "output_type": "execute_result"
    }
   ],
   "source": [
    "get_most_specific_feature_type(vvals_eles[4].throughFeatureMembership[0])"
   ]
  },
  {
   "cell_type": "code",
   "execution_count": 38,
   "id": "197f99ed-8bbd-4b88-a843-dd68b65bb1cf",
   "metadata": {},
   "outputs": [
    {
     "data": {
      "text/plain": [
       "0"
      ]
     },
     "execution_count": 38,
     "metadata": {},
     "output_type": "execute_result"
    }
   ],
   "source": [
    "get_effective_lower_multiplicity(vvals_eles[4].throughFeatureMembership[0])"
   ]
  },
  {
   "cell_type": "code",
   "execution_count": 39,
   "id": "49b7be69-92d5-4b7a-9de8-43709d2b5be8",
   "metadata": {},
   "outputs": [
    {
     "data": {
      "text/plain": [
       "1"
      ]
     },
     "execution_count": 39,
     "metadata": {},
     "output_type": "execute_result"
    }
   ],
   "source": [
    "get_effective_upper_multiplicity(vvals_eles[4].throughFeatureMembership[0])"
   ]
  },
  {
   "cell_type": "code",
   "execution_count": 40,
   "id": "67ceeee8-cc48-4c0b-b0e2-71a7857ef0fd",
   "metadata": {},
   "outputs": [
    {
     "data": {
      "text/plain": [
       "dimension: Positive «Feature»"
      ]
     },
     "execution_count": 40,
     "metadata": {},
     "output_type": "execute_result"
    }
   ],
   "source": [
    "vvals_eles[4].throughFeatureMembership[0].throughRedefinition[0]"
   ]
  },
  {
   "cell_type": "code",
   "execution_count": 41,
   "id": "e1d2a8d3-32d9-42c3-bc85-b16ddc88e34d",
   "metadata": {},
   "outputs": [
    {
     "data": {
      "text/plain": [
       "'MultiplicityRange'"
      ]
     },
     "execution_count": 41,
     "metadata": {},
     "output_type": "execute_result"
    }
   ],
   "source": [
    "vvals_eles[4].throughFeatureMembership[0].throughRedefinition[0].throughOwningMembership[0]._metatype"
   ]
  },
  {
   "cell_type": "code",
   "execution_count": 42,
   "id": "99d0cdaf-9db3-482e-aa81-46fb3ac377a2",
   "metadata": {},
   "outputs": [
    {
     "data": {
      "text/plain": [
       "[f61c39c4-ba48-46da-b0de-238b2acd7e2c «LiteralInteger»,\n",
       " 1 «LiteralIntegerEvaluation»]"
      ]
     },
     "execution_count": 42,
     "metadata": {},
     "output_type": "execute_result"
    }
   ],
   "source": [
    "vvals_eles[4].throughFeatureMembership[0].throughRedefinition[0].throughOwningMembership[0].throughOwningMembership"
   ]
  },
  {
   "cell_type": "code",
   "execution_count": 43,
   "id": "dd83de0b-e3c3-4048-a3f6-0426ed56c0be",
   "metadata": {},
   "outputs": [
    {
     "data": {
      "text/plain": [
       "[]"
      ]
     },
     "execution_count": 43,
     "metadata": {},
     "output_type": "execute_result"
    }
   ],
   "source": [
    "vvals_eles[4].throughFeatureMembership[0].throughFeatureTyping"
   ]
  },
  {
   "cell_type": "code",
   "execution_count": 44,
   "id": "3322d2b1-9a6e-476b-8e92-014d090ee106",
   "metadata": {},
   "outputs": [
    {
     "data": {
      "text/plain": [
       "[dimension: Positive «Feature»]"
      ]
     },
     "execution_count": 44,
     "metadata": {},
     "output_type": "execute_result"
    }
   ],
   "source": [
    "vvals_eles[4].throughFeatureMembership[0].throughRedefinition"
   ]
  },
  {
   "cell_type": "markdown",
   "id": "da9a73c6-96a6-4e78-8e1f-845cd6cf2f08",
   "metadata": {},
   "source": [
    "### Vector Functions library element exploration\n",
    "\n",
    "Look around the vector function library elements for the rendering of expression trees. "
   ]
  },
  {
   "cell_type": "code",
   "execution_count": 45,
   "id": "87c381c9-c6c3-4ad0-8eb2-5c6f69ffd15a",
   "metadata": {},
   "outputs": [],
   "source": [
    "vfunc_ns = [library_model_ns\n",
    "               for library_model_ns in library_model.ownedElement\n",
    "               if library_model_ns.throughOwningMembership[0].declaredName == 'VectorFunctions'][0]"
   ]
  },
  {
   "cell_type": "code",
   "execution_count": 46,
   "id": "00eb6ebf-33c8-4e4f-88f7-00bdd52a9217",
   "metadata": {},
   "outputs": [
    {
     "data": {
      "text/plain": [
       "[c270e45c-2d1a-4354-9206-c7ce43bb8b8a «Documentation»,\n",
       " b5c2dcc1-fcfb-4124-954c-b2f77e6c07bc «Comment»,\n",
       " isZeroVector «Function»,\n",
       " + «Function»,\n",
       " - «Function»,\n",
       " sum0 «Function»,\n",
       " 416f2623-b13d-4d7b-bccc-832809cc486e «Comment»,\n",
       " VectorOf «Function»,\n",
       " scalarVectorMult «Function»,\n",
       " vectorScalarMult «Function»,\n",
       " vectorScalarDiv «Function»,\n",
       " inner «Function»,\n",
       " norm «Function»,\n",
       " angle «Function»,\n",
       " d130ec53-c235-48ae-a484-573a0ff5fa2c «Comment»,\n",
       " CartesianVectorOf «Function»,\n",
       " CartesianThreeVectorOf «Function»,\n",
       " cartesianZeroVector: CartesianVectorValue «Feature»,\n",
       " cartesian3DZeroVector: CartesianThreeVectorValue «Feature»,\n",
       " isCartesianZeroVector «Function»,\n",
       " cartesian+ «Function»,\n",
       " cartesian- «Function»,\n",
       " cartesianScalarVectorMult «Function»,\n",
       " cartesianVectorScalarMult «Function»,\n",
       " cartesianInner «Function»,\n",
       " cartesianNorm «Function»,\n",
       " cartesianAngle «Function»,\n",
       " sum «Function»]"
      ]
     },
     "execution_count": 46,
     "metadata": {},
     "output_type": "execute_result"
    }
   ],
   "source": [
    "vfunc_ns.throughOwningMembership[0].throughOwningMembership"
   ]
  },
  {
   "cell_type": "markdown",
   "id": "c024020e-7cb3-4eb5-8950-d1d63cfaac94",
   "metadata": {},
   "source": [
    "Show the invariants as features within the adding ( + ) function rendered by following the expressions."
   ]
  },
  {
   "cell_type": "code",
   "execution_count": 47,
   "id": "a95b73d9-331f-4d85-bbe0-9d28665f444a",
   "metadata": {},
   "outputs": [
    {
     "data": {
      "text/plain": [
       "[v: VectorValue «Feature»,\n",
       " w: VectorValue «Feature»,\n",
       " w == null or isZeroVector(w) implies u == w «Invariant»,\n",
       " w != null implies u == w + v «Invariant»]"
      ]
     },
     "execution_count": 47,
     "metadata": {},
     "output_type": "execute_result"
    }
   ],
   "source": [
    "vfunc_ns.throughOwningMembership[0].throughOwningMembership[3].throughFeatureMembership"
   ]
  },
  {
   "cell_type": "markdown",
   "id": "44deaee1-97f8-46e1-b469-e1718359381a",
   "metadata": {},
   "source": [
    "Drill more down into the parts of the larger expressions."
   ]
  },
  {
   "cell_type": "code",
   "execution_count": 48,
   "id": "ffc73e45-59d9-46ca-a9c4-a33ed0d11ceb",
   "metadata": {},
   "outputs": [
    {
     "data": {
      "text/plain": [
       "{'owningMembership': {'@id': 'e6efc1de-e88b-4af2-9c45-41f70f57bfb1'},\n",
       " 'argument': [{'@id': 'eb519cd4-9051-4b3e-ab32-36666dc29a64'},\n",
       "  {'@id': 'c24acac0-7af5-4c62-84c2-1f73899d868f'}],\n",
       " 'ownedTypeFeaturing': [],\n",
       " 'chainingFeature': [],\n",
       " 'isConjugated': False,\n",
       " 'isUnique': True,\n",
       " 'ownedSubsetting': [{'@id': '7f0ee65f-5e73-4abe-aac7-385b71728ad8'},\n",
       "  {'@id': '66e84eb5-87b6-4878-b986-db733cb598c7'}],\n",
       " 'type': [{'@id': 'e70973e0-c3b2-5219-9d0d-ed166cef5a10'}],\n",
       " 'operator': 'implies',\n",
       " 'output': [{'@id': '04619f11-4868-4658-a096-c9c7024f4be5'}],\n",
       " 'function': {'@id': 'e70973e0-c3b2-5219-9d0d-ed166cef5a10'},\n",
       " 'isSufficient': False,\n",
       " 'ownedDifferencing': [],\n",
       " 'isOrdered': False,\n",
       " 'ownedRedefinition': [],\n",
       " 'elementId': '9d12da66-ae62-49f4-ac27-a348e1509fd4',\n",
       " 'textualRepresentation': [],\n",
       " 'isLibraryElement': True,\n",
       " 'ownedAnnotation': [],\n",
       " 'isDerived': False,\n",
       " 'ownedFeature': [{'@id': '074ed3fa-6388-4d7e-9065-d85d53d41bbe'},\n",
       "  {'@id': '1a81dae4-1c5b-4c04-b7ef-83b50abbe274'},\n",
       "  {'@id': '04619f11-4868-4658-a096-c9c7024f4be5'}],\n",
       " 'documentation': [],\n",
       " 'intersectingType': [],\n",
       " 'owningType': {'@id': '72e78629-c942-5948-a3ee-cbb22eb96217'},\n",
       " 'endFeature': [],\n",
       " 'directedFeature': [{'@id': '074ed3fa-6388-4d7e-9065-d85d53d41bbe'},\n",
       "  {'@id': '1a81dae4-1c5b-4c04-b7ef-83b50abbe274'},\n",
       "  {'@id': '04619f11-4868-4658-a096-c9c7024f4be5'}],\n",
       " 'isEnd': False,\n",
       " 'featuringType': [{'@id': '72e78629-c942-5948-a3ee-cbb22eb96217'}],\n",
       " 'input': [{'@id': '074ed3fa-6388-4d7e-9065-d85d53d41bbe'},\n",
       "  {'@id': '1a81dae4-1c5b-4c04-b7ef-83b50abbe274'}],\n",
       " 'isComposite': False,\n",
       " 'ownedMember': [{'@id': '074ed3fa-6388-4d7e-9065-d85d53d41bbe'},\n",
       "  {'@id': '1a81dae4-1c5b-4c04-b7ef-83b50abbe274'},\n",
       "  {'@id': '04619f11-4868-4658-a096-c9c7024f4be5'}],\n",
       " 'ownedMembership': [{'@id': '7b93c28b-d30a-4c87-9e48-dd34781f2c7e'},\n",
       "  {'@id': '3a74f544-a714-4335-802a-348b28cfcf5e'},\n",
       "  {'@id': 'c6c2e9a3-9a6b-4692-aea5-54af5f36d97e'}],\n",
       " '@type': 'OperatorExpression',\n",
       " 'ownedDisjoining': [],\n",
       " 'owningFeatureMembership': {'@id': 'e6efc1de-e88b-4af2-9c45-41f70f57bfb1'},\n",
       " 'membership': [{'@id': '7b93c28b-d30a-4c87-9e48-dd34781f2c7e'},\n",
       "  {'@id': '3a74f544-a714-4335-802a-348b28cfcf5e'},\n",
       "  {'@id': 'c6c2e9a3-9a6b-4692-aea5-54af5f36d97e'},\n",
       "  {'@id': 'c86113f7-ef49-42a6-9549-8364a4e17f9c'},\n",
       "  {'@id': 'e613f108-28d9-4332-80a4-764623b0c751'},\n",
       "  {'@id': 'a91c9222-0a1f-45ec-a24e-5efd472d46a7'},\n",
       "  {'@id': '9cce602c-ae2b-4e6d-a4a6-9f04248ec52a'},\n",
       "  {'@id': 'cf154dd6-6e11-41b2-8180-87dad97933cb'},\n",
       "  {'@id': '434fa22c-6681-4e12-b32a-efde854a79d2'},\n",
       "  {'@id': '42e3bbe0-c8cd-4365-8d85-f61ad1100b09'},\n",
       "  {'@id': 'ed9a27df-0791-46a5-b94f-f82d1a543619'},\n",
       "  {'@id': 'b7162499-b8a6-42c1-a8b7-f58a5235a036'},\n",
       "  {'@id': '09587595-f499-4d1a-a292-8d75f7f5b832'},\n",
       "  {'@id': 'd75595f8-6746-4189-92ee-47af3ddb005d'},\n",
       "  {'@id': '60fa17f5-f0d7-4e73-bd6e-c960eec6a53c'},\n",
       "  {'@id': '778cdece-c31e-48df-9132-b838474a0180'},\n",
       "  {'@id': '79970c5c-ef7c-46a6-b425-c34450179689'},\n",
       "  {'@id': '4ef2d48c-9045-4e26-834d-0f263301ae5f'},\n",
       "  {'@id': '9d2238e0-d1a9-45ae-afef-8b721e279f4e'},\n",
       "  {'@id': 'fd9e72dc-1501-4a5b-b59c-4ee8ef47b8b1'},\n",
       "  {'@id': '752540ad-b8b6-430d-a8b2-2e9b389529a0'},\n",
       "  {'@id': '7479ef9f-ca69-493b-b37f-ef0abb922338'},\n",
       "  {'@id': 'e4b0a6e1-60d0-4ca0-9ae3-c718ab38645b'},\n",
       "  {'@id': '0cdd4833-734f-46fd-8c2a-ae7f73782d83'},\n",
       "  {'@id': 'a3c166f6-21af-4b80-aa1a-7ceecb65848c'},\n",
       "  {'@id': 'f1bb9c3a-df67-47c7-bc46-46436270e1a3'},\n",
       "  {'@id': '377be6ab-8344-46c2-994d-6101572a86ff'},\n",
       "  {'@id': '03f308f9-6b56-4b1b-8d24-cfe811218aa0'},\n",
       "  {'@id': '0fe71085-0a63-45e4-ab52-a6db1cdef520'},\n",
       "  {'@id': 'db2e7103-c8a7-482d-b154-5a8b42f017f0'},\n",
       "  {'@id': 'dddf9b52-5c3a-4594-9eeb-621e4a5c9f8b'},\n",
       "  {'@id': 'c35e3e70-7764-4780-8852-bdc9eed600be'},\n",
       "  {'@id': 'a000ae16-8de8-45ab-af6a-60895d092902'},\n",
       "  {'@id': '3e838754-5f7f-4bd8-989e-0d1303de2530'},\n",
       "  {'@id': 'a0aac4db-f8f5-4099-b953-abaf17ceedf5'},\n",
       "  {'@id': '87c510c6-78eb-44da-b87d-8a9a0522a0f8'},\n",
       "  {'@id': '5f585dc6-a65c-43a4-b751-d4f75fe37c31'},\n",
       "  {'@id': '59a7983d-bacd-4291-a771-4d8a976b3744'},\n",
       "  {'@id': 'a633cbdc-cbf8-436a-ada4-f1cbb253d1ff'},\n",
       "  {'@id': '198eb180-76f0-4abc-a699-148833a74909'},\n",
       "  {'@id': 'ce53828f-add6-4443-b9e3-c108c6c7409e'},\n",
       "  {'@id': '626ed902-e525-4baf-961e-7f55a1a15e5d'},\n",
       "  {'@id': '23e22290-2aef-4009-8a52-5b4d2eda588b'},\n",
       "  {'@id': 'ca05c025-8bdd-401d-9f70-ddbf9d1280b1'},\n",
       "  {'@id': 'ec3b125a-abe7-430c-a03a-b6bcbe8249b6'},\n",
       "  {'@id': 'd7fceb77-721c-4e05-acc8-762f358c3381'},\n",
       "  {'@id': '903d9afa-c7e7-41c0-9d33-80abedb3ecd0'},\n",
       "  {'@id': '8daf52cb-3621-4a08-ad28-5285d678e2a7'},\n",
       "  {'@id': '1a510772-d24e-4ac6-8f6c-c1c06b053d77'},\n",
       "  {'@id': 'fe4ea120-ccd8-44ad-860f-7a7dc455d1a2'},\n",
       "  {'@id': '79ebf978-7612-4e14-a437-ccbd3f39e4c9'},\n",
       "  {'@id': 'cd250205-b911-45fb-bf2e-01b90a46d6b5'},\n",
       "  {'@id': 'a46bb61c-fb23-49d3-ab21-6bbfe8a02144'},\n",
       "  {'@id': 'e2380f9b-ca83-4e65-b020-40e05704d4c9'},\n",
       "  {'@id': '33325926-ea28-41e8-a1f6-872007e2b2f6'},\n",
       "  {'@id': '148e8bf6-e72e-46bf-9148-208ab0527c80'},\n",
       "  {'@id': 'a91e7ba2-8ca9-499f-9fc1-77d2a3a1135f'},\n",
       "  {'@id': '85959bc8-d190-47d7-8b26-83488e522667'},\n",
       "  {'@id': 'd23c28e2-226a-4259-8e35-7a95e9c58c42'},\n",
       "  {'@id': '6c8ff1a6-1d25-40b5-a21b-fa2651554bfb'},\n",
       "  {'@id': '10f93ead-9429-4415-8a58-bdb76ec31592'},\n",
       "  {'@id': '22e2e826-62df-4cf9-876e-4e558fda4b25'},\n",
       "  {'@id': '89d22a27-ba67-45bc-9191-4e823f683981'},\n",
       "  {'@id': 'd8db04d0-9052-4768-94e4-106098f04be1'},\n",
       "  {'@id': 'f9c1339a-b315-447a-ba3f-c3137601290c'},\n",
       "  {'@id': '9994d7cf-efd7-43ee-845b-3fa17f19d18c'},\n",
       "  {'@id': 'a471bc5d-42f2-4965-971e-e72eece5b271'},\n",
       "  {'@id': '581927dd-179c-4d42-9ce5-48fef1f1f0aa'},\n",
       "  {'@id': '3fc65ae6-0fe0-4b71-89fb-bd8312706daf'},\n",
       "  {'@id': '0d49f9fc-bcad-42c1-835a-18697586e0db'},\n",
       "  {'@id': '8f505208-dfb4-4d9b-809e-2a4205bde5b4'},\n",
       "  {'@id': '674020c0-4062-40d5-8fb9-42c495ffe4d4'},\n",
       "  {'@id': '73573be8-de8b-4ab7-bd02-bd4c3372f17d'},\n",
       "  {'@id': 'df2f5f95-2bb6-4d3b-aa3f-c4b2cf47b474'},\n",
       "  {'@id': '2e2e1dcd-baf4-4893-88f0-5ee6693975a6'},\n",
       "  {'@id': 'dc84b476-482b-451b-893b-9d5c1b4d215a'},\n",
       "  {'@id': 'd3e344ab-48fa-4097-8021-ea1b77028b0c'},\n",
       "  {'@id': '2a0bb824-5b9e-457e-8747-11d5fc68f663'},\n",
       "  {'@id': '907a3a13-e315-4564-bcd5-09154fc87dc4'},\n",
       "  {'@id': 'cdf8e548-9072-48c8-9ada-844546169700'},\n",
       "  {'@id': 'a3302f09-e44e-48ab-84c8-cc270365804a'},\n",
       "  {'@id': 'b860ff04-4d1d-425b-aa02-8acf99fea145'},\n",
       "  {'@id': '5e796739-6cad-4fae-acc7-63eaf98da09f'},\n",
       "  {'@id': 'c2076f54-1702-4f05-b582-db4c65c972a9'},\n",
       "  {'@id': '5604754e-4dc8-442c-a4b1-8edba08d2452'},\n",
       "  {'@id': '2f7c1a6f-e368-4267-bc45-f02493b877c0'},\n",
       "  {'@id': '45ce5275-0957-43f9-aa41-d923cfe4d026'},\n",
       "  {'@id': '86f18091-04c4-4661-b328-38d829cb7952'},\n",
       "  {'@id': 'c650d052-2347-478e-8a91-7d41e91dad98'},\n",
       "  {'@id': '9a77325e-787d-48cf-a598-8be05ea36162'},\n",
       "  {'@id': '099c9963-e7bf-439f-b59f-57961d9706e6'},\n",
       "  {'@id': '7de99d22-4f1d-49e9-8f10-09cb0349a513'},\n",
       "  {'@id': '8b09bc0a-7fd8-402a-9de1-e96d495ebc24'},\n",
       "  {'@id': 'da847883-d504-4303-9dcb-331b5e1b6276'},\n",
       "  {'@id': 'f5a82e94-7fea-4627-8716-31d058afa587'},\n",
       "  {'@id': 'cfc9b7ac-d797-4156-958b-83f62eb524eb'},\n",
       "  {'@id': 'cab1f3a5-8b34-4c71-b210-bd03e20e5a4d'},\n",
       "  {'@id': 'f2e19a6c-b286-4875-b50a-3f5896094a91'},\n",
       "  {'@id': '3dc9bf50-ebda-4c61-ada1-cdbb6bbb6bf7'},\n",
       "  {'@id': '4ac97eaf-6241-4ab6-9f81-970d1593ca67'},\n",
       "  {'@id': '5ca4f4ee-554c-4baa-abfe-65866359966d'},\n",
       "  {'@id': 'b7f3da1d-e206-4955-94d8-f8d9b40c0750'},\n",
       "  {'@id': '64d9b8bc-d38c-4892-b76d-84ee3a4de364'},\n",
       "  {'@id': 'eb48e9db-f8c9-4936-96cd-30a54b343e25'}],\n",
       " 'isPortion': False,\n",
       " 'isImpliedIncluded': True,\n",
       " 'isNonunique': False,\n",
       " 'result': {'@id': '04619f11-4868-4658-a096-c9c7024f4be5'},\n",
       " 'ownedFeatureChaining': [],\n",
       " 'owningNamespace': {'@id': '72e78629-c942-5948-a3ee-cbb22eb96217'},\n",
       " 'ownedTyping': [{'@id': '2b23d9f9-7f1e-4b41-98f4-d7bd40036b12'}],\n",
       " 'isReadOnly': False,\n",
       " 'feature': [{'@id': '074ed3fa-6388-4d7e-9065-d85d53d41bbe'},\n",
       "  {'@id': '1a81dae4-1c5b-4c04-b7ef-83b50abbe274'},\n",
       "  {'@id': '04619f11-4868-4658-a096-c9c7024f4be5'},\n",
       "  {'@id': '1ed8521c-8e1f-5447-98b2-3834d625e318'},\n",
       "  {'@id': 'fb27ecea-d60d-5910-917b-423b2e684e81'},\n",
       "  {'@id': '485fcbcd-71b9-59bc-bf34-6bca6255c31e'},\n",
       "  {'@id': '16c42f5a-39df-5dae-8bba-4ad4424bd606'},\n",
       "  {'@id': 'c64ab43a-790b-5369-b8e4-3382ae24c736'},\n",
       "  {'@id': 'd2f2efc4-b3fe-5807-85bc-416fbebb05f0'},\n",
       "  {'@id': 'e8f51ddc-033f-5438-b112-790cef7beead'},\n",
       "  {'@id': '8c0e1eab-bfcd-48ce-92b9-7ca483a98462'},\n",
       "  {'@id': 'e00899ec-5d00-5a31-9690-3791a3dbbe2e'},\n",
       "  {'@id': 'fa859d04-71c3-510a-bdb7-d35d7bc10bee'},\n",
       "  {'@id': '29589f01-c2d8-5525-a9bf-8fd157b61b4f'},\n",
       "  {'@id': 'bffacdad-6769-575f-be46-e30433a5af4d'},\n",
       "  {'@id': '4b10887f-7d5b-4d61-97fc-1c45c4bc823e'},\n",
       "  {'@id': '1055a84d-fed9-571c-8367-7f8a9b3a3ac1'},\n",
       "  {'@id': '42cca478-6f8d-5c19-b990-bc4510c8bea7'},\n",
       "  {'@id': '05fff4e4-cdd3-5942-b213-8df135a6c562'},\n",
       "  {'@id': '43f4a2ef-f178-57b6-b967-458a580f1b87'},\n",
       "  {'@id': 'cdbc7853-3c7e-5c48-9817-2dd245e50317'},\n",
       "  {'@id': 'c5317d0f-35d3-567c-b7de-7f4fa8260ad3'},\n",
       "  {'@id': '0ecb793f-a890-5fbd-b460-c28c791df30c'},\n",
       "  {'@id': '27cd823b-91df-5d0b-967d-25f6c022c384'},\n",
       "  {'@id': '6788277f-7cdd-500a-8b02-39844f659f4f'},\n",
       "  {'@id': '0536eca0-9fdc-5208-87c8-2dcc8356081a'},\n",
       "  {'@id': '36cc01d9-7cf0-54f7-ab42-838ee52d9d1b'},\n",
       "  {'@id': '2ce6ae13-819f-5639-b06e-6872e8624da8'},\n",
       "  {'@id': '0fc0fae0-4b34-5499-ab11-daa8573e22d4'},\n",
       "  {'@id': '39e7ab46-4b77-56c5-be49-cec0a1b784fe'},\n",
       "  {'@id': '9f15f4ff-e883-5ee3-a73f-15730b50b155'},\n",
       "  {'@id': '618024bc-861e-581c-b049-697db6290025'},\n",
       "  {'@id': 'f7162942-e1e4-543d-abef-68b63eea0e30'},\n",
       "  {'@id': '5bfcd8de-eaed-4b83-a571-1cde09e1d8de'},\n",
       "  {'@id': 'c38c598e-c640-51ca-be77-4fbd9254c9d1'},\n",
       "  {'@id': '1fbfad0c-409b-4329-a255-d34b53934557'},\n",
       "  {'@id': 'faf13619-5fb6-5a19-871e-e14767f89a28'},\n",
       "  {'@id': 'b9db8f58-131b-56fb-9a18-01bd8f2870df'},\n",
       "  {'@id': 'f44ce934-e087-5c0c-a24a-8280cf69df84'},\n",
       "  {'@id': '2012913c-a576-5118-9dcb-5b26a927b16a'},\n",
       "  {'@id': '2b9660c5-2b98-5ecd-bf09-32a62ff6be1e'},\n",
       "  {'@id': '16d22aba-940a-4e8c-8b37-b72f12daa669'},\n",
       "  {'@id': '5a7f6ed4-62ad-5556-8824-4c59333e8d87'},\n",
       "  {'@id': '232c0d78-db6e-5363-9e8d-54426e6a8ab4'},\n",
       "  {'@id': '8f325094-2f07-5075-84a2-e20f64999145'},\n",
       "  {'@id': 'd436a313-ae58-4e7b-8bd3-7b8b68bdfa32'},\n",
       "  {'@id': 'fe69ecea-18c0-44f2-aa22-5a5bfe29b2fc'},\n",
       "  {'@id': '9d7114c7-3920-502b-a085-31836fb7fe77'},\n",
       "  {'@id': 'f60dc463-a437-4693-ace4-88f7ee24e044'},\n",
       "  {'@id': '80a5b391-d7f4-5d7a-b061-b06c397d4a0c'},\n",
       "  {'@id': '817763b4-4fcd-5d8e-8934-9591df7f05cb'},\n",
       "  {'@id': 'acbd427f-8ecf-59a6-9c9f-bf9854908e42'},\n",
       "  {'@id': 'd1560b5a-db03-5b99-9bbf-1bd3883ef262'},\n",
       "  {'@id': 'e95dbcde-8fb8-52dc-9199-ee01e4ce3699'},\n",
       "  {'@id': '58f2f1ae-60e3-46c7-8c40-54ea6d04e96f'},\n",
       "  {'@id': 'eba60b10-4da7-5503-907b-4bbd67bf477a'},\n",
       "  {'@id': '598a3b9b-9b07-4a97-a51f-b484eb581ca1'},\n",
       "  {'@id': 'b8c04581-14c0-5fd6-8670-746d1853850e'},\n",
       "  {'@id': 'c4886ea7-0704-4f26-be31-24251faf575a'},\n",
       "  {'@id': 'e24b4cdf-0f1e-5b60-a62a-b09e0d1e6956'},\n",
       "  {'@id': 'a4d21db8-87e3-542d-a5de-df08f3486f65'},\n",
       "  {'@id': '4d31567e-c985-4da9-98b6-3be4608cab3a'},\n",
       "  {'@id': '340cd2d4-f01d-5027-8aa0-419369abce3c'},\n",
       "  {'@id': '1c8f6c51-daa8-5e32-999e-831c4b7be22f'},\n",
       "  {'@id': '548a9ba2-9838-4c6d-81b9-1a566a1fa70e'},\n",
       "  {'@id': 'd95447f4-f911-4629-b6a1-87c40ce44d6f'},\n",
       "  {'@id': '66b0ab8a-dcb1-4ae4-af48-342e379dd490'},\n",
       "  {'@id': '3deaea3b-b366-40ba-aaae-364ec46c20a0'},\n",
       "  {'@id': 'c82148c3-4c46-5d1a-81cb-d06b9af86b16'},\n",
       "  {'@id': '741ea0aa-b16b-5b44-ac46-564c85d4f05d'},\n",
       "  {'@id': 'f9e920cc-2ec4-56b3-9920-8e5dbbc50a5a'},\n",
       "  {'@id': '68590510-93f8-4a59-842d-43b4e2ebf919'},\n",
       "  {'@id': '951532be-ca58-5725-816f-80d3ff0918f8'},\n",
       "  {'@id': '8ae6a39e-3208-4ca0-9f2f-efed8710af6c'},\n",
       "  {'@id': 'c88a7695-4294-5588-9bcc-c295513c4eb9'},\n",
       "  {'@id': '968b3a18-112f-5b6a-b09b-c0732c50f69a'},\n",
       "  {'@id': '14c365b2-de60-428d-9a10-0510ae196e35'},\n",
       "  {'@id': '1e5d1a3b-0bcf-5091-b752-ea77bfb96708'},\n",
       "  {'@id': '23eed4d1-9254-59a8-ae68-912966ed1d14'},\n",
       "  {'@id': '5776dd9f-de7b-5498-8da5-006a6c79a52a'},\n",
       "  {'@id': '87ed453a-3c8d-50cc-93d9-f9d9ad7817a6'},\n",
       "  {'@id': 'dbd75b49-0e57-5cf9-ba35-9f8843b1e657'},\n",
       "  {'@id': 'b91365da-115e-52ca-a252-466bf457aece'},\n",
       "  {'@id': 'f2273767-31df-5795-bc4d-cd094c7178d4'}],\n",
       " 'inheritedMembership': [{'@id': 'c86113f7-ef49-42a6-9549-8364a4e17f9c'},\n",
       "  {'@id': 'e613f108-28d9-4332-80a4-764623b0c751'},\n",
       "  {'@id': 'a91c9222-0a1f-45ec-a24e-5efd472d46a7'},\n",
       "  {'@id': '9cce602c-ae2b-4e6d-a4a6-9f04248ec52a'},\n",
       "  {'@id': 'cf154dd6-6e11-41b2-8180-87dad97933cb'},\n",
       "  {'@id': '434fa22c-6681-4e12-b32a-efde854a79d2'},\n",
       "  {'@id': '42e3bbe0-c8cd-4365-8d85-f61ad1100b09'},\n",
       "  {'@id': 'ed9a27df-0791-46a5-b94f-f82d1a543619'},\n",
       "  {'@id': 'b7162499-b8a6-42c1-a8b7-f58a5235a036'},\n",
       "  {'@id': '09587595-f499-4d1a-a292-8d75f7f5b832'},\n",
       "  {'@id': 'd75595f8-6746-4189-92ee-47af3ddb005d'},\n",
       "  {'@id': '60fa17f5-f0d7-4e73-bd6e-c960eec6a53c'},\n",
       "  {'@id': '778cdece-c31e-48df-9132-b838474a0180'},\n",
       "  {'@id': '79970c5c-ef7c-46a6-b425-c34450179689'},\n",
       "  {'@id': '4ef2d48c-9045-4e26-834d-0f263301ae5f'},\n",
       "  {'@id': '9d2238e0-d1a9-45ae-afef-8b721e279f4e'},\n",
       "  {'@id': 'fd9e72dc-1501-4a5b-b59c-4ee8ef47b8b1'},\n",
       "  {'@id': '752540ad-b8b6-430d-a8b2-2e9b389529a0'},\n",
       "  {'@id': '7479ef9f-ca69-493b-b37f-ef0abb922338'},\n",
       "  {'@id': 'e4b0a6e1-60d0-4ca0-9ae3-c718ab38645b'},\n",
       "  {'@id': '0cdd4833-734f-46fd-8c2a-ae7f73782d83'},\n",
       "  {'@id': 'a3c166f6-21af-4b80-aa1a-7ceecb65848c'},\n",
       "  {'@id': 'f1bb9c3a-df67-47c7-bc46-46436270e1a3'},\n",
       "  {'@id': '377be6ab-8344-46c2-994d-6101572a86ff'},\n",
       "  {'@id': '03f308f9-6b56-4b1b-8d24-cfe811218aa0'},\n",
       "  {'@id': '0fe71085-0a63-45e4-ab52-a6db1cdef520'},\n",
       "  {'@id': 'db2e7103-c8a7-482d-b154-5a8b42f017f0'},\n",
       "  {'@id': 'dddf9b52-5c3a-4594-9eeb-621e4a5c9f8b'},\n",
       "  {'@id': 'c35e3e70-7764-4780-8852-bdc9eed600be'},\n",
       "  {'@id': 'a000ae16-8de8-45ab-af6a-60895d092902'},\n",
       "  {'@id': '3e838754-5f7f-4bd8-989e-0d1303de2530'},\n",
       "  {'@id': 'a0aac4db-f8f5-4099-b953-abaf17ceedf5'},\n",
       "  {'@id': '87c510c6-78eb-44da-b87d-8a9a0522a0f8'},\n",
       "  {'@id': '5f585dc6-a65c-43a4-b751-d4f75fe37c31'},\n",
       "  {'@id': '59a7983d-bacd-4291-a771-4d8a976b3744'},\n",
       "  {'@id': 'a633cbdc-cbf8-436a-ada4-f1cbb253d1ff'},\n",
       "  {'@id': '198eb180-76f0-4abc-a699-148833a74909'},\n",
       "  {'@id': 'ce53828f-add6-4443-b9e3-c108c6c7409e'},\n",
       "  {'@id': '626ed902-e525-4baf-961e-7f55a1a15e5d'},\n",
       "  {'@id': '23e22290-2aef-4009-8a52-5b4d2eda588b'},\n",
       "  {'@id': 'ca05c025-8bdd-401d-9f70-ddbf9d1280b1'},\n",
       "  {'@id': 'ec3b125a-abe7-430c-a03a-b6bcbe8249b6'},\n",
       "  {'@id': 'd7fceb77-721c-4e05-acc8-762f358c3381'},\n",
       "  {'@id': '903d9afa-c7e7-41c0-9d33-80abedb3ecd0'},\n",
       "  {'@id': '8daf52cb-3621-4a08-ad28-5285d678e2a7'},\n",
       "  {'@id': '1a510772-d24e-4ac6-8f6c-c1c06b053d77'},\n",
       "  {'@id': 'fe4ea120-ccd8-44ad-860f-7a7dc455d1a2'},\n",
       "  {'@id': '79ebf978-7612-4e14-a437-ccbd3f39e4c9'},\n",
       "  {'@id': 'cd250205-b911-45fb-bf2e-01b90a46d6b5'},\n",
       "  {'@id': 'a46bb61c-fb23-49d3-ab21-6bbfe8a02144'},\n",
       "  {'@id': 'e2380f9b-ca83-4e65-b020-40e05704d4c9'},\n",
       "  {'@id': '33325926-ea28-41e8-a1f6-872007e2b2f6'},\n",
       "  {'@id': '148e8bf6-e72e-46bf-9148-208ab0527c80'},\n",
       "  {'@id': 'a91e7ba2-8ca9-499f-9fc1-77d2a3a1135f'},\n",
       "  {'@id': '85959bc8-d190-47d7-8b26-83488e522667'},\n",
       "  {'@id': 'd23c28e2-226a-4259-8e35-7a95e9c58c42'},\n",
       "  {'@id': '6c8ff1a6-1d25-40b5-a21b-fa2651554bfb'},\n",
       "  {'@id': '10f93ead-9429-4415-8a58-bdb76ec31592'},\n",
       "  {'@id': '22e2e826-62df-4cf9-876e-4e558fda4b25'},\n",
       "  {'@id': '89d22a27-ba67-45bc-9191-4e823f683981'},\n",
       "  {'@id': 'd8db04d0-9052-4768-94e4-106098f04be1'},\n",
       "  {'@id': 'f9c1339a-b315-447a-ba3f-c3137601290c'},\n",
       "  {'@id': '9994d7cf-efd7-43ee-845b-3fa17f19d18c'},\n",
       "  {'@id': 'a471bc5d-42f2-4965-971e-e72eece5b271'},\n",
       "  {'@id': '581927dd-179c-4d42-9ce5-48fef1f1f0aa'},\n",
       "  {'@id': '3fc65ae6-0fe0-4b71-89fb-bd8312706daf'},\n",
       "  {'@id': '0d49f9fc-bcad-42c1-835a-18697586e0db'},\n",
       "  {'@id': '8f505208-dfb4-4d9b-809e-2a4205bde5b4'},\n",
       "  {'@id': '674020c0-4062-40d5-8fb9-42c495ffe4d4'},\n",
       "  {'@id': '73573be8-de8b-4ab7-bd02-bd4c3372f17d'},\n",
       "  {'@id': 'df2f5f95-2bb6-4d3b-aa3f-c4b2cf47b474'},\n",
       "  {'@id': '2e2e1dcd-baf4-4893-88f0-5ee6693975a6'},\n",
       "  {'@id': 'dc84b476-482b-451b-893b-9d5c1b4d215a'},\n",
       "  {'@id': 'd3e344ab-48fa-4097-8021-ea1b77028b0c'},\n",
       "  {'@id': '2a0bb824-5b9e-457e-8747-11d5fc68f663'},\n",
       "  {'@id': '907a3a13-e315-4564-bcd5-09154fc87dc4'},\n",
       "  {'@id': 'cdf8e548-9072-48c8-9ada-844546169700'},\n",
       "  {'@id': 'a3302f09-e44e-48ab-84c8-cc270365804a'},\n",
       "  {'@id': 'b860ff04-4d1d-425b-aa02-8acf99fea145'},\n",
       "  {'@id': '5e796739-6cad-4fae-acc7-63eaf98da09f'},\n",
       "  {'@id': 'c2076f54-1702-4f05-b582-db4c65c972a9'},\n",
       "  {'@id': '5604754e-4dc8-442c-a4b1-8edba08d2452'},\n",
       "  {'@id': '2f7c1a6f-e368-4267-bc45-f02493b877c0'},\n",
       "  {'@id': '45ce5275-0957-43f9-aa41-d923cfe4d026'},\n",
       "  {'@id': '86f18091-04c4-4661-b328-38d829cb7952'},\n",
       "  {'@id': 'c650d052-2347-478e-8a91-7d41e91dad98'},\n",
       "  {'@id': '9a77325e-787d-48cf-a598-8be05ea36162'},\n",
       "  {'@id': '099c9963-e7bf-439f-b59f-57961d9706e6'},\n",
       "  {'@id': '7de99d22-4f1d-49e9-8f10-09cb0349a513'},\n",
       "  {'@id': '8b09bc0a-7fd8-402a-9de1-e96d495ebc24'},\n",
       "  {'@id': 'da847883-d504-4303-9dcb-331b5e1b6276'},\n",
       "  {'@id': 'f5a82e94-7fea-4627-8716-31d058afa587'},\n",
       "  {'@id': 'cfc9b7ac-d797-4156-958b-83f62eb524eb'},\n",
       "  {'@id': 'cab1f3a5-8b34-4c71-b210-bd03e20e5a4d'},\n",
       "  {'@id': 'f2e19a6c-b286-4875-b50a-3f5896094a91'},\n",
       "  {'@id': '3dc9bf50-ebda-4c61-ada1-cdbb6bbb6bf7'},\n",
       "  {'@id': '4ac97eaf-6241-4ab6-9f81-970d1593ca67'},\n",
       "  {'@id': '5ca4f4ee-554c-4baa-abfe-65866359966d'},\n",
       "  {'@id': 'b7f3da1d-e206-4955-94d8-f8d9b40c0750'},\n",
       "  {'@id': '64d9b8bc-d38c-4892-b76d-84ee3a4de364'},\n",
       "  {'@id': 'eb48e9db-f8c9-4936-96cd-30a54b343e25'}],\n",
       " 'parameter': [{'@id': '074ed3fa-6388-4d7e-9065-d85d53d41bbe'},\n",
       "  {'@id': '1a81dae4-1c5b-4c04-b7ef-83b50abbe274'},\n",
       "  {'@id': '04619f11-4868-4658-a096-c9c7024f4be5'}],\n",
       " 'member': [{'@id': '074ed3fa-6388-4d7e-9065-d85d53d41bbe'},\n",
       "  {'@id': '1a81dae4-1c5b-4c04-b7ef-83b50abbe274'},\n",
       "  {'@id': '04619f11-4868-4658-a096-c9c7024f4be5'},\n",
       "  {'@id': '29552150-a594-4a1a-b66e-6a79aaccd7df'},\n",
       "  {'@id': 'd837db0e-de83-42ca-99ef-ae528ac15d47'},\n",
       "  {'@id': 'ff571923-bf70-40ab-be4a-9e3ee047ae66'},\n",
       "  {'@id': 'eb08891a-8120-4977-9145-2aeef21d1190'},\n",
       "  {'@id': '1ed8521c-8e1f-5447-98b2-3834d625e318'},\n",
       "  {'@id': 'fb27ecea-d60d-5910-917b-423b2e684e81'},\n",
       "  {'@id': '485fcbcd-71b9-59bc-bf34-6bca6255c31e'},\n",
       "  {'@id': '16c42f5a-39df-5dae-8bba-4ad4424bd606'},\n",
       "  {'@id': 'c64ab43a-790b-5369-b8e4-3382ae24c736'},\n",
       "  {'@id': 'd2f2efc4-b3fe-5807-85bc-416fbebb05f0'},\n",
       "  {'@id': 'e8f51ddc-033f-5438-b112-790cef7beead'},\n",
       "  {'@id': '8c0e1eab-bfcd-48ce-92b9-7ca483a98462'},\n",
       "  {'@id': 'e00899ec-5d00-5a31-9690-3791a3dbbe2e'},\n",
       "  {'@id': '88c07035-e674-4f4f-88dc-d183975a487b'},\n",
       "  {'@id': 'fa859d04-71c3-510a-bdb7-d35d7bc10bee'},\n",
       "  {'@id': '29589f01-c2d8-5525-a9bf-8fd157b61b4f'},\n",
       "  {'@id': 'bffacdad-6769-575f-be46-e30433a5af4d'},\n",
       "  {'@id': '4b10887f-7d5b-4d61-97fc-1c45c4bc823e'},\n",
       "  {'@id': '1055a84d-fed9-571c-8367-7f8a9b3a3ac1'},\n",
       "  {'@id': '42cca478-6f8d-5c19-b990-bc4510c8bea7'},\n",
       "  {'@id': '05fff4e4-cdd3-5942-b213-8df135a6c562'},\n",
       "  {'@id': '43f4a2ef-f178-57b6-b967-458a580f1b87'},\n",
       "  {'@id': 'cdbc7853-3c7e-5c48-9817-2dd245e50317'},\n",
       "  {'@id': 'c5317d0f-35d3-567c-b7de-7f4fa8260ad3'},\n",
       "  {'@id': '0ecb793f-a890-5fbd-b460-c28c791df30c'},\n",
       "  {'@id': '27cd823b-91df-5d0b-967d-25f6c022c384'},\n",
       "  {'@id': '6788277f-7cdd-500a-8b02-39844f659f4f'},\n",
       "  {'@id': '0536eca0-9fdc-5208-87c8-2dcc8356081a'},\n",
       "  {'@id': '36cc01d9-7cf0-54f7-ab42-838ee52d9d1b'},\n",
       "  {'@id': '2ce6ae13-819f-5639-b06e-6872e8624da8'},\n",
       "  {'@id': '0fc0fae0-4b34-5499-ab11-daa8573e22d4'},\n",
       "  {'@id': '39e7ab46-4b77-56c5-be49-cec0a1b784fe'},\n",
       "  {'@id': '9f15f4ff-e883-5ee3-a73f-15730b50b155'},\n",
       "  {'@id': '618024bc-861e-581c-b049-697db6290025'},\n",
       "  {'@id': 'f7162942-e1e4-543d-abef-68b63eea0e30'},\n",
       "  {'@id': '5bfcd8de-eaed-4b83-a571-1cde09e1d8de'},\n",
       "  {'@id': 'c38c598e-c640-51ca-be77-4fbd9254c9d1'},\n",
       "  {'@id': '1fbfad0c-409b-4329-a255-d34b53934557'},\n",
       "  {'@id': 'faf13619-5fb6-5a19-871e-e14767f89a28'},\n",
       "  {'@id': 'b9db8f58-131b-56fb-9a18-01bd8f2870df'},\n",
       "  {'@id': 'f44ce934-e087-5c0c-a24a-8280cf69df84'},\n",
       "  {'@id': '2012913c-a576-5118-9dcb-5b26a927b16a'},\n",
       "  {'@id': '2b9660c5-2b98-5ecd-bf09-32a62ff6be1e'},\n",
       "  {'@id': '16d22aba-940a-4e8c-8b37-b72f12daa669'},\n",
       "  {'@id': '5a7f6ed4-62ad-5556-8824-4c59333e8d87'},\n",
       "  {'@id': '232c0d78-db6e-5363-9e8d-54426e6a8ab4'},\n",
       "  {'@id': '8f325094-2f07-5075-84a2-e20f64999145'},\n",
       "  {'@id': 'd436a313-ae58-4e7b-8bd3-7b8b68bdfa32'},\n",
       "  {'@id': 'fe69ecea-18c0-44f2-aa22-5a5bfe29b2fc'},\n",
       "  {'@id': '9d7114c7-3920-502b-a085-31836fb7fe77'},\n",
       "  {'@id': 'f60dc463-a437-4693-ace4-88f7ee24e044'},\n",
       "  {'@id': '80a5b391-d7f4-5d7a-b061-b06c397d4a0c'},\n",
       "  {'@id': '817763b4-4fcd-5d8e-8934-9591df7f05cb'},\n",
       "  {'@id': 'acbd427f-8ecf-59a6-9c9f-bf9854908e42'},\n",
       "  {'@id': 'd1560b5a-db03-5b99-9bbf-1bd3883ef262'},\n",
       "  {'@id': 'e95dbcde-8fb8-52dc-9199-ee01e4ce3699'},\n",
       "  {'@id': '58f2f1ae-60e3-46c7-8c40-54ea6d04e96f'},\n",
       "  {'@id': 'eba60b10-4da7-5503-907b-4bbd67bf477a'},\n",
       "  {'@id': '598a3b9b-9b07-4a97-a51f-b484eb581ca1'},\n",
       "  {'@id': 'b8c04581-14c0-5fd6-8670-746d1853850e'},\n",
       "  {'@id': 'c4886ea7-0704-4f26-be31-24251faf575a'},\n",
       "  {'@id': 'e24b4cdf-0f1e-5b60-a62a-b09e0d1e6956'},\n",
       "  {'@id': 'a4d21db8-87e3-542d-a5de-df08f3486f65'},\n",
       "  {'@id': '4d31567e-c985-4da9-98b6-3be4608cab3a'},\n",
       "  {'@id': '340cd2d4-f01d-5027-8aa0-419369abce3c'},\n",
       "  {'@id': '1c8f6c51-daa8-5e32-999e-831c4b7be22f'},\n",
       "  {'@id': '548a9ba2-9838-4c6d-81b9-1a566a1fa70e'},\n",
       "  {'@id': 'd95447f4-f911-4629-b6a1-87c40ce44d6f'},\n",
       "  {'@id': '66b0ab8a-dcb1-4ae4-af48-342e379dd490'},\n",
       "  {'@id': '3deaea3b-b366-40ba-aaae-364ec46c20a0'},\n",
       "  {'@id': 'c82148c3-4c46-5d1a-81cb-d06b9af86b16'},\n",
       "  {'@id': '741ea0aa-b16b-5b44-ac46-564c85d4f05d'},\n",
       "  {'@id': 'f9e920cc-2ec4-56b3-9920-8e5dbbc50a5a'},\n",
       "  {'@id': '68590510-93f8-4a59-842d-43b4e2ebf919'},\n",
       "  {'@id': '951532be-ca58-5725-816f-80d3ff0918f8'},\n",
       "  {'@id': '8ae6a39e-3208-4ca0-9f2f-efed8710af6c'},\n",
       "  {'@id': 'c88a7695-4294-5588-9bcc-c295513c4eb9'},\n",
       "  {'@id': '968b3a18-112f-5b6a-b09b-c0732c50f69a'},\n",
       "  {'@id': '14c365b2-de60-428d-9a10-0510ae196e35'},\n",
       "  {'@id': '1e5d1a3b-0bcf-5091-b752-ea77bfb96708'},\n",
       "  {'@id': '23eed4d1-9254-59a8-ae68-912966ed1d14'},\n",
       "  {'@id': '5776dd9f-de7b-5498-8da5-006a6c79a52a'},\n",
       "  {'@id': '87ed453a-3c8d-50cc-93d9-f9d9ad7817a6'},\n",
       "  {'@id': 'e0cfeed5-2e5e-42dd-aa93-9da81895500a'},\n",
       "  {'@id': '6a9fdb40-cdd6-4ab3-9f8a-c6dc3f923bbb'},\n",
       "  {'@id': '374268d9-4253-470d-bcfd-78b69650b917'},\n",
       "  {'@id': 'ad52df82-1107-4b6b-9b9a-c2273e60f658'},\n",
       "  {'@id': 'fc76137c-7d12-4fd9-a680-c655cdfc98aa'},\n",
       "  {'@id': '485fa2fc-a5a7-4b81-b779-aae25b65930a'},\n",
       "  {'@id': 'dbd75b49-0e57-5cf9-ba35-9f8843b1e657'},\n",
       "  {'@id': 'eadeda19-1940-40d7-a5f9-55e3f34bed89'},\n",
       "  {'@id': '1092cf07-aa34-4e6b-8ee6-a76ed3698bef'},\n",
       "  {'@id': '17104a83-f5c0-41fc-80f6-56484e807f3c'},\n",
       "  {'@id': 'b37d0058-6b4f-49b9-9088-cf3bec45b77b'},\n",
       "  {'@id': '820c9c53-3023-4e5a-be6f-0794b58af8ca'},\n",
       "  {'@id': 'b91365da-115e-52ca-a252-466bf457aece'},\n",
       "  {'@id': 'f2273767-31df-5795-bc4d-cd094c7178d4'},\n",
       "  {'@id': '3c9892f0-8c54-4f38-adc6-520447eba141'},\n",
       "  {'@id': '0f5e5412-9ad7-4409-9267-68f4432ecc6f'},\n",
       "  {'@id': '90d85635-bcdd-4759-9016-7b708af1770d'},\n",
       "  {'@id': 'cb2971d3-5a76-41c6-954f-314611baf315'}],\n",
       " 'ownedEndFeature': [],\n",
       " 'ownedFeatureMembership': [{'@id': '7b93c28b-d30a-4c87-9e48-dd34781f2c7e'},\n",
       "  {'@id': '3a74f544-a714-4335-802a-348b28cfcf5e'},\n",
       "  {'@id': 'c6c2e9a3-9a6b-4692-aea5-54af5f36d97e'}],\n",
       " 'inheritedFeature': [{'@id': '1ed8521c-8e1f-5447-98b2-3834d625e318'},\n",
       "  {'@id': 'fb27ecea-d60d-5910-917b-423b2e684e81'},\n",
       "  {'@id': '485fcbcd-71b9-59bc-bf34-6bca6255c31e'},\n",
       "  {'@id': '16c42f5a-39df-5dae-8bba-4ad4424bd606'},\n",
       "  {'@id': 'c64ab43a-790b-5369-b8e4-3382ae24c736'},\n",
       "  {'@id': 'd2f2efc4-b3fe-5807-85bc-416fbebb05f0'},\n",
       "  {'@id': 'e8f51ddc-033f-5438-b112-790cef7beead'},\n",
       "  {'@id': '8c0e1eab-bfcd-48ce-92b9-7ca483a98462'},\n",
       "  {'@id': 'e00899ec-5d00-5a31-9690-3791a3dbbe2e'},\n",
       "  {'@id': 'fa859d04-71c3-510a-bdb7-d35d7bc10bee'},\n",
       "  {'@id': '29589f01-c2d8-5525-a9bf-8fd157b61b4f'},\n",
       "  {'@id': 'bffacdad-6769-575f-be46-e30433a5af4d'},\n",
       "  {'@id': '4b10887f-7d5b-4d61-97fc-1c45c4bc823e'},\n",
       "  {'@id': '1055a84d-fed9-571c-8367-7f8a9b3a3ac1'},\n",
       "  {'@id': '42cca478-6f8d-5c19-b990-bc4510c8bea7'},\n",
       "  {'@id': '05fff4e4-cdd3-5942-b213-8df135a6c562'},\n",
       "  {'@id': '43f4a2ef-f178-57b6-b967-458a580f1b87'},\n",
       "  {'@id': 'cdbc7853-3c7e-5c48-9817-2dd245e50317'},\n",
       "  {'@id': 'c5317d0f-35d3-567c-b7de-7f4fa8260ad3'},\n",
       "  {'@id': '0ecb793f-a890-5fbd-b460-c28c791df30c'},\n",
       "  {'@id': '27cd823b-91df-5d0b-967d-25f6c022c384'},\n",
       "  {'@id': '6788277f-7cdd-500a-8b02-39844f659f4f'},\n",
       "  {'@id': '0536eca0-9fdc-5208-87c8-2dcc8356081a'},\n",
       "  {'@id': '36cc01d9-7cf0-54f7-ab42-838ee52d9d1b'},\n",
       "  {'@id': '2ce6ae13-819f-5639-b06e-6872e8624da8'},\n",
       "  {'@id': '0fc0fae0-4b34-5499-ab11-daa8573e22d4'},\n",
       "  {'@id': '39e7ab46-4b77-56c5-be49-cec0a1b784fe'},\n",
       "  {'@id': '9f15f4ff-e883-5ee3-a73f-15730b50b155'},\n",
       "  {'@id': '618024bc-861e-581c-b049-697db6290025'},\n",
       "  {'@id': 'f7162942-e1e4-543d-abef-68b63eea0e30'},\n",
       "  {'@id': '5bfcd8de-eaed-4b83-a571-1cde09e1d8de'},\n",
       "  {'@id': 'c38c598e-c640-51ca-be77-4fbd9254c9d1'},\n",
       "  {'@id': '1fbfad0c-409b-4329-a255-d34b53934557'},\n",
       "  {'@id': 'faf13619-5fb6-5a19-871e-e14767f89a28'},\n",
       "  {'@id': 'b9db8f58-131b-56fb-9a18-01bd8f2870df'},\n",
       "  {'@id': 'f44ce934-e087-5c0c-a24a-8280cf69df84'},\n",
       "  {'@id': '2012913c-a576-5118-9dcb-5b26a927b16a'},\n",
       "  {'@id': '2b9660c5-2b98-5ecd-bf09-32a62ff6be1e'},\n",
       "  {'@id': '16d22aba-940a-4e8c-8b37-b72f12daa669'},\n",
       "  {'@id': '5a7f6ed4-62ad-5556-8824-4c59333e8d87'},\n",
       "  {'@id': '232c0d78-db6e-5363-9e8d-54426e6a8ab4'},\n",
       "  {'@id': '8f325094-2f07-5075-84a2-e20f64999145'},\n",
       "  {'@id': 'd436a313-ae58-4e7b-8bd3-7b8b68bdfa32'},\n",
       "  {'@id': 'fe69ecea-18c0-44f2-aa22-5a5bfe29b2fc'},\n",
       "  {'@id': '9d7114c7-3920-502b-a085-31836fb7fe77'},\n",
       "  {'@id': 'f60dc463-a437-4693-ace4-88f7ee24e044'},\n",
       "  {'@id': '80a5b391-d7f4-5d7a-b061-b06c397d4a0c'},\n",
       "  {'@id': '817763b4-4fcd-5d8e-8934-9591df7f05cb'},\n",
       "  {'@id': 'acbd427f-8ecf-59a6-9c9f-bf9854908e42'},\n",
       "  {'@id': 'd1560b5a-db03-5b99-9bbf-1bd3883ef262'},\n",
       "  {'@id': 'e95dbcde-8fb8-52dc-9199-ee01e4ce3699'},\n",
       "  {'@id': '58f2f1ae-60e3-46c7-8c40-54ea6d04e96f'},\n",
       "  {'@id': 'eba60b10-4da7-5503-907b-4bbd67bf477a'},\n",
       "  {'@id': '598a3b9b-9b07-4a97-a51f-b484eb581ca1'},\n",
       "  {'@id': 'b8c04581-14c0-5fd6-8670-746d1853850e'},\n",
       "  {'@id': 'c4886ea7-0704-4f26-be31-24251faf575a'},\n",
       "  {'@id': 'e24b4cdf-0f1e-5b60-a62a-b09e0d1e6956'},\n",
       "  {'@id': 'a4d21db8-87e3-542d-a5de-df08f3486f65'},\n",
       "  {'@id': '4d31567e-c985-4da9-98b6-3be4608cab3a'},\n",
       "  {'@id': '340cd2d4-f01d-5027-8aa0-419369abce3c'},\n",
       "  {'@id': '1c8f6c51-daa8-5e32-999e-831c4b7be22f'},\n",
       "  {'@id': '548a9ba2-9838-4c6d-81b9-1a566a1fa70e'},\n",
       "  {'@id': 'd95447f4-f911-4629-b6a1-87c40ce44d6f'},\n",
       "  {'@id': '66b0ab8a-dcb1-4ae4-af48-342e379dd490'},\n",
       "  {'@id': '3deaea3b-b366-40ba-aaae-364ec46c20a0'},\n",
       "  {'@id': 'c82148c3-4c46-5d1a-81cb-d06b9af86b16'},\n",
       "  {'@id': '741ea0aa-b16b-5b44-ac46-564c85d4f05d'},\n",
       "  {'@id': 'f9e920cc-2ec4-56b3-9920-8e5dbbc50a5a'},\n",
       "  {'@id': '68590510-93f8-4a59-842d-43b4e2ebf919'},\n",
       "  {'@id': '951532be-ca58-5725-816f-80d3ff0918f8'},\n",
       "  {'@id': '8ae6a39e-3208-4ca0-9f2f-efed8710af6c'},\n",
       "  {'@id': 'c88a7695-4294-5588-9bcc-c295513c4eb9'},\n",
       "  {'@id': '968b3a18-112f-5b6a-b09b-c0732c50f69a'},\n",
       "  {'@id': '14c365b2-de60-428d-9a10-0510ae196e35'},\n",
       "  {'@id': '1e5d1a3b-0bcf-5091-b752-ea77bfb96708'},\n",
       "  {'@id': '23eed4d1-9254-59a8-ae68-912966ed1d14'},\n",
       "  {'@id': '5776dd9f-de7b-5498-8da5-006a6c79a52a'},\n",
       "  {'@id': '87ed453a-3c8d-50cc-93d9-f9d9ad7817a6'},\n",
       "  {'@id': 'dbd75b49-0e57-5cf9-ba35-9f8843b1e657'},\n",
       "  {'@id': 'b91365da-115e-52ca-a252-466bf457aece'},\n",
       "  {'@id': 'f2273767-31df-5795-bc4d-cd094c7178d4'}],\n",
       " 'behavior': [{'@id': 'e70973e0-c3b2-5219-9d0d-ed166cef5a10'}],\n",
       " 'owner': {'@id': '72e78629-c942-5948-a3ee-cbb22eb96217'},\n",
       " 'importedMembership': [],\n",
       " 'ownedElement': [{'@id': '074ed3fa-6388-4d7e-9065-d85d53d41bbe'},\n",
       "  {'@id': '1a81dae4-1c5b-4c04-b7ef-83b50abbe274'},\n",
       "  {'@id': '04619f11-4868-4658-a096-c9c7024f4be5'}],\n",
       " 'owningRelationship': {'@id': 'e6efc1de-e88b-4af2-9c45-41f70f57bfb1'},\n",
       " 'isModelLevelEvaluable': False,\n",
       " 'aliasIds': [],\n",
       " 'ownedRelationship': [{'@id': '7b93c28b-d30a-4c87-9e48-dd34781f2c7e'},\n",
       "  {'@id': '3a74f544-a714-4335-802a-348b28cfcf5e'},\n",
       "  {'@id': 'c6c2e9a3-9a6b-4692-aea5-54af5f36d97e'},\n",
       "  {'@id': '7f0ee65f-5e73-4abe-aac7-385b71728ad8'},\n",
       "  {'@id': '66e84eb5-87b6-4878-b986-db733cb598c7'},\n",
       "  {'@id': '2b23d9f9-7f1e-4b41-98f4-d7bd40036b12'}],\n",
       " 'featureMembership': [{'@id': '7b93c28b-d30a-4c87-9e48-dd34781f2c7e'},\n",
       "  {'@id': '3a74f544-a714-4335-802a-348b28cfcf5e'},\n",
       "  {'@id': 'c6c2e9a3-9a6b-4692-aea5-54af5f36d97e'},\n",
       "  {'@id': 'cf154dd6-6e11-41b2-8180-87dad97933cb'},\n",
       "  {'@id': '434fa22c-6681-4e12-b32a-efde854a79d2'},\n",
       "  {'@id': '42e3bbe0-c8cd-4365-8d85-f61ad1100b09'},\n",
       "  {'@id': 'ed9a27df-0791-46a5-b94f-f82d1a543619'},\n",
       "  {'@id': 'b7162499-b8a6-42c1-a8b7-f58a5235a036'},\n",
       "  {'@id': '09587595-f499-4d1a-a292-8d75f7f5b832'},\n",
       "  {'@id': 'd75595f8-6746-4189-92ee-47af3ddb005d'},\n",
       "  {'@id': '60fa17f5-f0d7-4e73-bd6e-c960eec6a53c'},\n",
       "  {'@id': '778cdece-c31e-48df-9132-b838474a0180'},\n",
       "  {'@id': '4ef2d48c-9045-4e26-834d-0f263301ae5f'},\n",
       "  {'@id': '9d2238e0-d1a9-45ae-afef-8b721e279f4e'},\n",
       "  {'@id': 'fd9e72dc-1501-4a5b-b59c-4ee8ef47b8b1'},\n",
       "  {'@id': '752540ad-b8b6-430d-a8b2-2e9b389529a0'},\n",
       "  {'@id': '7479ef9f-ca69-493b-b37f-ef0abb922338'},\n",
       "  {'@id': 'e4b0a6e1-60d0-4ca0-9ae3-c718ab38645b'},\n",
       "  {'@id': '0cdd4833-734f-46fd-8c2a-ae7f73782d83'},\n",
       "  {'@id': 'a3c166f6-21af-4b80-aa1a-7ceecb65848c'},\n",
       "  {'@id': 'f1bb9c3a-df67-47c7-bc46-46436270e1a3'},\n",
       "  {'@id': '377be6ab-8344-46c2-994d-6101572a86ff'},\n",
       "  {'@id': '03f308f9-6b56-4b1b-8d24-cfe811218aa0'},\n",
       "  {'@id': '0fe71085-0a63-45e4-ab52-a6db1cdef520'},\n",
       "  {'@id': 'db2e7103-c8a7-482d-b154-5a8b42f017f0'},\n",
       "  {'@id': 'dddf9b52-5c3a-4594-9eeb-621e4a5c9f8b'},\n",
       "  {'@id': 'c35e3e70-7764-4780-8852-bdc9eed600be'},\n",
       "  {'@id': 'a000ae16-8de8-45ab-af6a-60895d092902'},\n",
       "  {'@id': '3e838754-5f7f-4bd8-989e-0d1303de2530'},\n",
       "  {'@id': 'a0aac4db-f8f5-4099-b953-abaf17ceedf5'},\n",
       "  {'@id': '87c510c6-78eb-44da-b87d-8a9a0522a0f8'},\n",
       "  {'@id': '5f585dc6-a65c-43a4-b751-d4f75fe37c31'},\n",
       "  {'@id': '59a7983d-bacd-4291-a771-4d8a976b3744'},\n",
       "  {'@id': 'a633cbdc-cbf8-436a-ada4-f1cbb253d1ff'},\n",
       "  {'@id': '198eb180-76f0-4abc-a699-148833a74909'},\n",
       "  {'@id': 'ce53828f-add6-4443-b9e3-c108c6c7409e'},\n",
       "  {'@id': '626ed902-e525-4baf-961e-7f55a1a15e5d'},\n",
       "  {'@id': '23e22290-2aef-4009-8a52-5b4d2eda588b'},\n",
       "  {'@id': 'ca05c025-8bdd-401d-9f70-ddbf9d1280b1'},\n",
       "  {'@id': 'ec3b125a-abe7-430c-a03a-b6bcbe8249b6'},\n",
       "  {'@id': 'd7fceb77-721c-4e05-acc8-762f358c3381'},\n",
       "  {'@id': '903d9afa-c7e7-41c0-9d33-80abedb3ecd0'},\n",
       "  {'@id': '8daf52cb-3621-4a08-ad28-5285d678e2a7'},\n",
       "  {'@id': '1a510772-d24e-4ac6-8f6c-c1c06b053d77'},\n",
       "  {'@id': 'fe4ea120-ccd8-44ad-860f-7a7dc455d1a2'},\n",
       "  {'@id': '79ebf978-7612-4e14-a437-ccbd3f39e4c9'},\n",
       "  {'@id': 'cd250205-b911-45fb-bf2e-01b90a46d6b5'},\n",
       "  {'@id': 'a46bb61c-fb23-49d3-ab21-6bbfe8a02144'},\n",
       "  {'@id': 'e2380f9b-ca83-4e65-b020-40e05704d4c9'},\n",
       "  {'@id': '33325926-ea28-41e8-a1f6-872007e2b2f6'},\n",
       "  {'@id': '148e8bf6-e72e-46bf-9148-208ab0527c80'},\n",
       "  {'@id': 'a91e7ba2-8ca9-499f-9fc1-77d2a3a1135f'},\n",
       "  {'@id': '85959bc8-d190-47d7-8b26-83488e522667'},\n",
       "  {'@id': 'd23c28e2-226a-4259-8e35-7a95e9c58c42'},\n",
       "  {'@id': '6c8ff1a6-1d25-40b5-a21b-fa2651554bfb'},\n",
       "  {'@id': '10f93ead-9429-4415-8a58-bdb76ec31592'},\n",
       "  {'@id': '22e2e826-62df-4cf9-876e-4e558fda4b25'},\n",
       "  {'@id': '89d22a27-ba67-45bc-9191-4e823f683981'},\n",
       "  {'@id': 'd8db04d0-9052-4768-94e4-106098f04be1'},\n",
       "  {'@id': 'f9c1339a-b315-447a-ba3f-c3137601290c'},\n",
       "  {'@id': '9994d7cf-efd7-43ee-845b-3fa17f19d18c'},\n",
       "  {'@id': 'a471bc5d-42f2-4965-971e-e72eece5b271'},\n",
       "  {'@id': '581927dd-179c-4d42-9ce5-48fef1f1f0aa'},\n",
       "  {'@id': '3fc65ae6-0fe0-4b71-89fb-bd8312706daf'},\n",
       "  {'@id': '0d49f9fc-bcad-42c1-835a-18697586e0db'},\n",
       "  {'@id': '8f505208-dfb4-4d9b-809e-2a4205bde5b4'},\n",
       "  {'@id': '674020c0-4062-40d5-8fb9-42c495ffe4d4'},\n",
       "  {'@id': '73573be8-de8b-4ab7-bd02-bd4c3372f17d'},\n",
       "  {'@id': 'df2f5f95-2bb6-4d3b-aa3f-c4b2cf47b474'},\n",
       "  {'@id': '2e2e1dcd-baf4-4893-88f0-5ee6693975a6'},\n",
       "  {'@id': 'dc84b476-482b-451b-893b-9d5c1b4d215a'},\n",
       "  {'@id': 'd3e344ab-48fa-4097-8021-ea1b77028b0c'},\n",
       "  {'@id': '2a0bb824-5b9e-457e-8747-11d5fc68f663'},\n",
       "  {'@id': '907a3a13-e315-4564-bcd5-09154fc87dc4'},\n",
       "  {'@id': 'cdf8e548-9072-48c8-9ada-844546169700'},\n",
       "  {'@id': 'a3302f09-e44e-48ab-84c8-cc270365804a'},\n",
       "  {'@id': 'b860ff04-4d1d-425b-aa02-8acf99fea145'},\n",
       "  {'@id': '5e796739-6cad-4fae-acc7-63eaf98da09f'},\n",
       "  {'@id': 'c2076f54-1702-4f05-b582-db4c65c972a9'},\n",
       "  {'@id': '5604754e-4dc8-442c-a4b1-8edba08d2452'},\n",
       "  {'@id': '2f7c1a6f-e368-4267-bc45-f02493b877c0'},\n",
       "  {'@id': '8b09bc0a-7fd8-402a-9de1-e96d495ebc24'},\n",
       "  {'@id': '3dc9bf50-ebda-4c61-ada1-cdbb6bbb6bf7'},\n",
       "  {'@id': '4ac97eaf-6241-4ab6-9f81-970d1593ca67'}],\n",
       " 'ownedImport': [],\n",
       " 'isAbstract': False,\n",
       " 'differencingType': [],\n",
       " 'ownedUnioning': [],\n",
       " 'unioningType': [],\n",
       " 'ownedSpecialization': [{'@id': '7f0ee65f-5e73-4abe-aac7-385b71728ad8'},\n",
       "  {'@id': '66e84eb5-87b6-4878-b986-db733cb598c7'},\n",
       "  {'@id': '2b23d9f9-7f1e-4b41-98f4-d7bd40036b12'}],\n",
       " 'ownedIntersecting': [],\n",
       " 'ownedFeatureInverting': [],\n",
       " '@id': '9d12da66-ae62-49f4-ac27-a348e1509fd4'}"
      ]
     },
     "execution_count": 48,
     "metadata": {},
     "output_type": "execute_result"
    }
   ],
   "source": [
    "vfunc_ns.throughOwningMembership[0].throughOwningMembership[3].throughFeatureMembership[2].throughResultExpressionMembership[0]._data"
   ]
  },
  {
   "cell_type": "code",
   "execution_count": 49,
   "id": "76cbf449-bfc6-46f8-8c46-cc5c71cc86e3",
   "metadata": {},
   "outputs": [
    {
     "data": {
      "text/plain": [
       "defaultdict(list,\n",
       "            {'reverseTypeFeaturing': [{'@id': 'eb519cd4-9051-4b3e-ab32-36666dc29a64'},\n",
       "              {'@id': 'c24acac0-7af5-4c62-84c2-1f73899d868f'}],\n",
       "             'throughParameterMembership': [{'@id': '074ed3fa-6388-4d7e-9065-d85d53d41bbe'},\n",
       "              {'@id': '1a81dae4-1c5b-4c04-b7ef-83b50abbe274'}],\n",
       "             'throughReturnParameterMembership': [{'@id': '04619f11-4868-4658-a096-c9c7024f4be5'}],\n",
       "             'throughSubsetting': [{'@id': 'c590aa58-6c78-5aeb-b1c9-a784abcb2e29'},\n",
       "              {'@id': 'd2f2efc4-b3fe-5807-85bc-416fbebb05f0'}],\n",
       "             'throughFeatureTyping': [{'@id': 'e70973e0-c3b2-5219-9d0d-ed166cef5a10'}],\n",
       "             'reverseResultExpressionMembership': [{'@id': '72e78629-c942-5948-a3ee-cbb22eb96217'}],\n",
       "             'label': 'w == null or isZeroVector(w) implies u == w «OperatorExpression»'})"
      ]
     },
     "execution_count": 49,
     "metadata": {},
     "output_type": "execute_result"
    }
   ],
   "source": [
    "vfunc_ns.throughOwningMembership[0].throughOwningMembership[3].throughFeatureMembership[2].throughResultExpressionMembership[0]._derived"
   ]
  },
  {
   "cell_type": "code",
   "execution_count": 50,
   "id": "af30f864-b0e0-4d5c-9c59-90adb47c2726",
   "metadata": {},
   "outputs": [
    {
     "data": {
      "text/plain": [
       "defaultdict(list,\n",
       "            {'throughFeatureValue': [{'@id': 'c24acac0-7af5-4c62-84c2-1f73899d868f'}],\n",
       "             'throughRedefinition': [{'@id': '3668fb4c-f02c-512e-ac66-ed3d8f275f5f'}],\n",
       "             'reverseParameterMembership': [{'@id': '9d12da66-ae62-49f4-ac27-a348e1509fd4'}],\n",
       "             'label': 'secondValue: Evaluation «Feature»'})"
      ]
     },
     "execution_count": 50,
     "metadata": {},
     "output_type": "execute_result"
    }
   ],
   "source": [
    "vfunc_ns.throughOwningMembership[0].throughOwningMembership[3].throughFeatureMembership[2].\\\n",
    "    throughResultExpressionMembership[0].throughParameterMembership[1]._derived"
   ]
  },
  {
   "cell_type": "code",
   "execution_count": 51,
   "id": "c23d9c09-f737-4808-ad4b-75edc754c830",
   "metadata": {},
   "outputs": [
    {
     "data": {
      "text/plain": [
       "u == w «FeatureReferenceExpression»"
      ]
     },
     "execution_count": 51,
     "metadata": {},
     "output_type": "execute_result"
    }
   ],
   "source": [
    "fre_trial = vfunc_ns.throughOwningMembership[0].throughOwningMembership[3].throughFeatureMembership[2].\\\n",
    "    throughResultExpressionMembership[0].throughParameterMembership[1].throughFeatureValue[0]\n",
    "fre_trial"
   ]
  },
  {
   "cell_type": "code",
   "execution_count": 52,
   "id": "0ffeb864-da4f-4d74-b3b2-3da75c599989",
   "metadata": {},
   "outputs": [
    {
     "data": {
      "text/plain": [
       "defaultdict(list,\n",
       "            {'throughFeatureMembership': [{'@id': 'c3489314-9ca2-4111-a336-7b64821dfa74'},\n",
       "              {'@id': 'ebf79d6e-ac1e-46f5-a2d7-32f3e4dbbb49'}],\n",
       "             'throughReturnParameterMembership': [{'@id': '6af1d230-020d-42e5-a083-3936134ff365'}],\n",
       "             'throughSubsetting': [{'@id': 'c590aa58-6c78-5aeb-b1c9-a784abcb2e29'}],\n",
       "             'throughTypeFeaturing': [{'@id': '9d12da66-ae62-49f4-ac27-a348e1509fd4'}],\n",
       "             'reverseFeatureValue': [{'@id': '1a81dae4-1c5b-4c04-b7ef-83b50abbe274'}],\n",
       "             'label': 'u == w «FeatureReferenceExpression»'})"
      ]
     },
     "execution_count": 52,
     "metadata": {},
     "output_type": "execute_result"
    }
   ],
   "source": [
    "fre_trial._derived"
   ]
  },
  {
   "cell_type": "code",
   "execution_count": 53,
   "id": "3dfed934-8109-4c79-b4d2-ab5ab66384b3",
   "metadata": {},
   "outputs": [
    {
     "data": {
      "text/plain": [
       "[u == w «OperatorExpression»,\n",
       " «BindingConnector» ([u == w «OperatorExpression»] ←→ [result: == «Feature»])]"
      ]
     },
     "execution_count": 53,
     "metadata": {},
     "output_type": "execute_result"
    }
   ],
   "source": [
    "fre_trial.throughFeatureMembership"
   ]
  },
  {
   "cell_type": "code",
   "execution_count": 54,
   "id": "3618d019-fdde-4eb3-a285-168625e6ea8a",
   "metadata": {},
   "outputs": [
    {
     "data": {
      "text/plain": [
       "[result: Boolean «Feature»]"
      ]
     },
     "execution_count": 54,
     "metadata": {},
     "output_type": "execute_result"
    }
   ],
   "source": [
    "vfunc_ns.throughOwningMembership[0].throughOwningMembership[3].throughFeatureMembership[2].throughReturnParameterMembership"
   ]
  }
 ],
 "metadata": {
  "kernelspec": {
   "display_name": "Python 3 (ipykernel)",
   "language": "python",
   "name": "python3"
  },
  "language_info": {
   "codemirror_mode": {
    "name": "ipython",
    "version": 3
   },
   "file_extension": ".py",
   "mimetype": "text/x-python",
   "name": "python",
   "nbconvert_exporter": "python",
   "pygments_lexer": "ipython3",
   "version": "3.9.6"
  }
 },
 "nbformat": 4,
 "nbformat_minor": 5
}
