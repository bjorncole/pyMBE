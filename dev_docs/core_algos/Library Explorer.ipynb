{
 "cells": [
  {
   "cell_type": "markdown",
   "id": "f2a7ea9a-002e-43c4-ade8-1d3192bdb507",
   "metadata": {},
   "source": [
    "# Library Explorer\n",
    "\n",
    "Open up KerML semantic library and explore how pyMBE renders it."
   ]
  },
  {
   "cell_type": "code",
   "execution_count": null,
   "id": "52e7a6dd-94c1-4062-9f5f-ecc3bfc6e26c",
   "metadata": {},
   "outputs": [],
   "source": []
  }
 ],
 "metadata": {
  "kernelspec": {
   "display_name": "Python 3 (ipykernel)",
   "language": "python",
   "name": "python3"
  },
  "language_info": {
   "codemirror_mode": {
    "name": "ipython",
    "version": 3
   },
   "file_extension": ".py",
   "mimetype": "text/x-python",
   "name": "python",
   "nbconvert_exporter": "python",
   "pygments_lexer": "ipython3",
   "version": "3.9.6"
  }
 },
 "nbformat": 4,
 "nbformat_minor": 5
}
