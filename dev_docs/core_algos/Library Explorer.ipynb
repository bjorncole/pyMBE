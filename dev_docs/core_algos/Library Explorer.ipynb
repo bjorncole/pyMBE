{
 "cells": [
  {
   "cell_type": "markdown",
   "id": "f2a7ea9a-002e-43c4-ade8-1d3192bdb507",
   "metadata": {},
   "source": [
    "# Library Explorer\n",
    "\n",
    "Open up KerML semantic library and explore how pyMBE renders it."
   ]
  },
  {
   "cell_type": "code",
   "execution_count": 1,
   "id": "813893a6-0fec-461d-bd28-b955b525c589",
   "metadata": {},
   "outputs": [],
   "source": [
    "import json\n",
    "from importlib import resources as lib_resources\n",
    "import pymbe.api as pm"
   ]
  },
  {
   "cell_type": "code",
   "execution_count": 2,
   "id": "52e7a6dd-94c1-4062-9f5f-ecc3bfc6e26c",
   "metadata": {},
   "outputs": [
    {
     "name": "stderr",
     "output_type": "stream",
     "text": [
      "c:\\users\\bjorn cole\\documents\\github\\pymbe\\src\\pymbe\\label.py:126: UserWarning: Cannot process Expression elements yet!\n",
      "  warn(f\"Cannot process {expression._metatype} elements yet!\")\n",
      "c:\\users\\bjorn cole\\documents\\github\\pymbe\\src\\pymbe\\label.py:126: UserWarning: Cannot process NullExpression elements yet!\n",
      "  warn(f\"Cannot process {expression._metatype} elements yet!\")\n",
      "c:\\users\\bjorn cole\\documents\\github\\pymbe\\src\\pymbe\\label.py:126: UserWarning: Cannot process BooleanExpression elements yet!\n",
      "  warn(f\"Cannot process {expression._metatype} elements yet!\")\n"
     ]
    }
   ],
   "source": [
    "library_model = None\n",
    "\n",
    "with lib_resources.path(\"pymbe.static_data\", \"KernelLibrary.json\") as lib_data:\n",
    "    library_model = pm.Model.load_from_post_file(lib_data)"
   ]
  },
  {
   "cell_type": "code",
   "execution_count": null,
   "id": "da17467f-eb1b-4cec-b1ea-51c6e25dac43",
   "metadata": {},
   "outputs": [],
   "source": []
  }
 ],
 "metadata": {
  "kernelspec": {
   "display_name": "Python 3 (ipykernel)",
   "language": "python",
   "name": "python3"
  },
  "language_info": {
   "codemirror_mode": {
    "name": "ipython",
    "version": 3
   },
   "file_extension": ".py",
   "mimetype": "text/x-python",
   "name": "python",
   "nbconvert_exporter": "python",
   "pygments_lexer": "ipython3",
   "version": "3.9.6"
  }
 },
 "nbformat": 4,
 "nbformat_minor": 5
}
