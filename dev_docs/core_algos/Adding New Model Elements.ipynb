{
 "cells": [
  {
   "cell_type": "markdown",
   "id": "2e67ffa6-c30a-4017-be1d-044dba065f78",
   "metadata": {},
   "source": [
    "# Adding New Model Elements\n",
    "\n",
    "This notebook walks through adding in-memory elements via PyMBE and tracking the additions to support updating model repositories after a session."
   ]
  },
  {
   "cell_type": "code",
   "execution_count": 1,
   "id": "9e5cee07-82e9-43cf-80ea-37b4c621ac8f",
   "metadata": {},
   "outputs": [],
   "source": [
    "import pymbe.api as pm\n",
    "from importlib import resources as lib_resources\n",
    "\n",
    "from uuid import uuid4\n",
    "\n",
    "from pymbe.model import Element\n",
    "from pymbe.model import MetaModel\n",
    "from pymbe.model_modification import \\\n",
    "    build_from_classifier_pattern, new_element_ownership_pattern, build_from_feature_pattern, apply_covered_feature_pattern\n",
    "\n",
    "from pymbe.metamodel import \\\n",
    "    get_more_general_types, derive_inherited_featurememberships\n",
    "\n",
    "from pymbe.query.metamodel_navigator import get_effective_basic_name"
   ]
  },
  {
   "cell_type": "markdown",
   "id": "0345f45f-5f35-4cea-903e-c3dd8cc1ef41",
   "metadata": {},
   "source": [
    "## Open Library Data\n",
    "\n",
    "The library data are organized around namespaces, where each namespace corresponds to a specific file in the library."
   ]
  },
  {
   "cell_type": "code",
   "execution_count": 2,
   "id": "85ca81ee-0094-4cea-bc6c-37cac4862007",
   "metadata": {},
   "outputs": [
    {
     "name": "stderr",
     "output_type": "stream",
     "text": [
      "c:\\users\\bjorn cole\\documents\\github\\pymbe\\src\\pymbe\\label.py:144: UserWarning: Cannot process Expression elements yet!\n",
      "  warn(f\"Cannot process {expression._metatype} elements yet!\")\n",
      "c:\\users\\bjorn cole\\documents\\github\\pymbe\\src\\pymbe\\label.py:144: UserWarning: Cannot process BooleanExpression elements yet!\n",
      "  warn(f\"Cannot process {expression._metatype} elements yet!\")\n"
     ]
    }
   ],
   "source": [
    "library_model = None\n",
    "\n",
    "with lib_resources.path(\"pymbe.static_data\", \"KernelLibrary.json\") as lib_data:\n",
    "    library_model = pm.Model.load_from_post_file(lib_data)"
   ]
  },
  {
   "cell_type": "code",
   "execution_count": 3,
   "id": "74f22868-21e7-4d4e-98e6-6f13220b981e",
   "metadata": {},
   "outputs": [
    {
     "data": {
      "text/plain": [
       "{'elementId': '9cb49b7c-9a0e-4c54-8f17-6c3e4bcd022c',\n",
       " 'aliasIds': [],\n",
       " '@type': 'Namespace',\n",
       " 'ownedRelationship': [{'@id': '555fbf28-2469-4cc3-b655-84353891ddc9'}],\n",
       " 'isImpliedIncluded': False,\n",
       " '@id': '9cb49b7c-9a0e-4c54-8f17-6c3e4bcd022c'}"
      ]
     },
     "execution_count": 3,
     "metadata": {},
     "output_type": "execute_result"
    }
   ],
   "source": [
    "library_model.ownedElement[0]._data"
   ]
  },
  {
   "cell_type": "markdown",
   "id": "9c16ac57-8348-49da-a720-d9add98b3807",
   "metadata": {},
   "source": [
    "## New Package\n",
    "The most basic element in a model for grouping things is the package. It holds a place within a modeling project to associate other model contents.\n",
    "\n",
    "The new root-level Package also needs to be inside a Namespace and become an owned member via an OwningMembership."
   ]
  },
  {
   "cell_type": "code",
   "execution_count": 4,
   "id": "ed5135a3-8ac2-41b3-b809-05bf8bc3394a",
   "metadata": {},
   "outputs": [],
   "source": [
    "package_model_namespace_data = {\n",
    "    'aliasIds': [],\n",
    "    'isImpliedIncluded': False,\n",
    "    '@type': \"Namespace\",\n",
    "    '@id': str(uuid4()),\n",
    "    'ownedRelationship': []\n",
    "}"
   ]
  },
  {
   "cell_type": "code",
   "execution_count": 5,
   "id": "9f968e44-9eec-49b7-a539-9d484601dd09",
   "metadata": {},
   "outputs": [],
   "source": [
    "package_model_data = {\n",
    "    'name': \"User Process Model\",\n",
    "    'isLibraryElement': False,\n",
    "    'filterCondition': [],\n",
    "    'ownedElement': [],\n",
    "    'owner': {},\n",
    "    '@type': \"Package\",\n",
    "    '@id': str(uuid4()),\n",
    "    'ownedRelationship': []\n",
    "}"
   ]
  },
  {
   "cell_type": "code",
   "execution_count": 6,
   "id": "5486d278-7a2c-483f-995d-da1cb3d06e6f",
   "metadata": {},
   "outputs": [
    {
     "data": {
      "text/plain": [
       "<SysML v2 Model (0 elements)>"
      ]
     },
     "execution_count": 6,
     "metadata": {},
     "output_type": "execute_result"
    }
   ],
   "source": [
    "empty_model = pm.Model(elements={})\n",
    "empty_model"
   ]
  },
  {
   "cell_type": "code",
   "execution_count": 7,
   "id": "0b9a73f9-5549-49a0-b06b-3dfcd001eab0",
   "metadata": {},
   "outputs": [],
   "source": [
    "new_ns = Element.new(data=package_model_namespace_data,model=empty_model)"
   ]
  },
  {
   "cell_type": "code",
   "execution_count": 8,
   "id": "18b2e40a-88b9-400d-9716-f38eda852a3c",
   "metadata": {},
   "outputs": [
    {
     "data": {
      "text/plain": [
       "User Process Model «Package»"
      ]
     },
     "execution_count": 8,
     "metadata": {},
     "output_type": "execute_result"
    }
   ],
   "source": [
    "new_package = Element.new(data=package_model_data,model=empty_model)\n",
    "new_package"
   ]
  },
  {
   "cell_type": "code",
   "execution_count": 9,
   "id": "9846216e-42bb-4ffb-92c6-f37ff8cdaee8",
   "metadata": {},
   "outputs": [
    {
     "data": {
      "text/plain": [
       "«OwningMembership» ([4f963b48-e908-40b9-829b-fc23ebfe1274 «Namespace»] ←→ [User Process Model «Package»])"
      ]
     },
     "execution_count": 9,
     "metadata": {},
     "output_type": "execute_result"
    }
   ],
   "source": [
    "new_element_ownership_pattern(\n",
    "    owner=new_ns, ele=new_package, model=empty_model, member_kind=\"OwningMembership\"\n",
    ")"
   ]
  },
  {
   "cell_type": "markdown",
   "id": "d4c50a10-7971-477c-a218-af7e90c54bf2",
   "metadata": {},
   "source": [
    "### Connect New Model to Library\n",
    "\n",
    "Reference the new model to the library so inheritance and redefinition can be connected to library elements."
   ]
  },
  {
   "cell_type": "code",
   "execution_count": 10,
   "id": "80c629ab-653e-4681-90f4-343124573d11",
   "metadata": {},
   "outputs": [],
   "source": [
    "empty_model.reference_other_model(library_model)"
   ]
  },
  {
   "cell_type": "code",
   "execution_count": 11,
   "id": "17082fa0-fa1b-44f0-935e-9b8f07045f62",
   "metadata": {},
   "outputs": [
    {
     "data": {
      "text/plain": [
       "Performance «Behavior»"
      ]
     },
     "execution_count": 11,
     "metadata": {},
     "output_type": "execute_result"
    }
   ],
   "source": [
    "peform_ns = [library_model_ns\n",
    "               for library_model_ns in library_model.ownedElement\n",
    "               if library_model_ns.throughOwningMembership[0].declaredName == 'Performances'][0]\n",
    "\n",
    "perform_eles = peform_ns.throughOwningMembership[0].throughOwningMembership\n",
    "\n",
    "performance = None\n",
    "    \n",
    "for perform_ele in perform_eles:\n",
    "    if perform_ele._metatype in ('Behavior'):\n",
    "        if hasattr(perform_ele, \"declaredName\"):\n",
    "            if perform_ele.declaredName == 'Performance':\n",
    "                performance = perform_ele\n",
    "                \n",
    "performance"
   ]
  },
  {
   "cell_type": "code",
   "execution_count": 12,
   "id": "b76bc601-68ba-4f87-bd86-7f3c7c18ab18",
   "metadata": {},
   "outputs": [
    {
     "data": {
      "text/plain": [
       "{'elementId': '1b7f00e7-24fb-5ebc-8773-89ba88bc3d5d',\n",
       " 'owningRelationship': {'@id': '5c3904b9-9ab4-4830-a40a-e988839031f1'},\n",
       " 'aliasIds': [],\n",
       " '@type': 'Behavior',\n",
       " 'ownedRelationship': [{'@id': 'e590b404-10f3-4b17-b297-bd37c0b65b38'},\n",
       "  {'@id': '539ef00b-df25-4b6c-b2c0-82ca6b91193e'},\n",
       "  {'@id': '6ec014f1-959c-45f8-ad78-2057fac61107'},\n",
       "  {'@id': '08ff62d4-77d5-402c-9a4c-415a422b4c23'},\n",
       "  {'@id': '1f33a079-2c05-4608-9cda-9aa46e48e8c0'},\n",
       "  {'@id': '20b5d486-05cf-437a-820f-85427f09939f'},\n",
       "  {'@id': 'be01a810-8b04-4b97-be95-77df974b72b2'},\n",
       "  {'@id': 'ee5f694b-9281-4199-bcc0-22cfd0bc3f1f'},\n",
       "  {'@id': '67299fd7-ef2d-4478-9175-5a30a1efacab'},\n",
       "  {'@id': '6a4fd353-68c0-446b-b188-30f8c096899d'},\n",
       "  {'@id': '0a0f8e21-41b1-4b63-8df1-fb23118bc844'},\n",
       "  {'@id': 'b6d0c3fe-1f69-4725-8aba-01b153a5a635'}],\n",
       " 'declaredName': 'Performance',\n",
       " 'isSufficient': False,\n",
       " 'isAbstract': True,\n",
       " 'isImpliedIncluded': False,\n",
       " '@id': '1b7f00e7-24fb-5ebc-8773-89ba88bc3d5d'}"
      ]
     },
     "execution_count": 12,
     "metadata": {},
     "output_type": "execute_result"
    }
   ],
   "source": [
    "performance._data"
   ]
  },
  {
   "cell_type": "markdown",
   "id": "b236586b-2176-4bcf-8d31-fa74135f7730",
   "metadata": {},
   "source": [
    "## New Performance\n",
    "\n",
    "A new element to specialize the Performance library element is created."
   ]
  },
  {
   "cell_type": "code",
   "execution_count": 13,
   "id": "abcb2424-2c85-4a4f-913b-579108d18118",
   "metadata": {},
   "outputs": [],
   "source": [
    "new_performance = build_from_classifier_pattern(\n",
    "    owner=new_package,\n",
    "    name=\"New Process\",\n",
    "    model=empty_model,\n",
    "    metatype=\"Behavior\",\n",
    "    superclasses=[performance],\n",
    "    specific_fields={\"ownedRelationship\": []}\n",
    ")"
   ]
  },
  {
   "cell_type": "code",
   "execution_count": 14,
   "id": "51316b5c-a0d1-49f5-ac40-d51eeceeb41f",
   "metadata": {},
   "outputs": [
    {
     "data": {
      "text/plain": [
       "defaultdict(list,\n",
       "            {'label': 'New Process «Behavior»',\n",
       "             'reverseOwningMembership': [{'@id': '3fe66d19-81b6-4bd2-ba72-338058428beb'}],\n",
       "             'throughSubclassification': [{'@id': '1b7f00e7-24fb-5ebc-8773-89ba88bc3d5d'}]})"
      ]
     },
     "execution_count": 14,
     "metadata": {},
     "output_type": "execute_result"
    }
   ],
   "source": [
    "new_performance._derived"
   ]
  },
  {
   "cell_type": "code",
   "execution_count": 15,
   "id": "4076160a-50ac-43e3-898f-95b8f5e2aa43",
   "metadata": {},
   "outputs": [
    {
     "data": {
      "text/plain": [
       "[New Process «Behavior»]"
      ]
     },
     "execution_count": 15,
     "metadata": {},
     "output_type": "execute_result"
    }
   ],
   "source": [
    "new_package.throughOwningMembership"
   ]
  },
  {
   "cell_type": "code",
   "execution_count": 16,
   "id": "91c97988-f36e-4ce7-8fba-4fc1686d3e73",
   "metadata": {},
   "outputs": [
    {
     "data": {
      "text/plain": [
       "New Process «Behavior»"
      ]
     },
     "execution_count": 16,
     "metadata": {},
     "output_type": "execute_result"
    }
   ],
   "source": [
    "new_process = new_package.throughOwningMembership[0]\n",
    "new_process"
   ]
  },
  {
   "cell_type": "code",
   "execution_count": 17,
   "id": "28a08ee9-b3d4-4151-ab93-71f169943df1",
   "metadata": {},
   "outputs": [
    {
     "data": {
      "text/plain": [
       "{'owningRelationship': {'@id': '2ff886b4-dc3f-43e8-83d0-1d3a94dc41d4'},\n",
       " 'ownedRelationship': [],\n",
       " 'aliasIds': [],\n",
       " 'isImpliedIncluded': False,\n",
       " 'elementId': '',\n",
       " 'isSufficient': False,\n",
       " 'isAbstract': False,\n",
       " 'declaredName': 'New Process',\n",
       " 'declaredShortName': '',\n",
       " 'documentation': None,\n",
       " 'owningMembership': None,\n",
       " 'ownedIntersecting': None,\n",
       " 'ownedDisjoining': None,\n",
       " 'ownedDifferencing': None,\n",
       " 'step': None,\n",
       " 'ownedFeature': None,\n",
       " 'membership': None,\n",
       " 'importedMembership': None,\n",
       " 'ownedSubclassification': None,\n",
       " 'textualRepresentation': None,\n",
       " 'unioningType': None,\n",
       " 'ownedUnioning': None,\n",
       " 'differencingType': None,\n",
       " 'ownedElement': None,\n",
       " 'ownedEndFeature': None,\n",
       " 'feature': None,\n",
       " 'ownedConjugator': None,\n",
       " 'ownedMember': None,\n",
       " 'member': None,\n",
       " 'multiplicity': None,\n",
       " 'ownedAnnotation': None,\n",
       " 'output': None,\n",
       " 'endFeature': None,\n",
       " 'intersectingType': None,\n",
       " 'featureMembership': None,\n",
       " 'directedFeature': None,\n",
       " 'ownedMembership': None,\n",
       " 'owningNamespace': None,\n",
       " 'ownedFeatureMembership': None,\n",
       " 'owner': None,\n",
       " 'inheritedMembership': None,\n",
       " 'inheritedFeature': None,\n",
       " 'parameter': None,\n",
       " 'input': None,\n",
       " 'ownedImport': None,\n",
       " 'ownedSpecialization': None,\n",
       " 'isLibraryElement': None,\n",
       " 'isConjugated': None,\n",
       " 'name': 'New Process',\n",
       " 'qualifiedName': None,\n",
       " 'shortName': None,\n",
       " '@type': 'Behavior',\n",
       " '@id': '6dfd6803-4866-4f4e-a0e2-0da3f92c94f8'}"
      ]
     },
     "execution_count": 17,
     "metadata": {},
     "output_type": "execute_result"
    }
   ],
   "source": [
    "new_process._data"
   ]
  },
  {
   "cell_type": "code",
   "execution_count": 18,
   "id": "ecbf82a9-1af1-44f6-bc5b-79d0cfa482c5",
   "metadata": {},
   "outputs": [
    {
     "data": {
      "text/plain": [
       "defaultdict(list,\n",
       "            {'label': 'New Process «Behavior»',\n",
       "             'reverseOwningMembership': [{'@id': '3fe66d19-81b6-4bd2-ba72-338058428beb'}],\n",
       "             'throughSubclassification': [{'@id': '1b7f00e7-24fb-5ebc-8773-89ba88bc3d5d'}]})"
      ]
     },
     "execution_count": 18,
     "metadata": {},
     "output_type": "execute_result"
    }
   ],
   "source": [
    "new_process._derived"
   ]
  },
  {
   "cell_type": "code",
   "execution_count": 19,
   "id": "b3b5e725-4c7b-47c3-9da2-53410eac7214",
   "metadata": {},
   "outputs": [
    {
     "data": {
      "text/plain": [
       "[Performance «Behavior», Occurrence «Class», Anything «Classifier»]"
      ]
     },
     "execution_count": 19,
     "metadata": {},
     "output_type": "execute_result"
    }
   ],
   "source": [
    "get_more_general_types(new_process,0,20)"
   ]
  },
  {
   "cell_type": "code",
   "execution_count": 20,
   "id": "3a95920a-a819-41f4-a6bf-52617e425c1e",
   "metadata": {},
   "outputs": [
    {
     "data": {
      "text/plain": [
       "{'owningRelationship': {'@id': '2ff886b4-dc3f-43e8-83d0-1d3a94dc41d4'},\n",
       " 'ownedRelationship': [],\n",
       " 'aliasIds': [],\n",
       " 'isImpliedIncluded': False,\n",
       " 'elementId': '',\n",
       " 'isSufficient': False,\n",
       " 'isAbstract': False,\n",
       " 'declaredName': 'New Process',\n",
       " 'declaredShortName': '',\n",
       " 'documentation': None,\n",
       " 'owningMembership': None,\n",
       " 'ownedIntersecting': None,\n",
       " 'ownedDisjoining': None,\n",
       " 'ownedDifferencing': None,\n",
       " 'step': None,\n",
       " 'ownedFeature': None,\n",
       " 'membership': None,\n",
       " 'importedMembership': None,\n",
       " 'ownedSubclassification': None,\n",
       " 'textualRepresentation': None,\n",
       " 'unioningType': None,\n",
       " 'ownedUnioning': None,\n",
       " 'differencingType': None,\n",
       " 'ownedElement': None,\n",
       " 'ownedEndFeature': None,\n",
       " 'feature': None,\n",
       " 'ownedConjugator': None,\n",
       " 'ownedMember': None,\n",
       " 'member': None,\n",
       " 'multiplicity': None,\n",
       " 'ownedAnnotation': None,\n",
       " 'output': None,\n",
       " 'endFeature': None,\n",
       " 'intersectingType': None,\n",
       " 'featureMembership': None,\n",
       " 'directedFeature': None,\n",
       " 'ownedMembership': None,\n",
       " 'owningNamespace': None,\n",
       " 'ownedFeatureMembership': None,\n",
       " 'owner': None,\n",
       " 'inheritedMembership': None,\n",
       " 'inheritedFeature': None,\n",
       " 'parameter': None,\n",
       " 'input': None,\n",
       " 'ownedImport': None,\n",
       " 'ownedSpecialization': None,\n",
       " 'isLibraryElement': None,\n",
       " 'isConjugated': None,\n",
       " 'name': 'New Process',\n",
       " 'qualifiedName': None,\n",
       " 'shortName': None,\n",
       " '@type': 'Behavior',\n",
       " '@id': '6dfd6803-4866-4f4e-a0e2-0da3f92c94f8'}"
      ]
     },
     "execution_count": 20,
     "metadata": {},
     "output_type": "execute_result"
    }
   ],
   "source": [
    "new_process._data"
   ]
  },
  {
   "cell_type": "code",
   "execution_count": 21,
   "id": "61823a7f-debc-4fd8-9836-379ca5f6cc74",
   "metadata": {},
   "outputs": [
    {
     "data": {
      "text/plain": [
       "[self «Feature»,\n",
       " involvedObjects «Feature»,\n",
       " performers «Feature»,\n",
       " :>>isDispatch «Feature»,\n",
       " :>>dispatchScope «Feature»,\n",
       " enclosedPerformances «Step»,\n",
       " thisPerformance «Feature»,\n",
       " «Connector» ([self «Feature»] ←→ [thisPerformance «Feature»]),\n",
       " subperformances «Step»,\n",
       " portionOfLife «Feature»,\n",
       " self «Feature»,\n",
       " sameLifeOccurrences «Feature»,\n",
       " this «Feature»,\n",
       " «Connector» ([self «Feature»] ←→ [this «Feature»]),\n",
       " localClock «Feature»,\n",
       " suboccurrences «Feature»,\n",
       " withoutOccurrences «Feature»,\n",
       " predecessors «Feature»,\n",
       " successors «Feature»,\n",
       " immediatePredecessors «Feature»,\n",
       " immediateSuccessors «Feature»,\n",
       " timeEnclosedOccurrences «Feature»,\n",
       " timeCoincidentOccurrences «Feature»,\n",
       " spaceEnclosedOccurrences «Feature»,\n",
       " spaceTimeEnclosedOccurrences «Feature»,\n",
       " spaceTimeEnclosedPoints «Feature»,\n",
       " spaceTimeCoincidentOccurrences «Feature»,\n",
       " outsideOfOccurrences «Feature»,\n",
       " justOutsideOfOccurrences «Feature»,\n",
       " matingOccurrences «Feature»,\n",
       " innerSpaceDimension «Feature»,\n",
       " innerSpaceDimension <= 3 «Invariant»,\n",
       " outerSpaceDimension «Feature»,\n",
       " notEmpty(outerSpaceDimension) implies outerSpaceDimension >= innerSpaceDimension & outerSpaceDimension <= 3 «Invariant»,\n",
       " portions «Feature»,\n",
       " portionOf «Feature»,\n",
       " timeSlices «Feature»,\n",
       " timeSliceOf «Feature»,\n",
       " snapshots «Feature»,\n",
       " snapshots == union(startShot, union(middleTimeSlice.snapshots, endShot)) «Invariant»,\n",
       " snapshotOf «Feature»,\n",
       " startShot «Feature»,\n",
       " middleTimeSlice «Feature»,\n",
       " isEmpty(Empty FCE) == Empty FCE == Empty FCE «Invariant»,\n",
       " «Connector» ([startShot «Feature»] ←→ [middleTimeSlice «Feature»]),\n",
       " endShot «Feature»,\n",
       " «Connector» ([middleTimeSlice «Feature»] ←→ [endShot «Feature»]),\n",
       " spaceSlices «Feature»,\n",
       " spaceSliceOf «Feature»,\n",
       " spaceShots «Feature»,\n",
       " spaceShotOf «Feature»,\n",
       " unionsOf «Feature»,\n",
       " «BindingConnector» ([:>> «Feature»] ←→ [self «Feature»]),\n",
       " intersectionsOf «Feature»,\n",
       " «BindingConnector» ([:>> «Feature»] ←→ [self «Feature»]),\n",
       " differencesOf «Feature»,\n",
       " «BindingConnector» ([:>> «Feature»] ←→ [self «Feature»]),\n",
       " spaceInterior «Feature»,\n",
       " spaceInteriorOf «Feature»,\n",
       " notEmpty(spaceInterior) implies spaceInterior.innerSpaceDimension == innerSpaceDimension «Invariant»,\n",
       " spaceBoundary «Feature»,\n",
       " spaceBoundaryOf «Feature»,\n",
       " isClosed implies contains(Empty FCE, union(spaceBoundary, spaceInterior)) «Invariant»,\n",
       " innerSpaceDimension == 0 implies isEmpty(spaceBoundary) «Invariant»,\n",
       " «Connector» ([spaceInterior «Feature»] ←→ [:>> «Feature»]),\n",
       " «Connector» ([:>> «Feature»] ←→ [spaceInterior «Feature»]),\n",
       " innerSpaceOccurrences «Feature»,\n",
       " surroundedByOccurrences «Feature»,\n",
       " isClosed «Feature»,\n",
       " isClosed == isEmpty(Empty FCE) «Invariant»,\n",
       " incomingTransfers «Feature»,\n",
       " isDispatch «Feature»,\n",
       " dispatchScope «Feature»,\n",
       " «Connector» ([self «Feature»] ←→ [dispatchScope «Feature»]),\n",
       " isRunToCompletion «Feature»,\n",
       " runToCompletionScope «Feature»,\n",
       " «Connector» ([self «Feature»] ←→ [runToCompletionScope «Feature»]),\n",
       " incomingTransferSort «Feature»,\n",
       " incomingTransfersToSelf «Feature»,\n",
       " outgoingTransfers «Feature»,\n",
       " outgoingTransfersFromSelf «Feature»,\n",
       " self «Feature»]"
      ]
     },
     "execution_count": 21,
     "metadata": {},
     "output_type": "execute_result"
    }
   ],
   "source": [
    "new_process.feature"
   ]
  },
  {
   "cell_type": "code",
   "execution_count": 22,
   "id": "cac6745e-5ad9-4826-b20a-19296ecd8de3",
   "metadata": {},
   "outputs": [
    {
     "data": {
      "text/plain": [
       "[«Subclassification» ([Performance «Behavior»] ←→ [Occurrence «Class»]),\n",
       " «Disjoining» ([Performance «Behavior»] ←→ [Object «Structure»]),\n",
       " «OwningMembership» ([Performance «Behavior»] ←→ [b895045c-6a93-4988-b017-c4240e0ee65d «Documentation»]),\n",
       " «FeatureMembership» ([Performance «Behavior»] ←→ [self «Feature»]),\n",
       " «FeatureMembership» ([Performance «Behavior»] ←→ [involvedObjects «Feature»]),\n",
       " «FeatureMembership» ([Performance «Behavior»] ←→ [performers «Feature»]),\n",
       " «FeatureMembership» ([Performance «Behavior»] ←→ [:>>isDispatch «Feature»]),\n",
       " «FeatureMembership» ([Performance «Behavior»] ←→ [:>>dispatchScope «Feature»]),\n",
       " «FeatureMembership» ([Performance «Behavior»] ←→ [enclosedPerformances «Step»]),\n",
       " «FeatureMembership» ([Performance «Behavior»] ←→ [thisPerformance «Feature»]),\n",
       " «FeatureMembership» ([Performance «Behavior»] ←→ [«Connector» ([self «Feature»] ←→ [thisPerformance «Feature»])]),\n",
       " «FeatureMembership» ([Performance «Behavior»] ←→ [subperformances «Step»])]"
      ]
     },
     "execution_count": 22,
     "metadata": {},
     "output_type": "execute_result"
    }
   ],
   "source": [
    "performance.ownedRelationship"
   ]
  },
  {
   "cell_type": "markdown",
   "id": "5754b62b-8310-4778-8659-c830b5e94ed7",
   "metadata": {},
   "source": [
    "## New Object\n",
    "\n",
    "Create a basic Object that is connected back to the libarry"
   ]
  },
  {
   "cell_type": "code",
   "execution_count": 23,
   "id": "33332301-9331-4317-9c97-c833bfb525af",
   "metadata": {},
   "outputs": [],
   "source": [
    "object_ns = [library_model_ns\n",
    "               for library_model_ns in library_model.ownedElement\n",
    "               if library_model_ns.throughOwningMembership[0].declaredName == 'Objects'][0]\n",
    "\n",
    "object_eles = object_ns.throughOwningMembership[0].throughOwningMembership\n",
    "\n",
    "obj = None\n",
    "    \n",
    "for object_ele in object_eles:\n",
    "    if object_ele._metatype in ('Structure'):\n",
    "        if hasattr(object_ele, \"declaredName\"):\n",
    "            if object_ele.declaredName == 'Object':\n",
    "                obj = object_ele"
   ]
  },
  {
   "cell_type": "code",
   "execution_count": 24,
   "id": "cf96b395-68da-4f72-89cb-b1959006f17c",
   "metadata": {},
   "outputs": [
    {
     "data": {
      "text/plain": [
       "Object «Structure»"
      ]
     },
     "execution_count": 24,
     "metadata": {},
     "output_type": "execute_result"
    }
   ],
   "source": [
    "obj"
   ]
  },
  {
   "cell_type": "markdown",
   "id": "ce821850-7d7e-4699-8a71-ffe8ac5da6fc",
   "metadata": {},
   "source": [
    "## New Step\n",
    "Add steps to our earlier new Performance."
   ]
  },
  {
   "cell_type": "code",
   "execution_count": 25,
   "id": "8a03950e-e16e-403c-bff7-eb816b001587",
   "metadata": {},
   "outputs": [],
   "source": [
    "new_step_type_1 = build_from_classifier_pattern(\n",
    "        owner=new_package,\n",
    "        name=\"Sub-Process 1\",\n",
    "        model=empty_model,\n",
    "        metatype=\"Behavior\",\n",
    "        superclasses=[performance],\n",
    "        specific_fields={\"ownedRelationship\": []}\n",
    "    )\n",
    "\n",
    "new_step_type_2 = build_from_classifier_pattern(\n",
    "    owner=new_package,\n",
    "    name=\"Sub-Process 2\",\n",
    "    model=empty_model,\n",
    "    metatype=\"Behavior\",\n",
    "    superclasses=[performance],\n",
    "    specific_fields={\"ownedRelationship\": []}\n",
    ")\n",
    "\n",
    "new_step_1 = build_from_feature_pattern(\n",
    "    owner=new_performance,\n",
    "    name=\"Step 1\",\n",
    "    model=empty_model,\n",
    "    specific_fields={},\n",
    "    feature_type=new_step_type_1,\n",
    "    direction=\"\",\n",
    "    metatype=\"Step\",\n",
    "    connector_end=False,\n",
    ")\n",
    "\n",
    "new_step_2 = build_from_feature_pattern(\n",
    "    owner=new_performance,\n",
    "    name=\"Step 2\",\n",
    "    model=empty_model,\n",
    "    specific_fields={},\n",
    "    feature_type=new_step_type_2,\n",
    "    direction=\"\",\n",
    "    metatype=\"Step\",\n",
    "    connector_end=False,\n",
    ")"
   ]
  },
  {
   "cell_type": "code",
   "execution_count": 26,
   "id": "ca4bd49e-0121-4aa7-88ea-cc116ae91712",
   "metadata": {},
   "outputs": [
    {
     "data": {
      "text/plain": [
       "(Step 1: Sub-Process 1 «Step», Step 2: Sub-Process 2 «Step»)"
      ]
     },
     "execution_count": 26,
     "metadata": {},
     "output_type": "execute_result"
    }
   ],
   "source": [
    "(new_step_1, new_step_2)"
   ]
  },
  {
   "cell_type": "code",
   "execution_count": 27,
   "id": "b744213d-5141-4628-85ab-4bcca9b06b23",
   "metadata": {},
   "outputs": [
    {
     "data": {
      "text/plain": [
       "[Step 1: Sub-Process 1 «Step», Step 2: Sub-Process 2 «Step»]"
      ]
     },
     "execution_count": 27,
     "metadata": {},
     "output_type": "execute_result"
    }
   ],
   "source": [
    "new_performance.throughFeatureMembership"
   ]
  },
  {
   "cell_type": "code",
   "execution_count": 28,
   "id": "3d472fd2-d6a0-46e4-81f3-4890bdf85da3",
   "metadata": {},
   "outputs": [],
   "source": [
    "self_feat = None\n",
    "time_enclosed_feat = None\n",
    "\n",
    "for new_perf_feature in new_performance.feature:\n",
    "    if get_effective_basic_name(new_perf_feature) == \"self\":\n",
    "        self_feat = new_perf_feature\n",
    "    if get_effective_basic_name(new_perf_feature) == \"timeEnclosedOccurrences\":\n",
    "        time_enclosed_feat = new_perf_feature"
   ]
  },
  {
   "cell_type": "code",
   "execution_count": 29,
   "id": "26a56777-9db0-4c75-95fd-747038ecd4dc",
   "metadata": {},
   "outputs": [],
   "source": [
    "new_performance_exec = build_from_classifier_pattern(\n",
    "    owner=new_package,\n",
    "    name=\"New Process as Executed\",\n",
    "    model=empty_model,\n",
    "    metatype=\"Behavior\",\n",
    "    superclasses=[new_performance],\n",
    "    specific_fields={\"ownedRelationship\": []}\n",
    ")\n",
    "\n",
    "step_1_exec = build_from_classifier_pattern(\n",
    "    owner=new_package,\n",
    "    name=\"Sub-Process 1 as Executed\",\n",
    "    model=empty_model,\n",
    "    metatype=\"Behavior\",\n",
    "    superclasses=[new_step_type_1],\n",
    "    specific_fields={\"ownedRelationship\": []}\n",
    ")\n",
    "\n",
    "step_2_exec = build_from_classifier_pattern(\n",
    "    owner=new_package,\n",
    "    name=\"Sub-Process 2 as Executed\",\n",
    "    model=empty_model,\n",
    "    metatype=\"Behavior\",\n",
    "    superclasses=[new_step_type_2],\n",
    "    specific_fields={\"ownedRelationship\": []}\n",
    ")"
   ]
  },
  {
   "cell_type": "code",
   "execution_count": 30,
   "id": "c71d442f-78ee-4f29-8ec9-856652f1e4bf",
   "metadata": {},
   "outputs": [
    {
     "data": {
      "text/plain": [
       "self(Closed): New Process as Executed «Feature»"
      ]
     },
     "execution_count": 30,
     "metadata": {},
     "output_type": "execute_result"
    }
   ],
   "source": [
    "covered_self = apply_covered_feature_pattern(\n",
    "    one_member_classifiers=[new_performance_exec],\n",
    "    feature_to_cover=self_feat,\n",
    "    type_to_apply_pattern_on=new_performance_exec,\n",
    "    model=empty_model,\n",
    "    new_types_owner=new_package,\n",
    "    covering_classifier_prefix=\"Class to Cover \",\n",
    "    covering_classifier_suffix=\"\",\n",
    "    redefining_feature_prefix=\"\",\n",
    "    redefining_feature_suffix=\"(Closed)\",\n",
    ")\n",
    "covered_self"
   ]
  },
  {
   "cell_type": "code",
   "execution_count": 31,
   "id": "ffb70f16-6e01-4483-a234-125484323a4c",
   "metadata": {},
   "outputs": [
    {
     "data": {
      "text/plain": [
       "defaultdict(list,\n",
       "            {'label': 'self(Closed): New Process as Executed «Feature»',\n",
       "             'reverseFeatureMembership': [{'@id': '0bfdf0c0-0637-446c-86c4-b003143c8e36'}],\n",
       "             'throughFeatureTyping': [{'@id': '0bfdf0c0-0637-446c-86c4-b003143c8e36'}]})"
      ]
     },
     "execution_count": 31,
     "metadata": {},
     "output_type": "execute_result"
    }
   ],
   "source": [
    "covered_self._derived"
   ]
  },
  {
   "cell_type": "code",
   "execution_count": 32,
   "id": "901b575c-a33c-48fa-bb03-53108cf34c0f",
   "metadata": {},
   "outputs": [
    {
     "data": {
      "text/plain": [
       "[New Process as Executed «Behavior»]"
      ]
     },
     "execution_count": 32,
     "metadata": {},
     "output_type": "execute_result"
    }
   ],
   "source": [
    "covered_self.reverseFeatureMembership"
   ]
  },
  {
   "cell_type": "code",
   "execution_count": 33,
   "id": "42624334-0a77-42ed-a2fb-e77c7ed5085e",
   "metadata": {},
   "outputs": [],
   "source": [
    "covered_time_enclosed = apply_covered_feature_pattern(\n",
    "    one_member_classifiers=[new_performance_exec, step_1_exec, step_2_exec],\n",
    "    feature_to_cover=time_enclosed_feat,\n",
    "    type_to_apply_pattern_on=new_performance_exec,\n",
    "    model=empty_model,\n",
    "    new_types_owner=new_package,\n",
    "    covering_classifier_prefix=\"Class to Cover \",\n",
    "    covering_classifier_suffix=\"\",\n",
    "    redefining_feature_prefix=\"\",\n",
    "    redefining_feature_suffix=\"(Closed)\",\n",
    ")"
   ]
  },
  {
   "cell_type": "code",
   "execution_count": 37,
   "id": "4450e381-953b-4674-8265-8db6da6a7057",
   "metadata": {},
   "outputs": [
    {
     "data": {
      "text/plain": [
       "defaultdict(list,\n",
       "            {'label': 'Class to Cover timeEnclosedOccurrences «Behavior»',\n",
       "             'reverseOwningMembership': [{'@id': '3fe66d19-81b6-4bd2-ba72-338058428beb'}],\n",
       "             'throughUnioning': [{'@id': '0bfdf0c0-0637-446c-86c4-b003143c8e36'},\n",
       "              {'@id': '765f6edd-ebaf-430f-ae05-fcc657e5c125'},\n",
       "              {'@id': 'f4431126-8fac-499b-972a-5b66d8f4534f'}],\n",
       "             'reverseFeatureTyping': [{'@id': '508ae7ad-5e2c-4e42-9c40-faa72b13f4e2'}]})"
      ]
     },
     "execution_count": 37,
     "metadata": {},
     "output_type": "execute_result"
    }
   ],
   "source": [
    "covered_time_enclosed.throughFeatureTyping[0]._derived"
   ]
  },
  {
   "cell_type": "code",
   "execution_count": 38,
   "id": "35d3a91c-87b2-4b84-aa10-4ef00bfb892e",
   "metadata": {},
   "outputs": [
    {
     "data": {
      "text/plain": [
       "[New Process as Executed «Behavior»,\n",
       " Sub-Process 1 as Executed «Behavior»,\n",
       " Sub-Process 2 as Executed «Behavior»]"
      ]
     },
     "execution_count": 38,
     "metadata": {},
     "output_type": "execute_result"
    }
   ],
   "source": [
    "covered_time_enclosed.throughFeatureTyping[0].throughUnioning"
   ]
  },
  {
   "cell_type": "markdown",
   "id": "bf033dbe-eb45-4db4-8f49-774636eb41ab",
   "metadata": {},
   "source": [
    "## New OwningMembership\n",
    "\n",
    "The OwningMembership, of which the OwningFeatureMembership is a sub-metatype, is what is used to organize the model hierarchy. Connecting two elements with this relationship should also updated derived fields such as owner and ownedElements."
   ]
  },
  {
   "cell_type": "code",
   "execution_count": 34,
   "id": "2a5671ab-adeb-4cc4-9ce4-24dddd331c9a",
   "metadata": {},
   "outputs": [
    {
     "ename": "NameError",
     "evalue": "name 'new_classifier' is not defined",
     "output_type": "error",
     "traceback": [
      "\u001b[1;31m---------------------------------------------------------------------------\u001b[0m",
      "\u001b[1;31mNameError\u001b[0m                                 Traceback (most recent call last)",
      "\u001b[1;32mC:\\Users\\BJORNC~1\\AppData\\Local\\Temp/ipykernel_2044/1316744721.py\u001b[0m in \u001b[0;36m<module>\u001b[1;34m\u001b[0m\n\u001b[0;32m      1\u001b[0m \u001b[0mnew_om_source\u001b[0m \u001b[1;33m=\u001b[0m \u001b[0mnew_package\u001b[0m\u001b[1;33m\u001b[0m\u001b[1;33m\u001b[0m\u001b[0m\n\u001b[1;32m----> 2\u001b[1;33m \u001b[0mnew_om_target\u001b[0m \u001b[1;33m=\u001b[0m \u001b[0mnew_classifier\u001b[0m\u001b[1;33m\u001b[0m\u001b[1;33m\u001b[0m\u001b[0m\n\u001b[0m\u001b[0;32m      3\u001b[0m \u001b[0mnew_om_source_id\u001b[0m \u001b[1;33m=\u001b[0m \u001b[0mnew_package\u001b[0m\u001b[1;33m.\u001b[0m\u001b[0m_id\u001b[0m\u001b[1;33m\u001b[0m\u001b[1;33m\u001b[0m\u001b[0m\n\u001b[0;32m      4\u001b[0m \u001b[0mnew_om_target_id\u001b[0m \u001b[1;33m=\u001b[0m \u001b[0mnew_classifier\u001b[0m\u001b[1;33m.\u001b[0m\u001b[0m_id\u001b[0m\u001b[1;33m\u001b[0m\u001b[1;33m\u001b[0m\u001b[0m\n\u001b[0;32m      5\u001b[0m om_data = {\n",
      "\u001b[1;31mNameError\u001b[0m: name 'new_classifier' is not defined"
     ]
    }
   ],
   "source": [
    "new_om_source = new_package\n",
    "new_om_target = new_classifier\n",
    "new_om_source_id = new_package._id\n",
    "new_om_target_id = new_classifier._id\n",
    "om_data = {\n",
    "    'isLibraryElement': False,\n",
    "    'documentation': [],\n",
    "    'source': [{'@id': new_om_source_id}],\n",
    "    'target': [{'@id': new_om_target_id}],\n",
    "    'owningRelatedElement': {'@id': new_om_source_id},\n",
    "    'ownedRelatedElement': [{'@id': new_om_target_id}],\n",
    "    'relatedElement': [{'@id': new_om_source_id}, {'@id': new_om_target_id}],\n",
    "    '@type': \"OwningMembership\",\n",
    "    '@id': str(uuid4())\n",
    "}\n",
    "new_om = Element.new(data=om_data,model=sysml_model)\n",
    "new_om\n",
    "(new_om_source_id, new_om_target_id)\n"
   ]
  },
  {
   "cell_type": "code",
   "execution_count": null,
   "id": "ebaa71a7-d71e-48c0-a604-315731d1671f",
   "metadata": {},
   "outputs": [],
   "source": [
    "new_om"
   ]
  },
  {
   "cell_type": "code",
   "execution_count": null,
   "id": "6350ff5a-e4fe-4827-add5-b70fc5fa9951",
   "metadata": {},
   "outputs": [],
   "source": [
    "new_package.ownedElement"
   ]
  },
  {
   "cell_type": "markdown",
   "id": "f63fb023-c8b2-4222-a3fd-6c9f36765456",
   "metadata": {},
   "source": [
    "### Derive Properties Due to Relationship\n",
    "\n",
    "On the two ends of the relationship are fields that need to have fields updated"
   ]
  },
  {
   "cell_type": "code",
   "execution_count": null,
   "id": "fd2f727b-6d22-44c5-9f11-ac3b2dc12344",
   "metadata": {},
   "outputs": [],
   "source": [
    "new_package._data.update(\n",
    "    {'ownedElement': new_package._data['ownedElement'] + [{'@id': new_om_target_id}]\n",
    "    }\n",
    ")\n",
    "new_package.resolve()\n",
    "\n",
    "new_classifier._data.update(\n",
    "    {'owner': {'@id': new_om_source_id}\n",
    "    }\n",
    ")\n",
    "new_classifier.resolve()"
   ]
  },
  {
   "cell_type": "code",
   "execution_count": null,
   "id": "0ab74d5a-071a-4443-945f-9ad1d74dd371",
   "metadata": {},
   "outputs": [],
   "source": [
    "new_package._data"
   ]
  },
  {
   "cell_type": "code",
   "execution_count": null,
   "id": "2fac9f65-7b1d-4af5-8785-cc3e954addd4",
   "metadata": {},
   "outputs": [],
   "source": [
    "new_package.ownedElement"
   ]
  },
  {
   "cell_type": "code",
   "execution_count": null,
   "id": "ab614ba0-d9ae-40ea-97a5-d9c5bbcbd40b",
   "metadata": {},
   "outputs": [],
   "source": [
    "new_classifier.owner"
   ]
  },
  {
   "cell_type": "code",
   "execution_count": null,
   "id": "cda56ca6-50f4-4489-bc41-68a5f9263175",
   "metadata": {},
   "outputs": [],
   "source": [
    "new_package['ownedElement']"
   ]
  },
  {
   "cell_type": "code",
   "execution_count": null,
   "id": "e78b9d9e-52d9-4e12-8d4c-4a3642f381a3",
   "metadata": {},
   "outputs": [],
   "source": []
  }
 ],
 "metadata": {
  "kernelspec": {
   "display_name": "Python 3 (ipykernel)",
   "language": "python",
   "name": "python3"
  },
  "language_info": {
   "codemirror_mode": {
    "name": "ipython",
    "version": 3
   },
   "file_extension": ".py",
   "mimetype": "text/x-python",
   "name": "python",
   "nbconvert_exporter": "python",
   "pygments_lexer": "ipython3",
   "version": "3.9.6"
  }
 },
 "nbformat": 4,
 "nbformat_minor": 5
}
