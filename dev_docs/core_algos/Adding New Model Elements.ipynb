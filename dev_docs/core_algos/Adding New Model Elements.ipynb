{
 "cells": [
  {
   "cell_type": "markdown",
   "id": "2e67ffa6-c30a-4017-be1d-044dba065f78",
   "metadata": {},
   "source": [
    "# Adding New Model Elements\n",
    "\n",
    "This notebook walks through adding in-memory elements via PyMBE and tracking the additions to support updating model repositories after a session."
   ]
  },
  {
   "cell_type": "code",
   "execution_count": null,
   "id": "9e5cee07-82e9-43cf-80ea-37b4c621ac8f",
   "metadata": {},
   "outputs": [],
   "source": [
    "import pymbe.api as pm\n",
    "from importlib import resources as lib_resources\n",
    "\n",
    "from uuid import uuid4\n",
    "\n",
    "from pymbe.model import Element\n",
    "from pymbe.model import MetaModel\n",
    "from pymbe.model_modification import \\\n",
    "    build_from_classifier_pattern, new_element_ownership_pattern\n",
    "\n",
    "from pymbe.metamodel import \\\n",
    "    get_more_general_types, derive_inherited_featurememberships"
   ]
  },
  {
   "cell_type": "markdown",
   "id": "0345f45f-5f35-4cea-903e-c3dd8cc1ef41",
   "metadata": {},
   "source": [
    "## Open Library Data\n",
    "\n",
    "The library data are organized around namespaces, where each namespace corresponds to a specific file in the library."
   ]
  },
  {
   "cell_type": "code",
   "execution_count": null,
   "id": "85ca81ee-0094-4cea-bc6c-37cac4862007",
   "metadata": {},
   "outputs": [],
   "source": [
    "library_model = None\n",
    "\n",
    "with lib_resources.path(\"pymbe.static_data\", \"KernelLibrary.json\") as lib_data:\n",
    "    library_model = pm.Model.load_from_post_file(lib_data)"
   ]
  },
  {
   "cell_type": "code",
   "execution_count": null,
   "id": "74f22868-21e7-4d4e-98e6-6f13220b981e",
   "metadata": {},
   "outputs": [],
   "source": [
    "library_model.ownedElement[0]._data"
   ]
  },
  {
   "cell_type": "markdown",
   "id": "9c16ac57-8348-49da-a720-d9add98b3807",
   "metadata": {},
   "source": [
    "## New Package\n",
    "The most basic element in a model for grouping things is the package. It holds a place within a modeling project to associate other model contents.\n",
    "\n",
    "The new root-level Package also needs to be inside a Namespace and become an owned member via an OwningMembership."
   ]
  },
  {
   "cell_type": "code",
   "execution_count": null,
   "id": "ed5135a3-8ac2-41b3-b809-05bf8bc3394a",
   "metadata": {},
   "outputs": [],
   "source": [
    "package_model_namespace_data = {\n",
    "    'aliasIds': [],\n",
    "    'isImpliedIncluded': False,\n",
    "    '@type': \"Namespace\",\n",
    "    '@id': str(uuid4()),\n",
    "    'ownedRelationship': []\n",
    "}"
   ]
  },
  {
   "cell_type": "code",
   "execution_count": null,
   "id": "9f968e44-9eec-49b7-a539-9d484601dd09",
   "metadata": {},
   "outputs": [],
   "source": [
    "package_model_data = {\n",
    "    'name': \"User Process Model\",\n",
    "    'isLibraryElement': False,\n",
    "    'filterCondition': [],\n",
    "    'ownedElement': [],\n",
    "    'owner': {},\n",
    "    '@type': \"Package\",\n",
    "    '@id': str(uuid4()),\n",
    "    'ownedRelationship': []\n",
    "}"
   ]
  },
  {
   "cell_type": "code",
   "execution_count": null,
   "id": "5486d278-7a2c-483f-995d-da1cb3d06e6f",
   "metadata": {},
   "outputs": [],
   "source": [
    "empty_model = pm.Model(elements={})\n",
    "empty_model"
   ]
  },
  {
   "cell_type": "code",
   "execution_count": null,
   "id": "0b9a73f9-5549-49a0-b06b-3dfcd001eab0",
   "metadata": {},
   "outputs": [],
   "source": [
    "new_ns = Element.new(data=package_model_namespace_data,model=empty_model)"
   ]
  },
  {
   "cell_type": "code",
   "execution_count": null,
   "id": "18b2e40a-88b9-400d-9716-f38eda852a3c",
   "metadata": {},
   "outputs": [],
   "source": [
    "new_package = Element.new(data=package_model_data,model=empty_model)\n",
    "new_package"
   ]
  },
  {
   "cell_type": "code",
   "execution_count": null,
   "id": "9846216e-42bb-4ffb-92c6-f37ff8cdaee8",
   "metadata": {},
   "outputs": [],
   "source": [
    "new_element_ownership_pattern(\n",
    "    owner=new_ns, ele=new_package, model=empty_model, member_kind=\"OwningMembership\"\n",
    ")"
   ]
  },
  {
   "cell_type": "markdown",
   "id": "d4c50a10-7971-477c-a218-af7e90c54bf2",
   "metadata": {},
   "source": [
    "### Connect New Model to Library\n",
    "\n",
    "Reference the new model to the library so inheritance and redefinition can be connected to library elements."
   ]
  },
  {
   "cell_type": "code",
   "execution_count": null,
   "id": "80c629ab-653e-4681-90f4-343124573d11",
   "metadata": {},
   "outputs": [],
   "source": [
    "empty_model.reference_other_model(library_model)"
   ]
  },
  {
   "cell_type": "code",
   "execution_count": null,
   "id": "17082fa0-fa1b-44f0-935e-9b8f07045f62",
   "metadata": {},
   "outputs": [],
   "source": [
    "peform_ns = [library_model_ns\n",
    "               for library_model_ns in library_model.ownedElement\n",
    "               if library_model_ns.throughOwningMembership[0].declaredName == 'Performances'][0]\n",
    "\n",
    "perform_eles = peform_ns.throughOwningMembership[0].throughOwningMembership\n",
    "\n",
    "performance = None\n",
    "    \n",
    "for perform_ele in perform_eles:\n",
    "    if perform_ele._metatype in ('Behavior'):\n",
    "        if hasattr(perform_ele, \"declaredName\"):\n",
    "            if perform_ele.declaredName == 'Performance':\n",
    "                performance = perform_ele\n",
    "                \n",
    "performance"
   ]
  },
  {
   "cell_type": "code",
   "execution_count": null,
   "id": "6f29627b-f997-4b8c-af11-6e73aece0c4c",
   "metadata": {},
   "outputs": [],
   "source": [
    "performance._metamodel_hints"
   ]
  },
  {
   "cell_type": "code",
   "execution_count": null,
   "id": "b76bc601-68ba-4f87-bd86-7f3c7c18ab18",
   "metadata": {},
   "outputs": [],
   "source": [
    "performance._data"
   ]
  },
  {
   "cell_type": "markdown",
   "id": "b236586b-2176-4bcf-8d31-fa74135f7730",
   "metadata": {},
   "source": [
    "## New Classifier\n",
    "\n",
    "For the KerML side of the metamodel, Classifier is one of the most basic kinds. We can build up a dictionary with owned attributes."
   ]
  },
  {
   "cell_type": "code",
   "execution_count": null,
   "id": "abcb2424-2c85-4a4f-913b-579108d18118",
   "metadata": {},
   "outputs": [],
   "source": [
    "new_performance = build_from_classifier_pattern(\n",
    "    owner=new_package,\n",
    "    name=\"New Process\",\n",
    "    model=empty_model,\n",
    "    metatype=\"Behavior\",\n",
    "    superclasses=[performance],\n",
    "    specific_fields={\"ownedRelationship\": []}\n",
    ")"
   ]
  },
  {
   "cell_type": "code",
   "execution_count": null,
   "id": "4076160a-50ac-43e3-898f-95b8f5e2aa43",
   "metadata": {},
   "outputs": [],
   "source": [
    "new_package.throughOwningMembership"
   ]
  },
  {
   "cell_type": "code",
   "execution_count": null,
   "id": "91c97988-f36e-4ce7-8fba-4fc1686d3e73",
   "metadata": {},
   "outputs": [],
   "source": [
    "new_process = new_package.throughOwningMembership[0]\n",
    "new_process"
   ]
  },
  {
   "cell_type": "code",
   "execution_count": null,
   "id": "28a08ee9-b3d4-4151-ab93-71f169943df1",
   "metadata": {},
   "outputs": [],
   "source": [
    "new_process._data"
   ]
  },
  {
   "cell_type": "code",
   "execution_count": null,
   "id": "ecbf82a9-1af1-44f6-bc5b-79d0cfa482c5",
   "metadata": {},
   "outputs": [],
   "source": [
    "new_process._derived"
   ]
  },
  {
   "cell_type": "code",
   "execution_count": null,
   "id": "b3b5e725-4c7b-47c3-9da2-53410eac7214",
   "metadata": {},
   "outputs": [],
   "source": [
    "get_more_general_types(new_process,0,20)"
   ]
  },
  {
   "cell_type": "code",
   "execution_count": null,
   "id": "76af9176-c041-400a-9da0-63b668f70f3f",
   "metadata": {},
   "outputs": [],
   "source": [
    "[feature_membership.target[0]\n",
    "        for feature_membership in derive_inherited_featurememberships(new_process)\n",
    "    ] + new_process.throughFeatureMembership"
   ]
  },
  {
   "cell_type": "code",
   "execution_count": null,
   "id": "3a95920a-a819-41f4-a6bf-52617e425c1e",
   "metadata": {},
   "outputs": [],
   "source": [
    "new_process._data"
   ]
  },
  {
   "cell_type": "code",
   "execution_count": null,
   "id": "61823a7f-debc-4fd8-9836-379ca5f6cc74",
   "metadata": {},
   "outputs": [],
   "source": [
    "new_process.feature"
   ]
  },
  {
   "cell_type": "code",
   "execution_count": null,
   "id": "cac6745e-5ad9-4826-b20a-19296ecd8de3",
   "metadata": {},
   "outputs": [],
   "source": [
    "performance.ownedRelationship"
   ]
  },
  {
   "cell_type": "code",
   "execution_count": null,
   "id": "613edffe-207e-43f1-8de2-2600e7b18f99",
   "metadata": {},
   "outputs": [],
   "source": [
    "process_model_package_data = {\n",
    "    'name': \"Battery Pack\",\n",
    "    'isLibraryElement': False,\n",
    "    'documentation': [],\n",
    "    'isConjugated': False,\n",
    "    'isSufficient': False,\n",
    "    'isAbstract': False,\n",
    "    'ownedElement': [],\n",
    "    'owner': {},\n",
    "    '@type': \"Classifier\",\n",
    "    '@id': str(uuid4())\n",
    "}\n",
    "new_classifier = Element.new(data=classifier_model_data,model=sysml_model)\n",
    "new_classifier"
   ]
  },
  {
   "cell_type": "code",
   "execution_count": null,
   "id": "da54e82c-7e3a-4038-ab90-be80e2a519f7",
   "metadata": {},
   "outputs": [],
   "source": [
    "process_model_package_data = {\n",
    "    'name': \"Battery Pack\",\n",
    "    'isLibraryElement': False,\n",
    "    'documentation': [],\n",
    "    'isConjugated': False,\n",
    "    'isSufficient': False,\n",
    "    'isAbstract': False,\n",
    "    'ownedElement': [],\n",
    "    'owner': {},\n",
    "    '@type': \"Classifier\",\n",
    "    '@id': str(uuid4())\n",
    "}\n",
    "new_classifier = Element.new(data=classifier_model_data,model=sysml_model)\n",
    "new_classifier"
   ]
  },
  {
   "cell_type": "markdown",
   "id": "ce821850-7d7e-4699-8a71-ffe8ac5da6fc",
   "metadata": {},
   "source": [
    "## New Feature\n",
    "A new Feature has some owned attributes and can be standalone in KerML."
   ]
  },
  {
   "cell_type": "markdown",
   "id": "bf033dbe-eb45-4db4-8f49-774636eb41ab",
   "metadata": {},
   "source": [
    "## New OwningMembership\n",
    "\n",
    "The OwningMembership, of which the OwningFeatureMembership is a sub-metatype, is what is used to organize the model hierarchy. Connecting two elements with this relationship should also updated derived fields such as owner and ownedElements."
   ]
  },
  {
   "cell_type": "code",
   "execution_count": null,
   "id": "2a5671ab-adeb-4cc4-9ce4-24dddd331c9a",
   "metadata": {},
   "outputs": [],
   "source": [
    "new_om_source = new_package\n",
    "new_om_target = new_classifier\n",
    "new_om_source_id = new_package._id\n",
    "new_om_target_id = new_classifier._id\n",
    "om_data = {\n",
    "    'isLibraryElement': False,\n",
    "    'documentation': [],\n",
    "    'source': [{'@id': new_om_source_id}],\n",
    "    'target': [{'@id': new_om_target_id}],\n",
    "    'owningRelatedElement': {'@id': new_om_source_id},\n",
    "    'ownedRelatedElement': [{'@id': new_om_target_id}],\n",
    "    'relatedElement': [{'@id': new_om_source_id}, {'@id': new_om_target_id}],\n",
    "    '@type': \"OwningMembership\",\n",
    "    '@id': str(uuid4())\n",
    "}\n",
    "new_om = Element.new(data=om_data,model=sysml_model)\n",
    "new_om\n",
    "(new_om_source_id, new_om_target_id)\n"
   ]
  },
  {
   "cell_type": "code",
   "execution_count": null,
   "id": "ebaa71a7-d71e-48c0-a604-315731d1671f",
   "metadata": {},
   "outputs": [],
   "source": [
    "new_om"
   ]
  },
  {
   "cell_type": "code",
   "execution_count": null,
   "id": "6350ff5a-e4fe-4827-add5-b70fc5fa9951",
   "metadata": {},
   "outputs": [],
   "source": [
    "new_package.ownedElement"
   ]
  },
  {
   "cell_type": "markdown",
   "id": "f63fb023-c8b2-4222-a3fd-6c9f36765456",
   "metadata": {},
   "source": [
    "### Derive Properties Due to Relationship\n",
    "\n",
    "On the two ends of the relationship are fields that need to have fields updated"
   ]
  },
  {
   "cell_type": "code",
   "execution_count": null,
   "id": "fd2f727b-6d22-44c5-9f11-ac3b2dc12344",
   "metadata": {},
   "outputs": [],
   "source": [
    "new_package._data.update(\n",
    "    {'ownedElement': new_package._data['ownedElement'] + [{'@id': new_om_target_id}]\n",
    "    }\n",
    ")\n",
    "new_package.resolve()\n",
    "\n",
    "new_classifier._data.update(\n",
    "    {'owner': {'@id': new_om_source_id}\n",
    "    }\n",
    ")\n",
    "new_classifier.resolve()"
   ]
  },
  {
   "cell_type": "code",
   "execution_count": null,
   "id": "0ab74d5a-071a-4443-945f-9ad1d74dd371",
   "metadata": {},
   "outputs": [],
   "source": [
    "new_package._data"
   ]
  },
  {
   "cell_type": "code",
   "execution_count": null,
   "id": "2fac9f65-7b1d-4af5-8785-cc3e954addd4",
   "metadata": {},
   "outputs": [],
   "source": [
    "new_package.ownedElement"
   ]
  },
  {
   "cell_type": "code",
   "execution_count": null,
   "id": "ab614ba0-d9ae-40ea-97a5-d9c5bbcbd40b",
   "metadata": {},
   "outputs": [],
   "source": [
    "new_classifier.owner"
   ]
  },
  {
   "cell_type": "code",
   "execution_count": null,
   "id": "cda56ca6-50f4-4489-bc41-68a5f9263175",
   "metadata": {},
   "outputs": [],
   "source": [
    "new_package['ownedElement']"
   ]
  },
  {
   "cell_type": "code",
   "execution_count": null,
   "id": "e78b9d9e-52d9-4e12-8d4c-4a3642f381a3",
   "metadata": {},
   "outputs": [],
   "source": []
  }
 ],
 "metadata": {
  "kernelspec": {
   "display_name": "Python 3 (ipykernel)",
   "language": "python",
   "name": "python3"
  },
  "language_info": {
   "codemirror_mode": {
    "name": "ipython",
    "version": 3
   },
   "file_extension": ".py",
   "mimetype": "text/x-python",
   "name": "python",
   "nbconvert_exporter": "python",
   "pygments_lexer": "ipython3",
   "version": "3.9.6"
  }
 },
 "nbformat": 4,
 "nbformat_minor": 5
}
