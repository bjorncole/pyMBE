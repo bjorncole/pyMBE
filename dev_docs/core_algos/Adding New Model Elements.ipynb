{
 "cells": [
  {
   "cell_type": "markdown",
   "id": "2e67ffa6-c30a-4017-be1d-044dba065f78",
   "metadata": {},
   "source": [
    "# Adding New Model Elements\n",
    "\n",
    "This notebook walks through adding in-memory elements via PyMBE and tracking the additions to support updating model repositories after a session."
   ]
  },
  {
   "cell_type": "code",
   "execution_count": null,
   "id": "9e5cee07-82e9-43cf-80ea-37b4c621ac8f",
   "metadata": {},
   "outputs": [],
   "source": [
    "import pymbe.api as pm\n",
    "from pymbe.model import Element\n",
    "from pymbe.model import MetaModel\n",
    "from pymbe.model_modification import \\\n",
    "    create_new_classifier, create_new_relationship, create_new_feature"
   ]
  },
  {
   "cell_type": "markdown",
   "id": "013a2b75-ff55-4211-afaa-15de5a2566bb",
   "metadata": {},
   "source": [
    "## Metamodel fields for new elements\n",
    "\n",
    "Inspect the metamodels for attributes needed to make new elements"
   ]
  },
  {
   "cell_type": "code",
   "execution_count": null,
   "id": "2a6266ef-40b2-46b5-9511-6782f5083524",
   "metadata": {},
   "outputs": [],
   "source": [
    "mm = MetaModel()\n",
    "mm.metamodel_hints['ActionDefinition'][0:3]"
   ]
  },
  {
   "cell_type": "code",
   "execution_count": null,
   "id": "7d82f353-9346-4c82-9b45-41b27ea3f45a",
   "metadata": {},
   "outputs": [],
   "source": [
    "mm.pre_made_dicts['ActionDefinition']"
   ]
  },
  {
   "cell_type": "markdown",
   "id": "9c16ac57-8348-49da-a720-d9add98b3807",
   "metadata": {},
   "source": [
    "## New Package\n",
    "The most basic element in a model for grouping things is the package. It holds a place within a modeling project to associate other model contents."
   ]
  },
  {
   "cell_type": "code",
   "execution_count": null,
   "id": "9f968e44-9eec-49b7-a539-9d484601dd09",
   "metadata": {},
   "outputs": [],
   "source": [
    "package_model_data = {\n",
    "    'name': \"Power Pack Package\",\n",
    "    'isLibraryElement': False,\n",
    "    'filterCondition': [],\n",
    "    'ownedElement': [],\n",
    "    'owner': {},\n",
    "    '@type': \"Package\",\n",
    "    '@id': str(uuid4())\n",
    "}"
   ]
  },
  {
   "cell_type": "code",
   "execution_count": null,
   "id": "5486d278-7a2c-483f-995d-da1cb3d06e6f",
   "metadata": {},
   "outputs": [],
   "source": [
    "sysml_model = pm.Model(elements={})\n",
    "sysml_model"
   ]
  },
  {
   "cell_type": "code",
   "execution_count": null,
   "id": "18b2e40a-88b9-400d-9716-f38eda852a3c",
   "metadata": {},
   "outputs": [],
   "source": [
    "new_package = Element.new(data=package_model_data,model=sysml_model)\n",
    "new_package"
   ]
  },
  {
   "cell_type": "markdown",
   "id": "b236586b-2176-4bcf-8d31-fa74135f7730",
   "metadata": {},
   "source": [
    "## New Classifier\n",
    "\n",
    "For the KerML side of the metamodel, Classifier is one of the most basic kinds. We can build up a dictionary with owned attributes."
   ]
  },
  {
   "cell_type": "code",
   "execution_count": null,
   "id": "da54e82c-7e3a-4038-ab90-be80e2a519f7",
   "metadata": {},
   "outputs": [],
   "source": [
    "classifier_model_data = {\n",
    "    'name': \"Battery Pack\",\n",
    "    'isLibraryElement': False,\n",
    "    'documentation': [],\n",
    "    'isConjugated': False,\n",
    "    'isSufficient': False,\n",
    "    'isAbstract': False,\n",
    "    'ownedElement': [],\n",
    "    'owner': {},\n",
    "    '@type': \"Classifier\",\n",
    "    '@id': str(uuid4())\n",
    "}\n",
    "new_classifier = Element.new(data=classifier_model_data,model=sysml_model)\n",
    "new_classifier"
   ]
  },
  {
   "cell_type": "markdown",
   "id": "ce821850-7d7e-4699-8a71-ffe8ac5da6fc",
   "metadata": {},
   "source": [
    "## New Feature\n",
    "A new Feature has some owned attributes and can be standalone in KerML."
   ]
  },
  {
   "cell_type": "markdown",
   "id": "bf033dbe-eb45-4db4-8f49-774636eb41ab",
   "metadata": {},
   "source": [
    "## New OwningMembership\n",
    "\n",
    "The OwningMembership, of which the OwningFeatureMembership is a sub-metatype, is what is used to organize the model hierarchy. Connecting two elements with this relationship should also updated derived fields such as owner and ownedElements."
   ]
  },
  {
   "cell_type": "code",
   "execution_count": null,
   "id": "2a5671ab-adeb-4cc4-9ce4-24dddd331c9a",
   "metadata": {},
   "outputs": [],
   "source": [
    "new_om_source = new_package\n",
    "new_om_target = new_classifier\n",
    "new_om_source_id = new_package._id\n",
    "new_om_target_id = new_classifier._id\n",
    "om_data = {\n",
    "    'isLibraryElement': False,\n",
    "    'documentation': [],\n",
    "    'source': [{'@id': new_om_source_id}],\n",
    "    'target': [{'@id': new_om_target_id}],\n",
    "    'owningRelatedElement': {'@id': new_om_source_id},\n",
    "    'ownedRelatedElement': [{'@id': new_om_target_id}],\n",
    "    'relatedElement': [{'@id': new_om_source_id}, {'@id': new_om_target_id}],\n",
    "    '@type': \"OwningMembership\",\n",
    "    '@id': str(uuid4())\n",
    "}\n",
    "new_om = Element.new(data=om_data,model=sysml_model)\n",
    "new_om\n",
    "(new_om_source_id, new_om_target_id)\n"
   ]
  },
  {
   "cell_type": "code",
   "execution_count": null,
   "id": "ebaa71a7-d71e-48c0-a604-315731d1671f",
   "metadata": {},
   "outputs": [],
   "source": [
    "new_om"
   ]
  },
  {
   "cell_type": "code",
   "execution_count": null,
   "id": "6350ff5a-e4fe-4827-add5-b70fc5fa9951",
   "metadata": {},
   "outputs": [],
   "source": [
    "new_package.ownedElement"
   ]
  },
  {
   "cell_type": "markdown",
   "id": "f63fb023-c8b2-4222-a3fd-6c9f36765456",
   "metadata": {},
   "source": [
    "### Derive Properties Due to Relationship\n",
    "\n",
    "On the two ends of the relationship are fields that need to have fields updated"
   ]
  },
  {
   "cell_type": "code",
   "execution_count": null,
   "id": "fd2f727b-6d22-44c5-9f11-ac3b2dc12344",
   "metadata": {},
   "outputs": [],
   "source": [
    "new_package._data.update(\n",
    "    {'ownedElement': new_package._data['ownedElement'] + [{'@id': new_om_target_id}]\n",
    "    }\n",
    ")\n",
    "new_package.resolve()\n",
    "\n",
    "new_classifier._data.update(\n",
    "    {'owner': {'@id': new_om_source_id}\n",
    "    }\n",
    ")\n",
    "new_classifier.resolve()"
   ]
  },
  {
   "cell_type": "code",
   "execution_count": null,
   "id": "0ab74d5a-071a-4443-945f-9ad1d74dd371",
   "metadata": {},
   "outputs": [],
   "source": [
    "new_package._data"
   ]
  },
  {
   "cell_type": "code",
   "execution_count": null,
   "id": "2fac9f65-7b1d-4af5-8785-cc3e954addd4",
   "metadata": {},
   "outputs": [],
   "source": [
    "new_package.ownedElement"
   ]
  },
  {
   "cell_type": "code",
   "execution_count": null,
   "id": "ab614ba0-d9ae-40ea-97a5-d9c5bbcbd40b",
   "metadata": {},
   "outputs": [],
   "source": [
    "new_classifier.owner"
   ]
  },
  {
   "cell_type": "code",
   "execution_count": null,
   "id": "cda56ca6-50f4-4489-bc41-68a5f9263175",
   "metadata": {},
   "outputs": [],
   "source": [
    "new_package['ownedElement']"
   ]
  },
  {
   "cell_type": "code",
   "execution_count": null,
   "id": "e78b9d9e-52d9-4e12-8d4c-4a3642f381a3",
   "metadata": {},
   "outputs": [],
   "source": []
  }
 ],
 "metadata": {
  "kernelspec": {
   "display_name": "Python 3 (ipykernel)",
   "language": "python",
   "name": "python3"
  },
  "language_info": {
   "codemirror_mode": {
    "name": "ipython",
    "version": 3
   },
   "file_extension": ".py",
   "mimetype": "text/x-python",
   "name": "python",
   "nbconvert_exporter": "python",
   "pygments_lexer": "ipython3",
   "version": "3.9.6"
  }
 },
 "nbformat": 4,
 "nbformat_minor": 5
}
