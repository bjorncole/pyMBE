{
 "cells": [
  {
   "cell_type": "markdown",
   "id": "0b29b3fe-4145-499c-90f9-a383a8d3ca02",
   "metadata": {},
   "source": [
    "# Annex A Execution\n",
    "\n",
    "A notebook implementing the execution rules from KerML Annex A with PyMBE."
   ]
  },
  {
   "cell_type": "code",
   "execution_count": 1,
   "id": "f7839ebb-7c5b-4284-9ca4-5a83c53cb1ec",
   "metadata": {},
   "outputs": [],
   "source": [
    "import json\n",
    "import pymbe.api as pm\n",
    "\n",
    "import copy\n",
    "\n",
    "from importlib import resources as lib_resources\n",
    "\n",
    "from pathlib import Path\n",
    "\n",
    "from typing import Any, Collection, Dict, List, Tuple, Union\n",
    "\n",
    "from pymbe.model import Model, Element\n",
    "from pymbe.model_modification import *\n",
    "\n",
    "from pymbe.query.metamodel_navigator import is_type_undefined_mult, \\\n",
    "                                    is_multiplicity_one, \\\n",
    "                                    is_multiplicity_specific_finite, \\\n",
    "                                    get_finite_multiplicity_types, \\\n",
    "                                    identify_connectors_one_side, \\\n",
    "                                    get_lower_multiplicity, \\\n",
    "                                    get_upper_multiplicity, \\\n",
    "                                    does_behavior_have_write_features, \\\n",
    "                                    get_most_specific_feature_type, \\\n",
    "                                    has_type_named, \\\n",
    "                                    get_effective_lower_multiplicity, \\\n",
    "                                    get_feature_bound_values, \\\n",
    "                                    get_more_general_types\n",
    "\n",
    "from pymbe.metamodel import derive_inherited_featurememberships\n",
    "\n",
    "from uuid import uuid4"
   ]
  },
  {
   "cell_type": "markdown",
   "id": "58774846-db97-4e49-b8da-6eef42b2b0b0",
   "metadata": {},
   "source": [
    "## Key Helpers for the Algorithm\n",
    "\n",
    "These helpers are yet to be implemented in the core of the Python tool and thus need to be more spelled out."
   ]
  },
  {
   "cell_type": "markdown",
   "id": "539c53c5-b093-45b3-8026-2cea43082b3d",
   "metadata": {},
   "source": [
    "### Check for Connectors to Features"
   ]
  },
  {
   "cell_type": "code",
   "execution_count": 2,
   "id": "8b787a36-0513-48b7-bf60-3793ccc30c84",
   "metadata": {},
   "outputs": [],
   "source": [
    "def is_feature_connected(feature):\n",
    "    print(f\"...Inspecting {feature.declaredName} for connector references.\")\n",
    "    if hasattr(feature, \"reverseReferenceSubsetting\"):\n",
    "        print(f\"...Found link to connector end {feature.reverseReferenceSubsetting[0]}\")\n",
    "        return True\n",
    "    else:\n",
    "        print(f\"...Found no reverse edge outgoing to connector end.\")\n",
    "        return False"
   ]
  },
  {
   "cell_type": "markdown",
   "id": "8bc0ffdb-28d1-4454-bcb0-6bf2e1c492b9",
   "metadata": {},
   "source": [
    "### Identify Important Metatypes"
   ]
  },
  {
   "cell_type": "code",
   "execution_count": 3,
   "id": "58066cfa-b4d2-47a5-be4a-643d4372d15b",
   "metadata": {},
   "outputs": [],
   "source": [
    "def feature_metas():\n",
    "    return {'Feature', 'Step'}\n",
    "\n",
    "def classifier_metas():\n",
    "    return {'Classifier', 'Behavior', 'Structure'}\n",
    "\n",
    "def assoc_metas():\n",
    "    return {'Association'}\n",
    "\n",
    "def connector_metas():\n",
    "    return {'Connector', 'Succession'}\n",
    "\n",
    "def datatype_metas():\n",
    "    return {'DataType'}"
   ]
  },
  {
   "cell_type": "markdown",
   "id": "8b970d71-5689-4ad6-8d7b-108a75f19ffc",
   "metadata": {},
   "source": [
    "### Print atoms as if in KerML Files"
   ]
  },
  {
   "cell_type": "code",
   "execution_count": 4,
   "id": "7bf7019f-c443-468c-87a9-e24ba6fabb61",
   "metadata": {},
   "outputs": [],
   "source": [
    "def serialize_kerml_atom(atom_to_print):\n",
    "    \n",
    "    atom_string = \"#atom\\n\"\n",
    "    \n",
    "    if hasattr(atom_to_print, \"throughUnioning\"):\n",
    "        atom_string = \"\"\n",
    "    \n",
    "    if atom_to_print._metatype == \"Classifier\":\n",
    "        atom_string = atom_string + \"classifier \"\n",
    "    elif atom_to_print._metatype == \"Behavior\":\n",
    "        atom_string = atom_string + \"behavior \"\n",
    "    elif atom_to_print._metatype == \"Association\":\n",
    "        atom_string = atom_string + \"association \"\n",
    "    elif atom_to_print._metatype == \"Succession\":\n",
    "        atom_string = atom_string + \"succession \"\n",
    "    elif atom_to_print._metatype == \"Structure\":\n",
    "        atom_string = atom_string + \"struct \"\n",
    "    elif atom_to_print._metatype == \"DataType\":\n",
    "        atom_string = atom_string + \"datatype \"\n",
    "    \n",
    "    atom_string = atom_string + atom_to_print.basic_name\n",
    "    \n",
    "    if len(atom_to_print.throughSubclassification) > 0:\n",
    "        atom_string = atom_string + \" specializes \" + \\\n",
    "            \", \".join([sub.basic_name for sub in atom_to_print.throughSubclassification])\n",
    "        \n",
    "    if hasattr(atom_to_print, \"throughUnioning\"):\n",
    "        atom_string = atom_string + \" unions \" + \\\n",
    "            \", \".join([sub.basic_name for sub in atom_to_print.throughUnioning])\n",
    "    \n",
    "    if len(atom_to_print.throughFeatureMembership) > 0:\n",
    "        atom_string = atom_string + \" {\\n\"\n",
    "        for feature in atom_to_print.throughFeatureMembership:\n",
    "            if feature._metatype == \"Feature\":\n",
    "                atom_string = atom_string + \"   feature \"\n",
    "            elif feature._metatype == \"Step\":\n",
    "                atom_string = atom_string + \"   step \"\n",
    "            elif feature._metatype == \"Connector\":\n",
    "                atom_string = atom_string + \"   connector \"\n",
    "            elif feature._metatype == \"Succession\":\n",
    "                atom_string = atom_string + \"   succession \"\n",
    "                \n",
    "            if len(feature.throughFeatureTyping) > 0:\n",
    "                atom_string = atom_string + feature.basic_name + \" : \" + feature.throughFeatureTyping[0].basic_name\n",
    "            else:\n",
    "                atom_string = atom_string + feature.basic_name\n",
    "                \n",
    "            if len(feature.throughRedefinition) > 0:\n",
    "                atom_string = atom_string + \" redefines \" + \\\n",
    "                    \", \".join([sub.basic_name for sub in feature.throughRedefinition])\n",
    "                \n",
    "            atom_string = atom_string + \";\\n\"\n",
    "        atom_string = atom_string + \"}\\n\"\n",
    "    elif hasattr(atom_to_print, \"throughEndFeatureMembership\"):\n",
    "        atom_string = atom_string + \" {\\n\"\n",
    "        for feature in atom_to_print.throughEndFeatureMembership:\n",
    "            if feature._metatype == \"Feature\":\n",
    "                atom_string = atom_string + \"   end feature \"\n",
    "            elif feature._metatype == \"Step\":\n",
    "                atom_string = atom_string + \"   step \"\n",
    "            elif feature._metatype == \"Connector\":\n",
    "                atom_string = atom_string + \"   connector \"\n",
    "                \n",
    "            if hasattr(feature, \"throughFeatureTyping\"):\n",
    "                atom_string = atom_string + feature.basic_name + \" : \" + feature.throughFeatureTyping[0].basic_name\n",
    "            else:\n",
    "                atom_string = atom_string + feature.basic_name\n",
    "                \n",
    "            if len(feature.throughRedefinition) > 0:\n",
    "                atom_string = atom_string + \" redefines \" + \\\n",
    "                    \", \".join([sub.basic_name for sub in feature.throughRedefinition])\n",
    "                \n",
    "            atom_string = atom_string + \";\\n\"\n",
    "                \n",
    "        atom_string = atom_string + \"}\\n\"\n",
    "    else:\n",
    "        atom_string = atom_string + \";\\n\"\n",
    "        \n",
    "    return atom_string"
   ]
  },
  {
   "cell_type": "markdown",
   "id": "7caea0ba-ebf3-473e-93d6-f4f02037ab92",
   "metadata": {},
   "source": [
    "# Load up Kernel Libraries\n",
    "\n",
    "Load up the model libraries into memory so that key features for subsetting can be found."
   ]
  },
  {
   "cell_type": "code",
   "execution_count": 5,
   "id": "09d9067b-6355-4b9d-9ef4-46cbdb353ead",
   "metadata": {},
   "outputs": [
    {
     "name": "stderr",
     "output_type": "stream",
     "text": [
      "c:\\users\\bjorn cole\\documents\\github\\pymbe\\src\\pymbe\\label.py:126: UserWarning: Cannot process Expression elements yet!\n",
      "  warn(f\"Cannot process {expression._metatype} elements yet!\")\n",
      "c:\\users\\bjorn cole\\documents\\github\\pymbe\\src\\pymbe\\label.py:126: UserWarning: Cannot process NullExpression elements yet!\n",
      "  warn(f\"Cannot process {expression._metatype} elements yet!\")\n",
      "c:\\users\\bjorn cole\\documents\\github\\pymbe\\src\\pymbe\\label.py:126: UserWarning: Cannot process BooleanExpression elements yet!\n",
      "  warn(f\"Cannot process {expression._metatype} elements yet!\")\n"
     ]
    }
   ],
   "source": [
    "library = \"KernelLibrary\"\n",
    "\n",
    "library_model = None\n",
    "\n",
    "with lib_resources.path(\"pymbe.static_data\", \"KernelLibrary.json\") as lib_data:\n",
    "    library_model = pm.Model.load_from_post_file(lib_data)"
   ]
  },
  {
   "cell_type": "markdown",
   "id": "cdf018c2-6bb6-49a4-9358-02ba6a991b13",
   "metadata": {},
   "source": [
    "## Routines for Execution\n",
    "\n",
    "The following sections are focused on solving the problem of mapping values to KerML types in the model. The approach taken here is to find one legal set of values for types in the model via an approach where the program will walk straight ahead in the model, deriving values as it goes. This approach is called \"execution\" here."
   ]
  },
  {
   "cell_type": "markdown",
   "id": "e58e6149-69a9-491d-88c1-bec6803fa8d7",
   "metadata": {},
   "source": [
    "### Atom Generation Procedure for Steps 1 through 5"
   ]
  },
  {
   "cell_type": "code",
   "execution_count": 6,
   "id": "7fa57c31-f086-47cf-b068-9f57ea269d7b",
   "metadata": {},
   "outputs": [],
   "source": [
    "def inspect_type_for_atom_rev_2(input_model,\n",
    "                          package_to_execute,\n",
    "                          package_to_populate,\n",
    "                          atom_index,\n",
    "                          cf,\n",
    "                          considered_type,\n",
    "                          bound_features_to_atom_values_dict):\n",
    "    \n",
    "    new_ft_classifier = None\n",
    "    \n",
    "    type_name = \"None\"\n",
    "    if considered_type is not None:\n",
    "        type_name = considered_type.basic_name\n",
    "        \n",
    "    cf_name = cf.basic_name\n",
    "    \n",
    "    lower_features = cf.feature\n",
    "    \n",
    "    #if cf._id not in values_dict_passed:\n",
    "        \n",
    "    new_ft_classifier = build_from_classifier_pattern(\n",
    "        owner=package_to_populate,\n",
    "        name=f\"My{type_name}{atom_index + 1}\",\n",
    "        model=input_model,\n",
    "        specific_fields={},\n",
    "        metatype=considered_type._metatype,\n",
    "        superclasses=[considered_type]\n",
    "    )\n",
    "\n",
    "    #if is_feature_connected(cf):\n",
    "    if cf._id in bound_features_to_atom_values_dict:\n",
    "        bound_features_to_atom_values_dict[cf._id].append(new_ft_classifier)\n",
    "    else:\n",
    "        bound_features_to_atom_values_dict.update({cf._id: [new_ft_classifier]})\n",
    "\n",
    "    print(f\"Executing step 3a. Creating atom #{atom_index + 1} to be value for {cf_name} and specializing \" + \\\n",
    "          f\"{type_name}\")\n",
    "    \n",
    "    #apply this to the redefined properties also\n",
    "    \n",
    "    for redef in cf.throughRedefinition:\n",
    "        print(f\"Found redefined feature for {cf_name}.\")\n",
    "        if redef._id in bound_features_to_atom_values_dict:\n",
    "            bound_features_to_atom_values_dict[redef._id].append(new_ft_classifier)\n",
    "        else:\n",
    "            bound_features_to_atom_values_dict.update({redef._id: [new_ft_classifier]})\n",
    "    \n",
    "    if len(lower_features) == 0:\n",
    "        print(f\"...No lower features found for {cf}. Will finish descent here.\")\n",
    "        \n",
    "    else:\n",
    "        print(f\"...Lower features found for {cf}. Will evaluate it value generation.\")\n",
    "        #for lf in lower_features:\n",
    "        generate_values_for_type_annex_a(input_model,\n",
    "                                         package_to_execute,\n",
    "                                         package_to_populate,\n",
    "                                         cf,\n",
    "                                         atom_index,\n",
    "                                         bound_features_to_atom_values_dict)\n",
    "    \n",
    "    return bound_features_to_atom_values_dict"
   ]
  },
  {
   "cell_type": "code",
   "execution_count": 7,
   "id": "2d967a04-4a3c-4429-bf87-a6f94b154695",
   "metadata": {},
   "outputs": [],
   "source": [
    "def find_model_existing_values_for_feature(feat, values_dict):\n",
    "    \n",
    "    print(f\"...Looking to see if {feat} is bound to other feature values\")\n",
    "    \n",
    "    values_in_dict = []\n",
    "    feature_values_shared = False\n",
    "    \n",
    "    print(f\"...Feature values for {feat} are {feat.throughFeatureValue}\")\n",
    "    \n",
    "    for bound_val in feat.throughFeatureValue:\n",
    "        if bound_val._metatype == 'FeatureReferenceExpression':\n",
    "            print(f\"...Found a feature value bound to feature {feat}\")\n",
    "            referred_item = bound_val.throughMembership[0]\n",
    "            feature_values_shared = True\n",
    "        elif 'Literal' in bound_val._metatype:\n",
    "            print(f\"...Found literal value for {feat}\")\n",
    "\n",
    "    if feature_values_shared:\n",
    "        print(f\"...Taking values from {referred_item} to match to values set for {feat} ({feat._id})\")\n",
    "        try:\n",
    "            values_in_dict = values_dict[referred_item._id]\n",
    "            print(f\"...Found values {values_in_dict} to match to values set for {feat} ({feat._id})\")\n",
    "            try:\n",
    "                values_dict[feat._id] = values_dict[feat._id] + values_in_dict\n",
    "            except KeyError:\n",
    "                values_dict.update({feat._id: values_in_dict})\n",
    "        except KeyError:\n",
    "            pass\n",
    "        \n",
    "        #apply this to the redefined properties also\n",
    "    \n",
    "        for redef in feat.throughRedefinition:\n",
    "            print(f\"Found redefined feature for {feat}.\")\n",
    "            try:\n",
    "                values_in_dict = values_dict[referred_item._id]\n",
    "                print(f\"...Found values {values_in_dict} to match to values set for {redef} ({redef._id})\")\n",
    "                try:\n",
    "                    values_dict[redef._id] = values_dict[redef._id] + values_in_dict\n",
    "                except KeyError:\n",
    "                    values_dict.update({redef._id: values_in_dict})\n",
    "            except KeyError:\n",
    "                pass\n",
    "        \n",
    "        # also apply the value to redefined properties\n",
    "                \n",
    "    return values_in_dict"
   ]
  },
  {
   "cell_type": "code",
   "execution_count": 8,
   "id": "8476dd20-1f30-48ec-9fd4-bfd3fdaefa79",
   "metadata": {},
   "outputs": [],
   "source": [
    "def print_values_dictionary(model, values_dict):\n",
    "    print_string = \"\"\n",
    "    for k, v in values_dict.items():\n",
    "        print_string = print_string + f\">>>Key {model.get_element(k)} ({k}) has values {v}\\n\"\n",
    "        \n",
    "    print(print_string)"
   ]
  },
  {
   "cell_type": "code",
   "execution_count": 9,
   "id": "b6013a68-fb3d-4304-ade0-9ee35b9b494d",
   "metadata": {},
   "outputs": [],
   "source": [
    "def embed_values_in_model_atom_classifier_style(\n",
    "    input_model,\n",
    "    bound_features_to_atom_values_dict,\n",
    "    type_to_value,\n",
    "    new_classifier,\n",
    "    package_to_populate\n",
    "):\n",
    "\n",
    "    for bound_feature_id in bound_features_to_atom_values_dict.keys():\n",
    "        bound_feature = input_model.get_element(element_id=bound_feature_id)\n",
    "        if bound_feature._metatype in feature_metas():\n",
    "            print(f\"(Atom style)...Working to connect the feature {bound_feature} to generated types inside atom {new_classifier} via \" + \\\n",
    "                  f\"covering pattern with values {bound_features_to_atom_values_dict[bound_feature_id]}.\")\n",
    "            if type_to_value in bound_feature.reverseFeatureMembership:\n",
    "                redefined_bound_feature = apply_covered_feature_pattern(\n",
    "                    one_member_classifiers=bound_features_to_atom_values_dict[bound_feature_id],\n",
    "                    feature_to_cover=bound_feature,\n",
    "                    type_to_apply_pattern_on=new_classifier,\n",
    "                    model=input_model,\n",
    "                    new_types_owner=package_to_populate,\n",
    "                    covering_classifier_prefix=\"Values for \",\n",
    "                    covering_classifier_suffix=\"\",\n",
    "                    redefining_feature_prefix=\"\",\n",
    "                    redefining_feature_suffix=\" (Covered)\",\n",
    "                )\n",
    "        if bound_feature._metatype in connector_metas():\n",
    "            print(f\"(Atom style)...Working to connect the feature {bound_feature} to generated types inside atom {new_classifier} via \" + \\\n",
    "                  f\"covering pattern with values {bound_features_to_atom_values_dict[bound_feature_id]}.\")\n",
    "            print(f\"...Building covered connector under {new_classifier}\")\n",
    "                    \n",
    "            redefined_bound_feature = apply_covered_connector_pattern(\n",
    "                one_member_classifiers=bound_features_to_atom_values_dict[bound_feature_id],\n",
    "                feature_to_cover=bound_feature,\n",
    "                type_to_apply_pattern_on=new_classifier,\n",
    "                model=input_model,\n",
    "                new_types_owner=package_to_populate,\n",
    "                covering_classifier_prefix=\"Values for \",\n",
    "                covering_classifier_suffix=\"\",\n",
    "                redefining_feature_prefix=\"\",\n",
    "                redefining_feature_suffix=\"\",\n",
    "                metatype=bound_feature._metatype,\n",
    "                separate_connectors=True\n",
    "            )"
   ]
  },
  {
   "cell_type": "code",
   "execution_count": 10,
   "id": "2d591ff5-38ad-4426-9c02-275514111cb5",
   "metadata": {},
   "outputs": [],
   "source": [
    "def create_feature_write_performance_atoms(input_model,\n",
    "                                            bound_features_to_atom_values_dict,\n",
    "                                            cf_fwp,\n",
    "                                            package_to_populate):\n",
    "    \n",
    "    \"\"\"\n",
    "    Create FeatureWritePerformance atoms and the associated timeslices\n",
    "    \"\"\"\n",
    "    \n",
    "    # find onOccurrence in feature list\n",
    "    \n",
    "    features_in_fwp = cf_fwp.feature\n",
    "    occurrence_bound = None\n",
    "    accessed_type = None\n",
    "    \n",
    "    print(f\"...Features found in FWP are {features_in_fwp}\")\n",
    "    \n",
    "    for cf in features_in_fwp:\n",
    "        if cf.basic_name == 'onOccurrence' and len(cf.throughRedefinition) > 0:\n",
    "            print(f\"...Found onOccurrence feature\")\n",
    "            occurrence_bound = get_feature_bound_values(cf)[0]\n",
    "            print(f\"...Found a feature value bound to onOccurrence feature which is {occurrence_bound}\")\n",
    "                    \n",
    "            # expect that onOccurrence has nested features\n",
    "            \n",
    "            for cf2 in cf.feature:\n",
    "                print(f\"...Features found in onOccurrence are {cf.feature}\")\n",
    "                if cf2.basic_name == 'startingAt' and len(cf.throughRedefinition) > 0:\n",
    "                    for cf3 in cf2.feature:\n",
    "                        if cf3.basic_name == 'accessedFeature' and len(cf.throughRedefinition) > 0:\n",
    "                            accessed_type = cf3.throughSubsetting[0]\n",
    "                            print(f\"...Found accessedFeature feature bound to {accessed_type}\")\n",
    "    \n",
    "    # get the thing to timeslice\n",
    "    \n",
    "    time_sliced_occurrence = None\n",
    "    \n",
    "    try:\n",
    "        time_sliced_occurrence = bound_features_to_atom_values_dict[occurrence_bound._id]\n",
    "        print(f\"...Occurrence atom for {occurrence_bound} is found as {time_sliced_occurrence}\")\n",
    "    except KeyError:\n",
    "        # need to make a new classifier here\n",
    "        print(f\"...No occurrence atom for {occurrence_bound} found. Creating a new one.\")\n",
    "        type_to_value = get_most_specific_feature_type(occurrence_bound)\n",
    "        base_name = type_to_value.basic_name\n",
    "        new_classifier = build_from_classifier_pattern(\n",
    "            owner=package_to_populate,\n",
    "            name=f\"My{base_name}\",\n",
    "            model=input_model,\n",
    "            specific_fields={},\n",
    "            metatype=type_to_value._metatype,\n",
    "            superclasses=[type_to_value]\n",
    "        )\n",
    "        time_sliced_occurrence = new_classifier\n",
    "        bound_features_to_atom_values_dict.update({occurrence_bound._id: [time_sliced_occurrence]})\n",
    "    \n",
    "    # create time slice for after this FWP is applied\n",
    "    \n",
    "    time_slice = None\n",
    "    need_new_slice = True\n",
    "    \n",
    "    try:\n",
    "        potential_atoms = package_to_populate.throughOwningMembership\n",
    "        occurrence_atoms = bound_features_to_atom_values_dict[occurrence_bound._id]\n",
    "        for pa in potential_atoms:\n",
    "            if pa.basic_name == get_most_specific_feature_type(occurrence_bound).basic_name + \"TimeSlice\":\n",
    "                print(f\"Found previous time slice created for {time_sliced_occurrence}\")\n",
    "                need_new_slice = False\n",
    "                time_slice = pa\n",
    "    except KeyError:\n",
    "        need_new_slice = True\n",
    "    \n",
    "    if need_new_slice:\n",
    "        new_slice = build_from_portion_pattern(\n",
    "            owner=package_to_populate,\n",
    "            name_extension=\"TimeSlice\",\n",
    "            model=input_model,\n",
    "            classifier_to_be_portioned=get_most_specific_feature_type(occurrence_bound),\n",
    "            feature_to_be_set=[],\n",
    "            feature_values=[],\n",
    "            specific_fields={}\n",
    "        )\n",
    "        time_slice = new_slice\n",
    "        #try:\n",
    "        #    bound_features_to_atom_values_dict[occurrence_bound._id].append(new_slice)\n",
    "        #except KeyError:\n",
    "        #    bound_features_to_atom_values_dict.update({occurrence_bound._id: [new_slice]})\n",
    "    \n",
    "    # need to add time slice to this occurrence\n",
    "    \n",
    "    print(f\"Building feature with metatype {cf_fwp._metatype} under {time_sliced_occurrence[0]} with name after{cf_fwp.basic_name.capitalize()}\")\n",
    "    \n",
    "    build_from_feature_pattern(\n",
    "        owner=time_sliced_occurrence[0],\n",
    "        name=\"after\"+cf_fwp.basic_name.capitalize(),\n",
    "        model=input_model,\n",
    "        specific_fields={},\n",
    "        feature_type=time_slice,\n",
    "        direction=\"\",\n",
    "        metatype=\"Feature\",\n",
    "        connector_end=False,\n",
    "    )\n",
    "    \n",
    "    type_to_value = get_most_specific_feature_type(cf_fwp)\n",
    "    base_name = cf_fwp.basic_name\n",
    "    fwp_atom = build_from_classifier_pattern(\n",
    "            owner=package_to_populate,\n",
    "            name=f\"FeatureWritePerformanceFor{base_name.capitalize()}\",\n",
    "            model=input_model,\n",
    "            specific_fields={},\n",
    "            metatype=type_to_value._metatype,\n",
    "            superclasses=[type_to_value]\n",
    "        )\n",
    "    \n",
    "    bound_features_to_atom_values_dict.update({cf_fwp._id: [fwp_atom]})\n",
    "    \n",
    "    return bound_features_to_atom_values_dict"
   ]
  },
  {
   "cell_type": "code",
   "execution_count": 11,
   "id": "ce9a2ee2-694f-422f-a35c-71a3375d4f3c",
   "metadata": {},
   "outputs": [],
   "source": [
    "def generate_values_for_type_annex_a(input_model,\n",
    "                                     package_to_execute,\n",
    "                                     package_to_populate,\n",
    "                                     type_to_value,\n",
    "                                     atom_index,\n",
    "                                     bound_features_to_atom_values_dict):\n",
    "    \n",
    "    \"\"\"\n",
    "    Generate values for the given single type using the Annex A rules\n",
    "    \n",
    "    bound_features_to_atom_values_dict - pass as a mutable object, update as we go\n",
    "    \"\"\"\n",
    "    \n",
    "    print(f\"Applying Annex A atom algorithm to {type_to_value.basic_name}\")\n",
    "    \n",
    "    new_classifier = None\n",
    "    \n",
    "    if type_to_value._metatype in classifier_metas() and not has_type_named(type_to_value, \"FeatureWritePerformance\"):\n",
    "    \n",
    "        # Step 1 - create new atom from the classifier\n",
    "        base_name = type_to_value.basic_name\n",
    "        new_classifier = build_from_classifier_pattern(\n",
    "            owner=package_to_populate,\n",
    "            name=f\"My{base_name}\",\n",
    "            model=input_model,\n",
    "            specific_fields={},\n",
    "            metatype=type_to_value._metatype,\n",
    "            superclasses=[type_to_value]\n",
    "        )\n",
    "        \n",
    "        print(f\"Executing step 1. Working from {base_name} to create {new_classifier.declaredName}\")\n",
    "    \n",
    "    # use derived property 'feature' to get all features including the inherited ones\n",
    "    candidate_features = type_to_value.feature\n",
    "    \n",
    "    try:\n",
    "        #print(f\"Trying to find metatype for {type_to_value.throughFeatureTyping}\")\n",
    "        featured_meta = type_to_value.throughFeatureTyping[0]._metatype\n",
    "        print(f\"Type {type_to_value.basic_name} is has a type of metatype {featured_meta}.\")\n",
    "        if featured_meta in datatype_metas():\n",
    "            print(f\"Type {type_to_value.basic_name} is typed by a datatype. Bypassing further elaboration.\")\n",
    "            return bound_features_to_atom_values_dict\n",
    "    except:\n",
    "        pass\n",
    "    \n",
    "    print(f\"...Found features {candidate_features} under the type to value {type_to_value.basic_name}.\")\n",
    "    \n",
    "    # set up for multiple passes on the feature list, will test per pass to determine whether to handle it\n",
    "    \n",
    "    # TODO: Instead of this testing approach, gather all features and allocated into sub-collections that\n",
    "    # handle these passes\n",
    "    \n",
    "    passes = ['Non-connector Features', 'FeatureWritePerformances', 'Connector Features']\n",
    "    \n",
    "    for pass_number, pass_kind in enumerate(passes):\n",
    "        \n",
    "        print(f\"Currently on pass {pass_kind} under {type_to_value}.\")\n",
    "        print(f\"Current values dict at this step is\")\n",
    "        print_values_dictionary(input_model, bound_features_to_atom_values_dict)\n",
    "    \n",
    "        for cf in candidate_features:\n",
    "            \n",
    "            if has_type_named(cf, \"FeatureWritePerformance\") and not pass_kind == 'FeatureWritePerformances':\n",
    "                continue\n",
    "            if cf._metatype not in connector_metas() and not pass_kind == 'Non-connector Features':\n",
    "                if not has_type_named(cf, \"FeatureWritePerformance\"):\n",
    "                    continue\n",
    "            if cf._metatype in connector_metas() and not pass_kind == 'Connector Features':\n",
    "                continue\n",
    "            \n",
    "            # common pre-processing steps\n",
    "            \n",
    "            cf_name = cf.basic_name\n",
    "            \n",
    "            lm = get_effective_lower_multiplicity(cf)\n",
    "            \n",
    "            if lm > -1:\n",
    "                # need to test multiplicity\n",
    "                print(f\"...Found effective lower multiplicity of {cf_name} ({cf._id}) as {lm}.\")\n",
    "            elif cf._metatype not in connector_metas():\n",
    "                print(f\"...{cf_name} ({cf._id}) has unbounded multiplicity. Skipping.\")\n",
    "                continue\n",
    "            \n",
    "            redefining_features = set(cf.reverseRedefinition)\n",
    "            cf_redefined = False\n",
    "            \n",
    "            for rf in redefining_features:\n",
    "                print(f\"...Discovered that {cf} ({cf._id}) is redefined by {rf} ({rf._id})! Skipping.\")\n",
    "                cf_redefined = True\n",
    "                \n",
    "            if cf_redefined:\n",
    "                continue\n",
    "            \n",
    "            # Step 2 - find Features with lower multiplicity > 0 that are not connectors\n",
    "            \n",
    "            # Look for existing values for the feature or previous atom assignment\n",
    "            \n",
    "            values_set_in_model = find_model_existing_values_for_feature(cf, bound_features_to_atom_values_dict)\n",
    "            \n",
    "            # Pass-specific core steps\n",
    "            \n",
    "            if has_type_named(cf, \"FeatureWritePerformance\"):\n",
    "                print(f\"Feature {cf} has type of FeatureWritePerformance\")\n",
    "                if pass_kind == 'FeatureWritePerformances':\n",
    "                    create_feature_write_performance_atoms(\n",
    "                        input_model,\n",
    "                        bound_features_to_atom_values_dict,\n",
    "                        cf,\n",
    "                        package_to_populate\n",
    "                    )\n",
    "            \n",
    "            elif cf._metatype not in connector_metas() and pass_kind == 'Non-connector Features':\n",
    "                if len(values_set_in_model) == 0:\n",
    "                    # Step 3 - create new Atoms to go with the Features\n",
    "                    \n",
    "                    used_typ = get_most_specific_feature_type(cf)\n",
    "                    \n",
    "                    if used_typ._metatype in datatype_metas():\n",
    "                        print(f\"Executing step 2. Identified {cf_name} ({cf._id}) as a non-connector Feature. No existing values found. \" + \\\n",
    "                              f\"This is a datatype. Skipping generation of values.\")\n",
    "                        continue\n",
    "                    else:\n",
    "                        print(f\"Executing step 2. Identified {cf_name} ({cf._id}) as a non-connector Feature. No existing values found. \" + \\\n",
    "                              f\"Generating {lm} new values specializing type {used_typ}.\")\n",
    "                    \n",
    "                    for i in range(0, lm):\n",
    "                        inspect_type_for_atom_rev_2(input_model,\n",
    "                          package_to_execute,\n",
    "                          package_to_populate,\n",
    "                          i,\n",
    "                          cf,\n",
    "                          used_typ,\n",
    "                          bound_features_to_atom_values_dict\n",
    "                         )\n",
    "                                \n",
    "            if cf._metatype in connector_metas() and pass_kind == 'Connector Features':\n",
    "                print(f\"Executing step 4. Identified {cf.basic_name} as a Connector\")\n",
    "\n",
    "                # check the feature ends of the connector\n",
    "                \n",
    "                used_typ = get_most_specific_feature_type(cf)\n",
    "                \n",
    "                connector_atoms = []\n",
    "\n",
    "                connector_ends = cf.throughEndFeatureMembership\n",
    "\n",
    "                lm_end1 = get_effective_lower_multiplicity(connector_ends[0])\n",
    "                lm_end2 = get_effective_lower_multiplicity(connector_ends[1])\n",
    "\n",
    "                if lm_end1 == 1 and lm_end2 == 1:\n",
    "                    print(f\"Executing step 5. Identified {cf} as a Connector with 1-to-1 ends\")\n",
    "                    \n",
    "                    end_connected_mults = [get_effective_lower_multiplicity(connector_ends[i].throughReferenceSubsetting[0]) for i in range(0,2)]\n",
    "                    \n",
    "                    # get the multiplicity of the ends\n",
    "                    #end1_connected_mult = get_effective_lower_multiplicity(connector_ends[0].throughReferenceSubsetting[0])\n",
    "                    #end2_connected_mult = get_effective_lower_multiplicity(connector_ends[1].throughReferenceSubsetting[0])\n",
    "                    \n",
    "                    for i, end_connected_mult in enumerate(end_connected_mults):\n",
    "                    \n",
    "                        print(f\"...Effective lower multiplicity of {connector_ends[i].throughReferenceSubsetting[0]}, bound to assoc feature {connector_ends[i]}, \" + \\\n",
    "                              f\"is {end_connected_mult}\")\n",
    "\n",
    "                    # check to see if the already built instances have a finite value\n",
    "                    \n",
    "                    print(f\"...Looking for connected end feature values filled in during execution.\")\n",
    "                    \n",
    "                    found_values = []\n",
    "                    \n",
    "                    ends_to_process = []\n",
    "\n",
    "                    if hasattr(cf, \"throughEndFeatureMembership\"):\n",
    "                        for cf_ele in cf.throughEndFeatureMembership:\n",
    "                            ends_to_process.append(cf_ele)\n",
    "                    if used_typ is not None and hasattr(used_typ, \"throughEndFeatureMembership\"):\n",
    "                        for cf_ele in used_typ.throughEndFeatureMembership:\n",
    "                            ends_to_process.append(cf_ele)\n",
    "                    \n",
    "                    for con_end in ends_to_process:\n",
    "                        bound_feature = con_end.throughReferenceSubsetting[0]\n",
    "                        if bound_feature._id in bound_features_to_atom_values_dict:\n",
    "                            print(f\"...Found connected end feature values filled in during execution {bound_features_to_atom_values_dict[bound_feature._id]}!\")\n",
    "                            found_values.append(len(bound_features_to_atom_values_dict[bound_feature._id]))\n",
    "                                                          \n",
    "                    number_to_make = max(end_connected_mults + found_values)\n",
    "                    \n",
    "                    print(f\"...Found that number of atoms to make for {cf} is {number_to_make}\")\n",
    "\n",
    "                    feature_value_atoms = []\n",
    "\n",
    "                    used_typ = None\n",
    "\n",
    "                    for i in range(0, number_to_make):\n",
    "                        print(f\"Executing step 5b. Creating atom #{i + 1} to be value for {cf}\")\n",
    "\n",
    "                        typ = []\n",
    "                        used_typ = None\n",
    "                        used_name = cf.declaredName\n",
    "                        used_metatype = \"Association\"\n",
    "                        \n",
    "                        elaboration_end = False\n",
    "\n",
    "                        if hasattr(cf, \"throughFeatureTyping\"):\n",
    "                            typ = cf.throughFeatureTyping\n",
    "\n",
    "                        if len(typ) > 0:\n",
    "                            used_typ = typ[0]\n",
    "                            used_name = used_typ.declaredName\n",
    "                            used_metatype = used_typ._metatype\n",
    "\n",
    "                        #feature_value_atoms.append(new_ft_classifier)\n",
    "\n",
    "                        # need to do this for Association types and also nested end features\n",
    "\n",
    "                        #ends_to_process = []\n",
    "\n",
    "                        #if hasattr(cf, \"throughEndFeatureMembership\"):\n",
    "                        #    for cf_ele in cf.throughEndFeatureMembership:\n",
    "                        #        ends_to_process.append(cf_ele)\n",
    "                        #if used_typ is not None and hasattr(used_typ, \"throughEndFeatureMembership\"):\n",
    "                        #    for cf_ele in used_typ.throughEndFeatureMembership:\n",
    "                        #        ends_to_process.append(cf_ele)\n",
    "\n",
    "                        for con_end in ends_to_process:\n",
    "                            print(f\"...Inspecting {con_end} for connected features.\")\n",
    "                            if len(con_end.throughReferenceSubsetting) > 0:\n",
    "                                bound_feature = con_end.throughReferenceSubsetting[0]\n",
    "                                bound_feature_type = bound_feature.throughFeatureTyping\n",
    "\n",
    "                                print(f\"...Found connected feature {bound_feature}.\")\n",
    "\n",
    "                                if len(bound_feature_type) > 0:\n",
    "                                    feature_used_type = bound_feature_type[0]\n",
    "\n",
    "                                    if bound_feature._id in bound_features_to_atom_values_dict:\n",
    "                                        # if not enough atoms exist, make some more\n",
    "                                        if (i + 1) > len(bound_features_to_atom_values_dict[bound_feature._id]):\n",
    "                                            print(f\"Executing step 5b (1-to-1 variant). Creating atom #{i + 1} to \" + \\\n",
    "                                                f\"be value for {con_end} and also {bound_feature} to fill in rest of values.\")\n",
    "                                            \n",
    "                                            inspect_type_for_atom_rev_2(input_model,\n",
    "                                                                      package_to_execute,\n",
    "                                                                      package_to_populate,\n",
    "                                                                      i,\n",
    "                                                                      bound_feature,\n",
    "                                                                      feature_used_type,\n",
    "                                                                      bound_features_to_atom_values_dict\n",
    "                                                                     )\n",
    "                                            \n",
    "                                    else:\n",
    "                                        print(f\"Executing step 5b (1-to-1 variant). Creating atom #{i + 1} to \" + \\\n",
    "                                            f\"be value for {con_end} and also {bound_feature}\")\n",
    "                                        \n",
    "                                        if has_type_named(bound_feature, \"FeatureWritePerformance\"):\n",
    "                                            create_feature_write_performance_atoms(\n",
    "                                                input_model,\n",
    "                                                bound_features_to_atom_values_dict,\n",
    "                                                bound_feature,\n",
    "                                                package_to_populate\n",
    "                                            )\n",
    "                                        \n",
    "                                        else:\n",
    "                                            inspect_type_for_atom_rev_2(input_model,\n",
    "                                                                      package_to_execute,\n",
    "                                                                      package_to_populate,\n",
    "                                                                      i,\n",
    "                                                                      bound_feature,\n",
    "                                                                      feature_used_type,\n",
    "                                                                      bound_features_to_atom_values_dict            \n",
    "                                                                     )\n",
    "                                        \n",
    "\n",
    "                        if len(ends_to_process) == 2:\n",
    "                            source_end = ends_to_process[0]\n",
    "                            target_end = ends_to_process[1]\n",
    "\n",
    "                            source_bound_feature = source_end.throughReferenceSubsetting[0]\n",
    "                            target_bound_feature = target_end.throughReferenceSubsetting[0]\n",
    "                            \n",
    "                            try:\n",
    "                                source_atom = bound_features_to_atom_values_dict[source_bound_feature._id][i]\n",
    "                            except KeyError:\n",
    "                                raise KeyError(f\"...Failed to find atoms for {source_bound_feature} and connector {cf}.\" + \\\n",
    "                                               f\"{bound_features_to_atom_values_dict}\")\n",
    "                            \n",
    "                            try:\n",
    "                                target_atom = bound_features_to_atom_values_dict[target_bound_feature._id][i]\n",
    "                            except KeyError:\n",
    "                                raise KeyError(f\"...Failed to find atoms for {target_bound_feature} and connector {cf}.\" + \\\n",
    "                                               f\"{bound_features_to_atom_values_dict}\")\n",
    "\n",
    "                            print(f\"...Typing atom association ends from {source_atom} to {target_atom} under \" + \n",
    "                                 f\"{used_name}{i + 1} to specialize {[ft.basic_name for ft in cf.throughFeatureTyping]}\")\n",
    "                            \n",
    "                            # check for typing\n",
    "                            \n",
    "                            cn_types = cf.throughFeatureTyping\n",
    "                            \n",
    "                            if len(cf.throughFeatureTyping) == 0:\n",
    "                                pass\n",
    "\n",
    "                            new_cn_classifier = build_from_binary_assoc_pattern(\n",
    "                                name=f\"{used_name}{i + 1}\",\n",
    "                                source_role_name=connector_ends[0].basic_name,\n",
    "                                target_role_name=connector_ends[1].basic_name,\n",
    "                                source_type=source_atom,\n",
    "                                target_type=target_atom,\n",
    "                                model=input_model,\n",
    "                                metatype=used_metatype,\n",
    "                                owner=package_to_populate,\n",
    "                                superclasses=cf.throughFeatureTyping,\n",
    "                                specific_fields={}\n",
    "                            )\n",
    "                            \n",
    "                            if cf._id in bound_features_to_atom_values_dict:\n",
    "                                bound_features_to_atom_values_dict[cf._id].append(new_cn_classifier)\n",
    "                            else:\n",
    "                                bound_features_to_atom_values_dict.update({cf._id: [new_cn_classifier]})\n",
    "                            \n",
    "                            connector_atoms.append(new_cn_classifier)\n",
    "                        \n",
    "            \n",
    "    #if type_to_value._metatype in feature_metas():\n",
    "        # Step 1 - create new atom from the classifier\n",
    "        \n",
    "    #    try:\n",
    "            #print(f\"Trying to find metatype for {type_to_value.throughFeatureTyping}\")\n",
    "    #        feature_type = get_most_specific_feature_type(type_to_value)\n",
    "            #feature_type = type_to_value.throughFeatureTyping[0]\n",
    "    #        print(f\"Found type {feature_type} for {type_to_value}.\")\n",
    "            \n",
    "    #        base_name = feature_type.basic_name\n",
    "    #        new_classifier = build_from_classifier_pattern(\n",
    "    #            owner=package_to_populate,\n",
    "    #            name=f\"My{base_name}\",\n",
    "    #            model=input_model,\n",
    "    #            specific_fields={},\n",
    "    #            metatype=type_to_value._metatype,\n",
    "    #            superclasses=[type_to_value]\n",
    "    #        )\n",
    "            \n",
    "    #        print(f\"Executing step 1. Working from {base_name} to create {new_classifier.declaredName}\") \n",
    "            \n",
    "    #    except:\n",
    "    #        print(f\"Cannot find the feature type for {type_to_value.basic_name}\")\n",
    "        \n",
    "    if type_to_value._metatype in datatype_metas():\n",
    "        print(f\"Classifier {type_to_value.basic_name} is a datatype. Bypassing further elaboration.\")\n",
    "        return bound_features_to_atom_values_dict\n",
    "    \n",
    "    elif get_most_specific_feature_type(type_to_value) is not None:\n",
    "        \n",
    "        try:\n",
    "            if get_most_specific_feature_type(type_to_value)._metatype in datatype_metas():\n",
    "                print(f\"Classifier {type_to_value.basic_name} is a datatype or typed by one. Bypassing further elaboration.\")\n",
    "                return bound_features_to_atom_values_dict\n",
    "        except:\n",
    "            pass\n",
    "            \n",
    "    print(f\"Current values dict is\")\n",
    "    print_values_dictionary(input_model, bound_features_to_atom_values_dict)\n",
    "    \n",
    "    if len(bound_features_to_atom_values_dict.keys()) == 0:\n",
    "        return {}\n",
    "    \n",
    "    if new_classifier == None:\n",
    "        print(f\"...No classifiers created for {type_to_value}\")\n",
    "        try:\n",
    "            new_classifier = bound_features_to_atom_values_dict[type_to_value._id][atom_index]\n",
    "            print(f\"...Classifier for {type_to_value} found in bound values dict as {new_classifier}\")\n",
    "        except KeyError:\n",
    "            pass\n",
    "    else:\n",
    "        print(f\"...Classifier {new_classifier} created for {type_to_value}\")\n",
    "    \n",
    "    embed_values_in_model_atom_classifier_style(\n",
    "        input_model,\n",
    "        bound_features_to_atom_values_dict,\n",
    "        type_to_value,\n",
    "        new_classifier,\n",
    "        package_to_populate\n",
    "    )\n",
    "    \n",
    "    return bound_features_to_atom_values_dict\n",
    "    \n",
    "    #print(f\"Bound features dict: \\n{bound_features_to_atom_values_dict}\")"
   ]
  },
  {
   "cell_type": "markdown",
   "id": "fd27e6cc-2fd8-4890-9c93-a7e8caa1c6ad",
   "metadata": {},
   "source": [
    "## Atom Metadata Load\n",
    "\n",
    "Bring up the Atom metadata."
   ]
  },
  {
   "cell_type": "code",
   "execution_count": 12,
   "id": "bc46ad6b-d020-4434-bc5e-377cf7acee7b",
   "metadata": {},
   "outputs": [
    {
     "name": "stderr",
     "output_type": "stream",
     "text": [
      "c:\\users\\bjorn cole\\documents\\github\\pymbe\\src\\pymbe\\label.py:126: UserWarning: Cannot process MetadataAccessExpression elements yet!\n",
      "  warn(f\"Cannot process {expression._metatype} elements yet!\")\n"
     ]
    },
    {
     "data": {
      "text/plain": [
       "<SysML v2 Model (C:\\Users\\Bjorn Cole\\Documents\\GitHub\\pyMBE\\dev_docs\\core_algos\\annex_a_data\\A-2-Atoms.json)>"
      ]
     },
     "execution_count": 12,
     "metadata": {},
     "output_type": "execute_result"
    }
   ],
   "source": [
    "filename = \"A-2-Atoms\"\n",
    "\n",
    "if not filename.endswith(\".json\"):\n",
    "    filename += \".json\"\n",
    "\n",
    "json_file = Path(Path.cwd()) / \"annex_a_data\" / filename\n",
    "\n",
    "atoms_data = pm.Model.load_from_post_file(json_file)\n",
    "atoms_data"
   ]
  },
  {
   "cell_type": "markdown",
   "id": "3d42352a-0aa9-4e97-8959-f8fcd026b565",
   "metadata": {},
   "source": [
    "## Annex A.3.2 Without Connectors Case"
   ]
  },
  {
   "cell_type": "code",
   "execution_count": 13,
   "id": "3eaa3d32-7a9f-44b7-abb8-87fc45922128",
   "metadata": {},
   "outputs": [
    {
     "data": {
      "text/plain": [
       "<SysML v2 Model (C:\\Users\\Bjorn Cole\\Documents\\GitHub\\pyMBE\\dev_docs\\core_algos\\annex_a_data\\A-3-2-WithoutConnectors.json)>"
      ]
     },
     "execution_count": 13,
     "metadata": {},
     "output_type": "execute_result"
    }
   ],
   "source": [
    "filename = \"A-3-2-WithoutConnectors\"\n",
    "\n",
    "if not filename.endswith(\".json\"):\n",
    "    filename += \".json\"\n",
    "\n",
    "json_file = Path(Path.cwd()) / \"annex_a_data\" / filename\n",
    "\n",
    "without_connectors_data = pm.Model.load_from_post_file(json_file)\n",
    "without_connectors_data"
   ]
  },
  {
   "cell_type": "code",
   "execution_count": 14,
   "id": "bffd842c-b348-4f13-9c68-6d6d45241d8a",
   "metadata": {},
   "outputs": [
    {
     "data": {
      "text/plain": [
       "[WithoutConnectorsModelToBeExecuted «Package»,\n",
       " WithoutConnectorsExecution «Package»]"
      ]
     },
     "execution_count": 14,
     "metadata": {},
     "output_type": "execute_result"
    }
   ],
   "source": [
    "packages = [ele for ele in without_connectors_data.elements.values() if ele._metatype == 'Package']\n",
    "packages"
   ]
  },
  {
   "cell_type": "code",
   "execution_count": 15,
   "id": "f573e8e8-a1fb-4589-8244-65514cbce1a5",
   "metadata": {},
   "outputs": [],
   "source": [
    "without_connectors_to_execute_classifiers = \\\n",
    "    [ele for ele in packages[0].throughOwningMembership if ele._metatype == 'Classifier']"
   ]
  },
  {
   "cell_type": "code",
   "execution_count": 16,
   "id": "18a359ea-5462-4f8f-8c0c-18115d80ecdc",
   "metadata": {},
   "outputs": [
    {
     "data": {
      "text/plain": [
       "[fd3d0478-00fa-4dbb-be30-185bd3fb746a «Documentation»,\n",
       " Bicycle «Classifier»,\n",
       " Wheel «Classifier»,\n",
       " BikeFork «Classifier»]"
      ]
     },
     "execution_count": 16,
     "metadata": {},
     "output_type": "execute_result"
    }
   ],
   "source": [
    "packages[0].throughOwningMembership"
   ]
  },
  {
   "cell_type": "code",
   "execution_count": 17,
   "id": "64b3a331-4359-4d3f-bb37-6fe88576baa9",
   "metadata": {},
   "outputs": [
    {
     "data": {
      "text/plain": [
       "'Wheel'"
      ]
     },
     "execution_count": 17,
     "metadata": {},
     "output_type": "execute_result"
    }
   ],
   "source": [
    "packages[0].throughOwningMembership[2].basic_name"
   ]
  },
  {
   "cell_type": "code",
   "execution_count": 18,
   "id": "5aaabc8e-73d2-4a03-9d2e-872b38879578",
   "metadata": {},
   "outputs": [
    {
     "name": "stdout",
     "output_type": "stream",
     "text": [
      "Applying Annex A atom algorithm to Bicycle\n",
      "Executing step 1. Working from Bicycle to create MyBicycle\n",
      "Local more general is [Anything «Classifier»]\n",
      "Local more general is []\n",
      "...Found features [rollsOn: Wheel «Feature», holdsWheel: BikeFork «Feature»] under the type to value Bicycle.\n",
      "Currently on pass Non-connector Features under Bicycle «Classifier».\n",
      "Current values dict at this step is\n",
      "\n",
      "...Found effective lower multiplicity of rollsOn (ba23b9d1-762e-4e40-8faa-8037ed7fc476) as 2.\n",
      "...Looking to see if rollsOn: Wheel «Feature» is bound to other feature values\n",
      "...Feature values for rollsOn: Wheel «Feature» are []\n",
      "Executing step 2. Identified rollsOn (ba23b9d1-762e-4e40-8faa-8037ed7fc476) as a non-connector Feature. No existing values found. Generating 2 new values specializing type Wheel «Classifier».\n",
      "Local more general is [Wheel «Classifier»]\n",
      "Local more general is [Anything «Classifier»]\n",
      "Local more general is []\n",
      "Executing step 3a. Creating atom #1 to be value for rollsOn and specializing Wheel\n",
      "...No lower features found for rollsOn: Wheel «Feature». Will finish descent here.\n",
      "Local more general is [Wheel «Classifier»]\n",
      "Local more general is [Anything «Classifier»]\n",
      "Local more general is []\n",
      "Executing step 3a. Creating atom #2 to be value for rollsOn and specializing Wheel\n",
      "...No lower features found for rollsOn: Wheel «Feature». Will finish descent here.\n",
      "...holdsWheel (3ada5f71-6453-425a-b4d3-fb4b14c1fec4) has unbounded multiplicity. Skipping.\n",
      "Currently on pass FeatureWritePerformances under Bicycle «Classifier».\n",
      "Current values dict at this step is\n",
      ">>>Key rollsOn: Wheel «Feature» (ba23b9d1-762e-4e40-8faa-8037ed7fc476) has values [MyWheel1 «Classifier», MyWheel2 «Classifier»]\n",
      "\n",
      "Currently on pass Connector Features under Bicycle «Classifier».\n",
      "Current values dict at this step is\n",
      ">>>Key rollsOn: Wheel «Feature» (ba23b9d1-762e-4e40-8faa-8037ed7fc476) has values [MyWheel1 «Classifier», MyWheel2 «Classifier»]\n",
      "\n",
      "Current values dict is\n",
      ">>>Key rollsOn: Wheel «Feature» (ba23b9d1-762e-4e40-8faa-8037ed7fc476) has values [MyWheel1 «Classifier», MyWheel2 «Classifier»]\n",
      "\n",
      "...Classifier MyBicycle «Classifier» created for Bicycle «Classifier»\n",
      "(Atom style)...Working to connect the feature rollsOn: Wheel «Feature» to generated types inside atom MyBicycle «Classifier» via covering pattern with values [MyWheel1 «Classifier», MyWheel2 «Classifier»].\n"
     ]
    },
    {
     "data": {
      "text/plain": [
       "{'ba23b9d1-762e-4e40-8faa-8037ed7fc476': [MyWheel1 «Classifier»,\n",
       "  MyWheel2 «Classifier»]}"
      ]
     },
     "execution_count": 18,
     "metadata": {},
     "output_type": "execute_result"
    }
   ],
   "source": [
    "generate_values_for_type_annex_a(\n",
    "    without_connectors_data,\n",
    "    packages[0],\n",
    "    packages[1],\n",
    "    packages[0].throughOwningMembership[1],\n",
    "    0,\n",
    "    {}\n",
    ")"
   ]
  },
  {
   "cell_type": "code",
   "execution_count": 19,
   "id": "e723a2a2-c5f3-4b44-9cde-0a975ff00e99",
   "metadata": {},
   "outputs": [
    {
     "name": "stdout",
     "output_type": "stream",
     "text": [
      "#atom\n",
      "classifier MyBicycle specializes Bicycle {\n",
      "   feature rollsOn (Covered) : Values for rollsOn;\n",
      "}\n",
      "\n",
      "#atom\n",
      "classifier MyWheel1 specializes Wheel;\n",
      "\n",
      "#atom\n",
      "classifier MyWheel2 specializes Wheel;\n",
      "\n",
      "classifier Values for rollsOn unions MyWheel1, MyWheel2;\n",
      "\n"
     ]
    }
   ],
   "source": [
    "for item in packages[1].throughOwningMembership:\n",
    "    print(serialize_kerml_atom(item))"
   ]
  },
  {
   "cell_type": "markdown",
   "id": "76527f48-4908-42a8-8115-f9895e2a00af",
   "metadata": {},
   "source": [
    "## Annex A.3.3 One-To-One Connectors Case"
   ]
  },
  {
   "cell_type": "code",
   "execution_count": 20,
   "id": "f63fe8c2-aa35-45e1-aaa5-d63bf92f629c",
   "metadata": {},
   "outputs": [
    {
     "data": {
      "text/plain": [
       "<SysML v2 Model (C:\\Users\\Bjorn Cole\\Documents\\GitHub\\pyMBE\\dev_docs\\core_algos\\annex_a_data\\A-3-3-OneToOneConnectors.json)>"
      ]
     },
     "execution_count": 20,
     "metadata": {},
     "output_type": "execute_result"
    }
   ],
   "source": [
    "filename = \"A-3-3-OneToOneConnectors\"\n",
    "\n",
    "if not filename.endswith(\".json\"):\n",
    "    filename += \".json\"\n",
    "\n",
    "json_file = Path(Path.cwd()) / \"annex_a_data\" / filename\n",
    "\n",
    "one_2_one_connectors_data = pm.Model.load_from_post_file(json_file)\n",
    "one_2_one_connectors_data"
   ]
  },
  {
   "cell_type": "code",
   "execution_count": 21,
   "id": "32e5f94f-5db8-4df1-b528-947dcd45e24d",
   "metadata": {},
   "outputs": [
    {
     "data": {
      "text/plain": [
       "[Atoms «Package»,\n",
       " WithoutConnectorsModelToBeExecuted «Package»,\n",
       " OneToOneConnectorsModelToBeExecuted «Package»,\n",
       " OneToOneConnectorsExecution «Package»]"
      ]
     },
     "execution_count": 21,
     "metadata": {},
     "output_type": "execute_result"
    }
   ],
   "source": [
    "packages = [ele for ele in one_2_one_connectors_data.elements.values() if ele._metatype == 'Package']\n",
    "packages"
   ]
  },
  {
   "cell_type": "code",
   "execution_count": 22,
   "id": "51301a43-d790-40b7-be39-33e55febea94",
   "metadata": {},
   "outputs": [
    {
     "data": {
      "text/plain": [
       "[df0fadcc-1594-406f-b9ed-4c4380f41787 «Documentation»,\n",
       " Bicycle «Classifier»,\n",
       " <Association([Wheel «Classifier»] ←→ [BikeFork «Classifier»])>]"
      ]
     },
     "execution_count": 22,
     "metadata": {},
     "output_type": "execute_result"
    }
   ],
   "source": [
    "packages[2].throughOwningMembership"
   ]
  },
  {
   "cell_type": "code",
   "execution_count": 23,
   "id": "64e8af0d-69ef-4768-baa5-cf4606960266",
   "metadata": {},
   "outputs": [
    {
     "name": "stdout",
     "output_type": "stream",
     "text": [
      "Applying Annex A atom algorithm to Bicycle\n",
      "Executing step 1. Working from Bicycle to create MyBicycle\n",
      "Local more general is [Anything «Classifier»]\n",
      "Local more general is []\n",
      "...Found features [<Connector([rollsOn: Wheel «Feature»] ←→ [holdsWheel: BikeFork «Feature»])>, rollsOn: Wheel «Feature», holdsWheel: BikeFork «Feature»] under the type to value Bicycle.\n",
      "Currently on pass Non-connector Features under Bicycle «Classifier».\n",
      "Current values dict at this step is\n",
      "\n",
      "...Found effective lower multiplicity of rollsOn (fb0065c5-0cdc-4f61-be2b-29c9083f5efe) as 2.\n",
      "...Looking to see if rollsOn: Wheel «Feature» is bound to other feature values\n",
      "...Feature values for rollsOn: Wheel «Feature» are []\n",
      "Executing step 2. Identified rollsOn (fb0065c5-0cdc-4f61-be2b-29c9083f5efe) as a non-connector Feature. No existing values found. Generating 2 new values specializing type Wheel «Classifier».\n",
      "Local more general is [Wheel «Classifier»]\n",
      "Local more general is [Anything «Classifier»]\n",
      "Local more general is []\n",
      "Executing step 3a. Creating atom #1 to be value for rollsOn and specializing Wheel\n",
      "...No lower features found for rollsOn: Wheel «Feature». Will finish descent here.\n",
      "Local more general is [Wheel «Classifier»]\n",
      "Local more general is [Anything «Classifier»]\n",
      "Local more general is []\n",
      "Executing step 3a. Creating atom #2 to be value for rollsOn and specializing Wheel\n",
      "...No lower features found for rollsOn: Wheel «Feature». Will finish descent here.\n",
      "...holdsWheel (c465e95b-7fae-458d-8b3f-13faa3cc2f2f) has unbounded multiplicity. Skipping.\n",
      "Currently on pass FeatureWritePerformances under Bicycle «Classifier».\n",
      "Current values dict at this step is\n",
      ">>>Key rollsOn: Wheel «Feature» (fb0065c5-0cdc-4f61-be2b-29c9083f5efe) has values [MyWheel1 «Classifier», MyWheel2 «Classifier»]\n",
      "\n",
      "Currently on pass Connector Features under Bicycle «Classifier».\n",
      "Current values dict at this step is\n",
      ">>>Key rollsOn: Wheel «Feature» (fb0065c5-0cdc-4f61-be2b-29c9083f5efe) has values [MyWheel1 «Classifier», MyWheel2 «Classifier»]\n",
      "\n",
      "Local more general is [<Association([Wheel «Classifier»] ←→ [BikeFork «Classifier»])>]\n",
      "...Looking to see if <Connector([rollsOn: Wheel «Feature»] ←→ [holdsWheel: BikeFork «Feature»])> is bound to other feature values\n",
      "...Feature values for <Connector([rollsOn: Wheel «Feature»] ←→ [holdsWheel: BikeFork «Feature»])> are []\n",
      "Executing step 4. Identified fixWheel as a Connector\n",
      "Executing step 5. Identified <Connector([rollsOn: Wheel «Feature»] ←→ [holdsWheel: BikeFork «Feature»])> as a Connector with 1-to-1 ends\n",
      "...Effective lower multiplicity of rollsOn: Wheel «Feature», bound to assoc feature wheel: Wheel «Feature», is 2\n",
      "...Effective lower multiplicity of holdsWheel: BikeFork «Feature», bound to assoc feature fixedTo: BikeFork «Feature», is -1\n",
      "...Looking for connected end feature values filled in during execution.\n",
      "...Found connected end feature values filled in during execution [MyWheel1 «Classifier», MyWheel2 «Classifier»]!\n",
      "...Found that number of atoms to make for <Connector([rollsOn: Wheel «Feature»] ←→ [holdsWheel: BikeFork «Feature»])> is 2\n",
      "Executing step 5b. Creating atom #1 to be value for <Connector([rollsOn: Wheel «Feature»] ←→ [holdsWheel: BikeFork «Feature»])>\n",
      "...Inspecting wheel: Wheel «Feature» for connected features.\n",
      "...Found connected feature rollsOn: Wheel «Feature».\n",
      "...Inspecting fixedTo: BikeFork «Feature» for connected features.\n",
      "...Found connected feature holdsWheel: BikeFork «Feature».\n",
      "Executing step 5b (1-to-1 variant). Creating atom #1 to be value for fixedTo: BikeFork «Feature» and also holdsWheel: BikeFork «Feature»\n",
      "Local more general is [BikeFork «Classifier»]\n",
      "Local more general is [Anything «Classifier»]\n",
      "Local more general is []\n",
      "Executing step 3a. Creating atom #1 to be value for holdsWheel and specializing BikeFork\n",
      "...No lower features found for holdsWheel: BikeFork «Feature». Will finish descent here.\n",
      "...Typing atom association ends from MyWheel1 «Classifier» to MyBikeFork1 «Classifier» under BikeWheelFixed1 to specialize ['BikeWheelFixed']\n",
      "Executing step 5b. Creating atom #2 to be value for <Connector([rollsOn: Wheel «Feature»] ←→ [holdsWheel: BikeFork «Feature»])>\n",
      "...Inspecting wheel: Wheel «Feature» for connected features.\n",
      "...Found connected feature rollsOn: Wheel «Feature».\n",
      "...Inspecting fixedTo: BikeFork «Feature» for connected features.\n",
      "...Found connected feature holdsWheel: BikeFork «Feature».\n",
      "Executing step 5b (1-to-1 variant). Creating atom #2 to be value for fixedTo: BikeFork «Feature» and also holdsWheel: BikeFork «Feature» to fill in rest of values.\n",
      "Local more general is [BikeFork «Classifier»]\n",
      "Local more general is [Anything «Classifier»]\n",
      "Local more general is []\n",
      "Executing step 3a. Creating atom #2 to be value for holdsWheel and specializing BikeFork\n",
      "...No lower features found for holdsWheel: BikeFork «Feature». Will finish descent here.\n",
      "...Typing atom association ends from MyWheel2 «Classifier» to MyBikeFork2 «Classifier» under BikeWheelFixed2 to specialize ['BikeWheelFixed']\n",
      "Current values dict is\n",
      ">>>Key rollsOn: Wheel «Feature» (fb0065c5-0cdc-4f61-be2b-29c9083f5efe) has values [MyWheel1 «Classifier», MyWheel2 «Classifier»]\n",
      ">>>Key holdsWheel: BikeFork «Feature» (c465e95b-7fae-458d-8b3f-13faa3cc2f2f) has values [MyBikeFork1 «Classifier», MyBikeFork2 «Classifier»]\n",
      ">>>Key <Connector([rollsOn: Wheel «Feature»] ←→ [holdsWheel: BikeFork «Feature»])> (c72e81c1-cf09-47a3-9196-dde232b7f02f) has values [<Association([MyWheel1 «Classifier»] ←→ [MyBikeFork1 «Classifier»])>, <Association([MyWheel2 «Classifier»] ←→ [MyBikeFork2 «Classifier»])>]\n",
      "\n",
      "...Classifier MyBicycle «Classifier» created for Bicycle «Classifier»\n",
      "(Atom style)...Working to connect the feature rollsOn: Wheel «Feature» to generated types inside atom MyBicycle «Classifier» via covering pattern with values [MyWheel1 «Classifier», MyWheel2 «Classifier»].\n",
      "(Atom style)...Working to connect the feature holdsWheel: BikeFork «Feature» to generated types inside atom MyBicycle «Classifier» via covering pattern with values [MyBikeFork1 «Classifier», MyBikeFork2 «Classifier»].\n",
      "(Atom style)...Working to connect the feature <Connector([rollsOn: Wheel «Feature»] ←→ [holdsWheel: BikeFork «Feature»])> to generated types inside atom MyBicycle «Classifier» via covering pattern with values [<Association([MyWheel1 «Classifier»] ←→ [MyBikeFork1 «Classifier»])>, <Association([MyWheel2 «Classifier»] ←→ [MyBikeFork2 «Classifier»])>].\n",
      "...Building covered connector under MyBicycle «Classifier»\n"
     ]
    },
    {
     "data": {
      "text/plain": [
       "{'fb0065c5-0cdc-4f61-be2b-29c9083f5efe': [MyWheel1 «Classifier»,\n",
       "  MyWheel2 «Classifier»],\n",
       " 'c465e95b-7fae-458d-8b3f-13faa3cc2f2f': [MyBikeFork1 «Classifier»,\n",
       "  MyBikeFork2 «Classifier»],\n",
       " 'c72e81c1-cf09-47a3-9196-dde232b7f02f': [<Association([MyWheel1 «Classifier»] ←→ [MyBikeFork1 «Classifier»])>,\n",
       "  <Association([MyWheel2 «Classifier»] ←→ [MyBikeFork2 «Classifier»])>]}"
      ]
     },
     "execution_count": 23,
     "metadata": {},
     "output_type": "execute_result"
    }
   ],
   "source": [
    "generate_values_for_type_annex_a(\n",
    "    one_2_one_connectors_data,\n",
    "    packages[2],\n",
    "    packages[3],\n",
    "    packages[2].throughOwningMembership[1],\n",
    "    0,\n",
    "    {}\n",
    ")"
   ]
  },
  {
   "cell_type": "code",
   "execution_count": 24,
   "id": "2deb2b94-e97e-46b9-912e-eb9b9d8eb236",
   "metadata": {},
   "outputs": [
    {
     "data": {
      "text/plain": [
       "[<Association([Wheel «Classifier»] ←→ [BikeFork «Classifier»])>]"
      ]
     },
     "execution_count": 24,
     "metadata": {},
     "output_type": "execute_result"
    }
   ],
   "source": [
    "packages[3].throughOwningMembership[4].throughSubclassification"
   ]
  },
  {
   "cell_type": "code",
   "execution_count": 25,
   "id": "e82b0dfa-e4d7-4e37-951b-7a49b96e91d9",
   "metadata": {},
   "outputs": [
    {
     "name": "stdout",
     "output_type": "stream",
     "text": [
      "#atom\n",
      "classifier MyBicycle specializes Bicycle {\n",
      "   feature rollsOn (Covered) : Values for rollsOn;\n",
      "   feature holdsWheel (Covered) : Values for holdsWheel;\n",
      "   connector fixWheel0 : BikeWheelFixed1;\n",
      "   connector fixWheel1 : BikeWheelFixed2;\n",
      "}\n",
      "\n",
      "#atom\n",
      "classifier MyWheel1 specializes Wheel;\n",
      "\n",
      "#atom\n",
      "classifier MyWheel2 specializes Wheel;\n",
      "\n",
      "#atom\n",
      "classifier MyBikeFork1 specializes BikeFork;\n",
      "\n",
      "#atom\n",
      "association BikeWheelFixed1 specializes BikeWheelFixed {\n",
      "   end feature wheel : MyWheel1 redefines wheel;\n",
      "   end feature fixedTo : MyBikeFork1 redefines fixedTo;\n",
      "}\n",
      "\n",
      "#atom\n",
      "classifier MyBikeFork2 specializes BikeFork;\n",
      "\n",
      "#atom\n",
      "association BikeWheelFixed2 specializes BikeWheelFixed {\n",
      "   end feature wheel : MyWheel2 redefines wheel;\n",
      "   end feature fixedTo : MyBikeFork2 redefines fixedTo;\n",
      "}\n",
      "\n",
      "classifier Values for rollsOn unions MyWheel1, MyWheel2;\n",
      "\n",
      "classifier Values for holdsWheel unions MyBikeFork1, MyBikeFork2;\n",
      "\n"
     ]
    }
   ],
   "source": [
    "for item in packages[3].throughOwningMembership:\n",
    "    print(serialize_kerml_atom(item))"
   ]
  },
  {
   "cell_type": "markdown",
   "id": "33368566-8042-4c8d-a2da-d7c70fd1bc7d",
   "metadata": {},
   "source": [
    "## Annex A.3.6 Timing for Behaviors, Sequences"
   ]
  },
  {
   "cell_type": "code",
   "execution_count": 26,
   "id": "f63d5aba-7169-41ce-b47d-6c9dc1e35636",
   "metadata": {},
   "outputs": [
    {
     "data": {
      "text/plain": [
       "<SysML v2 Model (C:\\Users\\Bjorn Cole\\Documents\\GitHub\\pyMBE\\dev_docs\\core_algos\\annex_a_data\\A-3-6-Sequences.json)>"
      ]
     },
     "execution_count": 26,
     "metadata": {},
     "output_type": "execute_result"
    }
   ],
   "source": [
    "filename = \"A-3-6-Sequences\"\n",
    "\n",
    "if not filename.endswith(\".json\"):\n",
    "    filename += \".json\"\n",
    "\n",
    "json_file = Path(Path.cwd()) / \"annex_a_data\" / filename\n",
    "\n",
    "sequences_data = pm.Model.load_from_post_file(json_file)\n",
    "sequences_data"
   ]
  },
  {
   "cell_type": "code",
   "execution_count": 27,
   "id": "6736b5cd-3f6f-4a18-b390-1ecf26cd6dac",
   "metadata": {},
   "outputs": [
    {
     "data": {
      "text/plain": [
       "[SequencesModelToBeExecuted «Package», SequencesExecution «Package»]"
      ]
     },
     "execution_count": 27,
     "metadata": {},
     "output_type": "execute_result"
    }
   ],
   "source": [
    "packages = [ele for ele in sequences_data.elements.values() if ele._metatype == 'Package']\n",
    "packages"
   ]
  },
  {
   "cell_type": "code",
   "execution_count": 28,
   "id": "74032448-b999-4226-9237-6cb9f9f8c843",
   "metadata": {},
   "outputs": [
    {
     "data": {
      "text/plain": [
       "[]"
      ]
     },
     "execution_count": 28,
     "metadata": {},
     "output_type": "execute_result"
    }
   ],
   "source": [
    "packages[0].ownedElement"
   ]
  },
  {
   "cell_type": "code",
   "execution_count": 29,
   "id": "3871c21b-7b20-4f52-ac0d-1cc5b303db7d",
   "metadata": {},
   "outputs": [
    {
     "data": {
      "text/plain": [
       "[38b62785-6ce9-40d6-87a8-e0f556581f56 «Documentation»,\n",
       " Manufacture «Behavior»,\n",
       " Paint «Behavior»,\n",
       " Dry «Behavior»,\n",
       " Ship «Behavior»]"
      ]
     },
     "execution_count": 29,
     "metadata": {},
     "output_type": "execute_result"
    }
   ],
   "source": [
    "packages[0].throughOwningMembership"
   ]
  },
  {
   "cell_type": "code",
   "execution_count": 30,
   "id": "d7745917-cb02-4f56-8e07-3139fb2fcdf0",
   "metadata": {},
   "outputs": [
    {
     "name": "stdout",
     "output_type": "stream",
     "text": [
      "Applying Annex A atom algorithm to Manufacture\n",
      "Executing step 1. Working from Manufacture to create MyManufacture\n",
      "Local more general is [Performance «Behavior»]\n",
      "Local more general is []\n",
      "...Found features [paint: Paint «Step», dry: Dry «Step», <Succession([paint: Paint «Step»] ←→ [dry: Dry «Step»])>, ship: Ship «Step», <Succession([dry: Dry «Step»] ←→ [ship: Ship «Step»])>] under the type to value Manufacture.\n",
      "Currently on pass Non-connector Features under Manufacture «Behavior».\n",
      "Current values dict at this step is\n",
      "\n",
      "...Found effective lower multiplicity of paint (25ee82c7-0485-4fb8-8b72-bbd960872469) as 1.\n",
      "...Looking to see if paint: Paint «Step» is bound to other feature values\n",
      "...Feature values for paint: Paint «Step» are []\n",
      "Executing step 2. Identified paint (25ee82c7-0485-4fb8-8b72-bbd960872469) as a non-connector Feature. No existing values found. Generating 1 new values specializing type Paint «Behavior».\n",
      "Local more general is [Paint «Behavior»]\n",
      "Local more general is [Performance «Behavior»]\n",
      "Local more general is []\n",
      "Executing step 3a. Creating atom #1 to be value for paint and specializing Paint\n",
      "...No lower features found for paint: Paint «Step». Will finish descent here.\n",
      "...dry (eb0d5f1a-994b-46cb-ba8c-e0aca66d0ce6) has unbounded multiplicity. Skipping.\n",
      "...ship (dd9bd2db-0174-42d5-94e3-ad8fc46a3c13) has unbounded multiplicity. Skipping.\n",
      "Currently on pass FeatureWritePerformances under Manufacture «Behavior».\n",
      "Current values dict at this step is\n",
      ">>>Key paint: Paint «Step» (25ee82c7-0485-4fb8-8b72-bbd960872469) has values [MyPaint1 «Behavior»]\n",
      "\n",
      "Currently on pass Connector Features under Manufacture «Behavior».\n",
      "Current values dict at this step is\n",
      ">>>Key paint: Paint «Step» (25ee82c7-0485-4fb8-8b72-bbd960872469) has values [MyPaint1 «Behavior»]\n",
      "\n",
      "Local more general is []\n",
      "...Looking to see if <Succession([paint: Paint «Step»] ←→ [dry: Dry «Step»])> is bound to other feature values\n",
      "...Feature values for <Succession([paint: Paint «Step»] ←→ [dry: Dry «Step»])> are []\n",
      "Executing step 4. Identified p_before_d as a Connector\n",
      "Executing step 5. Identified <Succession([paint: Paint «Step»] ←→ [dry: Dry «Step»])> as a Connector with 1-to-1 ends\n",
      "...Effective lower multiplicity of paint: Paint «Step», bound to assoc feature earlierOccurrence: Paint «Feature», is 1\n",
      "...Effective lower multiplicity of dry: Dry «Step», bound to assoc feature laterOccurrence: Dry «Feature», is -1\n",
      "...Looking for connected end feature values filled in during execution.\n",
      "...Found connected end feature values filled in during execution [MyPaint1 «Behavior»]!\n",
      "...Found that number of atoms to make for <Succession([paint: Paint «Step»] ←→ [dry: Dry «Step»])> is 1\n",
      "Executing step 5b. Creating atom #1 to be value for <Succession([paint: Paint «Step»] ←→ [dry: Dry «Step»])>\n",
      "...Inspecting earlierOccurrence: Paint «Feature» for connected features.\n",
      "...Found connected feature paint: Paint «Step».\n",
      "...Inspecting laterOccurrence: Dry «Feature» for connected features.\n",
      "...Found connected feature dry: Dry «Step».\n",
      "Executing step 5b (1-to-1 variant). Creating atom #1 to be value for laterOccurrence: Dry «Feature» and also dry: Dry «Step»\n",
      "Local more general is [Dry «Behavior»]\n",
      "Local more general is [Performance «Behavior»]\n",
      "Local more general is []\n",
      "Executing step 3a. Creating atom #1 to be value for dry and specializing Dry\n",
      "...No lower features found for dry: Dry «Step». Will finish descent here.\n",
      "...Typing atom association ends from MyPaint1 «Behavior» to MyDry1 «Behavior» under p_before_d1 to specialize []\n",
      "Local more general is []\n",
      "...Looking to see if <Succession([dry: Dry «Step»] ←→ [ship: Ship «Step»])> is bound to other feature values\n",
      "...Feature values for <Succession([dry: Dry «Step»] ←→ [ship: Ship «Step»])> are []\n",
      "Executing step 4. Identified d_before_s as a Connector\n",
      "Executing step 5. Identified <Succession([dry: Dry «Step»] ←→ [ship: Ship «Step»])> as a Connector with 1-to-1 ends\n",
      "...Effective lower multiplicity of dry: Dry «Step», bound to assoc feature earlierOccurrence: Dry «Feature», is -1\n",
      "...Effective lower multiplicity of ship: Ship «Step», bound to assoc feature laterOccurrence: Ship «Feature», is -1\n",
      "...Looking for connected end feature values filled in during execution.\n",
      "...Found connected end feature values filled in during execution [MyDry1 «Behavior»]!\n",
      "...Found that number of atoms to make for <Succession([dry: Dry «Step»] ←→ [ship: Ship «Step»])> is 1\n",
      "Executing step 5b. Creating atom #1 to be value for <Succession([dry: Dry «Step»] ←→ [ship: Ship «Step»])>\n",
      "...Inspecting earlierOccurrence: Dry «Feature» for connected features.\n",
      "...Found connected feature dry: Dry «Step».\n",
      "...Inspecting laterOccurrence: Ship «Feature» for connected features.\n",
      "...Found connected feature ship: Ship «Step».\n",
      "Executing step 5b (1-to-1 variant). Creating atom #1 to be value for laterOccurrence: Ship «Feature» and also ship: Ship «Step»\n",
      "Local more general is [Ship «Behavior»]\n",
      "Local more general is [Performance «Behavior»]\n",
      "Local more general is []\n",
      "Executing step 3a. Creating atom #1 to be value for ship and specializing Ship\n",
      "...No lower features found for ship: Ship «Step». Will finish descent here.\n",
      "...Typing atom association ends from MyDry1 «Behavior» to MyShip1 «Behavior» under d_before_s1 to specialize []\n",
      "Current values dict is\n",
      ">>>Key paint: Paint «Step» (25ee82c7-0485-4fb8-8b72-bbd960872469) has values [MyPaint1 «Behavior»]\n",
      ">>>Key dry: Dry «Step» (eb0d5f1a-994b-46cb-ba8c-e0aca66d0ce6) has values [MyDry1 «Behavior»]\n",
      ">>>Key <Succession([paint: Paint «Step»] ←→ [dry: Dry «Step»])> (33dd8c59-6935-4815-acca-a2d753a6f81f) has values [<Association([MyPaint1 «Behavior»] ←→ [MyDry1 «Behavior»])>]\n",
      ">>>Key ship: Ship «Step» (dd9bd2db-0174-42d5-94e3-ad8fc46a3c13) has values [MyShip1 «Behavior»]\n",
      ">>>Key <Succession([dry: Dry «Step»] ←→ [ship: Ship «Step»])> (e281beb2-a35a-468d-bda0-a65dd4372371) has values [<Association([MyDry1 «Behavior»] ←→ [MyShip1 «Behavior»])>]\n",
      "\n",
      "...Classifier MyManufacture «Behavior» created for Manufacture «Behavior»\n",
      "(Atom style)...Working to connect the feature paint: Paint «Step» to generated types inside atom MyManufacture «Behavior» via covering pattern with values [MyPaint1 «Behavior»].\n",
      "(Atom style)...Working to connect the feature dry: Dry «Step» to generated types inside atom MyManufacture «Behavior» via covering pattern with values [MyDry1 «Behavior»].\n",
      "(Atom style)...Working to connect the feature <Succession([paint: Paint «Step»] ←→ [dry: Dry «Step»])> to generated types inside atom MyManufacture «Behavior» via covering pattern with values [<Association([MyPaint1 «Behavior»] ←→ [MyDry1 «Behavior»])>].\n",
      "...Building covered connector under MyManufacture «Behavior»\n",
      "(Atom style)...Working to connect the feature ship: Ship «Step» to generated types inside atom MyManufacture «Behavior» via covering pattern with values [MyShip1 «Behavior»].\n",
      "(Atom style)...Working to connect the feature <Succession([dry: Dry «Step»] ←→ [ship: Ship «Step»])> to generated types inside atom MyManufacture «Behavior» via covering pattern with values [<Association([MyDry1 «Behavior»] ←→ [MyShip1 «Behavior»])>].\n",
      "...Building covered connector under MyManufacture «Behavior»\n"
     ]
    },
    {
     "data": {
      "text/plain": [
       "{'25ee82c7-0485-4fb8-8b72-bbd960872469': [MyPaint1 «Behavior»],\n",
       " 'eb0d5f1a-994b-46cb-ba8c-e0aca66d0ce6': [MyDry1 «Behavior»],\n",
       " '33dd8c59-6935-4815-acca-a2d753a6f81f': [<Association([MyPaint1 «Behavior»] ←→ [MyDry1 «Behavior»])>],\n",
       " 'dd9bd2db-0174-42d5-94e3-ad8fc46a3c13': [MyShip1 «Behavior»],\n",
       " 'e281beb2-a35a-468d-bda0-a65dd4372371': [<Association([MyDry1 «Behavior»] ←→ [MyShip1 «Behavior»])>]}"
      ]
     },
     "execution_count": 30,
     "metadata": {},
     "output_type": "execute_result"
    }
   ],
   "source": [
    "generate_values_for_type_annex_a(\n",
    "    sequences_data,\n",
    "    packages[0],\n",
    "    packages[1],\n",
    "    packages[0].throughOwningMembership[1],\n",
    "    0,\n",
    "    {}\n",
    ")"
   ]
  },
  {
   "cell_type": "code",
   "execution_count": 31,
   "id": "ba958288-4c12-42d3-aed6-dab21c081277",
   "metadata": {},
   "outputs": [
    {
     "data": {
      "text/plain": [
       "SequencesExecution «Package»"
      ]
     },
     "execution_count": 31,
     "metadata": {},
     "output_type": "execute_result"
    }
   ],
   "source": [
    "packages[1]"
   ]
  },
  {
   "cell_type": "code",
   "execution_count": 32,
   "id": "021673bf-e141-43b8-9239-d01c1a3d57d5",
   "metadata": {},
   "outputs": [
    {
     "name": "stdout",
     "output_type": "stream",
     "text": [
      "#atom\n",
      "behavior MyManufacture specializes Manufacture {\n",
      "   feature paint (Covered) : MyPaint1;\n",
      "   feature dry (Covered) : MyDry1;\n",
      "   succession p_before_d0 : p_before_d1;\n",
      "   feature ship (Covered) : MyShip1;\n",
      "   succession d_before_s0 : d_before_s1;\n",
      "}\n",
      "\n",
      "#atom\n",
      "behavior MyPaint1 specializes Paint;\n",
      "\n",
      "#atom\n",
      "behavior MyDry1 specializes Dry;\n",
      "\n",
      "#atom\n",
      "association p_before_d1 {\n",
      "   end feature earlierOccurrence : MyPaint1;\n",
      "   end feature laterOccurrence : MyDry1;\n",
      "}\n",
      "\n",
      "#atom\n",
      "behavior MyShip1 specializes Ship;\n",
      "\n",
      "#atom\n",
      "association d_before_s1 {\n",
      "   end feature earlierOccurrence : MyDry1;\n",
      "   end feature laterOccurrence : MyShip1;\n",
      "}\n",
      "\n"
     ]
    }
   ],
   "source": [
    "for item in packages[1].throughOwningMembership:\n",
    "    print(serialize_kerml_atom(item))"
   ]
  },
  {
   "cell_type": "markdown",
   "id": "2e3180d0-f4ea-46df-8da6-0690a93d5617",
   "metadata": {},
   "source": [
    "## Annex A.3.8 Feature Value Changes"
   ]
  },
  {
   "cell_type": "code",
   "execution_count": 33,
   "id": "31e873c4-53b3-4d5e-aa73-762461422aa1",
   "metadata": {},
   "outputs": [],
   "source": [
    "filename = \"A-3-8-ChangingFeatureValues\"\n",
    "\n",
    "if not filename.endswith(\".json\"):\n",
    "    filename += \".json\"\n",
    "\n",
    "json_file = Path(Path.cwd()) / \"annex_a_data\" / filename\n",
    "\n",
    "values_data = pm.Model.load_from_post_file(json_file)\n",
    "values_data\n",
    "\n",
    "values_data.reference_other_model(library_model)"
   ]
  },
  {
   "cell_type": "code",
   "execution_count": 34,
   "id": "26cc51fc-9e1a-4941-9b69-57a8419a9ac6",
   "metadata": {},
   "outputs": [
    {
     "data": {
      "text/plain": [
       "[ChangingFeatureValuesModelToBeExecuted «Package»,\n",
       " ChangingFeatureValuesExecution «Package»]"
      ]
     },
     "execution_count": 34,
     "metadata": {},
     "output_type": "execute_result"
    }
   ],
   "source": [
    "packages = [ele for ele in values_data.elements.values() if ele._metatype == 'Package']\n",
    "packages"
   ]
  },
  {
   "cell_type": "code",
   "execution_count": 35,
   "id": "29f67e9d-845c-46b0-a19a-41e5abade098",
   "metadata": {
    "tags": []
   },
   "outputs": [],
   "source": [
    "#atom_generation_annex_a(values_data, packages[0], packages[1])"
   ]
  },
  {
   "cell_type": "code",
   "execution_count": 36,
   "id": "98577d1b-7428-4229-a3f9-5bb4ec47463b",
   "metadata": {},
   "outputs": [
    {
     "data": {
      "text/plain": [
       "[72f33ab9-7786-4ddd-962b-3dba4f1cf004 «Documentation»,\n",
       " Manufacture «Behavior»,\n",
       " Product «Structure»,\n",
       " Paint «Behavior»,\n",
       " Dry «Behavior»,\n",
       " Ship «Behavior»]"
      ]
     },
     "execution_count": 36,
     "metadata": {},
     "output_type": "execute_result"
    }
   ],
   "source": [
    "packages[0].throughOwningMembership"
   ]
  },
  {
   "cell_type": "code",
   "execution_count": 37,
   "id": "e39a1e01-56fe-487f-93be-dd55366b37cc",
   "metadata": {},
   "outputs": [
    {
     "data": {
      "text/plain": [
       "[objectToPaint: Product «Feature»]"
      ]
     },
     "execution_count": 37,
     "metadata": {},
     "output_type": "execute_result"
    }
   ],
   "source": [
    "packages[0].throughOwningMembership[1].throughFeatureMembership[1].throughFeatureMembership[0].throughRedefinition"
   ]
  },
  {
   "cell_type": "code",
   "execution_count": 38,
   "id": "d2561b06-3604-4939-879b-352f6f13e641",
   "metadata": {},
   "outputs": [
    {
     "name": "stdout",
     "output_type": "stream",
     "text": [
      "Applying Annex A atom algorithm to Manufacture\n",
      "Executing step 1. Working from Manufacture to create MyManufacture\n",
      "Local more general is [Performance «Behavior»]\n",
      "Trial element Performance «Behavior» found.\n",
      "Local more general is [Occurrence «Class»]\n",
      "Local more general is [Anything «Classifier»]\n",
      "Local more general is []\n",
      "...Found features [self «Feature», involvedObjects «Feature», performers «Feature», 16c42f5a-39df-5dae-8bba-4ad4424bd606 «Feature», c64ab43a-790b-5369-b8e4-3382ae24c736 «Feature», enclosedPerformances «Step», thisPerformance «Feature», <Connector([self «Feature»] ←→ [thisPerformance «Feature»])>, subperformances «Step», portionOfLife «Feature», self «Feature», sameLifeOccurrences «Feature», this «Feature», <Connector([self «Feature»] ←→ [this «Feature»])>, localClock «Feature», suboccurrences «Feature», withoutOccurrences «Feature», predecessors «Feature», successors «Feature», immediatePredecessors «Feature», immediateSuccessors «Feature», timeEnclosedOccurrences «Feature», timeCoincidentOccurrences «Feature», spaceEnclosedOccurrences «Feature», spaceTimeEnclosedOccurrences «Feature», spaceTimeEnclosedPoints «Feature», spaceTimeCoincidentOccurrences «Feature», outsideOfOccurrences «Feature», justOutsideOfOccurrences «Feature», matingOccurrences «Feature», innerSpaceDimension «Feature», innerSpaceDimension <= 3 «Invariant», outerSpaceDimension «Feature», notEmpty(outerSpaceDimension) implies Empty FRE «Invariant», portions «Feature», portionOf «Feature», timeSlices «Feature», timeSliceOf «Feature», snapshots «Feature», snapshots == union(startShot, union(middleTimeSlice.snapshots, endShot)) «Invariant», snapshotOf «Feature», startShot «Feature», middleTimeSlice «Feature», isEmpty(Empty FCE) == Empty FCE == Empty FCE «Invariant», <Connector([startShot «Feature»] ←→ [middleTimeSlice «Feature»])>, endShot «Feature», <Connector([middleTimeSlice «Feature»] ←→ [endShot «Feature»])>, spaceSlices «Feature», spaceSliceOf «Feature», spaceShots «Feature», spaceShotOf «Feature», unionsOf «Feature», <BindingConnector([15a7b030-bafa-4a84-9c51-518f159eb2c3 «Feature»] ←→ [self «Feature»])>, intersectionsOf «Feature», <BindingConnector([a2073fe7-1ad7-4fbe-bc8c-997bc5ebfb00 «Feature»] ←→ [self «Feature»])>, differencesOf «Feature», <BindingConnector([50951556-44f6-44c4-b472-2aa6e466c4f8 «Feature»] ←→ [self «Feature»])>, spaceInterior «Feature», spaceInteriorOf «Feature», notEmpty(spaceInterior) implies Empty FRE «Invariant», spaceBoundary «Feature», spaceBoundaryOf «Feature», isClosed implies Empty FRE «Invariant», innerSpaceDimension == 0 implies Empty FRE «Invariant», <Connector([spaceInterior «Feature»] ←→ [28c69c36-b0ae-4e97-926e-ba0740d62854 «Feature»])>, <Connector([3a4a79fa-3798-4dac-9cf9-987baf7eccd8 «Feature»] ←→ [spaceInterior «Feature»])>, innerSpaceOccurrences «Feature», surroundedByOccurrences «Feature», isClosed «Feature», isClosed == isEmpty(Empty FCE) «Invariant», incomingTransfers «Feature», isDispatch «Feature», dispatchScope «Feature», <Connector([self «Feature»] ←→ [dispatchScope «Feature»])>, isRunToCompletion «Feature», runToCompletionScope «Feature», <Connector([self «Feature»] ←→ [runToCompletionScope «Feature»])>, incomingTransferSort «Feature», incomingTransfersToSelf «Feature», outgoingTransfers «Feature», outgoingTransfersFromSelf «Feature», self «Feature», objectToFinish: Product «Feature», paint: Paint «Step», dry: Dry «Step», <Succession([paint: Paint «Step»] ←→ [dry: Dry «Step»])>, ship: Ship «Step», <Succession([dry: Dry «Step»] ←→ [ship: Ship «Step»])>] under the type to value Manufacture.\n",
      "Currently on pass Non-connector Features under Manufacture «Behavior».\n",
      "Current values dict at this step is\n",
      "\n",
      "Local more general is [Performance «Behavior», self «Feature»]\n"
     ]
    },
    {
     "ename": "UnboundLocalError",
     "evalue": "local variable 'literal_value' referenced before assignment",
     "output_type": "error",
     "traceback": [
      "\u001b[1;31m---------------------------------------------------------------------------\u001b[0m",
      "\u001b[1;31mUnboundLocalError\u001b[0m                         Traceback (most recent call last)",
      "\u001b[1;32mC:\\Users\\BJORNC~1\\AppData\\Local\\Temp/ipykernel_18348/3403694465.py\u001b[0m in \u001b[0;36m<module>\u001b[1;34m\u001b[0m\n\u001b[1;32m----> 1\u001b[1;33m generate_values_for_type_annex_a(\n\u001b[0m\u001b[0;32m      2\u001b[0m     \u001b[0mvalues_data\u001b[0m\u001b[1;33m,\u001b[0m\u001b[1;33m\u001b[0m\u001b[1;33m\u001b[0m\u001b[0m\n\u001b[0;32m      3\u001b[0m     \u001b[0mpackages\u001b[0m\u001b[1;33m[\u001b[0m\u001b[1;36m0\u001b[0m\u001b[1;33m]\u001b[0m\u001b[1;33m,\u001b[0m\u001b[1;33m\u001b[0m\u001b[1;33m\u001b[0m\u001b[0m\n\u001b[0;32m      4\u001b[0m     \u001b[0mpackages\u001b[0m\u001b[1;33m[\u001b[0m\u001b[1;36m1\u001b[0m\u001b[1;33m]\u001b[0m\u001b[1;33m,\u001b[0m\u001b[1;33m\u001b[0m\u001b[1;33m\u001b[0m\u001b[0m\n\u001b[0;32m      5\u001b[0m     \u001b[0mpackages\u001b[0m\u001b[1;33m[\u001b[0m\u001b[1;36m0\u001b[0m\u001b[1;33m]\u001b[0m\u001b[1;33m.\u001b[0m\u001b[0mthroughOwningMembership\u001b[0m\u001b[1;33m[\u001b[0m\u001b[1;36m1\u001b[0m\u001b[1;33m]\u001b[0m\u001b[1;33m,\u001b[0m\u001b[1;33m\u001b[0m\u001b[1;33m\u001b[0m\u001b[0m\n",
      "\u001b[1;32mC:\\Users\\BJORNC~1\\AppData\\Local\\Temp/ipykernel_18348/648570621.py\u001b[0m in \u001b[0;36mgenerate_values_for_type_annex_a\u001b[1;34m(input_model, package_to_execute, package_to_populate, type_to_value, atom_index, bound_features_to_atom_values_dict)\u001b[0m\n\u001b[0;32m     73\u001b[0m             \u001b[0mcf_name\u001b[0m \u001b[1;33m=\u001b[0m \u001b[0mcf\u001b[0m\u001b[1;33m.\u001b[0m\u001b[0mbasic_name\u001b[0m\u001b[1;33m\u001b[0m\u001b[1;33m\u001b[0m\u001b[0m\n\u001b[0;32m     74\u001b[0m \u001b[1;33m\u001b[0m\u001b[0m\n\u001b[1;32m---> 75\u001b[1;33m             \u001b[0mlm\u001b[0m \u001b[1;33m=\u001b[0m \u001b[0mget_effective_lower_multiplicity\u001b[0m\u001b[1;33m(\u001b[0m\u001b[0mcf\u001b[0m\u001b[1;33m)\u001b[0m\u001b[1;33m\u001b[0m\u001b[1;33m\u001b[0m\u001b[0m\n\u001b[0m\u001b[0;32m     76\u001b[0m \u001b[1;33m\u001b[0m\u001b[0m\n\u001b[0;32m     77\u001b[0m             \u001b[1;32mif\u001b[0m \u001b[0mlm\u001b[0m \u001b[1;33m>\u001b[0m \u001b[1;33m-\u001b[0m\u001b[1;36m1\u001b[0m\u001b[1;33m:\u001b[0m\u001b[1;33m\u001b[0m\u001b[1;33m\u001b[0m\u001b[0m\n",
      "\u001b[1;32mc:\\users\\bjorn cole\\documents\\github\\pymbe\\src\\pymbe\\query\\metamodel_navigator.py\u001b[0m in \u001b[0;36mget_effective_lower_multiplicity\u001b[1;34m(type_ele)\u001b[0m\n\u001b[0;32m    130\u001b[0m         \u001b[1;31m# if the most local general types have a finite lower multiplicity, use the most restrictive\u001b[0m\u001b[1;33m\u001b[0m\u001b[1;33m\u001b[0m\u001b[1;33m\u001b[0m\u001b[0m\n\u001b[0;32m    131\u001b[0m \u001b[1;33m\u001b[0m\u001b[0m\n\u001b[1;32m--> 132\u001b[1;33m         \u001b[0mlgm\u001b[0m \u001b[1;33m=\u001b[0m \u001b[0mmax\u001b[0m\u001b[1;33m(\u001b[0m\u001b[1;33m[\u001b[0m\u001b[0mget_lower_multiplicity\u001b[0m\u001b[1;33m(\u001b[0m\u001b[0mlg\u001b[0m\u001b[1;33m)\u001b[0m \u001b[1;32mfor\u001b[0m \u001b[0mlg\u001b[0m \u001b[1;32min\u001b[0m \u001b[0mlocal_general\u001b[0m \u001b[1;32mif\u001b[0m \u001b[0mget_lower_multiplicity\u001b[0m\u001b[1;33m(\u001b[0m\u001b[0mlg\u001b[0m\u001b[1;33m)\u001b[0m \u001b[1;33m>\u001b[0m \u001b[1;33m-\u001b[0m\u001b[1;36m1\u001b[0m\u001b[1;33m]\u001b[0m\u001b[1;33m,\u001b[0m \u001b[0mdefault\u001b[0m\u001b[1;33m=\u001b[0m\u001b[1;33m-\u001b[0m\u001b[1;36m1\u001b[0m\u001b[1;33m)\u001b[0m\u001b[1;33m\u001b[0m\u001b[1;33m\u001b[0m\u001b[0m\n\u001b[0m\u001b[0;32m    133\u001b[0m \u001b[1;33m\u001b[0m\u001b[0m\n\u001b[0;32m    134\u001b[0m         \u001b[1;32mif\u001b[0m \u001b[0mlgm\u001b[0m \u001b[1;33m>\u001b[0m \u001b[1;33m-\u001b[0m\u001b[1;36m1\u001b[0m\u001b[1;33m:\u001b[0m\u001b[1;33m\u001b[0m\u001b[1;33m\u001b[0m\u001b[0m\n",
      "\u001b[1;32mc:\\users\\bjorn cole\\documents\\github\\pymbe\\src\\pymbe\\query\\metamodel_navigator.py\u001b[0m in \u001b[0;36m<listcomp>\u001b[1;34m(.0)\u001b[0m\n\u001b[0;32m    130\u001b[0m         \u001b[1;31m# if the most local general types have a finite lower multiplicity, use the most restrictive\u001b[0m\u001b[1;33m\u001b[0m\u001b[1;33m\u001b[0m\u001b[1;33m\u001b[0m\u001b[0m\n\u001b[0;32m    131\u001b[0m \u001b[1;33m\u001b[0m\u001b[0m\n\u001b[1;32m--> 132\u001b[1;33m         \u001b[0mlgm\u001b[0m \u001b[1;33m=\u001b[0m \u001b[0mmax\u001b[0m\u001b[1;33m(\u001b[0m\u001b[1;33m[\u001b[0m\u001b[0mget_lower_multiplicity\u001b[0m\u001b[1;33m(\u001b[0m\u001b[0mlg\u001b[0m\u001b[1;33m)\u001b[0m \u001b[1;32mfor\u001b[0m \u001b[0mlg\u001b[0m \u001b[1;32min\u001b[0m \u001b[0mlocal_general\u001b[0m \u001b[1;32mif\u001b[0m \u001b[0mget_lower_multiplicity\u001b[0m\u001b[1;33m(\u001b[0m\u001b[0mlg\u001b[0m\u001b[1;33m)\u001b[0m \u001b[1;33m>\u001b[0m \u001b[1;33m-\u001b[0m\u001b[1;36m1\u001b[0m\u001b[1;33m]\u001b[0m\u001b[1;33m,\u001b[0m \u001b[0mdefault\u001b[0m\u001b[1;33m=\u001b[0m\u001b[1;33m-\u001b[0m\u001b[1;36m1\u001b[0m\u001b[1;33m)\u001b[0m\u001b[1;33m\u001b[0m\u001b[1;33m\u001b[0m\u001b[0m\n\u001b[0m\u001b[0;32m    133\u001b[0m \u001b[1;33m\u001b[0m\u001b[0m\n\u001b[0;32m    134\u001b[0m         \u001b[1;32mif\u001b[0m \u001b[0mlgm\u001b[0m \u001b[1;33m>\u001b[0m \u001b[1;33m-\u001b[0m\u001b[1;36m1\u001b[0m\u001b[1;33m:\u001b[0m\u001b[1;33m\u001b[0m\u001b[1;33m\u001b[0m\u001b[0m\n",
      "\u001b[1;32mc:\\users\\bjorn cole\\documents\\github\\pymbe\\src\\pymbe\\query\\metamodel_navigator.py\u001b[0m in \u001b[0;36mget_lower_multiplicity\u001b[1;34m(type_ele)\u001b[0m\n\u001b[0;32m     87\u001b[0m         ]\n\u001b[0;32m     88\u001b[0m \u001b[1;33m\u001b[0m\u001b[0m\n\u001b[1;32m---> 89\u001b[1;33m     \u001b[1;32mif\u001b[0m \u001b[0mlen\u001b[0m\u001b[1;33m(\u001b[0m\u001b[0mliteral_value\u001b[0m\u001b[1;33m)\u001b[0m \u001b[1;33m>\u001b[0m \u001b[1;36m0\u001b[0m\u001b[1;33m:\u001b[0m\u001b[1;33m\u001b[0m\u001b[1;33m\u001b[0m\u001b[0m\n\u001b[0m\u001b[0;32m     90\u001b[0m         \u001b[0mlower_mult\u001b[0m \u001b[1;33m=\u001b[0m \u001b[0mint\u001b[0m\u001b[1;33m(\u001b[0m\u001b[0mliteral_value\u001b[0m\u001b[1;33m[\u001b[0m\u001b[1;36m0\u001b[0m\u001b[1;33m]\u001b[0m\u001b[1;33m)\u001b[0m\u001b[1;33m\u001b[0m\u001b[1;33m\u001b[0m\u001b[0m\n\u001b[0;32m     91\u001b[0m \u001b[1;33m\u001b[0m\u001b[0m\n",
      "\u001b[1;31mUnboundLocalError\u001b[0m: local variable 'literal_value' referenced before assignment"
     ]
    }
   ],
   "source": [
    "generate_values_for_type_annex_a(\n",
    "    values_data,\n",
    "    packages[0],\n",
    "    packages[1],\n",
    "    packages[0].throughOwningMembership[1],\n",
    "    0,\n",
    "    {}\n",
    ")"
   ]
  },
  {
   "cell_type": "code",
   "execution_count": null,
   "id": "b59cee08-f812-40ac-9cae-5dc30a687a64",
   "metadata": {},
   "outputs": [],
   "source": [
    "values_data.get_element('blah')"
   ]
  },
  {
   "cell_type": "code",
   "execution_count": null,
   "id": "0e9d4531-b3ea-4749-a5f6-28110f51d93e",
   "metadata": {},
   "outputs": [],
   "source": [
    "for item in packages[0].throughOwningMembership:\n",
    "    print(serialize_kerml_atom(item))"
   ]
  },
  {
   "cell_type": "code",
   "execution_count": null,
   "id": "22b44d22-c0b2-4dfb-94d6-cff3cfd37be9",
   "metadata": {},
   "outputs": [],
   "source": [
    "for item in packages[1].throughOwningMembership:\n",
    "    print(serialize_kerml_atom(item))"
   ]
  },
  {
   "cell_type": "code",
   "execution_count": null,
   "id": "f2cbb857-6ece-4291-b9da-939aba92beba",
   "metadata": {},
   "outputs": [],
   "source": [
    "packages[0].throughOwningMembership[3].throughFeatureMembership[0].throughFeatureTyping[0].throughSubclassification[0]._data"
   ]
  },
  {
   "cell_type": "code",
   "execution_count": null,
   "id": "27d2028a-7ac3-4a8f-aac9-8f177ee33ae8",
   "metadata": {},
   "outputs": [],
   "source": [
    "packages[0].throughOwningMembership[3].throughFeatureMembership[0]._data"
   ]
  },
  {
   "cell_type": "code",
   "execution_count": null,
   "id": "77a64201-64fa-4de1-a4c9-0d2c0b30a594",
   "metadata": {},
   "outputs": [],
   "source": [
    "packages[0].throughOwningMembership[3].throughFeatureMembership[0].throughFeatureTyping[0].feature"
   ]
  },
  {
   "cell_type": "code",
   "execution_count": null,
   "id": "fc14fcfc-1561-4df4-81ad-f049d0695d7c",
   "metadata": {},
   "outputs": [],
   "source": [
    "mypaint1 = get_more_general_types(packages[1].throughOwningMembership[2],0,100)\n",
    "mypaint1"
   ]
  },
  {
   "cell_type": "code",
   "execution_count": null,
   "id": "a2c56014-5eae-4043-bfb5-9a6c7748278b",
   "metadata": {},
   "outputs": [],
   "source": [
    "mypaint1[1]._data"
   ]
  },
  {
   "cell_type": "code",
   "execution_count": null,
   "id": "de1cf6ef-42e3-4689-b714-063fc14589eb",
   "metadata": {},
   "outputs": [],
   "source": [
    "derive_inherited_featurememberships(packages[0].throughOwningMembership[3].throughFeatureMembership[0].throughFeatureTyping[0])"
   ]
  },
  {
   "cell_type": "code",
   "execution_count": null,
   "id": "621bbd1d-dc9b-4344-a9af-8f50e87a0a09",
   "metadata": {},
   "outputs": [],
   "source": [
    "packages[0].throughOwningMembership[3].throughFeatureMembership[0].throughFeatureTyping[0]"
   ]
  },
  {
   "cell_type": "code",
   "execution_count": null,
   "id": "9f73f78a-585c-4c8c-9523-eb7fe3907d98",
   "metadata": {},
   "outputs": [],
   "source": [
    "packages[0].throughOwningMembership[3].throughFeatureMembership[0]"
   ]
  },
  {
   "cell_type": "code",
   "execution_count": null,
   "id": "c5642f18-3b3d-487c-b368-b26972f9f3ed",
   "metadata": {},
   "outputs": [],
   "source": [
    "objectToPaint = packages[0].throughOwningMembership[3].throughFeatureMembership[0]"
   ]
  },
  {
   "cell_type": "code",
   "execution_count": null,
   "id": "779dfae4-95bb-465c-8765-7b79828b7048",
   "metadata": {},
   "outputs": [],
   "source": [
    "derive_inherited_featurememberships(objectToPaint)"
   ]
  },
  {
   "cell_type": "code",
   "execution_count": null,
   "id": "7853ed4b-fc08-494a-a362-9de3315dbf53",
   "metadata": {},
   "outputs": [],
   "source": [
    "more_general = get_more_general_types(objectToPaint, 0, 100)\n",
    "[inherited_fm for general_type in more_general for inherited_fm in general_type.throughFeatureMembership]"
   ]
  },
  {
   "cell_type": "code",
   "execution_count": null,
   "id": "5eb15c9e-7993-415f-ab74-641d5cbd9ef7",
   "metadata": {},
   "outputs": [],
   "source": [
    "more_general[0].ownedRelationship"
   ]
  },
  {
   "cell_type": "code",
   "execution_count": null,
   "id": "3f8bb7ed-a827-47aa-8bb9-be7ec36437d6",
   "metadata": {},
   "outputs": [],
   "source": [
    "more_general"
   ]
  },
  {
   "cell_type": "code",
   "execution_count": null,
   "id": "e875ba83-abb3-4838-9bb6-304cb9fb8985",
   "metadata": {},
   "outputs": [],
   "source": []
  }
 ],
 "metadata": {
  "kernelspec": {
   "display_name": "Python 3 (ipykernel)",
   "language": "python",
   "name": "python3"
  },
  "language_info": {
   "codemirror_mode": {
    "name": "ipython",
    "version": 3
   },
   "file_extension": ".py",
   "mimetype": "text/x-python",
   "name": "python",
   "nbconvert_exporter": "python",
   "pygments_lexer": "ipython3",
   "version": "3.9.6"
  }
 },
 "nbformat": 4,
 "nbformat_minor": 5
}
